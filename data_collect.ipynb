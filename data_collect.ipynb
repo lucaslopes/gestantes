{
 "cells": [
  {
   "cell_type": "code",
   "execution_count": 1,
   "metadata": {},
   "outputs": [
    {
     "data": {
      "text/html": [
       "<style type='text/css'>\n",
       ".datatable table.frame { margin-bottom: 0; }\n",
       ".datatable table.frame thead { border-bottom: none; }\n",
       ".datatable table.frame tr.coltypes td {  color: #FFFFFF;  line-height: 6px;  padding: 0 0.5em;}\n",
       ".datatable .bool    { background: #DDDD99; }\n",
       ".datatable .object  { background: #565656; }\n",
       ".datatable .int     { background: #5D9E5D; }\n",
       ".datatable .float   { background: #4040CC; }\n",
       ".datatable .str     { background: #CC4040; }\n",
       ".datatable .time    { background: #40CC40; }\n",
       ".datatable .row_index {  background: var(--jp-border-color3);  border-right: 1px solid var(--jp-border-color0);  color: var(--jp-ui-font-color3);  font-size: 9px;}\n",
       ".datatable .frame tbody td { text-align: left; }\n",
       ".datatable .frame tr.coltypes .row_index {  background: var(--jp-border-color0);}\n",
       ".datatable th:nth-child(2) { padding-left: 12px; }\n",
       ".datatable .hellipsis {  color: var(--jp-cell-editor-border-color);}\n",
       ".datatable .vellipsis {  background: var(--jp-layout-color0);  color: var(--jp-cell-editor-border-color);}\n",
       ".datatable .na {  color: var(--jp-cell-editor-border-color);  font-size: 80%;}\n",
       ".datatable .sp {  opacity: 0.25;}\n",
       ".datatable .footer { font-size: 9px; }\n",
       ".datatable .frame_dimensions {  background: var(--jp-border-color3);  border-top: 1px solid var(--jp-border-color0);  color: var(--jp-ui-font-color3);  display: inline-block;  opacity: 0.6;  padding: 1px 10px 1px 5px;}\n",
       "</style>\n"
      ],
      "text/plain": [
       "<IPython.core.display.HTML object>"
      ]
     },
     "metadata": {},
     "output_type": "display_data"
    }
   ],
   "source": [
    "import config\n",
    "import sqlite3\n",
    "import pandas as pd\n",
    "from tqdm import tqdm\n",
    "from zipfile import ZipFile\n",
    "from datatable import dt, f"
   ]
  },
  {
   "cell_type": "code",
   "execution_count": 2,
   "metadata": {},
   "outputs": [
    {
     "data": {
      "text/html": [
       "<div>\n",
       "<style scoped>\n",
       "    .dataframe tbody tr th:only-of-type {\n",
       "        vertical-align: middle;\n",
       "    }\n",
       "\n",
       "    .dataframe tbody tr th {\n",
       "        vertical-align: top;\n",
       "    }\n",
       "\n",
       "    .dataframe thead th {\n",
       "        text-align: right;\n",
       "    }\n",
       "</style>\n",
       "<table border=\"1\" class=\"dataframe\">\n",
       "  <thead>\n",
       "    <tr style=\"text-align: right;\">\n",
       "      <th></th>\n",
       "      <th>Database</th>\n",
       "      <th>Variável</th>\n",
       "      <th>Filter</th>\n",
       "      <th>Renomear</th>\n",
       "    </tr>\n",
       "  </thead>\n",
       "  <tbody>\n",
       "    <tr>\n",
       "      <th>0</th>\n",
       "      <td>sihsus</td>\n",
       "      <td>ano_internacao</td>\n",
       "      <td>ano_internacao between 2010 and 2019</td>\n",
       "      <td>ano</td>\n",
       "    </tr>\n",
       "    <tr>\n",
       "      <th>1</th>\n",
       "      <td>sihsus</td>\n",
       "      <td>PROC_REA</td>\n",
       "      <td>PROC_REA in ('0310010039', '0411010034')</td>\n",
       "      <td>tipo_parto</td>\n",
       "    </tr>\n",
       "    <tr>\n",
       "      <th>2</th>\n",
       "      <td>sihsus</td>\n",
       "      <td>CNES</td>\n",
       "      <td>CNES is not null</td>\n",
       "      <td>cnes_hospital</td>\n",
       "    </tr>\n",
       "    <tr>\n",
       "      <th>3</th>\n",
       "      <td>sihsus</td>\n",
       "      <td>int_codigo_adotado</td>\n",
       "      <td>int_codigo_adotado is not null</td>\n",
       "      <td>hosp_cod_municipio</td>\n",
       "    </tr>\n",
       "    <tr>\n",
       "      <th>4</th>\n",
       "      <td>sihsus</td>\n",
       "      <td>int_RSAUDCOD</td>\n",
       "      <td>int_RSAUDCOD is not null</td>\n",
       "      <td>hosp_cod_regiao_saude</td>\n",
       "    </tr>\n",
       "    <tr>\n",
       "      <th>5</th>\n",
       "      <td>sihsus</td>\n",
       "      <td>res_codigo_adotado</td>\n",
       "      <td>res_codigo_adotado is not null</td>\n",
       "      <td>res_cod_municipio</td>\n",
       "    </tr>\n",
       "    <tr>\n",
       "      <th>6</th>\n",
       "      <td>sihsus</td>\n",
       "      <td>res_RSAUDCOD</td>\n",
       "      <td>res_RSAUDCOD is not null and res_RSAUDCOD != 5301</td>\n",
       "      <td>res_cod_regiao_saude</td>\n",
       "    </tr>\n",
       "    <tr>\n",
       "      <th>7</th>\n",
       "      <td>sihsus</td>\n",
       "      <td>def_idade_anos</td>\n",
       "      <td>def_idade_anos between 10 and 49</td>\n",
       "      <td>idade</td>\n",
       "    </tr>\n",
       "    <tr>\n",
       "      <th>8</th>\n",
       "      <td>sinasc</td>\n",
       "      <td>ano_nasc</td>\n",
       "      <td>ano_nasc between 2010 and 2019</td>\n",
       "      <td>ano</td>\n",
       "    </tr>\n",
       "    <tr>\n",
       "      <th>9</th>\n",
       "      <td>sinasc</td>\n",
       "      <td>DTNASC</td>\n",
       "      <td>DTNASC is not null</td>\n",
       "      <td>data</td>\n",
       "    </tr>\n",
       "    <tr>\n",
       "      <th>10</th>\n",
       "      <td>sinasc</td>\n",
       "      <td>def_consultas</td>\n",
       "      <td>def_consultas not like 'Ignorado'</td>\n",
       "      <td>consultas_pre_natal</td>\n",
       "    </tr>\n",
       "    <tr>\n",
       "      <th>11</th>\n",
       "      <td>sinasc</td>\n",
       "      <td>def_loc_nasc</td>\n",
       "      <td>def_loc_nasc like 'Hospital'</td>\n",
       "      <td>local_nascimento</td>\n",
       "    </tr>\n",
       "    <tr>\n",
       "      <th>12</th>\n",
       "      <td>sinasc</td>\n",
       "      <td>CODESTAB</td>\n",
       "      <td>CODESTAB is not null</td>\n",
       "      <td>cnes_hospital</td>\n",
       "    </tr>\n",
       "    <tr>\n",
       "      <th>13</th>\n",
       "      <td>sinasc</td>\n",
       "      <td>nasc_codigo_adotado</td>\n",
       "      <td>nasc_codigo_adotado is not null</td>\n",
       "      <td>hosp_cod_municipio</td>\n",
       "    </tr>\n",
       "    <tr>\n",
       "      <th>14</th>\n",
       "      <td>sinasc</td>\n",
       "      <td>nasc_RSAUDCOD</td>\n",
       "      <td>nasc_RSAUDCOD is not null</td>\n",
       "      <td>hosp_cod_regiao_saude</td>\n",
       "    </tr>\n",
       "    <tr>\n",
       "      <th>15</th>\n",
       "      <td>sinasc</td>\n",
       "      <td>res_codigo_adotado</td>\n",
       "      <td>res_codigo_adotado is not null</td>\n",
       "      <td>res_cod_municipio</td>\n",
       "    </tr>\n",
       "    <tr>\n",
       "      <th>16</th>\n",
       "      <td>sinasc</td>\n",
       "      <td>res_RSAUDCOD</td>\n",
       "      <td>res_RSAUDCOD is not null and res_RSAUDCOD != 5301</td>\n",
       "      <td>res_cod_regiao_saude</td>\n",
       "    </tr>\n",
       "    <tr>\n",
       "      <th>17</th>\n",
       "      <td>sinasc</td>\n",
       "      <td>IDADEMAE</td>\n",
       "      <td>IDADEMAE between 10 and 49</td>\n",
       "      <td>idade</td>\n",
       "    </tr>\n",
       "    <tr>\n",
       "      <th>18</th>\n",
       "      <td>sinasc</td>\n",
       "      <td>def_parto</td>\n",
       "      <td>def_parto not like 'Ignorado'</td>\n",
       "      <td>tipo_parto</td>\n",
       "    </tr>\n",
       "    <tr>\n",
       "      <th>19</th>\n",
       "      <td>sinasc</td>\n",
       "      <td>GRAVIDEZ</td>\n",
       "      <td>GRAVIDEZ != 9</td>\n",
       "      <td>n_gestados</td>\n",
       "    </tr>\n",
       "    <tr>\n",
       "      <th>20</th>\n",
       "      <td>sinasc</td>\n",
       "      <td>ESCMAE</td>\n",
       "      <td>ESCMAE != 9</td>\n",
       "      <td>nivel_escolaridade</td>\n",
       "    </tr>\n",
       "    <tr>\n",
       "      <th>21</th>\n",
       "      <td>sinasc</td>\n",
       "      <td>RACACORMAE</td>\n",
       "      <td>NaN</td>\n",
       "      <td>raca_cor</td>\n",
       "    </tr>\n",
       "    <tr>\n",
       "      <th>22</th>\n",
       "      <td>sinasc</td>\n",
       "      <td>def_sexo</td>\n",
       "      <td>def_sexo not like 'Ignorado'</td>\n",
       "      <td>sexo_nascido</td>\n",
       "    </tr>\n",
       "    <tr>\n",
       "      <th>23</th>\n",
       "      <td>sinasc</td>\n",
       "      <td>floor(PESO/100.00)*100</td>\n",
       "      <td>floor(PESO/100.00)*100 between 500 and 5000</td>\n",
       "      <td>peso_nascido</td>\n",
       "    </tr>\n",
       "    <tr>\n",
       "      <th>24</th>\n",
       "      <td>sinasc</td>\n",
       "      <td>def_raca_cor</td>\n",
       "      <td>def_raca_cor not like 'Ignorado'</td>\n",
       "      <td>raca_cor_nascido</td>\n",
       "    </tr>\n",
       "    <tr>\n",
       "      <th>25</th>\n",
       "      <td>sinasc</td>\n",
       "      <td>APGAR1</td>\n",
       "      <td>APGAR1 between 0 and 10</td>\n",
       "      <td>apgar1</td>\n",
       "    </tr>\n",
       "    <tr>\n",
       "      <th>26</th>\n",
       "      <td>sinasc</td>\n",
       "      <td>APGAR5</td>\n",
       "      <td>APGAR5 between 0 and 10</td>\n",
       "      <td>apgar5</td>\n",
       "    </tr>\n",
       "    <tr>\n",
       "      <th>27</th>\n",
       "      <td>cnes</td>\n",
       "      <td>CNES</td>\n",
       "      <td>CNES is not null</td>\n",
       "      <td>cnes</td>\n",
       "    </tr>\n",
       "    <tr>\n",
       "      <th>28</th>\n",
       "      <td>cnes</td>\n",
       "      <td>VINC_SUS</td>\n",
       "      <td>VINC_SUS = 1</td>\n",
       "      <td>vinc_sus</td>\n",
       "    </tr>\n",
       "    <tr>\n",
       "      <th>29</th>\n",
       "      <td>cnes</td>\n",
       "      <td>def_cod_ir</td>\n",
       "      <td>def_cod_ir is not null</td>\n",
       "      <td>cod_ir</td>\n",
       "    </tr>\n",
       "    <tr>\n",
       "      <th>30</th>\n",
       "      <td>cnes</td>\n",
       "      <td>CODUFMUN</td>\n",
       "      <td>CODUFMUN is not null</td>\n",
       "      <td>cod_uf_mun</td>\n",
       "    </tr>\n",
       "    <tr>\n",
       "      <th>31</th>\n",
       "      <td>cnes</td>\n",
       "      <td>def_natureza</td>\n",
       "      <td>def_natureza is not null</td>\n",
       "      <td>natureza</td>\n",
       "    </tr>\n",
       "    <tr>\n",
       "      <th>32</th>\n",
       "      <td>cnes</td>\n",
       "      <td>def_esfera_a</td>\n",
       "      <td>def_esfera_a is not null</td>\n",
       "      <td>esfera</td>\n",
       "    </tr>\n",
       "  </tbody>\n",
       "</table>\n",
       "</div>"
      ],
      "text/plain": [
       "   Database                Variável  \\\n",
       "0    sihsus          ano_internacao   \n",
       "1    sihsus                PROC_REA   \n",
       "2    sihsus                    CNES   \n",
       "3    sihsus      int_codigo_adotado   \n",
       "4    sihsus            int_RSAUDCOD   \n",
       "5    sihsus      res_codigo_adotado   \n",
       "6    sihsus            res_RSAUDCOD   \n",
       "7    sihsus          def_idade_anos   \n",
       "8    sinasc                ano_nasc   \n",
       "9    sinasc                  DTNASC   \n",
       "10   sinasc           def_consultas   \n",
       "11   sinasc            def_loc_nasc   \n",
       "12   sinasc                CODESTAB   \n",
       "13   sinasc     nasc_codigo_adotado   \n",
       "14   sinasc           nasc_RSAUDCOD   \n",
       "15   sinasc      res_codigo_adotado   \n",
       "16   sinasc            res_RSAUDCOD   \n",
       "17   sinasc                IDADEMAE   \n",
       "18   sinasc               def_parto   \n",
       "19   sinasc                GRAVIDEZ   \n",
       "20   sinasc                  ESCMAE   \n",
       "21   sinasc              RACACORMAE   \n",
       "22   sinasc                def_sexo   \n",
       "23   sinasc  floor(PESO/100.00)*100   \n",
       "24   sinasc            def_raca_cor   \n",
       "25   sinasc                  APGAR1   \n",
       "26   sinasc                  APGAR5   \n",
       "27     cnes                    CNES   \n",
       "28     cnes                VINC_SUS   \n",
       "29     cnes              def_cod_ir   \n",
       "30     cnes                CODUFMUN   \n",
       "31     cnes            def_natureza   \n",
       "32     cnes            def_esfera_a   \n",
       "\n",
       "                                               Filter               Renomear  \n",
       "0                ano_internacao between 2010 and 2019                    ano  \n",
       "1            PROC_REA in ('0310010039', '0411010034')             tipo_parto  \n",
       "2                                    CNES is not null          cnes_hospital  \n",
       "3                      int_codigo_adotado is not null     hosp_cod_municipio  \n",
       "4                            int_RSAUDCOD is not null  hosp_cod_regiao_saude  \n",
       "5                      res_codigo_adotado is not null      res_cod_municipio  \n",
       "6   res_RSAUDCOD is not null and res_RSAUDCOD != 5301   res_cod_regiao_saude  \n",
       "7                    def_idade_anos between 10 and 49                  idade  \n",
       "8                      ano_nasc between 2010 and 2019                    ano  \n",
       "9                                  DTNASC is not null                   data  \n",
       "10                  def_consultas not like 'Ignorado'    consultas_pre_natal  \n",
       "11                       def_loc_nasc like 'Hospital'       local_nascimento  \n",
       "12                               CODESTAB is not null          cnes_hospital  \n",
       "13                    nasc_codigo_adotado is not null     hosp_cod_municipio  \n",
       "14                          nasc_RSAUDCOD is not null  hosp_cod_regiao_saude  \n",
       "15                     res_codigo_adotado is not null      res_cod_municipio  \n",
       "16  res_RSAUDCOD is not null and res_RSAUDCOD != 5301   res_cod_regiao_saude  \n",
       "17                         IDADEMAE between 10 and 49                  idade  \n",
       "18                      def_parto not like 'Ignorado'             tipo_parto  \n",
       "19                                      GRAVIDEZ != 9             n_gestados  \n",
       "20                                        ESCMAE != 9     nivel_escolaridade  \n",
       "21                                                NaN               raca_cor  \n",
       "22                       def_sexo not like 'Ignorado'           sexo_nascido  \n",
       "23        floor(PESO/100.00)*100 between 500 and 5000           peso_nascido  \n",
       "24                   def_raca_cor not like 'Ignorado'       raca_cor_nascido  \n",
       "25                            APGAR1 between 0 and 10                 apgar1  \n",
       "26                            APGAR5 between 0 and 10                 apgar5  \n",
       "27                                   CNES is not null                   cnes  \n",
       "28                                       VINC_SUS = 1               vinc_sus  \n",
       "29                             def_cod_ir is not null                 cod_ir  \n",
       "30                               CODUFMUN is not null             cod_uf_mun  \n",
       "31                           def_natureza is not null               natureza  \n",
       "32                           def_esfera_a is not null                 esfera  "
      ]
     },
     "execution_count": 2,
     "metadata": {},
     "output_type": "execute_result"
    }
   ],
   "source": [
    "variables = pd.read_csv('data/consult/selected_variables_backup.csv')\n",
    "variables"
   ]
  },
  {
   "cell_type": "code",
   "execution_count": 3,
   "metadata": {},
   "outputs": [],
   "source": [
    "cnes_sus = set(pd.read_csv('data/consult/cnes/cnes_sus_sinasc.csv')['cnes'].values)"
   ]
  },
  {
   "cell_type": "markdown",
   "metadata": {},
   "source": [
    "## Database Files"
   ]
  },
  {
   "cell_type": "code",
   "execution_count": 4,
   "metadata": {},
   "outputs": [],
   "source": [
    "def get_db_zip_path(db):\n",
    "\tdb = db.upper()\n",
    "\tdb_zip = f'{config.PATH_DATABASES}/{db}/{db}.zip'\n",
    "\tif db == 'SIHSUS':\n",
    "\t\tdb_zip = '/Volumes/SanDisk/SIHSUS.zip'\n",
    "\treturn db_zip"
   ]
  },
  {
   "cell_type": "code",
   "execution_count": 5,
   "metadata": {},
   "outputs": [],
   "source": [
    "def get_db_files(db):\n",
    "\tdb_zip = get_db_zip_path(db)\n",
    "\tfiles = ZipFile(db_zip).namelist()\n",
    "\tfiles_path = [\n",
    "\t\tf'{db_zip}/{file}'for file in files if 'dict' not in file]\n",
    "\treturn files_path"
   ]
  },
  {
   "cell_type": "code",
   "execution_count": 6,
   "metadata": {},
   "outputs": [],
   "source": [
    "def get_db_variables_map(db):\n",
    "\tdf = variables[(variables['Database'] == db)]\n",
    "\treturn {row['Variável'] : row['Renomear']\n",
    "\t\tfor _, row in df.iterrows()}"
   ]
  },
  {
   "cell_type": "code",
   "execution_count": 7,
   "metadata": {},
   "outputs": [],
   "source": [
    "def get_db_variables_set(db):\n",
    "\treturn set(variables[\n",
    "\t\t(variables['Database'] == db)\n",
    "\t]['Variável'].values)"
   ]
  },
  {
   "cell_type": "markdown",
   "metadata": {},
   "source": [
    "## Filters"
   ]
  },
  {
   "cell_type": "code",
   "execution_count": 8,
   "metadata": {},
   "outputs": [],
   "source": [
    "def filter_cnes(df):\n",
    "\treturn df[\n",
    "\t\t(f['VINC_SUS'] == 1),\n",
    "\t\t:\n",
    "\t]"
   ]
  },
  {
   "cell_type": "code",
   "execution_count": 9,
   "metadata": {},
   "outputs": [],
   "source": [
    "def filter_sinasc(df):\n",
    "\tcnes_col = df['CODESTAB'].to_list()[0]\n",
    "\tdf = df[\n",
    "\t\t[cnes in cnes_sus for cnes in cnes_col],\n",
    "\t\t:]\n",
    "\tdf = df[\n",
    "\t\t(\n",
    "\t\t\t(f['ano_nasc'] >= 2010)\n",
    "\t\t\t&\n",
    "\t\t\t(f['ano_nasc'] <= 2019)\n",
    "\t\t) & (\n",
    "\t\t\t(f['IDADEMAE'] >= 10)\n",
    "\t\t\t&\n",
    "\t\t\t(f['IDADEMAE'] <= 49)\n",
    "\t\t) & (\n",
    "\t\t\t(f['res_RSAUDCOD'] != None)\n",
    "\t\t\t&\n",
    "\t\t\t(f['res_RSAUDCOD'] != 5301)\n",
    "\t\t) & (\n",
    "\t\t\t(f['nasc_RSAUDCOD'] != None)\n",
    "\t\t) & (\n",
    "\t\t\t(f['res_codigo_adotado'] != None)\n",
    "\t\t) & (\n",
    "\t\t\t(f['nasc_codigo_adotado'] != None)\n",
    "\t\t) & (\n",
    "\t\t\t(f['def_loc_nasc'] == 'Hospital') # (f['def_loc_nasc'] == 'Hospital') (f['LOCNASC'] == 1)\n",
    "\t\t) & (\n",
    "\t\t\t(f['def_parto'] != 'Ignorado') # (f['def_parto'] != 'Ignorado') (f['PARTO'] != 9)\n",
    "\t\t) & (\n",
    "\t\t\t(f['CODESTAB'] != None)\n",
    "\t\t),\n",
    "\t\t:\n",
    "\t]\n",
    "\treturn df"
   ]
  },
  {
   "cell_type": "code",
   "execution_count": 10,
   "metadata": {},
   "outputs": [],
   "source": [
    "def filter_sih(df):\n",
    "\treturn df[\n",
    "\t\t(\n",
    "\t\t\t(f['PROC_REA'] == 310010039)\n",
    "\t\t\t|\n",
    "\t\t\t(f['PROC_REA'] == 411010034)\n",
    "\t\t) & (\n",
    "\t\t\t(f['ano_internacao'] >= 2010)\n",
    "\t\t\t&\n",
    "\t\t\t(f['ano_internacao'] <= 2019)\n",
    "\t\t) & (\n",
    "\t\t\t(f['def_idade_anos'] >= 10)\n",
    "\t\t\t&\n",
    "\t\t\t(f['def_idade_anos'] <= 49)\n",
    "\t\t) & (\n",
    "\t\t\t(f['res_RSAUDCOD'] != None)\n",
    "\t\t\t&\n",
    "\t\t\t(f['res_RSAUDCOD'] != 5301)\n",
    "\t\t) & (\n",
    "\t\t\t(f['int_RSAUDCOD'] != None)\n",
    "\t\t) & (\n",
    "\t\t\t(f['res_codigo_adotado'] != None)\n",
    "\t\t) & (\n",
    "\t\t\t(f['int_codigo_adotado'] != None)\n",
    "\t\t) & (\n",
    "\t\t\t(f['CNES'] != None)\n",
    "\t\t),\n",
    "\t\t:\n",
    "\t]"
   ]
  },
  {
   "cell_type": "code",
   "execution_count": 11,
   "metadata": {},
   "outputs": [],
   "source": [
    "def filter_df(db, df):\n",
    "\tdf_filtered = pd.DataFrame()\n",
    "\tdb = db.upper()\n",
    "\tif db == 'CNES':\n",
    "\t\tdf_filtered = filter_cnes(df)\n",
    "\tif db == 'SINASC' and 'CODESTAB' in df.names:\n",
    "\t\tdf_filtered = filter_sinasc(df)\n",
    "\tif db == 'SIHSUS' and 'CNES' in df.names:\n",
    "\t\tdf_filtered = filter_sih(df)\n",
    "\treturn df_filtered"
   ]
  },
  {
   "cell_type": "markdown",
   "metadata": {},
   "source": [
    "## SQL DB Connection"
   ]
  },
  {
   "cell_type": "code",
   "execution_count": 12,
   "metadata": {},
   "outputs": [],
   "source": [
    "def create_connection(db_file=None):\n",
    "\tdb_file = (db_file\n",
    "\t\tif db_file else config.PATH_DB)\n",
    "\ttry: conn = sqlite3.connect(db_file)\n",
    "\texcept sqlite3.Error as e: print(e)\n",
    "\treturn conn"
   ]
  },
  {
   "cell_type": "code",
   "execution_count": 13,
   "metadata": {},
   "outputs": [],
   "source": [
    "def append_table_to_con(df, con, table):\n",
    "\ttry:\n",
    "\t\tdf.to_sql(\n",
    "\t\t\tname = table,\n",
    "\t\t\tcon = con,\n",
    "\t\t\tif_exists = 'append', # append | replace\n",
    "\t\t\tindex = False,\n",
    "\t\t)\n",
    "\texcept Exception as excep:\n",
    "\t\tprint(excep)\n",
    "\t\tprint(df.columns)\n"
   ]
  },
  {
   "cell_type": "code",
   "execution_count": 14,
   "metadata": {},
   "outputs": [],
   "source": [
    "def collect_db(db, con, chunk_size=25):\n",
    "\tdfs = list()\n",
    "\tfiles = get_db_files(db)\n",
    "\tvariables = get_db_variables_set(db)\n",
    "\tmap_cols = get_db_variables_map(db)\n",
    "\tfor file_path in tqdm(files):\n",
    "\t\tcolums = dt.fread(file_path, max_nrows=0).names\n",
    "\t\tcolums = [col in variables for col in colums]\n",
    "\t\tdf = dt.fread(file_path, columns=colums)\n",
    "\t\tdf = filter_df(db, df)\n",
    "\t\tif df.shape[0] > 0:\n",
    "\t\t\tdf = df.to_pandas().rename(columns=map_cols)\n",
    "\t\t\tdfs.append(df)\n",
    "\t\tif len(dfs) > chunk_size:\n",
    "\t\t\tappend_table_to_con(pd.concat(dfs), con, db)\n",
    "\t\t\tdfs = list()\n",
    "\tif len(dfs) > 1:\n",
    "\t\tappend_table_to_con(pd.concat(dfs), con, db)\n",
    "\treturn True"
   ]
  },
  {
   "cell_type": "markdown",
   "metadata": {},
   "source": [
    "## Run"
   ]
  },
  {
   "cell_type": "code",
   "execution_count": 15,
   "metadata": {},
   "outputs": [
    {
     "name": "stderr",
     "output_type": "stream",
     "text": [
      "100%|██████████| 675/675 [04:25<00:00,  2.54it/s]\n"
     ]
    }
   ],
   "source": [
    "db_path = f'{config.PATH_DATABASES}/PARTOS/partos.db'\n",
    "with (conn := create_connection(db_path)):\n",
    "\tfor db in ['sinasc']:#, 'cnes']:\n",
    "\t\tcollect_db(db, conn)"
   ]
  },
  {
   "cell_type": "markdown",
   "metadata": {},
   "source": [
    "- def\n",
    "\n",
    "100%|██████████| 675/675 [05:24<00:00,  2.08it/s]\n",
    "\n",
    "`2.48GB`\n",
    "\n",
    "- numeros\n",
    "\n",
    "100%|██████████| 675/675 [03:50<00:00,  2.93it/s]\n",
    "\n",
    "`1.48GB`\n",
    "\n",
    "- filtro cnes e numeros\n",
    "\n",
    "100%|██████████| 675/675 [03:47<00:00,  2.97it/s]\n",
    "\n",
    "`1.28GB`\n",
    "\n",
    "- filtro cnes e def\n",
    "\n",
    "100%|██████████| 675/675 [04:25<00:00,  2.54it/s]\n",
    "\n",
    "`2.15GB`"
   ]
  },
  {
   "cell_type": "code",
   "execution_count": 43,
   "metadata": {},
   "outputs": [],
   "source": [
    "conn = create_connection(db_path)"
   ]
  },
  {
   "cell_type": "code",
   "execution_count": 17,
   "metadata": {},
   "outputs": [
    {
     "data": {
      "text/html": [
       "<div>\n",
       "<style scoped>\n",
       "    .dataframe tbody tr th:only-of-type {\n",
       "        vertical-align: middle;\n",
       "    }\n",
       "\n",
       "    .dataframe tbody tr th {\n",
       "        vertical-align: top;\n",
       "    }\n",
       "\n",
       "    .dataframe thead th {\n",
       "        text-align: right;\n",
       "    }\n",
       "</style>\n",
       "<table border=\"1\" class=\"dataframe\">\n",
       "  <thead>\n",
       "    <tr style=\"text-align: right;\">\n",
       "      <th></th>\n",
       "      <th>count(*)</th>\n",
       "    </tr>\n",
       "  </thead>\n",
       "  <tbody>\n",
       "    <tr>\n",
       "      <th>0</th>\n",
       "      <td>24494524</td>\n",
       "    </tr>\n",
       "  </tbody>\n",
       "</table>\n",
       "</div>"
      ],
      "text/plain": [
       "   count(*)\n",
       "0  24494524"
      ]
     },
     "execution_count": 17,
     "metadata": {},
     "output_type": "execute_result"
    }
   ],
   "source": [
    "q = 'select count(*) from sinasc limit 5'\n",
    "pd.read_sql_query(q, con=conn)"
   ]
  },
  {
   "cell_type": "markdown",
   "metadata": {},
   "source": [
    "`24494524`"
   ]
  },
  {
   "cell_type": "code",
   "execution_count": 18,
   "metadata": {},
   "outputs": [
    {
     "data": {
      "text/plain": [
       "7677764"
      ]
     },
     "execution_count": 18,
     "metadata": {},
     "output_type": "execute_result"
    }
   ],
   "source": [
    "24494524-16816760"
   ]
  },
  {
   "cell_type": "code",
   "execution_count": 19,
   "metadata": {},
   "outputs": [
    {
     "data": {
      "text/html": [
       "<div>\n",
       "<style scoped>\n",
       "    .dataframe tbody tr th:only-of-type {\n",
       "        vertical-align: middle;\n",
       "    }\n",
       "\n",
       "    .dataframe tbody tr th {\n",
       "        vertical-align: top;\n",
       "    }\n",
       "\n",
       "    .dataframe thead th {\n",
       "        text-align: right;\n",
       "    }\n",
       "</style>\n",
       "<table border=\"1\" class=\"dataframe\">\n",
       "  <thead>\n",
       "    <tr style=\"text-align: right;\">\n",
       "      <th></th>\n",
       "      <th>cnes_hospital</th>\n",
       "      <th>idade</th>\n",
       "      <th>nivel_escolaridade</th>\n",
       "      <th>n_gestados</th>\n",
       "      <th>data</th>\n",
       "      <th>apgar1</th>\n",
       "      <th>apgar5</th>\n",
       "      <th>raca_cor</th>\n",
       "      <th>sexo_nascido</th>\n",
       "      <th>raca_cor_nascido</th>\n",
       "      <th>local_nascimento</th>\n",
       "      <th>tipo_parto</th>\n",
       "      <th>consultas_pre_natal</th>\n",
       "      <th>hosp_cod_regiao_saude</th>\n",
       "      <th>hosp_cod_municipio</th>\n",
       "      <th>res_cod_regiao_saude</th>\n",
       "      <th>res_cod_municipio</th>\n",
       "      <th>ano</th>\n",
       "    </tr>\n",
       "  </thead>\n",
       "  <tbody>\n",
       "    <tr>\n",
       "      <th>0</th>\n",
       "      <td>27</td>\n",
       "      <td>32</td>\n",
       "      <td>4</td>\n",
       "      <td>1</td>\n",
       "      <td>4012010</td>\n",
       "      <td>8.0</td>\n",
       "      <td>9.0</td>\n",
       "      <td>None</td>\n",
       "      <td>Feminino</td>\n",
       "      <td>Parda</td>\n",
       "      <td>Hospital</td>\n",
       "      <td>Cesáreo</td>\n",
       "      <td>7 e mais</td>\n",
       "      <td>2601</td>\n",
       "      <td>260290</td>\n",
       "      <td>2601</td>\n",
       "      <td>260290</td>\n",
       "      <td>2010</td>\n",
       "    </tr>\n",
       "    <tr>\n",
       "      <th>1</th>\n",
       "      <td>27</td>\n",
       "      <td>21</td>\n",
       "      <td>5</td>\n",
       "      <td>1</td>\n",
       "      <td>19012010</td>\n",
       "      <td>8.0</td>\n",
       "      <td>9.0</td>\n",
       "      <td>None</td>\n",
       "      <td>Masculino</td>\n",
       "      <td>Parda</td>\n",
       "      <td>Hospital</td>\n",
       "      <td>Cesáreo</td>\n",
       "      <td>de 4 a 6</td>\n",
       "      <td>2601</td>\n",
       "      <td>260290</td>\n",
       "      <td>2601</td>\n",
       "      <td>260290</td>\n",
       "      <td>2010</td>\n",
       "    </tr>\n",
       "    <tr>\n",
       "      <th>2</th>\n",
       "      <td>27</td>\n",
       "      <td>23</td>\n",
       "      <td>4</td>\n",
       "      <td>1</td>\n",
       "      <td>3022010</td>\n",
       "      <td>9.0</td>\n",
       "      <td>10.0</td>\n",
       "      <td>None</td>\n",
       "      <td>Masculino</td>\n",
       "      <td>Parda</td>\n",
       "      <td>Hospital</td>\n",
       "      <td>Cesáreo</td>\n",
       "      <td>de 4 a 6</td>\n",
       "      <td>2601</td>\n",
       "      <td>260290</td>\n",
       "      <td>2601</td>\n",
       "      <td>260290</td>\n",
       "      <td>2010</td>\n",
       "    </tr>\n",
       "    <tr>\n",
       "      <th>3</th>\n",
       "      <td>27</td>\n",
       "      <td>25</td>\n",
       "      <td>4</td>\n",
       "      <td>1</td>\n",
       "      <td>27012010</td>\n",
       "      <td>8.0</td>\n",
       "      <td>9.0</td>\n",
       "      <td>None</td>\n",
       "      <td>Masculino</td>\n",
       "      <td>Parda</td>\n",
       "      <td>Hospital</td>\n",
       "      <td>Vaginal</td>\n",
       "      <td>7 e mais</td>\n",
       "      <td>2601</td>\n",
       "      <td>260290</td>\n",
       "      <td>2601</td>\n",
       "      <td>260720</td>\n",
       "      <td>2010</td>\n",
       "    </tr>\n",
       "    <tr>\n",
       "      <th>4</th>\n",
       "      <td>27</td>\n",
       "      <td>34</td>\n",
       "      <td>3</td>\n",
       "      <td>1</td>\n",
       "      <td>20012010</td>\n",
       "      <td>8.0</td>\n",
       "      <td>9.0</td>\n",
       "      <td>None</td>\n",
       "      <td>Feminino</td>\n",
       "      <td>Parda</td>\n",
       "      <td>Hospital</td>\n",
       "      <td>Cesáreo</td>\n",
       "      <td>de 1 a 3</td>\n",
       "      <td>2601</td>\n",
       "      <td>260290</td>\n",
       "      <td>2601</td>\n",
       "      <td>260720</td>\n",
       "      <td>2010</td>\n",
       "    </tr>\n",
       "  </tbody>\n",
       "</table>\n",
       "</div>"
      ],
      "text/plain": [
       "   cnes_hospital  idade  nivel_escolaridade  n_gestados      data  apgar1  \\\n",
       "0             27     32                   4           1   4012010     8.0   \n",
       "1             27     21                   5           1  19012010     8.0   \n",
       "2             27     23                   4           1   3022010     9.0   \n",
       "3             27     25                   4           1  27012010     8.0   \n",
       "4             27     34                   3           1  20012010     8.0   \n",
       "\n",
       "   apgar5 raca_cor sexo_nascido raca_cor_nascido local_nascimento tipo_parto  \\\n",
       "0     9.0     None     Feminino            Parda         Hospital    Cesáreo   \n",
       "1     9.0     None    Masculino            Parda         Hospital    Cesáreo   \n",
       "2    10.0     None    Masculino            Parda         Hospital    Cesáreo   \n",
       "3     9.0     None    Masculino            Parda         Hospital    Vaginal   \n",
       "4     9.0     None     Feminino            Parda         Hospital    Cesáreo   \n",
       "\n",
       "  consultas_pre_natal  hosp_cod_regiao_saude  hosp_cod_municipio  \\\n",
       "0            7 e mais                   2601              260290   \n",
       "1            de 4 a 6                   2601              260290   \n",
       "2            de 4 a 6                   2601              260290   \n",
       "3            7 e mais                   2601              260290   \n",
       "4            de 1 a 3                   2601              260290   \n",
       "\n",
       "   res_cod_regiao_saude  res_cod_municipio   ano  \n",
       "0                  2601             260290  2010  \n",
       "1                  2601             260290  2010  \n",
       "2                  2601             260290  2010  \n",
       "3                  2601             260720  2010  \n",
       "4                  2601             260720  2010  "
      ]
     },
     "execution_count": 19,
     "metadata": {},
     "output_type": "execute_result"
    }
   ],
   "source": [
    "q = 'select * from sinasc order by cnes_hospital limit 5'\n",
    "pd.read_sql_query(q, con=conn)"
   ]
  },
  {
   "cell_type": "markdown",
   "metadata": {},
   "source": [
    "numeric ordinal:\n",
    "- idade\n",
    "- apgar1\n",
    "- apgar5\n",
    "- nivel_escolaridade\n",
    "- indice socioeconomico regiao saude res\n",
    "\n",
    "categoric ordinal:\n",
    "- consultas_pre_natal\n",
    "\n",
    "categoric one-hot encondig:\n",
    "- tipo_parto\n",
    "- raca_cor"
   ]
  },
  {
   "cell_type": "code",
   "execution_count": 20,
   "metadata": {},
   "outputs": [],
   "source": [
    "conn.close()"
   ]
  },
  {
   "cell_type": "code",
   "execution_count": 36,
   "metadata": {},
   "outputs": [],
   "source": [
    "ddf = pd.DataFrame()\n",
    "ddf['cor'] = ['b', 'b', 'a', 'p', 'p', 'p']\n",
    "ddf['idade'] = [31, 21, 24, 26, 35, 19]\n",
    "ddf['escol'] = [3, 2, 0, 1, 2, 2]\n",
    "y_target = pd.Series([0, 1, 1, 0, 2, 2])\n",
    "ddf = pd.get_dummies(ddf)"
   ]
  },
  {
   "cell_type": "code",
   "execution_count": 37,
   "metadata": {},
   "outputs": [],
   "source": [
    "from sklearn.datasets import load_iris\n",
    "from sklearn.tree import DecisionTreeClassifier"
   ]
  },
  {
   "cell_type": "code",
   "execution_count": 38,
   "metadata": {},
   "outputs": [],
   "source": [
    "iris = load_iris()"
   ]
  },
  {
   "cell_type": "code",
   "execution_count": 39,
   "metadata": {},
   "outputs": [],
   "source": [
    "clf = DecisionTreeClassifier(random_state=0)"
   ]
  },
  {
   "cell_type": "code",
   "execution_count": 40,
   "metadata": {},
   "outputs": [
    {
     "data": {
      "text/html": [
       "<style>#sk-container-id-3 {color: black;background-color: white;}#sk-container-id-3 pre{padding: 0;}#sk-container-id-3 div.sk-toggleable {background-color: white;}#sk-container-id-3 label.sk-toggleable__label {cursor: pointer;display: block;width: 100%;margin-bottom: 0;padding: 0.3em;box-sizing: border-box;text-align: center;}#sk-container-id-3 label.sk-toggleable__label-arrow:before {content: \"▸\";float: left;margin-right: 0.25em;color: #696969;}#sk-container-id-3 label.sk-toggleable__label-arrow:hover:before {color: black;}#sk-container-id-3 div.sk-estimator:hover label.sk-toggleable__label-arrow:before {color: black;}#sk-container-id-3 div.sk-toggleable__content {max-height: 0;max-width: 0;overflow: hidden;text-align: left;background-color: #f0f8ff;}#sk-container-id-3 div.sk-toggleable__content pre {margin: 0.2em;color: black;border-radius: 0.25em;background-color: #f0f8ff;}#sk-container-id-3 input.sk-toggleable__control:checked~div.sk-toggleable__content {max-height: 200px;max-width: 100%;overflow: auto;}#sk-container-id-3 input.sk-toggleable__control:checked~label.sk-toggleable__label-arrow:before {content: \"▾\";}#sk-container-id-3 div.sk-estimator input.sk-toggleable__control:checked~label.sk-toggleable__label {background-color: #d4ebff;}#sk-container-id-3 div.sk-label input.sk-toggleable__control:checked~label.sk-toggleable__label {background-color: #d4ebff;}#sk-container-id-3 input.sk-hidden--visually {border: 0;clip: rect(1px 1px 1px 1px);clip: rect(1px, 1px, 1px, 1px);height: 1px;margin: -1px;overflow: hidden;padding: 0;position: absolute;width: 1px;}#sk-container-id-3 div.sk-estimator {font-family: monospace;background-color: #f0f8ff;border: 1px dotted black;border-radius: 0.25em;box-sizing: border-box;margin-bottom: 0.5em;}#sk-container-id-3 div.sk-estimator:hover {background-color: #d4ebff;}#sk-container-id-3 div.sk-parallel-item::after {content: \"\";width: 100%;border-bottom: 1px solid gray;flex-grow: 1;}#sk-container-id-3 div.sk-label:hover label.sk-toggleable__label {background-color: #d4ebff;}#sk-container-id-3 div.sk-serial::before {content: \"\";position: absolute;border-left: 1px solid gray;box-sizing: border-box;top: 0;bottom: 0;left: 50%;z-index: 0;}#sk-container-id-3 div.sk-serial {display: flex;flex-direction: column;align-items: center;background-color: white;padding-right: 0.2em;padding-left: 0.2em;position: relative;}#sk-container-id-3 div.sk-item {position: relative;z-index: 1;}#sk-container-id-3 div.sk-parallel {display: flex;align-items: stretch;justify-content: center;background-color: white;position: relative;}#sk-container-id-3 div.sk-item::before, #sk-container-id-3 div.sk-parallel-item::before {content: \"\";position: absolute;border-left: 1px solid gray;box-sizing: border-box;top: 0;bottom: 0;left: 50%;z-index: -1;}#sk-container-id-3 div.sk-parallel-item {display: flex;flex-direction: column;z-index: 1;position: relative;background-color: white;}#sk-container-id-3 div.sk-parallel-item:first-child::after {align-self: flex-end;width: 50%;}#sk-container-id-3 div.sk-parallel-item:last-child::after {align-self: flex-start;width: 50%;}#sk-container-id-3 div.sk-parallel-item:only-child::after {width: 0;}#sk-container-id-3 div.sk-dashed-wrapped {border: 1px dashed gray;margin: 0 0.4em 0.5em 0.4em;box-sizing: border-box;padding-bottom: 0.4em;background-color: white;}#sk-container-id-3 div.sk-label label {font-family: monospace;font-weight: bold;display: inline-block;line-height: 1.2em;}#sk-container-id-3 div.sk-label-container {text-align: center;}#sk-container-id-3 div.sk-container {/* jupyter's `normalize.less` sets `[hidden] { display: none; }` but bootstrap.min.css set `[hidden] { display: none !important; }` so we also need the `!important` here to be able to override the default hidden behavior on the sphinx rendered scikit-learn.org. See: https://github.com/scikit-learn/scikit-learn/issues/21755 */display: inline-block !important;position: relative;}#sk-container-id-3 div.sk-text-repr-fallback {display: none;}</style><div id=\"sk-container-id-3\" class=\"sk-top-container\"><div class=\"sk-text-repr-fallback\"><pre>DecisionTreeClassifier(random_state=0)</pre><b>In a Jupyter environment, please rerun this cell to show the HTML representation or trust the notebook. <br />On GitHub, the HTML representation is unable to render, please try loading this page with nbviewer.org.</b></div><div class=\"sk-container\" hidden><div class=\"sk-item\"><div class=\"sk-estimator sk-toggleable\"><input class=\"sk-toggleable__control sk-hidden--visually\" id=\"sk-estimator-id-3\" type=\"checkbox\" checked><label for=\"sk-estimator-id-3\" class=\"sk-toggleable__label sk-toggleable__label-arrow\">DecisionTreeClassifier</label><div class=\"sk-toggleable__content\"><pre>DecisionTreeClassifier(random_state=0)</pre></div></div></div></div></div>"
      ],
      "text/plain": [
       "DecisionTreeClassifier(random_state=0)"
      ]
     },
     "execution_count": 40,
     "metadata": {},
     "output_type": "execute_result"
    }
   ],
   "source": [
    "clf.fit(ddf, y_target)"
   ]
  },
  {
   "cell_type": "code",
   "execution_count": 41,
   "metadata": {},
   "outputs": [],
   "source": [
    "from dtreeviz.trees import dtreeviz "
   ]
  },
  {
   "cell_type": "code",
   "execution_count": 42,
   "metadata": {},
   "outputs": [
    {
     "name": "stderr",
     "output_type": "stream",
     "text": [
      "/Users/lucas/Code/lucaslopes/partos/venv/lib/python3.10/site-packages/sklearn/base.py:450: UserWarning: X does not have valid feature names, but DecisionTreeClassifier was fitted with feature names\n",
      "  warnings.warn(\n"
     ]
    },
    {
     "data": {
      "image/svg+xml": "<svg xmlns=\"http://www.w3.org/2000/svg\" xmlns:dc=\"http://purl.org/dc/elements/1.1/\" xmlns:ns2=\"http://creativecommons.org/ns#\" xmlns:rdf=\"http://www.w3.org/1999/02/22-rdf-syntax-ns#\" xmlns:xlink=\"http://www.w3.org/1999/xlink\" width=\"332.0\" height=\"248.0\" viewBox=\"0.0 0.0 332.0 248.0\">\n<g id=\"graph0\" class=\"graph\" transform=\"scale(1.0 1.0) rotate(0) translate(4 244)\">\n<title>G</title>\n<polygon fill=\"white\" stroke=\"none\" points=\"-4,4 -4,-244 328,-244 328,4 -4,4\" />\n<g id=\"clust4\" class=\"cluster\">\n<title>cluster_legend</title>\n</g>\n\n<g id=\"node1\" class=\"node\">\n<title>node1</title>\n<svg width=\"147px\" height=\"44px\" viewBox=\"0 0 196.23 58.641964\" version=\"1.1\" preserveAspectRatio=\"xMinYMin meet\" x=\"4.5\" y=\"-104.5\">\n <metadata>\n  <rdf:RDF>\n   <ns2:Work>\n    <dc:type rdf:resource=\"http://purl.org/dc/dcmitype/StillImage\" />\n    <dc:date>2022-08-27T02:36:22.239826</dc:date>\n    <dc:format>image/svg+xml</dc:format>\n    <dc:creator>\n     <ns2:Agent>\n      <dc:title>Matplotlib v3.5.2, https://matplotlib.org/</dc:title>\n     </ns2:Agent>\n    </dc:creator>\n   </ns2:Work>\n  </rdf:RDF>\n </metadata>\n <defs>\n  <style type=\"text/css\">*{stroke-linejoin: round; stroke-linecap: butt}</style>\n </defs>\n <g id=\"figure_1\">\n  <g id=\"patch_1\">\n   <path d=\"M 0 58.641964  L 196.23 58.641964  L 196.23 0  L 0 0  L 0 58.641964  z \" style=\"fill: none\" />\n  </g>\n  <g id=\"axes_1\">\n   <g id=\"patch_2\">\n    <path d=\"M 12.09 28.925089  L 196.23 28.925089  L 196.23 1.745089  L 12.09 1.745089  z \" style=\"fill: #ffffff\" />\n   </g>\n   <g id=\"patch_3\">\n    <path d=\"M 26.614795 28.925089  L 35.608476 28.925089  L 35.608476 28.925089  L 26.614795 28.925089  z \" clip-path=\"url(#p162c13bcd3)\" style=\"fill: #fefebb; stroke: #444443; stroke-width: 0.5; stroke-linejoin: miter\" />\n   </g>\n   <g id=\"patch_4\">\n    <path d=\"M 35.608476 28.925089  L 44.602157 28.925089  L 44.602157 28.925089  L 35.608476 28.925089  z \" clip-path=\"url(#p162c13bcd3)\" style=\"fill: #fefebb; stroke: #444443; stroke-width: 0.5; stroke-linejoin: miter\" />\n   </g>\n   <g id=\"patch_5\">\n    <path d=\"M 44.602157 28.925089  L 53.595838 28.925089  L 53.595838 28.925089  L 44.602157 28.925089  z \" clip-path=\"url(#p162c13bcd3)\" style=\"fill: #fefebb; stroke: #444443; stroke-width: 0.5; stroke-linejoin: miter\" />\n   </g>\n   <g id=\"patch_6\">\n    <path d=\"M 53.595838 28.925089  L 62.58952 28.925089  L 62.58952 28.925089  L 53.595838 28.925089  z \" clip-path=\"url(#p162c13bcd3)\" style=\"fill: #fefebb; stroke: #444443; stroke-width: 0.5; stroke-linejoin: miter\" />\n   </g>\n   <g id=\"patch_7\">\n    <path d=\"M 62.58952 28.925089  L 71.583201 28.925089  L 71.583201 28.925089  L 62.58952 28.925089  z \" clip-path=\"url(#p162c13bcd3)\" style=\"fill: #fefebb; stroke: #444443; stroke-width: 0.5; stroke-linejoin: miter\" />\n   </g>\n   <g id=\"patch_8\">\n    <path d=\"M 71.583201 28.925089  L 80.576882 28.925089  L 80.576882 28.925089  L 71.583201 28.925089  z \" clip-path=\"url(#p162c13bcd3)\" style=\"fill: #fefebb; stroke: #444443; stroke-width: 0.5; stroke-linejoin: miter\" />\n   </g>\n   <g id=\"patch_9\">\n    <path d=\"M 80.576882 28.925089  L 89.570563 28.925089  L 89.570563 28.925089  L 80.576882 28.925089  z \" clip-path=\"url(#p162c13bcd3)\" style=\"fill: #fefebb; stroke: #444443; stroke-width: 0.5; stroke-linejoin: miter\" />\n   </g>\n   <g id=\"patch_10\">\n    <path d=\"M 89.570563 28.925089  L 98.564244 28.925089  L 98.564244 28.925089  L 89.570563 28.925089  z \" clip-path=\"url(#p162c13bcd3)\" style=\"fill: #fefebb; stroke: #444443; stroke-width: 0.5; stroke-linejoin: miter\" />\n   </g>\n   <g id=\"patch_11\">\n    <path d=\"M 98.564244 28.925089  L 107.557925 28.925089  L 107.557925 28.925089  L 98.564244 28.925089  z \" clip-path=\"url(#p162c13bcd3)\" style=\"fill: #fefebb; stroke: #444443; stroke-width: 0.5; stroke-linejoin: miter\" />\n   </g>\n   <g id=\"patch_12\">\n    <path d=\"M 107.557925 28.925089  L 116.551606 28.925089  L 116.551606 28.925089  L 107.557925 28.925089  z \" clip-path=\"url(#p162c13bcd3)\" style=\"fill: #fefebb; stroke: #444443; stroke-width: 0.5; stroke-linejoin: miter\" />\n   </g>\n   <g id=\"patch_13\">\n    <path d=\"M 116.551606 28.925089  L 125.545287 28.925089  L 125.545287 28.925089  L 116.551606 28.925089  z \" clip-path=\"url(#p162c13bcd3)\" style=\"fill: #fefebb; stroke: #444443; stroke-width: 0.5; stroke-linejoin: miter\" />\n   </g>\n   <g id=\"patch_14\">\n    <path d=\"M 125.545287 28.925089  L 134.538969 28.925089  L 134.538969 28.925089  L 125.545287 28.925089  z \" clip-path=\"url(#p162c13bcd3)\" style=\"fill: #fefebb; stroke: #444443; stroke-width: 0.5; stroke-linejoin: miter\" />\n   </g>\n   <g id=\"patch_15\">\n    <path d=\"M 134.538969 28.925089  L 143.53265 28.925089  L 143.53265 3.039375  L 134.538969 3.039375  z \" clip-path=\"url(#p162c13bcd3)\" style=\"fill: #fefebb; stroke: #444443; stroke-width: 0.5; stroke-linejoin: miter\" />\n   </g>\n   <g id=\"patch_16\">\n    <path d=\"M 143.53265 28.925089  L 152.526331 28.925089  L 152.526331 28.925089  L 143.53265 28.925089  z \" clip-path=\"url(#p162c13bcd3)\" style=\"fill: #fefebb; stroke: #444443; stroke-width: 0.5; stroke-linejoin: miter\" />\n   </g>\n   <g id=\"patch_17\">\n    <path d=\"M 152.526331 28.925089  L 161.520012 28.925089  L 161.520012 28.925089  L 152.526331 28.925089  z \" clip-path=\"url(#p162c13bcd3)\" style=\"fill: #fefebb; stroke: #444443; stroke-width: 0.5; stroke-linejoin: miter\" />\n   </g>\n   <g id=\"patch_18\">\n    <path d=\"M 161.520012 28.925089  L 170.513693 28.925089  L 170.513693 28.925089  L 161.520012 28.925089  z \" clip-path=\"url(#p162c13bcd3)\" style=\"fill: #fefebb; stroke: #444443; stroke-width: 0.5; stroke-linejoin: miter\" />\n   </g>\n   <g id=\"patch_19\">\n    <path d=\"M 170.513693 28.925089  L 179.507374 28.925089  L 179.507374 28.925089  L 170.513693 28.925089  z \" clip-path=\"url(#p162c13bcd3)\" style=\"fill: #fefebb; stroke: #444443; stroke-width: 0.5; stroke-linejoin: miter\" />\n   </g>\n   <g id=\"patch_20\">\n    <path d=\"M 26.614795 28.925089  L 35.608476 28.925089  L 35.608476 28.925089  L 26.614795 28.925089  z \" clip-path=\"url(#p162c13bcd3)\" style=\"fill: #d9e6f5; stroke: #444443; stroke-width: 0.5; stroke-linejoin: miter\" />\n   </g>\n   <g id=\"patch_21\">\n    <path d=\"M 35.608476 28.925089  L 44.602157 28.925089  L 44.602157 28.925089  L 35.608476 28.925089  z \" clip-path=\"url(#p162c13bcd3)\" style=\"fill: #d9e6f5; stroke: #444443; stroke-width: 0.5; stroke-linejoin: miter\" />\n   </g>\n   <g id=\"patch_22\">\n    <path d=\"M 44.602157 28.925089  L 53.595838 28.925089  L 53.595838 3.039375  L 44.602157 3.039375  z \" clip-path=\"url(#p162c13bcd3)\" style=\"fill: #d9e6f5; stroke: #444443; stroke-width: 0.5; stroke-linejoin: miter\" />\n   </g>\n   <g id=\"patch_23\">\n    <path d=\"M 53.595838 28.925089  L 62.58952 28.925089  L 62.58952 28.925089  L 53.595838 28.925089  z \" clip-path=\"url(#p162c13bcd3)\" style=\"fill: #d9e6f5; stroke: #444443; stroke-width: 0.5; stroke-linejoin: miter\" />\n   </g>\n   <g id=\"patch_24\">\n    <path d=\"M 62.58952 28.925089  L 71.583201 28.925089  L 71.583201 28.925089  L 62.58952 28.925089  z \" clip-path=\"url(#p162c13bcd3)\" style=\"fill: #d9e6f5; stroke: #444443; stroke-width: 0.5; stroke-linejoin: miter\" />\n   </g>\n   <g id=\"patch_25\">\n    <path d=\"M 71.583201 28.925089  L 80.576882 28.925089  L 80.576882 3.039375  L 71.583201 3.039375  z \" clip-path=\"url(#p162c13bcd3)\" style=\"fill: #d9e6f5; stroke: #444443; stroke-width: 0.5; stroke-linejoin: miter\" />\n   </g>\n   <g id=\"patch_26\">\n    <path d=\"M 80.576882 28.925089  L 89.570563 28.925089  L 89.570563 28.925089  L 80.576882 28.925089  z \" clip-path=\"url(#p162c13bcd3)\" style=\"fill: #d9e6f5; stroke: #444443; stroke-width: 0.5; stroke-linejoin: miter\" />\n   </g>\n   <g id=\"patch_27\">\n    <path d=\"M 89.570563 28.925089  L 98.564244 28.925089  L 98.564244 28.925089  L 89.570563 28.925089  z \" clip-path=\"url(#p162c13bcd3)\" style=\"fill: #d9e6f5; stroke: #444443; stroke-width: 0.5; stroke-linejoin: miter\" />\n   </g>\n   <g id=\"patch_28\">\n    <path d=\"M 98.564244 28.925089  L 107.557925 28.925089  L 107.557925 28.925089  L 98.564244 28.925089  z \" clip-path=\"url(#p162c13bcd3)\" style=\"fill: #d9e6f5; stroke: #444443; stroke-width: 0.5; stroke-linejoin: miter\" />\n   </g>\n   <g id=\"patch_29\">\n    <path d=\"M 107.557925 28.925089  L 116.551606 28.925089  L 116.551606 28.925089  L 107.557925 28.925089  z \" clip-path=\"url(#p162c13bcd3)\" style=\"fill: #d9e6f5; stroke: #444443; stroke-width: 0.5; stroke-linejoin: miter\" />\n   </g>\n   <g id=\"patch_30\">\n    <path d=\"M 116.551606 28.925089  L 125.545287 28.925089  L 125.545287 28.925089  L 116.551606 28.925089  z \" clip-path=\"url(#p162c13bcd3)\" style=\"fill: #d9e6f5; stroke: #444443; stroke-width: 0.5; stroke-linejoin: miter\" />\n   </g>\n   <g id=\"patch_31\">\n    <path d=\"M 125.545287 28.925089  L 134.538969 28.925089  L 134.538969 28.925089  L 125.545287 28.925089  z \" clip-path=\"url(#p162c13bcd3)\" style=\"fill: #d9e6f5; stroke: #444443; stroke-width: 0.5; stroke-linejoin: miter\" />\n   </g>\n   <g id=\"patch_32\">\n    <path d=\"M 134.538969 3.039375  L 143.53265 3.039375  L 143.53265 3.039375  L 134.538969 3.039375  z \" clip-path=\"url(#p162c13bcd3)\" style=\"fill: #d9e6f5; stroke: #444443; stroke-width: 0.5; stroke-linejoin: miter\" />\n   </g>\n   <g id=\"patch_33\">\n    <path d=\"M 143.53265 28.925089  L 152.526331 28.925089  L 152.526331 28.925089  L 143.53265 28.925089  z \" clip-path=\"url(#p162c13bcd3)\" style=\"fill: #d9e6f5; stroke: #444443; stroke-width: 0.5; stroke-linejoin: miter\" />\n   </g>\n   <g id=\"patch_34\">\n    <path d=\"M 152.526331 28.925089  L 161.520012 28.925089  L 161.520012 28.925089  L 152.526331 28.925089  z \" clip-path=\"url(#p162c13bcd3)\" style=\"fill: #d9e6f5; stroke: #444443; stroke-width: 0.5; stroke-linejoin: miter\" />\n   </g>\n   <g id=\"patch_35\">\n    <path d=\"M 161.520012 28.925089  L 170.513693 28.925089  L 170.513693 28.925089  L 161.520012 28.925089  z \" clip-path=\"url(#p162c13bcd3)\" style=\"fill: #d9e6f5; stroke: #444443; stroke-width: 0.5; stroke-linejoin: miter\" />\n   </g>\n   <g id=\"patch_36\">\n    <path d=\"M 170.513693 28.925089  L 179.507374 28.925089  L 179.507374 28.925089  L 170.513693 28.925089  z \" clip-path=\"url(#p162c13bcd3)\" style=\"fill: #d9e6f5; stroke: #444443; stroke-width: 0.5; stroke-linejoin: miter\" />\n   </g>\n   <g id=\"patch_37\">\n    <path d=\"M 26.614795 28.925089  L 35.608476 28.925089  L 35.608476 28.925089  L 26.614795 28.925089  z \" clip-path=\"url(#p162c13bcd3)\" style=\"fill: #a1dab4; stroke: #444443; stroke-width: 0.5; stroke-linejoin: miter\" />\n   </g>\n   <g id=\"patch_38\">\n    <path d=\"M 35.608476 28.925089  L 44.602157 28.925089  L 44.602157 28.925089  L 35.608476 28.925089  z \" clip-path=\"url(#p162c13bcd3)\" style=\"fill: #a1dab4; stroke: #444443; stroke-width: 0.5; stroke-linejoin: miter\" />\n   </g>\n   <g id=\"patch_39\">\n    <path d=\"M 44.602157 3.039375  L 53.595838 3.039375  L 53.595838 3.039375  L 44.602157 3.039375  z \" clip-path=\"url(#p162c13bcd3)\" style=\"fill: #a1dab4; stroke: #444443; stroke-width: 0.5; stroke-linejoin: miter\" />\n   </g>\n   <g id=\"patch_40\">\n    <path d=\"M 53.595838 28.925089  L 62.58952 28.925089  L 62.58952 28.925089  L 53.595838 28.925089  z \" clip-path=\"url(#p162c13bcd3)\" style=\"fill: #a1dab4; stroke: #444443; stroke-width: 0.5; stroke-linejoin: miter\" />\n   </g>\n   <g id=\"patch_41\">\n    <path d=\"M 62.58952 28.925089  L 71.583201 28.925089  L 71.583201 28.925089  L 62.58952 28.925089  z \" clip-path=\"url(#p162c13bcd3)\" style=\"fill: #a1dab4; stroke: #444443; stroke-width: 0.5; stroke-linejoin: miter\" />\n   </g>\n   <g id=\"patch_42\">\n    <path d=\"M 71.583201 3.039375  L 80.576882 3.039375  L 80.576882 3.039375  L 71.583201 3.039375  z \" clip-path=\"url(#p162c13bcd3)\" style=\"fill: #a1dab4; stroke: #444443; stroke-width: 0.5; stroke-linejoin: miter\" />\n   </g>\n   <g id=\"patch_43\">\n    <path d=\"M 80.576882 28.925089  L 89.570563 28.925089  L 89.570563 28.925089  L 80.576882 28.925089  z \" clip-path=\"url(#p162c13bcd3)\" style=\"fill: #a1dab4; stroke: #444443; stroke-width: 0.5; stroke-linejoin: miter\" />\n   </g>\n   <g id=\"patch_44\">\n    <path d=\"M 89.570563 28.925089  L 98.564244 28.925089  L 98.564244 28.925089  L 89.570563 28.925089  z \" clip-path=\"url(#p162c13bcd3)\" style=\"fill: #a1dab4; stroke: #444443; stroke-width: 0.5; stroke-linejoin: miter\" />\n   </g>\n   <g id=\"patch_45\">\n    <path d=\"M 98.564244 28.925089  L 107.557925 28.925089  L 107.557925 28.925089  L 98.564244 28.925089  z \" clip-path=\"url(#p162c13bcd3)\" style=\"fill: #a1dab4; stroke: #444443; stroke-width: 0.5; stroke-linejoin: miter\" />\n   </g>\n   <g id=\"patch_46\">\n    <path d=\"M 107.557925 28.925089  L 116.551606 28.925089  L 116.551606 28.925089  L 107.557925 28.925089  z \" clip-path=\"url(#p162c13bcd3)\" style=\"fill: #a1dab4; stroke: #444443; stroke-width: 0.5; stroke-linejoin: miter\" />\n   </g>\n   <g id=\"patch_47\">\n    <path d=\"M 116.551606 28.925089  L 125.545287 28.925089  L 125.545287 28.925089  L 116.551606 28.925089  z \" clip-path=\"url(#p162c13bcd3)\" style=\"fill: #a1dab4; stroke: #444443; stroke-width: 0.5; stroke-linejoin: miter\" />\n   </g>\n   <g id=\"patch_48\">\n    <path d=\"M 125.545287 28.925089  L 134.538969 28.925089  L 134.538969 28.925089  L 125.545287 28.925089  z \" clip-path=\"url(#p162c13bcd3)\" style=\"fill: #a1dab4; stroke: #444443; stroke-width: 0.5; stroke-linejoin: miter\" />\n   </g>\n   <g id=\"patch_49\">\n    <path d=\"M 134.538969 3.039375  L 143.53265 3.039375  L 143.53265 3.039375  L 134.538969 3.039375  z \" clip-path=\"url(#p162c13bcd3)\" style=\"fill: #a1dab4; stroke: #444443; stroke-width: 0.5; stroke-linejoin: miter\" />\n   </g>\n   <g id=\"patch_50\">\n    <path d=\"M 143.53265 28.925089  L 152.526331 28.925089  L 152.526331 28.925089  L 143.53265 28.925089  z \" clip-path=\"url(#p162c13bcd3)\" style=\"fill: #a1dab4; stroke: #444443; stroke-width: 0.5; stroke-linejoin: miter\" />\n   </g>\n   <g id=\"patch_51\">\n    <path d=\"M 152.526331 28.925089  L 161.520012 28.925089  L 161.520012 28.925089  L 152.526331 28.925089  z \" clip-path=\"url(#p162c13bcd3)\" style=\"fill: #a1dab4; stroke: #444443; stroke-width: 0.5; stroke-linejoin: miter\" />\n   </g>\n   <g id=\"patch_52\">\n    <path d=\"M 161.520012 28.925089  L 170.513693 28.925089  L 170.513693 28.925089  L 161.520012 28.925089  z \" clip-path=\"url(#p162c13bcd3)\" style=\"fill: #a1dab4; stroke: #444443; stroke-width: 0.5; stroke-linejoin: miter\" />\n   </g>\n   <g id=\"patch_53\">\n    <path d=\"M 170.513693 28.925089  L 179.507374 28.925089  L 179.507374 28.925089  L 170.513693 28.925089  z \" clip-path=\"url(#p162c13bcd3)\" style=\"fill: #a1dab4; stroke: #444443; stroke-width: 0.5; stroke-linejoin: miter\" />\n   </g>\n   <g id=\"patch_54\">\n    <path d=\"M 107.838978 29.740489  L 104.524458 37.079089  L 111.153498 37.079089  z \" style=\"fill: #444443\" />\n   </g>\n   <g id=\"matplotlib.axis_1\">\n    <g id=\"xtick_1\">\n     <g id=\"line2d_1\">\n      <defs>\n       <path id=\"m236a83efab\" d=\"M 0 0  L 0 3.5  \" style=\"stroke: #000000; stroke-width: 0.3\" />\n      </defs>\n      <g>\n       <use xlink:href=\"#m236a83efab\" x=\"26.614795\" y=\"28.925089\" style=\"stroke: #000000; stroke-width: 0.3\" />\n      </g>\n     </g>\n     <g id=\"text_1\">\n      \n      <g style=\"fill: #444443\" transform=\"translate(21.524795 42.003839)scale(0.08 -0.08)\">\n       <defs>\n        <path id=\"DejaVuSans-31\" d=\"M 794 531  L 1825 531  L 1825 4091  L 703 3866  L 703 4441  L 1819 4666  L 2450 4666  L 2450 531  L 3481 531  L 3481 0  L 794 0  L 794 531  z \" transform=\"scale(0.015625)\" />\n        <path id=\"DejaVuSans-39\" d=\"M 703 97  L 703 672  Q 941 559 1184 500  Q 1428 441 1663 441  Q 2288 441 2617 861  Q 2947 1281 2994 2138  Q 2813 1869 2534 1725  Q 2256 1581 1919 1581  Q 1219 1581 811 2004  Q 403 2428 403 3163  Q 403 3881 828 4315  Q 1253 4750 1959 4750  Q 2769 4750 3195 4129  Q 3622 3509 3622 2328  Q 3622 1225 3098 567  Q 2575 -91 1691 -91  Q 1453 -91 1209 -44  Q 966 3 703 97  z M 1959 2075  Q 2384 2075 2632 2365  Q 2881 2656 2881 3163  Q 2881 3666 2632 3958  Q 2384 4250 1959 4250  Q 1534 4250 1286 3958  Q 1038 3666 1038 3163  Q 1038 2656 1286 2365  Q 1534 2075 1959 2075  z \" transform=\"scale(0.015625)\" />\n       </defs>\n       <use xlink:href=\"#DejaVuSans-31\" />\n       <use xlink:href=\"#DejaVuSans-39\" x=\"63.623047\" />\n      </g>\n     </g>\n    </g>\n    <g id=\"xtick_2\">\n     <g id=\"line2d_2\">\n      <g>\n       <use xlink:href=\"#m236a83efab\" x=\"179.507374\" y=\"28.925089\" style=\"stroke: #000000; stroke-width: 0.3\" />\n      </g>\n     </g>\n     <g id=\"text_2\">\n      \n      <g style=\"fill: #444443\" transform=\"translate(174.417374 42.003839)scale(0.08 -0.08)\">\n       <defs>\n        <path id=\"DejaVuSans-33\" d=\"M 2597 2516  Q 3050 2419 3304 2112  Q 3559 1806 3559 1356  Q 3559 666 3084 287  Q 2609 -91 1734 -91  Q 1441 -91 1130 -33  Q 819 25 488 141  L 488 750  Q 750 597 1062 519  Q 1375 441 1716 441  Q 2309 441 2620 675  Q 2931 909 2931 1356  Q 2931 1769 2642 2001  Q 2353 2234 1838 2234  L 1294 2234  L 1294 2753  L 1863 2753  Q 2328 2753 2575 2939  Q 2822 3125 2822 3475  Q 2822 3834 2567 4026  Q 2313 4219 1838 4219  Q 1578 4219 1281 4162  Q 984 4106 628 3988  L 628 4550  Q 988 4650 1302 4700  Q 1616 4750 1894 4750  Q 2613 4750 3031 4423  Q 3450 4097 3450 3541  Q 3450 3153 3228 2886  Q 3006 2619 2597 2516  z \" transform=\"scale(0.015625)\" />\n        <path id=\"DejaVuSans-35\" d=\"M 691 4666  L 3169 4666  L 3169 4134  L 1269 4134  L 1269 2991  Q 1406 3038 1543 3061  Q 1681 3084 1819 3084  Q 2600 3084 3056 2656  Q 3513 2228 3513 1497  Q 3513 744 3044 326  Q 2575 -91 1722 -91  Q 1428 -91 1123 -41  Q 819 9 494 109  L 494 744  Q 775 591 1075 516  Q 1375 441 1709 441  Q 2250 441 2565 725  Q 2881 1009 2881 1497  Q 2881 1984 2565 2268  Q 2250 2553 1709 2553  Q 1456 2553 1204 2497  Q 953 2441 691 2322  L 691 4666  z \" transform=\"scale(0.015625)\" />\n       </defs>\n       <use xlink:href=\"#DejaVuSans-33\" />\n       <use xlink:href=\"#DejaVuSans-35\" x=\"63.623047\" />\n      </g>\n     </g>\n    </g>\n    <g id=\"text_3\">\n     \n     <g style=\"fill: #444443\" transform=\"translate(89.817188 56.256964)scale(0.12 -0.12)\">\n      <defs>\n       <path id=\"ArialMT-4e\" d=\"M 488 0  L 488 4581  L 1109 4581  L 3516 984  L 3516 4581  L 4097 4581  L 4097 0  L 3475 0  L 1069 3600  L 1069 0  L 488 0  z \" transform=\"scale(0.015625)\" />\n       <path id=\"ArialMT-6f\" d=\"M 213 1659  Q 213 2581 725 3025  Q 1153 3394 1769 3394  Q 2453 3394 2887 2945  Q 3322 2497 3322 1706  Q 3322 1066 3130 698  Q 2938 331 2570 128  Q 2203 -75 1769 -75  Q 1072 -75 642 372  Q 213 819 213 1659  z M 791 1659  Q 791 1022 1069 705  Q 1347 388 1769 388  Q 2188 388 2466 706  Q 2744 1025 2744 1678  Q 2744 2294 2464 2611  Q 2184 2928 1769 2928  Q 1347 2928 1069 2612  Q 791 2297 791 1659  z \" transform=\"scale(0.015625)\" />\n       <path id=\"ArialMT-6e\" d=\"M 422 0  L 422 3319  L 928 3319  L 928 2847  Q 1294 3394 1984 3394  Q 2284 3394 2536 3286  Q 2788 3178 2913 3003  Q 3038 2828 3088 2588  Q 3119 2431 3119 2041  L 3119 0  L 2556 0  L 2556 2019  Q 2556 2363 2490 2533  Q 2425 2703 2258 2804  Q 2091 2906 1866 2906  Q 1506 2906 1245 2678  Q 984 2450 984 1813  L 984 0  L 422 0  z \" transform=\"scale(0.015625)\" />\n       <path id=\"ArialMT-65\" d=\"M 2694 1069  L 3275 997  Q 3138 488 2766 206  Q 2394 -75 1816 -75  Q 1088 -75 661 373  Q 234 822 234 1631  Q 234 2469 665 2931  Q 1097 3394 1784 3394  Q 2450 3394 2872 2941  Q 3294 2488 3294 1666  Q 3294 1616 3291 1516  L 816 1516  Q 847 969 1125 678  Q 1403 388 1819 388  Q 2128 388 2347 550  Q 2566 713 2694 1069  z M 847 1978  L 2700 1978  Q 2663 2397 2488 2606  Q 2219 2931 1791 2931  Q 1403 2931 1139 2672  Q 875 2413 847 1978  z \" transform=\"scale(0.015625)\" />\n      </defs>\n      <use xlink:href=\"#ArialMT-4e\" />\n      <use xlink:href=\"#ArialMT-6f\" x=\"72.216797\" />\n      <use xlink:href=\"#ArialMT-6e\" x=\"127.832031\" />\n      <use xlink:href=\"#ArialMT-65\" x=\"183.447266\" />\n     </g>\n    </g>\n   </g>\n   <g id=\"matplotlib.axis_2\">\n    <g id=\"ytick_1\">\n     <g id=\"line2d_3\">\n      <defs>\n       <path id=\"m21fc6cd3a8\" d=\"M 0 0  L -3.5 0  \" style=\"stroke: #000000; stroke-width: 0.3\" />\n      </defs>\n      <g>\n       <use xlink:href=\"#m21fc6cd3a8\" x=\"12.09\" y=\"28.925089\" style=\"stroke: #000000; stroke-width: 0.3\" />\n      </g>\n     </g>\n     <g id=\"text_4\">\n      \n      <g style=\"fill: #444443\" transform=\"translate(0 31.964464)scale(0.08 -0.08)\">\n       <defs>\n        <path id=\"DejaVuSans-30\" d=\"M 2034 4250  Q 1547 4250 1301 3770  Q 1056 3291 1056 2328  Q 1056 1369 1301 889  Q 1547 409 2034 409  Q 2525 409 2770 889  Q 3016 1369 3016 2328  Q 3016 3291 2770 3770  Q 2525 4250 2034 4250  z M 2034 4750  Q 2819 4750 3233 4129  Q 3647 3509 3647 2328  Q 3647 1150 3233 529  Q 2819 -91 2034 -91  Q 1250 -91 836 529  Q 422 1150 422 2328  Q 422 3509 836 4129  Q 1250 4750 2034 4750  z \" transform=\"scale(0.015625)\" />\n       </defs>\n       <use xlink:href=\"#DejaVuSans-30\" />\n      </g>\n     </g>\n    </g>\n    <g id=\"ytick_2\">\n     <g id=\"line2d_4\">\n      <g>\n       <use xlink:href=\"#m21fc6cd3a8\" x=\"12.09\" y=\"3.039375\" style=\"stroke: #000000; stroke-width: 0.3\" />\n      </g>\n     </g>\n     <g id=\"text_5\">\n      \n      <g style=\"fill: #444443\" transform=\"translate(0 6.07875)scale(0.08 -0.08)\">\n       <use xlink:href=\"#DejaVuSans-31\" />\n      </g>\n     </g>\n    </g>\n   </g>\n   <g id=\"patch_55\">\n    <path d=\"M 12.09 28.925089  L 12.09 1.745089  \" style=\"fill: none; stroke: #000000; stroke-width: 0.3; stroke-linejoin: miter; stroke-linecap: square\" />\n   </g>\n   <g id=\"patch_56\">\n    <path d=\"M 12.09 28.925089  L 196.23 28.925089  \" style=\"fill: none; stroke: #000000; stroke-width: 0.3; stroke-linejoin: miter; stroke-linecap: square\" />\n   </g>\n   <g id=\"text_6\">\n    \n    <g style=\"fill: #444443\" transform=\"translate(97.830228 45.233089)scale(0.08 -0.08)\">\n     <defs>\n      <path id=\"ArialMT-32\" d=\"M 3222 541  L 3222 0  L 194 0  Q 188 203 259 391  Q 375 700 629 1000  Q 884 1300 1366 1694  Q 2113 2306 2375 2664  Q 2638 3022 2638 3341  Q 2638 3675 2398 3904  Q 2159 4134 1775 4134  Q 1369 4134 1125 3890  Q 881 3647 878 3216  L 300 3275  Q 359 3922 746 4261  Q 1134 4600 1788 4600  Q 2447 4600 2831 4234  Q 3216 3869 3216 3328  Q 3216 3053 3103 2787  Q 2991 2522 2730 2228  Q 2469 1934 1863 1422  Q 1356 997 1212 845  Q 1069 694 975 541  L 3222 541  z \" transform=\"scale(0.015625)\" />\n      <path id=\"ArialMT-37\" d=\"M 303 3981  L 303 4522  L 3269 4522  L 3269 4084  Q 2831 3619 2401 2847  Q 1972 2075 1738 1259  Q 1569 684 1522 0  L 944 0  Q 953 541 1156 1306  Q 1359 2072 1739 2783  Q 2119 3494 2547 3981  L 303 3981  z \" transform=\"scale(0.015625)\" />\n      <path id=\"ArialMT-2e\" d=\"M 581 0  L 581 641  L 1222 641  L 1222 0  L 581 0  z \" transform=\"scale(0.015625)\" />\n      <path id=\"ArialMT-35\" d=\"M 266 1200  L 856 1250  Q 922 819 1161 601  Q 1400 384 1738 384  Q 2144 384 2425 690  Q 2706 997 2706 1503  Q 2706 1984 2436 2262  Q 2166 2541 1728 2541  Q 1456 2541 1237 2417  Q 1019 2294 894 2097  L 366 2166  L 809 4519  L 3088 4519  L 3088 3981  L 1259 3981  L 1013 2750  Q 1425 3038 1878 3038  Q 2478 3038 2890 2622  Q 3303 2206 3303 1553  Q 3303 931 2941 478  Q 2500 -78 1738 -78  Q 1113 -78 717 272  Q 322 622 266 1200  z \" transform=\"scale(0.015625)\" />\n      <path id=\"ArialMT-30\" d=\"M 266 2259  Q 266 3072 433 3567  Q 600 4063 929 4331  Q 1259 4600 1759 4600  Q 2128 4600 2406 4451  Q 2684 4303 2865 4023  Q 3047 3744 3150 3342  Q 3253 2941 3253 2259  Q 3253 1453 3087 958  Q 2922 463 2592 192  Q 2263 -78 1759 -78  Q 1097 -78 719 397  Q 266 969 266 2259  z M 844 2259  Q 844 1131 1108 757  Q 1372 384 1759 384  Q 2147 384 2411 759  Q 2675 1134 2675 2259  Q 2675 3391 2411 3762  Q 2147 4134 1753 4134  Q 1366 4134 1134 3806  Q 844 3388 844 2259  z \" transform=\"scale(0.015625)\" />\n     </defs>\n     <use xlink:href=\"#ArialMT-32\" />\n     <use xlink:href=\"#ArialMT-37\" x=\"55.615234\" />\n     <use xlink:href=\"#ArialMT-2e\" x=\"111.230469\" />\n     <use xlink:href=\"#ArialMT-35\" x=\"139.013672\" />\n     <use xlink:href=\"#ArialMT-30\" x=\"194.628906\" />\n    </g>\n   </g>\n  </g>\n </g>\n <defs>\n  <clipPath id=\"p162c13bcd3\">\n   <rect x=\"12.09\" y=\"1.745089\" width=\"184.14\" height=\"27.18\" />\n  </clipPath>\n </defs>\n</svg></g>\n\n<g id=\"node2\" class=\"node\">\n<title>node4</title>\n<svg width=\"147px\" height=\"63px\" viewBox=\"0 0 196.23 84.527679\" version=\"1.1\" preserveAspectRatio=\"xMinYMin meet\" x=\"173.5\" y=\"-113.5\">\n <metadata>\n  <rdf:RDF>\n   <ns2:Work>\n    <dc:type rdf:resource=\"http://purl.org/dc/dcmitype/StillImage\" />\n    <dc:date>2022-08-27T02:36:22.301031</dc:date>\n    <dc:format>image/svg+xml</dc:format>\n    <dc:creator>\n     <ns2:Agent>\n      <dc:title>Matplotlib v3.5.2, https://matplotlib.org/</dc:title>\n     </ns2:Agent>\n    </dc:creator>\n   </ns2:Work>\n  </rdf:RDF>\n </metadata>\n <defs>\n  <style type=\"text/css\">*{stroke-linejoin: round; stroke-linecap: butt}</style>\n </defs>\n <g id=\"figure_1\">\n  <g id=\"patch_1\">\n   <path d=\"M 0 84.527679  L 196.23 84.527679  L 196.23 0  L 0 0  L 0 84.527679  z \" style=\"fill: none\" />\n  </g>\n  <g id=\"axes_1\">\n   <g id=\"patch_2\">\n    <path d=\"M 12.09 54.810804  L 196.23 54.810804  L 196.23 0.450804  L 12.09 0.450804  z \" style=\"fill: #ffffff\" />\n   </g>\n   <g id=\"patch_3\">\n    <path d=\"M 12.09 54.810804  L 22.405966 54.810804  L 22.405966 54.810804  L 12.09 54.810804  z \" clip-path=\"url(#pc23f6bbfe7)\" style=\"fill: #fefebb; stroke: #444443; stroke-width: 0.5; stroke-linejoin: miter\" />\n   </g>\n   <g id=\"patch_4\">\n    <path d=\"M 22.405966 54.810804  L 32.721933 54.810804  L 32.721933 54.810804  L 22.405966 54.810804  z \" clip-path=\"url(#pc23f6bbfe7)\" style=\"fill: #fefebb; stroke: #444443; stroke-width: 0.5; stroke-linejoin: miter\" />\n   </g>\n   <g id=\"patch_5\">\n    <path d=\"M 32.721933 54.810804  L 43.037899 54.810804  L 43.037899 54.810804  L 32.721933 54.810804  z \" clip-path=\"url(#pc23f6bbfe7)\" style=\"fill: #fefebb; stroke: #444443; stroke-width: 0.5; stroke-linejoin: miter\" />\n   </g>\n   <g id=\"patch_6\">\n    <path d=\"M 43.037899 54.810804  L 53.353866 54.810804  L 53.353866 54.810804  L 43.037899 54.810804  z \" clip-path=\"url(#pc23f6bbfe7)\" style=\"fill: #fefebb; stroke: #444443; stroke-width: 0.5; stroke-linejoin: miter\" />\n   </g>\n   <g id=\"patch_7\">\n    <path d=\"M 53.353866 54.810804  L 63.669832 54.810804  L 63.669832 54.810804  L 53.353866 54.810804  z \" clip-path=\"url(#pc23f6bbfe7)\" style=\"fill: #fefebb; stroke: #444443; stroke-width: 0.5; stroke-linejoin: miter\" />\n   </g>\n   <g id=\"patch_8\">\n    <path d=\"M 63.669832 54.810804  L 73.985798 54.810804  L 73.985798 28.925089  L 63.669832 28.925089  z \" clip-path=\"url(#pc23f6bbfe7)\" style=\"fill: #fefebb; stroke: #444443; stroke-width: 0.5; stroke-linejoin: miter\" />\n   </g>\n   <g id=\"patch_9\">\n    <path d=\"M 73.985798 54.810804  L 84.301765 54.810804  L 84.301765 54.810804  L 73.985798 54.810804  z \" clip-path=\"url(#pc23f6bbfe7)\" style=\"fill: #fefebb; stroke: #444443; stroke-width: 0.5; stroke-linejoin: miter\" />\n   </g>\n   <g id=\"patch_10\">\n    <path d=\"M 84.301765 54.810804  L 94.617731 54.810804  L 94.617731 54.810804  L 84.301765 54.810804  z \" clip-path=\"url(#pc23f6bbfe7)\" style=\"fill: #fefebb; stroke: #444443; stroke-width: 0.5; stroke-linejoin: miter\" />\n   </g>\n   <g id=\"patch_11\">\n    <path d=\"M 94.617731 54.810804  L 104.933697 54.810804  L 104.933697 54.810804  L 94.617731 54.810804  z \" clip-path=\"url(#pc23f6bbfe7)\" style=\"fill: #fefebb; stroke: #444443; stroke-width: 0.5; stroke-linejoin: miter\" />\n   </g>\n   <g id=\"patch_12\">\n    <path d=\"M 104.933697 54.810804  L 115.249664 54.810804  L 115.249664 54.810804  L 104.933697 54.810804  z \" clip-path=\"url(#pc23f6bbfe7)\" style=\"fill: #fefebb; stroke: #444443; stroke-width: 0.5; stroke-linejoin: miter\" />\n   </g>\n   <g id=\"patch_13\">\n    <path d=\"M 115.249664 54.810804  L 125.56563 54.810804  L 125.56563 54.810804  L 115.249664 54.810804  z \" clip-path=\"url(#pc23f6bbfe7)\" style=\"fill: #fefebb; stroke: #444443; stroke-width: 0.5; stroke-linejoin: miter\" />\n   </g>\n   <g id=\"patch_14\">\n    <path d=\"M 125.56563 54.810804  L 135.881597 54.810804  L 135.881597 54.810804  L 125.56563 54.810804  z \" clip-path=\"url(#pc23f6bbfe7)\" style=\"fill: #fefebb; stroke: #444443; stroke-width: 0.5; stroke-linejoin: miter\" />\n   </g>\n   <g id=\"patch_15\">\n    <path d=\"M 135.881597 54.810804  L 146.197563 54.810804  L 146.197563 54.810804  L 135.881597 54.810804  z \" clip-path=\"url(#pc23f6bbfe7)\" style=\"fill: #fefebb; stroke: #444443; stroke-width: 0.5; stroke-linejoin: miter\" />\n   </g>\n   <g id=\"patch_16\">\n    <path d=\"M 146.197563 54.810804  L 156.513529 54.810804  L 156.513529 54.810804  L 146.197563 54.810804  z \" clip-path=\"url(#pc23f6bbfe7)\" style=\"fill: #fefebb; stroke: #444443; stroke-width: 0.5; stroke-linejoin: miter\" />\n   </g>\n   <g id=\"patch_17\">\n    <path d=\"M 156.513529 54.810804  L 166.829496 54.810804  L 166.829496 54.810804  L 156.513529 54.810804  z \" clip-path=\"url(#pc23f6bbfe7)\" style=\"fill: #fefebb; stroke: #444443; stroke-width: 0.5; stroke-linejoin: miter\" />\n   </g>\n   <g id=\"patch_18\">\n    <path d=\"M 166.829496 54.810804  L 177.145462 54.810804  L 177.145462 54.810804  L 166.829496 54.810804  z \" clip-path=\"url(#pc23f6bbfe7)\" style=\"fill: #fefebb; stroke: #444443; stroke-width: 0.5; stroke-linejoin: miter\" />\n   </g>\n   <g id=\"patch_19\">\n    <path d=\"M 177.145462 54.810804  L 187.461429 54.810804  L 187.461429 54.810804  L 177.145462 54.810804  z \" clip-path=\"url(#pc23f6bbfe7)\" style=\"fill: #fefebb; stroke: #444443; stroke-width: 0.5; stroke-linejoin: miter\" />\n   </g>\n   <g id=\"patch_20\">\n    <path d=\"M 12.09 54.810804  L 22.405966 54.810804  L 22.405966 54.810804  L 12.09 54.810804  z \" clip-path=\"url(#pc23f6bbfe7)\" style=\"fill: #d9e6f5; stroke: #444443; stroke-width: 0.5; stroke-linejoin: miter\" />\n   </g>\n   <g id=\"patch_21\">\n    <path d=\"M 22.405966 54.810804  L 32.721933 54.810804  L 32.721933 54.810804  L 22.405966 54.810804  z \" clip-path=\"url(#pc23f6bbfe7)\" style=\"fill: #d9e6f5; stroke: #444443; stroke-width: 0.5; stroke-linejoin: miter\" />\n   </g>\n   <g id=\"patch_22\">\n    <path d=\"M 32.721933 54.810804  L 43.037899 54.810804  L 43.037899 54.810804  L 32.721933 54.810804  z \" clip-path=\"url(#pc23f6bbfe7)\" style=\"fill: #d9e6f5; stroke: #444443; stroke-width: 0.5; stroke-linejoin: miter\" />\n   </g>\n   <g id=\"patch_23\">\n    <path d=\"M 43.037899 54.810804  L 53.353866 54.810804  L 53.353866 54.810804  L 43.037899 54.810804  z \" clip-path=\"url(#pc23f6bbfe7)\" style=\"fill: #d9e6f5; stroke: #444443; stroke-width: 0.5; stroke-linejoin: miter\" />\n   </g>\n   <g id=\"patch_24\">\n    <path d=\"M 53.353866 54.810804  L 63.669832 54.810804  L 63.669832 54.810804  L 53.353866 54.810804  z \" clip-path=\"url(#pc23f6bbfe7)\" style=\"fill: #d9e6f5; stroke: #444443; stroke-width: 0.5; stroke-linejoin: miter\" />\n   </g>\n   <g id=\"patch_25\">\n    <path d=\"M 63.669832 28.925089  L 73.985798 28.925089  L 73.985798 28.925089  L 63.669832 28.925089  z \" clip-path=\"url(#pc23f6bbfe7)\" style=\"fill: #d9e6f5; stroke: #444443; stroke-width: 0.5; stroke-linejoin: miter\" />\n   </g>\n   <g id=\"patch_26\">\n    <path d=\"M 73.985798 54.810804  L 84.301765 54.810804  L 84.301765 54.810804  L 73.985798 54.810804  z \" clip-path=\"url(#pc23f6bbfe7)\" style=\"fill: #d9e6f5; stroke: #444443; stroke-width: 0.5; stroke-linejoin: miter\" />\n   </g>\n   <g id=\"patch_27\">\n    <path d=\"M 84.301765 54.810804  L 94.617731 54.810804  L 94.617731 54.810804  L 84.301765 54.810804  z \" clip-path=\"url(#pc23f6bbfe7)\" style=\"fill: #d9e6f5; stroke: #444443; stroke-width: 0.5; stroke-linejoin: miter\" />\n   </g>\n   <g id=\"patch_28\">\n    <path d=\"M 94.617731 54.810804  L 104.933697 54.810804  L 104.933697 54.810804  L 94.617731 54.810804  z \" clip-path=\"url(#pc23f6bbfe7)\" style=\"fill: #d9e6f5; stroke: #444443; stroke-width: 0.5; stroke-linejoin: miter\" />\n   </g>\n   <g id=\"patch_29\">\n    <path d=\"M 104.933697 54.810804  L 115.249664 54.810804  L 115.249664 54.810804  L 104.933697 54.810804  z \" clip-path=\"url(#pc23f6bbfe7)\" style=\"fill: #d9e6f5; stroke: #444443; stroke-width: 0.5; stroke-linejoin: miter\" />\n   </g>\n   <g id=\"patch_30\">\n    <path d=\"M 115.249664 54.810804  L 125.56563 54.810804  L 125.56563 54.810804  L 115.249664 54.810804  z \" clip-path=\"url(#pc23f6bbfe7)\" style=\"fill: #d9e6f5; stroke: #444443; stroke-width: 0.5; stroke-linejoin: miter\" />\n   </g>\n   <g id=\"patch_31\">\n    <path d=\"M 125.56563 54.810804  L 135.881597 54.810804  L 135.881597 54.810804  L 125.56563 54.810804  z \" clip-path=\"url(#pc23f6bbfe7)\" style=\"fill: #d9e6f5; stroke: #444443; stroke-width: 0.5; stroke-linejoin: miter\" />\n   </g>\n   <g id=\"patch_32\">\n    <path d=\"M 135.881597 54.810804  L 146.197563 54.810804  L 146.197563 54.810804  L 135.881597 54.810804  z \" clip-path=\"url(#pc23f6bbfe7)\" style=\"fill: #d9e6f5; stroke: #444443; stroke-width: 0.5; stroke-linejoin: miter\" />\n   </g>\n   <g id=\"patch_33\">\n    <path d=\"M 146.197563 54.810804  L 156.513529 54.810804  L 156.513529 54.810804  L 146.197563 54.810804  z \" clip-path=\"url(#pc23f6bbfe7)\" style=\"fill: #d9e6f5; stroke: #444443; stroke-width: 0.5; stroke-linejoin: miter\" />\n   </g>\n   <g id=\"patch_34\">\n    <path d=\"M 156.513529 54.810804  L 166.829496 54.810804  L 166.829496 54.810804  L 156.513529 54.810804  z \" clip-path=\"url(#pc23f6bbfe7)\" style=\"fill: #d9e6f5; stroke: #444443; stroke-width: 0.5; stroke-linejoin: miter\" />\n   </g>\n   <g id=\"patch_35\">\n    <path d=\"M 166.829496 54.810804  L 177.145462 54.810804  L 177.145462 54.810804  L 166.829496 54.810804  z \" clip-path=\"url(#pc23f6bbfe7)\" style=\"fill: #d9e6f5; stroke: #444443; stroke-width: 0.5; stroke-linejoin: miter\" />\n   </g>\n   <g id=\"patch_36\">\n    <path d=\"M 177.145462 54.810804  L 187.461429 54.810804  L 187.461429 54.810804  L 177.145462 54.810804  z \" clip-path=\"url(#pc23f6bbfe7)\" style=\"fill: #d9e6f5; stroke: #444443; stroke-width: 0.5; stroke-linejoin: miter\" />\n   </g>\n   <g id=\"patch_37\">\n    <path d=\"M 12.09 54.810804  L 22.405966 54.810804  L 22.405966 54.810804  L 12.09 54.810804  z \" clip-path=\"url(#pc23f6bbfe7)\" style=\"fill: #a1dab4; stroke: #444443; stroke-width: 0.5; stroke-linejoin: miter\" />\n   </g>\n   <g id=\"patch_38\">\n    <path d=\"M 22.405966 54.810804  L 32.721933 54.810804  L 32.721933 54.810804  L 22.405966 54.810804  z \" clip-path=\"url(#pc23f6bbfe7)\" style=\"fill: #a1dab4; stroke: #444443; stroke-width: 0.5; stroke-linejoin: miter\" />\n   </g>\n   <g id=\"patch_39\">\n    <path d=\"M 32.721933 54.810804  L 43.037899 54.810804  L 43.037899 54.810804  L 32.721933 54.810804  z \" clip-path=\"url(#pc23f6bbfe7)\" style=\"fill: #a1dab4; stroke: #444443; stroke-width: 0.5; stroke-linejoin: miter\" />\n   </g>\n   <g id=\"patch_40\">\n    <path d=\"M 43.037899 54.810804  L 53.353866 54.810804  L 53.353866 54.810804  L 43.037899 54.810804  z \" clip-path=\"url(#pc23f6bbfe7)\" style=\"fill: #a1dab4; stroke: #444443; stroke-width: 0.5; stroke-linejoin: miter\" />\n   </g>\n   <g id=\"patch_41\">\n    <path d=\"M 53.353866 54.810804  L 63.669832 54.810804  L 63.669832 54.810804  L 53.353866 54.810804  z \" clip-path=\"url(#pc23f6bbfe7)\" style=\"fill: #a1dab4; stroke: #444443; stroke-width: 0.5; stroke-linejoin: miter\" />\n   </g>\n   <g id=\"patch_42\">\n    <path d=\"M 63.669832 28.925089  L 73.985798 28.925089  L 73.985798 28.925089  L 63.669832 28.925089  z \" clip-path=\"url(#pc23f6bbfe7)\" style=\"fill: #a1dab4; stroke: #444443; stroke-width: 0.5; stroke-linejoin: miter\" />\n   </g>\n   <g id=\"patch_43\">\n    <path d=\"M 73.985798 54.810804  L 84.301765 54.810804  L 84.301765 54.810804  L 73.985798 54.810804  z \" clip-path=\"url(#pc23f6bbfe7)\" style=\"fill: #a1dab4; stroke: #444443; stroke-width: 0.5; stroke-linejoin: miter\" />\n   </g>\n   <g id=\"patch_44\">\n    <path d=\"M 84.301765 54.810804  L 94.617731 54.810804  L 94.617731 54.810804  L 84.301765 54.810804  z \" clip-path=\"url(#pc23f6bbfe7)\" style=\"fill: #a1dab4; stroke: #444443; stroke-width: 0.5; stroke-linejoin: miter\" />\n   </g>\n   <g id=\"patch_45\">\n    <path d=\"M 94.617731 54.810804  L 104.933697 54.810804  L 104.933697 54.810804  L 94.617731 54.810804  z \" clip-path=\"url(#pc23f6bbfe7)\" style=\"fill: #a1dab4; stroke: #444443; stroke-width: 0.5; stroke-linejoin: miter\" />\n   </g>\n   <g id=\"patch_46\">\n    <path d=\"M 104.933697 54.810804  L 115.249664 54.810804  L 115.249664 54.810804  L 104.933697 54.810804  z \" clip-path=\"url(#pc23f6bbfe7)\" style=\"fill: #a1dab4; stroke: #444443; stroke-width: 0.5; stroke-linejoin: miter\" />\n   </g>\n   <g id=\"patch_47\">\n    <path d=\"M 115.249664 54.810804  L 125.56563 54.810804  L 125.56563 54.810804  L 115.249664 54.810804  z \" clip-path=\"url(#pc23f6bbfe7)\" style=\"fill: #a1dab4; stroke: #444443; stroke-width: 0.5; stroke-linejoin: miter\" />\n   </g>\n   <g id=\"patch_48\">\n    <path d=\"M 125.56563 54.810804  L 135.881597 54.810804  L 135.881597 3.039375  L 125.56563 3.039375  z \" clip-path=\"url(#pc23f6bbfe7)\" style=\"fill: #a1dab4; stroke: #444443; stroke-width: 0.5; stroke-linejoin: miter\" />\n   </g>\n   <g id=\"patch_49\">\n    <path d=\"M 135.881597 54.810804  L 146.197563 54.810804  L 146.197563 54.810804  L 135.881597 54.810804  z \" clip-path=\"url(#pc23f6bbfe7)\" style=\"fill: #a1dab4; stroke: #444443; stroke-width: 0.5; stroke-linejoin: miter\" />\n   </g>\n   <g id=\"patch_50\">\n    <path d=\"M 146.197563 54.810804  L 156.513529 54.810804  L 156.513529 54.810804  L 146.197563 54.810804  z \" clip-path=\"url(#pc23f6bbfe7)\" style=\"fill: #a1dab4; stroke: #444443; stroke-width: 0.5; stroke-linejoin: miter\" />\n   </g>\n   <g id=\"patch_51\">\n    <path d=\"M 156.513529 54.810804  L 166.829496 54.810804  L 166.829496 54.810804  L 156.513529 54.810804  z \" clip-path=\"url(#pc23f6bbfe7)\" style=\"fill: #a1dab4; stroke: #444443; stroke-width: 0.5; stroke-linejoin: miter\" />\n   </g>\n   <g id=\"patch_52\">\n    <path d=\"M 166.829496 54.810804  L 177.145462 54.810804  L 177.145462 54.810804  L 166.829496 54.810804  z \" clip-path=\"url(#pc23f6bbfe7)\" style=\"fill: #a1dab4; stroke: #444443; stroke-width: 0.5; stroke-linejoin: miter\" />\n   </g>\n   <g id=\"patch_53\">\n    <path d=\"M 177.145462 54.810804  L 187.461429 54.810804  L 187.461429 54.810804  L 177.145462 54.810804  z \" clip-path=\"url(#pc23f6bbfe7)\" style=\"fill: #a1dab4; stroke: #444443; stroke-width: 0.5; stroke-linejoin: miter\" />\n   </g>\n   <g id=\"patch_54\">\n    <path d=\"M 99.775714 55.626204  L 96.461194 62.964804  L 103.090234 62.964804  z \" style=\"fill: #444443\" />\n   </g>\n   <g id=\"matplotlib.axis_1\">\n    <g id=\"xtick_1\">\n     <g id=\"line2d_1\">\n      <defs>\n       <path id=\"mc5044a0bf5\" d=\"M 0 0  L 0 3.5  \" style=\"stroke: #000000; stroke-width: 0.3\" />\n      </defs>\n      <g>\n       <use xlink:href=\"#mc5044a0bf5\" x=\"12.09\" y=\"54.810804\" style=\"stroke: #000000; stroke-width: 0.3\" />\n      </g>\n     </g>\n     <g id=\"text_1\">\n      \n      <g style=\"fill: #444443\" transform=\"translate(9.545 67.889554)scale(0.08 -0.08)\">\n       <defs>\n        <path id=\"DejaVuSans-30\" d=\"M 2034 4250  Q 1547 4250 1301 3770  Q 1056 3291 1056 2328  Q 1056 1369 1301 889  Q 1547 409 2034 409  Q 2525 409 2770 889  Q 3016 1369 3016 2328  Q 3016 3291 2770 3770  Q 2525 4250 2034 4250  z M 2034 4750  Q 2819 4750 3233 4129  Q 3647 3509 3647 2328  Q 3647 1150 3233 529  Q 2819 -91 2034 -91  Q 1250 -91 836 529  Q 422 1150 422 2328  Q 422 3509 836 4129  Q 1250 4750 2034 4750  z \" transform=\"scale(0.015625)\" />\n       </defs>\n       <use xlink:href=\"#DejaVuSans-30\" />\n      </g>\n     </g>\n    </g>\n    <g id=\"xtick_2\">\n     <g id=\"line2d_2\">\n      <g>\n       <use xlink:href=\"#mc5044a0bf5\" x=\"187.461429\" y=\"54.810804\" style=\"stroke: #000000; stroke-width: 0.3\" />\n      </g>\n     </g>\n     <g id=\"text_2\">\n      \n      <g style=\"fill: #444443\" transform=\"translate(184.916429 67.889554)scale(0.08 -0.08)\">\n       <defs>\n        <path id=\"DejaVuSans-33\" d=\"M 2597 2516  Q 3050 2419 3304 2112  Q 3559 1806 3559 1356  Q 3559 666 3084 287  Q 2609 -91 1734 -91  Q 1441 -91 1130 -33  Q 819 25 488 141  L 488 750  Q 750 597 1062 519  Q 1375 441 1716 441  Q 2309 441 2620 675  Q 2931 909 2931 1356  Q 2931 1769 2642 2001  Q 2353 2234 1838 2234  L 1294 2234  L 1294 2753  L 1863 2753  Q 2328 2753 2575 2939  Q 2822 3125 2822 3475  Q 2822 3834 2567 4026  Q 2313 4219 1838 4219  Q 1578 4219 1281 4162  Q 984 4106 628 3988  L 628 4550  Q 988 4650 1302 4700  Q 1616 4750 1894 4750  Q 2613 4750 3031 4423  Q 3450 4097 3450 3541  Q 3450 3153 3228 2886  Q 3006 2619 2597 2516  z \" transform=\"scale(0.015625)\" />\n       </defs>\n       <use xlink:href=\"#DejaVuSans-33\" />\n      </g>\n     </g>\n    </g>\n    <g id=\"text_3\">\n     \n     <g style=\"fill: #444443\" transform=\"translate(89.817188 82.142679)scale(0.12 -0.12)\">\n      <defs>\n       <path id=\"ArialMT-4e\" d=\"M 488 0  L 488 4581  L 1109 4581  L 3516 984  L 3516 4581  L 4097 4581  L 4097 0  L 3475 0  L 1069 3600  L 1069 0  L 488 0  z \" transform=\"scale(0.015625)\" />\n       <path id=\"ArialMT-6f\" d=\"M 213 1659  Q 213 2581 725 3025  Q 1153 3394 1769 3394  Q 2453 3394 2887 2945  Q 3322 2497 3322 1706  Q 3322 1066 3130 698  Q 2938 331 2570 128  Q 2203 -75 1769 -75  Q 1072 -75 642 372  Q 213 819 213 1659  z M 791 1659  Q 791 1022 1069 705  Q 1347 388 1769 388  Q 2188 388 2466 706  Q 2744 1025 2744 1678  Q 2744 2294 2464 2611  Q 2184 2928 1769 2928  Q 1347 2928 1069 2612  Q 791 2297 791 1659  z \" transform=\"scale(0.015625)\" />\n       <path id=\"ArialMT-6e\" d=\"M 422 0  L 422 3319  L 928 3319  L 928 2847  Q 1294 3394 1984 3394  Q 2284 3394 2536 3286  Q 2788 3178 2913 3003  Q 3038 2828 3088 2588  Q 3119 2431 3119 2041  L 3119 0  L 2556 0  L 2556 2019  Q 2556 2363 2490 2533  Q 2425 2703 2258 2804  Q 2091 2906 1866 2906  Q 1506 2906 1245 2678  Q 984 2450 984 1813  L 984 0  L 422 0  z \" transform=\"scale(0.015625)\" />\n       <path id=\"ArialMT-65\" d=\"M 2694 1069  L 3275 997  Q 3138 488 2766 206  Q 2394 -75 1816 -75  Q 1088 -75 661 373  Q 234 822 234 1631  Q 234 2469 665 2931  Q 1097 3394 1784 3394  Q 2450 3394 2872 2941  Q 3294 2488 3294 1666  Q 3294 1616 3291 1516  L 816 1516  Q 847 969 1125 678  Q 1403 388 1819 388  Q 2128 388 2347 550  Q 2566 713 2694 1069  z M 847 1978  L 2700 1978  Q 2663 2397 2488 2606  Q 2219 2931 1791 2931  Q 1403 2931 1139 2672  Q 875 2413 847 1978  z \" transform=\"scale(0.015625)\" />\n      </defs>\n      <use xlink:href=\"#ArialMT-4e\" />\n      <use xlink:href=\"#ArialMT-6f\" x=\"72.216797\" />\n      <use xlink:href=\"#ArialMT-6e\" x=\"127.832031\" />\n      <use xlink:href=\"#ArialMT-65\" x=\"183.447266\" />\n     </g>\n    </g>\n   </g>\n   <g id=\"matplotlib.axis_2\">\n    <g id=\"ytick_1\">\n     <g id=\"line2d_3\">\n      <defs>\n       <path id=\"m34355d8724\" d=\"M 0 0  L -3.5 0  \" style=\"stroke: #000000; stroke-width: 0.3\" />\n      </defs>\n      <g>\n       <use xlink:href=\"#m34355d8724\" x=\"12.09\" y=\"54.810804\" style=\"stroke: #000000; stroke-width: 0.3\" />\n      </g>\n     </g>\n     <g id=\"text_4\">\n      \n      <g style=\"fill: #444443\" transform=\"translate(0 57.850179)scale(0.08 -0.08)\">\n       <use xlink:href=\"#DejaVuSans-30\" />\n      </g>\n     </g>\n    </g>\n    <g id=\"ytick_2\">\n     <g id=\"line2d_4\">\n      <g>\n       <use xlink:href=\"#m34355d8724\" x=\"12.09\" y=\"3.039375\" style=\"stroke: #000000; stroke-width: 0.3\" />\n      </g>\n     </g>\n     <g id=\"text_5\">\n      \n      <g style=\"fill: #444443\" transform=\"translate(0 6.07875)scale(0.08 -0.08)\">\n       <defs>\n        <path id=\"DejaVuSans-32\" d=\"M 1228 531  L 3431 531  L 3431 0  L 469 0  L 469 531  Q 828 903 1448 1529  Q 2069 2156 2228 2338  Q 2531 2678 2651 2914  Q 2772 3150 2772 3378  Q 2772 3750 2511 3984  Q 2250 4219 1831 4219  Q 1534 4219 1204 4116  Q 875 4013 500 3803  L 500 4441  Q 881 4594 1212 4672  Q 1544 4750 1819 4750  Q 2544 4750 2975 4387  Q 3406 4025 3406 3419  Q 3406 3131 3298 2873  Q 3191 2616 2906 2266  Q 2828 2175 2409 1742  Q 1991 1309 1228 531  z \" transform=\"scale(0.015625)\" />\n       </defs>\n       <use xlink:href=\"#DejaVuSans-32\" />\n      </g>\n     </g>\n    </g>\n   </g>\n   <g id=\"patch_55\">\n    <path d=\"M 12.09 54.810804  L 12.09 0.450804  \" style=\"fill: none; stroke: #000000; stroke-width: 0.3; stroke-linejoin: miter; stroke-linecap: square\" />\n   </g>\n   <g id=\"patch_56\">\n    <path d=\"M 12.09 54.810804  L 196.23 54.810804  \" style=\"fill: none; stroke: #000000; stroke-width: 0.3; stroke-linejoin: miter; stroke-linecap: square\" />\n   </g>\n   <g id=\"text_6\">\n    \n    <g style=\"fill: #444443\" transform=\"translate(91.991339 71.118804)scale(0.08 -0.08)\">\n     <defs>\n      <path id=\"ArialMT-31\" d=\"M 2384 0  L 1822 0  L 1822 3584  Q 1619 3391 1289 3197  Q 959 3003 697 2906  L 697 3450  Q 1169 3672 1522 3987  Q 1875 4303 2022 4600  L 2384 4600  L 2384 0  z \" transform=\"scale(0.015625)\" />\n      <path id=\"ArialMT-2e\" d=\"M 581 0  L 581 641  L 1222 641  L 1222 0  L 581 0  z \" transform=\"scale(0.015625)\" />\n      <path id=\"ArialMT-35\" d=\"M 266 1200  L 856 1250  Q 922 819 1161 601  Q 1400 384 1738 384  Q 2144 384 2425 690  Q 2706 997 2706 1503  Q 2706 1984 2436 2262  Q 2166 2541 1728 2541  Q 1456 2541 1237 2417  Q 1019 2294 894 2097  L 366 2166  L 809 4519  L 3088 4519  L 3088 3981  L 1259 3981  L 1013 2750  Q 1425 3038 1878 3038  Q 2478 3038 2890 2622  Q 3303 2206 3303 1553  Q 3303 931 2941 478  Q 2500 -78 1738 -78  Q 1113 -78 717 272  Q 322 622 266 1200  z \" transform=\"scale(0.015625)\" />\n      <path id=\"ArialMT-30\" d=\"M 266 2259  Q 266 3072 433 3567  Q 600 4063 929 4331  Q 1259 4600 1759 4600  Q 2128 4600 2406 4451  Q 2684 4303 2865 4023  Q 3047 3744 3150 3342  Q 3253 2941 3253 2259  Q 3253 1453 3087 958  Q 2922 463 2592 192  Q 2263 -78 1759 -78  Q 1097 -78 719 397  Q 266 969 266 2259  z M 844 2259  Q 844 1131 1108 757  Q 1372 384 1759 384  Q 2147 384 2411 759  Q 2675 1134 2675 2259  Q 2675 3391 2411 3762  Q 2147 4134 1753 4134  Q 1366 4134 1134 3806  Q 844 3388 844 2259  z \" transform=\"scale(0.015625)\" />\n     </defs>\n     <use xlink:href=\"#ArialMT-31\" />\n     <use xlink:href=\"#ArialMT-2e\" x=\"55.615234\" />\n     <use xlink:href=\"#ArialMT-35\" x=\"83.398438\" />\n     <use xlink:href=\"#ArialMT-30\" x=\"139.013672\" />\n    </g>\n   </g>\n  </g>\n </g>\n <defs>\n  <clipPath id=\"pc23f6bbfe7\">\n   <rect x=\"12.09\" y=\"0.450804\" width=\"184.14\" height=\"54.36\" />\n  </clipPath>\n </defs>\n</svg></g>\n\n\n<g id=\"node4\" class=\"node\">\n<title>leaf2</title>\n<polygon fill=\"none\" stroke=\"#444443\" stroke-width=\"0\" points=\"60,-30 31,-30 31,0 60,0 60,-30\" />\n<svg width=\"21px\" height=\"22px\" viewBox=\"0 0 28.009687 29.685009\" version=\"1.1\" preserveAspectRatio=\"xMinYMin meet\" x=\"35.5\" y=\"-26\">\n <metadata>\n  <rdf:RDF>\n   <ns2:Work>\n    <dc:type rdf:resource=\"http://purl.org/dc/dcmitype/StillImage\" />\n    <dc:date>2022-08-27T02:36:22.409931</dc:date>\n    <dc:format>image/svg+xml</dc:format>\n    <dc:creator>\n     <ns2:Agent>\n      <dc:title>Matplotlib v3.5.2, https://matplotlib.org/</dc:title>\n     </ns2:Agent>\n    </dc:creator>\n   </ns2:Work>\n  </rdf:RDF>\n </metadata>\n <defs>\n  <style type=\"text/css\">*{stroke-linejoin: round; stroke-linecap: butt}</style>\n </defs>\n <g id=\"figure_1\">\n  <g id=\"patch_1\">\n   <path d=\"M -0 29.685009  L 28.009687 29.685009  L 28.009687 0  L -0 0  L -0 29.685009  z \" style=\"fill: none\" />\n  </g>\n  <g id=\"axes_1\">\n   <g id=\"patch_2\">\n    <path d=\"M 19.742844 5.738  C 19.742844 4.984493 19.594419 4.238312 19.306065 3.542162  C 19.01771 2.846013 18.595033 2.213431 18.062222 1.680621  C 17.529412 1.147811 16.896831 0.725134 16.200681 0.436779  C 15.504531 0.148424 14.758351 -0 14.004844 -0  C 13.251336 -0 12.505156 0.148424 11.809006 0.436779  C 11.112856 0.725134 10.480275 1.147811 9.947465 1.680621  C 9.414655 2.213431 8.991978 2.846013 8.703623 3.542162  C 8.415268 4.238312 8.266844 4.984493 8.266844 5.738  C 8.266844 6.491507 8.415268 7.237688 8.703623 7.933838  C 8.991978 8.629987 9.414655 9.262569 9.947465 9.795379  C 10.480275 10.328189 11.112856 10.750866 11.809006 11.039221  C 12.505156 11.327576 13.251336 11.476 14.004844 11.476  C 14.758351 11.476 15.504531 11.327576 16.200681 11.039221  C 16.896831 10.750866 17.529412 10.328189 18.062222 9.795379  C 18.595033 9.262569 19.01771 8.629987 19.306065 7.933838  C 19.594419 7.237688 19.742844 6.491507 19.742844 5.738  M 14.004844 5.738  M 19.742844 5.738  z \" style=\"fill: #d9e6f5; stroke: #444443; stroke-width: 0.5; stroke-linejoin: miter\" />\n   </g>\n   <g id=\"text_1\">\n    \n    <g style=\"fill: #444443\" transform=\"translate(6.371719 18.377071)scale(0.09 -0.09)\">\n     <defs>\n      <path id=\"ArialMT-6e\" d=\"M 422 0  L 422 3319  L 928 3319  L 928 2847  Q 1294 3394 1984 3394  Q 2284 3394 2536 3286  Q 2788 3178 2913 3003  Q 3038 2828 3088 2588  Q 3119 2431 3119 2041  L 3119 0  L 2556 0  L 2556 2019  Q 2556 2363 2490 2533  Q 2425 2703 2258 2804  Q 2091 2906 1866 2906  Q 1506 2906 1245 2678  Q 984 2450 984 1813  L 984 0  L 422 0  z \" transform=\"scale(0.015625)\" />\n      <path id=\"ArialMT-3d\" d=\"M 3381 2694  L 356 2694  L 356 3219  L 3381 3219  L 3381 2694  z M 3381 1303  L 356 1303  L 356 1828  L 3381 1828  L 3381 1303  z \" transform=\"scale(0.015625)\" />\n      <path id=\"ArialMT-32\" d=\"M 3222 541  L 3222 0  L 194 0  Q 188 203 259 391  Q 375 700 629 1000  Q 884 1300 1366 1694  Q 2113 2306 2375 2664  Q 2638 3022 2638 3341  Q 2638 3675 2398 3904  Q 2159 4134 1775 4134  Q 1369 4134 1125 3890  Q 881 3647 878 3216  L 300 3275  Q 359 3922 746 4261  Q 1134 4600 1788 4600  Q 2447 4600 2831 4234  Q 3216 3869 3216 3328  Q 3216 3053 3103 2787  Q 2991 2522 2730 2228  Q 2469 1934 1863 1422  Q 1356 997 1212 845  Q 1069 694 975 541  L 3222 541  z \" transform=\"scale(0.015625)\" />\n     </defs>\n     <use xlink:href=\"#ArialMT-6e\" />\n     <use xlink:href=\"#ArialMT-3d\" x=\"55.615234\" />\n     <use xlink:href=\"#ArialMT-32\" x=\"114.013672\" />\n    </g>\n    \n    <g style=\"fill: #444443\" transform=\"translate(0 27.896259)scale(0.09 -0.09)\">\n     <defs>\n      <path id=\"ArialMT-63\" d=\"M 2588 1216  L 3141 1144  Q 3050 572 2676 248  Q 2303 -75 1759 -75  Q 1078 -75 664 370  Q 250 816 250 1647  Q 250 2184 428 2587  Q 606 2991 970 3192  Q 1334 3394 1763 3394  Q 2303 3394 2647 3120  Q 2991 2847 3088 2344  L 2541 2259  Q 2463 2594 2264 2762  Q 2066 2931 1784 2931  Q 1359 2931 1093 2626  Q 828 2322 828 1663  Q 828 994 1084 691  Q 1341 388 1753 388  Q 2084 388 2306 591  Q 2528 794 2588 1216  z \" transform=\"scale(0.015625)\" />\n      <path id=\"ArialMT-6c\" d=\"M 409 0  L 409 4581  L 972 4581  L 972 0  L 409 0  z \" transform=\"scale(0.015625)\" />\n      <path id=\"ArialMT-61\" d=\"M 2588 409  Q 2275 144 1986 34  Q 1697 -75 1366 -75  Q 819 -75 525 192  Q 231 459 231 875  Q 231 1119 342 1320  Q 453 1522 633 1644  Q 813 1766 1038 1828  Q 1203 1872 1538 1913  Q 2219 1994 2541 2106  Q 2544 2222 2544 2253  Q 2544 2597 2384 2738  Q 2169 2928 1744 2928  Q 1347 2928 1158 2789  Q 969 2650 878 2297  L 328 2372  Q 403 2725 575 2942  Q 747 3159 1072 3276  Q 1397 3394 1825 3394  Q 2250 3394 2515 3294  Q 2781 3194 2906 3042  Q 3031 2891 3081 2659  Q 3109 2516 3109 2141  L 3109 1391  Q 3109 606 3145 398  Q 3181 191 3288 0  L 2700 0  Q 2613 175 2588 409  z M 2541 1666  Q 2234 1541 1622 1453  Q 1275 1403 1131 1340  Q 988 1278 909 1158  Q 831 1038 831 891  Q 831 666 1001 516  Q 1172 366 1500 366  Q 1825 366 2078 508  Q 2331 650 2450 897  Q 2541 1088 2541 1459  L 2541 1666  z \" transform=\"scale(0.015625)\" />\n      <path id=\"ArialMT-73\" d=\"M 197 991  L 753 1078  Q 800 744 1014 566  Q 1228 388 1613 388  Q 2000 388 2187 545  Q 2375 703 2375 916  Q 2375 1106 2209 1216  Q 2094 1291 1634 1406  Q 1016 1563 777 1677  Q 538 1791 414 1992  Q 291 2194 291 2438  Q 291 2659 392 2848  Q 494 3038 669 3163  Q 800 3259 1026 3326  Q 1253 3394 1513 3394  Q 1903 3394 2198 3281  Q 2494 3169 2634 2976  Q 2775 2784 2828 2463  L 2278 2388  Q 2241 2644 2061 2787  Q 1881 2931 1553 2931  Q 1166 2931 1000 2803  Q 834 2675 834 2503  Q 834 2394 903 2306  Q 972 2216 1119 2156  Q 1203 2125 1616 2013  Q 2213 1853 2448 1751  Q 2684 1650 2818 1456  Q 2953 1263 2953 975  Q 2953 694 2789 445  Q 2625 197 2315 61  Q 2006 -75 1616 -75  Q 969 -75 630 194  Q 291 463 197 991  z \" transform=\"scale(0.015625)\" />\n      <path id=\"ArialMT-20\" transform=\"scale(0.015625)\" />\n      <path id=\"ArialMT-31\" d=\"M 2384 0  L 1822 0  L 1822 3584  Q 1619 3391 1289 3197  Q 959 3003 697 2906  L 697 3450  Q 1169 3672 1522 3987  Q 1875 4303 2022 4600  L 2384 4600  L 2384 0  z \" transform=\"scale(0.015625)\" />\n     </defs>\n     <use xlink:href=\"#ArialMT-63\" />\n     <use xlink:href=\"#ArialMT-6c\" x=\"50\" />\n     <use xlink:href=\"#ArialMT-61\" x=\"72.216797\" />\n     <use xlink:href=\"#ArialMT-73\" x=\"127.832031\" />\n     <use xlink:href=\"#ArialMT-73\" x=\"177.832031\" />\n     <use xlink:href=\"#ArialMT-20\" x=\"227.832031\" />\n     <use xlink:href=\"#ArialMT-31\" x=\"255.615234\" />\n    </g>\n   </g>\n  </g>\n </g>\n</svg></g>\n\n<g id=\"edge1\" class=\"edge\">\n<title>node1-&gt;leaf2</title>\n<path fill=\"none\" stroke=\"#444443\" stroke-width=\"0.3\" d=\"M65.22,-56.36C61.59,-48.94 57.69,-40.96 54.33,-34.07\" />\n<polygon fill=\"#444443\" stroke=\"#444443\" stroke-width=\"0.3\" points=\"55.53,-33.34 52.52,-30.36 53.02,-34.57 55.53,-33.34\" />\n</g>\n\n<g id=\"node5\" class=\"node\">\n<title>leaf3</title>\n<polygon fill=\"none\" stroke=\"#444443\" stroke-width=\"0\" points=\"103,-29.5 74,-29.5 74,-0.5 103,-0.5 103,-29.5\" />\n<svg width=\"21px\" height=\"21px\" viewBox=\"0 0 28.009687 28.428689\" version=\"1.1\" preserveAspectRatio=\"xMinYMin meet\" x=\"78.5\" y=\"-25\">\n <metadata>\n  <rdf:RDF>\n   <ns2:Work>\n    <dc:type rdf:resource=\"http://purl.org/dc/dcmitype/StillImage\" />\n    <dc:date>2022-08-27T02:36:22.441796</dc:date>\n    <dc:format>image/svg+xml</dc:format>\n    <dc:creator>\n     <ns2:Agent>\n      <dc:title>Matplotlib v3.5.2, https://matplotlib.org/</dc:title>\n     </ns2:Agent>\n    </dc:creator>\n   </ns2:Work>\n  </rdf:RDF>\n </metadata>\n <defs>\n  <style type=\"text/css\">*{stroke-linejoin: round; stroke-linecap: butt}</style>\n </defs>\n <g id=\"figure_1\">\n  <g id=\"patch_1\">\n   <path d=\"M 0 28.428689  L 28.009687 28.428689  L 28.009687 0  L 0 0  L 0 28.428689  z \" style=\"fill: none\" />\n  </g>\n  <g id=\"axes_1\">\n   <g id=\"patch_2\">\n    <path d=\"M 19.138844 5.134  C 19.138844 4.459809 19.006043 3.792174 18.748041 3.169303  C 18.49004 2.546432 18.111855 1.980439 17.63513 1.503714  C 17.158405 1.026989 16.592411 0.648804 15.96954 0.390802  C 15.34667 0.132801 14.679034 0 14.004844 0  C 13.330653 0 12.663018 0.132801 12.040147 0.390802  C 11.417276 0.648804 10.851282 1.026989 10.374558 1.503714  C 9.897833 1.980439 9.519648 2.546432 9.261646 3.169303  C 9.003645 3.792174 8.870844 4.459809 8.870844 5.134  C 8.870844 5.808191 9.003645 6.475826 9.261646 7.098697  C 9.519648 7.721568 9.897833 8.287561 10.374558 8.764286  C 10.851282 9.241011 11.417276 9.619196 12.040147 9.877198  C 12.663018 10.135199 13.330653 10.268 14.004844 10.268  C 14.679034 10.268 15.34667 10.135199 15.96954 9.877198  C 16.592411 9.619196 17.158405 9.241011 17.63513 8.764286  C 18.111855 8.287561 18.49004 7.721568 18.748041 7.098697  C 19.006043 6.475826 19.138844 5.808191 19.138844 5.134  M 14.004844 5.134  M 19.138844 5.134  z \" style=\"fill: #fefebb; stroke: #444443; stroke-width: 0.5; stroke-linejoin: miter\" />\n   </g>\n   <g id=\"text_1\">\n    \n    <g style=\"fill: #444443\" transform=\"translate(6.371719 17.120751)scale(0.09 -0.09)\">\n     <defs>\n      <path id=\"ArialMT-6e\" d=\"M 422 0  L 422 3319  L 928 3319  L 928 2847  Q 1294 3394 1984 3394  Q 2284 3394 2536 3286  Q 2788 3178 2913 3003  Q 3038 2828 3088 2588  Q 3119 2431 3119 2041  L 3119 0  L 2556 0  L 2556 2019  Q 2556 2363 2490 2533  Q 2425 2703 2258 2804  Q 2091 2906 1866 2906  Q 1506 2906 1245 2678  Q 984 2450 984 1813  L 984 0  L 422 0  z \" transform=\"scale(0.015625)\" />\n      <path id=\"ArialMT-3d\" d=\"M 3381 2694  L 356 2694  L 356 3219  L 3381 3219  L 3381 2694  z M 3381 1303  L 356 1303  L 356 1828  L 3381 1828  L 3381 1303  z \" transform=\"scale(0.015625)\" />\n      <path id=\"ArialMT-31\" d=\"M 2384 0  L 1822 0  L 1822 3584  Q 1619 3391 1289 3197  Q 959 3003 697 2906  L 697 3450  Q 1169 3672 1522 3987  Q 1875 4303 2022 4600  L 2384 4600  L 2384 0  z \" transform=\"scale(0.015625)\" />\n     </defs>\n     <use xlink:href=\"#ArialMT-6e\" />\n     <use xlink:href=\"#ArialMT-3d\" x=\"55.615234\" />\n     <use xlink:href=\"#ArialMT-31\" x=\"114.013672\" />\n    </g>\n    \n    <g style=\"fill: #444443\" transform=\"translate(0 26.639939)scale(0.09 -0.09)\">\n     <defs>\n      <path id=\"ArialMT-63\" d=\"M 2588 1216  L 3141 1144  Q 3050 572 2676 248  Q 2303 -75 1759 -75  Q 1078 -75 664 370  Q 250 816 250 1647  Q 250 2184 428 2587  Q 606 2991 970 3192  Q 1334 3394 1763 3394  Q 2303 3394 2647 3120  Q 2991 2847 3088 2344  L 2541 2259  Q 2463 2594 2264 2762  Q 2066 2931 1784 2931  Q 1359 2931 1093 2626  Q 828 2322 828 1663  Q 828 994 1084 691  Q 1341 388 1753 388  Q 2084 388 2306 591  Q 2528 794 2588 1216  z \" transform=\"scale(0.015625)\" />\n      <path id=\"ArialMT-6c\" d=\"M 409 0  L 409 4581  L 972 4581  L 972 0  L 409 0  z \" transform=\"scale(0.015625)\" />\n      <path id=\"ArialMT-61\" d=\"M 2588 409  Q 2275 144 1986 34  Q 1697 -75 1366 -75  Q 819 -75 525 192  Q 231 459 231 875  Q 231 1119 342 1320  Q 453 1522 633 1644  Q 813 1766 1038 1828  Q 1203 1872 1538 1913  Q 2219 1994 2541 2106  Q 2544 2222 2544 2253  Q 2544 2597 2384 2738  Q 2169 2928 1744 2928  Q 1347 2928 1158 2789  Q 969 2650 878 2297  L 328 2372  Q 403 2725 575 2942  Q 747 3159 1072 3276  Q 1397 3394 1825 3394  Q 2250 3394 2515 3294  Q 2781 3194 2906 3042  Q 3031 2891 3081 2659  Q 3109 2516 3109 2141  L 3109 1391  Q 3109 606 3145 398  Q 3181 191 3288 0  L 2700 0  Q 2613 175 2588 409  z M 2541 1666  Q 2234 1541 1622 1453  Q 1275 1403 1131 1340  Q 988 1278 909 1158  Q 831 1038 831 891  Q 831 666 1001 516  Q 1172 366 1500 366  Q 1825 366 2078 508  Q 2331 650 2450 897  Q 2541 1088 2541 1459  L 2541 1666  z \" transform=\"scale(0.015625)\" />\n      <path id=\"ArialMT-73\" d=\"M 197 991  L 753 1078  Q 800 744 1014 566  Q 1228 388 1613 388  Q 2000 388 2187 545  Q 2375 703 2375 916  Q 2375 1106 2209 1216  Q 2094 1291 1634 1406  Q 1016 1563 777 1677  Q 538 1791 414 1992  Q 291 2194 291 2438  Q 291 2659 392 2848  Q 494 3038 669 3163  Q 800 3259 1026 3326  Q 1253 3394 1513 3394  Q 1903 3394 2198 3281  Q 2494 3169 2634 2976  Q 2775 2784 2828 2463  L 2278 2388  Q 2241 2644 2061 2787  Q 1881 2931 1553 2931  Q 1166 2931 1000 2803  Q 834 2675 834 2503  Q 834 2394 903 2306  Q 972 2216 1119 2156  Q 1203 2125 1616 2013  Q 2213 1853 2448 1751  Q 2684 1650 2818 1456  Q 2953 1263 2953 975  Q 2953 694 2789 445  Q 2625 197 2315 61  Q 2006 -75 1616 -75  Q 969 -75 630 194  Q 291 463 197 991  z \" transform=\"scale(0.015625)\" />\n      <path id=\"ArialMT-20\" transform=\"scale(0.015625)\" />\n      <path id=\"ArialMT-30\" d=\"M 266 2259  Q 266 3072 433 3567  Q 600 4063 929 4331  Q 1259 4600 1759 4600  Q 2128 4600 2406 4451  Q 2684 4303 2865 4023  Q 3047 3744 3150 3342  Q 3253 2941 3253 2259  Q 3253 1453 3087 958  Q 2922 463 2592 192  Q 2263 -78 1759 -78  Q 1097 -78 719 397  Q 266 969 266 2259  z M 844 2259  Q 844 1131 1108 757  Q 1372 384 1759 384  Q 2147 384 2411 759  Q 2675 1134 2675 2259  Q 2675 3391 2411 3762  Q 2147 4134 1753 4134  Q 1366 4134 1134 3806  Q 844 3388 844 2259  z \" transform=\"scale(0.015625)\" />\n     </defs>\n     <use xlink:href=\"#ArialMT-63\" />\n     <use xlink:href=\"#ArialMT-6c\" x=\"50\" />\n     <use xlink:href=\"#ArialMT-61\" x=\"72.216797\" />\n     <use xlink:href=\"#ArialMT-73\" x=\"127.832031\" />\n     <use xlink:href=\"#ArialMT-73\" x=\"177.832031\" />\n     <use xlink:href=\"#ArialMT-20\" x=\"227.832031\" />\n     <use xlink:href=\"#ArialMT-30\" x=\"255.615234\" />\n    </g>\n   </g>\n  </g>\n </g>\n</svg></g>\n\n<g id=\"edge2\" class=\"edge\">\n<title>node1-&gt;leaf3</title>\n<path fill=\"none\" stroke=\"#444443\" stroke-width=\"0.3\" d=\"M81.72,-56.36C82.99,-48.83 84.35,-40.74 85.51,-33.79\" />\n<polygon fill=\"#444443\" stroke=\"#444443\" stroke-width=\"0.3\" points=\"86.93,-33.8 86.21,-29.62 84.17,-33.33 86.93,-33.8\" />\n</g>\n\n<g id=\"node6\" class=\"node\">\n<title>leaf5</title>\n<polygon fill=\"none\" stroke=\"#444443\" stroke-width=\"0\" points=\"240,-29.5 211,-29.5 211,-0.5 240,-0.5 240,-29.5\" />\n<svg width=\"21px\" height=\"21px\" viewBox=\"0 0 28.009687 28.428689\" version=\"1.1\" preserveAspectRatio=\"xMinYMin meet\" x=\"215.5\" y=\"-25\">\n <metadata>\n  <rdf:RDF>\n   <ns2:Work>\n    <dc:type rdf:resource=\"http://purl.org/dc/dcmitype/StillImage\" />\n    <dc:date>2022-08-27T02:36:22.464498</dc:date>\n    <dc:format>image/svg+xml</dc:format>\n    <dc:creator>\n     <ns2:Agent>\n      <dc:title>Matplotlib v3.5.2, https://matplotlib.org/</dc:title>\n     </ns2:Agent>\n    </dc:creator>\n   </ns2:Work>\n  </rdf:RDF>\n </metadata>\n <defs>\n  <style type=\"text/css\">*{stroke-linejoin: round; stroke-linecap: butt}</style>\n </defs>\n <g id=\"figure_1\">\n  <g id=\"patch_1\">\n   <path d=\"M 0 28.428689  L 28.009687 28.428689  L 28.009687 0  L 0 0  L 0 28.428689  z \" style=\"fill: none\" />\n  </g>\n  <g id=\"axes_1\">\n   <g id=\"patch_2\">\n    <path d=\"M 19.138844 5.134  C 19.138844 4.459809 19.006043 3.792174 18.748041 3.169303  C 18.49004 2.546432 18.111855 1.980439 17.63513 1.503714  C 17.158405 1.026989 16.592411 0.648804 15.96954 0.390802  C 15.34667 0.132801 14.679034 0 14.004844 0  C 13.330653 0 12.663018 0.132801 12.040147 0.390802  C 11.417276 0.648804 10.851282 1.026989 10.374558 1.503714  C 9.897833 1.980439 9.519648 2.546432 9.261646 3.169303  C 9.003645 3.792174 8.870844 4.459809 8.870844 5.134  C 8.870844 5.808191 9.003645 6.475826 9.261646 7.098697  C 9.519648 7.721568 9.897833 8.287561 10.374558 8.764286  C 10.851282 9.241011 11.417276 9.619196 12.040147 9.877198  C 12.663018 10.135199 13.330653 10.268 14.004844 10.268  C 14.679034 10.268 15.34667 10.135199 15.96954 9.877198  C 16.592411 9.619196 17.158405 9.241011 17.63513 8.764286  C 18.111855 8.287561 18.49004 7.721568 18.748041 7.098697  C 19.006043 6.475826 19.138844 5.808191 19.138844 5.134  M 14.004844 5.134  M 19.138844 5.134  z \" style=\"fill: #fefebb; stroke: #444443; stroke-width: 0.5; stroke-linejoin: miter\" />\n   </g>\n   <g id=\"text_1\">\n    \n    <g style=\"fill: #444443\" transform=\"translate(6.371719 17.120751)scale(0.09 -0.09)\">\n     <defs>\n      <path id=\"ArialMT-6e\" d=\"M 422 0  L 422 3319  L 928 3319  L 928 2847  Q 1294 3394 1984 3394  Q 2284 3394 2536 3286  Q 2788 3178 2913 3003  Q 3038 2828 3088 2588  Q 3119 2431 3119 2041  L 3119 0  L 2556 0  L 2556 2019  Q 2556 2363 2490 2533  Q 2425 2703 2258 2804  Q 2091 2906 1866 2906  Q 1506 2906 1245 2678  Q 984 2450 984 1813  L 984 0  L 422 0  z \" transform=\"scale(0.015625)\" />\n      <path id=\"ArialMT-3d\" d=\"M 3381 2694  L 356 2694  L 356 3219  L 3381 3219  L 3381 2694  z M 3381 1303  L 356 1303  L 356 1828  L 3381 1828  L 3381 1303  z \" transform=\"scale(0.015625)\" />\n      <path id=\"ArialMT-31\" d=\"M 2384 0  L 1822 0  L 1822 3584  Q 1619 3391 1289 3197  Q 959 3003 697 2906  L 697 3450  Q 1169 3672 1522 3987  Q 1875 4303 2022 4600  L 2384 4600  L 2384 0  z \" transform=\"scale(0.015625)\" />\n     </defs>\n     <use xlink:href=\"#ArialMT-6e\" />\n     <use xlink:href=\"#ArialMT-3d\" x=\"55.615234\" />\n     <use xlink:href=\"#ArialMT-31\" x=\"114.013672\" />\n    </g>\n    \n    <g style=\"fill: #444443\" transform=\"translate(0 26.639939)scale(0.09 -0.09)\">\n     <defs>\n      <path id=\"ArialMT-63\" d=\"M 2588 1216  L 3141 1144  Q 3050 572 2676 248  Q 2303 -75 1759 -75  Q 1078 -75 664 370  Q 250 816 250 1647  Q 250 2184 428 2587  Q 606 2991 970 3192  Q 1334 3394 1763 3394  Q 2303 3394 2647 3120  Q 2991 2847 3088 2344  L 2541 2259  Q 2463 2594 2264 2762  Q 2066 2931 1784 2931  Q 1359 2931 1093 2626  Q 828 2322 828 1663  Q 828 994 1084 691  Q 1341 388 1753 388  Q 2084 388 2306 591  Q 2528 794 2588 1216  z \" transform=\"scale(0.015625)\" />\n      <path id=\"ArialMT-6c\" d=\"M 409 0  L 409 4581  L 972 4581  L 972 0  L 409 0  z \" transform=\"scale(0.015625)\" />\n      <path id=\"ArialMT-61\" d=\"M 2588 409  Q 2275 144 1986 34  Q 1697 -75 1366 -75  Q 819 -75 525 192  Q 231 459 231 875  Q 231 1119 342 1320  Q 453 1522 633 1644  Q 813 1766 1038 1828  Q 1203 1872 1538 1913  Q 2219 1994 2541 2106  Q 2544 2222 2544 2253  Q 2544 2597 2384 2738  Q 2169 2928 1744 2928  Q 1347 2928 1158 2789  Q 969 2650 878 2297  L 328 2372  Q 403 2725 575 2942  Q 747 3159 1072 3276  Q 1397 3394 1825 3394  Q 2250 3394 2515 3294  Q 2781 3194 2906 3042  Q 3031 2891 3081 2659  Q 3109 2516 3109 2141  L 3109 1391  Q 3109 606 3145 398  Q 3181 191 3288 0  L 2700 0  Q 2613 175 2588 409  z M 2541 1666  Q 2234 1541 1622 1453  Q 1275 1403 1131 1340  Q 988 1278 909 1158  Q 831 1038 831 891  Q 831 666 1001 516  Q 1172 366 1500 366  Q 1825 366 2078 508  Q 2331 650 2450 897  Q 2541 1088 2541 1459  L 2541 1666  z \" transform=\"scale(0.015625)\" />\n      <path id=\"ArialMT-73\" d=\"M 197 991  L 753 1078  Q 800 744 1014 566  Q 1228 388 1613 388  Q 2000 388 2187 545  Q 2375 703 2375 916  Q 2375 1106 2209 1216  Q 2094 1291 1634 1406  Q 1016 1563 777 1677  Q 538 1791 414 1992  Q 291 2194 291 2438  Q 291 2659 392 2848  Q 494 3038 669 3163  Q 800 3259 1026 3326  Q 1253 3394 1513 3394  Q 1903 3394 2198 3281  Q 2494 3169 2634 2976  Q 2775 2784 2828 2463  L 2278 2388  Q 2241 2644 2061 2787  Q 1881 2931 1553 2931  Q 1166 2931 1000 2803  Q 834 2675 834 2503  Q 834 2394 903 2306  Q 972 2216 1119 2156  Q 1203 2125 1616 2013  Q 2213 1853 2448 1751  Q 2684 1650 2818 1456  Q 2953 1263 2953 975  Q 2953 694 2789 445  Q 2625 197 2315 61  Q 2006 -75 1616 -75  Q 969 -75 630 194  Q 291 463 197 991  z \" transform=\"scale(0.015625)\" />\n      <path id=\"ArialMT-20\" transform=\"scale(0.015625)\" />\n      <path id=\"ArialMT-30\" d=\"M 266 2259  Q 266 3072 433 3567  Q 600 4063 929 4331  Q 1259 4600 1759 4600  Q 2128 4600 2406 4451  Q 2684 4303 2865 4023  Q 3047 3744 3150 3342  Q 3253 2941 3253 2259  Q 3253 1453 3087 958  Q 2922 463 2592 192  Q 2263 -78 1759 -78  Q 1097 -78 719 397  Q 266 969 266 2259  z M 844 2259  Q 844 1131 1108 757  Q 1372 384 1759 384  Q 2147 384 2411 759  Q 2675 1134 2675 2259  Q 2675 3391 2411 3762  Q 2147 4134 1753 4134  Q 1366 4134 1134 3806  Q 844 3388 844 2259  z \" transform=\"scale(0.015625)\" />\n     </defs>\n     <use xlink:href=\"#ArialMT-63\" />\n     <use xlink:href=\"#ArialMT-6c\" x=\"50\" />\n     <use xlink:href=\"#ArialMT-61\" x=\"72.216797\" />\n     <use xlink:href=\"#ArialMT-73\" x=\"127.832031\" />\n     <use xlink:href=\"#ArialMT-73\" x=\"177.832031\" />\n     <use xlink:href=\"#ArialMT-20\" x=\"227.832031\" />\n     <use xlink:href=\"#ArialMT-30\" x=\"255.615234\" />\n    </g>\n   </g>\n  </g>\n </g>\n</svg></g>\n\n<g id=\"edge4\" class=\"edge\">\n<title>node4-&gt;leaf5</title>\n<path fill=\"none\" stroke=\"#444443\" stroke-width=\"0.3\" d=\"M235.39,-46.83C233.91,-42.23 232.45,-37.68 231.12,-33.54\" />\n<polygon fill=\"#444443\" stroke=\"#444443\" stroke-width=\"0.3\" points=\"232.4,-32.94 229.85,-29.56 229.73,-33.79 232.4,-32.94\" />\n</g>\n\n<g id=\"node7\" class=\"node\">\n<title>leaf6</title>\n<polygon fill=\"none\" stroke=\"#444443\" stroke-width=\"0\" points=\"283,-30 254,-30 254,0 283,0 283,-30\" />\n<svg width=\"21px\" height=\"22px\" viewBox=\"0 0 28.009687 29.685009\" version=\"1.1\" preserveAspectRatio=\"xMinYMin meet\" x=\"258.5\" y=\"-26\">\n <metadata>\n  <rdf:RDF>\n   <ns2:Work>\n    <dc:type rdf:resource=\"http://purl.org/dc/dcmitype/StillImage\" />\n    <dc:date>2022-08-27T02:36:22.494231</dc:date>\n    <dc:format>image/svg+xml</dc:format>\n    <dc:creator>\n     <ns2:Agent>\n      <dc:title>Matplotlib v3.5.2, https://matplotlib.org/</dc:title>\n     </ns2:Agent>\n    </dc:creator>\n   </ns2:Work>\n  </rdf:RDF>\n </metadata>\n <defs>\n  <style type=\"text/css\">*{stroke-linejoin: round; stroke-linecap: butt}</style>\n </defs>\n <g id=\"figure_1\">\n  <g id=\"patch_1\">\n   <path d=\"M -0 29.685009  L 28.009687 29.685009  L 28.009687 0  L -0 0  L -0 29.685009  z \" style=\"fill: none\" />\n  </g>\n  <g id=\"axes_1\">\n   <g id=\"patch_2\">\n    <path d=\"M 19.742844 5.738  C 19.742844 4.984493 19.594419 4.238312 19.306065 3.542162  C 19.01771 2.846013 18.595033 2.213431 18.062222 1.680621  C 17.529412 1.147811 16.896831 0.725134 16.200681 0.436779  C 15.504531 0.148424 14.758351 -0 14.004844 -0  C 13.251336 -0 12.505156 0.148424 11.809006 0.436779  C 11.112856 0.725134 10.480275 1.147811 9.947465 1.680621  C 9.414655 2.213431 8.991978 2.846013 8.703623 3.542162  C 8.415268 4.238312 8.266844 4.984493 8.266844 5.738  C 8.266844 6.491507 8.415268 7.237688 8.703623 7.933838  C 8.991978 8.629987 9.414655 9.262569 9.947465 9.795379  C 10.480275 10.328189 11.112856 10.750866 11.809006 11.039221  C 12.505156 11.327576 13.251336 11.476 14.004844 11.476  C 14.758351 11.476 15.504531 11.327576 16.200681 11.039221  C 16.896831 10.750866 17.529412 10.328189 18.062222 9.795379  C 18.595033 9.262569 19.01771 8.629987 19.306065 7.933838  C 19.594419 7.237688 19.742844 6.491507 19.742844 5.738  M 14.004844 5.738  M 19.742844 5.738  z \" style=\"fill: #a1dab4; stroke: #444443; stroke-width: 0.5; stroke-linejoin: miter\" />\n   </g>\n   <g id=\"text_1\">\n    \n    <g style=\"fill: #444443\" transform=\"translate(6.371719 18.377071)scale(0.09 -0.09)\">\n     <defs>\n      <path id=\"ArialMT-6e\" d=\"M 422 0  L 422 3319  L 928 3319  L 928 2847  Q 1294 3394 1984 3394  Q 2284 3394 2536 3286  Q 2788 3178 2913 3003  Q 3038 2828 3088 2588  Q 3119 2431 3119 2041  L 3119 0  L 2556 0  L 2556 2019  Q 2556 2363 2490 2533  Q 2425 2703 2258 2804  Q 2091 2906 1866 2906  Q 1506 2906 1245 2678  Q 984 2450 984 1813  L 984 0  L 422 0  z \" transform=\"scale(0.015625)\" />\n      <path id=\"ArialMT-3d\" d=\"M 3381 2694  L 356 2694  L 356 3219  L 3381 3219  L 3381 2694  z M 3381 1303  L 356 1303  L 356 1828  L 3381 1828  L 3381 1303  z \" transform=\"scale(0.015625)\" />\n      <path id=\"ArialMT-32\" d=\"M 3222 541  L 3222 0  L 194 0  Q 188 203 259 391  Q 375 700 629 1000  Q 884 1300 1366 1694  Q 2113 2306 2375 2664  Q 2638 3022 2638 3341  Q 2638 3675 2398 3904  Q 2159 4134 1775 4134  Q 1369 4134 1125 3890  Q 881 3647 878 3216  L 300 3275  Q 359 3922 746 4261  Q 1134 4600 1788 4600  Q 2447 4600 2831 4234  Q 3216 3869 3216 3328  Q 3216 3053 3103 2787  Q 2991 2522 2730 2228  Q 2469 1934 1863 1422  Q 1356 997 1212 845  Q 1069 694 975 541  L 3222 541  z \" transform=\"scale(0.015625)\" />\n     </defs>\n     <use xlink:href=\"#ArialMT-6e\" />\n     <use xlink:href=\"#ArialMT-3d\" x=\"55.615234\" />\n     <use xlink:href=\"#ArialMT-32\" x=\"114.013672\" />\n    </g>\n    \n    <g style=\"fill: #444443\" transform=\"translate(0 27.896259)scale(0.09 -0.09)\">\n     <defs>\n      <path id=\"ArialMT-63\" d=\"M 2588 1216  L 3141 1144  Q 3050 572 2676 248  Q 2303 -75 1759 -75  Q 1078 -75 664 370  Q 250 816 250 1647  Q 250 2184 428 2587  Q 606 2991 970 3192  Q 1334 3394 1763 3394  Q 2303 3394 2647 3120  Q 2991 2847 3088 2344  L 2541 2259  Q 2463 2594 2264 2762  Q 2066 2931 1784 2931  Q 1359 2931 1093 2626  Q 828 2322 828 1663  Q 828 994 1084 691  Q 1341 388 1753 388  Q 2084 388 2306 591  Q 2528 794 2588 1216  z \" transform=\"scale(0.015625)\" />\n      <path id=\"ArialMT-6c\" d=\"M 409 0  L 409 4581  L 972 4581  L 972 0  L 409 0  z \" transform=\"scale(0.015625)\" />\n      <path id=\"ArialMT-61\" d=\"M 2588 409  Q 2275 144 1986 34  Q 1697 -75 1366 -75  Q 819 -75 525 192  Q 231 459 231 875  Q 231 1119 342 1320  Q 453 1522 633 1644  Q 813 1766 1038 1828  Q 1203 1872 1538 1913  Q 2219 1994 2541 2106  Q 2544 2222 2544 2253  Q 2544 2597 2384 2738  Q 2169 2928 1744 2928  Q 1347 2928 1158 2789  Q 969 2650 878 2297  L 328 2372  Q 403 2725 575 2942  Q 747 3159 1072 3276  Q 1397 3394 1825 3394  Q 2250 3394 2515 3294  Q 2781 3194 2906 3042  Q 3031 2891 3081 2659  Q 3109 2516 3109 2141  L 3109 1391  Q 3109 606 3145 398  Q 3181 191 3288 0  L 2700 0  Q 2613 175 2588 409  z M 2541 1666  Q 2234 1541 1622 1453  Q 1275 1403 1131 1340  Q 988 1278 909 1158  Q 831 1038 831 891  Q 831 666 1001 516  Q 1172 366 1500 366  Q 1825 366 2078 508  Q 2331 650 2450 897  Q 2541 1088 2541 1459  L 2541 1666  z \" transform=\"scale(0.015625)\" />\n      <path id=\"ArialMT-73\" d=\"M 197 991  L 753 1078  Q 800 744 1014 566  Q 1228 388 1613 388  Q 2000 388 2187 545  Q 2375 703 2375 916  Q 2375 1106 2209 1216  Q 2094 1291 1634 1406  Q 1016 1563 777 1677  Q 538 1791 414 1992  Q 291 2194 291 2438  Q 291 2659 392 2848  Q 494 3038 669 3163  Q 800 3259 1026 3326  Q 1253 3394 1513 3394  Q 1903 3394 2198 3281  Q 2494 3169 2634 2976  Q 2775 2784 2828 2463  L 2278 2388  Q 2241 2644 2061 2787  Q 1881 2931 1553 2931  Q 1166 2931 1000 2803  Q 834 2675 834 2503  Q 834 2394 903 2306  Q 972 2216 1119 2156  Q 1203 2125 1616 2013  Q 2213 1853 2448 1751  Q 2684 1650 2818 1456  Q 2953 1263 2953 975  Q 2953 694 2789 445  Q 2625 197 2315 61  Q 2006 -75 1616 -75  Q 969 -75 630 194  Q 291 463 197 991  z \" transform=\"scale(0.015625)\" />\n      <path id=\"ArialMT-20\" transform=\"scale(0.015625)\" />\n     </defs>\n     <use xlink:href=\"#ArialMT-63\" />\n     <use xlink:href=\"#ArialMT-6c\" x=\"50\" />\n     <use xlink:href=\"#ArialMT-61\" x=\"72.216797\" />\n     <use xlink:href=\"#ArialMT-73\" x=\"127.832031\" />\n     <use xlink:href=\"#ArialMT-73\" x=\"177.832031\" />\n     <use xlink:href=\"#ArialMT-20\" x=\"227.832031\" />\n     <use xlink:href=\"#ArialMT-32\" x=\"255.615234\" />\n    </g>\n   </g>\n  </g>\n </g>\n</svg></g>\n\n<g id=\"edge5\" class=\"edge\">\n<title>node4-&gt;leaf6</title>\n<path fill=\"none\" stroke=\"#444443\" stroke-width=\"0.3\" d=\"M258.14,-46.83C259.63,-42.41 261.1,-38.04 262.44,-34.04\" />\n<polygon fill=\"#444443\" stroke=\"#444443\" stroke-width=\"0.3\" points=\"263.79,-34.41 263.74,-30.17 261.14,-33.52 263.79,-34.41\" />\n</g>\n\n<g id=\"node3\" class=\"node\">\n<title>node0</title>\n<svg width=\"147px\" height=\"83px\" viewBox=\"0 0 196.23 111.256875\" version=\"1.1\" preserveAspectRatio=\"xMinYMin meet\" x=\"88.5\" y=\"-235.5\">\n <metadata>\n  <rdf:RDF>\n   <ns2:Work>\n    <dc:type rdf:resource=\"http://purl.org/dc/dcmitype/StillImage\" />\n    <dc:date>2022-08-27T02:36:22.363945</dc:date>\n    <dc:format>image/svg+xml</dc:format>\n    <dc:creator>\n     <ns2:Agent>\n      <dc:title>Matplotlib v3.5.2, https://matplotlib.org/</dc:title>\n     </ns2:Agent>\n    </dc:creator>\n   </ns2:Work>\n  </rdf:RDF>\n </metadata>\n <defs>\n  <style type=\"text/css\">*{stroke-linejoin: round; stroke-linecap: butt}</style>\n </defs>\n <g id=\"figure_1\">\n  <g id=\"patch_1\">\n   <path d=\"M 0 111.256875  L 196.23 111.256875  L 196.23 0  L 0 0  L 0 111.256875  z \" style=\"fill: none\" />\n  </g>\n  <g id=\"axes_1\">\n   <g id=\"patch_2\">\n    <path d=\"M 12.09 81.54  L 196.23 81.54  L 196.23 0  L 12.09 0  z \" style=\"fill: #ffffff\" />\n   </g>\n   <g id=\"patch_3\">\n    <path d=\"M 12.09 81.54  L 22.405966 81.54  L 22.405966 55.654286  L 12.09 55.654286  z \" clip-path=\"url(#p6813a804ab)\" style=\"fill: #fefebb; stroke: #444443; stroke-width: 0.5; stroke-linejoin: miter\" />\n   </g>\n   <g id=\"patch_4\">\n    <path d=\"M 22.405966 81.54  L 32.721933 81.54  L 32.721933 81.54  L 22.405966 81.54  z \" clip-path=\"url(#p6813a804ab)\" style=\"fill: #fefebb; stroke: #444443; stroke-width: 0.5; stroke-linejoin: miter\" />\n   </g>\n   <g id=\"patch_5\">\n    <path d=\"M 32.721933 81.54  L 43.037899 81.54  L 43.037899 81.54  L 32.721933 81.54  z \" clip-path=\"url(#p6813a804ab)\" style=\"fill: #fefebb; stroke: #444443; stroke-width: 0.5; stroke-linejoin: miter\" />\n   </g>\n   <g id=\"patch_6\">\n    <path d=\"M 43.037899 81.54  L 53.353866 81.54  L 53.353866 81.54  L 43.037899 81.54  z \" clip-path=\"url(#p6813a804ab)\" style=\"fill: #fefebb; stroke: #444443; stroke-width: 0.5; stroke-linejoin: miter\" />\n   </g>\n   <g id=\"patch_7\">\n    <path d=\"M 53.353866 81.54  L 63.669832 81.54  L 63.669832 81.54  L 53.353866 81.54  z \" clip-path=\"url(#p6813a804ab)\" style=\"fill: #fefebb; stroke: #444443; stroke-width: 0.5; stroke-linejoin: miter\" />\n   </g>\n   <g id=\"patch_8\">\n    <path d=\"M 63.669832 81.54  L 73.985798 81.54  L 73.985798 81.54  L 63.669832 81.54  z \" clip-path=\"url(#p6813a804ab)\" style=\"fill: #fefebb; stroke: #444443; stroke-width: 0.5; stroke-linejoin: miter\" />\n   </g>\n   <g id=\"patch_9\">\n    <path d=\"M 73.985798 81.54  L 84.301765 81.54  L 84.301765 81.54  L 73.985798 81.54  z \" clip-path=\"url(#p6813a804ab)\" style=\"fill: #fefebb; stroke: #444443; stroke-width: 0.5; stroke-linejoin: miter\" />\n   </g>\n   <g id=\"patch_10\">\n    <path d=\"M 84.301765 81.54  L 94.617731 81.54  L 94.617731 81.54  L 84.301765 81.54  z \" clip-path=\"url(#p6813a804ab)\" style=\"fill: #fefebb; stroke: #444443; stroke-width: 0.5; stroke-linejoin: miter\" />\n   </g>\n   <g id=\"patch_11\">\n    <path d=\"M 94.617731 81.54  L 104.933697 81.54  L 104.933697 81.54  L 94.617731 81.54  z \" clip-path=\"url(#p6813a804ab)\" style=\"fill: #fefebb; stroke: #444443; stroke-width: 0.5; stroke-linejoin: miter\" />\n   </g>\n   <g id=\"patch_12\">\n    <path d=\"M 104.933697 81.54  L 115.249664 81.54  L 115.249664 81.54  L 104.933697 81.54  z \" clip-path=\"url(#p6813a804ab)\" style=\"fill: #fefebb; stroke: #444443; stroke-width: 0.5; stroke-linejoin: miter\" />\n   </g>\n   <g id=\"patch_13\">\n    <path d=\"M 115.249664 81.54  L 125.56563 81.54  L 125.56563 81.54  L 115.249664 81.54  z \" clip-path=\"url(#p6813a804ab)\" style=\"fill: #fefebb; stroke: #444443; stroke-width: 0.5; stroke-linejoin: miter\" />\n   </g>\n   <g id=\"patch_14\">\n    <path d=\"M 125.56563 81.54  L 135.881597 81.54  L 135.881597 81.54  L 125.56563 81.54  z \" clip-path=\"url(#p6813a804ab)\" style=\"fill: #fefebb; stroke: #444443; stroke-width: 0.5; stroke-linejoin: miter\" />\n   </g>\n   <g id=\"patch_15\">\n    <path d=\"M 135.881597 81.54  L 146.197563 81.54  L 146.197563 81.54  L 135.881597 81.54  z \" clip-path=\"url(#p6813a804ab)\" style=\"fill: #fefebb; stroke: #444443; stroke-width: 0.5; stroke-linejoin: miter\" />\n   </g>\n   <g id=\"patch_16\">\n    <path d=\"M 146.197563 81.54  L 156.513529 81.54  L 156.513529 81.54  L 146.197563 81.54  z \" clip-path=\"url(#p6813a804ab)\" style=\"fill: #fefebb; stroke: #444443; stroke-width: 0.5; stroke-linejoin: miter\" />\n   </g>\n   <g id=\"patch_17\">\n    <path d=\"M 156.513529 81.54  L 166.829496 81.54  L 166.829496 81.54  L 156.513529 81.54  z \" clip-path=\"url(#p6813a804ab)\" style=\"fill: #fefebb; stroke: #444443; stroke-width: 0.5; stroke-linejoin: miter\" />\n   </g>\n   <g id=\"patch_18\">\n    <path d=\"M 166.829496 81.54  L 177.145462 81.54  L 177.145462 81.54  L 166.829496 81.54  z \" clip-path=\"url(#p6813a804ab)\" style=\"fill: #fefebb; stroke: #444443; stroke-width: 0.5; stroke-linejoin: miter\" />\n   </g>\n   <g id=\"patch_19\">\n    <path d=\"M 177.145462 81.54  L 187.461429 81.54  L 187.461429 55.654286  L 177.145462 55.654286  z \" clip-path=\"url(#p6813a804ab)\" style=\"fill: #fefebb; stroke: #444443; stroke-width: 0.5; stroke-linejoin: miter\" />\n   </g>\n   <g id=\"patch_20\">\n    <path d=\"M 12.09 55.654286  L 22.405966 55.654286  L 22.405966 3.882857  L 12.09 3.882857  z \" clip-path=\"url(#p6813a804ab)\" style=\"fill: #d9e6f5; stroke: #444443; stroke-width: 0.5; stroke-linejoin: miter\" />\n   </g>\n   <g id=\"patch_21\">\n    <path d=\"M 22.405966 81.54  L 32.721933 81.54  L 32.721933 81.54  L 22.405966 81.54  z \" clip-path=\"url(#p6813a804ab)\" style=\"fill: #d9e6f5; stroke: #444443; stroke-width: 0.5; stroke-linejoin: miter\" />\n   </g>\n   <g id=\"patch_22\">\n    <path d=\"M 32.721933 81.54  L 43.037899 81.54  L 43.037899 81.54  L 32.721933 81.54  z \" clip-path=\"url(#p6813a804ab)\" style=\"fill: #d9e6f5; stroke: #444443; stroke-width: 0.5; stroke-linejoin: miter\" />\n   </g>\n   <g id=\"patch_23\">\n    <path d=\"M 43.037899 81.54  L 53.353866 81.54  L 53.353866 81.54  L 43.037899 81.54  z \" clip-path=\"url(#p6813a804ab)\" style=\"fill: #d9e6f5; stroke: #444443; stroke-width: 0.5; stroke-linejoin: miter\" />\n   </g>\n   <g id=\"patch_24\">\n    <path d=\"M 53.353866 81.54  L 63.669832 81.54  L 63.669832 81.54  L 53.353866 81.54  z \" clip-path=\"url(#p6813a804ab)\" style=\"fill: #d9e6f5; stroke: #444443; stroke-width: 0.5; stroke-linejoin: miter\" />\n   </g>\n   <g id=\"patch_25\">\n    <path d=\"M 63.669832 81.54  L 73.985798 81.54  L 73.985798 81.54  L 63.669832 81.54  z \" clip-path=\"url(#p6813a804ab)\" style=\"fill: #d9e6f5; stroke: #444443; stroke-width: 0.5; stroke-linejoin: miter\" />\n   </g>\n   <g id=\"patch_26\">\n    <path d=\"M 73.985798 81.54  L 84.301765 81.54  L 84.301765 81.54  L 73.985798 81.54  z \" clip-path=\"url(#p6813a804ab)\" style=\"fill: #d9e6f5; stroke: #444443; stroke-width: 0.5; stroke-linejoin: miter\" />\n   </g>\n   <g id=\"patch_27\">\n    <path d=\"M 84.301765 81.54  L 94.617731 81.54  L 94.617731 81.54  L 84.301765 81.54  z \" clip-path=\"url(#p6813a804ab)\" style=\"fill: #d9e6f5; stroke: #444443; stroke-width: 0.5; stroke-linejoin: miter\" />\n   </g>\n   <g id=\"patch_28\">\n    <path d=\"M 94.617731 81.54  L 104.933697 81.54  L 104.933697 81.54  L 94.617731 81.54  z \" clip-path=\"url(#p6813a804ab)\" style=\"fill: #d9e6f5; stroke: #444443; stroke-width: 0.5; stroke-linejoin: miter\" />\n   </g>\n   <g id=\"patch_29\">\n    <path d=\"M 104.933697 81.54  L 115.249664 81.54  L 115.249664 81.54  L 104.933697 81.54  z \" clip-path=\"url(#p6813a804ab)\" style=\"fill: #d9e6f5; stroke: #444443; stroke-width: 0.5; stroke-linejoin: miter\" />\n   </g>\n   <g id=\"patch_30\">\n    <path d=\"M 115.249664 81.54  L 125.56563 81.54  L 125.56563 81.54  L 115.249664 81.54  z \" clip-path=\"url(#p6813a804ab)\" style=\"fill: #d9e6f5; stroke: #444443; stroke-width: 0.5; stroke-linejoin: miter\" />\n   </g>\n   <g id=\"patch_31\">\n    <path d=\"M 125.56563 81.54  L 135.881597 81.54  L 135.881597 81.54  L 125.56563 81.54  z \" clip-path=\"url(#p6813a804ab)\" style=\"fill: #d9e6f5; stroke: #444443; stroke-width: 0.5; stroke-linejoin: miter\" />\n   </g>\n   <g id=\"patch_32\">\n    <path d=\"M 135.881597 81.54  L 146.197563 81.54  L 146.197563 81.54  L 135.881597 81.54  z \" clip-path=\"url(#p6813a804ab)\" style=\"fill: #d9e6f5; stroke: #444443; stroke-width: 0.5; stroke-linejoin: miter\" />\n   </g>\n   <g id=\"patch_33\">\n    <path d=\"M 146.197563 81.54  L 156.513529 81.54  L 156.513529 81.54  L 146.197563 81.54  z \" clip-path=\"url(#p6813a804ab)\" style=\"fill: #d9e6f5; stroke: #444443; stroke-width: 0.5; stroke-linejoin: miter\" />\n   </g>\n   <g id=\"patch_34\">\n    <path d=\"M 156.513529 81.54  L 166.829496 81.54  L 166.829496 81.54  L 156.513529 81.54  z \" clip-path=\"url(#p6813a804ab)\" style=\"fill: #d9e6f5; stroke: #444443; stroke-width: 0.5; stroke-linejoin: miter\" />\n   </g>\n   <g id=\"patch_35\">\n    <path d=\"M 166.829496 81.54  L 177.145462 81.54  L 177.145462 81.54  L 166.829496 81.54  z \" clip-path=\"url(#p6813a804ab)\" style=\"fill: #d9e6f5; stroke: #444443; stroke-width: 0.5; stroke-linejoin: miter\" />\n   </g>\n   <g id=\"patch_36\">\n    <path d=\"M 177.145462 55.654286  L 187.461429 55.654286  L 187.461429 55.654286  L 177.145462 55.654286  z \" clip-path=\"url(#p6813a804ab)\" style=\"fill: #d9e6f5; stroke: #444443; stroke-width: 0.5; stroke-linejoin: miter\" />\n   </g>\n   <g id=\"patch_37\">\n    <path d=\"M 12.09 3.882857  L 22.405966 3.882857  L 22.405966 3.882857  L 12.09 3.882857  z \" clip-path=\"url(#p6813a804ab)\" style=\"fill: #a1dab4; stroke: #444443; stroke-width: 0.5; stroke-linejoin: miter\" />\n   </g>\n   <g id=\"patch_38\">\n    <path d=\"M 22.405966 81.54  L 32.721933 81.54  L 32.721933 81.54  L 22.405966 81.54  z \" clip-path=\"url(#p6813a804ab)\" style=\"fill: #a1dab4; stroke: #444443; stroke-width: 0.5; stroke-linejoin: miter\" />\n   </g>\n   <g id=\"patch_39\">\n    <path d=\"M 32.721933 81.54  L 43.037899 81.54  L 43.037899 81.54  L 32.721933 81.54  z \" clip-path=\"url(#p6813a804ab)\" style=\"fill: #a1dab4; stroke: #444443; stroke-width: 0.5; stroke-linejoin: miter\" />\n   </g>\n   <g id=\"patch_40\">\n    <path d=\"M 43.037899 81.54  L 53.353866 81.54  L 53.353866 81.54  L 43.037899 81.54  z \" clip-path=\"url(#p6813a804ab)\" style=\"fill: #a1dab4; stroke: #444443; stroke-width: 0.5; stroke-linejoin: miter\" />\n   </g>\n   <g id=\"patch_41\">\n    <path d=\"M 53.353866 81.54  L 63.669832 81.54  L 63.669832 81.54  L 53.353866 81.54  z \" clip-path=\"url(#p6813a804ab)\" style=\"fill: #a1dab4; stroke: #444443; stroke-width: 0.5; stroke-linejoin: miter\" />\n   </g>\n   <g id=\"patch_42\">\n    <path d=\"M 63.669832 81.54  L 73.985798 81.54  L 73.985798 81.54  L 63.669832 81.54  z \" clip-path=\"url(#p6813a804ab)\" style=\"fill: #a1dab4; stroke: #444443; stroke-width: 0.5; stroke-linejoin: miter\" />\n   </g>\n   <g id=\"patch_43\">\n    <path d=\"M 73.985798 81.54  L 84.301765 81.54  L 84.301765 81.54  L 73.985798 81.54  z \" clip-path=\"url(#p6813a804ab)\" style=\"fill: #a1dab4; stroke: #444443; stroke-width: 0.5; stroke-linejoin: miter\" />\n   </g>\n   <g id=\"patch_44\">\n    <path d=\"M 84.301765 81.54  L 94.617731 81.54  L 94.617731 81.54  L 84.301765 81.54  z \" clip-path=\"url(#p6813a804ab)\" style=\"fill: #a1dab4; stroke: #444443; stroke-width: 0.5; stroke-linejoin: miter\" />\n   </g>\n   <g id=\"patch_45\">\n    <path d=\"M 94.617731 81.54  L 104.933697 81.54  L 104.933697 81.54  L 94.617731 81.54  z \" clip-path=\"url(#p6813a804ab)\" style=\"fill: #a1dab4; stroke: #444443; stroke-width: 0.5; stroke-linejoin: miter\" />\n   </g>\n   <g id=\"patch_46\">\n    <path d=\"M 104.933697 81.54  L 115.249664 81.54  L 115.249664 81.54  L 104.933697 81.54  z \" clip-path=\"url(#p6813a804ab)\" style=\"fill: #a1dab4; stroke: #444443; stroke-width: 0.5; stroke-linejoin: miter\" />\n   </g>\n   <g id=\"patch_47\">\n    <path d=\"M 115.249664 81.54  L 125.56563 81.54  L 125.56563 81.54  L 115.249664 81.54  z \" clip-path=\"url(#p6813a804ab)\" style=\"fill: #a1dab4; stroke: #444443; stroke-width: 0.5; stroke-linejoin: miter\" />\n   </g>\n   <g id=\"patch_48\">\n    <path d=\"M 125.56563 81.54  L 135.881597 81.54  L 135.881597 81.54  L 125.56563 81.54  z \" clip-path=\"url(#p6813a804ab)\" style=\"fill: #a1dab4; stroke: #444443; stroke-width: 0.5; stroke-linejoin: miter\" />\n   </g>\n   <g id=\"patch_49\">\n    <path d=\"M 135.881597 81.54  L 146.197563 81.54  L 146.197563 81.54  L 135.881597 81.54  z \" clip-path=\"url(#p6813a804ab)\" style=\"fill: #a1dab4; stroke: #444443; stroke-width: 0.5; stroke-linejoin: miter\" />\n   </g>\n   <g id=\"patch_50\">\n    <path d=\"M 146.197563 81.54  L 156.513529 81.54  L 156.513529 81.54  L 146.197563 81.54  z \" clip-path=\"url(#p6813a804ab)\" style=\"fill: #a1dab4; stroke: #444443; stroke-width: 0.5; stroke-linejoin: miter\" />\n   </g>\n   <g id=\"patch_51\">\n    <path d=\"M 156.513529 81.54  L 166.829496 81.54  L 166.829496 81.54  L 156.513529 81.54  z \" clip-path=\"url(#p6813a804ab)\" style=\"fill: #a1dab4; stroke: #444443; stroke-width: 0.5; stroke-linejoin: miter\" />\n   </g>\n   <g id=\"patch_52\">\n    <path d=\"M 166.829496 81.54  L 177.145462 81.54  L 177.145462 81.54  L 166.829496 81.54  z \" clip-path=\"url(#p6813a804ab)\" style=\"fill: #a1dab4; stroke: #444443; stroke-width: 0.5; stroke-linejoin: miter\" />\n   </g>\n   <g id=\"patch_53\">\n    <path d=\"M 177.145462 55.654286  L 187.461429 55.654286  L 187.461429 3.882857  L 177.145462 3.882857  z \" clip-path=\"url(#p6813a804ab)\" style=\"fill: #a1dab4; stroke: #444443; stroke-width: 0.5; stroke-linejoin: miter\" />\n   </g>\n   <g id=\"patch_54\">\n    <path d=\"M 99.775714 82.3554  L 96.461194 89.694  L 103.090234 89.694  z \" style=\"fill: #444443\" />\n   </g>\n   <g id=\"matplotlib.axis_1\">\n    <g id=\"xtick_1\">\n     <g id=\"line2d_1\">\n      <defs>\n       <path id=\"m259128b539\" d=\"M 0 0  L 0 3.5  \" style=\"stroke: #000000; stroke-width: 0.3\" />\n      </defs>\n      <g>\n       <use xlink:href=\"#m259128b539\" x=\"12.09\" y=\"81.54\" style=\"stroke: #000000; stroke-width: 0.3\" />\n      </g>\n     </g>\n     <g id=\"text_1\">\n      \n      <g style=\"fill: #444443\" transform=\"translate(9.545 94.61875)scale(0.08 -0.08)\">\n       <defs>\n        <path id=\"DejaVuSans-30\" d=\"M 2034 4250  Q 1547 4250 1301 3770  Q 1056 3291 1056 2328  Q 1056 1369 1301 889  Q 1547 409 2034 409  Q 2525 409 2770 889  Q 3016 1369 3016 2328  Q 3016 3291 2770 3770  Q 2525 4250 2034 4250  z M 2034 4750  Q 2819 4750 3233 4129  Q 3647 3509 3647 2328  Q 3647 1150 3233 529  Q 2819 -91 2034 -91  Q 1250 -91 836 529  Q 422 1150 422 2328  Q 422 3509 836 4129  Q 1250 4750 2034 4750  z \" transform=\"scale(0.015625)\" />\n       </defs>\n       <use xlink:href=\"#DejaVuSans-30\" />\n      </g>\n     </g>\n    </g>\n    <g id=\"xtick_2\">\n     <g id=\"line2d_2\">\n      <g>\n       <use xlink:href=\"#m259128b539\" x=\"187.461429\" y=\"81.54\" style=\"stroke: #000000; stroke-width: 0.3\" />\n      </g>\n     </g>\n     <g id=\"text_2\">\n      \n      <g style=\"fill: #444443\" transform=\"translate(184.916429 94.61875)scale(0.08 -0.08)\">\n       <defs>\n        <path id=\"DejaVuSans-31\" d=\"M 794 531  L 1825 531  L 1825 4091  L 703 3866  L 703 4441  L 1819 4666  L 2450 4666  L 2450 531  L 3481 531  L 3481 0  L 794 0  L 794 531  z \" transform=\"scale(0.015625)\" />\n       </defs>\n       <use xlink:href=\"#DejaVuSans-31\" />\n      </g>\n     </g>\n    </g>\n    <g id=\"text_3\">\n     \n     <g style=\"fill: #444443\" transform=\"translate(89.817188 108.871875)scale(0.12 -0.12)\">\n      <defs>\n       <path id=\"ArialMT-4e\" d=\"M 488 0  L 488 4581  L 1109 4581  L 3516 984  L 3516 4581  L 4097 4581  L 4097 0  L 3475 0  L 1069 3600  L 1069 0  L 488 0  z \" transform=\"scale(0.015625)\" />\n       <path id=\"ArialMT-6f\" d=\"M 213 1659  Q 213 2581 725 3025  Q 1153 3394 1769 3394  Q 2453 3394 2887 2945  Q 3322 2497 3322 1706  Q 3322 1066 3130 698  Q 2938 331 2570 128  Q 2203 -75 1769 -75  Q 1072 -75 642 372  Q 213 819 213 1659  z M 791 1659  Q 791 1022 1069 705  Q 1347 388 1769 388  Q 2188 388 2466 706  Q 2744 1025 2744 1678  Q 2744 2294 2464 2611  Q 2184 2928 1769 2928  Q 1347 2928 1069 2612  Q 791 2297 791 1659  z \" transform=\"scale(0.015625)\" />\n       <path id=\"ArialMT-6e\" d=\"M 422 0  L 422 3319  L 928 3319  L 928 2847  Q 1294 3394 1984 3394  Q 2284 3394 2536 3286  Q 2788 3178 2913 3003  Q 3038 2828 3088 2588  Q 3119 2431 3119 2041  L 3119 0  L 2556 0  L 2556 2019  Q 2556 2363 2490 2533  Q 2425 2703 2258 2804  Q 2091 2906 1866 2906  Q 1506 2906 1245 2678  Q 984 2450 984 1813  L 984 0  L 422 0  z \" transform=\"scale(0.015625)\" />\n       <path id=\"ArialMT-65\" d=\"M 2694 1069  L 3275 997  Q 3138 488 2766 206  Q 2394 -75 1816 -75  Q 1088 -75 661 373  Q 234 822 234 1631  Q 234 2469 665 2931  Q 1097 3394 1784 3394  Q 2450 3394 2872 2941  Q 3294 2488 3294 1666  Q 3294 1616 3291 1516  L 816 1516  Q 847 969 1125 678  Q 1403 388 1819 388  Q 2128 388 2347 550  Q 2566 713 2694 1069  z M 847 1978  L 2700 1978  Q 2663 2397 2488 2606  Q 2219 2931 1791 2931  Q 1403 2931 1139 2672  Q 875 2413 847 1978  z \" transform=\"scale(0.015625)\" />\n      </defs>\n      <use xlink:href=\"#ArialMT-4e\" />\n      <use xlink:href=\"#ArialMT-6f\" x=\"72.216797\" />\n      <use xlink:href=\"#ArialMT-6e\" x=\"127.832031\" />\n      <use xlink:href=\"#ArialMT-65\" x=\"183.447266\" />\n     </g>\n    </g>\n   </g>\n   <g id=\"matplotlib.axis_2\">\n    <g id=\"ytick_1\">\n     <g id=\"line2d_3\">\n      <defs>\n       <path id=\"mbaa76d469b\" d=\"M 0 0  L -3.5 0  \" style=\"stroke: #000000; stroke-width: 0.3\" />\n      </defs>\n      <g>\n       <use xlink:href=\"#mbaa76d469b\" x=\"12.09\" y=\"81.54\" style=\"stroke: #000000; stroke-width: 0.3\" />\n      </g>\n     </g>\n     <g id=\"text_4\">\n      \n      <g style=\"fill: #444443\" transform=\"translate(0 84.579375)scale(0.08 -0.08)\">\n       <use xlink:href=\"#DejaVuSans-30\" />\n      </g>\n     </g>\n    </g>\n    <g id=\"ytick_2\">\n     <g id=\"line2d_4\">\n      <g>\n       <use xlink:href=\"#mbaa76d469b\" x=\"12.09\" y=\"3.882857\" style=\"stroke: #000000; stroke-width: 0.3\" />\n      </g>\n     </g>\n     <g id=\"text_5\">\n      \n      <g style=\"fill: #444443\" transform=\"translate(0 6.922232)scale(0.08 -0.08)\">\n       <defs>\n        <path id=\"DejaVuSans-33\" d=\"M 2597 2516  Q 3050 2419 3304 2112  Q 3559 1806 3559 1356  Q 3559 666 3084 287  Q 2609 -91 1734 -91  Q 1441 -91 1130 -33  Q 819 25 488 141  L 488 750  Q 750 597 1062 519  Q 1375 441 1716 441  Q 2309 441 2620 675  Q 2931 909 2931 1356  Q 2931 1769 2642 2001  Q 2353 2234 1838 2234  L 1294 2234  L 1294 2753  L 1863 2753  Q 2328 2753 2575 2939  Q 2822 3125 2822 3475  Q 2822 3834 2567 4026  Q 2313 4219 1838 4219  Q 1578 4219 1281 4162  Q 984 4106 628 3988  L 628 4550  Q 988 4650 1302 4700  Q 1616 4750 1894 4750  Q 2613 4750 3031 4423  Q 3450 4097 3450 3541  Q 3450 3153 3228 2886  Q 3006 2619 2597 2516  z \" transform=\"scale(0.015625)\" />\n       </defs>\n       <use xlink:href=\"#DejaVuSans-33\" />\n      </g>\n     </g>\n    </g>\n   </g>\n   <g id=\"patch_55\">\n    <path d=\"M 12.09 81.54  L 12.09 0  \" style=\"fill: none; stroke: #000000; stroke-width: 0.3; stroke-linejoin: miter; stroke-linecap: square\" />\n   </g>\n   <g id=\"patch_56\">\n    <path d=\"M 12.09 81.54  L 196.23 81.54  \" style=\"fill: none; stroke: #000000; stroke-width: 0.3; stroke-linejoin: miter; stroke-linecap: square\" />\n   </g>\n   <g id=\"text_6\">\n    \n    <g style=\"fill: #444443\" transform=\"translate(91.991339 97.848)scale(0.08 -0.08)\">\n     <defs>\n      <path id=\"ArialMT-30\" d=\"M 266 2259  Q 266 3072 433 3567  Q 600 4063 929 4331  Q 1259 4600 1759 4600  Q 2128 4600 2406 4451  Q 2684 4303 2865 4023  Q 3047 3744 3150 3342  Q 3253 2941 3253 2259  Q 3253 1453 3087 958  Q 2922 463 2592 192  Q 2263 -78 1759 -78  Q 1097 -78 719 397  Q 266 969 266 2259  z M 844 2259  Q 844 1131 1108 757  Q 1372 384 1759 384  Q 2147 384 2411 759  Q 2675 1134 2675 2259  Q 2675 3391 2411 3762  Q 2147 4134 1753 4134  Q 1366 4134 1134 3806  Q 844 3388 844 2259  z \" transform=\"scale(0.015625)\" />\n      <path id=\"ArialMT-2e\" d=\"M 581 0  L 581 641  L 1222 641  L 1222 0  L 581 0  z \" transform=\"scale(0.015625)\" />\n      <path id=\"ArialMT-35\" d=\"M 266 1200  L 856 1250  Q 922 819 1161 601  Q 1400 384 1738 384  Q 2144 384 2425 690  Q 2706 997 2706 1503  Q 2706 1984 2436 2262  Q 2166 2541 1728 2541  Q 1456 2541 1237 2417  Q 1019 2294 894 2097  L 366 2166  L 809 4519  L 3088 4519  L 3088 3981  L 1259 3981  L 1013 2750  Q 1425 3038 1878 3038  Q 2478 3038 2890 2622  Q 3303 2206 3303 1553  Q 3303 931 2941 478  Q 2500 -78 1738 -78  Q 1113 -78 717 272  Q 322 622 266 1200  z \" transform=\"scale(0.015625)\" />\n     </defs>\n     <use xlink:href=\"#ArialMT-30\" />\n     <use xlink:href=\"#ArialMT-2e\" x=\"55.615234\" />\n     <use xlink:href=\"#ArialMT-35\" x=\"83.398438\" />\n     <use xlink:href=\"#ArialMT-30\" x=\"139.013672\" />\n    </g>\n   </g>\n  </g>\n </g>\n <defs>\n  <clipPath id=\"p6813a804ab\">\n   <rect x=\"12.09\" y=\"0\" width=\"184.14\" height=\"81.54\" />\n  </clipPath>\n </defs>\n</svg></g>\n\n<g id=\"edge7\" class=\"edge\">\n<title>node0-&gt;node1</title>\n<path fill=\"none\" stroke=\"#444443\" stroke-width=\"0.3\" d=\"M127.33,-148.76C117.87,-136.36 107.85,-123.24 99.3,-112.04\" />\n<polygon fill=\"#444443\" stroke=\"#444443\" stroke-width=\"0.3\" points=\"100.23,-110.96 96.69,-108.63 98.01,-112.66 100.23,-110.96\" />\n<text text-anchor=\"start\" x=\"119.5\" y=\"-129.8\" font-family=\"Times,serif\" font-size=\"14.00\">&#8804;</text>\n</g>\n\n<g id=\"edge8\" class=\"edge\">\n<title>node0-&gt;node4</title>\n<path fill=\"none\" stroke=\"#444443\" stroke-width=\"0.3\" d=\"M196.07,-148.76C203.11,-139.65 210.46,-130.15 217.29,-121.3\" />\n<polygon fill=\"#444443\" stroke=\"#444443\" stroke-width=\"0.3\" points=\"218.44,-122.1 219.78,-118.08 216.23,-120.39 218.44,-122.1\" />\n<text text-anchor=\"start\" x=\"212.5\" y=\"-129.8\" font-family=\"Times,serif\" font-size=\"14.00\">&gt;</text>\n</g>\n\n\n\n<g id=\"node8\" class=\"node\">\n<title>legend</title>\n<polygon fill=\"none\" stroke=\"black\" stroke-width=\"0\" points=\"303,-216.5 246,-216.5 246,-172.5 303,-172.5 303,-216.5\" />\n<svg width=\"53px\" height=\"40px\" viewBox=\"0 0 70.621875 54.36\" version=\"1.1\" preserveAspectRatio=\"xMinYMin meet\" x=\"248.5\" y=\"-214.5\">\n <metadata>\n  <rdf:RDF>\n   <ns2:Work>\n    <dc:type rdf:resource=\"http://purl.org/dc/dcmitype/StillImage\" />\n    <dc:date>2022-08-27T02:36:22.163052</dc:date>\n    <dc:format>image/svg+xml</dc:format>\n    <dc:creator>\n     <ns2:Agent>\n      <dc:title>Matplotlib v3.5.2, https://matplotlib.org/</dc:title>\n     </ns2:Agent>\n    </dc:creator>\n   </ns2:Work>\n  </rdf:RDF>\n </metadata>\n <defs>\n  <style type=\"text/css\">*{stroke-linejoin: round; stroke-linecap: butt}</style>\n </defs>\n <g id=\"figure_1\">\n  <g id=\"patch_1\">\n   <path d=\"M 0 54.36  L 70.621875 54.36  L 70.621875 0  L 0 0  L 0 54.36  z \" style=\"fill: none\" />\n  </g>\n  <g id=\"axes_1\">\n   <g id=\"legend_1\">\n    <g id=\"patch_2\">\n     <path d=\"M 2 53.897969  L 68.621875 53.897969  Q 70.621875 53.897969 70.621875 51.897969  L 70.621875 2.462031  Q 70.621875 0.462031 68.621875 0.462031  L 2 0.462031  Q 0 0.462031 0 2.462031  L 0 51.897969  Q 0 53.897969 2 53.897969  z \" style=\"fill: #ffffff; opacity: 0.8; stroke: #444443; stroke-width: 0.5; stroke-linejoin: miter\" />\n    </g>\n    <g id=\"patch_3\">\n     <path d=\"M 8 15.619844  L 28 15.619844  L 28 8.619844  L 8 8.619844  z \" style=\"fill: #fefebb; stroke: #444443; stroke-width: 0.4; stroke-linejoin: miter\" />\n    </g>\n    <g id=\"text_1\">\n     \n     <g style=\"fill: #444443\" transform=\"translate(31.5 15.619844)scale(0.1 -0.1)\">\n      <defs>\n       <path id=\"ArialMT-63\" d=\"M 2588 1216  L 3141 1144  Q 3050 572 2676 248  Q 2303 -75 1759 -75  Q 1078 -75 664 370  Q 250 816 250 1647  Q 250 2184 428 2587  Q 606 2991 970 3192  Q 1334 3394 1763 3394  Q 2303 3394 2647 3120  Q 2991 2847 3088 2344  L 2541 2259  Q 2463 2594 2264 2762  Q 2066 2931 1784 2931  Q 1359 2931 1093 2626  Q 828 2322 828 1663  Q 828 994 1084 691  Q 1341 388 1753 388  Q 2084 388 2306 591  Q 2528 794 2588 1216  z \" transform=\"scale(0.015625)\" />\n       <path id=\"ArialMT-6c\" d=\"M 409 0  L 409 4581  L 972 4581  L 972 0  L 409 0  z \" transform=\"scale(0.015625)\" />\n       <path id=\"ArialMT-61\" d=\"M 2588 409  Q 2275 144 1986 34  Q 1697 -75 1366 -75  Q 819 -75 525 192  Q 231 459 231 875  Q 231 1119 342 1320  Q 453 1522 633 1644  Q 813 1766 1038 1828  Q 1203 1872 1538 1913  Q 2219 1994 2541 2106  Q 2544 2222 2544 2253  Q 2544 2597 2384 2738  Q 2169 2928 1744 2928  Q 1347 2928 1158 2789  Q 969 2650 878 2297  L 328 2372  Q 403 2725 575 2942  Q 747 3159 1072 3276  Q 1397 3394 1825 3394  Q 2250 3394 2515 3294  Q 2781 3194 2906 3042  Q 3031 2891 3081 2659  Q 3109 2516 3109 2141  L 3109 1391  Q 3109 606 3145 398  Q 3181 191 3288 0  L 2700 0  Q 2613 175 2588 409  z M 2541 1666  Q 2234 1541 1622 1453  Q 1275 1403 1131 1340  Q 988 1278 909 1158  Q 831 1038 831 891  Q 831 666 1001 516  Q 1172 366 1500 366  Q 1825 366 2078 508  Q 2331 650 2450 897  Q 2541 1088 2541 1459  L 2541 1666  z \" transform=\"scale(0.015625)\" />\n       <path id=\"ArialMT-73\" d=\"M 197 991  L 753 1078  Q 800 744 1014 566  Q 1228 388 1613 388  Q 2000 388 2187 545  Q 2375 703 2375 916  Q 2375 1106 2209 1216  Q 2094 1291 1634 1406  Q 1016 1563 777 1677  Q 538 1791 414 1992  Q 291 2194 291 2438  Q 291 2659 392 2848  Q 494 3038 669 3163  Q 800 3259 1026 3326  Q 1253 3394 1513 3394  Q 1903 3394 2198 3281  Q 2494 3169 2634 2976  Q 2775 2784 2828 2463  L 2278 2388  Q 2241 2644 2061 2787  Q 1881 2931 1553 2931  Q 1166 2931 1000 2803  Q 834 2675 834 2503  Q 834 2394 903 2306  Q 972 2216 1119 2156  Q 1203 2125 1616 2013  Q 2213 1853 2448 1751  Q 2684 1650 2818 1456  Q 2953 1263 2953 975  Q 2953 694 2789 445  Q 2625 197 2315 61  Q 2006 -75 1616 -75  Q 969 -75 630 194  Q 291 463 197 991  z \" transform=\"scale(0.015625)\" />\n       <path id=\"ArialMT-20\" transform=\"scale(0.015625)\" />\n       <path id=\"ArialMT-30\" d=\"M 266 2259  Q 266 3072 433 3567  Q 600 4063 929 4331  Q 1259 4600 1759 4600  Q 2128 4600 2406 4451  Q 2684 4303 2865 4023  Q 3047 3744 3150 3342  Q 3253 2941 3253 2259  Q 3253 1453 3087 958  Q 2922 463 2592 192  Q 2263 -78 1759 -78  Q 1097 -78 719 397  Q 266 969 266 2259  z M 844 2259  Q 844 1131 1108 757  Q 1372 384 1759 384  Q 2147 384 2411 759  Q 2675 1134 2675 2259  Q 2675 3391 2411 3762  Q 2147 4134 1753 4134  Q 1366 4134 1134 3806  Q 844 3388 844 2259  z \" transform=\"scale(0.015625)\" />\n      </defs>\n      <use xlink:href=\"#ArialMT-63\" />\n      <use xlink:href=\"#ArialMT-6c\" x=\"50\" />\n      <use xlink:href=\"#ArialMT-61\" x=\"72.216797\" />\n      <use xlink:href=\"#ArialMT-73\" x=\"127.832031\" />\n      <use xlink:href=\"#ArialMT-73\" x=\"177.832031\" />\n      <use xlink:href=\"#ArialMT-20\" x=\"227.832031\" />\n      <use xlink:href=\"#ArialMT-30\" x=\"255.615234\" />\n     </g>\n    </g>\n    <g id=\"patch_4\">\n     <path d=\"M 8 29.765156  L 28 29.765156  L 28 22.765156  L 8 22.765156  z \" style=\"fill: #d9e6f5; stroke: #444443; stroke-width: 0.4; stroke-linejoin: miter\" />\n    </g>\n    <g id=\"text_2\">\n     \n     <g style=\"fill: #444443\" transform=\"translate(31.5 29.765156)scale(0.1 -0.1)\">\n      <defs>\n       <path id=\"ArialMT-31\" d=\"M 2384 0  L 1822 0  L 1822 3584  Q 1619 3391 1289 3197  Q 959 3003 697 2906  L 697 3450  Q 1169 3672 1522 3987  Q 1875 4303 2022 4600  L 2384 4600  L 2384 0  z \" transform=\"scale(0.015625)\" />\n      </defs>\n      <use xlink:href=\"#ArialMT-63\" />\n      <use xlink:href=\"#ArialMT-6c\" x=\"50\" />\n      <use xlink:href=\"#ArialMT-61\" x=\"72.216797\" />\n      <use xlink:href=\"#ArialMT-73\" x=\"127.832031\" />\n      <use xlink:href=\"#ArialMT-73\" x=\"177.832031\" />\n      <use xlink:href=\"#ArialMT-20\" x=\"227.832031\" />\n      <use xlink:href=\"#ArialMT-31\" x=\"255.615234\" />\n     </g>\n    </g>\n    <g id=\"patch_5\">\n     <path d=\"M 8 43.910469  L 28 43.910469  L 28 36.910469  L 8 36.910469  z \" style=\"fill: #a1dab4; stroke: #444443; stroke-width: 0.4; stroke-linejoin: miter\" />\n    </g>\n    <g id=\"text_3\">\n     \n     <g style=\"fill: #444443\" transform=\"translate(31.5 43.910469)scale(0.1 -0.1)\">\n      <defs>\n       <path id=\"ArialMT-32\" d=\"M 3222 541  L 3222 0  L 194 0  Q 188 203 259 391  Q 375 700 629 1000  Q 884 1300 1366 1694  Q 2113 2306 2375 2664  Q 2638 3022 2638 3341  Q 2638 3675 2398 3904  Q 2159 4134 1775 4134  Q 1369 4134 1125 3890  Q 881 3647 878 3216  L 300 3275  Q 359 3922 746 4261  Q 1134 4600 1788 4600  Q 2447 4600 2831 4234  Q 3216 3869 3216 3328  Q 3216 3053 3103 2787  Q 2991 2522 2730 2228  Q 2469 1934 1863 1422  Q 1356 997 1212 845  Q 1069 694 975 541  L 3222 541  z \" transform=\"scale(0.015625)\" />\n      </defs>\n      <use xlink:href=\"#ArialMT-63\" />\n      <use xlink:href=\"#ArialMT-6c\" x=\"50\" />\n      <use xlink:href=\"#ArialMT-61\" x=\"72.216797\" />\n      <use xlink:href=\"#ArialMT-73\" x=\"127.832031\" />\n      <use xlink:href=\"#ArialMT-73\" x=\"177.832031\" />\n      <use xlink:href=\"#ArialMT-20\" x=\"227.832031\" />\n      <use xlink:href=\"#ArialMT-32\" x=\"255.615234\" />\n     </g>\n    </g>\n   </g>\n  </g>\n </g>\n</svg></g>\n</g>\n</svg>",
      "text/plain": [
       "<dtreeviz.trees.DTreeViz at 0x328971de0>"
      ]
     },
     "execution_count": 42,
     "metadata": {},
     "output_type": "execute_result"
    }
   ],
   "source": [
    "viz = dtreeviz(clf, ddf, y_target)\n",
    "viz"
   ]
  },
  {
   "cell_type": "code",
   "execution_count": null,
   "metadata": {},
   "outputs": [],
   "source": []
  },
  {
   "cell_type": "code",
   "execution_count": null,
   "metadata": {},
   "outputs": [],
   "source": []
  }
 ],
 "metadata": {
  "kernelspec": {
   "display_name": "Python 3.10.0rc2 ('venv': venv)",
   "language": "python",
   "name": "python3"
  },
  "language_info": {
   "codemirror_mode": {
    "name": "ipython",
    "version": 3
   },
   "file_extension": ".py",
   "mimetype": "text/x-python",
   "name": "python",
   "nbconvert_exporter": "python",
   "pygments_lexer": "ipython3",
   "version": "3.10.0"
  },
  "orig_nbformat": 4,
  "vscode": {
   "interpreter": {
    "hash": "f601cc5507805c915a29cbc7efc7fe46bb00e1fada85c390a8ea6a8a3967e90a"
   }
  }
 },
 "nbformat": 4,
 "nbformat_minor": 2
}
