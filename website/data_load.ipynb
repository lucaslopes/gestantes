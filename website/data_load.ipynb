{
 "cells": [
  {
   "cell_type": "raw",
   "metadata": {},
   "source": [
    "---\n",
    "title: \"Coleta dos Dados\"\n",
    "---"
   ]
  },
  {
   "cell_type": "code",
   "execution_count": 1,
   "metadata": {},
   "outputs": [
    {
     "data": {
      "text/html": [
       "<style type='text/css'>\n",
       ".datatable table.frame { margin-bottom: 0; }\n",
       ".datatable table.frame thead { border-bottom: none; }\n",
       ".datatable table.frame tr.coltypes td {  color: #FFFFFF;  line-height: 6px;  padding: 0 0.5em;}\n",
       ".datatable .bool    { background: #DDDD99; }\n",
       ".datatable .object  { background: #565656; }\n",
       ".datatable .int     { background: #5D9E5D; }\n",
       ".datatable .float   { background: #4040CC; }\n",
       ".datatable .str     { background: #CC4040; }\n",
       ".datatable .row_index {  background: var(--jp-border-color3);  border-right: 1px solid var(--jp-border-color0);  color: var(--jp-ui-font-color3);  font-size: 9px;}\n",
       ".datatable .frame tr.coltypes .row_index {  background: var(--jp-border-color0);}\n",
       ".datatable th:nth-child(2) { padding-left: 12px; }\n",
       ".datatable .hellipsis {  color: var(--jp-cell-editor-border-color);}\n",
       ".datatable .vellipsis {  background: var(--jp-layout-color0);  color: var(--jp-cell-editor-border-color);}\n",
       ".datatable .na {  color: var(--jp-cell-editor-border-color);  font-size: 80%;}\n",
       ".datatable .footer { font-size: 9px; }\n",
       ".datatable .frame_dimensions {  background: var(--jp-border-color3);  border-top: 1px solid var(--jp-border-color0);  color: var(--jp-ui-font-color3);  display: inline-block;  opacity: 0.6;  padding: 1px 10px 1px 5px;}\n",
       "</style>\n"
      ],
      "text/plain": [
       "<IPython.core.display.HTML object>"
      ]
     },
     "metadata": {},
     "output_type": "display_data"
    }
   ],
   "source": [
    "import os\n",
    "import sqlite3\n",
    "import pandas as pd\n",
    "from tqdm import tqdm\n",
    "from pathlib import Path\n",
    "from zipfile import ZipFile\n",
    "from datatable import dt, f, by"
   ]
  },
  {
   "cell_type": "markdown",
   "metadata": {},
   "source": [
    "# Funções Auxiliares"
   ]
  },
  {
   "cell_type": "code",
   "execution_count": 2,
   "metadata": {},
   "outputs": [],
   "source": [
    "def get_zip_namelist(zip_path):\n",
    "  files = ZipFile(zip_path).namelist()\n",
    "  files = [f'{zip_path}/{f}'\n",
    "    for f in files if 'dict' not in f]\n",
    "  return files"
   ]
  },
  {
   "cell_type": "code",
   "execution_count": 3,
   "metadata": {},
   "outputs": [],
   "source": [
    "def read_table(table_path, columns):\n",
    "  cols_order = list(columns.values())\n",
    "  columns[...] = None\n",
    "  df = dt.fread(table_path, columns=columns)\n",
    "  return df"
   ]
  },
  {
   "cell_type": "code",
   "execution_count": 4,
   "metadata": {},
   "outputs": [],
   "source": [
    "def data_load(zip_path, cols, filter_func):\n",
    "  files = get_zip_namelist(zip_path)\n",
    "  dfs = list()\n",
    "  for file_path in tqdm(files):\n",
    "    df = read_table(file_path, cols)\n",
    "    df = filter_func(df)\n",
    "    dfs.append(df)\n",
    "  df = dt.rbind(*dfs)\n",
    "  return df"
   ]
  },
  {
   "cell_type": "markdown",
   "metadata": {},
   "source": [
    "### SQL"
   ]
  },
  {
   "cell_type": "code",
   "execution_count": 5,
   "metadata": {},
   "outputs": [],
   "source": [
    "def create_connection(db_file):\n",
    "  conn = None\n",
    "  try:\n",
    "    conn = sqlite3.connect(db_file)\n",
    "  except sqlite3.Error as e:\n",
    "    print(e)\n",
    "  return conn"
   ]
  },
  {
   "cell_type": "code",
   "execution_count": 6,
   "metadata": {},
   "outputs": [],
   "source": [
    "def append_table_to_con(df, con, table):\n",
    "  try:\n",
    "    df.to_sql(\n",
    "      name = table,\n",
    "      con = con,\n",
    "      if_exists = 'append', # append | replace\n",
    "      index = False,\n",
    "    )\n",
    "  except Exception as excep:\n",
    "    print(excep)\n",
    "    print(df.columns)"
   ]
  },
  {
   "cell_type": "code",
   "execution_count": 7,
   "metadata": {},
   "outputs": [],
   "source": [
    "# conn = create_connection('gestantes.db')\n",
    "# with conn:\n",
    "#   for df, table in zip([df_sinasc, df_cnes], ['sinasc', 'cnes']):\n",
    "#     append_table_to_con(df.to_pandas(), conn, table)"
   ]
  },
  {
   "cell_type": "markdown",
   "metadata": {},
   "source": [
    "# Fonte de Dados"
   ]
  },
  {
   "cell_type": "markdown",
   "metadata": {},
   "source": [
    "Utilizamos algumas fontes para compor nossa base de dados de análise, abaixo descrevemos cada uma delas:"
   ]
  },
  {
   "cell_type": "markdown",
   "metadata": {},
   "source": [
    "## CNES"
   ]
  },
  {
   "cell_type": "markdown",
   "metadata": {},
   "source": [
    "### Descrição"
   ]
  },
  {
   "cell_type": "markdown",
   "metadata": {},
   "source": [
    "Dados do Cadastro Nacional de Estabelecimentos de Saúde (CNES) reunidos pela Plataforma de Ciência de Dados aplicada à Saúde (PCDaS). Os dados foram obtidos junto ao DATASUS (Ministério da Saúde), tratados e enriquecidos seguindo uma metodologia própria de ETL da PCDaS, resultando em um dataset mensal com todos os registros de estabelecimentos de saúde contidos no CNES à partir de agosto de 2005. A atualização dos dados é realizada pelo DATASUS e a PCDaS extrai os registros mensais assim que disponibilizados. As colunas com nomes em MAIÚSCULO representam dados originais advindos do DATASUS e colunas com nomes iniciando em minúsculo representam dados resultantes de transformação ou enriquecimento."
   ]
  },
  {
   "cell_type": "markdown",
   "metadata": {},
   "source": [
    "### Selecionar"
   ]
  },
  {
   "cell_type": "markdown",
   "metadata": {},
   "source": [
    "#### Colunas"
   ]
  },
  {
   "cell_type": "code",
   "execution_count": 8,
   "metadata": {},
   "outputs": [],
   "source": [
    "cols_cnes = {\n",
    "  'CNES': 'cnes', # Número nacional do estabelecimento de saúde\n",
    "  'uf_SIGLA_UF': 'uf', # Sigla da unidade da federação do estabelecimento\n",
    "  'mun_codigo_adotado': 'cod_mun', # Armazena o código atribuído ao município do estabelecimento, tratando os casos em que múltiplos códigos tenham sido utilizados para um mesmo município ao longo do tempo\n",
    "  'def_esfera_a': 'esfera_adm', # Código da esfera administrativa\n",
    "  'def_retencao': 'retencao_tributos', # Código de retenção de tributos\n",
    "  'def_cod_ir': 'tipo_retenção', # Indica o tipo de retenção de tributos da mantenedora\n",
    "  'def_natureza': 'natureza', # Código da natureza da organização\n",
    "  'VINC_SUS': 'sus', # Vínculo com SUS: 1-Sim 0-Não\n",
    "}"
   ]
  },
  {
   "cell_type": "markdown",
   "metadata": {},
   "source": [
    "#### Linhas"
   ]
  },
  {
   "cell_type": "code",
   "execution_count": 9,
   "metadata": {},
   "outputs": [],
   "source": [
    "def filter_cnes(df):\n",
    "  cols = list(cols_cnes.values())[:-2]\n",
    "  return df[(f['sus'] == 1), cols]"
   ]
  },
  {
   "cell_type": "markdown",
   "metadata": {},
   "source": [
    "### Carregar dados"
   ]
  },
  {
   "cell_type": "code",
   "execution_count": 10,
   "metadata": {},
   "outputs": [
    {
     "data": {
      "text/html": [
       "<div class='datatable'>\n",
       "  <table class='frame'>\n",
       "  <thead>\n",
       "    <tr class='colnames'><td class='row_index'></td><th>cnes</th><th>uf</th><th>cod_mun</th><th>esfera_adm</th><th>retencao_tributos</th><th>tipo_retenção</th><th>natureza</th></tr>\n",
       "    <tr class='coltypes'><td class='row_index'></td><td class='int' title='int32'>&#x25AA;&#x25AA;&#x25AA;&#x25AA;</td><td class='str' title='str32'>&#x25AA;&#x25AA;&#x25AA;&#x25AA;</td><td class='int' title='int32'>&#x25AA;&#x25AA;&#x25AA;&#x25AA;</td><td class='str' title='str32'>&#x25AA;&#x25AA;&#x25AA;&#x25AA;</td><td class='str' title='str32'>&#x25AA;&#x25AA;&#x25AA;&#x25AA;</td><td class='str' title='str32'>&#x25AA;&#x25AA;&#x25AA;&#x25AA;</td><td class='str' title='str32'>&#x25AA;&#x25AA;&#x25AA;&#x25AA;</td></tr>\n",
       "  </thead>\n",
       "  <tbody>\n",
       "    <tr><td class='row_index'>0</td><td>2786052</td><td>SP</td><td>350410</td><td>MUNICIPAL</td><td>Estabelecimento PUBLICO</td><td>Estabelecimento PUBLICO</td><td>Administração Direta da Saúde (MS, SES, e SMS)</td></tr>\n",
       "    <tr><td class='row_index'>1</td><td>2814714</td><td>SP</td><td>355030</td><td>PRIVADA</td><td>Estabelecimento PRIVADO LUCRATIVA</td><td></td><td>Empresa Privada</td></tr>\n",
       "    <tr><td class='row_index'>2</td><td>2784769</td><td>SP</td><td>351880</td><td>ESTADUAL</td><td>Estabelecimento PUBLICO</td><td>Estabelecimento PUBLICO</td><td>Administração Direta da Saúde (MS, SES, e SMS)</td></tr>\n",
       "    <tr><td class='row_index'>3</td><td>2051001</td><td>SP</td><td>350440</td><td>MUNICIPAL</td><td>Estabelecimento PUBLICO</td><td>Estabelecimento PUBLICO</td><td>Administração Direta da Saúde (MS, SES, e SMS)</td></tr>\n",
       "    <tr><td class='row_index'>4</td><td>8012806</td><td>SP</td><td>352390</td><td>MUNICIPAL</td><td>Estabelecimento PUBLICO</td><td>Estabelecimento PUBLICO</td><td>Administração Direta da Saúde (MS, SES, e SMS)</td></tr>\n",
       "    <tr><td class='row_index'>5</td><td>2028476</td><td>SP</td><td>355030</td><td>ESTADUAL</td><td>Estabelecimento PUBLICO</td><td>Estabelecimento PUBLICO</td><td>Administração Direta da Saúde (MS, SES, e SMS)</td></tr>\n",
       "    <tr><td class='row_index'>6</td><td>2093731</td><td>SP</td><td>355030</td><td>MUNICIPAL</td><td>Estabelecimento PUBLICO</td><td></td><td>Administração Direta da Saúde (MS, SES, e SMS)</td></tr>\n",
       "    <tr><td class='row_index'>7</td><td>2093766</td><td>SP</td><td>354090</td><td>MUNICIPAL</td><td>Estabelecimento PUBLICO</td><td>Estabelecimento PUBLICO</td><td>Administração Direta da Saúde (MS, SES, e SMS)</td></tr>\n",
       "    <tr><td class='row_index'>8</td><td>2093871</td><td>SP</td><td>354090</td><td>MUNICIPAL</td><td>Estabelecimento PUBLICO</td><td>Estabelecimento PUBLICO</td><td>Administração Direta da Saúde (MS, SES, e SMS)</td></tr>\n",
       "    <tr><td class='row_index'>9</td><td>2088894</td><td>SP</td><td>351340</td><td>MUNICIPAL</td><td>Estabelecimento PUBLICO</td><td>Estabelecimento PUBLICO</td><td>Administração Direta da Saúde (MS, SES, e SMS)</td></tr>\n",
       "    <tr><td class='row_index'>10</td><td>2088908</td><td>SP</td><td>350860</td><td>MUNICIPAL</td><td>Estabelecimento PUBLICO</td><td>Estabelecimento PUBLICO</td><td>Administração Direta da Saúde (MS, SES, e SMS)</td></tr>\n",
       "    <tr><td class='row_index'>11</td><td>2060701</td><td>SP</td><td>351620</td><td>ESTADUAL</td><td>Estabelecimento PUBLICO</td><td>Estabelecimento PUBLICO</td><td>Adm Indireta - Organização Social Pública</td></tr>\n",
       "    <tr><td class='row_index'>12</td><td>2050455</td><td>SP</td><td>350450</td><td>ESTADUAL</td><td>Estabelecimento PUBLICO</td><td>Estabelecimento PUBLICO</td><td>Administração Direta da Saúde (MS, SES, e SMS)</td></tr>\n",
       "    <tr><td class='row_index'>13</td><td>2094010</td><td>SP</td><td>353530</td><td>MUNICIPAL</td><td>Estabelecimento PUBLICO</td><td>Estabelecimento PUBLICO</td><td>Administração Direta da Saúde (MS, SES, e SMS)</td></tr>\n",
       "    <tr><td class='row_index'>14</td><td>2804794</td><td>SP</td><td>354980</td><td>PRIVADA</td><td>Estabelecimento PRIVADO LUCRATIVA</td><td>Estabelecimento PRIVADO LUCRATIVA</td><td>Empresa Privada</td></tr>\n",
       "    <tr><td class='row_index'>&#x22EE;</td><td class='hellipsis'>&#x22EE;</td><td class='hellipsis'>&#x22EE;</td><td class='hellipsis'>&#x22EE;</td><td class='hellipsis'>&#x22EE;</td><td class='hellipsis'>&#x22EE;</td><td class='hellipsis'>&#x22EE;</td><td class='hellipsis'>&#x22EE;</td></tr>\n",
       "    <tr><td class='row_index'>13,327,506</td><td>3742822</td><td>DF</td><td>530010</td><td>ESTADUAL</td><td>Estabelecimento PUBLICO</td><td>Estabelecimento PUBLICO</td><td>Administração Direta da Saúde (MS, SES, e SMS)</td></tr>\n",
       "    <tr><td class='row_index'>13,327,507</td><td>5447410</td><td>DF</td><td>530010</td><td>ESTADUAL</td><td>Estabelecimento PUBLICO</td><td>Estabelecimento PUBLICO</td><td>Administração Direta da Saúde (MS, SES, e SMS)</td></tr>\n",
       "    <tr><td class='row_index'>13,327,508</td><td>7022204</td><td>DF</td><td>530010</td><td>PRIVADA</td><td>Estabelecimento PRIVADO LUCRATIVA</td><td></td><td>Empresa Privada</td></tr>\n",
       "    <tr><td class='row_index'>13,327,509</td><td>7108923</td><td>DF</td><td>530010</td><td>ESTADUAL</td><td>Estabelecimento PUBLICO</td><td>Estabelecimento PUBLICO</td><td>Administração Direta da Saúde (MS, SES, e SMS)</td></tr>\n",
       "    <tr><td class='row_index'>13,327,510</td><td>7238703</td><td>DF</td><td>530010</td><td>ESTADUAL</td><td>Estabelecimento PUBLICO</td><td>Estabelecimento PUBLICO</td><td>Administração Direta da Saúde (MS, SES, e SMS)</td></tr>\n",
       "  </tbody>\n",
       "  </table>\n",
       "  <div class='footer'>\n",
       "    <div class='frame_dimensions'>13,327,511 rows &times; 7 columns</div>\n",
       "  </div>\n",
       "</div>\n"
      ],
      "text/plain": [
       "<Frame#7fa3613aec90 13327511x7>"
      ]
     },
     "execution_count": 10,
     "metadata": {},
     "output_type": "execute_result"
    }
   ],
   "source": [
    "path_zip_cnes = f'{Path.home()}/Databases/CNES/CNES.zip'\n",
    "output_cnes = path_zip_cnes.replace('zip', 'csv.gzip')\n",
    "# df_cnes = data_load(path_zip_cnes, cols_cnes, filter_cnes)\n",
    "# df_cnes.to_csv(output_cnes)\n",
    "df_cnes = dt.fread(output_cnes)\n",
    "df_cnes"
   ]
  },
  {
   "cell_type": "markdown",
   "metadata": {},
   "source": [
    "100%|██████████| 4374/4374 [05:40<00:00, 12.86it/s]"
   ]
  },
  {
   "cell_type": "markdown",
   "metadata": {},
   "source": [
    "## SINASC"
   ]
  },
  {
   "cell_type": "markdown",
   "metadata": {},
   "source": [
    "### Descrição"
   ]
  },
  {
   "cell_type": "markdown",
   "metadata": {},
   "source": [
    "Dados do Sistema de Informações sobre Nascidos Vivos (SINASC) reunidos pela Plataforma de Ciência de Dados aplicada à Saúde (PCDaS). Os dados foram obtidos junto ao DATASUS (Ministério da Saúde), tratados e enriquecidos seguindo uma metodologia própria de ETL da PCDaS, resultando em um dataset anual com todos os registros das declarações de nascidos vivos contidas no SINASC à partir de 1996. A atualização dos dados é realizada pelo DATASUS e a PCDaS extrai os registros anuais assim que disponibilizados. As colunas com nomes em MAIÚSCULO representam dados originais advindos do DATASUS e colunas com nomes iniciando em minúsculo representam dados resultantes de transformação ou enriquecimento."
   ]
  },
  {
   "cell_type": "markdown",
   "metadata": {},
   "source": [
    "### Selecionar"
   ]
  },
  {
   "cell_type": "markdown",
   "metadata": {},
   "source": [
    "#### Colunas"
   ]
  },
  {
   "cell_type": "code",
   "execution_count": 11,
   "metadata": {},
   "outputs": [],
   "source": [
    "cols_sinasc = {\n",
    "  'ano_nasc': 'ano',\n",
    "  'CODESTAB': 'cnes',\n",
    "  'nasc_codigo_adotado': 'hosp_municipio',\n",
    "  'res_codigo_adotado': 'res_municipio',\n",
    "  'nasc_RSAUDCOD': 'hosp_regiao_saude',\n",
    "  'res_RSAUDCOD': 'res_regiao_saude',\n",
    "  'def_parto': 'tipo_parto',\n",
    "  'GRAVIDEZ': 'n_gestados',\n",
    "  'CONSULTAS': 'n_pre_natal',\n",
    "  'IDADEMAE': 'idade',\n",
    "  'ESCMAE': 'nivel_escolaridade',\n",
    "  'RACACORMAE': 'raca_cor',\n",
    "  'def_raca_cor': 'nasc_raca_cor',\n",
    "  'def_sexo': 'nasc_sexo',\n",
    "  'PESO': 'nasc_peso',\n",
    "  'APGAR1': 'nasc_apgar1',\n",
    "  'APGAR5': 'nasc_apgar5',\n",
    "  'LOCNASC': 'local_nasc',\n",
    "}"
   ]
  },
  {
   "cell_type": "markdown",
   "metadata": {},
   "source": [
    "#### Linhas"
   ]
  },
  {
   "cell_type": "code",
   "execution_count": 12,
   "metadata": {},
   "outputs": [],
   "source": [
    "def filter_sinasc(df):\n",
    "  cols = list(cols_sinasc.values())[:-2]\n",
    "  cols = [c for c in cols if c in df.names]\n",
    "  if 'cnes' in df.names:\n",
    "    df_filtered = df[\n",
    "      (\n",
    "        (f['ano'] > 2009) & (f['ano'] < 2020)\n",
    "      ) & (\n",
    "        (f['idade'] > 9) & (f['idade'] < 50)\n",
    "      ) & (\n",
    "        (f['tipo_parto'] != 'Ignorado') # tipo parto\n",
    "      ) & (\n",
    "        (f['cnes'] != None)\n",
    "      ) & (\n",
    "        (f['local_nasc'] == 1) # Hospital\n",
    "      ) & (\n",
    "        (f['res_regiao_saude'] != 5301) # DF\n",
    "      ) & (\n",
    "        (f['res_regiao_saude'] != None)\n",
    "      ) & (\n",
    "        (f['hosp_regiao_saude'] != None)\n",
    "      ) & (\n",
    "        (f['res_municipio'] != None)\n",
    "      ) & (\n",
    "        (f['hosp_municipio'] != None)\n",
    "      ), cols]\n",
    "  else:\n",
    "    df_filtered = dt.Frame()\n",
    "  return df_filtered"
   ]
  },
  {
   "cell_type": "markdown",
   "metadata": {},
   "source": [
    "### Carregar dados"
   ]
  },
  {
   "cell_type": "code",
   "execution_count": 13,
   "metadata": {},
   "outputs": [
    {
     "data": {
      "text/html": [
       "<div class='datatable'>\n",
       "  <table class='frame'>\n",
       "  <thead>\n",
       "    <tr class='colnames'><td class='row_index'></td><th>ano</th><th>cnes</th><th>hosp_municipio</th><th>res_municipio</th><th>hosp_regiao_saude</th><th>res_regiao_saude</th><th>tipo_parto</th><th>n_gestados</th><th>n_pre_natal</th><th>idade</th><th class='vellipsis'>&hellip;</th><th>nasc_raca_cor</th><th>nasc_sexo</th><th>nasc_peso</th><th>nasc_apgar1</th><th>nasc_apgar5</th></tr>\n",
       "    <tr class='coltypes'><td class='row_index'></td><td class='int' title='int32'>&#x25AA;&#x25AA;&#x25AA;&#x25AA;</td><td class='int' title='int32'>&#x25AA;&#x25AA;&#x25AA;&#x25AA;</td><td class='int' title='int32'>&#x25AA;&#x25AA;&#x25AA;&#x25AA;</td><td class='int' title='int32'>&#x25AA;&#x25AA;&#x25AA;&#x25AA;</td><td class='int' title='int32'>&#x25AA;&#x25AA;&#x25AA;&#x25AA;</td><td class='int' title='int32'>&#x25AA;&#x25AA;&#x25AA;&#x25AA;</td><td class='str' title='str32'>&#x25AA;&#x25AA;&#x25AA;&#x25AA;</td><td class='int' title='int32'>&#x25AA;&#x25AA;&#x25AA;&#x25AA;</td><td class='int' title='int32'>&#x25AA;&#x25AA;&#x25AA;&#x25AA;</td><td class='int' title='int32'>&#x25AA;&#x25AA;&#x25AA;&#x25AA;</td><td></td><td class='str' title='str32'>&#x25AA;&#x25AA;&#x25AA;&#x25AA;</td><td class='str' title='str32'>&#x25AA;&#x25AA;&#x25AA;&#x25AA;</td><td class='int' title='int32'>&#x25AA;&#x25AA;&#x25AA;&#x25AA;</td><td class='int' title='int32'>&#x25AA;&#x25AA;&#x25AA;&#x25AA;</td><td class='int' title='int32'>&#x25AA;&#x25AA;&#x25AA;&#x25AA;</td></tr>\n",
       "  </thead>\n",
       "  <tbody>\n",
       "    <tr><td class='row_index'>0</td><td>2010</td><td>2515598</td><td>110002</td><td>120040</td><td>1104</td><td>1201</td><td>Cesáreo</td><td>1</td><td>4</td><td>24</td><td class=vellipsis>&hellip;</td><td>Branca</td><td>Masculino</td><td>3400</td><td>9</td><td>10</td></tr>\n",
       "    <tr><td class='row_index'>1</td><td>2010</td><td>3792595</td><td>110011</td><td>120040</td><td>1101</td><td>1201</td><td>Cesáreo</td><td>1</td><td>3</td><td>22</td><td class=vellipsis>&hellip;</td><td>Parda</td><td>Masculino</td><td>3950</td><td>8</td><td>9</td></tr>\n",
       "    <tr><td class='row_index'>2</td><td>2010</td><td>2798484</td><td>110030</td><td>120040</td><td>1103</td><td>1201</td><td>Vaginal</td><td>1</td><td>4</td><td>20</td><td class=vellipsis>&hellip;</td><td>Branca</td><td>Masculino</td><td>3550</td><td>8</td><td>9</td></tr>\n",
       "    <tr><td class='row_index'>3</td><td>2010</td><td>5701929</td><td>120001</td><td>120001</td><td>1201</td><td>1201</td><td>Vaginal</td><td>1</td><td>3</td><td>21</td><td class=vellipsis>&hellip;</td><td>Parda</td><td>Feminino</td><td>3000</td><td>9</td><td>10</td></tr>\n",
       "    <tr><td class='row_index'>4</td><td>2010</td><td>5701929</td><td>120001</td><td>120001</td><td>1201</td><td>1201</td><td>Vaginal</td><td>1</td><td>3</td><td>31</td><td class=vellipsis>&hellip;</td><td>Parda</td><td>Feminino</td><td>3000</td><td>9</td><td>10</td></tr>\n",
       "    <tr><td class='row_index'>5</td><td>2010</td><td>5701929</td><td>120001</td><td>120001</td><td>1201</td><td>1201</td><td>Vaginal</td><td>1</td><td>4</td><td>23</td><td class=vellipsis>&hellip;</td><td>Parda</td><td>Masculino</td><td>3900</td><td>7</td><td>9</td></tr>\n",
       "    <tr><td class='row_index'>6</td><td>2010</td><td>5701929</td><td>120001</td><td>120001</td><td>1201</td><td>1201</td><td>Vaginal</td><td>1</td><td>4</td><td>26</td><td class=vellipsis>&hellip;</td><td>Parda</td><td>Feminino</td><td>3250</td><td>7</td><td>10</td></tr>\n",
       "    <tr><td class='row_index'>7</td><td>2010</td><td>5701929</td><td>120001</td><td>120001</td><td>1201</td><td>1201</td><td>Vaginal</td><td>1</td><td>4</td><td>21</td><td class=vellipsis>&hellip;</td><td>Parda</td><td>Masculino</td><td>3500</td><td>8</td><td>10</td></tr>\n",
       "    <tr><td class='row_index'>8</td><td>2010</td><td>5701929</td><td>120001</td><td>120001</td><td>1201</td><td>1201</td><td>Vaginal</td><td>1</td><td>4</td><td>20</td><td class=vellipsis>&hellip;</td><td>Parda</td><td>Feminino</td><td>2900</td><td>8</td><td>9</td></tr>\n",
       "    <tr><td class='row_index'>9</td><td>2010</td><td>5701929</td><td>120001</td><td>120001</td><td>1201</td><td>1201</td><td>Vaginal</td><td>1</td><td>4</td><td>31</td><td class=vellipsis>&hellip;</td><td>Parda</td><td>Masculino</td><td>3400</td><td>8</td><td>10</td></tr>\n",
       "    <tr><td class='row_index'>10</td><td>2010</td><td>5701929</td><td>120001</td><td>120001</td><td>1201</td><td>1201</td><td>Vaginal</td><td>1</td><td>4</td><td>28</td><td class=vellipsis>&hellip;</td><td>Parda</td><td>Feminino</td><td>3900</td><td>8</td><td>9</td></tr>\n",
       "    <tr><td class='row_index'>11</td><td>2010</td><td>5701929</td><td>120001</td><td>120001</td><td>1201</td><td>1201</td><td>Vaginal</td><td>1</td><td>9</td><td>23</td><td class=vellipsis>&hellip;</td><td>Parda</td><td>Feminino</td><td>3200</td><td>8</td><td>9</td></tr>\n",
       "    <tr><td class='row_index'>12</td><td>2010</td><td>5701929</td><td>120001</td><td>120001</td><td>1201</td><td>1201</td><td>Vaginal</td><td>1</td><td>2</td><td>30</td><td class=vellipsis>&hellip;</td><td>Parda</td><td>Masculino</td><td>3050</td><td>8</td><td>9</td></tr>\n",
       "    <tr><td class='row_index'>13</td><td>2010</td><td>5701929</td><td>120001</td><td>120001</td><td>1201</td><td>1201</td><td>Vaginal</td><td>1</td><td>3</td><td>21</td><td class=vellipsis>&hellip;</td><td>Branca</td><td>Masculino</td><td>3500</td><td>8</td><td>9</td></tr>\n",
       "    <tr><td class='row_index'>14</td><td>2010</td><td>5701929</td><td>120001</td><td>120001</td><td>1201</td><td>1201</td><td>Vaginal</td><td>1</td><td>3</td><td>34</td><td class=vellipsis>&hellip;</td><td>Branca</td><td>Masculino</td><td>4000</td><td>10</td><td><span class=na>NA</span></td></tr>\n",
       "    <tr><td class='row_index'>&#x22EE;</td><td class='hellipsis'>&#x22EE;</td><td class='hellipsis'>&#x22EE;</td><td class='hellipsis'>&#x22EE;</td><td class='hellipsis'>&#x22EE;</td><td class='hellipsis'>&#x22EE;</td><td class='hellipsis'>&#x22EE;</td><td class='hellipsis'>&#x22EE;</td><td class='hellipsis'>&#x22EE;</td><td class='hellipsis'>&#x22EE;</td><td class='hellipsis'>&#x22EE;</td><td class='hellipsis'>&#x22F1;</td><td class='hellipsis'>&#x22EE;</td><td class='hellipsis'>&#x22EE;</td><td class='hellipsis'>&#x22EE;</td><td class='hellipsis'>&#x22EE;</td><td class='hellipsis'>&#x22EE;</td></tr>\n",
       "    <tr><td class='row_index'>28,197,159</td><td>2019</td><td>3427633</td><td>520870</td><td>170950</td><td>5201</td><td>1707</td><td>Cesáreo</td><td>1</td><td>4</td><td>29</td><td class=vellipsis>&hellip;</td><td>Parda</td><td>Feminino</td><td>1700</td><td>7</td><td>8</td></tr>\n",
       "    <tr><td class='row_index'>28,197,160</td><td>2019</td><td>10537</td><td>530010</td><td>170240</td><td>5301</td><td>1709</td><td>Cesáreo</td><td>1</td><td>3</td><td>36</td><td class=vellipsis>&hellip;</td><td>Ignorado</td><td>Ignorado</td><td>2870</td><td>8</td><td>9</td></tr>\n",
       "    <tr><td class='row_index'>28,197,161</td><td>2019</td><td>5717515</td><td>530010</td><td>170610</td><td>5301</td><td>1710</td><td>Cesáreo</td><td>1</td><td>3</td><td>21</td><td class=vellipsis>&hellip;</td><td>Parda</td><td>Masculino</td><td>2554</td><td>8</td><td>9</td></tr>\n",
       "    <tr><td class='row_index'>28,197,162</td><td>2019</td><td>5717515</td><td>530010</td><td>172100</td><td>5301</td><td>1705</td><td>Vaginal</td><td>1</td><td>4</td><td>21</td><td class=vellipsis>&hellip;</td><td>Parda</td><td>Feminino</td><td>2610</td><td>8</td><td>9</td></tr>\n",
       "    <tr><td class='row_index'>28,197,163</td><td>2019</td><td>3019608</td><td>530010</td><td>170240</td><td>5301</td><td>1709</td><td>Vaginal</td><td>1</td><td>4</td><td>30</td><td class=vellipsis>&hellip;</td><td>Parda</td><td>Masculino</td><td>2975</td><td>9</td><td>10</td></tr>\n",
       "  </tbody>\n",
       "  </table>\n",
       "  <div class='footer'>\n",
       "    <div class='frame_dimensions'>28,197,164 rows &times; 17 columns</div>\n",
       "  </div>\n",
       "</div>\n"
      ],
      "text/plain": [
       "<Frame#7fa361ea95a0 28197164x17>"
      ]
     },
     "execution_count": 13,
     "metadata": {},
     "output_type": "execute_result"
    }
   ],
   "source": [
    "path_zip_sinasc = f'{Path.home()}/Databases/SINASC/SINASC.zip'\n",
    "output_sinasc = path_zip_sinasc.replace('zip', 'csv.gzip')\n",
    "# df_sinasc = data_load(path_zip_sinasc, cols_sinasc, filter_sinasc)\n",
    "# df_sinasc.to_csv(output_sinasc)\n",
    "df_sinasc = dt.fread(output_sinasc)\n",
    "df_sinasc"
   ]
  },
  {
   "cell_type": "markdown",
   "metadata": {},
   "source": [
    "100%|██████████| 675/675 [03:03<00:00,  3.69it/s]"
   ]
  },
  {
   "cell_type": "markdown",
   "metadata": {},
   "source": [
    "## SIH"
   ]
  },
  {
   "cell_type": "markdown",
   "metadata": {},
   "source": [
    "### Descrição"
   ]
  },
  {
   "cell_type": "markdown",
   "metadata": {},
   "source": [
    "Dados do Sistema de Informações Hospitalares do SUS (SIHSUS) reunidos pela Plataforma de Ciência de Dados aplicada à Saúde (PCDaS). Os dados foram obtidos junto ao DATASUS (Ministério da Saúde), tratados e enriquecidos seguindo uma metodologia própria de ETL (processo de extração, transformação e carga dos dados) da PCDaS, resultando em um dataset mensal com todos os registros de internações hospitalares contidos no SIHSUS à partir de janeiro de 2008.\n",
    "\n",
    "A atualização dos dados é realizada pelo DATASUS e a PCDaS extrai os registros mensais referentes aos arquivos `RD_UF_ANO_MÊS.dbc` (Reduzidos de AIH) assim que disponibilizados. As colunas com nomes em MAIÚSCULO representam dados originais advindos do DATASUS e colunas com nomes iniciando em minúsculo representam dados resultantes de transformação ou enriquecimento."
   ]
  },
  {
   "cell_type": "markdown",
   "metadata": {},
   "source": [
    "### Selecionar"
   ]
  },
  {
   "cell_type": "markdown",
   "metadata": {},
   "source": [
    "#### Colunas"
   ]
  },
  {
   "cell_type": "code",
   "execution_count": 14,
   "metadata": {},
   "outputs": [],
   "source": [
    "cols_sih = {\n",
    "  'ano_internacao': 'ano',\n",
    "  'CNES': 'cnes',\n",
    "  'int_codigo_adotado': 'hosp_municipio',\n",
    "  'res_codigo_adotado': 'res_municipio',\n",
    "  'int_RSAUDCOD': 'hosp_regiao_saude',\n",
    "  'res_RSAUDCOD': 'res_regiao_saude',\n",
    "  'PROC_REA': 'tipo_parto',\n",
    "  'def_idade_anos': 'idade',\n",
    "}"
   ]
  },
  {
   "cell_type": "markdown",
   "metadata": {},
   "source": [
    "#### Linhas"
   ]
  },
  {
   "cell_type": "code",
   "execution_count": 15,
   "metadata": {},
   "outputs": [],
   "source": [
    "def filter_sih(df):\n",
    "  cols = list(cols_sinasc.values())[:-1]\n",
    "  cols = [c for c in cols if c in df.names]\n",
    "  df_filtered = df[\n",
    "    (\n",
    "      (f['ano'] > 2009) & (f['ano'] < 2020)\n",
    "    ) & (\n",
    "      (f['idade'] > 9) & (f['idade'] < 50)\n",
    "    ) & (\n",
    "      (f['tipo_parto'] == 310010039) | (f['tipo_parto'] == 411010034)\n",
    "    ) & (\n",
    "      (f['cnes'] != None)\n",
    "    ) & (\n",
    "      (f['res_regiao_saude'] != 5301) # DF\n",
    "    ) & (\n",
    "      (f['res_regiao_saude'] != None)\n",
    "    ) & (\n",
    "      (f['hosp_regiao_saude'] != None)\n",
    "    ) & (\n",
    "      (f['res_municipio'] != None)\n",
    "    ), cols]\n",
    "  return df_filtered"
   ]
  },
  {
   "cell_type": "markdown",
   "metadata": {},
   "source": [
    "### Carregar dados"
   ]
  },
  {
   "cell_type": "code",
   "execution_count": 17,
   "metadata": {},
   "outputs": [
    {
     "data": {
      "text/html": [
       "<div class='datatable'>\n",
       "  <table class='frame'>\n",
       "  <thead>\n",
       "    <tr class='colnames'><td class='row_index'></td><th>cnes</th><th>uf</th><th>cod_mun</th><th>esfera_adm</th><th>retencao_tributos</th><th>tipo_retenção</th><th>natureza</th></tr>\n",
       "    <tr class='coltypes'><td class='row_index'></td><td class='int' title='int32'>&#x25AA;&#x25AA;&#x25AA;&#x25AA;</td><td class='str' title='str32'>&#x25AA;&#x25AA;&#x25AA;&#x25AA;</td><td class='int' title='int32'>&#x25AA;&#x25AA;&#x25AA;&#x25AA;</td><td class='str' title='str32'>&#x25AA;&#x25AA;&#x25AA;&#x25AA;</td><td class='str' title='str32'>&#x25AA;&#x25AA;&#x25AA;&#x25AA;</td><td class='str' title='str32'>&#x25AA;&#x25AA;&#x25AA;&#x25AA;</td><td class='str' title='str32'>&#x25AA;&#x25AA;&#x25AA;&#x25AA;</td></tr>\n",
       "  </thead>\n",
       "  <tbody>\n",
       "    <tr><td class='row_index'>0</td><td>2786052</td><td>SP</td><td>350410</td><td>MUNICIPAL</td><td>Estabelecimento PUBLICO</td><td>Estabelecimento PUBLICO</td><td>Administração Direta da Saúde (MS, SES, e SMS)</td></tr>\n",
       "    <tr><td class='row_index'>1</td><td>2814714</td><td>SP</td><td>355030</td><td>PRIVADA</td><td>Estabelecimento PRIVADO LUCRATIVA</td><td></td><td>Empresa Privada</td></tr>\n",
       "    <tr><td class='row_index'>2</td><td>2784769</td><td>SP</td><td>351880</td><td>ESTADUAL</td><td>Estabelecimento PUBLICO</td><td>Estabelecimento PUBLICO</td><td>Administração Direta da Saúde (MS, SES, e SMS)</td></tr>\n",
       "    <tr><td class='row_index'>3</td><td>2051001</td><td>SP</td><td>350440</td><td>MUNICIPAL</td><td>Estabelecimento PUBLICO</td><td>Estabelecimento PUBLICO</td><td>Administração Direta da Saúde (MS, SES, e SMS)</td></tr>\n",
       "    <tr><td class='row_index'>4</td><td>8012806</td><td>SP</td><td>352390</td><td>MUNICIPAL</td><td>Estabelecimento PUBLICO</td><td>Estabelecimento PUBLICO</td><td>Administração Direta da Saúde (MS, SES, e SMS)</td></tr>\n",
       "    <tr><td class='row_index'>5</td><td>2028476</td><td>SP</td><td>355030</td><td>ESTADUAL</td><td>Estabelecimento PUBLICO</td><td>Estabelecimento PUBLICO</td><td>Administração Direta da Saúde (MS, SES, e SMS)</td></tr>\n",
       "    <tr><td class='row_index'>6</td><td>2093731</td><td>SP</td><td>355030</td><td>MUNICIPAL</td><td>Estabelecimento PUBLICO</td><td></td><td>Administração Direta da Saúde (MS, SES, e SMS)</td></tr>\n",
       "    <tr><td class='row_index'>7</td><td>2093766</td><td>SP</td><td>354090</td><td>MUNICIPAL</td><td>Estabelecimento PUBLICO</td><td>Estabelecimento PUBLICO</td><td>Administração Direta da Saúde (MS, SES, e SMS)</td></tr>\n",
       "    <tr><td class='row_index'>8</td><td>2093871</td><td>SP</td><td>354090</td><td>MUNICIPAL</td><td>Estabelecimento PUBLICO</td><td>Estabelecimento PUBLICO</td><td>Administração Direta da Saúde (MS, SES, e SMS)</td></tr>\n",
       "    <tr><td class='row_index'>9</td><td>2088894</td><td>SP</td><td>351340</td><td>MUNICIPAL</td><td>Estabelecimento PUBLICO</td><td>Estabelecimento PUBLICO</td><td>Administração Direta da Saúde (MS, SES, e SMS)</td></tr>\n",
       "    <tr><td class='row_index'>10</td><td>2088908</td><td>SP</td><td>350860</td><td>MUNICIPAL</td><td>Estabelecimento PUBLICO</td><td>Estabelecimento PUBLICO</td><td>Administração Direta da Saúde (MS, SES, e SMS)</td></tr>\n",
       "    <tr><td class='row_index'>11</td><td>2060701</td><td>SP</td><td>351620</td><td>ESTADUAL</td><td>Estabelecimento PUBLICO</td><td>Estabelecimento PUBLICO</td><td>Adm Indireta - Organização Social Pública</td></tr>\n",
       "    <tr><td class='row_index'>12</td><td>2050455</td><td>SP</td><td>350450</td><td>ESTADUAL</td><td>Estabelecimento PUBLICO</td><td>Estabelecimento PUBLICO</td><td>Administração Direta da Saúde (MS, SES, e SMS)</td></tr>\n",
       "    <tr><td class='row_index'>13</td><td>2094010</td><td>SP</td><td>353530</td><td>MUNICIPAL</td><td>Estabelecimento PUBLICO</td><td>Estabelecimento PUBLICO</td><td>Administração Direta da Saúde (MS, SES, e SMS)</td></tr>\n",
       "    <tr><td class='row_index'>14</td><td>2804794</td><td>SP</td><td>354980</td><td>PRIVADA</td><td>Estabelecimento PRIVADO LUCRATIVA</td><td>Estabelecimento PRIVADO LUCRATIVA</td><td>Empresa Privada</td></tr>\n",
       "    <tr><td class='row_index'>&#x22EE;</td><td class='hellipsis'>&#x22EE;</td><td class='hellipsis'>&#x22EE;</td><td class='hellipsis'>&#x22EE;</td><td class='hellipsis'>&#x22EE;</td><td class='hellipsis'>&#x22EE;</td><td class='hellipsis'>&#x22EE;</td><td class='hellipsis'>&#x22EE;</td></tr>\n",
       "    <tr><td class='row_index'>13,327,506</td><td>3742822</td><td>DF</td><td>530010</td><td>ESTADUAL</td><td>Estabelecimento PUBLICO</td><td>Estabelecimento PUBLICO</td><td>Administração Direta da Saúde (MS, SES, e SMS)</td></tr>\n",
       "    <tr><td class='row_index'>13,327,507</td><td>5447410</td><td>DF</td><td>530010</td><td>ESTADUAL</td><td>Estabelecimento PUBLICO</td><td>Estabelecimento PUBLICO</td><td>Administração Direta da Saúde (MS, SES, e SMS)</td></tr>\n",
       "    <tr><td class='row_index'>13,327,508</td><td>7022204</td><td>DF</td><td>530010</td><td>PRIVADA</td><td>Estabelecimento PRIVADO LUCRATIVA</td><td></td><td>Empresa Privada</td></tr>\n",
       "    <tr><td class='row_index'>13,327,509</td><td>7108923</td><td>DF</td><td>530010</td><td>ESTADUAL</td><td>Estabelecimento PUBLICO</td><td>Estabelecimento PUBLICO</td><td>Administração Direta da Saúde (MS, SES, e SMS)</td></tr>\n",
       "    <tr><td class='row_index'>13,327,510</td><td>7238703</td><td>DF</td><td>530010</td><td>ESTADUAL</td><td>Estabelecimento PUBLICO</td><td>Estabelecimento PUBLICO</td><td>Administração Direta da Saúde (MS, SES, e SMS)</td></tr>\n",
       "  </tbody>\n",
       "  </table>\n",
       "  <div class='footer'>\n",
       "    <div class='frame_dimensions'>13,327,511 rows &times; 7 columns</div>\n",
       "  </div>\n",
       "</div>\n"
      ],
      "text/plain": [
       "<Frame#7fa36264a270 13327511x7>"
      ]
     },
     "execution_count": 17,
     "metadata": {},
     "output_type": "execute_result"
    }
   ],
   "source": [
    "path_zip_sih = '/Volumes/SanDisk/SIHSUS.zip'\n",
    "output_sih = f'{Path.home()}/Databases/CNES/CNES.csv.gzip'\n",
    "# df_sih = data_load(path_zip_sih, cols_sih, filter_sih)\n",
    "# df_sih.to_csv(output_sih)\n",
    "df_sih = dt.fread(output_sih)\n",
    "df_sih"
   ]
  },
  {
   "cell_type": "markdown",
   "metadata": {},
   "source": [
    "100%|██████████| 4400/4400 [24:46<00:00,  2.96it/s]"
   ]
  }
 ],
 "metadata": {
  "kernelspec": {
   "display_name": "Python 3.9.13 ('base')",
   "language": "python",
   "name": "python3"
  },
  "language_info": {
   "codemirror_mode": {
    "name": "ipython",
    "version": 3
   },
   "file_extension": ".py",
   "mimetype": "text/x-python",
   "name": "python",
   "nbconvert_exporter": "python",
   "pygments_lexer": "ipython3",
   "version": "3.9.13"
  },
  "orig_nbformat": 4,
  "vscode": {
   "interpreter": {
    "hash": "6c01efea219ea0303b6e6cd1897665114cc62146ed112ea21ec489238fdae255"
   }
  }
 },
 "nbformat": 4,
 "nbformat_minor": 2
}
