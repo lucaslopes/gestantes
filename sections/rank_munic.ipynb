{
 "cells": [
  {
   "cell_type": "raw",
   "metadata": {},
   "source": [
    "---\n",
    "title: \"Rank Município\"\n",
    "---"
   ]
  },
  {
   "cell_type": "code",
   "execution_count": 1,
   "metadata": {},
   "outputs": [
    {
     "data": {
      "text/html": [
       "<style type='text/css'>\n",
       ".datatable table.frame { margin-bottom: 0; }\n",
       ".datatable table.frame thead { border-bottom: none; }\n",
       ".datatable table.frame tr.coltypes td {  color: #FFFFFF;  line-height: 6px;  padding: 0 0.5em;}\n",
       ".datatable .bool    { background: #DDDD99; }\n",
       ".datatable .object  { background: #565656; }\n",
       ".datatable .int     { background: #5D9E5D; }\n",
       ".datatable .float   { background: #4040CC; }\n",
       ".datatable .str     { background: #CC4040; }\n",
       ".datatable .time    { background: #40CC40; }\n",
       ".datatable .row_index {  background: var(--jp-border-color3);  border-right: 1px solid var(--jp-border-color0);  color: var(--jp-ui-font-color3);  font-size: 9px;}\n",
       ".datatable .frame tbody td { text-align: left; }\n",
       ".datatable .frame tr.coltypes .row_index {  background: var(--jp-border-color0);}\n",
       ".datatable th:nth-child(2) { padding-left: 12px; }\n",
       ".datatable .hellipsis {  color: var(--jp-cell-editor-border-color);}\n",
       ".datatable .vellipsis {  background: var(--jp-layout-color0);  color: var(--jp-cell-editor-border-color);}\n",
       ".datatable .na {  color: var(--jp-cell-editor-border-color);  font-size: 80%;}\n",
       ".datatable .sp {  opacity: 0.25;}\n",
       ".datatable .footer { font-size: 9px; }\n",
       ".datatable .frame_dimensions {  background: var(--jp-border-color3);  border-top: 1px solid var(--jp-border-color0);  color: var(--jp-ui-font-color3);  display: inline-block;  opacity: 0.6;  padding: 1px 10px 1px 5px;}\n",
       "</style>\n"
      ],
      "text/plain": [
       "<IPython.core.display.HTML object>"
      ]
     },
     "metadata": {},
     "output_type": "display_data"
    }
   ],
   "source": [
    "import pandas as pd\n",
    "from utils import get_path, group_cols\n",
    "from datatable import dt, f, by"
   ]
  },
  {
   "cell_type": "markdown",
   "metadata": {},
   "source": [
    "# Descrição"
   ]
  },
  {
   "cell_type": "markdown",
   "metadata": {},
   "source": [
    "Neste notebook iremos formar a tabela deslocamento, com origem e destino."
   ]
  },
  {
   "cell_type": "markdown",
   "metadata": {},
   "source": [
    "# Tabelas base"
   ]
  },
  {
   "cell_type": "markdown",
   "metadata": {},
   "source": [
    "## Tabela Localidades"
   ]
  },
  {
   "cell_type": "markdown",
   "metadata": {},
   "source": [
    "### Colunas"
   ]
  },
  {
   "cell_type": "code",
   "execution_count": 2,
   "metadata": {},
   "outputs": [],
   "source": [
    "cols_locs = {\n",
    "  'codigo': 'codigo',\n",
    "  'nome_municipio': 'nome',\n",
    "  'socioecon': 'socioecon',\n",
    "  'capital': 'capital',\n",
    "  ...: None,\n",
    "}"
   ]
  },
  {
   "cell_type": "markdown",
   "metadata": {},
   "source": [
    "### Carregando tabela"
   ]
  },
  {
   "cell_type": "code",
   "execution_count": 3,
   "metadata": {},
   "outputs": [
    {
     "data": {
      "text/html": [
       "<div class='datatable'>\n",
       "  <table class='frame'>\n",
       "  <thead>\n",
       "    <tr class='colnames'><td class='row_index'></td><th>codigo</th><th>nome</th><th>capital</th><th>socioecon</th></tr>\n",
       "    <tr class='coltypes'><td class='row_index'></td><td class='str' title='str32'>&#x25AA;&#x25AA;&#x25AA;&#x25AA;</td><td class='str' title='str32'>&#x25AA;&#x25AA;&#x25AA;&#x25AA;</td><td class='bool' title='bool8'>&#x25AA;</td><td class='int' title='int32'>&#x25AA;&#x25AA;&#x25AA;&#x25AA;</td></tr>\n",
       "  </thead>\n",
       "  <tbody>\n",
       "    <tr><td class='row_index'>0</td><td>CO/GO/52001/520005</td><td>Abadia de Goiás</td><td>0</td><td>5</td></tr>\n",
       "    <tr><td class='row_index'>1</td><td>SD/MG/31052/310010</td><td>Abadia dos Dourados</td><td>0</td><td>2</td></tr>\n",
       "    <tr><td class='row_index'>2</td><td>CO/GO/52011/520010</td><td>Abadiânia</td><td>0</td><td>3</td></tr>\n",
       "    <tr><td class='row_index'>3</td><td>SD/MG/31067/310020</td><td>Abaeté</td><td>0</td><td>3</td></tr>\n",
       "    <tr><td class='row_index'>4</td><td>NT/PA/15011/150010</td><td>Abaetetuba</td><td>0</td><td>1</td></tr>\n",
       "    <tr><td class='row_index'>5</td><td>ND/CE/23019/230010</td><td>Abaiara</td><td>0</td><td>1</td></tr>\n",
       "    <tr><td class='row_index'>6</td><td>ND/BA/29023/290010</td><td>Abaíra</td><td>0</td><td>1</td></tr>\n",
       "    <tr><td class='row_index'>7</td><td>ND/BA/29017/290020</td><td>Abaré</td><td>0</td><td>1</td></tr>\n",
       "    <tr><td class='row_index'>8</td><td>SL/PR/41018/410010</td><td>Abatiá</td><td>0</td><td>3</td></tr>\n",
       "    <tr><td class='row_index'>9</td><td>SL/SC/42008/420005</td><td>Abdon Batista</td><td>0</td><td>3</td></tr>\n",
       "    <tr><td class='row_index'>10</td><td>NT/PA/15003/150013</td><td>Abel Figueiredo</td><td>0</td><td>2</td></tr>\n",
       "    <tr><td class='row_index'>11</td><td>SL/SC/42003/420010</td><td>Abelardo Luz</td><td>0</td><td>3</td></tr>\n",
       "    <tr><td class='row_index'>12</td><td>SD/MG/31041/310030</td><td>Abre Campo</td><td>0</td><td>1</td></tr>\n",
       "    <tr><td class='row_index'>13</td><td>ND/PE/26010/260005</td><td>Abreu e Lima</td><td>0</td><td>5</td></tr>\n",
       "    <tr><td class='row_index'>14</td><td>NT/TO/17007/170025</td><td>Abreulândia</td><td>0</td><td>2</td></tr>\n",
       "    <tr><td class='row_index'>&#x22EE;</td><td class='hellipsis'>&#x22EE;</td><td class='hellipsis'>&#x22EE;</td><td class='hellipsis'>&#x22EE;</td><td class='hellipsis'>&#x22EE;</td></tr>\n",
       "    <tr><td class='row_index'>5565</td><td>ND/BA/29010/293360</td><td>Xique-Xique</td><td>0</td><td>1</td></tr>\n",
       "    <tr><td class='row_index'>5566</td><td>ND/PB/25005/251740</td><td>Zabelê</td><td>0</td><td>1</td></tr>\n",
       "    <tr><td class='row_index'>5567</td><td>SD/SP/35156/355715</td><td>Zacarias</td><td>0</td><td>3</td></tr>\n",
       "    <tr><td class='row_index'>5568</td><td>ND/MA/21019/211400</td><td>Zé Doca</td><td>0</td><td>1</td></tr>\n",
       "    <tr><td class='row_index'>5569</td><td>SL/SC/42008/421985</td><td>Zortéa</td><td>0</td><td>3</td></tr>\n",
       "  </tbody>\n",
       "  </table>\n",
       "  <div class='footer'>\n",
       "    <div class='frame_dimensions'>5570 rows &times; 4 columns</div>\n",
       "  </div>\n",
       "</div>\n"
      ],
      "text/plain": [
       "<Frame#7fe7096b4b70 5570x4>"
      ]
     },
     "execution_count": 3,
     "metadata": {},
     "output_type": "execute_result"
    }
   ],
   "source": [
    "path_locs = get_path('LOCALIDADES', 'localidades.csv.gzip')\n",
    "df_locs = dt.fread(path_locs, columns=cols_locs)\n",
    "df_locs"
   ]
  },
  {
   "cell_type": "markdown",
   "metadata": {},
   "source": [
    "## Tabela Procedimentos"
   ]
  },
  {
   "cell_type": "markdown",
   "metadata": {},
   "source": [
    "### Colunas"
   ]
  },
  {
   "cell_type": "code",
   "execution_count": 4,
   "metadata": {},
   "outputs": [],
   "source": [
    "cols_proc = {\n",
    "  'bienio': 'bienio',\n",
    "  'parto_normal': 'parto_normal',\n",
    "  'origem': 'codigo',\n",
    "  'criticidade': 'criticidade',\n",
    "  'count': 'count',\n",
    "  ...: None,\n",
    "}"
   ]
  },
  {
   "cell_type": "markdown",
   "metadata": {},
   "source": [
    "### Carregando tabela"
   ]
  },
  {
   "cell_type": "code",
   "execution_count": 5,
   "metadata": {},
   "outputs": [
    {
     "data": {
      "text/html": [
       "<div class='datatable'>\n",
       "  <table class='frame'>\n",
       "  <thead>\n",
       "    <tr class='colnames'><td class='row_index'></td><th>bienio</th><th>parto_normal</th><th>codigo</th><th>criticidade</th><th>count</th></tr>\n",
       "    <tr class='coltypes'><td class='row_index'></td><td class='bool' title='bool8'>&#x25AA;</td><td class='bool' title='bool8'>&#x25AA;</td><td class='str' title='str32'>&#x25AA;&#x25AA;&#x25AA;&#x25AA;</td><td class='int' title='int32'>&#x25AA;&#x25AA;&#x25AA;&#x25AA;</td><td class='int' title='int32'>&#x25AA;&#x25AA;&#x25AA;&#x25AA;</td></tr>\n",
       "  </thead>\n",
       "  <tbody>\n",
       "    <tr><td class='row_index'>0</td><td>0</td><td>0</td><td>CO/DF/53001/530010</td><td>0</td><td>260</td></tr>\n",
       "    <tr><td class='row_index'>1</td><td>0</td><td>0</td><td>CO/DF/53001/530010</td><td>0</td><td>282</td></tr>\n",
       "    <tr><td class='row_index'>2</td><td>0</td><td>0</td><td>CO/DF/53001/530010</td><td>0</td><td>3323</td></tr>\n",
       "    <tr><td class='row_index'>3</td><td>0</td><td>0</td><td>CO/DF/53001/530010</td><td>0</td><td>3368</td></tr>\n",
       "    <tr><td class='row_index'>4</td><td>0</td><td>0</td><td>CO/DF/53001/530010</td><td>0</td><td>964</td></tr>\n",
       "    <tr><td class='row_index'>5</td><td>0</td><td>0</td><td>CO/DF/53001/530010</td><td>0</td><td>832</td></tr>\n",
       "    <tr><td class='row_index'>6</td><td>0</td><td>0</td><td>CO/DF/53001/530010</td><td>0</td><td>1831</td></tr>\n",
       "    <tr><td class='row_index'>7</td><td>0</td><td>0</td><td>CO/DF/53001/530010</td><td>0</td><td>3707</td></tr>\n",
       "    <tr><td class='row_index'>8</td><td>0</td><td>0</td><td>CO/DF/53001/530010</td><td>0</td><td>728</td></tr>\n",
       "    <tr><td class='row_index'>9</td><td>0</td><td>0</td><td>CO/DF/53001/530010</td><td>0</td><td>1</td></tr>\n",
       "    <tr><td class='row_index'>10</td><td>0</td><td>0</td><td>CO/DF/53001/530010</td><td>0</td><td>2251</td></tr>\n",
       "    <tr><td class='row_index'>11</td><td>0</td><td>0</td><td>CO/DF/53001/530010</td><td>0</td><td>1561</td></tr>\n",
       "    <tr><td class='row_index'>12</td><td>0</td><td>0</td><td>CO/DF/53001/530010</td><td>0</td><td>1798</td></tr>\n",
       "    <tr><td class='row_index'>13</td><td>0</td><td>0</td><td>CO/DF/53001/530010</td><td>3</td><td>4</td></tr>\n",
       "    <tr><td class='row_index'>14</td><td>0</td><td>0</td><td>CO/DF/53001/530010</td><td>4</td><td>1</td></tr>\n",
       "    <tr><td class='row_index'>&#x22EE;</td><td class='hellipsis'>&#x22EE;</td><td class='hellipsis'>&#x22EE;</td><td class='hellipsis'>&#x22EE;</td><td class='hellipsis'>&#x22EE;</td><td class='hellipsis'>&#x22EE;</td></tr>\n",
       "    <tr><td class='row_index'>124,980</td><td>1</td><td>1</td><td>SL/SC/42016/421870</td><td>2</td><td>1</td></tr>\n",
       "    <tr><td class='row_index'>124,981</td><td>1</td><td>1</td><td>SL/SC/42016/421870</td><td>2</td><td>1</td></tr>\n",
       "    <tr><td class='row_index'>124,982</td><td>1</td><td>1</td><td>SL/SC/42016/421870</td><td>1</td><td>2</td></tr>\n",
       "    <tr><td class='row_index'>124,983</td><td>1</td><td>1</td><td>SL/SC/42016/421870</td><td>1</td><td>1</td></tr>\n",
       "    <tr><td class='row_index'>124,984</td><td>1</td><td>1</td><td>SL/SC/42016/421870</td><td>0</td><td>441</td></tr>\n",
       "  </tbody>\n",
       "  </table>\n",
       "  <div class='footer'>\n",
       "    <div class='frame_dimensions'>124,985 rows &times; 5 columns</div>\n",
       "  </div>\n",
       "</div>\n"
      ],
      "text/plain": [
       "<Frame#7fe709962b10 124985x5>"
      ]
     },
     "execution_count": 5,
     "metadata": {},
     "output_type": "execute_result"
    }
   ],
   "source": [
    "path_proc = get_path('GESTANTES', 'procs_bienio.csv.gzip')\n",
    "df_proc = dt.fread(path_proc, columns=cols_proc)\n",
    "df_proc"
   ]
  },
  {
   "cell_type": "markdown",
   "metadata": {},
   "source": [
    "### Definindo criticidade"
   ]
  },
  {
   "cell_type": "code",
   "execution_count": 6,
   "metadata": {},
   "outputs": [
    {
     "data": {
      "text/html": [
       "<div class='datatable'>\n",
       "  <table class='frame'>\n",
       "  <thead>\n",
       "    <tr class='colnames'><td class='row_index'></td><th>bienio</th><th>parto_normal</th><th>codigo</th><th>criticidade</th><th>count</th></tr>\n",
       "    <tr class='coltypes'><td class='row_index'></td><td class='bool' title='bool8'>&#x25AA;</td><td class='bool' title='bool8'>&#x25AA;</td><td class='str' title='str32'>&#x25AA;&#x25AA;&#x25AA;&#x25AA;</td><td class='bool' title='bool8'>&#x25AA;</td><td class='int' title='int32'>&#x25AA;&#x25AA;&#x25AA;&#x25AA;</td></tr>\n",
       "  </thead>\n",
       "  <tbody>\n",
       "    <tr><td class='row_index'>0</td><td>0</td><td>0</td><td>CO/DF/53001/530010</td><td>0</td><td>260</td></tr>\n",
       "    <tr><td class='row_index'>1</td><td>0</td><td>0</td><td>CO/DF/53001/530010</td><td>0</td><td>282</td></tr>\n",
       "    <tr><td class='row_index'>2</td><td>0</td><td>0</td><td>CO/DF/53001/530010</td><td>0</td><td>3323</td></tr>\n",
       "    <tr><td class='row_index'>3</td><td>0</td><td>0</td><td>CO/DF/53001/530010</td><td>0</td><td>3368</td></tr>\n",
       "    <tr><td class='row_index'>4</td><td>0</td><td>0</td><td>CO/DF/53001/530010</td><td>0</td><td>964</td></tr>\n",
       "    <tr><td class='row_index'>5</td><td>0</td><td>0</td><td>CO/DF/53001/530010</td><td>0</td><td>832</td></tr>\n",
       "    <tr><td class='row_index'>6</td><td>0</td><td>0</td><td>CO/DF/53001/530010</td><td>0</td><td>1831</td></tr>\n",
       "    <tr><td class='row_index'>7</td><td>0</td><td>0</td><td>CO/DF/53001/530010</td><td>0</td><td>3707</td></tr>\n",
       "    <tr><td class='row_index'>8</td><td>0</td><td>0</td><td>CO/DF/53001/530010</td><td>0</td><td>728</td></tr>\n",
       "    <tr><td class='row_index'>9</td><td>0</td><td>0</td><td>CO/DF/53001/530010</td><td>0</td><td>1</td></tr>\n",
       "    <tr><td class='row_index'>10</td><td>0</td><td>0</td><td>CO/DF/53001/530010</td><td>0</td><td>2251</td></tr>\n",
       "    <tr><td class='row_index'>11</td><td>0</td><td>0</td><td>CO/DF/53001/530010</td><td>0</td><td>1561</td></tr>\n",
       "    <tr><td class='row_index'>12</td><td>0</td><td>0</td><td>CO/DF/53001/530010</td><td>0</td><td>1798</td></tr>\n",
       "    <tr><td class='row_index'>13</td><td>0</td><td>0</td><td>CO/DF/53001/530010</td><td>1</td><td>4</td></tr>\n",
       "    <tr><td class='row_index'>14</td><td>0</td><td>0</td><td>CO/DF/53001/530010</td><td>1</td><td>1</td></tr>\n",
       "    <tr><td class='row_index'>&#x22EE;</td><td class='hellipsis'>&#x22EE;</td><td class='hellipsis'>&#x22EE;</td><td class='hellipsis'>&#x22EE;</td><td class='hellipsis'>&#x22EE;</td><td class='hellipsis'>&#x22EE;</td></tr>\n",
       "    <tr><td class='row_index'>124,980</td><td>1</td><td>1</td><td>SL/SC/42016/421870</td><td>1</td><td>1</td></tr>\n",
       "    <tr><td class='row_index'>124,981</td><td>1</td><td>1</td><td>SL/SC/42016/421870</td><td>1</td><td>1</td></tr>\n",
       "    <tr><td class='row_index'>124,982</td><td>1</td><td>1</td><td>SL/SC/42016/421870</td><td>1</td><td>2</td></tr>\n",
       "    <tr><td class='row_index'>124,983</td><td>1</td><td>1</td><td>SL/SC/42016/421870</td><td>1</td><td>1</td></tr>\n",
       "    <tr><td class='row_index'>124,984</td><td>1</td><td>1</td><td>SL/SC/42016/421870</td><td>0</td><td>441</td></tr>\n",
       "  </tbody>\n",
       "  </table>\n",
       "  <div class='footer'>\n",
       "    <div class='frame_dimensions'>124,985 rows &times; 5 columns</div>\n",
       "  </div>\n",
       "</div>\n"
      ],
      "text/plain": [
       "<Frame#7fe709962b10 124985x5>"
      ]
     },
     "execution_count": 6,
     "metadata": {},
     "output_type": "execute_result"
    }
   ],
   "source": [
    "df_proc[:, dt.update(criticidade = f.criticidade != 0)]\n",
    "df_proc"
   ]
  },
  {
   "cell_type": "markdown",
   "metadata": {},
   "source": [
    "### Tabela agregada"
   ]
  },
  {
   "cell_type": "code",
   "execution_count": 7,
   "metadata": {},
   "outputs": [
    {
     "data": {
      "text/html": [
       "<div class='datatable'>\n",
       "  <table class='frame'>\n",
       "  <thead>\n",
       "    <tr class='colnames'><td class='row_index'></td><th>bienio</th><th>parto_normal</th><th>codigo</th><th>criticidade</th><th>count</th></tr>\n",
       "    <tr class='coltypes'><td class='row_index'></td><td class='bool' title='bool8'>&#x25AA;</td><td class='bool' title='bool8'>&#x25AA;</td><td class='str' title='str32'>&#x25AA;&#x25AA;&#x25AA;&#x25AA;</td><td class='bool' title='bool8'>&#x25AA;</td><td class='int' title='int64'>&#x25AA;&#x25AA;&#x25AA;&#x25AA;&#x25AA;&#x25AA;&#x25AA;&#x25AA;</td></tr>\n",
       "  </thead>\n",
       "  <tbody>\n",
       "    <tr><td class='row_index'>0</td><td>0</td><td>0</td><td>CO/DF/53001/530010</td><td>0</td><td>20906</td></tr>\n",
       "    <tr><td class='row_index'>1</td><td>0</td><td>0</td><td>CO/DF/53001/530010</td><td>1</td><td>14</td></tr>\n",
       "    <tr><td class='row_index'>2</td><td>0</td><td>0</td><td>CO/GO/52001/520005</td><td>1</td><td>42</td></tr>\n",
       "    <tr><td class='row_index'>3</td><td>0</td><td>0</td><td>CO/GO/52001/520130</td><td>0</td><td>47</td></tr>\n",
       "    <tr><td class='row_index'>4</td><td>0</td><td>0</td><td>CO/GO/52001/520130</td><td>1</td><td>34</td></tr>\n",
       "    <tr><td class='row_index'>5</td><td>0</td><td>0</td><td>CO/GO/52001/520160</td><td>0</td><td>1</td></tr>\n",
       "    <tr><td class='row_index'>6</td><td>0</td><td>0</td><td>CO/GO/52001/520160</td><td>1</td><td>6</td></tr>\n",
       "    <tr><td class='row_index'>7</td><td>0</td><td>0</td><td>CO/GO/52001/520280</td><td>1</td><td>14</td></tr>\n",
       "    <tr><td class='row_index'>8</td><td>0</td><td>0</td><td>CO/GO/52001/520360</td><td>1</td><td>9</td></tr>\n",
       "    <tr><td class='row_index'>9</td><td>0</td><td>0</td><td>CO/GO/52001/520460</td><td>1</td><td>17</td></tr>\n",
       "    <tr><td class='row_index'>10</td><td>0</td><td>0</td><td>CO/GO/52001/520520</td><td>0</td><td>15</td></tr>\n",
       "    <tr><td class='row_index'>11</td><td>0</td><td>0</td><td>CO/GO/52001/520520</td><td>1</td><td>21</td></tr>\n",
       "    <tr><td class='row_index'>12</td><td>0</td><td>0</td><td>CO/GO/52001/520680</td><td>1</td><td>4</td></tr>\n",
       "    <tr><td class='row_index'>13</td><td>0</td><td>0</td><td>CO/GO/52001/520870</td><td>0</td><td>8864</td></tr>\n",
       "    <tr><td class='row_index'>14</td><td>0</td><td>0</td><td>CO/GO/52001/520870</td><td>1</td><td>188</td></tr>\n",
       "    <tr><td class='row_index'>&#x22EE;</td><td class='hellipsis'>&#x22EE;</td><td class='hellipsis'>&#x22EE;</td><td class='hellipsis'>&#x22EE;</td><td class='hellipsis'>&#x22EE;</td><td class='hellipsis'>&#x22EE;</td></tr>\n",
       "    <tr><td class='row_index'>32,180</td><td>1</td><td>1</td><td>SL/SC/42016/421710</td><td>1</td><td>25</td></tr>\n",
       "    <tr><td class='row_index'>32,181</td><td>1</td><td>1</td><td>SL/SC/42016/421840</td><td>0</td><td>2</td></tr>\n",
       "    <tr><td class='row_index'>32,182</td><td>1</td><td>1</td><td>SL/SC/42016/421840</td><td>1</td><td>41</td></tr>\n",
       "    <tr><td class='row_index'>32,183</td><td>1</td><td>1</td><td>SL/SC/42016/421870</td><td>0</td><td>441</td></tr>\n",
       "    <tr><td class='row_index'>32,184</td><td>1</td><td>1</td><td>SL/SC/42016/421870</td><td>1</td><td>8</td></tr>\n",
       "  </tbody>\n",
       "  </table>\n",
       "  <div class='footer'>\n",
       "    <div class='frame_dimensions'>32,185 rows &times; 5 columns</div>\n",
       "  </div>\n",
       "</div>\n"
      ],
      "text/plain": [
       "<Frame#7fe70b0b8660 32185x5>"
      ]
     },
     "execution_count": 7,
     "metadata": {},
     "output_type": "execute_result"
    }
   ],
   "source": [
    "df_proc = df_proc[:, dt.sum(f.count), by(df_proc.names[:-1])]\n",
    "df_proc"
   ]
  },
  {
   "cell_type": "markdown",
   "metadata": {},
   "source": [
    "### Total e Critícos"
   ]
  },
  {
   "cell_type": "code",
   "execution_count": 8,
   "metadata": {},
   "outputs": [
    {
     "data": {
      "text/html": [
       "<div class='datatable'>\n",
       "  <table class='frame'>\n",
       "  <thead>\n",
       "    <tr class='colnames'><td class='row_index'></td><th>bienio</th><th>parto_normal</th><th>codigo</th><th>count_total</th></tr>\n",
       "    <tr class='coltypes'><td class='row_index'></td><td class='bool' title='bool8'>&#x25AA;</td><td class='bool' title='bool8'>&#x25AA;</td><td class='str' title='str32'>&#x25AA;&#x25AA;&#x25AA;&#x25AA;</td><td class='int' title='int64'>&#x25AA;&#x25AA;&#x25AA;&#x25AA;&#x25AA;&#x25AA;&#x25AA;&#x25AA;</td></tr>\n",
       "  </thead>\n",
       "  <tbody>\n",
       "    <tr><td class='row_index'>0</td><td>0</td><td>0</td><td>CO/DF/53001/530010</td><td>20920</td></tr>\n",
       "    <tr><td class='row_index'>1</td><td>0</td><td>0</td><td>CO/GO/52001/520005</td><td>42</td></tr>\n",
       "    <tr><td class='row_index'>2</td><td>0</td><td>0</td><td>CO/GO/52001/520130</td><td>81</td></tr>\n",
       "    <tr><td class='row_index'>3</td><td>0</td><td>0</td><td>CO/GO/52001/520160</td><td>7</td></tr>\n",
       "    <tr><td class='row_index'>4</td><td>0</td><td>0</td><td>CO/GO/52001/520280</td><td>14</td></tr>\n",
       "    <tr><td class='row_index'>5</td><td>0</td><td>0</td><td>CO/GO/52001/520360</td><td>9</td></tr>\n",
       "    <tr><td class='row_index'>6</td><td>0</td><td>0</td><td>CO/GO/52001/520460</td><td>17</td></tr>\n",
       "    <tr><td class='row_index'>7</td><td>0</td><td>0</td><td>CO/GO/52001/520520</td><td>36</td></tr>\n",
       "    <tr><td class='row_index'>8</td><td>0</td><td>0</td><td>CO/GO/52001/520680</td><td>4</td></tr>\n",
       "    <tr><td class='row_index'>9</td><td>0</td><td>0</td><td>CO/GO/52001/520870</td><td>9052</td></tr>\n",
       "    <tr><td class='row_index'>10</td><td>0</td><td>0</td><td>CO/GO/52001/520880</td><td>202</td></tr>\n",
       "    <tr><td class='row_index'>11</td><td>0</td><td>0</td><td>CO/GO/52001/520920</td><td>105</td></tr>\n",
       "    <tr><td class='row_index'>12</td><td>0</td><td>0</td><td>CO/GO/52001/521000</td><td>61</td></tr>\n",
       "    <tr><td class='row_index'>13</td><td>0</td><td>0</td><td>CO/GO/52001/521056</td><td>4</td></tr>\n",
       "    <tr><td class='row_index'>14</td><td>0</td><td>0</td><td>CO/GO/52001/521140</td><td>15</td></tr>\n",
       "    <tr><td class='row_index'>&#x22EE;</td><td class='hellipsis'>&#x22EE;</td><td class='hellipsis'>&#x22EE;</td><td class='hellipsis'>&#x22EE;</td><td class='hellipsis'>&#x22EE;</td></tr>\n",
       "    <tr><td class='row_index'>22,208</td><td>1</td><td>1</td><td>SL/SC/42016/421560</td><td>12</td></tr>\n",
       "    <tr><td class='row_index'>22,209</td><td>1</td><td>1</td><td>SL/SC/42016/421700</td><td>103</td></tr>\n",
       "    <tr><td class='row_index'>22,210</td><td>1</td><td>1</td><td>SL/SC/42016/421710</td><td>25</td></tr>\n",
       "    <tr><td class='row_index'>22,211</td><td>1</td><td>1</td><td>SL/SC/42016/421840</td><td>43</td></tr>\n",
       "    <tr><td class='row_index'>22,212</td><td>1</td><td>1</td><td>SL/SC/42016/421870</td><td>449</td></tr>\n",
       "  </tbody>\n",
       "  </table>\n",
       "  <div class='footer'>\n",
       "    <div class='frame_dimensions'>22,213 rows &times; 4 columns</div>\n",
       "  </div>\n",
       "</div>\n"
      ],
      "text/plain": [
       "<Frame#7fe70b0b87e0 22213x4>"
      ]
     },
     "execution_count": 8,
     "metadata": {},
     "output_type": "execute_result"
    }
   ],
   "source": [
    "df_proc_total = df_proc[:, f[:].remove(f.criticidade)]\n",
    "df_proc_total = df_proc_total[:, dt.sum(f.count), by(df_proc_total.names[:-1])]\n",
    "df_proc_total.names = {'count': 'count_total'}\n",
    "df_proc_total"
   ]
  },
  {
   "cell_type": "code",
   "execution_count": 9,
   "metadata": {},
   "outputs": [
    {
     "data": {
      "text/html": [
       "<div class='datatable'>\n",
       "  <table class='frame'>\n",
       "  <thead>\n",
       "    <tr class='colnames'><th class='row_index'>bienio</th><th class='row_index'>parto_normal</th><th class='row_index'>codigo</th><th>count_critic</th></tr>\n",
       "    <tr class='coltypes'><td class='bool' title='bool8'>&#x25AA;</td><td class='bool' title='bool8'>&#x25AA;</td><td class='str' title='str32'>&#x25AA;&#x25AA;&#x25AA;&#x25AA;</td><td class='int' title='int64'>&#x25AA;&#x25AA;&#x25AA;&#x25AA;&#x25AA;&#x25AA;&#x25AA;&#x25AA;</td></tr>\n",
       "  </thead>\n",
       "  <tbody>\n",
       "    <tr><td class='row_index'>0</td><td class='row_index'>0</td><td class='row_index'>CO/DF/53001/530010</td><td>14</td></tr>\n",
       "    <tr><td class='row_index'>0</td><td class='row_index'>0</td><td class='row_index'>CO/GO/52001/520005</td><td>42</td></tr>\n",
       "    <tr><td class='row_index'>0</td><td class='row_index'>0</td><td class='row_index'>CO/GO/52001/520130</td><td>34</td></tr>\n",
       "    <tr><td class='row_index'>0</td><td class='row_index'>0</td><td class='row_index'>CO/GO/52001/520160</td><td>6</td></tr>\n",
       "    <tr><td class='row_index'>0</td><td class='row_index'>0</td><td class='row_index'>CO/GO/52001/520280</td><td>14</td></tr>\n",
       "    <tr><td class='row_index'>0</td><td class='row_index'>0</td><td class='row_index'>CO/GO/52001/520360</td><td>9</td></tr>\n",
       "    <tr><td class='row_index'>0</td><td class='row_index'>0</td><td class='row_index'>CO/GO/52001/520460</td><td>17</td></tr>\n",
       "    <tr><td class='row_index'>0</td><td class='row_index'>0</td><td class='row_index'>CO/GO/52001/520520</td><td>21</td></tr>\n",
       "    <tr><td class='row_index'>0</td><td class='row_index'>0</td><td class='row_index'>CO/GO/52001/520680</td><td>4</td></tr>\n",
       "    <tr><td class='row_index'>0</td><td class='row_index'>0</td><td class='row_index'>CO/GO/52001/520870</td><td>188</td></tr>\n",
       "    <tr><td class='row_index'>0</td><td class='row_index'>0</td><td class='row_index'>CO/GO/52001/520880</td><td>130</td></tr>\n",
       "    <tr><td class='row_index'>0</td><td class='row_index'>0</td><td class='row_index'>CO/GO/52001/520920</td><td>105</td></tr>\n",
       "    <tr><td class='row_index'>0</td><td class='row_index'>0</td><td class='row_index'>CO/GO/52001/521000</td><td>23</td></tr>\n",
       "    <tr><td class='row_index'>0</td><td class='row_index'>0</td><td class='row_index'>CO/GO/52001/521056</td><td>4</td></tr>\n",
       "    <tr><td class='row_index'>0</td><td class='row_index'>0</td><td class='row_index'>CO/GO/52001/521140</td><td>10</td></tr>\n",
       "    <tr><td class='hellipsis'>&#x22EE;</td><td class='hellipsis'>&#x22EE;</td><td class='hellipsis'>&#x22EE;</td><td class='hellipsis'>&#x22EE;</td></tr>\n",
       "    <tr><td class='row_index'>1</td><td class='row_index'>1</td><td class='row_index'>SL/SC/42016/421560</td><td>12</td></tr>\n",
       "    <tr><td class='row_index'>1</td><td class='row_index'>1</td><td class='row_index'>SL/SC/42016/421700</td><td>103</td></tr>\n",
       "    <tr><td class='row_index'>1</td><td class='row_index'>1</td><td class='row_index'>SL/SC/42016/421710</td><td>25</td></tr>\n",
       "    <tr><td class='row_index'>1</td><td class='row_index'>1</td><td class='row_index'>SL/SC/42016/421840</td><td>41</td></tr>\n",
       "    <tr><td class='row_index'>1</td><td class='row_index'>1</td><td class='row_index'>SL/SC/42016/421870</td><td>8</td></tr>\n",
       "  </tbody>\n",
       "  </table>\n",
       "  <div class='footer'>\n",
       "    <div class='frame_dimensions'>22,096 rows &times; 4 columns</div>\n",
       "  </div>\n",
       "</div>\n"
      ],
      "text/plain": [
       "<Frame#7fe70b0cae10 22096x4>"
      ]
     },
     "execution_count": 9,
     "metadata": {},
     "output_type": "execute_result"
    }
   ],
   "source": [
    "df_proc_critic = df_proc[f.criticidade == 1, f[:].remove(f.criticidade)]\n",
    "df_proc_critic = df_proc_critic[:, dt.sum(f.count), by(df_proc_critic.names[:-1])]\n",
    "df_proc_critic.names = {'count': 'count_critic'}\n",
    "df_proc_critic.key = df_proc_critic.names[:-1]\n",
    "df_proc_critic"
   ]
  },
  {
   "cell_type": "markdown",
   "metadata": {},
   "source": [
    "# Gerando tabela"
   ]
  },
  {
   "cell_type": "markdown",
   "metadata": {},
   "source": [
    "## Coluna `count` pra `total` e `critic`"
   ]
  },
  {
   "cell_type": "code",
   "execution_count": 10,
   "metadata": {},
   "outputs": [
    {
     "data": {
      "text/html": [
       "<div class='datatable'>\n",
       "  <table class='frame'>\n",
       "  <thead>\n",
       "    <tr class='colnames'><td class='row_index'></td><th>bienio</th><th>parto_normal</th><th>codigo</th><th>count_total</th><th>count_critic</th></tr>\n",
       "    <tr class='coltypes'><td class='row_index'></td><td class='bool' title='bool8'>&#x25AA;</td><td class='bool' title='bool8'>&#x25AA;</td><td class='str' title='str32'>&#x25AA;&#x25AA;&#x25AA;&#x25AA;</td><td class='int' title='int64'>&#x25AA;&#x25AA;&#x25AA;&#x25AA;&#x25AA;&#x25AA;&#x25AA;&#x25AA;</td><td class='int' title='int32'>&#x25AA;&#x25AA;&#x25AA;&#x25AA;</td></tr>\n",
       "  </thead>\n",
       "  <tbody>\n",
       "    <tr><td class='row_index'>0</td><td>0</td><td>0</td><td>CO/DF/53001/530010</td><td>20920</td><td>14</td></tr>\n",
       "    <tr><td class='row_index'>1</td><td>0</td><td>0</td><td>CO/GO/52001/520005</td><td>42</td><td>42</td></tr>\n",
       "    <tr><td class='row_index'>2</td><td>0</td><td>0</td><td>CO/GO/52001/520130</td><td>81</td><td>34</td></tr>\n",
       "    <tr><td class='row_index'>3</td><td>0</td><td>0</td><td>CO/GO/52001/520160</td><td>7</td><td>6</td></tr>\n",
       "    <tr><td class='row_index'>4</td><td>0</td><td>0</td><td>CO/GO/52001/520280</td><td>14</td><td>14</td></tr>\n",
       "    <tr><td class='row_index'>5</td><td>0</td><td>0</td><td>CO/GO/52001/520360</td><td>9</td><td>9</td></tr>\n",
       "    <tr><td class='row_index'>6</td><td>0</td><td>0</td><td>CO/GO/52001/520460</td><td>17</td><td>17</td></tr>\n",
       "    <tr><td class='row_index'>7</td><td>0</td><td>0</td><td>CO/GO/52001/520520</td><td>36</td><td>21</td></tr>\n",
       "    <tr><td class='row_index'>8</td><td>0</td><td>0</td><td>CO/GO/52001/520680</td><td>4</td><td>4</td></tr>\n",
       "    <tr><td class='row_index'>9</td><td>0</td><td>0</td><td>CO/GO/52001/520870</td><td>9052</td><td>188</td></tr>\n",
       "    <tr><td class='row_index'>10</td><td>0</td><td>0</td><td>CO/GO/52001/520880</td><td>202</td><td>130</td></tr>\n",
       "    <tr><td class='row_index'>11</td><td>0</td><td>0</td><td>CO/GO/52001/520920</td><td>105</td><td>105</td></tr>\n",
       "    <tr><td class='row_index'>12</td><td>0</td><td>0</td><td>CO/GO/52001/521000</td><td>61</td><td>23</td></tr>\n",
       "    <tr><td class='row_index'>13</td><td>0</td><td>0</td><td>CO/GO/52001/521056</td><td>4</td><td>4</td></tr>\n",
       "    <tr><td class='row_index'>14</td><td>0</td><td>0</td><td>CO/GO/52001/521140</td><td>15</td><td>10</td></tr>\n",
       "    <tr><td class='row_index'>&#x22EE;</td><td class='hellipsis'>&#x22EE;</td><td class='hellipsis'>&#x22EE;</td><td class='hellipsis'>&#x22EE;</td><td class='hellipsis'>&#x22EE;</td><td class='hellipsis'>&#x22EE;</td></tr>\n",
       "    <tr><td class='row_index'>22,208</td><td>1</td><td>1</td><td>SL/SC/42016/421560</td><td>12</td><td>12</td></tr>\n",
       "    <tr><td class='row_index'>22,209</td><td>1</td><td>1</td><td>SL/SC/42016/421700</td><td>103</td><td>103</td></tr>\n",
       "    <tr><td class='row_index'>22,210</td><td>1</td><td>1</td><td>SL/SC/42016/421710</td><td>25</td><td>25</td></tr>\n",
       "    <tr><td class='row_index'>22,211</td><td>1</td><td>1</td><td>SL/SC/42016/421840</td><td>43</td><td>41</td></tr>\n",
       "    <tr><td class='row_index'>22,212</td><td>1</td><td>1</td><td>SL/SC/42016/421870</td><td>449</td><td>8</td></tr>\n",
       "  </tbody>\n",
       "  </table>\n",
       "  <div class='footer'>\n",
       "    <div class='frame_dimensions'>22,213 rows &times; 5 columns</div>\n",
       "  </div>\n",
       "</div>\n"
      ],
      "text/plain": [
       "<Frame#7fe70b0ca600 22213x5>"
      ]
     },
     "execution_count": 10,
     "metadata": {},
     "output_type": "execute_result"
    }
   ],
   "source": [
    "df_rank = df_proc_total[:, :, dt.join(df_proc_critic)]\n",
    "df_rank['count_critic'] = dt.Frame([\n",
    "  0 if c == None else c for c in df_rank['count_critic'].to_list()[0]])\n",
    "df_rank"
   ]
  },
  {
   "cell_type": "markdown",
   "metadata": {},
   "source": [
    "## Coluna `percent` (%)"
   ]
  },
  {
   "cell_type": "code",
   "execution_count": 11,
   "metadata": {},
   "outputs": [
    {
     "data": {
      "text/html": [
       "<div class='datatable'>\n",
       "  <table class='frame'>\n",
       "  <thead>\n",
       "    <tr class='colnames'><td class='row_index'></td><th>bienio</th><th>parto_normal</th><th>codigo</th><th>count_total</th><th>count_critic</th><th>critic_percent</th></tr>\n",
       "    <tr class='coltypes'><td class='row_index'></td><td class='bool' title='bool8'>&#x25AA;</td><td class='bool' title='bool8'>&#x25AA;</td><td class='str' title='str32'>&#x25AA;&#x25AA;&#x25AA;&#x25AA;</td><td class='int' title='int64'>&#x25AA;&#x25AA;&#x25AA;&#x25AA;&#x25AA;&#x25AA;&#x25AA;&#x25AA;</td><td class='int' title='int32'>&#x25AA;&#x25AA;&#x25AA;&#x25AA;</td><td class='float' title='float64'>&#x25AA;&#x25AA;&#x25AA;&#x25AA;&#x25AA;&#x25AA;&#x25AA;&#x25AA;</td></tr>\n",
       "  </thead>\n",
       "  <tbody>\n",
       "    <tr><td class='row_index'>0</td><td>0</td><td>0</td><td>CO/DF/53001/530010</td><td>20920</td><td>14</td><td>0.0669216</td></tr>\n",
       "    <tr><td class='row_index'>1</td><td>0</td><td>0</td><td>CO/GO/52001/520005</td><td>42</td><td>42</td><td>100</td></tr>\n",
       "    <tr><td class='row_index'>2</td><td>0</td><td>0</td><td>CO/GO/52001/520130</td><td>81</td><td>34</td><td>41.9753</td></tr>\n",
       "    <tr><td class='row_index'>3</td><td>0</td><td>0</td><td>CO/GO/52001/520160</td><td>7</td><td>6</td><td>85.7143</td></tr>\n",
       "    <tr><td class='row_index'>4</td><td>0</td><td>0</td><td>CO/GO/52001/520280</td><td>14</td><td>14</td><td>100</td></tr>\n",
       "    <tr><td class='row_index'>5</td><td>0</td><td>0</td><td>CO/GO/52001/520360</td><td>9</td><td>9</td><td>100</td></tr>\n",
       "    <tr><td class='row_index'>6</td><td>0</td><td>0</td><td>CO/GO/52001/520460</td><td>17</td><td>17</td><td>100</td></tr>\n",
       "    <tr><td class='row_index'>7</td><td>0</td><td>0</td><td>CO/GO/52001/520520</td><td>36</td><td>21</td><td>58.3333</td></tr>\n",
       "    <tr><td class='row_index'>8</td><td>0</td><td>0</td><td>CO/GO/52001/520680</td><td>4</td><td>4</td><td>100</td></tr>\n",
       "    <tr><td class='row_index'>9</td><td>0</td><td>0</td><td>CO/GO/52001/520870</td><td>9052</td><td>188</td><td>2.07689</td></tr>\n",
       "    <tr><td class='row_index'>10</td><td>0</td><td>0</td><td>CO/GO/52001/520880</td><td>202</td><td>130</td><td>64.3564</td></tr>\n",
       "    <tr><td class='row_index'>11</td><td>0</td><td>0</td><td>CO/GO/52001/520920</td><td>105</td><td>105</td><td>100</td></tr>\n",
       "    <tr><td class='row_index'>12</td><td>0</td><td>0</td><td>CO/GO/52001/521000</td><td>61</td><td>23</td><td>37.7049</td></tr>\n",
       "    <tr><td class='row_index'>13</td><td>0</td><td>0</td><td>CO/GO/52001/521056</td><td>4</td><td>4</td><td>100</td></tr>\n",
       "    <tr><td class='row_index'>14</td><td>0</td><td>0</td><td>CO/GO/52001/521140</td><td>15</td><td>10</td><td>66.6667</td></tr>\n",
       "    <tr><td class='row_index'>&#x22EE;</td><td class='hellipsis'>&#x22EE;</td><td class='hellipsis'>&#x22EE;</td><td class='hellipsis'>&#x22EE;</td><td class='hellipsis'>&#x22EE;</td><td class='hellipsis'>&#x22EE;</td><td class='hellipsis'>&#x22EE;</td></tr>\n",
       "    <tr><td class='row_index'>22,208</td><td>1</td><td>1</td><td>SL/SC/42016/421560</td><td>12</td><td>12</td><td>100</td></tr>\n",
       "    <tr><td class='row_index'>22,209</td><td>1</td><td>1</td><td>SL/SC/42016/421700</td><td>103</td><td>103</td><td>100</td></tr>\n",
       "    <tr><td class='row_index'>22,210</td><td>1</td><td>1</td><td>SL/SC/42016/421710</td><td>25</td><td>25</td><td>100</td></tr>\n",
       "    <tr><td class='row_index'>22,211</td><td>1</td><td>1</td><td>SL/SC/42016/421840</td><td>43</td><td>41</td><td>95.3488</td></tr>\n",
       "    <tr><td class='row_index'>22,212</td><td>1</td><td>1</td><td>SL/SC/42016/421870</td><td>449</td><td>8</td><td>1.78174</td></tr>\n",
       "  </tbody>\n",
       "  </table>\n",
       "  <div class='footer'>\n",
       "    <div class='frame_dimensions'>22,213 rows &times; 6 columns</div>\n",
       "  </div>\n",
       "</div>\n"
      ],
      "text/plain": [
       "<Frame#7fe70b0ca600 22213x6>"
      ]
     },
     "execution_count": 11,
     "metadata": {},
     "output_type": "execute_result"
    }
   ],
   "source": [
    "df_rank[:, dt.update(critic_percent = f.count_critic / f.count_total * 100)]\n",
    "df_rank"
   ]
  },
  {
   "cell_type": "markdown",
   "metadata": {},
   "source": [
    "## Informações da localidade"
   ]
  },
  {
   "cell_type": "code",
   "execution_count": 12,
   "metadata": {},
   "outputs": [
    {
     "data": {
      "text/html": [
       "<div class='datatable'>\n",
       "  <table class='frame'>\n",
       "  <thead>\n",
       "    <tr class='colnames'><td class='row_index'></td><th>bienio</th><th>parto_normal</th><th>codigo</th><th>count_total</th><th>count_critic</th><th>critic_percent</th><th>nome</th><th>capital</th><th>socioecon</th></tr>\n",
       "    <tr class='coltypes'><td class='row_index'></td><td class='bool' title='bool8'>&#x25AA;</td><td class='bool' title='bool8'>&#x25AA;</td><td class='str' title='str32'>&#x25AA;&#x25AA;&#x25AA;&#x25AA;</td><td class='int' title='int64'>&#x25AA;&#x25AA;&#x25AA;&#x25AA;&#x25AA;&#x25AA;&#x25AA;&#x25AA;</td><td class='int' title='int32'>&#x25AA;&#x25AA;&#x25AA;&#x25AA;</td><td class='float' title='float64'>&#x25AA;&#x25AA;&#x25AA;&#x25AA;&#x25AA;&#x25AA;&#x25AA;&#x25AA;</td><td class='str' title='str32'>&#x25AA;&#x25AA;&#x25AA;&#x25AA;</td><td class='bool' title='bool8'>&#x25AA;</td><td class='int' title='int32'>&#x25AA;&#x25AA;&#x25AA;&#x25AA;</td></tr>\n",
       "  </thead>\n",
       "  <tbody>\n",
       "    <tr><td class='row_index'>0</td><td>0</td><td>0</td><td>CO/DF/53001/530010</td><td>20920</td><td>14</td><td>0.0669216</td><td>Brasília</td><td>1</td><td>5</td></tr>\n",
       "    <tr><td class='row_index'>1</td><td>0</td><td>0</td><td>CO/GO/52001/520005</td><td>42</td><td>42</td><td>100</td><td>Abadia de Goiás</td><td>0</td><td>5</td></tr>\n",
       "    <tr><td class='row_index'>2</td><td>0</td><td>0</td><td>CO/GO/52001/520130</td><td>81</td><td>34</td><td>41.9753</td><td>Anicuns</td><td>0</td><td>5</td></tr>\n",
       "    <tr><td class='row_index'>3</td><td>0</td><td>0</td><td>CO/GO/52001/520160</td><td>7</td><td>6</td><td>85.7143</td><td>Araçu</td><td>0</td><td>5</td></tr>\n",
       "    <tr><td class='row_index'>4</td><td>0</td><td>0</td><td>CO/GO/52001/520280</td><td>14</td><td>14</td><td>100</td><td>Avelinópolis</td><td>0</td><td>5</td></tr>\n",
       "    <tr><td class='row_index'>5</td><td>0</td><td>0</td><td>CO/GO/52001/520360</td><td>9</td><td>9</td><td>100</td><td>Brazabrantes</td><td>0</td><td>5</td></tr>\n",
       "    <tr><td class='row_index'>6</td><td>0</td><td>0</td><td>CO/GO/52001/520460</td><td>17</td><td>17</td><td>100</td><td>Campestre de Goiás</td><td>0</td><td>5</td></tr>\n",
       "    <tr><td class='row_index'>7</td><td>0</td><td>0</td><td>CO/GO/52001/520520</td><td>36</td><td>21</td><td>58.3333</td><td>Caturaí</td><td>0</td><td>5</td></tr>\n",
       "    <tr><td class='row_index'>8</td><td>0</td><td>0</td><td>CO/GO/52001/520680</td><td>4</td><td>4</td><td>100</td><td>Damolândia</td><td>0</td><td>5</td></tr>\n",
       "    <tr><td class='row_index'>9</td><td>0</td><td>0</td><td>CO/GO/52001/520870</td><td>9052</td><td>188</td><td>2.07689</td><td>Goiânia</td><td>1</td><td>5</td></tr>\n",
       "    <tr><td class='row_index'>10</td><td>0</td><td>0</td><td>CO/GO/52001/520880</td><td>202</td><td>130</td><td>64.3564</td><td>Goianira</td><td>0</td><td>5</td></tr>\n",
       "    <tr><td class='row_index'>11</td><td>0</td><td>0</td><td>CO/GO/52001/520920</td><td>105</td><td>105</td><td>100</td><td>Guapó</td><td>0</td><td>5</td></tr>\n",
       "    <tr><td class='row_index'>12</td><td>0</td><td>0</td><td>CO/GO/52001/521000</td><td>61</td><td>23</td><td>37.7049</td><td>Inhumas</td><td>0</td><td>5</td></tr>\n",
       "    <tr><td class='row_index'>13</td><td>0</td><td>0</td><td>CO/GO/52001/521056</td><td>4</td><td>4</td><td>100</td><td>Itaguari</td><td>0</td><td>5</td></tr>\n",
       "    <tr><td class='row_index'>14</td><td>0</td><td>0</td><td>CO/GO/52001/521140</td><td>15</td><td>10</td><td>66.6667</td><td>Itauçu</td><td>0</td><td>5</td></tr>\n",
       "    <tr><td class='row_index'>&#x22EE;</td><td class='hellipsis'>&#x22EE;</td><td class='hellipsis'>&#x22EE;</td><td class='hellipsis'>&#x22EE;</td><td class='hellipsis'>&#x22EE;</td><td class='hellipsis'>&#x22EE;</td><td class='hellipsis'>&#x22EE;</td><td class='hellipsis'>&#x22EE;</td><td class='hellipsis'>&#x22EE;</td><td class='hellipsis'>&#x22EE;</td></tr>\n",
       "    <tr><td class='row_index'>22,208</td><td>1</td><td>1</td><td>SL/SC/42016/421560</td><td>12</td><td>12</td><td>100</td><td>Santa Rosa de Lima</td><td>0</td><td>3</td></tr>\n",
       "    <tr><td class='row_index'>22,209</td><td>1</td><td>1</td><td>SL/SC/42016/421700</td><td>103</td><td>103</td><td>100</td><td>São Ludgero</td><td>0</td><td>3</td></tr>\n",
       "    <tr><td class='row_index'>22,210</td><td>1</td><td>1</td><td>SL/SC/42016/421710</td><td>25</td><td>25</td><td>100</td><td>São Martinho</td><td>0</td><td>3</td></tr>\n",
       "    <tr><td class='row_index'>22,211</td><td>1</td><td>1</td><td>SL/SC/42016/421840</td><td>43</td><td>41</td><td>95.3488</td><td>Treze de Maio</td><td>0</td><td>3</td></tr>\n",
       "    <tr><td class='row_index'>22,212</td><td>1</td><td>1</td><td>SL/SC/42016/421870</td><td>449</td><td>8</td><td>1.78174</td><td>Tubarão</td><td>0</td><td>3</td></tr>\n",
       "  </tbody>\n",
       "  </table>\n",
       "  <div class='footer'>\n",
       "    <div class='frame_dimensions'>22,213 rows &times; 9 columns</div>\n",
       "  </div>\n",
       "</div>\n"
      ],
      "text/plain": [
       "<Frame#7fe70b0ca2a0 22213x9>"
      ]
     },
     "execution_count": 12,
     "metadata": {},
     "output_type": "execute_result"
    }
   ],
   "source": [
    "df_locs.key = 'codigo'\n",
    "df_rank = df_rank[:, :, dt.join(df_locs)]\n",
    "df_rank"
   ]
  },
  {
   "cell_type": "markdown",
   "metadata": {},
   "source": [
    "## Ordenando colunas"
   ]
  },
  {
   "cell_type": "code",
   "execution_count": 13,
   "metadata": {},
   "outputs": [],
   "source": [
    "cols_order = [\n",
    "  'bienio',\n",
    "  'parto_normal',\n",
    "  'codigo',\n",
    "  'nome',\n",
    "  'capital',\n",
    "  'socioecon',\n",
    "  'count_total',\n",
    "  'count_critic',\n",
    "  'critic_percent',\n",
    "]"
   ]
  },
  {
   "cell_type": "code",
   "execution_count": 14,
   "metadata": {},
   "outputs": [
    {
     "data": {
      "text/html": [
       "<div class='datatable'>\n",
       "  <table class='frame'>\n",
       "  <thead>\n",
       "    <tr class='colnames'><td class='row_index'></td><th>bienio</th><th>parto_normal</th><th>codigo</th><th>nome</th><th>capital</th><th>socioecon</th><th>count_total</th><th>count_critic</th><th>critic_percent</th></tr>\n",
       "    <tr class='coltypes'><td class='row_index'></td><td class='bool' title='bool8'>&#x25AA;</td><td class='bool' title='bool8'>&#x25AA;</td><td class='str' title='str32'>&#x25AA;&#x25AA;&#x25AA;&#x25AA;</td><td class='str' title='str32'>&#x25AA;&#x25AA;&#x25AA;&#x25AA;</td><td class='bool' title='bool8'>&#x25AA;</td><td class='int' title='int32'>&#x25AA;&#x25AA;&#x25AA;&#x25AA;</td><td class='int' title='int64'>&#x25AA;&#x25AA;&#x25AA;&#x25AA;&#x25AA;&#x25AA;&#x25AA;&#x25AA;</td><td class='int' title='int32'>&#x25AA;&#x25AA;&#x25AA;&#x25AA;</td><td class='float' title='float64'>&#x25AA;&#x25AA;&#x25AA;&#x25AA;&#x25AA;&#x25AA;&#x25AA;&#x25AA;</td></tr>\n",
       "  </thead>\n",
       "  <tbody>\n",
       "    <tr><td class='row_index'>0</td><td>0</td><td>0</td><td>CO/DF/53001/530010</td><td>Brasília</td><td>1</td><td>5</td><td>20920</td><td>14</td><td>0.0669216</td></tr>\n",
       "    <tr><td class='row_index'>1</td><td>0</td><td>0</td><td>CO/GO/52001/520005</td><td>Abadia de Goiás</td><td>0</td><td>5</td><td>42</td><td>42</td><td>100</td></tr>\n",
       "    <tr><td class='row_index'>2</td><td>0</td><td>0</td><td>CO/GO/52001/520130</td><td>Anicuns</td><td>0</td><td>5</td><td>81</td><td>34</td><td>41.9753</td></tr>\n",
       "    <tr><td class='row_index'>3</td><td>0</td><td>0</td><td>CO/GO/52001/520160</td><td>Araçu</td><td>0</td><td>5</td><td>7</td><td>6</td><td>85.7143</td></tr>\n",
       "    <tr><td class='row_index'>4</td><td>0</td><td>0</td><td>CO/GO/52001/520280</td><td>Avelinópolis</td><td>0</td><td>5</td><td>14</td><td>14</td><td>100</td></tr>\n",
       "    <tr><td class='row_index'>5</td><td>0</td><td>0</td><td>CO/GO/52001/520360</td><td>Brazabrantes</td><td>0</td><td>5</td><td>9</td><td>9</td><td>100</td></tr>\n",
       "    <tr><td class='row_index'>6</td><td>0</td><td>0</td><td>CO/GO/52001/520460</td><td>Campestre de Goiás</td><td>0</td><td>5</td><td>17</td><td>17</td><td>100</td></tr>\n",
       "    <tr><td class='row_index'>7</td><td>0</td><td>0</td><td>CO/GO/52001/520520</td><td>Caturaí</td><td>0</td><td>5</td><td>36</td><td>21</td><td>58.3333</td></tr>\n",
       "    <tr><td class='row_index'>8</td><td>0</td><td>0</td><td>CO/GO/52001/520680</td><td>Damolândia</td><td>0</td><td>5</td><td>4</td><td>4</td><td>100</td></tr>\n",
       "    <tr><td class='row_index'>9</td><td>0</td><td>0</td><td>CO/GO/52001/520870</td><td>Goiânia</td><td>1</td><td>5</td><td>9052</td><td>188</td><td>2.07689</td></tr>\n",
       "    <tr><td class='row_index'>10</td><td>0</td><td>0</td><td>CO/GO/52001/520880</td><td>Goianira</td><td>0</td><td>5</td><td>202</td><td>130</td><td>64.3564</td></tr>\n",
       "    <tr><td class='row_index'>11</td><td>0</td><td>0</td><td>CO/GO/52001/520920</td><td>Guapó</td><td>0</td><td>5</td><td>105</td><td>105</td><td>100</td></tr>\n",
       "    <tr><td class='row_index'>12</td><td>0</td><td>0</td><td>CO/GO/52001/521000</td><td>Inhumas</td><td>0</td><td>5</td><td>61</td><td>23</td><td>37.7049</td></tr>\n",
       "    <tr><td class='row_index'>13</td><td>0</td><td>0</td><td>CO/GO/52001/521056</td><td>Itaguari</td><td>0</td><td>5</td><td>4</td><td>4</td><td>100</td></tr>\n",
       "    <tr><td class='row_index'>14</td><td>0</td><td>0</td><td>CO/GO/52001/521140</td><td>Itauçu</td><td>0</td><td>5</td><td>15</td><td>10</td><td>66.6667</td></tr>\n",
       "    <tr><td class='row_index'>&#x22EE;</td><td class='hellipsis'>&#x22EE;</td><td class='hellipsis'>&#x22EE;</td><td class='hellipsis'>&#x22EE;</td><td class='hellipsis'>&#x22EE;</td><td class='hellipsis'>&#x22EE;</td><td class='hellipsis'>&#x22EE;</td><td class='hellipsis'>&#x22EE;</td><td class='hellipsis'>&#x22EE;</td><td class='hellipsis'>&#x22EE;</td></tr>\n",
       "    <tr><td class='row_index'>22,208</td><td>1</td><td>1</td><td>SL/SC/42016/421560</td><td>Santa Rosa de Lima</td><td>0</td><td>3</td><td>12</td><td>12</td><td>100</td></tr>\n",
       "    <tr><td class='row_index'>22,209</td><td>1</td><td>1</td><td>SL/SC/42016/421700</td><td>São Ludgero</td><td>0</td><td>3</td><td>103</td><td>103</td><td>100</td></tr>\n",
       "    <tr><td class='row_index'>22,210</td><td>1</td><td>1</td><td>SL/SC/42016/421710</td><td>São Martinho</td><td>0</td><td>3</td><td>25</td><td>25</td><td>100</td></tr>\n",
       "    <tr><td class='row_index'>22,211</td><td>1</td><td>1</td><td>SL/SC/42016/421840</td><td>Treze de Maio</td><td>0</td><td>3</td><td>43</td><td>41</td><td>95.3488</td></tr>\n",
       "    <tr><td class='row_index'>22,212</td><td>1</td><td>1</td><td>SL/SC/42016/421870</td><td>Tubarão</td><td>0</td><td>3</td><td>449</td><td>8</td><td>1.78174</td></tr>\n",
       "  </tbody>\n",
       "  </table>\n",
       "  <div class='footer'>\n",
       "    <div class='frame_dimensions'>22,213 rows &times; 9 columns</div>\n",
       "  </div>\n",
       "</div>\n"
      ],
      "text/plain": [
       "<Frame#7fe70b0caae0 22213x9>"
      ]
     },
     "execution_count": 14,
     "metadata": {},
     "output_type": "execute_result"
    }
   ],
   "source": [
    "df_rank = df_rank[:, cols_order]\n",
    "df_rank"
   ]
  },
  {
   "cell_type": "markdown",
   "metadata": {},
   "source": [
    "## Ordenando linhas"
   ]
  },
  {
   "cell_type": "code",
   "execution_count": 15,
   "metadata": {},
   "outputs": [
    {
     "data": {
      "text/html": [
       "<div class='datatable'>\n",
       "  <table class='frame'>\n",
       "  <thead>\n",
       "    <tr class='colnames'><td class='row_index'></td><th>bienio</th><th>parto_normal</th><th>codigo</th><th>nome</th><th>capital</th><th>socioecon</th><th>count_total</th><th>count_critic</th><th>critic_percent</th></tr>\n",
       "    <tr class='coltypes'><td class='row_index'></td><td class='bool' title='bool8'>&#x25AA;</td><td class='bool' title='bool8'>&#x25AA;</td><td class='str' title='str32'>&#x25AA;&#x25AA;&#x25AA;&#x25AA;</td><td class='str' title='str32'>&#x25AA;&#x25AA;&#x25AA;&#x25AA;</td><td class='bool' title='bool8'>&#x25AA;</td><td class='int' title='int32'>&#x25AA;&#x25AA;&#x25AA;&#x25AA;</td><td class='int' title='int64'>&#x25AA;&#x25AA;&#x25AA;&#x25AA;&#x25AA;&#x25AA;&#x25AA;&#x25AA;</td><td class='int' title='int32'>&#x25AA;&#x25AA;&#x25AA;&#x25AA;</td><td class='float' title='float64'>&#x25AA;&#x25AA;&#x25AA;&#x25AA;&#x25AA;&#x25AA;&#x25AA;&#x25AA;</td></tr>\n",
       "  </thead>\n",
       "  <tbody>\n",
       "    <tr><td class='row_index'>0</td><td>0</td><td>0</td><td>SL/SC/42007/421190</td><td>Palhoça</td><td>0</td><td>5</td><td>1016</td><td>1016</td><td>100</td></tr>\n",
       "    <tr><td class='row_index'>1</td><td>0</td><td>0</td><td>ND/SE/28006/280480</td><td>Nossa Senhora do Socorro</td><td>0</td><td>1</td><td>988</td><td>988</td><td>100</td></tr>\n",
       "    <tr><td class='row_index'>2</td><td>0</td><td>0</td><td>ND/AL/27001/270770</td><td>Rio Largo</td><td>0</td><td>3</td><td>858</td><td>858</td><td>100</td></tr>\n",
       "    <tr><td class='row_index'>3</td><td>0</td><td>0</td><td>SL/PR/41002/410040</td><td>Almirante Tamandaré</td><td>0</td><td>5</td><td>762</td><td>762</td><td>100</td></tr>\n",
       "    <tr><td class='row_index'>4</td><td>0</td><td>0</td><td>ND/AL/27001/270470</td><td>Marechal Deodoro</td><td>0</td><td>3</td><td>730</td><td>730</td><td>100</td></tr>\n",
       "    <tr><td class='row_index'>5</td><td>0</td><td>0</td><td>ND/PE/26010/260680</td><td>Igarassu</td><td>0</td><td>5</td><td>658</td><td>658</td><td>100</td></tr>\n",
       "    <tr><td class='row_index'>6</td><td>0</td><td>0</td><td>SD/SP/35014/354730</td><td>Santana de Parnaíba</td><td>0</td><td>5</td><td>620</td><td>620</td><td>100</td></tr>\n",
       "    <tr><td class='row_index'>7</td><td>0</td><td>0</td><td>ND/PE/26008/260040</td><td>Água Preta</td><td>0</td><td>1</td><td>619</td><td>619</td><td>100</td></tr>\n",
       "    <tr><td class='row_index'>8</td><td>0</td><td>0</td><td>SD/ES/32002/320510</td><td>Viana</td><td>0</td><td>5</td><td>617</td><td>617</td><td>100</td></tr>\n",
       "    <tr><td class='row_index'>9</td><td>0</td><td>0</td><td>SL/RS/43009/430930</td><td>Guaíba</td><td>0</td><td>3</td><td>543</td><td>543</td><td>100</td></tr>\n",
       "    <tr><td class='row_index'>10</td><td>0</td><td>0</td><td>SL/PR/41002/411950</td><td>Piraquara</td><td>0</td><td>5</td><td>542</td><td>542</td><td>100</td></tr>\n",
       "    <tr><td class='row_index'>11</td><td>0</td><td>0</td><td>ND/AL/27005/270140</td><td>Campo Alegre</td><td>0</td><td>1</td><td>539</td><td>539</td><td>100</td></tr>\n",
       "    <tr><td class='row_index'>12</td><td>0</td><td>0</td><td>ND/PE/26008/260420</td><td>Catende</td><td>0</td><td>1</td><td>531</td><td>531</td><td>100</td></tr>\n",
       "    <tr><td class='row_index'>13</td><td>0</td><td>0</td><td>ND/AL/27002/270850</td><td>São Luís do Quitunde</td><td>0</td><td>1</td><td>530</td><td>530</td><td>100</td></tr>\n",
       "    <tr><td class='row_index'>14</td><td>0</td><td>0</td><td>ND/CE/23003/230970</td><td>Pacatuba</td><td>0</td><td>2</td><td>509</td><td>509</td><td>100</td></tr>\n",
       "    <tr><td class='row_index'>&#x22EE;</td><td class='hellipsis'>&#x22EE;</td><td class='hellipsis'>&#x22EE;</td><td class='hellipsis'>&#x22EE;</td><td class='hellipsis'>&#x22EE;</td><td class='hellipsis'>&#x22EE;</td><td class='hellipsis'>&#x22EE;</td><td class='hellipsis'>&#x22EE;</td><td class='hellipsis'>&#x22EE;</td><td class='hellipsis'>&#x22EE;</td></tr>\n",
       "    <tr><td class='row_index'>22,208</td><td>1</td><td>1</td><td>SD/SP/35092/351000</td><td>Cândido Mota</td><td>0</td><td>4</td><td>123</td><td>0</td><td>0</td></tr>\n",
       "    <tr><td class='row_index'>22,209</td><td>1</td><td>1</td><td>SD/SP/35115/354425</td><td>Rosana</td><td>0</td><td>3</td><td>99</td><td>0</td><td>0</td></tr>\n",
       "    <tr><td class='row_index'>22,210</td><td>1</td><td>1</td><td>SL/PR/41018/410640</td><td>Cornélio Procópio</td><td>0</td><td>3</td><td>150</td><td>0</td><td>0</td></tr>\n",
       "    <tr><td class='row_index'>22,211</td><td>1</td><td>1</td><td>SL/PR/41019/412410</td><td>Santo Antônio da Platina</td><td>0</td><td>3</td><td>543</td><td>0</td><td>0</td></tr>\n",
       "    <tr><td class='row_index'>22,212</td><td>1</td><td>1</td><td>SL/RS/43003/431530</td><td>Quaraí</td><td>0</td><td>3</td><td>133</td><td>0</td><td>0</td></tr>\n",
       "  </tbody>\n",
       "  </table>\n",
       "  <div class='footer'>\n",
       "    <div class='frame_dimensions'>22,213 rows &times; 9 columns</div>\n",
       "  </div>\n",
       "</div>\n"
      ],
      "text/plain": [
       "<Frame#7fe70b0cade0 22213x9>"
      ]
     },
     "execution_count": 15,
     "metadata": {},
     "output_type": "execute_result"
    }
   ],
   "source": [
    "df_rank = df_rank.sort(f.bienio, f.parto_normal, -f.critic_percent, -f.count_critic)\n",
    "df_rank"
   ]
  },
  {
   "cell_type": "markdown",
   "metadata": {},
   "source": [
    "# Exportando tabela"
   ]
  },
  {
   "cell_type": "code",
   "execution_count": 16,
   "metadata": {},
   "outputs": [],
   "source": [
    "output_rank = get_path('GESTANTES', 'rank_municipios.csv.gzip')\n",
    "df_rank.to_csv(output_rank)"
   ]
  },
  {
   "cell_type": "code",
   "execution_count": 17,
   "metadata": {},
   "outputs": [
    {
     "data": {
      "text/html": [
       "<div class='datatable'>\n",
       "  <table class='frame'>\n",
       "  <thead>\n",
       "    <tr class='colnames'><td class='row_index'></td><th>bienio</th><th>parto_normal</th><th>codigo</th><th>nome</th><th>capital</th><th>socioecon</th><th>count_total</th><th>count_critic</th><th>critic_percent</th></tr>\n",
       "    <tr class='coltypes'><td class='row_index'></td><td class='bool' title='bool8'>&#x25AA;</td><td class='bool' title='bool8'>&#x25AA;</td><td class='str' title='str32'>&#x25AA;&#x25AA;&#x25AA;&#x25AA;</td><td class='str' title='str32'>&#x25AA;&#x25AA;&#x25AA;&#x25AA;</td><td class='bool' title='bool8'>&#x25AA;</td><td class='int' title='int32'>&#x25AA;&#x25AA;&#x25AA;&#x25AA;</td><td class='int' title='int32'>&#x25AA;&#x25AA;&#x25AA;&#x25AA;</td><td class='int' title='int32'>&#x25AA;&#x25AA;&#x25AA;&#x25AA;</td><td class='float' title='float64'>&#x25AA;&#x25AA;&#x25AA;&#x25AA;&#x25AA;&#x25AA;&#x25AA;&#x25AA;</td></tr>\n",
       "  </thead>\n",
       "  <tbody>\n",
       "    <tr><td class='row_index'>0</td><td>0</td><td>0</td><td>SL/SC/42007/421190</td><td>Palhoça</td><td>0</td><td>5</td><td>1016</td><td>1016</td><td>100</td></tr>\n",
       "    <tr><td class='row_index'>1</td><td>0</td><td>0</td><td>ND/SE/28006/280480</td><td>Nossa Senhora do Socorro</td><td>0</td><td>1</td><td>988</td><td>988</td><td>100</td></tr>\n",
       "    <tr><td class='row_index'>2</td><td>0</td><td>0</td><td>ND/AL/27001/270770</td><td>Rio Largo</td><td>0</td><td>3</td><td>858</td><td>858</td><td>100</td></tr>\n",
       "    <tr><td class='row_index'>3</td><td>0</td><td>0</td><td>SL/PR/41002/410040</td><td>Almirante Tamandaré</td><td>0</td><td>5</td><td>762</td><td>762</td><td>100</td></tr>\n",
       "    <tr><td class='row_index'>4</td><td>0</td><td>0</td><td>ND/AL/27001/270470</td><td>Marechal Deodoro</td><td>0</td><td>3</td><td>730</td><td>730</td><td>100</td></tr>\n",
       "    <tr><td class='row_index'>5</td><td>0</td><td>0</td><td>ND/PE/26010/260680</td><td>Igarassu</td><td>0</td><td>5</td><td>658</td><td>658</td><td>100</td></tr>\n",
       "    <tr><td class='row_index'>6</td><td>0</td><td>0</td><td>SD/SP/35014/354730</td><td>Santana de Parnaíba</td><td>0</td><td>5</td><td>620</td><td>620</td><td>100</td></tr>\n",
       "    <tr><td class='row_index'>7</td><td>0</td><td>0</td><td>ND/PE/26008/260040</td><td>Água Preta</td><td>0</td><td>1</td><td>619</td><td>619</td><td>100</td></tr>\n",
       "    <tr><td class='row_index'>8</td><td>0</td><td>0</td><td>SD/ES/32002/320510</td><td>Viana</td><td>0</td><td>5</td><td>617</td><td>617</td><td>100</td></tr>\n",
       "    <tr><td class='row_index'>9</td><td>0</td><td>0</td><td>SL/RS/43009/430930</td><td>Guaíba</td><td>0</td><td>3</td><td>543</td><td>543</td><td>100</td></tr>\n",
       "    <tr><td class='row_index'>10</td><td>0</td><td>0</td><td>SL/PR/41002/411950</td><td>Piraquara</td><td>0</td><td>5</td><td>542</td><td>542</td><td>100</td></tr>\n",
       "    <tr><td class='row_index'>11</td><td>0</td><td>0</td><td>ND/AL/27005/270140</td><td>Campo Alegre</td><td>0</td><td>1</td><td>539</td><td>539</td><td>100</td></tr>\n",
       "    <tr><td class='row_index'>12</td><td>0</td><td>0</td><td>ND/PE/26008/260420</td><td>Catende</td><td>0</td><td>1</td><td>531</td><td>531</td><td>100</td></tr>\n",
       "    <tr><td class='row_index'>13</td><td>0</td><td>0</td><td>ND/AL/27002/270850</td><td>São Luís do Quitunde</td><td>0</td><td>1</td><td>530</td><td>530</td><td>100</td></tr>\n",
       "    <tr><td class='row_index'>14</td><td>0</td><td>0</td><td>ND/CE/23003/230970</td><td>Pacatuba</td><td>0</td><td>2</td><td>509</td><td>509</td><td>100</td></tr>\n",
       "    <tr><td class='row_index'>&#x22EE;</td><td class='hellipsis'>&#x22EE;</td><td class='hellipsis'>&#x22EE;</td><td class='hellipsis'>&#x22EE;</td><td class='hellipsis'>&#x22EE;</td><td class='hellipsis'>&#x22EE;</td><td class='hellipsis'>&#x22EE;</td><td class='hellipsis'>&#x22EE;</td><td class='hellipsis'>&#x22EE;</td><td class='hellipsis'>&#x22EE;</td></tr>\n",
       "    <tr><td class='row_index'>22,208</td><td>1</td><td>1</td><td>SD/SP/35092/351000</td><td>Cândido Mota</td><td>0</td><td>4</td><td>123</td><td>0</td><td>0</td></tr>\n",
       "    <tr><td class='row_index'>22,209</td><td>1</td><td>1</td><td>SD/SP/35115/354425</td><td>Rosana</td><td>0</td><td>3</td><td>99</td><td>0</td><td>0</td></tr>\n",
       "    <tr><td class='row_index'>22,210</td><td>1</td><td>1</td><td>SL/PR/41018/410640</td><td>Cornélio Procópio</td><td>0</td><td>3</td><td>150</td><td>0</td><td>0</td></tr>\n",
       "    <tr><td class='row_index'>22,211</td><td>1</td><td>1</td><td>SL/PR/41019/412410</td><td>Santo Antônio da Platina</td><td>0</td><td>3</td><td>543</td><td>0</td><td>0</td></tr>\n",
       "    <tr><td class='row_index'>22,212</td><td>1</td><td>1</td><td>SL/RS/43003/431530</td><td>Quaraí</td><td>0</td><td>3</td><td>133</td><td>0</td><td>0</td></tr>\n",
       "  </tbody>\n",
       "  </table>\n",
       "  <div class='footer'>\n",
       "    <div class='frame_dimensions'>22,213 rows &times; 9 columns</div>\n",
       "  </div>\n",
       "</div>\n"
      ],
      "text/plain": [
       "<Frame#7fe70b0cabd0 22213x9>"
      ]
     },
     "execution_count": 17,
     "metadata": {},
     "output_type": "execute_result"
    }
   ],
   "source": [
    "dt.fread(output_rank)"
   ]
  },
  {
   "cell_type": "code",
   "execution_count": 18,
   "metadata": {},
   "outputs": [],
   "source": [
    "pd.read_csv(output_rank).to_excel(output_rank.replace('csv.gzip', 'xlsx'), index=False)"
   ]
  }
 ],
 "metadata": {
  "kernelspec": {
   "display_name": "Python 3.9.13 ('ds')",
   "language": "python",
   "name": "python3"
  },
  "language_info": {
   "codemirror_mode": {
    "name": "ipython",
    "version": 3
   },
   "file_extension": ".py",
   "mimetype": "text/x-python",
   "name": "python",
   "nbconvert_exporter": "python",
   "pygments_lexer": "ipython3",
   "version": "3.9.13"
  },
  "orig_nbformat": 4,
  "vscode": {
   "interpreter": {
    "hash": "7b36953cec1b75a8b331280ff7f7e2e00c70540f1d612023ca05354bbeabec70"
   }
  }
 },
 "nbformat": 4,
 "nbformat_minor": 2
}
