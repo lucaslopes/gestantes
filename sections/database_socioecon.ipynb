{
 "cells": [
  {
   "cell_type": "raw",
   "metadata": {},
   "source": [
    "---\n",
    "title: \"Socioeconômico\"\n",
    "---"
   ]
  },
  {
   "cell_type": "code",
   "execution_count": 1,
   "metadata": {},
   "outputs": [
    {
     "data": {
      "text/html": [
       "<style type='text/css'>\n",
       ".datatable table.frame { margin-bottom: 0; }\n",
       ".datatable table.frame thead { border-bottom: none; }\n",
       ".datatable table.frame tr.coltypes td {  color: #FFFFFF;  line-height: 6px;  padding: 0 0.5em;}\n",
       ".datatable .bool    { background: #DDDD99; }\n",
       ".datatable .object  { background: #565656; }\n",
       ".datatable .int     { background: #5D9E5D; }\n",
       ".datatable .float   { background: #4040CC; }\n",
       ".datatable .str     { background: #CC4040; }\n",
       ".datatable .row_index {  background: var(--jp-border-color3);  border-right: 1px solid var(--jp-border-color0);  color: var(--jp-ui-font-color3);  font-size: 9px;}\n",
       ".datatable .frame tr.coltypes .row_index {  background: var(--jp-border-color0);}\n",
       ".datatable th:nth-child(2) { padding-left: 12px; }\n",
       ".datatable .hellipsis {  color: var(--jp-cell-editor-border-color);}\n",
       ".datatable .vellipsis {  background: var(--jp-layout-color0);  color: var(--jp-cell-editor-border-color);}\n",
       ".datatable .na {  color: var(--jp-cell-editor-border-color);  font-size: 80%;}\n",
       ".datatable .footer { font-size: 9px; }\n",
       ".datatable .frame_dimensions {  background: var(--jp-border-color3);  border-top: 1px solid var(--jp-border-color0);  color: var(--jp-ui-font-color3);  display: inline-block;  opacity: 0.6;  padding: 1px 10px 1px 5px;}\n",
       "</style>\n"
      ],
      "text/plain": [
       "<IPython.core.display.HTML object>"
      ]
     },
     "metadata": {},
     "output_type": "display_data"
    }
   ],
   "source": [
    "from utils import get_path, data_load\n",
    "from datatable import dt, f, by"
   ]
  },
  {
   "cell_type": "markdown",
   "metadata": {},
   "source": [
    "# Descrição"
   ]
  },
  {
   "cell_type": "markdown",
   "metadata": {},
   "source": [
    "Entre os desafios mais urgentes do Sistema Único de Saúde (SUS) estão a ampliação do acesso e a adequação dos serviços ofertados. No Brasil, as relações existentes entre regiões e redes de atenção à saúde indicam que o avanço do processo de regionalização do SUS pode interferir positivamente na oferta de ações de serviços de saúde, tornando-a mais eficiente e abrangente.\n",
    "\n",
    "[Saiba mais](https://www.resbr.net.br/apresentacao/)"
   ]
  },
  {
   "cell_type": "markdown",
   "metadata": {},
   "source": [
    "[Download](https://indicadores.resbr.net.br/view/)"
   ]
  },
  {
   "cell_type": "markdown",
   "metadata": {},
   "source": [
    "# Tabela"
   ]
  },
  {
   "cell_type": "code",
   "execution_count": 2,
   "metadata": {},
   "outputs": [
    {
     "data": {
      "text/html": [
       "<div class='datatable'>\n",
       "  <table class='frame'>\n",
       "  <thead>\n",
       "    <tr class='colnames'><td class='row_index'></td><th>UF</th><th>Município</th><th>Cód IBGE</th><th>Cód Região de Saúde</th><th>Nome da Região de Saúde</th><th>Grupo</th></tr>\n",
       "    <tr class='coltypes'><td class='row_index'></td><td class='str' title='str32'>&#x25AA;&#x25AA;&#x25AA;&#x25AA;</td><td class='str' title='str32'>&#x25AA;&#x25AA;&#x25AA;&#x25AA;</td><td class='int' title='int32'>&#x25AA;&#x25AA;&#x25AA;&#x25AA;</td><td class='int' title='int32'>&#x25AA;&#x25AA;&#x25AA;&#x25AA;</td><td class='str' title='str32'>&#x25AA;&#x25AA;&#x25AA;&#x25AA;</td><td class='int' title='int32'>&#x25AA;&#x25AA;&#x25AA;&#x25AA;</td></tr>\n",
       "  </thead>\n",
       "  <tbody>\n",
       "    <tr><td class='row_index'>0</td><td>AC</td><td>Acrelândia</td><td>120001</td><td>12002</td><td>Baixo Acre e Purus</td><td>2</td></tr>\n",
       "    <tr><td class='row_index'>1</td><td>AC</td><td>Assis Brasil</td><td>120005</td><td>12001</td><td>Alto Acre</td><td>1</td></tr>\n",
       "    <tr><td class='row_index'>2</td><td>AC</td><td>Brasiléia</td><td>120010</td><td>12001</td><td>Alto Acre</td><td>1</td></tr>\n",
       "    <tr><td class='row_index'>3</td><td>AC</td><td>Bujari</td><td>120013</td><td>12002</td><td>Baixo Acre e Purus</td><td>2</td></tr>\n",
       "    <tr><td class='row_index'>4</td><td>AC</td><td>Capixaba</td><td>120017</td><td>12002</td><td>Baixo Acre e Purus</td><td>2</td></tr>\n",
       "    <tr><td class='row_index'>5</td><td>AC</td><td>Cruzeiro do Sul</td><td>120020</td><td>12003</td><td>Juruá e Tarauacá/Envira</td><td>1</td></tr>\n",
       "    <tr><td class='row_index'>6</td><td>AC</td><td>Epitaciolândia</td><td>120025</td><td>12001</td><td>Alto Acre</td><td>1</td></tr>\n",
       "    <tr><td class='row_index'>7</td><td>AC</td><td>Feijó</td><td>120030</td><td>12003</td><td>Juruá e Tarauacá/Envira</td><td>1</td></tr>\n",
       "    <tr><td class='row_index'>8</td><td>AC</td><td>Jordão</td><td>120032</td><td>12002</td><td>Baixo Acre e Purus</td><td>2</td></tr>\n",
       "    <tr><td class='row_index'>9</td><td>AC</td><td>Mâncio Lima</td><td>120033</td><td>12003</td><td>Juruá e Tarauacá/Envira</td><td>1</td></tr>\n",
       "    <tr><td class='row_index'>10</td><td>AC</td><td>Manoel Urbano</td><td>120034</td><td>12002</td><td>Baixo Acre e Purus</td><td>2</td></tr>\n",
       "    <tr><td class='row_index'>11</td><td>AC</td><td>Marechal Thaumaturgo</td><td>120035</td><td>12003</td><td>Juruá e Tarauacá/Envira</td><td>1</td></tr>\n",
       "    <tr><td class='row_index'>12</td><td>AC</td><td>Plácido de Castro</td><td>120038</td><td>12002</td><td>Baixo Acre e Purus</td><td>2</td></tr>\n",
       "    <tr><td class='row_index'>13</td><td>AC</td><td>Porto Acre</td><td>120080</td><td>12002</td><td>Baixo Acre e Purus</td><td>2</td></tr>\n",
       "    <tr><td class='row_index'>14</td><td>AC</td><td>Porto Walter</td><td>120039</td><td>12003</td><td>Juruá e Tarauacá/Envira</td><td>1</td></tr>\n",
       "    <tr><td class='row_index'>&#x22EE;</td><td class='hellipsis'>&#x22EE;</td><td class='hellipsis'>&#x22EE;</td><td class='hellipsis'>&#x22EE;</td><td class='hellipsis'>&#x22EE;</td><td class='hellipsis'>&#x22EE;</td><td class='hellipsis'>&#x22EE;</td></tr>\n",
       "    <tr><td class='row_index'>5566</td><td>TO</td><td>Tocantinópolis</td><td>172120</td><td>17002</td><td>Bico do Papagaio</td><td>1</td></tr>\n",
       "    <tr><td class='row_index'>5567</td><td>TO</td><td>Tupirama</td><td>172125</td><td>17004</td><td>Cerrado Tocantins Araguaia</td><td>2</td></tr>\n",
       "    <tr><td class='row_index'>5568</td><td>TO</td><td>Tupiratins</td><td>172130</td><td>17004</td><td>Cerrado Tocantins Araguaia</td><td>2</td></tr>\n",
       "    <tr><td class='row_index'>5569</td><td>TO</td><td>Wanderlândia</td><td>172208</td><td>17001</td><td>Médio Norte Araguaia</td><td>3</td></tr>\n",
       "    <tr><td class='row_index'>5570</td><td>TO</td><td>Xambioá</td><td>172210</td><td>17001</td><td>Médio Norte Araguaia</td><td>3</td></tr>\n",
       "  </tbody>\n",
       "  </table>\n",
       "  <div class='footer'>\n",
       "    <div class='frame_dimensions'>5571 rows &times; 6 columns</div>\n",
       "  </div>\n",
       "</div>\n"
      ],
      "text/plain": [
       "<Frame#7fc9306da3c0 5571x6>"
      ]
     },
     "execution_count": 2,
     "metadata": {},
     "output_type": "execute_result"
    }
   ],
   "source": [
    "path_socioeco = get_path('HEALTH', 'health_regions.csv')\n",
    "df_socioeco = dt.fread(path_socioeco)\n",
    "df_socioeco"
   ]
  }
 ],
 "metadata": {
  "kernelspec": {
   "display_name": "Python 3.9.13 ('base')",
   "language": "python",
   "name": "python3"
  },
  "language_info": {
   "codemirror_mode": {
    "name": "ipython",
    "version": 3
   },
   "file_extension": ".py",
   "mimetype": "text/x-python",
   "name": "python",
   "nbconvert_exporter": "python",
   "pygments_lexer": "ipython3",
   "version": "3.9.13"
  },
  "orig_nbformat": 4,
  "vscode": {
   "interpreter": {
    "hash": "6c01efea219ea0303b6e6cd1897665114cc62146ed112ea21ec489238fdae255"
   }
  }
 },
 "nbformat": 4,
 "nbformat_minor": 2
}
