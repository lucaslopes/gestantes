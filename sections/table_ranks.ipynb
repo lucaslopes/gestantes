{
 "cells": [
  {
   "cell_type": "raw",
   "metadata": {},
   "source": [
    "---\n",
    "title: \"Rankings\"\n",
    "---"
   ]
  },
  {
   "cell_type": "code",
   "execution_count": 1,
   "metadata": {},
   "outputs": [
    {
     "data": {
      "text/html": [
       "<style type='text/css'>\n",
       ".datatable table.frame { margin-bottom: 0; }\n",
       ".datatable table.frame thead { border-bottom: none; }\n",
       ".datatable table.frame tr.coltypes td {  color: #FFFFFF;  line-height: 6px;  padding: 0 0.5em;}\n",
       ".datatable .bool    { background: #DDDD99; }\n",
       ".datatable .object  { background: #565656; }\n",
       ".datatable .int     { background: #5D9E5D; }\n",
       ".datatable .float   { background: #4040CC; }\n",
       ".datatable .str     { background: #CC4040; }\n",
       ".datatable .time    { background: #40CC40; }\n",
       ".datatable .row_index {  background: var(--jp-border-color3);  border-right: 1px solid var(--jp-border-color0);  color: var(--jp-ui-font-color3);  font-size: 9px;}\n",
       ".datatable .frame tbody td { text-align: left; }\n",
       ".datatable .frame tr.coltypes .row_index {  background: var(--jp-border-color0);}\n",
       ".datatable th:nth-child(2) { padding-left: 12px; }\n",
       ".datatable .hellipsis {  color: var(--jp-cell-editor-border-color);}\n",
       ".datatable .vellipsis {  background: var(--jp-layout-color0);  color: var(--jp-cell-editor-border-color);}\n",
       ".datatable .na {  color: var(--jp-cell-editor-border-color);  font-size: 80%;}\n",
       ".datatable .sp {  opacity: 0.25;}\n",
       ".datatable .footer { font-size: 9px; }\n",
       ".datatable .frame_dimensions {  background: var(--jp-border-color3);  border-top: 1px solid var(--jp-border-color0);  color: var(--jp-ui-font-color3);  display: inline-block;  opacity: 0.6;  padding: 1px 10px 1px 5px;}\n",
       "</style>\n"
      ],
      "text/plain": [
       "<IPython.core.display.HTML object>"
      ]
     },
     "metadata": {},
     "output_type": "display_data"
    }
   ],
   "source": [
    "import pandas as pd\n",
    "from utils import get_path, group_cols\n",
    "from datatable import dt, f, by"
   ]
  },
  {
   "cell_type": "markdown",
   "metadata": {},
   "source": [
    "# Descrição"
   ]
  },
  {
   "cell_type": "markdown",
   "metadata": {},
   "source": [
    "Neste notebook iremos formar a tabela deslocamento, com origem e destino."
   ]
  },
  {
   "cell_type": "markdown",
   "metadata": {},
   "source": [
    "# Gerando tabela"
   ]
  },
  {
   "cell_type": "code",
   "execution_count": 2,
   "metadata": {},
   "outputs": [],
   "source": [
    "def rank_locs(path_count, path_locs, scale):\n",
    "  ref = 'destino' if scale == 'cnes' else 'origem'\n",
    "  cols_locs = {'codigo': 'codigo', f'nome_{scale}': 'nome', ...: None}\n",
    "  df_locs = dt.fread(path_locs, columns=cols_locs)\n",
    "  if scale == 'cnes':\n",
    "    df_locs['nome'] = ''\n",
    "  df_locs.key = 'codigo'\n",
    "  df_count = dt.fread(path_count)\n",
    "  df_count = df_count[f.referencial == ref, f[:].remove(f.referencial)]\n",
    "  df_count['escala'] = scale\n",
    "  df_count = df_count[:, :, dt.join(df_locs)]\n",
    "  i = {'cnes': 5, 'municipio': 4, 'regiao_saude': 3, 'uf': 2, 'regiao': 1}[scale]\n",
    "  codigos = df_count['codigo'].to_list()[0]\n",
    "  df_codigos = dt.Frame(['/'.join(c.split('/')[:i]) for c in codigos])\n",
    "  df_count['codigo'] = df_codigos\n",
    "  cols = df_count.names\n",
    "  cols_order = cols[:3] + cols[5:] + cols[3:5]\n",
    "  df_count = df_count[:, cols_order]\n",
    "  df_count = df_count[:, [dt.sum(f.count_total), dt.sum(f.count_critic)], by(df_count.names[:-2])]\n",
    "  df_count[:, dt.update(critic_percent = f.count_critic / f.count_total * 100)]\n",
    "  df_count = df_count.sort(f.codigo, f.parto_normal, f.bienio)\n",
    "  return df_count"
   ]
  },
  {
   "cell_type": "code",
   "execution_count": 3,
   "metadata": {},
   "outputs": [
    {
     "data": {
      "text/html": [
       "<div class='datatable'>\n",
       "  <table class='frame'>\n",
       "  <thead>\n",
       "    <tr class='colnames'><td class='row_index'></td><th>bienio</th><th>parto_normal</th><th>codigo</th><th>escala</th><th>nome</th><th>count_total</th><th>count_critic</th><th>critic_percent</th></tr>\n",
       "    <tr class='coltypes'><td class='row_index'></td><td class='bool' title='bool8'>&#x25AA;</td><td class='bool' title='bool8'>&#x25AA;</td><td class='str' title='str32'>&#x25AA;&#x25AA;&#x25AA;&#x25AA;</td><td class='str' title='str32'>&#x25AA;&#x25AA;&#x25AA;&#x25AA;</td><td class='str' title='str32'>&#x25AA;&#x25AA;&#x25AA;&#x25AA;</td><td class='int' title='int64'>&#x25AA;&#x25AA;&#x25AA;&#x25AA;&#x25AA;&#x25AA;&#x25AA;&#x25AA;</td><td class='int' title='int64'>&#x25AA;&#x25AA;&#x25AA;&#x25AA;&#x25AA;&#x25AA;&#x25AA;&#x25AA;</td><td class='float' title='float64'>&#x25AA;&#x25AA;&#x25AA;&#x25AA;&#x25AA;&#x25AA;&#x25AA;&#x25AA;</td></tr>\n",
       "  </thead>\n",
       "  <tbody>\n",
       "    <tr><td class='row_index'>0</td><td>0</td><td>0</td><td>CO</td><td>regiao</td><td>Centro-Oeste</td><td>100035</td><td>14967</td><td>14.9618</td></tr>\n",
       "    <tr><td class='row_index'>1</td><td>1</td><td>0</td><td>CO</td><td>regiao</td><td>Centro-Oeste</td><td>124971</td><td>23976</td><td>19.1853</td></tr>\n",
       "    <tr><td class='row_index'>2</td><td>0</td><td>1</td><td>CO</td><td>regiao</td><td>Centro-Oeste</td><td>167105</td><td>25501</td><td>15.2605</td></tr>\n",
       "    <tr><td class='row_index'>3</td><td>1</td><td>1</td><td>CO</td><td>regiao</td><td>Centro-Oeste</td><td>151310</td><td>33089</td><td>21.8683</td></tr>\n",
       "    <tr><td class='row_index'>4</td><td>0</td><td>0</td><td>ND</td><td>regiao</td><td>Nordeste</td><td>413100</td><td>163597</td><td>39.6023</td></tr>\n",
       "    <tr><td class='row_index'>5</td><td>1</td><td>0</td><td>ND</td><td>regiao</td><td>Nordeste</td><td>428756</td><td>181313</td><td>42.2882</td></tr>\n",
       "    <tr><td class='row_index'>6</td><td>0</td><td>1</td><td>ND</td><td>regiao</td><td>Nordeste</td><td>817947</td><td>250112</td><td>30.578</td></tr>\n",
       "    <tr><td class='row_index'>7</td><td>1</td><td>1</td><td>ND</td><td>regiao</td><td>Nordeste</td><td>634648</td><td>222477</td><td>35.0552</td></tr>\n",
       "    <tr><td class='row_index'>8</td><td>0</td><td>0</td><td>NT</td><td>regiao</td><td>Norte</td><td>146771</td><td>26529</td><td>18.0751</td></tr>\n",
       "    <tr><td class='row_index'>9</td><td>1</td><td>0</td><td>NT</td><td>regiao</td><td>Norte</td><td>172823</td><td>33069</td><td>19.1346</td></tr>\n",
       "    <tr><td class='row_index'>10</td><td>0</td><td>1</td><td>NT</td><td>regiao</td><td>Norte</td><td>291769</td><td>39730</td><td>13.6169</td></tr>\n",
       "    <tr><td class='row_index'>11</td><td>1</td><td>1</td><td>NT</td><td>regiao</td><td>Norte</td><td>251660</td><td>38967</td><td>15.484</td></tr>\n",
       "    <tr><td class='row_index'>12</td><td>0</td><td>0</td><td>SD</td><td>regiao</td><td>Sudeste</td><td>428772</td><td>85165</td><td>19.8625</td></tr>\n",
       "    <tr><td class='row_index'>13</td><td>1</td><td>0</td><td>SD</td><td>regiao</td><td>Sudeste</td><td>463185</td><td>104375</td><td>22.5342</td></tr>\n",
       "    <tr><td class='row_index'>14</td><td>0</td><td>1</td><td>SD</td><td>regiao</td><td>Sudeste</td><td>772155</td><td>140814</td><td>18.2365</td></tr>\n",
       "    <tr><td class='row_index'>&#x22EE;</td><td class='hellipsis'>&#x22EE;</td><td class='hellipsis'>&#x22EE;</td><td class='hellipsis'>&#x22EE;</td><td class='hellipsis'>&#x22EE;</td><td class='hellipsis'>&#x22EE;</td><td class='hellipsis'>&#x22EE;</td><td class='hellipsis'>&#x22EE;</td><td class='hellipsis'>&#x22EE;</td></tr>\n",
       "    <tr><td class='row_index'>36,142</td><td>1</td><td>1</td><td>SL/SC/42016/421840/2778858</td><td>cnes</td><td><span class=na>NA</span></td><td>2</td><td>0</td><td>0</td></tr>\n",
       "    <tr><td class='row_index'>36,143</td><td>0</td><td>0</td><td>SL/SC/42016/421870/2491710</td><td>cnes</td><td><span class=na>NA</span></td><td>112</td><td>60</td><td>53.5714</td></tr>\n",
       "    <tr><td class='row_index'>36,144</td><td>1</td><td>0</td><td>SL/SC/42016/421870/2491710</td><td>cnes</td><td><span class=na>NA</span></td><td>550</td><td>360</td><td>65.4545</td></tr>\n",
       "    <tr><td class='row_index'>36,145</td><td>0</td><td>1</td><td>SL/SC/42016/421870/2491710</td><td>cnes</td><td><span class=na>NA</span></td><td>561</td><td>290</td><td>51.6934</td></tr>\n",
       "    <tr><td class='row_index'>36,146</td><td>1</td><td>1</td><td>SL/SC/42016/421870/2491710</td><td>cnes</td><td><span class=na>NA</span></td><td>1256</td><td>815</td><td>64.8885</td></tr>\n",
       "  </tbody>\n",
       "  </table>\n",
       "  <div class='footer'>\n",
       "    <div class='frame_dimensions'>36,147 rows &times; 8 columns</div>\n",
       "  </div>\n",
       "</div>\n"
      ],
      "text/plain": [
       "<Frame#7fc08964eea0 36147x8>"
      ]
     },
     "execution_count": 3,
     "metadata": {},
     "output_type": "execute_result"
    }
   ],
   "source": [
    "path_locs = get_path('LOCALIDADES', 'localidades.csv.gzip')\n",
    "path_rank = get_path('GESTANTES', 'contagens.csv.gzip')\n",
    "scales = ['regiao', 'uf', 'regiao_saude', 'municipio', 'cnes']\n",
    "df_counts = dt.rbind(*[\n",
    "  rank_locs(path_rank, path_locs, scale) for scale in scales])\n",
    "df_counts"
   ]
  },
  {
   "cell_type": "markdown",
   "metadata": {},
   "source": [
    "# Exportando tabela"
   ]
  },
  {
   "cell_type": "code",
   "execution_count": 4,
   "metadata": {},
   "outputs": [],
   "source": [
    "output_rank = get_path('GESTANTES', 'ranks.csv.gzip')\n",
    "df_counts.to_csv(output_rank)"
   ]
  },
  {
   "cell_type": "code",
   "execution_count": 5,
   "metadata": {},
   "outputs": [
    {
     "data": {
      "text/html": [
       "<div class='datatable'>\n",
       "  <table class='frame'>\n",
       "  <thead>\n",
       "    <tr class='colnames'><td class='row_index'></td><th>bienio</th><th>parto_normal</th><th>codigo</th><th>escala</th><th>nome</th><th>count_total</th><th>count_critic</th><th>critic_percent</th></tr>\n",
       "    <tr class='coltypes'><td class='row_index'></td><td class='bool' title='bool8'>&#x25AA;</td><td class='bool' title='bool8'>&#x25AA;</td><td class='str' title='str32'>&#x25AA;&#x25AA;&#x25AA;&#x25AA;</td><td class='str' title='str32'>&#x25AA;&#x25AA;&#x25AA;&#x25AA;</td><td class='str' title='str32'>&#x25AA;&#x25AA;&#x25AA;&#x25AA;</td><td class='int' title='int32'>&#x25AA;&#x25AA;&#x25AA;&#x25AA;</td><td class='int' title='int32'>&#x25AA;&#x25AA;&#x25AA;&#x25AA;</td><td class='float' title='float64'>&#x25AA;&#x25AA;&#x25AA;&#x25AA;&#x25AA;&#x25AA;&#x25AA;&#x25AA;</td></tr>\n",
       "  </thead>\n",
       "  <tbody>\n",
       "    <tr><td class='row_index'>0</td><td>0</td><td>0</td><td>CO</td><td>regiao</td><td>Centro-Oeste</td><td>100035</td><td>14967</td><td>14.9618</td></tr>\n",
       "    <tr><td class='row_index'>1</td><td>1</td><td>0</td><td>CO</td><td>regiao</td><td>Centro-Oeste</td><td>124971</td><td>23976</td><td>19.1853</td></tr>\n",
       "    <tr><td class='row_index'>2</td><td>0</td><td>1</td><td>CO</td><td>regiao</td><td>Centro-Oeste</td><td>167105</td><td>25501</td><td>15.2605</td></tr>\n",
       "    <tr><td class='row_index'>3</td><td>1</td><td>1</td><td>CO</td><td>regiao</td><td>Centro-Oeste</td><td>151310</td><td>33089</td><td>21.8683</td></tr>\n",
       "    <tr><td class='row_index'>4</td><td>0</td><td>0</td><td>ND</td><td>regiao</td><td>Nordeste</td><td>413100</td><td>163597</td><td>39.6023</td></tr>\n",
       "    <tr><td class='row_index'>5</td><td>1</td><td>0</td><td>ND</td><td>regiao</td><td>Nordeste</td><td>428756</td><td>181313</td><td>42.2882</td></tr>\n",
       "    <tr><td class='row_index'>6</td><td>0</td><td>1</td><td>ND</td><td>regiao</td><td>Nordeste</td><td>817947</td><td>250112</td><td>30.578</td></tr>\n",
       "    <tr><td class='row_index'>7</td><td>1</td><td>1</td><td>ND</td><td>regiao</td><td>Nordeste</td><td>634648</td><td>222477</td><td>35.0552</td></tr>\n",
       "    <tr><td class='row_index'>8</td><td>0</td><td>0</td><td>NT</td><td>regiao</td><td>Norte</td><td>146771</td><td>26529</td><td>18.0751</td></tr>\n",
       "    <tr><td class='row_index'>9</td><td>1</td><td>0</td><td>NT</td><td>regiao</td><td>Norte</td><td>172823</td><td>33069</td><td>19.1346</td></tr>\n",
       "    <tr><td class='row_index'>10</td><td>0</td><td>1</td><td>NT</td><td>regiao</td><td>Norte</td><td>291769</td><td>39730</td><td>13.6169</td></tr>\n",
       "    <tr><td class='row_index'>11</td><td>1</td><td>1</td><td>NT</td><td>regiao</td><td>Norte</td><td>251660</td><td>38967</td><td>15.484</td></tr>\n",
       "    <tr><td class='row_index'>12</td><td>0</td><td>0</td><td>SD</td><td>regiao</td><td>Sudeste</td><td>428772</td><td>85165</td><td>19.8625</td></tr>\n",
       "    <tr><td class='row_index'>13</td><td>1</td><td>0</td><td>SD</td><td>regiao</td><td>Sudeste</td><td>463185</td><td>104375</td><td>22.5342</td></tr>\n",
       "    <tr><td class='row_index'>14</td><td>0</td><td>1</td><td>SD</td><td>regiao</td><td>Sudeste</td><td>772155</td><td>140814</td><td>18.2365</td></tr>\n",
       "    <tr><td class='row_index'>&#x22EE;</td><td class='hellipsis'>&#x22EE;</td><td class='hellipsis'>&#x22EE;</td><td class='hellipsis'>&#x22EE;</td><td class='hellipsis'>&#x22EE;</td><td class='hellipsis'>&#x22EE;</td><td class='hellipsis'>&#x22EE;</td><td class='hellipsis'>&#x22EE;</td><td class='hellipsis'>&#x22EE;</td></tr>\n",
       "    <tr><td class='row_index'>36,142</td><td>1</td><td>1</td><td>SL/SC/42016/421840/2778858</td><td>cnes</td><td></td><td>2</td><td>0</td><td>0</td></tr>\n",
       "    <tr><td class='row_index'>36,143</td><td>0</td><td>0</td><td>SL/SC/42016/421870/2491710</td><td>cnes</td><td></td><td>112</td><td>60</td><td>53.5714</td></tr>\n",
       "    <tr><td class='row_index'>36,144</td><td>1</td><td>0</td><td>SL/SC/42016/421870/2491710</td><td>cnes</td><td></td><td>550</td><td>360</td><td>65.4545</td></tr>\n",
       "    <tr><td class='row_index'>36,145</td><td>0</td><td>1</td><td>SL/SC/42016/421870/2491710</td><td>cnes</td><td></td><td>561</td><td>290</td><td>51.6934</td></tr>\n",
       "    <tr><td class='row_index'>36,146</td><td>1</td><td>1</td><td>SL/SC/42016/421870/2491710</td><td>cnes</td><td></td><td>1256</td><td>815</td><td>64.8885</td></tr>\n",
       "  </tbody>\n",
       "  </table>\n",
       "  <div class='footer'>\n",
       "    <div class='frame_dimensions'>36,147 rows &times; 8 columns</div>\n",
       "  </div>\n",
       "</div>\n"
      ],
      "text/plain": [
       "<Frame#7fc08964ed50 36147x8>"
      ]
     },
     "execution_count": 5,
     "metadata": {},
     "output_type": "execute_result"
    }
   ],
   "source": [
    "dt.fread(output_rank)"
   ]
  },
  {
   "cell_type": "code",
   "execution_count": 6,
   "metadata": {},
   "outputs": [],
   "source": [
    "pd.read_csv(output_rank).to_excel(output_rank.replace('csv.gzip', 'xlsx'), index=False)"
   ]
  }
 ],
 "metadata": {
  "kernelspec": {
   "display_name": "Python 3.9.13 ('ds')",
   "language": "python",
   "name": "python3"
  },
  "language_info": {
   "codemirror_mode": {
    "name": "ipython",
    "version": 3
   },
   "file_extension": ".py",
   "mimetype": "text/x-python",
   "name": "python",
   "nbconvert_exporter": "python",
   "pygments_lexer": "ipython3",
   "version": "3.9.13"
  },
  "orig_nbformat": 4,
  "vscode": {
   "interpreter": {
    "hash": "7b36953cec1b75a8b331280ff7f7e2e00c70540f1d612023ca05354bbeabec70"
   }
  }
 },
 "nbformat": 4,
 "nbformat_minor": 2
}
