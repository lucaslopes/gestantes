{
 "cells": [
  {
   "cell_type": "raw",
   "metadata": {},
   "source": [
    "---\n",
    "title: \"Contagens\"\n",
    "---"
   ]
  },
  {
   "cell_type": "code",
   "execution_count": 1,
   "metadata": {},
   "outputs": [
    {
     "data": {
      "text/html": [
       "<style type='text/css'>\n",
       ".datatable table.frame { margin-bottom: 0; }\n",
       ".datatable table.frame thead { border-bottom: none; }\n",
       ".datatable table.frame tr.coltypes td {  color: #FFFFFF;  line-height: 6px;  padding: 0 0.5em;}\n",
       ".datatable .bool    { background: #DDDD99; }\n",
       ".datatable .object  { background: #565656; }\n",
       ".datatable .int     { background: #5D9E5D; }\n",
       ".datatable .float   { background: #4040CC; }\n",
       ".datatable .str     { background: #CC4040; }\n",
       ".datatable .time    { background: #40CC40; }\n",
       ".datatable .row_index {  background: var(--jp-border-color3);  border-right: 1px solid var(--jp-border-color0);  color: var(--jp-ui-font-color3);  font-size: 9px;}\n",
       ".datatable .frame tbody td { text-align: left; }\n",
       ".datatable .frame tr.coltypes .row_index {  background: var(--jp-border-color0);}\n",
       ".datatable th:nth-child(2) { padding-left: 12px; }\n",
       ".datatable .hellipsis {  color: var(--jp-cell-editor-border-color);}\n",
       ".datatable .vellipsis {  background: var(--jp-layout-color0);  color: var(--jp-cell-editor-border-color);}\n",
       ".datatable .na {  color: var(--jp-cell-editor-border-color);  font-size: 80%;}\n",
       ".datatable .sp {  opacity: 0.25;}\n",
       ".datatable .footer { font-size: 9px; }\n",
       ".datatable .frame_dimensions {  background: var(--jp-border-color3);  border-top: 1px solid var(--jp-border-color0);  color: var(--jp-ui-font-color3);  display: inline-block;  opacity: 0.6;  padding: 1px 10px 1px 5px;}\n",
       "</style>\n"
      ],
      "text/plain": [
       "<IPython.core.display.HTML object>"
      ]
     },
     "metadata": {},
     "output_type": "display_data"
    }
   ],
   "source": [
    "import pandas as pd\n",
    "from utils import get_path, group_cols\n",
    "from datatable import dt, f, by"
   ]
  },
  {
   "cell_type": "markdown",
   "metadata": {},
   "source": [
    "# Descrição"
   ]
  },
  {
   "cell_type": "markdown",
   "metadata": {},
   "source": [
    "Neste notebook iremos formar a tabela deslocamento, com origem e destino."
   ]
  },
  {
   "cell_type": "markdown",
   "metadata": {},
   "source": [
    "# Tabelas base"
   ]
  },
  {
   "cell_type": "markdown",
   "metadata": {},
   "source": [
    "## CNES"
   ]
  },
  {
   "cell_type": "code",
   "execution_count": 2,
   "metadata": {},
   "outputs": [],
   "source": [
    "cols_cnes = {\n",
    "  'CNES': 'identificador',\n",
    "  'Nome Fantasia': 'nome',\n",
    "}"
   ]
  },
  {
   "cell_type": "code",
   "execution_count": 3,
   "metadata": {},
   "outputs": [
    {
     "data": {
      "text/html": [
       "<div class='datatable'>\n",
       "  <table class='frame'>\n",
       "  <thead>\n",
       "    <tr class='colnames'><td class='row_index'></td><th>identificador</th><th>nome</th></tr>\n",
       "    <tr class='coltypes'><td class='row_index'></td><td class='str' title='str32'>&#x25AA;&#x25AA;&#x25AA;&#x25AA;</td><td class='str' title='str32'>&#x25AA;&#x25AA;&#x25AA;&#x25AA;</td></tr>\n",
       "  </thead>\n",
       "  <tbody>\n",
       "    <tr><td class='row_index'>0</td><td>0002232</td><td>HOSPITAL E MATERNIDADE SANTA IZABEL</td></tr>\n",
       "    <tr><td class='row_index'>1</td><td>3151794</td><td>MATERNIDADE DE REFERENCIA ANA BRAGA</td></tr>\n",
       "    <tr><td class='row_index'>2</td><td>2323397</td><td>MATERNIDADE DONA EVANGELINA ROSA</td></tr>\n",
       "    <tr><td class='row_index'>3</td><td>2311682</td><td>HOSPITAL SANTA HELENA</td></tr>\n",
       "    <tr><td class='row_index'>4</td><td>0026794</td><td>HOSPITAL SOFIA FELDMAN</td></tr>\n",
       "    <tr><td class='row_index'>5</td><td>2020068</td><td>SES AP HOSPITAL DA MULHER</td></tr>\n",
       "    <tr><td class='row_index'>6</td><td>6627595</td><td>INSTITUTO DA MULHER DONA LINDU</td></tr>\n",
       "    <tr><td class='row_index'>7</td><td>2799278</td><td>HOSPITAL INACIA PINTO DOS SANTOS</td></tr>\n",
       "    <tr><td class='row_index'>8</td><td>0010480</td><td>HOSPITAL REGIONAL DE CEILANDIA</td></tr>\n",
       "    <tr><td class='row_index'>9</td><td>2077388</td><td>HOSPITAL AMPARO MATERNAL</td></tr>\n",
       "    <tr><td class='row_index'>10</td><td>7011857</td><td>SES RJ COMPLEXO REG DE MESQUITA MATERNID E CLINICA&#133;</td></tr>\n",
       "    <tr><td class='row_index'>11</td><td>6303153</td><td>HOSPITAL NOSSA SENHORA DA GUIA</td></tr>\n",
       "    <tr><td class='row_index'>12</td><td>2755165</td><td>HOSPITAL DOM ORIONE DE ARAGUAINA</td></tr>\n",
       "    <tr><td class='row_index'>13</td><td>2344882</td><td>HOSPITAL DO TRICENTENARIO</td></tr>\n",
       "    <tr><td class='row_index'>14</td><td>2079186</td><td>HOSP MUN MAT ESC DR MARIO DE MORAES A SILVA</td></tr>\n",
       "    <tr><td class='row_index'>&#x22EE;</td><td class='hellipsis'>&#x22EE;</td><td class='hellipsis'>&#x22EE;</td></tr>\n",
       "    <tr><td class='row_index'>3923</td><td>7320175</td><td>HOSPITAL SAO MIGUEL ARCANJO</td></tr>\n",
       "    <tr><td class='row_index'>3924</td><td>7603029</td><td>HOSPITAL MUNICIPAL LENILDE OLIVEIRA</td></tr>\n",
       "    <tr><td class='row_index'>3925</td><td>7621442</td><td>HOSPITAL ESTADUAL DE URGENCIA E EMERGENCIA</td></tr>\n",
       "    <tr><td class='row_index'>3926</td><td>7704364</td><td>HOSPITAL DE URGENCIA E EMERGENCIA REGIONAL DE CACO&#133;</td></tr>\n",
       "    <tr><td class='row_index'>3927</td><td>7743068</td><td>HOSPITAL ESTADUAL DE URGENCIAS GOV OTAVIO LAG SIQU&#133;</td></tr>\n",
       "  </tbody>\n",
       "  </table>\n",
       "  <div class='footer'>\n",
       "    <div class='frame_dimensions'>3928 rows &times; 2 columns</div>\n",
       "  </div>\n",
       "</div>\n"
      ],
      "text/plain": [
       "<Frame#7fb42901bc00 3928x2>"
      ]
     },
     "execution_count": 3,
     "metadata": {},
     "output_type": "execute_result"
    }
   ],
   "source": [
    "path_cnes = get_path('LOCALIDADES', 'cnes.csv.gzip')\n",
    "df_cnes = pd.read_csv(path_cnes, dtype={'CNES': str})\n",
    "df_cnes = df_cnes.rename(columns=cols_cnes)[cols_cnes.values()]\n",
    "df_cnes = dt.Frame(df_cnes)\n",
    "df_cnes"
   ]
  },
  {
   "cell_type": "markdown",
   "metadata": {},
   "source": [
    "# Gerando tabela"
   ]
  },
  {
   "cell_type": "code",
   "execution_count": 4,
   "metadata": {},
   "outputs": [],
   "source": [
    "def get_count_df(path_proc, ref):\n",
    "  cols_proc = {\n",
    "    'bienio': 'bienio', 'parto_normal': 'parto_normal',\n",
    "    ref: 'codigo', 'criticidade': 'criticidade',\n",
    "    'count': 'count', ...: None}\n",
    "  df_proc = dt.fread(path_proc, columns=cols_proc)\n",
    "  df_counts = df_proc[:, dt.sum(f.count), by(df_proc.names[:-1])]\n",
    "  df_counts = df_counts.sort(f.codigo, f.criticidade, f.parto_normal, f.bienio)#, -f.count_critic)\n",
    "  df_counts['referencial'] = ref\n",
    "  cols_order = ['bienio', 'parto_normal', 'codigo', 'referencial', 'criticidade', 'count']\n",
    "  df_counts = df_counts[:, cols_order]\n",
    "  return df_counts"
   ]
  },
  {
   "cell_type": "code",
   "execution_count": 5,
   "metadata": {},
   "outputs": [
    {
     "data": {
      "text/html": [
       "<div class='datatable'>\n",
       "  <table class='frame'>\n",
       "  <thead>\n",
       "    <tr class='colnames'><td class='row_index'></td><th>bienio</th><th>parto_normal</th><th>codigo</th><th>referencial</th><th>criticidade</th><th>count</th></tr>\n",
       "    <tr class='coltypes'><td class='row_index'></td><td class='bool' title='bool8'>&#x25AA;</td><td class='bool' title='bool8'>&#x25AA;</td><td class='str' title='str32'>&#x25AA;&#x25AA;&#x25AA;&#x25AA;</td><td class='str' title='str32'>&#x25AA;&#x25AA;&#x25AA;&#x25AA;</td><td class='int' title='int32'>&#x25AA;&#x25AA;&#x25AA;&#x25AA;</td><td class='int' title='int64'>&#x25AA;&#x25AA;&#x25AA;&#x25AA;&#x25AA;&#x25AA;&#x25AA;&#x25AA;</td></tr>\n",
       "  </thead>\n",
       "  <tbody>\n",
       "    <tr><td class='row_index'>0</td><td>0</td><td>0</td><td>CO/DF/53001/530010</td><td>origem</td><td>0</td><td>20906</td></tr>\n",
       "    <tr><td class='row_index'>1</td><td>1</td><td>0</td><td>CO/DF/53001/530010</td><td>origem</td><td>0</td><td>19949</td></tr>\n",
       "    <tr><td class='row_index'>2</td><td>0</td><td>1</td><td>CO/DF/53001/530010</td><td>origem</td><td>0</td><td>40969</td></tr>\n",
       "    <tr><td class='row_index'>3</td><td>1</td><td>1</td><td>CO/DF/53001/530010</td><td>origem</td><td>0</td><td>33309</td></tr>\n",
       "    <tr><td class='row_index'>4</td><td>0</td><td>0</td><td>CO/DF/53001/530010</td><td>origem</td><td>3</td><td>4</td></tr>\n",
       "    <tr><td class='row_index'>5</td><td>1</td><td>0</td><td>CO/DF/53001/530010</td><td>origem</td><td>3</td><td>41</td></tr>\n",
       "    <tr><td class='row_index'>6</td><td>0</td><td>1</td><td>CO/DF/53001/530010</td><td>origem</td><td>3</td><td>12</td></tr>\n",
       "    <tr><td class='row_index'>7</td><td>1</td><td>1</td><td>CO/DF/53001/530010</td><td>origem</td><td>3</td><td>42</td></tr>\n",
       "    <tr><td class='row_index'>8</td><td>0</td><td>0</td><td>CO/DF/53001/530010</td><td>origem</td><td>4</td><td>10</td></tr>\n",
       "    <tr><td class='row_index'>9</td><td>1</td><td>0</td><td>CO/DF/53001/530010</td><td>origem</td><td>4</td><td>69</td></tr>\n",
       "    <tr><td class='row_index'>10</td><td>0</td><td>1</td><td>CO/DF/53001/530010</td><td>origem</td><td>4</td><td>22</td></tr>\n",
       "    <tr><td class='row_index'>11</td><td>1</td><td>1</td><td>CO/DF/53001/530010</td><td>origem</td><td>4</td><td>104</td></tr>\n",
       "    <tr><td class='row_index'>12</td><td>0</td><td>0</td><td>CO/GO/52001/520005</td><td>origem</td><td>1</td><td>31</td></tr>\n",
       "    <tr><td class='row_index'>13</td><td>1</td><td>0</td><td>CO/GO/52001/520005</td><td>origem</td><td>1</td><td>131</td></tr>\n",
       "    <tr><td class='row_index'>14</td><td>0</td><td>1</td><td>CO/GO/52001/520005</td><td>origem</td><td>1</td><td>39</td></tr>\n",
       "    <tr><td class='row_index'>&#x22EE;</td><td class='hellipsis'>&#x22EE;</td><td class='hellipsis'>&#x22EE;</td><td class='hellipsis'>&#x22EE;</td><td class='hellipsis'>&#x22EE;</td><td class='hellipsis'>&#x22EE;</td><td class='hellipsis'>&#x22EE;</td></tr>\n",
       "    <tr><td class='row_index'>84,851</td><td>1</td><td>0</td><td>SL/SC/42016/421870/2491710</td><td>destino</td><td>2</td><td>59</td></tr>\n",
       "    <tr><td class='row_index'>84,852</td><td>0</td><td>1</td><td>SL/SC/42016/421870/2491710</td><td>destino</td><td>2</td><td>14</td></tr>\n",
       "    <tr><td class='row_index'>84,853</td><td>1</td><td>1</td><td>SL/SC/42016/421870/2491710</td><td>destino</td><td>2</td><td>125</td></tr>\n",
       "    <tr><td class='row_index'>84,854</td><td>1</td><td>1</td><td>SL/SC/42016/421870/2491710</td><td>destino</td><td>3</td><td>2</td></tr>\n",
       "    <tr><td class='row_index'>84,855</td><td>1</td><td>1</td><td>SL/SC/42016/421870/2491710</td><td>destino</td><td>4</td><td>2</td></tr>\n",
       "  </tbody>\n",
       "  </table>\n",
       "  <div class='footer'>\n",
       "    <div class='frame_dimensions'>84,856 rows &times; 6 columns</div>\n",
       "  </div>\n",
       "</div>\n"
      ],
      "text/plain": [
       "<Frame#7fb429e2f5a0 84856x6>"
      ]
     },
     "execution_count": 5,
     "metadata": {},
     "output_type": "execute_result"
    }
   ],
   "source": [
    "path_proc = get_path('GESTANTES', 'procs_bienio.csv.gzip')\n",
    "refs = ['origem', 'destino']\n",
    "df_count = dt.rbind(*[get_count_df(path_proc, ref) for ref in refs])\n",
    "df_count"
   ]
  },
  {
   "cell_type": "code",
   "execution_count": 6,
   "metadata": {},
   "outputs": [],
   "source": [
    "# df_proc_total = df_proc[:, f[:].remove(f.criticidade)]\n",
    "# df_proc_total = df_proc_total[:, dt.sum(f.count), by(df_proc_total.names[:-1])]\n",
    "# df_proc_total.names = {'count': 'count_total'}\n",
    "# dfs_critic = list()\n",
    "# for i in range(5):\n",
    "#   df_proc_critic = df_proc[f.criticidade == i, :]\n",
    "#   df_proc_critic = df_proc_critic[:, dt.sum(f.count), by(df_proc_critic.names[:-1])]\n",
    "#   df_proc_critic.names = {'count': 'count_critic'}\n",
    "#   dfs_critic.append(df_proc_critic)\n",
    "# df_critic = dt.rbind(*dfs_critic)\n",
    "# print(df_critic.names)\n",
    "# df_critic.key = df_critic.names[:3]\n",
    "# df_counts = df_proc_total[:, :, dt.join(df_critic)]\n",
    "# df_counts['count_critic'] = dt.Frame([\n",
    "#   0 if c == None else c for c in df_counts['count_critic'].to_list()[0]])\n",
    "# df_counts['referencial'] = ref\n",
    "# cols_order = ['bienio', 'parto_normal', 'codigo', 'referencial', 'criticidade', 'count_critic', 'count_total']\n",
    "# df_counts = df_counts[:, cols_order]"
   ]
  },
  {
   "cell_type": "markdown",
   "metadata": {},
   "source": [
    "## Infos"
   ]
  },
  {
   "cell_type": "code",
   "execution_count": 7,
   "metadata": {},
   "outputs": [],
   "source": [
    "def rank_locs(df_counts, path_locs, scale):\n",
    "  ref = 'destino' if scale == 'cnes' else 'origem'\n",
    "  cols_locs = {'codigo': 'codigo', f'nome_{scale}': 'nome', ...: None}\n",
    "  df_locs = dt.fread(path_locs, columns=cols_locs)\n",
    "  if scale == 'cnes':\n",
    "    df_locs['nome'] = ''\n",
    "  df_locs.key = 'codigo'\n",
    "  df_count = df_counts[f.referencial == ref, f[:].remove(f.referencial)]\n",
    "  df_count['escala'] = scale\n",
    "  df_count = df_count[:, :, dt.join(df_locs)]\n",
    "  i = {'cnes': 5, 'municipio': 4, 'regiao_saude': 3, 'uf': 2, 'regiao': 1}[scale]\n",
    "  codigos = df_count['codigo'].to_list()[0]\n",
    "  df_codigos = dt.Frame(['/'.join(c.split('/')[:i]) for c in codigos])\n",
    "  df_count['codigo'] = df_codigos\n",
    "  df_count['identificador'] = dt.Frame([c.split('/')[-1] for c in df_count['codigo'].to_list()[0]])\n",
    "  cols = df_count.names\n",
    "  cols_order = cols[:3] + cols[5:] + cols[3:5]\n",
    "  df_count = df_count[:, cols_order]\n",
    "  df_count = df_count[:, [dt.sum(f.count)], by(df_count.names[:-1])]\n",
    "  # df_count[:, dt.update(critic_percent = f.count_critic / f.count_total * 100)]\n",
    "  df_count = df_count.sort(f.codigo, f.criticidade, f.parto_normal, f.bienio)\n",
    "  return df_count"
   ]
  },
  {
   "cell_type": "code",
   "execution_count": 8,
   "metadata": {},
   "outputs": [
    {
     "data": {
      "text/html": [
       "<div class='datatable'>\n",
       "  <table class='frame'>\n",
       "  <thead>\n",
       "    <tr class='colnames'><td class='row_index'></td><th>bienio</th><th>parto_normal</th><th>codigo</th><th>escala</th><th>nome</th><th>identificador</th><th>criticidade</th><th>count</th></tr>\n",
       "    <tr class='coltypes'><td class='row_index'></td><td class='bool' title='bool8'>&#x25AA;</td><td class='bool' title='bool8'>&#x25AA;</td><td class='str' title='str32'>&#x25AA;&#x25AA;&#x25AA;&#x25AA;</td><td class='str' title='str32'>&#x25AA;&#x25AA;&#x25AA;&#x25AA;</td><td class='str' title='str32'>&#x25AA;&#x25AA;&#x25AA;&#x25AA;</td><td class='str' title='str32'>&#x25AA;&#x25AA;&#x25AA;&#x25AA;</td><td class='int' title='int32'>&#x25AA;&#x25AA;&#x25AA;&#x25AA;</td><td class='int' title='int64'>&#x25AA;&#x25AA;&#x25AA;&#x25AA;&#x25AA;&#x25AA;&#x25AA;&#x25AA;</td></tr>\n",
       "  </thead>\n",
       "  <tbody>\n",
       "    <tr><td class='row_index'>0</td><td>0</td><td>0</td><td>CO</td><td>regiao</td><td>Centro-Oeste</td><td>CO</td><td>0</td><td>85068</td></tr>\n",
       "    <tr><td class='row_index'>1</td><td>1</td><td>0</td><td>CO</td><td>regiao</td><td>Centro-Oeste</td><td>CO</td><td>0</td><td>100995</td></tr>\n",
       "    <tr><td class='row_index'>2</td><td>0</td><td>1</td><td>CO</td><td>regiao</td><td>Centro-Oeste</td><td>CO</td><td>0</td><td>141604</td></tr>\n",
       "    <tr><td class='row_index'>3</td><td>1</td><td>1</td><td>CO</td><td>regiao</td><td>Centro-Oeste</td><td>CO</td><td>0</td><td>118221</td></tr>\n",
       "    <tr><td class='row_index'>4</td><td>0</td><td>0</td><td>CO</td><td>regiao</td><td>Centro-Oeste</td><td>CO</td><td>1</td><td>8372</td></tr>\n",
       "    <tr><td class='row_index'>5</td><td>1</td><td>0</td><td>CO</td><td>regiao</td><td>Centro-Oeste</td><td>CO</td><td>1</td><td>13732</td></tr>\n",
       "    <tr><td class='row_index'>6</td><td>0</td><td>1</td><td>CO</td><td>regiao</td><td>Centro-Oeste</td><td>CO</td><td>1</td><td>13243</td></tr>\n",
       "    <tr><td class='row_index'>7</td><td>1</td><td>1</td><td>CO</td><td>regiao</td><td>Centro-Oeste</td><td>CO</td><td>1</td><td>16144</td></tr>\n",
       "    <tr><td class='row_index'>8</td><td>0</td><td>0</td><td>CO</td><td>regiao</td><td>Centro-Oeste</td><td>CO</td><td>2</td><td>3465</td></tr>\n",
       "    <tr><td class='row_index'>9</td><td>1</td><td>0</td><td>CO</td><td>regiao</td><td>Centro-Oeste</td><td>CO</td><td>2</td><td>3834</td></tr>\n",
       "    <tr><td class='row_index'>10</td><td>0</td><td>1</td><td>CO</td><td>regiao</td><td>Centro-Oeste</td><td>CO</td><td>2</td><td>3758</td></tr>\n",
       "    <tr><td class='row_index'>11</td><td>1</td><td>1</td><td>CO</td><td>regiao</td><td>Centro-Oeste</td><td>CO</td><td>2</td><td>4273</td></tr>\n",
       "    <tr><td class='row_index'>12</td><td>0</td><td>0</td><td>CO</td><td>regiao</td><td>Centro-Oeste</td><td>CO</td><td>3</td><td>3004</td></tr>\n",
       "    <tr><td class='row_index'>13</td><td>1</td><td>0</td><td>CO</td><td>regiao</td><td>Centro-Oeste</td><td>CO</td><td>3</td><td>5817</td></tr>\n",
       "    <tr><td class='row_index'>14</td><td>0</td><td>1</td><td>CO</td><td>regiao</td><td>Centro-Oeste</td><td>CO</td><td>3</td><td>8296</td></tr>\n",
       "    <tr><td class='row_index'>&#x22EE;</td><td class='hellipsis'>&#x22EE;</td><td class='hellipsis'>&#x22EE;</td><td class='hellipsis'>&#x22EE;</td><td class='hellipsis'>&#x22EE;</td><td class='hellipsis'>&#x22EE;</td><td class='hellipsis'>&#x22EE;</td><td class='hellipsis'>&#x22EE;</td><td class='hellipsis'>&#x22EE;</td></tr>\n",
       "    <tr><td class='row_index'>93,060</td><td>1</td><td>0</td><td>SL/SC/42016/421870/2491710</td><td>cnes</td><td><span class=na>NA</span></td><td>2491710</td><td>2</td><td>59</td></tr>\n",
       "    <tr><td class='row_index'>93,061</td><td>0</td><td>1</td><td>SL/SC/42016/421870/2491710</td><td>cnes</td><td><span class=na>NA</span></td><td>2491710</td><td>2</td><td>14</td></tr>\n",
       "    <tr><td class='row_index'>93,062</td><td>1</td><td>1</td><td>SL/SC/42016/421870/2491710</td><td>cnes</td><td><span class=na>NA</span></td><td>2491710</td><td>2</td><td>125</td></tr>\n",
       "    <tr><td class='row_index'>93,063</td><td>1</td><td>1</td><td>SL/SC/42016/421870/2491710</td><td>cnes</td><td><span class=na>NA</span></td><td>2491710</td><td>3</td><td>2</td></tr>\n",
       "    <tr><td class='row_index'>93,064</td><td>1</td><td>1</td><td>SL/SC/42016/421870/2491710</td><td>cnes</td><td><span class=na>NA</span></td><td>2491710</td><td>4</td><td>2</td></tr>\n",
       "  </tbody>\n",
       "  </table>\n",
       "  <div class='footer'>\n",
       "    <div class='frame_dimensions'>93,065 rows &times; 8 columns</div>\n",
       "  </div>\n",
       "</div>\n"
      ],
      "text/plain": [
       "<Frame#7fb429e02090 93065x8>"
      ]
     },
     "execution_count": 8,
     "metadata": {},
     "output_type": "execute_result"
    }
   ],
   "source": [
    "path_locs = get_path('LOCALIDADES', 'localidades.csv.gzip')\n",
    "scales = ['regiao', 'uf', 'regiao_saude', 'municipio', 'cnes']\n",
    "df_counts = dt.rbind(*[\n",
    "  rank_locs(df_count, path_locs, scale) for scale in scales])\n",
    "df_counts"
   ]
  },
  {
   "cell_type": "markdown",
   "metadata": {},
   "source": [
    "### Nome dos CNES"
   ]
  },
  {
   "cell_type": "code",
   "execution_count": 9,
   "metadata": {},
   "outputs": [
    {
     "data": {
      "text/html": [
       "<div class='datatable'>\n",
       "  <table class='frame'>\n",
       "  <thead>\n",
       "    <tr class='colnames'><td class='row_index'></td><th>identificador</th><th>nome</th></tr>\n",
       "    <tr class='coltypes'><td class='row_index'></td><td class='str' title='str32'>&#x25AA;&#x25AA;&#x25AA;&#x25AA;</td><td class='str' title='str32'>&#x25AA;&#x25AA;&#x25AA;&#x25AA;</td></tr>\n",
       "  </thead>\n",
       "  <tbody>\n",
       "    <tr><td class='row_index'>0</td><td>0010464</td><td>HRAN</td></tr>\n",
       "    <tr><td class='row_index'>1</td><td>0010464</td><td>HRAN</td></tr>\n",
       "    <tr><td class='row_index'>2</td><td>0010464</td><td>HRAN</td></tr>\n",
       "    <tr><td class='row_index'>3</td><td>0010464</td><td>HRAN</td></tr>\n",
       "    <tr><td class='row_index'>4</td><td>0010464</td><td>HRAN</td></tr>\n",
       "    <tr><td class='row_index'>5</td><td>0010464</td><td>HRAN</td></tr>\n",
       "    <tr><td class='row_index'>6</td><td>0010464</td><td>HRAN</td></tr>\n",
       "    <tr><td class='row_index'>7</td><td>0010464</td><td>HRAN</td></tr>\n",
       "    <tr><td class='row_index'>8</td><td>0010464</td><td>HRAN</td></tr>\n",
       "    <tr><td class='row_index'>9</td><td>0010464</td><td>HRAN</td></tr>\n",
       "    <tr><td class='row_index'>10</td><td>0010472</td><td>HRG</td></tr>\n",
       "    <tr><td class='row_index'>11</td><td>0010472</td><td>HRG</td></tr>\n",
       "    <tr><td class='row_index'>12</td><td>0010472</td><td>HRG</td></tr>\n",
       "    <tr><td class='row_index'>13</td><td>0010472</td><td>HRG</td></tr>\n",
       "    <tr><td class='row_index'>14</td><td>0010472</td><td>HRG</td></tr>\n",
       "    <tr><td class='row_index'>&#x22EE;</td><td class='hellipsis'>&#x22EE;</td><td class='hellipsis'>&#x22EE;</td></tr>\n",
       "    <tr><td class='row_index'>31,294</td><td>2491710</td><td><span class=na>NA</span></td></tr>\n",
       "    <tr><td class='row_index'>31,295</td><td>2491710</td><td><span class=na>NA</span></td></tr>\n",
       "    <tr><td class='row_index'>31,296</td><td>2491710</td><td><span class=na>NA</span></td></tr>\n",
       "    <tr><td class='row_index'>31,297</td><td>2491710</td><td><span class=na>NA</span></td></tr>\n",
       "    <tr><td class='row_index'>31,298</td><td>2491710</td><td><span class=na>NA</span></td></tr>\n",
       "  </tbody>\n",
       "  </table>\n",
       "  <div class='footer'>\n",
       "    <div class='frame_dimensions'>31,299 rows &times; 2 columns</div>\n",
       "  </div>\n",
       "</div>\n"
      ],
      "text/plain": [
       "<Frame#7fb42901bc60 31299x2>"
      ]
     },
     "execution_count": 9,
     "metadata": {},
     "output_type": "execute_result"
    }
   ],
   "source": [
    "df_cnes.key = 'identificador'\n",
    "df_id_cnes = df_counts[f.escala == 'cnes', ['identificador']]\n",
    "df_id_cnes = df_id_cnes[:, :, dt.join(df_cnes)]\n",
    "df_id_cnes"
   ]
  },
  {
   "cell_type": "code",
   "execution_count": 10,
   "metadata": {},
   "outputs": [
    {
     "data": {
      "text/html": [
       "<div class='datatable'>\n",
       "  <table class='frame'>\n",
       "  <thead>\n",
       "    <tr class='colnames'><td class='row_index'></td><th>bienio</th><th>parto_normal</th><th>codigo</th><th>escala</th><th>nome</th><th>identificador</th><th>criticidade</th><th>count</th></tr>\n",
       "    <tr class='coltypes'><td class='row_index'></td><td class='bool' title='bool8'>&#x25AA;</td><td class='bool' title='bool8'>&#x25AA;</td><td class='str' title='str32'>&#x25AA;&#x25AA;&#x25AA;&#x25AA;</td><td class='str' title='str32'>&#x25AA;&#x25AA;&#x25AA;&#x25AA;</td><td class='str' title='str32'>&#x25AA;&#x25AA;&#x25AA;&#x25AA;</td><td class='str' title='str32'>&#x25AA;&#x25AA;&#x25AA;&#x25AA;</td><td class='int' title='int32'>&#x25AA;&#x25AA;&#x25AA;&#x25AA;</td><td class='int' title='int64'>&#x25AA;&#x25AA;&#x25AA;&#x25AA;&#x25AA;&#x25AA;&#x25AA;&#x25AA;</td></tr>\n",
       "  </thead>\n",
       "  <tbody>\n",
       "    <tr><td class='row_index'>0</td><td>0</td><td>0</td><td>CO</td><td>regiao</td><td>Centro-Oeste</td><td>CO</td><td>0</td><td>85068</td></tr>\n",
       "    <tr><td class='row_index'>1</td><td>1</td><td>0</td><td>CO</td><td>regiao</td><td>Centro-Oeste</td><td>CO</td><td>0</td><td>100995</td></tr>\n",
       "    <tr><td class='row_index'>2</td><td>0</td><td>1</td><td>CO</td><td>regiao</td><td>Centro-Oeste</td><td>CO</td><td>0</td><td>141604</td></tr>\n",
       "    <tr><td class='row_index'>3</td><td>1</td><td>1</td><td>CO</td><td>regiao</td><td>Centro-Oeste</td><td>CO</td><td>0</td><td>118221</td></tr>\n",
       "    <tr><td class='row_index'>4</td><td>0</td><td>0</td><td>CO</td><td>regiao</td><td>Centro-Oeste</td><td>CO</td><td>1</td><td>8372</td></tr>\n",
       "    <tr><td class='row_index'>5</td><td>1</td><td>0</td><td>CO</td><td>regiao</td><td>Centro-Oeste</td><td>CO</td><td>1</td><td>13732</td></tr>\n",
       "    <tr><td class='row_index'>6</td><td>0</td><td>1</td><td>CO</td><td>regiao</td><td>Centro-Oeste</td><td>CO</td><td>1</td><td>13243</td></tr>\n",
       "    <tr><td class='row_index'>7</td><td>1</td><td>1</td><td>CO</td><td>regiao</td><td>Centro-Oeste</td><td>CO</td><td>1</td><td>16144</td></tr>\n",
       "    <tr><td class='row_index'>8</td><td>0</td><td>0</td><td>CO</td><td>regiao</td><td>Centro-Oeste</td><td>CO</td><td>2</td><td>3465</td></tr>\n",
       "    <tr><td class='row_index'>9</td><td>1</td><td>0</td><td>CO</td><td>regiao</td><td>Centro-Oeste</td><td>CO</td><td>2</td><td>3834</td></tr>\n",
       "    <tr><td class='row_index'>10</td><td>0</td><td>1</td><td>CO</td><td>regiao</td><td>Centro-Oeste</td><td>CO</td><td>2</td><td>3758</td></tr>\n",
       "    <tr><td class='row_index'>11</td><td>1</td><td>1</td><td>CO</td><td>regiao</td><td>Centro-Oeste</td><td>CO</td><td>2</td><td>4273</td></tr>\n",
       "    <tr><td class='row_index'>12</td><td>0</td><td>0</td><td>CO</td><td>regiao</td><td>Centro-Oeste</td><td>CO</td><td>3</td><td>3004</td></tr>\n",
       "    <tr><td class='row_index'>13</td><td>1</td><td>0</td><td>CO</td><td>regiao</td><td>Centro-Oeste</td><td>CO</td><td>3</td><td>5817</td></tr>\n",
       "    <tr><td class='row_index'>14</td><td>0</td><td>1</td><td>CO</td><td>regiao</td><td>Centro-Oeste</td><td>CO</td><td>3</td><td>8296</td></tr>\n",
       "    <tr><td class='row_index'>&#x22EE;</td><td class='hellipsis'>&#x22EE;</td><td class='hellipsis'>&#x22EE;</td><td class='hellipsis'>&#x22EE;</td><td class='hellipsis'>&#x22EE;</td><td class='hellipsis'>&#x22EE;</td><td class='hellipsis'>&#x22EE;</td><td class='hellipsis'>&#x22EE;</td><td class='hellipsis'>&#x22EE;</td></tr>\n",
       "    <tr><td class='row_index'>93,060</td><td>1</td><td>0</td><td>SL/SC/42016/421870/2491710</td><td>cnes</td><td><span class=na>NA</span></td><td>2491710</td><td>2</td><td>59</td></tr>\n",
       "    <tr><td class='row_index'>93,061</td><td>0</td><td>1</td><td>SL/SC/42016/421870/2491710</td><td>cnes</td><td><span class=na>NA</span></td><td>2491710</td><td>2</td><td>14</td></tr>\n",
       "    <tr><td class='row_index'>93,062</td><td>1</td><td>1</td><td>SL/SC/42016/421870/2491710</td><td>cnes</td><td><span class=na>NA</span></td><td>2491710</td><td>2</td><td>125</td></tr>\n",
       "    <tr><td class='row_index'>93,063</td><td>1</td><td>1</td><td>SL/SC/42016/421870/2491710</td><td>cnes</td><td><span class=na>NA</span></td><td>2491710</td><td>3</td><td>2</td></tr>\n",
       "    <tr><td class='row_index'>93,064</td><td>1</td><td>1</td><td>SL/SC/42016/421870/2491710</td><td>cnes</td><td><span class=na>NA</span></td><td>2491710</td><td>4</td><td>2</td></tr>\n",
       "  </tbody>\n",
       "  </table>\n",
       "  <div class='footer'>\n",
       "    <div class='frame_dimensions'>93,065 rows &times; 8 columns</div>\n",
       "  </div>\n",
       "</div>\n"
      ],
      "text/plain": [
       "<Frame#7fb429e02090 93065x8>"
      ]
     },
     "execution_count": 10,
     "metadata": {},
     "output_type": "execute_result"
    }
   ],
   "source": [
    "df_counts[f.escala == 'cnes', ['identificador', 'nome']] = df_id_cnes\n",
    "df_counts"
   ]
  },
  {
   "cell_type": "markdown",
   "metadata": {},
   "source": [
    "### Percent"
   ]
  },
  {
   "cell_type": "code",
   "execution_count": 11,
   "metadata": {},
   "outputs": [
    {
     "data": {
      "text/html": [
       "<div class='datatable'>\n",
       "  <table class='frame'>\n",
       "  <thead>\n",
       "    <tr class='colnames'><td class='row_index'></td><th>bienio</th><th>parto_normal</th><th>codigo</th><th>escala</th><th>nome</th><th>identificador</th><th>criticidade</th><th>count</th><th>total</th><th>percent</th></tr>\n",
       "    <tr class='coltypes'><td class='row_index'></td><td class='bool' title='bool8'>&#x25AA;</td><td class='bool' title='bool8'>&#x25AA;</td><td class='str' title='str32'>&#x25AA;&#x25AA;&#x25AA;&#x25AA;</td><td class='str' title='str32'>&#x25AA;&#x25AA;&#x25AA;&#x25AA;</td><td class='str' title='str32'>&#x25AA;&#x25AA;&#x25AA;&#x25AA;</td><td class='str' title='str32'>&#x25AA;&#x25AA;&#x25AA;&#x25AA;</td><td class='int' title='int32'>&#x25AA;&#x25AA;&#x25AA;&#x25AA;</td><td class='int' title='int64'>&#x25AA;&#x25AA;&#x25AA;&#x25AA;&#x25AA;&#x25AA;&#x25AA;&#x25AA;</td><td class='int' title='int64'>&#x25AA;&#x25AA;&#x25AA;&#x25AA;&#x25AA;&#x25AA;&#x25AA;&#x25AA;</td><td class='float' title='float64'>&#x25AA;&#x25AA;&#x25AA;&#x25AA;&#x25AA;&#x25AA;&#x25AA;&#x25AA;</td></tr>\n",
       "  </thead>\n",
       "  <tbody>\n",
       "    <tr><td class='row_index'>0</td><td>0</td><td>0</td><td>CO</td><td>regiao</td><td>Centro-Oeste</td><td>CO</td><td>0</td><td>85068</td><td>100035</td><td>85.0382</td></tr>\n",
       "    <tr><td class='row_index'>1</td><td>1</td><td>0</td><td>CO</td><td>regiao</td><td>Centro-Oeste</td><td>CO</td><td>0</td><td>100995</td><td>124971</td><td>80.8147</td></tr>\n",
       "    <tr><td class='row_index'>2</td><td>0</td><td>1</td><td>CO</td><td>regiao</td><td>Centro-Oeste</td><td>CO</td><td>0</td><td>141604</td><td>167105</td><td>84.7395</td></tr>\n",
       "    <tr><td class='row_index'>3</td><td>1</td><td>1</td><td>CO</td><td>regiao</td><td>Centro-Oeste</td><td>CO</td><td>0</td><td>118221</td><td>151310</td><td>78.1317</td></tr>\n",
       "    <tr><td class='row_index'>4</td><td>0</td><td>0</td><td>CO</td><td>regiao</td><td>Centro-Oeste</td><td>CO</td><td>1</td><td>8372</td><td>100035</td><td>8.36907</td></tr>\n",
       "    <tr><td class='row_index'>5</td><td>1</td><td>0</td><td>CO</td><td>regiao</td><td>Centro-Oeste</td><td>CO</td><td>1</td><td>13732</td><td>124971</td><td>10.9881</td></tr>\n",
       "    <tr><td class='row_index'>6</td><td>0</td><td>1</td><td>CO</td><td>regiao</td><td>Centro-Oeste</td><td>CO</td><td>1</td><td>13243</td><td>167105</td><td>7.92496</td></tr>\n",
       "    <tr><td class='row_index'>7</td><td>1</td><td>1</td><td>CO</td><td>regiao</td><td>Centro-Oeste</td><td>CO</td><td>1</td><td>16144</td><td>151310</td><td>10.6695</td></tr>\n",
       "    <tr><td class='row_index'>8</td><td>0</td><td>0</td><td>CO</td><td>regiao</td><td>Centro-Oeste</td><td>CO</td><td>2</td><td>3465</td><td>100035</td><td>3.46379</td></tr>\n",
       "    <tr><td class='row_index'>9</td><td>1</td><td>0</td><td>CO</td><td>regiao</td><td>Centro-Oeste</td><td>CO</td><td>2</td><td>3834</td><td>124971</td><td>3.06791</td></tr>\n",
       "    <tr><td class='row_index'>10</td><td>0</td><td>1</td><td>CO</td><td>regiao</td><td>Centro-Oeste</td><td>CO</td><td>2</td><td>3758</td><td>167105</td><td>2.24889</td></tr>\n",
       "    <tr><td class='row_index'>11</td><td>1</td><td>1</td><td>CO</td><td>regiao</td><td>Centro-Oeste</td><td>CO</td><td>2</td><td>4273</td><td>151310</td><td>2.824</td></tr>\n",
       "    <tr><td class='row_index'>12</td><td>0</td><td>0</td><td>CO</td><td>regiao</td><td>Centro-Oeste</td><td>CO</td><td>3</td><td>3004</td><td>100035</td><td>3.00295</td></tr>\n",
       "    <tr><td class='row_index'>13</td><td>1</td><td>0</td><td>CO</td><td>regiao</td><td>Centro-Oeste</td><td>CO</td><td>3</td><td>5817</td><td>124971</td><td>4.65468</td></tr>\n",
       "    <tr><td class='row_index'>14</td><td>0</td><td>1</td><td>CO</td><td>regiao</td><td>Centro-Oeste</td><td>CO</td><td>3</td><td>8296</td><td>167105</td><td>4.96454</td></tr>\n",
       "    <tr><td class='row_index'>&#x22EE;</td><td class='hellipsis'>&#x22EE;</td><td class='hellipsis'>&#x22EE;</td><td class='hellipsis'>&#x22EE;</td><td class='hellipsis'>&#x22EE;</td><td class='hellipsis'>&#x22EE;</td><td class='hellipsis'>&#x22EE;</td><td class='hellipsis'>&#x22EE;</td><td class='hellipsis'>&#x22EE;</td><td class='hellipsis'>&#x22EE;</td><td class='hellipsis'>&#x22EE;</td></tr>\n",
       "    <tr><td class='row_index'>93,060</td><td>1</td><td>0</td><td>SL/SC/42016/421870/2491710</td><td>cnes</td><td><span class=na>NA</span></td><td>2491710</td><td>2</td><td>59</td><td>550</td><td>10.7273</td></tr>\n",
       "    <tr><td class='row_index'>93,061</td><td>0</td><td>1</td><td>SL/SC/42016/421870/2491710</td><td>cnes</td><td><span class=na>NA</span></td><td>2491710</td><td>2</td><td>14</td><td>561</td><td>2.49554</td></tr>\n",
       "    <tr><td class='row_index'>93,062</td><td>1</td><td>1</td><td>SL/SC/42016/421870/2491710</td><td>cnes</td><td><span class=na>NA</span></td><td>2491710</td><td>2</td><td>125</td><td>1256</td><td>9.95223</td></tr>\n",
       "    <tr><td class='row_index'>93,063</td><td>1</td><td>1</td><td>SL/SC/42016/421870/2491710</td><td>cnes</td><td><span class=na>NA</span></td><td>2491710</td><td>3</td><td>2</td><td>1256</td><td>0.159236</td></tr>\n",
       "    <tr><td class='row_index'>93,064</td><td>1</td><td>1</td><td>SL/SC/42016/421870/2491710</td><td>cnes</td><td><span class=na>NA</span></td><td>2491710</td><td>4</td><td>2</td><td>1256</td><td>0.159236</td></tr>\n",
       "  </tbody>\n",
       "  </table>\n",
       "  <div class='footer'>\n",
       "    <div class='frame_dimensions'>93,065 rows &times; 10 columns</div>\n",
       "  </div>\n",
       "</div>\n"
      ],
      "text/plain": [
       "<Frame#7fb40859b4b0 93065x10>"
      ]
     },
     "execution_count": 11,
     "metadata": {},
     "output_type": "execute_result"
    }
   ],
   "source": [
    "df_total = df_counts[:, ['bienio', 'parto_normal', 'identificador', 'count']]\n",
    "df_total = df_total[:, dt.sum(f.count), by(df_total.names[:-1])]\n",
    "df_total.names = {'count': 'total'}\n",
    "df_total.key = df_total.names[:-1]\n",
    "df_counts = df_counts[:, :, dt.join(df_total)]\n",
    "df_counts[:, dt.update(percent = f.count / f.total * 100)]\n",
    "df_counts"
   ]
  },
  {
   "cell_type": "markdown",
   "metadata": {},
   "source": [
    "### Ordem colunas"
   ]
  },
  {
   "cell_type": "code",
   "execution_count": 12,
   "metadata": {},
   "outputs": [],
   "source": [
    "cols_order = [\n",
    "  'parto_normal',\n",
    "  'bienio',\n",
    "  'escala',\n",
    "  'codigo',\n",
    "  'identificador',\n",
    "  'nome',\n",
    "  'criticidade',\n",
    "  'count',\n",
    "  'total',\n",
    "  'percent',\n",
    "]"
   ]
  },
  {
   "cell_type": "code",
   "execution_count": 13,
   "metadata": {},
   "outputs": [
    {
     "data": {
      "text/html": [
       "<div class='datatable'>\n",
       "  <table class='frame'>\n",
       "  <thead>\n",
       "    <tr class='colnames'><td class='row_index'></td><th>parto_normal</th><th>bienio</th><th>escala</th><th>codigo</th><th>identificador</th><th>nome</th><th>criticidade</th><th>count</th><th>total</th><th>percent</th></tr>\n",
       "    <tr class='coltypes'><td class='row_index'></td><td class='bool' title='bool8'>&#x25AA;</td><td class='bool' title='bool8'>&#x25AA;</td><td class='str' title='str32'>&#x25AA;&#x25AA;&#x25AA;&#x25AA;</td><td class='str' title='str32'>&#x25AA;&#x25AA;&#x25AA;&#x25AA;</td><td class='str' title='str32'>&#x25AA;&#x25AA;&#x25AA;&#x25AA;</td><td class='str' title='str32'>&#x25AA;&#x25AA;&#x25AA;&#x25AA;</td><td class='int' title='int32'>&#x25AA;&#x25AA;&#x25AA;&#x25AA;</td><td class='int' title='int64'>&#x25AA;&#x25AA;&#x25AA;&#x25AA;&#x25AA;&#x25AA;&#x25AA;&#x25AA;</td><td class='int' title='int64'>&#x25AA;&#x25AA;&#x25AA;&#x25AA;&#x25AA;&#x25AA;&#x25AA;&#x25AA;</td><td class='float' title='float64'>&#x25AA;&#x25AA;&#x25AA;&#x25AA;&#x25AA;&#x25AA;&#x25AA;&#x25AA;</td></tr>\n",
       "  </thead>\n",
       "  <tbody>\n",
       "    <tr><td class='row_index'>0</td><td>0</td><td>0</td><td>regiao</td><td>CO</td><td>CO</td><td>Centro-Oeste</td><td>0</td><td>85068</td><td>100035</td><td>85.0382</td></tr>\n",
       "    <tr><td class='row_index'>1</td><td>0</td><td>1</td><td>regiao</td><td>CO</td><td>CO</td><td>Centro-Oeste</td><td>0</td><td>100995</td><td>124971</td><td>80.8147</td></tr>\n",
       "    <tr><td class='row_index'>2</td><td>1</td><td>0</td><td>regiao</td><td>CO</td><td>CO</td><td>Centro-Oeste</td><td>0</td><td>141604</td><td>167105</td><td>84.7395</td></tr>\n",
       "    <tr><td class='row_index'>3</td><td>1</td><td>1</td><td>regiao</td><td>CO</td><td>CO</td><td>Centro-Oeste</td><td>0</td><td>118221</td><td>151310</td><td>78.1317</td></tr>\n",
       "    <tr><td class='row_index'>4</td><td>0</td><td>0</td><td>regiao</td><td>CO</td><td>CO</td><td>Centro-Oeste</td><td>1</td><td>8372</td><td>100035</td><td>8.36907</td></tr>\n",
       "    <tr><td class='row_index'>5</td><td>0</td><td>1</td><td>regiao</td><td>CO</td><td>CO</td><td>Centro-Oeste</td><td>1</td><td>13732</td><td>124971</td><td>10.9881</td></tr>\n",
       "    <tr><td class='row_index'>6</td><td>1</td><td>0</td><td>regiao</td><td>CO</td><td>CO</td><td>Centro-Oeste</td><td>1</td><td>13243</td><td>167105</td><td>7.92496</td></tr>\n",
       "    <tr><td class='row_index'>7</td><td>1</td><td>1</td><td>regiao</td><td>CO</td><td>CO</td><td>Centro-Oeste</td><td>1</td><td>16144</td><td>151310</td><td>10.6695</td></tr>\n",
       "    <tr><td class='row_index'>8</td><td>0</td><td>0</td><td>regiao</td><td>CO</td><td>CO</td><td>Centro-Oeste</td><td>2</td><td>3465</td><td>100035</td><td>3.46379</td></tr>\n",
       "    <tr><td class='row_index'>9</td><td>0</td><td>1</td><td>regiao</td><td>CO</td><td>CO</td><td>Centro-Oeste</td><td>2</td><td>3834</td><td>124971</td><td>3.06791</td></tr>\n",
       "    <tr><td class='row_index'>10</td><td>1</td><td>0</td><td>regiao</td><td>CO</td><td>CO</td><td>Centro-Oeste</td><td>2</td><td>3758</td><td>167105</td><td>2.24889</td></tr>\n",
       "    <tr><td class='row_index'>11</td><td>1</td><td>1</td><td>regiao</td><td>CO</td><td>CO</td><td>Centro-Oeste</td><td>2</td><td>4273</td><td>151310</td><td>2.824</td></tr>\n",
       "    <tr><td class='row_index'>12</td><td>0</td><td>0</td><td>regiao</td><td>CO</td><td>CO</td><td>Centro-Oeste</td><td>3</td><td>3004</td><td>100035</td><td>3.00295</td></tr>\n",
       "    <tr><td class='row_index'>13</td><td>0</td><td>1</td><td>regiao</td><td>CO</td><td>CO</td><td>Centro-Oeste</td><td>3</td><td>5817</td><td>124971</td><td>4.65468</td></tr>\n",
       "    <tr><td class='row_index'>14</td><td>1</td><td>0</td><td>regiao</td><td>CO</td><td>CO</td><td>Centro-Oeste</td><td>3</td><td>8296</td><td>167105</td><td>4.96454</td></tr>\n",
       "    <tr><td class='row_index'>&#x22EE;</td><td class='hellipsis'>&#x22EE;</td><td class='hellipsis'>&#x22EE;</td><td class='hellipsis'>&#x22EE;</td><td class='hellipsis'>&#x22EE;</td><td class='hellipsis'>&#x22EE;</td><td class='hellipsis'>&#x22EE;</td><td class='hellipsis'>&#x22EE;</td><td class='hellipsis'>&#x22EE;</td><td class='hellipsis'>&#x22EE;</td><td class='hellipsis'>&#x22EE;</td></tr>\n",
       "    <tr><td class='row_index'>93,060</td><td>0</td><td>1</td><td>cnes</td><td>SL/SC/42016/421870/2491710</td><td>2491710</td><td><span class=na>NA</span></td><td>2</td><td>59</td><td>550</td><td>10.7273</td></tr>\n",
       "    <tr><td class='row_index'>93,061</td><td>1</td><td>0</td><td>cnes</td><td>SL/SC/42016/421870/2491710</td><td>2491710</td><td><span class=na>NA</span></td><td>2</td><td>14</td><td>561</td><td>2.49554</td></tr>\n",
       "    <tr><td class='row_index'>93,062</td><td>1</td><td>1</td><td>cnes</td><td>SL/SC/42016/421870/2491710</td><td>2491710</td><td><span class=na>NA</span></td><td>2</td><td>125</td><td>1256</td><td>9.95223</td></tr>\n",
       "    <tr><td class='row_index'>93,063</td><td>1</td><td>1</td><td>cnes</td><td>SL/SC/42016/421870/2491710</td><td>2491710</td><td><span class=na>NA</span></td><td>3</td><td>2</td><td>1256</td><td>0.159236</td></tr>\n",
       "    <tr><td class='row_index'>93,064</td><td>1</td><td>1</td><td>cnes</td><td>SL/SC/42016/421870/2491710</td><td>2491710</td><td><span class=na>NA</span></td><td>4</td><td>2</td><td>1256</td><td>0.159236</td></tr>\n",
       "  </tbody>\n",
       "  </table>\n",
       "  <div class='footer'>\n",
       "    <div class='frame_dimensions'>93,065 rows &times; 10 columns</div>\n",
       "  </div>\n",
       "</div>\n"
      ],
      "text/plain": [
       "<Frame#7fb429df7db0 93065x10>"
      ]
     },
     "execution_count": 13,
     "metadata": {},
     "output_type": "execute_result"
    }
   ],
   "source": [
    "df_counts = df_counts[:, cols_order]\n",
    "df_counts"
   ]
  },
  {
   "cell_type": "markdown",
   "metadata": {},
   "source": [
    "# Exportando tabela"
   ]
  },
  {
   "cell_type": "code",
   "execution_count": 14,
   "metadata": {},
   "outputs": [],
   "source": [
    "output_counts = get_path('GESTANTES', 'contagens.csv.gzip')\n",
    "df_counts.to_csv(output_counts)"
   ]
  },
  {
   "cell_type": "code",
   "execution_count": 15,
   "metadata": {},
   "outputs": [
    {
     "data": {
      "text/html": [
       "<div class='datatable'>\n",
       "  <table class='frame'>\n",
       "  <thead>\n",
       "    <tr class='colnames'><td class='row_index'></td><th>parto_normal</th><th>bienio</th><th>escala</th><th>codigo</th><th>identificador</th><th>nome</th><th>criticidade</th><th>count</th><th>total</th><th>percent</th></tr>\n",
       "    <tr class='coltypes'><td class='row_index'></td><td class='bool' title='bool8'>&#x25AA;</td><td class='bool' title='bool8'>&#x25AA;</td><td class='str' title='str32'>&#x25AA;&#x25AA;&#x25AA;&#x25AA;</td><td class='str' title='str32'>&#x25AA;&#x25AA;&#x25AA;&#x25AA;</td><td class='str' title='str32'>&#x25AA;&#x25AA;&#x25AA;&#x25AA;</td><td class='str' title='str32'>&#x25AA;&#x25AA;&#x25AA;&#x25AA;</td><td class='int' title='int32'>&#x25AA;&#x25AA;&#x25AA;&#x25AA;</td><td class='int' title='int32'>&#x25AA;&#x25AA;&#x25AA;&#x25AA;</td><td class='int' title='int32'>&#x25AA;&#x25AA;&#x25AA;&#x25AA;</td><td class='float' title='float64'>&#x25AA;&#x25AA;&#x25AA;&#x25AA;&#x25AA;&#x25AA;&#x25AA;&#x25AA;</td></tr>\n",
       "  </thead>\n",
       "  <tbody>\n",
       "    <tr><td class='row_index'>0</td><td>0</td><td>0</td><td>regiao</td><td>CO</td><td>CO</td><td>Centro-Oeste</td><td>0</td><td>85068</td><td>100035</td><td>85.0382</td></tr>\n",
       "    <tr><td class='row_index'>1</td><td>0</td><td>1</td><td>regiao</td><td>CO</td><td>CO</td><td>Centro-Oeste</td><td>0</td><td>100995</td><td>124971</td><td>80.8147</td></tr>\n",
       "    <tr><td class='row_index'>2</td><td>1</td><td>0</td><td>regiao</td><td>CO</td><td>CO</td><td>Centro-Oeste</td><td>0</td><td>141604</td><td>167105</td><td>84.7395</td></tr>\n",
       "    <tr><td class='row_index'>3</td><td>1</td><td>1</td><td>regiao</td><td>CO</td><td>CO</td><td>Centro-Oeste</td><td>0</td><td>118221</td><td>151310</td><td>78.1317</td></tr>\n",
       "    <tr><td class='row_index'>4</td><td>0</td><td>0</td><td>regiao</td><td>CO</td><td>CO</td><td>Centro-Oeste</td><td>1</td><td>8372</td><td>100035</td><td>8.36907</td></tr>\n",
       "    <tr><td class='row_index'>5</td><td>0</td><td>1</td><td>regiao</td><td>CO</td><td>CO</td><td>Centro-Oeste</td><td>1</td><td>13732</td><td>124971</td><td>10.9881</td></tr>\n",
       "    <tr><td class='row_index'>6</td><td>1</td><td>0</td><td>regiao</td><td>CO</td><td>CO</td><td>Centro-Oeste</td><td>1</td><td>13243</td><td>167105</td><td>7.92496</td></tr>\n",
       "    <tr><td class='row_index'>7</td><td>1</td><td>1</td><td>regiao</td><td>CO</td><td>CO</td><td>Centro-Oeste</td><td>1</td><td>16144</td><td>151310</td><td>10.6695</td></tr>\n",
       "    <tr><td class='row_index'>8</td><td>0</td><td>0</td><td>regiao</td><td>CO</td><td>CO</td><td>Centro-Oeste</td><td>2</td><td>3465</td><td>100035</td><td>3.46379</td></tr>\n",
       "    <tr><td class='row_index'>9</td><td>0</td><td>1</td><td>regiao</td><td>CO</td><td>CO</td><td>Centro-Oeste</td><td>2</td><td>3834</td><td>124971</td><td>3.06791</td></tr>\n",
       "    <tr><td class='row_index'>10</td><td>1</td><td>0</td><td>regiao</td><td>CO</td><td>CO</td><td>Centro-Oeste</td><td>2</td><td>3758</td><td>167105</td><td>2.24889</td></tr>\n",
       "    <tr><td class='row_index'>11</td><td>1</td><td>1</td><td>regiao</td><td>CO</td><td>CO</td><td>Centro-Oeste</td><td>2</td><td>4273</td><td>151310</td><td>2.824</td></tr>\n",
       "    <tr><td class='row_index'>12</td><td>0</td><td>0</td><td>regiao</td><td>CO</td><td>CO</td><td>Centro-Oeste</td><td>3</td><td>3004</td><td>100035</td><td>3.00295</td></tr>\n",
       "    <tr><td class='row_index'>13</td><td>0</td><td>1</td><td>regiao</td><td>CO</td><td>CO</td><td>Centro-Oeste</td><td>3</td><td>5817</td><td>124971</td><td>4.65468</td></tr>\n",
       "    <tr><td class='row_index'>14</td><td>1</td><td>0</td><td>regiao</td><td>CO</td><td>CO</td><td>Centro-Oeste</td><td>3</td><td>8296</td><td>167105</td><td>4.96454</td></tr>\n",
       "    <tr><td class='row_index'>&#x22EE;</td><td class='hellipsis'>&#x22EE;</td><td class='hellipsis'>&#x22EE;</td><td class='hellipsis'>&#x22EE;</td><td class='hellipsis'>&#x22EE;</td><td class='hellipsis'>&#x22EE;</td><td class='hellipsis'>&#x22EE;</td><td class='hellipsis'>&#x22EE;</td><td class='hellipsis'>&#x22EE;</td><td class='hellipsis'>&#x22EE;</td><td class='hellipsis'>&#x22EE;</td></tr>\n",
       "    <tr><td class='row_index'>93,060</td><td>0</td><td>1</td><td>cnes</td><td>SL/SC/42016/421870/2491710</td><td>2491710</td><td></td><td>2</td><td>59</td><td>550</td><td>10.7273</td></tr>\n",
       "    <tr><td class='row_index'>93,061</td><td>1</td><td>0</td><td>cnes</td><td>SL/SC/42016/421870/2491710</td><td>2491710</td><td></td><td>2</td><td>14</td><td>561</td><td>2.49554</td></tr>\n",
       "    <tr><td class='row_index'>93,062</td><td>1</td><td>1</td><td>cnes</td><td>SL/SC/42016/421870/2491710</td><td>2491710</td><td></td><td>2</td><td>125</td><td>1256</td><td>9.95223</td></tr>\n",
       "    <tr><td class='row_index'>93,063</td><td>1</td><td>1</td><td>cnes</td><td>SL/SC/42016/421870/2491710</td><td>2491710</td><td></td><td>3</td><td>2</td><td>1256</td><td>0.159236</td></tr>\n",
       "    <tr><td class='row_index'>93,064</td><td>1</td><td>1</td><td>cnes</td><td>SL/SC/42016/421870/2491710</td><td>2491710</td><td></td><td>4</td><td>2</td><td>1256</td><td>0.159236</td></tr>\n",
       "  </tbody>\n",
       "  </table>\n",
       "  <div class='footer'>\n",
       "    <div class='frame_dimensions'>93,065 rows &times; 10 columns</div>\n",
       "  </div>\n",
       "</div>\n"
      ],
      "text/plain": [
       "<Frame#7fb3f9979e40 93065x10>"
      ]
     },
     "execution_count": 15,
     "metadata": {},
     "output_type": "execute_result"
    }
   ],
   "source": [
    "dt.fread(output_counts)"
   ]
  },
  {
   "cell_type": "code",
   "execution_count": 18,
   "metadata": {},
   "outputs": [],
   "source": [
    "df_cnt = pd.read_csv(output_counts, dtype={'identificador': str})"
   ]
  },
  {
   "cell_type": "code",
   "execution_count": 19,
   "metadata": {},
   "outputs": [
    {
     "data": {
      "text/plain": [
       "municipio       53557\n",
       "cnes            31299\n",
       "regiao_saude     7579\n",
       "uf                530\n",
       "regiao            100\n",
       "Name: escala, dtype: int64"
      ]
     },
     "execution_count": 19,
     "metadata": {},
     "output_type": "execute_result"
    }
   ],
   "source": [
    "df_cnt['escala'].value_counts()"
   ]
  },
  {
   "cell_type": "markdown",
   "metadata": {},
   "source": [
    "## Brasil (regsau)"
   ]
  },
  {
   "cell_type": "code",
   "execution_count": 21,
   "metadata": {},
   "outputs": [
    {
     "data": {
      "text/html": [
       "<div>\n",
       "<style scoped>\n",
       "    .dataframe tbody tr th:only-of-type {\n",
       "        vertical-align: middle;\n",
       "    }\n",
       "\n",
       "    .dataframe tbody tr th {\n",
       "        vertical-align: top;\n",
       "    }\n",
       "\n",
       "    .dataframe thead th {\n",
       "        text-align: right;\n",
       "    }\n",
       "</style>\n",
       "<table border=\"1\" class=\"dataframe\">\n",
       "  <thead>\n",
       "    <tr style=\"text-align: right;\">\n",
       "      <th></th>\n",
       "      <th>parto_normal</th>\n",
       "      <th>bienio</th>\n",
       "      <th>escala</th>\n",
       "      <th>codigo</th>\n",
       "      <th>identificador</th>\n",
       "      <th>nome</th>\n",
       "      <th>criticidade</th>\n",
       "      <th>count</th>\n",
       "      <th>total</th>\n",
       "      <th>percent</th>\n",
       "    </tr>\n",
       "  </thead>\n",
       "  <tbody>\n",
       "    <tr>\n",
       "      <th>0</th>\n",
       "      <td>0</td>\n",
       "      <td>0</td>\n",
       "      <td>regiao</td>\n",
       "      <td>CO</td>\n",
       "      <td>CO</td>\n",
       "      <td>Centro-Oeste</td>\n",
       "      <td>0</td>\n",
       "      <td>85068</td>\n",
       "      <td>100035</td>\n",
       "      <td>85.038237</td>\n",
       "    </tr>\n",
       "    <tr>\n",
       "      <th>1</th>\n",
       "      <td>0</td>\n",
       "      <td>1</td>\n",
       "      <td>regiao</td>\n",
       "      <td>CO</td>\n",
       "      <td>CO</td>\n",
       "      <td>Centro-Oeste</td>\n",
       "      <td>0</td>\n",
       "      <td>100995</td>\n",
       "      <td>124971</td>\n",
       "      <td>80.814749</td>\n",
       "    </tr>\n",
       "    <tr>\n",
       "      <th>2</th>\n",
       "      <td>1</td>\n",
       "      <td>0</td>\n",
       "      <td>regiao</td>\n",
       "      <td>CO</td>\n",
       "      <td>CO</td>\n",
       "      <td>Centro-Oeste</td>\n",
       "      <td>0</td>\n",
       "      <td>141604</td>\n",
       "      <td>167105</td>\n",
       "      <td>84.739535</td>\n",
       "    </tr>\n",
       "    <tr>\n",
       "      <th>3</th>\n",
       "      <td>1</td>\n",
       "      <td>1</td>\n",
       "      <td>regiao</td>\n",
       "      <td>CO</td>\n",
       "      <td>CO</td>\n",
       "      <td>Centro-Oeste</td>\n",
       "      <td>0</td>\n",
       "      <td>118221</td>\n",
       "      <td>151310</td>\n",
       "      <td>78.131650</td>\n",
       "    </tr>\n",
       "    <tr>\n",
       "      <th>4</th>\n",
       "      <td>0</td>\n",
       "      <td>0</td>\n",
       "      <td>regiao</td>\n",
       "      <td>CO</td>\n",
       "      <td>CO</td>\n",
       "      <td>Centro-Oeste</td>\n",
       "      <td>1</td>\n",
       "      <td>8372</td>\n",
       "      <td>100035</td>\n",
       "      <td>8.369071</td>\n",
       "    </tr>\n",
       "    <tr>\n",
       "      <th>...</th>\n",
       "      <td>...</td>\n",
       "      <td>...</td>\n",
       "      <td>...</td>\n",
       "      <td>...</td>\n",
       "      <td>...</td>\n",
       "      <td>...</td>\n",
       "      <td>...</td>\n",
       "      <td>...</td>\n",
       "      <td>...</td>\n",
       "      <td>...</td>\n",
       "    </tr>\n",
       "    <tr>\n",
       "      <th>8204</th>\n",
       "      <td>0</td>\n",
       "      <td>0</td>\n",
       "      <td>regiao_saude</td>\n",
       "      <td>SL/SC/42016</td>\n",
       "      <td>42016</td>\n",
       "      <td>Laguna</td>\n",
       "      <td>3</td>\n",
       "      <td>1</td>\n",
       "      <td>1221</td>\n",
       "      <td>0.081900</td>\n",
       "    </tr>\n",
       "    <tr>\n",
       "      <th>8205</th>\n",
       "      <td>0</td>\n",
       "      <td>1</td>\n",
       "      <td>regiao_saude</td>\n",
       "      <td>SL/SC/42016</td>\n",
       "      <td>42016</td>\n",
       "      <td>Laguna</td>\n",
       "      <td>3</td>\n",
       "      <td>1</td>\n",
       "      <td>1805</td>\n",
       "      <td>0.055402</td>\n",
       "    </tr>\n",
       "    <tr>\n",
       "      <th>8206</th>\n",
       "      <td>0</td>\n",
       "      <td>1</td>\n",
       "      <td>regiao_saude</td>\n",
       "      <td>SL/SC/42016</td>\n",
       "      <td>42016</td>\n",
       "      <td>Laguna</td>\n",
       "      <td>4</td>\n",
       "      <td>2</td>\n",
       "      <td>1805</td>\n",
       "      <td>0.110803</td>\n",
       "    </tr>\n",
       "    <tr>\n",
       "      <th>8207</th>\n",
       "      <td>1</td>\n",
       "      <td>0</td>\n",
       "      <td>regiao_saude</td>\n",
       "      <td>SL/SC/42016</td>\n",
       "      <td>42016</td>\n",
       "      <td>Laguna</td>\n",
       "      <td>4</td>\n",
       "      <td>1</td>\n",
       "      <td>1636</td>\n",
       "      <td>0.061125</td>\n",
       "    </tr>\n",
       "    <tr>\n",
       "      <th>8208</th>\n",
       "      <td>1</td>\n",
       "      <td>1</td>\n",
       "      <td>regiao_saude</td>\n",
       "      <td>SL/SC/42016</td>\n",
       "      <td>42016</td>\n",
       "      <td>Laguna</td>\n",
       "      <td>4</td>\n",
       "      <td>4</td>\n",
       "      <td>2170</td>\n",
       "      <td>0.184332</td>\n",
       "    </tr>\n",
       "  </tbody>\n",
       "</table>\n",
       "<p>8209 rows × 10 columns</p>\n",
       "</div>"
      ],
      "text/plain": [
       "      parto_normal  bienio        escala       codigo identificador  \\\n",
       "0                0       0        regiao           CO            CO   \n",
       "1                0       1        regiao           CO            CO   \n",
       "2                1       0        regiao           CO            CO   \n",
       "3                1       1        regiao           CO            CO   \n",
       "4                0       0        regiao           CO            CO   \n",
       "...            ...     ...           ...          ...           ...   \n",
       "8204             0       0  regiao_saude  SL/SC/42016         42016   \n",
       "8205             0       1  regiao_saude  SL/SC/42016         42016   \n",
       "8206             0       1  regiao_saude  SL/SC/42016         42016   \n",
       "8207             1       0  regiao_saude  SL/SC/42016         42016   \n",
       "8208             1       1  regiao_saude  SL/SC/42016         42016   \n",
       "\n",
       "              nome  criticidade   count   total    percent  \n",
       "0     Centro-Oeste            0   85068  100035  85.038237  \n",
       "1     Centro-Oeste            0  100995  124971  80.814749  \n",
       "2     Centro-Oeste            0  141604  167105  84.739535  \n",
       "3     Centro-Oeste            0  118221  151310  78.131650  \n",
       "4     Centro-Oeste            1    8372  100035   8.369071  \n",
       "...            ...          ...     ...     ...        ...  \n",
       "8204        Laguna            3       1    1221   0.081900  \n",
       "8205        Laguna            3       1    1805   0.055402  \n",
       "8206        Laguna            4       2    1805   0.110803  \n",
       "8207        Laguna            4       1    1636   0.061125  \n",
       "8208        Laguna            4       4    2170   0.184332  \n",
       "\n",
       "[8209 rows x 10 columns]"
      ]
     },
     "execution_count": 21,
     "metadata": {},
     "output_type": "execute_result"
    }
   ],
   "source": [
    "df_bra_regsau = df_cnt[df_cnt['escala'].isin({'regiao', 'uf', 'regiao_saude'})]\n",
    "df_bra_regsau"
   ]
  },
  {
   "cell_type": "code",
   "execution_count": 22,
   "metadata": {},
   "outputs": [],
   "source": [
    "output_bra_regsau = output_counts.replace('.csv.gzip', '_bra_regsau.xlsx')\n",
    "df_bra_regsau.to_excel(output_bra_regsau, index=False)"
   ]
  },
  {
   "cell_type": "markdown",
   "metadata": {},
   "source": [
    "## RJ"
   ]
  },
  {
   "cell_type": "code",
   "execution_count": 16,
   "metadata": {},
   "outputs": [
    {
     "data": {
      "text/html": [
       "<div>\n",
       "<style scoped>\n",
       "    .dataframe tbody tr th:only-of-type {\n",
       "        vertical-align: middle;\n",
       "    }\n",
       "\n",
       "    .dataframe tbody tr th {\n",
       "        vertical-align: top;\n",
       "    }\n",
       "\n",
       "    .dataframe thead th {\n",
       "        text-align: right;\n",
       "    }\n",
       "</style>\n",
       "<table border=\"1\" class=\"dataframe\">\n",
       "  <thead>\n",
       "    <tr style=\"text-align: right;\">\n",
       "      <th></th>\n",
       "      <th>parto_normal</th>\n",
       "      <th>bienio</th>\n",
       "      <th>escala</th>\n",
       "      <th>codigo</th>\n",
       "      <th>identificador</th>\n",
       "      <th>nome</th>\n",
       "      <th>criticidade</th>\n",
       "      <th>count</th>\n",
       "      <th>total</th>\n",
       "      <th>percent</th>\n",
       "    </tr>\n",
       "  </thead>\n",
       "  <tbody>\n",
       "    <tr>\n",
       "      <th>530</th>\n",
       "      <td>0</td>\n",
       "      <td>0</td>\n",
       "      <td>uf</td>\n",
       "      <td>SD/RJ</td>\n",
       "      <td>RJ</td>\n",
       "      <td>Rio de Janeiro</td>\n",
       "      <td>0</td>\n",
       "      <td>31475</td>\n",
       "      <td>39323</td>\n",
       "      <td>80.042214</td>\n",
       "    </tr>\n",
       "    <tr>\n",
       "      <th>531</th>\n",
       "      <td>0</td>\n",
       "      <td>1</td>\n",
       "      <td>uf</td>\n",
       "      <td>SD/RJ</td>\n",
       "      <td>RJ</td>\n",
       "      <td>Rio de Janeiro</td>\n",
       "      <td>0</td>\n",
       "      <td>64571</td>\n",
       "      <td>82583</td>\n",
       "      <td>78.189216</td>\n",
       "    </tr>\n",
       "    <tr>\n",
       "      <th>532</th>\n",
       "      <td>1</td>\n",
       "      <td>0</td>\n",
       "      <td>uf</td>\n",
       "      <td>SD/RJ</td>\n",
       "      <td>RJ</td>\n",
       "      <td>Rio de Janeiro</td>\n",
       "      <td>0</td>\n",
       "      <td>126306</td>\n",
       "      <td>148327</td>\n",
       "      <td>85.153748</td>\n",
       "    </tr>\n",
       "    <tr>\n",
       "      <th>533</th>\n",
       "      <td>1</td>\n",
       "      <td>1</td>\n",
       "      <td>uf</td>\n",
       "      <td>SD/RJ</td>\n",
       "      <td>RJ</td>\n",
       "      <td>Rio de Janeiro</td>\n",
       "      <td>0</td>\n",
       "      <td>116113</td>\n",
       "      <td>148010</td>\n",
       "      <td>78.449429</td>\n",
       "    </tr>\n",
       "    <tr>\n",
       "      <th>534</th>\n",
       "      <td>0</td>\n",
       "      <td>0</td>\n",
       "      <td>uf</td>\n",
       "      <td>SD/RJ</td>\n",
       "      <td>RJ</td>\n",
       "      <td>Rio de Janeiro</td>\n",
       "      <td>1</td>\n",
       "      <td>7153</td>\n",
       "      <td>39323</td>\n",
       "      <td>18.190372</td>\n",
       "    </tr>\n",
       "    <tr>\n",
       "      <th>...</th>\n",
       "      <td>...</td>\n",
       "      <td>...</td>\n",
       "      <td>...</td>\n",
       "      <td>...</td>\n",
       "      <td>...</td>\n",
       "      <td>...</td>\n",
       "      <td>...</td>\n",
       "      <td>...</td>\n",
       "      <td>...</td>\n",
       "      <td>...</td>\n",
       "    </tr>\n",
       "    <tr>\n",
       "      <th>84206</th>\n",
       "      <td>0</td>\n",
       "      <td>0</td>\n",
       "      <td>cnes</td>\n",
       "      <td>SD/RJ/33009/330590/3584968</td>\n",
       "      <td>3584968</td>\n",
       "      <td>HOSPITAL FRANCISCO LIMONGI</td>\n",
       "      <td>0</td>\n",
       "      <td>4</td>\n",
       "      <td>4</td>\n",
       "      <td>100.000000</td>\n",
       "    </tr>\n",
       "    <tr>\n",
       "      <th>84207</th>\n",
       "      <td>1</td>\n",
       "      <td>0</td>\n",
       "      <td>cnes</td>\n",
       "      <td>SD/RJ/33009/330590/3584968</td>\n",
       "      <td>3584968</td>\n",
       "      <td>HOSPITAL FRANCISCO LIMONGI</td>\n",
       "      <td>0</td>\n",
       "      <td>39</td>\n",
       "      <td>39</td>\n",
       "      <td>100.000000</td>\n",
       "    </tr>\n",
       "    <tr>\n",
       "      <th>84208</th>\n",
       "      <td>1</td>\n",
       "      <td>1</td>\n",
       "      <td>cnes</td>\n",
       "      <td>SD/RJ/33009/330590/3584968</td>\n",
       "      <td>3584968</td>\n",
       "      <td>HOSPITAL FRANCISCO LIMONGI</td>\n",
       "      <td>0</td>\n",
       "      <td>6</td>\n",
       "      <td>8</td>\n",
       "      <td>75.000000</td>\n",
       "    </tr>\n",
       "    <tr>\n",
       "      <th>84209</th>\n",
       "      <td>1</td>\n",
       "      <td>1</td>\n",
       "      <td>cnes</td>\n",
       "      <td>SD/RJ/33009/330590/3584968</td>\n",
       "      <td>3584968</td>\n",
       "      <td>HOSPITAL FRANCISCO LIMONGI</td>\n",
       "      <td>1</td>\n",
       "      <td>1</td>\n",
       "      <td>8</td>\n",
       "      <td>12.500000</td>\n",
       "    </tr>\n",
       "    <tr>\n",
       "      <th>84210</th>\n",
       "      <td>1</td>\n",
       "      <td>1</td>\n",
       "      <td>cnes</td>\n",
       "      <td>SD/RJ/33009/330590/3584968</td>\n",
       "      <td>3584968</td>\n",
       "      <td>HOSPITAL FRANCISCO LIMONGI</td>\n",
       "      <td>2</td>\n",
       "      <td>1</td>\n",
       "      <td>8</td>\n",
       "      <td>12.500000</td>\n",
       "    </tr>\n",
       "  </tbody>\n",
       "</table>\n",
       "<p>2376 rows × 10 columns</p>\n",
       "</div>"
      ],
      "text/plain": [
       "       parto_normal  bienio escala                      codigo identificador  \\\n",
       "530               0       0     uf                       SD/RJ            RJ   \n",
       "531               0       1     uf                       SD/RJ            RJ   \n",
       "532               1       0     uf                       SD/RJ            RJ   \n",
       "533               1       1     uf                       SD/RJ            RJ   \n",
       "534               0       0     uf                       SD/RJ            RJ   \n",
       "...             ...     ...    ...                         ...           ...   \n",
       "84206             0       0   cnes  SD/RJ/33009/330590/3584968       3584968   \n",
       "84207             1       0   cnes  SD/RJ/33009/330590/3584968       3584968   \n",
       "84208             1       1   cnes  SD/RJ/33009/330590/3584968       3584968   \n",
       "84209             1       1   cnes  SD/RJ/33009/330590/3584968       3584968   \n",
       "84210             1       1   cnes  SD/RJ/33009/330590/3584968       3584968   \n",
       "\n",
       "                             nome  criticidade   count   total     percent  \n",
       "530                Rio de Janeiro            0   31475   39323   80.042214  \n",
       "531                Rio de Janeiro            0   64571   82583   78.189216  \n",
       "532                Rio de Janeiro            0  126306  148327   85.153748  \n",
       "533                Rio de Janeiro            0  116113  148010   78.449429  \n",
       "534                Rio de Janeiro            1    7153   39323   18.190372  \n",
       "...                           ...          ...     ...     ...         ...  \n",
       "84206  HOSPITAL FRANCISCO LIMONGI            0       4       4  100.000000  \n",
       "84207  HOSPITAL FRANCISCO LIMONGI            0      39      39  100.000000  \n",
       "84208  HOSPITAL FRANCISCO LIMONGI            0       6       8   75.000000  \n",
       "84209  HOSPITAL FRANCISCO LIMONGI            1       1       8   12.500000  \n",
       "84210  HOSPITAL FRANCISCO LIMONGI            2       1       8   12.500000  \n",
       "\n",
       "[2376 rows x 10 columns]"
      ]
     },
     "execution_count": 16,
     "metadata": {},
     "output_type": "execute_result"
    }
   ],
   "source": [
    "df_rj = df_cnt[df_cnt['codigo'].str.contains('/RJ')]\n",
    "df_rj"
   ]
  },
  {
   "cell_type": "code",
   "execution_count": 17,
   "metadata": {},
   "outputs": [],
   "source": [
    "output_rj = output_counts.replace('.csv.gzip', '_rj.xlsx')\n",
    "df_rj.to_excel(output_rj, index=False)"
   ]
  }
 ],
 "metadata": {
  "kernelspec": {
   "display_name": "Python 3.9.13 ('ds')",
   "language": "python",
   "name": "python3"
  },
  "language_info": {
   "codemirror_mode": {
    "name": "ipython",
    "version": 3
   },
   "file_extension": ".py",
   "mimetype": "text/x-python",
   "name": "python",
   "nbconvert_exporter": "python",
   "pygments_lexer": "ipython3",
   "version": "3.9.13"
  },
  "orig_nbformat": 4,
  "vscode": {
   "interpreter": {
    "hash": "7b36953cec1b75a8b331280ff7f7e2e00c70540f1d612023ca05354bbeabec70"
   }
  }
 },
 "nbformat": 4,
 "nbformat_minor": 2
}
