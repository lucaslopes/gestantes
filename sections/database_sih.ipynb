{
 "cells": [
  {
   "cell_type": "raw",
   "metadata": {},
   "source": [
    "---\n",
    "title: \"SIH\"\n",
    "---"
   ]
  },
  {
   "cell_type": "code",
   "execution_count": 1,
   "metadata": {},
   "outputs": [
    {
     "data": {
      "text/html": [
       "<style type='text/css'>\n",
       ".datatable table.frame { margin-bottom: 0; }\n",
       ".datatable table.frame thead { border-bottom: none; }\n",
       ".datatable table.frame tr.coltypes td {  color: #FFFFFF;  line-height: 6px;  padding: 0 0.5em;}\n",
       ".datatable .bool    { background: #DDDD99; }\n",
       ".datatable .object  { background: #565656; }\n",
       ".datatable .int     { background: #5D9E5D; }\n",
       ".datatable .float   { background: #4040CC; }\n",
       ".datatable .str     { background: #CC4040; }\n",
       ".datatable .time    { background: #40CC40; }\n",
       ".datatable .row_index {  background: var(--jp-border-color3);  border-right: 1px solid var(--jp-border-color0);  color: var(--jp-ui-font-color3);  font-size: 9px;}\n",
       ".datatable .frame tbody td { text-align: left; }\n",
       ".datatable .frame tr.coltypes .row_index {  background: var(--jp-border-color0);}\n",
       ".datatable th:nth-child(2) { padding-left: 12px; }\n",
       ".datatable .hellipsis {  color: var(--jp-cell-editor-border-color);}\n",
       ".datatable .vellipsis {  background: var(--jp-layout-color0);  color: var(--jp-cell-editor-border-color);}\n",
       ".datatable .na {  color: var(--jp-cell-editor-border-color);  font-size: 80%;}\n",
       ".datatable .sp {  opacity: 0.25;}\n",
       ".datatable .footer { font-size: 9px; }\n",
       ".datatable .frame_dimensions {  background: var(--jp-border-color3);  border-top: 1px solid var(--jp-border-color0);  color: var(--jp-ui-font-color3);  display: inline-block;  opacity: 0.6;  padding: 1px 10px 1px 5px;}\n",
       "</style>\n"
      ],
      "text/plain": [
       "<IPython.core.display.HTML object>"
      ]
     },
     "metadata": {},
     "output_type": "display_data"
    }
   ],
   "source": [
    "from utils import data_load\n",
    "from datatable import dt, f"
   ]
  },
  {
   "cell_type": "markdown",
   "metadata": {},
   "source": [
    "# Descrição"
   ]
  },
  {
   "cell_type": "markdown",
   "metadata": {},
   "source": [
    "Dados do Sistema de Informações Hospitalares do SUS (SIHSUS) reunidos pela Plataforma de Ciência de Dados aplicada à Saúde (PCDaS). Os dados foram obtidos junto ao DATASUS (Ministério da Saúde), tratados e enriquecidos seguindo uma metodologia própria de ETL (processo de extração, transformação e carga dos dados) da PCDaS, resultando em um dataset mensal com todos os registros de internações hospitalares contidos no SIHSUS à partir de janeiro de 2008.\n",
    "\n",
    "A atualização dos dados é realizada pelo DATASUS e a PCDaS extrai os registros mensais referentes aos arquivos `RD_UF_ANO_MÊS.dbc` (Reduzidos de AIH) assim que disponibilizados. As colunas com nomes em MAIÚSCULO representam dados originais advindos do DATASUS e colunas com nomes iniciando em minúsculo representam dados resultantes de transformação ou enriquecimento."
   ]
  },
  {
   "cell_type": "markdown",
   "metadata": {},
   "source": [
    "# Filtragens básicas"
   ]
  },
  {
   "cell_type": "markdown",
   "metadata": {},
   "source": [
    "## Filtro de Colunas"
   ]
  },
  {
   "cell_type": "code",
   "execution_count": 2,
   "metadata": {},
   "outputs": [],
   "source": [
    "cols_sih = {\n",
    "  'ano_internacao': 'ano',\n",
    "  'PROC_REA': 'parto_normal',\n",
    "  'CNES': 'cnes',\n",
    "  'def_idade_anos': 'idade',\n",
    "  'int_codigo_adotado': 'hosp_cod_municipio',\n",
    "  'res_codigo_adotado': 'cod_municipio',\n",
    "}"
   ]
  },
  {
   "cell_type": "markdown",
   "metadata": {},
   "source": [
    "## Filtro de Linhas"
   ]
  },
  {
   "cell_type": "code",
   "execution_count": 3,
   "metadata": {},
   "outputs": [],
   "source": [
    "def filter_sih(df, cols):\n",
    "  cols = list(cols.values())[:-1]\n",
    "  cols = [c for c in cols if c in df.names]\n",
    "  df_filtered = df[\n",
    "    (\n",
    "      (f['ano'] > 2009) & (f['ano'] < 2020)\n",
    "    ) & (\n",
    "      (f['idade'] > 9) & (f['idade'] < 50)\n",
    "    ) & (\n",
    "      (f['parto_normal'] == 310010039) | (f['parto_normal'] == 411010034)\n",
    "    ) & (\n",
    "      ((f['hosp_cod_municipio'] != None) & (f['cod_municipio'] != None))\n",
    "    ) & (\n",
    "      (f['cnes'] != None)\n",
    "    ), cols]\n",
    "  return df_filtered"
   ]
  },
  {
   "cell_type": "markdown",
   "metadata": {},
   "source": [
    "# Carregar tabela"
   ]
  },
  {
   "cell_type": "code",
   "execution_count": 4,
   "metadata": {},
   "outputs": [],
   "source": [
    "# path_zip_sih = input('Qual o caminho para o arquivo zip da base de dados SIHSUS?')\n",
    "path_zip_sih = '/Volumes/SanDisk/Databases/SIH/SIHSUS.zip'"
   ]
  },
  {
   "cell_type": "code",
   "execution_count": 5,
   "metadata": {},
   "outputs": [
    {
     "name": "stderr",
     "output_type": "stream",
     "text": [
      "100%|██████████| 4400/4400 [20:32<00:00,  3.57it/s]\n"
     ]
    },
    {
     "data": {
      "text/html": [
       "<div class='datatable'>\n",
       "  <table class='frame'>\n",
       "  <thead>\n",
       "    <tr class='colnames'><td class='row_index'></td><th>ano</th><th>parto_normal</th><th>cnes</th><th>idade</th><th>hosp_cod_municipio</th><th>cod_municipio</th></tr>\n",
       "    <tr class='coltypes'><td class='row_index'></td><td class='int' title='int32'>&#x25AA;&#x25AA;&#x25AA;&#x25AA;</td><td class='int' title='int32'>&#x25AA;&#x25AA;&#x25AA;&#x25AA;</td><td class='int' title='int32'>&#x25AA;&#x25AA;&#x25AA;&#x25AA;</td><td class='int' title='int32'>&#x25AA;&#x25AA;&#x25AA;&#x25AA;</td><td class='int' title='int32'>&#x25AA;&#x25AA;&#x25AA;&#x25AA;</td><td class='int' title='int32'>&#x25AA;&#x25AA;&#x25AA;&#x25AA;</td></tr>\n",
       "  </thead>\n",
       "  <tbody>\n",
       "    <tr><td class='row_index'>0</td><td>2010</td><td>310010039</td><td>2001020</td><td>23</td><td>120005</td><td>120005</td></tr>\n",
       "    <tr><td class='row_index'>1</td><td>2010</td><td>310010039</td><td>2000733</td><td>28</td><td>120040</td><td>120040</td></tr>\n",
       "    <tr><td class='row_index'>2</td><td>2010</td><td>310010039</td><td>2000733</td><td>38</td><td>120040</td><td>120040</td></tr>\n",
       "    <tr><td class='row_index'>3</td><td>2010</td><td>310010039</td><td>2000733</td><td>16</td><td>120040</td><td>120040</td></tr>\n",
       "    <tr><td class='row_index'>4</td><td>2010</td><td>310010039</td><td>2000733</td><td>26</td><td>120040</td><td>120040</td></tr>\n",
       "    <tr><td class='row_index'>5</td><td>2010</td><td>310010039</td><td>2000733</td><td>26</td><td>120040</td><td>120040</td></tr>\n",
       "    <tr><td class='row_index'>6</td><td>2010</td><td>310010039</td><td>2000733</td><td>27</td><td>120040</td><td>120040</td></tr>\n",
       "    <tr><td class='row_index'>7</td><td>2010</td><td>310010039</td><td>2001020</td><td>31</td><td>120005</td><td>120005</td></tr>\n",
       "    <tr><td class='row_index'>8</td><td>2010</td><td>310010039</td><td>2000733</td><td>30</td><td>120040</td><td>120040</td></tr>\n",
       "    <tr><td class='row_index'>9</td><td>2010</td><td>310010039</td><td>2000733</td><td>18</td><td>120040</td><td>120040</td></tr>\n",
       "    <tr><td class='row_index'>10</td><td>2010</td><td>310010039</td><td>2001020</td><td>28</td><td>120005</td><td>120005</td></tr>\n",
       "    <tr><td class='row_index'>11</td><td>2010</td><td>310010039</td><td>2000733</td><td>32</td><td>120040</td><td>120038</td></tr>\n",
       "    <tr><td class='row_index'>12</td><td>2010</td><td>310010039</td><td>2000733</td><td>30</td><td>120040</td><td>120040</td></tr>\n",
       "    <tr><td class='row_index'>13</td><td>2010</td><td>310010039</td><td>2000733</td><td>26</td><td>120040</td><td>120001</td></tr>\n",
       "    <tr><td class='row_index'>14</td><td>2010</td><td>310010039</td><td>2000733</td><td>26</td><td>120040</td><td>120040</td></tr>\n",
       "    <tr><td class='row_index'>&#x22EE;</td><td class='hellipsis'>&#x22EE;</td><td class='hellipsis'>&#x22EE;</td><td class='hellipsis'>&#x22EE;</td><td class='hellipsis'>&#x22EE;</td><td class='hellipsis'>&#x22EE;</td><td class='hellipsis'>&#x22EE;</td></tr>\n",
       "    <tr><td class='row_index'>17,106,396</td><td>2019</td><td>411010034</td><td>2765640</td><td>24</td><td>170930</td><td>171840</td></tr>\n",
       "    <tr><td class='row_index'>17,106,397</td><td>2019</td><td>411010034</td><td>2765640</td><td>27</td><td>170930</td><td>171670</td></tr>\n",
       "    <tr><td class='row_index'>17,106,398</td><td>2019</td><td>411010034</td><td>2765640</td><td>22</td><td>170930</td><td>171670</td></tr>\n",
       "    <tr><td class='row_index'>17,106,399</td><td>2019</td><td>411010034</td><td>2765640</td><td>25</td><td>170930</td><td>170930</td></tr>\n",
       "    <tr><td class='row_index'>17,106,400</td><td>2019</td><td>411010034</td><td>2755149</td><td>21</td><td>171610</td><td>171250</td></tr>\n",
       "  </tbody>\n",
       "  </table>\n",
       "  <div class='footer'>\n",
       "    <div class='frame_dimensions'>17,106,401 rows &times; 6 columns</div>\n",
       "  </div>\n",
       "</div>\n"
      ],
      "text/plain": [
       "<Frame#7f8531059060 17106401x6>"
      ]
     },
     "execution_count": 5,
     "metadata": {},
     "output_type": "execute_result"
    }
   ],
   "source": [
    "df_sih = data_load(path_zip_sih, cols_sih, filter_sih)\n",
    "df_sih"
   ]
  },
  {
   "cell_type": "markdown",
   "metadata": {},
   "source": [
    "100%|██████████| 4400/4400 [20:32<00:00,  3.57it/s]\n",
    "\n",
    "Total = 23m 40.2s"
   ]
  },
  {
   "cell_type": "markdown",
   "metadata": {},
   "source": [
    "# Exportar tabela"
   ]
  },
  {
   "cell_type": "code",
   "execution_count": 9,
   "metadata": {},
   "outputs": [],
   "source": [
    "output_sih = path_zip_sih.replace('SIHSUS.zip', 'sih.jay')\n",
    "df_sih.to_jay(output_sih)"
   ]
  },
  {
   "cell_type": "code",
   "execution_count": 7,
   "metadata": {},
   "outputs": [
    {
     "data": {
      "text/html": [
       "<div class='datatable'>\n",
       "  <table class='frame'>\n",
       "  <thead>\n",
       "    <tr class='colnames'><td class='row_index'></td><th>ano</th><th>parto_normal</th><th>cnes</th><th>idade</th><th>hosp_cod_municipio</th><th>cod_municipio</th></tr>\n",
       "    <tr class='coltypes'><td class='row_index'></td><td class='int' title='int32'>&#x25AA;&#x25AA;&#x25AA;&#x25AA;</td><td class='int' title='int32'>&#x25AA;&#x25AA;&#x25AA;&#x25AA;</td><td class='int' title='int32'>&#x25AA;&#x25AA;&#x25AA;&#x25AA;</td><td class='int' title='int32'>&#x25AA;&#x25AA;&#x25AA;&#x25AA;</td><td class='int' title='int32'>&#x25AA;&#x25AA;&#x25AA;&#x25AA;</td><td class='int' title='int32'>&#x25AA;&#x25AA;&#x25AA;&#x25AA;</td></tr>\n",
       "  </thead>\n",
       "  <tbody>\n",
       "    <tr><td class='row_index'>0</td><td>2010</td><td>310010039</td><td>2001020</td><td>23</td><td>120005</td><td>120005</td></tr>\n",
       "    <tr><td class='row_index'>1</td><td>2010</td><td>310010039</td><td>2000733</td><td>28</td><td>120040</td><td>120040</td></tr>\n",
       "    <tr><td class='row_index'>2</td><td>2010</td><td>310010039</td><td>2000733</td><td>38</td><td>120040</td><td>120040</td></tr>\n",
       "    <tr><td class='row_index'>3</td><td>2010</td><td>310010039</td><td>2000733</td><td>16</td><td>120040</td><td>120040</td></tr>\n",
       "    <tr><td class='row_index'>4</td><td>2010</td><td>310010039</td><td>2000733</td><td>26</td><td>120040</td><td>120040</td></tr>\n",
       "    <tr><td class='row_index'>5</td><td>2010</td><td>310010039</td><td>2000733</td><td>26</td><td>120040</td><td>120040</td></tr>\n",
       "    <tr><td class='row_index'>6</td><td>2010</td><td>310010039</td><td>2000733</td><td>27</td><td>120040</td><td>120040</td></tr>\n",
       "    <tr><td class='row_index'>7</td><td>2010</td><td>310010039</td><td>2001020</td><td>31</td><td>120005</td><td>120005</td></tr>\n",
       "    <tr><td class='row_index'>8</td><td>2010</td><td>310010039</td><td>2000733</td><td>30</td><td>120040</td><td>120040</td></tr>\n",
       "    <tr><td class='row_index'>9</td><td>2010</td><td>310010039</td><td>2000733</td><td>18</td><td>120040</td><td>120040</td></tr>\n",
       "    <tr><td class='row_index'>10</td><td>2010</td><td>310010039</td><td>2001020</td><td>28</td><td>120005</td><td>120005</td></tr>\n",
       "    <tr><td class='row_index'>11</td><td>2010</td><td>310010039</td><td>2000733</td><td>32</td><td>120040</td><td>120038</td></tr>\n",
       "    <tr><td class='row_index'>12</td><td>2010</td><td>310010039</td><td>2000733</td><td>30</td><td>120040</td><td>120040</td></tr>\n",
       "    <tr><td class='row_index'>13</td><td>2010</td><td>310010039</td><td>2000733</td><td>26</td><td>120040</td><td>120001</td></tr>\n",
       "    <tr><td class='row_index'>14</td><td>2010</td><td>310010039</td><td>2000733</td><td>26</td><td>120040</td><td>120040</td></tr>\n",
       "    <tr><td class='row_index'>&#x22EE;</td><td class='hellipsis'>&#x22EE;</td><td class='hellipsis'>&#x22EE;</td><td class='hellipsis'>&#x22EE;</td><td class='hellipsis'>&#x22EE;</td><td class='hellipsis'>&#x22EE;</td><td class='hellipsis'>&#x22EE;</td></tr>\n",
       "    <tr><td class='row_index'>17,106,396</td><td>2019</td><td>411010034</td><td>2765640</td><td>24</td><td>170930</td><td>171840</td></tr>\n",
       "    <tr><td class='row_index'>17,106,397</td><td>2019</td><td>411010034</td><td>2765640</td><td>27</td><td>170930</td><td>171670</td></tr>\n",
       "    <tr><td class='row_index'>17,106,398</td><td>2019</td><td>411010034</td><td>2765640</td><td>22</td><td>170930</td><td>171670</td></tr>\n",
       "    <tr><td class='row_index'>17,106,399</td><td>2019</td><td>411010034</td><td>2765640</td><td>25</td><td>170930</td><td>170930</td></tr>\n",
       "    <tr><td class='row_index'>17,106,400</td><td>2019</td><td>411010034</td><td>2755149</td><td>21</td><td>171610</td><td>171250</td></tr>\n",
       "  </tbody>\n",
       "  </table>\n",
       "  <div class='footer'>\n",
       "    <div class='frame_dimensions'>17,106,401 rows &times; 6 columns</div>\n",
       "  </div>\n",
       "</div>\n"
      ],
      "text/plain": [
       "<Frame#7f85310d9540 17106401x6>"
      ]
     },
     "execution_count": 7,
     "metadata": {},
     "output_type": "execute_result"
    }
   ],
   "source": [
    "df_sih = dt.fread(output_sih)\n",
    "df_sih"
   ]
  }
 ],
 "metadata": {
  "kernelspec": {
   "display_name": "Python 3.9.13 ('ds')",
   "language": "python",
   "name": "python3"
  },
  "language_info": {
   "codemirror_mode": {
    "name": "ipython",
    "version": 3
   },
   "file_extension": ".py",
   "mimetype": "text/x-python",
   "name": "python",
   "nbconvert_exporter": "python",
   "pygments_lexer": "ipython3",
   "version": "3.9.13"
  },
  "orig_nbformat": 4,
  "vscode": {
   "interpreter": {
    "hash": "7b36953cec1b75a8b331280ff7f7e2e00c70540f1d612023ca05354bbeabec70"
   }
  }
 },
 "nbformat": 4,
 "nbformat_minor": 2
}
