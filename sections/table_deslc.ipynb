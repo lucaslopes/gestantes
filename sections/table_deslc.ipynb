{
 "cells": [
  {
   "cell_type": "raw",
   "metadata": {},
   "source": [
    "---\n",
    "title: \"Deslocamento\"\n",
    "---"
   ]
  },
  {
   "cell_type": "code",
   "execution_count": 1,
   "metadata": {},
   "outputs": [
    {
     "data": {
      "text/html": [
       "<style type='text/css'>\n",
       ".datatable table.frame { margin-bottom: 0; }\n",
       ".datatable table.frame thead { border-bottom: none; }\n",
       ".datatable table.frame tr.coltypes td {  color: #FFFFFF;  line-height: 6px;  padding: 0 0.5em;}\n",
       ".datatable .bool    { background: #DDDD99; }\n",
       ".datatable .object  { background: #565656; }\n",
       ".datatable .int     { background: #5D9E5D; }\n",
       ".datatable .float   { background: #4040CC; }\n",
       ".datatable .str     { background: #CC4040; }\n",
       ".datatable .time    { background: #40CC40; }\n",
       ".datatable .row_index {  background: var(--jp-border-color3);  border-right: 1px solid var(--jp-border-color0);  color: var(--jp-ui-font-color3);  font-size: 9px;}\n",
       ".datatable .frame tbody td { text-align: left; }\n",
       ".datatable .frame tr.coltypes .row_index {  background: var(--jp-border-color0);}\n",
       ".datatable th:nth-child(2) { padding-left: 12px; }\n",
       ".datatable .hellipsis {  color: var(--jp-cell-editor-border-color);}\n",
       ".datatable .vellipsis {  background: var(--jp-layout-color0);  color: var(--jp-cell-editor-border-color);}\n",
       ".datatable .na {  color: var(--jp-cell-editor-border-color);  font-size: 80%;}\n",
       ".datatable .sp {  opacity: 0.25;}\n",
       ".datatable .footer { font-size: 9px; }\n",
       ".datatable .frame_dimensions {  background: var(--jp-border-color3);  border-top: 1px solid var(--jp-border-color0);  color: var(--jp-ui-font-color3);  display: inline-block;  opacity: 0.6;  padding: 1px 10px 1px 5px;}\n",
       "</style>\n"
      ],
      "text/plain": [
       "<IPython.core.display.HTML object>"
      ]
     },
     "metadata": {},
     "output_type": "display_data"
    }
   ],
   "source": [
    "import pandas as pd\n",
    "from utils import get_path, group_cols\n",
    "from datatable import dt, f"
   ]
  },
  {
   "cell_type": "markdown",
   "metadata": {},
   "source": [
    "# Descrição"
   ]
  },
  {
   "cell_type": "markdown",
   "metadata": {},
   "source": [
    "Neste notebook iremos formar a tabela deslocamento, com origem e destino."
   ]
  },
  {
   "cell_type": "markdown",
   "metadata": {},
   "source": [
    "# Tabelas base"
   ]
  },
  {
   "cell_type": "markdown",
   "metadata": {},
   "source": [
    "## Tabela Procedimentos"
   ]
  },
  {
   "cell_type": "markdown",
   "metadata": {},
   "source": [
    "### Colunas da tabela"
   ]
  },
  {
   "cell_type": "code",
   "execution_count": 2,
   "metadata": {},
   "outputs": [],
   "source": [
    "cols_deslc = {\n",
    "  'ano': 'ano',\n",
    "  'parto_normal': 'parto_normal',\n",
    "  'cod_municipio': 'origem',\n",
    "  'hosp_cod_municipio': 'destino',\n",
    "  'cnes': 'hosp_cnes',\n",
    "  'count': 'count',\n",
    "  ...: None,\n",
    "}"
   ]
  },
  {
   "cell_type": "markdown",
   "metadata": {},
   "source": [
    "### Linhas da tabela"
   ]
  },
  {
   "cell_type": "code",
   "execution_count": 3,
   "metadata": {},
   "outputs": [],
   "source": [
    "def filter_deslc(df):\n",
    "  df_filtered = df[\n",
    "    (\n",
    "      f.ano == 2010\n",
    "    ) | (\n",
    "      f.ano == 2011\n",
    "    ) | (\n",
    "      f.ano == 2018\n",
    "    ) | (\n",
    "      f.ano == 2019\n",
    "    ), :]\n",
    "  return df_filtered"
   ]
  },
  {
   "cell_type": "markdown",
   "metadata": {},
   "source": [
    "### Carregando tabela"
   ]
  },
  {
   "cell_type": "code",
   "execution_count": 4,
   "metadata": {},
   "outputs": [
    {
     "data": {
      "text/html": [
       "<div class='datatable'>\n",
       "  <table class='frame'>\n",
       "  <thead>\n",
       "    <tr class='colnames'><td class='row_index'></td><th>ano</th><th>parto_normal</th><th>hosp_cnes</th><th>destino</th><th>origem</th><th>count</th></tr>\n",
       "    <tr class='coltypes'><td class='row_index'></td><td class='int' title='int32'>&#x25AA;&#x25AA;&#x25AA;&#x25AA;</td><td class='bool' title='bool8'>&#x25AA;</td><td class='int' title='int32'>&#x25AA;&#x25AA;&#x25AA;&#x25AA;</td><td class='int' title='int32'>&#x25AA;&#x25AA;&#x25AA;&#x25AA;</td><td class='int' title='int32'>&#x25AA;&#x25AA;&#x25AA;&#x25AA;</td><td class='int' title='int32'>&#x25AA;&#x25AA;&#x25AA;&#x25AA;</td></tr>\n",
       "  </thead>\n",
       "  <tbody>\n",
       "    <tr><td class='row_index'>0</td><td>2010</td><td>1</td><td>2077701</td><td>355030</td><td>355030</td><td>4358</td></tr>\n",
       "    <tr><td class='row_index'>1</td><td>2010</td><td>1</td><td>2077388</td><td>355030</td><td>355030</td><td>4207</td></tr>\n",
       "    <tr><td class='row_index'>2</td><td>2010</td><td>1</td><td>3151794</td><td>130260</td><td>130260</td><td>4145</td></tr>\n",
       "    <tr><td class='row_index'>3</td><td>2010</td><td>1</td><td>10480</td><td>530010</td><td>530010</td><td>4099</td></tr>\n",
       "    <tr><td class='row_index'>4</td><td>2010</td><td>1</td><td>2079186</td><td>355030</td><td>355030</td><td>4059</td></tr>\n",
       "    <tr><td class='row_index'>5</td><td>2010</td><td>1</td><td>3956369</td><td>292740</td><td>292740</td><td>3935</td></tr>\n",
       "    <tr><td class='row_index'>6</td><td>2010</td><td>1</td><td>26794</td><td>310620</td><td>310620</td><td>3797</td></tr>\n",
       "    <tr><td class='row_index'>7</td><td>2010</td><td>1</td><td>2232</td><td>280030</td><td>280030</td><td>3533</td></tr>\n",
       "    <tr><td class='row_index'>8</td><td>2010</td><td>1</td><td>2270609</td><td>330455</td><td>330455</td><td>3386</td></tr>\n",
       "    <tr><td class='row_index'>9</td><td>2010</td><td>1</td><td>2040069</td><td>351880</td><td>351880</td><td>3213</td></tr>\n",
       "    <tr><td class='row_index'>10</td><td>2010</td><td>1</td><td>5703425</td><td>150420</td><td>150420</td><td>3203</td></tr>\n",
       "    <tr><td class='row_index'>11</td><td>2010</td><td>1</td><td>2020068</td><td>160030</td><td>160030</td><td>3194</td></tr>\n",
       "    <tr><td class='row_index'>12</td><td>2010</td><td>1</td><td>2280248</td><td>330455</td><td>330455</td><td>3095</td></tr>\n",
       "    <tr><td class='row_index'>13</td><td>2010</td><td>1</td><td>2566168</td><td>140010</td><td>140010</td><td>3063</td></tr>\n",
       "    <tr><td class='row_index'>14</td><td>2010</td><td>1</td><td>3004104</td><td>130260</td><td>130260</td><td>2952</td></tr>\n",
       "    <tr><td class='row_index'>&#x22EE;</td><td class='hellipsis'>&#x22EE;</td><td class='hellipsis'>&#x22EE;</td><td class='hellipsis'>&#x22EE;</td><td class='hellipsis'>&#x22EE;</td><td class='hellipsis'>&#x22EE;</td><td class='hellipsis'>&#x22EE;</td></tr>\n",
       "    <tr><td class='row_index'>187,466</td><td>2019</td><td>0</td><td>9923837</td><td>270430</td><td>355640</td><td>1</td></tr>\n",
       "    <tr><td class='row_index'>187,467</td><td>2019</td><td>0</td><td>9923837</td><td>270430</td><td>420910</td><td>1</td></tr>\n",
       "    <tr><td class='row_index'>187,468</td><td>2019</td><td>0</td><td>9923837</td><td>270430</td><td>510285</td><td>1</td></tr>\n",
       "    <tr><td class='row_index'>187,469</td><td>2019</td><td>0</td><td>9923837</td><td>270430</td><td>510622</td><td>1</td></tr>\n",
       "    <tr><td class='row_index'>187,470</td><td>2019</td><td>0</td><td>9923837</td><td>270430</td><td>510792</td><td>1</td></tr>\n",
       "  </tbody>\n",
       "  </table>\n",
       "  <div class='footer'>\n",
       "    <div class='frame_dimensions'>187,471 rows &times; 6 columns</div>\n",
       "  </div>\n",
       "</div>\n"
      ],
      "text/plain": [
       "<Frame#7fce01a1b720 187471x6>"
      ]
     },
     "execution_count": 4,
     "metadata": {},
     "output_type": "execute_result"
    }
   ],
   "source": [
    "path_deslc = get_path('GESTANTES', 'procedimentos.csv.gzip')\n",
    "df_deslc = dt.fread(path_deslc, columns=cols_deslc)\n",
    "df_deslc = filter_deslc(df_deslc)\n",
    "df_deslc"
   ]
  },
  {
   "cell_type": "markdown",
   "metadata": {},
   "source": [
    "### Atualizando variável ano (biênio)"
   ]
  },
  {
   "cell_type": "markdown",
   "metadata": {},
   "source": [
    "Valor da variável `bienio`:\n",
    "\n",
    "- `0 (False) = 2010/11`\n",
    "- `1 (True) = 2018/19`"
   ]
  },
  {
   "cell_type": "code",
   "execution_count": 5,
   "metadata": {},
   "outputs": [
    {
     "data": {
      "text/html": [
       "<div class='datatable'>\n",
       "  <table class='frame'>\n",
       "  <thead>\n",
       "    <tr class='colnames'><td class='row_index'></td><th>bienio</th><th>parto_normal</th><th>hosp_cnes</th><th>destino</th><th>origem</th><th>count</th></tr>\n",
       "    <tr class='coltypes'><td class='row_index'></td><td class='bool' title='bool8'>&#x25AA;</td><td class='bool' title='bool8'>&#x25AA;</td><td class='int' title='int32'>&#x25AA;&#x25AA;&#x25AA;&#x25AA;</td><td class='int' title='int32'>&#x25AA;&#x25AA;&#x25AA;&#x25AA;</td><td class='int' title='int32'>&#x25AA;&#x25AA;&#x25AA;&#x25AA;</td><td class='int' title='int32'>&#x25AA;&#x25AA;&#x25AA;&#x25AA;</td></tr>\n",
       "  </thead>\n",
       "  <tbody>\n",
       "    <tr><td class='row_index'>0</td><td>0</td><td>1</td><td>2077701</td><td>355030</td><td>355030</td><td>4358</td></tr>\n",
       "    <tr><td class='row_index'>1</td><td>0</td><td>1</td><td>2077388</td><td>355030</td><td>355030</td><td>4207</td></tr>\n",
       "    <tr><td class='row_index'>2</td><td>0</td><td>1</td><td>3151794</td><td>130260</td><td>130260</td><td>4145</td></tr>\n",
       "    <tr><td class='row_index'>3</td><td>0</td><td>1</td><td>10480</td><td>530010</td><td>530010</td><td>4099</td></tr>\n",
       "    <tr><td class='row_index'>4</td><td>0</td><td>1</td><td>2079186</td><td>355030</td><td>355030</td><td>4059</td></tr>\n",
       "    <tr><td class='row_index'>5</td><td>0</td><td>1</td><td>3956369</td><td>292740</td><td>292740</td><td>3935</td></tr>\n",
       "    <tr><td class='row_index'>6</td><td>0</td><td>1</td><td>26794</td><td>310620</td><td>310620</td><td>3797</td></tr>\n",
       "    <tr><td class='row_index'>7</td><td>0</td><td>1</td><td>2232</td><td>280030</td><td>280030</td><td>3533</td></tr>\n",
       "    <tr><td class='row_index'>8</td><td>0</td><td>1</td><td>2270609</td><td>330455</td><td>330455</td><td>3386</td></tr>\n",
       "    <tr><td class='row_index'>9</td><td>0</td><td>1</td><td>2040069</td><td>351880</td><td>351880</td><td>3213</td></tr>\n",
       "    <tr><td class='row_index'>10</td><td>0</td><td>1</td><td>5703425</td><td>150420</td><td>150420</td><td>3203</td></tr>\n",
       "    <tr><td class='row_index'>11</td><td>0</td><td>1</td><td>2020068</td><td>160030</td><td>160030</td><td>3194</td></tr>\n",
       "    <tr><td class='row_index'>12</td><td>0</td><td>1</td><td>2280248</td><td>330455</td><td>330455</td><td>3095</td></tr>\n",
       "    <tr><td class='row_index'>13</td><td>0</td><td>1</td><td>2566168</td><td>140010</td><td>140010</td><td>3063</td></tr>\n",
       "    <tr><td class='row_index'>14</td><td>0</td><td>1</td><td>3004104</td><td>130260</td><td>130260</td><td>2952</td></tr>\n",
       "    <tr><td class='row_index'>&#x22EE;</td><td class='hellipsis'>&#x22EE;</td><td class='hellipsis'>&#x22EE;</td><td class='hellipsis'>&#x22EE;</td><td class='hellipsis'>&#x22EE;</td><td class='hellipsis'>&#x22EE;</td><td class='hellipsis'>&#x22EE;</td></tr>\n",
       "    <tr><td class='row_index'>187,466</td><td>1</td><td>0</td><td>9923837</td><td>270430</td><td>355640</td><td>1</td></tr>\n",
       "    <tr><td class='row_index'>187,467</td><td>1</td><td>0</td><td>9923837</td><td>270430</td><td>420910</td><td>1</td></tr>\n",
       "    <tr><td class='row_index'>187,468</td><td>1</td><td>0</td><td>9923837</td><td>270430</td><td>510285</td><td>1</td></tr>\n",
       "    <tr><td class='row_index'>187,469</td><td>1</td><td>0</td><td>9923837</td><td>270430</td><td>510622</td><td>1</td></tr>\n",
       "    <tr><td class='row_index'>187,470</td><td>1</td><td>0</td><td>9923837</td><td>270430</td><td>510792</td><td>1</td></tr>\n",
       "  </tbody>\n",
       "  </table>\n",
       "  <div class='footer'>\n",
       "    <div class='frame_dimensions'>187,471 rows &times; 6 columns</div>\n",
       "  </div>\n",
       "</div>\n"
      ],
      "text/plain": [
       "<Frame#7fce01a1b720 187471x6>"
      ]
     },
     "execution_count": 5,
     "metadata": {},
     "output_type": "execute_result"
    }
   ],
   "source": [
    "df_deslc[:, dt.update(ano = (f.ano == 2018) | (f.ano == 2019))]\n",
    "df_deslc.names = {'ano': 'bienio'}\n",
    "df_deslc"
   ]
  },
  {
   "cell_type": "markdown",
   "metadata": {},
   "source": [
    "### Tabela agrupada"
   ]
  },
  {
   "cell_type": "code",
   "execution_count": 6,
   "metadata": {},
   "outputs": [
    {
     "data": {
      "text/html": [
       "<div class='datatable'>\n",
       "  <table class='frame'>\n",
       "  <thead>\n",
       "    <tr class='colnames'><td class='row_index'></td><th>bienio</th><th>parto_normal</th><th>hosp_cnes</th><th>destino</th><th>origem</th><th>count</th></tr>\n",
       "    <tr class='coltypes'><td class='row_index'></td><td class='bool' title='bool8'>&#x25AA;</td><td class='bool' title='bool8'>&#x25AA;</td><td class='int' title='int32'>&#x25AA;&#x25AA;&#x25AA;&#x25AA;</td><td class='int' title='int32'>&#x25AA;&#x25AA;&#x25AA;&#x25AA;</td><td class='int' title='int32'>&#x25AA;&#x25AA;&#x25AA;&#x25AA;</td><td class='int' title='int64'>&#x25AA;&#x25AA;&#x25AA;&#x25AA;&#x25AA;&#x25AA;&#x25AA;&#x25AA;</td></tr>\n",
       "  </thead>\n",
       "  <tbody>\n",
       "    <tr><td class='row_index'>0</td><td>0</td><td>0</td><td>27</td><td>260290</td><td>260290</td><td>1</td></tr>\n",
       "    <tr><td class='row_index'>1</td><td>0</td><td>0</td><td>27</td><td>260290</td><td>260720</td><td>1</td></tr>\n",
       "    <tr><td class='row_index'>2</td><td>0</td><td>0</td><td>94</td><td>260290</td><td>260140</td><td>2</td></tr>\n",
       "    <tr><td class='row_index'>3</td><td>0</td><td>0</td><td>94</td><td>260290</td><td>260290</td><td>2</td></tr>\n",
       "    <tr><td class='row_index'>4</td><td>0</td><td>0</td><td>94</td><td>260290</td><td>260345</td><td>2</td></tr>\n",
       "    <tr><td class='row_index'>5</td><td>0</td><td>0</td><td>94</td><td>260290</td><td>260400</td><td>1</td></tr>\n",
       "    <tr><td class='row_index'>6</td><td>0</td><td>0</td><td>94</td><td>260290</td><td>260520</td><td>2</td></tr>\n",
       "    <tr><td class='row_index'>7</td><td>0</td><td>0</td><td>94</td><td>260290</td><td>260540</td><td>2</td></tr>\n",
       "    <tr><td class='row_index'>8</td><td>0</td><td>0</td><td>94</td><td>260290</td><td>260640</td><td>2</td></tr>\n",
       "    <tr><td class='row_index'>9</td><td>0</td><td>0</td><td>94</td><td>260290</td><td>260680</td><td>1</td></tr>\n",
       "    <tr><td class='row_index'>10</td><td>0</td><td>0</td><td>94</td><td>260290</td><td>260720</td><td>2</td></tr>\n",
       "    <tr><td class='row_index'>11</td><td>0</td><td>0</td><td>94</td><td>260290</td><td>260790</td><td>2</td></tr>\n",
       "    <tr><td class='row_index'>12</td><td>0</td><td>0</td><td>94</td><td>260290</td><td>260960</td><td>2</td></tr>\n",
       "    <tr><td class='row_index'>13</td><td>0</td><td>0</td><td>94</td><td>260290</td><td>261000</td><td>1</td></tr>\n",
       "    <tr><td class='row_index'>14</td><td>0</td><td>0</td><td>94</td><td>260290</td><td>261060</td><td>1</td></tr>\n",
       "    <tr><td class='row_index'>&#x22EE;</td><td class='hellipsis'>&#x22EE;</td><td class='hellipsis'>&#x22EE;</td><td class='hellipsis'>&#x22EE;</td><td class='hellipsis'>&#x22EE;</td><td class='hellipsis'>&#x22EE;</td><td class='hellipsis'>&#x22EE;</td></tr>\n",
       "    <tr><td class='row_index'>124,980</td><td>1</td><td>1</td><td>9923837</td><td>270430</td><td>315980</td><td>1</td></tr>\n",
       "    <tr><td class='row_index'>124,981</td><td>1</td><td>1</td><td>9923837</td><td>270430</td><td>350400</td><td>1</td></tr>\n",
       "    <tr><td class='row_index'>124,982</td><td>1</td><td>1</td><td>9923837</td><td>270430</td><td>351880</td><td>1</td></tr>\n",
       "    <tr><td class='row_index'>124,983</td><td>1</td><td>1</td><td>9923837</td><td>270430</td><td>354100</td><td>1</td></tr>\n",
       "    <tr><td class='row_index'>124,984</td><td>1</td><td>1</td><td>9923837</td><td>270430</td><td>510623</td><td>1</td></tr>\n",
       "  </tbody>\n",
       "  </table>\n",
       "  <div class='footer'>\n",
       "    <div class='frame_dimensions'>124,985 rows &times; 6 columns</div>\n",
       "  </div>\n",
       "</div>\n"
      ],
      "text/plain": [
       "<Frame#7fce028a6de0 124985x6>"
      ]
     },
     "execution_count": 6,
     "metadata": {},
     "output_type": "execute_result"
    }
   ],
   "source": [
    "df_deslc = group_cols(df_deslc, df_deslc.names[:-1])\n",
    "df_deslc"
   ]
  },
  {
   "cell_type": "markdown",
   "metadata": {},
   "source": [
    "- with all: `3_355_691` rows\n",
    "- without age: `461_276` rows\n",
    "- without age and cnes: `98_055` rows"
   ]
  },
  {
   "cell_type": "markdown",
   "metadata": {},
   "source": [
    "## Tabela Municípios"
   ]
  },
  {
   "cell_type": "markdown",
   "metadata": {},
   "source": [
    "### Colunas da tabela"
   ]
  },
  {
   "cell_type": "code",
   "execution_count": 7,
   "metadata": {},
   "outputs": [],
   "source": [
    "cols_mun = {\n",
    "  'cod_municipio': 'origem',\n",
    "  'regiao': 'regiao',\n",
    "  'uf': 'uf',\n",
    "  'cod_regiao_saude': 'regiao_saude',\n",
    "  'nome_regiao_saude': 'nome_regiao_saude',\n",
    "  'municipio': 'municipio',\n",
    "  'capital': 'capital',\n",
    "  'latitude': 'latitude',\n",
    "  'longitude': 'longitude',\n",
    "  'socioecon': 'socioecon',\n",
    "  ...: None\n",
    "}"
   ]
  },
  {
   "cell_type": "code",
   "execution_count": 8,
   "metadata": {},
   "outputs": [],
   "source": [
    "cols_mun_hosp = {\n",
    "  'cod_municipio': 'destino',\n",
    "  'uf': 'hosp_uf',\n",
    "  'cod_regiao_saude': 'hosp_regiao_saude',\n",
    "  'latitude': 'hosp_latitude',\n",
    "  'longitude': 'hosp_longitude',\n",
    "  ...: None\n",
    "}"
   ]
  },
  {
   "cell_type": "markdown",
   "metadata": {},
   "source": [
    "### Carregando tabela"
   ]
  },
  {
   "cell_type": "code",
   "execution_count": 9,
   "metadata": {},
   "outputs": [
    {
     "data": {
      "text/html": [
       "<div class='datatable'>\n",
       "  <table class='frame'>\n",
       "  <thead>\n",
       "    <tr class='colnames'><td class='row_index'></td><th>origem</th><th>capital</th><th>regiao_saude</th><th>nome_regiao_saude</th><th>uf</th><th>regiao</th><th>socioecon</th><th>latitude</th><th>longitude</th></tr>\n",
       "    <tr class='coltypes'><td class='row_index'></td><td class='int' title='int32'>&#x25AA;&#x25AA;&#x25AA;&#x25AA;</td><td class='bool' title='bool8'>&#x25AA;</td><td class='int' title='int32'>&#x25AA;&#x25AA;&#x25AA;&#x25AA;</td><td class='str' title='str32'>&#x25AA;&#x25AA;&#x25AA;&#x25AA;</td><td class='str' title='str32'>&#x25AA;&#x25AA;&#x25AA;&#x25AA;</td><td class='str' title='str32'>&#x25AA;&#x25AA;&#x25AA;&#x25AA;</td><td class='int' title='int32'>&#x25AA;&#x25AA;&#x25AA;&#x25AA;</td><td class='float' title='float64'>&#x25AA;&#x25AA;&#x25AA;&#x25AA;&#x25AA;&#x25AA;&#x25AA;&#x25AA;</td><td class='float' title='float64'>&#x25AA;&#x25AA;&#x25AA;&#x25AA;&#x25AA;&#x25AA;&#x25AA;&#x25AA;</td></tr>\n",
       "  </thead>\n",
       "  <tbody>\n",
       "    <tr><td class='row_index'>0</td><td>520005</td><td>0</td><td>52001</td><td>Central</td><td>GO</td><td>Centro-Oeste</td><td>5</td><td>&minus;16.7573</td><td>&minus;49.4412</td></tr>\n",
       "    <tr><td class='row_index'>1</td><td>310010</td><td>0</td><td>31052</td><td>Patrocínio Monte Carmelo</td><td>MG</td><td>Sudeste</td><td>2</td><td>&minus;18.4831</td><td>&minus;47.3916</td></tr>\n",
       "    <tr><td class='row_index'>2</td><td>520010</td><td>0</td><td>52011</td><td>Pirineus</td><td>GO</td><td>Centro-Oeste</td><td>3</td><td>&minus;16.197</td><td>&minus;48.7057</td></tr>\n",
       "    <tr><td class='row_index'>3</td><td>310020</td><td>0</td><td>31067</td><td>Sete Lagoas</td><td>MG</td><td>Sudeste</td><td>3</td><td>&minus;19.1551</td><td>&minus;45.4444</td></tr>\n",
       "    <tr><td class='row_index'>4</td><td>150010</td><td>0</td><td>15011</td><td>Tocantins</td><td>PA</td><td>Norte</td><td>1</td><td>&minus;1.72183</td><td>&minus;48.8788</td></tr>\n",
       "    <tr><td class='row_index'>5</td><td>230010</td><td>0</td><td>23019</td><td>19ª Região Brejo Santo</td><td>CE</td><td>Nordeste</td><td>1</td><td>&minus;7.34588</td><td>&minus;39.0416</td></tr>\n",
       "    <tr><td class='row_index'>6</td><td>290010</td><td>0</td><td>29023</td><td>Seabra</td><td>BA</td><td>Nordeste</td><td>1</td><td>&minus;13.2488</td><td>&minus;41.6619</td></tr>\n",
       "    <tr><td class='row_index'>7</td><td>290020</td><td>0</td><td>29017</td><td>Paulo Afonso</td><td>BA</td><td>Nordeste</td><td>1</td><td>&minus;8.72073</td><td>&minus;39.1162</td></tr>\n",
       "    <tr><td class='row_index'>8</td><td>410010</td><td>0</td><td>41018</td><td>18ª RS Cornélio Procópio</td><td>PR</td><td>Sul</td><td>3</td><td>&minus;23.3049</td><td>&minus;50.3133</td></tr>\n",
       "    <tr><td class='row_index'>9</td><td>420005</td><td>0</td><td>42008</td><td>Meio Oeste</td><td>SC</td><td>Sul</td><td>3</td><td>&minus;27.6126</td><td>&minus;51.0233</td></tr>\n",
       "    <tr><td class='row_index'>10</td><td>150013</td><td>0</td><td>15003</td><td>Carajás</td><td>PA</td><td>Norte</td><td>2</td><td>&minus;4.95333</td><td>&minus;48.3933</td></tr>\n",
       "    <tr><td class='row_index'>11</td><td>420010</td><td>0</td><td>42003</td><td>Xanxerê</td><td>SC</td><td>Sul</td><td>3</td><td>&minus;26.5716</td><td>&minus;52.3229</td></tr>\n",
       "    <tr><td class='row_index'>12</td><td>310030</td><td>0</td><td>31041</td><td>Manhuaçu</td><td>MG</td><td>Sudeste</td><td>1</td><td>&minus;20.2996</td><td>&minus;42.4743</td></tr>\n",
       "    <tr><td class='row_index'>13</td><td>260005</td><td>0</td><td>26010</td><td>Recife</td><td>PE</td><td>Nordeste</td><td>5</td><td>&minus;7.90072</td><td>&minus;34.8984</td></tr>\n",
       "    <tr><td class='row_index'>14</td><td>170025</td><td>0</td><td>17007</td><td>Cantão</td><td>TO</td><td>Norte</td><td>2</td><td>&minus;9.62101</td><td>&minus;49.1518</td></tr>\n",
       "    <tr><td class='row_index'>&#x22EE;</td><td class='hellipsis'>&#x22EE;</td><td class='hellipsis'>&#x22EE;</td><td class='hellipsis'>&#x22EE;</td><td class='hellipsis'>&#x22EE;</td><td class='hellipsis'>&#x22EE;</td><td class='hellipsis'>&#x22EE;</td><td class='hellipsis'>&#x22EE;</td><td class='hellipsis'>&#x22EE;</td><td class='hellipsis'>&#x22EE;</td></tr>\n",
       "    <tr><td class='row_index'>5565</td><td>293360</td><td>0</td><td>29010</td><td>Irecê</td><td>BA</td><td>Nordeste</td><td>1</td><td>&minus;10.823</td><td>&minus;42.7245</td></tr>\n",
       "    <tr><td class='row_index'>5566</td><td>251740</td><td>0</td><td>25005</td><td>5ª Região</td><td>PB</td><td>Nordeste</td><td>1</td><td>&minus;8.07901</td><td>&minus;37.1057</td></tr>\n",
       "    <tr><td class='row_index'>5567</td><td>355715</td><td>0</td><td>35156</td><td>José Bonifácio</td><td>SP</td><td>Sudeste</td><td>3</td><td>&minus;21.0506</td><td>&minus;50.0552</td></tr>\n",
       "    <tr><td class='row_index'>5568</td><td>211400</td><td>0</td><td>21019</td><td>Zé Doca</td><td>MA</td><td>Nordeste</td><td>1</td><td>&minus;3.27014</td><td>&minus;45.6553</td></tr>\n",
       "    <tr><td class='row_index'>5569</td><td>421985</td><td>0</td><td>42008</td><td>Meio Oeste</td><td>SC</td><td>Sul</td><td>3</td><td>&minus;27.4521</td><td>&minus;51.552</td></tr>\n",
       "  </tbody>\n",
       "  </table>\n",
       "  <div class='footer'>\n",
       "    <div class='frame_dimensions'>5570 rows &times; 9 columns</div>\n",
       "  </div>\n",
       "</div>\n"
      ],
      "text/plain": [
       "<Frame#7fce01a1b180 5570x9>"
      ]
     },
     "execution_count": 9,
     "metadata": {},
     "output_type": "execute_result"
    }
   ],
   "source": [
    "path_mun = get_path('GESTANTES', 'municipios.csv.gzip')\n",
    "df_mun = dt.fread(path_mun, columns=cols_mun)\n",
    "df_mun"
   ]
  },
  {
   "cell_type": "code",
   "execution_count": 10,
   "metadata": {},
   "outputs": [
    {
     "data": {
      "text/html": [
       "<div class='datatable'>\n",
       "  <table class='frame'>\n",
       "  <thead>\n",
       "    <tr class='colnames'><td class='row_index'></td><th>destino</th><th>hosp_regiao_saude</th><th>hosp_uf</th><th>hosp_latitude</th><th>hosp_longitude</th></tr>\n",
       "    <tr class='coltypes'><td class='row_index'></td><td class='int' title='int32'>&#x25AA;&#x25AA;&#x25AA;&#x25AA;</td><td class='int' title='int32'>&#x25AA;&#x25AA;&#x25AA;&#x25AA;</td><td class='str' title='str32'>&#x25AA;&#x25AA;&#x25AA;&#x25AA;</td><td class='float' title='float64'>&#x25AA;&#x25AA;&#x25AA;&#x25AA;&#x25AA;&#x25AA;&#x25AA;&#x25AA;</td><td class='float' title='float64'>&#x25AA;&#x25AA;&#x25AA;&#x25AA;&#x25AA;&#x25AA;&#x25AA;&#x25AA;</td></tr>\n",
       "  </thead>\n",
       "  <tbody>\n",
       "    <tr><td class='row_index'>0</td><td>520005</td><td>52001</td><td>GO</td><td>&minus;16.7573</td><td>&minus;49.4412</td></tr>\n",
       "    <tr><td class='row_index'>1</td><td>310010</td><td>31052</td><td>MG</td><td>&minus;18.4831</td><td>&minus;47.3916</td></tr>\n",
       "    <tr><td class='row_index'>2</td><td>520010</td><td>52011</td><td>GO</td><td>&minus;16.197</td><td>&minus;48.7057</td></tr>\n",
       "    <tr><td class='row_index'>3</td><td>310020</td><td>31067</td><td>MG</td><td>&minus;19.1551</td><td>&minus;45.4444</td></tr>\n",
       "    <tr><td class='row_index'>4</td><td>150010</td><td>15011</td><td>PA</td><td>&minus;1.72183</td><td>&minus;48.8788</td></tr>\n",
       "    <tr><td class='row_index'>5</td><td>230010</td><td>23019</td><td>CE</td><td>&minus;7.34588</td><td>&minus;39.0416</td></tr>\n",
       "    <tr><td class='row_index'>6</td><td>290010</td><td>29023</td><td>BA</td><td>&minus;13.2488</td><td>&minus;41.6619</td></tr>\n",
       "    <tr><td class='row_index'>7</td><td>290020</td><td>29017</td><td>BA</td><td>&minus;8.72073</td><td>&minus;39.1162</td></tr>\n",
       "    <tr><td class='row_index'>8</td><td>410010</td><td>41018</td><td>PR</td><td>&minus;23.3049</td><td>&minus;50.3133</td></tr>\n",
       "    <tr><td class='row_index'>9</td><td>420005</td><td>42008</td><td>SC</td><td>&minus;27.6126</td><td>&minus;51.0233</td></tr>\n",
       "    <tr><td class='row_index'>10</td><td>150013</td><td>15003</td><td>PA</td><td>&minus;4.95333</td><td>&minus;48.3933</td></tr>\n",
       "    <tr><td class='row_index'>11</td><td>420010</td><td>42003</td><td>SC</td><td>&minus;26.5716</td><td>&minus;52.3229</td></tr>\n",
       "    <tr><td class='row_index'>12</td><td>310030</td><td>31041</td><td>MG</td><td>&minus;20.2996</td><td>&minus;42.4743</td></tr>\n",
       "    <tr><td class='row_index'>13</td><td>260005</td><td>26010</td><td>PE</td><td>&minus;7.90072</td><td>&minus;34.8984</td></tr>\n",
       "    <tr><td class='row_index'>14</td><td>170025</td><td>17007</td><td>TO</td><td>&minus;9.62101</td><td>&minus;49.1518</td></tr>\n",
       "    <tr><td class='row_index'>&#x22EE;</td><td class='hellipsis'>&#x22EE;</td><td class='hellipsis'>&#x22EE;</td><td class='hellipsis'>&#x22EE;</td><td class='hellipsis'>&#x22EE;</td><td class='hellipsis'>&#x22EE;</td></tr>\n",
       "    <tr><td class='row_index'>5565</td><td>293360</td><td>29010</td><td>BA</td><td>&minus;10.823</td><td>&minus;42.7245</td></tr>\n",
       "    <tr><td class='row_index'>5566</td><td>251740</td><td>25005</td><td>PB</td><td>&minus;8.07901</td><td>&minus;37.1057</td></tr>\n",
       "    <tr><td class='row_index'>5567</td><td>355715</td><td>35156</td><td>SP</td><td>&minus;21.0506</td><td>&minus;50.0552</td></tr>\n",
       "    <tr><td class='row_index'>5568</td><td>211400</td><td>21019</td><td>MA</td><td>&minus;3.27014</td><td>&minus;45.6553</td></tr>\n",
       "    <tr><td class='row_index'>5569</td><td>421985</td><td>42008</td><td>SC</td><td>&minus;27.4521</td><td>&minus;51.552</td></tr>\n",
       "  </tbody>\n",
       "  </table>\n",
       "  <div class='footer'>\n",
       "    <div class='frame_dimensions'>5570 rows &times; 5 columns</div>\n",
       "  </div>\n",
       "</div>\n"
      ],
      "text/plain": [
       "<Frame#7fcdf1694f30 5570x5>"
      ]
     },
     "execution_count": 10,
     "metadata": {},
     "output_type": "execute_result"
    }
   ],
   "source": [
    "df_mun_hosp = dt.fread(path_mun, columns=cols_mun_hosp)\n",
    "df_mun_hosp"
   ]
  },
  {
   "cell_type": "markdown",
   "metadata": {},
   "source": [
    "### Abreviando valores coluna Região"
   ]
  },
  {
   "cell_type": "code",
   "execution_count": 11,
   "metadata": {},
   "outputs": [],
   "source": [
    "regioes = {\n",
    "  'Norte': 'NT',\n",
    "  'Nordeste': 'ND',\n",
    "  'Centro-Oeste': 'CO',\n",
    "  'Sudeste': 'SD',\n",
    "  'Sul': 'SL',\n",
    "}"
   ]
  },
  {
   "cell_type": "code",
   "execution_count": 12,
   "metadata": {},
   "outputs": [
    {
     "data": {
      "text/html": [
       "<div class='datatable'>\n",
       "  <table class='frame'>\n",
       "  <thead>\n",
       "    <tr class='colnames'><td class='row_index'></td><th>origem</th><th>capital</th><th>regiao_saude</th><th>nome_regiao_saude</th><th>uf</th><th>regiao</th><th>socioecon</th><th>latitude</th><th>longitude</th></tr>\n",
       "    <tr class='coltypes'><td class='row_index'></td><td class='int' title='int32'>&#x25AA;&#x25AA;&#x25AA;&#x25AA;</td><td class='bool' title='bool8'>&#x25AA;</td><td class='int' title='int32'>&#x25AA;&#x25AA;&#x25AA;&#x25AA;</td><td class='str' title='str32'>&#x25AA;&#x25AA;&#x25AA;&#x25AA;</td><td class='str' title='str32'>&#x25AA;&#x25AA;&#x25AA;&#x25AA;</td><td class='str' title='str32'>&#x25AA;&#x25AA;&#x25AA;&#x25AA;</td><td class='int' title='int32'>&#x25AA;&#x25AA;&#x25AA;&#x25AA;</td><td class='float' title='float64'>&#x25AA;&#x25AA;&#x25AA;&#x25AA;&#x25AA;&#x25AA;&#x25AA;&#x25AA;</td><td class='float' title='float64'>&#x25AA;&#x25AA;&#x25AA;&#x25AA;&#x25AA;&#x25AA;&#x25AA;&#x25AA;</td></tr>\n",
       "  </thead>\n",
       "  <tbody>\n",
       "    <tr><td class='row_index'>0</td><td>520005</td><td>0</td><td>52001</td><td>Central</td><td>GO</td><td>CO</td><td>5</td><td>&minus;16.7573</td><td>&minus;49.4412</td></tr>\n",
       "    <tr><td class='row_index'>1</td><td>310010</td><td>0</td><td>31052</td><td>Patrocínio Monte Carmelo</td><td>MG</td><td>SD</td><td>2</td><td>&minus;18.4831</td><td>&minus;47.3916</td></tr>\n",
       "    <tr><td class='row_index'>2</td><td>520010</td><td>0</td><td>52011</td><td>Pirineus</td><td>GO</td><td>CO</td><td>3</td><td>&minus;16.197</td><td>&minus;48.7057</td></tr>\n",
       "    <tr><td class='row_index'>3</td><td>310020</td><td>0</td><td>31067</td><td>Sete Lagoas</td><td>MG</td><td>SD</td><td>3</td><td>&minus;19.1551</td><td>&minus;45.4444</td></tr>\n",
       "    <tr><td class='row_index'>4</td><td>150010</td><td>0</td><td>15011</td><td>Tocantins</td><td>PA</td><td>NT</td><td>1</td><td>&minus;1.72183</td><td>&minus;48.8788</td></tr>\n",
       "    <tr><td class='row_index'>5</td><td>230010</td><td>0</td><td>23019</td><td>19ª Região Brejo Santo</td><td>CE</td><td>ND</td><td>1</td><td>&minus;7.34588</td><td>&minus;39.0416</td></tr>\n",
       "    <tr><td class='row_index'>6</td><td>290010</td><td>0</td><td>29023</td><td>Seabra</td><td>BA</td><td>ND</td><td>1</td><td>&minus;13.2488</td><td>&minus;41.6619</td></tr>\n",
       "    <tr><td class='row_index'>7</td><td>290020</td><td>0</td><td>29017</td><td>Paulo Afonso</td><td>BA</td><td>ND</td><td>1</td><td>&minus;8.72073</td><td>&minus;39.1162</td></tr>\n",
       "    <tr><td class='row_index'>8</td><td>410010</td><td>0</td><td>41018</td><td>18ª RS Cornélio Procópio</td><td>PR</td><td>SL</td><td>3</td><td>&minus;23.3049</td><td>&minus;50.3133</td></tr>\n",
       "    <tr><td class='row_index'>9</td><td>420005</td><td>0</td><td>42008</td><td>Meio Oeste</td><td>SC</td><td>SL</td><td>3</td><td>&minus;27.6126</td><td>&minus;51.0233</td></tr>\n",
       "    <tr><td class='row_index'>10</td><td>150013</td><td>0</td><td>15003</td><td>Carajás</td><td>PA</td><td>NT</td><td>2</td><td>&minus;4.95333</td><td>&minus;48.3933</td></tr>\n",
       "    <tr><td class='row_index'>11</td><td>420010</td><td>0</td><td>42003</td><td>Xanxerê</td><td>SC</td><td>SL</td><td>3</td><td>&minus;26.5716</td><td>&minus;52.3229</td></tr>\n",
       "    <tr><td class='row_index'>12</td><td>310030</td><td>0</td><td>31041</td><td>Manhuaçu</td><td>MG</td><td>SD</td><td>1</td><td>&minus;20.2996</td><td>&minus;42.4743</td></tr>\n",
       "    <tr><td class='row_index'>13</td><td>260005</td><td>0</td><td>26010</td><td>Recife</td><td>PE</td><td>ND</td><td>5</td><td>&minus;7.90072</td><td>&minus;34.8984</td></tr>\n",
       "    <tr><td class='row_index'>14</td><td>170025</td><td>0</td><td>17007</td><td>Cantão</td><td>TO</td><td>NT</td><td>2</td><td>&minus;9.62101</td><td>&minus;49.1518</td></tr>\n",
       "    <tr><td class='row_index'>&#x22EE;</td><td class='hellipsis'>&#x22EE;</td><td class='hellipsis'>&#x22EE;</td><td class='hellipsis'>&#x22EE;</td><td class='hellipsis'>&#x22EE;</td><td class='hellipsis'>&#x22EE;</td><td class='hellipsis'>&#x22EE;</td><td class='hellipsis'>&#x22EE;</td><td class='hellipsis'>&#x22EE;</td><td class='hellipsis'>&#x22EE;</td></tr>\n",
       "    <tr><td class='row_index'>5565</td><td>293360</td><td>0</td><td>29010</td><td>Irecê</td><td>BA</td><td>ND</td><td>1</td><td>&minus;10.823</td><td>&minus;42.7245</td></tr>\n",
       "    <tr><td class='row_index'>5566</td><td>251740</td><td>0</td><td>25005</td><td>5ª Região</td><td>PB</td><td>ND</td><td>1</td><td>&minus;8.07901</td><td>&minus;37.1057</td></tr>\n",
       "    <tr><td class='row_index'>5567</td><td>355715</td><td>0</td><td>35156</td><td>José Bonifácio</td><td>SP</td><td>SD</td><td>3</td><td>&minus;21.0506</td><td>&minus;50.0552</td></tr>\n",
       "    <tr><td class='row_index'>5568</td><td>211400</td><td>0</td><td>21019</td><td>Zé Doca</td><td>MA</td><td>ND</td><td>1</td><td>&minus;3.27014</td><td>&minus;45.6553</td></tr>\n",
       "    <tr><td class='row_index'>5569</td><td>421985</td><td>0</td><td>42008</td><td>Meio Oeste</td><td>SC</td><td>SL</td><td>3</td><td>&minus;27.4521</td><td>&minus;51.552</td></tr>\n",
       "  </tbody>\n",
       "  </table>\n",
       "  <div class='footer'>\n",
       "    <div class='frame_dimensions'>5570 rows &times; 9 columns</div>\n",
       "  </div>\n",
       "</div>\n"
      ],
      "text/plain": [
       "<Frame#7fce01a1b180 5570x9>"
      ]
     },
     "execution_count": 12,
     "metadata": {},
     "output_type": "execute_result"
    }
   ],
   "source": [
    "reg = df_mun[:, 'regiao']\n",
    "reg.replace(regioes)\n",
    "df_mun['regiao'] = reg\n",
    "df_mun"
   ]
  },
  {
   "cell_type": "markdown",
   "metadata": {},
   "source": [
    "## Tabela Distâncias"
   ]
  },
  {
   "cell_type": "markdown",
   "metadata": {},
   "source": [
    "### Carregando tabela"
   ]
  },
  {
   "cell_type": "code",
   "execution_count": 13,
   "metadata": {},
   "outputs": [
    {
     "data": {
      "text/html": [
       "<div class='datatable'>\n",
       "  <table class='frame'>\n",
       "  <thead>\n",
       "    <tr class='colnames'><td class='row_index'></td><th>origem</th><th>destino</th><th>distancia</th><th>tempo</th></tr>\n",
       "    <tr class='coltypes'><td class='row_index'></td><td class='int' title='int32'>&#x25AA;&#x25AA;&#x25AA;&#x25AA;</td><td class='int' title='int32'>&#x25AA;&#x25AA;&#x25AA;&#x25AA;</td><td class='float' title='float64'>&#x25AA;&#x25AA;&#x25AA;&#x25AA;&#x25AA;&#x25AA;&#x25AA;&#x25AA;</td><td class='float' title='float64'>&#x25AA;&#x25AA;&#x25AA;&#x25AA;&#x25AA;&#x25AA;&#x25AA;&#x25AA;</td></tr>\n",
       "  </thead>\n",
       "  <tbody>\n",
       "    <tr><td class='row_index'>0</td><td>355030</td><td>355030</td><td>0</td><td>0</td></tr>\n",
       "    <tr><td class='row_index'>1</td><td>351880</td><td>355030</td><td>19.7358</td><td>0.407306</td></tr>\n",
       "    <tr><td class='row_index'>2</td><td>330455</td><td>330455</td><td>0</td><td>0</td></tr>\n",
       "    <tr><td class='row_index'>3</td><td>352310</td><td>355030</td><td>42.4207</td><td>0.667611</td></tr>\n",
       "    <tr><td class='row_index'>4</td><td>330350</td><td>330455</td><td>36.809</td><td>0.511</td></tr>\n",
       "    <tr><td class='row_index'>5</td><td>330170</td><td>330455</td><td>20.8512</td><td>0.317583</td></tr>\n",
       "    <tr><td class='row_index'>6</td><td>530010</td><td>530010</td><td>0</td><td>0</td></tr>\n",
       "    <tr><td class='row_index'>7</td><td>351570</td><td>355030</td><td>39.7046</td><td>0.739528</td></tr>\n",
       "    <tr><td class='row_index'>8</td><td>230440</td><td>230440</td><td>0</td><td>0</td></tr>\n",
       "    <tr><td class='row_index'>9</td><td>330045</td><td>330455</td><td>31.2666</td><td>0.469667</td></tr>\n",
       "    <tr><td class='row_index'>10</td><td>330510</td><td>330455</td><td>25.6388</td><td>0.3935</td></tr>\n",
       "    <tr><td class='row_index'>11</td><td>353440</td><td>355030</td><td>23.151</td><td>0.460583</td></tr>\n",
       "    <tr><td class='row_index'>12</td><td>230370</td><td>230440</td><td>16.7161</td><td>0.344111</td></tr>\n",
       "    <tr><td class='row_index'>13</td><td>230765</td><td>230440</td><td>24.6276</td><td>0.501389</td></tr>\n",
       "    <tr><td class='row_index'>14</td><td>230960</td><td>230440</td><td>55.9577</td><td>0.878444</td></tr>\n",
       "    <tr><td class='row_index'>&#x22EE;</td><td class='hellipsis'>&#x22EE;</td><td class='hellipsis'>&#x22EE;</td><td class='hellipsis'>&#x22EE;</td><td class='hellipsis'>&#x22EE;</td></tr>\n",
       "    <tr><td class='row_index'>71,833</td><td>530010</td><td>521308</td><td>376.351</td><td>6.00058</td></tr>\n",
       "    <tr><td class='row_index'>71,834</td><td>530010</td><td>521770</td><td>328.373</td><td>4.72139</td></tr>\n",
       "    <tr><td class='row_index'>71,835</td><td>530010</td><td>522000</td><td>153.655</td><td>2.43711</td></tr>\n",
       "    <tr><td class='row_index'>71,836</td><td>530010</td><td>522020</td><td>515.668</td><td>6.85197</td></tr>\n",
       "    <tr><td class='row_index'>71,837</td><td>530010</td><td>522045</td><td>207.413</td><td>3.05281</td></tr>\n",
       "  </tbody>\n",
       "  </table>\n",
       "  <div class='footer'>\n",
       "    <div class='frame_dimensions'>71,838 rows &times; 4 columns</div>\n",
       "  </div>\n",
       "</div>\n"
      ],
      "text/plain": [
       "<Frame#7fce0263af30 71838x4>"
      ]
     },
     "execution_count": 13,
     "metadata": {},
     "output_type": "execute_result"
    }
   ],
   "source": [
    "output_dist = get_path('GESTANTES', 'distancias.csv.gzip')\n",
    "df_dist = dt.fread(output_dist)\n",
    "df_dist = df_dist[:, df_dist.names[:-1]]\n",
    "df_dist"
   ]
  },
  {
   "cell_type": "markdown",
   "metadata": {},
   "source": [
    "# Gerando tabela"
   ]
  },
  {
   "cell_type": "markdown",
   "metadata": {},
   "source": [
    "## Juntando com outras"
   ]
  },
  {
   "cell_type": "markdown",
   "metadata": {},
   "source": [
    "### Juntando com Distâncias"
   ]
  },
  {
   "cell_type": "code",
   "execution_count": 14,
   "metadata": {},
   "outputs": [
    {
     "data": {
      "text/html": [
       "<div class='datatable'>\n",
       "  <table class='frame'>\n",
       "  <thead>\n",
       "    <tr class='colnames'><th class='row_index'>origem</th><th class='row_index'>destino</th><th>distancia</th><th>tempo</th></tr>\n",
       "    <tr class='coltypes'><td class='int' title='int32'>&#x25AA;&#x25AA;&#x25AA;&#x25AA;</td><td class='int' title='int32'>&#x25AA;&#x25AA;&#x25AA;&#x25AA;</td><td class='float' title='float64'>&#x25AA;&#x25AA;&#x25AA;&#x25AA;&#x25AA;&#x25AA;&#x25AA;&#x25AA;</td><td class='float' title='float64'>&#x25AA;&#x25AA;&#x25AA;&#x25AA;&#x25AA;&#x25AA;&#x25AA;&#x25AA;</td></tr>\n",
       "  </thead>\n",
       "  <tbody>\n",
       "    <tr><td class='row_index'>110001</td><td class='row_index'>110001</td><td>0</td><td>0</td></tr>\n",
       "    <tr><td class='row_index'>110001</td><td class='row_index'>110002</td><td>309.05</td><td>6.16906</td></tr>\n",
       "    <tr><td class='row_index'>110001</td><td class='row_index'>110004</td><td>81.2011</td><td>1.91775</td></tr>\n",
       "    <tr><td class='row_index'>110001</td><td class='row_index'>110006</td><td>353.417</td><td>5.53989</td></tr>\n",
       "    <tr><td class='row_index'>110001</td><td class='row_index'>110009</td><td>145.678</td><td>2.346</td></tr>\n",
       "    <tr><td class='row_index'>110001</td><td class='row_index'>110012</td><td>130.77</td><td>2.54781</td></tr>\n",
       "    <tr><td class='row_index'>110001</td><td class='row_index'>110013</td><td>357.511</td><td>7.13067</td></tr>\n",
       "    <tr><td class='row_index'>110001</td><td class='row_index'>110015</td><td>172.926</td><td>3.18425</td></tr>\n",
       "    <tr><td class='row_index'>110001</td><td class='row_index'>110018</td><td>114.061</td><td>1.87139</td></tr>\n",
       "    <tr><td class='row_index'>110001</td><td class='row_index'>110020</td><td>505.856</td><td>9.16514</td></tr>\n",
       "    <tr><td class='row_index'>110001</td><td class='row_index'>110025</td><td>96.6065</td><td>1.98553</td></tr>\n",
       "    <tr><td class='row_index'>110001</td><td class='row_index'>110028</td><td>48.6099</td><td>0.835667</td></tr>\n",
       "    <tr><td class='row_index'>110001</td><td class='row_index'>110030</td><td>297.455</td><td>4.71864</td></tr>\n",
       "    <tr><td class='row_index'>110001</td><td class='row_index'>110149</td><td>217.355</td><td>3.67378</td></tr>\n",
       "    <tr><td class='row_index'>110001</td><td class='row_index'>110150</td><td>153.337</td><td>2.8455</td></tr>\n",
       "    <tr><td class='hellipsis'>&#x22EE;</td><td class='hellipsis'>&#x22EE;</td><td class='hellipsis'>&#x22EE;</td><td class='hellipsis'>&#x22EE;</td></tr>\n",
       "    <tr><td class='row_index'>530010</td><td class='row_index'>522020</td><td>515.668</td><td>6.85197</td></tr>\n",
       "    <tr><td class='row_index'>530010</td><td class='row_index'>522045</td><td>207.413</td><td>3.05281</td></tr>\n",
       "    <tr><td class='row_index'>530010</td><td class='row_index'>522068</td><td>255.555</td><td>3.338</td></tr>\n",
       "    <tr><td class='row_index'>530010</td><td class='row_index'>522200</td><td>161.729</td><td>2.356</td></tr>\n",
       "    <tr><td class='row_index'>530010</td><td class='row_index'>530010</td><td>0</td><td>0</td></tr>\n",
       "  </tbody>\n",
       "  </table>\n",
       "  <div class='footer'>\n",
       "    <div class='frame_dimensions'>71,838 rows &times; 4 columns</div>\n",
       "  </div>\n",
       "</div>\n"
      ],
      "text/plain": [
       "<Frame#7fce0263af30 71838x4>"
      ]
     },
     "execution_count": 14,
     "metadata": {},
     "output_type": "execute_result"
    }
   ],
   "source": [
    "df_dist.key = ['origem', 'destino']\n",
    "df_deslc = df_deslc[:, :, dt.join(df_dist)]\n",
    "df_dist"
   ]
  },
  {
   "cell_type": "markdown",
   "metadata": {},
   "source": [
    "### Juntando com Municípios (res)"
   ]
  },
  {
   "cell_type": "code",
   "execution_count": 15,
   "metadata": {},
   "outputs": [
    {
     "data": {
      "text/html": [
       "<div class='datatable'>\n",
       "  <table class='frame'>\n",
       "  <thead>\n",
       "    <tr class='colnames'><th class='row_index'>origem</th><th>capital</th><th>regiao_saude</th><th>nome_regiao_saude</th><th>uf</th><th>regiao</th><th>socioecon</th><th>latitude</th><th>longitude</th></tr>\n",
       "    <tr class='coltypes'><td class='int' title='int32'>&#x25AA;&#x25AA;&#x25AA;&#x25AA;</td><td class='bool' title='bool8'>&#x25AA;</td><td class='int' title='int32'>&#x25AA;&#x25AA;&#x25AA;&#x25AA;</td><td class='str' title='str32'>&#x25AA;&#x25AA;&#x25AA;&#x25AA;</td><td class='str' title='str32'>&#x25AA;&#x25AA;&#x25AA;&#x25AA;</td><td class='str' title='str32'>&#x25AA;&#x25AA;&#x25AA;&#x25AA;</td><td class='int' title='int32'>&#x25AA;&#x25AA;&#x25AA;&#x25AA;</td><td class='float' title='float64'>&#x25AA;&#x25AA;&#x25AA;&#x25AA;&#x25AA;&#x25AA;&#x25AA;&#x25AA;</td><td class='float' title='float64'>&#x25AA;&#x25AA;&#x25AA;&#x25AA;&#x25AA;&#x25AA;&#x25AA;&#x25AA;</td></tr>\n",
       "  </thead>\n",
       "  <tbody>\n",
       "    <tr><td class='row_index'>110001</td><td>0</td><td>11005</td><td>Zona da Mata</td><td>RO</td><td>NT</td><td>1</td><td>&minus;11.9283</td><td>&minus;61.9953</td></tr>\n",
       "    <tr><td class='row_index'>110002</td><td>0</td><td>11001</td><td>Vale do Jamari</td><td>RO</td><td>NT</td><td>1</td><td>&minus;9.90571</td><td>&minus;63.0325</td></tr>\n",
       "    <tr><td class='row_index'>110003</td><td>0</td><td>11006</td><td>Cone Sul</td><td>RO</td><td>NT</td><td>2</td><td>&minus;13.4945</td><td>&minus;60.552</td></tr>\n",
       "    <tr><td class='row_index'>110004</td><td>0</td><td>11002</td><td>Café</td><td>RO</td><td>NT</td><td>3</td><td>&minus;11.4343</td><td>&minus;61.4562</td></tr>\n",
       "    <tr><td class='row_index'>110005</td><td>0</td><td>11006</td><td>Cone Sul</td><td>RO</td><td>NT</td><td>2</td><td>&minus;13.187</td><td>&minus;60.8168</td></tr>\n",
       "    <tr><td class='row_index'>110006</td><td>0</td><td>11006</td><td>Cone Sul</td><td>RO</td><td>NT</td><td>2</td><td>&minus;13.1174</td><td>&minus;60.5454</td></tr>\n",
       "    <tr><td class='row_index'>110007</td><td>0</td><td>11006</td><td>Cone Sul</td><td>RO</td><td>NT</td><td>2</td><td>&minus;12.9551</td><td>&minus;60.8947</td></tr>\n",
       "    <tr><td class='row_index'>110008</td><td>0</td><td>11007</td><td>Vale do Guaporé</td><td>RO</td><td>NT</td><td>1</td><td>&minus;12.4367</td><td>&minus;64.228</td></tr>\n",
       "    <tr><td class='row_index'>110009</td><td>0</td><td>11002</td><td>Café</td><td>RO</td><td>NT</td><td>3</td><td>&minus;11.5266</td><td>&minus;61.0252</td></tr>\n",
       "    <tr><td class='row_index'>110010</td><td>0</td><td>11004</td><td>Madeira-Mamoré</td><td>RO</td><td>NT</td><td>3</td><td>&minus;10.7889</td><td>&minus;65.3296</td></tr>\n",
       "    <tr><td class='row_index'>110011</td><td>0</td><td>11003</td><td>Central</td><td>RO</td><td>NT</td><td>2</td><td>&minus;10.4318</td><td>&minus;62.4788</td></tr>\n",
       "    <tr><td class='row_index'>110012</td><td>0</td><td>11003</td><td>Central</td><td>RO</td><td>NT</td><td>2</td><td>&minus;10.8777</td><td>&minus;61.9322</td></tr>\n",
       "    <tr><td class='row_index'>110013</td><td>0</td><td>11001</td><td>Vale do Jamari</td><td>RO</td><td>NT</td><td>1</td><td>&minus;9.44363</td><td>&minus;61.9818</td></tr>\n",
       "    <tr><td class='row_index'>110014</td><td>0</td><td>11005</td><td>Zona da Mata</td><td>RO</td><td>NT</td><td>1</td><td>&minus;11.7247</td><td>&minus;62.3127</td></tr>\n",
       "    <tr><td class='row_index'>110015</td><td>0</td><td>11003</td><td>Central</td><td>RO</td><td>NT</td><td>2</td><td>&minus;10.7167</td><td>&minus;62.2565</td></tr>\n",
       "    <tr><td class='hellipsis'>&#x22EE;</td><td class='hellipsis'>&#x22EE;</td><td class='hellipsis'>&#x22EE;</td><td class='hellipsis'>&#x22EE;</td><td class='hellipsis'>&#x22EE;</td><td class='hellipsis'>&#x22EE;</td><td class='hellipsis'>&#x22EE;</td><td class='hellipsis'>&#x22EE;</td><td class='hellipsis'>&#x22EE;</td></tr>\n",
       "    <tr><td class='row_index'>522200</td><td>0</td><td>52002</td><td>Centro Sul</td><td>GO</td><td>CO</td><td>3</td><td>&minus;16.7405</td><td>&minus;48.5159</td></tr>\n",
       "    <tr><td class='row_index'>522205</td><td>0</td><td>52002</td><td>Centro Sul</td><td>GO</td><td>CO</td><td>3</td><td>&minus;17.7322</td><td>&minus;49.8047</td></tr>\n",
       "    <tr><td class='row_index'>522220</td><td>0</td><td>52003</td><td>Entorno Norte</td><td>GO</td><td>CO</td><td>2</td><td>&minus;15.0387</td><td>&minus;47.052</td></tr>\n",
       "    <tr><td class='row_index'>522230</td><td>0</td><td>52018</td><td>São Patrício II</td><td>GO</td><td>CO</td><td>2</td><td>&minus;15.4542</td><td>&minus;48.8819</td></tr>\n",
       "    <tr><td class='row_index'>530010</td><td>1</td><td>53001</td><td>Distrito Federal</td><td>DF</td><td>CO</td><td>5</td><td>&minus;15.7795</td><td>&minus;47.9297</td></tr>\n",
       "  </tbody>\n",
       "  </table>\n",
       "  <div class='footer'>\n",
       "    <div class='frame_dimensions'>5570 rows &times; 9 columns</div>\n",
       "  </div>\n",
       "</div>\n"
      ],
      "text/plain": [
       "<Frame#7fce01a1b180 5570x9>"
      ]
     },
     "execution_count": 15,
     "metadata": {},
     "output_type": "execute_result"
    }
   ],
   "source": [
    "df_mun.key = 'origem'\n",
    "df_deslc = df_deslc[:, :, dt.join(df_mun)]\n",
    "df_mun"
   ]
  },
  {
   "cell_type": "markdown",
   "metadata": {},
   "source": [
    "### Juntando com Municípios (hosp)"
   ]
  },
  {
   "cell_type": "code",
   "execution_count": 16,
   "metadata": {},
   "outputs": [
    {
     "data": {
      "text/html": [
       "<div class='datatable'>\n",
       "  <table class='frame'>\n",
       "  <thead>\n",
       "    <tr class='colnames'><td class='row_index'></td><th>bienio</th><th>parto_normal</th><th>hosp_cnes</th><th>destino</th><th>origem</th><th>count</th><th>distancia</th><th>tempo</th><th>capital</th><th>regiao_saude</th><th class='vellipsis'>&hellip;</th><th>longitude</th><th>hosp_regiao_saude</th><th>hosp_uf</th><th>hosp_latitude</th><th>hosp_longitude</th></tr>\n",
       "    <tr class='coltypes'><td class='row_index'></td><td class='bool' title='bool8'>&#x25AA;</td><td class='bool' title='bool8'>&#x25AA;</td><td class='int' title='int32'>&#x25AA;&#x25AA;&#x25AA;&#x25AA;</td><td class='int' title='int32'>&#x25AA;&#x25AA;&#x25AA;&#x25AA;</td><td class='int' title='int32'>&#x25AA;&#x25AA;&#x25AA;&#x25AA;</td><td class='int' title='int64'>&#x25AA;&#x25AA;&#x25AA;&#x25AA;&#x25AA;&#x25AA;&#x25AA;&#x25AA;</td><td class='float' title='float64'>&#x25AA;&#x25AA;&#x25AA;&#x25AA;&#x25AA;&#x25AA;&#x25AA;&#x25AA;</td><td class='float' title='float64'>&#x25AA;&#x25AA;&#x25AA;&#x25AA;&#x25AA;&#x25AA;&#x25AA;&#x25AA;</td><td class='bool' title='bool8'>&#x25AA;</td><td class='int' title='int32'>&#x25AA;&#x25AA;&#x25AA;&#x25AA;</td><td></td><td class='float' title='float64'>&#x25AA;&#x25AA;&#x25AA;&#x25AA;&#x25AA;&#x25AA;&#x25AA;&#x25AA;</td><td class='int' title='int32'>&#x25AA;&#x25AA;&#x25AA;&#x25AA;</td><td class='str' title='str32'>&#x25AA;&#x25AA;&#x25AA;&#x25AA;</td><td class='float' title='float64'>&#x25AA;&#x25AA;&#x25AA;&#x25AA;&#x25AA;&#x25AA;&#x25AA;&#x25AA;</td><td class='float' title='float64'>&#x25AA;&#x25AA;&#x25AA;&#x25AA;&#x25AA;&#x25AA;&#x25AA;&#x25AA;</td></tr>\n",
       "  </thead>\n",
       "  <tbody>\n",
       "    <tr><td class='row_index'>0</td><td>0</td><td>0</td><td>27</td><td>260290</td><td>260290</td><td>1</td><td>0</td><td>0</td><td>0</td><td>26010</td><td class=vellipsis>&hellip;</td><td>&minus;35.0253</td><td>26010</td><td>PE</td><td>&minus;8.28218</td><td>&minus;35.0253</td></tr>\n",
       "    <tr><td class='row_index'>1</td><td>0</td><td>0</td><td>27</td><td>260290</td><td>260720</td><td>1</td><td>16.8139</td><td>0.319111</td><td>0</td><td>26010</td><td class=vellipsis>&hellip;</td><td>&minus;35.0609</td><td>26010</td><td>PE</td><td>&minus;8.28218</td><td>&minus;35.0253</td></tr>\n",
       "    <tr><td class='row_index'>2</td><td>0</td><td>0</td><td>94</td><td>260290</td><td>260140</td><td>2</td><td>73.9977</td><td>1.34642</td><td>0</td><td>26008</td><td class=vellipsis>&hellip;</td><td>&minus;35.1832</td><td>26010</td><td>PE</td><td>&minus;8.28218</td><td>&minus;35.0253</td></tr>\n",
       "    <tr><td class='row_index'>3</td><td>0</td><td>0</td><td>94</td><td>260290</td><td>260290</td><td>2</td><td>0</td><td>0</td><td>0</td><td>26010</td><td class=vellipsis>&hellip;</td><td>&minus;35.0253</td><td>26010</td><td>PE</td><td>&minus;8.28218</td><td>&minus;35.0253</td></tr>\n",
       "    <tr><td class='row_index'>4</td><td>0</td><td>0</td><td>94</td><td>260290</td><td>260345</td><td>2</td><td>42.4065</td><td>0.630306</td><td>0</td><td>26010</td><td class=vellipsis>&hellip;</td><td>&minus;34.9782</td><td>26010</td><td>PE</td><td>&minus;8.28218</td><td>&minus;35.0253</td></tr>\n",
       "    <tr><td class='row_index'>5</td><td>0</td><td>0</td><td>94</td><td>260290</td><td>260400</td><td>1</td><td>81.5093</td><td>1.15006</td><td>0</td><td>26006</td><td class=vellipsis>&hellip;</td><td>&minus;35.2514</td><td>26010</td><td>PE</td><td>&minus;8.28218</td><td>&minus;35.0253</td></tr>\n",
       "    <tr><td class='row_index'>6</td><td>0</td><td>0</td><td>94</td><td>260290</td><td>260520</td><td>2</td><td>27.9907</td><td>0.378972</td><td>0</td><td>26008</td><td class=vellipsis>&hellip;</td><td>&minus;35.2241</td><td>26010</td><td>PE</td><td>&minus;8.28218</td><td>&minus;35.0253</td></tr>\n",
       "    <tr><td class='row_index'>7</td><td>0</td><td>0</td><td>94</td><td>260290</td><td>260540</td><td>2</td><td>103.117</td><td>1.53569</td><td>0</td><td>26006</td><td class=vellipsis>&hellip;</td><td>&minus;35.3801</td><td>26010</td><td>PE</td><td>&minus;8.28218</td><td>&minus;35.0253</td></tr>\n",
       "    <tr><td class='row_index'>8</td><td>0</td><td>0</td><td>94</td><td>260290</td><td>260640</td><td>2</td><td>104</td><td>1.41492</td><td>0</td><td>26003</td><td class=vellipsis>&hellip;</td><td>&minus;35.5675</td><td>26010</td><td>PE</td><td>&minus;8.28218</td><td>&minus;35.0253</td></tr>\n",
       "    <tr><td class='row_index'>9</td><td>0</td><td>0</td><td>94</td><td>260290</td><td>260680</td><td>1</td><td>62.8655</td><td>0.96025</td><td>0</td><td>26010</td><td class=vellipsis>&hellip;</td><td>&minus;34.9013</td><td>26010</td><td>PE</td><td>&minus;8.28218</td><td>&minus;35.0253</td></tr>\n",
       "    <tr><td class='row_index'>10</td><td>0</td><td>0</td><td>94</td><td>260290</td><td>260720</td><td>2</td><td>16.8139</td><td>0.319111</td><td>0</td><td>26010</td><td class=vellipsis>&hellip;</td><td>&minus;35.0609</td><td>26010</td><td>PE</td><td>&minus;8.28218</td><td>&minus;35.0253</td></tr>\n",
       "    <tr><td class='row_index'>11</td><td>0</td><td>0</td><td>94</td><td>260290</td><td>260790</td><td>2</td><td>19.3115</td><td>0.414222</td><td>0</td><td>26010</td><td class=vellipsis>&hellip;</td><td>&minus;35.015</td><td>26010</td><td>PE</td><td>&minus;8.28218</td><td>&minus;35.0253</td></tr>\n",
       "    <tr><td class='row_index'>12</td><td>0</td><td>0</td><td>94</td><td>260290</td><td>260960</td><td>2</td><td>41.4752</td><td>0.5945</td><td>0</td><td>26010</td><td class=vellipsis>&hellip;</td><td>&minus;34.8545</td><td>26010</td><td>PE</td><td>&minus;8.28218</td><td>&minus;35.0253</td></tr>\n",
       "    <tr><td class='row_index'>13</td><td>0</td><td>0</td><td>94</td><td>260290</td><td>261000</td><td>1</td><td>89.2513</td><td>1.06403</td><td>0</td><td>26008</td><td class=vellipsis>&hellip;</td><td>&minus;35.589</td><td>26010</td><td>PE</td><td>&minus;8.28218</td><td>&minus;35.0253</td></tr>\n",
       "    <tr><td class='row_index'>14</td><td>0</td><td>0</td><td>94</td><td>260290</td><td>261060</td><td>1</td><td>69.3776</td><td>1.02681</td><td>0</td><td>26006</td><td class=vellipsis>&hellip;</td><td>&minus;35.1716</td><td>26010</td><td>PE</td><td>&minus;8.28218</td><td>&minus;35.0253</td></tr>\n",
       "    <tr><td class='row_index'>&#x22EE;</td><td class='hellipsis'>&#x22EE;</td><td class='hellipsis'>&#x22EE;</td><td class='hellipsis'>&#x22EE;</td><td class='hellipsis'>&#x22EE;</td><td class='hellipsis'>&#x22EE;</td><td class='hellipsis'>&#x22EE;</td><td class='hellipsis'>&#x22EE;</td><td class='hellipsis'>&#x22EE;</td><td class='hellipsis'>&#x22EE;</td><td class='hellipsis'>&#x22EE;</td><td class='hellipsis'>&#x22F1;</td><td class='hellipsis'>&#x22EE;</td><td class='hellipsis'>&#x22EE;</td><td class='hellipsis'>&#x22EE;</td><td class='hellipsis'>&#x22EE;</td><td class='hellipsis'>&#x22EE;</td></tr>\n",
       "    <tr><td class='row_index'>124,980</td><td>1</td><td>1</td><td>9923837</td><td>270430</td><td>315980</td><td>1</td><td>2275.67</td><td>28.2836</td><td>0</td><td>31032</td><td class=vellipsis>&hellip;</td><td>&minus;50.1208</td><td>27001</td><td>AL</td><td>&minus;9.66599</td><td>&minus;35.735</td></tr>\n",
       "    <tr><td class='row_index'>124,981</td><td>1</td><td>1</td><td>9923837</td><td>270430</td><td>350400</td><td>1</td><td>2599.62</td><td>31.9186</td><td>0</td><td>35092</td><td class=vellipsis>&hellip;</td><td>&minus;50.4183</td><td>27001</td><td>AL</td><td>&minus;9.66599</td><td>&minus;35.735</td></tr>\n",
       "    <tr><td class='row_index'>124,982</td><td>1</td><td>1</td><td>9923837</td><td>270430</td><td>351880</td><td>1</td><td>2404.71</td><td>29.9013</td><td>0</td><td>35011</td><td class=vellipsis>&hellip;</td><td>&minus;46.5333</td><td>27001</td><td>AL</td><td>&minus;9.66599</td><td>&minus;35.735</td></tr>\n",
       "    <tr><td class='row_index'>124,983</td><td>1</td><td>1</td><td>9923837</td><td>270430</td><td>354100</td><td>1</td><td>2490.4</td><td>31.2415</td><td>0</td><td>35041</td><td class=vellipsis>&hellip;</td><td>&minus;46.4121</td><td>27001</td><td>AL</td><td>&minus;9.66599</td><td>&minus;35.735</td></tr>\n",
       "    <tr><td class='row_index'>124,984</td><td>1</td><td>1</td><td>9923837</td><td>270430</td><td>510623</td><td>1</td><td>3217.73</td><td>39.9407</td><td>0</td><td>51007</td><td class=vellipsis>&hellip;</td><td>&minus;57.2886</td><td>27001</td><td>AL</td><td>&minus;9.66599</td><td>&minus;35.735</td></tr>\n",
       "  </tbody>\n",
       "  </table>\n",
       "  <div class='footer'>\n",
       "    <div class='frame_dimensions'>124,985 rows &times; 20 columns</div>\n",
       "  </div>\n",
       "</div>\n"
      ],
      "text/plain": [
       "<Frame#7fce028a6cc0 124985x20>"
      ]
     },
     "execution_count": 16,
     "metadata": {},
     "output_type": "execute_result"
    }
   ],
   "source": [
    "df_mun_hosp.key = 'destino'\n",
    "df_deslc = df_deslc[:, :, dt.join(df_mun_hosp)]\n",
    "df_deslc"
   ]
  },
  {
   "cell_type": "markdown",
   "metadata": {},
   "source": [
    "## Criando colunas"
   ]
  },
  {
   "cell_type": "code",
   "execution_count": 17,
   "metadata": {},
   "outputs": [
    {
     "data": {
      "text/html": [
       "<div class='datatable'>\n",
       "  <table class='frame'>\n",
       "  <thead>\n",
       "    <tr class='colnames'><td class='row_index'></td><th>bienio</th><th>parto_normal</th><th>hosp_cnes</th><th>destino</th><th>origem</th><th>count</th><th>distancia</th><th>tempo</th><th>capital</th><th>regiao_saude</th><th class='vellipsis'>&hellip;</th><th>hosp_uf</th><th>hosp_latitude</th><th>hosp_longitude</th><th>mun_diff</th><th>regsau_diff</th></tr>\n",
       "    <tr class='coltypes'><td class='row_index'></td><td class='bool' title='bool8'>&#x25AA;</td><td class='bool' title='bool8'>&#x25AA;</td><td class='int' title='int32'>&#x25AA;&#x25AA;&#x25AA;&#x25AA;</td><td class='int' title='int32'>&#x25AA;&#x25AA;&#x25AA;&#x25AA;</td><td class='int' title='int32'>&#x25AA;&#x25AA;&#x25AA;&#x25AA;</td><td class='int' title='int64'>&#x25AA;&#x25AA;&#x25AA;&#x25AA;&#x25AA;&#x25AA;&#x25AA;&#x25AA;</td><td class='float' title='float64'>&#x25AA;&#x25AA;&#x25AA;&#x25AA;&#x25AA;&#x25AA;&#x25AA;&#x25AA;</td><td class='float' title='float64'>&#x25AA;&#x25AA;&#x25AA;&#x25AA;&#x25AA;&#x25AA;&#x25AA;&#x25AA;</td><td class='bool' title='bool8'>&#x25AA;</td><td class='int' title='int32'>&#x25AA;&#x25AA;&#x25AA;&#x25AA;</td><td></td><td class='str' title='str32'>&#x25AA;&#x25AA;&#x25AA;&#x25AA;</td><td class='float' title='float64'>&#x25AA;&#x25AA;&#x25AA;&#x25AA;&#x25AA;&#x25AA;&#x25AA;&#x25AA;</td><td class='float' title='float64'>&#x25AA;&#x25AA;&#x25AA;&#x25AA;&#x25AA;&#x25AA;&#x25AA;&#x25AA;</td><td class='bool' title='bool8'>&#x25AA;</td><td class='bool' title='bool8'>&#x25AA;</td></tr>\n",
       "  </thead>\n",
       "  <tbody>\n",
       "    <tr><td class='row_index'>0</td><td>0</td><td>0</td><td>27</td><td>260290</td><td>260290</td><td>1</td><td>0</td><td>0</td><td>0</td><td>26010</td><td class=vellipsis>&hellip;</td><td>PE</td><td>&minus;8.28218</td><td>&minus;35.0253</td><td>0</td><td>0</td></tr>\n",
       "    <tr><td class='row_index'>1</td><td>0</td><td>0</td><td>27</td><td>260290</td><td>260720</td><td>1</td><td>16.8139</td><td>0.319111</td><td>0</td><td>26010</td><td class=vellipsis>&hellip;</td><td>PE</td><td>&minus;8.28218</td><td>&minus;35.0253</td><td>1</td><td>0</td></tr>\n",
       "    <tr><td class='row_index'>2</td><td>0</td><td>0</td><td>94</td><td>260290</td><td>260140</td><td>2</td><td>73.9977</td><td>1.34642</td><td>0</td><td>26008</td><td class=vellipsis>&hellip;</td><td>PE</td><td>&minus;8.28218</td><td>&minus;35.0253</td><td>1</td><td>1</td></tr>\n",
       "    <tr><td class='row_index'>3</td><td>0</td><td>0</td><td>94</td><td>260290</td><td>260290</td><td>2</td><td>0</td><td>0</td><td>0</td><td>26010</td><td class=vellipsis>&hellip;</td><td>PE</td><td>&minus;8.28218</td><td>&minus;35.0253</td><td>0</td><td>0</td></tr>\n",
       "    <tr><td class='row_index'>4</td><td>0</td><td>0</td><td>94</td><td>260290</td><td>260345</td><td>2</td><td>42.4065</td><td>0.630306</td><td>0</td><td>26010</td><td class=vellipsis>&hellip;</td><td>PE</td><td>&minus;8.28218</td><td>&minus;35.0253</td><td>1</td><td>0</td></tr>\n",
       "    <tr><td class='row_index'>5</td><td>0</td><td>0</td><td>94</td><td>260290</td><td>260400</td><td>1</td><td>81.5093</td><td>1.15006</td><td>0</td><td>26006</td><td class=vellipsis>&hellip;</td><td>PE</td><td>&minus;8.28218</td><td>&minus;35.0253</td><td>1</td><td>1</td></tr>\n",
       "    <tr><td class='row_index'>6</td><td>0</td><td>0</td><td>94</td><td>260290</td><td>260520</td><td>2</td><td>27.9907</td><td>0.378972</td><td>0</td><td>26008</td><td class=vellipsis>&hellip;</td><td>PE</td><td>&minus;8.28218</td><td>&minus;35.0253</td><td>1</td><td>1</td></tr>\n",
       "    <tr><td class='row_index'>7</td><td>0</td><td>0</td><td>94</td><td>260290</td><td>260540</td><td>2</td><td>103.117</td><td>1.53569</td><td>0</td><td>26006</td><td class=vellipsis>&hellip;</td><td>PE</td><td>&minus;8.28218</td><td>&minus;35.0253</td><td>1</td><td>1</td></tr>\n",
       "    <tr><td class='row_index'>8</td><td>0</td><td>0</td><td>94</td><td>260290</td><td>260640</td><td>2</td><td>104</td><td>1.41492</td><td>0</td><td>26003</td><td class=vellipsis>&hellip;</td><td>PE</td><td>&minus;8.28218</td><td>&minus;35.0253</td><td>1</td><td>1</td></tr>\n",
       "    <tr><td class='row_index'>9</td><td>0</td><td>0</td><td>94</td><td>260290</td><td>260680</td><td>1</td><td>62.8655</td><td>0.96025</td><td>0</td><td>26010</td><td class=vellipsis>&hellip;</td><td>PE</td><td>&minus;8.28218</td><td>&minus;35.0253</td><td>1</td><td>0</td></tr>\n",
       "    <tr><td class='row_index'>10</td><td>0</td><td>0</td><td>94</td><td>260290</td><td>260720</td><td>2</td><td>16.8139</td><td>0.319111</td><td>0</td><td>26010</td><td class=vellipsis>&hellip;</td><td>PE</td><td>&minus;8.28218</td><td>&minus;35.0253</td><td>1</td><td>0</td></tr>\n",
       "    <tr><td class='row_index'>11</td><td>0</td><td>0</td><td>94</td><td>260290</td><td>260790</td><td>2</td><td>19.3115</td><td>0.414222</td><td>0</td><td>26010</td><td class=vellipsis>&hellip;</td><td>PE</td><td>&minus;8.28218</td><td>&minus;35.0253</td><td>1</td><td>0</td></tr>\n",
       "    <tr><td class='row_index'>12</td><td>0</td><td>0</td><td>94</td><td>260290</td><td>260960</td><td>2</td><td>41.4752</td><td>0.5945</td><td>0</td><td>26010</td><td class=vellipsis>&hellip;</td><td>PE</td><td>&minus;8.28218</td><td>&minus;35.0253</td><td>1</td><td>0</td></tr>\n",
       "    <tr><td class='row_index'>13</td><td>0</td><td>0</td><td>94</td><td>260290</td><td>261000</td><td>1</td><td>89.2513</td><td>1.06403</td><td>0</td><td>26008</td><td class=vellipsis>&hellip;</td><td>PE</td><td>&minus;8.28218</td><td>&minus;35.0253</td><td>1</td><td>1</td></tr>\n",
       "    <tr><td class='row_index'>14</td><td>0</td><td>0</td><td>94</td><td>260290</td><td>261060</td><td>1</td><td>69.3776</td><td>1.02681</td><td>0</td><td>26006</td><td class=vellipsis>&hellip;</td><td>PE</td><td>&minus;8.28218</td><td>&minus;35.0253</td><td>1</td><td>1</td></tr>\n",
       "    <tr><td class='row_index'>&#x22EE;</td><td class='hellipsis'>&#x22EE;</td><td class='hellipsis'>&#x22EE;</td><td class='hellipsis'>&#x22EE;</td><td class='hellipsis'>&#x22EE;</td><td class='hellipsis'>&#x22EE;</td><td class='hellipsis'>&#x22EE;</td><td class='hellipsis'>&#x22EE;</td><td class='hellipsis'>&#x22EE;</td><td class='hellipsis'>&#x22EE;</td><td class='hellipsis'>&#x22EE;</td><td class='hellipsis'>&#x22F1;</td><td class='hellipsis'>&#x22EE;</td><td class='hellipsis'>&#x22EE;</td><td class='hellipsis'>&#x22EE;</td><td class='hellipsis'>&#x22EE;</td><td class='hellipsis'>&#x22EE;</td></tr>\n",
       "    <tr><td class='row_index'>124,980</td><td>1</td><td>1</td><td>9923837</td><td>270430</td><td>315980</td><td>1</td><td>2275.67</td><td>28.2836</td><td>0</td><td>31032</td><td class=vellipsis>&hellip;</td><td>AL</td><td>&minus;9.66599</td><td>&minus;35.735</td><td>1</td><td>1</td></tr>\n",
       "    <tr><td class='row_index'>124,981</td><td>1</td><td>1</td><td>9923837</td><td>270430</td><td>350400</td><td>1</td><td>2599.62</td><td>31.9186</td><td>0</td><td>35092</td><td class=vellipsis>&hellip;</td><td>AL</td><td>&minus;9.66599</td><td>&minus;35.735</td><td>1</td><td>1</td></tr>\n",
       "    <tr><td class='row_index'>124,982</td><td>1</td><td>1</td><td>9923837</td><td>270430</td><td>351880</td><td>1</td><td>2404.71</td><td>29.9013</td><td>0</td><td>35011</td><td class=vellipsis>&hellip;</td><td>AL</td><td>&minus;9.66599</td><td>&minus;35.735</td><td>1</td><td>1</td></tr>\n",
       "    <tr><td class='row_index'>124,983</td><td>1</td><td>1</td><td>9923837</td><td>270430</td><td>354100</td><td>1</td><td>2490.4</td><td>31.2415</td><td>0</td><td>35041</td><td class=vellipsis>&hellip;</td><td>AL</td><td>&minus;9.66599</td><td>&minus;35.735</td><td>1</td><td>1</td></tr>\n",
       "    <tr><td class='row_index'>124,984</td><td>1</td><td>1</td><td>9923837</td><td>270430</td><td>510623</td><td>1</td><td>3217.73</td><td>39.9407</td><td>0</td><td>51007</td><td class=vellipsis>&hellip;</td><td>AL</td><td>&minus;9.66599</td><td>&minus;35.735</td><td>1</td><td>1</td></tr>\n",
       "  </tbody>\n",
       "  </table>\n",
       "  <div class='footer'>\n",
       "    <div class='frame_dimensions'>124,985 rows &times; 22 columns</div>\n",
       "  </div>\n",
       "</div>\n"
      ],
      "text/plain": [
       "<Frame#7fce028a6cc0 124985x22>"
      ]
     },
     "execution_count": 17,
     "metadata": {},
     "output_type": "execute_result"
    }
   ],
   "source": [
    "df_deslc['mun_diff'] = f.origem != f.destino\n",
    "df_deslc['regsau_diff'] = f.regiao_saude != f.hosp_regiao_saude\n",
    "df_deslc"
   ]
  },
  {
   "cell_type": "markdown",
   "metadata": {},
   "source": [
    "## Removendo valores NA"
   ]
  },
  {
   "cell_type": "code",
   "execution_count": 18,
   "metadata": {},
   "outputs": [
    {
     "data": {
      "text/html": [
       "<div class='datatable'>\n",
       "  <table class='frame'>\n",
       "  <thead>\n",
       "    <tr class='colnames'><td class='row_index'></td><th>bienio</th><th>parto_normal</th><th>hosp_cnes</th><th>destino</th><th>origem</th><th>count</th><th>distancia</th><th>tempo</th><th>capital</th><th>regiao_saude</th><th class='vellipsis'>&hellip;</th><th>hosp_uf</th><th>hosp_latitude</th><th>hosp_longitude</th><th>mun_diff</th><th>regsau_diff</th></tr>\n",
       "    <tr class='coltypes'><td class='row_index'></td><td class='bool' title='bool8'>&#x25AA;</td><td class='bool' title='bool8'>&#x25AA;</td><td class='int' title='int32'>&#x25AA;&#x25AA;&#x25AA;&#x25AA;</td><td class='int' title='int32'>&#x25AA;&#x25AA;&#x25AA;&#x25AA;</td><td class='int' title='int32'>&#x25AA;&#x25AA;&#x25AA;&#x25AA;</td><td class='int' title='int64'>&#x25AA;&#x25AA;&#x25AA;&#x25AA;&#x25AA;&#x25AA;&#x25AA;&#x25AA;</td><td class='float' title='float64'>&#x25AA;&#x25AA;&#x25AA;&#x25AA;&#x25AA;&#x25AA;&#x25AA;&#x25AA;</td><td class='float' title='float64'>&#x25AA;&#x25AA;&#x25AA;&#x25AA;&#x25AA;&#x25AA;&#x25AA;&#x25AA;</td><td class='bool' title='bool8'>&#x25AA;</td><td class='int' title='int32'>&#x25AA;&#x25AA;&#x25AA;&#x25AA;</td><td></td><td class='str' title='str32'>&#x25AA;&#x25AA;&#x25AA;&#x25AA;</td><td class='float' title='float64'>&#x25AA;&#x25AA;&#x25AA;&#x25AA;&#x25AA;&#x25AA;&#x25AA;&#x25AA;</td><td class='float' title='float64'>&#x25AA;&#x25AA;&#x25AA;&#x25AA;&#x25AA;&#x25AA;&#x25AA;&#x25AA;</td><td class='bool' title='bool8'>&#x25AA;</td><td class='bool' title='bool8'>&#x25AA;</td></tr>\n",
       "  </thead>\n",
       "  <tbody>\n",
       "    <tr><td class='row_index'>0</td><td>0</td><td>0</td><td>27</td><td>260290</td><td>260290</td><td>1</td><td>0</td><td>0</td><td>0</td><td>26010</td><td class=vellipsis>&hellip;</td><td>PE</td><td>&minus;8.28218</td><td>&minus;35.0253</td><td>0</td><td>0</td></tr>\n",
       "    <tr><td class='row_index'>1</td><td>0</td><td>0</td><td>27</td><td>260290</td><td>260720</td><td>1</td><td>16.8139</td><td>0.319111</td><td>0</td><td>26010</td><td class=vellipsis>&hellip;</td><td>PE</td><td>&minus;8.28218</td><td>&minus;35.0253</td><td>1</td><td>0</td></tr>\n",
       "    <tr><td class='row_index'>2</td><td>0</td><td>0</td><td>94</td><td>260290</td><td>260140</td><td>2</td><td>73.9977</td><td>1.34642</td><td>0</td><td>26008</td><td class=vellipsis>&hellip;</td><td>PE</td><td>&minus;8.28218</td><td>&minus;35.0253</td><td>1</td><td>1</td></tr>\n",
       "    <tr><td class='row_index'>3</td><td>0</td><td>0</td><td>94</td><td>260290</td><td>260290</td><td>2</td><td>0</td><td>0</td><td>0</td><td>26010</td><td class=vellipsis>&hellip;</td><td>PE</td><td>&minus;8.28218</td><td>&minus;35.0253</td><td>0</td><td>0</td></tr>\n",
       "    <tr><td class='row_index'>4</td><td>0</td><td>0</td><td>94</td><td>260290</td><td>260345</td><td>2</td><td>42.4065</td><td>0.630306</td><td>0</td><td>26010</td><td class=vellipsis>&hellip;</td><td>PE</td><td>&minus;8.28218</td><td>&minus;35.0253</td><td>1</td><td>0</td></tr>\n",
       "    <tr><td class='row_index'>5</td><td>0</td><td>0</td><td>94</td><td>260290</td><td>260400</td><td>1</td><td>81.5093</td><td>1.15006</td><td>0</td><td>26006</td><td class=vellipsis>&hellip;</td><td>PE</td><td>&minus;8.28218</td><td>&minus;35.0253</td><td>1</td><td>1</td></tr>\n",
       "    <tr><td class='row_index'>6</td><td>0</td><td>0</td><td>94</td><td>260290</td><td>260520</td><td>2</td><td>27.9907</td><td>0.378972</td><td>0</td><td>26008</td><td class=vellipsis>&hellip;</td><td>PE</td><td>&minus;8.28218</td><td>&minus;35.0253</td><td>1</td><td>1</td></tr>\n",
       "    <tr><td class='row_index'>7</td><td>0</td><td>0</td><td>94</td><td>260290</td><td>260540</td><td>2</td><td>103.117</td><td>1.53569</td><td>0</td><td>26006</td><td class=vellipsis>&hellip;</td><td>PE</td><td>&minus;8.28218</td><td>&minus;35.0253</td><td>1</td><td>1</td></tr>\n",
       "    <tr><td class='row_index'>8</td><td>0</td><td>0</td><td>94</td><td>260290</td><td>260640</td><td>2</td><td>104</td><td>1.41492</td><td>0</td><td>26003</td><td class=vellipsis>&hellip;</td><td>PE</td><td>&minus;8.28218</td><td>&minus;35.0253</td><td>1</td><td>1</td></tr>\n",
       "    <tr><td class='row_index'>9</td><td>0</td><td>0</td><td>94</td><td>260290</td><td>260680</td><td>1</td><td>62.8655</td><td>0.96025</td><td>0</td><td>26010</td><td class=vellipsis>&hellip;</td><td>PE</td><td>&minus;8.28218</td><td>&minus;35.0253</td><td>1</td><td>0</td></tr>\n",
       "    <tr><td class='row_index'>10</td><td>0</td><td>0</td><td>94</td><td>260290</td><td>260720</td><td>2</td><td>16.8139</td><td>0.319111</td><td>0</td><td>26010</td><td class=vellipsis>&hellip;</td><td>PE</td><td>&minus;8.28218</td><td>&minus;35.0253</td><td>1</td><td>0</td></tr>\n",
       "    <tr><td class='row_index'>11</td><td>0</td><td>0</td><td>94</td><td>260290</td><td>260790</td><td>2</td><td>19.3115</td><td>0.414222</td><td>0</td><td>26010</td><td class=vellipsis>&hellip;</td><td>PE</td><td>&minus;8.28218</td><td>&minus;35.0253</td><td>1</td><td>0</td></tr>\n",
       "    <tr><td class='row_index'>12</td><td>0</td><td>0</td><td>94</td><td>260290</td><td>260960</td><td>2</td><td>41.4752</td><td>0.5945</td><td>0</td><td>26010</td><td class=vellipsis>&hellip;</td><td>PE</td><td>&minus;8.28218</td><td>&minus;35.0253</td><td>1</td><td>0</td></tr>\n",
       "    <tr><td class='row_index'>13</td><td>0</td><td>0</td><td>94</td><td>260290</td><td>261000</td><td>1</td><td>89.2513</td><td>1.06403</td><td>0</td><td>26008</td><td class=vellipsis>&hellip;</td><td>PE</td><td>&minus;8.28218</td><td>&minus;35.0253</td><td>1</td><td>1</td></tr>\n",
       "    <tr><td class='row_index'>14</td><td>0</td><td>0</td><td>94</td><td>260290</td><td>261060</td><td>1</td><td>69.3776</td><td>1.02681</td><td>0</td><td>26006</td><td class=vellipsis>&hellip;</td><td>PE</td><td>&minus;8.28218</td><td>&minus;35.0253</td><td>1</td><td>1</td></tr>\n",
       "    <tr><td class='row_index'>&#x22EE;</td><td class='hellipsis'>&#x22EE;</td><td class='hellipsis'>&#x22EE;</td><td class='hellipsis'>&#x22EE;</td><td class='hellipsis'>&#x22EE;</td><td class='hellipsis'>&#x22EE;</td><td class='hellipsis'>&#x22EE;</td><td class='hellipsis'>&#x22EE;</td><td class='hellipsis'>&#x22EE;</td><td class='hellipsis'>&#x22EE;</td><td class='hellipsis'>&#x22EE;</td><td class='hellipsis'>&#x22F1;</td><td class='hellipsis'>&#x22EE;</td><td class='hellipsis'>&#x22EE;</td><td class='hellipsis'>&#x22EE;</td><td class='hellipsis'>&#x22EE;</td><td class='hellipsis'>&#x22EE;</td></tr>\n",
       "    <tr><td class='row_index'>124,980</td><td>1</td><td>1</td><td>9923837</td><td>270430</td><td>315980</td><td>1</td><td>2275.67</td><td>28.2836</td><td>0</td><td>31032</td><td class=vellipsis>&hellip;</td><td>AL</td><td>&minus;9.66599</td><td>&minus;35.735</td><td>1</td><td>1</td></tr>\n",
       "    <tr><td class='row_index'>124,981</td><td>1</td><td>1</td><td>9923837</td><td>270430</td><td>350400</td><td>1</td><td>2599.62</td><td>31.9186</td><td>0</td><td>35092</td><td class=vellipsis>&hellip;</td><td>AL</td><td>&minus;9.66599</td><td>&minus;35.735</td><td>1</td><td>1</td></tr>\n",
       "    <tr><td class='row_index'>124,982</td><td>1</td><td>1</td><td>9923837</td><td>270430</td><td>351880</td><td>1</td><td>2404.71</td><td>29.9013</td><td>0</td><td>35011</td><td class=vellipsis>&hellip;</td><td>AL</td><td>&minus;9.66599</td><td>&minus;35.735</td><td>1</td><td>1</td></tr>\n",
       "    <tr><td class='row_index'>124,983</td><td>1</td><td>1</td><td>9923837</td><td>270430</td><td>354100</td><td>1</td><td>2490.4</td><td>31.2415</td><td>0</td><td>35041</td><td class=vellipsis>&hellip;</td><td>AL</td><td>&minus;9.66599</td><td>&minus;35.735</td><td>1</td><td>1</td></tr>\n",
       "    <tr><td class='row_index'>124,984</td><td>1</td><td>1</td><td>9923837</td><td>270430</td><td>510623</td><td>1</td><td>3217.73</td><td>39.9407</td><td>0</td><td>51007</td><td class=vellipsis>&hellip;</td><td>AL</td><td>&minus;9.66599</td><td>&minus;35.735</td><td>1</td><td>1</td></tr>\n",
       "  </tbody>\n",
       "  </table>\n",
       "  <div class='footer'>\n",
       "    <div class='frame_dimensions'>124,985 rows &times; 22 columns</div>\n",
       "  </div>\n",
       "</div>\n"
      ],
      "text/plain": [
       "<Frame#7fcdf1694d80 124985x22>"
      ]
     },
     "execution_count": 18,
     "metadata": {},
     "output_type": "execute_result"
    }
   ],
   "source": [
    "df_deslc = df_deslc[(\n",
    "  f.latitude != None) & (\n",
    "  f.longitude != None) & (\n",
    "  f.hosp_latitude != None) & (\n",
    "  f.hosp_longitude != None), :]\n",
    "df_deslc"
   ]
  },
  {
   "cell_type": "markdown",
   "metadata": {},
   "source": [
    "## Ordenando"
   ]
  },
  {
   "cell_type": "markdown",
   "metadata": {},
   "source": [
    "### Colunas"
   ]
  },
  {
   "cell_type": "code",
   "execution_count": 19,
   "metadata": {},
   "outputs": [],
   "source": [
    "cols_order = [\n",
    "  # procedimento:\n",
    "  'bienio',\n",
    "  'parto_normal',\n",
    "  # deslocamento:\n",
    "  'origem',\n",
    "  'destino',\n",
    "  'mun_diff',\n",
    "  'regsau_diff',\n",
    "  'distancia',\n",
    "  'tempo',\n",
    "  # localização de residência:\n",
    "  'regiao',\n",
    "  'uf',\n",
    "  # 'nome_uf',\n",
    "  # 'macroregiao_saude',\n",
    "  'regiao_saude',\n",
    "  'nome_regiao_saude',\n",
    "  # 'microregiao_saude',\n",
    "  # 'municipio',\n",
    "  'capital',\n",
    "  'socioecon',\n",
    "  'latitude',\n",
    "  'longitude',\n",
    "  # localização do hospital:\n",
    "  'hosp_latitude',\n",
    "  'hosp_longitude',\n",
    "  'hosp_cnes',\n",
    "  'hosp_regiao_saude',\n",
    "  'hosp_uf',\n",
    "  # contagem:\n",
    "  'count',\n",
    "]"
   ]
  },
  {
   "cell_type": "code",
   "execution_count": 20,
   "metadata": {},
   "outputs": [
    {
     "data": {
      "text/html": [
       "<div class='datatable'>\n",
       "  <table class='frame'>\n",
       "  <thead>\n",
       "    <tr class='colnames'><td class='row_index'></td><th>bienio</th><th>parto_normal</th><th>origem</th><th>destino</th><th>mun_diff</th><th>regsau_diff</th><th>distancia</th><th>tempo</th><th>regiao</th><th>uf</th><th class='vellipsis'>&hellip;</th><th>hosp_longitude</th><th>hosp_cnes</th><th>hosp_regiao_saude</th><th>hosp_uf</th><th>count</th></tr>\n",
       "    <tr class='coltypes'><td class='row_index'></td><td class='bool' title='bool8'>&#x25AA;</td><td class='bool' title='bool8'>&#x25AA;</td><td class='int' title='int32'>&#x25AA;&#x25AA;&#x25AA;&#x25AA;</td><td class='int' title='int32'>&#x25AA;&#x25AA;&#x25AA;&#x25AA;</td><td class='bool' title='bool8'>&#x25AA;</td><td class='bool' title='bool8'>&#x25AA;</td><td class='float' title='float64'>&#x25AA;&#x25AA;&#x25AA;&#x25AA;&#x25AA;&#x25AA;&#x25AA;&#x25AA;</td><td class='float' title='float64'>&#x25AA;&#x25AA;&#x25AA;&#x25AA;&#x25AA;&#x25AA;&#x25AA;&#x25AA;</td><td class='str' title='str32'>&#x25AA;&#x25AA;&#x25AA;&#x25AA;</td><td class='str' title='str32'>&#x25AA;&#x25AA;&#x25AA;&#x25AA;</td><td></td><td class='float' title='float64'>&#x25AA;&#x25AA;&#x25AA;&#x25AA;&#x25AA;&#x25AA;&#x25AA;&#x25AA;</td><td class='int' title='int32'>&#x25AA;&#x25AA;&#x25AA;&#x25AA;</td><td class='int' title='int32'>&#x25AA;&#x25AA;&#x25AA;&#x25AA;</td><td class='str' title='str32'>&#x25AA;&#x25AA;&#x25AA;&#x25AA;</td><td class='int' title='int64'>&#x25AA;&#x25AA;&#x25AA;&#x25AA;&#x25AA;&#x25AA;&#x25AA;&#x25AA;</td></tr>\n",
       "  </thead>\n",
       "  <tbody>\n",
       "    <tr><td class='row_index'>0</td><td>0</td><td>0</td><td>260290</td><td>260290</td><td>0</td><td>0</td><td>0</td><td>0</td><td>ND</td><td>PE</td><td class=vellipsis>&hellip;</td><td>&minus;35.0253</td><td>27</td><td>26010</td><td>PE</td><td>1</td></tr>\n",
       "    <tr><td class='row_index'>1</td><td>0</td><td>0</td><td>260720</td><td>260290</td><td>1</td><td>0</td><td>16.8139</td><td>0.319111</td><td>ND</td><td>PE</td><td class=vellipsis>&hellip;</td><td>&minus;35.0253</td><td>27</td><td>26010</td><td>PE</td><td>1</td></tr>\n",
       "    <tr><td class='row_index'>2</td><td>0</td><td>0</td><td>260140</td><td>260290</td><td>1</td><td>1</td><td>73.9977</td><td>1.34642</td><td>ND</td><td>PE</td><td class=vellipsis>&hellip;</td><td>&minus;35.0253</td><td>94</td><td>26010</td><td>PE</td><td>2</td></tr>\n",
       "    <tr><td class='row_index'>3</td><td>0</td><td>0</td><td>260290</td><td>260290</td><td>0</td><td>0</td><td>0</td><td>0</td><td>ND</td><td>PE</td><td class=vellipsis>&hellip;</td><td>&minus;35.0253</td><td>94</td><td>26010</td><td>PE</td><td>2</td></tr>\n",
       "    <tr><td class='row_index'>4</td><td>0</td><td>0</td><td>260345</td><td>260290</td><td>1</td><td>0</td><td>42.4065</td><td>0.630306</td><td>ND</td><td>PE</td><td class=vellipsis>&hellip;</td><td>&minus;35.0253</td><td>94</td><td>26010</td><td>PE</td><td>2</td></tr>\n",
       "    <tr><td class='row_index'>5</td><td>0</td><td>0</td><td>260400</td><td>260290</td><td>1</td><td>1</td><td>81.5093</td><td>1.15006</td><td>ND</td><td>PE</td><td class=vellipsis>&hellip;</td><td>&minus;35.0253</td><td>94</td><td>26010</td><td>PE</td><td>1</td></tr>\n",
       "    <tr><td class='row_index'>6</td><td>0</td><td>0</td><td>260520</td><td>260290</td><td>1</td><td>1</td><td>27.9907</td><td>0.378972</td><td>ND</td><td>PE</td><td class=vellipsis>&hellip;</td><td>&minus;35.0253</td><td>94</td><td>26010</td><td>PE</td><td>2</td></tr>\n",
       "    <tr><td class='row_index'>7</td><td>0</td><td>0</td><td>260540</td><td>260290</td><td>1</td><td>1</td><td>103.117</td><td>1.53569</td><td>ND</td><td>PE</td><td class=vellipsis>&hellip;</td><td>&minus;35.0253</td><td>94</td><td>26010</td><td>PE</td><td>2</td></tr>\n",
       "    <tr><td class='row_index'>8</td><td>0</td><td>0</td><td>260640</td><td>260290</td><td>1</td><td>1</td><td>104</td><td>1.41492</td><td>ND</td><td>PE</td><td class=vellipsis>&hellip;</td><td>&minus;35.0253</td><td>94</td><td>26010</td><td>PE</td><td>2</td></tr>\n",
       "    <tr><td class='row_index'>9</td><td>0</td><td>0</td><td>260680</td><td>260290</td><td>1</td><td>0</td><td>62.8655</td><td>0.96025</td><td>ND</td><td>PE</td><td class=vellipsis>&hellip;</td><td>&minus;35.0253</td><td>94</td><td>26010</td><td>PE</td><td>1</td></tr>\n",
       "    <tr><td class='row_index'>10</td><td>0</td><td>0</td><td>260720</td><td>260290</td><td>1</td><td>0</td><td>16.8139</td><td>0.319111</td><td>ND</td><td>PE</td><td class=vellipsis>&hellip;</td><td>&minus;35.0253</td><td>94</td><td>26010</td><td>PE</td><td>2</td></tr>\n",
       "    <tr><td class='row_index'>11</td><td>0</td><td>0</td><td>260790</td><td>260290</td><td>1</td><td>0</td><td>19.3115</td><td>0.414222</td><td>ND</td><td>PE</td><td class=vellipsis>&hellip;</td><td>&minus;35.0253</td><td>94</td><td>26010</td><td>PE</td><td>2</td></tr>\n",
       "    <tr><td class='row_index'>12</td><td>0</td><td>0</td><td>260960</td><td>260290</td><td>1</td><td>0</td><td>41.4752</td><td>0.5945</td><td>ND</td><td>PE</td><td class=vellipsis>&hellip;</td><td>&minus;35.0253</td><td>94</td><td>26010</td><td>PE</td><td>2</td></tr>\n",
       "    <tr><td class='row_index'>13</td><td>0</td><td>0</td><td>261000</td><td>260290</td><td>1</td><td>1</td><td>89.2513</td><td>1.06403</td><td>ND</td><td>PE</td><td class=vellipsis>&hellip;</td><td>&minus;35.0253</td><td>94</td><td>26010</td><td>PE</td><td>1</td></tr>\n",
       "    <tr><td class='row_index'>14</td><td>0</td><td>0</td><td>261060</td><td>260290</td><td>1</td><td>1</td><td>69.3776</td><td>1.02681</td><td>ND</td><td>PE</td><td class=vellipsis>&hellip;</td><td>&minus;35.0253</td><td>94</td><td>26010</td><td>PE</td><td>1</td></tr>\n",
       "    <tr><td class='row_index'>&#x22EE;</td><td class='hellipsis'>&#x22EE;</td><td class='hellipsis'>&#x22EE;</td><td class='hellipsis'>&#x22EE;</td><td class='hellipsis'>&#x22EE;</td><td class='hellipsis'>&#x22EE;</td><td class='hellipsis'>&#x22EE;</td><td class='hellipsis'>&#x22EE;</td><td class='hellipsis'>&#x22EE;</td><td class='hellipsis'>&#x22EE;</td><td class='hellipsis'>&#x22EE;</td><td class='hellipsis'>&#x22F1;</td><td class='hellipsis'>&#x22EE;</td><td class='hellipsis'>&#x22EE;</td><td class='hellipsis'>&#x22EE;</td><td class='hellipsis'>&#x22EE;</td><td class='hellipsis'>&#x22EE;</td></tr>\n",
       "    <tr><td class='row_index'>124,980</td><td>1</td><td>1</td><td>315980</td><td>270430</td><td>1</td><td>1</td><td>2275.67</td><td>28.2836</td><td>SD</td><td>MG</td><td class=vellipsis>&hellip;</td><td>&minus;35.735</td><td>9923837</td><td>27001</td><td>AL</td><td>1</td></tr>\n",
       "    <tr><td class='row_index'>124,981</td><td>1</td><td>1</td><td>350400</td><td>270430</td><td>1</td><td>1</td><td>2599.62</td><td>31.9186</td><td>SD</td><td>SP</td><td class=vellipsis>&hellip;</td><td>&minus;35.735</td><td>9923837</td><td>27001</td><td>AL</td><td>1</td></tr>\n",
       "    <tr><td class='row_index'>124,982</td><td>1</td><td>1</td><td>351880</td><td>270430</td><td>1</td><td>1</td><td>2404.71</td><td>29.9013</td><td>SD</td><td>SP</td><td class=vellipsis>&hellip;</td><td>&minus;35.735</td><td>9923837</td><td>27001</td><td>AL</td><td>1</td></tr>\n",
       "    <tr><td class='row_index'>124,983</td><td>1</td><td>1</td><td>354100</td><td>270430</td><td>1</td><td>1</td><td>2490.4</td><td>31.2415</td><td>SD</td><td>SP</td><td class=vellipsis>&hellip;</td><td>&minus;35.735</td><td>9923837</td><td>27001</td><td>AL</td><td>1</td></tr>\n",
       "    <tr><td class='row_index'>124,984</td><td>1</td><td>1</td><td>510623</td><td>270430</td><td>1</td><td>1</td><td>3217.73</td><td>39.9407</td><td>CO</td><td>MT</td><td class=vellipsis>&hellip;</td><td>&minus;35.735</td><td>9923837</td><td>27001</td><td>AL</td><td>1</td></tr>\n",
       "  </tbody>\n",
       "  </table>\n",
       "  <div class='footer'>\n",
       "    <div class='frame_dimensions'>124,985 rows &times; 22 columns</div>\n",
       "  </div>\n",
       "</div>\n"
      ],
      "text/plain": [
       "<Frame#7fce028a6cf0 124985x22>"
      ]
     },
     "execution_count": 20,
     "metadata": {},
     "output_type": "execute_result"
    }
   ],
   "source": [
    "df_deslc = df_deslc[:, cols_order]\n",
    "df_deslc"
   ]
  },
  {
   "cell_type": "markdown",
   "metadata": {},
   "source": [
    "### Linhas"
   ]
  },
  {
   "cell_type": "code",
   "execution_count": 21,
   "metadata": {},
   "outputs": [
    {
     "data": {
      "text/html": [
       "<div class='datatable'>\n",
       "  <table class='frame'>\n",
       "  <thead>\n",
       "    <tr class='colnames'><td class='row_index'></td><th>bienio</th><th>parto_normal</th><th>origem</th><th>destino</th><th>mun_diff</th><th>regsau_diff</th><th>distancia</th><th>tempo</th><th>regiao</th><th>uf</th><th class='vellipsis'>&hellip;</th><th>hosp_longitude</th><th>hosp_cnes</th><th>hosp_regiao_saude</th><th>hosp_uf</th><th>count</th></tr>\n",
       "    <tr class='coltypes'><td class='row_index'></td><td class='bool' title='bool8'>&#x25AA;</td><td class='bool' title='bool8'>&#x25AA;</td><td class='int' title='int32'>&#x25AA;&#x25AA;&#x25AA;&#x25AA;</td><td class='int' title='int32'>&#x25AA;&#x25AA;&#x25AA;&#x25AA;</td><td class='bool' title='bool8'>&#x25AA;</td><td class='bool' title='bool8'>&#x25AA;</td><td class='float' title='float64'>&#x25AA;&#x25AA;&#x25AA;&#x25AA;&#x25AA;&#x25AA;&#x25AA;&#x25AA;</td><td class='float' title='float64'>&#x25AA;&#x25AA;&#x25AA;&#x25AA;&#x25AA;&#x25AA;&#x25AA;&#x25AA;</td><td class='str' title='str32'>&#x25AA;&#x25AA;&#x25AA;&#x25AA;</td><td class='str' title='str32'>&#x25AA;&#x25AA;&#x25AA;&#x25AA;</td><td></td><td class='float' title='float64'>&#x25AA;&#x25AA;&#x25AA;&#x25AA;&#x25AA;&#x25AA;&#x25AA;&#x25AA;</td><td class='int' title='int32'>&#x25AA;&#x25AA;&#x25AA;&#x25AA;</td><td class='int' title='int32'>&#x25AA;&#x25AA;&#x25AA;&#x25AA;</td><td class='str' title='str32'>&#x25AA;&#x25AA;&#x25AA;&#x25AA;</td><td class='int' title='int64'>&#x25AA;&#x25AA;&#x25AA;&#x25AA;&#x25AA;&#x25AA;&#x25AA;&#x25AA;</td></tr>\n",
       "  </thead>\n",
       "  <tbody>\n",
       "    <tr><td class='row_index'>0</td><td>0</td><td>0</td><td>110001</td><td>110001</td><td>0</td><td>0</td><td>0</td><td>0</td><td>NT</td><td>RO</td><td class=vellipsis>&hellip;</td><td>&minus;61.9953</td><td>2679477</td><td>11005</td><td>RO</td><td>2</td></tr>\n",
       "    <tr><td class='row_index'>1</td><td>0</td><td>0</td><td>110001</td><td>110012</td><td>1</td><td>1</td><td>130.77</td><td>2.54781</td><td>NT</td><td>RO</td><td class=vellipsis>&hellip;</td><td>&minus;61.9322</td><td>2495279</td><td>11003</td><td>RO</td><td>2</td></tr>\n",
       "    <tr><td class='row_index'>2</td><td>0</td><td>0</td><td>110001</td><td>110013</td><td>1</td><td>1</td><td>357.511</td><td>7.13067</td><td>NT</td><td>RO</td><td class=vellipsis>&hellip;</td><td>&minus;61.9818</td><td>2808617</td><td>11001</td><td>RO</td><td>1</td></tr>\n",
       "    <tr><td class='row_index'>3</td><td>0</td><td>0</td><td>110001</td><td>110018</td><td>1</td><td>1</td><td>114.061</td><td>1.87139</td><td>NT</td><td>RO</td><td class=vellipsis>&hellip;</td><td>&minus;61.198</td><td>2496534</td><td>11002</td><td>RO</td><td>1</td></tr>\n",
       "    <tr><td class='row_index'>4</td><td>0</td><td>0</td><td>110001</td><td>110020</td><td>1</td><td>1</td><td>505.856</td><td>9.16514</td><td>NT</td><td>RO</td><td class=vellipsis>&hellip;</td><td>&minus;63.8999</td><td>4001303</td><td>11004</td><td>RO</td><td>1</td></tr>\n",
       "    <tr><td class='row_index'>5</td><td>0</td><td>0</td><td>110001</td><td>110028</td><td>1</td><td>0</td><td>48.6099</td><td>0.835667</td><td>NT</td><td>RO</td><td class=vellipsis>&hellip;</td><td>&minus;61.7714</td><td>2495228</td><td>11005</td><td>RO</td><td>2</td></tr>\n",
       "    <tr><td class='row_index'>6</td><td>0</td><td>0</td><td>110001</td><td>351110</td><td>1</td><td>1</td><td>2196.35</td><td>30.8736</td><td>NT</td><td>RO</td><td class=vellipsis>&hellip;</td><td>&minus;48.977</td><td>2089327</td><td>35151</td><td>SP</td><td>1</td></tr>\n",
       "    <tr><td class='row_index'>7</td><td>0</td><td>0</td><td>110002</td><td>110002</td><td>0</td><td>0</td><td>0</td><td>0</td><td>NT</td><td>RO</td><td class=vellipsis>&hellip;</td><td>&minus;63.0325</td><td>2494299</td><td>11001</td><td>RO</td><td>2</td></tr>\n",
       "    <tr><td class='row_index'>8</td><td>0</td><td>0</td><td>110002</td><td>110011</td><td>1</td><td>1</td><td>95.4727</td><td>2.33883</td><td>NT</td><td>RO</td><td class=vellipsis>&hellip;</td><td>&minus;62.4788</td><td>2808609</td><td>11003</td><td>RO</td><td>1</td></tr>\n",
       "    <tr><td class='row_index'>9</td><td>0</td><td>0</td><td>110002</td><td>110012</td><td>1</td><td>1</td><td>181.364</td><td>3.735</td><td>NT</td><td>RO</td><td class=vellipsis>&hellip;</td><td>&minus;61.9322</td><td>2495279</td><td>11003</td><td>RO</td><td>1</td></tr>\n",
       "    <tr><td class='row_index'>10</td><td>0</td><td>0</td><td>110002</td><td>110020</td><td>1</td><td>1</td><td>203.582</td><td>3.13858</td><td>NT</td><td>RO</td><td class=vellipsis>&hellip;</td><td>&minus;63.8999</td><td>4001303</td><td>11004</td><td>RO</td><td>2</td></tr>\n",
       "    <tr><td class='row_index'>11</td><td>0</td><td>0</td><td>110002</td><td>110140</td><td>1</td><td>0</td><td>58.2922</td><td>0.905083</td><td>NT</td><td>RO</td><td class=vellipsis>&hellip;</td><td>&minus;63.29</td><td>4003039</td><td>11001</td><td>RO</td><td>1</td></tr>\n",
       "    <tr><td class='row_index'>12</td><td>0</td><td>0</td><td>110002</td><td>353060</td><td>1</td><td>1</td><td>3002.21</td><td>39.7158</td><td>NT</td><td>RO</td><td class=vellipsis>&hellip;</td><td>&minus;46.1854</td><td>2080052</td><td>35011</td><td>SP</td><td>1</td></tr>\n",
       "    <tr><td class='row_index'>13</td><td>0</td><td>0</td><td>110003</td><td>110002</td><td>1</td><td>1</td><td>610.689</td><td>10.3634</td><td>NT</td><td>RO</td><td class=vellipsis>&hellip;</td><td>&minus;63.0325</td><td>2494299</td><td>11001</td><td>RO</td><td>1</td></tr>\n",
       "    <tr><td class='row_index'>14</td><td>0</td><td>0</td><td>110003</td><td>110003</td><td>0</td><td>0</td><td>0</td><td>0</td><td>NT</td><td>RO</td><td class=vellipsis>&hellip;</td><td>&minus;60.552</td><td>2808528</td><td>11006</td><td>RO</td><td>2</td></tr>\n",
       "    <tr><td class='row_index'>&#x22EE;</td><td class='hellipsis'>&#x22EE;</td><td class='hellipsis'>&#x22EE;</td><td class='hellipsis'>&#x22EE;</td><td class='hellipsis'>&#x22EE;</td><td class='hellipsis'>&#x22EE;</td><td class='hellipsis'>&#x22EE;</td><td class='hellipsis'>&#x22EE;</td><td class='hellipsis'>&#x22EE;</td><td class='hellipsis'>&#x22EE;</td><td class='hellipsis'>&#x22EE;</td><td class='hellipsis'>&#x22F1;</td><td class='hellipsis'>&#x22EE;</td><td class='hellipsis'>&#x22EE;</td><td class='hellipsis'>&#x22EE;</td><td class='hellipsis'>&#x22EE;</td><td class='hellipsis'>&#x22EE;</td></tr>\n",
       "    <tr><td class='row_index'>124,980</td><td>1</td><td>1</td><td>530010</td><td>530010</td><td>0</td><td>0</td><td>0</td><td>0</td><td>CO</td><td>DF</td><td class=vellipsis>&hellip;</td><td>&minus;47.9297</td><td>10545</td><td>53001</td><td>DF</td><td>2</td></tr>\n",
       "    <tr><td class='row_index'>124,981</td><td>1</td><td>1</td><td>530010</td><td>530010</td><td>0</td><td>0</td><td>0</td><td>0</td><td>CO</td><td>DF</td><td class=vellipsis>&hellip;</td><td>&minus;47.9297</td><td>2645157</td><td>53001</td><td>DF</td><td>2</td></tr>\n",
       "    <tr><td class='row_index'>124,982</td><td>1</td><td>1</td><td>530010</td><td>530010</td><td>0</td><td>0</td><td>0</td><td>0</td><td>CO</td><td>DF</td><td class=vellipsis>&hellip;</td><td>&minus;47.9297</td><td>2650355</td><td>53001</td><td>DF</td><td>2</td></tr>\n",
       "    <tr><td class='row_index'>124,983</td><td>1</td><td>1</td><td>530010</td><td>530010</td><td>0</td><td>0</td><td>0</td><td>0</td><td>CO</td><td>DF</td><td class=vellipsis>&hellip;</td><td>&minus;47.9297</td><td>2672197</td><td>53001</td><td>DF</td><td>2</td></tr>\n",
       "    <tr><td class='row_index'>124,984</td><td>1</td><td>1</td><td>530010</td><td>530010</td><td>0</td><td>0</td><td>0</td><td>0</td><td>CO</td><td>DF</td><td class=vellipsis>&hellip;</td><td>&minus;47.9297</td><td>5717515</td><td>53001</td><td>DF</td><td>2</td></tr>\n",
       "  </tbody>\n",
       "  </table>\n",
       "  <div class='footer'>\n",
       "    <div class='frame_dimensions'>124,985 rows &times; 22 columns</div>\n",
       "  </div>\n",
       "</div>\n"
      ],
      "text/plain": [
       "<Frame#7fce028a6810 124985x22>"
      ]
     },
     "execution_count": 21,
     "metadata": {},
     "output_type": "execute_result"
    }
   ],
   "source": [
    "df_deslc = df_deslc.sort(f.bienio, f.parto_normal, f.origem, f.destino)\n",
    "df_deslc"
   ]
  },
  {
   "cell_type": "markdown",
   "metadata": {},
   "source": [
    "# Exportando tabela"
   ]
  },
  {
   "cell_type": "code",
   "execution_count": 22,
   "metadata": {},
   "outputs": [],
   "source": [
    "output_deslc = get_path('GESTANTES', 'deslocamentos.csv.gzip')\n",
    "df_deslc.to_csv(output_deslc)"
   ]
  },
  {
   "cell_type": "code",
   "execution_count": 23,
   "metadata": {},
   "outputs": [
    {
     "data": {
      "text/html": [
       "<div class='datatable'>\n",
       "  <table class='frame'>\n",
       "  <thead>\n",
       "    <tr class='colnames'><td class='row_index'></td><th>bienio</th><th>parto_normal</th><th>origem</th><th>destino</th><th>mun_diff</th><th>regsau_diff</th><th>distancia</th><th>tempo</th><th>regiao</th><th>uf</th><th class='vellipsis'>&hellip;</th><th>hosp_longitude</th><th>hosp_cnes</th><th>hosp_regiao_saude</th><th>hosp_uf</th><th>count</th></tr>\n",
       "    <tr class='coltypes'><td class='row_index'></td><td class='bool' title='bool8'>&#x25AA;</td><td class='bool' title='bool8'>&#x25AA;</td><td class='int' title='int32'>&#x25AA;&#x25AA;&#x25AA;&#x25AA;</td><td class='int' title='int32'>&#x25AA;&#x25AA;&#x25AA;&#x25AA;</td><td class='bool' title='bool8'>&#x25AA;</td><td class='bool' title='bool8'>&#x25AA;</td><td class='float' title='float64'>&#x25AA;&#x25AA;&#x25AA;&#x25AA;&#x25AA;&#x25AA;&#x25AA;&#x25AA;</td><td class='float' title='float64'>&#x25AA;&#x25AA;&#x25AA;&#x25AA;&#x25AA;&#x25AA;&#x25AA;&#x25AA;</td><td class='str' title='str32'>&#x25AA;&#x25AA;&#x25AA;&#x25AA;</td><td class='str' title='str32'>&#x25AA;&#x25AA;&#x25AA;&#x25AA;</td><td></td><td class='float' title='float64'>&#x25AA;&#x25AA;&#x25AA;&#x25AA;&#x25AA;&#x25AA;&#x25AA;&#x25AA;</td><td class='int' title='int32'>&#x25AA;&#x25AA;&#x25AA;&#x25AA;</td><td class='int' title='int32'>&#x25AA;&#x25AA;&#x25AA;&#x25AA;</td><td class='str' title='str32'>&#x25AA;&#x25AA;&#x25AA;&#x25AA;</td><td class='int' title='int32'>&#x25AA;&#x25AA;&#x25AA;&#x25AA;</td></tr>\n",
       "  </thead>\n",
       "  <tbody>\n",
       "    <tr><td class='row_index'>0</td><td>0</td><td>0</td><td>110001</td><td>110001</td><td>0</td><td>0</td><td>0</td><td>0</td><td>NT</td><td>RO</td><td class=vellipsis>&hellip;</td><td>&minus;61.9953</td><td>2679477</td><td>11005</td><td>RO</td><td>2</td></tr>\n",
       "    <tr><td class='row_index'>1</td><td>0</td><td>0</td><td>110001</td><td>110012</td><td>1</td><td>1</td><td>130.77</td><td>2.54781</td><td>NT</td><td>RO</td><td class=vellipsis>&hellip;</td><td>&minus;61.9322</td><td>2495279</td><td>11003</td><td>RO</td><td>2</td></tr>\n",
       "    <tr><td class='row_index'>2</td><td>0</td><td>0</td><td>110001</td><td>110013</td><td>1</td><td>1</td><td>357.511</td><td>7.13067</td><td>NT</td><td>RO</td><td class=vellipsis>&hellip;</td><td>&minus;61.9818</td><td>2808617</td><td>11001</td><td>RO</td><td>1</td></tr>\n",
       "    <tr><td class='row_index'>3</td><td>0</td><td>0</td><td>110001</td><td>110018</td><td>1</td><td>1</td><td>114.061</td><td>1.87139</td><td>NT</td><td>RO</td><td class=vellipsis>&hellip;</td><td>&minus;61.198</td><td>2496534</td><td>11002</td><td>RO</td><td>1</td></tr>\n",
       "    <tr><td class='row_index'>4</td><td>0</td><td>0</td><td>110001</td><td>110020</td><td>1</td><td>1</td><td>505.856</td><td>9.16514</td><td>NT</td><td>RO</td><td class=vellipsis>&hellip;</td><td>&minus;63.8999</td><td>4001303</td><td>11004</td><td>RO</td><td>1</td></tr>\n",
       "    <tr><td class='row_index'>5</td><td>0</td><td>0</td><td>110001</td><td>110028</td><td>1</td><td>0</td><td>48.6099</td><td>0.835667</td><td>NT</td><td>RO</td><td class=vellipsis>&hellip;</td><td>&minus;61.7714</td><td>2495228</td><td>11005</td><td>RO</td><td>2</td></tr>\n",
       "    <tr><td class='row_index'>6</td><td>0</td><td>0</td><td>110001</td><td>351110</td><td>1</td><td>1</td><td>2196.35</td><td>30.8736</td><td>NT</td><td>RO</td><td class=vellipsis>&hellip;</td><td>&minus;48.977</td><td>2089327</td><td>35151</td><td>SP</td><td>1</td></tr>\n",
       "    <tr><td class='row_index'>7</td><td>0</td><td>0</td><td>110002</td><td>110002</td><td>0</td><td>0</td><td>0</td><td>0</td><td>NT</td><td>RO</td><td class=vellipsis>&hellip;</td><td>&minus;63.0325</td><td>2494299</td><td>11001</td><td>RO</td><td>2</td></tr>\n",
       "    <tr><td class='row_index'>8</td><td>0</td><td>0</td><td>110002</td><td>110011</td><td>1</td><td>1</td><td>95.4727</td><td>2.33883</td><td>NT</td><td>RO</td><td class=vellipsis>&hellip;</td><td>&minus;62.4788</td><td>2808609</td><td>11003</td><td>RO</td><td>1</td></tr>\n",
       "    <tr><td class='row_index'>9</td><td>0</td><td>0</td><td>110002</td><td>110012</td><td>1</td><td>1</td><td>181.364</td><td>3.735</td><td>NT</td><td>RO</td><td class=vellipsis>&hellip;</td><td>&minus;61.9322</td><td>2495279</td><td>11003</td><td>RO</td><td>1</td></tr>\n",
       "    <tr><td class='row_index'>10</td><td>0</td><td>0</td><td>110002</td><td>110020</td><td>1</td><td>1</td><td>203.582</td><td>3.13858</td><td>NT</td><td>RO</td><td class=vellipsis>&hellip;</td><td>&minus;63.8999</td><td>4001303</td><td>11004</td><td>RO</td><td>2</td></tr>\n",
       "    <tr><td class='row_index'>11</td><td>0</td><td>0</td><td>110002</td><td>110140</td><td>1</td><td>0</td><td>58.2922</td><td>0.905083</td><td>NT</td><td>RO</td><td class=vellipsis>&hellip;</td><td>&minus;63.29</td><td>4003039</td><td>11001</td><td>RO</td><td>1</td></tr>\n",
       "    <tr><td class='row_index'>12</td><td>0</td><td>0</td><td>110002</td><td>353060</td><td>1</td><td>1</td><td>3002.21</td><td>39.7158</td><td>NT</td><td>RO</td><td class=vellipsis>&hellip;</td><td>&minus;46.1854</td><td>2080052</td><td>35011</td><td>SP</td><td>1</td></tr>\n",
       "    <tr><td class='row_index'>13</td><td>0</td><td>0</td><td>110003</td><td>110002</td><td>1</td><td>1</td><td>610.689</td><td>10.3634</td><td>NT</td><td>RO</td><td class=vellipsis>&hellip;</td><td>&minus;63.0325</td><td>2494299</td><td>11001</td><td>RO</td><td>1</td></tr>\n",
       "    <tr><td class='row_index'>14</td><td>0</td><td>0</td><td>110003</td><td>110003</td><td>0</td><td>0</td><td>0</td><td>0</td><td>NT</td><td>RO</td><td class=vellipsis>&hellip;</td><td>&minus;60.552</td><td>2808528</td><td>11006</td><td>RO</td><td>2</td></tr>\n",
       "    <tr><td class='row_index'>&#x22EE;</td><td class='hellipsis'>&#x22EE;</td><td class='hellipsis'>&#x22EE;</td><td class='hellipsis'>&#x22EE;</td><td class='hellipsis'>&#x22EE;</td><td class='hellipsis'>&#x22EE;</td><td class='hellipsis'>&#x22EE;</td><td class='hellipsis'>&#x22EE;</td><td class='hellipsis'>&#x22EE;</td><td class='hellipsis'>&#x22EE;</td><td class='hellipsis'>&#x22EE;</td><td class='hellipsis'>&#x22F1;</td><td class='hellipsis'>&#x22EE;</td><td class='hellipsis'>&#x22EE;</td><td class='hellipsis'>&#x22EE;</td><td class='hellipsis'>&#x22EE;</td><td class='hellipsis'>&#x22EE;</td></tr>\n",
       "    <tr><td class='row_index'>124,980</td><td>1</td><td>1</td><td>530010</td><td>530010</td><td>0</td><td>0</td><td>0</td><td>0</td><td>CO</td><td>DF</td><td class=vellipsis>&hellip;</td><td>&minus;47.9297</td><td>10545</td><td>53001</td><td>DF</td><td>2</td></tr>\n",
       "    <tr><td class='row_index'>124,981</td><td>1</td><td>1</td><td>530010</td><td>530010</td><td>0</td><td>0</td><td>0</td><td>0</td><td>CO</td><td>DF</td><td class=vellipsis>&hellip;</td><td>&minus;47.9297</td><td>2645157</td><td>53001</td><td>DF</td><td>2</td></tr>\n",
       "    <tr><td class='row_index'>124,982</td><td>1</td><td>1</td><td>530010</td><td>530010</td><td>0</td><td>0</td><td>0</td><td>0</td><td>CO</td><td>DF</td><td class=vellipsis>&hellip;</td><td>&minus;47.9297</td><td>2650355</td><td>53001</td><td>DF</td><td>2</td></tr>\n",
       "    <tr><td class='row_index'>124,983</td><td>1</td><td>1</td><td>530010</td><td>530010</td><td>0</td><td>0</td><td>0</td><td>0</td><td>CO</td><td>DF</td><td class=vellipsis>&hellip;</td><td>&minus;47.9297</td><td>2672197</td><td>53001</td><td>DF</td><td>2</td></tr>\n",
       "    <tr><td class='row_index'>124,984</td><td>1</td><td>1</td><td>530010</td><td>530010</td><td>0</td><td>0</td><td>0</td><td>0</td><td>CO</td><td>DF</td><td class=vellipsis>&hellip;</td><td>&minus;47.9297</td><td>5717515</td><td>53001</td><td>DF</td><td>2</td></tr>\n",
       "  </tbody>\n",
       "  </table>\n",
       "  <div class='footer'>\n",
       "    <div class='frame_dimensions'>124,985 rows &times; 22 columns</div>\n",
       "  </div>\n",
       "</div>\n"
      ],
      "text/plain": [
       "<Frame#7fce01725060 124985x22>"
      ]
     },
     "execution_count": 23,
     "metadata": {},
     "output_type": "execute_result"
    }
   ],
   "source": [
    "dt.fread(output_deslc)"
   ]
  },
  {
   "cell_type": "markdown",
   "metadata": {},
   "source": [
    "# Tabelas Filtradas"
   ]
  },
  {
   "cell_type": "markdown",
   "metadata": {},
   "source": [
    "## Tabela referência"
   ]
  },
  {
   "cell_type": "code",
   "execution_count": 24,
   "metadata": {},
   "outputs": [],
   "source": [
    "df_deslc = dt.fread(output_deslc)"
   ]
  },
  {
   "cell_type": "markdown",
   "metadata": {},
   "source": [
    "## Brasil (sem CNES)"
   ]
  },
  {
   "cell_type": "code",
   "execution_count": 25,
   "metadata": {},
   "outputs": [
    {
     "data": {
      "text/html": [
       "<div class='datatable'>\n",
       "  <table class='frame'>\n",
       "  <thead>\n",
       "    <tr class='colnames'><td class='row_index'></td><th>bienio</th><th>parto_normal</th><th>origem</th><th>destino</th><th>mun_diff</th><th>regsau_diff</th><th>distancia</th><th>tempo</th><th>regiao</th><th>uf</th><th class='vellipsis'>&hellip;</th><th>hosp_latitude</th><th>hosp_longitude</th><th>hosp_regiao_saude</th><th>hosp_uf</th><th>count</th></tr>\n",
       "    <tr class='coltypes'><td class='row_index'></td><td class='bool' title='bool8'>&#x25AA;</td><td class='bool' title='bool8'>&#x25AA;</td><td class='int' title='int32'>&#x25AA;&#x25AA;&#x25AA;&#x25AA;</td><td class='int' title='int32'>&#x25AA;&#x25AA;&#x25AA;&#x25AA;</td><td class='bool' title='bool8'>&#x25AA;</td><td class='bool' title='bool8'>&#x25AA;</td><td class='float' title='float64'>&#x25AA;&#x25AA;&#x25AA;&#x25AA;&#x25AA;&#x25AA;&#x25AA;&#x25AA;</td><td class='float' title='float64'>&#x25AA;&#x25AA;&#x25AA;&#x25AA;&#x25AA;&#x25AA;&#x25AA;&#x25AA;</td><td class='str' title='str32'>&#x25AA;&#x25AA;&#x25AA;&#x25AA;</td><td class='str' title='str32'>&#x25AA;&#x25AA;&#x25AA;&#x25AA;</td><td></td><td class='float' title='float64'>&#x25AA;&#x25AA;&#x25AA;&#x25AA;&#x25AA;&#x25AA;&#x25AA;&#x25AA;</td><td class='float' title='float64'>&#x25AA;&#x25AA;&#x25AA;&#x25AA;&#x25AA;&#x25AA;&#x25AA;&#x25AA;</td><td class='int' title='int32'>&#x25AA;&#x25AA;&#x25AA;&#x25AA;</td><td class='str' title='str32'>&#x25AA;&#x25AA;&#x25AA;&#x25AA;</td><td class='int' title='int64'>&#x25AA;&#x25AA;&#x25AA;&#x25AA;&#x25AA;&#x25AA;&#x25AA;&#x25AA;</td></tr>\n",
       "  </thead>\n",
       "  <tbody>\n",
       "    <tr><td class='row_index'>0</td><td>0</td><td>0</td><td>110001</td><td>110001</td><td>0</td><td>0</td><td>0</td><td>0</td><td>NT</td><td>RO</td><td class=vellipsis>&hellip;</td><td>&minus;11.9283</td><td>&minus;61.9953</td><td>11005</td><td>RO</td><td>2</td></tr>\n",
       "    <tr><td class='row_index'>1</td><td>0</td><td>0</td><td>110001</td><td>110012</td><td>1</td><td>1</td><td>130.77</td><td>2.54781</td><td>NT</td><td>RO</td><td class=vellipsis>&hellip;</td><td>&minus;10.8777</td><td>&minus;61.9322</td><td>11003</td><td>RO</td><td>2</td></tr>\n",
       "    <tr><td class='row_index'>2</td><td>0</td><td>0</td><td>110001</td><td>110013</td><td>1</td><td>1</td><td>357.511</td><td>7.13067</td><td>NT</td><td>RO</td><td class=vellipsis>&hellip;</td><td>&minus;9.44363</td><td>&minus;61.9818</td><td>11001</td><td>RO</td><td>1</td></tr>\n",
       "    <tr><td class='row_index'>3</td><td>0</td><td>0</td><td>110001</td><td>110018</td><td>1</td><td>1</td><td>114.061</td><td>1.87139</td><td>NT</td><td>RO</td><td class=vellipsis>&hellip;</td><td>&minus;11.672</td><td>&minus;61.198</td><td>11002</td><td>RO</td><td>1</td></tr>\n",
       "    <tr><td class='row_index'>4</td><td>0</td><td>0</td><td>110001</td><td>110020</td><td>1</td><td>1</td><td>505.856</td><td>9.16514</td><td>NT</td><td>RO</td><td class=vellipsis>&hellip;</td><td>&minus;8.76077</td><td>&minus;63.8999</td><td>11004</td><td>RO</td><td>1</td></tr>\n",
       "    <tr><td class='row_index'>5</td><td>0</td><td>0</td><td>110001</td><td>110028</td><td>1</td><td>0</td><td>48.6099</td><td>0.835667</td><td>NT</td><td>RO</td><td class=vellipsis>&hellip;</td><td>&minus;11.7271</td><td>&minus;61.7714</td><td>11005</td><td>RO</td><td>2</td></tr>\n",
       "    <tr><td class='row_index'>6</td><td>0</td><td>0</td><td>110001</td><td>351110</td><td>1</td><td>1</td><td>2196.35</td><td>30.8736</td><td>NT</td><td>RO</td><td class=vellipsis>&hellip;</td><td>&minus;21.1314</td><td>&minus;48.977</td><td>35151</td><td>SP</td><td>1</td></tr>\n",
       "    <tr><td class='row_index'>7</td><td>0</td><td>0</td><td>110002</td><td>110002</td><td>0</td><td>0</td><td>0</td><td>0</td><td>NT</td><td>RO</td><td class=vellipsis>&hellip;</td><td>&minus;9.90571</td><td>&minus;63.0325</td><td>11001</td><td>RO</td><td>2</td></tr>\n",
       "    <tr><td class='row_index'>8</td><td>0</td><td>0</td><td>110002</td><td>110011</td><td>1</td><td>1</td><td>95.4727</td><td>2.33883</td><td>NT</td><td>RO</td><td class=vellipsis>&hellip;</td><td>&minus;10.4318</td><td>&minus;62.4788</td><td>11003</td><td>RO</td><td>1</td></tr>\n",
       "    <tr><td class='row_index'>9</td><td>0</td><td>0</td><td>110002</td><td>110012</td><td>1</td><td>1</td><td>181.364</td><td>3.735</td><td>NT</td><td>RO</td><td class=vellipsis>&hellip;</td><td>&minus;10.8777</td><td>&minus;61.9322</td><td>11003</td><td>RO</td><td>1</td></tr>\n",
       "    <tr><td class='row_index'>10</td><td>0</td><td>0</td><td>110002</td><td>110020</td><td>1</td><td>1</td><td>203.582</td><td>3.13858</td><td>NT</td><td>RO</td><td class=vellipsis>&hellip;</td><td>&minus;8.76077</td><td>&minus;63.8999</td><td>11004</td><td>RO</td><td>2</td></tr>\n",
       "    <tr><td class='row_index'>11</td><td>0</td><td>0</td><td>110002</td><td>110140</td><td>1</td><td>0</td><td>58.2922</td><td>0.905083</td><td>NT</td><td>RO</td><td class=vellipsis>&hellip;</td><td>&minus;10.2458</td><td>&minus;63.29</td><td>11001</td><td>RO</td><td>1</td></tr>\n",
       "    <tr><td class='row_index'>12</td><td>0</td><td>0</td><td>110002</td><td>353060</td><td>1</td><td>1</td><td>3002.21</td><td>39.7158</td><td>NT</td><td>RO</td><td class=vellipsis>&hellip;</td><td>&minus;23.5208</td><td>&minus;46.1854</td><td>35011</td><td>SP</td><td>1</td></tr>\n",
       "    <tr><td class='row_index'>13</td><td>0</td><td>0</td><td>110003</td><td>110002</td><td>1</td><td>1</td><td>610.689</td><td>10.3634</td><td>NT</td><td>RO</td><td class=vellipsis>&hellip;</td><td>&minus;9.90571</td><td>&minus;63.0325</td><td>11001</td><td>RO</td><td>1</td></tr>\n",
       "    <tr><td class='row_index'>14</td><td>0</td><td>0</td><td>110003</td><td>110003</td><td>0</td><td>0</td><td>0</td><td>0</td><td>NT</td><td>RO</td><td class=vellipsis>&hellip;</td><td>&minus;13.4945</td><td>&minus;60.552</td><td>11006</td><td>RO</td><td>2</td></tr>\n",
       "    <tr><td class='row_index'>&#x22EE;</td><td class='hellipsis'>&#x22EE;</td><td class='hellipsis'>&#x22EE;</td><td class='hellipsis'>&#x22EE;</td><td class='hellipsis'>&#x22EE;</td><td class='hellipsis'>&#x22EE;</td><td class='hellipsis'>&#x22EE;</td><td class='hellipsis'>&#x22EE;</td><td class='hellipsis'>&#x22EE;</td><td class='hellipsis'>&#x22EE;</td><td class='hellipsis'>&#x22EE;</td><td class='hellipsis'>&#x22F1;</td><td class='hellipsis'>&#x22EE;</td><td class='hellipsis'>&#x22EE;</td><td class='hellipsis'>&#x22EE;</td><td class='hellipsis'>&#x22EE;</td><td class='hellipsis'>&#x22EE;</td></tr>\n",
       "    <tr><td class='row_index'>98,197</td><td>1</td><td>1</td><td>530010</td><td>521770</td><td>1</td><td>1</td><td>328.373</td><td>4.72139</td><td>CO</td><td>DF</td><td class=vellipsis>&hellip;</td><td>&minus;17.5225</td><td>&minus;49.4489</td><td>52002</td><td>GO</td><td>1</td></tr>\n",
       "    <tr><td class='row_index'>98,198</td><td>1</td><td>1</td><td>530010</td><td>521975</td><td>1</td><td>1</td><td>47.5387</td><td>0.79175</td><td>CO</td><td>DF</td><td class=vellipsis>&hellip;</td><td>&minus;15.9412</td><td>&minus;48.2578</td><td>52004</td><td>GO</td><td>1</td></tr>\n",
       "    <tr><td class='row_index'>98,199</td><td>1</td><td>1</td><td>530010</td><td>522045</td><td>1</td><td>1</td><td>207.413</td><td>3.05281</td><td>CO</td><td>DF</td><td class=vellipsis>&hellip;</td><td>&minus;16.7084</td><td>&minus;49.0914</td><td>52002</td><td>GO</td><td>1</td></tr>\n",
       "    <tr><td class='row_index'>98,200</td><td>1</td><td>1</td><td>530010</td><td>522068</td><td>1</td><td>1</td><td>255.555</td><td>3.338</td><td>CO</td><td>DF</td><td class=vellipsis>&hellip;</td><td>&minus;14.4644</td><td>&minus;46.4847</td><td>52007</td><td>GO</td><td>1</td></tr>\n",
       "    <tr><td class='row_index'>98,201</td><td>1</td><td>1</td><td>530010</td><td>530010</td><td>0</td><td>0</td><td>0</td><td>0</td><td>CO</td><td>DF</td><td class=vellipsis>&hellip;</td><td>&minus;15.7795</td><td>&minus;47.9297</td><td>53001</td><td>DF</td><td>26</td></tr>\n",
       "  </tbody>\n",
       "  </table>\n",
       "  <div class='footer'>\n",
       "    <div class='frame_dimensions'>98,202 rows &times; 21 columns</div>\n",
       "  </div>\n",
       "</div>\n"
      ],
      "text/plain": [
       "<Frame#7fce01a1b4b0 98202x21>"
      ]
     },
     "execution_count": 25,
     "metadata": {},
     "output_type": "execute_result"
    }
   ],
   "source": [
    "df_deslc_brasil = df_deslc[:, f[:].remove(f.hosp_cnes)]\n",
    "df_deslc_brasil = df_deslc_brasil[:, dt.sum(f.count), dt.by(df_deslc_brasil.names[:-1])]\n",
    "df_deslc_brasil"
   ]
  },
  {
   "cell_type": "code",
   "execution_count": 26,
   "metadata": {},
   "outputs": [],
   "source": [
    "output_deslc_brasil = get_path('GESTANTES', 'deslocamentos_brasil.csv.gzip') # xlsx\n",
    "df_deslc_brasil.to_csv(output_deslc_brasil)\n",
    "pd.read_csv(output_deslc_brasil).to_excel(output_deslc_brasil.replace('csv.gzip', 'xlsx'), index=False)\n",
    "# df_deslc_brasil.to_pandas().to_excel(output_deslc_brasil, index=False)"
   ]
  },
  {
   "cell_type": "markdown",
   "metadata": {},
   "source": [
    "## RJ"
   ]
  },
  {
   "cell_type": "markdown",
   "metadata": {},
   "source": [
    "### Com CNES"
   ]
  },
  {
   "cell_type": "code",
   "execution_count": 27,
   "metadata": {},
   "outputs": [
    {
     "data": {
      "text/html": [
       "<div class='datatable'>\n",
       "  <table class='frame'>\n",
       "  <thead>\n",
       "    <tr class='colnames'><td class='row_index'></td><th>bienio</th><th>parto_normal</th><th>origem</th><th>destino</th><th>mun_diff</th><th>regsau_diff</th><th>distancia</th><th>tempo</th><th>regiao</th><th>uf</th><th class='vellipsis'>&hellip;</th><th>hosp_longitude</th><th>hosp_cnes</th><th>hosp_regiao_saude</th><th>hosp_uf</th><th>count</th></tr>\n",
       "    <tr class='coltypes'><td class='row_index'></td><td class='bool' title='bool8'>&#x25AA;</td><td class='bool' title='bool8'>&#x25AA;</td><td class='int' title='int32'>&#x25AA;&#x25AA;&#x25AA;&#x25AA;</td><td class='int' title='int32'>&#x25AA;&#x25AA;&#x25AA;&#x25AA;</td><td class='bool' title='bool8'>&#x25AA;</td><td class='bool' title='bool8'>&#x25AA;</td><td class='float' title='float64'>&#x25AA;&#x25AA;&#x25AA;&#x25AA;&#x25AA;&#x25AA;&#x25AA;&#x25AA;</td><td class='float' title='float64'>&#x25AA;&#x25AA;&#x25AA;&#x25AA;&#x25AA;&#x25AA;&#x25AA;&#x25AA;</td><td class='str' title='str32'>&#x25AA;&#x25AA;&#x25AA;&#x25AA;</td><td class='str' title='str32'>&#x25AA;&#x25AA;&#x25AA;&#x25AA;</td><td></td><td class='float' title='float64'>&#x25AA;&#x25AA;&#x25AA;&#x25AA;&#x25AA;&#x25AA;&#x25AA;&#x25AA;</td><td class='int' title='int32'>&#x25AA;&#x25AA;&#x25AA;&#x25AA;</td><td class='int' title='int32'>&#x25AA;&#x25AA;&#x25AA;&#x25AA;</td><td class='str' title='str32'>&#x25AA;&#x25AA;&#x25AA;&#x25AA;</td><td class='int' title='int32'>&#x25AA;&#x25AA;&#x25AA;&#x25AA;</td></tr>\n",
       "  </thead>\n",
       "  <tbody>\n",
       "    <tr><td class='row_index'>0</td><td>0</td><td>0</td><td>330010</td><td>320245</td><td>1</td><td>1</td><td>614.613</td><td>7.66281</td><td>SD</td><td>RJ</td><td class=vellipsis>&hellip;</td><td>&minus;41.5087</td><td>2448203</td><td>32002</td><td>ES</td><td>1</td></tr>\n",
       "    <tr><td class='row_index'>1</td><td>0</td><td>0</td><td>330010</td><td>330010</td><td>0</td><td>0</td><td>0</td><td>0</td><td>SD</td><td>RJ</td><td class=vellipsis>&hellip;</td><td>&minus;44.3196</td><td>2280868</td><td>33001</td><td>RJ</td><td>2</td></tr>\n",
       "    <tr><td class='row_index'>2</td><td>0</td><td>0</td><td>330010</td><td>330010</td><td>0</td><td>0</td><td>0</td><td>0</td><td>SD</td><td>RJ</td><td class=vellipsis>&hellip;</td><td>&minus;44.3196</td><td>2281384</td><td>33001</td><td>RJ</td><td>2</td></tr>\n",
       "    <tr><td class='row_index'>3</td><td>0</td><td>0</td><td>330010</td><td>351840</td><td>1</td><td>1</td><td>222.988</td><td>3.47778</td><td>SD</td><td>RJ</td><td class=vellipsis>&hellip;</td><td>&minus;45.1938</td><td>2081512</td><td>35172</td><td>SP</td><td>1</td></tr>\n",
       "    <tr><td class='row_index'>4</td><td>0</td><td>0</td><td>330020</td><td>330020</td><td>0</td><td>0</td><td>0</td><td>0</td><td>SD</td><td>RJ</td><td class=vellipsis>&hellip;</td><td>&minus;42.3326</td><td>2273098</td><td>33002</td><td>RJ</td><td>2</td></tr>\n",
       "    <tr><td class='row_index'>5</td><td>0</td><td>0</td><td>330020</td><td>330070</td><td>1</td><td>0</td><td>43.1787</td><td>0.650056</td><td>SD</td><td>RJ</td><td class=vellipsis>&hellip;</td><td>&minus;42.0286</td><td>5903394</td><td>33002</td><td>RJ</td><td>2</td></tr>\n",
       "    <tr><td class='row_index'>6</td><td>0</td><td>0</td><td>330020</td><td>330455</td><td>1</td><td>1</td><td>118.052</td><td>1.55372</td><td>SD</td><td>RJ</td><td class=vellipsis>&hellip;</td><td>&minus;43.2003</td><td>2270390</td><td>33005</td><td>RJ</td><td>1</td></tr>\n",
       "    <tr><td class='row_index'>7</td><td>0</td><td>0</td><td>330020</td><td>330455</td><td>1</td><td>1</td><td>118.052</td><td>1.55372</td><td>SD</td><td>RJ</td><td class=vellipsis>&hellip;</td><td>&minus;43.2003</td><td>2273438</td><td>33005</td><td>RJ</td><td>1</td></tr>\n",
       "    <tr><td class='row_index'>8</td><td>0</td><td>0</td><td>330020</td><td>330520</td><td>1</td><td>0</td><td>31.0431</td><td>0.417139</td><td>SD</td><td>RJ</td><td class=vellipsis>&hellip;</td><td>&minus;42.1026</td><td>2280477</td><td>33002</td><td>RJ</td><td>1</td></tr>\n",
       "    <tr><td class='row_index'>9</td><td>0</td><td>0</td><td>330020</td><td>330550</td><td>1</td><td>0</td><td>22.8379</td><td>0.348</td><td>SD</td><td>RJ</td><td class=vellipsis>&hellip;</td><td>&minus;42.5099</td><td>2274299</td><td>33002</td><td>RJ</td><td>1</td></tr>\n",
       "    <tr><td class='row_index'>10</td><td>0</td><td>0</td><td>330022</td><td>330600</td><td>1</td><td>0</td><td>25.1655</td><td>0.377083</td><td>SD</td><td>RJ</td><td class=vellipsis>&hellip;</td><td>&minus;43.2185</td><td>2294923</td><td>33003</td><td>RJ</td><td>2</td></tr>\n",
       "    <tr><td class='row_index'>11</td><td>0</td><td>0</td><td>330023</td><td>330023</td><td>0</td><td>0</td><td>0</td><td>0</td><td>SD</td><td>RJ</td><td class=vellipsis>&hellip;</td><td>&minus;41.8846</td><td>6200702</td><td>33002</td><td>RJ</td><td>1</td></tr>\n",
       "    <tr><td class='row_index'>12</td><td>0</td><td>0</td><td>330023</td><td>330070</td><td>1</td><td>0</td><td>26.375</td><td>0.542528</td><td>SD</td><td>RJ</td><td class=vellipsis>&hellip;</td><td>&minus;42.0286</td><td>5903394</td><td>33002</td><td>RJ</td><td>1</td></tr>\n",
       "    <tr><td class='row_index'>13</td><td>0</td><td>0</td><td>330023</td><td>330520</td><td>1</td><td>0</td><td>32.2808</td><td>0.655444</td><td>SD</td><td>RJ</td><td class=vellipsis>&hellip;</td><td>&minus;42.1026</td><td>2280477</td><td>33002</td><td>RJ</td><td>1</td></tr>\n",
       "    <tr><td class='row_index'>14</td><td>0</td><td>0</td><td>330025</td><td>330020</td><td>1</td><td>0</td><td>54.1154</td><td>0.823222</td><td>SD</td><td>RJ</td><td class=vellipsis>&hellip;</td><td>&minus;42.3326</td><td>2273098</td><td>33002</td><td>RJ</td><td>1</td></tr>\n",
       "    <tr><td class='row_index'>&#x22EE;</td><td class='hellipsis'>&#x22EE;</td><td class='hellipsis'>&#x22EE;</td><td class='hellipsis'>&#x22EE;</td><td class='hellipsis'>&#x22EE;</td><td class='hellipsis'>&#x22EE;</td><td class='hellipsis'>&#x22EE;</td><td class='hellipsis'>&#x22EE;</td><td class='hellipsis'>&#x22EE;</td><td class='hellipsis'>&#x22EE;</td><td class='hellipsis'>&#x22EE;</td><td class='hellipsis'>&#x22F1;</td><td class='hellipsis'>&#x22EE;</td><td class='hellipsis'>&#x22EE;</td><td class='hellipsis'>&#x22EE;</td><td class='hellipsis'>&#x22EE;</td><td class='hellipsis'>&#x22EE;</td></tr>\n",
       "    <tr><td class='row_index'>3459</td><td>1</td><td>1</td><td>330630</td><td>330395</td><td>1</td><td>0</td><td>15.8369</td><td>0.40825</td><td>SD</td><td>RJ</td><td class=vellipsis>&hellip;</td><td>&minus;44.0022</td><td>2271141</td><td>33004</td><td>RJ</td><td>1</td></tr>\n",
       "    <tr><td class='row_index'>3460</td><td>1</td><td>1</td><td>330630</td><td>330411</td><td>1</td><td>0</td><td>35.1378</td><td>0.636833</td><td>SD</td><td>RJ</td><td class=vellipsis>&hellip;</td><td>&minus;44.2952</td><td>5307864</td><td>33004</td><td>RJ</td><td>1</td></tr>\n",
       "    <tr><td class='row_index'>3461</td><td>1</td><td>1</td><td>330630</td><td>330455</td><td>1</td><td>1</td><td>127.433</td><td>1.93703</td><td>SD</td><td>RJ</td><td class=vellipsis>&hellip;</td><td>&minus;43.2003</td><td>7027397</td><td>33005</td><td>RJ</td><td>1</td></tr>\n",
       "    <tr><td class='row_index'>3462</td><td>1</td><td>1</td><td>330630</td><td>330490</td><td>1</td><td>1</td><td>146.808</td><td>2.26831</td><td>SD</td><td>RJ</td><td class=vellipsis>&hellip;</td><td>&minus;43.0634</td><td>2297590</td><td>33006</td><td>RJ</td><td>1</td></tr>\n",
       "    <tr><td class='row_index'>3463</td><td>1</td><td>1</td><td>330630</td><td>330630</td><td>0</td><td>0</td><td>0</td><td>0</td><td>SD</td><td>RJ</td><td class=vellipsis>&hellip;</td><td>&minus;44.0996</td><td>25135</td><td>33004</td><td>RJ</td><td>2</td></tr>\n",
       "  </tbody>\n",
       "  </table>\n",
       "  <div class='footer'>\n",
       "    <div class='frame_dimensions'>3464 rows &times; 22 columns</div>\n",
       "  </div>\n",
       "</div>\n"
      ],
      "text/plain": [
       "<Frame#7fcdf1694c60 3464x22>"
      ]
     },
     "execution_count": 27,
     "metadata": {},
     "output_type": "execute_result"
    }
   ],
   "source": [
    "df_deslc_rj_cnes = df_deslc[(f.uf == 'RJ'), :]\n",
    "df_deslc_rj_cnes"
   ]
  },
  {
   "cell_type": "code",
   "execution_count": 28,
   "metadata": {},
   "outputs": [],
   "source": [
    "output_rj_cnes = get_path('GESTANTES', 'deslocamentos_rj_cnes.csv.gzip') # xlsx\n",
    "df_deslc_rj_cnes.to_csv(output_rj_cnes)\n",
    "pd.read_csv(output_rj_cnes).to_excel(output_rj_cnes.replace('csv.gzip', 'xlsx'), index=False)\n",
    "# df_deslc_rj_cnes.to_pandas().to_excel(output_rj_cnes, index=False)"
   ]
  },
  {
   "cell_type": "markdown",
   "metadata": {},
   "source": [
    "### Sem CNES"
   ]
  },
  {
   "cell_type": "code",
   "execution_count": 29,
   "metadata": {},
   "outputs": [
    {
     "data": {
      "text/html": [
       "<div class='datatable'>\n",
       "  <table class='frame'>\n",
       "  <thead>\n",
       "    <tr class='colnames'><td class='row_index'></td><th>bienio</th><th>parto_normal</th><th>origem</th><th>destino</th><th>mun_diff</th><th>regsau_diff</th><th>distancia</th><th>tempo</th><th>regiao</th><th>uf</th><th class='vellipsis'>&hellip;</th><th>hosp_latitude</th><th>hosp_longitude</th><th>hosp_regiao_saude</th><th>hosp_uf</th><th>count</th></tr>\n",
       "    <tr class='coltypes'><td class='row_index'></td><td class='bool' title='bool8'>&#x25AA;</td><td class='bool' title='bool8'>&#x25AA;</td><td class='int' title='int32'>&#x25AA;&#x25AA;&#x25AA;&#x25AA;</td><td class='int' title='int32'>&#x25AA;&#x25AA;&#x25AA;&#x25AA;</td><td class='bool' title='bool8'>&#x25AA;</td><td class='bool' title='bool8'>&#x25AA;</td><td class='float' title='float64'>&#x25AA;&#x25AA;&#x25AA;&#x25AA;&#x25AA;&#x25AA;&#x25AA;&#x25AA;</td><td class='float' title='float64'>&#x25AA;&#x25AA;&#x25AA;&#x25AA;&#x25AA;&#x25AA;&#x25AA;&#x25AA;</td><td class='str' title='str32'>&#x25AA;&#x25AA;&#x25AA;&#x25AA;</td><td class='str' title='str32'>&#x25AA;&#x25AA;&#x25AA;&#x25AA;</td><td></td><td class='float' title='float64'>&#x25AA;&#x25AA;&#x25AA;&#x25AA;&#x25AA;&#x25AA;&#x25AA;&#x25AA;</td><td class='float' title='float64'>&#x25AA;&#x25AA;&#x25AA;&#x25AA;&#x25AA;&#x25AA;&#x25AA;&#x25AA;</td><td class='int' title='int32'>&#x25AA;&#x25AA;&#x25AA;&#x25AA;</td><td class='str' title='str32'>&#x25AA;&#x25AA;&#x25AA;&#x25AA;</td><td class='int' title='int64'>&#x25AA;&#x25AA;&#x25AA;&#x25AA;&#x25AA;&#x25AA;&#x25AA;&#x25AA;</td></tr>\n",
       "  </thead>\n",
       "  <tbody>\n",
       "    <tr><td class='row_index'>0</td><td>0</td><td>0</td><td>330010</td><td>320245</td><td>1</td><td>1</td><td>614.613</td><td>7.66281</td><td>SD</td><td>RJ</td><td class=vellipsis>&hellip;</td><td>&minus;20.2347</td><td>&minus;41.5087</td><td>32002</td><td>ES</td><td>1</td></tr>\n",
       "    <tr><td class='row_index'>1</td><td>0</td><td>0</td><td>330010</td><td>330010</td><td>0</td><td>0</td><td>0</td><td>0</td><td>SD</td><td>RJ</td><td class=vellipsis>&hellip;</td><td>&minus;23.0011</td><td>&minus;44.3196</td><td>33001</td><td>RJ</td><td>4</td></tr>\n",
       "    <tr><td class='row_index'>2</td><td>0</td><td>0</td><td>330010</td><td>351840</td><td>1</td><td>1</td><td>222.988</td><td>3.47778</td><td>SD</td><td>RJ</td><td class=vellipsis>&hellip;</td><td>&minus;22.8075</td><td>&minus;45.1938</td><td>35172</td><td>SP</td><td>1</td></tr>\n",
       "    <tr><td class='row_index'>3</td><td>0</td><td>0</td><td>330020</td><td>330020</td><td>0</td><td>0</td><td>0</td><td>0</td><td>SD</td><td>RJ</td><td class=vellipsis>&hellip;</td><td>&minus;22.8697</td><td>&minus;42.3326</td><td>33002</td><td>RJ</td><td>2</td></tr>\n",
       "    <tr><td class='row_index'>4</td><td>0</td><td>0</td><td>330020</td><td>330070</td><td>1</td><td>0</td><td>43.1787</td><td>0.650056</td><td>SD</td><td>RJ</td><td class=vellipsis>&hellip;</td><td>&minus;22.8894</td><td>&minus;42.0286</td><td>33002</td><td>RJ</td><td>2</td></tr>\n",
       "    <tr><td class='row_index'>5</td><td>0</td><td>0</td><td>330020</td><td>330455</td><td>1</td><td>1</td><td>118.052</td><td>1.55372</td><td>SD</td><td>RJ</td><td class=vellipsis>&hellip;</td><td>&minus;22.9129</td><td>&minus;43.2003</td><td>33005</td><td>RJ</td><td>2</td></tr>\n",
       "    <tr><td class='row_index'>6</td><td>0</td><td>0</td><td>330020</td><td>330520</td><td>1</td><td>0</td><td>31.0431</td><td>0.417139</td><td>SD</td><td>RJ</td><td class=vellipsis>&hellip;</td><td>&minus;22.8429</td><td>&minus;42.1026</td><td>33002</td><td>RJ</td><td>1</td></tr>\n",
       "    <tr><td class='row_index'>7</td><td>0</td><td>0</td><td>330020</td><td>330550</td><td>1</td><td>0</td><td>22.8379</td><td>0.348</td><td>SD</td><td>RJ</td><td class=vellipsis>&hellip;</td><td>&minus;22.9292</td><td>&minus;42.5099</td><td>33002</td><td>RJ</td><td>1</td></tr>\n",
       "    <tr><td class='row_index'>8</td><td>0</td><td>0</td><td>330022</td><td>330600</td><td>1</td><td>0</td><td>25.1655</td><td>0.377083</td><td>SD</td><td>RJ</td><td class=vellipsis>&hellip;</td><td>&minus;22.1165</td><td>&minus;43.2185</td><td>33003</td><td>RJ</td><td>2</td></tr>\n",
       "    <tr><td class='row_index'>9</td><td>0</td><td>0</td><td>330023</td><td>330023</td><td>0</td><td>0</td><td>0</td><td>0</td><td>SD</td><td>RJ</td><td class=vellipsis>&hellip;</td><td>&minus;22.7528</td><td>&minus;41.8846</td><td>33002</td><td>RJ</td><td>1</td></tr>\n",
       "    <tr><td class='row_index'>10</td><td>0</td><td>0</td><td>330023</td><td>330070</td><td>1</td><td>0</td><td>26.375</td><td>0.542528</td><td>SD</td><td>RJ</td><td class=vellipsis>&hellip;</td><td>&minus;22.8894</td><td>&minus;42.0286</td><td>33002</td><td>RJ</td><td>1</td></tr>\n",
       "    <tr><td class='row_index'>11</td><td>0</td><td>0</td><td>330023</td><td>330520</td><td>1</td><td>0</td><td>32.2808</td><td>0.655444</td><td>SD</td><td>RJ</td><td class=vellipsis>&hellip;</td><td>&minus;22.8429</td><td>&minus;42.1026</td><td>33002</td><td>RJ</td><td>1</td></tr>\n",
       "    <tr><td class='row_index'>12</td><td>0</td><td>0</td><td>330025</td><td>330020</td><td>1</td><td>0</td><td>54.1154</td><td>0.823222</td><td>SD</td><td>RJ</td><td class=vellipsis>&hellip;</td><td>&minus;22.8697</td><td>&minus;42.3326</td><td>33002</td><td>RJ</td><td>1</td></tr>\n",
       "    <tr><td class='row_index'>13</td><td>0</td><td>0</td><td>330025</td><td>330025</td><td>0</td><td>0</td><td>0</td><td>0</td><td>SD</td><td>RJ</td><td class=vellipsis>&hellip;</td><td>&minus;22.9774</td><td>&minus;42.0267</td><td>33002</td><td>RJ</td><td>2</td></tr>\n",
       "    <tr><td class='row_index'>14</td><td>0</td><td>0</td><td>330025</td><td>330070</td><td>1</td><td>0</td><td>14.3576</td><td>0.255528</td><td>SD</td><td>RJ</td><td class=vellipsis>&hellip;</td><td>&minus;22.8894</td><td>&minus;42.0286</td><td>33002</td><td>RJ</td><td>2</td></tr>\n",
       "    <tr><td class='row_index'>&#x22EE;</td><td class='hellipsis'>&#x22EE;</td><td class='hellipsis'>&#x22EE;</td><td class='hellipsis'>&#x22EE;</td><td class='hellipsis'>&#x22EE;</td><td class='hellipsis'>&#x22EE;</td><td class='hellipsis'>&#x22EE;</td><td class='hellipsis'>&#x22EE;</td><td class='hellipsis'>&#x22EE;</td><td class='hellipsis'>&#x22EE;</td><td class='hellipsis'>&#x22EE;</td><td class='hellipsis'>&#x22F1;</td><td class='hellipsis'>&#x22EE;</td><td class='hellipsis'>&#x22EE;</td><td class='hellipsis'>&#x22EE;</td><td class='hellipsis'>&#x22EE;</td><td class='hellipsis'>&#x22EE;</td></tr>\n",
       "    <tr><td class='row_index'>2481</td><td>1</td><td>1</td><td>330630</td><td>330395</td><td>1</td><td>0</td><td>15.8369</td><td>0.40825</td><td>SD</td><td>RJ</td><td class=vellipsis>&hellip;</td><td>&minus;22.5172</td><td>&minus;44.0022</td><td>33004</td><td>RJ</td><td>1</td></tr>\n",
       "    <tr><td class='row_index'>2482</td><td>1</td><td>1</td><td>330630</td><td>330411</td><td>1</td><td>0</td><td>35.1378</td><td>0.636833</td><td>SD</td><td>RJ</td><td class=vellipsis>&hellip;</td><td>&minus;22.4175</td><td>&minus;44.2952</td><td>33004</td><td>RJ</td><td>1</td></tr>\n",
       "    <tr><td class='row_index'>2483</td><td>1</td><td>1</td><td>330630</td><td>330455</td><td>1</td><td>1</td><td>127.433</td><td>1.93703</td><td>SD</td><td>RJ</td><td class=vellipsis>&hellip;</td><td>&minus;22.9129</td><td>&minus;43.2003</td><td>33005</td><td>RJ</td><td>1</td></tr>\n",
       "    <tr><td class='row_index'>2484</td><td>1</td><td>1</td><td>330630</td><td>330490</td><td>1</td><td>1</td><td>146.808</td><td>2.26831</td><td>SD</td><td>RJ</td><td class=vellipsis>&hellip;</td><td>&minus;22.8268</td><td>&minus;43.0634</td><td>33006</td><td>RJ</td><td>1</td></tr>\n",
       "    <tr><td class='row_index'>2485</td><td>1</td><td>1</td><td>330630</td><td>330630</td><td>0</td><td>0</td><td>0</td><td>0</td><td>SD</td><td>RJ</td><td class=vellipsis>&hellip;</td><td>&minus;22.5202</td><td>&minus;44.0996</td><td>33004</td><td>RJ</td><td>2</td></tr>\n",
       "  </tbody>\n",
       "  </table>\n",
       "  <div class='footer'>\n",
       "    <div class='frame_dimensions'>2486 rows &times; 21 columns</div>\n",
       "  </div>\n",
       "</div>\n"
      ],
      "text/plain": [
       "<Frame#7fce028a6e40 2486x21>"
      ]
     },
     "execution_count": 29,
     "metadata": {},
     "output_type": "execute_result"
    }
   ],
   "source": [
    "df_deslc_rj = df_deslc_rj_cnes[:, f[:].remove(f.hosp_cnes)]\n",
    "df_deslc_rj = df_deslc_rj[:, dt.sum(f.count), dt.by(df_deslc_rj.names[:-1])]\n",
    "df_deslc_rj"
   ]
  },
  {
   "cell_type": "code",
   "execution_count": 30,
   "metadata": {},
   "outputs": [],
   "source": [
    "output_rj = get_path('GESTANTES', 'deslocamentos_rj.csv.gzip') # xlsx\n",
    "df_deslc_rj.to_csv(output_rj)\n",
    "pd.read_csv(output_rj).to_excel(output_rj.replace('csv.gzip', 'xlsx'), index=False)\n",
    "# df_deslc_rj.to_pandas().to_excel(output_rj, index=False)"
   ]
  }
 ],
 "metadata": {
  "kernelspec": {
   "display_name": "Python 3.9.13 ('ds')",
   "language": "python",
   "name": "python3"
  },
  "language_info": {
   "codemirror_mode": {
    "name": "ipython",
    "version": 3
   },
   "file_extension": ".py",
   "mimetype": "text/x-python",
   "name": "python",
   "nbconvert_exporter": "python",
   "pygments_lexer": "ipython3",
   "version": "3.9.13"
  },
  "orig_nbformat": 4,
  "vscode": {
   "interpreter": {
    "hash": "7b36953cec1b75a8b331280ff7f7e2e00c70540f1d612023ca05354bbeabec70"
   }
  }
 },
 "nbformat": 4,
 "nbformat_minor": 2
}
