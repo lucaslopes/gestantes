{
 "cells": [
  {
   "cell_type": "raw",
   "metadata": {},
   "source": [
    "---\n",
    "title: \"Deslocamento\"\n",
    "---"
   ]
  },
  {
   "cell_type": "code",
   "execution_count": 1,
   "metadata": {},
   "outputs": [
    {
     "data": {
      "text/html": [
       "<style type='text/css'>\n",
       ".datatable table.frame { margin-bottom: 0; }\n",
       ".datatable table.frame thead { border-bottom: none; }\n",
       ".datatable table.frame tr.coltypes td {  color: #FFFFFF;  line-height: 6px;  padding: 0 0.5em;}\n",
       ".datatable .bool    { background: #DDDD99; }\n",
       ".datatable .object  { background: #565656; }\n",
       ".datatable .int     { background: #5D9E5D; }\n",
       ".datatable .float   { background: #4040CC; }\n",
       ".datatable .str     { background: #CC4040; }\n",
       ".datatable .row_index {  background: var(--jp-border-color3);  border-right: 1px solid var(--jp-border-color0);  color: var(--jp-ui-font-color3);  font-size: 9px;}\n",
       ".datatable .frame tr.coltypes .row_index {  background: var(--jp-border-color0);}\n",
       ".datatable th:nth-child(2) { padding-left: 12px; }\n",
       ".datatable .hellipsis {  color: var(--jp-cell-editor-border-color);}\n",
       ".datatable .vellipsis {  background: var(--jp-layout-color0);  color: var(--jp-cell-editor-border-color);}\n",
       ".datatable .na {  color: var(--jp-cell-editor-border-color);  font-size: 80%;}\n",
       ".datatable .footer { font-size: 9px; }\n",
       ".datatable .frame_dimensions {  background: var(--jp-border-color3);  border-top: 1px solid var(--jp-border-color0);  color: var(--jp-ui-font-color3);  display: inline-block;  opacity: 0.6;  padding: 1px 10px 1px 5px;}\n",
       "</style>\n"
      ],
      "text/plain": [
       "<IPython.core.display.HTML object>"
      ]
     },
     "metadata": {},
     "output_type": "display_data"
    }
   ],
   "source": [
    "import pandas as pd\n",
    "from utils import get_path, group_cols\n",
    "from datatable import dt, f"
   ]
  },
  {
   "cell_type": "markdown",
   "metadata": {},
   "source": [
    "# Descrição"
   ]
  },
  {
   "cell_type": "markdown",
   "metadata": {},
   "source": [
    "Neste notebook iremos formar a tabela deslocamento, com origem e destino."
   ]
  },
  {
   "cell_type": "markdown",
   "metadata": {},
   "source": [
    "# Tabelas base"
   ]
  },
  {
   "cell_type": "markdown",
   "metadata": {},
   "source": [
    "## Tabela Procedimentos"
   ]
  },
  {
   "cell_type": "markdown",
   "metadata": {},
   "source": [
    "### Colunas da tabela"
   ]
  },
  {
   "cell_type": "code",
   "execution_count": 2,
   "metadata": {},
   "outputs": [],
   "source": [
    "cols_deslc = {\n",
    "  'ano': 'ano',\n",
    "  'parto_normal': 'parto_normal',\n",
    "  'cod_municipio': 'origem',\n",
    "  'hosp_cod_municipio': 'destino',\n",
    "  'regiao_saude': 'regiao_saude',\n",
    "  'hosp_regiao_saude': 'hosp_regiao_saude',\n",
    "  'cnes': 'hosp_cnes',\n",
    "  'count': 'count',\n",
    "  ...: None,\n",
    "  # 'idade'\n",
    "}"
   ]
  },
  {
   "cell_type": "markdown",
   "metadata": {},
   "source": [
    "### Linhas da tabela"
   ]
  },
  {
   "cell_type": "code",
   "execution_count": 3,
   "metadata": {},
   "outputs": [],
   "source": [
    "def filter_deslc(df):\n",
    "  df_filtered = df[\n",
    "    (\n",
    "      f.ano == 2010\n",
    "    ) | (\n",
    "      f.ano == 2011\n",
    "    ) | (\n",
    "      f.ano == 2018\n",
    "    ) | (\n",
    "      f.ano == 2019\n",
    "    ), :]\n",
    "  return df_filtered"
   ]
  },
  {
   "cell_type": "markdown",
   "metadata": {},
   "source": [
    "### Carregando tabela"
   ]
  },
  {
   "cell_type": "code",
   "execution_count": 4,
   "metadata": {},
   "outputs": [
    {
     "data": {
      "text/html": [
       "<div class='datatable'>\n",
       "  <table class='frame'>\n",
       "  <thead>\n",
       "    <tr class='colnames'><td class='row_index'></td><th>ano</th><th>parto_normal</th><th>hosp_cnes</th><th>destino</th><th>hosp_regiao_saude</th><th>origem</th><th>regiao_saude</th><th>count</th></tr>\n",
       "    <tr class='coltypes'><td class='row_index'></td><td class='int' title='int32'>&#x25AA;&#x25AA;&#x25AA;&#x25AA;</td><td class='bool' title='bool8'>&#x25AA;</td><td class='int' title='int32'>&#x25AA;&#x25AA;&#x25AA;&#x25AA;</td><td class='int' title='int32'>&#x25AA;&#x25AA;&#x25AA;&#x25AA;</td><td class='int' title='int32'>&#x25AA;&#x25AA;&#x25AA;&#x25AA;</td><td class='int' title='int32'>&#x25AA;&#x25AA;&#x25AA;&#x25AA;</td><td class='int' title='int32'>&#x25AA;&#x25AA;&#x25AA;&#x25AA;</td><td class='int' title='int32'>&#x25AA;&#x25AA;&#x25AA;&#x25AA;</td></tr>\n",
       "  </thead>\n",
       "  <tbody>\n",
       "    <tr><td class='row_index'>0</td><td>2010</td><td>1</td><td>2077388</td><td>355030</td><td>3501</td><td>355030</td><td>3501</td><td>362</td></tr>\n",
       "    <tr><td class='row_index'>1</td><td>2010</td><td>1</td><td>2077388</td><td>355030</td><td>3501</td><td>355030</td><td>3501</td><td>333</td></tr>\n",
       "    <tr><td class='row_index'>2</td><td>2010</td><td>1</td><td>2077388</td><td>355030</td><td>3501</td><td>355030</td><td>3501</td><td>331</td></tr>\n",
       "    <tr><td class='row_index'>3</td><td>2010</td><td>1</td><td>2077388</td><td>355030</td><td>3501</td><td>355030</td><td>3501</td><td>327</td></tr>\n",
       "    <tr><td class='row_index'>4</td><td>2010</td><td>1</td><td>2077701</td><td>355030</td><td>3501</td><td>355030</td><td>3501</td><td>318</td></tr>\n",
       "    <tr><td class='row_index'>5</td><td>2010</td><td>1</td><td>2077388</td><td>355030</td><td>3501</td><td>355030</td><td>3501</td><td>303</td></tr>\n",
       "    <tr><td class='row_index'>6</td><td>2010</td><td>1</td><td>2077388</td><td>355030</td><td>3501</td><td>355030</td><td>3501</td><td>297</td></tr>\n",
       "    <tr><td class='row_index'>7</td><td>2010</td><td>1</td><td>2077701</td><td>355030</td><td>3501</td><td>355030</td><td>3501</td><td>296</td></tr>\n",
       "    <tr><td class='row_index'>8</td><td>2010</td><td>1</td><td>2077701</td><td>355030</td><td>3501</td><td>355030</td><td>3501</td><td>295</td></tr>\n",
       "    <tr><td class='row_index'>9</td><td>2010</td><td>1</td><td>2077388</td><td>355030</td><td>3501</td><td>355030</td><td>3501</td><td>292</td></tr>\n",
       "    <tr><td class='row_index'>10</td><td>2010</td><td>1</td><td>3151794</td><td>130260</td><td>1301</td><td>130260</td><td>1301</td><td>288</td></tr>\n",
       "    <tr><td class='row_index'>11</td><td>2010</td><td>1</td><td>3151794</td><td>130260</td><td>1301</td><td>130260</td><td>1301</td><td>276</td></tr>\n",
       "    <tr><td class='row_index'>12</td><td>2010</td><td>1</td><td>2077388</td><td>355030</td><td>3501</td><td>355030</td><td>3501</td><td>270</td></tr>\n",
       "    <tr><td class='row_index'>13</td><td>2010</td><td>1</td><td>2079186</td><td>355030</td><td>3501</td><td>355030</td><td>3501</td><td>269</td></tr>\n",
       "    <tr><td class='row_index'>14</td><td>2010</td><td>1</td><td>3151794</td><td>130260</td><td>1301</td><td>130260</td><td>1301</td><td>269</td></tr>\n",
       "    <tr><td class='row_index'>&#x22EE;</td><td class='hellipsis'>&#x22EE;</td><td class='hellipsis'>&#x22EE;</td><td class='hellipsis'>&#x22EE;</td><td class='hellipsis'>&#x22EE;</td><td class='hellipsis'>&#x22EE;</td><td class='hellipsis'>&#x22EE;</td><td class='hellipsis'>&#x22EE;</td><td class='hellipsis'>&#x22EE;</td></tr>\n",
       "    <tr><td class='row_index'>1,357,773</td><td>2019</td><td>0</td><td>9923837</td><td>270430</td><td>2701</td><td>355640</td><td>3520</td><td>1</td></tr>\n",
       "    <tr><td class='row_index'>1,357,774</td><td>2019</td><td>0</td><td>9923837</td><td>270430</td><td>2701</td><td>420910</td><td>4213</td><td>1</td></tr>\n",
       "    <tr><td class='row_index'>1,357,775</td><td>2019</td><td>0</td><td>9923837</td><td>270430</td><td>2701</td><td>510285</td><td>5109</td><td>1</td></tr>\n",
       "    <tr><td class='row_index'>1,357,776</td><td>2019</td><td>0</td><td>9923837</td><td>270430</td><td>2701</td><td>510622</td><td>5114</td><td>1</td></tr>\n",
       "    <tr><td class='row_index'>1,357,777</td><td>2019</td><td>0</td><td>9923837</td><td>270430</td><td>2701</td><td>510792</td><td>5114</td><td>1</td></tr>\n",
       "  </tbody>\n",
       "  </table>\n",
       "  <div class='footer'>\n",
       "    <div class='frame_dimensions'>1,357,778 rows &times; 8 columns</div>\n",
       "  </div>\n",
       "</div>\n"
      ],
      "text/plain": [
       "<Frame#7fc129b65900 1357778x8>"
      ]
     },
     "execution_count": 4,
     "metadata": {},
     "output_type": "execute_result"
    }
   ],
   "source": [
    "path_deslc = get_path('GESTANTES', 'procedimentos.csv.gzip')\n",
    "df_deslc = dt.fread(path_deslc, columns=cols_deslc)\n",
    "df_deslc = filter_deslc(df_deslc)\n",
    "df_deslc"
   ]
  },
  {
   "cell_type": "markdown",
   "metadata": {},
   "source": [
    "### Atualizando variável ano (biênio)"
   ]
  },
  {
   "cell_type": "markdown",
   "metadata": {},
   "source": [
    "Valor da variável `bienio`:\n",
    "\n",
    "- `0 (False) = 2010/11`\n",
    "- `1 (True) = 2018/19`"
   ]
  },
  {
   "cell_type": "code",
   "execution_count": 5,
   "metadata": {},
   "outputs": [
    {
     "data": {
      "text/html": [
       "<div class='datatable'>\n",
       "  <table class='frame'>\n",
       "  <thead>\n",
       "    <tr class='colnames'><td class='row_index'></td><th>bienio</th><th>parto_normal</th><th>hosp_cnes</th><th>destino</th><th>hosp_regiao_saude</th><th>origem</th><th>regiao_saude</th><th>count</th></tr>\n",
       "    <tr class='coltypes'><td class='row_index'></td><td class='bool' title='bool8'>&#x25AA;</td><td class='bool' title='bool8'>&#x25AA;</td><td class='int' title='int32'>&#x25AA;&#x25AA;&#x25AA;&#x25AA;</td><td class='int' title='int32'>&#x25AA;&#x25AA;&#x25AA;&#x25AA;</td><td class='int' title='int32'>&#x25AA;&#x25AA;&#x25AA;&#x25AA;</td><td class='int' title='int32'>&#x25AA;&#x25AA;&#x25AA;&#x25AA;</td><td class='int' title='int32'>&#x25AA;&#x25AA;&#x25AA;&#x25AA;</td><td class='int' title='int32'>&#x25AA;&#x25AA;&#x25AA;&#x25AA;</td></tr>\n",
       "  </thead>\n",
       "  <tbody>\n",
       "    <tr><td class='row_index'>0</td><td>0</td><td>1</td><td>2077388</td><td>355030</td><td>3501</td><td>355030</td><td>3501</td><td>362</td></tr>\n",
       "    <tr><td class='row_index'>1</td><td>0</td><td>1</td><td>2077388</td><td>355030</td><td>3501</td><td>355030</td><td>3501</td><td>333</td></tr>\n",
       "    <tr><td class='row_index'>2</td><td>0</td><td>1</td><td>2077388</td><td>355030</td><td>3501</td><td>355030</td><td>3501</td><td>331</td></tr>\n",
       "    <tr><td class='row_index'>3</td><td>0</td><td>1</td><td>2077388</td><td>355030</td><td>3501</td><td>355030</td><td>3501</td><td>327</td></tr>\n",
       "    <tr><td class='row_index'>4</td><td>0</td><td>1</td><td>2077701</td><td>355030</td><td>3501</td><td>355030</td><td>3501</td><td>318</td></tr>\n",
       "    <tr><td class='row_index'>5</td><td>0</td><td>1</td><td>2077388</td><td>355030</td><td>3501</td><td>355030</td><td>3501</td><td>303</td></tr>\n",
       "    <tr><td class='row_index'>6</td><td>0</td><td>1</td><td>2077388</td><td>355030</td><td>3501</td><td>355030</td><td>3501</td><td>297</td></tr>\n",
       "    <tr><td class='row_index'>7</td><td>0</td><td>1</td><td>2077701</td><td>355030</td><td>3501</td><td>355030</td><td>3501</td><td>296</td></tr>\n",
       "    <tr><td class='row_index'>8</td><td>0</td><td>1</td><td>2077701</td><td>355030</td><td>3501</td><td>355030</td><td>3501</td><td>295</td></tr>\n",
       "    <tr><td class='row_index'>9</td><td>0</td><td>1</td><td>2077388</td><td>355030</td><td>3501</td><td>355030</td><td>3501</td><td>292</td></tr>\n",
       "    <tr><td class='row_index'>10</td><td>0</td><td>1</td><td>3151794</td><td>130260</td><td>1301</td><td>130260</td><td>1301</td><td>288</td></tr>\n",
       "    <tr><td class='row_index'>11</td><td>0</td><td>1</td><td>3151794</td><td>130260</td><td>1301</td><td>130260</td><td>1301</td><td>276</td></tr>\n",
       "    <tr><td class='row_index'>12</td><td>0</td><td>1</td><td>2077388</td><td>355030</td><td>3501</td><td>355030</td><td>3501</td><td>270</td></tr>\n",
       "    <tr><td class='row_index'>13</td><td>0</td><td>1</td><td>2079186</td><td>355030</td><td>3501</td><td>355030</td><td>3501</td><td>269</td></tr>\n",
       "    <tr><td class='row_index'>14</td><td>0</td><td>1</td><td>3151794</td><td>130260</td><td>1301</td><td>130260</td><td>1301</td><td>269</td></tr>\n",
       "    <tr><td class='row_index'>&#x22EE;</td><td class='hellipsis'>&#x22EE;</td><td class='hellipsis'>&#x22EE;</td><td class='hellipsis'>&#x22EE;</td><td class='hellipsis'>&#x22EE;</td><td class='hellipsis'>&#x22EE;</td><td class='hellipsis'>&#x22EE;</td><td class='hellipsis'>&#x22EE;</td><td class='hellipsis'>&#x22EE;</td></tr>\n",
       "    <tr><td class='row_index'>1,357,773</td><td>1</td><td>0</td><td>9923837</td><td>270430</td><td>2701</td><td>355640</td><td>3520</td><td>1</td></tr>\n",
       "    <tr><td class='row_index'>1,357,774</td><td>1</td><td>0</td><td>9923837</td><td>270430</td><td>2701</td><td>420910</td><td>4213</td><td>1</td></tr>\n",
       "    <tr><td class='row_index'>1,357,775</td><td>1</td><td>0</td><td>9923837</td><td>270430</td><td>2701</td><td>510285</td><td>5109</td><td>1</td></tr>\n",
       "    <tr><td class='row_index'>1,357,776</td><td>1</td><td>0</td><td>9923837</td><td>270430</td><td>2701</td><td>510622</td><td>5114</td><td>1</td></tr>\n",
       "    <tr><td class='row_index'>1,357,777</td><td>1</td><td>0</td><td>9923837</td><td>270430</td><td>2701</td><td>510792</td><td>5114</td><td>1</td></tr>\n",
       "  </tbody>\n",
       "  </table>\n",
       "  <div class='footer'>\n",
       "    <div class='frame_dimensions'>1,357,778 rows &times; 8 columns</div>\n",
       "  </div>\n",
       "</div>\n"
      ],
      "text/plain": [
       "<Frame#7fc129b65900 1357778x8>"
      ]
     },
     "execution_count": 5,
     "metadata": {},
     "output_type": "execute_result"
    }
   ],
   "source": [
    "df_deslc[:, dt.update(ano = (f.ano == 2018) | (f.ano == 2019))]\n",
    "df_deslc.names = {'ano': 'bienio'}\n",
    "df_deslc"
   ]
  },
  {
   "cell_type": "markdown",
   "metadata": {},
   "source": [
    "### Tabela agrupada"
   ]
  },
  {
   "cell_type": "code",
   "execution_count": 6,
   "metadata": {},
   "outputs": [
    {
     "data": {
      "text/html": [
       "<div class='datatable'>\n",
       "  <table class='frame'>\n",
       "  <thead>\n",
       "    <tr class='colnames'><td class='row_index'></td><th>bienio</th><th>parto_normal</th><th>hosp_cnes</th><th>destino</th><th>hosp_regiao_saude</th><th>origem</th><th>regiao_saude</th><th>count</th></tr>\n",
       "    <tr class='coltypes'><td class='row_index'></td><td class='bool' title='bool8'>&#x25AA;</td><td class='bool' title='bool8'>&#x25AA;</td><td class='int' title='int32'>&#x25AA;&#x25AA;&#x25AA;&#x25AA;</td><td class='int' title='int32'>&#x25AA;&#x25AA;&#x25AA;&#x25AA;</td><td class='int' title='int32'>&#x25AA;&#x25AA;&#x25AA;&#x25AA;</td><td class='int' title='int32'>&#x25AA;&#x25AA;&#x25AA;&#x25AA;</td><td class='int' title='int32'>&#x25AA;&#x25AA;&#x25AA;&#x25AA;</td><td class='int' title='int64'>&#x25AA;&#x25AA;&#x25AA;&#x25AA;&#x25AA;&#x25AA;&#x25AA;&#x25AA;</td></tr>\n",
       "  </thead>\n",
       "  <tbody>\n",
       "    <tr><td class='row_index'>0</td><td>0</td><td>0</td><td>27</td><td>260290</td><td>2601</td><td>260290</td><td>2601</td><td>1</td></tr>\n",
       "    <tr><td class='row_index'>1</td><td>0</td><td>0</td><td>27</td><td>260290</td><td>2601</td><td>260720</td><td>2601</td><td>1</td></tr>\n",
       "    <tr><td class='row_index'>2</td><td>0</td><td>0</td><td>94</td><td>260290</td><td>2601</td><td>260140</td><td>2603</td><td>2</td></tr>\n",
       "    <tr><td class='row_index'>3</td><td>0</td><td>0</td><td>94</td><td>260290</td><td>2601</td><td>260290</td><td>2601</td><td>58</td></tr>\n",
       "    <tr><td class='row_index'>4</td><td>0</td><td>0</td><td>94</td><td>260290</td><td>2601</td><td>260345</td><td>2601</td><td>3</td></tr>\n",
       "    <tr><td class='row_index'>5</td><td>0</td><td>0</td><td>94</td><td>260290</td><td>2601</td><td>260400</td><td>2602</td><td>1</td></tr>\n",
       "    <tr><td class='row_index'>6</td><td>0</td><td>0</td><td>94</td><td>260290</td><td>2601</td><td>260520</td><td>2603</td><td>5</td></tr>\n",
       "    <tr><td class='row_index'>7</td><td>0</td><td>0</td><td>94</td><td>260290</td><td>2601</td><td>260540</td><td>2602</td><td>2</td></tr>\n",
       "    <tr><td class='row_index'>8</td><td>0</td><td>0</td><td>94</td><td>260290</td><td>2601</td><td>260640</td><td>2604</td><td>2</td></tr>\n",
       "    <tr><td class='row_index'>9</td><td>0</td><td>0</td><td>94</td><td>260290</td><td>2601</td><td>260680</td><td>2601</td><td>1</td></tr>\n",
       "    <tr><td class='row_index'>10</td><td>0</td><td>0</td><td>94</td><td>260290</td><td>2601</td><td>260720</td><td>2601</td><td>23</td></tr>\n",
       "    <tr><td class='row_index'>11</td><td>0</td><td>0</td><td>94</td><td>260290</td><td>2601</td><td>260790</td><td>2601</td><td>43</td></tr>\n",
       "    <tr><td class='row_index'>12</td><td>0</td><td>0</td><td>94</td><td>260290</td><td>2601</td><td>260960</td><td>2601</td><td>9</td></tr>\n",
       "    <tr><td class='row_index'>13</td><td>0</td><td>0</td><td>94</td><td>260290</td><td>2601</td><td>261000</td><td>2603</td><td>1</td></tr>\n",
       "    <tr><td class='row_index'>14</td><td>0</td><td>0</td><td>94</td><td>260290</td><td>2601</td><td>261060</td><td>2602</td><td>1</td></tr>\n",
       "    <tr><td class='row_index'>&#x22EE;</td><td class='hellipsis'>&#x22EE;</td><td class='hellipsis'>&#x22EE;</td><td class='hellipsis'>&#x22EE;</td><td class='hellipsis'>&#x22EE;</td><td class='hellipsis'>&#x22EE;</td><td class='hellipsis'>&#x22EE;</td><td class='hellipsis'>&#x22EE;</td><td class='hellipsis'>&#x22EE;</td></tr>\n",
       "    <tr><td class='row_index'>124,774</td><td>1</td><td>1</td><td>9923837</td><td>270430</td><td>2701</td><td>315980</td><td>3125</td><td>1</td></tr>\n",
       "    <tr><td class='row_index'>124,775</td><td>1</td><td>1</td><td>9923837</td><td>270430</td><td>2701</td><td>350400</td><td>3508</td><td>1</td></tr>\n",
       "    <tr><td class='row_index'>124,776</td><td>1</td><td>1</td><td>9923837</td><td>270430</td><td>2701</td><td>351880</td><td>3503</td><td>1</td></tr>\n",
       "    <tr><td class='row_index'>124,777</td><td>1</td><td>1</td><td>9923837</td><td>270430</td><td>2701</td><td>354100</td><td>3519</td><td>1</td></tr>\n",
       "    <tr><td class='row_index'>124,778</td><td>1</td><td>1</td><td>9923837</td><td>270430</td><td>2701</td><td>510623</td><td>5105</td><td>1</td></tr>\n",
       "  </tbody>\n",
       "  </table>\n",
       "  <div class='footer'>\n",
       "    <div class='frame_dimensions'>124,779 rows &times; 8 columns</div>\n",
       "  </div>\n",
       "</div>\n"
      ],
      "text/plain": [
       "<Frame#7fc129b85a20 124779x8>"
      ]
     },
     "execution_count": 6,
     "metadata": {},
     "output_type": "execute_result"
    }
   ],
   "source": [
    "df_deslc = group_cols(df_deslc, df_deslc.names[:-1])\n",
    "df_deslc"
   ]
  },
  {
   "cell_type": "markdown",
   "metadata": {},
   "source": [
    "- with all: `3_355_691` rows\n",
    "- without age: `461_276` rows\n",
    "- without age and cnes: `98_055` rows"
   ]
  },
  {
   "cell_type": "markdown",
   "metadata": {},
   "source": [
    "## Tabela Municípios"
   ]
  },
  {
   "cell_type": "markdown",
   "metadata": {},
   "source": [
    "### Colunas da tabela"
   ]
  },
  {
   "cell_type": "code",
   "execution_count": 7,
   "metadata": {},
   "outputs": [],
   "source": [
    "cols_mun = {\n",
    "  'cod_municipio': 'origem',\n",
    "  'regiao': 'regiao',\n",
    "  'uf': 'uf',\n",
    "  # 'nome_uf': 'nome_uf',\n",
    "  # 'macroregiao_saude': 'macroregiao_saude',\n",
    "  # 'regiao_saude': 'regiao_saude',\n",
    "  'nome_regiao_saude': 'nome_regiao_saude',\n",
    "  # 'microregiao_saude': 'microregiao_saude',\n",
    "  'municipio': 'municipio',\n",
    "  'capital': 'capital',\n",
    "  'latitude': 'latitude',\n",
    "  'longitude': 'longitude',\n",
    "  'socioecon': 'socioecon',\n",
    "  ...: None\n",
    "}"
   ]
  },
  {
   "cell_type": "code",
   "execution_count": 8,
   "metadata": {},
   "outputs": [],
   "source": [
    "cols_mun_hosp = {\n",
    "  'cod_municipio': 'destino',\n",
    "  'uf': 'hosp_uf',\n",
    "  'latitude': 'hosp_latitude',\n",
    "  'longitude': 'hosp_longitude',\n",
    "  ...: None\n",
    "}"
   ]
  },
  {
   "cell_type": "markdown",
   "metadata": {},
   "source": [
    "### Carregando tabela"
   ]
  },
  {
   "cell_type": "code",
   "execution_count": 9,
   "metadata": {},
   "outputs": [
    {
     "data": {
      "text/html": [
       "<div class='datatable'>\n",
       "  <table class='frame'>\n",
       "  <thead>\n",
       "    <tr class='colnames'><td class='row_index'></td><th>origem</th><th>regiao</th><th>uf</th><th>municipio</th><th>capital</th><th>nome_regiao_saude</th><th>latitude</th><th>longitude</th><th>socioecon</th></tr>\n",
       "    <tr class='coltypes'><td class='row_index'></td><td class='int' title='int32'>&#x25AA;&#x25AA;&#x25AA;&#x25AA;</td><td class='str' title='str32'>&#x25AA;&#x25AA;&#x25AA;&#x25AA;</td><td class='str' title='str32'>&#x25AA;&#x25AA;&#x25AA;&#x25AA;</td><td class='str' title='str32'>&#x25AA;&#x25AA;&#x25AA;&#x25AA;</td><td class='bool' title='bool8'>&#x25AA;</td><td class='str' title='str32'>&#x25AA;&#x25AA;&#x25AA;&#x25AA;</td><td class='float' title='float64'>&#x25AA;&#x25AA;&#x25AA;&#x25AA;&#x25AA;&#x25AA;&#x25AA;&#x25AA;</td><td class='float' title='float64'>&#x25AA;&#x25AA;&#x25AA;&#x25AA;&#x25AA;&#x25AA;&#x25AA;&#x25AA;</td><td class='int' title='int32'>&#x25AA;&#x25AA;&#x25AA;&#x25AA;</td></tr>\n",
       "  </thead>\n",
       "  <tbody>\n",
       "    <tr><td class='row_index'>0</td><td>355030</td><td>Sudeste</td><td>SP</td><td>São Paulo</td><td>1</td><td>Grande São Paulo</td><td>&minus;23.548</td><td>&minus;46.636</td><td>5</td></tr>\n",
       "    <tr><td class='row_index'>1</td><td>330455</td><td>Sudeste</td><td>RJ</td><td>Rio de Janeiro</td><td>1</td><td>Metropolitana I</td><td>&minus;22.903</td><td>&minus;43.208</td><td>5</td></tr>\n",
       "    <tr><td class='row_index'>2</td><td>130260</td><td>Norte</td><td>AM</td><td>Manaus</td><td>1</td><td>Entorno de Manaus</td><td>&minus;3.102</td><td>&minus;60.025</td><td>4</td></tr>\n",
       "    <tr><td class='row_index'>3</td><td>230440</td><td>Nordeste</td><td>CE</td><td>Fortaleza</td><td>1</td><td>Fortaleza</td><td>&minus;3.717</td><td>&minus;38.543</td><td>5</td></tr>\n",
       "    <tr><td class='row_index'>4</td><td>292740</td><td>Nordeste</td><td>BA</td><td>Salvador</td><td>1</td><td>Salvador</td><td>&minus;12.971</td><td>&minus;38.511</td><td>5</td></tr>\n",
       "    <tr><td class='row_index'>5</td><td>150140</td><td>Norte</td><td>PA</td><td>Belém</td><td>1</td><td>Metropolitana</td><td>&minus;1.456</td><td>&minus;48.504</td><td>4</td></tr>\n",
       "    <tr><td class='row_index'>6</td><td>310620</td><td>Sudeste</td><td>MG</td><td>Belo Horizonte</td><td>1</td><td>Belo Horizonte</td><td>&minus;19.817</td><td>&minus;43.956</td><td>1</td></tr>\n",
       "    <tr><td class='row_index'>7</td><td>431490</td><td>Sul</td><td>RS</td><td>Porto Alegre</td><td>1</td><td>CRS 01 Porto Alegre</td><td>&minus;30.033</td><td>&minus;51.23</td><td>5</td></tr>\n",
       "    <tr><td class='row_index'>8</td><td>410690</td><td>Sul</td><td>PR</td><td>Curitiba</td><td>1</td><td>Metropolitana</td><td>&minus;25.428</td><td>&minus;49.273</td><td>5</td></tr>\n",
       "    <tr><td class='row_index'>9</td><td>270430</td><td>Nordeste</td><td>AL</td><td>Maceió</td><td>1</td><td>Região 01</td><td>&minus;9.666</td><td>&minus;35.735</td><td>3</td></tr>\n",
       "    <tr><td class='row_index'>10</td><td>520870</td><td>Centro-Oeste</td><td>GO</td><td>Goiânia</td><td>1</td><td>Central</td><td>&minus;16.679</td><td>&minus;49.254</td><td>5</td></tr>\n",
       "    <tr><td class='row_index'>11</td><td>351880</td><td>Sudeste</td><td>SP</td><td>Guarulhos</td><td>0</td><td>Grande São Paulo</td><td>&minus;23.463</td><td>&minus;46.533</td><td>4</td></tr>\n",
       "    <tr><td class='row_index'>12</td><td>221100</td><td>Nordeste</td><td>PI</td><td>Teresina</td><td>1</td><td>TD Entre Rios</td><td>&minus;5.089</td><td>&minus;42.802</td><td>3</td></tr>\n",
       "    <tr><td class='row_index'>13</td><td>500270</td><td>Centro-Oeste</td><td>MS</td><td>Campo Grande</td><td>1</td><td>NCT de Campo Grande</td><td>&minus;20.443</td><td>&minus;54.646</td><td>4</td></tr>\n",
       "    <tr><td class='row_index'>14</td><td>261160</td><td>Nordeste</td><td>PE</td><td>Recife</td><td>1</td><td>Recife</td><td>&minus;8.054</td><td>&minus;34.881</td><td>5</td></tr>\n",
       "    <tr><td class='row_index'>&#x22EE;</td><td class='hellipsis'>&#x22EE;</td><td class='hellipsis'>&#x22EE;</td><td class='hellipsis'>&#x22EE;</td><td class='hellipsis'>&#x22EE;</td><td class='hellipsis'>&#x22EE;</td><td class='hellipsis'>&#x22EE;</td><td class='hellipsis'>&#x22EE;</td><td class='hellipsis'>&#x22EE;</td><td class='hellipsis'>&#x22EE;</td></tr>\n",
       "    <tr><td class='row_index'>5564</td><td>520020</td><td>Centro-Oeste</td><td>GO</td><td>Água Limpa</td><td>0</td><td>Sul</td><td>&minus;18.074</td><td>&minus;48.762</td><td>3</td></tr>\n",
       "    <tr><td class='row_index'>5565</td><td>510120</td><td>Centro-Oeste</td><td>MT</td><td>Araguainha</td><td>0</td><td>Rondonópolis</td><td>&minus;16.856</td><td>&minus;53.033</td><td>2</td></tr>\n",
       "    <tr><td class='row_index'>5566</td><td>350640</td><td>Sudeste</td><td>SP</td><td>Bilac</td><td>0</td><td>Araçatuba</td><td>&minus;21.403</td><td>&minus;50.471</td><td>5</td></tr>\n",
       "    <tr><td class='row_index'>5567</td><td>500627</td><td>Centro-Oeste</td><td>MS</td><td>Paraíso das Águas</td><td>0</td><td></td><td>&minus;19.0216</td><td>&minus;53.0116</td><td>4</td></tr>\n",
       "    <tr><td class='row_index'>5568</td><td>330513</td><td>Sudeste</td><td>RJ</td><td>São José de Ubá</td><td>0</td><td>Noroeste</td><td>&minus;21.358</td><td>&minus;41.943</td><td>3</td></tr>\n",
       "  </tbody>\n",
       "  </table>\n",
       "  <div class='footer'>\n",
       "    <div class='frame_dimensions'>5569 rows &times; 9 columns</div>\n",
       "  </div>\n",
       "</div>\n"
      ],
      "text/plain": [
       "<Frame#7fc109e9cde0 5569x9>"
      ]
     },
     "execution_count": 9,
     "metadata": {},
     "output_type": "execute_result"
    }
   ],
   "source": [
    "path_mun = get_path('GESTANTES', 'municipios.csv.gzip')\n",
    "df_mun = dt.fread(path_mun, columns=cols_mun)\n",
    "df_mun"
   ]
  },
  {
   "cell_type": "code",
   "execution_count": 10,
   "metadata": {},
   "outputs": [
    {
     "data": {
      "text/html": [
       "<div class='datatable'>\n",
       "  <table class='frame'>\n",
       "  <thead>\n",
       "    <tr class='colnames'><td class='row_index'></td><th>destino</th><th>hosp_uf</th><th>hosp_latitude</th><th>hosp_longitude</th></tr>\n",
       "    <tr class='coltypes'><td class='row_index'></td><td class='int' title='int32'>&#x25AA;&#x25AA;&#x25AA;&#x25AA;</td><td class='str' title='str32'>&#x25AA;&#x25AA;&#x25AA;&#x25AA;</td><td class='float' title='float64'>&#x25AA;&#x25AA;&#x25AA;&#x25AA;&#x25AA;&#x25AA;&#x25AA;&#x25AA;</td><td class='float' title='float64'>&#x25AA;&#x25AA;&#x25AA;&#x25AA;&#x25AA;&#x25AA;&#x25AA;&#x25AA;</td></tr>\n",
       "  </thead>\n",
       "  <tbody>\n",
       "    <tr><td class='row_index'>0</td><td>355030</td><td>SP</td><td>&minus;23.548</td><td>&minus;46.636</td></tr>\n",
       "    <tr><td class='row_index'>1</td><td>330455</td><td>RJ</td><td>&minus;22.903</td><td>&minus;43.208</td></tr>\n",
       "    <tr><td class='row_index'>2</td><td>130260</td><td>AM</td><td>&minus;3.102</td><td>&minus;60.025</td></tr>\n",
       "    <tr><td class='row_index'>3</td><td>230440</td><td>CE</td><td>&minus;3.717</td><td>&minus;38.543</td></tr>\n",
       "    <tr><td class='row_index'>4</td><td>292740</td><td>BA</td><td>&minus;12.971</td><td>&minus;38.511</td></tr>\n",
       "    <tr><td class='row_index'>5</td><td>150140</td><td>PA</td><td>&minus;1.456</td><td>&minus;48.504</td></tr>\n",
       "    <tr><td class='row_index'>6</td><td>310620</td><td>MG</td><td>&minus;19.817</td><td>&minus;43.956</td></tr>\n",
       "    <tr><td class='row_index'>7</td><td>431490</td><td>RS</td><td>&minus;30.033</td><td>&minus;51.23</td></tr>\n",
       "    <tr><td class='row_index'>8</td><td>410690</td><td>PR</td><td>&minus;25.428</td><td>&minus;49.273</td></tr>\n",
       "    <tr><td class='row_index'>9</td><td>270430</td><td>AL</td><td>&minus;9.666</td><td>&minus;35.735</td></tr>\n",
       "    <tr><td class='row_index'>10</td><td>520870</td><td>GO</td><td>&minus;16.679</td><td>&minus;49.254</td></tr>\n",
       "    <tr><td class='row_index'>11</td><td>351880</td><td>SP</td><td>&minus;23.463</td><td>&minus;46.533</td></tr>\n",
       "    <tr><td class='row_index'>12</td><td>221100</td><td>PI</td><td>&minus;5.089</td><td>&minus;42.802</td></tr>\n",
       "    <tr><td class='row_index'>13</td><td>500270</td><td>MS</td><td>&minus;20.443</td><td>&minus;54.646</td></tr>\n",
       "    <tr><td class='row_index'>14</td><td>261160</td><td>PE</td><td>&minus;8.054</td><td>&minus;34.881</td></tr>\n",
       "    <tr><td class='row_index'>&#x22EE;</td><td class='hellipsis'>&#x22EE;</td><td class='hellipsis'>&#x22EE;</td><td class='hellipsis'>&#x22EE;</td><td class='hellipsis'>&#x22EE;</td></tr>\n",
       "    <tr><td class='row_index'>5564</td><td>520020</td><td>GO</td><td>&minus;18.074</td><td>&minus;48.762</td></tr>\n",
       "    <tr><td class='row_index'>5565</td><td>510120</td><td>MT</td><td>&minus;16.856</td><td>&minus;53.033</td></tr>\n",
       "    <tr><td class='row_index'>5566</td><td>350640</td><td>SP</td><td>&minus;21.403</td><td>&minus;50.471</td></tr>\n",
       "    <tr><td class='row_index'>5567</td><td>500627</td><td>MS</td><td>&minus;19.0216</td><td>&minus;53.0116</td></tr>\n",
       "    <tr><td class='row_index'>5568</td><td>330513</td><td>RJ</td><td>&minus;21.358</td><td>&minus;41.943</td></tr>\n",
       "  </tbody>\n",
       "  </table>\n",
       "  <div class='footer'>\n",
       "    <div class='frame_dimensions'>5569 rows &times; 4 columns</div>\n",
       "  </div>\n",
       "</div>\n"
      ],
      "text/plain": [
       "<Frame#7fc129b853c0 5569x4>"
      ]
     },
     "execution_count": 10,
     "metadata": {},
     "output_type": "execute_result"
    }
   ],
   "source": [
    "df_mun_hosp = dt.fread(path_mun, columns=cols_mun_hosp)\n",
    "df_mun_hosp"
   ]
  },
  {
   "cell_type": "markdown",
   "metadata": {},
   "source": [
    "### Abreviando valores coluna Região"
   ]
  },
  {
   "cell_type": "code",
   "execution_count": 11,
   "metadata": {},
   "outputs": [],
   "source": [
    "regioes = {\n",
    "  'Norte': 'NT',\n",
    "  'Nordeste': 'ND',\n",
    "  'Centro-Oeste': 'CO',\n",
    "  'Sudeste': 'SD',\n",
    "  'Sul': 'SL',\n",
    "}"
   ]
  },
  {
   "cell_type": "code",
   "execution_count": 12,
   "metadata": {},
   "outputs": [
    {
     "data": {
      "text/html": [
       "<div class='datatable'>\n",
       "  <table class='frame'>\n",
       "  <thead>\n",
       "    <tr class='colnames'><td class='row_index'></td><th>origem</th><th>regiao</th><th>uf</th><th>municipio</th><th>capital</th><th>nome_regiao_saude</th><th>latitude</th><th>longitude</th><th>socioecon</th></tr>\n",
       "    <tr class='coltypes'><td class='row_index'></td><td class='int' title='int32'>&#x25AA;&#x25AA;&#x25AA;&#x25AA;</td><td class='str' title='str32'>&#x25AA;&#x25AA;&#x25AA;&#x25AA;</td><td class='str' title='str32'>&#x25AA;&#x25AA;&#x25AA;&#x25AA;</td><td class='str' title='str32'>&#x25AA;&#x25AA;&#x25AA;&#x25AA;</td><td class='bool' title='bool8'>&#x25AA;</td><td class='str' title='str32'>&#x25AA;&#x25AA;&#x25AA;&#x25AA;</td><td class='float' title='float64'>&#x25AA;&#x25AA;&#x25AA;&#x25AA;&#x25AA;&#x25AA;&#x25AA;&#x25AA;</td><td class='float' title='float64'>&#x25AA;&#x25AA;&#x25AA;&#x25AA;&#x25AA;&#x25AA;&#x25AA;&#x25AA;</td><td class='int' title='int32'>&#x25AA;&#x25AA;&#x25AA;&#x25AA;</td></tr>\n",
       "  </thead>\n",
       "  <tbody>\n",
       "    <tr><td class='row_index'>0</td><td>355030</td><td>SD</td><td>SP</td><td>São Paulo</td><td>1</td><td>Grande São Paulo</td><td>&minus;23.548</td><td>&minus;46.636</td><td>5</td></tr>\n",
       "    <tr><td class='row_index'>1</td><td>330455</td><td>SD</td><td>RJ</td><td>Rio de Janeiro</td><td>1</td><td>Metropolitana I</td><td>&minus;22.903</td><td>&minus;43.208</td><td>5</td></tr>\n",
       "    <tr><td class='row_index'>2</td><td>130260</td><td>NT</td><td>AM</td><td>Manaus</td><td>1</td><td>Entorno de Manaus</td><td>&minus;3.102</td><td>&minus;60.025</td><td>4</td></tr>\n",
       "    <tr><td class='row_index'>3</td><td>230440</td><td>ND</td><td>CE</td><td>Fortaleza</td><td>1</td><td>Fortaleza</td><td>&minus;3.717</td><td>&minus;38.543</td><td>5</td></tr>\n",
       "    <tr><td class='row_index'>4</td><td>292740</td><td>ND</td><td>BA</td><td>Salvador</td><td>1</td><td>Salvador</td><td>&minus;12.971</td><td>&minus;38.511</td><td>5</td></tr>\n",
       "    <tr><td class='row_index'>5</td><td>150140</td><td>NT</td><td>PA</td><td>Belém</td><td>1</td><td>Metropolitana</td><td>&minus;1.456</td><td>&minus;48.504</td><td>4</td></tr>\n",
       "    <tr><td class='row_index'>6</td><td>310620</td><td>SD</td><td>MG</td><td>Belo Horizonte</td><td>1</td><td>Belo Horizonte</td><td>&minus;19.817</td><td>&minus;43.956</td><td>1</td></tr>\n",
       "    <tr><td class='row_index'>7</td><td>431490</td><td>SL</td><td>RS</td><td>Porto Alegre</td><td>1</td><td>CRS 01 Porto Alegre</td><td>&minus;30.033</td><td>&minus;51.23</td><td>5</td></tr>\n",
       "    <tr><td class='row_index'>8</td><td>410690</td><td>SL</td><td>PR</td><td>Curitiba</td><td>1</td><td>Metropolitana</td><td>&minus;25.428</td><td>&minus;49.273</td><td>5</td></tr>\n",
       "    <tr><td class='row_index'>9</td><td>270430</td><td>ND</td><td>AL</td><td>Maceió</td><td>1</td><td>Região 01</td><td>&minus;9.666</td><td>&minus;35.735</td><td>3</td></tr>\n",
       "    <tr><td class='row_index'>10</td><td>520870</td><td>CO</td><td>GO</td><td>Goiânia</td><td>1</td><td>Central</td><td>&minus;16.679</td><td>&minus;49.254</td><td>5</td></tr>\n",
       "    <tr><td class='row_index'>11</td><td>351880</td><td>SD</td><td>SP</td><td>Guarulhos</td><td>0</td><td>Grande São Paulo</td><td>&minus;23.463</td><td>&minus;46.533</td><td>4</td></tr>\n",
       "    <tr><td class='row_index'>12</td><td>221100</td><td>ND</td><td>PI</td><td>Teresina</td><td>1</td><td>TD Entre Rios</td><td>&minus;5.089</td><td>&minus;42.802</td><td>3</td></tr>\n",
       "    <tr><td class='row_index'>13</td><td>500270</td><td>CO</td><td>MS</td><td>Campo Grande</td><td>1</td><td>NCT de Campo Grande</td><td>&minus;20.443</td><td>&minus;54.646</td><td>4</td></tr>\n",
       "    <tr><td class='row_index'>14</td><td>261160</td><td>ND</td><td>PE</td><td>Recife</td><td>1</td><td>Recife</td><td>&minus;8.054</td><td>&minus;34.881</td><td>5</td></tr>\n",
       "    <tr><td class='row_index'>&#x22EE;</td><td class='hellipsis'>&#x22EE;</td><td class='hellipsis'>&#x22EE;</td><td class='hellipsis'>&#x22EE;</td><td class='hellipsis'>&#x22EE;</td><td class='hellipsis'>&#x22EE;</td><td class='hellipsis'>&#x22EE;</td><td class='hellipsis'>&#x22EE;</td><td class='hellipsis'>&#x22EE;</td><td class='hellipsis'>&#x22EE;</td></tr>\n",
       "    <tr><td class='row_index'>5564</td><td>520020</td><td>CO</td><td>GO</td><td>Água Limpa</td><td>0</td><td>Sul</td><td>&minus;18.074</td><td>&minus;48.762</td><td>3</td></tr>\n",
       "    <tr><td class='row_index'>5565</td><td>510120</td><td>CO</td><td>MT</td><td>Araguainha</td><td>0</td><td>Rondonópolis</td><td>&minus;16.856</td><td>&minus;53.033</td><td>2</td></tr>\n",
       "    <tr><td class='row_index'>5566</td><td>350640</td><td>SD</td><td>SP</td><td>Bilac</td><td>0</td><td>Araçatuba</td><td>&minus;21.403</td><td>&minus;50.471</td><td>5</td></tr>\n",
       "    <tr><td class='row_index'>5567</td><td>500627</td><td>CO</td><td>MS</td><td>Paraíso das Águas</td><td>0</td><td></td><td>&minus;19.0216</td><td>&minus;53.0116</td><td>4</td></tr>\n",
       "    <tr><td class='row_index'>5568</td><td>330513</td><td>SD</td><td>RJ</td><td>São José de Ubá</td><td>0</td><td>Noroeste</td><td>&minus;21.358</td><td>&minus;41.943</td><td>3</td></tr>\n",
       "  </tbody>\n",
       "  </table>\n",
       "  <div class='footer'>\n",
       "    <div class='frame_dimensions'>5569 rows &times; 9 columns</div>\n",
       "  </div>\n",
       "</div>\n"
      ],
      "text/plain": [
       "<Frame#7fc109e9cde0 5569x9>"
      ]
     },
     "execution_count": 12,
     "metadata": {},
     "output_type": "execute_result"
    }
   ],
   "source": [
    "rr = df_mun[:, 'regiao']\n",
    "rr.replace(regioes)\n",
    "df_mun['regiao'] = rr\n",
    "df_mun"
   ]
  },
  {
   "cell_type": "markdown",
   "metadata": {},
   "source": [
    "## Tabela Distâncias"
   ]
  },
  {
   "cell_type": "markdown",
   "metadata": {},
   "source": [
    "### Carregando tabela"
   ]
  },
  {
   "cell_type": "code",
   "execution_count": 13,
   "metadata": {},
   "outputs": [
    {
     "data": {
      "text/html": [
       "<div class='datatable'>\n",
       "  <table class='frame'>\n",
       "  <thead>\n",
       "    <tr class='colnames'><td class='row_index'></td><th>origem</th><th>destino</th><th>distancia</th><th>tempo</th></tr>\n",
       "    <tr class='coltypes'><td class='row_index'></td><td class='int' title='int32'>&#x25AA;&#x25AA;&#x25AA;&#x25AA;</td><td class='int' title='int32'>&#x25AA;&#x25AA;&#x25AA;&#x25AA;</td><td class='float' title='float64'>&#x25AA;&#x25AA;&#x25AA;&#x25AA;&#x25AA;&#x25AA;&#x25AA;&#x25AA;</td><td class='float' title='float64'>&#x25AA;&#x25AA;&#x25AA;&#x25AA;&#x25AA;&#x25AA;&#x25AA;&#x25AA;</td></tr>\n",
       "  </thead>\n",
       "  <tbody>\n",
       "    <tr><td class='row_index'>0</td><td>355030</td><td>355030</td><td>0</td><td>0</td></tr>\n",
       "    <tr><td class='row_index'>1</td><td>330455</td><td>330455</td><td>0</td><td>0</td></tr>\n",
       "    <tr><td class='row_index'>2</td><td>230440</td><td>230440</td><td>0</td><td>0</td></tr>\n",
       "    <tr><td class='row_index'>3</td><td>130260</td><td>130260</td><td>0</td><td>0</td></tr>\n",
       "    <tr><td class='row_index'>4</td><td>292740</td><td>292740</td><td>0</td><td>0</td></tr>\n",
       "    <tr><td class='row_index'>5</td><td>150140</td><td>150140</td><td>0</td><td>0</td></tr>\n",
       "    <tr><td class='row_index'>6</td><td>520870</td><td>520870</td><td>0</td><td>0</td></tr>\n",
       "    <tr><td class='row_index'>7</td><td>310620</td><td>310620</td><td>0</td><td>0</td></tr>\n",
       "    <tr><td class='row_index'>8</td><td>431490</td><td>431490</td><td>0</td><td>0</td></tr>\n",
       "    <tr><td class='row_index'>9</td><td>230370</td><td>230440</td><td>16.7161</td><td>0.344111</td></tr>\n",
       "    <tr><td class='row_index'>10</td><td>270430</td><td>270430</td><td>0</td><td>0</td></tr>\n",
       "    <tr><td class='row_index'>11</td><td>410690</td><td>410690</td><td>0</td><td>0</td></tr>\n",
       "    <tr><td class='row_index'>12</td><td>211130</td><td>211130</td><td>0</td><td>0</td></tr>\n",
       "    <tr><td class='row_index'>13</td><td>221100</td><td>221100</td><td>0</td><td>0</td></tr>\n",
       "    <tr><td class='row_index'>14</td><td>500270</td><td>500270</td><td>0</td><td>0</td></tr>\n",
       "    <tr><td class='row_index'>&#x22EE;</td><td class='hellipsis'>&#x22EE;</td><td class='hellipsis'>&#x22EE;</td><td class='hellipsis'>&#x22EE;</td><td class='hellipsis'>&#x22EE;</td></tr>\n",
       "    <tr><td class='row_index'>71,681</td><td>522220</td><td>520540</td><td>443.089</td><td>5.96508</td></tr>\n",
       "    <tr><td class='row_index'>71,682</td><td>522220</td><td>521830</td><td>150.619</td><td>1.85706</td></tr>\n",
       "    <tr><td class='row_index'>71,683</td><td>522230</td><td>521830</td><td>501.82</td><td>7.04144</td></tr>\n",
       "    <tr><td class='row_index'>71,684</td><td>522230</td><td>521970</td><td>203.783</td><td>3.14278</td></tr>\n",
       "    <tr><td class='row_index'>71,685</td><td>522230</td><td>522045</td><td>192.855</td><td>3.10403</td></tr>\n",
       "  </tbody>\n",
       "  </table>\n",
       "  <div class='footer'>\n",
       "    <div class='frame_dimensions'>71,686 rows &times; 4 columns</div>\n",
       "  </div>\n",
       "</div>\n"
      ],
      "text/plain": [
       "<Frame#7fc1101a8f30 71686x4>"
      ]
     },
     "execution_count": 13,
     "metadata": {},
     "output_type": "execute_result"
    }
   ],
   "source": [
    "output_dist = get_path('GESTANTES', 'distancias.csv.gzip')\n",
    "df_dist = dt.fread(output_dist)\n",
    "df_dist = df_dist[:, df_dist.names[:-1]]\n",
    "df_dist"
   ]
  },
  {
   "cell_type": "markdown",
   "metadata": {},
   "source": [
    "# Gerando tabela"
   ]
  },
  {
   "cell_type": "markdown",
   "metadata": {},
   "source": [
    "## Juntando com outras"
   ]
  },
  {
   "cell_type": "markdown",
   "metadata": {},
   "source": [
    "### Juntando com Distâncias"
   ]
  },
  {
   "cell_type": "code",
   "execution_count": 14,
   "metadata": {},
   "outputs": [
    {
     "data": {
      "text/html": [
       "<div class='datatable'>\n",
       "  <table class='frame'>\n",
       "  <thead>\n",
       "    <tr class='colnames'><th class='row_index'>origem</th><th class='row_index'>destino</th><th>distancia</th><th>tempo</th></tr>\n",
       "    <tr class='coltypes'><td class='int' title='int32'>&#x25AA;&#x25AA;&#x25AA;&#x25AA;</td><td class='int' title='int32'>&#x25AA;&#x25AA;&#x25AA;&#x25AA;</td><td class='float' title='float64'>&#x25AA;&#x25AA;&#x25AA;&#x25AA;&#x25AA;&#x25AA;&#x25AA;&#x25AA;</td><td class='float' title='float64'>&#x25AA;&#x25AA;&#x25AA;&#x25AA;&#x25AA;&#x25AA;&#x25AA;&#x25AA;</td></tr>\n",
       "  </thead>\n",
       "  <tbody>\n",
       "    <tr><td class='row_index'>110001</td><td class='row_index'>110001</td><td>0</td><td>0</td></tr>\n",
       "    <tr><td class='row_index'>110001</td><td class='row_index'>110002</td><td>309.05</td><td>6.16906</td></tr>\n",
       "    <tr><td class='row_index'>110001</td><td class='row_index'>110004</td><td>81.2011</td><td>1.91775</td></tr>\n",
       "    <tr><td class='row_index'>110001</td><td class='row_index'>110006</td><td>353.417</td><td>5.53989</td></tr>\n",
       "    <tr><td class='row_index'>110001</td><td class='row_index'>110009</td><td>145.678</td><td>2.346</td></tr>\n",
       "    <tr><td class='row_index'>110001</td><td class='row_index'>110012</td><td>130.77</td><td>2.54781</td></tr>\n",
       "    <tr><td class='row_index'>110001</td><td class='row_index'>110013</td><td>357.511</td><td>7.13067</td></tr>\n",
       "    <tr><td class='row_index'>110001</td><td class='row_index'>110015</td><td>172.926</td><td>3.18425</td></tr>\n",
       "    <tr><td class='row_index'>110001</td><td class='row_index'>110018</td><td>114.061</td><td>1.87139</td></tr>\n",
       "    <tr><td class='row_index'>110001</td><td class='row_index'>110020</td><td>505.856</td><td>9.16514</td></tr>\n",
       "    <tr><td class='row_index'>110001</td><td class='row_index'>110025</td><td>96.6065</td><td>1.98553</td></tr>\n",
       "    <tr><td class='row_index'>110001</td><td class='row_index'>110028</td><td>48.6099</td><td>0.835667</td></tr>\n",
       "    <tr><td class='row_index'>110001</td><td class='row_index'>110030</td><td>297.455</td><td>4.71864</td></tr>\n",
       "    <tr><td class='row_index'>110001</td><td class='row_index'>110149</td><td>217.355</td><td>3.67378</td></tr>\n",
       "    <tr><td class='row_index'>110001</td><td class='row_index'>110150</td><td>153.337</td><td>2.8455</td></tr>\n",
       "    <tr><td class='hellipsis'>&#x22EE;</td><td class='hellipsis'>&#x22EE;</td><td class='hellipsis'>&#x22EE;</td><td class='hellipsis'>&#x22EE;</td></tr>\n",
       "    <tr><td class='row_index'>522230</td><td class='row_index'>521560</td><td>101.555</td><td>1.65708</td></tr>\n",
       "    <tr><td class='row_index'>522230</td><td class='row_index'>521830</td><td>501.82</td><td>7.04144</td></tr>\n",
       "    <tr><td class='row_index'>522230</td><td class='row_index'>521970</td><td>203.783</td><td>3.14278</td></tr>\n",
       "    <tr><td class='row_index'>522230</td><td class='row_index'>522045</td><td>192.855</td><td>3.10403</td></tr>\n",
       "    <tr><td class='row_index'>522230</td><td class='row_index'>530010</td><td>190.001</td><td>3.21608</td></tr>\n",
       "  </tbody>\n",
       "  </table>\n",
       "  <div class='footer'>\n",
       "    <div class='frame_dimensions'>71,686 rows &times; 4 columns</div>\n",
       "  </div>\n",
       "</div>\n"
      ],
      "text/plain": [
       "<Frame#7fc1101a8f30 71686x4>"
      ]
     },
     "execution_count": 14,
     "metadata": {},
     "output_type": "execute_result"
    }
   ],
   "source": [
    "df_dist.key = ['origem', 'destino']\n",
    "df_deslc = df_deslc[:, :, dt.join(df_dist)]\n",
    "df_dist"
   ]
  },
  {
   "cell_type": "markdown",
   "metadata": {},
   "source": [
    "### Juntando com Municípios (res)"
   ]
  },
  {
   "cell_type": "code",
   "execution_count": 15,
   "metadata": {},
   "outputs": [
    {
     "data": {
      "text/html": [
       "<div class='datatable'>\n",
       "  <table class='frame'>\n",
       "  <thead>\n",
       "    <tr class='colnames'><th class='row_index'>origem</th><th>regiao</th><th>uf</th><th>municipio</th><th>capital</th><th>nome_regiao_saude</th><th>latitude</th><th>longitude</th><th>socioecon</th></tr>\n",
       "    <tr class='coltypes'><td class='int' title='int32'>&#x25AA;&#x25AA;&#x25AA;&#x25AA;</td><td class='str' title='str32'>&#x25AA;&#x25AA;&#x25AA;&#x25AA;</td><td class='str' title='str32'>&#x25AA;&#x25AA;&#x25AA;&#x25AA;</td><td class='str' title='str32'>&#x25AA;&#x25AA;&#x25AA;&#x25AA;</td><td class='bool' title='bool8'>&#x25AA;</td><td class='str' title='str32'>&#x25AA;&#x25AA;&#x25AA;&#x25AA;</td><td class='float' title='float64'>&#x25AA;&#x25AA;&#x25AA;&#x25AA;&#x25AA;&#x25AA;&#x25AA;&#x25AA;</td><td class='float' title='float64'>&#x25AA;&#x25AA;&#x25AA;&#x25AA;&#x25AA;&#x25AA;&#x25AA;&#x25AA;</td><td class='int' title='int32'>&#x25AA;&#x25AA;&#x25AA;&#x25AA;</td></tr>\n",
       "  </thead>\n",
       "  <tbody>\n",
       "    <tr><td class='row_index'>110001</td><td>NT</td><td>RO</td><td>Alta Floresta D'Oeste</td><td>0</td><td>II Delegacia Regional de Saúde</td><td>&minus;11.929</td><td>&minus;61.996</td><td>1</td></tr>\n",
       "    <tr><td class='row_index'>110002</td><td>NT</td><td>RO</td><td>Ariquemes</td><td>0</td><td>Departamento de Epidemiologia</td><td>&minus;9.913</td><td>&minus;63.041</td><td>1</td></tr>\n",
       "    <tr><td class='row_index'>110003</td><td>NT</td><td>RO</td><td>Cabixi</td><td>0</td><td>III Delegacia Regional de Saúde</td><td>&minus;13.492</td><td>&minus;60.545</td><td>2</td></tr>\n",
       "    <tr><td class='row_index'>110004</td><td>NT</td><td>RO</td><td>Cacoal</td><td>0</td><td>II Delegacia Regional de Saúde</td><td>&minus;11.438</td><td>&minus;61.448</td><td>3</td></tr>\n",
       "    <tr><td class='row_index'>110005</td><td>NT</td><td>RO</td><td>Cerejeiras</td><td>0</td><td>III Delegacia Regional de Saúde</td><td>&minus;13.189</td><td>&minus;60.812</td><td>2</td></tr>\n",
       "    <tr><td class='row_index'>110006</td><td>NT</td><td>RO</td><td>Colorado do Oeste</td><td>0</td><td>III Delegacia Regional de Saúde</td><td>&minus;13.117</td><td>&minus;60.542</td><td>2</td></tr>\n",
       "    <tr><td class='row_index'>110007</td><td>NT</td><td>RO</td><td>Corumbiara</td><td>0</td><td>III Delegacia Regional de Saúde</td><td>&minus;12.962</td><td>&minus;60.887</td><td>2</td></tr>\n",
       "    <tr><td class='row_index'>110008</td><td>NT</td><td>RO</td><td>Costa Marques</td><td>0</td><td>I Delegacia Regional de Saúde</td><td>&minus;12.445</td><td>&minus;64.227</td><td>1</td></tr>\n",
       "    <tr><td class='row_index'>110009</td><td>NT</td><td>RO</td><td>Espigão D'Oeste</td><td>0</td><td>II Delegacia Regional de Saúde</td><td>&minus;11.525</td><td>&minus;61.013</td><td>3</td></tr>\n",
       "    <tr><td class='row_index'>110010</td><td>NT</td><td>RO</td><td>Guajará-Mirim</td><td>0</td><td>Departamento de Epidemiologia</td><td>&minus;10.783</td><td>&minus;65.339</td><td>3</td></tr>\n",
       "    <tr><td class='row_index'>110011</td><td>NT</td><td>RO</td><td>Jaru</td><td>0</td><td>I Delegacia Regional de Saúde</td><td>&minus;10.439</td><td>&minus;62.466</td><td>2</td></tr>\n",
       "    <tr><td class='row_index'>110012</td><td>NT</td><td>RO</td><td>Ji-Paraná</td><td>0</td><td>I Delegacia Regional de Saúde</td><td>&minus;10.882</td><td>&minus;61.944</td><td>2</td></tr>\n",
       "    <tr><td class='row_index'>110013</td><td>NT</td><td>RO</td><td>Machadinho D'Oeste</td><td>0</td><td>Departamento de Epidemiologia</td><td>&minus;9.444</td><td>&minus;61.981</td><td>1</td></tr>\n",
       "    <tr><td class='row_index'>110014</td><td>NT</td><td>RO</td><td>Nova Brasilândia D'Oeste</td><td>0</td><td>II Delegacia Regional de Saúde</td><td>&minus;11.725</td><td>&minus;62.331</td><td>1</td></tr>\n",
       "    <tr><td class='row_index'>110015</td><td>NT</td><td>RO</td><td>Ouro Preto do Oeste</td><td>0</td><td>I Delegacia Regional de Saúde</td><td>&minus;10.716</td><td>&minus;62.248</td><td>2</td></tr>\n",
       "    <tr><td class='hellipsis'>&#x22EE;</td><td class='hellipsis'>&#x22EE;</td><td class='hellipsis'>&#x22EE;</td><td class='hellipsis'>&#x22EE;</td><td class='hellipsis'>&#x22EE;</td><td class='hellipsis'>&#x22EE;</td><td class='hellipsis'>&#x22EE;</td><td class='hellipsis'>&#x22EE;</td><td class='hellipsis'>&#x22EE;</td></tr>\n",
       "    <tr><td class='row_index'>522190</td><td>CO</td><td>GO</td><td>Varjão</td><td>0</td><td>Centro Sul</td><td>&minus;17.045</td><td>&minus;49.631</td><td>3</td></tr>\n",
       "    <tr><td class='row_index'>522200</td><td>CO</td><td>GO</td><td>Vianópolis</td><td>0</td><td>Centro Sul</td><td>&minus;16.742</td><td>&minus;48.516</td><td>3</td></tr>\n",
       "    <tr><td class='row_index'>522205</td><td>CO</td><td>GO</td><td>Vicentinópolis</td><td>0</td><td>Centro Sul</td><td>&minus;17.735</td><td>&minus;49.806</td><td>3</td></tr>\n",
       "    <tr><td class='row_index'>522220</td><td>CO</td><td>GO</td><td>Vila Boa</td><td>0</td><td>Entorno Norte</td><td>&minus;15.038</td><td>&minus;47.059</td><td>2</td></tr>\n",
       "    <tr><td class='row_index'>522230</td><td>CO</td><td>GO</td><td>Vila Propício</td><td>0</td><td>São Patrício</td><td>&minus;15.457</td><td>&minus;48.889</td><td>2</td></tr>\n",
       "  </tbody>\n",
       "  </table>\n",
       "  <div class='footer'>\n",
       "    <div class='frame_dimensions'>5569 rows &times; 9 columns</div>\n",
       "  </div>\n",
       "</div>\n"
      ],
      "text/plain": [
       "<Frame#7fc109e9cde0 5569x9>"
      ]
     },
     "execution_count": 15,
     "metadata": {},
     "output_type": "execute_result"
    }
   ],
   "source": [
    "df_mun.key = 'origem'\n",
    "df_deslc = df_deslc[:, :, dt.join(df_mun)]\n",
    "df_mun"
   ]
  },
  {
   "cell_type": "markdown",
   "metadata": {},
   "source": [
    "### Juntando com Municípios (hosp)"
   ]
  },
  {
   "cell_type": "code",
   "execution_count": 16,
   "metadata": {},
   "outputs": [
    {
     "data": {
      "text/html": [
       "<div class='datatable'>\n",
       "  <table class='frame'>\n",
       "  <thead>\n",
       "    <tr class='colnames'><td class='row_index'></td><th>bienio</th><th>parto_normal</th><th>hosp_cnes</th><th>destino</th><th>hosp_regiao_saude</th><th>origem</th><th>regiao_saude</th><th>count</th><th>distancia</th><th>tempo</th><th class='vellipsis'>&hellip;</th><th>longitude</th><th>socioecon</th><th>hosp_uf</th><th>hosp_latitude</th><th>hosp_longitude</th></tr>\n",
       "    <tr class='coltypes'><td class='row_index'></td><td class='bool' title='bool8'>&#x25AA;</td><td class='bool' title='bool8'>&#x25AA;</td><td class='int' title='int32'>&#x25AA;&#x25AA;&#x25AA;&#x25AA;</td><td class='int' title='int32'>&#x25AA;&#x25AA;&#x25AA;&#x25AA;</td><td class='int' title='int32'>&#x25AA;&#x25AA;&#x25AA;&#x25AA;</td><td class='int' title='int32'>&#x25AA;&#x25AA;&#x25AA;&#x25AA;</td><td class='int' title='int32'>&#x25AA;&#x25AA;&#x25AA;&#x25AA;</td><td class='int' title='int64'>&#x25AA;&#x25AA;&#x25AA;&#x25AA;&#x25AA;&#x25AA;&#x25AA;&#x25AA;</td><td class='float' title='float64'>&#x25AA;&#x25AA;&#x25AA;&#x25AA;&#x25AA;&#x25AA;&#x25AA;&#x25AA;</td><td class='float' title='float64'>&#x25AA;&#x25AA;&#x25AA;&#x25AA;&#x25AA;&#x25AA;&#x25AA;&#x25AA;</td><td></td><td class='float' title='float64'>&#x25AA;&#x25AA;&#x25AA;&#x25AA;&#x25AA;&#x25AA;&#x25AA;&#x25AA;</td><td class='int' title='int32'>&#x25AA;&#x25AA;&#x25AA;&#x25AA;</td><td class='str' title='str32'>&#x25AA;&#x25AA;&#x25AA;&#x25AA;</td><td class='float' title='float64'>&#x25AA;&#x25AA;&#x25AA;&#x25AA;&#x25AA;&#x25AA;&#x25AA;&#x25AA;</td><td class='float' title='float64'>&#x25AA;&#x25AA;&#x25AA;&#x25AA;&#x25AA;&#x25AA;&#x25AA;&#x25AA;</td></tr>\n",
       "  </thead>\n",
       "  <tbody>\n",
       "    <tr><td class='row_index'>0</td><td>0</td><td>0</td><td>27</td><td>260290</td><td>2601</td><td>260290</td><td>2601</td><td>1</td><td>0</td><td>0</td><td class=vellipsis>&hellip;</td><td>&minus;35.035</td><td>5</td><td>PE</td><td>&minus;8.287</td><td>&minus;35.035</td></tr>\n",
       "    <tr><td class='row_index'>1</td><td>0</td><td>0</td><td>27</td><td>260290</td><td>2601</td><td>260720</td><td>2601</td><td>1</td><td>16.8139</td><td>0.319111</td><td class=vellipsis>&hellip;</td><td>&minus;35.064</td><td>5</td><td>PE</td><td>&minus;8.287</td><td>&minus;35.035</td></tr>\n",
       "    <tr><td class='row_index'>2</td><td>0</td><td>0</td><td>94</td><td>260290</td><td>2601</td><td>260140</td><td>2603</td><td>2</td><td>73.9977</td><td>1.34642</td><td class=vellipsis>&hellip;</td><td>&minus;35.186</td><td>1</td><td>PE</td><td>&minus;8.287</td><td>&minus;35.035</td></tr>\n",
       "    <tr><td class='row_index'>3</td><td>0</td><td>0</td><td>94</td><td>260290</td><td>2601</td><td>260290</td><td>2601</td><td>58</td><td>0</td><td>0</td><td class=vellipsis>&hellip;</td><td>&minus;35.035</td><td>5</td><td>PE</td><td>&minus;8.287</td><td>&minus;35.035</td></tr>\n",
       "    <tr><td class='row_index'>4</td><td>0</td><td>0</td><td>94</td><td>260290</td><td>2601</td><td>260345</td><td>2601</td><td>3</td><td>42.4065</td><td>0.630306</td><td class=vellipsis>&hellip;</td><td>&minus;34.981</td><td>5</td><td>PE</td><td>&minus;8.287</td><td>&minus;35.035</td></tr>\n",
       "    <tr><td class='row_index'>5</td><td>0</td><td>0</td><td>94</td><td>260290</td><td>2601</td><td>260400</td><td>2602</td><td>1</td><td>81.5093</td><td>1.15006</td><td class=vellipsis>&hellip;</td><td>&minus;35.255</td><td>1</td><td>PE</td><td>&minus;8.287</td><td>&minus;35.035</td></tr>\n",
       "    <tr><td class='row_index'>6</td><td>0</td><td>0</td><td>94</td><td>260290</td><td>2601</td><td>260520</td><td>2603</td><td>5</td><td>27.9907</td><td>0.378972</td><td class=vellipsis>&hellip;</td><td>&minus;35.224</td><td>1</td><td>PE</td><td>&minus;8.287</td><td>&minus;35.035</td></tr>\n",
       "    <tr><td class='row_index'>7</td><td>0</td><td>0</td><td>94</td><td>260290</td><td>2601</td><td>260540</td><td>2602</td><td>2</td><td>103.117</td><td>1.53569</td><td class=vellipsis>&hellip;</td><td>&minus;35.389</td><td>1</td><td>PE</td><td>&minus;8.287</td><td>&minus;35.035</td></tr>\n",
       "    <tr><td class='row_index'>8</td><td>0</td><td>0</td><td>94</td><td>260290</td><td>2601</td><td>260640</td><td>2604</td><td>2</td><td>104</td><td>1.41492</td><td class=vellipsis>&hellip;</td><td>&minus;35.565</td><td>1</td><td>PE</td><td>&minus;8.287</td><td>&minus;35.035</td></tr>\n",
       "    <tr><td class='row_index'>9</td><td>0</td><td>0</td><td>94</td><td>260290</td><td>2601</td><td>260680</td><td>2601</td><td>1</td><td>62.8655</td><td>0.96025</td><td class=vellipsis>&hellip;</td><td>&minus;34.906</td><td>5</td><td>PE</td><td>&minus;8.287</td><td>&minus;35.035</td></tr>\n",
       "    <tr><td class='row_index'>10</td><td>0</td><td>0</td><td>94</td><td>260290</td><td>2601</td><td>260720</td><td>2601</td><td>23</td><td>16.8139</td><td>0.319111</td><td class=vellipsis>&hellip;</td><td>&minus;35.064</td><td>5</td><td>PE</td><td>&minus;8.287</td><td>&minus;35.035</td></tr>\n",
       "    <tr><td class='row_index'>11</td><td>0</td><td>0</td><td>94</td><td>260290</td><td>2601</td><td>260790</td><td>2601</td><td>43</td><td>19.3115</td><td>0.414222</td><td class=vellipsis>&hellip;</td><td>&minus;35.015</td><td>5</td><td>PE</td><td>&minus;8.287</td><td>&minus;35.035</td></tr>\n",
       "    <tr><td class='row_index'>12</td><td>0</td><td>0</td><td>94</td><td>260290</td><td>2601</td><td>260960</td><td>2601</td><td>9</td><td>41.4752</td><td>0.5945</td><td class=vellipsis>&hellip;</td><td>&minus;34.855</td><td>5</td><td>PE</td><td>&minus;8.287</td><td>&minus;35.035</td></tr>\n",
       "    <tr><td class='row_index'>13</td><td>0</td><td>0</td><td>94</td><td>260290</td><td>2601</td><td>261000</td><td>2603</td><td>1</td><td>89.2513</td><td>1.06403</td><td class=vellipsis>&hellip;</td><td>&minus;35.592</td><td>1</td><td>PE</td><td>&minus;8.287</td><td>&minus;35.035</td></tr>\n",
       "    <tr><td class='row_index'>14</td><td>0</td><td>0</td><td>94</td><td>260290</td><td>2601</td><td>261060</td><td>2602</td><td>1</td><td>69.3776</td><td>1.02681</td><td class=vellipsis>&hellip;</td><td>&minus;35.18</td><td>1</td><td>PE</td><td>&minus;8.287</td><td>&minus;35.035</td></tr>\n",
       "    <tr><td class='row_index'>&#x22EE;</td><td class='hellipsis'>&#x22EE;</td><td class='hellipsis'>&#x22EE;</td><td class='hellipsis'>&#x22EE;</td><td class='hellipsis'>&#x22EE;</td><td class='hellipsis'>&#x22EE;</td><td class='hellipsis'>&#x22EE;</td><td class='hellipsis'>&#x22EE;</td><td class='hellipsis'>&#x22EE;</td><td class='hellipsis'>&#x22EE;</td><td class='hellipsis'>&#x22EE;</td><td class='hellipsis'>&#x22F1;</td><td class='hellipsis'>&#x22EE;</td><td class='hellipsis'>&#x22EE;</td><td class='hellipsis'>&#x22EE;</td><td class='hellipsis'>&#x22EE;</td><td class='hellipsis'>&#x22EE;</td></tr>\n",
       "    <tr><td class='row_index'>124,774</td><td>1</td><td>1</td><td>9923837</td><td>270430</td><td>2701</td><td>315980</td><td>3125</td><td>1</td><td>2275.67</td><td>28.2836</td><td class=vellipsis>&hellip;</td><td>&minus;50.121</td><td>5</td><td>AL</td><td>&minus;9.666</td><td>&minus;35.735</td></tr>\n",
       "    <tr><td class='row_index'>124,775</td><td>1</td><td>1</td><td>9923837</td><td>270430</td><td>2701</td><td>350400</td><td>3508</td><td>1</td><td>2599.62</td><td>31.9186</td><td class=vellipsis>&hellip;</td><td>&minus;50.412</td><td>4</td><td>AL</td><td>&minus;9.666</td><td>&minus;35.735</td></tr>\n",
       "    <tr><td class='row_index'>124,776</td><td>1</td><td>1</td><td>9923837</td><td>270430</td><td>2701</td><td>351880</td><td>3503</td><td>1</td><td>2404.71</td><td>29.9013</td><td class=vellipsis>&hellip;</td><td>&minus;46.533</td><td>4</td><td>AL</td><td>&minus;9.666</td><td>&minus;35.735</td></tr>\n",
       "    <tr><td class='row_index'>124,777</td><td>1</td><td>1</td><td>9923837</td><td>270430</td><td>2701</td><td>354100</td><td>3519</td><td>1</td><td>2490.4</td><td>31.2415</td><td class=vellipsis>&hellip;</td><td>&minus;46.403</td><td>4</td><td>AL</td><td>&minus;9.666</td><td>&minus;35.735</td></tr>\n",
       "    <tr><td class='row_index'>124,778</td><td>1</td><td>1</td><td>9923837</td><td>270430</td><td>2701</td><td>510623</td><td>5105</td><td>1</td><td>3217.73</td><td>39.9407</td><td class=vellipsis>&hellip;</td><td>&minus;57.288</td><td>2</td><td>AL</td><td>&minus;9.666</td><td>&minus;35.735</td></tr>\n",
       "  </tbody>\n",
       "  </table>\n",
       "  <div class='footer'>\n",
       "    <div class='frame_dimensions'>124,779 rows &times; 21 columns</div>\n",
       "  </div>\n",
       "</div>\n"
      ],
      "text/plain": [
       "<Frame#7fc129b65ea0 124779x21>"
      ]
     },
     "execution_count": 16,
     "metadata": {},
     "output_type": "execute_result"
    }
   ],
   "source": [
    "df_mun_hosp.key = 'destino'\n",
    "df_deslc = df_deslc[:, :, dt.join(df_mun_hosp)]\n",
    "df_deslc"
   ]
  },
  {
   "cell_type": "markdown",
   "metadata": {},
   "source": [
    "## Criando colunas"
   ]
  },
  {
   "cell_type": "code",
   "execution_count": 17,
   "metadata": {},
   "outputs": [
    {
     "data": {
      "text/html": [
       "<div class='datatable'>\n",
       "  <table class='frame'>\n",
       "  <thead>\n",
       "    <tr class='colnames'><td class='row_index'></td><th>bienio</th><th>parto_normal</th><th>hosp_cnes</th><th>destino</th><th>hosp_regiao_saude</th><th>origem</th><th>regiao_saude</th><th>count</th><th>distancia</th><th>tempo</th><th class='vellipsis'>&hellip;</th><th>hosp_uf</th><th>hosp_latitude</th><th>hosp_longitude</th><th>mun_diff</th><th>regsau_diff</th></tr>\n",
       "    <tr class='coltypes'><td class='row_index'></td><td class='bool' title='bool8'>&#x25AA;</td><td class='bool' title='bool8'>&#x25AA;</td><td class='int' title='int32'>&#x25AA;&#x25AA;&#x25AA;&#x25AA;</td><td class='int' title='int32'>&#x25AA;&#x25AA;&#x25AA;&#x25AA;</td><td class='int' title='int32'>&#x25AA;&#x25AA;&#x25AA;&#x25AA;</td><td class='int' title='int32'>&#x25AA;&#x25AA;&#x25AA;&#x25AA;</td><td class='int' title='int32'>&#x25AA;&#x25AA;&#x25AA;&#x25AA;</td><td class='int' title='int64'>&#x25AA;&#x25AA;&#x25AA;&#x25AA;&#x25AA;&#x25AA;&#x25AA;&#x25AA;</td><td class='float' title='float64'>&#x25AA;&#x25AA;&#x25AA;&#x25AA;&#x25AA;&#x25AA;&#x25AA;&#x25AA;</td><td class='float' title='float64'>&#x25AA;&#x25AA;&#x25AA;&#x25AA;&#x25AA;&#x25AA;&#x25AA;&#x25AA;</td><td></td><td class='str' title='str32'>&#x25AA;&#x25AA;&#x25AA;&#x25AA;</td><td class='float' title='float64'>&#x25AA;&#x25AA;&#x25AA;&#x25AA;&#x25AA;&#x25AA;&#x25AA;&#x25AA;</td><td class='float' title='float64'>&#x25AA;&#x25AA;&#x25AA;&#x25AA;&#x25AA;&#x25AA;&#x25AA;&#x25AA;</td><td class='bool' title='bool8'>&#x25AA;</td><td class='bool' title='bool8'>&#x25AA;</td></tr>\n",
       "  </thead>\n",
       "  <tbody>\n",
       "    <tr><td class='row_index'>0</td><td>0</td><td>0</td><td>27</td><td>260290</td><td>2601</td><td>260290</td><td>2601</td><td>1</td><td>0</td><td>0</td><td class=vellipsis>&hellip;</td><td>PE</td><td>&minus;8.287</td><td>&minus;35.035</td><td>0</td><td>0</td></tr>\n",
       "    <tr><td class='row_index'>1</td><td>0</td><td>0</td><td>27</td><td>260290</td><td>2601</td><td>260720</td><td>2601</td><td>1</td><td>16.8139</td><td>0.319111</td><td class=vellipsis>&hellip;</td><td>PE</td><td>&minus;8.287</td><td>&minus;35.035</td><td>1</td><td>0</td></tr>\n",
       "    <tr><td class='row_index'>2</td><td>0</td><td>0</td><td>94</td><td>260290</td><td>2601</td><td>260140</td><td>2603</td><td>2</td><td>73.9977</td><td>1.34642</td><td class=vellipsis>&hellip;</td><td>PE</td><td>&minus;8.287</td><td>&minus;35.035</td><td>1</td><td>1</td></tr>\n",
       "    <tr><td class='row_index'>3</td><td>0</td><td>0</td><td>94</td><td>260290</td><td>2601</td><td>260290</td><td>2601</td><td>58</td><td>0</td><td>0</td><td class=vellipsis>&hellip;</td><td>PE</td><td>&minus;8.287</td><td>&minus;35.035</td><td>0</td><td>0</td></tr>\n",
       "    <tr><td class='row_index'>4</td><td>0</td><td>0</td><td>94</td><td>260290</td><td>2601</td><td>260345</td><td>2601</td><td>3</td><td>42.4065</td><td>0.630306</td><td class=vellipsis>&hellip;</td><td>PE</td><td>&minus;8.287</td><td>&minus;35.035</td><td>1</td><td>0</td></tr>\n",
       "    <tr><td class='row_index'>5</td><td>0</td><td>0</td><td>94</td><td>260290</td><td>2601</td><td>260400</td><td>2602</td><td>1</td><td>81.5093</td><td>1.15006</td><td class=vellipsis>&hellip;</td><td>PE</td><td>&minus;8.287</td><td>&minus;35.035</td><td>1</td><td>1</td></tr>\n",
       "    <tr><td class='row_index'>6</td><td>0</td><td>0</td><td>94</td><td>260290</td><td>2601</td><td>260520</td><td>2603</td><td>5</td><td>27.9907</td><td>0.378972</td><td class=vellipsis>&hellip;</td><td>PE</td><td>&minus;8.287</td><td>&minus;35.035</td><td>1</td><td>1</td></tr>\n",
       "    <tr><td class='row_index'>7</td><td>0</td><td>0</td><td>94</td><td>260290</td><td>2601</td><td>260540</td><td>2602</td><td>2</td><td>103.117</td><td>1.53569</td><td class=vellipsis>&hellip;</td><td>PE</td><td>&minus;8.287</td><td>&minus;35.035</td><td>1</td><td>1</td></tr>\n",
       "    <tr><td class='row_index'>8</td><td>0</td><td>0</td><td>94</td><td>260290</td><td>2601</td><td>260640</td><td>2604</td><td>2</td><td>104</td><td>1.41492</td><td class=vellipsis>&hellip;</td><td>PE</td><td>&minus;8.287</td><td>&minus;35.035</td><td>1</td><td>1</td></tr>\n",
       "    <tr><td class='row_index'>9</td><td>0</td><td>0</td><td>94</td><td>260290</td><td>2601</td><td>260680</td><td>2601</td><td>1</td><td>62.8655</td><td>0.96025</td><td class=vellipsis>&hellip;</td><td>PE</td><td>&minus;8.287</td><td>&minus;35.035</td><td>1</td><td>0</td></tr>\n",
       "    <tr><td class='row_index'>10</td><td>0</td><td>0</td><td>94</td><td>260290</td><td>2601</td><td>260720</td><td>2601</td><td>23</td><td>16.8139</td><td>0.319111</td><td class=vellipsis>&hellip;</td><td>PE</td><td>&minus;8.287</td><td>&minus;35.035</td><td>1</td><td>0</td></tr>\n",
       "    <tr><td class='row_index'>11</td><td>0</td><td>0</td><td>94</td><td>260290</td><td>2601</td><td>260790</td><td>2601</td><td>43</td><td>19.3115</td><td>0.414222</td><td class=vellipsis>&hellip;</td><td>PE</td><td>&minus;8.287</td><td>&minus;35.035</td><td>1</td><td>0</td></tr>\n",
       "    <tr><td class='row_index'>12</td><td>0</td><td>0</td><td>94</td><td>260290</td><td>2601</td><td>260960</td><td>2601</td><td>9</td><td>41.4752</td><td>0.5945</td><td class=vellipsis>&hellip;</td><td>PE</td><td>&minus;8.287</td><td>&minus;35.035</td><td>1</td><td>0</td></tr>\n",
       "    <tr><td class='row_index'>13</td><td>0</td><td>0</td><td>94</td><td>260290</td><td>2601</td><td>261000</td><td>2603</td><td>1</td><td>89.2513</td><td>1.06403</td><td class=vellipsis>&hellip;</td><td>PE</td><td>&minus;8.287</td><td>&minus;35.035</td><td>1</td><td>1</td></tr>\n",
       "    <tr><td class='row_index'>14</td><td>0</td><td>0</td><td>94</td><td>260290</td><td>2601</td><td>261060</td><td>2602</td><td>1</td><td>69.3776</td><td>1.02681</td><td class=vellipsis>&hellip;</td><td>PE</td><td>&minus;8.287</td><td>&minus;35.035</td><td>1</td><td>1</td></tr>\n",
       "    <tr><td class='row_index'>&#x22EE;</td><td class='hellipsis'>&#x22EE;</td><td class='hellipsis'>&#x22EE;</td><td class='hellipsis'>&#x22EE;</td><td class='hellipsis'>&#x22EE;</td><td class='hellipsis'>&#x22EE;</td><td class='hellipsis'>&#x22EE;</td><td class='hellipsis'>&#x22EE;</td><td class='hellipsis'>&#x22EE;</td><td class='hellipsis'>&#x22EE;</td><td class='hellipsis'>&#x22EE;</td><td class='hellipsis'>&#x22F1;</td><td class='hellipsis'>&#x22EE;</td><td class='hellipsis'>&#x22EE;</td><td class='hellipsis'>&#x22EE;</td><td class='hellipsis'>&#x22EE;</td><td class='hellipsis'>&#x22EE;</td></tr>\n",
       "    <tr><td class='row_index'>124,774</td><td>1</td><td>1</td><td>9923837</td><td>270430</td><td>2701</td><td>315980</td><td>3125</td><td>1</td><td>2275.67</td><td>28.2836</td><td class=vellipsis>&hellip;</td><td>AL</td><td>&minus;9.666</td><td>&minus;35.735</td><td>1</td><td>1</td></tr>\n",
       "    <tr><td class='row_index'>124,775</td><td>1</td><td>1</td><td>9923837</td><td>270430</td><td>2701</td><td>350400</td><td>3508</td><td>1</td><td>2599.62</td><td>31.9186</td><td class=vellipsis>&hellip;</td><td>AL</td><td>&minus;9.666</td><td>&minus;35.735</td><td>1</td><td>1</td></tr>\n",
       "    <tr><td class='row_index'>124,776</td><td>1</td><td>1</td><td>9923837</td><td>270430</td><td>2701</td><td>351880</td><td>3503</td><td>1</td><td>2404.71</td><td>29.9013</td><td class=vellipsis>&hellip;</td><td>AL</td><td>&minus;9.666</td><td>&minus;35.735</td><td>1</td><td>1</td></tr>\n",
       "    <tr><td class='row_index'>124,777</td><td>1</td><td>1</td><td>9923837</td><td>270430</td><td>2701</td><td>354100</td><td>3519</td><td>1</td><td>2490.4</td><td>31.2415</td><td class=vellipsis>&hellip;</td><td>AL</td><td>&minus;9.666</td><td>&minus;35.735</td><td>1</td><td>1</td></tr>\n",
       "    <tr><td class='row_index'>124,778</td><td>1</td><td>1</td><td>9923837</td><td>270430</td><td>2701</td><td>510623</td><td>5105</td><td>1</td><td>3217.73</td><td>39.9407</td><td class=vellipsis>&hellip;</td><td>AL</td><td>&minus;9.666</td><td>&minus;35.735</td><td>1</td><td>1</td></tr>\n",
       "  </tbody>\n",
       "  </table>\n",
       "  <div class='footer'>\n",
       "    <div class='frame_dimensions'>124,779 rows &times; 23 columns</div>\n",
       "  </div>\n",
       "</div>\n"
      ],
      "text/plain": [
       "<Frame#7fc129b65ea0 124779x23>"
      ]
     },
     "execution_count": 17,
     "metadata": {},
     "output_type": "execute_result"
    }
   ],
   "source": [
    "df_deslc['mun_diff'] = f.origem != f.destino\n",
    "df_deslc['regsau_diff'] = f.regiao_saude != f.hosp_regiao_saude\n",
    "df_deslc"
   ]
  },
  {
   "cell_type": "markdown",
   "metadata": {},
   "source": [
    "## Removendo valores NA"
   ]
  },
  {
   "cell_type": "code",
   "execution_count": 18,
   "metadata": {},
   "outputs": [
    {
     "data": {
      "text/html": [
       "<div class='datatable'>\n",
       "  <table class='frame'>\n",
       "  <thead>\n",
       "    <tr class='colnames'><td class='row_index'></td><th>bienio</th><th>parto_normal</th><th>hosp_cnes</th><th>destino</th><th>hosp_regiao_saude</th><th>origem</th><th>regiao_saude</th><th>count</th><th>distancia</th><th>tempo</th><th class='vellipsis'>&hellip;</th><th>hosp_uf</th><th>hosp_latitude</th><th>hosp_longitude</th><th>mun_diff</th><th>regsau_diff</th></tr>\n",
       "    <tr class='coltypes'><td class='row_index'></td><td class='bool' title='bool8'>&#x25AA;</td><td class='bool' title='bool8'>&#x25AA;</td><td class='int' title='int32'>&#x25AA;&#x25AA;&#x25AA;&#x25AA;</td><td class='int' title='int32'>&#x25AA;&#x25AA;&#x25AA;&#x25AA;</td><td class='int' title='int32'>&#x25AA;&#x25AA;&#x25AA;&#x25AA;</td><td class='int' title='int32'>&#x25AA;&#x25AA;&#x25AA;&#x25AA;</td><td class='int' title='int32'>&#x25AA;&#x25AA;&#x25AA;&#x25AA;</td><td class='int' title='int64'>&#x25AA;&#x25AA;&#x25AA;&#x25AA;&#x25AA;&#x25AA;&#x25AA;&#x25AA;</td><td class='float' title='float64'>&#x25AA;&#x25AA;&#x25AA;&#x25AA;&#x25AA;&#x25AA;&#x25AA;&#x25AA;</td><td class='float' title='float64'>&#x25AA;&#x25AA;&#x25AA;&#x25AA;&#x25AA;&#x25AA;&#x25AA;&#x25AA;</td><td></td><td class='str' title='str32'>&#x25AA;&#x25AA;&#x25AA;&#x25AA;</td><td class='float' title='float64'>&#x25AA;&#x25AA;&#x25AA;&#x25AA;&#x25AA;&#x25AA;&#x25AA;&#x25AA;</td><td class='float' title='float64'>&#x25AA;&#x25AA;&#x25AA;&#x25AA;&#x25AA;&#x25AA;&#x25AA;&#x25AA;</td><td class='bool' title='bool8'>&#x25AA;</td><td class='bool' title='bool8'>&#x25AA;</td></tr>\n",
       "  </thead>\n",
       "  <tbody>\n",
       "    <tr><td class='row_index'>0</td><td>0</td><td>0</td><td>27</td><td>260290</td><td>2601</td><td>260290</td><td>2601</td><td>1</td><td>0</td><td>0</td><td class=vellipsis>&hellip;</td><td>PE</td><td>&minus;8.287</td><td>&minus;35.035</td><td>0</td><td>0</td></tr>\n",
       "    <tr><td class='row_index'>1</td><td>0</td><td>0</td><td>27</td><td>260290</td><td>2601</td><td>260720</td><td>2601</td><td>1</td><td>16.8139</td><td>0.319111</td><td class=vellipsis>&hellip;</td><td>PE</td><td>&minus;8.287</td><td>&minus;35.035</td><td>1</td><td>0</td></tr>\n",
       "    <tr><td class='row_index'>2</td><td>0</td><td>0</td><td>94</td><td>260290</td><td>2601</td><td>260140</td><td>2603</td><td>2</td><td>73.9977</td><td>1.34642</td><td class=vellipsis>&hellip;</td><td>PE</td><td>&minus;8.287</td><td>&minus;35.035</td><td>1</td><td>1</td></tr>\n",
       "    <tr><td class='row_index'>3</td><td>0</td><td>0</td><td>94</td><td>260290</td><td>2601</td><td>260290</td><td>2601</td><td>58</td><td>0</td><td>0</td><td class=vellipsis>&hellip;</td><td>PE</td><td>&minus;8.287</td><td>&minus;35.035</td><td>0</td><td>0</td></tr>\n",
       "    <tr><td class='row_index'>4</td><td>0</td><td>0</td><td>94</td><td>260290</td><td>2601</td><td>260345</td><td>2601</td><td>3</td><td>42.4065</td><td>0.630306</td><td class=vellipsis>&hellip;</td><td>PE</td><td>&minus;8.287</td><td>&minus;35.035</td><td>1</td><td>0</td></tr>\n",
       "    <tr><td class='row_index'>5</td><td>0</td><td>0</td><td>94</td><td>260290</td><td>2601</td><td>260400</td><td>2602</td><td>1</td><td>81.5093</td><td>1.15006</td><td class=vellipsis>&hellip;</td><td>PE</td><td>&minus;8.287</td><td>&minus;35.035</td><td>1</td><td>1</td></tr>\n",
       "    <tr><td class='row_index'>6</td><td>0</td><td>0</td><td>94</td><td>260290</td><td>2601</td><td>260520</td><td>2603</td><td>5</td><td>27.9907</td><td>0.378972</td><td class=vellipsis>&hellip;</td><td>PE</td><td>&minus;8.287</td><td>&minus;35.035</td><td>1</td><td>1</td></tr>\n",
       "    <tr><td class='row_index'>7</td><td>0</td><td>0</td><td>94</td><td>260290</td><td>2601</td><td>260540</td><td>2602</td><td>2</td><td>103.117</td><td>1.53569</td><td class=vellipsis>&hellip;</td><td>PE</td><td>&minus;8.287</td><td>&minus;35.035</td><td>1</td><td>1</td></tr>\n",
       "    <tr><td class='row_index'>8</td><td>0</td><td>0</td><td>94</td><td>260290</td><td>2601</td><td>260640</td><td>2604</td><td>2</td><td>104</td><td>1.41492</td><td class=vellipsis>&hellip;</td><td>PE</td><td>&minus;8.287</td><td>&minus;35.035</td><td>1</td><td>1</td></tr>\n",
       "    <tr><td class='row_index'>9</td><td>0</td><td>0</td><td>94</td><td>260290</td><td>2601</td><td>260680</td><td>2601</td><td>1</td><td>62.8655</td><td>0.96025</td><td class=vellipsis>&hellip;</td><td>PE</td><td>&minus;8.287</td><td>&minus;35.035</td><td>1</td><td>0</td></tr>\n",
       "    <tr><td class='row_index'>10</td><td>0</td><td>0</td><td>94</td><td>260290</td><td>2601</td><td>260720</td><td>2601</td><td>23</td><td>16.8139</td><td>0.319111</td><td class=vellipsis>&hellip;</td><td>PE</td><td>&minus;8.287</td><td>&minus;35.035</td><td>1</td><td>0</td></tr>\n",
       "    <tr><td class='row_index'>11</td><td>0</td><td>0</td><td>94</td><td>260290</td><td>2601</td><td>260790</td><td>2601</td><td>43</td><td>19.3115</td><td>0.414222</td><td class=vellipsis>&hellip;</td><td>PE</td><td>&minus;8.287</td><td>&minus;35.035</td><td>1</td><td>0</td></tr>\n",
       "    <tr><td class='row_index'>12</td><td>0</td><td>0</td><td>94</td><td>260290</td><td>2601</td><td>260960</td><td>2601</td><td>9</td><td>41.4752</td><td>0.5945</td><td class=vellipsis>&hellip;</td><td>PE</td><td>&minus;8.287</td><td>&minus;35.035</td><td>1</td><td>0</td></tr>\n",
       "    <tr><td class='row_index'>13</td><td>0</td><td>0</td><td>94</td><td>260290</td><td>2601</td><td>261000</td><td>2603</td><td>1</td><td>89.2513</td><td>1.06403</td><td class=vellipsis>&hellip;</td><td>PE</td><td>&minus;8.287</td><td>&minus;35.035</td><td>1</td><td>1</td></tr>\n",
       "    <tr><td class='row_index'>14</td><td>0</td><td>0</td><td>94</td><td>260290</td><td>2601</td><td>261060</td><td>2602</td><td>1</td><td>69.3776</td><td>1.02681</td><td class=vellipsis>&hellip;</td><td>PE</td><td>&minus;8.287</td><td>&minus;35.035</td><td>1</td><td>1</td></tr>\n",
       "    <tr><td class='row_index'>&#x22EE;</td><td class='hellipsis'>&#x22EE;</td><td class='hellipsis'>&#x22EE;</td><td class='hellipsis'>&#x22EE;</td><td class='hellipsis'>&#x22EE;</td><td class='hellipsis'>&#x22EE;</td><td class='hellipsis'>&#x22EE;</td><td class='hellipsis'>&#x22EE;</td><td class='hellipsis'>&#x22EE;</td><td class='hellipsis'>&#x22EE;</td><td class='hellipsis'>&#x22EE;</td><td class='hellipsis'>&#x22F1;</td><td class='hellipsis'>&#x22EE;</td><td class='hellipsis'>&#x22EE;</td><td class='hellipsis'>&#x22EE;</td><td class='hellipsis'>&#x22EE;</td><td class='hellipsis'>&#x22EE;</td></tr>\n",
       "    <tr><td class='row_index'>123,865</td><td>1</td><td>1</td><td>9923837</td><td>270430</td><td>2701</td><td>315980</td><td>3125</td><td>1</td><td>2275.67</td><td>28.2836</td><td class=vellipsis>&hellip;</td><td>AL</td><td>&minus;9.666</td><td>&minus;35.735</td><td>1</td><td>1</td></tr>\n",
       "    <tr><td class='row_index'>123,866</td><td>1</td><td>1</td><td>9923837</td><td>270430</td><td>2701</td><td>350400</td><td>3508</td><td>1</td><td>2599.62</td><td>31.9186</td><td class=vellipsis>&hellip;</td><td>AL</td><td>&minus;9.666</td><td>&minus;35.735</td><td>1</td><td>1</td></tr>\n",
       "    <tr><td class='row_index'>123,867</td><td>1</td><td>1</td><td>9923837</td><td>270430</td><td>2701</td><td>351880</td><td>3503</td><td>1</td><td>2404.71</td><td>29.9013</td><td class=vellipsis>&hellip;</td><td>AL</td><td>&minus;9.666</td><td>&minus;35.735</td><td>1</td><td>1</td></tr>\n",
       "    <tr><td class='row_index'>123,868</td><td>1</td><td>1</td><td>9923837</td><td>270430</td><td>2701</td><td>354100</td><td>3519</td><td>1</td><td>2490.4</td><td>31.2415</td><td class=vellipsis>&hellip;</td><td>AL</td><td>&minus;9.666</td><td>&minus;35.735</td><td>1</td><td>1</td></tr>\n",
       "    <tr><td class='row_index'>123,869</td><td>1</td><td>1</td><td>9923837</td><td>270430</td><td>2701</td><td>510623</td><td>5105</td><td>1</td><td>3217.73</td><td>39.9407</td><td class=vellipsis>&hellip;</td><td>AL</td><td>&minus;9.666</td><td>&minus;35.735</td><td>1</td><td>1</td></tr>\n",
       "  </tbody>\n",
       "  </table>\n",
       "  <div class='footer'>\n",
       "    <div class='frame_dimensions'>123,870 rows &times; 23 columns</div>\n",
       "  </div>\n",
       "</div>\n"
      ],
      "text/plain": [
       "<Frame#7fc129b85ea0 123870x23>"
      ]
     },
     "execution_count": 18,
     "metadata": {},
     "output_type": "execute_result"
    }
   ],
   "source": [
    "df_deslc = df_deslc[(\n",
    "  f.latitude != None) & (\n",
    "  f.longitude != None) & (\n",
    "  f.hosp_latitude != None) & (\n",
    "  f.hosp_longitude != None), :]\n",
    "df_deslc"
   ]
  },
  {
   "cell_type": "markdown",
   "metadata": {},
   "source": [
    "## Ordenando"
   ]
  },
  {
   "cell_type": "markdown",
   "metadata": {},
   "source": [
    "### Colunas"
   ]
  },
  {
   "cell_type": "code",
   "execution_count": 19,
   "metadata": {},
   "outputs": [],
   "source": [
    "cols_order = [\n",
    "  # procedimento:\n",
    "  'bienio',\n",
    "  'parto_normal',\n",
    "  # deslocamento:\n",
    "  'origem',\n",
    "  'destino',\n",
    "  'mun_diff',\n",
    "  'regsau_diff',\n",
    "  'distancia',\n",
    "  'tempo',\n",
    "  # localização de residência:\n",
    "  'regiao',\n",
    "  'uf',\n",
    "  # 'nome_uf',\n",
    "  # 'macroregiao_saude',\n",
    "  'regiao_saude',\n",
    "  'nome_regiao_saude',\n",
    "  # 'microregiao_saude',\n",
    "  # 'municipio',\n",
    "  'capital',\n",
    "  'socioecon',\n",
    "  'latitude',\n",
    "  'longitude',\n",
    "  # localização do hospital:\n",
    "  'hosp_latitude',\n",
    "  'hosp_longitude',\n",
    "  'hosp_cnes',\n",
    "  'hosp_regiao_saude',\n",
    "  'hosp_uf',\n",
    "  # contagem:\n",
    "  'count',\n",
    "]"
   ]
  },
  {
   "cell_type": "code",
   "execution_count": 20,
   "metadata": {},
   "outputs": [
    {
     "data": {
      "text/html": [
       "<div class='datatable'>\n",
       "  <table class='frame'>\n",
       "  <thead>\n",
       "    <tr class='colnames'><td class='row_index'></td><th>bienio</th><th>parto_normal</th><th>origem</th><th>destino</th><th>mun_diff</th><th>regsau_diff</th><th>distancia</th><th>tempo</th><th>regiao</th><th>uf</th><th class='vellipsis'>&hellip;</th><th>hosp_longitude</th><th>hosp_cnes</th><th>hosp_regiao_saude</th><th>hosp_uf</th><th>count</th></tr>\n",
       "    <tr class='coltypes'><td class='row_index'></td><td class='bool' title='bool8'>&#x25AA;</td><td class='bool' title='bool8'>&#x25AA;</td><td class='int' title='int32'>&#x25AA;&#x25AA;&#x25AA;&#x25AA;</td><td class='int' title='int32'>&#x25AA;&#x25AA;&#x25AA;&#x25AA;</td><td class='bool' title='bool8'>&#x25AA;</td><td class='bool' title='bool8'>&#x25AA;</td><td class='float' title='float64'>&#x25AA;&#x25AA;&#x25AA;&#x25AA;&#x25AA;&#x25AA;&#x25AA;&#x25AA;</td><td class='float' title='float64'>&#x25AA;&#x25AA;&#x25AA;&#x25AA;&#x25AA;&#x25AA;&#x25AA;&#x25AA;</td><td class='str' title='str32'>&#x25AA;&#x25AA;&#x25AA;&#x25AA;</td><td class='str' title='str32'>&#x25AA;&#x25AA;&#x25AA;&#x25AA;</td><td></td><td class='float' title='float64'>&#x25AA;&#x25AA;&#x25AA;&#x25AA;&#x25AA;&#x25AA;&#x25AA;&#x25AA;</td><td class='int' title='int32'>&#x25AA;&#x25AA;&#x25AA;&#x25AA;</td><td class='int' title='int32'>&#x25AA;&#x25AA;&#x25AA;&#x25AA;</td><td class='str' title='str32'>&#x25AA;&#x25AA;&#x25AA;&#x25AA;</td><td class='int' title='int64'>&#x25AA;&#x25AA;&#x25AA;&#x25AA;&#x25AA;&#x25AA;&#x25AA;&#x25AA;</td></tr>\n",
       "  </thead>\n",
       "  <tbody>\n",
       "    <tr><td class='row_index'>0</td><td>0</td><td>0</td><td>260290</td><td>260290</td><td>0</td><td>0</td><td>0</td><td>0</td><td>ND</td><td>PE</td><td class=vellipsis>&hellip;</td><td>&minus;35.035</td><td>27</td><td>2601</td><td>PE</td><td>1</td></tr>\n",
       "    <tr><td class='row_index'>1</td><td>0</td><td>0</td><td>260720</td><td>260290</td><td>1</td><td>0</td><td>16.8139</td><td>0.319111</td><td>ND</td><td>PE</td><td class=vellipsis>&hellip;</td><td>&minus;35.035</td><td>27</td><td>2601</td><td>PE</td><td>1</td></tr>\n",
       "    <tr><td class='row_index'>2</td><td>0</td><td>0</td><td>260140</td><td>260290</td><td>1</td><td>1</td><td>73.9977</td><td>1.34642</td><td>ND</td><td>PE</td><td class=vellipsis>&hellip;</td><td>&minus;35.035</td><td>94</td><td>2601</td><td>PE</td><td>2</td></tr>\n",
       "    <tr><td class='row_index'>3</td><td>0</td><td>0</td><td>260290</td><td>260290</td><td>0</td><td>0</td><td>0</td><td>0</td><td>ND</td><td>PE</td><td class=vellipsis>&hellip;</td><td>&minus;35.035</td><td>94</td><td>2601</td><td>PE</td><td>58</td></tr>\n",
       "    <tr><td class='row_index'>4</td><td>0</td><td>0</td><td>260345</td><td>260290</td><td>1</td><td>0</td><td>42.4065</td><td>0.630306</td><td>ND</td><td>PE</td><td class=vellipsis>&hellip;</td><td>&minus;35.035</td><td>94</td><td>2601</td><td>PE</td><td>3</td></tr>\n",
       "    <tr><td class='row_index'>5</td><td>0</td><td>0</td><td>260400</td><td>260290</td><td>1</td><td>1</td><td>81.5093</td><td>1.15006</td><td>ND</td><td>PE</td><td class=vellipsis>&hellip;</td><td>&minus;35.035</td><td>94</td><td>2601</td><td>PE</td><td>1</td></tr>\n",
       "    <tr><td class='row_index'>6</td><td>0</td><td>0</td><td>260520</td><td>260290</td><td>1</td><td>1</td><td>27.9907</td><td>0.378972</td><td>ND</td><td>PE</td><td class=vellipsis>&hellip;</td><td>&minus;35.035</td><td>94</td><td>2601</td><td>PE</td><td>5</td></tr>\n",
       "    <tr><td class='row_index'>7</td><td>0</td><td>0</td><td>260540</td><td>260290</td><td>1</td><td>1</td><td>103.117</td><td>1.53569</td><td>ND</td><td>PE</td><td class=vellipsis>&hellip;</td><td>&minus;35.035</td><td>94</td><td>2601</td><td>PE</td><td>2</td></tr>\n",
       "    <tr><td class='row_index'>8</td><td>0</td><td>0</td><td>260640</td><td>260290</td><td>1</td><td>1</td><td>104</td><td>1.41492</td><td>ND</td><td>PE</td><td class=vellipsis>&hellip;</td><td>&minus;35.035</td><td>94</td><td>2601</td><td>PE</td><td>2</td></tr>\n",
       "    <tr><td class='row_index'>9</td><td>0</td><td>0</td><td>260680</td><td>260290</td><td>1</td><td>0</td><td>62.8655</td><td>0.96025</td><td>ND</td><td>PE</td><td class=vellipsis>&hellip;</td><td>&minus;35.035</td><td>94</td><td>2601</td><td>PE</td><td>1</td></tr>\n",
       "    <tr><td class='row_index'>10</td><td>0</td><td>0</td><td>260720</td><td>260290</td><td>1</td><td>0</td><td>16.8139</td><td>0.319111</td><td>ND</td><td>PE</td><td class=vellipsis>&hellip;</td><td>&minus;35.035</td><td>94</td><td>2601</td><td>PE</td><td>23</td></tr>\n",
       "    <tr><td class='row_index'>11</td><td>0</td><td>0</td><td>260790</td><td>260290</td><td>1</td><td>0</td><td>19.3115</td><td>0.414222</td><td>ND</td><td>PE</td><td class=vellipsis>&hellip;</td><td>&minus;35.035</td><td>94</td><td>2601</td><td>PE</td><td>43</td></tr>\n",
       "    <tr><td class='row_index'>12</td><td>0</td><td>0</td><td>260960</td><td>260290</td><td>1</td><td>0</td><td>41.4752</td><td>0.5945</td><td>ND</td><td>PE</td><td class=vellipsis>&hellip;</td><td>&minus;35.035</td><td>94</td><td>2601</td><td>PE</td><td>9</td></tr>\n",
       "    <tr><td class='row_index'>13</td><td>0</td><td>0</td><td>261000</td><td>260290</td><td>1</td><td>1</td><td>89.2513</td><td>1.06403</td><td>ND</td><td>PE</td><td class=vellipsis>&hellip;</td><td>&minus;35.035</td><td>94</td><td>2601</td><td>PE</td><td>1</td></tr>\n",
       "    <tr><td class='row_index'>14</td><td>0</td><td>0</td><td>261060</td><td>260290</td><td>1</td><td>1</td><td>69.3776</td><td>1.02681</td><td>ND</td><td>PE</td><td class=vellipsis>&hellip;</td><td>&minus;35.035</td><td>94</td><td>2601</td><td>PE</td><td>1</td></tr>\n",
       "    <tr><td class='row_index'>&#x22EE;</td><td class='hellipsis'>&#x22EE;</td><td class='hellipsis'>&#x22EE;</td><td class='hellipsis'>&#x22EE;</td><td class='hellipsis'>&#x22EE;</td><td class='hellipsis'>&#x22EE;</td><td class='hellipsis'>&#x22EE;</td><td class='hellipsis'>&#x22EE;</td><td class='hellipsis'>&#x22EE;</td><td class='hellipsis'>&#x22EE;</td><td class='hellipsis'>&#x22EE;</td><td class='hellipsis'>&#x22F1;</td><td class='hellipsis'>&#x22EE;</td><td class='hellipsis'>&#x22EE;</td><td class='hellipsis'>&#x22EE;</td><td class='hellipsis'>&#x22EE;</td><td class='hellipsis'>&#x22EE;</td></tr>\n",
       "    <tr><td class='row_index'>123,865</td><td>1</td><td>1</td><td>315980</td><td>270430</td><td>1</td><td>1</td><td>2275.67</td><td>28.2836</td><td>SD</td><td>MG</td><td class=vellipsis>&hellip;</td><td>&minus;35.735</td><td>9923837</td><td>2701</td><td>AL</td><td>1</td></tr>\n",
       "    <tr><td class='row_index'>123,866</td><td>1</td><td>1</td><td>350400</td><td>270430</td><td>1</td><td>1</td><td>2599.62</td><td>31.9186</td><td>SD</td><td>SP</td><td class=vellipsis>&hellip;</td><td>&minus;35.735</td><td>9923837</td><td>2701</td><td>AL</td><td>1</td></tr>\n",
       "    <tr><td class='row_index'>123,867</td><td>1</td><td>1</td><td>351880</td><td>270430</td><td>1</td><td>1</td><td>2404.71</td><td>29.9013</td><td>SD</td><td>SP</td><td class=vellipsis>&hellip;</td><td>&minus;35.735</td><td>9923837</td><td>2701</td><td>AL</td><td>1</td></tr>\n",
       "    <tr><td class='row_index'>123,868</td><td>1</td><td>1</td><td>354100</td><td>270430</td><td>1</td><td>1</td><td>2490.4</td><td>31.2415</td><td>SD</td><td>SP</td><td class=vellipsis>&hellip;</td><td>&minus;35.735</td><td>9923837</td><td>2701</td><td>AL</td><td>1</td></tr>\n",
       "    <tr><td class='row_index'>123,869</td><td>1</td><td>1</td><td>510623</td><td>270430</td><td>1</td><td>1</td><td>3217.73</td><td>39.9407</td><td>CO</td><td>MT</td><td class=vellipsis>&hellip;</td><td>&minus;35.735</td><td>9923837</td><td>2701</td><td>AL</td><td>1</td></tr>\n",
       "  </tbody>\n",
       "  </table>\n",
       "  <div class='footer'>\n",
       "    <div class='frame_dimensions'>123,870 rows &times; 22 columns</div>\n",
       "  </div>\n",
       "</div>\n"
      ],
      "text/plain": [
       "<Frame#7fc129b85900 123870x22>"
      ]
     },
     "execution_count": 20,
     "metadata": {},
     "output_type": "execute_result"
    }
   ],
   "source": [
    "df_deslc = df_deslc[:, cols_order]\n",
    "df_deslc"
   ]
  },
  {
   "cell_type": "markdown",
   "metadata": {},
   "source": [
    "### Linhas"
   ]
  },
  {
   "cell_type": "code",
   "execution_count": 21,
   "metadata": {},
   "outputs": [
    {
     "data": {
      "text/html": [
       "<div class='datatable'>\n",
       "  <table class='frame'>\n",
       "  <thead>\n",
       "    <tr class='colnames'><td class='row_index'></td><th>bienio</th><th>parto_normal</th><th>origem</th><th>destino</th><th>mun_diff</th><th>regsau_diff</th><th>distancia</th><th>tempo</th><th>regiao</th><th>uf</th><th class='vellipsis'>&hellip;</th><th>hosp_longitude</th><th>hosp_cnes</th><th>hosp_regiao_saude</th><th>hosp_uf</th><th>count</th></tr>\n",
       "    <tr class='coltypes'><td class='row_index'></td><td class='bool' title='bool8'>&#x25AA;</td><td class='bool' title='bool8'>&#x25AA;</td><td class='int' title='int32'>&#x25AA;&#x25AA;&#x25AA;&#x25AA;</td><td class='int' title='int32'>&#x25AA;&#x25AA;&#x25AA;&#x25AA;</td><td class='bool' title='bool8'>&#x25AA;</td><td class='bool' title='bool8'>&#x25AA;</td><td class='float' title='float64'>&#x25AA;&#x25AA;&#x25AA;&#x25AA;&#x25AA;&#x25AA;&#x25AA;&#x25AA;</td><td class='float' title='float64'>&#x25AA;&#x25AA;&#x25AA;&#x25AA;&#x25AA;&#x25AA;&#x25AA;&#x25AA;</td><td class='str' title='str32'>&#x25AA;&#x25AA;&#x25AA;&#x25AA;</td><td class='str' title='str32'>&#x25AA;&#x25AA;&#x25AA;&#x25AA;</td><td></td><td class='float' title='float64'>&#x25AA;&#x25AA;&#x25AA;&#x25AA;&#x25AA;&#x25AA;&#x25AA;&#x25AA;</td><td class='int' title='int32'>&#x25AA;&#x25AA;&#x25AA;&#x25AA;</td><td class='int' title='int32'>&#x25AA;&#x25AA;&#x25AA;&#x25AA;</td><td class='str' title='str32'>&#x25AA;&#x25AA;&#x25AA;&#x25AA;</td><td class='int' title='int64'>&#x25AA;&#x25AA;&#x25AA;&#x25AA;&#x25AA;&#x25AA;&#x25AA;&#x25AA;</td></tr>\n",
       "  </thead>\n",
       "  <tbody>\n",
       "    <tr><td class='row_index'>0</td><td>0</td><td>0</td><td>110001</td><td>110001</td><td>0</td><td>0</td><td>0</td><td>0</td><td>NT</td><td>RO</td><td class=vellipsis>&hellip;</td><td>&minus;61.996</td><td>2679477</td><td>1102</td><td>RO</td><td>35</td></tr>\n",
       "    <tr><td class='row_index'>1</td><td>0</td><td>0</td><td>110001</td><td>110012</td><td>1</td><td>1</td><td>130.77</td><td>2.54781</td><td>NT</td><td>RO</td><td class=vellipsis>&hellip;</td><td>&minus;61.944</td><td>2495279</td><td>1101</td><td>RO</td><td>6</td></tr>\n",
       "    <tr><td class='row_index'>2</td><td>0</td><td>0</td><td>110001</td><td>110013</td><td>1</td><td>1</td><td>357.511</td><td>7.13067</td><td>NT</td><td>RO</td><td class=vellipsis>&hellip;</td><td>&minus;61.981</td><td>2808617</td><td>1104</td><td>RO</td><td>1</td></tr>\n",
       "    <tr><td class='row_index'>3</td><td>0</td><td>0</td><td>110001</td><td>110018</td><td>1</td><td>0</td><td>114.061</td><td>1.87139</td><td>NT</td><td>RO</td><td class=vellipsis>&hellip;</td><td>&minus;61.193</td><td>2496534</td><td>1102</td><td>RO</td><td>1</td></tr>\n",
       "    <tr><td class='row_index'>4</td><td>0</td><td>0</td><td>110001</td><td>110020</td><td>1</td><td>1</td><td>505.856</td><td>9.16514</td><td>NT</td><td>RO</td><td class=vellipsis>&hellip;</td><td>&minus;63.904</td><td>4001303</td><td>1104</td><td>RO</td><td>2</td></tr>\n",
       "    <tr><td class='row_index'>5</td><td>0</td><td>0</td><td>110001</td><td>110028</td><td>1</td><td>0</td><td>48.6099</td><td>0.835667</td><td>NT</td><td>RO</td><td class=vellipsis>&hellip;</td><td>&minus;61.778</td><td>2495228</td><td>1102</td><td>RO</td><td>9</td></tr>\n",
       "    <tr><td class='row_index'>6</td><td>0</td><td>0</td><td>110001</td><td>351110</td><td>1</td><td>1</td><td>2196.35</td><td>30.8736</td><td>NT</td><td>RO</td><td class=vellipsis>&hellip;</td><td>&minus;48.973</td><td>2089327</td><td>3522</td><td>SP</td><td>1</td></tr>\n",
       "    <tr><td class='row_index'>7</td><td>0</td><td>0</td><td>110002</td><td>110002</td><td>0</td><td>0</td><td>0</td><td>0</td><td>NT</td><td>RO</td><td class=vellipsis>&hellip;</td><td>&minus;63.041</td><td>2494299</td><td>1104</td><td>RO</td><td>59</td></tr>\n",
       "    <tr><td class='row_index'>8</td><td>0</td><td>0</td><td>110002</td><td>110011</td><td>1</td><td>1</td><td>95.4727</td><td>2.33883</td><td>NT</td><td>RO</td><td class=vellipsis>&hellip;</td><td>&minus;62.466</td><td>2808609</td><td>1101</td><td>RO</td><td>2</td></tr>\n",
       "    <tr><td class='row_index'>9</td><td>0</td><td>0</td><td>110002</td><td>110012</td><td>1</td><td>1</td><td>181.364</td><td>3.735</td><td>NT</td><td>RO</td><td class=vellipsis>&hellip;</td><td>&minus;61.944</td><td>2495279</td><td>1101</td><td>RO</td><td>1</td></tr>\n",
       "    <tr><td class='row_index'>10</td><td>0</td><td>0</td><td>110002</td><td>110020</td><td>1</td><td>0</td><td>203.582</td><td>3.13858</td><td>NT</td><td>RO</td><td class=vellipsis>&hellip;</td><td>&minus;63.904</td><td>4001303</td><td>1104</td><td>RO</td><td>3</td></tr>\n",
       "    <tr><td class='row_index'>11</td><td>0</td><td>0</td><td>110002</td><td>110140</td><td>1</td><td>0</td><td>58.2922</td><td>0.905083</td><td>NT</td><td>RO</td><td class=vellipsis>&hellip;</td><td>&minus;63.29</td><td>4003039</td><td>1104</td><td>RO</td><td>1</td></tr>\n",
       "    <tr><td class='row_index'>12</td><td>0</td><td>0</td><td>110002</td><td>353060</td><td>1</td><td>1</td><td>3002.21</td><td>39.7158</td><td>NT</td><td>RO</td><td class=vellipsis>&hellip;</td><td>&minus;46.188</td><td>2080052</td><td>3503</td><td>SP</td><td>3</td></tr>\n",
       "    <tr><td class='row_index'>13</td><td>0</td><td>0</td><td>110003</td><td>110002</td><td>1</td><td>1</td><td>610.689</td><td>10.3634</td><td>NT</td><td>RO</td><td class=vellipsis>&hellip;</td><td>&minus;63.041</td><td>2494299</td><td>1104</td><td>RO</td><td>1</td></tr>\n",
       "    <tr><td class='row_index'>14</td><td>0</td><td>0</td><td>110003</td><td>110003</td><td>0</td><td>0</td><td>0</td><td>0</td><td>NT</td><td>RO</td><td class=vellipsis>&hellip;</td><td>&minus;60.545</td><td>2808528</td><td>1103</td><td>RO</td><td>31</td></tr>\n",
       "    <tr><td class='row_index'>&#x22EE;</td><td class='hellipsis'>&#x22EE;</td><td class='hellipsis'>&#x22EE;</td><td class='hellipsis'>&#x22EE;</td><td class='hellipsis'>&#x22EE;</td><td class='hellipsis'>&#x22EE;</td><td class='hellipsis'>&#x22EE;</td><td class='hellipsis'>&#x22EE;</td><td class='hellipsis'>&#x22EE;</td><td class='hellipsis'>&#x22EE;</td><td class='hellipsis'>&#x22EE;</td><td class='hellipsis'>&#x22F1;</td><td class='hellipsis'>&#x22EE;</td><td class='hellipsis'>&#x22EE;</td><td class='hellipsis'>&#x22EE;</td><td class='hellipsis'>&#x22EE;</td><td class='hellipsis'>&#x22EE;</td></tr>\n",
       "    <tr><td class='row_index'>123,865</td><td>1</td><td>1</td><td>522205</td><td>522205</td><td>0</td><td>0</td><td>0</td><td>0</td><td>CO</td><td>GO</td><td class=vellipsis>&hellip;</td><td>&minus;49.806</td><td>2383691</td><td>5202</td><td>GO</td><td>26</td></tr>\n",
       "    <tr><td class='row_index'>123,866</td><td>1</td><td>1</td><td>522220</td><td>520080</td><td>1</td><td>0</td><td>92.9837</td><td>1.12764</td><td>CO</td><td>GO</td><td class=vellipsis>&hellip;</td><td>&minus;46.492</td><td>2534916</td><td>5206</td><td>GO</td><td>1</td></tr>\n",
       "    <tr><td class='row_index'>123,867</td><td>1</td><td>1</td><td>522220</td><td>520800</td><td>1</td><td>0</td><td>87.2748</td><td>1.07444</td><td>CO</td><td>GO</td><td class=vellipsis>&hellip;</td><td>&minus;47.334</td><td>2534967</td><td>5206</td><td>GO</td><td>26</td></tr>\n",
       "    <tr><td class='row_index'>123,868</td><td>1</td><td>1</td><td>522230</td><td>520860</td><td>1</td><td>0</td><td>32.5818</td><td>0.52775</td><td>CO</td><td>GO</td><td class=vellipsis>&hellip;</td><td>&minus;49.117</td><td>2534584</td><td>5212</td><td>GO</td><td>20</td></tr>\n",
       "    <tr><td class='row_index'>123,869</td><td>1</td><td>1</td><td>522230</td><td>521970</td><td>1</td><td>0</td><td>203.783</td><td>3.14278</td><td>CO</td><td>GO</td><td class=vellipsis>&hellip;</td><td>&minus;49.706</td><td>2535270</td><td>5212</td><td>GO</td><td>1</td></tr>\n",
       "  </tbody>\n",
       "  </table>\n",
       "  <div class='footer'>\n",
       "    <div class='frame_dimensions'>123,870 rows &times; 22 columns</div>\n",
       "  </div>\n",
       "</div>\n"
      ],
      "text/plain": [
       "<Frame#7fc129b859c0 123870x22>"
      ]
     },
     "execution_count": 21,
     "metadata": {},
     "output_type": "execute_result"
    }
   ],
   "source": [
    "df_deslc = df_deslc.sort(f.bienio, f.parto_normal, f.origem, f.destino)\n",
    "df_deslc"
   ]
  },
  {
   "cell_type": "markdown",
   "metadata": {},
   "source": [
    "# Exportando tabela"
   ]
  },
  {
   "cell_type": "code",
   "execution_count": 22,
   "metadata": {},
   "outputs": [],
   "source": [
    "output_deslc = get_path('GESTANTES', 'deslocamentos.csv.gzip')\n",
    "df_deslc.to_csv(output_deslc)"
   ]
  },
  {
   "cell_type": "code",
   "execution_count": 23,
   "metadata": {},
   "outputs": [
    {
     "data": {
      "text/html": [
       "<div class='datatable'>\n",
       "  <table class='frame'>\n",
       "  <thead>\n",
       "    <tr class='colnames'><td class='row_index'></td><th>bienio</th><th>parto_normal</th><th>origem</th><th>destino</th><th>mun_diff</th><th>regsau_diff</th><th>distancia</th><th>tempo</th><th>regiao</th><th>uf</th><th class='vellipsis'>&hellip;</th><th>hosp_longitude</th><th>hosp_cnes</th><th>hosp_regiao_saude</th><th>hosp_uf</th><th>count</th></tr>\n",
       "    <tr class='coltypes'><td class='row_index'></td><td class='bool' title='bool8'>&#x25AA;</td><td class='bool' title='bool8'>&#x25AA;</td><td class='int' title='int32'>&#x25AA;&#x25AA;&#x25AA;&#x25AA;</td><td class='int' title='int32'>&#x25AA;&#x25AA;&#x25AA;&#x25AA;</td><td class='bool' title='bool8'>&#x25AA;</td><td class='bool' title='bool8'>&#x25AA;</td><td class='float' title='float64'>&#x25AA;&#x25AA;&#x25AA;&#x25AA;&#x25AA;&#x25AA;&#x25AA;&#x25AA;</td><td class='float' title='float64'>&#x25AA;&#x25AA;&#x25AA;&#x25AA;&#x25AA;&#x25AA;&#x25AA;&#x25AA;</td><td class='str' title='str32'>&#x25AA;&#x25AA;&#x25AA;&#x25AA;</td><td class='str' title='str32'>&#x25AA;&#x25AA;&#x25AA;&#x25AA;</td><td></td><td class='float' title='float64'>&#x25AA;&#x25AA;&#x25AA;&#x25AA;&#x25AA;&#x25AA;&#x25AA;&#x25AA;</td><td class='int' title='int32'>&#x25AA;&#x25AA;&#x25AA;&#x25AA;</td><td class='int' title='int32'>&#x25AA;&#x25AA;&#x25AA;&#x25AA;</td><td class='str' title='str32'>&#x25AA;&#x25AA;&#x25AA;&#x25AA;</td><td class='int' title='int32'>&#x25AA;&#x25AA;&#x25AA;&#x25AA;</td></tr>\n",
       "  </thead>\n",
       "  <tbody>\n",
       "    <tr><td class='row_index'>0</td><td>0</td><td>0</td><td>110001</td><td>110001</td><td>0</td><td>0</td><td>0</td><td>0</td><td>NT</td><td>RO</td><td class=vellipsis>&hellip;</td><td>&minus;61.996</td><td>2679477</td><td>1102</td><td>RO</td><td>35</td></tr>\n",
       "    <tr><td class='row_index'>1</td><td>0</td><td>0</td><td>110001</td><td>110012</td><td>1</td><td>1</td><td>130.77</td><td>2.54781</td><td>NT</td><td>RO</td><td class=vellipsis>&hellip;</td><td>&minus;61.944</td><td>2495279</td><td>1101</td><td>RO</td><td>6</td></tr>\n",
       "    <tr><td class='row_index'>2</td><td>0</td><td>0</td><td>110001</td><td>110013</td><td>1</td><td>1</td><td>357.511</td><td>7.13067</td><td>NT</td><td>RO</td><td class=vellipsis>&hellip;</td><td>&minus;61.981</td><td>2808617</td><td>1104</td><td>RO</td><td>1</td></tr>\n",
       "    <tr><td class='row_index'>3</td><td>0</td><td>0</td><td>110001</td><td>110018</td><td>1</td><td>0</td><td>114.061</td><td>1.87139</td><td>NT</td><td>RO</td><td class=vellipsis>&hellip;</td><td>&minus;61.193</td><td>2496534</td><td>1102</td><td>RO</td><td>1</td></tr>\n",
       "    <tr><td class='row_index'>4</td><td>0</td><td>0</td><td>110001</td><td>110020</td><td>1</td><td>1</td><td>505.856</td><td>9.16514</td><td>NT</td><td>RO</td><td class=vellipsis>&hellip;</td><td>&minus;63.904</td><td>4001303</td><td>1104</td><td>RO</td><td>2</td></tr>\n",
       "    <tr><td class='row_index'>5</td><td>0</td><td>0</td><td>110001</td><td>110028</td><td>1</td><td>0</td><td>48.6099</td><td>0.835667</td><td>NT</td><td>RO</td><td class=vellipsis>&hellip;</td><td>&minus;61.778</td><td>2495228</td><td>1102</td><td>RO</td><td>9</td></tr>\n",
       "    <tr><td class='row_index'>6</td><td>0</td><td>0</td><td>110001</td><td>351110</td><td>1</td><td>1</td><td>2196.35</td><td>30.8736</td><td>NT</td><td>RO</td><td class=vellipsis>&hellip;</td><td>&minus;48.973</td><td>2089327</td><td>3522</td><td>SP</td><td>1</td></tr>\n",
       "    <tr><td class='row_index'>7</td><td>0</td><td>0</td><td>110002</td><td>110002</td><td>0</td><td>0</td><td>0</td><td>0</td><td>NT</td><td>RO</td><td class=vellipsis>&hellip;</td><td>&minus;63.041</td><td>2494299</td><td>1104</td><td>RO</td><td>59</td></tr>\n",
       "    <tr><td class='row_index'>8</td><td>0</td><td>0</td><td>110002</td><td>110011</td><td>1</td><td>1</td><td>95.4727</td><td>2.33883</td><td>NT</td><td>RO</td><td class=vellipsis>&hellip;</td><td>&minus;62.466</td><td>2808609</td><td>1101</td><td>RO</td><td>2</td></tr>\n",
       "    <tr><td class='row_index'>9</td><td>0</td><td>0</td><td>110002</td><td>110012</td><td>1</td><td>1</td><td>181.364</td><td>3.735</td><td>NT</td><td>RO</td><td class=vellipsis>&hellip;</td><td>&minus;61.944</td><td>2495279</td><td>1101</td><td>RO</td><td>1</td></tr>\n",
       "    <tr><td class='row_index'>10</td><td>0</td><td>0</td><td>110002</td><td>110020</td><td>1</td><td>0</td><td>203.582</td><td>3.13858</td><td>NT</td><td>RO</td><td class=vellipsis>&hellip;</td><td>&minus;63.904</td><td>4001303</td><td>1104</td><td>RO</td><td>3</td></tr>\n",
       "    <tr><td class='row_index'>11</td><td>0</td><td>0</td><td>110002</td><td>110140</td><td>1</td><td>0</td><td>58.2922</td><td>0.905083</td><td>NT</td><td>RO</td><td class=vellipsis>&hellip;</td><td>&minus;63.29</td><td>4003039</td><td>1104</td><td>RO</td><td>1</td></tr>\n",
       "    <tr><td class='row_index'>12</td><td>0</td><td>0</td><td>110002</td><td>353060</td><td>1</td><td>1</td><td>3002.21</td><td>39.7158</td><td>NT</td><td>RO</td><td class=vellipsis>&hellip;</td><td>&minus;46.188</td><td>2080052</td><td>3503</td><td>SP</td><td>3</td></tr>\n",
       "    <tr><td class='row_index'>13</td><td>0</td><td>0</td><td>110003</td><td>110002</td><td>1</td><td>1</td><td>610.689</td><td>10.3634</td><td>NT</td><td>RO</td><td class=vellipsis>&hellip;</td><td>&minus;63.041</td><td>2494299</td><td>1104</td><td>RO</td><td>1</td></tr>\n",
       "    <tr><td class='row_index'>14</td><td>0</td><td>0</td><td>110003</td><td>110003</td><td>0</td><td>0</td><td>0</td><td>0</td><td>NT</td><td>RO</td><td class=vellipsis>&hellip;</td><td>&minus;60.545</td><td>2808528</td><td>1103</td><td>RO</td><td>31</td></tr>\n",
       "    <tr><td class='row_index'>&#x22EE;</td><td class='hellipsis'>&#x22EE;</td><td class='hellipsis'>&#x22EE;</td><td class='hellipsis'>&#x22EE;</td><td class='hellipsis'>&#x22EE;</td><td class='hellipsis'>&#x22EE;</td><td class='hellipsis'>&#x22EE;</td><td class='hellipsis'>&#x22EE;</td><td class='hellipsis'>&#x22EE;</td><td class='hellipsis'>&#x22EE;</td><td class='hellipsis'>&#x22EE;</td><td class='hellipsis'>&#x22F1;</td><td class='hellipsis'>&#x22EE;</td><td class='hellipsis'>&#x22EE;</td><td class='hellipsis'>&#x22EE;</td><td class='hellipsis'>&#x22EE;</td><td class='hellipsis'>&#x22EE;</td></tr>\n",
       "    <tr><td class='row_index'>123,865</td><td>1</td><td>1</td><td>522205</td><td>522205</td><td>0</td><td>0</td><td>0</td><td>0</td><td>CO</td><td>GO</td><td class=vellipsis>&hellip;</td><td>&minus;49.806</td><td>2383691</td><td>5202</td><td>GO</td><td>26</td></tr>\n",
       "    <tr><td class='row_index'>123,866</td><td>1</td><td>1</td><td>522220</td><td>520080</td><td>1</td><td>0</td><td>92.9837</td><td>1.12764</td><td>CO</td><td>GO</td><td class=vellipsis>&hellip;</td><td>&minus;46.492</td><td>2534916</td><td>5206</td><td>GO</td><td>1</td></tr>\n",
       "    <tr><td class='row_index'>123,867</td><td>1</td><td>1</td><td>522220</td><td>520800</td><td>1</td><td>0</td><td>87.2748</td><td>1.07444</td><td>CO</td><td>GO</td><td class=vellipsis>&hellip;</td><td>&minus;47.334</td><td>2534967</td><td>5206</td><td>GO</td><td>26</td></tr>\n",
       "    <tr><td class='row_index'>123,868</td><td>1</td><td>1</td><td>522230</td><td>520860</td><td>1</td><td>0</td><td>32.5818</td><td>0.52775</td><td>CO</td><td>GO</td><td class=vellipsis>&hellip;</td><td>&minus;49.117</td><td>2534584</td><td>5212</td><td>GO</td><td>20</td></tr>\n",
       "    <tr><td class='row_index'>123,869</td><td>1</td><td>1</td><td>522230</td><td>521970</td><td>1</td><td>0</td><td>203.783</td><td>3.14278</td><td>CO</td><td>GO</td><td class=vellipsis>&hellip;</td><td>&minus;49.706</td><td>2535270</td><td>5212</td><td>GO</td><td>1</td></tr>\n",
       "  </tbody>\n",
       "  </table>\n",
       "  <div class='footer'>\n",
       "    <div class='frame_dimensions'>123,870 rows &times; 22 columns</div>\n",
       "  </div>\n",
       "</div>\n"
      ],
      "text/plain": [
       "<Frame#7fc129b85210 123870x22>"
      ]
     },
     "execution_count": 23,
     "metadata": {},
     "output_type": "execute_result"
    }
   ],
   "source": [
    "dt.fread(output_deslc)"
   ]
  },
  {
   "cell_type": "markdown",
   "metadata": {},
   "source": [
    "# Tabelas Filtradas"
   ]
  },
  {
   "cell_type": "markdown",
   "metadata": {},
   "source": [
    "## Tabela referência"
   ]
  },
  {
   "cell_type": "code",
   "execution_count": 24,
   "metadata": {},
   "outputs": [],
   "source": [
    "df_deslc = dt.fread(output_deslc)"
   ]
  },
  {
   "cell_type": "markdown",
   "metadata": {},
   "source": [
    "## Brasil (sem CNES)"
   ]
  },
  {
   "cell_type": "code",
   "execution_count": 25,
   "metadata": {},
   "outputs": [
    {
     "data": {
      "text/html": [
       "<div class='datatable'>\n",
       "  <table class='frame'>\n",
       "  <thead>\n",
       "    <tr class='colnames'><td class='row_index'></td><th>bienio</th><th>parto_normal</th><th>origem</th><th>destino</th><th>mun_diff</th><th>regsau_diff</th><th>distancia</th><th>tempo</th><th>regiao</th><th>uf</th><th class='vellipsis'>&hellip;</th><th>hosp_latitude</th><th>hosp_longitude</th><th>hosp_regiao_saude</th><th>hosp_uf</th><th>count</th></tr>\n",
       "    <tr class='coltypes'><td class='row_index'></td><td class='bool' title='bool8'>&#x25AA;</td><td class='bool' title='bool8'>&#x25AA;</td><td class='int' title='int32'>&#x25AA;&#x25AA;&#x25AA;&#x25AA;</td><td class='int' title='int32'>&#x25AA;&#x25AA;&#x25AA;&#x25AA;</td><td class='bool' title='bool8'>&#x25AA;</td><td class='bool' title='bool8'>&#x25AA;</td><td class='float' title='float64'>&#x25AA;&#x25AA;&#x25AA;&#x25AA;&#x25AA;&#x25AA;&#x25AA;&#x25AA;</td><td class='float' title='float64'>&#x25AA;&#x25AA;&#x25AA;&#x25AA;&#x25AA;&#x25AA;&#x25AA;&#x25AA;</td><td class='str' title='str32'>&#x25AA;&#x25AA;&#x25AA;&#x25AA;</td><td class='str' title='str32'>&#x25AA;&#x25AA;&#x25AA;&#x25AA;</td><td></td><td class='float' title='float64'>&#x25AA;&#x25AA;&#x25AA;&#x25AA;&#x25AA;&#x25AA;&#x25AA;&#x25AA;</td><td class='float' title='float64'>&#x25AA;&#x25AA;&#x25AA;&#x25AA;&#x25AA;&#x25AA;&#x25AA;&#x25AA;</td><td class='int' title='int32'>&#x25AA;&#x25AA;&#x25AA;&#x25AA;</td><td class='str' title='str32'>&#x25AA;&#x25AA;&#x25AA;&#x25AA;</td><td class='int' title='int64'>&#x25AA;&#x25AA;&#x25AA;&#x25AA;&#x25AA;&#x25AA;&#x25AA;&#x25AA;</td></tr>\n",
       "  </thead>\n",
       "  <tbody>\n",
       "    <tr><td class='row_index'>0</td><td>0</td><td>0</td><td>110001</td><td>110001</td><td>0</td><td>0</td><td>0</td><td>0</td><td>NT</td><td>RO</td><td class=vellipsis>&hellip;</td><td>&minus;11.929</td><td>&minus;61.996</td><td>1102</td><td>RO</td><td>35</td></tr>\n",
       "    <tr><td class='row_index'>1</td><td>0</td><td>0</td><td>110001</td><td>110012</td><td>1</td><td>1</td><td>130.77</td><td>2.54781</td><td>NT</td><td>RO</td><td class=vellipsis>&hellip;</td><td>&minus;10.882</td><td>&minus;61.944</td><td>1101</td><td>RO</td><td>6</td></tr>\n",
       "    <tr><td class='row_index'>2</td><td>0</td><td>0</td><td>110001</td><td>110013</td><td>1</td><td>1</td><td>357.511</td><td>7.13067</td><td>NT</td><td>RO</td><td class=vellipsis>&hellip;</td><td>&minus;9.444</td><td>&minus;61.981</td><td>1104</td><td>RO</td><td>1</td></tr>\n",
       "    <tr><td class='row_index'>3</td><td>0</td><td>0</td><td>110001</td><td>110018</td><td>1</td><td>0</td><td>114.061</td><td>1.87139</td><td>NT</td><td>RO</td><td class=vellipsis>&hellip;</td><td>&minus;11.673</td><td>&minus;61.193</td><td>1102</td><td>RO</td><td>1</td></tr>\n",
       "    <tr><td class='row_index'>4</td><td>0</td><td>0</td><td>110001</td><td>110020</td><td>1</td><td>1</td><td>505.856</td><td>9.16514</td><td>NT</td><td>RO</td><td class=vellipsis>&hellip;</td><td>&minus;8.762</td><td>&minus;63.904</td><td>1104</td><td>RO</td><td>2</td></tr>\n",
       "    <tr><td class='row_index'>5</td><td>0</td><td>0</td><td>110001</td><td>110028</td><td>1</td><td>0</td><td>48.6099</td><td>0.835667</td><td>NT</td><td>RO</td><td class=vellipsis>&hellip;</td><td>&minus;11.733</td><td>&minus;61.778</td><td>1102</td><td>RO</td><td>9</td></tr>\n",
       "    <tr><td class='row_index'>6</td><td>0</td><td>0</td><td>110001</td><td>351110</td><td>1</td><td>1</td><td>2196.35</td><td>30.8736</td><td>NT</td><td>RO</td><td class=vellipsis>&hellip;</td><td>&minus;21.138</td><td>&minus;48.973</td><td>3522</td><td>SP</td><td>1</td></tr>\n",
       "    <tr><td class='row_index'>7</td><td>0</td><td>0</td><td>110002</td><td>110002</td><td>0</td><td>0</td><td>0</td><td>0</td><td>NT</td><td>RO</td><td class=vellipsis>&hellip;</td><td>&minus;9.913</td><td>&minus;63.041</td><td>1104</td><td>RO</td><td>59</td></tr>\n",
       "    <tr><td class='row_index'>8</td><td>0</td><td>0</td><td>110002</td><td>110011</td><td>1</td><td>1</td><td>95.4727</td><td>2.33883</td><td>NT</td><td>RO</td><td class=vellipsis>&hellip;</td><td>&minus;10.439</td><td>&minus;62.466</td><td>1101</td><td>RO</td><td>2</td></tr>\n",
       "    <tr><td class='row_index'>9</td><td>0</td><td>0</td><td>110002</td><td>110012</td><td>1</td><td>1</td><td>181.364</td><td>3.735</td><td>NT</td><td>RO</td><td class=vellipsis>&hellip;</td><td>&minus;10.882</td><td>&minus;61.944</td><td>1101</td><td>RO</td><td>1</td></tr>\n",
       "    <tr><td class='row_index'>10</td><td>0</td><td>0</td><td>110002</td><td>110020</td><td>1</td><td>0</td><td>203.582</td><td>3.13858</td><td>NT</td><td>RO</td><td class=vellipsis>&hellip;</td><td>&minus;8.762</td><td>&minus;63.904</td><td>1104</td><td>RO</td><td>3</td></tr>\n",
       "    <tr><td class='row_index'>11</td><td>0</td><td>0</td><td>110002</td><td>110140</td><td>1</td><td>0</td><td>58.2922</td><td>0.905083</td><td>NT</td><td>RO</td><td class=vellipsis>&hellip;</td><td>&minus;10.246</td><td>&minus;63.29</td><td>1104</td><td>RO</td><td>1</td></tr>\n",
       "    <tr><td class='row_index'>12</td><td>0</td><td>0</td><td>110002</td><td>353060</td><td>1</td><td>1</td><td>3002.21</td><td>39.7158</td><td>NT</td><td>RO</td><td class=vellipsis>&hellip;</td><td>&minus;23.523</td><td>&minus;46.188</td><td>3503</td><td>SP</td><td>3</td></tr>\n",
       "    <tr><td class='row_index'>13</td><td>0</td><td>0</td><td>110003</td><td>110002</td><td>1</td><td>1</td><td>610.689</td><td>10.3634</td><td>NT</td><td>RO</td><td class=vellipsis>&hellip;</td><td>&minus;9.913</td><td>&minus;63.041</td><td>1104</td><td>RO</td><td>1</td></tr>\n",
       "    <tr><td class='row_index'>14</td><td>0</td><td>0</td><td>110003</td><td>110003</td><td>0</td><td>0</td><td>0</td><td>0</td><td>NT</td><td>RO</td><td class=vellipsis>&hellip;</td><td>&minus;13.492</td><td>&minus;60.545</td><td>1103</td><td>RO</td><td>31</td></tr>\n",
       "    <tr><td class='row_index'>&#x22EE;</td><td class='hellipsis'>&#x22EE;</td><td class='hellipsis'>&#x22EE;</td><td class='hellipsis'>&#x22EE;</td><td class='hellipsis'>&#x22EE;</td><td class='hellipsis'>&#x22EE;</td><td class='hellipsis'>&#x22EE;</td><td class='hellipsis'>&#x22EE;</td><td class='hellipsis'>&#x22EE;</td><td class='hellipsis'>&#x22EE;</td><td class='hellipsis'>&#x22EE;</td><td class='hellipsis'>&#x22F1;</td><td class='hellipsis'>&#x22EE;</td><td class='hellipsis'>&#x22EE;</td><td class='hellipsis'>&#x22EE;</td><td class='hellipsis'>&#x22EE;</td><td class='hellipsis'>&#x22EE;</td></tr>\n",
       "    <tr><td class='row_index'>97,660</td><td>1</td><td>1</td><td>522205</td><td>522205</td><td>0</td><td>0</td><td>0</td><td>0</td><td>CO</td><td>GO</td><td class=vellipsis>&hellip;</td><td>&minus;17.735</td><td>&minus;49.806</td><td>5202</td><td>GO</td><td>26</td></tr>\n",
       "    <tr><td class='row_index'>97,661</td><td>1</td><td>1</td><td>522220</td><td>520080</td><td>1</td><td>0</td><td>92.9837</td><td>1.12764</td><td>CO</td><td>GO</td><td class=vellipsis>&hellip;</td><td>&minus;14.481</td><td>&minus;46.492</td><td>5206</td><td>GO</td><td>1</td></tr>\n",
       "    <tr><td class='row_index'>97,662</td><td>1</td><td>1</td><td>522220</td><td>520800</td><td>1</td><td>0</td><td>87.2748</td><td>1.07444</td><td>CO</td><td>GO</td><td class=vellipsis>&hellip;</td><td>&minus;15.537</td><td>&minus;47.334</td><td>5206</td><td>GO</td><td>26</td></tr>\n",
       "    <tr><td class='row_index'>97,663</td><td>1</td><td>1</td><td>522230</td><td>520860</td><td>1</td><td>0</td><td>32.5818</td><td>0.52775</td><td>CO</td><td>GO</td><td class=vellipsis>&hellip;</td><td>&minus;15.317</td><td>&minus;49.117</td><td>5212</td><td>GO</td><td>20</td></tr>\n",
       "    <tr><td class='row_index'>97,664</td><td>1</td><td>1</td><td>522230</td><td>521970</td><td>1</td><td>0</td><td>203.783</td><td>3.14278</td><td>CO</td><td>GO</td><td class=vellipsis>&hellip;</td><td>&minus;14.438</td><td>&minus;49.706</td><td>5212</td><td>GO</td><td>1</td></tr>\n",
       "  </tbody>\n",
       "  </table>\n",
       "  <div class='footer'>\n",
       "    <div class='frame_dimensions'>97,665 rows &times; 21 columns</div>\n",
       "  </div>\n",
       "</div>\n"
      ],
      "text/plain": [
       "<Frame#7fc129b852d0 97665x21>"
      ]
     },
     "execution_count": 25,
     "metadata": {},
     "output_type": "execute_result"
    }
   ],
   "source": [
    "df_deslc_brasil = df_deslc[:, f[:].remove(f.hosp_cnes)]\n",
    "df_deslc_brasil = df_deslc_brasil[:, dt.sum(f.count), dt.by(df_deslc_brasil.names[:-1])]\n",
    "df_deslc_brasil"
   ]
  },
  {
   "cell_type": "code",
   "execution_count": 26,
   "metadata": {},
   "outputs": [],
   "source": [
    "output_deslc_brasil = get_path('GESTANTES', 'deslocamentos_brasil.xlsx')\n",
    "df_deslc_brasil.to_pandas().to_excel(output_deslc_brasil, index=False)"
   ]
  },
  {
   "cell_type": "markdown",
   "metadata": {},
   "source": [
    "## RJ"
   ]
  },
  {
   "cell_type": "markdown",
   "metadata": {},
   "source": [
    "### Com CNES"
   ]
  },
  {
   "cell_type": "code",
   "execution_count": 32,
   "metadata": {},
   "outputs": [
    {
     "data": {
      "text/html": [
       "<div class='datatable'>\n",
       "  <table class='frame'>\n",
       "  <thead>\n",
       "    <tr class='colnames'><td class='row_index'></td><th>bienio</th><th>parto_normal</th><th>origem</th><th>destino</th><th>mun_diff</th><th>regsau_diff</th><th>distancia</th><th>tempo</th><th>regiao</th><th>uf</th><th class='vellipsis'>&hellip;</th><th>hosp_longitude</th><th>hosp_cnes</th><th>hosp_regiao_saude</th><th>hosp_uf</th><th>count</th></tr>\n",
       "    <tr class='coltypes'><td class='row_index'></td><td class='bool' title='bool8'>&#x25AA;</td><td class='bool' title='bool8'>&#x25AA;</td><td class='int' title='int32'>&#x25AA;&#x25AA;&#x25AA;&#x25AA;</td><td class='int' title='int32'>&#x25AA;&#x25AA;&#x25AA;&#x25AA;</td><td class='bool' title='bool8'>&#x25AA;</td><td class='bool' title='bool8'>&#x25AA;</td><td class='float' title='float64'>&#x25AA;&#x25AA;&#x25AA;&#x25AA;&#x25AA;&#x25AA;&#x25AA;&#x25AA;</td><td class='float' title='float64'>&#x25AA;&#x25AA;&#x25AA;&#x25AA;&#x25AA;&#x25AA;&#x25AA;&#x25AA;</td><td class='str' title='str32'>&#x25AA;&#x25AA;&#x25AA;&#x25AA;</td><td class='str' title='str32'>&#x25AA;&#x25AA;&#x25AA;&#x25AA;</td><td></td><td class='float' title='float64'>&#x25AA;&#x25AA;&#x25AA;&#x25AA;&#x25AA;&#x25AA;&#x25AA;&#x25AA;</td><td class='int' title='int32'>&#x25AA;&#x25AA;&#x25AA;&#x25AA;</td><td class='int' title='int32'>&#x25AA;&#x25AA;&#x25AA;&#x25AA;</td><td class='str' title='str32'>&#x25AA;&#x25AA;&#x25AA;&#x25AA;</td><td class='int' title='int32'>&#x25AA;&#x25AA;&#x25AA;&#x25AA;</td></tr>\n",
       "  </thead>\n",
       "  <tbody>\n",
       "    <tr><td class='row_index'>0</td><td>0</td><td>0</td><td>330010</td><td>320245</td><td>1</td><td>1</td><td>614.613</td><td>7.66281</td><td>SD</td><td>RJ</td><td class=vellipsis>&hellip;</td><td>&minus;41.511</td><td>2448203</td><td>3202</td><td>ES</td><td>2</td></tr>\n",
       "    <tr><td class='row_index'>1</td><td>0</td><td>0</td><td>330010</td><td>330010</td><td>0</td><td>0</td><td>0</td><td>0</td><td>SD</td><td>RJ</td><td class=vellipsis>&hellip;</td><td>&minus;44.318</td><td>2280868</td><td>3301</td><td>RJ</td><td>57</td></tr>\n",
       "    <tr><td class='row_index'>2</td><td>0</td><td>0</td><td>330010</td><td>330010</td><td>0</td><td>0</td><td>0</td><td>0</td><td>SD</td><td>RJ</td><td class=vellipsis>&hellip;</td><td>&minus;44.318</td><td>2281384</td><td>3301</td><td>RJ</td><td>48</td></tr>\n",
       "    <tr><td class='row_index'>3</td><td>0</td><td>0</td><td>330010</td><td>351840</td><td>1</td><td>1</td><td>222.988</td><td>3.47778</td><td>SD</td><td>RJ</td><td class=vellipsis>&hellip;</td><td>&minus;45.193</td><td>2081512</td><td>3524</td><td>SP</td><td>1</td></tr>\n",
       "    <tr><td class='row_index'>4</td><td>0</td><td>0</td><td>330020</td><td>330020</td><td>0</td><td>0</td><td>0</td><td>0</td><td>SD</td><td>RJ</td><td class=vellipsis>&hellip;</td><td>&minus;42.343</td><td>2273098</td><td>3302</td><td>RJ</td><td>58</td></tr>\n",
       "    <tr><td class='row_index'>5</td><td>0</td><td>0</td><td>330020</td><td>330070</td><td>1</td><td>0</td><td>43.1787</td><td>0.650056</td><td>SD</td><td>RJ</td><td class=vellipsis>&hellip;</td><td>&minus;42.019</td><td>5903394</td><td>3302</td><td>RJ</td><td>3</td></tr>\n",
       "    <tr><td class='row_index'>6</td><td>0</td><td>0</td><td>330020</td><td>330455</td><td>1</td><td>1</td><td>118.052</td><td>1.55372</td><td>SD</td><td>RJ</td><td class=vellipsis>&hellip;</td><td>&minus;43.208</td><td>2270390</td><td>3305</td><td>RJ</td><td>1</td></tr>\n",
       "    <tr><td class='row_index'>7</td><td>0</td><td>0</td><td>330020</td><td>330455</td><td>1</td><td>1</td><td>118.052</td><td>1.55372</td><td>SD</td><td>RJ</td><td class=vellipsis>&hellip;</td><td>&minus;43.208</td><td>2273438</td><td>3305</td><td>RJ</td><td>1</td></tr>\n",
       "    <tr><td class='row_index'>8</td><td>0</td><td>0</td><td>330020</td><td>330520</td><td>1</td><td>0</td><td>31.0431</td><td>0.417139</td><td>SD</td><td>RJ</td><td class=vellipsis>&hellip;</td><td>&minus;42.103</td><td>2280477</td><td>3302</td><td>RJ</td><td>2</td></tr>\n",
       "    <tr><td class='row_index'>9</td><td>0</td><td>0</td><td>330020</td><td>330550</td><td>1</td><td>0</td><td>22.8379</td><td>0.348</td><td>SD</td><td>RJ</td><td class=vellipsis>&hellip;</td><td>&minus;42.51</td><td>2274299</td><td>3302</td><td>RJ</td><td>1</td></tr>\n",
       "    <tr><td class='row_index'>10</td><td>0</td><td>0</td><td>330022</td><td>330600</td><td>1</td><td>0</td><td>25.1655</td><td>0.377083</td><td>SD</td><td>RJ</td><td class=vellipsis>&hellip;</td><td>&minus;43.209</td><td>2294923</td><td>3303</td><td>RJ</td><td>32</td></tr>\n",
       "    <tr><td class='row_index'>11</td><td>0</td><td>0</td><td>330023</td><td>330023</td><td>0</td><td>0</td><td>0</td><td>0</td><td>SD</td><td>RJ</td><td class=vellipsis>&hellip;</td><td>&minus;41.882</td><td>6200702</td><td>3302</td><td>RJ</td><td>23</td></tr>\n",
       "    <tr><td class='row_index'>12</td><td>0</td><td>0</td><td>330023</td><td>330070</td><td>1</td><td>0</td><td>26.375</td><td>0.542528</td><td>SD</td><td>RJ</td><td class=vellipsis>&hellip;</td><td>&minus;42.019</td><td>5903394</td><td>3302</td><td>RJ</td><td>2</td></tr>\n",
       "    <tr><td class='row_index'>13</td><td>0</td><td>0</td><td>330023</td><td>330520</td><td>1</td><td>0</td><td>32.2808</td><td>0.655444</td><td>SD</td><td>RJ</td><td class=vellipsis>&hellip;</td><td>&minus;42.103</td><td>2280477</td><td>3302</td><td>RJ</td><td>2</td></tr>\n",
       "    <tr><td class='row_index'>14</td><td>0</td><td>0</td><td>330025</td><td>330020</td><td>1</td><td>0</td><td>54.1154</td><td>0.823222</td><td>SD</td><td>RJ</td><td class=vellipsis>&hellip;</td><td>&minus;42.343</td><td>2273098</td><td>3302</td><td>RJ</td><td>1</td></tr>\n",
       "    <tr><td class='row_index'>&#x22EE;</td><td class='hellipsis'>&#x22EE;</td><td class='hellipsis'>&#x22EE;</td><td class='hellipsis'>&#x22EE;</td><td class='hellipsis'>&#x22EE;</td><td class='hellipsis'>&#x22EE;</td><td class='hellipsis'>&#x22EE;</td><td class='hellipsis'>&#x22EE;</td><td class='hellipsis'>&#x22EE;</td><td class='hellipsis'>&#x22EE;</td><td class='hellipsis'>&#x22EE;</td><td class='hellipsis'>&#x22F1;</td><td class='hellipsis'>&#x22EE;</td><td class='hellipsis'>&#x22EE;</td><td class='hellipsis'>&#x22EE;</td><td class='hellipsis'>&#x22EE;</td><td class='hellipsis'>&#x22EE;</td></tr>\n",
       "    <tr><td class='row_index'>3458</td><td>1</td><td>1</td><td>330630</td><td>330395</td><td>1</td><td>0</td><td>15.8369</td><td>0.40825</td><td>SD</td><td>RJ</td><td class=vellipsis>&hellip;</td><td>&minus;44.001</td><td>2271141</td><td>3304</td><td>RJ</td><td>3</td></tr>\n",
       "    <tr><td class='row_index'>3459</td><td>1</td><td>1</td><td>330630</td><td>330411</td><td>1</td><td>0</td><td>35.1378</td><td>0.636833</td><td>SD</td><td>RJ</td><td class=vellipsis>&hellip;</td><td>&minus;44.29</td><td>5307864</td><td>3304</td><td>RJ</td><td>1</td></tr>\n",
       "    <tr><td class='row_index'>3460</td><td>1</td><td>1</td><td>330630</td><td>330455</td><td>1</td><td>1</td><td>127.433</td><td>1.93703</td><td>SD</td><td>RJ</td><td class=vellipsis>&hellip;</td><td>&minus;43.208</td><td>7027397</td><td>3305</td><td>RJ</td><td>1</td></tr>\n",
       "    <tr><td class='row_index'>3461</td><td>1</td><td>1</td><td>330630</td><td>330490</td><td>1</td><td>1</td><td>146.808</td><td>2.26831</td><td>SD</td><td>RJ</td><td class=vellipsis>&hellip;</td><td>&minus;43.054</td><td>2297590</td><td>3305</td><td>RJ</td><td>1</td></tr>\n",
       "    <tr><td class='row_index'>3462</td><td>1</td><td>1</td><td>330630</td><td>330630</td><td>0</td><td>0</td><td>0</td><td>0</td><td>SD</td><td>RJ</td><td class=vellipsis>&hellip;</td><td>&minus;44.104</td><td>25135</td><td>3304</td><td>RJ</td><td>63</td></tr>\n",
       "  </tbody>\n",
       "  </table>\n",
       "  <div class='footer'>\n",
       "    <div class='frame_dimensions'>3463 rows &times; 22 columns</div>\n",
       "  </div>\n",
       "</div>\n"
      ],
      "text/plain": [
       "<Frame#7fc11983da80 3463x22>"
      ]
     },
     "execution_count": 32,
     "metadata": {},
     "output_type": "execute_result"
    }
   ],
   "source": [
    "df_deslc_rj_cnes = df_deslc[(f.uf == 'RJ'), :]\n",
    "df_deslc_rj_cnes"
   ]
  },
  {
   "cell_type": "code",
   "execution_count": 33,
   "metadata": {},
   "outputs": [],
   "source": [
    "output_rj_cnes = get_path('GESTANTES', 'deslocamentos_rj_cnes.xlsx')\n",
    "df_deslc_rj_cnes.to_csv(output_rj_cnes)\n",
    "df_deslc_rj_cnes.to_pandas().to_excel(output_rj_cnes, index=False)"
   ]
  },
  {
   "cell_type": "markdown",
   "metadata": {},
   "source": [
    "### Sem CNES"
   ]
  },
  {
   "cell_type": "code",
   "execution_count": 36,
   "metadata": {},
   "outputs": [
    {
     "data": {
      "text/html": [
       "<div class='datatable'>\n",
       "  <table class='frame'>\n",
       "  <thead>\n",
       "    <tr class='colnames'><td class='row_index'></td><th>bienio</th><th>parto_normal</th><th>origem</th><th>destino</th><th>mun_diff</th><th>regsau_diff</th><th>distancia</th><th>tempo</th><th>regiao</th><th>uf</th><th class='vellipsis'>&hellip;</th><th>hosp_latitude</th><th>hosp_longitude</th><th>hosp_regiao_saude</th><th>hosp_uf</th><th>count</th></tr>\n",
       "    <tr class='coltypes'><td class='row_index'></td><td class='bool' title='bool8'>&#x25AA;</td><td class='bool' title='bool8'>&#x25AA;</td><td class='int' title='int32'>&#x25AA;&#x25AA;&#x25AA;&#x25AA;</td><td class='int' title='int32'>&#x25AA;&#x25AA;&#x25AA;&#x25AA;</td><td class='bool' title='bool8'>&#x25AA;</td><td class='bool' title='bool8'>&#x25AA;</td><td class='float' title='float64'>&#x25AA;&#x25AA;&#x25AA;&#x25AA;&#x25AA;&#x25AA;&#x25AA;&#x25AA;</td><td class='float' title='float64'>&#x25AA;&#x25AA;&#x25AA;&#x25AA;&#x25AA;&#x25AA;&#x25AA;&#x25AA;</td><td class='str' title='str32'>&#x25AA;&#x25AA;&#x25AA;&#x25AA;</td><td class='str' title='str32'>&#x25AA;&#x25AA;&#x25AA;&#x25AA;</td><td></td><td class='float' title='float64'>&#x25AA;&#x25AA;&#x25AA;&#x25AA;&#x25AA;&#x25AA;&#x25AA;&#x25AA;</td><td class='float' title='float64'>&#x25AA;&#x25AA;&#x25AA;&#x25AA;&#x25AA;&#x25AA;&#x25AA;&#x25AA;</td><td class='int' title='int32'>&#x25AA;&#x25AA;&#x25AA;&#x25AA;</td><td class='str' title='str32'>&#x25AA;&#x25AA;&#x25AA;&#x25AA;</td><td class='int' title='int64'>&#x25AA;&#x25AA;&#x25AA;&#x25AA;&#x25AA;&#x25AA;&#x25AA;&#x25AA;</td></tr>\n",
       "  </thead>\n",
       "  <tbody>\n",
       "    <tr><td class='row_index'>0</td><td>0</td><td>0</td><td>330010</td><td>320245</td><td>1</td><td>1</td><td>614.613</td><td>7.66281</td><td>SD</td><td>RJ</td><td class=vellipsis>&hellip;</td><td>&minus;20.234</td><td>&minus;41.511</td><td>3202</td><td>ES</td><td>2</td></tr>\n",
       "    <tr><td class='row_index'>1</td><td>0</td><td>0</td><td>330010</td><td>330010</td><td>0</td><td>0</td><td>0</td><td>0</td><td>SD</td><td>RJ</td><td class=vellipsis>&hellip;</td><td>&minus;23.007</td><td>&minus;44.318</td><td>3301</td><td>RJ</td><td>105</td></tr>\n",
       "    <tr><td class='row_index'>2</td><td>0</td><td>0</td><td>330010</td><td>351840</td><td>1</td><td>1</td><td>222.988</td><td>3.47778</td><td>SD</td><td>RJ</td><td class=vellipsis>&hellip;</td><td>&minus;22.816</td><td>&minus;45.193</td><td>3524</td><td>SP</td><td>1</td></tr>\n",
       "    <tr><td class='row_index'>3</td><td>0</td><td>0</td><td>330020</td><td>330020</td><td>0</td><td>0</td><td>0</td><td>0</td><td>SD</td><td>RJ</td><td class=vellipsis>&hellip;</td><td>&minus;22.873</td><td>&minus;42.343</td><td>3302</td><td>RJ</td><td>58</td></tr>\n",
       "    <tr><td class='row_index'>4</td><td>0</td><td>0</td><td>330020</td><td>330070</td><td>1</td><td>0</td><td>43.1787</td><td>0.650056</td><td>SD</td><td>RJ</td><td class=vellipsis>&hellip;</td><td>&minus;22.879</td><td>&minus;42.019</td><td>3302</td><td>RJ</td><td>3</td></tr>\n",
       "    <tr><td class='row_index'>5</td><td>0</td><td>0</td><td>330020</td><td>330455</td><td>1</td><td>1</td><td>118.052</td><td>1.55372</td><td>SD</td><td>RJ</td><td class=vellipsis>&hellip;</td><td>&minus;22.903</td><td>&minus;43.208</td><td>3305</td><td>RJ</td><td>2</td></tr>\n",
       "    <tr><td class='row_index'>6</td><td>0</td><td>0</td><td>330020</td><td>330520</td><td>1</td><td>0</td><td>31.0431</td><td>0.417139</td><td>SD</td><td>RJ</td><td class=vellipsis>&hellip;</td><td>&minus;22.839</td><td>&minus;42.103</td><td>3302</td><td>RJ</td><td>2</td></tr>\n",
       "    <tr><td class='row_index'>7</td><td>0</td><td>0</td><td>330020</td><td>330550</td><td>1</td><td>0</td><td>22.8379</td><td>0.348</td><td>SD</td><td>RJ</td><td class=vellipsis>&hellip;</td><td>&minus;22.92</td><td>&minus;42.51</td><td>3302</td><td>RJ</td><td>1</td></tr>\n",
       "    <tr><td class='row_index'>8</td><td>0</td><td>0</td><td>330022</td><td>330600</td><td>1</td><td>0</td><td>25.1655</td><td>0.377083</td><td>SD</td><td>RJ</td><td class=vellipsis>&hellip;</td><td>&minus;22.117</td><td>&minus;43.209</td><td>3303</td><td>RJ</td><td>32</td></tr>\n",
       "    <tr><td class='row_index'>9</td><td>0</td><td>0</td><td>330023</td><td>330023</td><td>0</td><td>0</td><td>0</td><td>0</td><td>SD</td><td>RJ</td><td class=vellipsis>&hellip;</td><td>&minus;22.747</td><td>&minus;41.882</td><td>3302</td><td>RJ</td><td>23</td></tr>\n",
       "    <tr><td class='row_index'>10</td><td>0</td><td>0</td><td>330023</td><td>330070</td><td>1</td><td>0</td><td>26.375</td><td>0.542528</td><td>SD</td><td>RJ</td><td class=vellipsis>&hellip;</td><td>&minus;22.879</td><td>&minus;42.019</td><td>3302</td><td>RJ</td><td>2</td></tr>\n",
       "    <tr><td class='row_index'>11</td><td>0</td><td>0</td><td>330023</td><td>330520</td><td>1</td><td>0</td><td>32.2808</td><td>0.655444</td><td>SD</td><td>RJ</td><td class=vellipsis>&hellip;</td><td>&minus;22.839</td><td>&minus;42.103</td><td>3302</td><td>RJ</td><td>2</td></tr>\n",
       "    <tr><td class='row_index'>12</td><td>0</td><td>0</td><td>330025</td><td>330020</td><td>1</td><td>0</td><td>54.1154</td><td>0.823222</td><td>SD</td><td>RJ</td><td class=vellipsis>&hellip;</td><td>&minus;22.873</td><td>&minus;42.343</td><td>3302</td><td>RJ</td><td>1</td></tr>\n",
       "    <tr><td class='row_index'>13</td><td>0</td><td>0</td><td>330025</td><td>330025</td><td>0</td><td>0</td><td>0</td><td>0</td><td>SD</td><td>RJ</td><td class=vellipsis>&hellip;</td><td>&minus;22.966</td><td>&minus;42.028</td><td>3302</td><td>RJ</td><td>25</td></tr>\n",
       "    <tr><td class='row_index'>14</td><td>0</td><td>0</td><td>330025</td><td>330070</td><td>1</td><td>0</td><td>14.3576</td><td>0.255528</td><td>SD</td><td>RJ</td><td class=vellipsis>&hellip;</td><td>&minus;22.879</td><td>&minus;42.019</td><td>3302</td><td>RJ</td><td>20</td></tr>\n",
       "    <tr><td class='row_index'>&#x22EE;</td><td class='hellipsis'>&#x22EE;</td><td class='hellipsis'>&#x22EE;</td><td class='hellipsis'>&#x22EE;</td><td class='hellipsis'>&#x22EE;</td><td class='hellipsis'>&#x22EE;</td><td class='hellipsis'>&#x22EE;</td><td class='hellipsis'>&#x22EE;</td><td class='hellipsis'>&#x22EE;</td><td class='hellipsis'>&#x22EE;</td><td class='hellipsis'>&#x22EE;</td><td class='hellipsis'>&#x22F1;</td><td class='hellipsis'>&#x22EE;</td><td class='hellipsis'>&#x22EE;</td><td class='hellipsis'>&#x22EE;</td><td class='hellipsis'>&#x22EE;</td><td class='hellipsis'>&#x22EE;</td></tr>\n",
       "    <tr><td class='row_index'>2480</td><td>1</td><td>1</td><td>330630</td><td>330395</td><td>1</td><td>0</td><td>15.8369</td><td>0.40825</td><td>SD</td><td>RJ</td><td class=vellipsis>&hellip;</td><td>&minus;22.513</td><td>&minus;44.001</td><td>3304</td><td>RJ</td><td>3</td></tr>\n",
       "    <tr><td class='row_index'>2481</td><td>1</td><td>1</td><td>330630</td><td>330411</td><td>1</td><td>0</td><td>35.1378</td><td>0.636833</td><td>SD</td><td>RJ</td><td class=vellipsis>&hellip;</td><td>&minus;22.42</td><td>&minus;44.29</td><td>3304</td><td>RJ</td><td>1</td></tr>\n",
       "    <tr><td class='row_index'>2482</td><td>1</td><td>1</td><td>330630</td><td>330455</td><td>1</td><td>1</td><td>127.433</td><td>1.93703</td><td>SD</td><td>RJ</td><td class=vellipsis>&hellip;</td><td>&minus;22.903</td><td>&minus;43.208</td><td>3305</td><td>RJ</td><td>1</td></tr>\n",
       "    <tr><td class='row_index'>2483</td><td>1</td><td>1</td><td>330630</td><td>330490</td><td>1</td><td>1</td><td>146.808</td><td>2.26831</td><td>SD</td><td>RJ</td><td class=vellipsis>&hellip;</td><td>&minus;22.827</td><td>&minus;43.054</td><td>3305</td><td>RJ</td><td>1</td></tr>\n",
       "    <tr><td class='row_index'>2484</td><td>1</td><td>1</td><td>330630</td><td>330630</td><td>0</td><td>0</td><td>0</td><td>0</td><td>SD</td><td>RJ</td><td class=vellipsis>&hellip;</td><td>&minus;22.523</td><td>&minus;44.104</td><td>3304</td><td>RJ</td><td>63</td></tr>\n",
       "  </tbody>\n",
       "  </table>\n",
       "  <div class='footer'>\n",
       "    <div class='frame_dimensions'>2485 rows &times; 21 columns</div>\n",
       "  </div>\n",
       "</div>\n"
      ],
      "text/plain": [
       "<Frame#7fc0939c4c90 2485x21>"
      ]
     },
     "execution_count": 36,
     "metadata": {},
     "output_type": "execute_result"
    }
   ],
   "source": [
    "df_deslc_rj = df_deslc_rj_cnes[:, f[:].remove(f.hosp_cnes)]\n",
    "df_deslc_rj = df_deslc_rj[:, dt.sum(f.count), dt.by(df_deslc_rj.names[:-1])]\n",
    "df_deslc_rj"
   ]
  },
  {
   "cell_type": "code",
   "execution_count": 37,
   "metadata": {},
   "outputs": [],
   "source": [
    "output_rj = get_path('GESTANTES', 'deslocamentos_rj.xlsx')\n",
    "df_deslc_rj.to_pandas().to_excel(output_rj, index=False)"
   ]
  }
 ],
 "metadata": {
  "kernelspec": {
   "display_name": "Python 3.9.13 ('ds')",
   "language": "python",
   "name": "python3"
  },
  "language_info": {
   "codemirror_mode": {
    "name": "ipython",
    "version": 3
   },
   "file_extension": ".py",
   "mimetype": "text/x-python",
   "name": "python",
   "nbconvert_exporter": "python",
   "pygments_lexer": "ipython3",
   "version": "3.9.13"
  },
  "orig_nbformat": 4,
  "vscode": {
   "interpreter": {
    "hash": "7b36953cec1b75a8b331280ff7f7e2e00c70540f1d612023ca05354bbeabec70"
   }
  }
 },
 "nbformat": 4,
 "nbformat_minor": 2
}
