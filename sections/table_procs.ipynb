{
 "cells": [
  {
   "cell_type": "raw",
   "metadata": {},
   "source": [
    "---\n",
    "title: \"Procedimentos\"\n",
    "---"
   ]
  },
  {
   "cell_type": "code",
   "execution_count": 1,
   "metadata": {},
   "outputs": [
    {
     "data": {
      "text/html": [
       "<style type='text/css'>\n",
       ".datatable table.frame { margin-bottom: 0; }\n",
       ".datatable table.frame thead { border-bottom: none; }\n",
       ".datatable table.frame tr.coltypes td {  color: #FFFFFF;  line-height: 6px;  padding: 0 0.5em;}\n",
       ".datatable .bool    { background: #DDDD99; }\n",
       ".datatable .object  { background: #565656; }\n",
       ".datatable .int     { background: #5D9E5D; }\n",
       ".datatable .float   { background: #4040CC; }\n",
       ".datatable .str     { background: #CC4040; }\n",
       ".datatable .time    { background: #40CC40; }\n",
       ".datatable .row_index {  background: var(--jp-border-color3);  border-right: 1px solid var(--jp-border-color0);  color: var(--jp-ui-font-color3);  font-size: 9px;}\n",
       ".datatable .frame tbody td { text-align: left; }\n",
       ".datatable .frame tr.coltypes .row_index {  background: var(--jp-border-color0);}\n",
       ".datatable th:nth-child(2) { padding-left: 12px; }\n",
       ".datatable .hellipsis {  color: var(--jp-cell-editor-border-color);}\n",
       ".datatable .vellipsis {  background: var(--jp-layout-color0);  color: var(--jp-cell-editor-border-color);}\n",
       ".datatable .na {  color: var(--jp-cell-editor-border-color);  font-size: 80%;}\n",
       ".datatable .sp {  opacity: 0.25;}\n",
       ".datatable .footer { font-size: 9px; }\n",
       ".datatable .frame_dimensions {  background: var(--jp-border-color3);  border-top: 1px solid var(--jp-border-color0);  color: var(--jp-ui-font-color3);  display: inline-block;  opacity: 0.6;  padding: 1px 10px 1px 5px;}\n",
       "</style>\n"
      ],
      "text/plain": [
       "<IPython.core.display.HTML object>"
      ]
     },
     "metadata": {},
     "output_type": "display_data"
    }
   ],
   "source": [
    "from utils import get_path, group_cols\n",
    "from datatable import dt, f, by, as_type"
   ]
  },
  {
   "cell_type": "markdown",
   "metadata": {},
   "source": [
    "# Descrição"
   ]
  },
  {
   "cell_type": "markdown",
   "metadata": {},
   "source": [
    "Neste notebook iremos formar a tabela procedimentos."
   ]
  },
  {
   "cell_type": "markdown",
   "metadata": {},
   "source": [
    "# Tabelas base"
   ]
  },
  {
   "cell_type": "markdown",
   "metadata": {},
   "source": [
    "## Localidades"
   ]
  },
  {
   "cell_type": "code",
   "execution_count": 2,
   "metadata": {},
   "outputs": [
    {
     "data": {
      "text/html": [
       "<div class='datatable'>\n",
       "  <table class='frame'>\n",
       "  <thead>\n",
       "    <tr class='colnames'><td class='row_index'></td><th>codigo</th><th>cod_municipio</th><th>nome_municipio</th><th>capital</th><th>cod_regiao_saude</th><th>nome_regiao_saude</th><th>cod_uf</th><th>uf</th><th>nome_uf</th><th>sigla_regiao</th><th>nome_regiao</th><th>socioecon</th><th>latitude</th><th>longitude</th></tr>\n",
       "    <tr class='coltypes'><td class='row_index'></td><td class='str' title='str32'>&#x25AA;&#x25AA;&#x25AA;&#x25AA;</td><td class='int' title='int32'>&#x25AA;&#x25AA;&#x25AA;&#x25AA;</td><td class='str' title='str32'>&#x25AA;&#x25AA;&#x25AA;&#x25AA;</td><td class='bool' title='bool8'>&#x25AA;</td><td class='int' title='int32'>&#x25AA;&#x25AA;&#x25AA;&#x25AA;</td><td class='str' title='str32'>&#x25AA;&#x25AA;&#x25AA;&#x25AA;</td><td class='int' title='int32'>&#x25AA;&#x25AA;&#x25AA;&#x25AA;</td><td class='str' title='str32'>&#x25AA;&#x25AA;&#x25AA;&#x25AA;</td><td class='str' title='str32'>&#x25AA;&#x25AA;&#x25AA;&#x25AA;</td><td class='str' title='str32'>&#x25AA;&#x25AA;&#x25AA;&#x25AA;</td><td class='str' title='str32'>&#x25AA;&#x25AA;&#x25AA;&#x25AA;</td><td class='int' title='int32'>&#x25AA;&#x25AA;&#x25AA;&#x25AA;</td><td class='float' title='float64'>&#x25AA;&#x25AA;&#x25AA;&#x25AA;&#x25AA;&#x25AA;&#x25AA;&#x25AA;</td><td class='float' title='float64'>&#x25AA;&#x25AA;&#x25AA;&#x25AA;&#x25AA;&#x25AA;&#x25AA;&#x25AA;</td></tr>\n",
       "  </thead>\n",
       "  <tbody>\n",
       "    <tr><td class='row_index'>0</td><td>CO/GO/52001/520005</td><td>520005</td><td>Abadia de Goiás</td><td>0</td><td>52001</td><td>Central</td><td>52</td><td>GO</td><td>Goiás</td><td>CO</td><td>Centro-Oeste</td><td>5</td><td>&minus;16.7573</td><td>&minus;49.4412</td></tr>\n",
       "    <tr><td class='row_index'>1</td><td>SD/MG/31052/310010</td><td>310010</td><td>Abadia dos Dourados</td><td>0</td><td>31052</td><td>Patrocínio Monte Carmelo</td><td>31</td><td>MG</td><td>Minas Gerais</td><td>SD</td><td>Sudeste</td><td>2</td><td>&minus;18.4831</td><td>&minus;47.3916</td></tr>\n",
       "    <tr><td class='row_index'>2</td><td>CO/GO/52011/520010</td><td>520010</td><td>Abadiânia</td><td>0</td><td>52011</td><td>Pirineus</td><td>52</td><td>GO</td><td>Goiás</td><td>CO</td><td>Centro-Oeste</td><td>3</td><td>&minus;16.197</td><td>&minus;48.7057</td></tr>\n",
       "    <tr><td class='row_index'>3</td><td>SD/MG/31067/310020</td><td>310020</td><td>Abaeté</td><td>0</td><td>31067</td><td>Sete Lagoas</td><td>31</td><td>MG</td><td>Minas Gerais</td><td>SD</td><td>Sudeste</td><td>3</td><td>&minus;19.1551</td><td>&minus;45.4444</td></tr>\n",
       "    <tr><td class='row_index'>4</td><td>NT/PA/15011/150010</td><td>150010</td><td>Abaetetuba</td><td>0</td><td>15011</td><td>Tocantins</td><td>15</td><td>PA</td><td>Pará</td><td>NT</td><td>Norte</td><td>1</td><td>&minus;1.72183</td><td>&minus;48.8788</td></tr>\n",
       "    <tr><td class='row_index'>5</td><td>ND/CE/23019/230010</td><td>230010</td><td>Abaiara</td><td>0</td><td>23019</td><td>19ª Região Brejo Santo</td><td>23</td><td>CE</td><td>Ceará</td><td>ND</td><td>Nordeste</td><td>1</td><td>&minus;7.34588</td><td>&minus;39.0416</td></tr>\n",
       "    <tr><td class='row_index'>6</td><td>ND/BA/29023/290010</td><td>290010</td><td>Abaíra</td><td>0</td><td>29023</td><td>Seabra</td><td>29</td><td>BA</td><td>Bahia</td><td>ND</td><td>Nordeste</td><td>1</td><td>&minus;13.2488</td><td>&minus;41.6619</td></tr>\n",
       "    <tr><td class='row_index'>7</td><td>ND/BA/29017/290020</td><td>290020</td><td>Abaré</td><td>0</td><td>29017</td><td>Paulo Afonso</td><td>29</td><td>BA</td><td>Bahia</td><td>ND</td><td>Nordeste</td><td>1</td><td>&minus;8.72073</td><td>&minus;39.1162</td></tr>\n",
       "    <tr><td class='row_index'>8</td><td>SL/PR/41018/410010</td><td>410010</td><td>Abatiá</td><td>0</td><td>41018</td><td>18ª RS Cornélio Procópio</td><td>41</td><td>PR</td><td>Paraná</td><td>SL</td><td>Sul</td><td>3</td><td>&minus;23.3049</td><td>&minus;50.3133</td></tr>\n",
       "    <tr><td class='row_index'>9</td><td>SL/SC/42008/420005</td><td>420005</td><td>Abdon Batista</td><td>0</td><td>42008</td><td>Meio Oeste</td><td>42</td><td>SC</td><td>Santa Catarina</td><td>SL</td><td>Sul</td><td>3</td><td>&minus;27.6126</td><td>&minus;51.0233</td></tr>\n",
       "    <tr><td class='row_index'>10</td><td>NT/PA/15003/150013</td><td>150013</td><td>Abel Figueiredo</td><td>0</td><td>15003</td><td>Carajás</td><td>15</td><td>PA</td><td>Pará</td><td>NT</td><td>Norte</td><td>2</td><td>&minus;4.95333</td><td>&minus;48.3933</td></tr>\n",
       "    <tr><td class='row_index'>11</td><td>SL/SC/42003/420010</td><td>420010</td><td>Abelardo Luz</td><td>0</td><td>42003</td><td>Xanxerê</td><td>42</td><td>SC</td><td>Santa Catarina</td><td>SL</td><td>Sul</td><td>3</td><td>&minus;26.5716</td><td>&minus;52.3229</td></tr>\n",
       "    <tr><td class='row_index'>12</td><td>SD/MG/31041/310030</td><td>310030</td><td>Abre Campo</td><td>0</td><td>31041</td><td>Manhuaçu</td><td>31</td><td>MG</td><td>Minas Gerais</td><td>SD</td><td>Sudeste</td><td>1</td><td>&minus;20.2996</td><td>&minus;42.4743</td></tr>\n",
       "    <tr><td class='row_index'>13</td><td>ND/PE/26010/260005</td><td>260005</td><td>Abreu e Lima</td><td>0</td><td>26010</td><td>Recife</td><td>26</td><td>PE</td><td>Pernambuco</td><td>ND</td><td>Nordeste</td><td>5</td><td>&minus;7.90072</td><td>&minus;34.8984</td></tr>\n",
       "    <tr><td class='row_index'>14</td><td>NT/TO/17007/170025</td><td>170025</td><td>Abreulândia</td><td>0</td><td>17007</td><td>Cantão</td><td>17</td><td>TO</td><td>Tocantins</td><td>NT</td><td>Norte</td><td>2</td><td>&minus;9.62101</td><td>&minus;49.1518</td></tr>\n",
       "    <tr><td class='row_index'>&#x22EE;</td><td class='hellipsis'>&#x22EE;</td><td class='hellipsis'>&#x22EE;</td><td class='hellipsis'>&#x22EE;</td><td class='hellipsis'>&#x22EE;</td><td class='hellipsis'>&#x22EE;</td><td class='hellipsis'>&#x22EE;</td><td class='hellipsis'>&#x22EE;</td><td class='hellipsis'>&#x22EE;</td><td class='hellipsis'>&#x22EE;</td><td class='hellipsis'>&#x22EE;</td><td class='hellipsis'>&#x22EE;</td><td class='hellipsis'>&#x22EE;</td><td class='hellipsis'>&#x22EE;</td><td class='hellipsis'>&#x22EE;</td></tr>\n",
       "    <tr><td class='row_index'>5565</td><td>ND/BA/29010/293360</td><td>293360</td><td>Xique-Xique</td><td>0</td><td>29010</td><td>Irecê</td><td>29</td><td>BA</td><td>Bahia</td><td>ND</td><td>Nordeste</td><td>1</td><td>&minus;10.823</td><td>&minus;42.7245</td></tr>\n",
       "    <tr><td class='row_index'>5566</td><td>ND/PB/25005/251740</td><td>251740</td><td>Zabelê</td><td>0</td><td>25005</td><td>5ª Região</td><td>25</td><td>PB</td><td>Paraíba</td><td>ND</td><td>Nordeste</td><td>1</td><td>&minus;8.07901</td><td>&minus;37.1057</td></tr>\n",
       "    <tr><td class='row_index'>5567</td><td>SD/SP/35156/355715</td><td>355715</td><td>Zacarias</td><td>0</td><td>35156</td><td>José Bonifácio</td><td>35</td><td>SP</td><td>São Paulo</td><td>SD</td><td>Sudeste</td><td>3</td><td>&minus;21.0506</td><td>&minus;50.0552</td></tr>\n",
       "    <tr><td class='row_index'>5568</td><td>ND/MA/21019/211400</td><td>211400</td><td>Zé Doca</td><td>0</td><td>21019</td><td>Zé Doca</td><td>21</td><td>MA</td><td>Maranhão</td><td>ND</td><td>Nordeste</td><td>1</td><td>&minus;3.27014</td><td>&minus;45.6553</td></tr>\n",
       "    <tr><td class='row_index'>5569</td><td>SL/SC/42008/421985</td><td>421985</td><td>Zortéa</td><td>0</td><td>42008</td><td>Meio Oeste</td><td>42</td><td>SC</td><td>Santa Catarina</td><td>SL</td><td>Sul</td><td>3</td><td>&minus;27.4521</td><td>&minus;51.552</td></tr>\n",
       "  </tbody>\n",
       "  </table>\n",
       "  <div class='footer'>\n",
       "    <div class='frame_dimensions'>5570 rows &times; 14 columns</div>\n",
       "  </div>\n",
       "</div>\n"
      ],
      "text/plain": [
       "<Frame#7fc7480ebb10 5570x14>"
      ]
     },
     "execution_count": 2,
     "metadata": {},
     "output_type": "execute_result"
    }
   ],
   "source": [
    "path_locs = get_path('LOCALIDADES', 'localidades.csv.gzip')\n",
    "df_locs = dt.fread(path_locs)\n",
    "df_locs"
   ]
  },
  {
   "cell_type": "markdown",
   "metadata": {},
   "source": [
    "## Distâncias"
   ]
  },
  {
   "cell_type": "code",
   "execution_count": 3,
   "metadata": {},
   "outputs": [],
   "source": [
    "cols_dist = {\n",
    "  'origem': 'cod_municipio',\n",
    "  'destino': 'hosp_cod_municipio',\n",
    "  'distancia (km)': 'distancia (km)',\n",
    "  'tempo (min)': 'tempo (min)',\n",
    "  ...: None,\n",
    "}"
   ]
  },
  {
   "cell_type": "code",
   "execution_count": 4,
   "metadata": {},
   "outputs": [
    {
     "data": {
      "text/html": [
       "<div class='datatable'>\n",
       "  <table class='frame'>\n",
       "  <thead>\n",
       "    <tr class='colnames'><td class='row_index'></td><th>cod_municipio</th><th>hosp_cod_municipio</th><th>distancia (km)</th><th>tempo (min)</th></tr>\n",
       "    <tr class='coltypes'><td class='row_index'></td><td class='int' title='int32'>&#x25AA;&#x25AA;&#x25AA;&#x25AA;</td><td class='int' title='int32'>&#x25AA;&#x25AA;&#x25AA;&#x25AA;</td><td class='float' title='float64'>&#x25AA;&#x25AA;&#x25AA;&#x25AA;&#x25AA;&#x25AA;&#x25AA;&#x25AA;</td><td class='float' title='float64'>&#x25AA;&#x25AA;&#x25AA;&#x25AA;&#x25AA;&#x25AA;&#x25AA;&#x25AA;</td></tr>\n",
       "  </thead>\n",
       "  <tbody>\n",
       "    <tr><td class='row_index'>0</td><td>355030</td><td>355030</td><td>0</td><td>0</td></tr>\n",
       "    <tr><td class='row_index'>1</td><td>330455</td><td>330455</td><td>0</td><td>0</td></tr>\n",
       "    <tr><td class='row_index'>2</td><td>130260</td><td>130260</td><td>0</td><td>0</td></tr>\n",
       "    <tr><td class='row_index'>3</td><td>530010</td><td>530010</td><td>0</td><td>0</td></tr>\n",
       "    <tr><td class='row_index'>4</td><td>230440</td><td>230440</td><td>0</td><td>0</td></tr>\n",
       "    <tr><td class='row_index'>5</td><td>292740</td><td>292740</td><td>0</td><td>0</td></tr>\n",
       "    <tr><td class='row_index'>6</td><td>310620</td><td>310620</td><td>0</td><td>0</td></tr>\n",
       "    <tr><td class='row_index'>7</td><td>150140</td><td>150140</td><td>0</td><td>0</td></tr>\n",
       "    <tr><td class='row_index'>8</td><td>431490</td><td>431490</td><td>0</td><td>0</td></tr>\n",
       "    <tr><td class='row_index'>9</td><td>410690</td><td>410690</td><td>0</td><td>0</td></tr>\n",
       "    <tr><td class='row_index'>10</td><td>270430</td><td>270430</td><td>0</td><td>0</td></tr>\n",
       "    <tr><td class='row_index'>11</td><td>520870</td><td>520870</td><td>0</td><td>0</td></tr>\n",
       "    <tr><td class='row_index'>12</td><td>351880</td><td>351880</td><td>0</td><td>0</td></tr>\n",
       "    <tr><td class='row_index'>13</td><td>221100</td><td>221100</td><td>0</td><td>0</td></tr>\n",
       "    <tr><td class='row_index'>14</td><td>500270</td><td>500270</td><td>0</td><td>0</td></tr>\n",
       "    <tr><td class='row_index'>&#x22EE;</td><td class='hellipsis'>&#x22EE;</td><td class='hellipsis'>&#x22EE;</td><td class='hellipsis'>&#x22EE;</td><td class='hellipsis'>&#x22EE;</td></tr>\n",
       "    <tr><td class='row_index'>71,833</td><td>530010</td><td>521308</td><td>376.351</td><td>360.035</td></tr>\n",
       "    <tr><td class='row_index'>71,834</td><td>530010</td><td>521770</td><td>328.373</td><td>283.283</td></tr>\n",
       "    <tr><td class='row_index'>71,835</td><td>530010</td><td>522000</td><td>153.655</td><td>146.227</td></tr>\n",
       "    <tr><td class='row_index'>71,836</td><td>530010</td><td>522020</td><td>515.668</td><td>411.118</td></tr>\n",
       "    <tr><td class='row_index'>71,837</td><td>530010</td><td>522045</td><td>207.413</td><td>183.168</td></tr>\n",
       "  </tbody>\n",
       "  </table>\n",
       "  <div class='footer'>\n",
       "    <div class='frame_dimensions'>71,838 rows &times; 4 columns</div>\n",
       "  </div>\n",
       "</div>\n"
      ],
      "text/plain": [
       "<Frame#7fc7480eb870 71838x4>"
      ]
     },
     "execution_count": 4,
     "metadata": {},
     "output_type": "execute_result"
    }
   ],
   "source": [
    "path_dist = get_path('DISTANCIAS', 'deslocamentos.csv.gzip')\n",
    "df_dist = dt.fread(path_dist, columns=cols_dist)\n",
    "df_dist"
   ]
  },
  {
   "cell_type": "markdown",
   "metadata": {},
   "source": [
    "## SIH"
   ]
  },
  {
   "cell_type": "markdown",
   "metadata": {},
   "source": [
    "### Colunas da tabela"
   ]
  },
  {
   "cell_type": "code",
   "execution_count": 5,
   "metadata": {},
   "outputs": [],
   "source": [
    "cols_proc = [\n",
    "  'ano',\n",
    "  'parto_normal',\n",
    "  'cod_municipio',\n",
    "  'hosp_cod_municipio',\n",
    "  'cnes',\n",
    "]"
   ]
  },
  {
   "cell_type": "code",
   "execution_count": 6,
   "metadata": {},
   "outputs": [
    {
     "data": {
      "text/html": [
       "<div class='datatable'>\n",
       "  <table class='frame'>\n",
       "  <thead>\n",
       "    <tr class='colnames'><td class='row_index'></td><th>ano</th><th>parto_normal</th><th>cod_municipio</th><th>hosp_cod_municipio</th><th>cnes</th></tr>\n",
       "    <tr class='coltypes'><td class='row_index'></td><td class='int' title='int32'>&#x25AA;&#x25AA;&#x25AA;&#x25AA;</td><td class='int' title='int32'>&#x25AA;&#x25AA;&#x25AA;&#x25AA;</td><td class='int' title='int32'>&#x25AA;&#x25AA;&#x25AA;&#x25AA;</td><td class='int' title='int32'>&#x25AA;&#x25AA;&#x25AA;&#x25AA;</td><td class='int' title='int32'>&#x25AA;&#x25AA;&#x25AA;&#x25AA;</td></tr>\n",
       "  </thead>\n",
       "  <tbody>\n",
       "    <tr><td class='row_index'>0</td><td>2010</td><td>310010039</td><td>120005</td><td>120005</td><td>2001020</td></tr>\n",
       "    <tr><td class='row_index'>1</td><td>2010</td><td>310010039</td><td>120040</td><td>120040</td><td>2000733</td></tr>\n",
       "    <tr><td class='row_index'>2</td><td>2010</td><td>310010039</td><td>120040</td><td>120040</td><td>2000733</td></tr>\n",
       "    <tr><td class='row_index'>3</td><td>2010</td><td>310010039</td><td>120040</td><td>120040</td><td>2000733</td></tr>\n",
       "    <tr><td class='row_index'>4</td><td>2010</td><td>310010039</td><td>120040</td><td>120040</td><td>2000733</td></tr>\n",
       "    <tr><td class='row_index'>5</td><td>2010</td><td>310010039</td><td>120040</td><td>120040</td><td>2000733</td></tr>\n",
       "    <tr><td class='row_index'>6</td><td>2010</td><td>310010039</td><td>120040</td><td>120040</td><td>2000733</td></tr>\n",
       "    <tr><td class='row_index'>7</td><td>2010</td><td>310010039</td><td>120005</td><td>120005</td><td>2001020</td></tr>\n",
       "    <tr><td class='row_index'>8</td><td>2010</td><td>310010039</td><td>120040</td><td>120040</td><td>2000733</td></tr>\n",
       "    <tr><td class='row_index'>9</td><td>2010</td><td>310010039</td><td>120040</td><td>120040</td><td>2000733</td></tr>\n",
       "    <tr><td class='row_index'>10</td><td>2010</td><td>310010039</td><td>120005</td><td>120005</td><td>2001020</td></tr>\n",
       "    <tr><td class='row_index'>11</td><td>2010</td><td>310010039</td><td>120038</td><td>120040</td><td>2000733</td></tr>\n",
       "    <tr><td class='row_index'>12</td><td>2010</td><td>310010039</td><td>120040</td><td>120040</td><td>2000733</td></tr>\n",
       "    <tr><td class='row_index'>13</td><td>2010</td><td>310010039</td><td>120001</td><td>120040</td><td>2000733</td></tr>\n",
       "    <tr><td class='row_index'>14</td><td>2010</td><td>310010039</td><td>120040</td><td>120040</td><td>2000733</td></tr>\n",
       "    <tr><td class='row_index'>&#x22EE;</td><td class='hellipsis'>&#x22EE;</td><td class='hellipsis'>&#x22EE;</td><td class='hellipsis'>&#x22EE;</td><td class='hellipsis'>&#x22EE;</td><td class='hellipsis'>&#x22EE;</td></tr>\n",
       "    <tr><td class='row_index'>17,106,396</td><td>2019</td><td>411010034</td><td>171840</td><td>170930</td><td>2765640</td></tr>\n",
       "    <tr><td class='row_index'>17,106,397</td><td>2019</td><td>411010034</td><td>171670</td><td>170930</td><td>2765640</td></tr>\n",
       "    <tr><td class='row_index'>17,106,398</td><td>2019</td><td>411010034</td><td>171670</td><td>170930</td><td>2765640</td></tr>\n",
       "    <tr><td class='row_index'>17,106,399</td><td>2019</td><td>411010034</td><td>170930</td><td>170930</td><td>2765640</td></tr>\n",
       "    <tr><td class='row_index'>17,106,400</td><td>2019</td><td>411010034</td><td>171250</td><td>171610</td><td>2755149</td></tr>\n",
       "  </tbody>\n",
       "  </table>\n",
       "  <div class='footer'>\n",
       "    <div class='frame_dimensions'>17,106,401 rows &times; 5 columns</div>\n",
       "  </div>\n",
       "</div>\n"
      ],
      "text/plain": [
       "<Frame#7fc758fb49c0 17106401x5>"
      ]
     },
     "execution_count": 6,
     "metadata": {},
     "output_type": "execute_result"
    }
   ],
   "source": [
    "path_sih = get_path('SIH', 'sih.jay')\n",
    "df_proc = dt.fread(path_sih)\n",
    "df_proc = df_proc[:, cols_proc]\n",
    "df_proc"
   ]
  },
  {
   "cell_type": "markdown",
   "metadata": {},
   "source": [
    "### Tabela agrupada"
   ]
  },
  {
   "cell_type": "code",
   "execution_count": 7,
   "metadata": {},
   "outputs": [
    {
     "data": {
      "text/html": [
       "<div class='datatable'>\n",
       "  <table class='frame'>\n",
       "  <thead>\n",
       "    <tr class='colnames'><td class='row_index'></td><th>ano</th><th>parto_normal</th><th>cod_municipio</th><th>hosp_cod_municipio</th><th>cnes</th><th>count</th></tr>\n",
       "    <tr class='coltypes'><td class='row_index'></td><td class='int' title='int32'>&#x25AA;&#x25AA;&#x25AA;&#x25AA;</td><td class='int' title='int32'>&#x25AA;&#x25AA;&#x25AA;&#x25AA;</td><td class='int' title='int32'>&#x25AA;&#x25AA;&#x25AA;&#x25AA;</td><td class='int' title='int32'>&#x25AA;&#x25AA;&#x25AA;&#x25AA;</td><td class='int' title='int32'>&#x25AA;&#x25AA;&#x25AA;&#x25AA;</td><td class='int' title='int64'>&#x25AA;&#x25AA;&#x25AA;&#x25AA;&#x25AA;&#x25AA;&#x25AA;&#x25AA;</td></tr>\n",
       "  </thead>\n",
       "  <tbody>\n",
       "    <tr><td class='row_index'>0</td><td>2010</td><td>310010039</td><td>110001</td><td>110001</td><td>2679477</td><td>141</td></tr>\n",
       "    <tr><td class='row_index'>1</td><td>2010</td><td>310010039</td><td>110001</td><td>110002</td><td>2494299</td><td>1</td></tr>\n",
       "    <tr><td class='row_index'>2</td><td>2010</td><td>310010039</td><td>110001</td><td>110013</td><td>2808617</td><td>2</td></tr>\n",
       "    <tr><td class='row_index'>3</td><td>2010</td><td>310010039</td><td>110001</td><td>110020</td><td>4001303</td><td>2</td></tr>\n",
       "    <tr><td class='row_index'>4</td><td>2010</td><td>310010039</td><td>110001</td><td>110028</td><td>2495228</td><td>9</td></tr>\n",
       "    <tr><td class='row_index'>5</td><td>2010</td><td>310010039</td><td>110002</td><td>110002</td><td>2494299</td><td>507</td></tr>\n",
       "    <tr><td class='row_index'>6</td><td>2010</td><td>310010039</td><td>110002</td><td>110011</td><td>2808609</td><td>5</td></tr>\n",
       "    <tr><td class='row_index'>7</td><td>2010</td><td>310010039</td><td>110002</td><td>110012</td><td>2495279</td><td>1</td></tr>\n",
       "    <tr><td class='row_index'>8</td><td>2010</td><td>310010039</td><td>110002</td><td>110020</td><td>3970442</td><td>1</td></tr>\n",
       "    <tr><td class='row_index'>9</td><td>2010</td><td>310010039</td><td>110002</td><td>110020</td><td>4001303</td><td>5</td></tr>\n",
       "    <tr><td class='row_index'>10</td><td>2010</td><td>310010039</td><td>110002</td><td>351110</td><td>2089327</td><td>1</td></tr>\n",
       "    <tr><td class='row_index'>11</td><td>2010</td><td>310010039</td><td>110003</td><td>110003</td><td>2808528</td><td>6</td></tr>\n",
       "    <tr><td class='row_index'>12</td><td>2010</td><td>310010039</td><td>110003</td><td>110006</td><td>2808544</td><td>1</td></tr>\n",
       "    <tr><td class='row_index'>13</td><td>2010</td><td>310010039</td><td>110003</td><td>110030</td><td>2798484</td><td>4</td></tr>\n",
       "    <tr><td class='row_index'>14</td><td>2010</td><td>310010039</td><td>110004</td><td>110004</td><td>2496046</td><td>359</td></tr>\n",
       "    <tr><td class='row_index'>&#x22EE;</td><td class='hellipsis'>&#x22EE;</td><td class='hellipsis'>&#x22EE;</td><td class='hellipsis'>&#x22EE;</td><td class='hellipsis'>&#x22EE;</td><td class='hellipsis'>&#x22EE;</td><td class='hellipsis'>&#x22EE;</td></tr>\n",
       "    <tr><td class='row_index'>461,847</td><td>2019</td><td>411010034</td><td>530010</td><td>530010</td><td>10537</td><td>1015</td></tr>\n",
       "    <tr><td class='row_index'>461,848</td><td>2019</td><td>411010034</td><td>530010</td><td>530010</td><td>10545</td><td>323</td></tr>\n",
       "    <tr><td class='row_index'>461,849</td><td>2019</td><td>411010034</td><td>530010</td><td>530010</td><td>2645157</td><td>1162</td></tr>\n",
       "    <tr><td class='row_index'>461,850</td><td>2019</td><td>411010034</td><td>530010</td><td>530010</td><td>2672197</td><td>1087</td></tr>\n",
       "    <tr><td class='row_index'>461,851</td><td>2019</td><td>411010034</td><td>530010</td><td>530010</td><td>5717515</td><td>839</td></tr>\n",
       "  </tbody>\n",
       "  </table>\n",
       "  <div class='footer'>\n",
       "    <div class='frame_dimensions'>461,852 rows &times; 6 columns</div>\n",
       "  </div>\n",
       "</div>\n"
      ],
      "text/plain": [
       "<Frame#7fc758fb4de0 461852x6>"
      ]
     },
     "execution_count": 7,
     "metadata": {},
     "output_type": "execute_result"
    }
   ],
   "source": [
    "df_proc = group_cols(df_proc, cols_proc)\n",
    "df_proc"
   ]
  },
  {
   "cell_type": "markdown",
   "metadata": {},
   "source": [
    "### Atualizando variável parto normal"
   ]
  },
  {
   "cell_type": "code",
   "execution_count": 8,
   "metadata": {},
   "outputs": [
    {
     "data": {
      "text/html": [
       "<div class='datatable'>\n",
       "  <table class='frame'>\n",
       "  <thead>\n",
       "    <tr class='colnames'><td class='row_index'></td><th>ano</th><th>parto_normal</th><th>cod_municipio</th><th>hosp_cod_municipio</th><th>cnes</th><th>count</th></tr>\n",
       "    <tr class='coltypes'><td class='row_index'></td><td class='int' title='int32'>&#x25AA;&#x25AA;&#x25AA;&#x25AA;</td><td class='bool' title='bool8'>&#x25AA;</td><td class='int' title='int32'>&#x25AA;&#x25AA;&#x25AA;&#x25AA;</td><td class='int' title='int32'>&#x25AA;&#x25AA;&#x25AA;&#x25AA;</td><td class='int' title='int32'>&#x25AA;&#x25AA;&#x25AA;&#x25AA;</td><td class='int' title='int64'>&#x25AA;&#x25AA;&#x25AA;&#x25AA;&#x25AA;&#x25AA;&#x25AA;&#x25AA;</td></tr>\n",
       "  </thead>\n",
       "  <tbody>\n",
       "    <tr><td class='row_index'>0</td><td>2010</td><td>1</td><td>110001</td><td>110001</td><td>2679477</td><td>141</td></tr>\n",
       "    <tr><td class='row_index'>1</td><td>2010</td><td>1</td><td>110001</td><td>110002</td><td>2494299</td><td>1</td></tr>\n",
       "    <tr><td class='row_index'>2</td><td>2010</td><td>1</td><td>110001</td><td>110013</td><td>2808617</td><td>2</td></tr>\n",
       "    <tr><td class='row_index'>3</td><td>2010</td><td>1</td><td>110001</td><td>110020</td><td>4001303</td><td>2</td></tr>\n",
       "    <tr><td class='row_index'>4</td><td>2010</td><td>1</td><td>110001</td><td>110028</td><td>2495228</td><td>9</td></tr>\n",
       "    <tr><td class='row_index'>5</td><td>2010</td><td>1</td><td>110002</td><td>110002</td><td>2494299</td><td>507</td></tr>\n",
       "    <tr><td class='row_index'>6</td><td>2010</td><td>1</td><td>110002</td><td>110011</td><td>2808609</td><td>5</td></tr>\n",
       "    <tr><td class='row_index'>7</td><td>2010</td><td>1</td><td>110002</td><td>110012</td><td>2495279</td><td>1</td></tr>\n",
       "    <tr><td class='row_index'>8</td><td>2010</td><td>1</td><td>110002</td><td>110020</td><td>3970442</td><td>1</td></tr>\n",
       "    <tr><td class='row_index'>9</td><td>2010</td><td>1</td><td>110002</td><td>110020</td><td>4001303</td><td>5</td></tr>\n",
       "    <tr><td class='row_index'>10</td><td>2010</td><td>1</td><td>110002</td><td>351110</td><td>2089327</td><td>1</td></tr>\n",
       "    <tr><td class='row_index'>11</td><td>2010</td><td>1</td><td>110003</td><td>110003</td><td>2808528</td><td>6</td></tr>\n",
       "    <tr><td class='row_index'>12</td><td>2010</td><td>1</td><td>110003</td><td>110006</td><td>2808544</td><td>1</td></tr>\n",
       "    <tr><td class='row_index'>13</td><td>2010</td><td>1</td><td>110003</td><td>110030</td><td>2798484</td><td>4</td></tr>\n",
       "    <tr><td class='row_index'>14</td><td>2010</td><td>1</td><td>110004</td><td>110004</td><td>2496046</td><td>359</td></tr>\n",
       "    <tr><td class='row_index'>&#x22EE;</td><td class='hellipsis'>&#x22EE;</td><td class='hellipsis'>&#x22EE;</td><td class='hellipsis'>&#x22EE;</td><td class='hellipsis'>&#x22EE;</td><td class='hellipsis'>&#x22EE;</td><td class='hellipsis'>&#x22EE;</td></tr>\n",
       "    <tr><td class='row_index'>461,847</td><td>2019</td><td>0</td><td>530010</td><td>530010</td><td>10537</td><td>1015</td></tr>\n",
       "    <tr><td class='row_index'>461,848</td><td>2019</td><td>0</td><td>530010</td><td>530010</td><td>10545</td><td>323</td></tr>\n",
       "    <tr><td class='row_index'>461,849</td><td>2019</td><td>0</td><td>530010</td><td>530010</td><td>2645157</td><td>1162</td></tr>\n",
       "    <tr><td class='row_index'>461,850</td><td>2019</td><td>0</td><td>530010</td><td>530010</td><td>2672197</td><td>1087</td></tr>\n",
       "    <tr><td class='row_index'>461,851</td><td>2019</td><td>0</td><td>530010</td><td>530010</td><td>5717515</td><td>839</td></tr>\n",
       "  </tbody>\n",
       "  </table>\n",
       "  <div class='footer'>\n",
       "    <div class='frame_dimensions'>461,852 rows &times; 6 columns</div>\n",
       "  </div>\n",
       "</div>\n"
      ],
      "text/plain": [
       "<Frame#7fc758fb4de0 461852x6>"
      ]
     },
     "execution_count": 8,
     "metadata": {},
     "output_type": "execute_result"
    }
   ],
   "source": [
    "# {310010039: 'normal', 411010034: 'cesariano'}\n",
    "df_proc[:, dt.update(parto_normal = f.parto_normal == 310010039)]\n",
    "df_proc"
   ]
  },
  {
   "cell_type": "markdown",
   "metadata": {},
   "source": [
    "### Ordenando linhas"
   ]
  },
  {
   "cell_type": "code",
   "execution_count": 9,
   "metadata": {},
   "outputs": [
    {
     "data": {
      "text/html": [
       "<div class='datatable'>\n",
       "  <table class='frame'>\n",
       "  <thead>\n",
       "    <tr class='colnames'><td class='row_index'></td><th>ano</th><th>parto_normal</th><th>cod_municipio</th><th>hosp_cod_municipio</th><th>cnes</th><th>count</th></tr>\n",
       "    <tr class='coltypes'><td class='row_index'></td><td class='int' title='int32'>&#x25AA;&#x25AA;&#x25AA;&#x25AA;</td><td class='bool' title='bool8'>&#x25AA;</td><td class='int' title='int32'>&#x25AA;&#x25AA;&#x25AA;&#x25AA;</td><td class='int' title='int32'>&#x25AA;&#x25AA;&#x25AA;&#x25AA;</td><td class='int' title='int32'>&#x25AA;&#x25AA;&#x25AA;&#x25AA;</td><td class='int' title='int64'>&#x25AA;&#x25AA;&#x25AA;&#x25AA;&#x25AA;&#x25AA;&#x25AA;&#x25AA;</td></tr>\n",
       "  </thead>\n",
       "  <tbody>\n",
       "    <tr><td class='row_index'>0</td><td>2010</td><td>0</td><td>110001</td><td>110001</td><td>2679477</td><td>49</td></tr>\n",
       "    <tr><td class='row_index'>1</td><td>2010</td><td>0</td><td>110001</td><td>110012</td><td>2495279</td><td>2</td></tr>\n",
       "    <tr><td class='row_index'>2</td><td>2010</td><td>0</td><td>110001</td><td>110013</td><td>2808617</td><td>1</td></tr>\n",
       "    <tr><td class='row_index'>3</td><td>2010</td><td>0</td><td>110001</td><td>110018</td><td>2496534</td><td>1</td></tr>\n",
       "    <tr><td class='row_index'>4</td><td>2010</td><td>0</td><td>110001</td><td>110028</td><td>2495228</td><td>4</td></tr>\n",
       "    <tr><td class='row_index'>5</td><td>2010</td><td>0</td><td>110001</td><td>351110</td><td>2089327</td><td>1</td></tr>\n",
       "    <tr><td class='row_index'>6</td><td>2010</td><td>0</td><td>110002</td><td>110002</td><td>2494299</td><td>375</td></tr>\n",
       "    <tr><td class='row_index'>7</td><td>2010</td><td>0</td><td>110002</td><td>110011</td><td>2808609</td><td>4</td></tr>\n",
       "    <tr><td class='row_index'>8</td><td>2010</td><td>0</td><td>110002</td><td>110020</td><td>4001303</td><td>1</td></tr>\n",
       "    <tr><td class='row_index'>9</td><td>2010</td><td>0</td><td>110003</td><td>110003</td><td>2808528</td><td>51</td></tr>\n",
       "    <tr><td class='row_index'>10</td><td>2010</td><td>0</td><td>110004</td><td>110004</td><td>2496046</td><td>199</td></tr>\n",
       "    <tr><td class='row_index'>11</td><td>2010</td><td>0</td><td>110004</td><td>110012</td><td>2495279</td><td>2</td></tr>\n",
       "    <tr><td class='row_index'>12</td><td>2010</td><td>0</td><td>110004</td><td>110018</td><td>2496534</td><td>1</td></tr>\n",
       "    <tr><td class='row_index'>13</td><td>2010</td><td>0</td><td>110004</td><td>110020</td><td>4001303</td><td>2</td></tr>\n",
       "    <tr><td class='row_index'>14</td><td>2010</td><td>0</td><td>110004</td><td>110028</td><td>2495228</td><td>2</td></tr>\n",
       "    <tr><td class='row_index'>&#x22EE;</td><td class='hellipsis'>&#x22EE;</td><td class='hellipsis'>&#x22EE;</td><td class='hellipsis'>&#x22EE;</td><td class='hellipsis'>&#x22EE;</td><td class='hellipsis'>&#x22EE;</td><td class='hellipsis'>&#x22EE;</td></tr>\n",
       "    <tr><td class='row_index'>461,847</td><td>2019</td><td>1</td><td>530010</td><td>530010</td><td>10545</td><td>479</td></tr>\n",
       "    <tr><td class='row_index'>461,848</td><td>2019</td><td>1</td><td>530010</td><td>530010</td><td>2645157</td><td>1373</td></tr>\n",
       "    <tr><td class='row_index'>461,849</td><td>2019</td><td>1</td><td>530010</td><td>530010</td><td>2650355</td><td>5</td></tr>\n",
       "    <tr><td class='row_index'>461,850</td><td>2019</td><td>1</td><td>530010</td><td>530010</td><td>2672197</td><td>2483</td></tr>\n",
       "    <tr><td class='row_index'>461,851</td><td>2019</td><td>1</td><td>530010</td><td>530010</td><td>5717515</td><td>1086</td></tr>\n",
       "  </tbody>\n",
       "  </table>\n",
       "  <div class='footer'>\n",
       "    <div class='frame_dimensions'>461,852 rows &times; 6 columns</div>\n",
       "  </div>\n",
       "</div>\n"
      ],
      "text/plain": [
       "<Frame#7fc758fb43f0 461852x6>"
      ]
     },
     "execution_count": 9,
     "metadata": {},
     "output_type": "execute_result"
    }
   ],
   "source": [
    "df_proc = df_proc.sort(\n",
    "  f.ano, f.parto_normal, f.cod_municipio, f.hosp_cod_municipio, f.cnes)\n",
    "df_proc"
   ]
  },
  {
   "cell_type": "markdown",
   "metadata": {},
   "source": [
    "# Gerando tabela"
   ]
  },
  {
   "cell_type": "markdown",
   "metadata": {},
   "source": [
    "## Colunas origem & destino"
   ]
  },
  {
   "cell_type": "code",
   "execution_count": 10,
   "metadata": {},
   "outputs": [],
   "source": [
    "def add_info_cols(df, cols, ref):\n",
    "  df_codes = df[:, cols]\n",
    "  col_key = cols[0]\n",
    "  if ref == 'destino':\n",
    "    col_key = 'hosp_' + col_key\n",
    "    df_codes.names = {cols[0]: col_key}\n",
    "  df_codes.names = {c: f'{ref}_{c}' for c in cols[2:]}\n",
    "  df_codes.names = {cols[1]: ref}\n",
    "  df_codes.key = col_key\n",
    "  return df_codes"
   ]
  },
  {
   "cell_type": "code",
   "execution_count": 11,
   "metadata": {},
   "outputs": [
    {
     "data": {
      "text/html": [
       "<div class='datatable'>\n",
       "  <table class='frame'>\n",
       "  <thead>\n",
       "    <tr class='colnames'><td class='row_index'></td><th>ano</th><th>parto_normal</th><th>cod_municipio</th><th>hosp_cod_municipio</th><th>cnes</th><th>count</th><th>origem</th><th>origem_socioecon</th><th>origem_capital</th><th>origem_latitude</th><th class='vellipsis'>&hellip;</th><th>destino</th><th>destino_socioecon</th><th>destino_capital</th><th>destino_latitude</th><th>destino_longitude</th></tr>\n",
       "    <tr class='coltypes'><td class='row_index'></td><td class='int' title='int32'>&#x25AA;&#x25AA;&#x25AA;&#x25AA;</td><td class='bool' title='bool8'>&#x25AA;</td><td class='int' title='int32'>&#x25AA;&#x25AA;&#x25AA;&#x25AA;</td><td class='int' title='int32'>&#x25AA;&#x25AA;&#x25AA;&#x25AA;</td><td class='int' title='int32'>&#x25AA;&#x25AA;&#x25AA;&#x25AA;</td><td class='int' title='int64'>&#x25AA;&#x25AA;&#x25AA;&#x25AA;&#x25AA;&#x25AA;&#x25AA;&#x25AA;</td><td class='str' title='str32'>&#x25AA;&#x25AA;&#x25AA;&#x25AA;</td><td class='int' title='int32'>&#x25AA;&#x25AA;&#x25AA;&#x25AA;</td><td class='bool' title='bool8'>&#x25AA;</td><td class='float' title='float64'>&#x25AA;&#x25AA;&#x25AA;&#x25AA;&#x25AA;&#x25AA;&#x25AA;&#x25AA;</td><td></td><td class='str' title='str32'>&#x25AA;&#x25AA;&#x25AA;&#x25AA;</td><td class='int' title='int32'>&#x25AA;&#x25AA;&#x25AA;&#x25AA;</td><td class='bool' title='bool8'>&#x25AA;</td><td class='float' title='float64'>&#x25AA;&#x25AA;&#x25AA;&#x25AA;&#x25AA;&#x25AA;&#x25AA;&#x25AA;</td><td class='float' title='float64'>&#x25AA;&#x25AA;&#x25AA;&#x25AA;&#x25AA;&#x25AA;&#x25AA;&#x25AA;</td></tr>\n",
       "  </thead>\n",
       "  <tbody>\n",
       "    <tr><td class='row_index'>0</td><td>2010</td><td>0</td><td>110001</td><td>110001</td><td>2679477</td><td>49</td><td>NT/RO/11005/110001</td><td>1</td><td>0</td><td>&minus;11.9283</td><td class=vellipsis>&hellip;</td><td>NT/RO/11005/110001</td><td>1</td><td>0</td><td>&minus;11.9283</td><td>&minus;61.9953</td></tr>\n",
       "    <tr><td class='row_index'>1</td><td>2010</td><td>0</td><td>110001</td><td>110012</td><td>2495279</td><td>2</td><td>NT/RO/11005/110001</td><td>1</td><td>0</td><td>&minus;11.9283</td><td class=vellipsis>&hellip;</td><td>NT/RO/11003/110012</td><td>2</td><td>0</td><td>&minus;10.8777</td><td>&minus;61.9322</td></tr>\n",
       "    <tr><td class='row_index'>2</td><td>2010</td><td>0</td><td>110001</td><td>110013</td><td>2808617</td><td>1</td><td>NT/RO/11005/110001</td><td>1</td><td>0</td><td>&minus;11.9283</td><td class=vellipsis>&hellip;</td><td>NT/RO/11001/110013</td><td>1</td><td>0</td><td>&minus;9.44363</td><td>&minus;61.9818</td></tr>\n",
       "    <tr><td class='row_index'>3</td><td>2010</td><td>0</td><td>110001</td><td>110018</td><td>2496534</td><td>1</td><td>NT/RO/11005/110001</td><td>1</td><td>0</td><td>&minus;11.9283</td><td class=vellipsis>&hellip;</td><td>NT/RO/11002/110018</td><td>3</td><td>0</td><td>&minus;11.672</td><td>&minus;61.198</td></tr>\n",
       "    <tr><td class='row_index'>4</td><td>2010</td><td>0</td><td>110001</td><td>110028</td><td>2495228</td><td>4</td><td>NT/RO/11005/110001</td><td>1</td><td>0</td><td>&minus;11.9283</td><td class=vellipsis>&hellip;</td><td>NT/RO/11005/110028</td><td>1</td><td>0</td><td>&minus;11.7271</td><td>&minus;61.7714</td></tr>\n",
       "    <tr><td class='row_index'>5</td><td>2010</td><td>0</td><td>110001</td><td>351110</td><td>2089327</td><td>1</td><td>NT/RO/11005/110001</td><td>1</td><td>0</td><td>&minus;11.9283</td><td class=vellipsis>&hellip;</td><td>SD/SP/35151/351110</td><td>3</td><td>0</td><td>&minus;21.1314</td><td>&minus;48.977</td></tr>\n",
       "    <tr><td class='row_index'>6</td><td>2010</td><td>0</td><td>110002</td><td>110002</td><td>2494299</td><td>375</td><td>NT/RO/11001/110002</td><td>1</td><td>0</td><td>&minus;9.90571</td><td class=vellipsis>&hellip;</td><td>NT/RO/11001/110002</td><td>1</td><td>0</td><td>&minus;9.90571</td><td>&minus;63.0325</td></tr>\n",
       "    <tr><td class='row_index'>7</td><td>2010</td><td>0</td><td>110002</td><td>110011</td><td>2808609</td><td>4</td><td>NT/RO/11001/110002</td><td>1</td><td>0</td><td>&minus;9.90571</td><td class=vellipsis>&hellip;</td><td>NT/RO/11003/110011</td><td>2</td><td>0</td><td>&minus;10.4318</td><td>&minus;62.4788</td></tr>\n",
       "    <tr><td class='row_index'>8</td><td>2010</td><td>0</td><td>110002</td><td>110020</td><td>4001303</td><td>1</td><td>NT/RO/11001/110002</td><td>1</td><td>0</td><td>&minus;9.90571</td><td class=vellipsis>&hellip;</td><td>NT/RO/11004/110020</td><td>3</td><td>1</td><td>&minus;8.76077</td><td>&minus;63.8999</td></tr>\n",
       "    <tr><td class='row_index'>9</td><td>2010</td><td>0</td><td>110003</td><td>110003</td><td>2808528</td><td>51</td><td>NT/RO/11006/110003</td><td>2</td><td>0</td><td>&minus;13.4945</td><td class=vellipsis>&hellip;</td><td>NT/RO/11006/110003</td><td>2</td><td>0</td><td>&minus;13.4945</td><td>&minus;60.552</td></tr>\n",
       "    <tr><td class='row_index'>10</td><td>2010</td><td>0</td><td>110004</td><td>110004</td><td>2496046</td><td>199</td><td>NT/RO/11002/110004</td><td>3</td><td>0</td><td>&minus;11.4343</td><td class=vellipsis>&hellip;</td><td>NT/RO/11002/110004</td><td>3</td><td>0</td><td>&minus;11.4343</td><td>&minus;61.4562</td></tr>\n",
       "    <tr><td class='row_index'>11</td><td>2010</td><td>0</td><td>110004</td><td>110012</td><td>2495279</td><td>2</td><td>NT/RO/11002/110004</td><td>3</td><td>0</td><td>&minus;11.4343</td><td class=vellipsis>&hellip;</td><td>NT/RO/11003/110012</td><td>2</td><td>0</td><td>&minus;10.8777</td><td>&minus;61.9322</td></tr>\n",
       "    <tr><td class='row_index'>12</td><td>2010</td><td>0</td><td>110004</td><td>110018</td><td>2496534</td><td>1</td><td>NT/RO/11002/110004</td><td>3</td><td>0</td><td>&minus;11.4343</td><td class=vellipsis>&hellip;</td><td>NT/RO/11002/110018</td><td>3</td><td>0</td><td>&minus;11.672</td><td>&minus;61.198</td></tr>\n",
       "    <tr><td class='row_index'>13</td><td>2010</td><td>0</td><td>110004</td><td>110020</td><td>4001303</td><td>2</td><td>NT/RO/11002/110004</td><td>3</td><td>0</td><td>&minus;11.4343</td><td class=vellipsis>&hellip;</td><td>NT/RO/11004/110020</td><td>3</td><td>1</td><td>&minus;8.76077</td><td>&minus;63.8999</td></tr>\n",
       "    <tr><td class='row_index'>14</td><td>2010</td><td>0</td><td>110004</td><td>110028</td><td>2495228</td><td>2</td><td>NT/RO/11002/110004</td><td>3</td><td>0</td><td>&minus;11.4343</td><td class=vellipsis>&hellip;</td><td>NT/RO/11005/110028</td><td>1</td><td>0</td><td>&minus;11.7271</td><td>&minus;61.7714</td></tr>\n",
       "    <tr><td class='row_index'>&#x22EE;</td><td class='hellipsis'>&#x22EE;</td><td class='hellipsis'>&#x22EE;</td><td class='hellipsis'>&#x22EE;</td><td class='hellipsis'>&#x22EE;</td><td class='hellipsis'>&#x22EE;</td><td class='hellipsis'>&#x22EE;</td><td class='hellipsis'>&#x22EE;</td><td class='hellipsis'>&#x22EE;</td><td class='hellipsis'>&#x22EE;</td><td class='hellipsis'>&#x22EE;</td><td class='hellipsis'>&#x22F1;</td><td class='hellipsis'>&#x22EE;</td><td class='hellipsis'>&#x22EE;</td><td class='hellipsis'>&#x22EE;</td><td class='hellipsis'>&#x22EE;</td><td class='hellipsis'>&#x22EE;</td></tr>\n",
       "    <tr><td class='row_index'>461,847</td><td>2019</td><td>1</td><td>530010</td><td>530010</td><td>10545</td><td>479</td><td>CO/DF/53001/530010</td><td>5</td><td>1</td><td>&minus;15.7795</td><td class=vellipsis>&hellip;</td><td>CO/DF/53001/530010</td><td>5</td><td>1</td><td>&minus;15.7795</td><td>&minus;47.9297</td></tr>\n",
       "    <tr><td class='row_index'>461,848</td><td>2019</td><td>1</td><td>530010</td><td>530010</td><td>2645157</td><td>1373</td><td>CO/DF/53001/530010</td><td>5</td><td>1</td><td>&minus;15.7795</td><td class=vellipsis>&hellip;</td><td>CO/DF/53001/530010</td><td>5</td><td>1</td><td>&minus;15.7795</td><td>&minus;47.9297</td></tr>\n",
       "    <tr><td class='row_index'>461,849</td><td>2019</td><td>1</td><td>530010</td><td>530010</td><td>2650355</td><td>5</td><td>CO/DF/53001/530010</td><td>5</td><td>1</td><td>&minus;15.7795</td><td class=vellipsis>&hellip;</td><td>CO/DF/53001/530010</td><td>5</td><td>1</td><td>&minus;15.7795</td><td>&minus;47.9297</td></tr>\n",
       "    <tr><td class='row_index'>461,850</td><td>2019</td><td>1</td><td>530010</td><td>530010</td><td>2672197</td><td>2483</td><td>CO/DF/53001/530010</td><td>5</td><td>1</td><td>&minus;15.7795</td><td class=vellipsis>&hellip;</td><td>CO/DF/53001/530010</td><td>5</td><td>1</td><td>&minus;15.7795</td><td>&minus;47.9297</td></tr>\n",
       "    <tr><td class='row_index'>461,851</td><td>2019</td><td>1</td><td>530010</td><td>530010</td><td>5717515</td><td>1086</td><td>CO/DF/53001/530010</td><td>5</td><td>1</td><td>&minus;15.7795</td><td class=vellipsis>&hellip;</td><td>CO/DF/53001/530010</td><td>5</td><td>1</td><td>&minus;15.7795</td><td>&minus;47.9297</td></tr>\n",
       "  </tbody>\n",
       "  </table>\n",
       "  <div class='footer'>\n",
       "    <div class='frame_dimensions'>461,852 rows &times; 16 columns</div>\n",
       "  </div>\n",
       "</div>\n"
      ],
      "text/plain": [
       "<Frame#7fc758fb4f90 461852x16>"
      ]
     },
     "execution_count": 11,
     "metadata": {},
     "output_type": "execute_result"
    }
   ],
   "source": [
    "cols = ['cod_municipio', 'codigo', 'socioecon', 'capital', 'latitude', 'longitude']\n",
    "df_origem = add_info_cols(df_locs, cols, 'origem')\n",
    "df_destino = add_info_cols(df_locs, cols, 'destino')\n",
    "df_proc = df_proc[:, :, dt.join(df_origem)]\n",
    "df_proc = df_proc[:, :, dt.join(df_destino)]\n",
    "df_proc"
   ]
  },
  {
   "cell_type": "markdown",
   "metadata": {},
   "source": [
    "## CNES concatenado ao destino"
   ]
  },
  {
   "cell_type": "code",
   "execution_count": 12,
   "metadata": {},
   "outputs": [
    {
     "data": {
      "text/html": [
       "<div class='datatable'>\n",
       "  <table class='frame'>\n",
       "  <thead>\n",
       "    <tr class='colnames'><td class='row_index'></td><th>ano</th><th>parto_normal</th><th>cod_municipio</th><th>hosp_cod_municipio</th><th>cnes</th><th>count</th><th>origem</th><th>origem_socioecon</th><th>origem_capital</th><th>origem_latitude</th><th class='vellipsis'>&hellip;</th><th>destino</th><th>destino_socioecon</th><th>destino_capital</th><th>destino_latitude</th><th>destino_longitude</th></tr>\n",
       "    <tr class='coltypes'><td class='row_index'></td><td class='int' title='int32'>&#x25AA;&#x25AA;&#x25AA;&#x25AA;</td><td class='bool' title='bool8'>&#x25AA;</td><td class='int' title='int32'>&#x25AA;&#x25AA;&#x25AA;&#x25AA;</td><td class='int' title='int32'>&#x25AA;&#x25AA;&#x25AA;&#x25AA;</td><td class='str' title='str32'>&#x25AA;&#x25AA;&#x25AA;&#x25AA;</td><td class='int' title='int64'>&#x25AA;&#x25AA;&#x25AA;&#x25AA;&#x25AA;&#x25AA;&#x25AA;&#x25AA;</td><td class='str' title='str32'>&#x25AA;&#x25AA;&#x25AA;&#x25AA;</td><td class='int' title='int32'>&#x25AA;&#x25AA;&#x25AA;&#x25AA;</td><td class='bool' title='bool8'>&#x25AA;</td><td class='float' title='float64'>&#x25AA;&#x25AA;&#x25AA;&#x25AA;&#x25AA;&#x25AA;&#x25AA;&#x25AA;</td><td></td><td class='str' title='str32'>&#x25AA;&#x25AA;&#x25AA;&#x25AA;</td><td class='int' title='int32'>&#x25AA;&#x25AA;&#x25AA;&#x25AA;</td><td class='bool' title='bool8'>&#x25AA;</td><td class='float' title='float64'>&#x25AA;&#x25AA;&#x25AA;&#x25AA;&#x25AA;&#x25AA;&#x25AA;&#x25AA;</td><td class='float' title='float64'>&#x25AA;&#x25AA;&#x25AA;&#x25AA;&#x25AA;&#x25AA;&#x25AA;&#x25AA;</td></tr>\n",
       "  </thead>\n",
       "  <tbody>\n",
       "    <tr><td class='row_index'>0</td><td>2010</td><td>0</td><td>110001</td><td>110001</td><td>2679477</td><td>49</td><td>NT/RO/11005/110001</td><td>1</td><td>0</td><td>&minus;11.9283</td><td class=vellipsis>&hellip;</td><td>NT/RO/11005/110001/2679477</td><td>1</td><td>0</td><td>&minus;11.9283</td><td>&minus;61.9953</td></tr>\n",
       "    <tr><td class='row_index'>1</td><td>2010</td><td>0</td><td>110001</td><td>110012</td><td>2495279</td><td>2</td><td>NT/RO/11005/110001</td><td>1</td><td>0</td><td>&minus;11.9283</td><td class=vellipsis>&hellip;</td><td>NT/RO/11003/110012/2495279</td><td>2</td><td>0</td><td>&minus;10.8777</td><td>&minus;61.9322</td></tr>\n",
       "    <tr><td class='row_index'>2</td><td>2010</td><td>0</td><td>110001</td><td>110013</td><td>2808617</td><td>1</td><td>NT/RO/11005/110001</td><td>1</td><td>0</td><td>&minus;11.9283</td><td class=vellipsis>&hellip;</td><td>NT/RO/11001/110013/2808617</td><td>1</td><td>0</td><td>&minus;9.44363</td><td>&minus;61.9818</td></tr>\n",
       "    <tr><td class='row_index'>3</td><td>2010</td><td>0</td><td>110001</td><td>110018</td><td>2496534</td><td>1</td><td>NT/RO/11005/110001</td><td>1</td><td>0</td><td>&minus;11.9283</td><td class=vellipsis>&hellip;</td><td>NT/RO/11002/110018/2496534</td><td>3</td><td>0</td><td>&minus;11.672</td><td>&minus;61.198</td></tr>\n",
       "    <tr><td class='row_index'>4</td><td>2010</td><td>0</td><td>110001</td><td>110028</td><td>2495228</td><td>4</td><td>NT/RO/11005/110001</td><td>1</td><td>0</td><td>&minus;11.9283</td><td class=vellipsis>&hellip;</td><td>NT/RO/11005/110028/2495228</td><td>1</td><td>0</td><td>&minus;11.7271</td><td>&minus;61.7714</td></tr>\n",
       "    <tr><td class='row_index'>5</td><td>2010</td><td>0</td><td>110001</td><td>351110</td><td>2089327</td><td>1</td><td>NT/RO/11005/110001</td><td>1</td><td>0</td><td>&minus;11.9283</td><td class=vellipsis>&hellip;</td><td>SD/SP/35151/351110/2089327</td><td>3</td><td>0</td><td>&minus;21.1314</td><td>&minus;48.977</td></tr>\n",
       "    <tr><td class='row_index'>6</td><td>2010</td><td>0</td><td>110002</td><td>110002</td><td>2494299</td><td>375</td><td>NT/RO/11001/110002</td><td>1</td><td>0</td><td>&minus;9.90571</td><td class=vellipsis>&hellip;</td><td>NT/RO/11001/110002/2494299</td><td>1</td><td>0</td><td>&minus;9.90571</td><td>&minus;63.0325</td></tr>\n",
       "    <tr><td class='row_index'>7</td><td>2010</td><td>0</td><td>110002</td><td>110011</td><td>2808609</td><td>4</td><td>NT/RO/11001/110002</td><td>1</td><td>0</td><td>&minus;9.90571</td><td class=vellipsis>&hellip;</td><td>NT/RO/11003/110011/2808609</td><td>2</td><td>0</td><td>&minus;10.4318</td><td>&minus;62.4788</td></tr>\n",
       "    <tr><td class='row_index'>8</td><td>2010</td><td>0</td><td>110002</td><td>110020</td><td>4001303</td><td>1</td><td>NT/RO/11001/110002</td><td>1</td><td>0</td><td>&minus;9.90571</td><td class=vellipsis>&hellip;</td><td>NT/RO/11004/110020/4001303</td><td>3</td><td>1</td><td>&minus;8.76077</td><td>&minus;63.8999</td></tr>\n",
       "    <tr><td class='row_index'>9</td><td>2010</td><td>0</td><td>110003</td><td>110003</td><td>2808528</td><td>51</td><td>NT/RO/11006/110003</td><td>2</td><td>0</td><td>&minus;13.4945</td><td class=vellipsis>&hellip;</td><td>NT/RO/11006/110003/2808528</td><td>2</td><td>0</td><td>&minus;13.4945</td><td>&minus;60.552</td></tr>\n",
       "    <tr><td class='row_index'>10</td><td>2010</td><td>0</td><td>110004</td><td>110004</td><td>2496046</td><td>199</td><td>NT/RO/11002/110004</td><td>3</td><td>0</td><td>&minus;11.4343</td><td class=vellipsis>&hellip;</td><td>NT/RO/11002/110004/2496046</td><td>3</td><td>0</td><td>&minus;11.4343</td><td>&minus;61.4562</td></tr>\n",
       "    <tr><td class='row_index'>11</td><td>2010</td><td>0</td><td>110004</td><td>110012</td><td>2495279</td><td>2</td><td>NT/RO/11002/110004</td><td>3</td><td>0</td><td>&minus;11.4343</td><td class=vellipsis>&hellip;</td><td>NT/RO/11003/110012/2495279</td><td>2</td><td>0</td><td>&minus;10.8777</td><td>&minus;61.9322</td></tr>\n",
       "    <tr><td class='row_index'>12</td><td>2010</td><td>0</td><td>110004</td><td>110018</td><td>2496534</td><td>1</td><td>NT/RO/11002/110004</td><td>3</td><td>0</td><td>&minus;11.4343</td><td class=vellipsis>&hellip;</td><td>NT/RO/11002/110018/2496534</td><td>3</td><td>0</td><td>&minus;11.672</td><td>&minus;61.198</td></tr>\n",
       "    <tr><td class='row_index'>13</td><td>2010</td><td>0</td><td>110004</td><td>110020</td><td>4001303</td><td>2</td><td>NT/RO/11002/110004</td><td>3</td><td>0</td><td>&minus;11.4343</td><td class=vellipsis>&hellip;</td><td>NT/RO/11004/110020/4001303</td><td>3</td><td>1</td><td>&minus;8.76077</td><td>&minus;63.8999</td></tr>\n",
       "    <tr><td class='row_index'>14</td><td>2010</td><td>0</td><td>110004</td><td>110028</td><td>2495228</td><td>2</td><td>NT/RO/11002/110004</td><td>3</td><td>0</td><td>&minus;11.4343</td><td class=vellipsis>&hellip;</td><td>NT/RO/11005/110028/2495228</td><td>1</td><td>0</td><td>&minus;11.7271</td><td>&minus;61.7714</td></tr>\n",
       "    <tr><td class='row_index'>&#x22EE;</td><td class='hellipsis'>&#x22EE;</td><td class='hellipsis'>&#x22EE;</td><td class='hellipsis'>&#x22EE;</td><td class='hellipsis'>&#x22EE;</td><td class='hellipsis'>&#x22EE;</td><td class='hellipsis'>&#x22EE;</td><td class='hellipsis'>&#x22EE;</td><td class='hellipsis'>&#x22EE;</td><td class='hellipsis'>&#x22EE;</td><td class='hellipsis'>&#x22EE;</td><td class='hellipsis'>&#x22F1;</td><td class='hellipsis'>&#x22EE;</td><td class='hellipsis'>&#x22EE;</td><td class='hellipsis'>&#x22EE;</td><td class='hellipsis'>&#x22EE;</td><td class='hellipsis'>&#x22EE;</td></tr>\n",
       "    <tr><td class='row_index'>461,847</td><td>2019</td><td>1</td><td>530010</td><td>530010</td><td>0010545</td><td>479</td><td>CO/DF/53001/530010</td><td>5</td><td>1</td><td>&minus;15.7795</td><td class=vellipsis>&hellip;</td><td>CO/DF/53001/530010/0010545</td><td>5</td><td>1</td><td>&minus;15.7795</td><td>&minus;47.9297</td></tr>\n",
       "    <tr><td class='row_index'>461,848</td><td>2019</td><td>1</td><td>530010</td><td>530010</td><td>2645157</td><td>1373</td><td>CO/DF/53001/530010</td><td>5</td><td>1</td><td>&minus;15.7795</td><td class=vellipsis>&hellip;</td><td>CO/DF/53001/530010/2645157</td><td>5</td><td>1</td><td>&minus;15.7795</td><td>&minus;47.9297</td></tr>\n",
       "    <tr><td class='row_index'>461,849</td><td>2019</td><td>1</td><td>530010</td><td>530010</td><td>2650355</td><td>5</td><td>CO/DF/53001/530010</td><td>5</td><td>1</td><td>&minus;15.7795</td><td class=vellipsis>&hellip;</td><td>CO/DF/53001/530010/2650355</td><td>5</td><td>1</td><td>&minus;15.7795</td><td>&minus;47.9297</td></tr>\n",
       "    <tr><td class='row_index'>461,850</td><td>2019</td><td>1</td><td>530010</td><td>530010</td><td>2672197</td><td>2483</td><td>CO/DF/53001/530010</td><td>5</td><td>1</td><td>&minus;15.7795</td><td class=vellipsis>&hellip;</td><td>CO/DF/53001/530010/2672197</td><td>5</td><td>1</td><td>&minus;15.7795</td><td>&minus;47.9297</td></tr>\n",
       "    <tr><td class='row_index'>461,851</td><td>2019</td><td>1</td><td>530010</td><td>530010</td><td>5717515</td><td>1086</td><td>CO/DF/53001/530010</td><td>5</td><td>1</td><td>&minus;15.7795</td><td class=vellipsis>&hellip;</td><td>CO/DF/53001/530010/5717515</td><td>5</td><td>1</td><td>&minus;15.7795</td><td>&minus;47.9297</td></tr>\n",
       "  </tbody>\n",
       "  </table>\n",
       "  <div class='footer'>\n",
       "    <div class='frame_dimensions'>461,852 rows &times; 16 columns</div>\n",
       "  </div>\n",
       "</div>\n"
      ],
      "text/plain": [
       "<Frame#7fc758fb4f90 461852x16>"
      ]
     },
     "execution_count": 12,
     "metadata": {},
     "output_type": "execute_result"
    }
   ],
   "source": [
    "df_proc['cnes'] = df_proc[:, as_type(f.cnes, str)]\n",
    "df_proc[:, dt.update(cnes= ('0000000' + f.cnes)[-7:])]\n",
    "df_proc[:, dt.update(destino=f.destino + '/' + f.cnes)]\n",
    "df_proc"
   ]
  },
  {
   "cell_type": "markdown",
   "metadata": {},
   "source": [
    "## Colunas de distância e tempo"
   ]
  },
  {
   "cell_type": "code",
   "execution_count": 13,
   "metadata": {},
   "outputs": [
    {
     "data": {
      "text/html": [
       "<div class='datatable'>\n",
       "  <table class='frame'>\n",
       "  <thead>\n",
       "    <tr class='colnames'><td class='row_index'></td><th>ano</th><th>parto_normal</th><th>cod_municipio</th><th>hosp_cod_municipio</th><th>cnes</th><th>count</th><th>origem</th><th>origem_socioecon</th><th>origem_capital</th><th>origem_latitude</th><th class='vellipsis'>&hellip;</th><th>destino_capital</th><th>destino_latitude</th><th>destino_longitude</th><th>distancia (km)</th><th>tempo (min)</th></tr>\n",
       "    <tr class='coltypes'><td class='row_index'></td><td class='int' title='int32'>&#x25AA;&#x25AA;&#x25AA;&#x25AA;</td><td class='bool' title='bool8'>&#x25AA;</td><td class='int' title='int32'>&#x25AA;&#x25AA;&#x25AA;&#x25AA;</td><td class='int' title='int32'>&#x25AA;&#x25AA;&#x25AA;&#x25AA;</td><td class='str' title='str32'>&#x25AA;&#x25AA;&#x25AA;&#x25AA;</td><td class='int' title='int64'>&#x25AA;&#x25AA;&#x25AA;&#x25AA;&#x25AA;&#x25AA;&#x25AA;&#x25AA;</td><td class='str' title='str32'>&#x25AA;&#x25AA;&#x25AA;&#x25AA;</td><td class='int' title='int32'>&#x25AA;&#x25AA;&#x25AA;&#x25AA;</td><td class='bool' title='bool8'>&#x25AA;</td><td class='float' title='float64'>&#x25AA;&#x25AA;&#x25AA;&#x25AA;&#x25AA;&#x25AA;&#x25AA;&#x25AA;</td><td></td><td class='bool' title='bool8'>&#x25AA;</td><td class='float' title='float64'>&#x25AA;&#x25AA;&#x25AA;&#x25AA;&#x25AA;&#x25AA;&#x25AA;&#x25AA;</td><td class='float' title='float64'>&#x25AA;&#x25AA;&#x25AA;&#x25AA;&#x25AA;&#x25AA;&#x25AA;&#x25AA;</td><td class='float' title='float64'>&#x25AA;&#x25AA;&#x25AA;&#x25AA;&#x25AA;&#x25AA;&#x25AA;&#x25AA;</td><td class='float' title='float64'>&#x25AA;&#x25AA;&#x25AA;&#x25AA;&#x25AA;&#x25AA;&#x25AA;&#x25AA;</td></tr>\n",
       "  </thead>\n",
       "  <tbody>\n",
       "    <tr><td class='row_index'>0</td><td>2010</td><td>0</td><td>110001</td><td>110001</td><td>2679477</td><td>49</td><td>NT/RO/11005/110001</td><td>1</td><td>0</td><td>&minus;11.9283</td><td class=vellipsis>&hellip;</td><td>0</td><td>&minus;11.9283</td><td>&minus;61.9953</td><td>0</td><td>0</td></tr>\n",
       "    <tr><td class='row_index'>1</td><td>2010</td><td>0</td><td>110001</td><td>110012</td><td>2495279</td><td>2</td><td>NT/RO/11005/110001</td><td>1</td><td>0</td><td>&minus;11.9283</td><td class=vellipsis>&hellip;</td><td>0</td><td>&minus;10.8777</td><td>&minus;61.9322</td><td>130.77</td><td>152.868</td></tr>\n",
       "    <tr><td class='row_index'>2</td><td>2010</td><td>0</td><td>110001</td><td>110013</td><td>2808617</td><td>1</td><td>NT/RO/11005/110001</td><td>1</td><td>0</td><td>&minus;11.9283</td><td class=vellipsis>&hellip;</td><td>0</td><td>&minus;9.44363</td><td>&minus;61.9818</td><td>357.511</td><td>427.84</td></tr>\n",
       "    <tr><td class='row_index'>3</td><td>2010</td><td>0</td><td>110001</td><td>110018</td><td>2496534</td><td>1</td><td>NT/RO/11005/110001</td><td>1</td><td>0</td><td>&minus;11.9283</td><td class=vellipsis>&hellip;</td><td>0</td><td>&minus;11.672</td><td>&minus;61.198</td><td>114.061</td><td>112.283</td></tr>\n",
       "    <tr><td class='row_index'>4</td><td>2010</td><td>0</td><td>110001</td><td>110028</td><td>2495228</td><td>4</td><td>NT/RO/11005/110001</td><td>1</td><td>0</td><td>&minus;11.9283</td><td class=vellipsis>&hellip;</td><td>0</td><td>&minus;11.7271</td><td>&minus;61.7714</td><td>48.6099</td><td>50.14</td></tr>\n",
       "    <tr><td class='row_index'>5</td><td>2010</td><td>0</td><td>110001</td><td>351110</td><td>2089327</td><td>1</td><td>NT/RO/11005/110001</td><td>1</td><td>0</td><td>&minus;11.9283</td><td class=vellipsis>&hellip;</td><td>0</td><td>&minus;21.1314</td><td>&minus;48.977</td><td>2196.35</td><td>1852.41</td></tr>\n",
       "    <tr><td class='row_index'>6</td><td>2010</td><td>0</td><td>110002</td><td>110002</td><td>2494299</td><td>375</td><td>NT/RO/11001/110002</td><td>1</td><td>0</td><td>&minus;9.90571</td><td class=vellipsis>&hellip;</td><td>0</td><td>&minus;9.90571</td><td>&minus;63.0325</td><td>0</td><td>0</td></tr>\n",
       "    <tr><td class='row_index'>7</td><td>2010</td><td>0</td><td>110002</td><td>110011</td><td>2808609</td><td>4</td><td>NT/RO/11001/110002</td><td>1</td><td>0</td><td>&minus;9.90571</td><td class=vellipsis>&hellip;</td><td>0</td><td>&minus;10.4318</td><td>&minus;62.4788</td><td>95.4727</td><td>140.33</td></tr>\n",
       "    <tr><td class='row_index'>8</td><td>2010</td><td>0</td><td>110002</td><td>110020</td><td>4001303</td><td>1</td><td>NT/RO/11001/110002</td><td>1</td><td>0</td><td>&minus;9.90571</td><td class=vellipsis>&hellip;</td><td>1</td><td>&minus;8.76077</td><td>&minus;63.8999</td><td>203.582</td><td>188.315</td></tr>\n",
       "    <tr><td class='row_index'>9</td><td>2010</td><td>0</td><td>110003</td><td>110003</td><td>2808528</td><td>51</td><td>NT/RO/11006/110003</td><td>2</td><td>0</td><td>&minus;13.4945</td><td class=vellipsis>&hellip;</td><td>0</td><td>&minus;13.4945</td><td>&minus;60.552</td><td>0</td><td>0</td></tr>\n",
       "    <tr><td class='row_index'>10</td><td>2010</td><td>0</td><td>110004</td><td>110004</td><td>2496046</td><td>199</td><td>NT/RO/11002/110004</td><td>3</td><td>0</td><td>&minus;11.4343</td><td class=vellipsis>&hellip;</td><td>0</td><td>&minus;11.4343</td><td>&minus;61.4562</td><td>0</td><td>0</td></tr>\n",
       "    <tr><td class='row_index'>11</td><td>2010</td><td>0</td><td>110004</td><td>110012</td><td>2495279</td><td>2</td><td>NT/RO/11002/110004</td><td>3</td><td>0</td><td>&minus;11.4343</td><td class=vellipsis>&hellip;</td><td>0</td><td>&minus;10.8777</td><td>&minus;61.9322</td><td>104.964</td><td>100.03</td></tr>\n",
       "    <tr><td class='row_index'>12</td><td>2010</td><td>0</td><td>110004</td><td>110018</td><td>2496534</td><td>1</td><td>NT/RO/11002/110004</td><td>3</td><td>0</td><td>&minus;11.4343</td><td class=vellipsis>&hellip;</td><td>0</td><td>&minus;11.672</td><td>&minus;61.198</td><td>41.4266</td><td>40.3333</td></tr>\n",
       "    <tr><td class='row_index'>13</td><td>2010</td><td>0</td><td>110004</td><td>110020</td><td>4001303</td><td>2</td><td>NT/RO/11002/110004</td><td>3</td><td>0</td><td>&minus;11.4343</td><td class=vellipsis>&hellip;</td><td>1</td><td>&minus;8.76077</td><td>&minus;63.8999</td><td>480.05</td><td>497.07</td></tr>\n",
       "    <tr><td class='row_index'>14</td><td>2010</td><td>0</td><td>110004</td><td>110028</td><td>2495228</td><td>2</td><td>NT/RO/11002/110004</td><td>3</td><td>0</td><td>&minus;11.4343</td><td class=vellipsis>&hellip;</td><td>0</td><td>&minus;11.7271</td><td>&minus;61.7714</td><td>47.7899</td><td>66.3017</td></tr>\n",
       "    <tr><td class='row_index'>&#x22EE;</td><td class='hellipsis'>&#x22EE;</td><td class='hellipsis'>&#x22EE;</td><td class='hellipsis'>&#x22EE;</td><td class='hellipsis'>&#x22EE;</td><td class='hellipsis'>&#x22EE;</td><td class='hellipsis'>&#x22EE;</td><td class='hellipsis'>&#x22EE;</td><td class='hellipsis'>&#x22EE;</td><td class='hellipsis'>&#x22EE;</td><td class='hellipsis'>&#x22EE;</td><td class='hellipsis'>&#x22F1;</td><td class='hellipsis'>&#x22EE;</td><td class='hellipsis'>&#x22EE;</td><td class='hellipsis'>&#x22EE;</td><td class='hellipsis'>&#x22EE;</td><td class='hellipsis'>&#x22EE;</td></tr>\n",
       "    <tr><td class='row_index'>461,847</td><td>2019</td><td>1</td><td>530010</td><td>530010</td><td>0010545</td><td>479</td><td>CO/DF/53001/530010</td><td>5</td><td>1</td><td>&minus;15.7795</td><td class=vellipsis>&hellip;</td><td>1</td><td>&minus;15.7795</td><td>&minus;47.9297</td><td>0</td><td>0</td></tr>\n",
       "    <tr><td class='row_index'>461,848</td><td>2019</td><td>1</td><td>530010</td><td>530010</td><td>2645157</td><td>1373</td><td>CO/DF/53001/530010</td><td>5</td><td>1</td><td>&minus;15.7795</td><td class=vellipsis>&hellip;</td><td>1</td><td>&minus;15.7795</td><td>&minus;47.9297</td><td>0</td><td>0</td></tr>\n",
       "    <tr><td class='row_index'>461,849</td><td>2019</td><td>1</td><td>530010</td><td>530010</td><td>2650355</td><td>5</td><td>CO/DF/53001/530010</td><td>5</td><td>1</td><td>&minus;15.7795</td><td class=vellipsis>&hellip;</td><td>1</td><td>&minus;15.7795</td><td>&minus;47.9297</td><td>0</td><td>0</td></tr>\n",
       "    <tr><td class='row_index'>461,850</td><td>2019</td><td>1</td><td>530010</td><td>530010</td><td>2672197</td><td>2483</td><td>CO/DF/53001/530010</td><td>5</td><td>1</td><td>&minus;15.7795</td><td class=vellipsis>&hellip;</td><td>1</td><td>&minus;15.7795</td><td>&minus;47.9297</td><td>0</td><td>0</td></tr>\n",
       "    <tr><td class='row_index'>461,851</td><td>2019</td><td>1</td><td>530010</td><td>530010</td><td>5717515</td><td>1086</td><td>CO/DF/53001/530010</td><td>5</td><td>1</td><td>&minus;15.7795</td><td class=vellipsis>&hellip;</td><td>1</td><td>&minus;15.7795</td><td>&minus;47.9297</td><td>0</td><td>0</td></tr>\n",
       "  </tbody>\n",
       "  </table>\n",
       "  <div class='footer'>\n",
       "    <div class='frame_dimensions'>461,852 rows &times; 18 columns</div>\n",
       "  </div>\n",
       "</div>\n"
      ],
      "text/plain": [
       "<Frame#7fc748200c00 461852x18>"
      ]
     },
     "execution_count": 13,
     "metadata": {},
     "output_type": "execute_result"
    }
   ],
   "source": [
    "df_dist.key = ['cod_municipio', 'hosp_cod_municipio']\n",
    "df_proc = df_proc[:, :, dt.join(df_dist)]\n",
    "df_proc"
   ]
  },
  {
   "cell_type": "markdown",
   "metadata": {},
   "source": [
    "### Distância e tempo ponderado"
   ]
  },
  {
   "cell_type": "code",
   "execution_count": 14,
   "metadata": {},
   "outputs": [
    {
     "data": {
      "text/html": [
       "<div class='datatable'>\n",
       "  <table class='frame'>\n",
       "  <thead>\n",
       "    <tr class='colnames'><td class='row_index'></td><th>ano</th><th>parto_normal</th><th>cod_municipio</th><th>hosp_cod_municipio</th><th>cnes</th><th>count</th><th>origem</th><th>origem_socioecon</th><th>origem_capital</th><th>origem_latitude</th><th class='vellipsis'>&hellip;</th><th>destino_longitude</th><th>distancia (km)</th><th>tempo (min)</th><th>dist_pond</th><th>tempo_pond</th></tr>\n",
       "    <tr class='coltypes'><td class='row_index'></td><td class='int' title='int32'>&#x25AA;&#x25AA;&#x25AA;&#x25AA;</td><td class='bool' title='bool8'>&#x25AA;</td><td class='int' title='int32'>&#x25AA;&#x25AA;&#x25AA;&#x25AA;</td><td class='int' title='int32'>&#x25AA;&#x25AA;&#x25AA;&#x25AA;</td><td class='str' title='str32'>&#x25AA;&#x25AA;&#x25AA;&#x25AA;</td><td class='int' title='int64'>&#x25AA;&#x25AA;&#x25AA;&#x25AA;&#x25AA;&#x25AA;&#x25AA;&#x25AA;</td><td class='str' title='str32'>&#x25AA;&#x25AA;&#x25AA;&#x25AA;</td><td class='int' title='int32'>&#x25AA;&#x25AA;&#x25AA;&#x25AA;</td><td class='bool' title='bool8'>&#x25AA;</td><td class='float' title='float64'>&#x25AA;&#x25AA;&#x25AA;&#x25AA;&#x25AA;&#x25AA;&#x25AA;&#x25AA;</td><td></td><td class='float' title='float64'>&#x25AA;&#x25AA;&#x25AA;&#x25AA;&#x25AA;&#x25AA;&#x25AA;&#x25AA;</td><td class='float' title='float64'>&#x25AA;&#x25AA;&#x25AA;&#x25AA;&#x25AA;&#x25AA;&#x25AA;&#x25AA;</td><td class='float' title='float64'>&#x25AA;&#x25AA;&#x25AA;&#x25AA;&#x25AA;&#x25AA;&#x25AA;&#x25AA;</td><td class='float' title='float64'>&#x25AA;&#x25AA;&#x25AA;&#x25AA;&#x25AA;&#x25AA;&#x25AA;&#x25AA;</td><td class='float' title='float64'>&#x25AA;&#x25AA;&#x25AA;&#x25AA;&#x25AA;&#x25AA;&#x25AA;&#x25AA;</td></tr>\n",
       "  </thead>\n",
       "  <tbody>\n",
       "    <tr><td class='row_index'>0</td><td>2010</td><td>0</td><td>110001</td><td>110001</td><td>2679477</td><td>49</td><td>NT/RO/11005/110001</td><td>1</td><td>0</td><td>&minus;11.9283</td><td class=vellipsis>&hellip;</td><td>&minus;61.9953</td><td>0</td><td>0</td><td>0</td><td>0</td></tr>\n",
       "    <tr><td class='row_index'>1</td><td>2010</td><td>0</td><td>110001</td><td>110012</td><td>2495279</td><td>2</td><td>NT/RO/11005/110001</td><td>1</td><td>0</td><td>&minus;11.9283</td><td class=vellipsis>&hellip;</td><td>&minus;61.9322</td><td>130.77</td><td>152.868</td><td>261.541</td><td>305.737</td></tr>\n",
       "    <tr><td class='row_index'>2</td><td>2010</td><td>0</td><td>110001</td><td>110013</td><td>2808617</td><td>1</td><td>NT/RO/11005/110001</td><td>1</td><td>0</td><td>&minus;11.9283</td><td class=vellipsis>&hellip;</td><td>&minus;61.9818</td><td>357.511</td><td>427.84</td><td>357.511</td><td>427.84</td></tr>\n",
       "    <tr><td class='row_index'>3</td><td>2010</td><td>0</td><td>110001</td><td>110018</td><td>2496534</td><td>1</td><td>NT/RO/11005/110001</td><td>1</td><td>0</td><td>&minus;11.9283</td><td class=vellipsis>&hellip;</td><td>&minus;61.198</td><td>114.061</td><td>112.283</td><td>114.061</td><td>112.283</td></tr>\n",
       "    <tr><td class='row_index'>4</td><td>2010</td><td>0</td><td>110001</td><td>110028</td><td>2495228</td><td>4</td><td>NT/RO/11005/110001</td><td>1</td><td>0</td><td>&minus;11.9283</td><td class=vellipsis>&hellip;</td><td>&minus;61.7714</td><td>48.6099</td><td>50.14</td><td>194.44</td><td>200.56</td></tr>\n",
       "    <tr><td class='row_index'>5</td><td>2010</td><td>0</td><td>110001</td><td>351110</td><td>2089327</td><td>1</td><td>NT/RO/11005/110001</td><td>1</td><td>0</td><td>&minus;11.9283</td><td class=vellipsis>&hellip;</td><td>&minus;48.977</td><td>2196.35</td><td>1852.41</td><td>2196.35</td><td>1852.41</td></tr>\n",
       "    <tr><td class='row_index'>6</td><td>2010</td><td>0</td><td>110002</td><td>110002</td><td>2494299</td><td>375</td><td>NT/RO/11001/110002</td><td>1</td><td>0</td><td>&minus;9.90571</td><td class=vellipsis>&hellip;</td><td>&minus;63.0325</td><td>0</td><td>0</td><td>0</td><td>0</td></tr>\n",
       "    <tr><td class='row_index'>7</td><td>2010</td><td>0</td><td>110002</td><td>110011</td><td>2808609</td><td>4</td><td>NT/RO/11001/110002</td><td>1</td><td>0</td><td>&minus;9.90571</td><td class=vellipsis>&hellip;</td><td>&minus;62.4788</td><td>95.4727</td><td>140.33</td><td>381.891</td><td>561.32</td></tr>\n",
       "    <tr><td class='row_index'>8</td><td>2010</td><td>0</td><td>110002</td><td>110020</td><td>4001303</td><td>1</td><td>NT/RO/11001/110002</td><td>1</td><td>0</td><td>&minus;9.90571</td><td class=vellipsis>&hellip;</td><td>&minus;63.8999</td><td>203.582</td><td>188.315</td><td>203.582</td><td>188.315</td></tr>\n",
       "    <tr><td class='row_index'>9</td><td>2010</td><td>0</td><td>110003</td><td>110003</td><td>2808528</td><td>51</td><td>NT/RO/11006/110003</td><td>2</td><td>0</td><td>&minus;13.4945</td><td class=vellipsis>&hellip;</td><td>&minus;60.552</td><td>0</td><td>0</td><td>0</td><td>0</td></tr>\n",
       "    <tr><td class='row_index'>10</td><td>2010</td><td>0</td><td>110004</td><td>110004</td><td>2496046</td><td>199</td><td>NT/RO/11002/110004</td><td>3</td><td>0</td><td>&minus;11.4343</td><td class=vellipsis>&hellip;</td><td>&minus;61.4562</td><td>0</td><td>0</td><td>0</td><td>0</td></tr>\n",
       "    <tr><td class='row_index'>11</td><td>2010</td><td>0</td><td>110004</td><td>110012</td><td>2495279</td><td>2</td><td>NT/RO/11002/110004</td><td>3</td><td>0</td><td>&minus;11.4343</td><td class=vellipsis>&hellip;</td><td>&minus;61.9322</td><td>104.964</td><td>100.03</td><td>209.928</td><td>200.06</td></tr>\n",
       "    <tr><td class='row_index'>12</td><td>2010</td><td>0</td><td>110004</td><td>110018</td><td>2496534</td><td>1</td><td>NT/RO/11002/110004</td><td>3</td><td>0</td><td>&minus;11.4343</td><td class=vellipsis>&hellip;</td><td>&minus;61.198</td><td>41.4266</td><td>40.3333</td><td>41.4266</td><td>40.3333</td></tr>\n",
       "    <tr><td class='row_index'>13</td><td>2010</td><td>0</td><td>110004</td><td>110020</td><td>4001303</td><td>2</td><td>NT/RO/11002/110004</td><td>3</td><td>0</td><td>&minus;11.4343</td><td class=vellipsis>&hellip;</td><td>&minus;63.8999</td><td>480.05</td><td>497.07</td><td>960.099</td><td>994.14</td></tr>\n",
       "    <tr><td class='row_index'>14</td><td>2010</td><td>0</td><td>110004</td><td>110028</td><td>2495228</td><td>2</td><td>NT/RO/11002/110004</td><td>3</td><td>0</td><td>&minus;11.4343</td><td class=vellipsis>&hellip;</td><td>&minus;61.7714</td><td>47.7899</td><td>66.3017</td><td>95.5798</td><td>132.603</td></tr>\n",
       "    <tr><td class='row_index'>&#x22EE;</td><td class='hellipsis'>&#x22EE;</td><td class='hellipsis'>&#x22EE;</td><td class='hellipsis'>&#x22EE;</td><td class='hellipsis'>&#x22EE;</td><td class='hellipsis'>&#x22EE;</td><td class='hellipsis'>&#x22EE;</td><td class='hellipsis'>&#x22EE;</td><td class='hellipsis'>&#x22EE;</td><td class='hellipsis'>&#x22EE;</td><td class='hellipsis'>&#x22EE;</td><td class='hellipsis'>&#x22F1;</td><td class='hellipsis'>&#x22EE;</td><td class='hellipsis'>&#x22EE;</td><td class='hellipsis'>&#x22EE;</td><td class='hellipsis'>&#x22EE;</td><td class='hellipsis'>&#x22EE;</td></tr>\n",
       "    <tr><td class='row_index'>461,847</td><td>2019</td><td>1</td><td>530010</td><td>530010</td><td>0010545</td><td>479</td><td>CO/DF/53001/530010</td><td>5</td><td>1</td><td>&minus;15.7795</td><td class=vellipsis>&hellip;</td><td>&minus;47.9297</td><td>0</td><td>0</td><td>0</td><td>0</td></tr>\n",
       "    <tr><td class='row_index'>461,848</td><td>2019</td><td>1</td><td>530010</td><td>530010</td><td>2645157</td><td>1373</td><td>CO/DF/53001/530010</td><td>5</td><td>1</td><td>&minus;15.7795</td><td class=vellipsis>&hellip;</td><td>&minus;47.9297</td><td>0</td><td>0</td><td>0</td><td>0</td></tr>\n",
       "    <tr><td class='row_index'>461,849</td><td>2019</td><td>1</td><td>530010</td><td>530010</td><td>2650355</td><td>5</td><td>CO/DF/53001/530010</td><td>5</td><td>1</td><td>&minus;15.7795</td><td class=vellipsis>&hellip;</td><td>&minus;47.9297</td><td>0</td><td>0</td><td>0</td><td>0</td></tr>\n",
       "    <tr><td class='row_index'>461,850</td><td>2019</td><td>1</td><td>530010</td><td>530010</td><td>2672197</td><td>2483</td><td>CO/DF/53001/530010</td><td>5</td><td>1</td><td>&minus;15.7795</td><td class=vellipsis>&hellip;</td><td>&minus;47.9297</td><td>0</td><td>0</td><td>0</td><td>0</td></tr>\n",
       "    <tr><td class='row_index'>461,851</td><td>2019</td><td>1</td><td>530010</td><td>530010</td><td>5717515</td><td>1086</td><td>CO/DF/53001/530010</td><td>5</td><td>1</td><td>&minus;15.7795</td><td class=vellipsis>&hellip;</td><td>&minus;47.9297</td><td>0</td><td>0</td><td>0</td><td>0</td></tr>\n",
       "  </tbody>\n",
       "  </table>\n",
       "  <div class='footer'>\n",
       "    <div class='frame_dimensions'>461,852 rows &times; 20 columns</div>\n",
       "  </div>\n",
       "</div>\n"
      ],
      "text/plain": [
       "<Frame#7fc748200c00 461852x20>"
      ]
     },
     "execution_count": 14,
     "metadata": {},
     "output_type": "execute_result"
    }
   ],
   "source": [
    "df_proc[:, dt.update(dist_pond = f['distancia (km)'] * f.count)]\n",
    "df_proc[:, dt.update(tempo_pond = f['tempo (min)'] * f.count)]\n",
    "df_proc"
   ]
  },
  {
   "cell_type": "markdown",
   "metadata": {},
   "source": [
    "## Coluna socioecon"
   ]
  },
  {
   "cell_type": "code",
   "execution_count": 15,
   "metadata": {},
   "outputs": [
    {
     "data": {
      "text/html": [
       "<div class='datatable'>\n",
       "  <table class='frame'>\n",
       "  <thead>\n",
       "    <tr class='colnames'><td class='row_index'></td><th>ano</th><th>parto_normal</th><th>cod_municipio</th><th>hosp_cod_municipio</th><th>cnes</th><th>count</th><th>origem</th><th>origem_socioecon</th><th>origem_capital</th><th>origem_latitude</th><th class='vellipsis'>&hellip;</th><th>distancia (km)</th><th>tempo (min)</th><th>dist_pond</th><th>tempo_pond</th><th>socioecon</th></tr>\n",
       "    <tr class='coltypes'><td class='row_index'></td><td class='int' title='int32'>&#x25AA;&#x25AA;&#x25AA;&#x25AA;</td><td class='bool' title='bool8'>&#x25AA;</td><td class='int' title='int32'>&#x25AA;&#x25AA;&#x25AA;&#x25AA;</td><td class='int' title='int32'>&#x25AA;&#x25AA;&#x25AA;&#x25AA;</td><td class='str' title='str32'>&#x25AA;&#x25AA;&#x25AA;&#x25AA;</td><td class='int' title='int64'>&#x25AA;&#x25AA;&#x25AA;&#x25AA;&#x25AA;&#x25AA;&#x25AA;&#x25AA;</td><td class='str' title='str32'>&#x25AA;&#x25AA;&#x25AA;&#x25AA;</td><td class='str' title='str32'>&#x25AA;&#x25AA;&#x25AA;&#x25AA;</td><td class='bool' title='bool8'>&#x25AA;</td><td class='float' title='float64'>&#x25AA;&#x25AA;&#x25AA;&#x25AA;&#x25AA;&#x25AA;&#x25AA;&#x25AA;</td><td></td><td class='float' title='float64'>&#x25AA;&#x25AA;&#x25AA;&#x25AA;&#x25AA;&#x25AA;&#x25AA;&#x25AA;</td><td class='float' title='float64'>&#x25AA;&#x25AA;&#x25AA;&#x25AA;&#x25AA;&#x25AA;&#x25AA;&#x25AA;</td><td class='float' title='float64'>&#x25AA;&#x25AA;&#x25AA;&#x25AA;&#x25AA;&#x25AA;&#x25AA;&#x25AA;</td><td class='float' title='float64'>&#x25AA;&#x25AA;&#x25AA;&#x25AA;&#x25AA;&#x25AA;&#x25AA;&#x25AA;</td><td class='str' title='str32'>&#x25AA;&#x25AA;&#x25AA;&#x25AA;</td></tr>\n",
       "  </thead>\n",
       "  <tbody>\n",
       "    <tr><td class='row_index'>0</td><td>2010</td><td>0</td><td>110001</td><td>110001</td><td>2679477</td><td>49</td><td>NT/RO/11005/110001</td><td>1</td><td>0</td><td>&minus;11.9283</td><td class=vellipsis>&hellip;</td><td>0</td><td>0</td><td>0</td><td>0</td><td>1_1</td></tr>\n",
       "    <tr><td class='row_index'>1</td><td>2010</td><td>0</td><td>110001</td><td>110012</td><td>2495279</td><td>2</td><td>NT/RO/11005/110001</td><td>1</td><td>0</td><td>&minus;11.9283</td><td class=vellipsis>&hellip;</td><td>130.77</td><td>152.868</td><td>261.541</td><td>305.737</td><td>1_2</td></tr>\n",
       "    <tr><td class='row_index'>2</td><td>2010</td><td>0</td><td>110001</td><td>110013</td><td>2808617</td><td>1</td><td>NT/RO/11005/110001</td><td>1</td><td>0</td><td>&minus;11.9283</td><td class=vellipsis>&hellip;</td><td>357.511</td><td>427.84</td><td>357.511</td><td>427.84</td><td>1_1</td></tr>\n",
       "    <tr><td class='row_index'>3</td><td>2010</td><td>0</td><td>110001</td><td>110018</td><td>2496534</td><td>1</td><td>NT/RO/11005/110001</td><td>1</td><td>0</td><td>&minus;11.9283</td><td class=vellipsis>&hellip;</td><td>114.061</td><td>112.283</td><td>114.061</td><td>112.283</td><td>1_3</td></tr>\n",
       "    <tr><td class='row_index'>4</td><td>2010</td><td>0</td><td>110001</td><td>110028</td><td>2495228</td><td>4</td><td>NT/RO/11005/110001</td><td>1</td><td>0</td><td>&minus;11.9283</td><td class=vellipsis>&hellip;</td><td>48.6099</td><td>50.14</td><td>194.44</td><td>200.56</td><td>1_1</td></tr>\n",
       "    <tr><td class='row_index'>5</td><td>2010</td><td>0</td><td>110001</td><td>351110</td><td>2089327</td><td>1</td><td>NT/RO/11005/110001</td><td>1</td><td>0</td><td>&minus;11.9283</td><td class=vellipsis>&hellip;</td><td>2196.35</td><td>1852.41</td><td>2196.35</td><td>1852.41</td><td>1_3</td></tr>\n",
       "    <tr><td class='row_index'>6</td><td>2010</td><td>0</td><td>110002</td><td>110002</td><td>2494299</td><td>375</td><td>NT/RO/11001/110002</td><td>1</td><td>0</td><td>&minus;9.90571</td><td class=vellipsis>&hellip;</td><td>0</td><td>0</td><td>0</td><td>0</td><td>1_1</td></tr>\n",
       "    <tr><td class='row_index'>7</td><td>2010</td><td>0</td><td>110002</td><td>110011</td><td>2808609</td><td>4</td><td>NT/RO/11001/110002</td><td>1</td><td>0</td><td>&minus;9.90571</td><td class=vellipsis>&hellip;</td><td>95.4727</td><td>140.33</td><td>381.891</td><td>561.32</td><td>1_2</td></tr>\n",
       "    <tr><td class='row_index'>8</td><td>2010</td><td>0</td><td>110002</td><td>110020</td><td>4001303</td><td>1</td><td>NT/RO/11001/110002</td><td>1</td><td>0</td><td>&minus;9.90571</td><td class=vellipsis>&hellip;</td><td>203.582</td><td>188.315</td><td>203.582</td><td>188.315</td><td>1_3</td></tr>\n",
       "    <tr><td class='row_index'>9</td><td>2010</td><td>0</td><td>110003</td><td>110003</td><td>2808528</td><td>51</td><td>NT/RO/11006/110003</td><td>2</td><td>0</td><td>&minus;13.4945</td><td class=vellipsis>&hellip;</td><td>0</td><td>0</td><td>0</td><td>0</td><td>2_2</td></tr>\n",
       "    <tr><td class='row_index'>10</td><td>2010</td><td>0</td><td>110004</td><td>110004</td><td>2496046</td><td>199</td><td>NT/RO/11002/110004</td><td>3</td><td>0</td><td>&minus;11.4343</td><td class=vellipsis>&hellip;</td><td>0</td><td>0</td><td>0</td><td>0</td><td>3_3</td></tr>\n",
       "    <tr><td class='row_index'>11</td><td>2010</td><td>0</td><td>110004</td><td>110012</td><td>2495279</td><td>2</td><td>NT/RO/11002/110004</td><td>3</td><td>0</td><td>&minus;11.4343</td><td class=vellipsis>&hellip;</td><td>104.964</td><td>100.03</td><td>209.928</td><td>200.06</td><td>3_2</td></tr>\n",
       "    <tr><td class='row_index'>12</td><td>2010</td><td>0</td><td>110004</td><td>110018</td><td>2496534</td><td>1</td><td>NT/RO/11002/110004</td><td>3</td><td>0</td><td>&minus;11.4343</td><td class=vellipsis>&hellip;</td><td>41.4266</td><td>40.3333</td><td>41.4266</td><td>40.3333</td><td>3_3</td></tr>\n",
       "    <tr><td class='row_index'>13</td><td>2010</td><td>0</td><td>110004</td><td>110020</td><td>4001303</td><td>2</td><td>NT/RO/11002/110004</td><td>3</td><td>0</td><td>&minus;11.4343</td><td class=vellipsis>&hellip;</td><td>480.05</td><td>497.07</td><td>960.099</td><td>994.14</td><td>3_3</td></tr>\n",
       "    <tr><td class='row_index'>14</td><td>2010</td><td>0</td><td>110004</td><td>110028</td><td>2495228</td><td>2</td><td>NT/RO/11002/110004</td><td>3</td><td>0</td><td>&minus;11.4343</td><td class=vellipsis>&hellip;</td><td>47.7899</td><td>66.3017</td><td>95.5798</td><td>132.603</td><td>3_1</td></tr>\n",
       "    <tr><td class='row_index'>&#x22EE;</td><td class='hellipsis'>&#x22EE;</td><td class='hellipsis'>&#x22EE;</td><td class='hellipsis'>&#x22EE;</td><td class='hellipsis'>&#x22EE;</td><td class='hellipsis'>&#x22EE;</td><td class='hellipsis'>&#x22EE;</td><td class='hellipsis'>&#x22EE;</td><td class='hellipsis'>&#x22EE;</td><td class='hellipsis'>&#x22EE;</td><td class='hellipsis'>&#x22EE;</td><td class='hellipsis'>&#x22F1;</td><td class='hellipsis'>&#x22EE;</td><td class='hellipsis'>&#x22EE;</td><td class='hellipsis'>&#x22EE;</td><td class='hellipsis'>&#x22EE;</td><td class='hellipsis'>&#x22EE;</td></tr>\n",
       "    <tr><td class='row_index'>461,847</td><td>2019</td><td>1</td><td>530010</td><td>530010</td><td>0010545</td><td>479</td><td>CO/DF/53001/530010</td><td>5</td><td>1</td><td>&minus;15.7795</td><td class=vellipsis>&hellip;</td><td>0</td><td>0</td><td>0</td><td>0</td><td>5_5</td></tr>\n",
       "    <tr><td class='row_index'>461,848</td><td>2019</td><td>1</td><td>530010</td><td>530010</td><td>2645157</td><td>1373</td><td>CO/DF/53001/530010</td><td>5</td><td>1</td><td>&minus;15.7795</td><td class=vellipsis>&hellip;</td><td>0</td><td>0</td><td>0</td><td>0</td><td>5_5</td></tr>\n",
       "    <tr><td class='row_index'>461,849</td><td>2019</td><td>1</td><td>530010</td><td>530010</td><td>2650355</td><td>5</td><td>CO/DF/53001/530010</td><td>5</td><td>1</td><td>&minus;15.7795</td><td class=vellipsis>&hellip;</td><td>0</td><td>0</td><td>0</td><td>0</td><td>5_5</td></tr>\n",
       "    <tr><td class='row_index'>461,850</td><td>2019</td><td>1</td><td>530010</td><td>530010</td><td>2672197</td><td>2483</td><td>CO/DF/53001/530010</td><td>5</td><td>1</td><td>&minus;15.7795</td><td class=vellipsis>&hellip;</td><td>0</td><td>0</td><td>0</td><td>0</td><td>5_5</td></tr>\n",
       "    <tr><td class='row_index'>461,851</td><td>2019</td><td>1</td><td>530010</td><td>530010</td><td>5717515</td><td>1086</td><td>CO/DF/53001/530010</td><td>5</td><td>1</td><td>&minus;15.7795</td><td class=vellipsis>&hellip;</td><td>0</td><td>0</td><td>0</td><td>0</td><td>5_5</td></tr>\n",
       "  </tbody>\n",
       "  </table>\n",
       "  <div class='footer'>\n",
       "    <div class='frame_dimensions'>461,852 rows &times; 21 columns</div>\n",
       "  </div>\n",
       "</div>\n"
      ],
      "text/plain": [
       "<Frame#7fc748200c00 461852x21>"
      ]
     },
     "execution_count": 15,
     "metadata": {},
     "output_type": "execute_result"
    }
   ],
   "source": [
    "df_proc['origem_socioecon'] = df_proc[:, as_type(f.origem_socioecon, str)]\n",
    "df_proc['destino_socioecon'] = df_proc[:, as_type(f.destino_socioecon, str)]\n",
    "df_proc[:, dt.update(socioecon = f.origem_socioecon + '_' + f.destino_socioecon)]\n",
    "df_proc"
   ]
  },
  {
   "cell_type": "markdown",
   "metadata": {},
   "source": [
    "## Coluna capitais"
   ]
  },
  {
   "cell_type": "code",
   "execution_count": 16,
   "metadata": {},
   "outputs": [
    {
     "data": {
      "text/html": [
       "<div class='datatable'>\n",
       "  <table class='frame'>\n",
       "  <thead>\n",
       "    <tr class='colnames'><td class='row_index'></td><th>ano</th><th>parto_normal</th><th>cod_municipio</th><th>hosp_cod_municipio</th><th>cnes</th><th>count</th><th>origem</th><th>origem_socioecon</th><th>origem_capital</th><th>origem_latitude</th><th class='vellipsis'>&hellip;</th><th>tempo (min)</th><th>dist_pond</th><th>tempo_pond</th><th>socioecon</th><th>capitais</th></tr>\n",
       "    <tr class='coltypes'><td class='row_index'></td><td class='int' title='int32'>&#x25AA;&#x25AA;&#x25AA;&#x25AA;</td><td class='bool' title='bool8'>&#x25AA;</td><td class='int' title='int32'>&#x25AA;&#x25AA;&#x25AA;&#x25AA;</td><td class='int' title='int32'>&#x25AA;&#x25AA;&#x25AA;&#x25AA;</td><td class='str' title='str32'>&#x25AA;&#x25AA;&#x25AA;&#x25AA;</td><td class='int' title='int64'>&#x25AA;&#x25AA;&#x25AA;&#x25AA;&#x25AA;&#x25AA;&#x25AA;&#x25AA;</td><td class='str' title='str32'>&#x25AA;&#x25AA;&#x25AA;&#x25AA;</td><td class='str' title='str32'>&#x25AA;&#x25AA;&#x25AA;&#x25AA;</td><td class='str' title='str32'>&#x25AA;&#x25AA;&#x25AA;&#x25AA;</td><td class='float' title='float64'>&#x25AA;&#x25AA;&#x25AA;&#x25AA;&#x25AA;&#x25AA;&#x25AA;&#x25AA;</td><td></td><td class='float' title='float64'>&#x25AA;&#x25AA;&#x25AA;&#x25AA;&#x25AA;&#x25AA;&#x25AA;&#x25AA;</td><td class='float' title='float64'>&#x25AA;&#x25AA;&#x25AA;&#x25AA;&#x25AA;&#x25AA;&#x25AA;&#x25AA;</td><td class='float' title='float64'>&#x25AA;&#x25AA;&#x25AA;&#x25AA;&#x25AA;&#x25AA;&#x25AA;&#x25AA;</td><td class='str' title='str32'>&#x25AA;&#x25AA;&#x25AA;&#x25AA;</td><td class='str' title='str32'>&#x25AA;&#x25AA;&#x25AA;&#x25AA;</td></tr>\n",
       "  </thead>\n",
       "  <tbody>\n",
       "    <tr><td class='row_index'>0</td><td>2010</td><td>0</td><td>110001</td><td>110001</td><td>2679477</td><td>49</td><td>NT/RO/11005/110001</td><td>1</td><td>0</td><td>&minus;11.9283</td><td class=vellipsis>&hellip;</td><td>0</td><td>0</td><td>0</td><td>1_1</td><td>0_0</td></tr>\n",
       "    <tr><td class='row_index'>1</td><td>2010</td><td>0</td><td>110001</td><td>110012</td><td>2495279</td><td>2</td><td>NT/RO/11005/110001</td><td>1</td><td>0</td><td>&minus;11.9283</td><td class=vellipsis>&hellip;</td><td>152.868</td><td>261.541</td><td>305.737</td><td>1_2</td><td>0_0</td></tr>\n",
       "    <tr><td class='row_index'>2</td><td>2010</td><td>0</td><td>110001</td><td>110013</td><td>2808617</td><td>1</td><td>NT/RO/11005/110001</td><td>1</td><td>0</td><td>&minus;11.9283</td><td class=vellipsis>&hellip;</td><td>427.84</td><td>357.511</td><td>427.84</td><td>1_1</td><td>0_0</td></tr>\n",
       "    <tr><td class='row_index'>3</td><td>2010</td><td>0</td><td>110001</td><td>110018</td><td>2496534</td><td>1</td><td>NT/RO/11005/110001</td><td>1</td><td>0</td><td>&minus;11.9283</td><td class=vellipsis>&hellip;</td><td>112.283</td><td>114.061</td><td>112.283</td><td>1_3</td><td>0_0</td></tr>\n",
       "    <tr><td class='row_index'>4</td><td>2010</td><td>0</td><td>110001</td><td>110028</td><td>2495228</td><td>4</td><td>NT/RO/11005/110001</td><td>1</td><td>0</td><td>&minus;11.9283</td><td class=vellipsis>&hellip;</td><td>50.14</td><td>194.44</td><td>200.56</td><td>1_1</td><td>0_0</td></tr>\n",
       "    <tr><td class='row_index'>5</td><td>2010</td><td>0</td><td>110001</td><td>351110</td><td>2089327</td><td>1</td><td>NT/RO/11005/110001</td><td>1</td><td>0</td><td>&minus;11.9283</td><td class=vellipsis>&hellip;</td><td>1852.41</td><td>2196.35</td><td>1852.41</td><td>1_3</td><td>0_0</td></tr>\n",
       "    <tr><td class='row_index'>6</td><td>2010</td><td>0</td><td>110002</td><td>110002</td><td>2494299</td><td>375</td><td>NT/RO/11001/110002</td><td>1</td><td>0</td><td>&minus;9.90571</td><td class=vellipsis>&hellip;</td><td>0</td><td>0</td><td>0</td><td>1_1</td><td>0_0</td></tr>\n",
       "    <tr><td class='row_index'>7</td><td>2010</td><td>0</td><td>110002</td><td>110011</td><td>2808609</td><td>4</td><td>NT/RO/11001/110002</td><td>1</td><td>0</td><td>&minus;9.90571</td><td class=vellipsis>&hellip;</td><td>140.33</td><td>381.891</td><td>561.32</td><td>1_2</td><td>0_0</td></tr>\n",
       "    <tr><td class='row_index'>8</td><td>2010</td><td>0</td><td>110002</td><td>110020</td><td>4001303</td><td>1</td><td>NT/RO/11001/110002</td><td>1</td><td>0</td><td>&minus;9.90571</td><td class=vellipsis>&hellip;</td><td>188.315</td><td>203.582</td><td>188.315</td><td>1_3</td><td>0_1</td></tr>\n",
       "    <tr><td class='row_index'>9</td><td>2010</td><td>0</td><td>110003</td><td>110003</td><td>2808528</td><td>51</td><td>NT/RO/11006/110003</td><td>2</td><td>0</td><td>&minus;13.4945</td><td class=vellipsis>&hellip;</td><td>0</td><td>0</td><td>0</td><td>2_2</td><td>0_0</td></tr>\n",
       "    <tr><td class='row_index'>10</td><td>2010</td><td>0</td><td>110004</td><td>110004</td><td>2496046</td><td>199</td><td>NT/RO/11002/110004</td><td>3</td><td>0</td><td>&minus;11.4343</td><td class=vellipsis>&hellip;</td><td>0</td><td>0</td><td>0</td><td>3_3</td><td>0_0</td></tr>\n",
       "    <tr><td class='row_index'>11</td><td>2010</td><td>0</td><td>110004</td><td>110012</td><td>2495279</td><td>2</td><td>NT/RO/11002/110004</td><td>3</td><td>0</td><td>&minus;11.4343</td><td class=vellipsis>&hellip;</td><td>100.03</td><td>209.928</td><td>200.06</td><td>3_2</td><td>0_0</td></tr>\n",
       "    <tr><td class='row_index'>12</td><td>2010</td><td>0</td><td>110004</td><td>110018</td><td>2496534</td><td>1</td><td>NT/RO/11002/110004</td><td>3</td><td>0</td><td>&minus;11.4343</td><td class=vellipsis>&hellip;</td><td>40.3333</td><td>41.4266</td><td>40.3333</td><td>3_3</td><td>0_0</td></tr>\n",
       "    <tr><td class='row_index'>13</td><td>2010</td><td>0</td><td>110004</td><td>110020</td><td>4001303</td><td>2</td><td>NT/RO/11002/110004</td><td>3</td><td>0</td><td>&minus;11.4343</td><td class=vellipsis>&hellip;</td><td>497.07</td><td>960.099</td><td>994.14</td><td>3_3</td><td>0_1</td></tr>\n",
       "    <tr><td class='row_index'>14</td><td>2010</td><td>0</td><td>110004</td><td>110028</td><td>2495228</td><td>2</td><td>NT/RO/11002/110004</td><td>3</td><td>0</td><td>&minus;11.4343</td><td class=vellipsis>&hellip;</td><td>66.3017</td><td>95.5798</td><td>132.603</td><td>3_1</td><td>0_0</td></tr>\n",
       "    <tr><td class='row_index'>&#x22EE;</td><td class='hellipsis'>&#x22EE;</td><td class='hellipsis'>&#x22EE;</td><td class='hellipsis'>&#x22EE;</td><td class='hellipsis'>&#x22EE;</td><td class='hellipsis'>&#x22EE;</td><td class='hellipsis'>&#x22EE;</td><td class='hellipsis'>&#x22EE;</td><td class='hellipsis'>&#x22EE;</td><td class='hellipsis'>&#x22EE;</td><td class='hellipsis'>&#x22EE;</td><td class='hellipsis'>&#x22F1;</td><td class='hellipsis'>&#x22EE;</td><td class='hellipsis'>&#x22EE;</td><td class='hellipsis'>&#x22EE;</td><td class='hellipsis'>&#x22EE;</td><td class='hellipsis'>&#x22EE;</td></tr>\n",
       "    <tr><td class='row_index'>461,847</td><td>2019</td><td>1</td><td>530010</td><td>530010</td><td>0010545</td><td>479</td><td>CO/DF/53001/530010</td><td>5</td><td>1</td><td>&minus;15.7795</td><td class=vellipsis>&hellip;</td><td>0</td><td>0</td><td>0</td><td>5_5</td><td>1_1</td></tr>\n",
       "    <tr><td class='row_index'>461,848</td><td>2019</td><td>1</td><td>530010</td><td>530010</td><td>2645157</td><td>1373</td><td>CO/DF/53001/530010</td><td>5</td><td>1</td><td>&minus;15.7795</td><td class=vellipsis>&hellip;</td><td>0</td><td>0</td><td>0</td><td>5_5</td><td>1_1</td></tr>\n",
       "    <tr><td class='row_index'>461,849</td><td>2019</td><td>1</td><td>530010</td><td>530010</td><td>2650355</td><td>5</td><td>CO/DF/53001/530010</td><td>5</td><td>1</td><td>&minus;15.7795</td><td class=vellipsis>&hellip;</td><td>0</td><td>0</td><td>0</td><td>5_5</td><td>1_1</td></tr>\n",
       "    <tr><td class='row_index'>461,850</td><td>2019</td><td>1</td><td>530010</td><td>530010</td><td>2672197</td><td>2483</td><td>CO/DF/53001/530010</td><td>5</td><td>1</td><td>&minus;15.7795</td><td class=vellipsis>&hellip;</td><td>0</td><td>0</td><td>0</td><td>5_5</td><td>1_1</td></tr>\n",
       "    <tr><td class='row_index'>461,851</td><td>2019</td><td>1</td><td>530010</td><td>530010</td><td>5717515</td><td>1086</td><td>CO/DF/53001/530010</td><td>5</td><td>1</td><td>&minus;15.7795</td><td class=vellipsis>&hellip;</td><td>0</td><td>0</td><td>0</td><td>5_5</td><td>1_1</td></tr>\n",
       "  </tbody>\n",
       "  </table>\n",
       "  <div class='footer'>\n",
       "    <div class='frame_dimensions'>461,852 rows &times; 22 columns</div>\n",
       "  </div>\n",
       "</div>\n"
      ],
      "text/plain": [
       "<Frame#7fc748200c00 461852x22>"
      ]
     },
     "execution_count": 16,
     "metadata": {},
     "output_type": "execute_result"
    }
   ],
   "source": [
    "df_proc['origem_capital'] = df_proc[:, as_type(f.origem_capital, int)]\n",
    "df_proc['origem_capital'] = df_proc[:, as_type(f.origem_capital, str)]\n",
    "df_proc['destino_capital'] = df_proc[:, as_type(f.destino_capital, int)]\n",
    "df_proc['destino_capital'] = df_proc[:, as_type(f.destino_capital, str)]\n",
    "df_proc[:, dt.update(capitais = f.origem_capital + '_' + f.destino_capital)]\n",
    "df_proc"
   ]
  },
  {
   "cell_type": "markdown",
   "metadata": {},
   "source": [
    "## Coluna criticidade"
   ]
  },
  {
   "cell_type": "code",
   "execution_count": 17,
   "metadata": {},
   "outputs": [
    {
     "data": {
      "text/html": [
       "<div class='datatable'>\n",
       "  <table class='frame'>\n",
       "  <thead>\n",
       "    <tr class='colnames'><td class='row_index'></td><th>ano</th><th>parto_normal</th><th>cod_municipio</th><th>hosp_cod_municipio</th><th>cnes</th><th>count</th><th>origem</th><th>origem_socioecon</th><th>origem_capital</th><th>origem_latitude</th><th class='vellipsis'>&hellip;</th><th>dist_pond</th><th>tempo_pond</th><th>socioecon</th><th>capitais</th><th>criticidade</th></tr>\n",
       "    <tr class='coltypes'><td class='row_index'></td><td class='int' title='int32'>&#x25AA;&#x25AA;&#x25AA;&#x25AA;</td><td class='bool' title='bool8'>&#x25AA;</td><td class='int' title='int32'>&#x25AA;&#x25AA;&#x25AA;&#x25AA;</td><td class='int' title='int32'>&#x25AA;&#x25AA;&#x25AA;&#x25AA;</td><td class='str' title='str32'>&#x25AA;&#x25AA;&#x25AA;&#x25AA;</td><td class='int' title='int64'>&#x25AA;&#x25AA;&#x25AA;&#x25AA;&#x25AA;&#x25AA;&#x25AA;&#x25AA;</td><td class='str' title='str32'>&#x25AA;&#x25AA;&#x25AA;&#x25AA;</td><td class='str' title='str32'>&#x25AA;&#x25AA;&#x25AA;&#x25AA;</td><td class='str' title='str32'>&#x25AA;&#x25AA;&#x25AA;&#x25AA;</td><td class='float' title='float64'>&#x25AA;&#x25AA;&#x25AA;&#x25AA;&#x25AA;&#x25AA;&#x25AA;&#x25AA;</td><td></td><td class='float' title='float64'>&#x25AA;&#x25AA;&#x25AA;&#x25AA;&#x25AA;&#x25AA;&#x25AA;&#x25AA;</td><td class='float' title='float64'>&#x25AA;&#x25AA;&#x25AA;&#x25AA;&#x25AA;&#x25AA;&#x25AA;&#x25AA;</td><td class='str' title='str32'>&#x25AA;&#x25AA;&#x25AA;&#x25AA;</td><td class='str' title='str32'>&#x25AA;&#x25AA;&#x25AA;&#x25AA;</td><td class='int' title='int32'>&#x25AA;&#x25AA;&#x25AA;&#x25AA;</td></tr>\n",
       "  </thead>\n",
       "  <tbody>\n",
       "    <tr><td class='row_index'>0</td><td>2010</td><td>0</td><td>110001</td><td>110001</td><td>2679477</td><td>49</td><td>NT/RO/11005/110001</td><td>1</td><td>0</td><td>&minus;11.9283</td><td class=vellipsis>&hellip;</td><td>0</td><td>0</td><td>1_1</td><td>0_0</td><td>0</td></tr>\n",
       "    <tr><td class='row_index'>1</td><td>2010</td><td>0</td><td>110001</td><td>110012</td><td>2495279</td><td>2</td><td>NT/RO/11005/110001</td><td>1</td><td>0</td><td>&minus;11.9283</td><td class=vellipsis>&hellip;</td><td>261.541</td><td>305.737</td><td>1_2</td><td>0_0</td><td>2</td></tr>\n",
       "    <tr><td class='row_index'>2</td><td>2010</td><td>0</td><td>110001</td><td>110013</td><td>2808617</td><td>1</td><td>NT/RO/11005/110001</td><td>1</td><td>0</td><td>&minus;11.9283</td><td class=vellipsis>&hellip;</td><td>357.511</td><td>427.84</td><td>1_1</td><td>0_0</td><td>2</td></tr>\n",
       "    <tr><td class='row_index'>3</td><td>2010</td><td>0</td><td>110001</td><td>110018</td><td>2496534</td><td>1</td><td>NT/RO/11005/110001</td><td>1</td><td>0</td><td>&minus;11.9283</td><td class=vellipsis>&hellip;</td><td>114.061</td><td>112.283</td><td>1_3</td><td>0_0</td><td>2</td></tr>\n",
       "    <tr><td class='row_index'>4</td><td>2010</td><td>0</td><td>110001</td><td>110028</td><td>2495228</td><td>4</td><td>NT/RO/11005/110001</td><td>1</td><td>0</td><td>&minus;11.9283</td><td class=vellipsis>&hellip;</td><td>194.44</td><td>200.56</td><td>1_1</td><td>0_0</td><td>1</td></tr>\n",
       "    <tr><td class='row_index'>5</td><td>2010</td><td>0</td><td>110001</td><td>351110</td><td>2089327</td><td>1</td><td>NT/RO/11005/110001</td><td>1</td><td>0</td><td>&minus;11.9283</td><td class=vellipsis>&hellip;</td><td>2196.35</td><td>1852.41</td><td>1_3</td><td>0_0</td><td>4</td></tr>\n",
       "    <tr><td class='row_index'>6</td><td>2010</td><td>0</td><td>110002</td><td>110002</td><td>2494299</td><td>375</td><td>NT/RO/11001/110002</td><td>1</td><td>0</td><td>&minus;9.90571</td><td class=vellipsis>&hellip;</td><td>0</td><td>0</td><td>1_1</td><td>0_0</td><td>0</td></tr>\n",
       "    <tr><td class='row_index'>7</td><td>2010</td><td>0</td><td>110002</td><td>110011</td><td>2808609</td><td>4</td><td>NT/RO/11001/110002</td><td>1</td><td>0</td><td>&minus;9.90571</td><td class=vellipsis>&hellip;</td><td>381.891</td><td>561.32</td><td>1_2</td><td>0_0</td><td>2</td></tr>\n",
       "    <tr><td class='row_index'>8</td><td>2010</td><td>0</td><td>110002</td><td>110020</td><td>4001303</td><td>1</td><td>NT/RO/11001/110002</td><td>1</td><td>0</td><td>&minus;9.90571</td><td class=vellipsis>&hellip;</td><td>203.582</td><td>188.315</td><td>1_3</td><td>0_1</td><td>2</td></tr>\n",
       "    <tr><td class='row_index'>9</td><td>2010</td><td>0</td><td>110003</td><td>110003</td><td>2808528</td><td>51</td><td>NT/RO/11006/110003</td><td>2</td><td>0</td><td>&minus;13.4945</td><td class=vellipsis>&hellip;</td><td>0</td><td>0</td><td>2_2</td><td>0_0</td><td>0</td></tr>\n",
       "    <tr><td class='row_index'>10</td><td>2010</td><td>0</td><td>110004</td><td>110004</td><td>2496046</td><td>199</td><td>NT/RO/11002/110004</td><td>3</td><td>0</td><td>&minus;11.4343</td><td class=vellipsis>&hellip;</td><td>0</td><td>0</td><td>3_3</td><td>0_0</td><td>0</td></tr>\n",
       "    <tr><td class='row_index'>11</td><td>2010</td><td>0</td><td>110004</td><td>110012</td><td>2495279</td><td>2</td><td>NT/RO/11002/110004</td><td>3</td><td>0</td><td>&minus;11.4343</td><td class=vellipsis>&hellip;</td><td>209.928</td><td>200.06</td><td>3_2</td><td>0_0</td><td>2</td></tr>\n",
       "    <tr><td class='row_index'>12</td><td>2010</td><td>0</td><td>110004</td><td>110018</td><td>2496534</td><td>1</td><td>NT/RO/11002/110004</td><td>3</td><td>0</td><td>&minus;11.4343</td><td class=vellipsis>&hellip;</td><td>41.4266</td><td>40.3333</td><td>3_3</td><td>0_0</td><td>1</td></tr>\n",
       "    <tr><td class='row_index'>13</td><td>2010</td><td>0</td><td>110004</td><td>110020</td><td>4001303</td><td>2</td><td>NT/RO/11002/110004</td><td>3</td><td>0</td><td>&minus;11.4343</td><td class=vellipsis>&hellip;</td><td>960.099</td><td>994.14</td><td>3_3</td><td>0_1</td><td>2</td></tr>\n",
       "    <tr><td class='row_index'>14</td><td>2010</td><td>0</td><td>110004</td><td>110028</td><td>2495228</td><td>2</td><td>NT/RO/11002/110004</td><td>3</td><td>0</td><td>&minus;11.4343</td><td class=vellipsis>&hellip;</td><td>95.5798</td><td>132.603</td><td>3_1</td><td>0_0</td><td>2</td></tr>\n",
       "    <tr><td class='row_index'>&#x22EE;</td><td class='hellipsis'>&#x22EE;</td><td class='hellipsis'>&#x22EE;</td><td class='hellipsis'>&#x22EE;</td><td class='hellipsis'>&#x22EE;</td><td class='hellipsis'>&#x22EE;</td><td class='hellipsis'>&#x22EE;</td><td class='hellipsis'>&#x22EE;</td><td class='hellipsis'>&#x22EE;</td><td class='hellipsis'>&#x22EE;</td><td class='hellipsis'>&#x22EE;</td><td class='hellipsis'>&#x22F1;</td><td class='hellipsis'>&#x22EE;</td><td class='hellipsis'>&#x22EE;</td><td class='hellipsis'>&#x22EE;</td><td class='hellipsis'>&#x22EE;</td><td class='hellipsis'>&#x22EE;</td></tr>\n",
       "    <tr><td class='row_index'>461,847</td><td>2019</td><td>1</td><td>530010</td><td>530010</td><td>0010545</td><td>479</td><td>CO/DF/53001/530010</td><td>5</td><td>1</td><td>&minus;15.7795</td><td class=vellipsis>&hellip;</td><td>0</td><td>0</td><td>5_5</td><td>1_1</td><td>0</td></tr>\n",
       "    <tr><td class='row_index'>461,848</td><td>2019</td><td>1</td><td>530010</td><td>530010</td><td>2645157</td><td>1373</td><td>CO/DF/53001/530010</td><td>5</td><td>1</td><td>&minus;15.7795</td><td class=vellipsis>&hellip;</td><td>0</td><td>0</td><td>5_5</td><td>1_1</td><td>0</td></tr>\n",
       "    <tr><td class='row_index'>461,849</td><td>2019</td><td>1</td><td>530010</td><td>530010</td><td>2650355</td><td>5</td><td>CO/DF/53001/530010</td><td>5</td><td>1</td><td>&minus;15.7795</td><td class=vellipsis>&hellip;</td><td>0</td><td>0</td><td>5_5</td><td>1_1</td><td>0</td></tr>\n",
       "    <tr><td class='row_index'>461,850</td><td>2019</td><td>1</td><td>530010</td><td>530010</td><td>2672197</td><td>2483</td><td>CO/DF/53001/530010</td><td>5</td><td>1</td><td>&minus;15.7795</td><td class=vellipsis>&hellip;</td><td>0</td><td>0</td><td>5_5</td><td>1_1</td><td>0</td></tr>\n",
       "    <tr><td class='row_index'>461,851</td><td>2019</td><td>1</td><td>530010</td><td>530010</td><td>5717515</td><td>1086</td><td>CO/DF/53001/530010</td><td>5</td><td>1</td><td>&minus;15.7795</td><td class=vellipsis>&hellip;</td><td>0</td><td>0</td><td>5_5</td><td>1_1</td><td>0</td></tr>\n",
       "  </tbody>\n",
       "  </table>\n",
       "  <div class='footer'>\n",
       "    <div class='frame_dimensions'>461,852 rows &times; 23 columns</div>\n",
       "  </div>\n",
       "</div>\n"
      ],
      "text/plain": [
       "<Frame#7fc748200c00 461852x23>"
      ]
     },
     "execution_count": 17,
     "metadata": {},
     "output_type": "execute_result"
    }
   ],
   "source": [
    "crits = list()\n",
    "origins = df_proc[:, 'origem'].to_list()[0]\n",
    "destins = df_proc[:, 'destino'].to_list()[0]\n",
    "for ori, des in zip(origins, destins):\n",
    "  critic = 0\n",
    "  trim = ori\n",
    "  while trim not in des:\n",
    "    critic += 1\n",
    "    trim = '/'.join(trim.split('/')[:-1])\n",
    "  crits.append(critic)\n",
    "df_proc['criticidade'] = dt.Frame(crits)\n",
    "df_proc"
   ]
  },
  {
   "cell_type": "markdown",
   "metadata": {},
   "source": [
    "## Ajustando colunas"
   ]
  },
  {
   "cell_type": "code",
   "execution_count": 18,
   "metadata": {},
   "outputs": [],
   "source": [
    "cols_order = [\n",
    "  'ano',\n",
    "  'parto_normal',\n",
    "  'origem',\n",
    "  'destino',\n",
    "  'distancia (km)',\n",
    "  'tempo (min)',\n",
    "  'dist_pond',\n",
    "  'tempo_pond',\n",
    "  'criticidade',\n",
    "  'capitais',\n",
    "  'socioecon',\n",
    "  'origem_latitude',\n",
    "  'origem_longitude',\n",
    "  'destino_latitude',\n",
    "  'destino_longitude',\n",
    "  'count',\n",
    "]"
   ]
  },
  {
   "cell_type": "code",
   "execution_count": 19,
   "metadata": {},
   "outputs": [
    {
     "data": {
      "text/html": [
       "<div class='datatable'>\n",
       "  <table class='frame'>\n",
       "  <thead>\n",
       "    <tr class='colnames'><td class='row_index'></td><th>ano</th><th>parto_normal</th><th>origem</th><th>destino</th><th>distancia (km)</th><th>tempo (min)</th><th>dist_pond</th><th>tempo_pond</th><th>criticidade</th><th>capitais</th><th class='vellipsis'>&hellip;</th><th>origem_latitude</th><th>origem_longitude</th><th>destino_latitude</th><th>destino_longitude</th><th>count</th></tr>\n",
       "    <tr class='coltypes'><td class='row_index'></td><td class='int' title='int32'>&#x25AA;&#x25AA;&#x25AA;&#x25AA;</td><td class='bool' title='bool8'>&#x25AA;</td><td class='str' title='str32'>&#x25AA;&#x25AA;&#x25AA;&#x25AA;</td><td class='str' title='str32'>&#x25AA;&#x25AA;&#x25AA;&#x25AA;</td><td class='float' title='float64'>&#x25AA;&#x25AA;&#x25AA;&#x25AA;&#x25AA;&#x25AA;&#x25AA;&#x25AA;</td><td class='float' title='float64'>&#x25AA;&#x25AA;&#x25AA;&#x25AA;&#x25AA;&#x25AA;&#x25AA;&#x25AA;</td><td class='float' title='float64'>&#x25AA;&#x25AA;&#x25AA;&#x25AA;&#x25AA;&#x25AA;&#x25AA;&#x25AA;</td><td class='float' title='float64'>&#x25AA;&#x25AA;&#x25AA;&#x25AA;&#x25AA;&#x25AA;&#x25AA;&#x25AA;</td><td class='int' title='int32'>&#x25AA;&#x25AA;&#x25AA;&#x25AA;</td><td class='str' title='str32'>&#x25AA;&#x25AA;&#x25AA;&#x25AA;</td><td></td><td class='float' title='float64'>&#x25AA;&#x25AA;&#x25AA;&#x25AA;&#x25AA;&#x25AA;&#x25AA;&#x25AA;</td><td class='float' title='float64'>&#x25AA;&#x25AA;&#x25AA;&#x25AA;&#x25AA;&#x25AA;&#x25AA;&#x25AA;</td><td class='float' title='float64'>&#x25AA;&#x25AA;&#x25AA;&#x25AA;&#x25AA;&#x25AA;&#x25AA;&#x25AA;</td><td class='float' title='float64'>&#x25AA;&#x25AA;&#x25AA;&#x25AA;&#x25AA;&#x25AA;&#x25AA;&#x25AA;</td><td class='int' title='int64'>&#x25AA;&#x25AA;&#x25AA;&#x25AA;&#x25AA;&#x25AA;&#x25AA;&#x25AA;</td></tr>\n",
       "  </thead>\n",
       "  <tbody>\n",
       "    <tr><td class='row_index'>0</td><td>2010</td><td>0</td><td>NT/RO/11005/110001</td><td>NT/RO/11005/110001/2679477</td><td>0</td><td>0</td><td>0</td><td>0</td><td>0</td><td>0_0</td><td class=vellipsis>&hellip;</td><td>&minus;11.9283</td><td>&minus;61.9953</td><td>&minus;11.9283</td><td>&minus;61.9953</td><td>49</td></tr>\n",
       "    <tr><td class='row_index'>1</td><td>2010</td><td>0</td><td>NT/RO/11005/110001</td><td>NT/RO/11003/110012/2495279</td><td>130.77</td><td>152.868</td><td>261.541</td><td>305.737</td><td>2</td><td>0_0</td><td class=vellipsis>&hellip;</td><td>&minus;11.9283</td><td>&minus;61.9953</td><td>&minus;10.8777</td><td>&minus;61.9322</td><td>2</td></tr>\n",
       "    <tr><td class='row_index'>2</td><td>2010</td><td>0</td><td>NT/RO/11005/110001</td><td>NT/RO/11001/110013/2808617</td><td>357.511</td><td>427.84</td><td>357.511</td><td>427.84</td><td>2</td><td>0_0</td><td class=vellipsis>&hellip;</td><td>&minus;11.9283</td><td>&minus;61.9953</td><td>&minus;9.44363</td><td>&minus;61.9818</td><td>1</td></tr>\n",
       "    <tr><td class='row_index'>3</td><td>2010</td><td>0</td><td>NT/RO/11005/110001</td><td>NT/RO/11002/110018/2496534</td><td>114.061</td><td>112.283</td><td>114.061</td><td>112.283</td><td>2</td><td>0_0</td><td class=vellipsis>&hellip;</td><td>&minus;11.9283</td><td>&minus;61.9953</td><td>&minus;11.672</td><td>&minus;61.198</td><td>1</td></tr>\n",
       "    <tr><td class='row_index'>4</td><td>2010</td><td>0</td><td>NT/RO/11005/110001</td><td>NT/RO/11005/110028/2495228</td><td>48.6099</td><td>50.14</td><td>194.44</td><td>200.56</td><td>1</td><td>0_0</td><td class=vellipsis>&hellip;</td><td>&minus;11.9283</td><td>&minus;61.9953</td><td>&minus;11.7271</td><td>&minus;61.7714</td><td>4</td></tr>\n",
       "    <tr><td class='row_index'>5</td><td>2010</td><td>0</td><td>NT/RO/11005/110001</td><td>SD/SP/35151/351110/2089327</td><td>2196.35</td><td>1852.41</td><td>2196.35</td><td>1852.41</td><td>4</td><td>0_0</td><td class=vellipsis>&hellip;</td><td>&minus;11.9283</td><td>&minus;61.9953</td><td>&minus;21.1314</td><td>&minus;48.977</td><td>1</td></tr>\n",
       "    <tr><td class='row_index'>6</td><td>2010</td><td>0</td><td>NT/RO/11001/110002</td><td>NT/RO/11001/110002/2494299</td><td>0</td><td>0</td><td>0</td><td>0</td><td>0</td><td>0_0</td><td class=vellipsis>&hellip;</td><td>&minus;9.90571</td><td>&minus;63.0325</td><td>&minus;9.90571</td><td>&minus;63.0325</td><td>375</td></tr>\n",
       "    <tr><td class='row_index'>7</td><td>2010</td><td>0</td><td>NT/RO/11001/110002</td><td>NT/RO/11003/110011/2808609</td><td>95.4727</td><td>140.33</td><td>381.891</td><td>561.32</td><td>2</td><td>0_0</td><td class=vellipsis>&hellip;</td><td>&minus;9.90571</td><td>&minus;63.0325</td><td>&minus;10.4318</td><td>&minus;62.4788</td><td>4</td></tr>\n",
       "    <tr><td class='row_index'>8</td><td>2010</td><td>0</td><td>NT/RO/11001/110002</td><td>NT/RO/11004/110020/4001303</td><td>203.582</td><td>188.315</td><td>203.582</td><td>188.315</td><td>2</td><td>0_1</td><td class=vellipsis>&hellip;</td><td>&minus;9.90571</td><td>&minus;63.0325</td><td>&minus;8.76077</td><td>&minus;63.8999</td><td>1</td></tr>\n",
       "    <tr><td class='row_index'>9</td><td>2010</td><td>0</td><td>NT/RO/11006/110003</td><td>NT/RO/11006/110003/2808528</td><td>0</td><td>0</td><td>0</td><td>0</td><td>0</td><td>0_0</td><td class=vellipsis>&hellip;</td><td>&minus;13.4945</td><td>&minus;60.552</td><td>&minus;13.4945</td><td>&minus;60.552</td><td>51</td></tr>\n",
       "    <tr><td class='row_index'>10</td><td>2010</td><td>0</td><td>NT/RO/11002/110004</td><td>NT/RO/11002/110004/2496046</td><td>0</td><td>0</td><td>0</td><td>0</td><td>0</td><td>0_0</td><td class=vellipsis>&hellip;</td><td>&minus;11.4343</td><td>&minus;61.4562</td><td>&minus;11.4343</td><td>&minus;61.4562</td><td>199</td></tr>\n",
       "    <tr><td class='row_index'>11</td><td>2010</td><td>0</td><td>NT/RO/11002/110004</td><td>NT/RO/11003/110012/2495279</td><td>104.964</td><td>100.03</td><td>209.928</td><td>200.06</td><td>2</td><td>0_0</td><td class=vellipsis>&hellip;</td><td>&minus;11.4343</td><td>&minus;61.4562</td><td>&minus;10.8777</td><td>&minus;61.9322</td><td>2</td></tr>\n",
       "    <tr><td class='row_index'>12</td><td>2010</td><td>0</td><td>NT/RO/11002/110004</td><td>NT/RO/11002/110018/2496534</td><td>41.4266</td><td>40.3333</td><td>41.4266</td><td>40.3333</td><td>1</td><td>0_0</td><td class=vellipsis>&hellip;</td><td>&minus;11.4343</td><td>&minus;61.4562</td><td>&minus;11.672</td><td>&minus;61.198</td><td>1</td></tr>\n",
       "    <tr><td class='row_index'>13</td><td>2010</td><td>0</td><td>NT/RO/11002/110004</td><td>NT/RO/11004/110020/4001303</td><td>480.05</td><td>497.07</td><td>960.099</td><td>994.14</td><td>2</td><td>0_1</td><td class=vellipsis>&hellip;</td><td>&minus;11.4343</td><td>&minus;61.4562</td><td>&minus;8.76077</td><td>&minus;63.8999</td><td>2</td></tr>\n",
       "    <tr><td class='row_index'>14</td><td>2010</td><td>0</td><td>NT/RO/11002/110004</td><td>NT/RO/11005/110028/2495228</td><td>47.7899</td><td>66.3017</td><td>95.5798</td><td>132.603</td><td>2</td><td>0_0</td><td class=vellipsis>&hellip;</td><td>&minus;11.4343</td><td>&minus;61.4562</td><td>&minus;11.7271</td><td>&minus;61.7714</td><td>2</td></tr>\n",
       "    <tr><td class='row_index'>&#x22EE;</td><td class='hellipsis'>&#x22EE;</td><td class='hellipsis'>&#x22EE;</td><td class='hellipsis'>&#x22EE;</td><td class='hellipsis'>&#x22EE;</td><td class='hellipsis'>&#x22EE;</td><td class='hellipsis'>&#x22EE;</td><td class='hellipsis'>&#x22EE;</td><td class='hellipsis'>&#x22EE;</td><td class='hellipsis'>&#x22EE;</td><td class='hellipsis'>&#x22EE;</td><td class='hellipsis'>&#x22F1;</td><td class='hellipsis'>&#x22EE;</td><td class='hellipsis'>&#x22EE;</td><td class='hellipsis'>&#x22EE;</td><td class='hellipsis'>&#x22EE;</td><td class='hellipsis'>&#x22EE;</td></tr>\n",
       "    <tr><td class='row_index'>461,847</td><td>2019</td><td>1</td><td>CO/DF/53001/530010</td><td>CO/DF/53001/530010/0010545</td><td>0</td><td>0</td><td>0</td><td>0</td><td>0</td><td>1_1</td><td class=vellipsis>&hellip;</td><td>&minus;15.7795</td><td>&minus;47.9297</td><td>&minus;15.7795</td><td>&minus;47.9297</td><td>479</td></tr>\n",
       "    <tr><td class='row_index'>461,848</td><td>2019</td><td>1</td><td>CO/DF/53001/530010</td><td>CO/DF/53001/530010/2645157</td><td>0</td><td>0</td><td>0</td><td>0</td><td>0</td><td>1_1</td><td class=vellipsis>&hellip;</td><td>&minus;15.7795</td><td>&minus;47.9297</td><td>&minus;15.7795</td><td>&minus;47.9297</td><td>1373</td></tr>\n",
       "    <tr><td class='row_index'>461,849</td><td>2019</td><td>1</td><td>CO/DF/53001/530010</td><td>CO/DF/53001/530010/2650355</td><td>0</td><td>0</td><td>0</td><td>0</td><td>0</td><td>1_1</td><td class=vellipsis>&hellip;</td><td>&minus;15.7795</td><td>&minus;47.9297</td><td>&minus;15.7795</td><td>&minus;47.9297</td><td>5</td></tr>\n",
       "    <tr><td class='row_index'>461,850</td><td>2019</td><td>1</td><td>CO/DF/53001/530010</td><td>CO/DF/53001/530010/2672197</td><td>0</td><td>0</td><td>0</td><td>0</td><td>0</td><td>1_1</td><td class=vellipsis>&hellip;</td><td>&minus;15.7795</td><td>&minus;47.9297</td><td>&minus;15.7795</td><td>&minus;47.9297</td><td>2483</td></tr>\n",
       "    <tr><td class='row_index'>461,851</td><td>2019</td><td>1</td><td>CO/DF/53001/530010</td><td>CO/DF/53001/530010/5717515</td><td>0</td><td>0</td><td>0</td><td>0</td><td>0</td><td>1_1</td><td class=vellipsis>&hellip;</td><td>&minus;15.7795</td><td>&minus;47.9297</td><td>&minus;15.7795</td><td>&minus;47.9297</td><td>1086</td></tr>\n",
       "  </tbody>\n",
       "  </table>\n",
       "  <div class='footer'>\n",
       "    <div class='frame_dimensions'>461,852 rows &times; 16 columns</div>\n",
       "  </div>\n",
       "</div>\n"
      ],
      "text/plain": [
       "<Frame#7fc76b569ae0 461852x16>"
      ]
     },
     "execution_count": 19,
     "metadata": {},
     "output_type": "execute_result"
    }
   ],
   "source": [
    "df_proc = df_proc[:, cols_order]\n",
    "df_proc"
   ]
  },
  {
   "cell_type": "markdown",
   "metadata": {},
   "source": [
    "# Biênios (2010/11 & 2018/19)"
   ]
  },
  {
   "cell_type": "markdown",
   "metadata": {},
   "source": [
    "## Filtrando os anos"
   ]
  },
  {
   "cell_type": "code",
   "execution_count": 20,
   "metadata": {},
   "outputs": [
    {
     "data": {
      "text/html": [
       "<div class='datatable'>\n",
       "  <table class='frame'>\n",
       "  <thead>\n",
       "    <tr class='colnames'><td class='row_index'></td><th>ano</th><th>parto_normal</th><th>origem</th><th>destino</th><th>distancia (km)</th><th>tempo (min)</th><th>dist_pond</th><th>tempo_pond</th><th>criticidade</th><th>capitais</th><th class='vellipsis'>&hellip;</th><th>origem_latitude</th><th>origem_longitude</th><th>destino_latitude</th><th>destino_longitude</th><th>count</th></tr>\n",
       "    <tr class='coltypes'><td class='row_index'></td><td class='int' title='int32'>&#x25AA;&#x25AA;&#x25AA;&#x25AA;</td><td class='bool' title='bool8'>&#x25AA;</td><td class='str' title='str32'>&#x25AA;&#x25AA;&#x25AA;&#x25AA;</td><td class='str' title='str32'>&#x25AA;&#x25AA;&#x25AA;&#x25AA;</td><td class='float' title='float64'>&#x25AA;&#x25AA;&#x25AA;&#x25AA;&#x25AA;&#x25AA;&#x25AA;&#x25AA;</td><td class='float' title='float64'>&#x25AA;&#x25AA;&#x25AA;&#x25AA;&#x25AA;&#x25AA;&#x25AA;&#x25AA;</td><td class='float' title='float64'>&#x25AA;&#x25AA;&#x25AA;&#x25AA;&#x25AA;&#x25AA;&#x25AA;&#x25AA;</td><td class='float' title='float64'>&#x25AA;&#x25AA;&#x25AA;&#x25AA;&#x25AA;&#x25AA;&#x25AA;&#x25AA;</td><td class='int' title='int32'>&#x25AA;&#x25AA;&#x25AA;&#x25AA;</td><td class='str' title='str32'>&#x25AA;&#x25AA;&#x25AA;&#x25AA;</td><td></td><td class='float' title='float64'>&#x25AA;&#x25AA;&#x25AA;&#x25AA;&#x25AA;&#x25AA;&#x25AA;&#x25AA;</td><td class='float' title='float64'>&#x25AA;&#x25AA;&#x25AA;&#x25AA;&#x25AA;&#x25AA;&#x25AA;&#x25AA;</td><td class='float' title='float64'>&#x25AA;&#x25AA;&#x25AA;&#x25AA;&#x25AA;&#x25AA;&#x25AA;&#x25AA;</td><td class='float' title='float64'>&#x25AA;&#x25AA;&#x25AA;&#x25AA;&#x25AA;&#x25AA;&#x25AA;&#x25AA;</td><td class='int' title='int64'>&#x25AA;&#x25AA;&#x25AA;&#x25AA;&#x25AA;&#x25AA;&#x25AA;&#x25AA;</td></tr>\n",
       "  </thead>\n",
       "  <tbody>\n",
       "    <tr><td class='row_index'>0</td><td>2010</td><td>0</td><td>NT/RO/11005/110001</td><td>NT/RO/11005/110001/2679477</td><td>0</td><td>0</td><td>0</td><td>0</td><td>0</td><td>0_0</td><td class=vellipsis>&hellip;</td><td>&minus;11.9283</td><td>&minus;61.9953</td><td>&minus;11.9283</td><td>&minus;61.9953</td><td>49</td></tr>\n",
       "    <tr><td class='row_index'>1</td><td>2010</td><td>0</td><td>NT/RO/11005/110001</td><td>NT/RO/11003/110012/2495279</td><td>130.77</td><td>152.868</td><td>261.541</td><td>305.737</td><td>2</td><td>0_0</td><td class=vellipsis>&hellip;</td><td>&minus;11.9283</td><td>&minus;61.9953</td><td>&minus;10.8777</td><td>&minus;61.9322</td><td>2</td></tr>\n",
       "    <tr><td class='row_index'>2</td><td>2010</td><td>0</td><td>NT/RO/11005/110001</td><td>NT/RO/11001/110013/2808617</td><td>357.511</td><td>427.84</td><td>357.511</td><td>427.84</td><td>2</td><td>0_0</td><td class=vellipsis>&hellip;</td><td>&minus;11.9283</td><td>&minus;61.9953</td><td>&minus;9.44363</td><td>&minus;61.9818</td><td>1</td></tr>\n",
       "    <tr><td class='row_index'>3</td><td>2010</td><td>0</td><td>NT/RO/11005/110001</td><td>NT/RO/11002/110018/2496534</td><td>114.061</td><td>112.283</td><td>114.061</td><td>112.283</td><td>2</td><td>0_0</td><td class=vellipsis>&hellip;</td><td>&minus;11.9283</td><td>&minus;61.9953</td><td>&minus;11.672</td><td>&minus;61.198</td><td>1</td></tr>\n",
       "    <tr><td class='row_index'>4</td><td>2010</td><td>0</td><td>NT/RO/11005/110001</td><td>NT/RO/11005/110028/2495228</td><td>48.6099</td><td>50.14</td><td>194.44</td><td>200.56</td><td>1</td><td>0_0</td><td class=vellipsis>&hellip;</td><td>&minus;11.9283</td><td>&minus;61.9953</td><td>&minus;11.7271</td><td>&minus;61.7714</td><td>4</td></tr>\n",
       "    <tr><td class='row_index'>5</td><td>2010</td><td>0</td><td>NT/RO/11005/110001</td><td>SD/SP/35151/351110/2089327</td><td>2196.35</td><td>1852.41</td><td>2196.35</td><td>1852.41</td><td>4</td><td>0_0</td><td class=vellipsis>&hellip;</td><td>&minus;11.9283</td><td>&minus;61.9953</td><td>&minus;21.1314</td><td>&minus;48.977</td><td>1</td></tr>\n",
       "    <tr><td class='row_index'>6</td><td>2010</td><td>0</td><td>NT/RO/11001/110002</td><td>NT/RO/11001/110002/2494299</td><td>0</td><td>0</td><td>0</td><td>0</td><td>0</td><td>0_0</td><td class=vellipsis>&hellip;</td><td>&minus;9.90571</td><td>&minus;63.0325</td><td>&minus;9.90571</td><td>&minus;63.0325</td><td>375</td></tr>\n",
       "    <tr><td class='row_index'>7</td><td>2010</td><td>0</td><td>NT/RO/11001/110002</td><td>NT/RO/11003/110011/2808609</td><td>95.4727</td><td>140.33</td><td>381.891</td><td>561.32</td><td>2</td><td>0_0</td><td class=vellipsis>&hellip;</td><td>&minus;9.90571</td><td>&minus;63.0325</td><td>&minus;10.4318</td><td>&minus;62.4788</td><td>4</td></tr>\n",
       "    <tr><td class='row_index'>8</td><td>2010</td><td>0</td><td>NT/RO/11001/110002</td><td>NT/RO/11004/110020/4001303</td><td>203.582</td><td>188.315</td><td>203.582</td><td>188.315</td><td>2</td><td>0_1</td><td class=vellipsis>&hellip;</td><td>&minus;9.90571</td><td>&minus;63.0325</td><td>&minus;8.76077</td><td>&minus;63.8999</td><td>1</td></tr>\n",
       "    <tr><td class='row_index'>9</td><td>2010</td><td>0</td><td>NT/RO/11006/110003</td><td>NT/RO/11006/110003/2808528</td><td>0</td><td>0</td><td>0</td><td>0</td><td>0</td><td>0_0</td><td class=vellipsis>&hellip;</td><td>&minus;13.4945</td><td>&minus;60.552</td><td>&minus;13.4945</td><td>&minus;60.552</td><td>51</td></tr>\n",
       "    <tr><td class='row_index'>10</td><td>2010</td><td>0</td><td>NT/RO/11002/110004</td><td>NT/RO/11002/110004/2496046</td><td>0</td><td>0</td><td>0</td><td>0</td><td>0</td><td>0_0</td><td class=vellipsis>&hellip;</td><td>&minus;11.4343</td><td>&minus;61.4562</td><td>&minus;11.4343</td><td>&minus;61.4562</td><td>199</td></tr>\n",
       "    <tr><td class='row_index'>11</td><td>2010</td><td>0</td><td>NT/RO/11002/110004</td><td>NT/RO/11003/110012/2495279</td><td>104.964</td><td>100.03</td><td>209.928</td><td>200.06</td><td>2</td><td>0_0</td><td class=vellipsis>&hellip;</td><td>&minus;11.4343</td><td>&minus;61.4562</td><td>&minus;10.8777</td><td>&minus;61.9322</td><td>2</td></tr>\n",
       "    <tr><td class='row_index'>12</td><td>2010</td><td>0</td><td>NT/RO/11002/110004</td><td>NT/RO/11002/110018/2496534</td><td>41.4266</td><td>40.3333</td><td>41.4266</td><td>40.3333</td><td>1</td><td>0_0</td><td class=vellipsis>&hellip;</td><td>&minus;11.4343</td><td>&minus;61.4562</td><td>&minus;11.672</td><td>&minus;61.198</td><td>1</td></tr>\n",
       "    <tr><td class='row_index'>13</td><td>2010</td><td>0</td><td>NT/RO/11002/110004</td><td>NT/RO/11004/110020/4001303</td><td>480.05</td><td>497.07</td><td>960.099</td><td>994.14</td><td>2</td><td>0_1</td><td class=vellipsis>&hellip;</td><td>&minus;11.4343</td><td>&minus;61.4562</td><td>&minus;8.76077</td><td>&minus;63.8999</td><td>2</td></tr>\n",
       "    <tr><td class='row_index'>14</td><td>2010</td><td>0</td><td>NT/RO/11002/110004</td><td>NT/RO/11005/110028/2495228</td><td>47.7899</td><td>66.3017</td><td>95.5798</td><td>132.603</td><td>2</td><td>0_0</td><td class=vellipsis>&hellip;</td><td>&minus;11.4343</td><td>&minus;61.4562</td><td>&minus;11.7271</td><td>&minus;61.7714</td><td>2</td></tr>\n",
       "    <tr><td class='row_index'>&#x22EE;</td><td class='hellipsis'>&#x22EE;</td><td class='hellipsis'>&#x22EE;</td><td class='hellipsis'>&#x22EE;</td><td class='hellipsis'>&#x22EE;</td><td class='hellipsis'>&#x22EE;</td><td class='hellipsis'>&#x22EE;</td><td class='hellipsis'>&#x22EE;</td><td class='hellipsis'>&#x22EE;</td><td class='hellipsis'>&#x22EE;</td><td class='hellipsis'>&#x22EE;</td><td class='hellipsis'>&#x22F1;</td><td class='hellipsis'>&#x22EE;</td><td class='hellipsis'>&#x22EE;</td><td class='hellipsis'>&#x22EE;</td><td class='hellipsis'>&#x22EE;</td><td class='hellipsis'>&#x22EE;</td></tr>\n",
       "    <tr><td class='row_index'>187,466</td><td>2019</td><td>1</td><td>CO/DF/53001/530010</td><td>CO/DF/53001/530010/0010545</td><td>0</td><td>0</td><td>0</td><td>0</td><td>0</td><td>1_1</td><td class=vellipsis>&hellip;</td><td>&minus;15.7795</td><td>&minus;47.9297</td><td>&minus;15.7795</td><td>&minus;47.9297</td><td>479</td></tr>\n",
       "    <tr><td class='row_index'>187,467</td><td>2019</td><td>1</td><td>CO/DF/53001/530010</td><td>CO/DF/53001/530010/2645157</td><td>0</td><td>0</td><td>0</td><td>0</td><td>0</td><td>1_1</td><td class=vellipsis>&hellip;</td><td>&minus;15.7795</td><td>&minus;47.9297</td><td>&minus;15.7795</td><td>&minus;47.9297</td><td>1373</td></tr>\n",
       "    <tr><td class='row_index'>187,468</td><td>2019</td><td>1</td><td>CO/DF/53001/530010</td><td>CO/DF/53001/530010/2650355</td><td>0</td><td>0</td><td>0</td><td>0</td><td>0</td><td>1_1</td><td class=vellipsis>&hellip;</td><td>&minus;15.7795</td><td>&minus;47.9297</td><td>&minus;15.7795</td><td>&minus;47.9297</td><td>5</td></tr>\n",
       "    <tr><td class='row_index'>187,469</td><td>2019</td><td>1</td><td>CO/DF/53001/530010</td><td>CO/DF/53001/530010/2672197</td><td>0</td><td>0</td><td>0</td><td>0</td><td>0</td><td>1_1</td><td class=vellipsis>&hellip;</td><td>&minus;15.7795</td><td>&minus;47.9297</td><td>&minus;15.7795</td><td>&minus;47.9297</td><td>2483</td></tr>\n",
       "    <tr><td class='row_index'>187,470</td><td>2019</td><td>1</td><td>CO/DF/53001/530010</td><td>CO/DF/53001/530010/5717515</td><td>0</td><td>0</td><td>0</td><td>0</td><td>0</td><td>1_1</td><td class=vellipsis>&hellip;</td><td>&minus;15.7795</td><td>&minus;47.9297</td><td>&minus;15.7795</td><td>&minus;47.9297</td><td>1086</td></tr>\n",
       "  </tbody>\n",
       "  </table>\n",
       "  <div class='footer'>\n",
       "    <div class='frame_dimensions'>187,471 rows &times; 16 columns</div>\n",
       "  </div>\n",
       "</div>\n"
      ],
      "text/plain": [
       "<Frame#7fc76b569090 187471x16>"
      ]
     },
     "execution_count": 20,
     "metadata": {},
     "output_type": "execute_result"
    }
   ],
   "source": [
    "df_proc_bienio = df_proc[\n",
    "  (f.ano == 2010) | (f.ano == 2011) | (f.ano == 2018) |(f.ano == 2019)\n",
    ", :]\n",
    "df_proc_bienio"
   ]
  },
  {
   "cell_type": "markdown",
   "metadata": {},
   "source": [
    "## Atualizando variável ano (biênio)"
   ]
  },
  {
   "cell_type": "markdown",
   "metadata": {},
   "source": [
    "Valor da variável `bienio`:\n",
    "\n",
    "- `0 (False) = 2010/11`\n",
    "- `1 (True) = 2018/19`"
   ]
  },
  {
   "cell_type": "code",
   "execution_count": 21,
   "metadata": {},
   "outputs": [
    {
     "data": {
      "text/html": [
       "<div class='datatable'>\n",
       "  <table class='frame'>\n",
       "  <thead>\n",
       "    <tr class='colnames'><td class='row_index'></td><th>bienio</th><th>parto_normal</th><th>origem</th><th>destino</th><th>distancia (km)</th><th>tempo (min)</th><th>dist_pond</th><th>tempo_pond</th><th>criticidade</th><th>capitais</th><th class='vellipsis'>&hellip;</th><th>origem_latitude</th><th>origem_longitude</th><th>destino_latitude</th><th>destino_longitude</th><th>count</th></tr>\n",
       "    <tr class='coltypes'><td class='row_index'></td><td class='bool' title='bool8'>&#x25AA;</td><td class='bool' title='bool8'>&#x25AA;</td><td class='str' title='str32'>&#x25AA;&#x25AA;&#x25AA;&#x25AA;</td><td class='str' title='str32'>&#x25AA;&#x25AA;&#x25AA;&#x25AA;</td><td class='float' title='float64'>&#x25AA;&#x25AA;&#x25AA;&#x25AA;&#x25AA;&#x25AA;&#x25AA;&#x25AA;</td><td class='float' title='float64'>&#x25AA;&#x25AA;&#x25AA;&#x25AA;&#x25AA;&#x25AA;&#x25AA;&#x25AA;</td><td class='float' title='float64'>&#x25AA;&#x25AA;&#x25AA;&#x25AA;&#x25AA;&#x25AA;&#x25AA;&#x25AA;</td><td class='float' title='float64'>&#x25AA;&#x25AA;&#x25AA;&#x25AA;&#x25AA;&#x25AA;&#x25AA;&#x25AA;</td><td class='int' title='int32'>&#x25AA;&#x25AA;&#x25AA;&#x25AA;</td><td class='str' title='str32'>&#x25AA;&#x25AA;&#x25AA;&#x25AA;</td><td></td><td class='float' title='float64'>&#x25AA;&#x25AA;&#x25AA;&#x25AA;&#x25AA;&#x25AA;&#x25AA;&#x25AA;</td><td class='float' title='float64'>&#x25AA;&#x25AA;&#x25AA;&#x25AA;&#x25AA;&#x25AA;&#x25AA;&#x25AA;</td><td class='float' title='float64'>&#x25AA;&#x25AA;&#x25AA;&#x25AA;&#x25AA;&#x25AA;&#x25AA;&#x25AA;</td><td class='float' title='float64'>&#x25AA;&#x25AA;&#x25AA;&#x25AA;&#x25AA;&#x25AA;&#x25AA;&#x25AA;</td><td class='int' title='int64'>&#x25AA;&#x25AA;&#x25AA;&#x25AA;&#x25AA;&#x25AA;&#x25AA;&#x25AA;</td></tr>\n",
       "  </thead>\n",
       "  <tbody>\n",
       "    <tr><td class='row_index'>0</td><td>0</td><td>0</td><td>NT/RO/11005/110001</td><td>NT/RO/11005/110001/2679477</td><td>0</td><td>0</td><td>0</td><td>0</td><td>0</td><td>0_0</td><td class=vellipsis>&hellip;</td><td>&minus;11.9283</td><td>&minus;61.9953</td><td>&minus;11.9283</td><td>&minus;61.9953</td><td>49</td></tr>\n",
       "    <tr><td class='row_index'>1</td><td>0</td><td>0</td><td>NT/RO/11005/110001</td><td>NT/RO/11003/110012/2495279</td><td>130.77</td><td>152.868</td><td>261.541</td><td>305.737</td><td>2</td><td>0_0</td><td class=vellipsis>&hellip;</td><td>&minus;11.9283</td><td>&minus;61.9953</td><td>&minus;10.8777</td><td>&minus;61.9322</td><td>2</td></tr>\n",
       "    <tr><td class='row_index'>2</td><td>0</td><td>0</td><td>NT/RO/11005/110001</td><td>NT/RO/11001/110013/2808617</td><td>357.511</td><td>427.84</td><td>357.511</td><td>427.84</td><td>2</td><td>0_0</td><td class=vellipsis>&hellip;</td><td>&minus;11.9283</td><td>&minus;61.9953</td><td>&minus;9.44363</td><td>&minus;61.9818</td><td>1</td></tr>\n",
       "    <tr><td class='row_index'>3</td><td>0</td><td>0</td><td>NT/RO/11005/110001</td><td>NT/RO/11002/110018/2496534</td><td>114.061</td><td>112.283</td><td>114.061</td><td>112.283</td><td>2</td><td>0_0</td><td class=vellipsis>&hellip;</td><td>&minus;11.9283</td><td>&minus;61.9953</td><td>&minus;11.672</td><td>&minus;61.198</td><td>1</td></tr>\n",
       "    <tr><td class='row_index'>4</td><td>0</td><td>0</td><td>NT/RO/11005/110001</td><td>NT/RO/11005/110028/2495228</td><td>48.6099</td><td>50.14</td><td>194.44</td><td>200.56</td><td>1</td><td>0_0</td><td class=vellipsis>&hellip;</td><td>&minus;11.9283</td><td>&minus;61.9953</td><td>&minus;11.7271</td><td>&minus;61.7714</td><td>4</td></tr>\n",
       "    <tr><td class='row_index'>5</td><td>0</td><td>0</td><td>NT/RO/11005/110001</td><td>SD/SP/35151/351110/2089327</td><td>2196.35</td><td>1852.41</td><td>2196.35</td><td>1852.41</td><td>4</td><td>0_0</td><td class=vellipsis>&hellip;</td><td>&minus;11.9283</td><td>&minus;61.9953</td><td>&minus;21.1314</td><td>&minus;48.977</td><td>1</td></tr>\n",
       "    <tr><td class='row_index'>6</td><td>0</td><td>0</td><td>NT/RO/11001/110002</td><td>NT/RO/11001/110002/2494299</td><td>0</td><td>0</td><td>0</td><td>0</td><td>0</td><td>0_0</td><td class=vellipsis>&hellip;</td><td>&minus;9.90571</td><td>&minus;63.0325</td><td>&minus;9.90571</td><td>&minus;63.0325</td><td>375</td></tr>\n",
       "    <tr><td class='row_index'>7</td><td>0</td><td>0</td><td>NT/RO/11001/110002</td><td>NT/RO/11003/110011/2808609</td><td>95.4727</td><td>140.33</td><td>381.891</td><td>561.32</td><td>2</td><td>0_0</td><td class=vellipsis>&hellip;</td><td>&minus;9.90571</td><td>&minus;63.0325</td><td>&minus;10.4318</td><td>&minus;62.4788</td><td>4</td></tr>\n",
       "    <tr><td class='row_index'>8</td><td>0</td><td>0</td><td>NT/RO/11001/110002</td><td>NT/RO/11004/110020/4001303</td><td>203.582</td><td>188.315</td><td>203.582</td><td>188.315</td><td>2</td><td>0_1</td><td class=vellipsis>&hellip;</td><td>&minus;9.90571</td><td>&minus;63.0325</td><td>&minus;8.76077</td><td>&minus;63.8999</td><td>1</td></tr>\n",
       "    <tr><td class='row_index'>9</td><td>0</td><td>0</td><td>NT/RO/11006/110003</td><td>NT/RO/11006/110003/2808528</td><td>0</td><td>0</td><td>0</td><td>0</td><td>0</td><td>0_0</td><td class=vellipsis>&hellip;</td><td>&minus;13.4945</td><td>&minus;60.552</td><td>&minus;13.4945</td><td>&minus;60.552</td><td>51</td></tr>\n",
       "    <tr><td class='row_index'>10</td><td>0</td><td>0</td><td>NT/RO/11002/110004</td><td>NT/RO/11002/110004/2496046</td><td>0</td><td>0</td><td>0</td><td>0</td><td>0</td><td>0_0</td><td class=vellipsis>&hellip;</td><td>&minus;11.4343</td><td>&minus;61.4562</td><td>&minus;11.4343</td><td>&minus;61.4562</td><td>199</td></tr>\n",
       "    <tr><td class='row_index'>11</td><td>0</td><td>0</td><td>NT/RO/11002/110004</td><td>NT/RO/11003/110012/2495279</td><td>104.964</td><td>100.03</td><td>209.928</td><td>200.06</td><td>2</td><td>0_0</td><td class=vellipsis>&hellip;</td><td>&minus;11.4343</td><td>&minus;61.4562</td><td>&minus;10.8777</td><td>&minus;61.9322</td><td>2</td></tr>\n",
       "    <tr><td class='row_index'>12</td><td>0</td><td>0</td><td>NT/RO/11002/110004</td><td>NT/RO/11002/110018/2496534</td><td>41.4266</td><td>40.3333</td><td>41.4266</td><td>40.3333</td><td>1</td><td>0_0</td><td class=vellipsis>&hellip;</td><td>&minus;11.4343</td><td>&minus;61.4562</td><td>&minus;11.672</td><td>&minus;61.198</td><td>1</td></tr>\n",
       "    <tr><td class='row_index'>13</td><td>0</td><td>0</td><td>NT/RO/11002/110004</td><td>NT/RO/11004/110020/4001303</td><td>480.05</td><td>497.07</td><td>960.099</td><td>994.14</td><td>2</td><td>0_1</td><td class=vellipsis>&hellip;</td><td>&minus;11.4343</td><td>&minus;61.4562</td><td>&minus;8.76077</td><td>&minus;63.8999</td><td>2</td></tr>\n",
       "    <tr><td class='row_index'>14</td><td>0</td><td>0</td><td>NT/RO/11002/110004</td><td>NT/RO/11005/110028/2495228</td><td>47.7899</td><td>66.3017</td><td>95.5798</td><td>132.603</td><td>2</td><td>0_0</td><td class=vellipsis>&hellip;</td><td>&minus;11.4343</td><td>&minus;61.4562</td><td>&minus;11.7271</td><td>&minus;61.7714</td><td>2</td></tr>\n",
       "    <tr><td class='row_index'>&#x22EE;</td><td class='hellipsis'>&#x22EE;</td><td class='hellipsis'>&#x22EE;</td><td class='hellipsis'>&#x22EE;</td><td class='hellipsis'>&#x22EE;</td><td class='hellipsis'>&#x22EE;</td><td class='hellipsis'>&#x22EE;</td><td class='hellipsis'>&#x22EE;</td><td class='hellipsis'>&#x22EE;</td><td class='hellipsis'>&#x22EE;</td><td class='hellipsis'>&#x22EE;</td><td class='hellipsis'>&#x22F1;</td><td class='hellipsis'>&#x22EE;</td><td class='hellipsis'>&#x22EE;</td><td class='hellipsis'>&#x22EE;</td><td class='hellipsis'>&#x22EE;</td><td class='hellipsis'>&#x22EE;</td></tr>\n",
       "    <tr><td class='row_index'>187,466</td><td>1</td><td>1</td><td>CO/DF/53001/530010</td><td>CO/DF/53001/530010/0010545</td><td>0</td><td>0</td><td>0</td><td>0</td><td>0</td><td>1_1</td><td class=vellipsis>&hellip;</td><td>&minus;15.7795</td><td>&minus;47.9297</td><td>&minus;15.7795</td><td>&minus;47.9297</td><td>479</td></tr>\n",
       "    <tr><td class='row_index'>187,467</td><td>1</td><td>1</td><td>CO/DF/53001/530010</td><td>CO/DF/53001/530010/2645157</td><td>0</td><td>0</td><td>0</td><td>0</td><td>0</td><td>1_1</td><td class=vellipsis>&hellip;</td><td>&minus;15.7795</td><td>&minus;47.9297</td><td>&minus;15.7795</td><td>&minus;47.9297</td><td>1373</td></tr>\n",
       "    <tr><td class='row_index'>187,468</td><td>1</td><td>1</td><td>CO/DF/53001/530010</td><td>CO/DF/53001/530010/2650355</td><td>0</td><td>0</td><td>0</td><td>0</td><td>0</td><td>1_1</td><td class=vellipsis>&hellip;</td><td>&minus;15.7795</td><td>&minus;47.9297</td><td>&minus;15.7795</td><td>&minus;47.9297</td><td>5</td></tr>\n",
       "    <tr><td class='row_index'>187,469</td><td>1</td><td>1</td><td>CO/DF/53001/530010</td><td>CO/DF/53001/530010/2672197</td><td>0</td><td>0</td><td>0</td><td>0</td><td>0</td><td>1_1</td><td class=vellipsis>&hellip;</td><td>&minus;15.7795</td><td>&minus;47.9297</td><td>&minus;15.7795</td><td>&minus;47.9297</td><td>2483</td></tr>\n",
       "    <tr><td class='row_index'>187,470</td><td>1</td><td>1</td><td>CO/DF/53001/530010</td><td>CO/DF/53001/530010/5717515</td><td>0</td><td>0</td><td>0</td><td>0</td><td>0</td><td>1_1</td><td class=vellipsis>&hellip;</td><td>&minus;15.7795</td><td>&minus;47.9297</td><td>&minus;15.7795</td><td>&minus;47.9297</td><td>1086</td></tr>\n",
       "  </tbody>\n",
       "  </table>\n",
       "  <div class='footer'>\n",
       "    <div class='frame_dimensions'>187,471 rows &times; 16 columns</div>\n",
       "  </div>\n",
       "</div>\n"
      ],
      "text/plain": [
       "<Frame#7fc76b569090 187471x16>"
      ]
     },
     "execution_count": 21,
     "metadata": {},
     "output_type": "execute_result"
    }
   ],
   "source": [
    "df_proc_bienio[:, dt.update(ano = (f.ano == 2018) | (f.ano == 2019))]\n",
    "df_proc_bienio.names = {'ano': 'bienio'}\n",
    "df_proc_bienio"
   ]
  },
  {
   "cell_type": "markdown",
   "metadata": {},
   "source": [
    "### Tabela agrupada"
   ]
  },
  {
   "cell_type": "code",
   "execution_count": 22,
   "metadata": {},
   "outputs": [
    {
     "data": {
      "text/html": [
       "<div class='datatable'>\n",
       "  <table class='frame'>\n",
       "  <thead>\n",
       "    <tr class='colnames'><td class='row_index'></td><th>bienio</th><th>parto_normal</th><th>origem</th><th>destino</th><th>distancia (km)</th><th>tempo (min)</th><th>dist_pond</th><th>tempo_pond</th><th>criticidade</th><th>capitais</th><th class='vellipsis'>&hellip;</th><th>origem_latitude</th><th>origem_longitude</th><th>destino_latitude</th><th>destino_longitude</th><th>count</th></tr>\n",
       "    <tr class='coltypes'><td class='row_index'></td><td class='bool' title='bool8'>&#x25AA;</td><td class='bool' title='bool8'>&#x25AA;</td><td class='str' title='str32'>&#x25AA;&#x25AA;&#x25AA;&#x25AA;</td><td class='str' title='str32'>&#x25AA;&#x25AA;&#x25AA;&#x25AA;</td><td class='float' title='float64'>&#x25AA;&#x25AA;&#x25AA;&#x25AA;&#x25AA;&#x25AA;&#x25AA;&#x25AA;</td><td class='float' title='float64'>&#x25AA;&#x25AA;&#x25AA;&#x25AA;&#x25AA;&#x25AA;&#x25AA;&#x25AA;</td><td class='float' title='float64'>&#x25AA;&#x25AA;&#x25AA;&#x25AA;&#x25AA;&#x25AA;&#x25AA;&#x25AA;</td><td class='float' title='float64'>&#x25AA;&#x25AA;&#x25AA;&#x25AA;&#x25AA;&#x25AA;&#x25AA;&#x25AA;</td><td class='int' title='int32'>&#x25AA;&#x25AA;&#x25AA;&#x25AA;</td><td class='str' title='str32'>&#x25AA;&#x25AA;&#x25AA;&#x25AA;</td><td></td><td class='float' title='float64'>&#x25AA;&#x25AA;&#x25AA;&#x25AA;&#x25AA;&#x25AA;&#x25AA;&#x25AA;</td><td class='float' title='float64'>&#x25AA;&#x25AA;&#x25AA;&#x25AA;&#x25AA;&#x25AA;&#x25AA;&#x25AA;</td><td class='float' title='float64'>&#x25AA;&#x25AA;&#x25AA;&#x25AA;&#x25AA;&#x25AA;&#x25AA;&#x25AA;</td><td class='float' title='float64'>&#x25AA;&#x25AA;&#x25AA;&#x25AA;&#x25AA;&#x25AA;&#x25AA;&#x25AA;</td><td class='int' title='int64'>&#x25AA;&#x25AA;&#x25AA;&#x25AA;&#x25AA;&#x25AA;&#x25AA;&#x25AA;</td></tr>\n",
       "  </thead>\n",
       "  <tbody>\n",
       "    <tr><td class='row_index'>0</td><td>0</td><td>0</td><td>CO/DF/53001/530010</td><td>CO/DF/53001/530010/0010464</td><td>0</td><td>0</td><td>0</td><td>0</td><td>0</td><td>1_1</td><td class=vellipsis>&hellip;</td><td>&minus;15.7795</td><td>&minus;47.9297</td><td>&minus;15.7795</td><td>&minus;47.9297</td><td>260</td></tr>\n",
       "    <tr><td class='row_index'>1</td><td>0</td><td>0</td><td>CO/DF/53001/530010</td><td>CO/DF/53001/530010/0010472</td><td>0</td><td>0</td><td>0</td><td>0</td><td>0</td><td>1_1</td><td class=vellipsis>&hellip;</td><td>&minus;15.7795</td><td>&minus;47.9297</td><td>&minus;15.7795</td><td>&minus;47.9297</td><td>282</td></tr>\n",
       "    <tr><td class='row_index'>2</td><td>0</td><td>0</td><td>CO/DF/53001/530010</td><td>CO/DF/53001/530010/0010480</td><td>0</td><td>0</td><td>0</td><td>0</td><td>0</td><td>1_1</td><td class=vellipsis>&hellip;</td><td>&minus;15.7795</td><td>&minus;47.9297</td><td>&minus;15.7795</td><td>&minus;47.9297</td><td>3323</td></tr>\n",
       "    <tr><td class='row_index'>3</td><td>0</td><td>0</td><td>CO/DF/53001/530010</td><td>CO/DF/53001/530010/0010499</td><td>0</td><td>0</td><td>0</td><td>0</td><td>0</td><td>1_1</td><td class=vellipsis>&hellip;</td><td>&minus;15.7795</td><td>&minus;47.9297</td><td>&minus;15.7795</td><td>&minus;47.9297</td><td>3368</td></tr>\n",
       "    <tr><td class='row_index'>4</td><td>0</td><td>0</td><td>CO/DF/53001/530010</td><td>CO/DF/53001/530010/0010502</td><td>0</td><td>0</td><td>0</td><td>0</td><td>0</td><td>1_1</td><td class=vellipsis>&hellip;</td><td>&minus;15.7795</td><td>&minus;47.9297</td><td>&minus;15.7795</td><td>&minus;47.9297</td><td>964</td></tr>\n",
       "    <tr><td class='row_index'>5</td><td>0</td><td>0</td><td>CO/DF/53001/530010</td><td>CO/DF/53001/530010/0010510</td><td>0</td><td>0</td><td>0</td><td>0</td><td>0</td><td>1_1</td><td class=vellipsis>&hellip;</td><td>&minus;15.7795</td><td>&minus;47.9297</td><td>&minus;15.7795</td><td>&minus;47.9297</td><td>832</td></tr>\n",
       "    <tr><td class='row_index'>6</td><td>0</td><td>0</td><td>CO/DF/53001/530010</td><td>CO/DF/53001/530010/0010529</td><td>0</td><td>0</td><td>0</td><td>0</td><td>0</td><td>1_1</td><td class=vellipsis>&hellip;</td><td>&minus;15.7795</td><td>&minus;47.9297</td><td>&minus;15.7795</td><td>&minus;47.9297</td><td>1831</td></tr>\n",
       "    <tr><td class='row_index'>7</td><td>0</td><td>0</td><td>CO/DF/53001/530010</td><td>CO/DF/53001/530010/0010537</td><td>0</td><td>0</td><td>0</td><td>0</td><td>0</td><td>1_1</td><td class=vellipsis>&hellip;</td><td>&minus;15.7795</td><td>&minus;47.9297</td><td>&minus;15.7795</td><td>&minus;47.9297</td><td>3707</td></tr>\n",
       "    <tr><td class='row_index'>8</td><td>0</td><td>0</td><td>CO/DF/53001/530010</td><td>CO/DF/53001/530010/0010545</td><td>0</td><td>0</td><td>0</td><td>0</td><td>0</td><td>1_1</td><td class=vellipsis>&hellip;</td><td>&minus;15.7795</td><td>&minus;47.9297</td><td>&minus;15.7795</td><td>&minus;47.9297</td><td>728</td></tr>\n",
       "    <tr><td class='row_index'>9</td><td>0</td><td>0</td><td>CO/DF/53001/530010</td><td>CO/DF/53001/530010/0010561</td><td>0</td><td>0</td><td>0</td><td>0</td><td>0</td><td>1_1</td><td class=vellipsis>&hellip;</td><td>&minus;15.7795</td><td>&minus;47.9297</td><td>&minus;15.7795</td><td>&minus;47.9297</td><td>1</td></tr>\n",
       "    <tr><td class='row_index'>10</td><td>0</td><td>0</td><td>CO/DF/53001/530010</td><td>CO/DF/53001/530010/2645157</td><td>0</td><td>0</td><td>0</td><td>0</td><td>0</td><td>1_1</td><td class=vellipsis>&hellip;</td><td>&minus;15.7795</td><td>&minus;47.9297</td><td>&minus;15.7795</td><td>&minus;47.9297</td><td>2251</td></tr>\n",
       "    <tr><td class='row_index'>11</td><td>0</td><td>0</td><td>CO/DF/53001/530010</td><td>CO/DF/53001/530010/2672197</td><td>0</td><td>0</td><td>0</td><td>0</td><td>0</td><td>1_1</td><td class=vellipsis>&hellip;</td><td>&minus;15.7795</td><td>&minus;47.9297</td><td>&minus;15.7795</td><td>&minus;47.9297</td><td>1561</td></tr>\n",
       "    <tr><td class='row_index'>12</td><td>0</td><td>0</td><td>CO/DF/53001/530010</td><td>CO/DF/53001/530010/5717515</td><td>0</td><td>0</td><td>0</td><td>0</td><td>0</td><td>1_1</td><td class=vellipsis>&hellip;</td><td>&minus;15.7795</td><td>&minus;47.9297</td><td>&minus;15.7795</td><td>&minus;47.9297</td><td>1798</td></tr>\n",
       "    <tr><td class='row_index'>13</td><td>0</td><td>0</td><td>CO/DF/53001/530010</td><td>CO/GO/52011/520110/2361787</td><td>152.625</td><td>132.723</td><td>305.25</td><td>265.447</td><td>3</td><td>1_0</td><td class=vellipsis>&hellip;</td><td>&minus;15.7795</td><td>&minus;47.9297</td><td>&minus;16.3281</td><td>&minus;48.953</td><td>4</td></tr>\n",
       "    <tr><td class='row_index'>14</td><td>0</td><td>0</td><td>CO/DF/53001/530010</td><td>ND/BA/29002/290320/3972925</td><td>630.949</td><td>466.705</td><td>630.949</td><td>466.705</td><td>4</td><td>1_0</td><td class=vellipsis>&hellip;</td><td>&minus;15.7795</td><td>&minus;47.9297</td><td>&minus;12.1439</td><td>&minus;44.9968</td><td>1</td></tr>\n",
       "    <tr><td class='row_index'>&#x22EE;</td><td class='hellipsis'>&#x22EE;</td><td class='hellipsis'>&#x22EE;</td><td class='hellipsis'>&#x22EE;</td><td class='hellipsis'>&#x22EE;</td><td class='hellipsis'>&#x22EE;</td><td class='hellipsis'>&#x22EE;</td><td class='hellipsis'>&#x22EE;</td><td class='hellipsis'>&#x22EE;</td><td class='hellipsis'>&#x22EE;</td><td class='hellipsis'>&#x22EE;</td><td class='hellipsis'>&#x22F1;</td><td class='hellipsis'>&#x22EE;</td><td class='hellipsis'>&#x22EE;</td><td class='hellipsis'>&#x22EE;</td><td class='hellipsis'>&#x22EE;</td><td class='hellipsis'>&#x22EE;</td></tr>\n",
       "    <tr><td class='row_index'>167,211</td><td>1</td><td>1</td><td>SL/SC/42016/421870</td><td>SL/SC/42007/420540/3157245</td><td>138.477</td><td>104.94</td><td>138.477</td><td>104.94</td><td>2</td><td>0_1</td><td class=vellipsis>&hellip;</td><td>&minus;28.4713</td><td>&minus;49.0144</td><td>&minus;27.5945</td><td>&minus;48.5477</td><td>1</td></tr>\n",
       "    <tr><td class='row_index'>167,212</td><td>1</td><td>1</td><td>SL/SC/42016/421870</td><td>SL/SC/42015/420460/2594277</td><td>54.621</td><td>49.3167</td><td>54.621</td><td>49.3167</td><td>2</td><td>0_0</td><td class=vellipsis>&hellip;</td><td>&minus;28.4713</td><td>&minus;49.0144</td><td>&minus;28.6723</td><td>&minus;49.3729</td><td>1</td></tr>\n",
       "    <tr><td class='row_index'>167,213</td><td>1</td><td>1</td><td>SL/SC/42016/421870</td><td>SL/SC/42016/420280/2665883</td><td>35.5439</td><td>37.4933</td><td>71.0878</td><td>74.9867</td><td>1</td><td>0_0</td><td class=vellipsis>&hellip;</td><td>&minus;28.4713</td><td>&minus;49.0144</td><td>&minus;28.2681</td><td>&minus;49.1701</td><td>2</td></tr>\n",
       "    <tr><td class='row_index'>167,214</td><td>1</td><td>1</td><td>SL/SC/42016/421870</td><td>SL/SC/42016/420730/2385880</td><td>53.961</td><td>45.3533</td><td>53.961</td><td>45.3533</td><td>1</td><td>0_0</td><td class=vellipsis>&hellip;</td><td>&minus;28.4713</td><td>&minus;49.0144</td><td>&minus;28.2284</td><td>&minus;48.6659</td><td>1</td></tr>\n",
       "    <tr><td class='row_index'>167,215</td><td>1</td><td>1</td><td>SL/SC/42016/421870</td><td>SL/SC/42016/421870/2491710</td><td>0</td><td>0</td><td>0</td><td>0</td><td>0</td><td>0_0</td><td class=vellipsis>&hellip;</td><td>&minus;28.4713</td><td>&minus;49.0144</td><td>&minus;28.4713</td><td>&minus;49.0144</td><td>441</td></tr>\n",
       "  </tbody>\n",
       "  </table>\n",
       "  <div class='footer'>\n",
       "    <div class='frame_dimensions'>167,216 rows &times; 16 columns</div>\n",
       "  </div>\n",
       "</div>\n"
      ],
      "text/plain": [
       "<Frame#7fc76b5694b0 167216x16>"
      ]
     },
     "execution_count": 22,
     "metadata": {},
     "output_type": "execute_result"
    }
   ],
   "source": [
    "df_proc_bienio = df_proc_bienio[:, dt.sum(f.count), by(df_proc_bienio.names[:-1])]\n",
    "df_proc_bienio"
   ]
  },
  {
   "cell_type": "markdown",
   "metadata": {},
   "source": [
    "# Exportando tabela"
   ]
  },
  {
   "cell_type": "markdown",
   "metadata": {},
   "source": [
    "## Ano"
   ]
  },
  {
   "cell_type": "code",
   "execution_count": 23,
   "metadata": {},
   "outputs": [],
   "source": [
    "output_proc = get_path('GESTANTES', 'procs_ano.csv.gzip')\n",
    "df_proc.to_csv(output_proc)"
   ]
  },
  {
   "cell_type": "code",
   "execution_count": 24,
   "metadata": {},
   "outputs": [
    {
     "data": {
      "text/html": [
       "<div class='datatable'>\n",
       "  <table class='frame'>\n",
       "  <thead>\n",
       "    <tr class='colnames'><td class='row_index'></td><th>ano</th><th>parto_normal</th><th>origem</th><th>destino</th><th>distancia (km)</th><th>tempo (min)</th><th>dist_pond</th><th>tempo_pond</th><th>criticidade</th><th>capitais</th><th class='vellipsis'>&hellip;</th><th>origem_latitude</th><th>origem_longitude</th><th>destino_latitude</th><th>destino_longitude</th><th>count</th></tr>\n",
       "    <tr class='coltypes'><td class='row_index'></td><td class='int' title='int32'>&#x25AA;&#x25AA;&#x25AA;&#x25AA;</td><td class='bool' title='bool8'>&#x25AA;</td><td class='str' title='str32'>&#x25AA;&#x25AA;&#x25AA;&#x25AA;</td><td class='str' title='str32'>&#x25AA;&#x25AA;&#x25AA;&#x25AA;</td><td class='float' title='float64'>&#x25AA;&#x25AA;&#x25AA;&#x25AA;&#x25AA;&#x25AA;&#x25AA;&#x25AA;</td><td class='float' title='float64'>&#x25AA;&#x25AA;&#x25AA;&#x25AA;&#x25AA;&#x25AA;&#x25AA;&#x25AA;</td><td class='float' title='float64'>&#x25AA;&#x25AA;&#x25AA;&#x25AA;&#x25AA;&#x25AA;&#x25AA;&#x25AA;</td><td class='float' title='float64'>&#x25AA;&#x25AA;&#x25AA;&#x25AA;&#x25AA;&#x25AA;&#x25AA;&#x25AA;</td><td class='int' title='int32'>&#x25AA;&#x25AA;&#x25AA;&#x25AA;</td><td class='str' title='str32'>&#x25AA;&#x25AA;&#x25AA;&#x25AA;</td><td></td><td class='float' title='float64'>&#x25AA;&#x25AA;&#x25AA;&#x25AA;&#x25AA;&#x25AA;&#x25AA;&#x25AA;</td><td class='float' title='float64'>&#x25AA;&#x25AA;&#x25AA;&#x25AA;&#x25AA;&#x25AA;&#x25AA;&#x25AA;</td><td class='float' title='float64'>&#x25AA;&#x25AA;&#x25AA;&#x25AA;&#x25AA;&#x25AA;&#x25AA;&#x25AA;</td><td class='float' title='float64'>&#x25AA;&#x25AA;&#x25AA;&#x25AA;&#x25AA;&#x25AA;&#x25AA;&#x25AA;</td><td class='int' title='int32'>&#x25AA;&#x25AA;&#x25AA;&#x25AA;</td></tr>\n",
       "  </thead>\n",
       "  <tbody>\n",
       "    <tr><td class='row_index'>0</td><td>2010</td><td>0</td><td>NT/RO/11005/110001</td><td>NT/RO/11005/110001/2679477</td><td>0</td><td>0</td><td>0</td><td>0</td><td>0</td><td>0_0</td><td class=vellipsis>&hellip;</td><td>&minus;11.9283</td><td>&minus;61.9953</td><td>&minus;11.9283</td><td>&minus;61.9953</td><td>49</td></tr>\n",
       "    <tr><td class='row_index'>1</td><td>2010</td><td>0</td><td>NT/RO/11005/110001</td><td>NT/RO/11003/110012/2495279</td><td>130.77</td><td>152.868</td><td>261.541</td><td>305.737</td><td>2</td><td>0_0</td><td class=vellipsis>&hellip;</td><td>&minus;11.9283</td><td>&minus;61.9953</td><td>&minus;10.8777</td><td>&minus;61.9322</td><td>2</td></tr>\n",
       "    <tr><td class='row_index'>2</td><td>2010</td><td>0</td><td>NT/RO/11005/110001</td><td>NT/RO/11001/110013/2808617</td><td>357.511</td><td>427.84</td><td>357.511</td><td>427.84</td><td>2</td><td>0_0</td><td class=vellipsis>&hellip;</td><td>&minus;11.9283</td><td>&minus;61.9953</td><td>&minus;9.44363</td><td>&minus;61.9818</td><td>1</td></tr>\n",
       "    <tr><td class='row_index'>3</td><td>2010</td><td>0</td><td>NT/RO/11005/110001</td><td>NT/RO/11002/110018/2496534</td><td>114.061</td><td>112.283</td><td>114.061</td><td>112.283</td><td>2</td><td>0_0</td><td class=vellipsis>&hellip;</td><td>&minus;11.9283</td><td>&minus;61.9953</td><td>&minus;11.672</td><td>&minus;61.198</td><td>1</td></tr>\n",
       "    <tr><td class='row_index'>4</td><td>2010</td><td>0</td><td>NT/RO/11005/110001</td><td>NT/RO/11005/110028/2495228</td><td>48.6099</td><td>50.14</td><td>194.44</td><td>200.56</td><td>1</td><td>0_0</td><td class=vellipsis>&hellip;</td><td>&minus;11.9283</td><td>&minus;61.9953</td><td>&minus;11.7271</td><td>&minus;61.7714</td><td>4</td></tr>\n",
       "    <tr><td class='row_index'>5</td><td>2010</td><td>0</td><td>NT/RO/11005/110001</td><td>SD/SP/35151/351110/2089327</td><td>2196.35</td><td>1852.41</td><td>2196.35</td><td>1852.41</td><td>4</td><td>0_0</td><td class=vellipsis>&hellip;</td><td>&minus;11.9283</td><td>&minus;61.9953</td><td>&minus;21.1314</td><td>&minus;48.977</td><td>1</td></tr>\n",
       "    <tr><td class='row_index'>6</td><td>2010</td><td>0</td><td>NT/RO/11001/110002</td><td>NT/RO/11001/110002/2494299</td><td>0</td><td>0</td><td>0</td><td>0</td><td>0</td><td>0_0</td><td class=vellipsis>&hellip;</td><td>&minus;9.90571</td><td>&minus;63.0325</td><td>&minus;9.90571</td><td>&minus;63.0325</td><td>375</td></tr>\n",
       "    <tr><td class='row_index'>7</td><td>2010</td><td>0</td><td>NT/RO/11001/110002</td><td>NT/RO/11003/110011/2808609</td><td>95.4727</td><td>140.33</td><td>381.891</td><td>561.32</td><td>2</td><td>0_0</td><td class=vellipsis>&hellip;</td><td>&minus;9.90571</td><td>&minus;63.0325</td><td>&minus;10.4318</td><td>&minus;62.4788</td><td>4</td></tr>\n",
       "    <tr><td class='row_index'>8</td><td>2010</td><td>0</td><td>NT/RO/11001/110002</td><td>NT/RO/11004/110020/4001303</td><td>203.582</td><td>188.315</td><td>203.582</td><td>188.315</td><td>2</td><td>0_1</td><td class=vellipsis>&hellip;</td><td>&minus;9.90571</td><td>&minus;63.0325</td><td>&minus;8.76077</td><td>&minus;63.8999</td><td>1</td></tr>\n",
       "    <tr><td class='row_index'>9</td><td>2010</td><td>0</td><td>NT/RO/11006/110003</td><td>NT/RO/11006/110003/2808528</td><td>0</td><td>0</td><td>0</td><td>0</td><td>0</td><td>0_0</td><td class=vellipsis>&hellip;</td><td>&minus;13.4945</td><td>&minus;60.552</td><td>&minus;13.4945</td><td>&minus;60.552</td><td>51</td></tr>\n",
       "    <tr><td class='row_index'>10</td><td>2010</td><td>0</td><td>NT/RO/11002/110004</td><td>NT/RO/11002/110004/2496046</td><td>0</td><td>0</td><td>0</td><td>0</td><td>0</td><td>0_0</td><td class=vellipsis>&hellip;</td><td>&minus;11.4343</td><td>&minus;61.4562</td><td>&minus;11.4343</td><td>&minus;61.4562</td><td>199</td></tr>\n",
       "    <tr><td class='row_index'>11</td><td>2010</td><td>0</td><td>NT/RO/11002/110004</td><td>NT/RO/11003/110012/2495279</td><td>104.964</td><td>100.03</td><td>209.928</td><td>200.06</td><td>2</td><td>0_0</td><td class=vellipsis>&hellip;</td><td>&minus;11.4343</td><td>&minus;61.4562</td><td>&minus;10.8777</td><td>&minus;61.9322</td><td>2</td></tr>\n",
       "    <tr><td class='row_index'>12</td><td>2010</td><td>0</td><td>NT/RO/11002/110004</td><td>NT/RO/11002/110018/2496534</td><td>41.4266</td><td>40.3333</td><td>41.4266</td><td>40.3333</td><td>1</td><td>0_0</td><td class=vellipsis>&hellip;</td><td>&minus;11.4343</td><td>&minus;61.4562</td><td>&minus;11.672</td><td>&minus;61.198</td><td>1</td></tr>\n",
       "    <tr><td class='row_index'>13</td><td>2010</td><td>0</td><td>NT/RO/11002/110004</td><td>NT/RO/11004/110020/4001303</td><td>480.05</td><td>497.07</td><td>960.099</td><td>994.14</td><td>2</td><td>0_1</td><td class=vellipsis>&hellip;</td><td>&minus;11.4343</td><td>&minus;61.4562</td><td>&minus;8.76077</td><td>&minus;63.8999</td><td>2</td></tr>\n",
       "    <tr><td class='row_index'>14</td><td>2010</td><td>0</td><td>NT/RO/11002/110004</td><td>NT/RO/11005/110028/2495228</td><td>47.7899</td><td>66.3017</td><td>95.5798</td><td>132.603</td><td>2</td><td>0_0</td><td class=vellipsis>&hellip;</td><td>&minus;11.4343</td><td>&minus;61.4562</td><td>&minus;11.7271</td><td>&minus;61.7714</td><td>2</td></tr>\n",
       "    <tr><td class='row_index'>&#x22EE;</td><td class='hellipsis'>&#x22EE;</td><td class='hellipsis'>&#x22EE;</td><td class='hellipsis'>&#x22EE;</td><td class='hellipsis'>&#x22EE;</td><td class='hellipsis'>&#x22EE;</td><td class='hellipsis'>&#x22EE;</td><td class='hellipsis'>&#x22EE;</td><td class='hellipsis'>&#x22EE;</td><td class='hellipsis'>&#x22EE;</td><td class='hellipsis'>&#x22EE;</td><td class='hellipsis'>&#x22F1;</td><td class='hellipsis'>&#x22EE;</td><td class='hellipsis'>&#x22EE;</td><td class='hellipsis'>&#x22EE;</td><td class='hellipsis'>&#x22EE;</td><td class='hellipsis'>&#x22EE;</td></tr>\n",
       "    <tr><td class='row_index'>461,847</td><td>2019</td><td>1</td><td>CO/DF/53001/530010</td><td>CO/DF/53001/530010/0010545</td><td>0</td><td>0</td><td>0</td><td>0</td><td>0</td><td>1_1</td><td class=vellipsis>&hellip;</td><td>&minus;15.7795</td><td>&minus;47.9297</td><td>&minus;15.7795</td><td>&minus;47.9297</td><td>479</td></tr>\n",
       "    <tr><td class='row_index'>461,848</td><td>2019</td><td>1</td><td>CO/DF/53001/530010</td><td>CO/DF/53001/530010/2645157</td><td>0</td><td>0</td><td>0</td><td>0</td><td>0</td><td>1_1</td><td class=vellipsis>&hellip;</td><td>&minus;15.7795</td><td>&minus;47.9297</td><td>&minus;15.7795</td><td>&minus;47.9297</td><td>1373</td></tr>\n",
       "    <tr><td class='row_index'>461,849</td><td>2019</td><td>1</td><td>CO/DF/53001/530010</td><td>CO/DF/53001/530010/2650355</td><td>0</td><td>0</td><td>0</td><td>0</td><td>0</td><td>1_1</td><td class=vellipsis>&hellip;</td><td>&minus;15.7795</td><td>&minus;47.9297</td><td>&minus;15.7795</td><td>&minus;47.9297</td><td>5</td></tr>\n",
       "    <tr><td class='row_index'>461,850</td><td>2019</td><td>1</td><td>CO/DF/53001/530010</td><td>CO/DF/53001/530010/2672197</td><td>0</td><td>0</td><td>0</td><td>0</td><td>0</td><td>1_1</td><td class=vellipsis>&hellip;</td><td>&minus;15.7795</td><td>&minus;47.9297</td><td>&minus;15.7795</td><td>&minus;47.9297</td><td>2483</td></tr>\n",
       "    <tr><td class='row_index'>461,851</td><td>2019</td><td>1</td><td>CO/DF/53001/530010</td><td>CO/DF/53001/530010/5717515</td><td>0</td><td>0</td><td>0</td><td>0</td><td>0</td><td>1_1</td><td class=vellipsis>&hellip;</td><td>&minus;15.7795</td><td>&minus;47.9297</td><td>&minus;15.7795</td><td>&minus;47.9297</td><td>1086</td></tr>\n",
       "  </tbody>\n",
       "  </table>\n",
       "  <div class='footer'>\n",
       "    <div class='frame_dimensions'>461,852 rows &times; 16 columns</div>\n",
       "  </div>\n",
       "</div>\n"
      ],
      "text/plain": [
       "<Frame#7fc76986b690 461852x16>"
      ]
     },
     "execution_count": 24,
     "metadata": {},
     "output_type": "execute_result"
    }
   ],
   "source": [
    "dt.fread(output_proc)"
   ]
  },
  {
   "cell_type": "markdown",
   "metadata": {},
   "source": [
    "## Biênio"
   ]
  },
  {
   "cell_type": "code",
   "execution_count": 25,
   "metadata": {},
   "outputs": [],
   "source": [
    "output_proc_bienio = get_path('GESTANTES', 'procs_bienio.csv.gzip')\n",
    "df_proc_bienio.to_csv(output_proc_bienio)"
   ]
  },
  {
   "cell_type": "code",
   "execution_count": 26,
   "metadata": {},
   "outputs": [
    {
     "data": {
      "text/html": [
       "<div class='datatable'>\n",
       "  <table class='frame'>\n",
       "  <thead>\n",
       "    <tr class='colnames'><td class='row_index'></td><th>bienio</th><th>parto_normal</th><th>origem</th><th>destino</th><th>distancia (km)</th><th>tempo (min)</th><th>dist_pond</th><th>tempo_pond</th><th>criticidade</th><th>capitais</th><th class='vellipsis'>&hellip;</th><th>origem_latitude</th><th>origem_longitude</th><th>destino_latitude</th><th>destino_longitude</th><th>count</th></tr>\n",
       "    <tr class='coltypes'><td class='row_index'></td><td class='bool' title='bool8'>&#x25AA;</td><td class='bool' title='bool8'>&#x25AA;</td><td class='str' title='str32'>&#x25AA;&#x25AA;&#x25AA;&#x25AA;</td><td class='str' title='str32'>&#x25AA;&#x25AA;&#x25AA;&#x25AA;</td><td class='float' title='float64'>&#x25AA;&#x25AA;&#x25AA;&#x25AA;&#x25AA;&#x25AA;&#x25AA;&#x25AA;</td><td class='float' title='float64'>&#x25AA;&#x25AA;&#x25AA;&#x25AA;&#x25AA;&#x25AA;&#x25AA;&#x25AA;</td><td class='float' title='float64'>&#x25AA;&#x25AA;&#x25AA;&#x25AA;&#x25AA;&#x25AA;&#x25AA;&#x25AA;</td><td class='float' title='float64'>&#x25AA;&#x25AA;&#x25AA;&#x25AA;&#x25AA;&#x25AA;&#x25AA;&#x25AA;</td><td class='int' title='int32'>&#x25AA;&#x25AA;&#x25AA;&#x25AA;</td><td class='str' title='str32'>&#x25AA;&#x25AA;&#x25AA;&#x25AA;</td><td></td><td class='float' title='float64'>&#x25AA;&#x25AA;&#x25AA;&#x25AA;&#x25AA;&#x25AA;&#x25AA;&#x25AA;</td><td class='float' title='float64'>&#x25AA;&#x25AA;&#x25AA;&#x25AA;&#x25AA;&#x25AA;&#x25AA;&#x25AA;</td><td class='float' title='float64'>&#x25AA;&#x25AA;&#x25AA;&#x25AA;&#x25AA;&#x25AA;&#x25AA;&#x25AA;</td><td class='float' title='float64'>&#x25AA;&#x25AA;&#x25AA;&#x25AA;&#x25AA;&#x25AA;&#x25AA;&#x25AA;</td><td class='int' title='int32'>&#x25AA;&#x25AA;&#x25AA;&#x25AA;</td></tr>\n",
       "  </thead>\n",
       "  <tbody>\n",
       "    <tr><td class='row_index'>0</td><td>0</td><td>0</td><td>CO/DF/53001/530010</td><td>CO/DF/53001/530010/0010464</td><td>0</td><td>0</td><td>0</td><td>0</td><td>0</td><td>1_1</td><td class=vellipsis>&hellip;</td><td>&minus;15.7795</td><td>&minus;47.9297</td><td>&minus;15.7795</td><td>&minus;47.9297</td><td>260</td></tr>\n",
       "    <tr><td class='row_index'>1</td><td>0</td><td>0</td><td>CO/DF/53001/530010</td><td>CO/DF/53001/530010/0010472</td><td>0</td><td>0</td><td>0</td><td>0</td><td>0</td><td>1_1</td><td class=vellipsis>&hellip;</td><td>&minus;15.7795</td><td>&minus;47.9297</td><td>&minus;15.7795</td><td>&minus;47.9297</td><td>282</td></tr>\n",
       "    <tr><td class='row_index'>2</td><td>0</td><td>0</td><td>CO/DF/53001/530010</td><td>CO/DF/53001/530010/0010480</td><td>0</td><td>0</td><td>0</td><td>0</td><td>0</td><td>1_1</td><td class=vellipsis>&hellip;</td><td>&minus;15.7795</td><td>&minus;47.9297</td><td>&minus;15.7795</td><td>&minus;47.9297</td><td>3323</td></tr>\n",
       "    <tr><td class='row_index'>3</td><td>0</td><td>0</td><td>CO/DF/53001/530010</td><td>CO/DF/53001/530010/0010499</td><td>0</td><td>0</td><td>0</td><td>0</td><td>0</td><td>1_1</td><td class=vellipsis>&hellip;</td><td>&minus;15.7795</td><td>&minus;47.9297</td><td>&minus;15.7795</td><td>&minus;47.9297</td><td>3368</td></tr>\n",
       "    <tr><td class='row_index'>4</td><td>0</td><td>0</td><td>CO/DF/53001/530010</td><td>CO/DF/53001/530010/0010502</td><td>0</td><td>0</td><td>0</td><td>0</td><td>0</td><td>1_1</td><td class=vellipsis>&hellip;</td><td>&minus;15.7795</td><td>&minus;47.9297</td><td>&minus;15.7795</td><td>&minus;47.9297</td><td>964</td></tr>\n",
       "    <tr><td class='row_index'>5</td><td>0</td><td>0</td><td>CO/DF/53001/530010</td><td>CO/DF/53001/530010/0010510</td><td>0</td><td>0</td><td>0</td><td>0</td><td>0</td><td>1_1</td><td class=vellipsis>&hellip;</td><td>&minus;15.7795</td><td>&minus;47.9297</td><td>&minus;15.7795</td><td>&minus;47.9297</td><td>832</td></tr>\n",
       "    <tr><td class='row_index'>6</td><td>0</td><td>0</td><td>CO/DF/53001/530010</td><td>CO/DF/53001/530010/0010529</td><td>0</td><td>0</td><td>0</td><td>0</td><td>0</td><td>1_1</td><td class=vellipsis>&hellip;</td><td>&minus;15.7795</td><td>&minus;47.9297</td><td>&minus;15.7795</td><td>&minus;47.9297</td><td>1831</td></tr>\n",
       "    <tr><td class='row_index'>7</td><td>0</td><td>0</td><td>CO/DF/53001/530010</td><td>CO/DF/53001/530010/0010537</td><td>0</td><td>0</td><td>0</td><td>0</td><td>0</td><td>1_1</td><td class=vellipsis>&hellip;</td><td>&minus;15.7795</td><td>&minus;47.9297</td><td>&minus;15.7795</td><td>&minus;47.9297</td><td>3707</td></tr>\n",
       "    <tr><td class='row_index'>8</td><td>0</td><td>0</td><td>CO/DF/53001/530010</td><td>CO/DF/53001/530010/0010545</td><td>0</td><td>0</td><td>0</td><td>0</td><td>0</td><td>1_1</td><td class=vellipsis>&hellip;</td><td>&minus;15.7795</td><td>&minus;47.9297</td><td>&minus;15.7795</td><td>&minus;47.9297</td><td>728</td></tr>\n",
       "    <tr><td class='row_index'>9</td><td>0</td><td>0</td><td>CO/DF/53001/530010</td><td>CO/DF/53001/530010/0010561</td><td>0</td><td>0</td><td>0</td><td>0</td><td>0</td><td>1_1</td><td class=vellipsis>&hellip;</td><td>&minus;15.7795</td><td>&minus;47.9297</td><td>&minus;15.7795</td><td>&minus;47.9297</td><td>1</td></tr>\n",
       "    <tr><td class='row_index'>10</td><td>0</td><td>0</td><td>CO/DF/53001/530010</td><td>CO/DF/53001/530010/2645157</td><td>0</td><td>0</td><td>0</td><td>0</td><td>0</td><td>1_1</td><td class=vellipsis>&hellip;</td><td>&minus;15.7795</td><td>&minus;47.9297</td><td>&minus;15.7795</td><td>&minus;47.9297</td><td>2251</td></tr>\n",
       "    <tr><td class='row_index'>11</td><td>0</td><td>0</td><td>CO/DF/53001/530010</td><td>CO/DF/53001/530010/2672197</td><td>0</td><td>0</td><td>0</td><td>0</td><td>0</td><td>1_1</td><td class=vellipsis>&hellip;</td><td>&minus;15.7795</td><td>&minus;47.9297</td><td>&minus;15.7795</td><td>&minus;47.9297</td><td>1561</td></tr>\n",
       "    <tr><td class='row_index'>12</td><td>0</td><td>0</td><td>CO/DF/53001/530010</td><td>CO/DF/53001/530010/5717515</td><td>0</td><td>0</td><td>0</td><td>0</td><td>0</td><td>1_1</td><td class=vellipsis>&hellip;</td><td>&minus;15.7795</td><td>&minus;47.9297</td><td>&minus;15.7795</td><td>&minus;47.9297</td><td>1798</td></tr>\n",
       "    <tr><td class='row_index'>13</td><td>0</td><td>0</td><td>CO/DF/53001/530010</td><td>CO/GO/52011/520110/2361787</td><td>152.625</td><td>132.723</td><td>305.25</td><td>265.447</td><td>3</td><td>1_0</td><td class=vellipsis>&hellip;</td><td>&minus;15.7795</td><td>&minus;47.9297</td><td>&minus;16.3281</td><td>&minus;48.953</td><td>4</td></tr>\n",
       "    <tr><td class='row_index'>14</td><td>0</td><td>0</td><td>CO/DF/53001/530010</td><td>ND/BA/29002/290320/3972925</td><td>630.949</td><td>466.705</td><td>630.949</td><td>466.705</td><td>4</td><td>1_0</td><td class=vellipsis>&hellip;</td><td>&minus;15.7795</td><td>&minus;47.9297</td><td>&minus;12.1439</td><td>&minus;44.9968</td><td>1</td></tr>\n",
       "    <tr><td class='row_index'>&#x22EE;</td><td class='hellipsis'>&#x22EE;</td><td class='hellipsis'>&#x22EE;</td><td class='hellipsis'>&#x22EE;</td><td class='hellipsis'>&#x22EE;</td><td class='hellipsis'>&#x22EE;</td><td class='hellipsis'>&#x22EE;</td><td class='hellipsis'>&#x22EE;</td><td class='hellipsis'>&#x22EE;</td><td class='hellipsis'>&#x22EE;</td><td class='hellipsis'>&#x22EE;</td><td class='hellipsis'>&#x22F1;</td><td class='hellipsis'>&#x22EE;</td><td class='hellipsis'>&#x22EE;</td><td class='hellipsis'>&#x22EE;</td><td class='hellipsis'>&#x22EE;</td><td class='hellipsis'>&#x22EE;</td></tr>\n",
       "    <tr><td class='row_index'>167,211</td><td>1</td><td>1</td><td>SL/SC/42016/421870</td><td>SL/SC/42007/420540/3157245</td><td>138.477</td><td>104.94</td><td>138.477</td><td>104.94</td><td>2</td><td>0_1</td><td class=vellipsis>&hellip;</td><td>&minus;28.4713</td><td>&minus;49.0144</td><td>&minus;27.5945</td><td>&minus;48.5477</td><td>1</td></tr>\n",
       "    <tr><td class='row_index'>167,212</td><td>1</td><td>1</td><td>SL/SC/42016/421870</td><td>SL/SC/42015/420460/2594277</td><td>54.621</td><td>49.3167</td><td>54.621</td><td>49.3167</td><td>2</td><td>0_0</td><td class=vellipsis>&hellip;</td><td>&minus;28.4713</td><td>&minus;49.0144</td><td>&minus;28.6723</td><td>&minus;49.3729</td><td>1</td></tr>\n",
       "    <tr><td class='row_index'>167,213</td><td>1</td><td>1</td><td>SL/SC/42016/421870</td><td>SL/SC/42016/420280/2665883</td><td>35.5439</td><td>37.4933</td><td>71.0878</td><td>74.9867</td><td>1</td><td>0_0</td><td class=vellipsis>&hellip;</td><td>&minus;28.4713</td><td>&minus;49.0144</td><td>&minus;28.2681</td><td>&minus;49.1701</td><td>2</td></tr>\n",
       "    <tr><td class='row_index'>167,214</td><td>1</td><td>1</td><td>SL/SC/42016/421870</td><td>SL/SC/42016/420730/2385880</td><td>53.961</td><td>45.3533</td><td>53.961</td><td>45.3533</td><td>1</td><td>0_0</td><td class=vellipsis>&hellip;</td><td>&minus;28.4713</td><td>&minus;49.0144</td><td>&minus;28.2284</td><td>&minus;48.6659</td><td>1</td></tr>\n",
       "    <tr><td class='row_index'>167,215</td><td>1</td><td>1</td><td>SL/SC/42016/421870</td><td>SL/SC/42016/421870/2491710</td><td>0</td><td>0</td><td>0</td><td>0</td><td>0</td><td>0_0</td><td class=vellipsis>&hellip;</td><td>&minus;28.4713</td><td>&minus;49.0144</td><td>&minus;28.4713</td><td>&minus;49.0144</td><td>441</td></tr>\n",
       "  </tbody>\n",
       "  </table>\n",
       "  <div class='footer'>\n",
       "    <div class='frame_dimensions'>167,216 rows &times; 16 columns</div>\n",
       "  </div>\n",
       "</div>\n"
      ],
      "text/plain": [
       "<Frame#7fc76b569d20 167216x16>"
      ]
     },
     "execution_count": 26,
     "metadata": {},
     "output_type": "execute_result"
    }
   ],
   "source": [
    "dt.fread(output_proc_bienio)"
   ]
  }
 ],
 "metadata": {
  "kernelspec": {
   "display_name": "Python 3.9.13 ('ds')",
   "language": "python",
   "name": "python3"
  },
  "language_info": {
   "codemirror_mode": {
    "name": "ipython",
    "version": 3
   },
   "file_extension": ".py",
   "mimetype": "text/x-python",
   "name": "python",
   "nbconvert_exporter": "python",
   "pygments_lexer": "ipython3",
   "version": "3.9.13"
  },
  "orig_nbformat": 4,
  "vscode": {
   "interpreter": {
    "hash": "7b36953cec1b75a8b331280ff7f7e2e00c70540f1d612023ca05354bbeabec70"
   }
  }
 },
 "nbformat": 4,
 "nbformat_minor": 2
}
