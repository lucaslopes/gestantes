{
 "cells": [
  {
   "cell_type": "raw",
   "metadata": {},
   "source": [
    "---\n",
    "title: \"Distâncias\"\n",
    "---"
   ]
  },
  {
   "cell_type": "code",
   "execution_count": 6,
   "metadata": {},
   "outputs": [],
   "source": [
    "from utils import get_path, group_cols\n",
    "from datatable import dt, f"
   ]
  },
  {
   "cell_type": "markdown",
   "metadata": {},
   "source": [
    "# Descrição"
   ]
  },
  {
   "cell_type": "markdown",
   "metadata": {},
   "source": [
    "Neste notebook iremos formar uma tabela contendo o tempo e distância de todos os pares origem e destino de municípios do Brasil oriundo da tabela de procedimentos."
   ]
  },
  {
   "cell_type": "markdown",
   "metadata": {},
   "source": [
    "# Tabelas base"
   ]
  },
  {
   "cell_type": "markdown",
   "metadata": {},
   "source": [
    "## Distâncias"
   ]
  },
  {
   "cell_type": "markdown",
   "metadata": {},
   "source": [
    "### Colunas da tabela"
   ]
  },
  {
   "cell_type": "code",
   "execution_count": 4,
   "metadata": {},
   "outputs": [],
   "source": [
    "cols_mun = [\n",
    "  'cod_municipio',\n",
    "  'regiao',\n",
    "  'uf',\n",
    "  'cod_uf',\n",
    "  'nome_uf',\n",
    "  'municipio',\n",
    "  'nome_municipio',\n",
    "  'capital',\n",
    "  'fronteira',\n",
    "  'amazonia',\n",
    "  'macroregiao_saude',\n",
    "  'regiao_saude',\n",
    "  'nome_regiao_saude',\n",
    "  'microregiao_saude',\n",
    "  'latitude',\n",
    "  'longitude',\n",
    "  'altitude',\n",
    "  'area',\n",
    "]"
   ]
  },
  {
   "cell_type": "code",
   "execution_count": 10,
   "metadata": {},
   "outputs": [
    {
     "data": {
      "text/html": [
       "<div class='datatable'>\n",
       "  <table class='frame'>\n",
       "  <thead>\n",
       "    <tr class='colnames'><td class='row_index'></td><th>origem</th><th>destino</th><th>distancia</th><th>tempo</th></tr>\n",
       "    <tr class='coltypes'><td class='row_index'></td><td class='int' title='int32'>&#x25AA;&#x25AA;&#x25AA;&#x25AA;</td><td class='int' title='int32'>&#x25AA;&#x25AA;&#x25AA;&#x25AA;</td><td class='float' title='float64'>&#x25AA;&#x25AA;&#x25AA;&#x25AA;&#x25AA;&#x25AA;&#x25AA;&#x25AA;</td><td class='float' title='float64'>&#x25AA;&#x25AA;&#x25AA;&#x25AA;&#x25AA;&#x25AA;&#x25AA;&#x25AA;</td></tr>\n",
       "  </thead>\n",
       "  <tbody>\n",
       "    <tr><td class='row_index'>0</td><td>110001</td><td>110001</td><td>0</td><td>0</td></tr>\n",
       "    <tr><td class='row_index'>1</td><td>110001</td><td>110002</td><td>309.05</td><td>6.16906</td></tr>\n",
       "    <tr><td class='row_index'>2</td><td>110001</td><td>110003</td><td>399.5</td><td>6.28906</td></tr>\n",
       "    <tr><td class='row_index'>3</td><td>110001</td><td>110004</td><td>81.2011</td><td>1.91775</td></tr>\n",
       "    <tr><td class='row_index'>4</td><td>110001</td><td>110005</td><td>391.704</td><td>6.13636</td></tr>\n",
       "    <tr><td class='row_index'>5</td><td>110001</td><td>110006</td><td>353.417</td><td>5.53989</td></tr>\n",
       "    <tr><td class='row_index'>6</td><td>110001</td><td>110007</td><td>313.592</td><td>6.18117</td></tr>\n",
       "    <tr><td class='row_index'>7</td><td>110001</td><td>110008</td><td>326.983</td><td>5.34175</td></tr>\n",
       "    <tr><td class='row_index'>8</td><td>110001</td><td>110009</td><td>145.678</td><td>2.346</td></tr>\n",
       "    <tr><td class='row_index'>9</td><td>110001</td><td>110010</td><td>649.545</td><td>13.405</td></tr>\n",
       "    <tr><td class='row_index'>10</td><td>110001</td><td>110011</td><td>214.125</td><td>3.83481</td></tr>\n",
       "    <tr><td class='row_index'>11</td><td>110001</td><td>110012</td><td>130.77</td><td>2.54781</td></tr>\n",
       "    <tr><td class='row_index'>12</td><td>110001</td><td>110013</td><td>357.511</td><td>7.13067</td></tr>\n",
       "    <tr><td class='row_index'>13</td><td>110001</td><td>110014</td><td>60.2103</td><td>1.02275</td></tr>\n",
       "    <tr><td class='row_index'>14</td><td>110001</td><td>110015</td><td>172.926</td><td>3.18425</td></tr>\n",
       "    <tr><td class='row_index'>&#x22EE;</td><td class='hellipsis'>&#x22EE;</td><td class='hellipsis'>&#x22EE;</td><td class='hellipsis'>&#x22EE;</td><td class='hellipsis'>&#x22EE;</td></tr>\n",
       "    <tr><td class='row_index'>31,024,895</td><td>530010</td><td>522200</td><td>161.729</td><td>2.356</td></tr>\n",
       "    <tr><td class='row_index'>31,024,896</td><td>530010</td><td>522205</td><td>382.709</td><td>5.47956</td></tr>\n",
       "    <tr><td class='row_index'>31,024,897</td><td>530010</td><td>522220</td><td>161.603</td><td>2.24894</td></tr>\n",
       "    <tr><td class='row_index'>31,024,898</td><td>530010</td><td>522230</td><td>190.001</td><td>3.21608</td></tr>\n",
       "    <tr><td class='row_index'>31,024,899</td><td>530010</td><td>530010</td><td>0</td><td>0</td></tr>\n",
       "  </tbody>\n",
       "  </table>\n",
       "  <div class='footer'>\n",
       "    <div class='frame_dimensions'>31,024,900 rows &times; 4 columns</div>\n",
       "  </div>\n",
       "</div>\n"
      ],
      "text/plain": [
       "<Frame#7f98ca58ef30 31024900x4>"
      ]
     },
     "execution_count": 10,
     "metadata": {},
     "output_type": "execute_result"
    }
   ],
   "source": [
    "path_dist = get_path('DISTANCIAS', 'matriz_distancias.zip')\n",
    "df_dist = dt.fread(path_dist)\n",
    "df_dist"
   ]
  },
  {
   "cell_type": "markdown",
   "metadata": {},
   "source": [
    "## Procedimentos"
   ]
  },
  {
   "cell_type": "markdown",
   "metadata": {},
   "source": [
    "### Colunas da tabela"
   ]
  },
  {
   "cell_type": "code",
   "execution_count": 13,
   "metadata": {},
   "outputs": [],
   "source": [
    "cols_deslc = {\n",
    "  'cod_municipio': 'origem',\n",
    "  'hosp_cod_municipio': 'destino',\n",
    "  ...: None\n",
    "}"
   ]
  },
  {
   "cell_type": "code",
   "execution_count": 14,
   "metadata": {},
   "outputs": [
    {
     "data": {
      "text/html": [
       "<div class='datatable'>\n",
       "  <table class='frame'>\n",
       "  <thead>\n",
       "    <tr class='colnames'><td class='row_index'></td><th>destino</th><th>origem</th></tr>\n",
       "    <tr class='coltypes'><td class='row_index'></td><td class='int' title='int32'>&#x25AA;&#x25AA;&#x25AA;&#x25AA;</td><td class='int' title='int32'>&#x25AA;&#x25AA;&#x25AA;&#x25AA;</td></tr>\n",
       "  </thead>\n",
       "  <tbody>\n",
       "    <tr><td class='row_index'>0</td><td>355030</td><td>355030</td></tr>\n",
       "    <tr><td class='row_index'>1</td><td>355030</td><td>355030</td></tr>\n",
       "    <tr><td class='row_index'>2</td><td>355030</td><td>355030</td></tr>\n",
       "    <tr><td class='row_index'>3</td><td>355030</td><td>355030</td></tr>\n",
       "    <tr><td class='row_index'>4</td><td>355030</td><td>355030</td></tr>\n",
       "    <tr><td class='row_index'>5</td><td>355030</td><td>355030</td></tr>\n",
       "    <tr><td class='row_index'>6</td><td>355030</td><td>355030</td></tr>\n",
       "    <tr><td class='row_index'>7</td><td>355030</td><td>355030</td></tr>\n",
       "    <tr><td class='row_index'>8</td><td>355030</td><td>355030</td></tr>\n",
       "    <tr><td class='row_index'>9</td><td>355030</td><td>355030</td></tr>\n",
       "    <tr><td class='row_index'>10</td><td>130260</td><td>130260</td></tr>\n",
       "    <tr><td class='row_index'>11</td><td>130260</td><td>130260</td></tr>\n",
       "    <tr><td class='row_index'>12</td><td>355030</td><td>355030</td></tr>\n",
       "    <tr><td class='row_index'>13</td><td>355030</td><td>355030</td></tr>\n",
       "    <tr><td class='row_index'>14</td><td>130260</td><td>130260</td></tr>\n",
       "    <tr><td class='row_index'>&#x22EE;</td><td class='hellipsis'>&#x22EE;</td><td class='hellipsis'>&#x22EE;</td></tr>\n",
       "    <tr><td class='row_index'>3,355,686</td><td>270430</td><td>355640</td></tr>\n",
       "    <tr><td class='row_index'>3,355,687</td><td>270430</td><td>420910</td></tr>\n",
       "    <tr><td class='row_index'>3,355,688</td><td>270430</td><td>510285</td></tr>\n",
       "    <tr><td class='row_index'>3,355,689</td><td>270430</td><td>510622</td></tr>\n",
       "    <tr><td class='row_index'>3,355,690</td><td>270430</td><td>510792</td></tr>\n",
       "  </tbody>\n",
       "  </table>\n",
       "  <div class='footer'>\n",
       "    <div class='frame_dimensions'>3,355,691 rows &times; 2 columns</div>\n",
       "  </div>\n",
       "</div>\n"
      ],
      "text/plain": [
       "<Frame#7f98caa697e0 3355691x2>"
      ]
     },
     "execution_count": 14,
     "metadata": {},
     "output_type": "execute_result"
    }
   ],
   "source": [
    "path_deslc = get_path('GESTANTES', 'procedimentos.csv.gzip')\n",
    "df_deslc = dt.fread(path_deslc, columns=cols_deslc)\n",
    "df_deslc"
   ]
  },
  {
   "cell_type": "markdown",
   "metadata": {},
   "source": [
    "### Tabela agrupada"
   ]
  },
  {
   "cell_type": "code",
   "execution_count": 23,
   "metadata": {},
   "outputs": [
    {
     "data": {
      "text/html": [
       "<div class='datatable'>\n",
       "  <table class='frame'>\n",
       "  <thead>\n",
       "    <tr class='colnames'><td class='row_index'></td><th>origem</th><th>destino</th><th>count</th></tr>\n",
       "    <tr class='coltypes'><td class='row_index'></td><td class='int' title='int32'>&#x25AA;&#x25AA;&#x25AA;&#x25AA;</td><td class='int' title='int32'>&#x25AA;&#x25AA;&#x25AA;&#x25AA;</td><td class='int' title='int64'>&#x25AA;&#x25AA;&#x25AA;&#x25AA;&#x25AA;&#x25AA;&#x25AA;&#x25AA;</td></tr>\n",
       "  </thead>\n",
       "  <tbody>\n",
       "    <tr><td class='row_index'>0</td><td>355030</td><td>355030</td><td>21807</td></tr>\n",
       "    <tr><td class='row_index'>1</td><td>330455</td><td>330455</td><td>9922</td></tr>\n",
       "    <tr><td class='row_index'>2</td><td>230440</td><td>230440</td><td>7113</td></tr>\n",
       "    <tr><td class='row_index'>3</td><td>130260</td><td>130260</td><td>5488</td></tr>\n",
       "    <tr><td class='row_index'>4</td><td>292740</td><td>292740</td><td>5406</td></tr>\n",
       "    <tr><td class='row_index'>5</td><td>150140</td><td>150140</td><td>5142</td></tr>\n",
       "    <tr><td class='row_index'>6</td><td>520870</td><td>520870</td><td>4669</td></tr>\n",
       "    <tr><td class='row_index'>7</td><td>310620</td><td>310620</td><td>4408</td></tr>\n",
       "    <tr><td class='row_index'>8</td><td>431490</td><td>431490</td><td>3879</td></tr>\n",
       "    <tr><td class='row_index'>9</td><td>230370</td><td>230440</td><td>3507</td></tr>\n",
       "    <tr><td class='row_index'>10</td><td>270430</td><td>270430</td><td>3353</td></tr>\n",
       "    <tr><td class='row_index'>11</td><td>410690</td><td>410690</td><td>3310</td></tr>\n",
       "    <tr><td class='row_index'>12</td><td>211130</td><td>211130</td><td>3208</td></tr>\n",
       "    <tr><td class='row_index'>13</td><td>221100</td><td>221100</td><td>3059</td></tr>\n",
       "    <tr><td class='row_index'>14</td><td>500270</td><td>500270</td><td>2902</td></tr>\n",
       "    <tr><td class='row_index'>&#x22EE;</td><td class='hellipsis'>&#x22EE;</td><td class='hellipsis'>&#x22EE;</td><td class='hellipsis'>&#x22EE;</td></tr>\n",
       "    <tr><td class='row_index'>71,681</td><td>522220</td><td>520540</td><td>1</td></tr>\n",
       "    <tr><td class='row_index'>71,682</td><td>522220</td><td>521830</td><td>1</td></tr>\n",
       "    <tr><td class='row_index'>71,683</td><td>522230</td><td>521830</td><td>1</td></tr>\n",
       "    <tr><td class='row_index'>71,684</td><td>522230</td><td>521970</td><td>1</td></tr>\n",
       "    <tr><td class='row_index'>71,685</td><td>522230</td><td>522045</td><td>1</td></tr>\n",
       "  </tbody>\n",
       "  </table>\n",
       "  <div class='footer'>\n",
       "    <div class='frame_dimensions'>71,686 rows &times; 3 columns</div>\n",
       "  </div>\n",
       "</div>\n"
      ],
      "text/plain": [
       "<Frame#7f98d8e97660 71686x3>"
      ]
     },
     "execution_count": 23,
     "metadata": {},
     "output_type": "execute_result"
    }
   ],
   "source": [
    "df_deslc = group_cols(df_deslc, list(cols_deslc.values())[:-1])\n",
    "df_deslc = df_deslc.sort(-f.count)\n",
    "df_deslc"
   ]
  },
  {
   "cell_type": "markdown",
   "metadata": {},
   "source": [
    "# Gerando tabela"
   ]
  },
  {
   "cell_type": "code",
   "execution_count": 25,
   "metadata": {},
   "outputs": [
    {
     "data": {
      "text/html": [
       "<div class='datatable'>\n",
       "  <table class='frame'>\n",
       "  <thead>\n",
       "    <tr class='colnames'><th class='row_index'>origem</th><th class='row_index'>destino</th><th>distancia</th><th>tempo</th></tr>\n",
       "    <tr class='coltypes'><td class='int' title='int32'>&#x25AA;&#x25AA;&#x25AA;&#x25AA;</td><td class='int' title='int32'>&#x25AA;&#x25AA;&#x25AA;&#x25AA;</td><td class='float' title='float64'>&#x25AA;&#x25AA;&#x25AA;&#x25AA;&#x25AA;&#x25AA;&#x25AA;&#x25AA;</td><td class='float' title='float64'>&#x25AA;&#x25AA;&#x25AA;&#x25AA;&#x25AA;&#x25AA;&#x25AA;&#x25AA;</td></tr>\n",
       "  </thead>\n",
       "  <tbody>\n",
       "    <tr><td class='row_index'>110001</td><td class='row_index'>110001</td><td>0</td><td>0</td></tr>\n",
       "    <tr><td class='row_index'>110001</td><td class='row_index'>110002</td><td>309.05</td><td>6.16906</td></tr>\n",
       "    <tr><td class='row_index'>110001</td><td class='row_index'>110003</td><td>399.5</td><td>6.28906</td></tr>\n",
       "    <tr><td class='row_index'>110001</td><td class='row_index'>110004</td><td>81.2011</td><td>1.91775</td></tr>\n",
       "    <tr><td class='row_index'>110001</td><td class='row_index'>110005</td><td>391.704</td><td>6.13636</td></tr>\n",
       "    <tr><td class='row_index'>110001</td><td class='row_index'>110006</td><td>353.417</td><td>5.53989</td></tr>\n",
       "    <tr><td class='row_index'>110001</td><td class='row_index'>110007</td><td>313.592</td><td>6.18117</td></tr>\n",
       "    <tr><td class='row_index'>110001</td><td class='row_index'>110008</td><td>326.983</td><td>5.34175</td></tr>\n",
       "    <tr><td class='row_index'>110001</td><td class='row_index'>110009</td><td>145.678</td><td>2.346</td></tr>\n",
       "    <tr><td class='row_index'>110001</td><td class='row_index'>110010</td><td>649.545</td><td>13.405</td></tr>\n",
       "    <tr><td class='row_index'>110001</td><td class='row_index'>110011</td><td>214.125</td><td>3.83481</td></tr>\n",
       "    <tr><td class='row_index'>110001</td><td class='row_index'>110012</td><td>130.77</td><td>2.54781</td></tr>\n",
       "    <tr><td class='row_index'>110001</td><td class='row_index'>110013</td><td>357.511</td><td>7.13067</td></tr>\n",
       "    <tr><td class='row_index'>110001</td><td class='row_index'>110014</td><td>60.2103</td><td>1.02275</td></tr>\n",
       "    <tr><td class='row_index'>110001</td><td class='row_index'>110015</td><td>172.926</td><td>3.18425</td></tr>\n",
       "    <tr><td class='hellipsis'>&#x22EE;</td><td class='hellipsis'>&#x22EE;</td><td class='hellipsis'>&#x22EE;</td><td class='hellipsis'>&#x22EE;</td></tr>\n",
       "    <tr><td class='row_index'>530010</td><td class='row_index'>522200</td><td>161.729</td><td>2.356</td></tr>\n",
       "    <tr><td class='row_index'>530010</td><td class='row_index'>522205</td><td>382.709</td><td>5.47956</td></tr>\n",
       "    <tr><td class='row_index'>530010</td><td class='row_index'>522220</td><td>161.603</td><td>2.24894</td></tr>\n",
       "    <tr><td class='row_index'>530010</td><td class='row_index'>522230</td><td>190.001</td><td>3.21608</td></tr>\n",
       "    <tr><td class='row_index'>530010</td><td class='row_index'>530010</td><td>0</td><td>0</td></tr>\n",
       "  </tbody>\n",
       "  </table>\n",
       "  <div class='footer'>\n",
       "    <div class='frame_dimensions'>31,024,900 rows &times; 4 columns</div>\n",
       "  </div>\n",
       "</div>\n"
      ],
      "text/plain": [
       "<Frame#7f98ca58ef30 31024900x4>"
      ]
     },
     "execution_count": 25,
     "metadata": {},
     "output_type": "execute_result"
    }
   ],
   "source": [
    "df_dist.key = ['origem', 'destino']\n",
    "df_dist"
   ]
  },
  {
   "cell_type": "code",
   "execution_count": 26,
   "metadata": {},
   "outputs": [
    {
     "data": {
      "text/html": [
       "<div class='datatable'>\n",
       "  <table class='frame'>\n",
       "  <thead>\n",
       "    <tr class='colnames'><td class='row_index'></td><th>origem</th><th>destino</th><th>count</th><th>distancia</th><th>tempo</th></tr>\n",
       "    <tr class='coltypes'><td class='row_index'></td><td class='int' title='int32'>&#x25AA;&#x25AA;&#x25AA;&#x25AA;</td><td class='int' title='int32'>&#x25AA;&#x25AA;&#x25AA;&#x25AA;</td><td class='int' title='int64'>&#x25AA;&#x25AA;&#x25AA;&#x25AA;&#x25AA;&#x25AA;&#x25AA;&#x25AA;</td><td class='float' title='float64'>&#x25AA;&#x25AA;&#x25AA;&#x25AA;&#x25AA;&#x25AA;&#x25AA;&#x25AA;</td><td class='float' title='float64'>&#x25AA;&#x25AA;&#x25AA;&#x25AA;&#x25AA;&#x25AA;&#x25AA;&#x25AA;</td></tr>\n",
       "  </thead>\n",
       "  <tbody>\n",
       "    <tr><td class='row_index'>0</td><td>355030</td><td>355030</td><td>21807</td><td>0</td><td>0</td></tr>\n",
       "    <tr><td class='row_index'>1</td><td>330455</td><td>330455</td><td>9922</td><td>0</td><td>0</td></tr>\n",
       "    <tr><td class='row_index'>2</td><td>230440</td><td>230440</td><td>7113</td><td>0</td><td>0</td></tr>\n",
       "    <tr><td class='row_index'>3</td><td>130260</td><td>130260</td><td>5488</td><td>0</td><td>0</td></tr>\n",
       "    <tr><td class='row_index'>4</td><td>292740</td><td>292740</td><td>5406</td><td>0</td><td>0</td></tr>\n",
       "    <tr><td class='row_index'>5</td><td>150140</td><td>150140</td><td>5142</td><td>0</td><td>0</td></tr>\n",
       "    <tr><td class='row_index'>6</td><td>520870</td><td>520870</td><td>4669</td><td>0</td><td>0</td></tr>\n",
       "    <tr><td class='row_index'>7</td><td>310620</td><td>310620</td><td>4408</td><td>0</td><td>0</td></tr>\n",
       "    <tr><td class='row_index'>8</td><td>431490</td><td>431490</td><td>3879</td><td>0</td><td>0</td></tr>\n",
       "    <tr><td class='row_index'>9</td><td>230370</td><td>230440</td><td>3507</td><td>16.7161</td><td>0.344111</td></tr>\n",
       "    <tr><td class='row_index'>10</td><td>270430</td><td>270430</td><td>3353</td><td>0</td><td>0</td></tr>\n",
       "    <tr><td class='row_index'>11</td><td>410690</td><td>410690</td><td>3310</td><td>0</td><td>0</td></tr>\n",
       "    <tr><td class='row_index'>12</td><td>211130</td><td>211130</td><td>3208</td><td>0</td><td>0</td></tr>\n",
       "    <tr><td class='row_index'>13</td><td>221100</td><td>221100</td><td>3059</td><td>0</td><td>0</td></tr>\n",
       "    <tr><td class='row_index'>14</td><td>500270</td><td>500270</td><td>2902</td><td>0</td><td>0</td></tr>\n",
       "    <tr><td class='row_index'>&#x22EE;</td><td class='hellipsis'>&#x22EE;</td><td class='hellipsis'>&#x22EE;</td><td class='hellipsis'>&#x22EE;</td><td class='hellipsis'>&#x22EE;</td><td class='hellipsis'>&#x22EE;</td></tr>\n",
       "    <tr><td class='row_index'>71,681</td><td>522220</td><td>520540</td><td>1</td><td>443.089</td><td>5.96508</td></tr>\n",
       "    <tr><td class='row_index'>71,682</td><td>522220</td><td>521830</td><td>1</td><td>150.619</td><td>1.85706</td></tr>\n",
       "    <tr><td class='row_index'>71,683</td><td>522230</td><td>521830</td><td>1</td><td>501.82</td><td>7.04144</td></tr>\n",
       "    <tr><td class='row_index'>71,684</td><td>522230</td><td>521970</td><td>1</td><td>203.783</td><td>3.14278</td></tr>\n",
       "    <tr><td class='row_index'>71,685</td><td>522230</td><td>522045</td><td>1</td><td>192.855</td><td>3.10403</td></tr>\n",
       "  </tbody>\n",
       "  </table>\n",
       "  <div class='footer'>\n",
       "    <div class='frame_dimensions'>71,686 rows &times; 5 columns</div>\n",
       "  </div>\n",
       "</div>\n"
      ],
      "text/plain": [
       "<Frame#7f98f98e44b0 71686x5>"
      ]
     },
     "execution_count": 26,
     "metadata": {},
     "output_type": "execute_result"
    }
   ],
   "source": [
    "df_deslc = df_deslc[:, :, dt.join(df_dist)]\n",
    "df_deslc"
   ]
  },
  {
   "cell_type": "code",
   "execution_count": 31,
   "metadata": {},
   "outputs": [
    {
     "data": {
      "text/html": [
       "<div class='datatable'>\n",
       "  <table class='frame'>\n",
       "  <thead>\n",
       "    <tr class='colnames'><td class='row_index'></td><th>origem</th><th>destino</th><th>distancia</th><th>tempo</th><th>count</th></tr>\n",
       "    <tr class='coltypes'><td class='row_index'></td><td class='int' title='int32'>&#x25AA;&#x25AA;&#x25AA;&#x25AA;</td><td class='int' title='int32'>&#x25AA;&#x25AA;&#x25AA;&#x25AA;</td><td class='float' title='float64'>&#x25AA;&#x25AA;&#x25AA;&#x25AA;&#x25AA;&#x25AA;&#x25AA;&#x25AA;</td><td class='float' title='float64'>&#x25AA;&#x25AA;&#x25AA;&#x25AA;&#x25AA;&#x25AA;&#x25AA;&#x25AA;</td><td class='int' title='int64'>&#x25AA;&#x25AA;&#x25AA;&#x25AA;&#x25AA;&#x25AA;&#x25AA;&#x25AA;</td></tr>\n",
       "  </thead>\n",
       "  <tbody>\n",
       "    <tr><td class='row_index'>0</td><td>355030</td><td>355030</td><td>0</td><td>0</td><td>21807</td></tr>\n",
       "    <tr><td class='row_index'>1</td><td>330455</td><td>330455</td><td>0</td><td>0</td><td>9922</td></tr>\n",
       "    <tr><td class='row_index'>2</td><td>230440</td><td>230440</td><td>0</td><td>0</td><td>7113</td></tr>\n",
       "    <tr><td class='row_index'>3</td><td>130260</td><td>130260</td><td>0</td><td>0</td><td>5488</td></tr>\n",
       "    <tr><td class='row_index'>4</td><td>292740</td><td>292740</td><td>0</td><td>0</td><td>5406</td></tr>\n",
       "    <tr><td class='row_index'>5</td><td>150140</td><td>150140</td><td>0</td><td>0</td><td>5142</td></tr>\n",
       "    <tr><td class='row_index'>6</td><td>520870</td><td>520870</td><td>0</td><td>0</td><td>4669</td></tr>\n",
       "    <tr><td class='row_index'>7</td><td>310620</td><td>310620</td><td>0</td><td>0</td><td>4408</td></tr>\n",
       "    <tr><td class='row_index'>8</td><td>431490</td><td>431490</td><td>0</td><td>0</td><td>3879</td></tr>\n",
       "    <tr><td class='row_index'>9</td><td>230370</td><td>230440</td><td>16.7161</td><td>0.344111</td><td>3507</td></tr>\n",
       "    <tr><td class='row_index'>10</td><td>270430</td><td>270430</td><td>0</td><td>0</td><td>3353</td></tr>\n",
       "    <tr><td class='row_index'>11</td><td>410690</td><td>410690</td><td>0</td><td>0</td><td>3310</td></tr>\n",
       "    <tr><td class='row_index'>12</td><td>211130</td><td>211130</td><td>0</td><td>0</td><td>3208</td></tr>\n",
       "    <tr><td class='row_index'>13</td><td>221100</td><td>221100</td><td>0</td><td>0</td><td>3059</td></tr>\n",
       "    <tr><td class='row_index'>14</td><td>500270</td><td>500270</td><td>0</td><td>0</td><td>2902</td></tr>\n",
       "    <tr><td class='row_index'>&#x22EE;</td><td class='hellipsis'>&#x22EE;</td><td class='hellipsis'>&#x22EE;</td><td class='hellipsis'>&#x22EE;</td><td class='hellipsis'>&#x22EE;</td><td class='hellipsis'>&#x22EE;</td></tr>\n",
       "    <tr><td class='row_index'>71,681</td><td>522220</td><td>520540</td><td>443.089</td><td>5.96508</td><td>1</td></tr>\n",
       "    <tr><td class='row_index'>71,682</td><td>522220</td><td>521830</td><td>150.619</td><td>1.85706</td><td>1</td></tr>\n",
       "    <tr><td class='row_index'>71,683</td><td>522230</td><td>521830</td><td>501.82</td><td>7.04144</td><td>1</td></tr>\n",
       "    <tr><td class='row_index'>71,684</td><td>522230</td><td>521970</td><td>203.783</td><td>3.14278</td><td>1</td></tr>\n",
       "    <tr><td class='row_index'>71,685</td><td>522230</td><td>522045</td><td>192.855</td><td>3.10403</td><td>1</td></tr>\n",
       "  </tbody>\n",
       "  </table>\n",
       "  <div class='footer'>\n",
       "    <div class='frame_dimensions'>71,686 rows &times; 5 columns</div>\n",
       "  </div>\n",
       "</div>\n"
      ],
      "text/plain": [
       "<Frame#7f98b00e6cf0 71686x5>"
      ]
     },
     "execution_count": 31,
     "metadata": {},
     "output_type": "execute_result"
    }
   ],
   "source": [
    "cols_order = ['origem', 'destino', 'distancia', 'tempo', 'count']\n",
    "df_deslc = df_deslc[:, cols_order]\n",
    "df_deslc"
   ]
  },
  {
   "cell_type": "markdown",
   "metadata": {},
   "source": [
    "# Exportando tabela"
   ]
  },
  {
   "cell_type": "code",
   "execution_count": 32,
   "metadata": {},
   "outputs": [],
   "source": [
    "output_mun = get_path('GESTANTES', 'distancias.csv.gzip')\n",
    "df_deslc.to_csv(output_mun)"
   ]
  },
  {
   "cell_type": "code",
   "execution_count": 33,
   "metadata": {},
   "outputs": [
    {
     "data": {
      "text/html": [
       "<div class='datatable'>\n",
       "  <table class='frame'>\n",
       "  <thead>\n",
       "    <tr class='colnames'><td class='row_index'></td><th>origem</th><th>destino</th><th>distancia</th><th>tempo</th><th>count</th></tr>\n",
       "    <tr class='coltypes'><td class='row_index'></td><td class='int' title='int32'>&#x25AA;&#x25AA;&#x25AA;&#x25AA;</td><td class='int' title='int32'>&#x25AA;&#x25AA;&#x25AA;&#x25AA;</td><td class='float' title='float64'>&#x25AA;&#x25AA;&#x25AA;&#x25AA;&#x25AA;&#x25AA;&#x25AA;&#x25AA;</td><td class='float' title='float64'>&#x25AA;&#x25AA;&#x25AA;&#x25AA;&#x25AA;&#x25AA;&#x25AA;&#x25AA;</td><td class='int' title='int32'>&#x25AA;&#x25AA;&#x25AA;&#x25AA;</td></tr>\n",
       "  </thead>\n",
       "  <tbody>\n",
       "    <tr><td class='row_index'>0</td><td>355030</td><td>355030</td><td>0</td><td>0</td><td>21807</td></tr>\n",
       "    <tr><td class='row_index'>1</td><td>330455</td><td>330455</td><td>0</td><td>0</td><td>9922</td></tr>\n",
       "    <tr><td class='row_index'>2</td><td>230440</td><td>230440</td><td>0</td><td>0</td><td>7113</td></tr>\n",
       "    <tr><td class='row_index'>3</td><td>130260</td><td>130260</td><td>0</td><td>0</td><td>5488</td></tr>\n",
       "    <tr><td class='row_index'>4</td><td>292740</td><td>292740</td><td>0</td><td>0</td><td>5406</td></tr>\n",
       "    <tr><td class='row_index'>5</td><td>150140</td><td>150140</td><td>0</td><td>0</td><td>5142</td></tr>\n",
       "    <tr><td class='row_index'>6</td><td>520870</td><td>520870</td><td>0</td><td>0</td><td>4669</td></tr>\n",
       "    <tr><td class='row_index'>7</td><td>310620</td><td>310620</td><td>0</td><td>0</td><td>4408</td></tr>\n",
       "    <tr><td class='row_index'>8</td><td>431490</td><td>431490</td><td>0</td><td>0</td><td>3879</td></tr>\n",
       "    <tr><td class='row_index'>9</td><td>230370</td><td>230440</td><td>16.7161</td><td>0.344111</td><td>3507</td></tr>\n",
       "    <tr><td class='row_index'>10</td><td>270430</td><td>270430</td><td>0</td><td>0</td><td>3353</td></tr>\n",
       "    <tr><td class='row_index'>11</td><td>410690</td><td>410690</td><td>0</td><td>0</td><td>3310</td></tr>\n",
       "    <tr><td class='row_index'>12</td><td>211130</td><td>211130</td><td>0</td><td>0</td><td>3208</td></tr>\n",
       "    <tr><td class='row_index'>13</td><td>221100</td><td>221100</td><td>0</td><td>0</td><td>3059</td></tr>\n",
       "    <tr><td class='row_index'>14</td><td>500270</td><td>500270</td><td>0</td><td>0</td><td>2902</td></tr>\n",
       "    <tr><td class='row_index'>&#x22EE;</td><td class='hellipsis'>&#x22EE;</td><td class='hellipsis'>&#x22EE;</td><td class='hellipsis'>&#x22EE;</td><td class='hellipsis'>&#x22EE;</td><td class='hellipsis'>&#x22EE;</td></tr>\n",
       "    <tr><td class='row_index'>71,681</td><td>522220</td><td>520540</td><td>443.089</td><td>5.96508</td><td>1</td></tr>\n",
       "    <tr><td class='row_index'>71,682</td><td>522220</td><td>521830</td><td>150.619</td><td>1.85706</td><td>1</td></tr>\n",
       "    <tr><td class='row_index'>71,683</td><td>522230</td><td>521830</td><td>501.82</td><td>7.04144</td><td>1</td></tr>\n",
       "    <tr><td class='row_index'>71,684</td><td>522230</td><td>521970</td><td>203.783</td><td>3.14278</td><td>1</td></tr>\n",
       "    <tr><td class='row_index'>71,685</td><td>522230</td><td>522045</td><td>192.855</td><td>3.10403</td><td>1</td></tr>\n",
       "  </tbody>\n",
       "  </table>\n",
       "  <div class='footer'>\n",
       "    <div class='frame_dimensions'>71,686 rows &times; 5 columns</div>\n",
       "  </div>\n",
       "</div>\n"
      ],
      "text/plain": [
       "<Frame#7f98f98e46f0 71686x5>"
      ]
     },
     "execution_count": 33,
     "metadata": {},
     "output_type": "execute_result"
    }
   ],
   "source": [
    "dt.fread(output_mun)"
   ]
  }
 ],
 "metadata": {
  "kernelspec": {
   "display_name": "Python 3.9.13 ('base')",
   "language": "python",
   "name": "python3"
  },
  "language_info": {
   "codemirror_mode": {
    "name": "ipython",
    "version": 3
   },
   "file_extension": ".py",
   "mimetype": "text/x-python",
   "name": "python",
   "nbconvert_exporter": "python",
   "pygments_lexer": "ipython3",
   "version": "3.9.13"
  },
  "orig_nbformat": 4,
  "vscode": {
   "interpreter": {
    "hash": "6c01efea219ea0303b6e6cd1897665114cc62146ed112ea21ec489238fdae255"
   }
  }
 },
 "nbformat": 4,
 "nbformat_minor": 2
}
