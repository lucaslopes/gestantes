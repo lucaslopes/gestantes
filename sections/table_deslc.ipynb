{
 "cells": [
  {
   "cell_type": "raw",
   "metadata": {},
   "source": [
    "---\n",
    "title: \"Deslocamento\"\n",
    "---"
   ]
  },
  {
   "cell_type": "code",
   "execution_count": 1,
   "metadata": {},
   "outputs": [
    {
     "data": {
      "text/html": [
       "<style type='text/css'>\n",
       ".datatable table.frame { margin-bottom: 0; }\n",
       ".datatable table.frame thead { border-bottom: none; }\n",
       ".datatable table.frame tr.coltypes td {  color: #FFFFFF;  line-height: 6px;  padding: 0 0.5em;}\n",
       ".datatable .bool    { background: #DDDD99; }\n",
       ".datatable .object  { background: #565656; }\n",
       ".datatable .int     { background: #5D9E5D; }\n",
       ".datatable .float   { background: #4040CC; }\n",
       ".datatable .str     { background: #CC4040; }\n",
       ".datatable .time    { background: #40CC40; }\n",
       ".datatable .row_index {  background: var(--jp-border-color3);  border-right: 1px solid var(--jp-border-color0);  color: var(--jp-ui-font-color3);  font-size: 9px;}\n",
       ".datatable .frame tbody td { text-align: left; }\n",
       ".datatable .frame tr.coltypes .row_index {  background: var(--jp-border-color0);}\n",
       ".datatable th:nth-child(2) { padding-left: 12px; }\n",
       ".datatable .hellipsis {  color: var(--jp-cell-editor-border-color);}\n",
       ".datatable .vellipsis {  background: var(--jp-layout-color0);  color: var(--jp-cell-editor-border-color);}\n",
       ".datatable .na {  color: var(--jp-cell-editor-border-color);  font-size: 80%;}\n",
       ".datatable .sp {  opacity: 0.25;}\n",
       ".datatable .footer { font-size: 9px; }\n",
       ".datatable .frame_dimensions {  background: var(--jp-border-color3);  border-top: 1px solid var(--jp-border-color0);  color: var(--jp-ui-font-color3);  display: inline-block;  opacity: 0.6;  padding: 1px 10px 1px 5px;}\n",
       "</style>\n"
      ],
      "text/plain": [
       "<IPython.core.display.HTML object>"
      ]
     },
     "metadata": {},
     "output_type": "display_data"
    }
   ],
   "source": [
    "import pandas as pd\n",
    "from utils import get_path, group_cols\n",
    "from datatable import dt, f, by"
   ]
  },
  {
   "cell_type": "markdown",
   "metadata": {},
   "source": [
    "# Descrição"
   ]
  },
  {
   "cell_type": "markdown",
   "metadata": {},
   "source": [
    "Neste notebook iremos formar a tabela deslocamento, com origem e destino."
   ]
  },
  {
   "cell_type": "markdown",
   "metadata": {},
   "source": [
    "# Tabelas base"
   ]
  },
  {
   "cell_type": "markdown",
   "metadata": {},
   "source": [
    "## Tabela Procedimentos"
   ]
  },
  {
   "cell_type": "markdown",
   "metadata": {},
   "source": [
    "### Colunas da tabela"
   ]
  },
  {
   "cell_type": "markdown",
   "metadata": {},
   "source": [
    "### Linhas da tabela"
   ]
  },
  {
   "cell_type": "code",
   "execution_count": 2,
   "metadata": {},
   "outputs": [],
   "source": [
    "def filter_deslc(df):\n",
    "  df_filtered = df[\n",
    "    (\n",
    "      f.ano == 2010\n",
    "    ) | (\n",
    "      f.ano == 2011\n",
    "    ) | (\n",
    "      f.ano == 2018\n",
    "    ) | (\n",
    "      f.ano == 2019\n",
    "    ), :]\n",
    "  return df_filtered"
   ]
  },
  {
   "cell_type": "markdown",
   "metadata": {},
   "source": [
    "### Carregando tabela"
   ]
  },
  {
   "cell_type": "code",
   "execution_count": 3,
   "metadata": {},
   "outputs": [
    {
     "data": {
      "text/html": [
       "<div class='datatable'>\n",
       "  <table class='frame'>\n",
       "  <thead>\n",
       "    <tr class='colnames'><td class='row_index'></td><th>ano</th><th>parto_normal</th><th>origem</th><th>destino</th><th>distancia (km)</th><th>tempo (min)</th><th>criticidade</th><th>capitais</th><th>socioecon</th><th>origem_latitude</th><th>origem_longitude</th><th>destino_latitude</th><th>destino_longitude</th><th>count</th></tr>\n",
       "    <tr class='coltypes'><td class='row_index'></td><td class='int' title='int32'>&#x25AA;&#x25AA;&#x25AA;&#x25AA;</td><td class='bool' title='bool8'>&#x25AA;</td><td class='str' title='str32'>&#x25AA;&#x25AA;&#x25AA;&#x25AA;</td><td class='str' title='str32'>&#x25AA;&#x25AA;&#x25AA;&#x25AA;</td><td class='float' title='float64'>&#x25AA;&#x25AA;&#x25AA;&#x25AA;&#x25AA;&#x25AA;&#x25AA;&#x25AA;</td><td class='float' title='float64'>&#x25AA;&#x25AA;&#x25AA;&#x25AA;&#x25AA;&#x25AA;&#x25AA;&#x25AA;</td><td class='int' title='int32'>&#x25AA;&#x25AA;&#x25AA;&#x25AA;</td><td class='str' title='str32'>&#x25AA;&#x25AA;&#x25AA;&#x25AA;</td><td class='str' title='str32'>&#x25AA;&#x25AA;&#x25AA;&#x25AA;</td><td class='float' title='float64'>&#x25AA;&#x25AA;&#x25AA;&#x25AA;&#x25AA;&#x25AA;&#x25AA;&#x25AA;</td><td class='float' title='float64'>&#x25AA;&#x25AA;&#x25AA;&#x25AA;&#x25AA;&#x25AA;&#x25AA;&#x25AA;</td><td class='float' title='float64'>&#x25AA;&#x25AA;&#x25AA;&#x25AA;&#x25AA;&#x25AA;&#x25AA;&#x25AA;</td><td class='float' title='float64'>&#x25AA;&#x25AA;&#x25AA;&#x25AA;&#x25AA;&#x25AA;&#x25AA;&#x25AA;</td><td class='int' title='int32'>&#x25AA;&#x25AA;&#x25AA;&#x25AA;</td></tr>\n",
       "  </thead>\n",
       "  <tbody>\n",
       "    <tr><td class='row_index'>0</td><td>2010</td><td>0</td><td>NT/RO/11005/110001</td><td>NT/RO/11005/110001/2679477</td><td>0</td><td>0</td><td>0</td><td>0_0</td><td>1_1</td><td>&minus;11.9283</td><td>&minus;61.9953</td><td>&minus;11.9283</td><td>&minus;61.9953</td><td>49</td></tr>\n",
       "    <tr><td class='row_index'>1</td><td>2010</td><td>0</td><td>NT/RO/11005/110001</td><td>NT/RO/11003/110012/2495279</td><td>130.77</td><td>152.868</td><td>2</td><td>0_0</td><td>1_2</td><td>&minus;11.9283</td><td>&minus;61.9953</td><td>&minus;10.8777</td><td>&minus;61.9322</td><td>2</td></tr>\n",
       "    <tr><td class='row_index'>2</td><td>2010</td><td>0</td><td>NT/RO/11005/110001</td><td>NT/RO/11001/110013/2808617</td><td>357.511</td><td>427.84</td><td>2</td><td>0_0</td><td>1_1</td><td>&minus;11.9283</td><td>&minus;61.9953</td><td>&minus;9.44363</td><td>&minus;61.9818</td><td>1</td></tr>\n",
       "    <tr><td class='row_index'>3</td><td>2010</td><td>0</td><td>NT/RO/11005/110001</td><td>NT/RO/11002/110018/2496534</td><td>114.061</td><td>112.283</td><td>2</td><td>0_0</td><td>1_3</td><td>&minus;11.9283</td><td>&minus;61.9953</td><td>&minus;11.672</td><td>&minus;61.198</td><td>1</td></tr>\n",
       "    <tr><td class='row_index'>4</td><td>2010</td><td>0</td><td>NT/RO/11005/110001</td><td>NT/RO/11005/110028/2495228</td><td>48.6099</td><td>50.14</td><td>1</td><td>0_0</td><td>1_1</td><td>&minus;11.9283</td><td>&minus;61.9953</td><td>&minus;11.7271</td><td>&minus;61.7714</td><td>4</td></tr>\n",
       "    <tr><td class='row_index'>5</td><td>2010</td><td>0</td><td>NT/RO/11005/110001</td><td>SD/SP/35151/351110/2089327</td><td>2196.35</td><td>1852.41</td><td>4</td><td>0_0</td><td>1_3</td><td>&minus;11.9283</td><td>&minus;61.9953</td><td>&minus;21.1314</td><td>&minus;48.977</td><td>1</td></tr>\n",
       "    <tr><td class='row_index'>6</td><td>2010</td><td>0</td><td>NT/RO/11001/110002</td><td>NT/RO/11001/110002/2494299</td><td>0</td><td>0</td><td>0</td><td>0_0</td><td>1_1</td><td>&minus;9.90571</td><td>&minus;63.0325</td><td>&minus;9.90571</td><td>&minus;63.0325</td><td>375</td></tr>\n",
       "    <tr><td class='row_index'>7</td><td>2010</td><td>0</td><td>NT/RO/11001/110002</td><td>NT/RO/11003/110011/2808609</td><td>95.4727</td><td>140.33</td><td>2</td><td>0_0</td><td>1_2</td><td>&minus;9.90571</td><td>&minus;63.0325</td><td>&minus;10.4318</td><td>&minus;62.4788</td><td>4</td></tr>\n",
       "    <tr><td class='row_index'>8</td><td>2010</td><td>0</td><td>NT/RO/11001/110002</td><td>NT/RO/11004/110020/4001303</td><td>203.582</td><td>188.315</td><td>2</td><td>0_1</td><td>1_3</td><td>&minus;9.90571</td><td>&minus;63.0325</td><td>&minus;8.76077</td><td>&minus;63.8999</td><td>1</td></tr>\n",
       "    <tr><td class='row_index'>9</td><td>2010</td><td>0</td><td>NT/RO/11006/110003</td><td>NT/RO/11006/110003/2808528</td><td>0</td><td>0</td><td>0</td><td>0_0</td><td>2_2</td><td>&minus;13.4945</td><td>&minus;60.552</td><td>&minus;13.4945</td><td>&minus;60.552</td><td>51</td></tr>\n",
       "    <tr><td class='row_index'>10</td><td>2010</td><td>0</td><td>NT/RO/11002/110004</td><td>NT/RO/11002/110004/2496046</td><td>0</td><td>0</td><td>0</td><td>0_0</td><td>3_3</td><td>&minus;11.4343</td><td>&minus;61.4562</td><td>&minus;11.4343</td><td>&minus;61.4562</td><td>199</td></tr>\n",
       "    <tr><td class='row_index'>11</td><td>2010</td><td>0</td><td>NT/RO/11002/110004</td><td>NT/RO/11003/110012/2495279</td><td>104.964</td><td>100.03</td><td>2</td><td>0_0</td><td>3_2</td><td>&minus;11.4343</td><td>&minus;61.4562</td><td>&minus;10.8777</td><td>&minus;61.9322</td><td>2</td></tr>\n",
       "    <tr><td class='row_index'>12</td><td>2010</td><td>0</td><td>NT/RO/11002/110004</td><td>NT/RO/11002/110018/2496534</td><td>41.4266</td><td>40.3333</td><td>1</td><td>0_0</td><td>3_3</td><td>&minus;11.4343</td><td>&minus;61.4562</td><td>&minus;11.672</td><td>&minus;61.198</td><td>1</td></tr>\n",
       "    <tr><td class='row_index'>13</td><td>2010</td><td>0</td><td>NT/RO/11002/110004</td><td>NT/RO/11004/110020/4001303</td><td>480.05</td><td>497.07</td><td>2</td><td>0_1</td><td>3_3</td><td>&minus;11.4343</td><td>&minus;61.4562</td><td>&minus;8.76077</td><td>&minus;63.8999</td><td>2</td></tr>\n",
       "    <tr><td class='row_index'>14</td><td>2010</td><td>0</td><td>NT/RO/11002/110004</td><td>NT/RO/11005/110028/2495228</td><td>47.7899</td><td>66.3017</td><td>2</td><td>0_0</td><td>3_1</td><td>&minus;11.4343</td><td>&minus;61.4562</td><td>&minus;11.7271</td><td>&minus;61.7714</td><td>2</td></tr>\n",
       "    <tr><td class='row_index'>&#x22EE;</td><td class='hellipsis'>&#x22EE;</td><td class='hellipsis'>&#x22EE;</td><td class='hellipsis'>&#x22EE;</td><td class='hellipsis'>&#x22EE;</td><td class='hellipsis'>&#x22EE;</td><td class='hellipsis'>&#x22EE;</td><td class='hellipsis'>&#x22EE;</td><td class='hellipsis'>&#x22EE;</td><td class='hellipsis'>&#x22EE;</td><td class='hellipsis'>&#x22EE;</td><td class='hellipsis'>&#x22EE;</td><td class='hellipsis'>&#x22EE;</td><td class='hellipsis'>&#x22EE;</td><td class='hellipsis'>&#x22EE;</td></tr>\n",
       "    <tr><td class='row_index'>187,466</td><td>2019</td><td>1</td><td>CO/DF/53001/530010</td><td>CO/DF/53001/530010/0010545</td><td>0</td><td>0</td><td>0</td><td>1_1</td><td>5_5</td><td>&minus;15.7795</td><td>&minus;47.9297</td><td>&minus;15.7795</td><td>&minus;47.9297</td><td>479</td></tr>\n",
       "    <tr><td class='row_index'>187,467</td><td>2019</td><td>1</td><td>CO/DF/53001/530010</td><td>CO/DF/53001/530010/2645157</td><td>0</td><td>0</td><td>0</td><td>1_1</td><td>5_5</td><td>&minus;15.7795</td><td>&minus;47.9297</td><td>&minus;15.7795</td><td>&minus;47.9297</td><td>1373</td></tr>\n",
       "    <tr><td class='row_index'>187,468</td><td>2019</td><td>1</td><td>CO/DF/53001/530010</td><td>CO/DF/53001/530010/2650355</td><td>0</td><td>0</td><td>0</td><td>1_1</td><td>5_5</td><td>&minus;15.7795</td><td>&minus;47.9297</td><td>&minus;15.7795</td><td>&minus;47.9297</td><td>5</td></tr>\n",
       "    <tr><td class='row_index'>187,469</td><td>2019</td><td>1</td><td>CO/DF/53001/530010</td><td>CO/DF/53001/530010/2672197</td><td>0</td><td>0</td><td>0</td><td>1_1</td><td>5_5</td><td>&minus;15.7795</td><td>&minus;47.9297</td><td>&minus;15.7795</td><td>&minus;47.9297</td><td>2483</td></tr>\n",
       "    <tr><td class='row_index'>187,470</td><td>2019</td><td>1</td><td>CO/DF/53001/530010</td><td>CO/DF/53001/530010/5717515</td><td>0</td><td>0</td><td>0</td><td>1_1</td><td>5_5</td><td>&minus;15.7795</td><td>&minus;47.9297</td><td>&minus;15.7795</td><td>&minus;47.9297</td><td>1086</td></tr>\n",
       "  </tbody>\n",
       "  </table>\n",
       "  <div class='footer'>\n",
       "    <div class='frame_dimensions'>187,471 rows &times; 14 columns</div>\n",
       "  </div>\n",
       "</div>\n"
      ],
      "text/plain": [
       "<Frame#7f9798585e40 187471x14>"
      ]
     },
     "execution_count": 3,
     "metadata": {},
     "output_type": "execute_result"
    }
   ],
   "source": [
    "path_proc = get_path('GESTANTES', 'procs_ano.csv.gzip')\n",
    "df_proc = dt.fread(path_proc)\n",
    "df_proc = filter_deslc(df_proc)\n",
    "df_proc"
   ]
  },
  {
   "cell_type": "markdown",
   "metadata": {},
   "source": [
    "### Atualizando variável ano (biênio)"
   ]
  },
  {
   "cell_type": "markdown",
   "metadata": {},
   "source": [
    "Valor da variável `bienio`:\n",
    "\n",
    "- `0 (False) = 2010/11`\n",
    "- `1 (True) = 2018/19`"
   ]
  },
  {
   "cell_type": "code",
   "execution_count": 4,
   "metadata": {},
   "outputs": [
    {
     "data": {
      "text/html": [
       "<div class='datatable'>\n",
       "  <table class='frame'>\n",
       "  <thead>\n",
       "    <tr class='colnames'><td class='row_index'></td><th>bienio</th><th>parto_normal</th><th>origem</th><th>destino</th><th>distancia (km)</th><th>tempo (min)</th><th>criticidade</th><th>capitais</th><th>socioecon</th><th>origem_latitude</th><th>origem_longitude</th><th>destino_latitude</th><th>destino_longitude</th><th>count</th></tr>\n",
       "    <tr class='coltypes'><td class='row_index'></td><td class='bool' title='bool8'>&#x25AA;</td><td class='bool' title='bool8'>&#x25AA;</td><td class='str' title='str32'>&#x25AA;&#x25AA;&#x25AA;&#x25AA;</td><td class='str' title='str32'>&#x25AA;&#x25AA;&#x25AA;&#x25AA;</td><td class='float' title='float64'>&#x25AA;&#x25AA;&#x25AA;&#x25AA;&#x25AA;&#x25AA;&#x25AA;&#x25AA;</td><td class='float' title='float64'>&#x25AA;&#x25AA;&#x25AA;&#x25AA;&#x25AA;&#x25AA;&#x25AA;&#x25AA;</td><td class='int' title='int32'>&#x25AA;&#x25AA;&#x25AA;&#x25AA;</td><td class='str' title='str32'>&#x25AA;&#x25AA;&#x25AA;&#x25AA;</td><td class='str' title='str32'>&#x25AA;&#x25AA;&#x25AA;&#x25AA;</td><td class='float' title='float64'>&#x25AA;&#x25AA;&#x25AA;&#x25AA;&#x25AA;&#x25AA;&#x25AA;&#x25AA;</td><td class='float' title='float64'>&#x25AA;&#x25AA;&#x25AA;&#x25AA;&#x25AA;&#x25AA;&#x25AA;&#x25AA;</td><td class='float' title='float64'>&#x25AA;&#x25AA;&#x25AA;&#x25AA;&#x25AA;&#x25AA;&#x25AA;&#x25AA;</td><td class='float' title='float64'>&#x25AA;&#x25AA;&#x25AA;&#x25AA;&#x25AA;&#x25AA;&#x25AA;&#x25AA;</td><td class='int' title='int32'>&#x25AA;&#x25AA;&#x25AA;&#x25AA;</td></tr>\n",
       "  </thead>\n",
       "  <tbody>\n",
       "    <tr><td class='row_index'>0</td><td>0</td><td>0</td><td>NT/RO/11005/110001</td><td>NT/RO/11005/110001/2679477</td><td>0</td><td>0</td><td>0</td><td>0_0</td><td>1_1</td><td>&minus;11.9283</td><td>&minus;61.9953</td><td>&minus;11.9283</td><td>&minus;61.9953</td><td>49</td></tr>\n",
       "    <tr><td class='row_index'>1</td><td>0</td><td>0</td><td>NT/RO/11005/110001</td><td>NT/RO/11003/110012/2495279</td><td>130.77</td><td>152.868</td><td>2</td><td>0_0</td><td>1_2</td><td>&minus;11.9283</td><td>&minus;61.9953</td><td>&minus;10.8777</td><td>&minus;61.9322</td><td>2</td></tr>\n",
       "    <tr><td class='row_index'>2</td><td>0</td><td>0</td><td>NT/RO/11005/110001</td><td>NT/RO/11001/110013/2808617</td><td>357.511</td><td>427.84</td><td>2</td><td>0_0</td><td>1_1</td><td>&minus;11.9283</td><td>&minus;61.9953</td><td>&minus;9.44363</td><td>&minus;61.9818</td><td>1</td></tr>\n",
       "    <tr><td class='row_index'>3</td><td>0</td><td>0</td><td>NT/RO/11005/110001</td><td>NT/RO/11002/110018/2496534</td><td>114.061</td><td>112.283</td><td>2</td><td>0_0</td><td>1_3</td><td>&minus;11.9283</td><td>&minus;61.9953</td><td>&minus;11.672</td><td>&minus;61.198</td><td>1</td></tr>\n",
       "    <tr><td class='row_index'>4</td><td>0</td><td>0</td><td>NT/RO/11005/110001</td><td>NT/RO/11005/110028/2495228</td><td>48.6099</td><td>50.14</td><td>1</td><td>0_0</td><td>1_1</td><td>&minus;11.9283</td><td>&minus;61.9953</td><td>&minus;11.7271</td><td>&minus;61.7714</td><td>4</td></tr>\n",
       "    <tr><td class='row_index'>5</td><td>0</td><td>0</td><td>NT/RO/11005/110001</td><td>SD/SP/35151/351110/2089327</td><td>2196.35</td><td>1852.41</td><td>4</td><td>0_0</td><td>1_3</td><td>&minus;11.9283</td><td>&minus;61.9953</td><td>&minus;21.1314</td><td>&minus;48.977</td><td>1</td></tr>\n",
       "    <tr><td class='row_index'>6</td><td>0</td><td>0</td><td>NT/RO/11001/110002</td><td>NT/RO/11001/110002/2494299</td><td>0</td><td>0</td><td>0</td><td>0_0</td><td>1_1</td><td>&minus;9.90571</td><td>&minus;63.0325</td><td>&minus;9.90571</td><td>&minus;63.0325</td><td>375</td></tr>\n",
       "    <tr><td class='row_index'>7</td><td>0</td><td>0</td><td>NT/RO/11001/110002</td><td>NT/RO/11003/110011/2808609</td><td>95.4727</td><td>140.33</td><td>2</td><td>0_0</td><td>1_2</td><td>&minus;9.90571</td><td>&minus;63.0325</td><td>&minus;10.4318</td><td>&minus;62.4788</td><td>4</td></tr>\n",
       "    <tr><td class='row_index'>8</td><td>0</td><td>0</td><td>NT/RO/11001/110002</td><td>NT/RO/11004/110020/4001303</td><td>203.582</td><td>188.315</td><td>2</td><td>0_1</td><td>1_3</td><td>&minus;9.90571</td><td>&minus;63.0325</td><td>&minus;8.76077</td><td>&minus;63.8999</td><td>1</td></tr>\n",
       "    <tr><td class='row_index'>9</td><td>0</td><td>0</td><td>NT/RO/11006/110003</td><td>NT/RO/11006/110003/2808528</td><td>0</td><td>0</td><td>0</td><td>0_0</td><td>2_2</td><td>&minus;13.4945</td><td>&minus;60.552</td><td>&minus;13.4945</td><td>&minus;60.552</td><td>51</td></tr>\n",
       "    <tr><td class='row_index'>10</td><td>0</td><td>0</td><td>NT/RO/11002/110004</td><td>NT/RO/11002/110004/2496046</td><td>0</td><td>0</td><td>0</td><td>0_0</td><td>3_3</td><td>&minus;11.4343</td><td>&minus;61.4562</td><td>&minus;11.4343</td><td>&minus;61.4562</td><td>199</td></tr>\n",
       "    <tr><td class='row_index'>11</td><td>0</td><td>0</td><td>NT/RO/11002/110004</td><td>NT/RO/11003/110012/2495279</td><td>104.964</td><td>100.03</td><td>2</td><td>0_0</td><td>3_2</td><td>&minus;11.4343</td><td>&minus;61.4562</td><td>&minus;10.8777</td><td>&minus;61.9322</td><td>2</td></tr>\n",
       "    <tr><td class='row_index'>12</td><td>0</td><td>0</td><td>NT/RO/11002/110004</td><td>NT/RO/11002/110018/2496534</td><td>41.4266</td><td>40.3333</td><td>1</td><td>0_0</td><td>3_3</td><td>&minus;11.4343</td><td>&minus;61.4562</td><td>&minus;11.672</td><td>&minus;61.198</td><td>1</td></tr>\n",
       "    <tr><td class='row_index'>13</td><td>0</td><td>0</td><td>NT/RO/11002/110004</td><td>NT/RO/11004/110020/4001303</td><td>480.05</td><td>497.07</td><td>2</td><td>0_1</td><td>3_3</td><td>&minus;11.4343</td><td>&minus;61.4562</td><td>&minus;8.76077</td><td>&minus;63.8999</td><td>2</td></tr>\n",
       "    <tr><td class='row_index'>14</td><td>0</td><td>0</td><td>NT/RO/11002/110004</td><td>NT/RO/11005/110028/2495228</td><td>47.7899</td><td>66.3017</td><td>2</td><td>0_0</td><td>3_1</td><td>&minus;11.4343</td><td>&minus;61.4562</td><td>&minus;11.7271</td><td>&minus;61.7714</td><td>2</td></tr>\n",
       "    <tr><td class='row_index'>&#x22EE;</td><td class='hellipsis'>&#x22EE;</td><td class='hellipsis'>&#x22EE;</td><td class='hellipsis'>&#x22EE;</td><td class='hellipsis'>&#x22EE;</td><td class='hellipsis'>&#x22EE;</td><td class='hellipsis'>&#x22EE;</td><td class='hellipsis'>&#x22EE;</td><td class='hellipsis'>&#x22EE;</td><td class='hellipsis'>&#x22EE;</td><td class='hellipsis'>&#x22EE;</td><td class='hellipsis'>&#x22EE;</td><td class='hellipsis'>&#x22EE;</td><td class='hellipsis'>&#x22EE;</td><td class='hellipsis'>&#x22EE;</td></tr>\n",
       "    <tr><td class='row_index'>187,466</td><td>1</td><td>1</td><td>CO/DF/53001/530010</td><td>CO/DF/53001/530010/0010545</td><td>0</td><td>0</td><td>0</td><td>1_1</td><td>5_5</td><td>&minus;15.7795</td><td>&minus;47.9297</td><td>&minus;15.7795</td><td>&minus;47.9297</td><td>479</td></tr>\n",
       "    <tr><td class='row_index'>187,467</td><td>1</td><td>1</td><td>CO/DF/53001/530010</td><td>CO/DF/53001/530010/2645157</td><td>0</td><td>0</td><td>0</td><td>1_1</td><td>5_5</td><td>&minus;15.7795</td><td>&minus;47.9297</td><td>&minus;15.7795</td><td>&minus;47.9297</td><td>1373</td></tr>\n",
       "    <tr><td class='row_index'>187,468</td><td>1</td><td>1</td><td>CO/DF/53001/530010</td><td>CO/DF/53001/530010/2650355</td><td>0</td><td>0</td><td>0</td><td>1_1</td><td>5_5</td><td>&minus;15.7795</td><td>&minus;47.9297</td><td>&minus;15.7795</td><td>&minus;47.9297</td><td>5</td></tr>\n",
       "    <tr><td class='row_index'>187,469</td><td>1</td><td>1</td><td>CO/DF/53001/530010</td><td>CO/DF/53001/530010/2672197</td><td>0</td><td>0</td><td>0</td><td>1_1</td><td>5_5</td><td>&minus;15.7795</td><td>&minus;47.9297</td><td>&minus;15.7795</td><td>&minus;47.9297</td><td>2483</td></tr>\n",
       "    <tr><td class='row_index'>187,470</td><td>1</td><td>1</td><td>CO/DF/53001/530010</td><td>CO/DF/53001/530010/5717515</td><td>0</td><td>0</td><td>0</td><td>1_1</td><td>5_5</td><td>&minus;15.7795</td><td>&minus;47.9297</td><td>&minus;15.7795</td><td>&minus;47.9297</td><td>1086</td></tr>\n",
       "  </tbody>\n",
       "  </table>\n",
       "  <div class='footer'>\n",
       "    <div class='frame_dimensions'>187,471 rows &times; 14 columns</div>\n",
       "  </div>\n",
       "</div>\n"
      ],
      "text/plain": [
       "<Frame#7f9798585e40 187471x14>"
      ]
     },
     "execution_count": 4,
     "metadata": {},
     "output_type": "execute_result"
    }
   ],
   "source": [
    "df_proc[:, dt.update(ano = (f.ano == 2018) | (f.ano == 2019))]\n",
    "df_proc.names = {'ano': 'bienio'}\n",
    "df_proc"
   ]
  },
  {
   "cell_type": "markdown",
   "metadata": {},
   "source": [
    "### Tabela agrupada"
   ]
  },
  {
   "cell_type": "code",
   "execution_count": 5,
   "metadata": {},
   "outputs": [
    {
     "data": {
      "text/html": [
       "<div class='datatable'>\n",
       "  <table class='frame'>\n",
       "  <thead>\n",
       "    <tr class='colnames'><td class='row_index'></td><th>bienio</th><th>parto_normal</th><th>origem</th><th>destino</th><th>distancia (km)</th><th>tempo (min)</th><th>criticidade</th><th>capitais</th><th>socioecon</th><th>origem_latitude</th><th>origem_longitude</th><th>destino_latitude</th><th>destino_longitude</th><th>count</th></tr>\n",
       "    <tr class='coltypes'><td class='row_index'></td><td class='bool' title='bool8'>&#x25AA;</td><td class='bool' title='bool8'>&#x25AA;</td><td class='str' title='str32'>&#x25AA;&#x25AA;&#x25AA;&#x25AA;</td><td class='str' title='str32'>&#x25AA;&#x25AA;&#x25AA;&#x25AA;</td><td class='float' title='float64'>&#x25AA;&#x25AA;&#x25AA;&#x25AA;&#x25AA;&#x25AA;&#x25AA;&#x25AA;</td><td class='float' title='float64'>&#x25AA;&#x25AA;&#x25AA;&#x25AA;&#x25AA;&#x25AA;&#x25AA;&#x25AA;</td><td class='int' title='int32'>&#x25AA;&#x25AA;&#x25AA;&#x25AA;</td><td class='str' title='str32'>&#x25AA;&#x25AA;&#x25AA;&#x25AA;</td><td class='str' title='str32'>&#x25AA;&#x25AA;&#x25AA;&#x25AA;</td><td class='float' title='float64'>&#x25AA;&#x25AA;&#x25AA;&#x25AA;&#x25AA;&#x25AA;&#x25AA;&#x25AA;</td><td class='float' title='float64'>&#x25AA;&#x25AA;&#x25AA;&#x25AA;&#x25AA;&#x25AA;&#x25AA;&#x25AA;</td><td class='float' title='float64'>&#x25AA;&#x25AA;&#x25AA;&#x25AA;&#x25AA;&#x25AA;&#x25AA;&#x25AA;</td><td class='float' title='float64'>&#x25AA;&#x25AA;&#x25AA;&#x25AA;&#x25AA;&#x25AA;&#x25AA;&#x25AA;</td><td class='int' title='int64'>&#x25AA;&#x25AA;&#x25AA;&#x25AA;&#x25AA;&#x25AA;&#x25AA;&#x25AA;</td></tr>\n",
       "  </thead>\n",
       "  <tbody>\n",
       "    <tr><td class='row_index'>0</td><td>0</td><td>0</td><td>CO/DF/53001/530010</td><td>CO/DF/53001/530010/0010464</td><td>0</td><td>0</td><td>0</td><td>1_1</td><td>5_5</td><td>&minus;15.7795</td><td>&minus;47.9297</td><td>&minus;15.7795</td><td>&minus;47.9297</td><td>260</td></tr>\n",
       "    <tr><td class='row_index'>1</td><td>0</td><td>0</td><td>CO/DF/53001/530010</td><td>CO/DF/53001/530010/0010472</td><td>0</td><td>0</td><td>0</td><td>1_1</td><td>5_5</td><td>&minus;15.7795</td><td>&minus;47.9297</td><td>&minus;15.7795</td><td>&minus;47.9297</td><td>282</td></tr>\n",
       "    <tr><td class='row_index'>2</td><td>0</td><td>0</td><td>CO/DF/53001/530010</td><td>CO/DF/53001/530010/0010480</td><td>0</td><td>0</td><td>0</td><td>1_1</td><td>5_5</td><td>&minus;15.7795</td><td>&minus;47.9297</td><td>&minus;15.7795</td><td>&minus;47.9297</td><td>3323</td></tr>\n",
       "    <tr><td class='row_index'>3</td><td>0</td><td>0</td><td>CO/DF/53001/530010</td><td>CO/DF/53001/530010/0010499</td><td>0</td><td>0</td><td>0</td><td>1_1</td><td>5_5</td><td>&minus;15.7795</td><td>&minus;47.9297</td><td>&minus;15.7795</td><td>&minus;47.9297</td><td>3368</td></tr>\n",
       "    <tr><td class='row_index'>4</td><td>0</td><td>0</td><td>CO/DF/53001/530010</td><td>CO/DF/53001/530010/0010502</td><td>0</td><td>0</td><td>0</td><td>1_1</td><td>5_5</td><td>&minus;15.7795</td><td>&minus;47.9297</td><td>&minus;15.7795</td><td>&minus;47.9297</td><td>964</td></tr>\n",
       "    <tr><td class='row_index'>5</td><td>0</td><td>0</td><td>CO/DF/53001/530010</td><td>CO/DF/53001/530010/0010510</td><td>0</td><td>0</td><td>0</td><td>1_1</td><td>5_5</td><td>&minus;15.7795</td><td>&minus;47.9297</td><td>&minus;15.7795</td><td>&minus;47.9297</td><td>832</td></tr>\n",
       "    <tr><td class='row_index'>6</td><td>0</td><td>0</td><td>CO/DF/53001/530010</td><td>CO/DF/53001/530010/0010529</td><td>0</td><td>0</td><td>0</td><td>1_1</td><td>5_5</td><td>&minus;15.7795</td><td>&minus;47.9297</td><td>&minus;15.7795</td><td>&minus;47.9297</td><td>1831</td></tr>\n",
       "    <tr><td class='row_index'>7</td><td>0</td><td>0</td><td>CO/DF/53001/530010</td><td>CO/DF/53001/530010/0010537</td><td>0</td><td>0</td><td>0</td><td>1_1</td><td>5_5</td><td>&minus;15.7795</td><td>&minus;47.9297</td><td>&minus;15.7795</td><td>&minus;47.9297</td><td>3707</td></tr>\n",
       "    <tr><td class='row_index'>8</td><td>0</td><td>0</td><td>CO/DF/53001/530010</td><td>CO/DF/53001/530010/0010545</td><td>0</td><td>0</td><td>0</td><td>1_1</td><td>5_5</td><td>&minus;15.7795</td><td>&minus;47.9297</td><td>&minus;15.7795</td><td>&minus;47.9297</td><td>728</td></tr>\n",
       "    <tr><td class='row_index'>9</td><td>0</td><td>0</td><td>CO/DF/53001/530010</td><td>CO/DF/53001/530010/0010561</td><td>0</td><td>0</td><td>0</td><td>1_1</td><td>5_5</td><td>&minus;15.7795</td><td>&minus;47.9297</td><td>&minus;15.7795</td><td>&minus;47.9297</td><td>1</td></tr>\n",
       "    <tr><td class='row_index'>10</td><td>0</td><td>0</td><td>CO/DF/53001/530010</td><td>CO/DF/53001/530010/2645157</td><td>0</td><td>0</td><td>0</td><td>1_1</td><td>5_5</td><td>&minus;15.7795</td><td>&minus;47.9297</td><td>&minus;15.7795</td><td>&minus;47.9297</td><td>2251</td></tr>\n",
       "    <tr><td class='row_index'>11</td><td>0</td><td>0</td><td>CO/DF/53001/530010</td><td>CO/DF/53001/530010/2672197</td><td>0</td><td>0</td><td>0</td><td>1_1</td><td>5_5</td><td>&minus;15.7795</td><td>&minus;47.9297</td><td>&minus;15.7795</td><td>&minus;47.9297</td><td>1561</td></tr>\n",
       "    <tr><td class='row_index'>12</td><td>0</td><td>0</td><td>CO/DF/53001/530010</td><td>CO/DF/53001/530010/5717515</td><td>0</td><td>0</td><td>0</td><td>1_1</td><td>5_5</td><td>&minus;15.7795</td><td>&minus;47.9297</td><td>&minus;15.7795</td><td>&minus;47.9297</td><td>1798</td></tr>\n",
       "    <tr><td class='row_index'>13</td><td>0</td><td>0</td><td>CO/DF/53001/530010</td><td>CO/GO/52011/520110/2361787</td><td>152.625</td><td>132.723</td><td>3</td><td>1_0</td><td>5_3</td><td>&minus;15.7795</td><td>&minus;47.9297</td><td>&minus;16.3281</td><td>&minus;48.953</td><td>4</td></tr>\n",
       "    <tr><td class='row_index'>14</td><td>0</td><td>0</td><td>CO/DF/53001/530010</td><td>ND/BA/29002/290320/3972925</td><td>630.949</td><td>466.705</td><td>4</td><td>1_0</td><td>5_2</td><td>&minus;15.7795</td><td>&minus;47.9297</td><td>&minus;12.1439</td><td>&minus;44.9968</td><td>1</td></tr>\n",
       "    <tr><td class='row_index'>&#x22EE;</td><td class='hellipsis'>&#x22EE;</td><td class='hellipsis'>&#x22EE;</td><td class='hellipsis'>&#x22EE;</td><td class='hellipsis'>&#x22EE;</td><td class='hellipsis'>&#x22EE;</td><td class='hellipsis'>&#x22EE;</td><td class='hellipsis'>&#x22EE;</td><td class='hellipsis'>&#x22EE;</td><td class='hellipsis'>&#x22EE;</td><td class='hellipsis'>&#x22EE;</td><td class='hellipsis'>&#x22EE;</td><td class='hellipsis'>&#x22EE;</td><td class='hellipsis'>&#x22EE;</td><td class='hellipsis'>&#x22EE;</td></tr>\n",
       "    <tr><td class='row_index'>124,980</td><td>1</td><td>1</td><td>SL/SC/42016/421870</td><td>SL/SC/42007/420540/3157245</td><td>138.477</td><td>104.94</td><td>2</td><td>0_1</td><td>3_5</td><td>&minus;28.4713</td><td>&minus;49.0144</td><td>&minus;27.5945</td><td>&minus;48.5477</td><td>1</td></tr>\n",
       "    <tr><td class='row_index'>124,981</td><td>1</td><td>1</td><td>SL/SC/42016/421870</td><td>SL/SC/42015/420460/2594277</td><td>54.621</td><td>49.3167</td><td>2</td><td>0_0</td><td>3_4</td><td>&minus;28.4713</td><td>&minus;49.0144</td><td>&minus;28.6723</td><td>&minus;49.3729</td><td>1</td></tr>\n",
       "    <tr><td class='row_index'>124,982</td><td>1</td><td>1</td><td>SL/SC/42016/421870</td><td>SL/SC/42016/420280/2665883</td><td>35.5439</td><td>37.4933</td><td>1</td><td>0_0</td><td>3_3</td><td>&minus;28.4713</td><td>&minus;49.0144</td><td>&minus;28.2681</td><td>&minus;49.1701</td><td>2</td></tr>\n",
       "    <tr><td class='row_index'>124,983</td><td>1</td><td>1</td><td>SL/SC/42016/421870</td><td>SL/SC/42016/420730/2385880</td><td>53.961</td><td>45.3533</td><td>1</td><td>0_0</td><td>3_3</td><td>&minus;28.4713</td><td>&minus;49.0144</td><td>&minus;28.2284</td><td>&minus;48.6659</td><td>1</td></tr>\n",
       "    <tr><td class='row_index'>124,984</td><td>1</td><td>1</td><td>SL/SC/42016/421870</td><td>SL/SC/42016/421870/2491710</td><td>0</td><td>0</td><td>0</td><td>0_0</td><td>3_3</td><td>&minus;28.4713</td><td>&minus;49.0144</td><td>&minus;28.4713</td><td>&minus;49.0144</td><td>441</td></tr>\n",
       "  </tbody>\n",
       "  </table>\n",
       "  <div class='footer'>\n",
       "    <div class='frame_dimensions'>124,985 rows &times; 14 columns</div>\n",
       "  </div>\n",
       "</div>\n"
      ],
      "text/plain": [
       "<Frame#7f97aacd8ea0 124985x14>"
      ]
     },
     "execution_count": 5,
     "metadata": {},
     "output_type": "execute_result"
    }
   ],
   "source": [
    "df_proc = df_proc[:, dt.sum(f.count), by(df_proc.names[:-1])]\n",
    "df_proc"
   ]
  },
  {
   "cell_type": "markdown",
   "metadata": {},
   "source": [
    "# Gerando tabela"
   ]
  },
  {
   "cell_type": "markdown",
   "metadata": {},
   "source": [
    "## Ordenando linhas"
   ]
  },
  {
   "cell_type": "code",
   "execution_count": 6,
   "metadata": {},
   "outputs": [
    {
     "data": {
      "text/html": [
       "<div class='datatable'>\n",
       "  <table class='frame'>\n",
       "  <thead>\n",
       "    <tr class='colnames'><td class='row_index'></td><th>bienio</th><th>parto_normal</th><th>origem</th><th>destino</th><th>distancia (km)</th><th>tempo (min)</th><th>criticidade</th><th>capitais</th><th>socioecon</th><th>origem_latitude</th><th>origem_longitude</th><th>destino_latitude</th><th>destino_longitude</th><th>count</th></tr>\n",
       "    <tr class='coltypes'><td class='row_index'></td><td class='bool' title='bool8'>&#x25AA;</td><td class='bool' title='bool8'>&#x25AA;</td><td class='str' title='str32'>&#x25AA;&#x25AA;&#x25AA;&#x25AA;</td><td class='str' title='str32'>&#x25AA;&#x25AA;&#x25AA;&#x25AA;</td><td class='float' title='float64'>&#x25AA;&#x25AA;&#x25AA;&#x25AA;&#x25AA;&#x25AA;&#x25AA;&#x25AA;</td><td class='float' title='float64'>&#x25AA;&#x25AA;&#x25AA;&#x25AA;&#x25AA;&#x25AA;&#x25AA;&#x25AA;</td><td class='int' title='int32'>&#x25AA;&#x25AA;&#x25AA;&#x25AA;</td><td class='str' title='str32'>&#x25AA;&#x25AA;&#x25AA;&#x25AA;</td><td class='str' title='str32'>&#x25AA;&#x25AA;&#x25AA;&#x25AA;</td><td class='float' title='float64'>&#x25AA;&#x25AA;&#x25AA;&#x25AA;&#x25AA;&#x25AA;&#x25AA;&#x25AA;</td><td class='float' title='float64'>&#x25AA;&#x25AA;&#x25AA;&#x25AA;&#x25AA;&#x25AA;&#x25AA;&#x25AA;</td><td class='float' title='float64'>&#x25AA;&#x25AA;&#x25AA;&#x25AA;&#x25AA;&#x25AA;&#x25AA;&#x25AA;</td><td class='float' title='float64'>&#x25AA;&#x25AA;&#x25AA;&#x25AA;&#x25AA;&#x25AA;&#x25AA;&#x25AA;</td><td class='int' title='int64'>&#x25AA;&#x25AA;&#x25AA;&#x25AA;&#x25AA;&#x25AA;&#x25AA;&#x25AA;</td></tr>\n",
       "  </thead>\n",
       "  <tbody>\n",
       "    <tr><td class='row_index'>0</td><td>0</td><td>0</td><td>CO/DF/53001/530010</td><td>CO/DF/53001/530010/0010464</td><td>0</td><td>0</td><td>0</td><td>1_1</td><td>5_5</td><td>&minus;15.7795</td><td>&minus;47.9297</td><td>&minus;15.7795</td><td>&minus;47.9297</td><td>260</td></tr>\n",
       "    <tr><td class='row_index'>1</td><td>0</td><td>0</td><td>CO/DF/53001/530010</td><td>CO/DF/53001/530010/0010472</td><td>0</td><td>0</td><td>0</td><td>1_1</td><td>5_5</td><td>&minus;15.7795</td><td>&minus;47.9297</td><td>&minus;15.7795</td><td>&minus;47.9297</td><td>282</td></tr>\n",
       "    <tr><td class='row_index'>2</td><td>0</td><td>0</td><td>CO/DF/53001/530010</td><td>CO/DF/53001/530010/0010480</td><td>0</td><td>0</td><td>0</td><td>1_1</td><td>5_5</td><td>&minus;15.7795</td><td>&minus;47.9297</td><td>&minus;15.7795</td><td>&minus;47.9297</td><td>3323</td></tr>\n",
       "    <tr><td class='row_index'>3</td><td>0</td><td>0</td><td>CO/DF/53001/530010</td><td>CO/DF/53001/530010/0010499</td><td>0</td><td>0</td><td>0</td><td>1_1</td><td>5_5</td><td>&minus;15.7795</td><td>&minus;47.9297</td><td>&minus;15.7795</td><td>&minus;47.9297</td><td>3368</td></tr>\n",
       "    <tr><td class='row_index'>4</td><td>0</td><td>0</td><td>CO/DF/53001/530010</td><td>CO/DF/53001/530010/0010502</td><td>0</td><td>0</td><td>0</td><td>1_1</td><td>5_5</td><td>&minus;15.7795</td><td>&minus;47.9297</td><td>&minus;15.7795</td><td>&minus;47.9297</td><td>964</td></tr>\n",
       "    <tr><td class='row_index'>5</td><td>0</td><td>0</td><td>CO/DF/53001/530010</td><td>CO/DF/53001/530010/0010510</td><td>0</td><td>0</td><td>0</td><td>1_1</td><td>5_5</td><td>&minus;15.7795</td><td>&minus;47.9297</td><td>&minus;15.7795</td><td>&minus;47.9297</td><td>832</td></tr>\n",
       "    <tr><td class='row_index'>6</td><td>0</td><td>0</td><td>CO/DF/53001/530010</td><td>CO/DF/53001/530010/0010529</td><td>0</td><td>0</td><td>0</td><td>1_1</td><td>5_5</td><td>&minus;15.7795</td><td>&minus;47.9297</td><td>&minus;15.7795</td><td>&minus;47.9297</td><td>1831</td></tr>\n",
       "    <tr><td class='row_index'>7</td><td>0</td><td>0</td><td>CO/DF/53001/530010</td><td>CO/DF/53001/530010/0010537</td><td>0</td><td>0</td><td>0</td><td>1_1</td><td>5_5</td><td>&minus;15.7795</td><td>&minus;47.9297</td><td>&minus;15.7795</td><td>&minus;47.9297</td><td>3707</td></tr>\n",
       "    <tr><td class='row_index'>8</td><td>0</td><td>0</td><td>CO/DF/53001/530010</td><td>CO/DF/53001/530010/0010545</td><td>0</td><td>0</td><td>0</td><td>1_1</td><td>5_5</td><td>&minus;15.7795</td><td>&minus;47.9297</td><td>&minus;15.7795</td><td>&minus;47.9297</td><td>728</td></tr>\n",
       "    <tr><td class='row_index'>9</td><td>0</td><td>0</td><td>CO/DF/53001/530010</td><td>CO/DF/53001/530010/0010561</td><td>0</td><td>0</td><td>0</td><td>1_1</td><td>5_5</td><td>&minus;15.7795</td><td>&minus;47.9297</td><td>&minus;15.7795</td><td>&minus;47.9297</td><td>1</td></tr>\n",
       "    <tr><td class='row_index'>10</td><td>0</td><td>0</td><td>CO/DF/53001/530010</td><td>CO/DF/53001/530010/2645157</td><td>0</td><td>0</td><td>0</td><td>1_1</td><td>5_5</td><td>&minus;15.7795</td><td>&minus;47.9297</td><td>&minus;15.7795</td><td>&minus;47.9297</td><td>2251</td></tr>\n",
       "    <tr><td class='row_index'>11</td><td>0</td><td>0</td><td>CO/DF/53001/530010</td><td>CO/DF/53001/530010/2672197</td><td>0</td><td>0</td><td>0</td><td>1_1</td><td>5_5</td><td>&minus;15.7795</td><td>&minus;47.9297</td><td>&minus;15.7795</td><td>&minus;47.9297</td><td>1561</td></tr>\n",
       "    <tr><td class='row_index'>12</td><td>0</td><td>0</td><td>CO/DF/53001/530010</td><td>CO/DF/53001/530010/5717515</td><td>0</td><td>0</td><td>0</td><td>1_1</td><td>5_5</td><td>&minus;15.7795</td><td>&minus;47.9297</td><td>&minus;15.7795</td><td>&minus;47.9297</td><td>1798</td></tr>\n",
       "    <tr><td class='row_index'>13</td><td>0</td><td>0</td><td>CO/DF/53001/530010</td><td>CO/GO/52011/520110/2361787</td><td>152.625</td><td>132.723</td><td>3</td><td>1_0</td><td>5_3</td><td>&minus;15.7795</td><td>&minus;47.9297</td><td>&minus;16.3281</td><td>&minus;48.953</td><td>4</td></tr>\n",
       "    <tr><td class='row_index'>14</td><td>0</td><td>0</td><td>CO/DF/53001/530010</td><td>ND/BA/29002/290320/3972925</td><td>630.949</td><td>466.705</td><td>4</td><td>1_0</td><td>5_2</td><td>&minus;15.7795</td><td>&minus;47.9297</td><td>&minus;12.1439</td><td>&minus;44.9968</td><td>1</td></tr>\n",
       "    <tr><td class='row_index'>&#x22EE;</td><td class='hellipsis'>&#x22EE;</td><td class='hellipsis'>&#x22EE;</td><td class='hellipsis'>&#x22EE;</td><td class='hellipsis'>&#x22EE;</td><td class='hellipsis'>&#x22EE;</td><td class='hellipsis'>&#x22EE;</td><td class='hellipsis'>&#x22EE;</td><td class='hellipsis'>&#x22EE;</td><td class='hellipsis'>&#x22EE;</td><td class='hellipsis'>&#x22EE;</td><td class='hellipsis'>&#x22EE;</td><td class='hellipsis'>&#x22EE;</td><td class='hellipsis'>&#x22EE;</td><td class='hellipsis'>&#x22EE;</td></tr>\n",
       "    <tr><td class='row_index'>124,980</td><td>1</td><td>1</td><td>SL/SC/42016/421870</td><td>SL/SC/42007/420540/3157245</td><td>138.477</td><td>104.94</td><td>2</td><td>0_1</td><td>3_5</td><td>&minus;28.4713</td><td>&minus;49.0144</td><td>&minus;27.5945</td><td>&minus;48.5477</td><td>1</td></tr>\n",
       "    <tr><td class='row_index'>124,981</td><td>1</td><td>1</td><td>SL/SC/42016/421870</td><td>SL/SC/42015/420460/2594277</td><td>54.621</td><td>49.3167</td><td>2</td><td>0_0</td><td>3_4</td><td>&minus;28.4713</td><td>&minus;49.0144</td><td>&minus;28.6723</td><td>&minus;49.3729</td><td>1</td></tr>\n",
       "    <tr><td class='row_index'>124,982</td><td>1</td><td>1</td><td>SL/SC/42016/421870</td><td>SL/SC/42016/420280/2665883</td><td>35.5439</td><td>37.4933</td><td>1</td><td>0_0</td><td>3_3</td><td>&minus;28.4713</td><td>&minus;49.0144</td><td>&minus;28.2681</td><td>&minus;49.1701</td><td>2</td></tr>\n",
       "    <tr><td class='row_index'>124,983</td><td>1</td><td>1</td><td>SL/SC/42016/421870</td><td>SL/SC/42016/420730/2385880</td><td>53.961</td><td>45.3533</td><td>1</td><td>0_0</td><td>3_3</td><td>&minus;28.4713</td><td>&minus;49.0144</td><td>&minus;28.2284</td><td>&minus;48.6659</td><td>1</td></tr>\n",
       "    <tr><td class='row_index'>124,984</td><td>1</td><td>1</td><td>SL/SC/42016/421870</td><td>SL/SC/42016/421870/2491710</td><td>0</td><td>0</td><td>0</td><td>0_0</td><td>3_3</td><td>&minus;28.4713</td><td>&minus;49.0144</td><td>&minus;28.4713</td><td>&minus;49.0144</td><td>441</td></tr>\n",
       "  </tbody>\n",
       "  </table>\n",
       "  <div class='footer'>\n",
       "    <div class='frame_dimensions'>124,985 rows &times; 14 columns</div>\n",
       "  </div>\n",
       "</div>\n"
      ],
      "text/plain": [
       "<Frame#7f97aacd8db0 124985x14>"
      ]
     },
     "execution_count": 6,
     "metadata": {},
     "output_type": "execute_result"
    }
   ],
   "source": [
    "df_proc = df_proc.sort(f.bienio, f.parto_normal, f.origem, f.destino)\n",
    "df_proc"
   ]
  },
  {
   "cell_type": "markdown",
   "metadata": {},
   "source": [
    "# Exportando tabela"
   ]
  },
  {
   "cell_type": "code",
   "execution_count": 7,
   "metadata": {},
   "outputs": [],
   "source": [
    "output_deslc = get_path('GESTANTES', 'procs_bienio.csv.gzip')\n",
    "df_proc.to_csv(output_deslc)"
   ]
  },
  {
   "cell_type": "code",
   "execution_count": 8,
   "metadata": {},
   "outputs": [
    {
     "data": {
      "text/html": [
       "<div class='datatable'>\n",
       "  <table class='frame'>\n",
       "  <thead>\n",
       "    <tr class='colnames'><td class='row_index'></td><th>bienio</th><th>parto_normal</th><th>origem</th><th>destino</th><th>distancia (km)</th><th>tempo (min)</th><th>criticidade</th><th>capitais</th><th>socioecon</th><th>origem_latitude</th><th>origem_longitude</th><th>destino_latitude</th><th>destino_longitude</th><th>count</th></tr>\n",
       "    <tr class='coltypes'><td class='row_index'></td><td class='bool' title='bool8'>&#x25AA;</td><td class='bool' title='bool8'>&#x25AA;</td><td class='str' title='str32'>&#x25AA;&#x25AA;&#x25AA;&#x25AA;</td><td class='str' title='str32'>&#x25AA;&#x25AA;&#x25AA;&#x25AA;</td><td class='float' title='float64'>&#x25AA;&#x25AA;&#x25AA;&#x25AA;&#x25AA;&#x25AA;&#x25AA;&#x25AA;</td><td class='float' title='float64'>&#x25AA;&#x25AA;&#x25AA;&#x25AA;&#x25AA;&#x25AA;&#x25AA;&#x25AA;</td><td class='int' title='int32'>&#x25AA;&#x25AA;&#x25AA;&#x25AA;</td><td class='str' title='str32'>&#x25AA;&#x25AA;&#x25AA;&#x25AA;</td><td class='str' title='str32'>&#x25AA;&#x25AA;&#x25AA;&#x25AA;</td><td class='float' title='float64'>&#x25AA;&#x25AA;&#x25AA;&#x25AA;&#x25AA;&#x25AA;&#x25AA;&#x25AA;</td><td class='float' title='float64'>&#x25AA;&#x25AA;&#x25AA;&#x25AA;&#x25AA;&#x25AA;&#x25AA;&#x25AA;</td><td class='float' title='float64'>&#x25AA;&#x25AA;&#x25AA;&#x25AA;&#x25AA;&#x25AA;&#x25AA;&#x25AA;</td><td class='float' title='float64'>&#x25AA;&#x25AA;&#x25AA;&#x25AA;&#x25AA;&#x25AA;&#x25AA;&#x25AA;</td><td class='int' title='int32'>&#x25AA;&#x25AA;&#x25AA;&#x25AA;</td></tr>\n",
       "  </thead>\n",
       "  <tbody>\n",
       "    <tr><td class='row_index'>0</td><td>0</td><td>0</td><td>CO/DF/53001/530010</td><td>CO/DF/53001/530010/0010464</td><td>0</td><td>0</td><td>0</td><td>1_1</td><td>5_5</td><td>&minus;15.7795</td><td>&minus;47.9297</td><td>&minus;15.7795</td><td>&minus;47.9297</td><td>260</td></tr>\n",
       "    <tr><td class='row_index'>1</td><td>0</td><td>0</td><td>CO/DF/53001/530010</td><td>CO/DF/53001/530010/0010472</td><td>0</td><td>0</td><td>0</td><td>1_1</td><td>5_5</td><td>&minus;15.7795</td><td>&minus;47.9297</td><td>&minus;15.7795</td><td>&minus;47.9297</td><td>282</td></tr>\n",
       "    <tr><td class='row_index'>2</td><td>0</td><td>0</td><td>CO/DF/53001/530010</td><td>CO/DF/53001/530010/0010480</td><td>0</td><td>0</td><td>0</td><td>1_1</td><td>5_5</td><td>&minus;15.7795</td><td>&minus;47.9297</td><td>&minus;15.7795</td><td>&minus;47.9297</td><td>3323</td></tr>\n",
       "    <tr><td class='row_index'>3</td><td>0</td><td>0</td><td>CO/DF/53001/530010</td><td>CO/DF/53001/530010/0010499</td><td>0</td><td>0</td><td>0</td><td>1_1</td><td>5_5</td><td>&minus;15.7795</td><td>&minus;47.9297</td><td>&minus;15.7795</td><td>&minus;47.9297</td><td>3368</td></tr>\n",
       "    <tr><td class='row_index'>4</td><td>0</td><td>0</td><td>CO/DF/53001/530010</td><td>CO/DF/53001/530010/0010502</td><td>0</td><td>0</td><td>0</td><td>1_1</td><td>5_5</td><td>&minus;15.7795</td><td>&minus;47.9297</td><td>&minus;15.7795</td><td>&minus;47.9297</td><td>964</td></tr>\n",
       "    <tr><td class='row_index'>5</td><td>0</td><td>0</td><td>CO/DF/53001/530010</td><td>CO/DF/53001/530010/0010510</td><td>0</td><td>0</td><td>0</td><td>1_1</td><td>5_5</td><td>&minus;15.7795</td><td>&minus;47.9297</td><td>&minus;15.7795</td><td>&minus;47.9297</td><td>832</td></tr>\n",
       "    <tr><td class='row_index'>6</td><td>0</td><td>0</td><td>CO/DF/53001/530010</td><td>CO/DF/53001/530010/0010529</td><td>0</td><td>0</td><td>0</td><td>1_1</td><td>5_5</td><td>&minus;15.7795</td><td>&minus;47.9297</td><td>&minus;15.7795</td><td>&minus;47.9297</td><td>1831</td></tr>\n",
       "    <tr><td class='row_index'>7</td><td>0</td><td>0</td><td>CO/DF/53001/530010</td><td>CO/DF/53001/530010/0010537</td><td>0</td><td>0</td><td>0</td><td>1_1</td><td>5_5</td><td>&minus;15.7795</td><td>&minus;47.9297</td><td>&minus;15.7795</td><td>&minus;47.9297</td><td>3707</td></tr>\n",
       "    <tr><td class='row_index'>8</td><td>0</td><td>0</td><td>CO/DF/53001/530010</td><td>CO/DF/53001/530010/0010545</td><td>0</td><td>0</td><td>0</td><td>1_1</td><td>5_5</td><td>&minus;15.7795</td><td>&minus;47.9297</td><td>&minus;15.7795</td><td>&minus;47.9297</td><td>728</td></tr>\n",
       "    <tr><td class='row_index'>9</td><td>0</td><td>0</td><td>CO/DF/53001/530010</td><td>CO/DF/53001/530010/0010561</td><td>0</td><td>0</td><td>0</td><td>1_1</td><td>5_5</td><td>&minus;15.7795</td><td>&minus;47.9297</td><td>&minus;15.7795</td><td>&minus;47.9297</td><td>1</td></tr>\n",
       "    <tr><td class='row_index'>10</td><td>0</td><td>0</td><td>CO/DF/53001/530010</td><td>CO/DF/53001/530010/2645157</td><td>0</td><td>0</td><td>0</td><td>1_1</td><td>5_5</td><td>&minus;15.7795</td><td>&minus;47.9297</td><td>&minus;15.7795</td><td>&minus;47.9297</td><td>2251</td></tr>\n",
       "    <tr><td class='row_index'>11</td><td>0</td><td>0</td><td>CO/DF/53001/530010</td><td>CO/DF/53001/530010/2672197</td><td>0</td><td>0</td><td>0</td><td>1_1</td><td>5_5</td><td>&minus;15.7795</td><td>&minus;47.9297</td><td>&minus;15.7795</td><td>&minus;47.9297</td><td>1561</td></tr>\n",
       "    <tr><td class='row_index'>12</td><td>0</td><td>0</td><td>CO/DF/53001/530010</td><td>CO/DF/53001/530010/5717515</td><td>0</td><td>0</td><td>0</td><td>1_1</td><td>5_5</td><td>&minus;15.7795</td><td>&minus;47.9297</td><td>&minus;15.7795</td><td>&minus;47.9297</td><td>1798</td></tr>\n",
       "    <tr><td class='row_index'>13</td><td>0</td><td>0</td><td>CO/DF/53001/530010</td><td>CO/GO/52011/520110/2361787</td><td>152.625</td><td>132.723</td><td>3</td><td>1_0</td><td>5_3</td><td>&minus;15.7795</td><td>&minus;47.9297</td><td>&minus;16.3281</td><td>&minus;48.953</td><td>4</td></tr>\n",
       "    <tr><td class='row_index'>14</td><td>0</td><td>0</td><td>CO/DF/53001/530010</td><td>ND/BA/29002/290320/3972925</td><td>630.949</td><td>466.705</td><td>4</td><td>1_0</td><td>5_2</td><td>&minus;15.7795</td><td>&minus;47.9297</td><td>&minus;12.1439</td><td>&minus;44.9968</td><td>1</td></tr>\n",
       "    <tr><td class='row_index'>&#x22EE;</td><td class='hellipsis'>&#x22EE;</td><td class='hellipsis'>&#x22EE;</td><td class='hellipsis'>&#x22EE;</td><td class='hellipsis'>&#x22EE;</td><td class='hellipsis'>&#x22EE;</td><td class='hellipsis'>&#x22EE;</td><td class='hellipsis'>&#x22EE;</td><td class='hellipsis'>&#x22EE;</td><td class='hellipsis'>&#x22EE;</td><td class='hellipsis'>&#x22EE;</td><td class='hellipsis'>&#x22EE;</td><td class='hellipsis'>&#x22EE;</td><td class='hellipsis'>&#x22EE;</td><td class='hellipsis'>&#x22EE;</td></tr>\n",
       "    <tr><td class='row_index'>124,980</td><td>1</td><td>1</td><td>SL/SC/42016/421870</td><td>SL/SC/42007/420540/3157245</td><td>138.477</td><td>104.94</td><td>2</td><td>0_1</td><td>3_5</td><td>&minus;28.4713</td><td>&minus;49.0144</td><td>&minus;27.5945</td><td>&minus;48.5477</td><td>1</td></tr>\n",
       "    <tr><td class='row_index'>124,981</td><td>1</td><td>1</td><td>SL/SC/42016/421870</td><td>SL/SC/42015/420460/2594277</td><td>54.621</td><td>49.3167</td><td>2</td><td>0_0</td><td>3_4</td><td>&minus;28.4713</td><td>&minus;49.0144</td><td>&minus;28.6723</td><td>&minus;49.3729</td><td>1</td></tr>\n",
       "    <tr><td class='row_index'>124,982</td><td>1</td><td>1</td><td>SL/SC/42016/421870</td><td>SL/SC/42016/420280/2665883</td><td>35.5439</td><td>37.4933</td><td>1</td><td>0_0</td><td>3_3</td><td>&minus;28.4713</td><td>&minus;49.0144</td><td>&minus;28.2681</td><td>&minus;49.1701</td><td>2</td></tr>\n",
       "    <tr><td class='row_index'>124,983</td><td>1</td><td>1</td><td>SL/SC/42016/421870</td><td>SL/SC/42016/420730/2385880</td><td>53.961</td><td>45.3533</td><td>1</td><td>0_0</td><td>3_3</td><td>&minus;28.4713</td><td>&minus;49.0144</td><td>&minus;28.2284</td><td>&minus;48.6659</td><td>1</td></tr>\n",
       "    <tr><td class='row_index'>124,984</td><td>1</td><td>1</td><td>SL/SC/42016/421870</td><td>SL/SC/42016/421870/2491710</td><td>0</td><td>0</td><td>0</td><td>0_0</td><td>3_3</td><td>&minus;28.4713</td><td>&minus;49.0144</td><td>&minus;28.4713</td><td>&minus;49.0144</td><td>441</td></tr>\n",
       "  </tbody>\n",
       "  </table>\n",
       "  <div class='footer'>\n",
       "    <div class='frame_dimensions'>124,985 rows &times; 14 columns</div>\n",
       "  </div>\n",
       "</div>\n"
      ],
      "text/plain": [
       "<Frame#7f97a9908630 124985x14>"
      ]
     },
     "execution_count": 8,
     "metadata": {},
     "output_type": "execute_result"
    }
   ],
   "source": [
    "dt.fread(output_deslc)"
   ]
  },
  {
   "cell_type": "markdown",
   "metadata": {},
   "source": [
    "# Tabelas Filtradas"
   ]
  },
  {
   "cell_type": "markdown",
   "metadata": {},
   "source": [
    "## Tabela referência"
   ]
  },
  {
   "cell_type": "code",
   "execution_count": 9,
   "metadata": {},
   "outputs": [],
   "source": [
    "# df_deslc = dt.fread(output_deslc)"
   ]
  },
  {
   "cell_type": "markdown",
   "metadata": {},
   "source": [
    "## Brasil (sem CNES)"
   ]
  },
  {
   "cell_type": "code",
   "execution_count": 10,
   "metadata": {},
   "outputs": [],
   "source": [
    "# df_deslc_brasil = df_deslc[:, f[:].remove(f.hosp_cnes)]\n",
    "# df_deslc_brasil = df_deslc_brasil[:, dt.sum(f.count), dt.by(df_deslc_brasil.names[:-1])]\n",
    "# df_deslc_brasil"
   ]
  },
  {
   "cell_type": "code",
   "execution_count": 11,
   "metadata": {},
   "outputs": [],
   "source": [
    "# output_deslc_brasil = get_path('GESTANTES', 'deslocamentos_brasil.csv.gzip') # xlsx\n",
    "# df_deslc_brasil.to_csv(output_deslc_brasil)\n",
    "# pd.read_csv(output_deslc_brasil).to_excel(output_deslc_brasil.replace('csv.gzip', 'xlsx'), index=False)\n",
    "# # df_deslc_brasil.to_pandas().to_excel(output_deslc_brasil, index=False)"
   ]
  },
  {
   "cell_type": "markdown",
   "metadata": {},
   "source": [
    "## RJ"
   ]
  },
  {
   "cell_type": "markdown",
   "metadata": {},
   "source": [
    "### Com CNES"
   ]
  },
  {
   "cell_type": "code",
   "execution_count": 12,
   "metadata": {},
   "outputs": [],
   "source": [
    "# df_deslc_rj_cnes = df_deslc[(f.uf == 'RJ'), :]\n",
    "# df_deslc_rj_cnes"
   ]
  },
  {
   "cell_type": "code",
   "execution_count": 13,
   "metadata": {},
   "outputs": [],
   "source": [
    "# output_rj_cnes = get_path('GESTANTES', 'deslocamentos_rj_cnes.csv.gzip') # xlsx\n",
    "# df_deslc_rj_cnes.to_csv(output_rj_cnes)\n",
    "# pd.read_csv(output_rj_cnes).to_excel(output_rj_cnes.replace('csv.gzip', 'xlsx'), index=False)\n",
    "# # df_deslc_rj_cnes.to_pandas().to_excel(output_rj_cnes, index=False)"
   ]
  },
  {
   "cell_type": "markdown",
   "metadata": {},
   "source": [
    "### Sem CNES"
   ]
  },
  {
   "cell_type": "code",
   "execution_count": 14,
   "metadata": {},
   "outputs": [],
   "source": [
    "# df_deslc_rj = df_deslc_rj_cnes[:, f[:].remove(f.hosp_cnes)]\n",
    "# df_deslc_rj = df_deslc_rj[:, dt.sum(f.count), dt.by(df_deslc_rj.names[:-1])]\n",
    "# df_deslc_rj"
   ]
  },
  {
   "cell_type": "code",
   "execution_count": 15,
   "metadata": {},
   "outputs": [],
   "source": [
    "# output_rj = get_path('GESTANTES', 'deslocamentos_rj.csv.gzip') # xlsx\n",
    "# df_deslc_rj.to_csv(output_rj)\n",
    "# pd.read_csv(output_rj).to_excel(output_rj.replace('csv.gzip', 'xlsx'), index=False)\n",
    "# # df_deslc_rj.to_pandas().to_excel(output_rj, index=False)"
   ]
  }
 ],
 "metadata": {
  "kernelspec": {
   "display_name": "Python 3.9.13 ('ds')",
   "language": "python",
   "name": "python3"
  },
  "language_info": {
   "codemirror_mode": {
    "name": "ipython",
    "version": 3
   },
   "file_extension": ".py",
   "mimetype": "text/x-python",
   "name": "python",
   "nbconvert_exporter": "python",
   "pygments_lexer": "ipython3",
   "version": "3.9.13"
  },
  "orig_nbformat": 4,
  "vscode": {
   "interpreter": {
    "hash": "7b36953cec1b75a8b331280ff7f7e2e00c70540f1d612023ca05354bbeabec70"
   }
  }
 },
 "nbformat": 4,
 "nbformat_minor": 2
}
