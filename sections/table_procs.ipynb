{
 "cells": [
  {
   "cell_type": "raw",
   "metadata": {},
   "source": [
    "---\n",
    "title: \"Procedimentos\"\n",
    "---"
   ]
  },
  {
   "cell_type": "code",
   "execution_count": 1,
   "metadata": {},
   "outputs": [
    {
     "data": {
      "text/html": [
       "<style type='text/css'>\n",
       ".datatable table.frame { margin-bottom: 0; }\n",
       ".datatable table.frame thead { border-bottom: none; }\n",
       ".datatable table.frame tr.coltypes td {  color: #FFFFFF;  line-height: 6px;  padding: 0 0.5em;}\n",
       ".datatable .bool    { background: #DDDD99; }\n",
       ".datatable .object  { background: #565656; }\n",
       ".datatable .int     { background: #5D9E5D; }\n",
       ".datatable .float   { background: #4040CC; }\n",
       ".datatable .str     { background: #CC4040; }\n",
       ".datatable .row_index {  background: var(--jp-border-color3);  border-right: 1px solid var(--jp-border-color0);  color: var(--jp-ui-font-color3);  font-size: 9px;}\n",
       ".datatable .frame tr.coltypes .row_index {  background: var(--jp-border-color0);}\n",
       ".datatable th:nth-child(2) { padding-left: 12px; }\n",
       ".datatable .hellipsis {  color: var(--jp-cell-editor-border-color);}\n",
       ".datatable .vellipsis {  background: var(--jp-layout-color0);  color: var(--jp-cell-editor-border-color);}\n",
       ".datatable .na {  color: var(--jp-cell-editor-border-color);  font-size: 80%;}\n",
       ".datatable .footer { font-size: 9px; }\n",
       ".datatable .frame_dimensions {  background: var(--jp-border-color3);  border-top: 1px solid var(--jp-border-color0);  color: var(--jp-ui-font-color3);  display: inline-block;  opacity: 0.6;  padding: 1px 10px 1px 5px;}\n",
       "</style>\n"
      ],
      "text/plain": [
       "<IPython.core.display.HTML object>"
      ]
     },
     "metadata": {},
     "output_type": "display_data"
    }
   ],
   "source": [
    "from utils import get_path, group_cols\n",
    "from datatable import dt, f"
   ]
  },
  {
   "cell_type": "markdown",
   "metadata": {},
   "source": [
    "# Descrição"
   ]
  },
  {
   "cell_type": "markdown",
   "metadata": {},
   "source": [
    "Neste notebook iremos formar a tabela procedimentos."
   ]
  },
  {
   "cell_type": "markdown",
   "metadata": {},
   "source": [
    "# Tabelas base"
   ]
  },
  {
   "cell_type": "markdown",
   "metadata": {},
   "source": [
    "## SIH"
   ]
  },
  {
   "cell_type": "markdown",
   "metadata": {},
   "source": [
    "### Colunas da tabela"
   ]
  },
  {
   "cell_type": "code",
   "execution_count": 2,
   "metadata": {},
   "outputs": [],
   "source": [
    "cols_proc = [\n",
    "  'ano',\n",
    "  'parto_normal',\n",
    "  'cnes',\n",
    "  'hosp_cod_municipio',\n",
    "  'cod_municipio',\n",
    "]"
   ]
  },
  {
   "cell_type": "code",
   "execution_count": 3,
   "metadata": {},
   "outputs": [
    {
     "data": {
      "text/html": [
       "<div class='datatable'>\n",
       "  <table class='frame'>\n",
       "  <thead>\n",
       "    <tr class='colnames'><td class='row_index'></td><th>ano</th><th>parto_normal</th><th>cnes</th><th>hosp_cod_municipio</th><th>cod_municipio</th></tr>\n",
       "    <tr class='coltypes'><td class='row_index'></td><td class='int' title='int32'>&#x25AA;&#x25AA;&#x25AA;&#x25AA;</td><td class='int' title='int32'>&#x25AA;&#x25AA;&#x25AA;&#x25AA;</td><td class='int' title='int32'>&#x25AA;&#x25AA;&#x25AA;&#x25AA;</td><td class='int' title='int32'>&#x25AA;&#x25AA;&#x25AA;&#x25AA;</td><td class='int' title='int32'>&#x25AA;&#x25AA;&#x25AA;&#x25AA;</td></tr>\n",
       "  </thead>\n",
       "  <tbody>\n",
       "    <tr><td class='row_index'>0</td><td>2010</td><td>310010039</td><td>2001020</td><td>120005</td><td>120005</td></tr>\n",
       "    <tr><td class='row_index'>1</td><td>2010</td><td>310010039</td><td>2000733</td><td>120040</td><td>120040</td></tr>\n",
       "    <tr><td class='row_index'>2</td><td>2010</td><td>310010039</td><td>2000733</td><td>120040</td><td>120040</td></tr>\n",
       "    <tr><td class='row_index'>3</td><td>2010</td><td>310010039</td><td>2000733</td><td>120040</td><td>120040</td></tr>\n",
       "    <tr><td class='row_index'>4</td><td>2010</td><td>310010039</td><td>2000733</td><td>120040</td><td>120040</td></tr>\n",
       "    <tr><td class='row_index'>5</td><td>2010</td><td>310010039</td><td>2000733</td><td>120040</td><td>120040</td></tr>\n",
       "    <tr><td class='row_index'>6</td><td>2010</td><td>310010039</td><td>2000733</td><td>120040</td><td>120040</td></tr>\n",
       "    <tr><td class='row_index'>7</td><td>2010</td><td>310010039</td><td>2001020</td><td>120005</td><td>120005</td></tr>\n",
       "    <tr><td class='row_index'>8</td><td>2010</td><td>310010039</td><td>2000733</td><td>120040</td><td>120040</td></tr>\n",
       "    <tr><td class='row_index'>9</td><td>2010</td><td>310010039</td><td>2000733</td><td>120040</td><td>120040</td></tr>\n",
       "    <tr><td class='row_index'>10</td><td>2010</td><td>310010039</td><td>2001020</td><td>120005</td><td>120005</td></tr>\n",
       "    <tr><td class='row_index'>11</td><td>2010</td><td>310010039</td><td>2000733</td><td>120040</td><td>120038</td></tr>\n",
       "    <tr><td class='row_index'>12</td><td>2010</td><td>310010039</td><td>2000733</td><td>120040</td><td>120040</td></tr>\n",
       "    <tr><td class='row_index'>13</td><td>2010</td><td>310010039</td><td>2000733</td><td>120040</td><td>120001</td></tr>\n",
       "    <tr><td class='row_index'>14</td><td>2010</td><td>310010039</td><td>2000733</td><td>120040</td><td>120040</td></tr>\n",
       "    <tr><td class='row_index'>&#x22EE;</td><td class='hellipsis'>&#x22EE;</td><td class='hellipsis'>&#x22EE;</td><td class='hellipsis'>&#x22EE;</td><td class='hellipsis'>&#x22EE;</td><td class='hellipsis'>&#x22EE;</td></tr>\n",
       "    <tr><td class='row_index'>17,106,396</td><td>2019</td><td>411010034</td><td>2765640</td><td>170930</td><td>171840</td></tr>\n",
       "    <tr><td class='row_index'>17,106,397</td><td>2019</td><td>411010034</td><td>2765640</td><td>170930</td><td>171670</td></tr>\n",
       "    <tr><td class='row_index'>17,106,398</td><td>2019</td><td>411010034</td><td>2765640</td><td>170930</td><td>171670</td></tr>\n",
       "    <tr><td class='row_index'>17,106,399</td><td>2019</td><td>411010034</td><td>2765640</td><td>170930</td><td>170930</td></tr>\n",
       "    <tr><td class='row_index'>17,106,400</td><td>2019</td><td>411010034</td><td>2755149</td><td>171610</td><td>171250</td></tr>\n",
       "  </tbody>\n",
       "  </table>\n",
       "  <div class='footer'>\n",
       "    <div class='frame_dimensions'>17,106,401 rows &times; 5 columns</div>\n",
       "  </div>\n",
       "</div>\n"
      ],
      "text/plain": [
       "<Frame#7fe2503f7090 17106401x5>"
      ]
     },
     "execution_count": 3,
     "metadata": {},
     "output_type": "execute_result"
    }
   ],
   "source": [
    "path_sih = get_path('SIH', 'SIH.jay')\n",
    "df_proc = dt.fread(path_sih)\n",
    "df_proc = df_proc[:, cols_proc]\n",
    "df_proc"
   ]
  },
  {
   "cell_type": "markdown",
   "metadata": {},
   "source": [
    "### Tabela agrupada"
   ]
  },
  {
   "cell_type": "code",
   "execution_count": 4,
   "metadata": {},
   "outputs": [
    {
     "data": {
      "text/html": [
       "<div class='datatable'>\n",
       "  <table class='frame'>\n",
       "  <thead>\n",
       "    <tr class='colnames'><td class='row_index'></td><th>ano</th><th>parto_normal</th><th>cnes</th><th>hosp_cod_municipio</th><th>cod_municipio</th><th>count</th></tr>\n",
       "    <tr class='coltypes'><td class='row_index'></td><td class='int' title='int32'>&#x25AA;&#x25AA;&#x25AA;&#x25AA;</td><td class='int' title='int32'>&#x25AA;&#x25AA;&#x25AA;&#x25AA;</td><td class='int' title='int32'>&#x25AA;&#x25AA;&#x25AA;&#x25AA;</td><td class='int' title='int32'>&#x25AA;&#x25AA;&#x25AA;&#x25AA;</td><td class='int' title='int32'>&#x25AA;&#x25AA;&#x25AA;&#x25AA;</td><td class='int' title='int64'>&#x25AA;&#x25AA;&#x25AA;&#x25AA;&#x25AA;&#x25AA;&#x25AA;&#x25AA;</td></tr>\n",
       "  </thead>\n",
       "  <tbody>\n",
       "    <tr><td class='row_index'>0</td><td>2010</td><td>310010039</td><td>2077701</td><td>355030</td><td>355030</td><td>4358</td></tr>\n",
       "    <tr><td class='row_index'>1</td><td>2010</td><td>310010039</td><td>2077388</td><td>355030</td><td>355030</td><td>4207</td></tr>\n",
       "    <tr><td class='row_index'>2</td><td>2010</td><td>310010039</td><td>3151794</td><td>130260</td><td>130260</td><td>4145</td></tr>\n",
       "    <tr><td class='row_index'>3</td><td>2010</td><td>310010039</td><td>10480</td><td>530010</td><td>530010</td><td>4099</td></tr>\n",
       "    <tr><td class='row_index'>4</td><td>2010</td><td>310010039</td><td>2079186</td><td>355030</td><td>355030</td><td>4059</td></tr>\n",
       "    <tr><td class='row_index'>5</td><td>2010</td><td>310010039</td><td>3956369</td><td>292740</td><td>292740</td><td>3935</td></tr>\n",
       "    <tr><td class='row_index'>6</td><td>2010</td><td>310010039</td><td>26794</td><td>310620</td><td>310620</td><td>3797</td></tr>\n",
       "    <tr><td class='row_index'>7</td><td>2010</td><td>310010039</td><td>2232</td><td>280030</td><td>280030</td><td>3533</td></tr>\n",
       "    <tr><td class='row_index'>8</td><td>2010</td><td>310010039</td><td>2270609</td><td>330455</td><td>330455</td><td>3386</td></tr>\n",
       "    <tr><td class='row_index'>9</td><td>2010</td><td>310010039</td><td>2040069</td><td>351880</td><td>351880</td><td>3213</td></tr>\n",
       "    <tr><td class='row_index'>10</td><td>2010</td><td>310010039</td><td>5703425</td><td>150420</td><td>150420</td><td>3203</td></tr>\n",
       "    <tr><td class='row_index'>11</td><td>2010</td><td>310010039</td><td>2020068</td><td>160030</td><td>160030</td><td>3194</td></tr>\n",
       "    <tr><td class='row_index'>12</td><td>2010</td><td>310010039</td><td>2280248</td><td>330455</td><td>330455</td><td>3095</td></tr>\n",
       "    <tr><td class='row_index'>13</td><td>2010</td><td>310010039</td><td>2566168</td><td>140010</td><td>140010</td><td>3063</td></tr>\n",
       "    <tr><td class='row_index'>14</td><td>2010</td><td>310010039</td><td>3004104</td><td>130260</td><td>130260</td><td>2952</td></tr>\n",
       "    <tr><td class='row_index'>&#x22EE;</td><td class='hellipsis'>&#x22EE;</td><td class='hellipsis'>&#x22EE;</td><td class='hellipsis'>&#x22EE;</td><td class='hellipsis'>&#x22EE;</td><td class='hellipsis'>&#x22EE;</td><td class='hellipsis'>&#x22EE;</td></tr>\n",
       "    <tr><td class='row_index'>461,847</td><td>2019</td><td>411010034</td><td>9923837</td><td>270430</td><td>355640</td><td>1</td></tr>\n",
       "    <tr><td class='row_index'>461,848</td><td>2019</td><td>411010034</td><td>9923837</td><td>270430</td><td>420910</td><td>1</td></tr>\n",
       "    <tr><td class='row_index'>461,849</td><td>2019</td><td>411010034</td><td>9923837</td><td>270430</td><td>510285</td><td>1</td></tr>\n",
       "    <tr><td class='row_index'>461,850</td><td>2019</td><td>411010034</td><td>9923837</td><td>270430</td><td>510622</td><td>1</td></tr>\n",
       "    <tr><td class='row_index'>461,851</td><td>2019</td><td>411010034</td><td>9923837</td><td>270430</td><td>510792</td><td>1</td></tr>\n",
       "  </tbody>\n",
       "  </table>\n",
       "  <div class='footer'>\n",
       "    <div class='frame_dimensions'>461,852 rows &times; 6 columns</div>\n",
       "  </div>\n",
       "</div>\n"
      ],
      "text/plain": [
       "<Frame#7fe243795b40 461852x6>"
      ]
     },
     "execution_count": 4,
     "metadata": {},
     "output_type": "execute_result"
    }
   ],
   "source": [
    "df_proc = group_cols(df_proc, cols_proc)\n",
    "df_proc = df_proc.sort(f.ano, -f.count)\n",
    "df_proc"
   ]
  },
  {
   "cell_type": "markdown",
   "metadata": {},
   "source": [
    "### Atualizando variável parto normal"
   ]
  },
  {
   "cell_type": "code",
   "execution_count": 5,
   "metadata": {},
   "outputs": [
    {
     "data": {
      "text/html": [
       "<div class='datatable'>\n",
       "  <table class='frame'>\n",
       "  <thead>\n",
       "    <tr class='colnames'><td class='row_index'></td><th>ano</th><th>parto_normal</th><th>cnes</th><th>hosp_cod_municipio</th><th>cod_municipio</th><th>count</th></tr>\n",
       "    <tr class='coltypes'><td class='row_index'></td><td class='int' title='int32'>&#x25AA;&#x25AA;&#x25AA;&#x25AA;</td><td class='bool' title='bool8'>&#x25AA;</td><td class='int' title='int32'>&#x25AA;&#x25AA;&#x25AA;&#x25AA;</td><td class='int' title='int32'>&#x25AA;&#x25AA;&#x25AA;&#x25AA;</td><td class='int' title='int32'>&#x25AA;&#x25AA;&#x25AA;&#x25AA;</td><td class='int' title='int64'>&#x25AA;&#x25AA;&#x25AA;&#x25AA;&#x25AA;&#x25AA;&#x25AA;&#x25AA;</td></tr>\n",
       "  </thead>\n",
       "  <tbody>\n",
       "    <tr><td class='row_index'>0</td><td>2010</td><td>1</td><td>2077701</td><td>355030</td><td>355030</td><td>4358</td></tr>\n",
       "    <tr><td class='row_index'>1</td><td>2010</td><td>1</td><td>2077388</td><td>355030</td><td>355030</td><td>4207</td></tr>\n",
       "    <tr><td class='row_index'>2</td><td>2010</td><td>1</td><td>3151794</td><td>130260</td><td>130260</td><td>4145</td></tr>\n",
       "    <tr><td class='row_index'>3</td><td>2010</td><td>1</td><td>10480</td><td>530010</td><td>530010</td><td>4099</td></tr>\n",
       "    <tr><td class='row_index'>4</td><td>2010</td><td>1</td><td>2079186</td><td>355030</td><td>355030</td><td>4059</td></tr>\n",
       "    <tr><td class='row_index'>5</td><td>2010</td><td>1</td><td>3956369</td><td>292740</td><td>292740</td><td>3935</td></tr>\n",
       "    <tr><td class='row_index'>6</td><td>2010</td><td>1</td><td>26794</td><td>310620</td><td>310620</td><td>3797</td></tr>\n",
       "    <tr><td class='row_index'>7</td><td>2010</td><td>1</td><td>2232</td><td>280030</td><td>280030</td><td>3533</td></tr>\n",
       "    <tr><td class='row_index'>8</td><td>2010</td><td>1</td><td>2270609</td><td>330455</td><td>330455</td><td>3386</td></tr>\n",
       "    <tr><td class='row_index'>9</td><td>2010</td><td>1</td><td>2040069</td><td>351880</td><td>351880</td><td>3213</td></tr>\n",
       "    <tr><td class='row_index'>10</td><td>2010</td><td>1</td><td>5703425</td><td>150420</td><td>150420</td><td>3203</td></tr>\n",
       "    <tr><td class='row_index'>11</td><td>2010</td><td>1</td><td>2020068</td><td>160030</td><td>160030</td><td>3194</td></tr>\n",
       "    <tr><td class='row_index'>12</td><td>2010</td><td>1</td><td>2280248</td><td>330455</td><td>330455</td><td>3095</td></tr>\n",
       "    <tr><td class='row_index'>13</td><td>2010</td><td>1</td><td>2566168</td><td>140010</td><td>140010</td><td>3063</td></tr>\n",
       "    <tr><td class='row_index'>14</td><td>2010</td><td>1</td><td>3004104</td><td>130260</td><td>130260</td><td>2952</td></tr>\n",
       "    <tr><td class='row_index'>&#x22EE;</td><td class='hellipsis'>&#x22EE;</td><td class='hellipsis'>&#x22EE;</td><td class='hellipsis'>&#x22EE;</td><td class='hellipsis'>&#x22EE;</td><td class='hellipsis'>&#x22EE;</td><td class='hellipsis'>&#x22EE;</td></tr>\n",
       "    <tr><td class='row_index'>461,847</td><td>2019</td><td>0</td><td>9923837</td><td>270430</td><td>355640</td><td>1</td></tr>\n",
       "    <tr><td class='row_index'>461,848</td><td>2019</td><td>0</td><td>9923837</td><td>270430</td><td>420910</td><td>1</td></tr>\n",
       "    <tr><td class='row_index'>461,849</td><td>2019</td><td>0</td><td>9923837</td><td>270430</td><td>510285</td><td>1</td></tr>\n",
       "    <tr><td class='row_index'>461,850</td><td>2019</td><td>0</td><td>9923837</td><td>270430</td><td>510622</td><td>1</td></tr>\n",
       "    <tr><td class='row_index'>461,851</td><td>2019</td><td>0</td><td>9923837</td><td>270430</td><td>510792</td><td>1</td></tr>\n",
       "  </tbody>\n",
       "  </table>\n",
       "  <div class='footer'>\n",
       "    <div class='frame_dimensions'>461,852 rows &times; 6 columns</div>\n",
       "  </div>\n",
       "</div>\n"
      ],
      "text/plain": [
       "<Frame#7fe243795b40 461852x6>"
      ]
     },
     "execution_count": 5,
     "metadata": {},
     "output_type": "execute_result"
    }
   ],
   "source": [
    "df_proc[:, dt.update(parto_normal = f.parto_normal == 310010039)] # {310010039: 'normal', 411010034: 'cesariano'}\n",
    "df_proc"
   ]
  },
  {
   "cell_type": "markdown",
   "metadata": {},
   "source": [
    "# Exportando tabela"
   ]
  },
  {
   "cell_type": "code",
   "execution_count": 6,
   "metadata": {},
   "outputs": [],
   "source": [
    "output_proc = get_path('GESTANTES', 'procedimentos.csv.gzip')\n",
    "df_proc.to_csv(output_proc)"
   ]
  },
  {
   "cell_type": "code",
   "execution_count": 7,
   "metadata": {},
   "outputs": [
    {
     "data": {
      "text/html": [
       "<div class='datatable'>\n",
       "  <table class='frame'>\n",
       "  <thead>\n",
       "    <tr class='colnames'><td class='row_index'></td><th>ano</th><th>parto_normal</th><th>cnes</th><th>hosp_cod_municipio</th><th>cod_municipio</th><th>count</th></tr>\n",
       "    <tr class='coltypes'><td class='row_index'></td><td class='int' title='int32'>&#x25AA;&#x25AA;&#x25AA;&#x25AA;</td><td class='bool' title='bool8'>&#x25AA;</td><td class='int' title='int32'>&#x25AA;&#x25AA;&#x25AA;&#x25AA;</td><td class='int' title='int32'>&#x25AA;&#x25AA;&#x25AA;&#x25AA;</td><td class='int' title='int32'>&#x25AA;&#x25AA;&#x25AA;&#x25AA;</td><td class='int' title='int32'>&#x25AA;&#x25AA;&#x25AA;&#x25AA;</td></tr>\n",
       "  </thead>\n",
       "  <tbody>\n",
       "    <tr><td class='row_index'>0</td><td>2010</td><td>1</td><td>2077701</td><td>355030</td><td>355030</td><td>4358</td></tr>\n",
       "    <tr><td class='row_index'>1</td><td>2010</td><td>1</td><td>2077388</td><td>355030</td><td>355030</td><td>4207</td></tr>\n",
       "    <tr><td class='row_index'>2</td><td>2010</td><td>1</td><td>3151794</td><td>130260</td><td>130260</td><td>4145</td></tr>\n",
       "    <tr><td class='row_index'>3</td><td>2010</td><td>1</td><td>10480</td><td>530010</td><td>530010</td><td>4099</td></tr>\n",
       "    <tr><td class='row_index'>4</td><td>2010</td><td>1</td><td>2079186</td><td>355030</td><td>355030</td><td>4059</td></tr>\n",
       "    <tr><td class='row_index'>5</td><td>2010</td><td>1</td><td>3956369</td><td>292740</td><td>292740</td><td>3935</td></tr>\n",
       "    <tr><td class='row_index'>6</td><td>2010</td><td>1</td><td>26794</td><td>310620</td><td>310620</td><td>3797</td></tr>\n",
       "    <tr><td class='row_index'>7</td><td>2010</td><td>1</td><td>2232</td><td>280030</td><td>280030</td><td>3533</td></tr>\n",
       "    <tr><td class='row_index'>8</td><td>2010</td><td>1</td><td>2270609</td><td>330455</td><td>330455</td><td>3386</td></tr>\n",
       "    <tr><td class='row_index'>9</td><td>2010</td><td>1</td><td>2040069</td><td>351880</td><td>351880</td><td>3213</td></tr>\n",
       "    <tr><td class='row_index'>10</td><td>2010</td><td>1</td><td>5703425</td><td>150420</td><td>150420</td><td>3203</td></tr>\n",
       "    <tr><td class='row_index'>11</td><td>2010</td><td>1</td><td>2020068</td><td>160030</td><td>160030</td><td>3194</td></tr>\n",
       "    <tr><td class='row_index'>12</td><td>2010</td><td>1</td><td>2280248</td><td>330455</td><td>330455</td><td>3095</td></tr>\n",
       "    <tr><td class='row_index'>13</td><td>2010</td><td>1</td><td>2566168</td><td>140010</td><td>140010</td><td>3063</td></tr>\n",
       "    <tr><td class='row_index'>14</td><td>2010</td><td>1</td><td>3004104</td><td>130260</td><td>130260</td><td>2952</td></tr>\n",
       "    <tr><td class='row_index'>&#x22EE;</td><td class='hellipsis'>&#x22EE;</td><td class='hellipsis'>&#x22EE;</td><td class='hellipsis'>&#x22EE;</td><td class='hellipsis'>&#x22EE;</td><td class='hellipsis'>&#x22EE;</td><td class='hellipsis'>&#x22EE;</td></tr>\n",
       "    <tr><td class='row_index'>461,847</td><td>2019</td><td>0</td><td>9923837</td><td>270430</td><td>355640</td><td>1</td></tr>\n",
       "    <tr><td class='row_index'>461,848</td><td>2019</td><td>0</td><td>9923837</td><td>270430</td><td>420910</td><td>1</td></tr>\n",
       "    <tr><td class='row_index'>461,849</td><td>2019</td><td>0</td><td>9923837</td><td>270430</td><td>510285</td><td>1</td></tr>\n",
       "    <tr><td class='row_index'>461,850</td><td>2019</td><td>0</td><td>9923837</td><td>270430</td><td>510622</td><td>1</td></tr>\n",
       "    <tr><td class='row_index'>461,851</td><td>2019</td><td>0</td><td>9923837</td><td>270430</td><td>510792</td><td>1</td></tr>\n",
       "  </tbody>\n",
       "  </table>\n",
       "  <div class='footer'>\n",
       "    <div class='frame_dimensions'>461,852 rows &times; 6 columns</div>\n",
       "  </div>\n",
       "</div>\n"
      ],
      "text/plain": [
       "<Frame#7fe24377c930 461852x6>"
      ]
     },
     "execution_count": 7,
     "metadata": {},
     "output_type": "execute_result"
    }
   ],
   "source": [
    "dt.fread(output_proc)"
   ]
  }
 ],
 "metadata": {
  "kernelspec": {
   "display_name": "Python 3.9.13 ('base')",
   "language": "python",
   "name": "python3"
  },
  "language_info": {
   "codemirror_mode": {
    "name": "ipython",
    "version": 3
   },
   "file_extension": ".py",
   "mimetype": "text/x-python",
   "name": "python",
   "nbconvert_exporter": "python",
   "pygments_lexer": "ipython3",
   "version": "3.9.13"
  },
  "orig_nbformat": 4,
  "vscode": {
   "interpreter": {
    "hash": "6c01efea219ea0303b6e6cd1897665114cc62146ed112ea21ec489238fdae255"
   }
  }
 },
 "nbformat": 4,
 "nbformat_minor": 2
}
