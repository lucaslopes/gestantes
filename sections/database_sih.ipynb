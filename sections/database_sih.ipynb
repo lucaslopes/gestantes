{
 "cells": [
  {
   "cell_type": "raw",
   "metadata": {},
   "source": [
    "---\n",
    "title: \"SIH\"\n",
    "---"
   ]
  },
  {
   "cell_type": "code",
   "execution_count": 1,
   "metadata": {},
   "outputs": [],
   "source": [
    "from utils import data_load\n",
    "from datatable import dt, f, by"
   ]
  },
  {
   "cell_type": "markdown",
   "metadata": {},
   "source": [
    "# Descrição"
   ]
  },
  {
   "cell_type": "markdown",
   "metadata": {},
   "source": [
    "Dados do Sistema de Informações Hospitalares do SUS (SIHSUS) reunidos pela Plataforma de Ciência de Dados aplicada à Saúde (PCDaS). Os dados foram obtidos junto ao DATASUS (Ministério da Saúde), tratados e enriquecidos seguindo uma metodologia própria de ETL (processo de extração, transformação e carga dos dados) da PCDaS, resultando em um dataset mensal com todos os registros de internações hospitalares contidos no SIHSUS à partir de janeiro de 2008.\n",
    "\n",
    "A atualização dos dados é realizada pelo DATASUS e a PCDaS extrai os registros mensais referentes aos arquivos `RD_UF_ANO_MÊS.dbc` (Reduzidos de AIH) assim que disponibilizados. As colunas com nomes em MAIÚSCULO representam dados originais advindos do DATASUS e colunas com nomes iniciando em minúsculo representam dados resultantes de transformação ou enriquecimento."
   ]
  },
  {
   "cell_type": "markdown",
   "metadata": {},
   "source": [
    "# Filtragens básicas"
   ]
  },
  {
   "cell_type": "markdown",
   "metadata": {},
   "source": [
    "## Filtro de Colunas"
   ]
  },
  {
   "cell_type": "code",
   "execution_count": 6,
   "metadata": {},
   "outputs": [],
   "source": [
    "cols_sih = {\n",
    "  # Infomações do procedimento:\n",
    "  'ano_internacao': 'ano',\n",
    "  'PROC_REA': 'parto_normal',\n",
    "  'CNES': 'cnes',\n",
    "  # Infomações da gestante:\n",
    "  'def_idade_anos': 'idade',\n",
    "  # Infomações de localidade do hospital de interção:\n",
    "  'int_codigo_adotado': 'hosp_cod_municipio',\n",
    "  'int_RSAUDCOD': 'hosp_regiao_saude',\n",
    "  # Infomações de localidade da residência:\n",
    "  'res_codigo_adotado': 'cod_municipio', # Armazena o código atribuído ao município de residência atualmente, tratando os casos em que múltiplos códigos tenham sido utilizados para um mesmo município ao longo do tempo\n",
    "  'res_REGIAO': 'regiao', # Nome da região da unidade da federação de residência\n",
    "  'res_SIGLA_UF': 'uf', # Sigla da unidade da federação de residência\n",
    "  'res_CODIGO_UF': 'cod_uf', # Código da UF de residência\n",
    "  'res_NOME_UF': 'nome_uf', # Nome da unidade da federação de residência\n",
    "  'res_MUNNOME': 'municipio', # Nome do município de residência\n",
    "  'res_MUNNOMEX': 'nome_municipio', # Nome do município de residência em maiúsculas e sem acentos\n",
    "  'res_CAPITAL': 'capital', # Indica (S/N) se o município de residência é capital de UF\n",
    "  'res_FRONTEIRA': 'fronteira', # Indica (S/N) se o município de residência faz parte da faixa de fronteira (conforme IBGE)\n",
    "  'res_AMAZONIA': 'amazonia', # Indica (S/N) se o município de residência faz parte da Amazônia Legal (conforme IBGE)\n",
    "  'res_MSAUDCOD': 'macroregiao_saude', # Código da Macrorregional de Saúde a que o Município de residência pertence\n",
    "  'res_RSAUDCOD': 'regiao_saude', # Código da Regional de Saúde a que o Município de residência pertence\n",
    "  'def_regiao_res': 'nome_regiao_saude', # Nome da Regional de Saúde a que o Município de residência pertence\n",
    "  'res_CSAUDCOD': 'microregiao_saude', # Código da Microrregional de Saúde a que o Município de residência pertence\n",
    "  'res_LATITUDE': 'latitude', # Latitude do município de residência\n",
    "  'res_LONGITUDE': 'longitude', # Longitude do município de residência\n",
    "  'res_ALTITUDE': 'altitude', # Altitude do município de residência\n",
    "  'res_AREA': 'area', # Área do município de residência\n",
    "}"
   ]
  },
  {
   "cell_type": "markdown",
   "metadata": {},
   "source": [
    "## Filtro de Linhas"
   ]
  },
  {
   "cell_type": "code",
   "execution_count": 7,
   "metadata": {},
   "outputs": [],
   "source": [
    "def filter_sih(df, cols):\n",
    "  cols = list(cols.values())[:-1]\n",
    "  cols = [c for c in cols if c in df.names]\n",
    "  df_filtered = df[\n",
    "    (\n",
    "      (f['ano'] > 2009) & (f['ano'] < 2020)\n",
    "    ) & (\n",
    "      (f['idade'] > 9) & (f['idade'] < 50)\n",
    "    ) & (\n",
    "      (f['parto_normal'] == 310010039) | (f['parto_normal'] == 411010034)\n",
    "    ) & (\n",
    "      (f['cnes'] != None)\n",
    "    ) & (\n",
    "      (f['uf'] != 'DF')\n",
    "    ) & (\n",
    "      (f['regiao_saude'] != None)\n",
    "    ) & (\n",
    "      (f['hosp_regiao_saude'] != None)\n",
    "    ) & (\n",
    "      (f['cod_municipio'] != None)\n",
    "    ), cols]\n",
    "  return df_filtered"
   ]
  },
  {
   "cell_type": "markdown",
   "metadata": {},
   "source": [
    "# Caminho dos arquivos"
   ]
  },
  {
   "cell_type": "code",
   "execution_count": 4,
   "metadata": {},
   "outputs": [],
   "source": [
    "path_zip_sih = input('Qual o caminho para o arquivo zip da base de dados SIHSUS?')\n",
    "# path_zip_sih = '/Volumes/SanDisk/Databases/SIH/SIHSUS.zip'"
   ]
  },
  {
   "cell_type": "code",
   "execution_count": null,
   "metadata": {},
   "outputs": [],
   "source": [
    "output_sih = path_zip_sih.replace('zip', 'jay')"
   ]
  },
  {
   "cell_type": "markdown",
   "metadata": {},
   "source": [
    "# Carregar tabela"
   ]
  },
  {
   "cell_type": "code",
   "execution_count": 8,
   "metadata": {},
   "outputs": [
    {
     "data": {
      "text/html": [
       "<div class='datatable'>\n",
       "  <table class='frame'>\n",
       "  <thead>\n",
       "    <tr class='colnames'><td class='row_index'></td><th>ano</th><th>parto_normal</th><th>cnes</th><th>idade</th><th>hosp_cod_municipio</th><th>hosp_regiao_saude</th><th>cod_municipio</th><th>regiao</th><th>uf</th><th>cod_uf</th><th class='vellipsis'>&hellip;</th><th>microregiao_saude</th><th>latitude</th><th>longitude</th><th>altitude</th><th>area</th></tr>\n",
       "    <tr class='coltypes'><td class='row_index'></td><td class='int' title='int32'>&#x25AA;&#x25AA;&#x25AA;&#x25AA;</td><td class='int' title='int32'>&#x25AA;&#x25AA;&#x25AA;&#x25AA;</td><td class='int' title='int32'>&#x25AA;&#x25AA;&#x25AA;&#x25AA;</td><td class='int' title='int32'>&#x25AA;&#x25AA;&#x25AA;&#x25AA;</td><td class='int' title='int32'>&#x25AA;&#x25AA;&#x25AA;&#x25AA;</td><td class='int' title='int32'>&#x25AA;&#x25AA;&#x25AA;&#x25AA;</td><td class='int' title='int32'>&#x25AA;&#x25AA;&#x25AA;&#x25AA;</td><td class='str' title='str32'>&#x25AA;&#x25AA;&#x25AA;&#x25AA;</td><td class='str' title='str32'>&#x25AA;&#x25AA;&#x25AA;&#x25AA;</td><td class='int' title='int32'>&#x25AA;&#x25AA;&#x25AA;&#x25AA;</td><td></td><td class='int' title='int32'>&#x25AA;&#x25AA;&#x25AA;&#x25AA;</td><td class='float' title='float64'>&#x25AA;&#x25AA;&#x25AA;&#x25AA;&#x25AA;&#x25AA;&#x25AA;&#x25AA;</td><td class='float' title='float64'>&#x25AA;&#x25AA;&#x25AA;&#x25AA;&#x25AA;&#x25AA;&#x25AA;&#x25AA;</td><td class='float' title='float64'>&#x25AA;&#x25AA;&#x25AA;&#x25AA;&#x25AA;&#x25AA;&#x25AA;&#x25AA;</td><td class='float' title='float64'>&#x25AA;&#x25AA;&#x25AA;&#x25AA;&#x25AA;&#x25AA;&#x25AA;&#x25AA;</td></tr>\n",
       "  </thead>\n",
       "  <tbody>\n",
       "    <tr><td class='row_index'>0</td><td>2010</td><td>310010039</td><td>2001020</td><td>23</td><td>120005</td><td>1202</td><td>120005</td><td>Norte</td><td>AC</td><td>12</td><td class=vellipsis>&hellip;</td><td>12900</td><td>&minus;10.941</td><td>&minus;69.567</td><td>239</td><td>2875.91</td></tr>\n",
       "    <tr><td class='row_index'>1</td><td>2010</td><td>310010039</td><td>2000733</td><td>28</td><td>120040</td><td>1201</td><td>120040</td><td>Norte</td><td>AC</td><td>12</td><td class=vellipsis>&hellip;</td><td>12900</td><td>&minus;9.975</td><td>&minus;67.81</td><td>153</td><td>9222.58</td></tr>\n",
       "    <tr><td class='row_index'>2</td><td>2010</td><td>310010039</td><td>2000733</td><td>38</td><td>120040</td><td>1201</td><td>120040</td><td>Norte</td><td>AC</td><td>12</td><td class=vellipsis>&hellip;</td><td>12900</td><td>&minus;9.975</td><td>&minus;67.81</td><td>153</td><td>9222.58</td></tr>\n",
       "    <tr><td class='row_index'>3</td><td>2010</td><td>310010039</td><td>2000733</td><td>16</td><td>120040</td><td>1201</td><td>120040</td><td>Norte</td><td>AC</td><td>12</td><td class=vellipsis>&hellip;</td><td>12900</td><td>&minus;9.975</td><td>&minus;67.81</td><td>153</td><td>9222.58</td></tr>\n",
       "    <tr><td class='row_index'>4</td><td>2010</td><td>310010039</td><td>2000733</td><td>26</td><td>120040</td><td>1201</td><td>120040</td><td>Norte</td><td>AC</td><td>12</td><td class=vellipsis>&hellip;</td><td>12900</td><td>&minus;9.975</td><td>&minus;67.81</td><td>153</td><td>9222.58</td></tr>\n",
       "    <tr><td class='row_index'>5</td><td>2010</td><td>310010039</td><td>2000733</td><td>26</td><td>120040</td><td>1201</td><td>120040</td><td>Norte</td><td>AC</td><td>12</td><td class=vellipsis>&hellip;</td><td>12900</td><td>&minus;9.975</td><td>&minus;67.81</td><td>153</td><td>9222.58</td></tr>\n",
       "    <tr><td class='row_index'>6</td><td>2010</td><td>310010039</td><td>2000733</td><td>27</td><td>120040</td><td>1201</td><td>120040</td><td>Norte</td><td>AC</td><td>12</td><td class=vellipsis>&hellip;</td><td>12900</td><td>&minus;9.975</td><td>&minus;67.81</td><td>153</td><td>9222.58</td></tr>\n",
       "    <tr><td class='row_index'>7</td><td>2010</td><td>310010039</td><td>2001020</td><td>31</td><td>120005</td><td>1202</td><td>120005</td><td>Norte</td><td>AC</td><td>12</td><td class=vellipsis>&hellip;</td><td>12900</td><td>&minus;10.941</td><td>&minus;69.567</td><td>239</td><td>2875.91</td></tr>\n",
       "    <tr><td class='row_index'>8</td><td>2010</td><td>310010039</td><td>2000733</td><td>30</td><td>120040</td><td>1201</td><td>120040</td><td>Norte</td><td>AC</td><td>12</td><td class=vellipsis>&hellip;</td><td>12900</td><td>&minus;9.975</td><td>&minus;67.81</td><td>153</td><td>9222.58</td></tr>\n",
       "    <tr><td class='row_index'>9</td><td>2010</td><td>310010039</td><td>2000733</td><td>18</td><td>120040</td><td>1201</td><td>120040</td><td>Norte</td><td>AC</td><td>12</td><td class=vellipsis>&hellip;</td><td>12900</td><td>&minus;9.975</td><td>&minus;67.81</td><td>153</td><td>9222.58</td></tr>\n",
       "    <tr><td class='row_index'>10</td><td>2010</td><td>310010039</td><td>2001020</td><td>28</td><td>120005</td><td>1202</td><td>120005</td><td>Norte</td><td>AC</td><td>12</td><td class=vellipsis>&hellip;</td><td>12900</td><td>&minus;10.941</td><td>&minus;69.567</td><td>239</td><td>2875.91</td></tr>\n",
       "    <tr><td class='row_index'>11</td><td>2010</td><td>310010039</td><td>2000733</td><td>32</td><td>120040</td><td>1201</td><td>120038</td><td>Norte</td><td>AC</td><td>12</td><td class=vellipsis>&hellip;</td><td>12900</td><td>&minus;10.276</td><td>&minus;67.15</td><td>136</td><td>2047.45</td></tr>\n",
       "    <tr><td class='row_index'>12</td><td>2010</td><td>310010039</td><td>2000733</td><td>30</td><td>120040</td><td>1201</td><td>120040</td><td>Norte</td><td>AC</td><td>12</td><td class=vellipsis>&hellip;</td><td>12900</td><td>&minus;9.975</td><td>&minus;67.81</td><td>153</td><td>9222.58</td></tr>\n",
       "    <tr><td class='row_index'>13</td><td>2010</td><td>310010039</td><td>2000733</td><td>26</td><td>120040</td><td>1201</td><td>120001</td><td>Norte</td><td>AC</td><td>12</td><td class=vellipsis>&hellip;</td><td>12900</td><td>&minus;9.828</td><td>&minus;66.883</td><td>25</td><td>1574.55</td></tr>\n",
       "    <tr><td class='row_index'>14</td><td>2010</td><td>310010039</td><td>2000733</td><td>26</td><td>120040</td><td>1201</td><td>120040</td><td>Norte</td><td>AC</td><td>12</td><td class=vellipsis>&hellip;</td><td>12900</td><td>&minus;9.975</td><td>&minus;67.81</td><td>153</td><td>9222.58</td></tr>\n",
       "    <tr><td class='row_index'>&#x22EE;</td><td class='hellipsis'>&#x22EE;</td><td class='hellipsis'>&#x22EE;</td><td class='hellipsis'>&#x22EE;</td><td class='hellipsis'>&#x22EE;</td><td class='hellipsis'>&#x22EE;</td><td class='hellipsis'>&#x22EE;</td><td class='hellipsis'>&#x22EE;</td><td class='hellipsis'>&#x22EE;</td><td class='hellipsis'>&#x22EE;</td><td class='hellipsis'>&#x22EE;</td><td class='hellipsis'>&#x22F1;</td><td class='hellipsis'>&#x22EE;</td><td class='hellipsis'>&#x22EE;</td><td class='hellipsis'>&#x22EE;</td><td class='hellipsis'>&#x22EE;</td><td class='hellipsis'>&#x22EE;</td></tr>\n",
       "    <tr><td class='row_index'>16,816,986</td><td>2019</td><td>411010034</td><td>2765640</td><td>24</td><td>170930</td><td>1704</td><td>171840</td><td>Norte</td><td>TO</td><td>17</td><td class=vellipsis>&hellip;</td><td>17900</td><td>&minus;8.539</td><td>&minus;48.506</td><td>247</td><td>770.418</td></tr>\n",
       "    <tr><td class='row_index'>16,816,987</td><td>2019</td><td>411010034</td><td>2765640</td><td>27</td><td>170930</td><td>1704</td><td>171670</td><td>Norte</td><td>TO</td><td>17</td><td class=vellipsis>&hellip;</td><td>17900</td><td>&minus;8.729</td><td>&minus;48.765</td><td>362</td><td>990.712</td></tr>\n",
       "    <tr><td class='row_index'>16,816,988</td><td>2019</td><td>411010034</td><td>2765640</td><td>22</td><td>170930</td><td>1704</td><td>171670</td><td>Norte</td><td>TO</td><td>17</td><td class=vellipsis>&hellip;</td><td>17900</td><td>&minus;8.729</td><td>&minus;48.765</td><td>362</td><td>990.712</td></tr>\n",
       "    <tr><td class='row_index'>16,816,989</td><td>2019</td><td>411010034</td><td>2765640</td><td>25</td><td>170930</td><td>1704</td><td>170930</td><td>Norte</td><td>TO</td><td>17</td><td class=vellipsis>&hellip;</td><td>17900</td><td>&minus;8.834</td><td>&minus;48.51</td><td>259</td><td>2268.15</td></tr>\n",
       "    <tr><td class='row_index'>16,816,990</td><td>2019</td><td>411010034</td><td>2755149</td><td>21</td><td>171610</td><td>1708</td><td>171250</td><td>Norte</td><td>TO</td><td>17</td><td class=vellipsis>&hellip;</td><td>17900</td><td>&minus;9.796</td><td>&minus;49.654</td><td>146</td><td>2091.36</td></tr>\n",
       "  </tbody>\n",
       "  </table>\n",
       "  <div class='footer'>\n",
       "    <div class='frame_dimensions'>16,816,991 rows &times; 24 columns</div>\n",
       "  </div>\n",
       "</div>\n"
      ],
      "text/plain": [
       "<Frame#7f7d5118c930 16816991x24>"
      ]
     },
     "execution_count": 8,
     "metadata": {},
     "output_type": "execute_result"
    }
   ],
   "source": [
    "df_sih = data_load(path_zip_sih, cols_sih, filter_sih)\n",
    "df_sih"
   ]
  },
  {
   "cell_type": "markdown",
   "metadata": {},
   "source": [
    "100%|██████████| 4400/4400 [24:04<00:00,  3.05it/s]\n",
    "\n",
    "Total = 28m 1.3s"
   ]
  },
  {
   "cell_type": "markdown",
   "metadata": {},
   "source": [
    "# Exportar tabela"
   ]
  },
  {
   "cell_type": "code",
   "execution_count": null,
   "metadata": {},
   "outputs": [],
   "source": [
    "df_sih.to_jay(output_sih)"
   ]
  },
  {
   "cell_type": "code",
   "execution_count": null,
   "metadata": {},
   "outputs": [
    {
     "data": {
      "text/html": [
       "<div class='datatable'>\n",
       "  <table class='frame'>\n",
       "  <thead>\n",
       "    <tr class='colnames'><td class='row_index'></td><th>ano</th><th>parto_normal</th><th>cnes</th><th>idade</th><th>hosp_cod_municipio</th><th>hosp_regiao_saude</th><th>cod_municipio</th><th>regiao</th><th>uf</th><th>cod_uf</th><th class='vellipsis'>&hellip;</th><th>microregiao_saude</th><th>latitude</th><th>longitude</th><th>altitude</th><th>area</th></tr>\n",
       "    <tr class='coltypes'><td class='row_index'></td><td class='int' title='int32'>&#x25AA;&#x25AA;&#x25AA;&#x25AA;</td><td class='int' title='int32'>&#x25AA;&#x25AA;&#x25AA;&#x25AA;</td><td class='int' title='int32'>&#x25AA;&#x25AA;&#x25AA;&#x25AA;</td><td class='int' title='int32'>&#x25AA;&#x25AA;&#x25AA;&#x25AA;</td><td class='int' title='int32'>&#x25AA;&#x25AA;&#x25AA;&#x25AA;</td><td class='int' title='int32'>&#x25AA;&#x25AA;&#x25AA;&#x25AA;</td><td class='int' title='int32'>&#x25AA;&#x25AA;&#x25AA;&#x25AA;</td><td class='str' title='str32'>&#x25AA;&#x25AA;&#x25AA;&#x25AA;</td><td class='str' title='str32'>&#x25AA;&#x25AA;&#x25AA;&#x25AA;</td><td class='int' title='int32'>&#x25AA;&#x25AA;&#x25AA;&#x25AA;</td><td></td><td class='int' title='int32'>&#x25AA;&#x25AA;&#x25AA;&#x25AA;</td><td class='float' title='float64'>&#x25AA;&#x25AA;&#x25AA;&#x25AA;&#x25AA;&#x25AA;&#x25AA;&#x25AA;</td><td class='float' title='float64'>&#x25AA;&#x25AA;&#x25AA;&#x25AA;&#x25AA;&#x25AA;&#x25AA;&#x25AA;</td><td class='float' title='float64'>&#x25AA;&#x25AA;&#x25AA;&#x25AA;&#x25AA;&#x25AA;&#x25AA;&#x25AA;</td><td class='float' title='float64'>&#x25AA;&#x25AA;&#x25AA;&#x25AA;&#x25AA;&#x25AA;&#x25AA;&#x25AA;</td></tr>\n",
       "  </thead>\n",
       "  <tbody>\n",
       "    <tr><td class='row_index'>0</td><td>2010</td><td>310010039</td><td>2001020</td><td>23</td><td>120005</td><td>1202</td><td>120005</td><td>Norte</td><td>AC</td><td>12</td><td class=vellipsis>&hellip;</td><td>12900</td><td>&minus;10.941</td><td>&minus;69.567</td><td>239</td><td>2875.91</td></tr>\n",
       "    <tr><td class='row_index'>1</td><td>2010</td><td>310010039</td><td>2000733</td><td>28</td><td>120040</td><td>1201</td><td>120040</td><td>Norte</td><td>AC</td><td>12</td><td class=vellipsis>&hellip;</td><td>12900</td><td>&minus;9.975</td><td>&minus;67.81</td><td>153</td><td>9222.58</td></tr>\n",
       "    <tr><td class='row_index'>2</td><td>2010</td><td>310010039</td><td>2000733</td><td>38</td><td>120040</td><td>1201</td><td>120040</td><td>Norte</td><td>AC</td><td>12</td><td class=vellipsis>&hellip;</td><td>12900</td><td>&minus;9.975</td><td>&minus;67.81</td><td>153</td><td>9222.58</td></tr>\n",
       "    <tr><td class='row_index'>3</td><td>2010</td><td>310010039</td><td>2000733</td><td>16</td><td>120040</td><td>1201</td><td>120040</td><td>Norte</td><td>AC</td><td>12</td><td class=vellipsis>&hellip;</td><td>12900</td><td>&minus;9.975</td><td>&minus;67.81</td><td>153</td><td>9222.58</td></tr>\n",
       "    <tr><td class='row_index'>4</td><td>2010</td><td>310010039</td><td>2000733</td><td>26</td><td>120040</td><td>1201</td><td>120040</td><td>Norte</td><td>AC</td><td>12</td><td class=vellipsis>&hellip;</td><td>12900</td><td>&minus;9.975</td><td>&minus;67.81</td><td>153</td><td>9222.58</td></tr>\n",
       "    <tr><td class='row_index'>5</td><td>2010</td><td>310010039</td><td>2000733</td><td>26</td><td>120040</td><td>1201</td><td>120040</td><td>Norte</td><td>AC</td><td>12</td><td class=vellipsis>&hellip;</td><td>12900</td><td>&minus;9.975</td><td>&minus;67.81</td><td>153</td><td>9222.58</td></tr>\n",
       "    <tr><td class='row_index'>6</td><td>2010</td><td>310010039</td><td>2000733</td><td>27</td><td>120040</td><td>1201</td><td>120040</td><td>Norte</td><td>AC</td><td>12</td><td class=vellipsis>&hellip;</td><td>12900</td><td>&minus;9.975</td><td>&minus;67.81</td><td>153</td><td>9222.58</td></tr>\n",
       "    <tr><td class='row_index'>7</td><td>2010</td><td>310010039</td><td>2001020</td><td>31</td><td>120005</td><td>1202</td><td>120005</td><td>Norte</td><td>AC</td><td>12</td><td class=vellipsis>&hellip;</td><td>12900</td><td>&minus;10.941</td><td>&minus;69.567</td><td>239</td><td>2875.91</td></tr>\n",
       "    <tr><td class='row_index'>8</td><td>2010</td><td>310010039</td><td>2000733</td><td>30</td><td>120040</td><td>1201</td><td>120040</td><td>Norte</td><td>AC</td><td>12</td><td class=vellipsis>&hellip;</td><td>12900</td><td>&minus;9.975</td><td>&minus;67.81</td><td>153</td><td>9222.58</td></tr>\n",
       "    <tr><td class='row_index'>9</td><td>2010</td><td>310010039</td><td>2000733</td><td>18</td><td>120040</td><td>1201</td><td>120040</td><td>Norte</td><td>AC</td><td>12</td><td class=vellipsis>&hellip;</td><td>12900</td><td>&minus;9.975</td><td>&minus;67.81</td><td>153</td><td>9222.58</td></tr>\n",
       "    <tr><td class='row_index'>10</td><td>2010</td><td>310010039</td><td>2001020</td><td>28</td><td>120005</td><td>1202</td><td>120005</td><td>Norte</td><td>AC</td><td>12</td><td class=vellipsis>&hellip;</td><td>12900</td><td>&minus;10.941</td><td>&minus;69.567</td><td>239</td><td>2875.91</td></tr>\n",
       "    <tr><td class='row_index'>11</td><td>2010</td><td>310010039</td><td>2000733</td><td>32</td><td>120040</td><td>1201</td><td>120038</td><td>Norte</td><td>AC</td><td>12</td><td class=vellipsis>&hellip;</td><td>12900</td><td>&minus;10.276</td><td>&minus;67.15</td><td>136</td><td>2047.45</td></tr>\n",
       "    <tr><td class='row_index'>12</td><td>2010</td><td>310010039</td><td>2000733</td><td>30</td><td>120040</td><td>1201</td><td>120040</td><td>Norte</td><td>AC</td><td>12</td><td class=vellipsis>&hellip;</td><td>12900</td><td>&minus;9.975</td><td>&minus;67.81</td><td>153</td><td>9222.58</td></tr>\n",
       "    <tr><td class='row_index'>13</td><td>2010</td><td>310010039</td><td>2000733</td><td>26</td><td>120040</td><td>1201</td><td>120001</td><td>Norte</td><td>AC</td><td>12</td><td class=vellipsis>&hellip;</td><td>12900</td><td>&minus;9.828</td><td>&minus;66.883</td><td>25</td><td>1574.55</td></tr>\n",
       "    <tr><td class='row_index'>14</td><td>2010</td><td>310010039</td><td>2000733</td><td>26</td><td>120040</td><td>1201</td><td>120040</td><td>Norte</td><td>AC</td><td>12</td><td class=vellipsis>&hellip;</td><td>12900</td><td>&minus;9.975</td><td>&minus;67.81</td><td>153</td><td>9222.58</td></tr>\n",
       "    <tr><td class='row_index'>&#x22EE;</td><td class='hellipsis'>&#x22EE;</td><td class='hellipsis'>&#x22EE;</td><td class='hellipsis'>&#x22EE;</td><td class='hellipsis'>&#x22EE;</td><td class='hellipsis'>&#x22EE;</td><td class='hellipsis'>&#x22EE;</td><td class='hellipsis'>&#x22EE;</td><td class='hellipsis'>&#x22EE;</td><td class='hellipsis'>&#x22EE;</td><td class='hellipsis'>&#x22EE;</td><td class='hellipsis'>&#x22F1;</td><td class='hellipsis'>&#x22EE;</td><td class='hellipsis'>&#x22EE;</td><td class='hellipsis'>&#x22EE;</td><td class='hellipsis'>&#x22EE;</td><td class='hellipsis'>&#x22EE;</td></tr>\n",
       "    <tr><td class='row_index'>16,816,986</td><td>2019</td><td>411010034</td><td>2765640</td><td>24</td><td>170930</td><td>1704</td><td>171840</td><td>Norte</td><td>TO</td><td>17</td><td class=vellipsis>&hellip;</td><td>17900</td><td>&minus;8.539</td><td>&minus;48.506</td><td>247</td><td>770.418</td></tr>\n",
       "    <tr><td class='row_index'>16,816,987</td><td>2019</td><td>411010034</td><td>2765640</td><td>27</td><td>170930</td><td>1704</td><td>171670</td><td>Norte</td><td>TO</td><td>17</td><td class=vellipsis>&hellip;</td><td>17900</td><td>&minus;8.729</td><td>&minus;48.765</td><td>362</td><td>990.712</td></tr>\n",
       "    <tr><td class='row_index'>16,816,988</td><td>2019</td><td>411010034</td><td>2765640</td><td>22</td><td>170930</td><td>1704</td><td>171670</td><td>Norte</td><td>TO</td><td>17</td><td class=vellipsis>&hellip;</td><td>17900</td><td>&minus;8.729</td><td>&minus;48.765</td><td>362</td><td>990.712</td></tr>\n",
       "    <tr><td class='row_index'>16,816,989</td><td>2019</td><td>411010034</td><td>2765640</td><td>25</td><td>170930</td><td>1704</td><td>170930</td><td>Norte</td><td>TO</td><td>17</td><td class=vellipsis>&hellip;</td><td>17900</td><td>&minus;8.834</td><td>&minus;48.51</td><td>259</td><td>2268.15</td></tr>\n",
       "    <tr><td class='row_index'>16,816,990</td><td>2019</td><td>411010034</td><td>2755149</td><td>21</td><td>171610</td><td>1708</td><td>171250</td><td>Norte</td><td>TO</td><td>17</td><td class=vellipsis>&hellip;</td><td>17900</td><td>&minus;9.796</td><td>&minus;49.654</td><td>146</td><td>2091.36</td></tr>\n",
       "  </tbody>\n",
       "  </table>\n",
       "  <div class='footer'>\n",
       "    <div class='frame_dimensions'>16,816,991 rows &times; 24 columns</div>\n",
       "  </div>\n",
       "</div>\n"
      ],
      "text/plain": [
       "<Frame#7f7d5118c930 16816991x24>"
      ]
     },
     "metadata": {},
     "output_type": "display_data"
    }
   ],
   "source": [
    "df_sih = dt.fread(output_sih)\n",
    "df_sih"
   ]
  }
 ],
 "metadata": {
  "kernelspec": {
   "display_name": "Python 3.9.13 ('base')",
   "language": "python",
   "name": "python3"
  },
  "language_info": {
   "codemirror_mode": {
    "name": "ipython",
    "version": 3
   },
   "file_extension": ".py",
   "mimetype": "text/x-python",
   "name": "python",
   "nbconvert_exporter": "python",
   "pygments_lexer": "ipython3",
   "version": "3.9.13"
  },
  "orig_nbformat": 4,
  "vscode": {
   "interpreter": {
    "hash": "6c01efea219ea0303b6e6cd1897665114cc62146ed112ea21ec489238fdae255"
   }
  }
 },
 "nbformat": 4,
 "nbformat_minor": 2
}
