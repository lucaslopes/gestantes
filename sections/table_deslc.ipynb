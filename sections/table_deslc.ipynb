{
 "cells": [
  {
   "cell_type": "raw",
   "metadata": {},
   "source": [
    "---\n",
    "title: \"Deslocamento\"\n",
    "---"
   ]
  },
  {
   "cell_type": "code",
   "execution_count": 1,
   "metadata": {},
   "outputs": [
    {
     "data": {
      "text/html": [
       "<style type='text/css'>\n",
       ".datatable table.frame { margin-bottom: 0; }\n",
       ".datatable table.frame thead { border-bottom: none; }\n",
       ".datatable table.frame tr.coltypes td {  color: #FFFFFF;  line-height: 6px;  padding: 0 0.5em;}\n",
       ".datatable .bool    { background: #DDDD99; }\n",
       ".datatable .object  { background: #565656; }\n",
       ".datatable .int     { background: #5D9E5D; }\n",
       ".datatable .float   { background: #4040CC; }\n",
       ".datatable .str     { background: #CC4040; }\n",
       ".datatable .row_index {  background: var(--jp-border-color3);  border-right: 1px solid var(--jp-border-color0);  color: var(--jp-ui-font-color3);  font-size: 9px;}\n",
       ".datatable .frame tr.coltypes .row_index {  background: var(--jp-border-color0);}\n",
       ".datatable th:nth-child(2) { padding-left: 12px; }\n",
       ".datatable .hellipsis {  color: var(--jp-cell-editor-border-color);}\n",
       ".datatable .vellipsis {  background: var(--jp-layout-color0);  color: var(--jp-cell-editor-border-color);}\n",
       ".datatable .na {  color: var(--jp-cell-editor-border-color);  font-size: 80%;}\n",
       ".datatable .footer { font-size: 9px; }\n",
       ".datatable .frame_dimensions {  background: var(--jp-border-color3);  border-top: 1px solid var(--jp-border-color0);  color: var(--jp-ui-font-color3);  display: inline-block;  opacity: 0.6;  padding: 1px 10px 1px 5px;}\n",
       "</style>\n"
      ],
      "text/plain": [
       "<IPython.core.display.HTML object>"
      ]
     },
     "metadata": {},
     "output_type": "display_data"
    }
   ],
   "source": [
    "from utils import get_path, group_cols\n",
    "from datatable import dt, f"
   ]
  },
  {
   "cell_type": "markdown",
   "metadata": {},
   "source": [
    "# Descrição"
   ]
  },
  {
   "cell_type": "markdown",
   "metadata": {},
   "source": [
    "Neste notebook iremos formar a tabela deslocamento, com origem e destino."
   ]
  },
  {
   "cell_type": "markdown",
   "metadata": {},
   "source": [
    "# Tabelas base"
   ]
  },
  {
   "cell_type": "markdown",
   "metadata": {},
   "source": [
    "## Procedimentos"
   ]
  },
  {
   "cell_type": "markdown",
   "metadata": {},
   "source": [
    "### Colunas da tabela"
   ]
  },
  {
   "cell_type": "code",
   "execution_count": 2,
   "metadata": {},
   "outputs": [],
   "source": [
    "cols_deslc = {\n",
    "  'ano': 'ano',\n",
    "  'parto_normal': 'parto_normal',\n",
    "  'hosp_cod_municipio': 'hosp_cod_municipio',\n",
    "  'hosp_regiao_saude': 'hosp_regiao_saude',\n",
    "  'cod_municipio': 'cod_municipio',\n",
    "  'regiao_saude': 'regiao_saude',\n",
    "  'count': 'count',\n",
    "  ...: None,\n",
    "  # 'cnes',\n",
    "  # 'idade'\n",
    "}"
   ]
  },
  {
   "cell_type": "markdown",
   "metadata": {},
   "source": [
    "### Linhas da tabela"
   ]
  },
  {
   "cell_type": "code",
   "execution_count": 3,
   "metadata": {},
   "outputs": [],
   "source": [
    "def filter_deslc(df):\n",
    "  df_filtered = df[\n",
    "    (\n",
    "      f.ano == 2010\n",
    "    ) | (\n",
    "      f.ano == 2011\n",
    "    ) | (\n",
    "      f.ano == 2018\n",
    "    ) | (\n",
    "      f.ano == 2019\n",
    "    ), :]\n",
    "  return df_filtered"
   ]
  },
  {
   "cell_type": "markdown",
   "metadata": {},
   "source": [
    "### Tabela carregada"
   ]
  },
  {
   "cell_type": "code",
   "execution_count": 4,
   "metadata": {},
   "outputs": [
    {
     "data": {
      "text/html": [
       "<div class='datatable'>\n",
       "  <table class='frame'>\n",
       "  <thead>\n",
       "    <tr class='colnames'><td class='row_index'></td><th>ano</th><th>parto_normal</th><th>hosp_cod_municipio</th><th>hosp_regiao_saude</th><th>cod_municipio</th><th>regiao_saude</th><th>count</th></tr>\n",
       "    <tr class='coltypes'><td class='row_index'></td><td class='int' title='int32'>&#x25AA;&#x25AA;&#x25AA;&#x25AA;</td><td class='bool' title='bool8'>&#x25AA;</td><td class='int' title='int32'>&#x25AA;&#x25AA;&#x25AA;&#x25AA;</td><td class='int' title='int32'>&#x25AA;&#x25AA;&#x25AA;&#x25AA;</td><td class='int' title='int32'>&#x25AA;&#x25AA;&#x25AA;&#x25AA;</td><td class='int' title='int32'>&#x25AA;&#x25AA;&#x25AA;&#x25AA;</td><td class='int' title='int32'>&#x25AA;&#x25AA;&#x25AA;&#x25AA;</td></tr>\n",
       "  </thead>\n",
       "  <tbody>\n",
       "    <tr><td class='row_index'>0</td><td>2010</td><td>1</td><td>355030</td><td>3501</td><td>355030</td><td>3501</td><td>362</td></tr>\n",
       "    <tr><td class='row_index'>1</td><td>2010</td><td>1</td><td>355030</td><td>3501</td><td>355030</td><td>3501</td><td>333</td></tr>\n",
       "    <tr><td class='row_index'>2</td><td>2010</td><td>1</td><td>355030</td><td>3501</td><td>355030</td><td>3501</td><td>331</td></tr>\n",
       "    <tr><td class='row_index'>3</td><td>2010</td><td>1</td><td>355030</td><td>3501</td><td>355030</td><td>3501</td><td>327</td></tr>\n",
       "    <tr><td class='row_index'>4</td><td>2010</td><td>1</td><td>355030</td><td>3501</td><td>355030</td><td>3501</td><td>318</td></tr>\n",
       "    <tr><td class='row_index'>5</td><td>2010</td><td>1</td><td>355030</td><td>3501</td><td>355030</td><td>3501</td><td>303</td></tr>\n",
       "    <tr><td class='row_index'>6</td><td>2010</td><td>1</td><td>355030</td><td>3501</td><td>355030</td><td>3501</td><td>297</td></tr>\n",
       "    <tr><td class='row_index'>7</td><td>2010</td><td>1</td><td>355030</td><td>3501</td><td>355030</td><td>3501</td><td>296</td></tr>\n",
       "    <tr><td class='row_index'>8</td><td>2010</td><td>1</td><td>355030</td><td>3501</td><td>355030</td><td>3501</td><td>295</td></tr>\n",
       "    <tr><td class='row_index'>9</td><td>2010</td><td>1</td><td>355030</td><td>3501</td><td>355030</td><td>3501</td><td>292</td></tr>\n",
       "    <tr><td class='row_index'>10</td><td>2010</td><td>1</td><td>130260</td><td>1301</td><td>130260</td><td>1301</td><td>288</td></tr>\n",
       "    <tr><td class='row_index'>11</td><td>2010</td><td>1</td><td>130260</td><td>1301</td><td>130260</td><td>1301</td><td>276</td></tr>\n",
       "    <tr><td class='row_index'>12</td><td>2010</td><td>1</td><td>355030</td><td>3501</td><td>355030</td><td>3501</td><td>270</td></tr>\n",
       "    <tr><td class='row_index'>13</td><td>2010</td><td>1</td><td>355030</td><td>3501</td><td>355030</td><td>3501</td><td>269</td></tr>\n",
       "    <tr><td class='row_index'>14</td><td>2010</td><td>1</td><td>130260</td><td>1301</td><td>130260</td><td>1301</td><td>269</td></tr>\n",
       "    <tr><td class='row_index'>&#x22EE;</td><td class='hellipsis'>&#x22EE;</td><td class='hellipsis'>&#x22EE;</td><td class='hellipsis'>&#x22EE;</td><td class='hellipsis'>&#x22EE;</td><td class='hellipsis'>&#x22EE;</td><td class='hellipsis'>&#x22EE;</td><td class='hellipsis'>&#x22EE;</td></tr>\n",
       "    <tr><td class='row_index'>1,357,773</td><td>2019</td><td>0</td><td>270430</td><td>2701</td><td>355640</td><td>3520</td><td>1</td></tr>\n",
       "    <tr><td class='row_index'>1,357,774</td><td>2019</td><td>0</td><td>270430</td><td>2701</td><td>420910</td><td>4213</td><td>1</td></tr>\n",
       "    <tr><td class='row_index'>1,357,775</td><td>2019</td><td>0</td><td>270430</td><td>2701</td><td>510285</td><td>5109</td><td>1</td></tr>\n",
       "    <tr><td class='row_index'>1,357,776</td><td>2019</td><td>0</td><td>270430</td><td>2701</td><td>510622</td><td>5114</td><td>1</td></tr>\n",
       "    <tr><td class='row_index'>1,357,777</td><td>2019</td><td>0</td><td>270430</td><td>2701</td><td>510792</td><td>5114</td><td>1</td></tr>\n",
       "  </tbody>\n",
       "  </table>\n",
       "  <div class='footer'>\n",
       "    <div class='frame_dimensions'>1,357,778 rows &times; 7 columns</div>\n",
       "  </div>\n",
       "</div>\n"
      ],
      "text/plain": [
       "<Frame#7fcf0b937450 1357778x7>"
      ]
     },
     "execution_count": 4,
     "metadata": {},
     "output_type": "execute_result"
    }
   ],
   "source": [
    "path_deslc = get_path('GESTANTES', 'procedimentos.csv.gzip')\n",
    "df_deslc = dt.fread(path_deslc, columns=cols_deslc)\n",
    "df_deslc = filter_deslc(df_deslc)\n",
    "df_deslc"
   ]
  },
  {
   "cell_type": "markdown",
   "metadata": {},
   "source": [
    "### Atualizando variável ano (biênio)"
   ]
  },
  {
   "cell_type": "markdown",
   "metadata": {},
   "source": [
    "Valor da variável `bienio`:\n",
    "\n",
    "- `0 (False) = 2010/11`\n",
    "- `1 (True) = 2018/19`"
   ]
  },
  {
   "cell_type": "code",
   "execution_count": 5,
   "metadata": {},
   "outputs": [
    {
     "data": {
      "text/html": [
       "<div class='datatable'>\n",
       "  <table class='frame'>\n",
       "  <thead>\n",
       "    <tr class='colnames'><td class='row_index'></td><th>bienio</th><th>parto_normal</th><th>hosp_cod_municipio</th><th>hosp_regiao_saude</th><th>cod_municipio</th><th>regiao_saude</th><th>count</th></tr>\n",
       "    <tr class='coltypes'><td class='row_index'></td><td class='bool' title='bool8'>&#x25AA;</td><td class='bool' title='bool8'>&#x25AA;</td><td class='int' title='int32'>&#x25AA;&#x25AA;&#x25AA;&#x25AA;</td><td class='int' title='int32'>&#x25AA;&#x25AA;&#x25AA;&#x25AA;</td><td class='int' title='int32'>&#x25AA;&#x25AA;&#x25AA;&#x25AA;</td><td class='int' title='int32'>&#x25AA;&#x25AA;&#x25AA;&#x25AA;</td><td class='int' title='int32'>&#x25AA;&#x25AA;&#x25AA;&#x25AA;</td></tr>\n",
       "  </thead>\n",
       "  <tbody>\n",
       "    <tr><td class='row_index'>0</td><td>0</td><td>1</td><td>355030</td><td>3501</td><td>355030</td><td>3501</td><td>362</td></tr>\n",
       "    <tr><td class='row_index'>1</td><td>0</td><td>1</td><td>355030</td><td>3501</td><td>355030</td><td>3501</td><td>333</td></tr>\n",
       "    <tr><td class='row_index'>2</td><td>0</td><td>1</td><td>355030</td><td>3501</td><td>355030</td><td>3501</td><td>331</td></tr>\n",
       "    <tr><td class='row_index'>3</td><td>0</td><td>1</td><td>355030</td><td>3501</td><td>355030</td><td>3501</td><td>327</td></tr>\n",
       "    <tr><td class='row_index'>4</td><td>0</td><td>1</td><td>355030</td><td>3501</td><td>355030</td><td>3501</td><td>318</td></tr>\n",
       "    <tr><td class='row_index'>5</td><td>0</td><td>1</td><td>355030</td><td>3501</td><td>355030</td><td>3501</td><td>303</td></tr>\n",
       "    <tr><td class='row_index'>6</td><td>0</td><td>1</td><td>355030</td><td>3501</td><td>355030</td><td>3501</td><td>297</td></tr>\n",
       "    <tr><td class='row_index'>7</td><td>0</td><td>1</td><td>355030</td><td>3501</td><td>355030</td><td>3501</td><td>296</td></tr>\n",
       "    <tr><td class='row_index'>8</td><td>0</td><td>1</td><td>355030</td><td>3501</td><td>355030</td><td>3501</td><td>295</td></tr>\n",
       "    <tr><td class='row_index'>9</td><td>0</td><td>1</td><td>355030</td><td>3501</td><td>355030</td><td>3501</td><td>292</td></tr>\n",
       "    <tr><td class='row_index'>10</td><td>0</td><td>1</td><td>130260</td><td>1301</td><td>130260</td><td>1301</td><td>288</td></tr>\n",
       "    <tr><td class='row_index'>11</td><td>0</td><td>1</td><td>130260</td><td>1301</td><td>130260</td><td>1301</td><td>276</td></tr>\n",
       "    <tr><td class='row_index'>12</td><td>0</td><td>1</td><td>355030</td><td>3501</td><td>355030</td><td>3501</td><td>270</td></tr>\n",
       "    <tr><td class='row_index'>13</td><td>0</td><td>1</td><td>355030</td><td>3501</td><td>355030</td><td>3501</td><td>269</td></tr>\n",
       "    <tr><td class='row_index'>14</td><td>0</td><td>1</td><td>130260</td><td>1301</td><td>130260</td><td>1301</td><td>269</td></tr>\n",
       "    <tr><td class='row_index'>&#x22EE;</td><td class='hellipsis'>&#x22EE;</td><td class='hellipsis'>&#x22EE;</td><td class='hellipsis'>&#x22EE;</td><td class='hellipsis'>&#x22EE;</td><td class='hellipsis'>&#x22EE;</td><td class='hellipsis'>&#x22EE;</td><td class='hellipsis'>&#x22EE;</td></tr>\n",
       "    <tr><td class='row_index'>1,357,773</td><td>1</td><td>0</td><td>270430</td><td>2701</td><td>355640</td><td>3520</td><td>1</td></tr>\n",
       "    <tr><td class='row_index'>1,357,774</td><td>1</td><td>0</td><td>270430</td><td>2701</td><td>420910</td><td>4213</td><td>1</td></tr>\n",
       "    <tr><td class='row_index'>1,357,775</td><td>1</td><td>0</td><td>270430</td><td>2701</td><td>510285</td><td>5109</td><td>1</td></tr>\n",
       "    <tr><td class='row_index'>1,357,776</td><td>1</td><td>0</td><td>270430</td><td>2701</td><td>510622</td><td>5114</td><td>1</td></tr>\n",
       "    <tr><td class='row_index'>1,357,777</td><td>1</td><td>0</td><td>270430</td><td>2701</td><td>510792</td><td>5114</td><td>1</td></tr>\n",
       "  </tbody>\n",
       "  </table>\n",
       "  <div class='footer'>\n",
       "    <div class='frame_dimensions'>1,357,778 rows &times; 7 columns</div>\n",
       "  </div>\n",
       "</div>\n"
      ],
      "text/plain": [
       "<Frame#7fcf0b937450 1357778x7>"
      ]
     },
     "execution_count": 5,
     "metadata": {},
     "output_type": "execute_result"
    }
   ],
   "source": [
    "df_deslc[:, dt.update(ano = (f.ano == 2018) | (f.ano == 2019))]\n",
    "df_deslc.names = {'ano': 'bienio'}\n",
    "df_deslc"
   ]
  },
  {
   "cell_type": "markdown",
   "metadata": {},
   "source": [
    "### Tabela agrupada"
   ]
  },
  {
   "cell_type": "code",
   "execution_count": 6,
   "metadata": {},
   "outputs": [
    {
     "data": {
      "text/html": [
       "<div class='datatable'>\n",
       "  <table class='frame'>\n",
       "  <thead>\n",
       "    <tr class='colnames'><td class='row_index'></td><th>bienio</th><th>parto_normal</th><th>hosp_cod_municipio</th><th>hosp_regiao_saude</th><th>cod_municipio</th><th>regiao_saude</th><th>count</th></tr>\n",
       "    <tr class='coltypes'><td class='row_index'></td><td class='bool' title='bool8'>&#x25AA;</td><td class='bool' title='bool8'>&#x25AA;</td><td class='int' title='int32'>&#x25AA;&#x25AA;&#x25AA;&#x25AA;</td><td class='int' title='int32'>&#x25AA;&#x25AA;&#x25AA;&#x25AA;</td><td class='int' title='int32'>&#x25AA;&#x25AA;&#x25AA;&#x25AA;</td><td class='int' title='int32'>&#x25AA;&#x25AA;&#x25AA;&#x25AA;</td><td class='int' title='int64'>&#x25AA;&#x25AA;&#x25AA;&#x25AA;&#x25AA;&#x25AA;&#x25AA;&#x25AA;</td></tr>\n",
       "  </thead>\n",
       "  <tbody>\n",
       "    <tr><td class='row_index'>0</td><td>0</td><td>1</td><td>355030</td><td>3501</td><td>355030</td><td>3501</td><td>2368</td></tr>\n",
       "    <tr><td class='row_index'>1</td><td>0</td><td>0</td><td>355030</td><td>3501</td><td>355030</td><td>3501</td><td>2020</td></tr>\n",
       "    <tr><td class='row_index'>2</td><td>0</td><td>1</td><td>330455</td><td>3305</td><td>330455</td><td>3305</td><td>1210</td></tr>\n",
       "    <tr><td class='row_index'>3</td><td>0</td><td>0</td><td>330455</td><td>3305</td><td>330455</td><td>3305</td><td>872</td></tr>\n",
       "    <tr><td class='row_index'>4</td><td>0</td><td>0</td><td>230440</td><td>2301</td><td>230440</td><td>2301</td><td>727</td></tr>\n",
       "    <tr><td class='row_index'>5</td><td>0</td><td>1</td><td>230440</td><td>2301</td><td>230440</td><td>2301</td><td>717</td></tr>\n",
       "    <tr><td class='row_index'>6</td><td>0</td><td>1</td><td>150140</td><td>1501</td><td>150140</td><td>1501</td><td>639</td></tr>\n",
       "    <tr><td class='row_index'>7</td><td>0</td><td>0</td><td>150140</td><td>1501</td><td>150140</td><td>1501</td><td>634</td></tr>\n",
       "    <tr><td class='row_index'>8</td><td>0</td><td>0</td><td>520870</td><td>5201</td><td>520870</td><td>5201</td><td>621</td></tr>\n",
       "    <tr><td class='row_index'>9</td><td>0</td><td>1</td><td>130260</td><td>1301</td><td>130260</td><td>1301</td><td>616</td></tr>\n",
       "    <tr><td class='row_index'>10</td><td>0</td><td>1</td><td>520870</td><td>5201</td><td>520870</td><td>5201</td><td>595</td></tr>\n",
       "    <tr><td class='row_index'>11</td><td>0</td><td>0</td><td>130260</td><td>1301</td><td>130260</td><td>1301</td><td>580</td></tr>\n",
       "    <tr><td class='row_index'>12</td><td>0</td><td>1</td><td>292740</td><td>2901</td><td>292740</td><td>2901</td><td>569</td></tr>\n",
       "    <tr><td class='row_index'>13</td><td>0</td><td>0</td><td>292740</td><td>2901</td><td>292740</td><td>2901</td><td>505</td></tr>\n",
       "    <tr><td class='row_index'>14</td><td>0</td><td>1</td><td>310620</td><td>3101</td><td>310620</td><td>3101</td><td>466</td></tr>\n",
       "    <tr><td class='row_index'>&#x22EE;</td><td class='hellipsis'>&#x22EE;</td><td class='hellipsis'>&#x22EE;</td><td class='hellipsis'>&#x22EE;</td><td class='hellipsis'>&#x22EE;</td><td class='hellipsis'>&#x22EE;</td><td class='hellipsis'>&#x22EE;</td><td class='hellipsis'>&#x22EE;</td></tr>\n",
       "    <tr><td class='row_index'>98,050</td><td>1</td><td>1</td><td>530010</td><td>5301</td><td>521520</td><td>5204</td><td>1</td></tr>\n",
       "    <tr><td class='row_index'>98,051</td><td>1</td><td>1</td><td>530010</td><td>5301</td><td>521530</td><td>5202</td><td>1</td></tr>\n",
       "    <tr><td class='row_index'>98,052</td><td>1</td><td>1</td><td>530010</td><td>5301</td><td>521910</td><td>5201</td><td>1</td></tr>\n",
       "    <tr><td class='row_index'>98,053</td><td>1</td><td>1</td><td>530010</td><td>5301</td><td>521971</td><td>5213</td><td>1</td></tr>\n",
       "    <tr><td class='row_index'>98,054</td><td>1</td><td>1</td><td>530010</td><td>5301</td><td>522010</td><td>5205</td><td>1</td></tr>\n",
       "  </tbody>\n",
       "  </table>\n",
       "  <div class='footer'>\n",
       "    <div class='frame_dimensions'>98,055 rows &times; 7 columns</div>\n",
       "  </div>\n",
       "</div>\n"
      ],
      "text/plain": [
       "<Frame#7fcf09974300 98055x7>"
      ]
     },
     "execution_count": 6,
     "metadata": {},
     "output_type": "execute_result"
    }
   ],
   "source": [
    "df_deslc = group_cols(df_deslc, df_deslc.names[:-1])\n",
    "df_deslc = df_deslc.sort(f.bienio, -f.count)\n",
    "df_deslc"
   ]
  },
  {
   "cell_type": "markdown",
   "metadata": {},
   "source": [
    "- with all: `3_355_691` rows\n",
    "- without age: `461_276` rows\n",
    "- without age and cnes: `98_055` rows"
   ]
  },
  {
   "cell_type": "markdown",
   "metadata": {},
   "source": [
    "# Exportando tabela"
   ]
  },
  {
   "cell_type": "code",
   "execution_count": 7,
   "metadata": {},
   "outputs": [],
   "source": [
    "output_deslc = get_path('GESTANTES', 'deslocamentos.csv.gzip')\n",
    "df_deslc.to_csv(output_deslc)"
   ]
  },
  {
   "cell_type": "code",
   "execution_count": 8,
   "metadata": {},
   "outputs": [
    {
     "data": {
      "text/html": [
       "<div class='datatable'>\n",
       "  <table class='frame'>\n",
       "  <thead>\n",
       "    <tr class='colnames'><td class='row_index'></td><th>bienio</th><th>parto_normal</th><th>hosp_cod_municipio</th><th>hosp_regiao_saude</th><th>cod_municipio</th><th>regiao_saude</th><th>count</th></tr>\n",
       "    <tr class='coltypes'><td class='row_index'></td><td class='bool' title='bool8'>&#x25AA;</td><td class='bool' title='bool8'>&#x25AA;</td><td class='int' title='int32'>&#x25AA;&#x25AA;&#x25AA;&#x25AA;</td><td class='int' title='int32'>&#x25AA;&#x25AA;&#x25AA;&#x25AA;</td><td class='int' title='int32'>&#x25AA;&#x25AA;&#x25AA;&#x25AA;</td><td class='int' title='int32'>&#x25AA;&#x25AA;&#x25AA;&#x25AA;</td><td class='int' title='int32'>&#x25AA;&#x25AA;&#x25AA;&#x25AA;</td></tr>\n",
       "  </thead>\n",
       "  <tbody>\n",
       "    <tr><td class='row_index'>0</td><td>0</td><td>1</td><td>355030</td><td>3501</td><td>355030</td><td>3501</td><td>2368</td></tr>\n",
       "    <tr><td class='row_index'>1</td><td>0</td><td>0</td><td>355030</td><td>3501</td><td>355030</td><td>3501</td><td>2020</td></tr>\n",
       "    <tr><td class='row_index'>2</td><td>0</td><td>1</td><td>330455</td><td>3305</td><td>330455</td><td>3305</td><td>1210</td></tr>\n",
       "    <tr><td class='row_index'>3</td><td>0</td><td>0</td><td>330455</td><td>3305</td><td>330455</td><td>3305</td><td>872</td></tr>\n",
       "    <tr><td class='row_index'>4</td><td>0</td><td>0</td><td>230440</td><td>2301</td><td>230440</td><td>2301</td><td>727</td></tr>\n",
       "    <tr><td class='row_index'>5</td><td>0</td><td>1</td><td>230440</td><td>2301</td><td>230440</td><td>2301</td><td>717</td></tr>\n",
       "    <tr><td class='row_index'>6</td><td>0</td><td>1</td><td>150140</td><td>1501</td><td>150140</td><td>1501</td><td>639</td></tr>\n",
       "    <tr><td class='row_index'>7</td><td>0</td><td>0</td><td>150140</td><td>1501</td><td>150140</td><td>1501</td><td>634</td></tr>\n",
       "    <tr><td class='row_index'>8</td><td>0</td><td>0</td><td>520870</td><td>5201</td><td>520870</td><td>5201</td><td>621</td></tr>\n",
       "    <tr><td class='row_index'>9</td><td>0</td><td>1</td><td>130260</td><td>1301</td><td>130260</td><td>1301</td><td>616</td></tr>\n",
       "    <tr><td class='row_index'>10</td><td>0</td><td>1</td><td>520870</td><td>5201</td><td>520870</td><td>5201</td><td>595</td></tr>\n",
       "    <tr><td class='row_index'>11</td><td>0</td><td>0</td><td>130260</td><td>1301</td><td>130260</td><td>1301</td><td>580</td></tr>\n",
       "    <tr><td class='row_index'>12</td><td>0</td><td>1</td><td>292740</td><td>2901</td><td>292740</td><td>2901</td><td>569</td></tr>\n",
       "    <tr><td class='row_index'>13</td><td>0</td><td>0</td><td>292740</td><td>2901</td><td>292740</td><td>2901</td><td>505</td></tr>\n",
       "    <tr><td class='row_index'>14</td><td>0</td><td>1</td><td>310620</td><td>3101</td><td>310620</td><td>3101</td><td>466</td></tr>\n",
       "    <tr><td class='row_index'>&#x22EE;</td><td class='hellipsis'>&#x22EE;</td><td class='hellipsis'>&#x22EE;</td><td class='hellipsis'>&#x22EE;</td><td class='hellipsis'>&#x22EE;</td><td class='hellipsis'>&#x22EE;</td><td class='hellipsis'>&#x22EE;</td><td class='hellipsis'>&#x22EE;</td></tr>\n",
       "    <tr><td class='row_index'>98,050</td><td>1</td><td>1</td><td>530010</td><td>5301</td><td>521520</td><td>5204</td><td>1</td></tr>\n",
       "    <tr><td class='row_index'>98,051</td><td>1</td><td>1</td><td>530010</td><td>5301</td><td>521530</td><td>5202</td><td>1</td></tr>\n",
       "    <tr><td class='row_index'>98,052</td><td>1</td><td>1</td><td>530010</td><td>5301</td><td>521910</td><td>5201</td><td>1</td></tr>\n",
       "    <tr><td class='row_index'>98,053</td><td>1</td><td>1</td><td>530010</td><td>5301</td><td>521971</td><td>5213</td><td>1</td></tr>\n",
       "    <tr><td class='row_index'>98,054</td><td>1</td><td>1</td><td>530010</td><td>5301</td><td>522010</td><td>5205</td><td>1</td></tr>\n",
       "  </tbody>\n",
       "  </table>\n",
       "  <div class='footer'>\n",
       "    <div class='frame_dimensions'>98,055 rows &times; 7 columns</div>\n",
       "  </div>\n",
       "</div>\n"
      ],
      "text/plain": [
       "<Frame#7fcf0b91f330 98055x7>"
      ]
     },
     "execution_count": 8,
     "metadata": {},
     "output_type": "execute_result"
    }
   ],
   "source": [
    "dt.fread(output_deslc)"
   ]
  }
 ],
 "metadata": {
  "kernelspec": {
   "display_name": "Python 3.9.13 ('base')",
   "language": "python",
   "name": "python3"
  },
  "language_info": {
   "codemirror_mode": {
    "name": "ipython",
    "version": 3
   },
   "file_extension": ".py",
   "mimetype": "text/x-python",
   "name": "python",
   "nbconvert_exporter": "python",
   "pygments_lexer": "ipython3",
   "version": "3.9.13"
  },
  "orig_nbformat": 4,
  "vscode": {
   "interpreter": {
    "hash": "6c01efea219ea0303b6e6cd1897665114cc62146ed112ea21ec489238fdae255"
   }
  }
 },
 "nbformat": 4,
 "nbformat_minor": 2
}
