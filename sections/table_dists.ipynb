{
 "cells": [
  {
   "cell_type": "raw",
   "metadata": {},
   "source": [
    "---\n",
    "title: \"Distâncias\"\n",
    "---"
   ]
  },
  {
   "cell_type": "code",
   "execution_count": 1,
   "metadata": {},
   "outputs": [
    {
     "data": {
      "text/html": [
       "<style type='text/css'>\n",
       ".datatable table.frame { margin-bottom: 0; }\n",
       ".datatable table.frame thead { border-bottom: none; }\n",
       ".datatable table.frame tr.coltypes td {  color: #FFFFFF;  line-height: 6px;  padding: 0 0.5em;}\n",
       ".datatable .bool    { background: #DDDD99; }\n",
       ".datatable .object  { background: #565656; }\n",
       ".datatable .int     { background: #5D9E5D; }\n",
       ".datatable .float   { background: #4040CC; }\n",
       ".datatable .str     { background: #CC4040; }\n",
       ".datatable .time    { background: #40CC40; }\n",
       ".datatable .row_index {  background: var(--jp-border-color3);  border-right: 1px solid var(--jp-border-color0);  color: var(--jp-ui-font-color3);  font-size: 9px;}\n",
       ".datatable .frame tbody td { text-align: left; }\n",
       ".datatable .frame tr.coltypes .row_index {  background: var(--jp-border-color0);}\n",
       ".datatable th:nth-child(2) { padding-left: 12px; }\n",
       ".datatable .hellipsis {  color: var(--jp-cell-editor-border-color);}\n",
       ".datatable .vellipsis {  background: var(--jp-layout-color0);  color: var(--jp-cell-editor-border-color);}\n",
       ".datatable .na {  color: var(--jp-cell-editor-border-color);  font-size: 80%;}\n",
       ".datatable .sp {  opacity: 0.25;}\n",
       ".datatable .footer { font-size: 9px; }\n",
       ".datatable .frame_dimensions {  background: var(--jp-border-color3);  border-top: 1px solid var(--jp-border-color0);  color: var(--jp-ui-font-color3);  display: inline-block;  opacity: 0.6;  padding: 1px 10px 1px 5px;}\n",
       "</style>\n"
      ],
      "text/plain": [
       "<IPython.core.display.HTML object>"
      ]
     },
     "metadata": {},
     "output_type": "display_data"
    }
   ],
   "source": [
    "from utils import get_path, group_cols\n",
    "from datatable import dt, f"
   ]
  },
  {
   "cell_type": "markdown",
   "metadata": {},
   "source": [
    "# Descrição"
   ]
  },
  {
   "cell_type": "markdown",
   "metadata": {},
   "source": [
    "Neste notebook iremos formar uma tabela contendo o tempo e distância de todos os pares origem e destino de municípios do Brasil oriundo da tabela de procedimentos."
   ]
  },
  {
   "cell_type": "markdown",
   "metadata": {},
   "source": [
    "# Tabelas base"
   ]
  },
  {
   "cell_type": "markdown",
   "metadata": {},
   "source": [
    "## Tabela Distâncias"
   ]
  },
  {
   "cell_type": "markdown",
   "metadata": {},
   "source": [
    "### Colunas"
   ]
  },
  {
   "cell_type": "markdown",
   "metadata": {},
   "source": [
    "### Carregando tabela"
   ]
  },
  {
   "cell_type": "code",
   "execution_count": 2,
   "metadata": {},
   "outputs": [
    {
     "data": {
      "text/html": [
       "<div class='datatable'>\n",
       "  <table class='frame'>\n",
       "  <thead>\n",
       "    <tr class='colnames'><td class='row_index'></td><th>origem</th><th>destino</th><th>distancia</th><th>tempo</th></tr>\n",
       "    <tr class='coltypes'><td class='row_index'></td><td class='int' title='int64'>&#x25AA;&#x25AA;&#x25AA;&#x25AA;&#x25AA;&#x25AA;&#x25AA;&#x25AA;</td><td class='int' title='int64'>&#x25AA;&#x25AA;&#x25AA;&#x25AA;&#x25AA;&#x25AA;&#x25AA;&#x25AA;</td><td class='float' title='float64'>&#x25AA;&#x25AA;&#x25AA;&#x25AA;&#x25AA;&#x25AA;&#x25AA;&#x25AA;</td><td class='float' title='float64'>&#x25AA;&#x25AA;&#x25AA;&#x25AA;&#x25AA;&#x25AA;&#x25AA;&#x25AA;</td></tr>\n",
       "  </thead>\n",
       "  <tbody>\n",
       "    <tr><td class='row_index'>0</td><td>110001</td><td>110001</td><td>0</td><td>0</td></tr>\n",
       "    <tr><td class='row_index'>1</td><td>110001</td><td>110002</td><td>309.05</td><td>6.16906</td></tr>\n",
       "    <tr><td class='row_index'>2</td><td>110001</td><td>110003</td><td>399.5</td><td>6.28906</td></tr>\n",
       "    <tr><td class='row_index'>3</td><td>110001</td><td>110004</td><td>81.2011</td><td>1.91775</td></tr>\n",
       "    <tr><td class='row_index'>4</td><td>110001</td><td>110005</td><td>391.704</td><td>6.13636</td></tr>\n",
       "    <tr><td class='row_index'>5</td><td>110001</td><td>110006</td><td>353.417</td><td>5.53989</td></tr>\n",
       "    <tr><td class='row_index'>6</td><td>110001</td><td>110007</td><td>313.592</td><td>6.18117</td></tr>\n",
       "    <tr><td class='row_index'>7</td><td>110001</td><td>110008</td><td>326.983</td><td>5.34175</td></tr>\n",
       "    <tr><td class='row_index'>8</td><td>110001</td><td>110009</td><td>145.678</td><td>2.346</td></tr>\n",
       "    <tr><td class='row_index'>9</td><td>110001</td><td>110010</td><td>649.545</td><td>13.405</td></tr>\n",
       "    <tr><td class='row_index'>10</td><td>110001</td><td>110011</td><td>214.125</td><td>3.83481</td></tr>\n",
       "    <tr><td class='row_index'>11</td><td>110001</td><td>110012</td><td>130.77</td><td>2.54781</td></tr>\n",
       "    <tr><td class='row_index'>12</td><td>110001</td><td>110013</td><td>357.511</td><td>7.13067</td></tr>\n",
       "    <tr><td class='row_index'>13</td><td>110001</td><td>110014</td><td>60.2103</td><td>1.02275</td></tr>\n",
       "    <tr><td class='row_index'>14</td><td>110001</td><td>110015</td><td>172.926</td><td>3.18425</td></tr>\n",
       "    <tr><td class='row_index'>&#x22EE;</td><td class='hellipsis'>&#x22EE;</td><td class='hellipsis'>&#x22EE;</td><td class='hellipsis'>&#x22EE;</td><td class='hellipsis'>&#x22EE;</td></tr>\n",
       "    <tr><td class='row_index'>31,024,895</td><td>530010</td><td>522200</td><td>161.729</td><td>2.356</td></tr>\n",
       "    <tr><td class='row_index'>31,024,896</td><td>530010</td><td>522205</td><td>382.709</td><td>5.47956</td></tr>\n",
       "    <tr><td class='row_index'>31,024,897</td><td>530010</td><td>522220</td><td>161.603</td><td>2.24894</td></tr>\n",
       "    <tr><td class='row_index'>31,024,898</td><td>530010</td><td>522230</td><td>190.001</td><td>3.21608</td></tr>\n",
       "    <tr><td class='row_index'>31,024,899</td><td>530010</td><td>530010</td><td>0</td><td>0</td></tr>\n",
       "  </tbody>\n",
       "  </table>\n",
       "  <div class='footer'>\n",
       "    <div class='frame_dimensions'>31,024,900 rows &times; 4 columns</div>\n",
       "  </div>\n",
       "</div>\n"
      ],
      "text/plain": [
       "<Frame#7fb9ba538c60 31024900x4>"
      ]
     },
     "execution_count": 2,
     "metadata": {},
     "output_type": "execute_result"
    }
   ],
   "source": [
    "path_dist = get_path('DISTANCIAS', 'distancias.jay')\n",
    "df_dist = dt.fread(path_dist)\n",
    "df_dist"
   ]
  },
  {
   "cell_type": "markdown",
   "metadata": {},
   "source": [
    "### Convertendo pra minutos"
   ]
  },
  {
   "cell_type": "code",
   "execution_count": 3,
   "metadata": {},
   "outputs": [
    {
     "data": {
      "text/html": [
       "<div class='datatable'>\n",
       "  <table class='frame'>\n",
       "  <thead>\n",
       "    <tr class='colnames'><td class='row_index'></td><th>origem</th><th>destino</th><th>distancia</th><th>tempo</th></tr>\n",
       "    <tr class='coltypes'><td class='row_index'></td><td class='int' title='int64'>&#x25AA;&#x25AA;&#x25AA;&#x25AA;&#x25AA;&#x25AA;&#x25AA;&#x25AA;</td><td class='int' title='int64'>&#x25AA;&#x25AA;&#x25AA;&#x25AA;&#x25AA;&#x25AA;&#x25AA;&#x25AA;</td><td class='float' title='float64'>&#x25AA;&#x25AA;&#x25AA;&#x25AA;&#x25AA;&#x25AA;&#x25AA;&#x25AA;</td><td class='float' title='float64'>&#x25AA;&#x25AA;&#x25AA;&#x25AA;&#x25AA;&#x25AA;&#x25AA;&#x25AA;</td></tr>\n",
       "  </thead>\n",
       "  <tbody>\n",
       "    <tr><td class='row_index'>0</td><td>110001</td><td>110001</td><td>0</td><td>0</td></tr>\n",
       "    <tr><td class='row_index'>1</td><td>110001</td><td>110002</td><td>309.05</td><td>370.143</td></tr>\n",
       "    <tr><td class='row_index'>2</td><td>110001</td><td>110003</td><td>399.5</td><td>377.343</td></tr>\n",
       "    <tr><td class='row_index'>3</td><td>110001</td><td>110004</td><td>81.2011</td><td>115.065</td></tr>\n",
       "    <tr><td class='row_index'>4</td><td>110001</td><td>110005</td><td>391.704</td><td>368.182</td></tr>\n",
       "    <tr><td class='row_index'>5</td><td>110001</td><td>110006</td><td>353.417</td><td>332.393</td></tr>\n",
       "    <tr><td class='row_index'>6</td><td>110001</td><td>110007</td><td>313.592</td><td>370.87</td></tr>\n",
       "    <tr><td class='row_index'>7</td><td>110001</td><td>110008</td><td>326.983</td><td>320.505</td></tr>\n",
       "    <tr><td class='row_index'>8</td><td>110001</td><td>110009</td><td>145.678</td><td>140.76</td></tr>\n",
       "    <tr><td class='row_index'>9</td><td>110001</td><td>110010</td><td>649.545</td><td>804.3</td></tr>\n",
       "    <tr><td class='row_index'>10</td><td>110001</td><td>110011</td><td>214.125</td><td>230.088</td></tr>\n",
       "    <tr><td class='row_index'>11</td><td>110001</td><td>110012</td><td>130.77</td><td>152.868</td></tr>\n",
       "    <tr><td class='row_index'>12</td><td>110001</td><td>110013</td><td>357.511</td><td>427.84</td></tr>\n",
       "    <tr><td class='row_index'>13</td><td>110001</td><td>110014</td><td>60.2103</td><td>61.365</td></tr>\n",
       "    <tr><td class='row_index'>14</td><td>110001</td><td>110015</td><td>172.926</td><td>191.055</td></tr>\n",
       "    <tr><td class='row_index'>&#x22EE;</td><td class='hellipsis'>&#x22EE;</td><td class='hellipsis'>&#x22EE;</td><td class='hellipsis'>&#x22EE;</td><td class='hellipsis'>&#x22EE;</td></tr>\n",
       "    <tr><td class='row_index'>31,024,895</td><td>530010</td><td>522200</td><td>161.729</td><td>141.36</td></tr>\n",
       "    <tr><td class='row_index'>31,024,896</td><td>530010</td><td>522205</td><td>382.709</td><td>328.773</td></tr>\n",
       "    <tr><td class='row_index'>31,024,897</td><td>530010</td><td>522220</td><td>161.603</td><td>134.937</td></tr>\n",
       "    <tr><td class='row_index'>31,024,898</td><td>530010</td><td>522230</td><td>190.001</td><td>192.965</td></tr>\n",
       "    <tr><td class='row_index'>31,024,899</td><td>530010</td><td>530010</td><td>0</td><td>0</td></tr>\n",
       "  </tbody>\n",
       "  </table>\n",
       "  <div class='footer'>\n",
       "    <div class='frame_dimensions'>31,024,900 rows &times; 4 columns</div>\n",
       "  </div>\n",
       "</div>\n"
      ],
      "text/plain": [
       "<Frame#7fb9ba538c60 31024900x4>"
      ]
     },
     "execution_count": 3,
     "metadata": {},
     "output_type": "execute_result"
    }
   ],
   "source": [
    "df_dist[:, dt.update(tempo = f.tempo * 60)]\n",
    "df_dist"
   ]
  },
  {
   "cell_type": "markdown",
   "metadata": {},
   "source": [
    "### Renomeando colunas"
   ]
  },
  {
   "cell_type": "code",
   "execution_count": 4,
   "metadata": {},
   "outputs": [
    {
     "data": {
      "text/html": [
       "<div class='datatable'>\n",
       "  <table class='frame'>\n",
       "  <thead>\n",
       "    <tr class='colnames'><td class='row_index'></td><th>origem</th><th>destino</th><th>distancia (km)</th><th>tempo (min)</th></tr>\n",
       "    <tr class='coltypes'><td class='row_index'></td><td class='int' title='int64'>&#x25AA;&#x25AA;&#x25AA;&#x25AA;&#x25AA;&#x25AA;&#x25AA;&#x25AA;</td><td class='int' title='int64'>&#x25AA;&#x25AA;&#x25AA;&#x25AA;&#x25AA;&#x25AA;&#x25AA;&#x25AA;</td><td class='float' title='float64'>&#x25AA;&#x25AA;&#x25AA;&#x25AA;&#x25AA;&#x25AA;&#x25AA;&#x25AA;</td><td class='float' title='float64'>&#x25AA;&#x25AA;&#x25AA;&#x25AA;&#x25AA;&#x25AA;&#x25AA;&#x25AA;</td></tr>\n",
       "  </thead>\n",
       "  <tbody>\n",
       "    <tr><td class='row_index'>0</td><td>110001</td><td>110001</td><td>0</td><td>0</td></tr>\n",
       "    <tr><td class='row_index'>1</td><td>110001</td><td>110002</td><td>309.05</td><td>370.143</td></tr>\n",
       "    <tr><td class='row_index'>2</td><td>110001</td><td>110003</td><td>399.5</td><td>377.343</td></tr>\n",
       "    <tr><td class='row_index'>3</td><td>110001</td><td>110004</td><td>81.2011</td><td>115.065</td></tr>\n",
       "    <tr><td class='row_index'>4</td><td>110001</td><td>110005</td><td>391.704</td><td>368.182</td></tr>\n",
       "    <tr><td class='row_index'>5</td><td>110001</td><td>110006</td><td>353.417</td><td>332.393</td></tr>\n",
       "    <tr><td class='row_index'>6</td><td>110001</td><td>110007</td><td>313.592</td><td>370.87</td></tr>\n",
       "    <tr><td class='row_index'>7</td><td>110001</td><td>110008</td><td>326.983</td><td>320.505</td></tr>\n",
       "    <tr><td class='row_index'>8</td><td>110001</td><td>110009</td><td>145.678</td><td>140.76</td></tr>\n",
       "    <tr><td class='row_index'>9</td><td>110001</td><td>110010</td><td>649.545</td><td>804.3</td></tr>\n",
       "    <tr><td class='row_index'>10</td><td>110001</td><td>110011</td><td>214.125</td><td>230.088</td></tr>\n",
       "    <tr><td class='row_index'>11</td><td>110001</td><td>110012</td><td>130.77</td><td>152.868</td></tr>\n",
       "    <tr><td class='row_index'>12</td><td>110001</td><td>110013</td><td>357.511</td><td>427.84</td></tr>\n",
       "    <tr><td class='row_index'>13</td><td>110001</td><td>110014</td><td>60.2103</td><td>61.365</td></tr>\n",
       "    <tr><td class='row_index'>14</td><td>110001</td><td>110015</td><td>172.926</td><td>191.055</td></tr>\n",
       "    <tr><td class='row_index'>&#x22EE;</td><td class='hellipsis'>&#x22EE;</td><td class='hellipsis'>&#x22EE;</td><td class='hellipsis'>&#x22EE;</td><td class='hellipsis'>&#x22EE;</td></tr>\n",
       "    <tr><td class='row_index'>31,024,895</td><td>530010</td><td>522200</td><td>161.729</td><td>141.36</td></tr>\n",
       "    <tr><td class='row_index'>31,024,896</td><td>530010</td><td>522205</td><td>382.709</td><td>328.773</td></tr>\n",
       "    <tr><td class='row_index'>31,024,897</td><td>530010</td><td>522220</td><td>161.603</td><td>134.937</td></tr>\n",
       "    <tr><td class='row_index'>31,024,898</td><td>530010</td><td>522230</td><td>190.001</td><td>192.965</td></tr>\n",
       "    <tr><td class='row_index'>31,024,899</td><td>530010</td><td>530010</td><td>0</td><td>0</td></tr>\n",
       "  </tbody>\n",
       "  </table>\n",
       "  <div class='footer'>\n",
       "    <div class='frame_dimensions'>31,024,900 rows &times; 4 columns</div>\n",
       "  </div>\n",
       "</div>\n"
      ],
      "text/plain": [
       "<Frame#7fb9ba538c60 31024900x4>"
      ]
     },
     "execution_count": 4,
     "metadata": {},
     "output_type": "execute_result"
    }
   ],
   "source": [
    "df_dist.names = {\n",
    "  'distancia': 'distancia (km)',\n",
    "  'tempo': 'tempo (min)'}\n",
    "df_dist"
   ]
  },
  {
   "cell_type": "markdown",
   "metadata": {},
   "source": [
    "## Tabela Procedimentos"
   ]
  },
  {
   "cell_type": "markdown",
   "metadata": {},
   "source": [
    "### Colunas da tabela"
   ]
  },
  {
   "cell_type": "code",
   "execution_count": 5,
   "metadata": {},
   "outputs": [],
   "source": [
    "cols_sih = {\n",
    "  'cod_municipio': 'origem',\n",
    "  'hosp_cod_municipio': 'destino',\n",
    "}"
   ]
  },
  {
   "cell_type": "markdown",
   "metadata": {},
   "source": [
    "### Carregando tabela"
   ]
  },
  {
   "cell_type": "code",
   "execution_count": 6,
   "metadata": {},
   "outputs": [
    {
     "data": {
      "text/html": [
       "<div class='datatable'>\n",
       "  <table class='frame'>\n",
       "  <thead>\n",
       "    <tr class='colnames'><td class='row_index'></td><th>origem</th><th>destino</th></tr>\n",
       "    <tr class='coltypes'><td class='row_index'></td><td class='int' title='int32'>&#x25AA;&#x25AA;&#x25AA;&#x25AA;</td><td class='int' title='int32'>&#x25AA;&#x25AA;&#x25AA;&#x25AA;</td></tr>\n",
       "  </thead>\n",
       "  <tbody>\n",
       "    <tr><td class='row_index'>0</td><td>120005</td><td>120005</td></tr>\n",
       "    <tr><td class='row_index'>1</td><td>120040</td><td>120040</td></tr>\n",
       "    <tr><td class='row_index'>2</td><td>120040</td><td>120040</td></tr>\n",
       "    <tr><td class='row_index'>3</td><td>120040</td><td>120040</td></tr>\n",
       "    <tr><td class='row_index'>4</td><td>120040</td><td>120040</td></tr>\n",
       "    <tr><td class='row_index'>5</td><td>120040</td><td>120040</td></tr>\n",
       "    <tr><td class='row_index'>6</td><td>120040</td><td>120040</td></tr>\n",
       "    <tr><td class='row_index'>7</td><td>120005</td><td>120005</td></tr>\n",
       "    <tr><td class='row_index'>8</td><td>120040</td><td>120040</td></tr>\n",
       "    <tr><td class='row_index'>9</td><td>120040</td><td>120040</td></tr>\n",
       "    <tr><td class='row_index'>10</td><td>120005</td><td>120005</td></tr>\n",
       "    <tr><td class='row_index'>11</td><td>120038</td><td>120040</td></tr>\n",
       "    <tr><td class='row_index'>12</td><td>120040</td><td>120040</td></tr>\n",
       "    <tr><td class='row_index'>13</td><td>120001</td><td>120040</td></tr>\n",
       "    <tr><td class='row_index'>14</td><td>120040</td><td>120040</td></tr>\n",
       "    <tr><td class='row_index'>&#x22EE;</td><td class='hellipsis'>&#x22EE;</td><td class='hellipsis'>&#x22EE;</td></tr>\n",
       "    <tr><td class='row_index'>17,106,396</td><td>171840</td><td>170930</td></tr>\n",
       "    <tr><td class='row_index'>17,106,397</td><td>171670</td><td>170930</td></tr>\n",
       "    <tr><td class='row_index'>17,106,398</td><td>171670</td><td>170930</td></tr>\n",
       "    <tr><td class='row_index'>17,106,399</td><td>170930</td><td>170930</td></tr>\n",
       "    <tr><td class='row_index'>17,106,400</td><td>171250</td><td>171610</td></tr>\n",
       "  </tbody>\n",
       "  </table>\n",
       "  <div class='footer'>\n",
       "    <div class='frame_dimensions'>17,106,401 rows &times; 2 columns</div>\n",
       "  </div>\n",
       "</div>\n"
      ],
      "text/plain": [
       "<Frame#7fb9ba538de0 17106401x2>"
      ]
     },
     "execution_count": 6,
     "metadata": {},
     "output_type": "execute_result"
    }
   ],
   "source": [
    "path_sih = get_path('SIH', 'sih.jay')\n",
    "df_sih = dt.fread(path_sih)\n",
    "df_sih = df_sih[:, list(cols_sih)]\n",
    "df_sih.names = cols_sih\n",
    "df_sih"
   ]
  },
  {
   "cell_type": "markdown",
   "metadata": {},
   "source": [
    "### Tabela agrupada"
   ]
  },
  {
   "cell_type": "code",
   "execution_count": 7,
   "metadata": {},
   "outputs": [
    {
     "data": {
      "text/html": [
       "<div class='datatable'>\n",
       "  <table class='frame'>\n",
       "  <thead>\n",
       "    <tr class='colnames'><td class='row_index'></td><th>origem</th><th>destino</th><th>count</th></tr>\n",
       "    <tr class='coltypes'><td class='row_index'></td><td class='int' title='int32'>&#x25AA;&#x25AA;&#x25AA;&#x25AA;</td><td class='int' title='int32'>&#x25AA;&#x25AA;&#x25AA;&#x25AA;</td><td class='int' title='int64'>&#x25AA;&#x25AA;&#x25AA;&#x25AA;&#x25AA;&#x25AA;&#x25AA;&#x25AA;</td></tr>\n",
       "  </thead>\n",
       "  <tbody>\n",
       "    <tr><td class='row_index'>0</td><td>355030</td><td>355030</td><td>789070</td></tr>\n",
       "    <tr><td class='row_index'>1</td><td>330455</td><td>330455</td><td>358134</td></tr>\n",
       "    <tr><td class='row_index'>2</td><td>130260</td><td>130260</td><td>296660</td></tr>\n",
       "    <tr><td class='row_index'>3</td><td>530010</td><td>530010</td><td>288921</td></tr>\n",
       "    <tr><td class='row_index'>4</td><td>230440</td><td>230440</td><td>196047</td></tr>\n",
       "    <tr><td class='row_index'>5</td><td>292740</td><td>292740</td><td>165828</td></tr>\n",
       "    <tr><td class='row_index'>6</td><td>310620</td><td>310620</td><td>123927</td></tr>\n",
       "    <tr><td class='row_index'>7</td><td>150140</td><td>150140</td><td>120647</td></tr>\n",
       "    <tr><td class='row_index'>8</td><td>431490</td><td>431490</td><td>104714</td></tr>\n",
       "    <tr><td class='row_index'>9</td><td>410690</td><td>410690</td><td>100193</td></tr>\n",
       "    <tr><td class='row_index'>10</td><td>270430</td><td>270430</td><td>93156</td></tr>\n",
       "    <tr><td class='row_index'>11</td><td>520870</td><td>520870</td><td>88967</td></tr>\n",
       "    <tr><td class='row_index'>12</td><td>351880</td><td>351880</td><td>88678</td></tr>\n",
       "    <tr><td class='row_index'>13</td><td>221100</td><td>221100</td><td>85833</td></tr>\n",
       "    <tr><td class='row_index'>14</td><td>500270</td><td>500270</td><td>84315</td></tr>\n",
       "    <tr><td class='row_index'>&#x22EE;</td><td class='hellipsis'>&#x22EE;</td><td class='hellipsis'>&#x22EE;</td><td class='hellipsis'>&#x22EE;</td></tr>\n",
       "    <tr><td class='row_index'>71,833</td><td>530010</td><td>521308</td><td>1</td></tr>\n",
       "    <tr><td class='row_index'>71,834</td><td>530010</td><td>521770</td><td>1</td></tr>\n",
       "    <tr><td class='row_index'>71,835</td><td>530010</td><td>522000</td><td>1</td></tr>\n",
       "    <tr><td class='row_index'>71,836</td><td>530010</td><td>522020</td><td>1</td></tr>\n",
       "    <tr><td class='row_index'>71,837</td><td>530010</td><td>522045</td><td>1</td></tr>\n",
       "  </tbody>\n",
       "  </table>\n",
       "  <div class='footer'>\n",
       "    <div class='frame_dimensions'>71,838 rows &times; 3 columns</div>\n",
       "  </div>\n",
       "</div>\n"
      ],
      "text/plain": [
       "<Frame#7fb9ba54bea0 71838x3>"
      ]
     },
     "execution_count": 7,
     "metadata": {},
     "output_type": "execute_result"
    }
   ],
   "source": [
    "df_sih = group_cols(df_sih, list(cols_sih.values()))\n",
    "df_sih = df_sih.sort(-f.count)\n",
    "df_sih"
   ]
  },
  {
   "cell_type": "markdown",
   "metadata": {},
   "source": [
    "# Gerando tabela"
   ]
  },
  {
   "cell_type": "code",
   "execution_count": 8,
   "metadata": {},
   "outputs": [
    {
     "data": {
      "text/html": [
       "<div class='datatable'>\n",
       "  <table class='frame'>\n",
       "  <thead>\n",
       "    <tr class='colnames'><th class='row_index'>origem</th><th class='row_index'>destino</th><th>distancia (km)</th><th>tempo (min)</th></tr>\n",
       "    <tr class='coltypes'><td class='int' title='int64'>&#x25AA;&#x25AA;&#x25AA;&#x25AA;&#x25AA;&#x25AA;&#x25AA;&#x25AA;</td><td class='int' title='int64'>&#x25AA;&#x25AA;&#x25AA;&#x25AA;&#x25AA;&#x25AA;&#x25AA;&#x25AA;</td><td class='float' title='float64'>&#x25AA;&#x25AA;&#x25AA;&#x25AA;&#x25AA;&#x25AA;&#x25AA;&#x25AA;</td><td class='float' title='float64'>&#x25AA;&#x25AA;&#x25AA;&#x25AA;&#x25AA;&#x25AA;&#x25AA;&#x25AA;</td></tr>\n",
       "  </thead>\n",
       "  <tbody>\n",
       "    <tr><td class='row_index'>110001</td><td class='row_index'>110001</td><td>0</td><td>0</td></tr>\n",
       "    <tr><td class='row_index'>110001</td><td class='row_index'>110002</td><td>309.05</td><td>370.143</td></tr>\n",
       "    <tr><td class='row_index'>110001</td><td class='row_index'>110003</td><td>399.5</td><td>377.343</td></tr>\n",
       "    <tr><td class='row_index'>110001</td><td class='row_index'>110004</td><td>81.2011</td><td>115.065</td></tr>\n",
       "    <tr><td class='row_index'>110001</td><td class='row_index'>110005</td><td>391.704</td><td>368.182</td></tr>\n",
       "    <tr><td class='row_index'>110001</td><td class='row_index'>110006</td><td>353.417</td><td>332.393</td></tr>\n",
       "    <tr><td class='row_index'>110001</td><td class='row_index'>110007</td><td>313.592</td><td>370.87</td></tr>\n",
       "    <tr><td class='row_index'>110001</td><td class='row_index'>110008</td><td>326.983</td><td>320.505</td></tr>\n",
       "    <tr><td class='row_index'>110001</td><td class='row_index'>110009</td><td>145.678</td><td>140.76</td></tr>\n",
       "    <tr><td class='row_index'>110001</td><td class='row_index'>110010</td><td>649.545</td><td>804.3</td></tr>\n",
       "    <tr><td class='row_index'>110001</td><td class='row_index'>110011</td><td>214.125</td><td>230.088</td></tr>\n",
       "    <tr><td class='row_index'>110001</td><td class='row_index'>110012</td><td>130.77</td><td>152.868</td></tr>\n",
       "    <tr><td class='row_index'>110001</td><td class='row_index'>110013</td><td>357.511</td><td>427.84</td></tr>\n",
       "    <tr><td class='row_index'>110001</td><td class='row_index'>110014</td><td>60.2103</td><td>61.365</td></tr>\n",
       "    <tr><td class='row_index'>110001</td><td class='row_index'>110015</td><td>172.926</td><td>191.055</td></tr>\n",
       "    <tr><td class='hellipsis'>&#x22EE;</td><td class='hellipsis'>&#x22EE;</td><td class='hellipsis'>&#x22EE;</td><td class='hellipsis'>&#x22EE;</td></tr>\n",
       "    <tr><td class='row_index'>530010</td><td class='row_index'>522200</td><td>161.729</td><td>141.36</td></tr>\n",
       "    <tr><td class='row_index'>530010</td><td class='row_index'>522205</td><td>382.709</td><td>328.773</td></tr>\n",
       "    <tr><td class='row_index'>530010</td><td class='row_index'>522220</td><td>161.603</td><td>134.937</td></tr>\n",
       "    <tr><td class='row_index'>530010</td><td class='row_index'>522230</td><td>190.001</td><td>192.965</td></tr>\n",
       "    <tr><td class='row_index'>530010</td><td class='row_index'>530010</td><td>0</td><td>0</td></tr>\n",
       "  </tbody>\n",
       "  </table>\n",
       "  <div class='footer'>\n",
       "    <div class='frame_dimensions'>31,024,900 rows &times; 4 columns</div>\n",
       "  </div>\n",
       "</div>\n"
      ],
      "text/plain": [
       "<Frame#7fb9ba538c60 31024900x4>"
      ]
     },
     "execution_count": 8,
     "metadata": {},
     "output_type": "execute_result"
    }
   ],
   "source": [
    "df_dist.key = ['origem', 'destino']\n",
    "df_dist"
   ]
  },
  {
   "cell_type": "code",
   "execution_count": 9,
   "metadata": {},
   "outputs": [
    {
     "data": {
      "text/html": [
       "<div class='datatable'>\n",
       "  <table class='frame'>\n",
       "  <thead>\n",
       "    <tr class='colnames'><td class='row_index'></td><th>origem</th><th>destino</th><th>distancia (km)</th><th>tempo (min)</th><th>count</th></tr>\n",
       "    <tr class='coltypes'><td class='row_index'></td><td class='int' title='int32'>&#x25AA;&#x25AA;&#x25AA;&#x25AA;</td><td class='int' title='int32'>&#x25AA;&#x25AA;&#x25AA;&#x25AA;</td><td class='float' title='float64'>&#x25AA;&#x25AA;&#x25AA;&#x25AA;&#x25AA;&#x25AA;&#x25AA;&#x25AA;</td><td class='float' title='float64'>&#x25AA;&#x25AA;&#x25AA;&#x25AA;&#x25AA;&#x25AA;&#x25AA;&#x25AA;</td><td class='int' title='int64'>&#x25AA;&#x25AA;&#x25AA;&#x25AA;&#x25AA;&#x25AA;&#x25AA;&#x25AA;</td></tr>\n",
       "  </thead>\n",
       "  <tbody>\n",
       "    <tr><td class='row_index'>0</td><td>355030</td><td>355030</td><td>0</td><td>0</td><td>789070</td></tr>\n",
       "    <tr><td class='row_index'>1</td><td>330455</td><td>330455</td><td>0</td><td>0</td><td>358134</td></tr>\n",
       "    <tr><td class='row_index'>2</td><td>130260</td><td>130260</td><td>0</td><td>0</td><td>296660</td></tr>\n",
       "    <tr><td class='row_index'>3</td><td>530010</td><td>530010</td><td>0</td><td>0</td><td>288921</td></tr>\n",
       "    <tr><td class='row_index'>4</td><td>230440</td><td>230440</td><td>0</td><td>0</td><td>196047</td></tr>\n",
       "    <tr><td class='row_index'>5</td><td>292740</td><td>292740</td><td>0</td><td>0</td><td>165828</td></tr>\n",
       "    <tr><td class='row_index'>6</td><td>310620</td><td>310620</td><td>0</td><td>0</td><td>123927</td></tr>\n",
       "    <tr><td class='row_index'>7</td><td>150140</td><td>150140</td><td>0</td><td>0</td><td>120647</td></tr>\n",
       "    <tr><td class='row_index'>8</td><td>431490</td><td>431490</td><td>0</td><td>0</td><td>104714</td></tr>\n",
       "    <tr><td class='row_index'>9</td><td>410690</td><td>410690</td><td>0</td><td>0</td><td>100193</td></tr>\n",
       "    <tr><td class='row_index'>10</td><td>270430</td><td>270430</td><td>0</td><td>0</td><td>93156</td></tr>\n",
       "    <tr><td class='row_index'>11</td><td>520870</td><td>520870</td><td>0</td><td>0</td><td>88967</td></tr>\n",
       "    <tr><td class='row_index'>12</td><td>351880</td><td>351880</td><td>0</td><td>0</td><td>88678</td></tr>\n",
       "    <tr><td class='row_index'>13</td><td>221100</td><td>221100</td><td>0</td><td>0</td><td>85833</td></tr>\n",
       "    <tr><td class='row_index'>14</td><td>500270</td><td>500270</td><td>0</td><td>0</td><td>84315</td></tr>\n",
       "    <tr><td class='row_index'>&#x22EE;</td><td class='hellipsis'>&#x22EE;</td><td class='hellipsis'>&#x22EE;</td><td class='hellipsis'>&#x22EE;</td><td class='hellipsis'>&#x22EE;</td><td class='hellipsis'>&#x22EE;</td></tr>\n",
       "    <tr><td class='row_index'>71,833</td><td>530010</td><td>521308</td><td>376.351</td><td>360.035</td><td>1</td></tr>\n",
       "    <tr><td class='row_index'>71,834</td><td>530010</td><td>521770</td><td>328.373</td><td>283.283</td><td>1</td></tr>\n",
       "    <tr><td class='row_index'>71,835</td><td>530010</td><td>522000</td><td>153.655</td><td>146.227</td><td>1</td></tr>\n",
       "    <tr><td class='row_index'>71,836</td><td>530010</td><td>522020</td><td>515.668</td><td>411.118</td><td>1</td></tr>\n",
       "    <tr><td class='row_index'>71,837</td><td>530010</td><td>522045</td><td>207.413</td><td>183.168</td><td>1</td></tr>\n",
       "  </tbody>\n",
       "  </table>\n",
       "  <div class='footer'>\n",
       "    <div class='frame_dimensions'>71,838 rows &times; 5 columns</div>\n",
       "  </div>\n",
       "</div>\n"
      ],
      "text/plain": [
       "<Frame#7fb9ba54bb70 71838x5>"
      ]
     },
     "execution_count": 9,
     "metadata": {},
     "output_type": "execute_result"
    }
   ],
   "source": [
    "df_dist = df_sih[:, :, dt.join(df_dist)]\n",
    "cols_order = ['origem', 'destino', 'distancia (km)', 'tempo (min)', 'count']\n",
    "df_dist = df_dist[:, cols_order]\n",
    "df_dist"
   ]
  },
  {
   "cell_type": "markdown",
   "metadata": {},
   "source": [
    "# Exportando tabela"
   ]
  },
  {
   "cell_type": "code",
   "execution_count": 10,
   "metadata": {},
   "outputs": [],
   "source": [
    "output_dist = get_path('DISTANCIAS', 'distancias.csv.gzip')\n",
    "df_dist.to_csv(output_dist)"
   ]
  },
  {
   "cell_type": "code",
   "execution_count": 11,
   "metadata": {},
   "outputs": [
    {
     "data": {
      "text/html": [
       "<div class='datatable'>\n",
       "  <table class='frame'>\n",
       "  <thead>\n",
       "    <tr class='colnames'><td class='row_index'></td><th>origem</th><th>destino</th><th>distancia (km)</th><th>tempo (min)</th><th>count</th></tr>\n",
       "    <tr class='coltypes'><td class='row_index'></td><td class='int' title='int32'>&#x25AA;&#x25AA;&#x25AA;&#x25AA;</td><td class='int' title='int32'>&#x25AA;&#x25AA;&#x25AA;&#x25AA;</td><td class='float' title='float64'>&#x25AA;&#x25AA;&#x25AA;&#x25AA;&#x25AA;&#x25AA;&#x25AA;&#x25AA;</td><td class='float' title='float64'>&#x25AA;&#x25AA;&#x25AA;&#x25AA;&#x25AA;&#x25AA;&#x25AA;&#x25AA;</td><td class='int' title='int32'>&#x25AA;&#x25AA;&#x25AA;&#x25AA;</td></tr>\n",
       "  </thead>\n",
       "  <tbody>\n",
       "    <tr><td class='row_index'>0</td><td>355030</td><td>355030</td><td>0</td><td>0</td><td>789070</td></tr>\n",
       "    <tr><td class='row_index'>1</td><td>330455</td><td>330455</td><td>0</td><td>0</td><td>358134</td></tr>\n",
       "    <tr><td class='row_index'>2</td><td>130260</td><td>130260</td><td>0</td><td>0</td><td>296660</td></tr>\n",
       "    <tr><td class='row_index'>3</td><td>530010</td><td>530010</td><td>0</td><td>0</td><td>288921</td></tr>\n",
       "    <tr><td class='row_index'>4</td><td>230440</td><td>230440</td><td>0</td><td>0</td><td>196047</td></tr>\n",
       "    <tr><td class='row_index'>5</td><td>292740</td><td>292740</td><td>0</td><td>0</td><td>165828</td></tr>\n",
       "    <tr><td class='row_index'>6</td><td>310620</td><td>310620</td><td>0</td><td>0</td><td>123927</td></tr>\n",
       "    <tr><td class='row_index'>7</td><td>150140</td><td>150140</td><td>0</td><td>0</td><td>120647</td></tr>\n",
       "    <tr><td class='row_index'>8</td><td>431490</td><td>431490</td><td>0</td><td>0</td><td>104714</td></tr>\n",
       "    <tr><td class='row_index'>9</td><td>410690</td><td>410690</td><td>0</td><td>0</td><td>100193</td></tr>\n",
       "    <tr><td class='row_index'>10</td><td>270430</td><td>270430</td><td>0</td><td>0</td><td>93156</td></tr>\n",
       "    <tr><td class='row_index'>11</td><td>520870</td><td>520870</td><td>0</td><td>0</td><td>88967</td></tr>\n",
       "    <tr><td class='row_index'>12</td><td>351880</td><td>351880</td><td>0</td><td>0</td><td>88678</td></tr>\n",
       "    <tr><td class='row_index'>13</td><td>221100</td><td>221100</td><td>0</td><td>0</td><td>85833</td></tr>\n",
       "    <tr><td class='row_index'>14</td><td>500270</td><td>500270</td><td>0</td><td>0</td><td>84315</td></tr>\n",
       "    <tr><td class='row_index'>&#x22EE;</td><td class='hellipsis'>&#x22EE;</td><td class='hellipsis'>&#x22EE;</td><td class='hellipsis'>&#x22EE;</td><td class='hellipsis'>&#x22EE;</td><td class='hellipsis'>&#x22EE;</td></tr>\n",
       "    <tr><td class='row_index'>71,833</td><td>530010</td><td>521308</td><td>376.351</td><td>360.035</td><td>1</td></tr>\n",
       "    <tr><td class='row_index'>71,834</td><td>530010</td><td>521770</td><td>328.373</td><td>283.283</td><td>1</td></tr>\n",
       "    <tr><td class='row_index'>71,835</td><td>530010</td><td>522000</td><td>153.655</td><td>146.227</td><td>1</td></tr>\n",
       "    <tr><td class='row_index'>71,836</td><td>530010</td><td>522020</td><td>515.668</td><td>411.118</td><td>1</td></tr>\n",
       "    <tr><td class='row_index'>71,837</td><td>530010</td><td>522045</td><td>207.413</td><td>183.168</td><td>1</td></tr>\n",
       "  </tbody>\n",
       "  </table>\n",
       "  <div class='footer'>\n",
       "    <div class='frame_dimensions'>71,838 rows &times; 5 columns</div>\n",
       "  </div>\n",
       "</div>\n"
      ],
      "text/plain": [
       "<Frame#7fb998add090 71838x5>"
      ]
     },
     "execution_count": 11,
     "metadata": {},
     "output_type": "execute_result"
    }
   ],
   "source": [
    "dt.fread(output_dist)"
   ]
  }
 ],
 "metadata": {
  "kernelspec": {
   "display_name": "Python 3.9.13 ('ds')",
   "language": "python",
   "name": "python3"
  },
  "language_info": {
   "codemirror_mode": {
    "name": "ipython",
    "version": 3
   },
   "file_extension": ".py",
   "mimetype": "text/x-python",
   "name": "python",
   "nbconvert_exporter": "python",
   "pygments_lexer": "ipython3",
   "version": "3.9.13"
  },
  "orig_nbformat": 4,
  "vscode": {
   "interpreter": {
    "hash": "7b36953cec1b75a8b331280ff7f7e2e00c70540f1d612023ca05354bbeabec70"
   }
  }
 },
 "nbformat": 4,
 "nbformat_minor": 2
}
