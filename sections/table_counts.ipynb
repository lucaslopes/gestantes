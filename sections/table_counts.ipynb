{
 "cells": [
  {
   "cell_type": "raw",
   "metadata": {},
   "source": [
    "---\n",
    "title: \"Contagens\"\n",
    "---"
   ]
  },
  {
   "cell_type": "code",
   "execution_count": 1,
   "metadata": {},
   "outputs": [
    {
     "data": {
      "text/html": [
       "<style type='text/css'>\n",
       ".datatable table.frame { margin-bottom: 0; }\n",
       ".datatable table.frame thead { border-bottom: none; }\n",
       ".datatable table.frame tr.coltypes td {  color: #FFFFFF;  line-height: 6px;  padding: 0 0.5em;}\n",
       ".datatable .bool    { background: #DDDD99; }\n",
       ".datatable .object  { background: #565656; }\n",
       ".datatable .int     { background: #5D9E5D; }\n",
       ".datatable .float   { background: #4040CC; }\n",
       ".datatable .str     { background: #CC4040; }\n",
       ".datatable .time    { background: #40CC40; }\n",
       ".datatable .row_index {  background: var(--jp-border-color3);  border-right: 1px solid var(--jp-border-color0);  color: var(--jp-ui-font-color3);  font-size: 9px;}\n",
       ".datatable .frame tbody td { text-align: left; }\n",
       ".datatable .frame tr.coltypes .row_index {  background: var(--jp-border-color0);}\n",
       ".datatable th:nth-child(2) { padding-left: 12px; }\n",
       ".datatable .hellipsis {  color: var(--jp-cell-editor-border-color);}\n",
       ".datatable .vellipsis {  background: var(--jp-layout-color0);  color: var(--jp-cell-editor-border-color);}\n",
       ".datatable .na {  color: var(--jp-cell-editor-border-color);  font-size: 80%;}\n",
       ".datatable .sp {  opacity: 0.25;}\n",
       ".datatable .footer { font-size: 9px; }\n",
       ".datatable .frame_dimensions {  background: var(--jp-border-color3);  border-top: 1px solid var(--jp-border-color0);  color: var(--jp-ui-font-color3);  display: inline-block;  opacity: 0.6;  padding: 1px 10px 1px 5px;}\n",
       "</style>\n"
      ],
      "text/plain": [
       "<IPython.core.display.HTML object>"
      ]
     },
     "metadata": {},
     "output_type": "display_data"
    }
   ],
   "source": [
    "import pandas as pd\n",
    "from utils import get_path, group_cols\n",
    "from datatable import dt, f, by"
   ]
  },
  {
   "cell_type": "markdown",
   "metadata": {},
   "source": [
    "# Descrição"
   ]
  },
  {
   "cell_type": "markdown",
   "metadata": {},
   "source": [
    "Neste notebook iremos formar a tabela deslocamento, com origem e destino."
   ]
  },
  {
   "cell_type": "markdown",
   "metadata": {},
   "source": [
    "# Gerando tabela"
   ]
  },
  {
   "cell_type": "code",
   "execution_count": 2,
   "metadata": {},
   "outputs": [],
   "source": [
    "def get_count_df(path_proc, ref):\n",
    "  cols_proc = {\n",
    "    'bienio': 'bienio', 'parto_normal': 'parto_normal',\n",
    "    ref: 'codigo', 'criticidade': 'criticidade',\n",
    "    'count': 'count', ...: None}\n",
    "  df_proc = dt.fread(path_proc, columns=cols_proc)\n",
    "  df_proc[:, dt.update(criticidade = f.criticidade != 0)]\n",
    "  df_proc = df_proc[:, dt.sum(f.count), by(df_proc.names[:-1])]\n",
    "  df_proc_total = df_proc[:, f[:].remove(f.criticidade)]\n",
    "  df_proc_total = df_proc_total[:, dt.sum(f.count), by(df_proc_total.names[:-1])]\n",
    "  df_proc_total.names = {'count': 'count_total'}\n",
    "  df_proc_critic = df_proc[f.criticidade == 1, f[:].remove(f.criticidade)]\n",
    "  df_proc_critic = df_proc_critic[:, dt.sum(f.count), by(df_proc_critic.names[:-1])]\n",
    "  df_proc_critic.names = {'count': 'count_critic'}\n",
    "  df_proc_critic.key = df_proc_critic.names[:-1]\n",
    "  df_counts = df_proc_total[:, :, dt.join(df_proc_critic)]\n",
    "  df_counts['count_critic'] = dt.Frame([\n",
    "    0 if c == None else c for c in df_counts['count_critic'].to_list()[0]])\n",
    "  df_counts['referencial'] = ref\n",
    "  cols_order = ['bienio', 'parto_normal', 'codigo', 'referencial', 'count_total', 'count_critic']\n",
    "  df_counts = df_counts[:, cols_order]\n",
    "  df_counts = df_counts.sort(f.bienio, f.parto_normal, -f.count_critic)\n",
    "  return df_counts"
   ]
  },
  {
   "cell_type": "code",
   "execution_count": 3,
   "metadata": {},
   "outputs": [
    {
     "data": {
      "text/html": [
       "<div class='datatable'>\n",
       "  <table class='frame'>\n",
       "  <thead>\n",
       "    <tr class='colnames'><td class='row_index'></td><th>bienio</th><th>parto_normal</th><th>codigo</th><th>referencial</th><th>count_total</th><th>count_critic</th></tr>\n",
       "    <tr class='coltypes'><td class='row_index'></td><td class='bool' title='bool8'>&#x25AA;</td><td class='bool' title='bool8'>&#x25AA;</td><td class='str' title='str32'>&#x25AA;&#x25AA;&#x25AA;&#x25AA;</td><td class='str' title='str32'>&#x25AA;&#x25AA;&#x25AA;&#x25AA;</td><td class='int' title='int64'>&#x25AA;&#x25AA;&#x25AA;&#x25AA;&#x25AA;&#x25AA;&#x25AA;&#x25AA;</td><td class='int' title='int32'>&#x25AA;&#x25AA;&#x25AA;&#x25AA;</td></tr>\n",
       "  </thead>\n",
       "  <tbody>\n",
       "    <tr><td class='row_index'>0</td><td>0</td><td>0</td><td>NT/PA/15006/150080</td><td>origem</td><td>6816</td><td>2638</td></tr>\n",
       "    <tr><td class='row_index'>1</td><td>0</td><td>0</td><td>ND/PE/26010/261160</td><td>origem</td><td>5177</td><td>2605</td></tr>\n",
       "    <tr><td class='row_index'>2</td><td>0</td><td>0</td><td>SD/ES/32002/320500</td><td>origem</td><td>4080</td><td>2263</td></tr>\n",
       "    <tr><td class='row_index'>3</td><td>0</td><td>0</td><td>SD/RJ/33005/330350</td><td>origem</td><td>2730</td><td>1951</td></tr>\n",
       "    <tr><td class='row_index'>4</td><td>0</td><td>0</td><td>CO/MT/51002/510840</td><td>origem</td><td>2061</td><td>1873</td></tr>\n",
       "    <tr><td class='row_index'>5</td><td>0</td><td>0</td><td>SD/ES/32002/320130</td><td>origem</td><td>3685</td><td>1525</td></tr>\n",
       "    <tr><td class='row_index'>6</td><td>0</td><td>0</td><td>ND/PE/26010/260790</td><td>origem</td><td>3274</td><td>1479</td></tr>\n",
       "    <tr><td class='row_index'>7</td><td>0</td><td>0</td><td>SD/RJ/33005/330455</td><td>origem</td><td>11372</td><td>1347</td></tr>\n",
       "    <tr><td class='row_index'>8</td><td>0</td><td>0</td><td>SD/ES/32002/320520</td><td>origem</td><td>3171</td><td>1215</td></tr>\n",
       "    <tr><td class='row_index'>9</td><td>0</td><td>0</td><td>ND/CE/23002/230370</td><td>origem</td><td>2763</td><td>1213</td></tr>\n",
       "    <tr><td class='row_index'>10</td><td>0</td><td>0</td><td>ND/PE/26010/260290</td><td>origem</td><td>1671</td><td>1153</td></tr>\n",
       "    <tr><td class='row_index'>11</td><td>0</td><td>0</td><td>SD/SP/35016/355030</td><td>origem</td><td>43210</td><td>1147</td></tr>\n",
       "    <tr><td class='row_index'>12</td><td>0</td><td>0</td><td>SD/SP/35013/351500</td><td>origem</td><td>1743</td><td>1134</td></tr>\n",
       "    <tr><td class='row_index'>13</td><td>0</td><td>0</td><td>SL/RS/43010/432300</td><td>origem</td><td>1558</td><td>1110</td></tr>\n",
       "    <tr><td class='row_index'>14</td><td>0</td><td>0</td><td>CO/GO/52002/520140</td><td>origem</td><td>3565</td><td>1098</td></tr>\n",
       "    <tr><td class='row_index'>&#x22EE;</td><td class='hellipsis'>&#x22EE;</td><td class='hellipsis'>&#x22EE;</td><td class='hellipsis'>&#x22EE;</td><td class='hellipsis'>&#x22EE;</td><td class='hellipsis'>&#x22EE;</td><td class='hellipsis'>&#x22EE;</td></tr>\n",
       "    <tr><td class='row_index'>34,262</td><td>1</td><td>1</td><td>SL/SC/42013/420260/2665085</td><td>destino</td><td>15</td><td>0</td></tr>\n",
       "    <tr><td class='row_index'>34,263</td><td>1</td><td>1</td><td>SL/SC/42013/420455/2300478</td><td>destino</td><td>1</td><td>0</td></tr>\n",
       "    <tr><td class='row_index'>34,264</td><td>1</td><td>1</td><td>SL/SC/42013/421890/2300885</td><td>destino</td><td>19</td><td>0</td></tr>\n",
       "    <tr><td class='row_index'>34,265</td><td>1</td><td>1</td><td>SL/SC/42015/421120/2419378</td><td>destino</td><td>2</td><td>0</td></tr>\n",
       "    <tr><td class='row_index'>34,266</td><td>1</td><td>1</td><td>SL/SC/42016/421840/2778858</td><td>destino</td><td>2</td><td>0</td></tr>\n",
       "  </tbody>\n",
       "  </table>\n",
       "  <div class='footer'>\n",
       "    <div class='frame_dimensions'>34,267 rows &times; 6 columns</div>\n",
       "  </div>\n",
       "</div>\n"
      ],
      "text/plain": [
       "<Frame#7f8f39fb42d0 34267x6>"
      ]
     },
     "execution_count": 3,
     "metadata": {},
     "output_type": "execute_result"
    }
   ],
   "source": [
    "path_proc = get_path('GESTANTES', 'procs_bienio.csv.gzip')\n",
    "refs = ['origem', 'destino']\n",
    "df_counts = dt.rbind(*[get_count_df(path_proc, ref) for ref in refs])\n",
    "df_counts"
   ]
  },
  {
   "cell_type": "markdown",
   "metadata": {},
   "source": [
    "# Exportando tabela"
   ]
  },
  {
   "cell_type": "code",
   "execution_count": 4,
   "metadata": {},
   "outputs": [],
   "source": [
    "output_counts = get_path('GESTANTES', 'contagens.csv.gzip')\n",
    "df_counts.to_csv(output_counts)"
   ]
  },
  {
   "cell_type": "code",
   "execution_count": 5,
   "metadata": {},
   "outputs": [
    {
     "data": {
      "text/html": [
       "<div class='datatable'>\n",
       "  <table class='frame'>\n",
       "  <thead>\n",
       "    <tr class='colnames'><td class='row_index'></td><th>bienio</th><th>parto_normal</th><th>codigo</th><th>referencial</th><th>count_total</th><th>count_critic</th></tr>\n",
       "    <tr class='coltypes'><td class='row_index'></td><td class='bool' title='bool8'>&#x25AA;</td><td class='bool' title='bool8'>&#x25AA;</td><td class='str' title='str32'>&#x25AA;&#x25AA;&#x25AA;&#x25AA;</td><td class='str' title='str32'>&#x25AA;&#x25AA;&#x25AA;&#x25AA;</td><td class='int' title='int32'>&#x25AA;&#x25AA;&#x25AA;&#x25AA;</td><td class='int' title='int32'>&#x25AA;&#x25AA;&#x25AA;&#x25AA;</td></tr>\n",
       "  </thead>\n",
       "  <tbody>\n",
       "    <tr><td class='row_index'>0</td><td>0</td><td>0</td><td>NT/PA/15006/150080</td><td>origem</td><td>6816</td><td>2638</td></tr>\n",
       "    <tr><td class='row_index'>1</td><td>0</td><td>0</td><td>ND/PE/26010/261160</td><td>origem</td><td>5177</td><td>2605</td></tr>\n",
       "    <tr><td class='row_index'>2</td><td>0</td><td>0</td><td>SD/ES/32002/320500</td><td>origem</td><td>4080</td><td>2263</td></tr>\n",
       "    <tr><td class='row_index'>3</td><td>0</td><td>0</td><td>SD/RJ/33005/330350</td><td>origem</td><td>2730</td><td>1951</td></tr>\n",
       "    <tr><td class='row_index'>4</td><td>0</td><td>0</td><td>CO/MT/51002/510840</td><td>origem</td><td>2061</td><td>1873</td></tr>\n",
       "    <tr><td class='row_index'>5</td><td>0</td><td>0</td><td>SD/ES/32002/320130</td><td>origem</td><td>3685</td><td>1525</td></tr>\n",
       "    <tr><td class='row_index'>6</td><td>0</td><td>0</td><td>ND/PE/26010/260790</td><td>origem</td><td>3274</td><td>1479</td></tr>\n",
       "    <tr><td class='row_index'>7</td><td>0</td><td>0</td><td>SD/RJ/33005/330455</td><td>origem</td><td>11372</td><td>1347</td></tr>\n",
       "    <tr><td class='row_index'>8</td><td>0</td><td>0</td><td>SD/ES/32002/320520</td><td>origem</td><td>3171</td><td>1215</td></tr>\n",
       "    <tr><td class='row_index'>9</td><td>0</td><td>0</td><td>ND/CE/23002/230370</td><td>origem</td><td>2763</td><td>1213</td></tr>\n",
       "    <tr><td class='row_index'>10</td><td>0</td><td>0</td><td>ND/PE/26010/260290</td><td>origem</td><td>1671</td><td>1153</td></tr>\n",
       "    <tr><td class='row_index'>11</td><td>0</td><td>0</td><td>SD/SP/35016/355030</td><td>origem</td><td>43210</td><td>1147</td></tr>\n",
       "    <tr><td class='row_index'>12</td><td>0</td><td>0</td><td>SD/SP/35013/351500</td><td>origem</td><td>1743</td><td>1134</td></tr>\n",
       "    <tr><td class='row_index'>13</td><td>0</td><td>0</td><td>SL/RS/43010/432300</td><td>origem</td><td>1558</td><td>1110</td></tr>\n",
       "    <tr><td class='row_index'>14</td><td>0</td><td>0</td><td>CO/GO/52002/520140</td><td>origem</td><td>3565</td><td>1098</td></tr>\n",
       "    <tr><td class='row_index'>&#x22EE;</td><td class='hellipsis'>&#x22EE;</td><td class='hellipsis'>&#x22EE;</td><td class='hellipsis'>&#x22EE;</td><td class='hellipsis'>&#x22EE;</td><td class='hellipsis'>&#x22EE;</td><td class='hellipsis'>&#x22EE;</td></tr>\n",
       "    <tr><td class='row_index'>34,262</td><td>1</td><td>1</td><td>SL/SC/42013/420260/2665085</td><td>destino</td><td>15</td><td>0</td></tr>\n",
       "    <tr><td class='row_index'>34,263</td><td>1</td><td>1</td><td>SL/SC/42013/420455/2300478</td><td>destino</td><td>1</td><td>0</td></tr>\n",
       "    <tr><td class='row_index'>34,264</td><td>1</td><td>1</td><td>SL/SC/42013/421890/2300885</td><td>destino</td><td>19</td><td>0</td></tr>\n",
       "    <tr><td class='row_index'>34,265</td><td>1</td><td>1</td><td>SL/SC/42015/421120/2419378</td><td>destino</td><td>2</td><td>0</td></tr>\n",
       "    <tr><td class='row_index'>34,266</td><td>1</td><td>1</td><td>SL/SC/42016/421840/2778858</td><td>destino</td><td>2</td><td>0</td></tr>\n",
       "  </tbody>\n",
       "  </table>\n",
       "  <div class='footer'>\n",
       "    <div class='frame_dimensions'>34,267 rows &times; 6 columns</div>\n",
       "  </div>\n",
       "</div>\n"
      ],
      "text/plain": [
       "<Frame#7f8f08061c30 34267x6>"
      ]
     },
     "execution_count": 5,
     "metadata": {},
     "output_type": "execute_result"
    }
   ],
   "source": [
    "dt.fread(output_counts)"
   ]
  }
 ],
 "metadata": {
  "kernelspec": {
   "display_name": "Python 3.9.13 ('ds')",
   "language": "python",
   "name": "python3"
  },
  "language_info": {
   "codemirror_mode": {
    "name": "ipython",
    "version": 3
   },
   "file_extension": ".py",
   "mimetype": "text/x-python",
   "name": "python",
   "nbconvert_exporter": "python",
   "pygments_lexer": "ipython3",
   "version": "3.9.13"
  },
  "orig_nbformat": 4,
  "vscode": {
   "interpreter": {
    "hash": "7b36953cec1b75a8b331280ff7f7e2e00c70540f1d612023ca05354bbeabec70"
   }
  }
 },
 "nbformat": 4,
 "nbformat_minor": 2
}
