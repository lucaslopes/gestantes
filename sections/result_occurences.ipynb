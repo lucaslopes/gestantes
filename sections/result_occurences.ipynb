{
 "cells": [
  {
   "cell_type": "raw",
   "metadata": {},
   "source": [
    "---\n",
    "title: \"Ocorrências\"\n",
    "---"
   ]
  },
  {
   "cell_type": "code",
   "execution_count": 1,
   "metadata": {},
   "outputs": [
    {
     "data": {
      "text/html": [
       "<style type='text/css'>\n",
       ".datatable table.frame { margin-bottom: 0; }\n",
       ".datatable table.frame thead { border-bottom: none; }\n",
       ".datatable table.frame tr.coltypes td {  color: #FFFFFF;  line-height: 6px;  padding: 0 0.5em;}\n",
       ".datatable .bool    { background: #DDDD99; }\n",
       ".datatable .object  { background: #565656; }\n",
       ".datatable .int     { background: #5D9E5D; }\n",
       ".datatable .float   { background: #4040CC; }\n",
       ".datatable .str     { background: #CC4040; }\n",
       ".datatable .time    { background: #40CC40; }\n",
       ".datatable .row_index {  background: var(--jp-border-color3);  border-right: 1px solid var(--jp-border-color0);  color: var(--jp-ui-font-color3);  font-size: 9px;}\n",
       ".datatable .frame tbody td { text-align: left; }\n",
       ".datatable .frame tr.coltypes .row_index {  background: var(--jp-border-color0);}\n",
       ".datatable th:nth-child(2) { padding-left: 12px; }\n",
       ".datatable .hellipsis {  color: var(--jp-cell-editor-border-color);}\n",
       ".datatable .vellipsis {  background: var(--jp-layout-color0);  color: var(--jp-cell-editor-border-color);}\n",
       ".datatable .na {  color: var(--jp-cell-editor-border-color);  font-size: 80%;}\n",
       ".datatable .sp {  opacity: 0.25;}\n",
       ".datatable .footer { font-size: 9px; }\n",
       ".datatable .frame_dimensions {  background: var(--jp-border-color3);  border-top: 1px solid var(--jp-border-color0);  color: var(--jp-ui-font-color3);  display: inline-block;  opacity: 0.6;  padding: 1px 10px 1px 5px;}\n",
       "</style>\n"
      ],
      "text/plain": [
       "<IPython.core.display.HTML object>"
      ]
     },
     "metadata": {},
     "output_type": "display_data"
    }
   ],
   "source": [
    "import sys\n",
    "import numpy as np\n",
    "import pandas as pd\n",
    "import plotly.graph_objects as go\n",
    "\n",
    "from datatable import dt, f, by\n",
    "\n",
    "from plotly import express as px, io as pio\n",
    "pd.options.plotting.backend = 'plotly'\n",
    "pio.renderers.default = 'plotly_mimetype+notebook_connected'\n",
    "\n",
    "from utils import get_path, data_load\n",
    "sys.path.insert(0, '../')\n",
    "from secret import API_KEY"
   ]
  },
  {
   "cell_type": "markdown",
   "metadata": {},
   "source": [
    "# Fontes de Dados"
   ]
  },
  {
   "cell_type": "markdown",
   "metadata": {},
   "source": [
    "## Procedimentos"
   ]
  },
  {
   "cell_type": "markdown",
   "metadata": {},
   "source": [
    "### Carregando tabela"
   ]
  },
  {
   "cell_type": "code",
   "execution_count": 2,
   "metadata": {},
   "outputs": [
    {
     "data": {
      "text/html": [
       "<div>\n",
       "<style scoped>\n",
       "    .dataframe tbody tr th:only-of-type {\n",
       "        vertical-align: middle;\n",
       "    }\n",
       "\n",
       "    .dataframe tbody tr th {\n",
       "        vertical-align: top;\n",
       "    }\n",
       "\n",
       "    .dataframe thead th {\n",
       "        text-align: right;\n",
       "    }\n",
       "</style>\n",
       "<table border=\"1\" class=\"dataframe\">\n",
       "  <thead>\n",
       "    <tr style=\"text-align: right;\">\n",
       "      <th></th>\n",
       "      <th>bienio</th>\n",
       "      <th>parto_normal</th>\n",
       "      <th>origem</th>\n",
       "      <th>destino</th>\n",
       "      <th>distancia (km)</th>\n",
       "      <th>tempo (min)</th>\n",
       "      <th>dist_pond</th>\n",
       "      <th>tempo_pond</th>\n",
       "      <th>criticidade</th>\n",
       "      <th>capitais</th>\n",
       "      <th>socioecon</th>\n",
       "      <th>origem_latitude</th>\n",
       "      <th>origem_longitude</th>\n",
       "      <th>destino_latitude</th>\n",
       "      <th>destino_longitude</th>\n",
       "      <th>count</th>\n",
       "    </tr>\n",
       "  </thead>\n",
       "  <tbody>\n",
       "    <tr>\n",
       "      <th>0</th>\n",
       "      <td>0</td>\n",
       "      <td>0</td>\n",
       "      <td>CO/DF/53001/530010</td>\n",
       "      <td>CO/DF/53001/530010/0010464</td>\n",
       "      <td>0.0000</td>\n",
       "      <td>0.000000</td>\n",
       "      <td>0.0000</td>\n",
       "      <td>0.000000</td>\n",
       "      <td>0</td>\n",
       "      <td>1_1</td>\n",
       "      <td>5_5</td>\n",
       "      <td>-15.7795</td>\n",
       "      <td>-47.9297</td>\n",
       "      <td>-15.7795</td>\n",
       "      <td>-47.9297</td>\n",
       "      <td>260</td>\n",
       "    </tr>\n",
       "    <tr>\n",
       "      <th>1</th>\n",
       "      <td>0</td>\n",
       "      <td>0</td>\n",
       "      <td>CO/DF/53001/530010</td>\n",
       "      <td>CO/DF/53001/530010/0010472</td>\n",
       "      <td>0.0000</td>\n",
       "      <td>0.000000</td>\n",
       "      <td>0.0000</td>\n",
       "      <td>0.000000</td>\n",
       "      <td>0</td>\n",
       "      <td>1_1</td>\n",
       "      <td>5_5</td>\n",
       "      <td>-15.7795</td>\n",
       "      <td>-47.9297</td>\n",
       "      <td>-15.7795</td>\n",
       "      <td>-47.9297</td>\n",
       "      <td>282</td>\n",
       "    </tr>\n",
       "    <tr>\n",
       "      <th>2</th>\n",
       "      <td>0</td>\n",
       "      <td>0</td>\n",
       "      <td>CO/DF/53001/530010</td>\n",
       "      <td>CO/DF/53001/530010/0010480</td>\n",
       "      <td>0.0000</td>\n",
       "      <td>0.000000</td>\n",
       "      <td>0.0000</td>\n",
       "      <td>0.000000</td>\n",
       "      <td>0</td>\n",
       "      <td>1_1</td>\n",
       "      <td>5_5</td>\n",
       "      <td>-15.7795</td>\n",
       "      <td>-47.9297</td>\n",
       "      <td>-15.7795</td>\n",
       "      <td>-47.9297</td>\n",
       "      <td>3323</td>\n",
       "    </tr>\n",
       "    <tr>\n",
       "      <th>3</th>\n",
       "      <td>0</td>\n",
       "      <td>0</td>\n",
       "      <td>CO/DF/53001/530010</td>\n",
       "      <td>CO/DF/53001/530010/0010499</td>\n",
       "      <td>0.0000</td>\n",
       "      <td>0.000000</td>\n",
       "      <td>0.0000</td>\n",
       "      <td>0.000000</td>\n",
       "      <td>0</td>\n",
       "      <td>1_1</td>\n",
       "      <td>5_5</td>\n",
       "      <td>-15.7795</td>\n",
       "      <td>-47.9297</td>\n",
       "      <td>-15.7795</td>\n",
       "      <td>-47.9297</td>\n",
       "      <td>3368</td>\n",
       "    </tr>\n",
       "    <tr>\n",
       "      <th>4</th>\n",
       "      <td>0</td>\n",
       "      <td>0</td>\n",
       "      <td>CO/DF/53001/530010</td>\n",
       "      <td>CO/DF/53001/530010/0010502</td>\n",
       "      <td>0.0000</td>\n",
       "      <td>0.000000</td>\n",
       "      <td>0.0000</td>\n",
       "      <td>0.000000</td>\n",
       "      <td>0</td>\n",
       "      <td>1_1</td>\n",
       "      <td>5_5</td>\n",
       "      <td>-15.7795</td>\n",
       "      <td>-47.9297</td>\n",
       "      <td>-15.7795</td>\n",
       "      <td>-47.9297</td>\n",
       "      <td>964</td>\n",
       "    </tr>\n",
       "    <tr>\n",
       "      <th>...</th>\n",
       "      <td>...</td>\n",
       "      <td>...</td>\n",
       "      <td>...</td>\n",
       "      <td>...</td>\n",
       "      <td>...</td>\n",
       "      <td>...</td>\n",
       "      <td>...</td>\n",
       "      <td>...</td>\n",
       "      <td>...</td>\n",
       "      <td>...</td>\n",
       "      <td>...</td>\n",
       "      <td>...</td>\n",
       "      <td>...</td>\n",
       "      <td>...</td>\n",
       "      <td>...</td>\n",
       "      <td>...</td>\n",
       "    </tr>\n",
       "    <tr>\n",
       "      <th>167211</th>\n",
       "      <td>1</td>\n",
       "      <td>1</td>\n",
       "      <td>SL/SC/42016/421870</td>\n",
       "      <td>SL/SC/42007/420540/3157245</td>\n",
       "      <td>138.4773</td>\n",
       "      <td>104.940000</td>\n",
       "      <td>138.4773</td>\n",
       "      <td>104.940000</td>\n",
       "      <td>2</td>\n",
       "      <td>0_1</td>\n",
       "      <td>3_5</td>\n",
       "      <td>-28.4713</td>\n",
       "      <td>-49.0144</td>\n",
       "      <td>-27.5945</td>\n",
       "      <td>-48.5477</td>\n",
       "      <td>1</td>\n",
       "    </tr>\n",
       "    <tr>\n",
       "      <th>167212</th>\n",
       "      <td>1</td>\n",
       "      <td>1</td>\n",
       "      <td>SL/SC/42016/421870</td>\n",
       "      <td>SL/SC/42015/420460/2594277</td>\n",
       "      <td>54.6210</td>\n",
       "      <td>49.316667</td>\n",
       "      <td>54.6210</td>\n",
       "      <td>49.316667</td>\n",
       "      <td>2</td>\n",
       "      <td>0_0</td>\n",
       "      <td>3_4</td>\n",
       "      <td>-28.4713</td>\n",
       "      <td>-49.0144</td>\n",
       "      <td>-28.6723</td>\n",
       "      <td>-49.3729</td>\n",
       "      <td>1</td>\n",
       "    </tr>\n",
       "    <tr>\n",
       "      <th>167213</th>\n",
       "      <td>1</td>\n",
       "      <td>1</td>\n",
       "      <td>SL/SC/42016/421870</td>\n",
       "      <td>SL/SC/42016/420280/2665883</td>\n",
       "      <td>35.5439</td>\n",
       "      <td>37.493333</td>\n",
       "      <td>71.0878</td>\n",
       "      <td>74.986667</td>\n",
       "      <td>1</td>\n",
       "      <td>0_0</td>\n",
       "      <td>3_3</td>\n",
       "      <td>-28.4713</td>\n",
       "      <td>-49.0144</td>\n",
       "      <td>-28.2681</td>\n",
       "      <td>-49.1701</td>\n",
       "      <td>2</td>\n",
       "    </tr>\n",
       "    <tr>\n",
       "      <th>167214</th>\n",
       "      <td>1</td>\n",
       "      <td>1</td>\n",
       "      <td>SL/SC/42016/421870</td>\n",
       "      <td>SL/SC/42016/420730/2385880</td>\n",
       "      <td>53.9610</td>\n",
       "      <td>45.353333</td>\n",
       "      <td>53.9610</td>\n",
       "      <td>45.353333</td>\n",
       "      <td>1</td>\n",
       "      <td>0_0</td>\n",
       "      <td>3_3</td>\n",
       "      <td>-28.4713</td>\n",
       "      <td>-49.0144</td>\n",
       "      <td>-28.2284</td>\n",
       "      <td>-48.6659</td>\n",
       "      <td>1</td>\n",
       "    </tr>\n",
       "    <tr>\n",
       "      <th>167215</th>\n",
       "      <td>1</td>\n",
       "      <td>1</td>\n",
       "      <td>SL/SC/42016/421870</td>\n",
       "      <td>SL/SC/42016/421870/2491710</td>\n",
       "      <td>0.0000</td>\n",
       "      <td>0.000000</td>\n",
       "      <td>0.0000</td>\n",
       "      <td>0.000000</td>\n",
       "      <td>0</td>\n",
       "      <td>0_0</td>\n",
       "      <td>3_3</td>\n",
       "      <td>-28.4713</td>\n",
       "      <td>-49.0144</td>\n",
       "      <td>-28.4713</td>\n",
       "      <td>-49.0144</td>\n",
       "      <td>441</td>\n",
       "    </tr>\n",
       "  </tbody>\n",
       "</table>\n",
       "<p>167216 rows × 16 columns</p>\n",
       "</div>"
      ],
      "text/plain": [
       "        bienio  parto_normal              origem                     destino  \\\n",
       "0            0             0  CO/DF/53001/530010  CO/DF/53001/530010/0010464   \n",
       "1            0             0  CO/DF/53001/530010  CO/DF/53001/530010/0010472   \n",
       "2            0             0  CO/DF/53001/530010  CO/DF/53001/530010/0010480   \n",
       "3            0             0  CO/DF/53001/530010  CO/DF/53001/530010/0010499   \n",
       "4            0             0  CO/DF/53001/530010  CO/DF/53001/530010/0010502   \n",
       "...        ...           ...                 ...                         ...   \n",
       "167211       1             1  SL/SC/42016/421870  SL/SC/42007/420540/3157245   \n",
       "167212       1             1  SL/SC/42016/421870  SL/SC/42015/420460/2594277   \n",
       "167213       1             1  SL/SC/42016/421870  SL/SC/42016/420280/2665883   \n",
       "167214       1             1  SL/SC/42016/421870  SL/SC/42016/420730/2385880   \n",
       "167215       1             1  SL/SC/42016/421870  SL/SC/42016/421870/2491710   \n",
       "\n",
       "        distancia (km)  tempo (min)  dist_pond  tempo_pond  criticidade  \\\n",
       "0               0.0000     0.000000     0.0000    0.000000            0   \n",
       "1               0.0000     0.000000     0.0000    0.000000            0   \n",
       "2               0.0000     0.000000     0.0000    0.000000            0   \n",
       "3               0.0000     0.000000     0.0000    0.000000            0   \n",
       "4               0.0000     0.000000     0.0000    0.000000            0   \n",
       "...                ...          ...        ...         ...          ...   \n",
       "167211        138.4773   104.940000   138.4773  104.940000            2   \n",
       "167212         54.6210    49.316667    54.6210   49.316667            2   \n",
       "167213         35.5439    37.493333    71.0878   74.986667            1   \n",
       "167214         53.9610    45.353333    53.9610   45.353333            1   \n",
       "167215          0.0000     0.000000     0.0000    0.000000            0   \n",
       "\n",
       "       capitais socioecon  origem_latitude  origem_longitude  \\\n",
       "0           1_1       5_5         -15.7795          -47.9297   \n",
       "1           1_1       5_5         -15.7795          -47.9297   \n",
       "2           1_1       5_5         -15.7795          -47.9297   \n",
       "3           1_1       5_5         -15.7795          -47.9297   \n",
       "4           1_1       5_5         -15.7795          -47.9297   \n",
       "...         ...       ...              ...               ...   \n",
       "167211      0_1       3_5         -28.4713          -49.0144   \n",
       "167212      0_0       3_4         -28.4713          -49.0144   \n",
       "167213      0_0       3_3         -28.4713          -49.0144   \n",
       "167214      0_0       3_3         -28.4713          -49.0144   \n",
       "167215      0_0       3_3         -28.4713          -49.0144   \n",
       "\n",
       "        destino_latitude  destino_longitude  count  \n",
       "0               -15.7795           -47.9297    260  \n",
       "1               -15.7795           -47.9297    282  \n",
       "2               -15.7795           -47.9297   3323  \n",
       "3               -15.7795           -47.9297   3368  \n",
       "4               -15.7795           -47.9297    964  \n",
       "...                  ...                ...    ...  \n",
       "167211          -27.5945           -48.5477      1  \n",
       "167212          -28.6723           -49.3729      1  \n",
       "167213          -28.2681           -49.1701      2  \n",
       "167214          -28.2284           -48.6659      1  \n",
       "167215          -28.4713           -49.0144    441  \n",
       "\n",
       "[167216 rows x 16 columns]"
      ]
     },
     "execution_count": 2,
     "metadata": {},
     "output_type": "execute_result"
    }
   ],
   "source": [
    "path_proc = get_path('GESTANTES', 'procs_bienio.csv.gzip')\n",
    "df_proc_bienio = pd.read_csv(path_proc)\n",
    "df_proc_bienio"
   ]
  },
  {
   "cell_type": "markdown",
   "metadata": {},
   "source": [
    "## Localidades"
   ]
  },
  {
   "cell_type": "markdown",
   "metadata": {},
   "source": [
    "### Carregando tabela"
   ]
  },
  {
   "cell_type": "code",
   "execution_count": 3,
   "metadata": {},
   "outputs": [
    {
     "data": {
      "text/html": [
       "<div>\n",
       "<style scoped>\n",
       "    .dataframe tbody tr th:only-of-type {\n",
       "        vertical-align: middle;\n",
       "    }\n",
       "\n",
       "    .dataframe tbody tr th {\n",
       "        vertical-align: top;\n",
       "    }\n",
       "\n",
       "    .dataframe thead th {\n",
       "        text-align: right;\n",
       "    }\n",
       "</style>\n",
       "<table border=\"1\" class=\"dataframe\">\n",
       "  <thead>\n",
       "    <tr style=\"text-align: right;\">\n",
       "      <th></th>\n",
       "      <th>codigo</th>\n",
       "      <th>cod_municipio</th>\n",
       "      <th>nome_municipio</th>\n",
       "      <th>capital</th>\n",
       "      <th>cod_regiao_saude</th>\n",
       "      <th>nome_regiao_saude</th>\n",
       "      <th>cod_uf</th>\n",
       "      <th>uf</th>\n",
       "      <th>nome_uf</th>\n",
       "      <th>sigla_regiao</th>\n",
       "      <th>nome_regiao</th>\n",
       "      <th>socioecon</th>\n",
       "      <th>latitude</th>\n",
       "      <th>longitude</th>\n",
       "    </tr>\n",
       "  </thead>\n",
       "  <tbody>\n",
       "    <tr>\n",
       "      <th>0</th>\n",
       "      <td>CO/GO/52001/520005</td>\n",
       "      <td>520005</td>\n",
       "      <td>Abadia de Goiás</td>\n",
       "      <td>0</td>\n",
       "      <td>52001</td>\n",
       "      <td>Central</td>\n",
       "      <td>52</td>\n",
       "      <td>GO</td>\n",
       "      <td>Goiás</td>\n",
       "      <td>CO</td>\n",
       "      <td>Centro-Oeste</td>\n",
       "      <td>5</td>\n",
       "      <td>-16.75730</td>\n",
       "      <td>-49.4412</td>\n",
       "    </tr>\n",
       "    <tr>\n",
       "      <th>1</th>\n",
       "      <td>SD/MG/31052/310010</td>\n",
       "      <td>310010</td>\n",
       "      <td>Abadia dos Dourados</td>\n",
       "      <td>0</td>\n",
       "      <td>31052</td>\n",
       "      <td>Patrocínio Monte Carmelo</td>\n",
       "      <td>31</td>\n",
       "      <td>MG</td>\n",
       "      <td>Minas Gerais</td>\n",
       "      <td>SD</td>\n",
       "      <td>Sudeste</td>\n",
       "      <td>2</td>\n",
       "      <td>-18.48310</td>\n",
       "      <td>-47.3916</td>\n",
       "    </tr>\n",
       "    <tr>\n",
       "      <th>2</th>\n",
       "      <td>CO/GO/52011/520010</td>\n",
       "      <td>520010</td>\n",
       "      <td>Abadiânia</td>\n",
       "      <td>0</td>\n",
       "      <td>52011</td>\n",
       "      <td>Pirineus</td>\n",
       "      <td>52</td>\n",
       "      <td>GO</td>\n",
       "      <td>Goiás</td>\n",
       "      <td>CO</td>\n",
       "      <td>Centro-Oeste</td>\n",
       "      <td>3</td>\n",
       "      <td>-16.19700</td>\n",
       "      <td>-48.7057</td>\n",
       "    </tr>\n",
       "    <tr>\n",
       "      <th>3</th>\n",
       "      <td>SD/MG/31067/310020</td>\n",
       "      <td>310020</td>\n",
       "      <td>Abaeté</td>\n",
       "      <td>0</td>\n",
       "      <td>31067</td>\n",
       "      <td>Sete Lagoas</td>\n",
       "      <td>31</td>\n",
       "      <td>MG</td>\n",
       "      <td>Minas Gerais</td>\n",
       "      <td>SD</td>\n",
       "      <td>Sudeste</td>\n",
       "      <td>3</td>\n",
       "      <td>-19.15510</td>\n",
       "      <td>-45.4444</td>\n",
       "    </tr>\n",
       "    <tr>\n",
       "      <th>4</th>\n",
       "      <td>NT/PA/15011/150010</td>\n",
       "      <td>150010</td>\n",
       "      <td>Abaetetuba</td>\n",
       "      <td>0</td>\n",
       "      <td>15011</td>\n",
       "      <td>Tocantins</td>\n",
       "      <td>15</td>\n",
       "      <td>PA</td>\n",
       "      <td>Pará</td>\n",
       "      <td>NT</td>\n",
       "      <td>Norte</td>\n",
       "      <td>1</td>\n",
       "      <td>-1.72183</td>\n",
       "      <td>-48.8788</td>\n",
       "    </tr>\n",
       "    <tr>\n",
       "      <th>...</th>\n",
       "      <td>...</td>\n",
       "      <td>...</td>\n",
       "      <td>...</td>\n",
       "      <td>...</td>\n",
       "      <td>...</td>\n",
       "      <td>...</td>\n",
       "      <td>...</td>\n",
       "      <td>...</td>\n",
       "      <td>...</td>\n",
       "      <td>...</td>\n",
       "      <td>...</td>\n",
       "      <td>...</td>\n",
       "      <td>...</td>\n",
       "      <td>...</td>\n",
       "    </tr>\n",
       "    <tr>\n",
       "      <th>5565</th>\n",
       "      <td>ND/BA/29010/293360</td>\n",
       "      <td>293360</td>\n",
       "      <td>Xique-Xique</td>\n",
       "      <td>0</td>\n",
       "      <td>29010</td>\n",
       "      <td>Irecê</td>\n",
       "      <td>29</td>\n",
       "      <td>BA</td>\n",
       "      <td>Bahia</td>\n",
       "      <td>ND</td>\n",
       "      <td>Nordeste</td>\n",
       "      <td>1</td>\n",
       "      <td>-10.82300</td>\n",
       "      <td>-42.7245</td>\n",
       "    </tr>\n",
       "    <tr>\n",
       "      <th>5566</th>\n",
       "      <td>ND/PB/25005/251740</td>\n",
       "      <td>251740</td>\n",
       "      <td>Zabelê</td>\n",
       "      <td>0</td>\n",
       "      <td>25005</td>\n",
       "      <td>5ª Região</td>\n",
       "      <td>25</td>\n",
       "      <td>PB</td>\n",
       "      <td>Paraíba</td>\n",
       "      <td>ND</td>\n",
       "      <td>Nordeste</td>\n",
       "      <td>1</td>\n",
       "      <td>-8.07901</td>\n",
       "      <td>-37.1057</td>\n",
       "    </tr>\n",
       "    <tr>\n",
       "      <th>5567</th>\n",
       "      <td>SD/SP/35156/355715</td>\n",
       "      <td>355715</td>\n",
       "      <td>Zacarias</td>\n",
       "      <td>0</td>\n",
       "      <td>35156</td>\n",
       "      <td>José Bonifácio</td>\n",
       "      <td>35</td>\n",
       "      <td>SP</td>\n",
       "      <td>São Paulo</td>\n",
       "      <td>SD</td>\n",
       "      <td>Sudeste</td>\n",
       "      <td>3</td>\n",
       "      <td>-21.05060</td>\n",
       "      <td>-50.0552</td>\n",
       "    </tr>\n",
       "    <tr>\n",
       "      <th>5568</th>\n",
       "      <td>ND/MA/21019/211400</td>\n",
       "      <td>211400</td>\n",
       "      <td>Zé Doca</td>\n",
       "      <td>0</td>\n",
       "      <td>21019</td>\n",
       "      <td>Zé Doca</td>\n",
       "      <td>21</td>\n",
       "      <td>MA</td>\n",
       "      <td>Maranhão</td>\n",
       "      <td>ND</td>\n",
       "      <td>Nordeste</td>\n",
       "      <td>1</td>\n",
       "      <td>-3.27014</td>\n",
       "      <td>-45.6553</td>\n",
       "    </tr>\n",
       "    <tr>\n",
       "      <th>5569</th>\n",
       "      <td>SL/SC/42008/421985</td>\n",
       "      <td>421985</td>\n",
       "      <td>Zortéa</td>\n",
       "      <td>0</td>\n",
       "      <td>42008</td>\n",
       "      <td>Meio Oeste</td>\n",
       "      <td>42</td>\n",
       "      <td>SC</td>\n",
       "      <td>Santa Catarina</td>\n",
       "      <td>SL</td>\n",
       "      <td>Sul</td>\n",
       "      <td>3</td>\n",
       "      <td>-27.45210</td>\n",
       "      <td>-51.5520</td>\n",
       "    </tr>\n",
       "  </tbody>\n",
       "</table>\n",
       "<p>5570 rows × 14 columns</p>\n",
       "</div>"
      ],
      "text/plain": [
       "                  codigo  cod_municipio       nome_municipio  capital  \\\n",
       "0     CO/GO/52001/520005         520005      Abadia de Goiás        0   \n",
       "1     SD/MG/31052/310010         310010  Abadia dos Dourados        0   \n",
       "2     CO/GO/52011/520010         520010            Abadiânia        0   \n",
       "3     SD/MG/31067/310020         310020               Abaeté        0   \n",
       "4     NT/PA/15011/150010         150010           Abaetetuba        0   \n",
       "...                  ...            ...                  ...      ...   \n",
       "5565  ND/BA/29010/293360         293360          Xique-Xique        0   \n",
       "5566  ND/PB/25005/251740         251740               Zabelê        0   \n",
       "5567  SD/SP/35156/355715         355715             Zacarias        0   \n",
       "5568  ND/MA/21019/211400         211400              Zé Doca        0   \n",
       "5569  SL/SC/42008/421985         421985               Zortéa        0   \n",
       "\n",
       "      cod_regiao_saude         nome_regiao_saude  cod_uf  uf         nome_uf  \\\n",
       "0                52001                   Central      52  GO           Goiás   \n",
       "1                31052  Patrocínio Monte Carmelo      31  MG    Minas Gerais   \n",
       "2                52011                  Pirineus      52  GO           Goiás   \n",
       "3                31067               Sete Lagoas      31  MG    Minas Gerais   \n",
       "4                15011                 Tocantins      15  PA            Pará   \n",
       "...                ...                       ...     ...  ..             ...   \n",
       "5565             29010                     Irecê      29  BA           Bahia   \n",
       "5566             25005                 5ª Região      25  PB         Paraíba   \n",
       "5567             35156            José Bonifácio      35  SP       São Paulo   \n",
       "5568             21019                   Zé Doca      21  MA        Maranhão   \n",
       "5569             42008                Meio Oeste      42  SC  Santa Catarina   \n",
       "\n",
       "     sigla_regiao   nome_regiao  socioecon  latitude  longitude  \n",
       "0              CO  Centro-Oeste          5 -16.75730   -49.4412  \n",
       "1              SD       Sudeste          2 -18.48310   -47.3916  \n",
       "2              CO  Centro-Oeste          3 -16.19700   -48.7057  \n",
       "3              SD       Sudeste          3 -19.15510   -45.4444  \n",
       "4              NT         Norte          1  -1.72183   -48.8788  \n",
       "...           ...           ...        ...       ...        ...  \n",
       "5565           ND      Nordeste          1 -10.82300   -42.7245  \n",
       "5566           ND      Nordeste          1  -8.07901   -37.1057  \n",
       "5567           SD       Sudeste          3 -21.05060   -50.0552  \n",
       "5568           ND      Nordeste          1  -3.27014   -45.6553  \n",
       "5569           SL           Sul          3 -27.45210   -51.5520  \n",
       "\n",
       "[5570 rows x 14 columns]"
      ]
     },
     "execution_count": 3,
     "metadata": {},
     "output_type": "execute_result"
    }
   ],
   "source": [
    "path_locs = get_path('LOCALIDADES', 'localidades.csv.gzip')\n",
    "df_locs = pd.read_csv(path_locs)\n",
    "df_locs"
   ]
  },
  {
   "cell_type": "markdown",
   "metadata": {},
   "source": [
    "# Resultados"
   ]
  },
  {
   "cell_type": "code",
   "execution_count": 4,
   "metadata": {},
   "outputs": [],
   "source": [
    "def select_and_group(df_proc, df_locs, cols, loc='nome_regiao', ref='origem'):\n",
    "  cols_proc = cols.copy()\n",
    "  cols_proc.insert(-1, ref)\n",
    "  cols_locs = ['codigo', loc]\n",
    "  df = df_proc[cols_proc].merge(df_locs[cols_locs], left_on=ref, right_on='codigo', how='left')\n",
    "  cols_proc.insert(-1, loc)\n",
    "  df = df[cols_proc]\n",
    "  df = df.drop(ref, axis=1)\n",
    "  df = df.groupby(by=list(df.columns)[:-1], as_index=False).sum()\n",
    "  df['bienio'] = df['bienio'].map(\n",
    "    {0: '2010-2011', 1: '2018-2019'})\n",
    "  df['parto_normal'] = df['parto_normal'].map(\n",
    "    {0: 'Parto Cesárea', 1: 'Parto Normal'})\n",
    "  df = df.rename(columns={\n",
    "    'bienio': 'Biênio',\n",
    "    'parto_normal': 'Parto',\n",
    "    'criticidade': 'Criticidade',\n",
    "    loc: 'Localidade',\n",
    "    'count': 'Procedimentos',\n",
    "  })\n",
    "  df = df.pivot_table('Procedimentos', list(df.columns)[1:-1], 'Biênio', sort=True)\n",
    "  df = df.reset_index(level=df.index.names)\n",
    "  df = pd.DataFrame(df.to_dict())\n",
    "  return df"
   ]
  },
  {
   "cell_type": "code",
   "execution_count": 5,
   "metadata": {},
   "outputs": [],
   "source": [
    "def fig_count_partos(df):\n",
    "  fig = go.Figure()\n",
    "  colors = ['#31A885','#DD6F1C']\n",
    "  items = ['2010-2011','2018-2019']\n",
    "  for item, color in zip(items, colors):\n",
    "      fig.add_trace(\n",
    "        go.Bar(\n",
    "          x=df['Parto'], y=df[item],\n",
    "          marker_color=color,\n",
    "          text=df[item], textposition='auto',\n",
    "          name=item,))\n",
    "  buttons = []\n",
    "  for loc in df['Localidade'].unique():\n",
    "      buttons.append(dict(\n",
    "        method='update',\n",
    "        label=loc,\n",
    "        args=[{\n",
    "          'y': df[df['Localidade'] == loc][items].T.values\n",
    "        }]))\n",
    "  button_brasil = dict(\n",
    "    method='update',\n",
    "    label='Brasil',\n",
    "    args=[{'y': df[items].T.values}])\n",
    "  buttons = sorted(buttons, key=lambda d: d['label'])\n",
    "  buttons.insert(0, button_brasil)\n",
    "  updatemenu=[]\n",
    "  your_menu=dict()\n",
    "  updatemenu.append(your_menu)\n",
    "  updatemenu[0]['buttons']=buttons\n",
    "  updatemenu[0]['direction']='down'\n",
    "  updatemenu[0]['showactive']=True\n",
    "  fig.update_layout(\n",
    "    title='Número total de partos realizados no SUS',\n",
    "    legend_title='Biênio',\n",
    "    updatemenus=updatemenu)\n",
    "  return fig"
   ]
  },
  {
   "cell_type": "markdown",
   "metadata": {},
   "source": [
    "## Partos no SUS por residência"
   ]
  },
  {
   "cell_type": "code",
   "execution_count": 6,
   "metadata": {},
   "outputs": [],
   "source": [
    "def add_total(df):\n",
    "  df_total = df[list(df.columns)[1:]]\n",
    "  df_total = df_total.groupby(by='Localidade', as_index=False).sum()\n",
    "  df_total['Parto'] = 'Ambos'\n",
    "  df = pd.concat([df, df_total])\n",
    "  df = df.sort_values(by=['Localidade', 'Parto'])\n",
    "  df = df.reset_index(drop=True)\n",
    "  return df"
   ]
  },
  {
   "cell_type": "code",
   "execution_count": 7,
   "metadata": {},
   "outputs": [],
   "source": [
    "cols_proc = ['bienio', 'parto_normal', 'count']"
   ]
  },
  {
   "cell_type": "markdown",
   "metadata": {},
   "source": [
    "### Região"
   ]
  },
  {
   "cell_type": "code",
   "execution_count": 8,
   "metadata": {},
   "outputs": [
    {
     "data": {
      "text/html": [
       "        <script type=\"text/javascript\">\n",
       "        window.PlotlyConfig = {MathJaxConfig: 'local'};\n",
       "        if (window.MathJax && window.MathJax.Hub && window.MathJax.Hub.Config) {window.MathJax.Hub.Config({SVG: {font: \"STIX-Web\"}});}\n",
       "        if (typeof require !== 'undefined') {\n",
       "        require.undef(\"plotly\");\n",
       "        requirejs.config({\n",
       "            paths: {\n",
       "                'plotly': ['https://cdn.plot.ly/plotly-2.16.1.min']\n",
       "            }\n",
       "        });\n",
       "        require(['plotly'], function(Plotly) {\n",
       "            window._Plotly = Plotly;\n",
       "        });\n",
       "        }\n",
       "        </script>\n",
       "        "
      ]
     },
     "metadata": {},
     "output_type": "display_data"
    },
    {
     "data": {
      "application/vnd.plotly.v1+json": {
       "config": {
        "plotlyServerURL": "https://plot.ly"
       },
       "data": [
        {
         "marker": {
          "color": "#31A885"
         },
         "name": "2010-2011",
         "text": [
          267140,
          100035,
          167105,
          1231047,
          413100,
          817947,
          438540,
          146771,
          291769,
          1200927,
          428772,
          772155,
          439477,
          166096,
          273381
         ],
         "textposition": "auto",
         "type": "bar",
         "x": [
          "Ambos",
          "Parto Cesárea",
          "Parto Normal",
          "Ambos",
          "Parto Cesárea",
          "Parto Normal",
          "Ambos",
          "Parto Cesárea",
          "Parto Normal",
          "Ambos",
          "Parto Cesárea",
          "Parto Normal",
          "Ambos",
          "Parto Cesárea",
          "Parto Normal"
         ],
         "y": [
          267140,
          100035,
          167105,
          1231047,
          413100,
          817947,
          438540,
          146771,
          291769,
          1200927,
          428772,
          772155,
          439477,
          166096,
          273381
         ]
        },
        {
         "marker": {
          "color": "#DD6F1C"
         },
         "name": "2018-2019",
         "text": [
          276281,
          124971,
          151310,
          1063404,
          428756,
          634648,
          424483,
          172823,
          251660,
          1165012,
          463185,
          701827,
          424633,
          187972,
          236661
         ],
         "textposition": "auto",
         "type": "bar",
         "x": [
          "Ambos",
          "Parto Cesárea",
          "Parto Normal",
          "Ambos",
          "Parto Cesárea",
          "Parto Normal",
          "Ambos",
          "Parto Cesárea",
          "Parto Normal",
          "Ambos",
          "Parto Cesárea",
          "Parto Normal",
          "Ambos",
          "Parto Cesárea",
          "Parto Normal"
         ],
         "y": [
          276281,
          124971,
          151310,
          1063404,
          428756,
          634648,
          424483,
          172823,
          251660,
          1165012,
          463185,
          701827,
          424633,
          187972,
          236661
         ]
        }
       ],
       "layout": {
        "legend": {
         "title": {
          "text": "Biênio"
         }
        },
        "template": {
         "data": {
          "bar": [
           {
            "error_x": {
             "color": "#2a3f5f"
            },
            "error_y": {
             "color": "#2a3f5f"
            },
            "marker": {
             "line": {
              "color": "#E5ECF6",
              "width": 0.5
             },
             "pattern": {
              "fillmode": "overlay",
              "size": 10,
              "solidity": 0.2
             }
            },
            "type": "bar"
           }
          ],
          "barpolar": [
           {
            "marker": {
             "line": {
              "color": "#E5ECF6",
              "width": 0.5
             },
             "pattern": {
              "fillmode": "overlay",
              "size": 10,
              "solidity": 0.2
             }
            },
            "type": "barpolar"
           }
          ],
          "carpet": [
           {
            "aaxis": {
             "endlinecolor": "#2a3f5f",
             "gridcolor": "white",
             "linecolor": "white",
             "minorgridcolor": "white",
             "startlinecolor": "#2a3f5f"
            },
            "baxis": {
             "endlinecolor": "#2a3f5f",
             "gridcolor": "white",
             "linecolor": "white",
             "minorgridcolor": "white",
             "startlinecolor": "#2a3f5f"
            },
            "type": "carpet"
           }
          ],
          "choropleth": [
           {
            "colorbar": {
             "outlinewidth": 0,
             "ticks": ""
            },
            "type": "choropleth"
           }
          ],
          "contour": [
           {
            "colorbar": {
             "outlinewidth": 0,
             "ticks": ""
            },
            "colorscale": [
             [
              0,
              "#0d0887"
             ],
             [
              0.1111111111111111,
              "#46039f"
             ],
             [
              0.2222222222222222,
              "#7201a8"
             ],
             [
              0.3333333333333333,
              "#9c179e"
             ],
             [
              0.4444444444444444,
              "#bd3786"
             ],
             [
              0.5555555555555556,
              "#d8576b"
             ],
             [
              0.6666666666666666,
              "#ed7953"
             ],
             [
              0.7777777777777778,
              "#fb9f3a"
             ],
             [
              0.8888888888888888,
              "#fdca26"
             ],
             [
              1,
              "#f0f921"
             ]
            ],
            "type": "contour"
           }
          ],
          "contourcarpet": [
           {
            "colorbar": {
             "outlinewidth": 0,
             "ticks": ""
            },
            "type": "contourcarpet"
           }
          ],
          "heatmap": [
           {
            "colorbar": {
             "outlinewidth": 0,
             "ticks": ""
            },
            "colorscale": [
             [
              0,
              "#0d0887"
             ],
             [
              0.1111111111111111,
              "#46039f"
             ],
             [
              0.2222222222222222,
              "#7201a8"
             ],
             [
              0.3333333333333333,
              "#9c179e"
             ],
             [
              0.4444444444444444,
              "#bd3786"
             ],
             [
              0.5555555555555556,
              "#d8576b"
             ],
             [
              0.6666666666666666,
              "#ed7953"
             ],
             [
              0.7777777777777778,
              "#fb9f3a"
             ],
             [
              0.8888888888888888,
              "#fdca26"
             ],
             [
              1,
              "#f0f921"
             ]
            ],
            "type": "heatmap"
           }
          ],
          "heatmapgl": [
           {
            "colorbar": {
             "outlinewidth": 0,
             "ticks": ""
            },
            "colorscale": [
             [
              0,
              "#0d0887"
             ],
             [
              0.1111111111111111,
              "#46039f"
             ],
             [
              0.2222222222222222,
              "#7201a8"
             ],
             [
              0.3333333333333333,
              "#9c179e"
             ],
             [
              0.4444444444444444,
              "#bd3786"
             ],
             [
              0.5555555555555556,
              "#d8576b"
             ],
             [
              0.6666666666666666,
              "#ed7953"
             ],
             [
              0.7777777777777778,
              "#fb9f3a"
             ],
             [
              0.8888888888888888,
              "#fdca26"
             ],
             [
              1,
              "#f0f921"
             ]
            ],
            "type": "heatmapgl"
           }
          ],
          "histogram": [
           {
            "marker": {
             "pattern": {
              "fillmode": "overlay",
              "size": 10,
              "solidity": 0.2
             }
            },
            "type": "histogram"
           }
          ],
          "histogram2d": [
           {
            "colorbar": {
             "outlinewidth": 0,
             "ticks": ""
            },
            "colorscale": [
             [
              0,
              "#0d0887"
             ],
             [
              0.1111111111111111,
              "#46039f"
             ],
             [
              0.2222222222222222,
              "#7201a8"
             ],
             [
              0.3333333333333333,
              "#9c179e"
             ],
             [
              0.4444444444444444,
              "#bd3786"
             ],
             [
              0.5555555555555556,
              "#d8576b"
             ],
             [
              0.6666666666666666,
              "#ed7953"
             ],
             [
              0.7777777777777778,
              "#fb9f3a"
             ],
             [
              0.8888888888888888,
              "#fdca26"
             ],
             [
              1,
              "#f0f921"
             ]
            ],
            "type": "histogram2d"
           }
          ],
          "histogram2dcontour": [
           {
            "colorbar": {
             "outlinewidth": 0,
             "ticks": ""
            },
            "colorscale": [
             [
              0,
              "#0d0887"
             ],
             [
              0.1111111111111111,
              "#46039f"
             ],
             [
              0.2222222222222222,
              "#7201a8"
             ],
             [
              0.3333333333333333,
              "#9c179e"
             ],
             [
              0.4444444444444444,
              "#bd3786"
             ],
             [
              0.5555555555555556,
              "#d8576b"
             ],
             [
              0.6666666666666666,
              "#ed7953"
             ],
             [
              0.7777777777777778,
              "#fb9f3a"
             ],
             [
              0.8888888888888888,
              "#fdca26"
             ],
             [
              1,
              "#f0f921"
             ]
            ],
            "type": "histogram2dcontour"
           }
          ],
          "mesh3d": [
           {
            "colorbar": {
             "outlinewidth": 0,
             "ticks": ""
            },
            "type": "mesh3d"
           }
          ],
          "parcoords": [
           {
            "line": {
             "colorbar": {
              "outlinewidth": 0,
              "ticks": ""
             }
            },
            "type": "parcoords"
           }
          ],
          "pie": [
           {
            "automargin": true,
            "type": "pie"
           }
          ],
          "scatter": [
           {
            "fillpattern": {
             "fillmode": "overlay",
             "size": 10,
             "solidity": 0.2
            },
            "type": "scatter"
           }
          ],
          "scatter3d": [
           {
            "line": {
             "colorbar": {
              "outlinewidth": 0,
              "ticks": ""
             }
            },
            "marker": {
             "colorbar": {
              "outlinewidth": 0,
              "ticks": ""
             }
            },
            "type": "scatter3d"
           }
          ],
          "scattercarpet": [
           {
            "marker": {
             "colorbar": {
              "outlinewidth": 0,
              "ticks": ""
             }
            },
            "type": "scattercarpet"
           }
          ],
          "scattergeo": [
           {
            "marker": {
             "colorbar": {
              "outlinewidth": 0,
              "ticks": ""
             }
            },
            "type": "scattergeo"
           }
          ],
          "scattergl": [
           {
            "marker": {
             "colorbar": {
              "outlinewidth": 0,
              "ticks": ""
             }
            },
            "type": "scattergl"
           }
          ],
          "scattermapbox": [
           {
            "marker": {
             "colorbar": {
              "outlinewidth": 0,
              "ticks": ""
             }
            },
            "type": "scattermapbox"
           }
          ],
          "scatterpolar": [
           {
            "marker": {
             "colorbar": {
              "outlinewidth": 0,
              "ticks": ""
             }
            },
            "type": "scatterpolar"
           }
          ],
          "scatterpolargl": [
           {
            "marker": {
             "colorbar": {
              "outlinewidth": 0,
              "ticks": ""
             }
            },
            "type": "scatterpolargl"
           }
          ],
          "scatterternary": [
           {
            "marker": {
             "colorbar": {
              "outlinewidth": 0,
              "ticks": ""
             }
            },
            "type": "scatterternary"
           }
          ],
          "surface": [
           {
            "colorbar": {
             "outlinewidth": 0,
             "ticks": ""
            },
            "colorscale": [
             [
              0,
              "#0d0887"
             ],
             [
              0.1111111111111111,
              "#46039f"
             ],
             [
              0.2222222222222222,
              "#7201a8"
             ],
             [
              0.3333333333333333,
              "#9c179e"
             ],
             [
              0.4444444444444444,
              "#bd3786"
             ],
             [
              0.5555555555555556,
              "#d8576b"
             ],
             [
              0.6666666666666666,
              "#ed7953"
             ],
             [
              0.7777777777777778,
              "#fb9f3a"
             ],
             [
              0.8888888888888888,
              "#fdca26"
             ],
             [
              1,
              "#f0f921"
             ]
            ],
            "type": "surface"
           }
          ],
          "table": [
           {
            "cells": {
             "fill": {
              "color": "#EBF0F8"
             },
             "line": {
              "color": "white"
             }
            },
            "header": {
             "fill": {
              "color": "#C8D4E3"
             },
             "line": {
              "color": "white"
             }
            },
            "type": "table"
           }
          ]
         },
         "layout": {
          "annotationdefaults": {
           "arrowcolor": "#2a3f5f",
           "arrowhead": 0,
           "arrowwidth": 1
          },
          "autotypenumbers": "strict",
          "coloraxis": {
           "colorbar": {
            "outlinewidth": 0,
            "ticks": ""
           }
          },
          "colorscale": {
           "diverging": [
            [
             0,
             "#8e0152"
            ],
            [
             0.1,
             "#c51b7d"
            ],
            [
             0.2,
             "#de77ae"
            ],
            [
             0.3,
             "#f1b6da"
            ],
            [
             0.4,
             "#fde0ef"
            ],
            [
             0.5,
             "#f7f7f7"
            ],
            [
             0.6,
             "#e6f5d0"
            ],
            [
             0.7,
             "#b8e186"
            ],
            [
             0.8,
             "#7fbc41"
            ],
            [
             0.9,
             "#4d9221"
            ],
            [
             1,
             "#276419"
            ]
           ],
           "sequential": [
            [
             0,
             "#0d0887"
            ],
            [
             0.1111111111111111,
             "#46039f"
            ],
            [
             0.2222222222222222,
             "#7201a8"
            ],
            [
             0.3333333333333333,
             "#9c179e"
            ],
            [
             0.4444444444444444,
             "#bd3786"
            ],
            [
             0.5555555555555556,
             "#d8576b"
            ],
            [
             0.6666666666666666,
             "#ed7953"
            ],
            [
             0.7777777777777778,
             "#fb9f3a"
            ],
            [
             0.8888888888888888,
             "#fdca26"
            ],
            [
             1,
             "#f0f921"
            ]
           ],
           "sequentialminus": [
            [
             0,
             "#0d0887"
            ],
            [
             0.1111111111111111,
             "#46039f"
            ],
            [
             0.2222222222222222,
             "#7201a8"
            ],
            [
             0.3333333333333333,
             "#9c179e"
            ],
            [
             0.4444444444444444,
             "#bd3786"
            ],
            [
             0.5555555555555556,
             "#d8576b"
            ],
            [
             0.6666666666666666,
             "#ed7953"
            ],
            [
             0.7777777777777778,
             "#fb9f3a"
            ],
            [
             0.8888888888888888,
             "#fdca26"
            ],
            [
             1,
             "#f0f921"
            ]
           ]
          },
          "colorway": [
           "#636efa",
           "#EF553B",
           "#00cc96",
           "#ab63fa",
           "#FFA15A",
           "#19d3f3",
           "#FF6692",
           "#B6E880",
           "#FF97FF",
           "#FECB52"
          ],
          "font": {
           "color": "#2a3f5f"
          },
          "geo": {
           "bgcolor": "white",
           "lakecolor": "white",
           "landcolor": "#E5ECF6",
           "showlakes": true,
           "showland": true,
           "subunitcolor": "white"
          },
          "hoverlabel": {
           "align": "left"
          },
          "hovermode": "closest",
          "mapbox": {
           "style": "light"
          },
          "paper_bgcolor": "white",
          "plot_bgcolor": "#E5ECF6",
          "polar": {
           "angularaxis": {
            "gridcolor": "white",
            "linecolor": "white",
            "ticks": ""
           },
           "bgcolor": "#E5ECF6",
           "radialaxis": {
            "gridcolor": "white",
            "linecolor": "white",
            "ticks": ""
           }
          },
          "scene": {
           "xaxis": {
            "backgroundcolor": "#E5ECF6",
            "gridcolor": "white",
            "gridwidth": 2,
            "linecolor": "white",
            "showbackground": true,
            "ticks": "",
            "zerolinecolor": "white"
           },
           "yaxis": {
            "backgroundcolor": "#E5ECF6",
            "gridcolor": "white",
            "gridwidth": 2,
            "linecolor": "white",
            "showbackground": true,
            "ticks": "",
            "zerolinecolor": "white"
           },
           "zaxis": {
            "backgroundcolor": "#E5ECF6",
            "gridcolor": "white",
            "gridwidth": 2,
            "linecolor": "white",
            "showbackground": true,
            "ticks": "",
            "zerolinecolor": "white"
           }
          },
          "shapedefaults": {
           "line": {
            "color": "#2a3f5f"
           }
          },
          "ternary": {
           "aaxis": {
            "gridcolor": "white",
            "linecolor": "white",
            "ticks": ""
           },
           "baxis": {
            "gridcolor": "white",
            "linecolor": "white",
            "ticks": ""
           },
           "bgcolor": "#E5ECF6",
           "caxis": {
            "gridcolor": "white",
            "linecolor": "white",
            "ticks": ""
           }
          },
          "title": {
           "x": 0.05
          },
          "xaxis": {
           "automargin": true,
           "gridcolor": "white",
           "linecolor": "white",
           "ticks": "",
           "title": {
            "standoff": 15
           },
           "zerolinecolor": "white",
           "zerolinewidth": 2
          },
          "yaxis": {
           "automargin": true,
           "gridcolor": "white",
           "linecolor": "white",
           "ticks": "",
           "title": {
            "standoff": 15
           },
           "zerolinecolor": "white",
           "zerolinewidth": 2
          }
         }
        },
        "title": {
         "text": "Número total de partos realizados no SUS"
        },
        "updatemenus": [
         {
          "buttons": [
           {
            "args": [
             {
              "y": [
               [
                267140,
                100035,
                167105,
                1231047,
                413100,
                817947,
                438540,
                146771,
                291769,
                1200927,
                428772,
                772155,
                439477,
                166096,
                273381
               ],
               [
                276281,
                124971,
                151310,
                1063404,
                428756,
                634648,
                424483,
                172823,
                251660,
                1165012,
                463185,
                701827,
                424633,
                187972,
                236661
               ]
              ]
             }
            ],
            "label": "Brasil",
            "method": "update"
           },
           {
            "args": [
             {
              "y": [
               [
                267140,
                100035,
                167105
               ],
               [
                276281,
                124971,
                151310
               ]
              ]
             }
            ],
            "label": "Centro-Oeste",
            "method": "update"
           },
           {
            "args": [
             {
              "y": [
               [
                1231047,
                413100,
                817947
               ],
               [
                1063404,
                428756,
                634648
               ]
              ]
             }
            ],
            "label": "Nordeste",
            "method": "update"
           },
           {
            "args": [
             {
              "y": [
               [
                438540,
                146771,
                291769
               ],
               [
                424483,
                172823,
                251660
               ]
              ]
             }
            ],
            "label": "Norte",
            "method": "update"
           },
           {
            "args": [
             {
              "y": [
               [
                1200927,
                428772,
                772155
               ],
               [
                1165012,
                463185,
                701827
               ]
              ]
             }
            ],
            "label": "Sudeste",
            "method": "update"
           },
           {
            "args": [
             {
              "y": [
               [
                439477,
                166096,
                273381
               ],
               [
                424633,
                187972,
                236661
               ]
              ]
             }
            ],
            "label": "Sul",
            "method": "update"
           }
          ],
          "direction": "down",
          "showactive": true
         }
        ]
       }
      },
      "text/html": [
       "<div>                            <div id=\"9c352e1e-1a22-432b-9f17-3afb8be9d44f\" class=\"plotly-graph-div\" style=\"height:525px; width:100%;\"></div>            <script type=\"text/javascript\">                require([\"plotly\"], function(Plotly) {                    window.PLOTLYENV=window.PLOTLYENV || {};                                    if (document.getElementById(\"9c352e1e-1a22-432b-9f17-3afb8be9d44f\")) {                    Plotly.newPlot(                        \"9c352e1e-1a22-432b-9f17-3afb8be9d44f\",                        [{\"marker\":{\"color\":\"#31A885\"},\"name\":\"2010-2011\",\"text\":[267140.0,100035.0,167105.0,1231047.0,413100.0,817947.0,438540.0,146771.0,291769.0,1200927.0,428772.0,772155.0,439477.0,166096.0,273381.0],\"textposition\":\"auto\",\"x\":[\"Ambos\",\"Parto Ces\\u00e1rea\",\"Parto Normal\",\"Ambos\",\"Parto Ces\\u00e1rea\",\"Parto Normal\",\"Ambos\",\"Parto Ces\\u00e1rea\",\"Parto Normal\",\"Ambos\",\"Parto Ces\\u00e1rea\",\"Parto Normal\",\"Ambos\",\"Parto Ces\\u00e1rea\",\"Parto Normal\"],\"y\":[267140,100035,167105,1231047,413100,817947,438540,146771,291769,1200927,428772,772155,439477,166096,273381],\"type\":\"bar\"},{\"marker\":{\"color\":\"#DD6F1C\"},\"name\":\"2018-2019\",\"text\":[276281.0,124971.0,151310.0,1063404.0,428756.0,634648.0,424483.0,172823.0,251660.0,1165012.0,463185.0,701827.0,424633.0,187972.0,236661.0],\"textposition\":\"auto\",\"x\":[\"Ambos\",\"Parto Ces\\u00e1rea\",\"Parto Normal\",\"Ambos\",\"Parto Ces\\u00e1rea\",\"Parto Normal\",\"Ambos\",\"Parto Ces\\u00e1rea\",\"Parto Normal\",\"Ambos\",\"Parto Ces\\u00e1rea\",\"Parto Normal\",\"Ambos\",\"Parto Ces\\u00e1rea\",\"Parto Normal\"],\"y\":[276281,124971,151310,1063404,428756,634648,424483,172823,251660,1165012,463185,701827,424633,187972,236661],\"type\":\"bar\"}],                        {\"template\":{\"data\":{\"histogram2dcontour\":[{\"type\":\"histogram2dcontour\",\"colorbar\":{\"outlinewidth\":0,\"ticks\":\"\"},\"colorscale\":[[0.0,\"#0d0887\"],[0.1111111111111111,\"#46039f\"],[0.2222222222222222,\"#7201a8\"],[0.3333333333333333,\"#9c179e\"],[0.4444444444444444,\"#bd3786\"],[0.5555555555555556,\"#d8576b\"],[0.6666666666666666,\"#ed7953\"],[0.7777777777777778,\"#fb9f3a\"],[0.8888888888888888,\"#fdca26\"],[1.0,\"#f0f921\"]]}],\"choropleth\":[{\"type\":\"choropleth\",\"colorbar\":{\"outlinewidth\":0,\"ticks\":\"\"}}],\"histogram2d\":[{\"type\":\"histogram2d\",\"colorbar\":{\"outlinewidth\":0,\"ticks\":\"\"},\"colorscale\":[[0.0,\"#0d0887\"],[0.1111111111111111,\"#46039f\"],[0.2222222222222222,\"#7201a8\"],[0.3333333333333333,\"#9c179e\"],[0.4444444444444444,\"#bd3786\"],[0.5555555555555556,\"#d8576b\"],[0.6666666666666666,\"#ed7953\"],[0.7777777777777778,\"#fb9f3a\"],[0.8888888888888888,\"#fdca26\"],[1.0,\"#f0f921\"]]}],\"heatmap\":[{\"type\":\"heatmap\",\"colorbar\":{\"outlinewidth\":0,\"ticks\":\"\"},\"colorscale\":[[0.0,\"#0d0887\"],[0.1111111111111111,\"#46039f\"],[0.2222222222222222,\"#7201a8\"],[0.3333333333333333,\"#9c179e\"],[0.4444444444444444,\"#bd3786\"],[0.5555555555555556,\"#d8576b\"],[0.6666666666666666,\"#ed7953\"],[0.7777777777777778,\"#fb9f3a\"],[0.8888888888888888,\"#fdca26\"],[1.0,\"#f0f921\"]]}],\"heatmapgl\":[{\"type\":\"heatmapgl\",\"colorbar\":{\"outlinewidth\":0,\"ticks\":\"\"},\"colorscale\":[[0.0,\"#0d0887\"],[0.1111111111111111,\"#46039f\"],[0.2222222222222222,\"#7201a8\"],[0.3333333333333333,\"#9c179e\"],[0.4444444444444444,\"#bd3786\"],[0.5555555555555556,\"#d8576b\"],[0.6666666666666666,\"#ed7953\"],[0.7777777777777778,\"#fb9f3a\"],[0.8888888888888888,\"#fdca26\"],[1.0,\"#f0f921\"]]}],\"contourcarpet\":[{\"type\":\"contourcarpet\",\"colorbar\":{\"outlinewidth\":0,\"ticks\":\"\"}}],\"contour\":[{\"type\":\"contour\",\"colorbar\":{\"outlinewidth\":0,\"ticks\":\"\"},\"colorscale\":[[0.0,\"#0d0887\"],[0.1111111111111111,\"#46039f\"],[0.2222222222222222,\"#7201a8\"],[0.3333333333333333,\"#9c179e\"],[0.4444444444444444,\"#bd3786\"],[0.5555555555555556,\"#d8576b\"],[0.6666666666666666,\"#ed7953\"],[0.7777777777777778,\"#fb9f3a\"],[0.8888888888888888,\"#fdca26\"],[1.0,\"#f0f921\"]]}],\"surface\":[{\"type\":\"surface\",\"colorbar\":{\"outlinewidth\":0,\"ticks\":\"\"},\"colorscale\":[[0.0,\"#0d0887\"],[0.1111111111111111,\"#46039f\"],[0.2222222222222222,\"#7201a8\"],[0.3333333333333333,\"#9c179e\"],[0.4444444444444444,\"#bd3786\"],[0.5555555555555556,\"#d8576b\"],[0.6666666666666666,\"#ed7953\"],[0.7777777777777778,\"#fb9f3a\"],[0.8888888888888888,\"#fdca26\"],[1.0,\"#f0f921\"]]}],\"mesh3d\":[{\"type\":\"mesh3d\",\"colorbar\":{\"outlinewidth\":0,\"ticks\":\"\"}}],\"scatter\":[{\"fillpattern\":{\"fillmode\":\"overlay\",\"size\":10,\"solidity\":0.2},\"type\":\"scatter\"}],\"parcoords\":[{\"type\":\"parcoords\",\"line\":{\"colorbar\":{\"outlinewidth\":0,\"ticks\":\"\"}}}],\"scatterpolargl\":[{\"type\":\"scatterpolargl\",\"marker\":{\"colorbar\":{\"outlinewidth\":0,\"ticks\":\"\"}}}],\"bar\":[{\"error_x\":{\"color\":\"#2a3f5f\"},\"error_y\":{\"color\":\"#2a3f5f\"},\"marker\":{\"line\":{\"color\":\"#E5ECF6\",\"width\":0.5},\"pattern\":{\"fillmode\":\"overlay\",\"size\":10,\"solidity\":0.2}},\"type\":\"bar\"}],\"scattergeo\":[{\"type\":\"scattergeo\",\"marker\":{\"colorbar\":{\"outlinewidth\":0,\"ticks\":\"\"}}}],\"scatterpolar\":[{\"type\":\"scatterpolar\",\"marker\":{\"colorbar\":{\"outlinewidth\":0,\"ticks\":\"\"}}}],\"histogram\":[{\"marker\":{\"pattern\":{\"fillmode\":\"overlay\",\"size\":10,\"solidity\":0.2}},\"type\":\"histogram\"}],\"scattergl\":[{\"type\":\"scattergl\",\"marker\":{\"colorbar\":{\"outlinewidth\":0,\"ticks\":\"\"}}}],\"scatter3d\":[{\"type\":\"scatter3d\",\"line\":{\"colorbar\":{\"outlinewidth\":0,\"ticks\":\"\"}},\"marker\":{\"colorbar\":{\"outlinewidth\":0,\"ticks\":\"\"}}}],\"scattermapbox\":[{\"type\":\"scattermapbox\",\"marker\":{\"colorbar\":{\"outlinewidth\":0,\"ticks\":\"\"}}}],\"scatterternary\":[{\"type\":\"scatterternary\",\"marker\":{\"colorbar\":{\"outlinewidth\":0,\"ticks\":\"\"}}}],\"scattercarpet\":[{\"type\":\"scattercarpet\",\"marker\":{\"colorbar\":{\"outlinewidth\":0,\"ticks\":\"\"}}}],\"carpet\":[{\"aaxis\":{\"endlinecolor\":\"#2a3f5f\",\"gridcolor\":\"white\",\"linecolor\":\"white\",\"minorgridcolor\":\"white\",\"startlinecolor\":\"#2a3f5f\"},\"baxis\":{\"endlinecolor\":\"#2a3f5f\",\"gridcolor\":\"white\",\"linecolor\":\"white\",\"minorgridcolor\":\"white\",\"startlinecolor\":\"#2a3f5f\"},\"type\":\"carpet\"}],\"table\":[{\"cells\":{\"fill\":{\"color\":\"#EBF0F8\"},\"line\":{\"color\":\"white\"}},\"header\":{\"fill\":{\"color\":\"#C8D4E3\"},\"line\":{\"color\":\"white\"}},\"type\":\"table\"}],\"barpolar\":[{\"marker\":{\"line\":{\"color\":\"#E5ECF6\",\"width\":0.5},\"pattern\":{\"fillmode\":\"overlay\",\"size\":10,\"solidity\":0.2}},\"type\":\"barpolar\"}],\"pie\":[{\"automargin\":true,\"type\":\"pie\"}]},\"layout\":{\"autotypenumbers\":\"strict\",\"colorway\":[\"#636efa\",\"#EF553B\",\"#00cc96\",\"#ab63fa\",\"#FFA15A\",\"#19d3f3\",\"#FF6692\",\"#B6E880\",\"#FF97FF\",\"#FECB52\"],\"font\":{\"color\":\"#2a3f5f\"},\"hovermode\":\"closest\",\"hoverlabel\":{\"align\":\"left\"},\"paper_bgcolor\":\"white\",\"plot_bgcolor\":\"#E5ECF6\",\"polar\":{\"bgcolor\":\"#E5ECF6\",\"angularaxis\":{\"gridcolor\":\"white\",\"linecolor\":\"white\",\"ticks\":\"\"},\"radialaxis\":{\"gridcolor\":\"white\",\"linecolor\":\"white\",\"ticks\":\"\"}},\"ternary\":{\"bgcolor\":\"#E5ECF6\",\"aaxis\":{\"gridcolor\":\"white\",\"linecolor\":\"white\",\"ticks\":\"\"},\"baxis\":{\"gridcolor\":\"white\",\"linecolor\":\"white\",\"ticks\":\"\"},\"caxis\":{\"gridcolor\":\"white\",\"linecolor\":\"white\",\"ticks\":\"\"}},\"coloraxis\":{\"colorbar\":{\"outlinewidth\":0,\"ticks\":\"\"}},\"colorscale\":{\"sequential\":[[0.0,\"#0d0887\"],[0.1111111111111111,\"#46039f\"],[0.2222222222222222,\"#7201a8\"],[0.3333333333333333,\"#9c179e\"],[0.4444444444444444,\"#bd3786\"],[0.5555555555555556,\"#d8576b\"],[0.6666666666666666,\"#ed7953\"],[0.7777777777777778,\"#fb9f3a\"],[0.8888888888888888,\"#fdca26\"],[1.0,\"#f0f921\"]],\"sequentialminus\":[[0.0,\"#0d0887\"],[0.1111111111111111,\"#46039f\"],[0.2222222222222222,\"#7201a8\"],[0.3333333333333333,\"#9c179e\"],[0.4444444444444444,\"#bd3786\"],[0.5555555555555556,\"#d8576b\"],[0.6666666666666666,\"#ed7953\"],[0.7777777777777778,\"#fb9f3a\"],[0.8888888888888888,\"#fdca26\"],[1.0,\"#f0f921\"]],\"diverging\":[[0,\"#8e0152\"],[0.1,\"#c51b7d\"],[0.2,\"#de77ae\"],[0.3,\"#f1b6da\"],[0.4,\"#fde0ef\"],[0.5,\"#f7f7f7\"],[0.6,\"#e6f5d0\"],[0.7,\"#b8e186\"],[0.8,\"#7fbc41\"],[0.9,\"#4d9221\"],[1,\"#276419\"]]},\"xaxis\":{\"gridcolor\":\"white\",\"linecolor\":\"white\",\"ticks\":\"\",\"title\":{\"standoff\":15},\"zerolinecolor\":\"white\",\"automargin\":true,\"zerolinewidth\":2},\"yaxis\":{\"gridcolor\":\"white\",\"linecolor\":\"white\",\"ticks\":\"\",\"title\":{\"standoff\":15},\"zerolinecolor\":\"white\",\"automargin\":true,\"zerolinewidth\":2},\"scene\":{\"xaxis\":{\"backgroundcolor\":\"#E5ECF6\",\"gridcolor\":\"white\",\"linecolor\":\"white\",\"showbackground\":true,\"ticks\":\"\",\"zerolinecolor\":\"white\",\"gridwidth\":2},\"yaxis\":{\"backgroundcolor\":\"#E5ECF6\",\"gridcolor\":\"white\",\"linecolor\":\"white\",\"showbackground\":true,\"ticks\":\"\",\"zerolinecolor\":\"white\",\"gridwidth\":2},\"zaxis\":{\"backgroundcolor\":\"#E5ECF6\",\"gridcolor\":\"white\",\"linecolor\":\"white\",\"showbackground\":true,\"ticks\":\"\",\"zerolinecolor\":\"white\",\"gridwidth\":2}},\"shapedefaults\":{\"line\":{\"color\":\"#2a3f5f\"}},\"annotationdefaults\":{\"arrowcolor\":\"#2a3f5f\",\"arrowhead\":0,\"arrowwidth\":1},\"geo\":{\"bgcolor\":\"white\",\"landcolor\":\"#E5ECF6\",\"subunitcolor\":\"white\",\"showland\":true,\"showlakes\":true,\"lakecolor\":\"white\"},\"title\":{\"x\":0.05},\"mapbox\":{\"style\":\"light\"}}},\"title\":{\"text\":\"N\\u00famero total de partos realizados no SUS\"},\"legend\":{\"title\":{\"text\":\"Bi\\u00eanio\"}},\"updatemenus\":[{\"buttons\":[{\"args\":[{\"y\":[[267140,100035,167105,1231047,413100,817947,438540,146771,291769,1200927,428772,772155,439477,166096,273381],[276281,124971,151310,1063404,428756,634648,424483,172823,251660,1165012,463185,701827,424633,187972,236661]]}],\"label\":\"Brasil\",\"method\":\"update\"},{\"args\":[{\"y\":[[267140,100035,167105],[276281,124971,151310]]}],\"label\":\"Centro-Oeste\",\"method\":\"update\"},{\"args\":[{\"y\":[[1231047,413100,817947],[1063404,428756,634648]]}],\"label\":\"Nordeste\",\"method\":\"update\"},{\"args\":[{\"y\":[[438540,146771,291769],[424483,172823,251660]]}],\"label\":\"Norte\",\"method\":\"update\"},{\"args\":[{\"y\":[[1200927,428772,772155],[1165012,463185,701827]]}],\"label\":\"Sudeste\",\"method\":\"update\"},{\"args\":[{\"y\":[[439477,166096,273381],[424633,187972,236661]]}],\"label\":\"Sul\",\"method\":\"update\"}],\"direction\":\"down\",\"showactive\":true}]},                        {\"responsive\": true}                    ).then(function(){\n",
       "                            \n",
       "var gd = document.getElementById('9c352e1e-1a22-432b-9f17-3afb8be9d44f');\n",
       "var x = new MutationObserver(function (mutations, observer) {{\n",
       "        var display = window.getComputedStyle(gd).display;\n",
       "        if (!display || display === 'none') {{\n",
       "            console.log([gd, 'removed!']);\n",
       "            Plotly.purge(gd);\n",
       "            observer.disconnect();\n",
       "        }}\n",
       "}});\n",
       "\n",
       "// Listen for the removal of the full notebook cells\n",
       "var notebookContainer = gd.closest('#notebook-container');\n",
       "if (notebookContainer) {{\n",
       "    x.observe(notebookContainer, {childList: true});\n",
       "}}\n",
       "\n",
       "// Listen for the clearing of the current output cell\n",
       "var outputEl = gd.closest('.output');\n",
       "if (outputEl) {{\n",
       "    x.observe(outputEl, {childList: true});\n",
       "}}\n",
       "\n",
       "                        })                };                });            </script>        </div>"
      ]
     },
     "metadata": {},
     "output_type": "display_data"
    }
   ],
   "source": [
    "df_regiao = add_total(select_and_group(df_proc_bienio, df_locs, cols_proc, loc='nome_regiao'))\n",
    "fig_regiao = fig_count_partos(df_regiao)\n",
    "fig_regiao.show()"
   ]
  },
  {
   "cell_type": "markdown",
   "metadata": {},
   "source": [
    "### UF"
   ]
  },
  {
   "cell_type": "code",
   "execution_count": 9,
   "metadata": {},
   "outputs": [
    {
     "data": {
      "application/vnd.plotly.v1+json": {
       "config": {
        "plotlyServerURL": "https://plot.ly"
       },
       "data": [
        {
         "marker": {
          "color": "#31A885"
         },
         "name": "2010-2011",
         "text": [
          22342,
          6267,
          16075,
          88380,
          43062,
          45318,
          22905,
          4716,
          18189,
          99961,
          28630,
          71331,
          325291,
          91326,
          233965,
          186380,
          72178,
          114202,
          61923,
          20920,
          41003,
          64477,
          28427,
          36050,
          87912,
          33194,
          54718,
          166273,
          34070,
          132203,
          60738,
          21613,
          39125,
          56567,
          24308,
          32259,
          330766,
          130590,
          200176,
          172131,
          61084,
          111047,
          85218,
          35500,
          49718,
          216873,
          83250,
          133623,
          178644,
          64582,
          114062,
          82420,
          33079,
          49341,
          67605,
          27924,
          39681,
          166710,
          64228,
          102482,
          187650,
          39323,
          148327,
          27414,
          9382,
          18032,
          9276,
          332,
          8944,
          100636,
          40784,
          59852,
          50836,
          11379,
          39457,
          618034,
          230432,
          387602,
          39769,
          14194,
          25575
         ],
         "textposition": "auto",
         "type": "bar",
         "x": [
          "Ambos",
          "Parto Cesárea",
          "Parto Normal",
          "Ambos",
          "Parto Cesárea",
          "Parto Normal",
          "Ambos",
          "Parto Cesárea",
          "Parto Normal",
          "Ambos",
          "Parto Cesárea",
          "Parto Normal",
          "Ambos",
          "Parto Cesárea",
          "Parto Normal",
          "Ambos",
          "Parto Cesárea",
          "Parto Normal",
          "Ambos",
          "Parto Cesárea",
          "Parto Normal",
          "Ambos",
          "Parto Cesárea",
          "Parto Normal",
          "Ambos",
          "Parto Cesárea",
          "Parto Normal",
          "Ambos",
          "Parto Cesárea",
          "Parto Normal",
          "Ambos",
          "Parto Cesárea",
          "Parto Normal",
          "Ambos",
          "Parto Cesárea",
          "Parto Normal",
          "Ambos",
          "Parto Cesárea",
          "Parto Normal",
          "Ambos",
          "Parto Cesárea",
          "Parto Normal",
          "Ambos",
          "Parto Cesárea",
          "Parto Normal",
          "Ambos",
          "Parto Cesárea",
          "Parto Normal",
          "Ambos",
          "Parto Cesárea",
          "Parto Normal",
          "Ambos",
          "Parto Cesárea",
          "Parto Normal",
          "Ambos",
          "Parto Cesárea",
          "Parto Normal",
          "Ambos",
          "Parto Cesárea",
          "Parto Normal",
          "Ambos",
          "Parto Cesárea",
          "Parto Normal",
          "Ambos",
          "Parto Cesárea",
          "Parto Normal",
          "Ambos",
          "Parto Cesárea",
          "Parto Normal",
          "Ambos",
          "Parto Cesárea",
          "Parto Normal",
          "Ambos",
          "Parto Cesárea",
          "Parto Normal",
          "Ambos",
          "Parto Cesárea",
          "Parto Normal",
          "Ambos",
          "Parto Cesárea",
          "Parto Normal"
         ],
         "y": [
          22342,
          6267,
          16075,
          88380,
          43062,
          45318,
          22905,
          4716,
          18189,
          99961,
          28630,
          71331,
          325291,
          91326,
          233965,
          186380,
          72178,
          114202,
          61923,
          20920,
          41003,
          64477,
          28427,
          36050,
          87912,
          33194,
          54718,
          166273,
          34070,
          132203,
          60738,
          21613,
          39125,
          56567,
          24308,
          32259,
          330766,
          130590,
          200176,
          172131,
          61084,
          111047,
          85218,
          35500,
          49718,
          216873,
          83250,
          133623,
          178644,
          64582,
          114062,
          82420,
          33079,
          49341,
          67605,
          27924,
          39681,
          166710,
          64228,
          102482,
          187650,
          39323,
          148327,
          27414,
          9382,
          18032,
          9276,
          332,
          8944,
          100636,
          40784,
          59852,
          50836,
          11379,
          39457,
          618034,
          230432,
          387602,
          39769,
          14194,
          25575
         ]
        },
        {
         "marker": {
          "color": "#DD6F1C"
         },
         "name": "2018-2019",
         "text": [
          16191,
          7029,
          9162,
          80149,
          35599,
          44550,
          25285,
          7879,
          17406,
          112215,
          39183,
          73032,
          270824,
          90353,
          180471,
          159458,
          84752,
          74706,
          53514,
          20059,
          33455,
          61301,
          28897,
          32404,
          100650,
          48433,
          52217,
          161614,
          59297,
          102317,
          67660,
          29821,
          37839,
          54457,
          26658,
          27799,
          280215,
          122021,
          158194,
          159239,
          69141,
          90098,
          69823,
          33203,
          36620,
          198262,
          87879,
          110383,
          151410,
          50640,
          100770,
          67853,
          32156,
          35697,
          59410,
          30478,
          28932,
          166245,
          79867,
          86378,
          230593,
          82583,
          148010,
          29826,
          15060,
          14766,
          10892,
          1564,
          9328,
          99149,
          38964,
          60185,
          42863,
          12278,
          30585,
          592903,
          229684,
          363219,
          31812,
          14229,
          17583
         ],
         "textposition": "auto",
         "type": "bar",
         "x": [
          "Ambos",
          "Parto Cesárea",
          "Parto Normal",
          "Ambos",
          "Parto Cesárea",
          "Parto Normal",
          "Ambos",
          "Parto Cesárea",
          "Parto Normal",
          "Ambos",
          "Parto Cesárea",
          "Parto Normal",
          "Ambos",
          "Parto Cesárea",
          "Parto Normal",
          "Ambos",
          "Parto Cesárea",
          "Parto Normal",
          "Ambos",
          "Parto Cesárea",
          "Parto Normal",
          "Ambos",
          "Parto Cesárea",
          "Parto Normal",
          "Ambos",
          "Parto Cesárea",
          "Parto Normal",
          "Ambos",
          "Parto Cesárea",
          "Parto Normal",
          "Ambos",
          "Parto Cesárea",
          "Parto Normal",
          "Ambos",
          "Parto Cesárea",
          "Parto Normal",
          "Ambos",
          "Parto Cesárea",
          "Parto Normal",
          "Ambos",
          "Parto Cesárea",
          "Parto Normal",
          "Ambos",
          "Parto Cesárea",
          "Parto Normal",
          "Ambos",
          "Parto Cesárea",
          "Parto Normal",
          "Ambos",
          "Parto Cesárea",
          "Parto Normal",
          "Ambos",
          "Parto Cesárea",
          "Parto Normal",
          "Ambos",
          "Parto Cesárea",
          "Parto Normal",
          "Ambos",
          "Parto Cesárea",
          "Parto Normal",
          "Ambos",
          "Parto Cesárea",
          "Parto Normal",
          "Ambos",
          "Parto Cesárea",
          "Parto Normal",
          "Ambos",
          "Parto Cesárea",
          "Parto Normal",
          "Ambos",
          "Parto Cesárea",
          "Parto Normal",
          "Ambos",
          "Parto Cesárea",
          "Parto Normal",
          "Ambos",
          "Parto Cesárea",
          "Parto Normal",
          "Ambos",
          "Parto Cesárea",
          "Parto Normal"
         ],
         "y": [
          16191,
          7029,
          9162,
          80149,
          35599,
          44550,
          25285,
          7879,
          17406,
          112215,
          39183,
          73032,
          270824,
          90353,
          180471,
          159458,
          84752,
          74706,
          53514,
          20059,
          33455,
          61301,
          28897,
          32404,
          100650,
          48433,
          52217,
          161614,
          59297,
          102317,
          67660,
          29821,
          37839,
          54457,
          26658,
          27799,
          280215,
          122021,
          158194,
          159239,
          69141,
          90098,
          69823,
          33203,
          36620,
          198262,
          87879,
          110383,
          151410,
          50640,
          100770,
          67853,
          32156,
          35697,
          59410,
          30478,
          28932,
          166245,
          79867,
          86378,
          230593,
          82583,
          148010,
          29826,
          15060,
          14766,
          10892,
          1564,
          9328,
          99149,
          38964,
          60185,
          42863,
          12278,
          30585,
          592903,
          229684,
          363219,
          31812,
          14229,
          17583
         ]
        }
       ],
       "layout": {
        "legend": {
         "title": {
          "text": "Biênio"
         }
        },
        "template": {
         "data": {
          "bar": [
           {
            "error_x": {
             "color": "#2a3f5f"
            },
            "error_y": {
             "color": "#2a3f5f"
            },
            "marker": {
             "line": {
              "color": "#E5ECF6",
              "width": 0.5
             },
             "pattern": {
              "fillmode": "overlay",
              "size": 10,
              "solidity": 0.2
             }
            },
            "type": "bar"
           }
          ],
          "barpolar": [
           {
            "marker": {
             "line": {
              "color": "#E5ECF6",
              "width": 0.5
             },
             "pattern": {
              "fillmode": "overlay",
              "size": 10,
              "solidity": 0.2
             }
            },
            "type": "barpolar"
           }
          ],
          "carpet": [
           {
            "aaxis": {
             "endlinecolor": "#2a3f5f",
             "gridcolor": "white",
             "linecolor": "white",
             "minorgridcolor": "white",
             "startlinecolor": "#2a3f5f"
            },
            "baxis": {
             "endlinecolor": "#2a3f5f",
             "gridcolor": "white",
             "linecolor": "white",
             "minorgridcolor": "white",
             "startlinecolor": "#2a3f5f"
            },
            "type": "carpet"
           }
          ],
          "choropleth": [
           {
            "colorbar": {
             "outlinewidth": 0,
             "ticks": ""
            },
            "type": "choropleth"
           }
          ],
          "contour": [
           {
            "colorbar": {
             "outlinewidth": 0,
             "ticks": ""
            },
            "colorscale": [
             [
              0,
              "#0d0887"
             ],
             [
              0.1111111111111111,
              "#46039f"
             ],
             [
              0.2222222222222222,
              "#7201a8"
             ],
             [
              0.3333333333333333,
              "#9c179e"
             ],
             [
              0.4444444444444444,
              "#bd3786"
             ],
             [
              0.5555555555555556,
              "#d8576b"
             ],
             [
              0.6666666666666666,
              "#ed7953"
             ],
             [
              0.7777777777777778,
              "#fb9f3a"
             ],
             [
              0.8888888888888888,
              "#fdca26"
             ],
             [
              1,
              "#f0f921"
             ]
            ],
            "type": "contour"
           }
          ],
          "contourcarpet": [
           {
            "colorbar": {
             "outlinewidth": 0,
             "ticks": ""
            },
            "type": "contourcarpet"
           }
          ],
          "heatmap": [
           {
            "colorbar": {
             "outlinewidth": 0,
             "ticks": ""
            },
            "colorscale": [
             [
              0,
              "#0d0887"
             ],
             [
              0.1111111111111111,
              "#46039f"
             ],
             [
              0.2222222222222222,
              "#7201a8"
             ],
             [
              0.3333333333333333,
              "#9c179e"
             ],
             [
              0.4444444444444444,
              "#bd3786"
             ],
             [
              0.5555555555555556,
              "#d8576b"
             ],
             [
              0.6666666666666666,
              "#ed7953"
             ],
             [
              0.7777777777777778,
              "#fb9f3a"
             ],
             [
              0.8888888888888888,
              "#fdca26"
             ],
             [
              1,
              "#f0f921"
             ]
            ],
            "type": "heatmap"
           }
          ],
          "heatmapgl": [
           {
            "colorbar": {
             "outlinewidth": 0,
             "ticks": ""
            },
            "colorscale": [
             [
              0,
              "#0d0887"
             ],
             [
              0.1111111111111111,
              "#46039f"
             ],
             [
              0.2222222222222222,
              "#7201a8"
             ],
             [
              0.3333333333333333,
              "#9c179e"
             ],
             [
              0.4444444444444444,
              "#bd3786"
             ],
             [
              0.5555555555555556,
              "#d8576b"
             ],
             [
              0.6666666666666666,
              "#ed7953"
             ],
             [
              0.7777777777777778,
              "#fb9f3a"
             ],
             [
              0.8888888888888888,
              "#fdca26"
             ],
             [
              1,
              "#f0f921"
             ]
            ],
            "type": "heatmapgl"
           }
          ],
          "histogram": [
           {
            "marker": {
             "pattern": {
              "fillmode": "overlay",
              "size": 10,
              "solidity": 0.2
             }
            },
            "type": "histogram"
           }
          ],
          "histogram2d": [
           {
            "colorbar": {
             "outlinewidth": 0,
             "ticks": ""
            },
            "colorscale": [
             [
              0,
              "#0d0887"
             ],
             [
              0.1111111111111111,
              "#46039f"
             ],
             [
              0.2222222222222222,
              "#7201a8"
             ],
             [
              0.3333333333333333,
              "#9c179e"
             ],
             [
              0.4444444444444444,
              "#bd3786"
             ],
             [
              0.5555555555555556,
              "#d8576b"
             ],
             [
              0.6666666666666666,
              "#ed7953"
             ],
             [
              0.7777777777777778,
              "#fb9f3a"
             ],
             [
              0.8888888888888888,
              "#fdca26"
             ],
             [
              1,
              "#f0f921"
             ]
            ],
            "type": "histogram2d"
           }
          ],
          "histogram2dcontour": [
           {
            "colorbar": {
             "outlinewidth": 0,
             "ticks": ""
            },
            "colorscale": [
             [
              0,
              "#0d0887"
             ],
             [
              0.1111111111111111,
              "#46039f"
             ],
             [
              0.2222222222222222,
              "#7201a8"
             ],
             [
              0.3333333333333333,
              "#9c179e"
             ],
             [
              0.4444444444444444,
              "#bd3786"
             ],
             [
              0.5555555555555556,
              "#d8576b"
             ],
             [
              0.6666666666666666,
              "#ed7953"
             ],
             [
              0.7777777777777778,
              "#fb9f3a"
             ],
             [
              0.8888888888888888,
              "#fdca26"
             ],
             [
              1,
              "#f0f921"
             ]
            ],
            "type": "histogram2dcontour"
           }
          ],
          "mesh3d": [
           {
            "colorbar": {
             "outlinewidth": 0,
             "ticks": ""
            },
            "type": "mesh3d"
           }
          ],
          "parcoords": [
           {
            "line": {
             "colorbar": {
              "outlinewidth": 0,
              "ticks": ""
             }
            },
            "type": "parcoords"
           }
          ],
          "pie": [
           {
            "automargin": true,
            "type": "pie"
           }
          ],
          "scatter": [
           {
            "fillpattern": {
             "fillmode": "overlay",
             "size": 10,
             "solidity": 0.2
            },
            "type": "scatter"
           }
          ],
          "scatter3d": [
           {
            "line": {
             "colorbar": {
              "outlinewidth": 0,
              "ticks": ""
             }
            },
            "marker": {
             "colorbar": {
              "outlinewidth": 0,
              "ticks": ""
             }
            },
            "type": "scatter3d"
           }
          ],
          "scattercarpet": [
           {
            "marker": {
             "colorbar": {
              "outlinewidth": 0,
              "ticks": ""
             }
            },
            "type": "scattercarpet"
           }
          ],
          "scattergeo": [
           {
            "marker": {
             "colorbar": {
              "outlinewidth": 0,
              "ticks": ""
             }
            },
            "type": "scattergeo"
           }
          ],
          "scattergl": [
           {
            "marker": {
             "colorbar": {
              "outlinewidth": 0,
              "ticks": ""
             }
            },
            "type": "scattergl"
           }
          ],
          "scattermapbox": [
           {
            "marker": {
             "colorbar": {
              "outlinewidth": 0,
              "ticks": ""
             }
            },
            "type": "scattermapbox"
           }
          ],
          "scatterpolar": [
           {
            "marker": {
             "colorbar": {
              "outlinewidth": 0,
              "ticks": ""
             }
            },
            "type": "scatterpolar"
           }
          ],
          "scatterpolargl": [
           {
            "marker": {
             "colorbar": {
              "outlinewidth": 0,
              "ticks": ""
             }
            },
            "type": "scatterpolargl"
           }
          ],
          "scatterternary": [
           {
            "marker": {
             "colorbar": {
              "outlinewidth": 0,
              "ticks": ""
             }
            },
            "type": "scatterternary"
           }
          ],
          "surface": [
           {
            "colorbar": {
             "outlinewidth": 0,
             "ticks": ""
            },
            "colorscale": [
             [
              0,
              "#0d0887"
             ],
             [
              0.1111111111111111,
              "#46039f"
             ],
             [
              0.2222222222222222,
              "#7201a8"
             ],
             [
              0.3333333333333333,
              "#9c179e"
             ],
             [
              0.4444444444444444,
              "#bd3786"
             ],
             [
              0.5555555555555556,
              "#d8576b"
             ],
             [
              0.6666666666666666,
              "#ed7953"
             ],
             [
              0.7777777777777778,
              "#fb9f3a"
             ],
             [
              0.8888888888888888,
              "#fdca26"
             ],
             [
              1,
              "#f0f921"
             ]
            ],
            "type": "surface"
           }
          ],
          "table": [
           {
            "cells": {
             "fill": {
              "color": "#EBF0F8"
             },
             "line": {
              "color": "white"
             }
            },
            "header": {
             "fill": {
              "color": "#C8D4E3"
             },
             "line": {
              "color": "white"
             }
            },
            "type": "table"
           }
          ]
         },
         "layout": {
          "annotationdefaults": {
           "arrowcolor": "#2a3f5f",
           "arrowhead": 0,
           "arrowwidth": 1
          },
          "autotypenumbers": "strict",
          "coloraxis": {
           "colorbar": {
            "outlinewidth": 0,
            "ticks": ""
           }
          },
          "colorscale": {
           "diverging": [
            [
             0,
             "#8e0152"
            ],
            [
             0.1,
             "#c51b7d"
            ],
            [
             0.2,
             "#de77ae"
            ],
            [
             0.3,
             "#f1b6da"
            ],
            [
             0.4,
             "#fde0ef"
            ],
            [
             0.5,
             "#f7f7f7"
            ],
            [
             0.6,
             "#e6f5d0"
            ],
            [
             0.7,
             "#b8e186"
            ],
            [
             0.8,
             "#7fbc41"
            ],
            [
             0.9,
             "#4d9221"
            ],
            [
             1,
             "#276419"
            ]
           ],
           "sequential": [
            [
             0,
             "#0d0887"
            ],
            [
             0.1111111111111111,
             "#46039f"
            ],
            [
             0.2222222222222222,
             "#7201a8"
            ],
            [
             0.3333333333333333,
             "#9c179e"
            ],
            [
             0.4444444444444444,
             "#bd3786"
            ],
            [
             0.5555555555555556,
             "#d8576b"
            ],
            [
             0.6666666666666666,
             "#ed7953"
            ],
            [
             0.7777777777777778,
             "#fb9f3a"
            ],
            [
             0.8888888888888888,
             "#fdca26"
            ],
            [
             1,
             "#f0f921"
            ]
           ],
           "sequentialminus": [
            [
             0,
             "#0d0887"
            ],
            [
             0.1111111111111111,
             "#46039f"
            ],
            [
             0.2222222222222222,
             "#7201a8"
            ],
            [
             0.3333333333333333,
             "#9c179e"
            ],
            [
             0.4444444444444444,
             "#bd3786"
            ],
            [
             0.5555555555555556,
             "#d8576b"
            ],
            [
             0.6666666666666666,
             "#ed7953"
            ],
            [
             0.7777777777777778,
             "#fb9f3a"
            ],
            [
             0.8888888888888888,
             "#fdca26"
            ],
            [
             1,
             "#f0f921"
            ]
           ]
          },
          "colorway": [
           "#636efa",
           "#EF553B",
           "#00cc96",
           "#ab63fa",
           "#FFA15A",
           "#19d3f3",
           "#FF6692",
           "#B6E880",
           "#FF97FF",
           "#FECB52"
          ],
          "font": {
           "color": "#2a3f5f"
          },
          "geo": {
           "bgcolor": "white",
           "lakecolor": "white",
           "landcolor": "#E5ECF6",
           "showlakes": true,
           "showland": true,
           "subunitcolor": "white"
          },
          "hoverlabel": {
           "align": "left"
          },
          "hovermode": "closest",
          "mapbox": {
           "style": "light"
          },
          "paper_bgcolor": "white",
          "plot_bgcolor": "#E5ECF6",
          "polar": {
           "angularaxis": {
            "gridcolor": "white",
            "linecolor": "white",
            "ticks": ""
           },
           "bgcolor": "#E5ECF6",
           "radialaxis": {
            "gridcolor": "white",
            "linecolor": "white",
            "ticks": ""
           }
          },
          "scene": {
           "xaxis": {
            "backgroundcolor": "#E5ECF6",
            "gridcolor": "white",
            "gridwidth": 2,
            "linecolor": "white",
            "showbackground": true,
            "ticks": "",
            "zerolinecolor": "white"
           },
           "yaxis": {
            "backgroundcolor": "#E5ECF6",
            "gridcolor": "white",
            "gridwidth": 2,
            "linecolor": "white",
            "showbackground": true,
            "ticks": "",
            "zerolinecolor": "white"
           },
           "zaxis": {
            "backgroundcolor": "#E5ECF6",
            "gridcolor": "white",
            "gridwidth": 2,
            "linecolor": "white",
            "showbackground": true,
            "ticks": "",
            "zerolinecolor": "white"
           }
          },
          "shapedefaults": {
           "line": {
            "color": "#2a3f5f"
           }
          },
          "ternary": {
           "aaxis": {
            "gridcolor": "white",
            "linecolor": "white",
            "ticks": ""
           },
           "baxis": {
            "gridcolor": "white",
            "linecolor": "white",
            "ticks": ""
           },
           "bgcolor": "#E5ECF6",
           "caxis": {
            "gridcolor": "white",
            "linecolor": "white",
            "ticks": ""
           }
          },
          "title": {
           "x": 0.05
          },
          "xaxis": {
           "automargin": true,
           "gridcolor": "white",
           "linecolor": "white",
           "ticks": "",
           "title": {
            "standoff": 15
           },
           "zerolinecolor": "white",
           "zerolinewidth": 2
          },
          "yaxis": {
           "automargin": true,
           "gridcolor": "white",
           "linecolor": "white",
           "ticks": "",
           "title": {
            "standoff": 15
           },
           "zerolinecolor": "white",
           "zerolinewidth": 2
          }
         }
        },
        "title": {
         "text": "Número total de partos realizados no SUS"
        },
        "updatemenus": [
         {
          "buttons": [
           {
            "args": [
             {
              "y": [
               [
                22342,
                6267,
                16075,
                88380,
                43062,
                45318,
                22905,
                4716,
                18189,
                99961,
                28630,
                71331,
                325291,
                91326,
                233965,
                186380,
                72178,
                114202,
                61923,
                20920,
                41003,
                64477,
                28427,
                36050,
                87912,
                33194,
                54718,
                166273,
                34070,
                132203,
                60738,
                21613,
                39125,
                56567,
                24308,
                32259,
                330766,
                130590,
                200176,
                172131,
                61084,
                111047,
                85218,
                35500,
                49718,
                216873,
                83250,
                133623,
                178644,
                64582,
                114062,
                82420,
                33079,
                49341,
                67605,
                27924,
                39681,
                166710,
                64228,
                102482,
                187650,
                39323,
                148327,
                27414,
                9382,
                18032,
                9276,
                332,
                8944,
                100636,
                40784,
                59852,
                50836,
                11379,
                39457,
                618034,
                230432,
                387602,
                39769,
                14194,
                25575
               ],
               [
                16191,
                7029,
                9162,
                80149,
                35599,
                44550,
                25285,
                7879,
                17406,
                112215,
                39183,
                73032,
                270824,
                90353,
                180471,
                159458,
                84752,
                74706,
                53514,
                20059,
                33455,
                61301,
                28897,
                32404,
                100650,
                48433,
                52217,
                161614,
                59297,
                102317,
                67660,
                29821,
                37839,
                54457,
                26658,
                27799,
                280215,
                122021,
                158194,
                159239,
                69141,
                90098,
                69823,
                33203,
                36620,
                198262,
                87879,
                110383,
                151410,
                50640,
                100770,
                67853,
                32156,
                35697,
                59410,
                30478,
                28932,
                166245,
                79867,
                86378,
                230593,
                82583,
                148010,
                29826,
                15060,
                14766,
                10892,
                1564,
                9328,
                99149,
                38964,
                60185,
                42863,
                12278,
                30585,
                592903,
                229684,
                363219,
                31812,
                14229,
                17583
               ]
              ]
             }
            ],
            "label": "Brasil",
            "method": "update"
           },
           {
            "args": [
             {
              "y": [
               [
                22342,
                6267,
                16075
               ],
               [
                16191,
                7029,
                9162
               ]
              ]
             }
            ],
            "label": "Acre",
            "method": "update"
           },
           {
            "args": [
             {
              "y": [
               [
                88380,
                43062,
                45318
               ],
               [
                80149,
                35599,
                44550
               ]
              ]
             }
            ],
            "label": "Alagoas",
            "method": "update"
           },
           {
            "args": [
             {
              "y": [
               [
                22905,
                4716,
                18189
               ],
               [
                25285,
                7879,
                17406
               ]
              ]
             }
            ],
            "label": "Amapá",
            "method": "update"
           },
           {
            "args": [
             {
              "y": [
               [
                99961,
                28630,
                71331
               ],
               [
                112215,
                39183,
                73032
               ]
              ]
             }
            ],
            "label": "Amazonas",
            "method": "update"
           },
           {
            "args": [
             {
              "y": [
               [
                325291,
                91326,
                233965
               ],
               [
                270824,
                90353,
                180471
               ]
              ]
             }
            ],
            "label": "Bahia",
            "method": "update"
           },
           {
            "args": [
             {
              "y": [
               [
                186380,
                72178,
                114202
               ],
               [
                159458,
                84752,
                74706
               ]
              ]
             }
            ],
            "label": "Ceará",
            "method": "update"
           },
           {
            "args": [
             {
              "y": [
               [
                61923,
                20920,
                41003
               ],
               [
                53514,
                20059,
                33455
               ]
              ]
             }
            ],
            "label": "Distrito Federal",
            "method": "update"
           },
           {
            "args": [
             {
              "y": [
               [
                64477,
                28427,
                36050
               ],
               [
                61301,
                28897,
                32404
               ]
              ]
             }
            ],
            "label": "Espírito Santo",
            "method": "update"
           },
           {
            "args": [
             {
              "y": [
               [
                87912,
                33194,
                54718
               ],
               [
                100650,
                48433,
                52217
               ]
              ]
             }
            ],
            "label": "Goiás",
            "method": "update"
           },
           {
            "args": [
             {
              "y": [
               [
                166273,
                34070,
                132203
               ],
               [
                161614,
                59297,
                102317
               ]
              ]
             }
            ],
            "label": "Maranhão",
            "method": "update"
           },
           {
            "args": [
             {
              "y": [
               [
                60738,
                21613,
                39125
               ],
               [
                67660,
                29821,
                37839
               ]
              ]
             }
            ],
            "label": "Mato Grosso",
            "method": "update"
           },
           {
            "args": [
             {
              "y": [
               [
                56567,
                24308,
                32259
               ],
               [
                54457,
                26658,
                27799
               ]
              ]
             }
            ],
            "label": "Mato Grosso do Sul",
            "method": "update"
           },
           {
            "args": [
             {
              "y": [
               [
                330766,
                130590,
                200176
               ],
               [
                280215,
                122021,
                158194
               ]
              ]
             }
            ],
            "label": "Minas Gerais",
            "method": "update"
           },
           {
            "args": [
             {
              "y": [
               [
                172131,
                61084,
                111047
               ],
               [
                159239,
                69141,
                90098
               ]
              ]
             }
            ],
            "label": "Paraná",
            "method": "update"
           },
           {
            "args": [
             {
              "y": [
               [
                85218,
                35500,
                49718
               ],
               [
                69823,
                33203,
                36620
               ]
              ]
             }
            ],
            "label": "Paraíba",
            "method": "update"
           },
           {
            "args": [
             {
              "y": [
               [
                216873,
                83250,
                133623
               ],
               [
                198262,
                87879,
                110383
               ]
              ]
             }
            ],
            "label": "Pará",
            "method": "update"
           },
           {
            "args": [
             {
              "y": [
               [
                178644,
                64582,
                114062
               ],
               [
                151410,
                50640,
                100770
               ]
              ]
             }
            ],
            "label": "Pernambuco",
            "method": "update"
           },
           {
            "args": [
             {
              "y": [
               [
                82420,
                33079,
                49341
               ],
               [
                67853,
                32156,
                35697
               ]
              ]
             }
            ],
            "label": "Piauí",
            "method": "update"
           },
           {
            "args": [
             {
              "y": [
               [
                67605,
                27924,
                39681
               ],
               [
                59410,
                30478,
                28932
               ]
              ]
             }
            ],
            "label": "Rio Grande do Norte",
            "method": "update"
           },
           {
            "args": [
             {
              "y": [
               [
                166710,
                64228,
                102482
               ],
               [
                166245,
                79867,
                86378
               ]
              ]
             }
            ],
            "label": "Rio Grande do Sul",
            "method": "update"
           },
           {
            "args": [
             {
              "y": [
               [
                187650,
                39323,
                148327
               ],
               [
                230593,
                82583,
                148010
               ]
              ]
             }
            ],
            "label": "Rio de Janeiro",
            "method": "update"
           },
           {
            "args": [
             {
              "y": [
               [
                27414,
                9382,
                18032
               ],
               [
                29826,
                15060,
                14766
               ]
              ]
             }
            ],
            "label": "Rondônia",
            "method": "update"
           },
           {
            "args": [
             {
              "y": [
               [
                9276,
                332,
                8944
               ],
               [
                10892,
                1564,
                9328
               ]
              ]
             }
            ],
            "label": "Roraima",
            "method": "update"
           },
           {
            "args": [
             {
              "y": [
               [
                100636,
                40784,
                59852
               ],
               [
                99149,
                38964,
                60185
               ]
              ]
             }
            ],
            "label": "Santa Catarina",
            "method": "update"
           },
           {
            "args": [
             {
              "y": [
               [
                50836,
                11379,
                39457
               ],
               [
                42863,
                12278,
                30585
               ]
              ]
             }
            ],
            "label": "Sergipe",
            "method": "update"
           },
           {
            "args": [
             {
              "y": [
               [
                618034,
                230432,
                387602
               ],
               [
                592903,
                229684,
                363219
               ]
              ]
             }
            ],
            "label": "São Paulo",
            "method": "update"
           },
           {
            "args": [
             {
              "y": [
               [
                39769,
                14194,
                25575
               ],
               [
                31812,
                14229,
                17583
               ]
              ]
             }
            ],
            "label": "Tocantins",
            "method": "update"
           }
          ],
          "direction": "down",
          "showactive": true
         }
        ]
       }
      },
      "text/html": [
       "<div>                            <div id=\"c2b6f644-7b70-4795-9920-8abbaf0f875a\" class=\"plotly-graph-div\" style=\"height:525px; width:100%;\"></div>            <script type=\"text/javascript\">                require([\"plotly\"], function(Plotly) {                    window.PLOTLYENV=window.PLOTLYENV || {};                                    if (document.getElementById(\"c2b6f644-7b70-4795-9920-8abbaf0f875a\")) {                    Plotly.newPlot(                        \"c2b6f644-7b70-4795-9920-8abbaf0f875a\",                        [{\"marker\":{\"color\":\"#31A885\"},\"name\":\"2010-2011\",\"text\":[22342.0,6267.0,16075.0,88380.0,43062.0,45318.0,22905.0,4716.0,18189.0,99961.0,28630.0,71331.0,325291.0,91326.0,233965.0,186380.0,72178.0,114202.0,61923.0,20920.0,41003.0,64477.0,28427.0,36050.0,87912.0,33194.0,54718.0,166273.0,34070.0,132203.0,60738.0,21613.0,39125.0,56567.0,24308.0,32259.0,330766.0,130590.0,200176.0,172131.0,61084.0,111047.0,85218.0,35500.0,49718.0,216873.0,83250.0,133623.0,178644.0,64582.0,114062.0,82420.0,33079.0,49341.0,67605.0,27924.0,39681.0,166710.0,64228.0,102482.0,187650.0,39323.0,148327.0,27414.0,9382.0,18032.0,9276.0,332.0,8944.0,100636.0,40784.0,59852.0,50836.0,11379.0,39457.0,618034.0,230432.0,387602.0,39769.0,14194.0,25575.0],\"textposition\":\"auto\",\"x\":[\"Ambos\",\"Parto Ces\\u00e1rea\",\"Parto Normal\",\"Ambos\",\"Parto Ces\\u00e1rea\",\"Parto Normal\",\"Ambos\",\"Parto Ces\\u00e1rea\",\"Parto Normal\",\"Ambos\",\"Parto Ces\\u00e1rea\",\"Parto Normal\",\"Ambos\",\"Parto Ces\\u00e1rea\",\"Parto Normal\",\"Ambos\",\"Parto Ces\\u00e1rea\",\"Parto Normal\",\"Ambos\",\"Parto Ces\\u00e1rea\",\"Parto Normal\",\"Ambos\",\"Parto Ces\\u00e1rea\",\"Parto Normal\",\"Ambos\",\"Parto Ces\\u00e1rea\",\"Parto Normal\",\"Ambos\",\"Parto Ces\\u00e1rea\",\"Parto Normal\",\"Ambos\",\"Parto Ces\\u00e1rea\",\"Parto Normal\",\"Ambos\",\"Parto Ces\\u00e1rea\",\"Parto Normal\",\"Ambos\",\"Parto Ces\\u00e1rea\",\"Parto Normal\",\"Ambos\",\"Parto Ces\\u00e1rea\",\"Parto Normal\",\"Ambos\",\"Parto Ces\\u00e1rea\",\"Parto Normal\",\"Ambos\",\"Parto Ces\\u00e1rea\",\"Parto Normal\",\"Ambos\",\"Parto Ces\\u00e1rea\",\"Parto Normal\",\"Ambos\",\"Parto Ces\\u00e1rea\",\"Parto Normal\",\"Ambos\",\"Parto Ces\\u00e1rea\",\"Parto Normal\",\"Ambos\",\"Parto Ces\\u00e1rea\",\"Parto Normal\",\"Ambos\",\"Parto Ces\\u00e1rea\",\"Parto Normal\",\"Ambos\",\"Parto Ces\\u00e1rea\",\"Parto Normal\",\"Ambos\",\"Parto Ces\\u00e1rea\",\"Parto Normal\",\"Ambos\",\"Parto Ces\\u00e1rea\",\"Parto Normal\",\"Ambos\",\"Parto Ces\\u00e1rea\",\"Parto Normal\",\"Ambos\",\"Parto Ces\\u00e1rea\",\"Parto Normal\",\"Ambos\",\"Parto Ces\\u00e1rea\",\"Parto Normal\"],\"y\":[22342,6267,16075,88380,43062,45318,22905,4716,18189,99961,28630,71331,325291,91326,233965,186380,72178,114202,61923,20920,41003,64477,28427,36050,87912,33194,54718,166273,34070,132203,60738,21613,39125,56567,24308,32259,330766,130590,200176,172131,61084,111047,85218,35500,49718,216873,83250,133623,178644,64582,114062,82420,33079,49341,67605,27924,39681,166710,64228,102482,187650,39323,148327,27414,9382,18032,9276,332,8944,100636,40784,59852,50836,11379,39457,618034,230432,387602,39769,14194,25575],\"type\":\"bar\"},{\"marker\":{\"color\":\"#DD6F1C\"},\"name\":\"2018-2019\",\"text\":[16191.0,7029.0,9162.0,80149.0,35599.0,44550.0,25285.0,7879.0,17406.0,112215.0,39183.0,73032.0,270824.0,90353.0,180471.0,159458.0,84752.0,74706.0,53514.0,20059.0,33455.0,61301.0,28897.0,32404.0,100650.0,48433.0,52217.0,161614.0,59297.0,102317.0,67660.0,29821.0,37839.0,54457.0,26658.0,27799.0,280215.0,122021.0,158194.0,159239.0,69141.0,90098.0,69823.0,33203.0,36620.0,198262.0,87879.0,110383.0,151410.0,50640.0,100770.0,67853.0,32156.0,35697.0,59410.0,30478.0,28932.0,166245.0,79867.0,86378.0,230593.0,82583.0,148010.0,29826.0,15060.0,14766.0,10892.0,1564.0,9328.0,99149.0,38964.0,60185.0,42863.0,12278.0,30585.0,592903.0,229684.0,363219.0,31812.0,14229.0,17583.0],\"textposition\":\"auto\",\"x\":[\"Ambos\",\"Parto Ces\\u00e1rea\",\"Parto Normal\",\"Ambos\",\"Parto Ces\\u00e1rea\",\"Parto Normal\",\"Ambos\",\"Parto Ces\\u00e1rea\",\"Parto Normal\",\"Ambos\",\"Parto Ces\\u00e1rea\",\"Parto Normal\",\"Ambos\",\"Parto Ces\\u00e1rea\",\"Parto Normal\",\"Ambos\",\"Parto Ces\\u00e1rea\",\"Parto Normal\",\"Ambos\",\"Parto Ces\\u00e1rea\",\"Parto Normal\",\"Ambos\",\"Parto Ces\\u00e1rea\",\"Parto Normal\",\"Ambos\",\"Parto Ces\\u00e1rea\",\"Parto Normal\",\"Ambos\",\"Parto Ces\\u00e1rea\",\"Parto Normal\",\"Ambos\",\"Parto Ces\\u00e1rea\",\"Parto Normal\",\"Ambos\",\"Parto Ces\\u00e1rea\",\"Parto Normal\",\"Ambos\",\"Parto Ces\\u00e1rea\",\"Parto Normal\",\"Ambos\",\"Parto Ces\\u00e1rea\",\"Parto Normal\",\"Ambos\",\"Parto Ces\\u00e1rea\",\"Parto Normal\",\"Ambos\",\"Parto Ces\\u00e1rea\",\"Parto Normal\",\"Ambos\",\"Parto Ces\\u00e1rea\",\"Parto Normal\",\"Ambos\",\"Parto Ces\\u00e1rea\",\"Parto Normal\",\"Ambos\",\"Parto Ces\\u00e1rea\",\"Parto Normal\",\"Ambos\",\"Parto Ces\\u00e1rea\",\"Parto Normal\",\"Ambos\",\"Parto Ces\\u00e1rea\",\"Parto Normal\",\"Ambos\",\"Parto Ces\\u00e1rea\",\"Parto Normal\",\"Ambos\",\"Parto Ces\\u00e1rea\",\"Parto Normal\",\"Ambos\",\"Parto Ces\\u00e1rea\",\"Parto Normal\",\"Ambos\",\"Parto Ces\\u00e1rea\",\"Parto Normal\",\"Ambos\",\"Parto Ces\\u00e1rea\",\"Parto Normal\",\"Ambos\",\"Parto Ces\\u00e1rea\",\"Parto Normal\"],\"y\":[16191,7029,9162,80149,35599,44550,25285,7879,17406,112215,39183,73032,270824,90353,180471,159458,84752,74706,53514,20059,33455,61301,28897,32404,100650,48433,52217,161614,59297,102317,67660,29821,37839,54457,26658,27799,280215,122021,158194,159239,69141,90098,69823,33203,36620,198262,87879,110383,151410,50640,100770,67853,32156,35697,59410,30478,28932,166245,79867,86378,230593,82583,148010,29826,15060,14766,10892,1564,9328,99149,38964,60185,42863,12278,30585,592903,229684,363219,31812,14229,17583],\"type\":\"bar\"}],                        {\"template\":{\"data\":{\"histogram2dcontour\":[{\"type\":\"histogram2dcontour\",\"colorbar\":{\"outlinewidth\":0,\"ticks\":\"\"},\"colorscale\":[[0.0,\"#0d0887\"],[0.1111111111111111,\"#46039f\"],[0.2222222222222222,\"#7201a8\"],[0.3333333333333333,\"#9c179e\"],[0.4444444444444444,\"#bd3786\"],[0.5555555555555556,\"#d8576b\"],[0.6666666666666666,\"#ed7953\"],[0.7777777777777778,\"#fb9f3a\"],[0.8888888888888888,\"#fdca26\"],[1.0,\"#f0f921\"]]}],\"choropleth\":[{\"type\":\"choropleth\",\"colorbar\":{\"outlinewidth\":0,\"ticks\":\"\"}}],\"histogram2d\":[{\"type\":\"histogram2d\",\"colorbar\":{\"outlinewidth\":0,\"ticks\":\"\"},\"colorscale\":[[0.0,\"#0d0887\"],[0.1111111111111111,\"#46039f\"],[0.2222222222222222,\"#7201a8\"],[0.3333333333333333,\"#9c179e\"],[0.4444444444444444,\"#bd3786\"],[0.5555555555555556,\"#d8576b\"],[0.6666666666666666,\"#ed7953\"],[0.7777777777777778,\"#fb9f3a\"],[0.8888888888888888,\"#fdca26\"],[1.0,\"#f0f921\"]]}],\"heatmap\":[{\"type\":\"heatmap\",\"colorbar\":{\"outlinewidth\":0,\"ticks\":\"\"},\"colorscale\":[[0.0,\"#0d0887\"],[0.1111111111111111,\"#46039f\"],[0.2222222222222222,\"#7201a8\"],[0.3333333333333333,\"#9c179e\"],[0.4444444444444444,\"#bd3786\"],[0.5555555555555556,\"#d8576b\"],[0.6666666666666666,\"#ed7953\"],[0.7777777777777778,\"#fb9f3a\"],[0.8888888888888888,\"#fdca26\"],[1.0,\"#f0f921\"]]}],\"heatmapgl\":[{\"type\":\"heatmapgl\",\"colorbar\":{\"outlinewidth\":0,\"ticks\":\"\"},\"colorscale\":[[0.0,\"#0d0887\"],[0.1111111111111111,\"#46039f\"],[0.2222222222222222,\"#7201a8\"],[0.3333333333333333,\"#9c179e\"],[0.4444444444444444,\"#bd3786\"],[0.5555555555555556,\"#d8576b\"],[0.6666666666666666,\"#ed7953\"],[0.7777777777777778,\"#fb9f3a\"],[0.8888888888888888,\"#fdca26\"],[1.0,\"#f0f921\"]]}],\"contourcarpet\":[{\"type\":\"contourcarpet\",\"colorbar\":{\"outlinewidth\":0,\"ticks\":\"\"}}],\"contour\":[{\"type\":\"contour\",\"colorbar\":{\"outlinewidth\":0,\"ticks\":\"\"},\"colorscale\":[[0.0,\"#0d0887\"],[0.1111111111111111,\"#46039f\"],[0.2222222222222222,\"#7201a8\"],[0.3333333333333333,\"#9c179e\"],[0.4444444444444444,\"#bd3786\"],[0.5555555555555556,\"#d8576b\"],[0.6666666666666666,\"#ed7953\"],[0.7777777777777778,\"#fb9f3a\"],[0.8888888888888888,\"#fdca26\"],[1.0,\"#f0f921\"]]}],\"surface\":[{\"type\":\"surface\",\"colorbar\":{\"outlinewidth\":0,\"ticks\":\"\"},\"colorscale\":[[0.0,\"#0d0887\"],[0.1111111111111111,\"#46039f\"],[0.2222222222222222,\"#7201a8\"],[0.3333333333333333,\"#9c179e\"],[0.4444444444444444,\"#bd3786\"],[0.5555555555555556,\"#d8576b\"],[0.6666666666666666,\"#ed7953\"],[0.7777777777777778,\"#fb9f3a\"],[0.8888888888888888,\"#fdca26\"],[1.0,\"#f0f921\"]]}],\"mesh3d\":[{\"type\":\"mesh3d\",\"colorbar\":{\"outlinewidth\":0,\"ticks\":\"\"}}],\"scatter\":[{\"fillpattern\":{\"fillmode\":\"overlay\",\"size\":10,\"solidity\":0.2},\"type\":\"scatter\"}],\"parcoords\":[{\"type\":\"parcoords\",\"line\":{\"colorbar\":{\"outlinewidth\":0,\"ticks\":\"\"}}}],\"scatterpolargl\":[{\"type\":\"scatterpolargl\",\"marker\":{\"colorbar\":{\"outlinewidth\":0,\"ticks\":\"\"}}}],\"bar\":[{\"error_x\":{\"color\":\"#2a3f5f\"},\"error_y\":{\"color\":\"#2a3f5f\"},\"marker\":{\"line\":{\"color\":\"#E5ECF6\",\"width\":0.5},\"pattern\":{\"fillmode\":\"overlay\",\"size\":10,\"solidity\":0.2}},\"type\":\"bar\"}],\"scattergeo\":[{\"type\":\"scattergeo\",\"marker\":{\"colorbar\":{\"outlinewidth\":0,\"ticks\":\"\"}}}],\"scatterpolar\":[{\"type\":\"scatterpolar\",\"marker\":{\"colorbar\":{\"outlinewidth\":0,\"ticks\":\"\"}}}],\"histogram\":[{\"marker\":{\"pattern\":{\"fillmode\":\"overlay\",\"size\":10,\"solidity\":0.2}},\"type\":\"histogram\"}],\"scattergl\":[{\"type\":\"scattergl\",\"marker\":{\"colorbar\":{\"outlinewidth\":0,\"ticks\":\"\"}}}],\"scatter3d\":[{\"type\":\"scatter3d\",\"line\":{\"colorbar\":{\"outlinewidth\":0,\"ticks\":\"\"}},\"marker\":{\"colorbar\":{\"outlinewidth\":0,\"ticks\":\"\"}}}],\"scattermapbox\":[{\"type\":\"scattermapbox\",\"marker\":{\"colorbar\":{\"outlinewidth\":0,\"ticks\":\"\"}}}],\"scatterternary\":[{\"type\":\"scatterternary\",\"marker\":{\"colorbar\":{\"outlinewidth\":0,\"ticks\":\"\"}}}],\"scattercarpet\":[{\"type\":\"scattercarpet\",\"marker\":{\"colorbar\":{\"outlinewidth\":0,\"ticks\":\"\"}}}],\"carpet\":[{\"aaxis\":{\"endlinecolor\":\"#2a3f5f\",\"gridcolor\":\"white\",\"linecolor\":\"white\",\"minorgridcolor\":\"white\",\"startlinecolor\":\"#2a3f5f\"},\"baxis\":{\"endlinecolor\":\"#2a3f5f\",\"gridcolor\":\"white\",\"linecolor\":\"white\",\"minorgridcolor\":\"white\",\"startlinecolor\":\"#2a3f5f\"},\"type\":\"carpet\"}],\"table\":[{\"cells\":{\"fill\":{\"color\":\"#EBF0F8\"},\"line\":{\"color\":\"white\"}},\"header\":{\"fill\":{\"color\":\"#C8D4E3\"},\"line\":{\"color\":\"white\"}},\"type\":\"table\"}],\"barpolar\":[{\"marker\":{\"line\":{\"color\":\"#E5ECF6\",\"width\":0.5},\"pattern\":{\"fillmode\":\"overlay\",\"size\":10,\"solidity\":0.2}},\"type\":\"barpolar\"}],\"pie\":[{\"automargin\":true,\"type\":\"pie\"}]},\"layout\":{\"autotypenumbers\":\"strict\",\"colorway\":[\"#636efa\",\"#EF553B\",\"#00cc96\",\"#ab63fa\",\"#FFA15A\",\"#19d3f3\",\"#FF6692\",\"#B6E880\",\"#FF97FF\",\"#FECB52\"],\"font\":{\"color\":\"#2a3f5f\"},\"hovermode\":\"closest\",\"hoverlabel\":{\"align\":\"left\"},\"paper_bgcolor\":\"white\",\"plot_bgcolor\":\"#E5ECF6\",\"polar\":{\"bgcolor\":\"#E5ECF6\",\"angularaxis\":{\"gridcolor\":\"white\",\"linecolor\":\"white\",\"ticks\":\"\"},\"radialaxis\":{\"gridcolor\":\"white\",\"linecolor\":\"white\",\"ticks\":\"\"}},\"ternary\":{\"bgcolor\":\"#E5ECF6\",\"aaxis\":{\"gridcolor\":\"white\",\"linecolor\":\"white\",\"ticks\":\"\"},\"baxis\":{\"gridcolor\":\"white\",\"linecolor\":\"white\",\"ticks\":\"\"},\"caxis\":{\"gridcolor\":\"white\",\"linecolor\":\"white\",\"ticks\":\"\"}},\"coloraxis\":{\"colorbar\":{\"outlinewidth\":0,\"ticks\":\"\"}},\"colorscale\":{\"sequential\":[[0.0,\"#0d0887\"],[0.1111111111111111,\"#46039f\"],[0.2222222222222222,\"#7201a8\"],[0.3333333333333333,\"#9c179e\"],[0.4444444444444444,\"#bd3786\"],[0.5555555555555556,\"#d8576b\"],[0.6666666666666666,\"#ed7953\"],[0.7777777777777778,\"#fb9f3a\"],[0.8888888888888888,\"#fdca26\"],[1.0,\"#f0f921\"]],\"sequentialminus\":[[0.0,\"#0d0887\"],[0.1111111111111111,\"#46039f\"],[0.2222222222222222,\"#7201a8\"],[0.3333333333333333,\"#9c179e\"],[0.4444444444444444,\"#bd3786\"],[0.5555555555555556,\"#d8576b\"],[0.6666666666666666,\"#ed7953\"],[0.7777777777777778,\"#fb9f3a\"],[0.8888888888888888,\"#fdca26\"],[1.0,\"#f0f921\"]],\"diverging\":[[0,\"#8e0152\"],[0.1,\"#c51b7d\"],[0.2,\"#de77ae\"],[0.3,\"#f1b6da\"],[0.4,\"#fde0ef\"],[0.5,\"#f7f7f7\"],[0.6,\"#e6f5d0\"],[0.7,\"#b8e186\"],[0.8,\"#7fbc41\"],[0.9,\"#4d9221\"],[1,\"#276419\"]]},\"xaxis\":{\"gridcolor\":\"white\",\"linecolor\":\"white\",\"ticks\":\"\",\"title\":{\"standoff\":15},\"zerolinecolor\":\"white\",\"automargin\":true,\"zerolinewidth\":2},\"yaxis\":{\"gridcolor\":\"white\",\"linecolor\":\"white\",\"ticks\":\"\",\"title\":{\"standoff\":15},\"zerolinecolor\":\"white\",\"automargin\":true,\"zerolinewidth\":2},\"scene\":{\"xaxis\":{\"backgroundcolor\":\"#E5ECF6\",\"gridcolor\":\"white\",\"linecolor\":\"white\",\"showbackground\":true,\"ticks\":\"\",\"zerolinecolor\":\"white\",\"gridwidth\":2},\"yaxis\":{\"backgroundcolor\":\"#E5ECF6\",\"gridcolor\":\"white\",\"linecolor\":\"white\",\"showbackground\":true,\"ticks\":\"\",\"zerolinecolor\":\"white\",\"gridwidth\":2},\"zaxis\":{\"backgroundcolor\":\"#E5ECF6\",\"gridcolor\":\"white\",\"linecolor\":\"white\",\"showbackground\":true,\"ticks\":\"\",\"zerolinecolor\":\"white\",\"gridwidth\":2}},\"shapedefaults\":{\"line\":{\"color\":\"#2a3f5f\"}},\"annotationdefaults\":{\"arrowcolor\":\"#2a3f5f\",\"arrowhead\":0,\"arrowwidth\":1},\"geo\":{\"bgcolor\":\"white\",\"landcolor\":\"#E5ECF6\",\"subunitcolor\":\"white\",\"showland\":true,\"showlakes\":true,\"lakecolor\":\"white\"},\"title\":{\"x\":0.05},\"mapbox\":{\"style\":\"light\"}}},\"title\":{\"text\":\"N\\u00famero total de partos realizados no SUS\"},\"legend\":{\"title\":{\"text\":\"Bi\\u00eanio\"}},\"updatemenus\":[{\"buttons\":[{\"args\":[{\"y\":[[22342,6267,16075,88380,43062,45318,22905,4716,18189,99961,28630,71331,325291,91326,233965,186380,72178,114202,61923,20920,41003,64477,28427,36050,87912,33194,54718,166273,34070,132203,60738,21613,39125,56567,24308,32259,330766,130590,200176,172131,61084,111047,85218,35500,49718,216873,83250,133623,178644,64582,114062,82420,33079,49341,67605,27924,39681,166710,64228,102482,187650,39323,148327,27414,9382,18032,9276,332,8944,100636,40784,59852,50836,11379,39457,618034,230432,387602,39769,14194,25575],[16191,7029,9162,80149,35599,44550,25285,7879,17406,112215,39183,73032,270824,90353,180471,159458,84752,74706,53514,20059,33455,61301,28897,32404,100650,48433,52217,161614,59297,102317,67660,29821,37839,54457,26658,27799,280215,122021,158194,159239,69141,90098,69823,33203,36620,198262,87879,110383,151410,50640,100770,67853,32156,35697,59410,30478,28932,166245,79867,86378,230593,82583,148010,29826,15060,14766,10892,1564,9328,99149,38964,60185,42863,12278,30585,592903,229684,363219,31812,14229,17583]]}],\"label\":\"Brasil\",\"method\":\"update\"},{\"args\":[{\"y\":[[22342,6267,16075],[16191,7029,9162]]}],\"label\":\"Acre\",\"method\":\"update\"},{\"args\":[{\"y\":[[88380,43062,45318],[80149,35599,44550]]}],\"label\":\"Alagoas\",\"method\":\"update\"},{\"args\":[{\"y\":[[22905,4716,18189],[25285,7879,17406]]}],\"label\":\"Amap\\u00e1\",\"method\":\"update\"},{\"args\":[{\"y\":[[99961,28630,71331],[112215,39183,73032]]}],\"label\":\"Amazonas\",\"method\":\"update\"},{\"args\":[{\"y\":[[325291,91326,233965],[270824,90353,180471]]}],\"label\":\"Bahia\",\"method\":\"update\"},{\"args\":[{\"y\":[[186380,72178,114202],[159458,84752,74706]]}],\"label\":\"Cear\\u00e1\",\"method\":\"update\"},{\"args\":[{\"y\":[[61923,20920,41003],[53514,20059,33455]]}],\"label\":\"Distrito Federal\",\"method\":\"update\"},{\"args\":[{\"y\":[[64477,28427,36050],[61301,28897,32404]]}],\"label\":\"Esp\\u00edrito Santo\",\"method\":\"update\"},{\"args\":[{\"y\":[[87912,33194,54718],[100650,48433,52217]]}],\"label\":\"Goi\\u00e1s\",\"method\":\"update\"},{\"args\":[{\"y\":[[166273,34070,132203],[161614,59297,102317]]}],\"label\":\"Maranh\\u00e3o\",\"method\":\"update\"},{\"args\":[{\"y\":[[60738,21613,39125],[67660,29821,37839]]}],\"label\":\"Mato Grosso\",\"method\":\"update\"},{\"args\":[{\"y\":[[56567,24308,32259],[54457,26658,27799]]}],\"label\":\"Mato Grosso do Sul\",\"method\":\"update\"},{\"args\":[{\"y\":[[330766,130590,200176],[280215,122021,158194]]}],\"label\":\"Minas Gerais\",\"method\":\"update\"},{\"args\":[{\"y\":[[172131,61084,111047],[159239,69141,90098]]}],\"label\":\"Paran\\u00e1\",\"method\":\"update\"},{\"args\":[{\"y\":[[85218,35500,49718],[69823,33203,36620]]}],\"label\":\"Para\\u00edba\",\"method\":\"update\"},{\"args\":[{\"y\":[[216873,83250,133623],[198262,87879,110383]]}],\"label\":\"Par\\u00e1\",\"method\":\"update\"},{\"args\":[{\"y\":[[178644,64582,114062],[151410,50640,100770]]}],\"label\":\"Pernambuco\",\"method\":\"update\"},{\"args\":[{\"y\":[[82420,33079,49341],[67853,32156,35697]]}],\"label\":\"Piau\\u00ed\",\"method\":\"update\"},{\"args\":[{\"y\":[[67605,27924,39681],[59410,30478,28932]]}],\"label\":\"Rio Grande do Norte\",\"method\":\"update\"},{\"args\":[{\"y\":[[166710,64228,102482],[166245,79867,86378]]}],\"label\":\"Rio Grande do Sul\",\"method\":\"update\"},{\"args\":[{\"y\":[[187650,39323,148327],[230593,82583,148010]]}],\"label\":\"Rio de Janeiro\",\"method\":\"update\"},{\"args\":[{\"y\":[[27414,9382,18032],[29826,15060,14766]]}],\"label\":\"Rond\\u00f4nia\",\"method\":\"update\"},{\"args\":[{\"y\":[[9276,332,8944],[10892,1564,9328]]}],\"label\":\"Roraima\",\"method\":\"update\"},{\"args\":[{\"y\":[[100636,40784,59852],[99149,38964,60185]]}],\"label\":\"Santa Catarina\",\"method\":\"update\"},{\"args\":[{\"y\":[[50836,11379,39457],[42863,12278,30585]]}],\"label\":\"Sergipe\",\"method\":\"update\"},{\"args\":[{\"y\":[[618034,230432,387602],[592903,229684,363219]]}],\"label\":\"S\\u00e3o Paulo\",\"method\":\"update\"},{\"args\":[{\"y\":[[39769,14194,25575],[31812,14229,17583]]}],\"label\":\"Tocantins\",\"method\":\"update\"}],\"direction\":\"down\",\"showactive\":true}]},                        {\"responsive\": true}                    ).then(function(){\n",
       "                            \n",
       "var gd = document.getElementById('c2b6f644-7b70-4795-9920-8abbaf0f875a');\n",
       "var x = new MutationObserver(function (mutations, observer) {{\n",
       "        var display = window.getComputedStyle(gd).display;\n",
       "        if (!display || display === 'none') {{\n",
       "            console.log([gd, 'removed!']);\n",
       "            Plotly.purge(gd);\n",
       "            observer.disconnect();\n",
       "        }}\n",
       "}});\n",
       "\n",
       "// Listen for the removal of the full notebook cells\n",
       "var notebookContainer = gd.closest('#notebook-container');\n",
       "if (notebookContainer) {{\n",
       "    x.observe(notebookContainer, {childList: true});\n",
       "}}\n",
       "\n",
       "// Listen for the clearing of the current output cell\n",
       "var outputEl = gd.closest('.output');\n",
       "if (outputEl) {{\n",
       "    x.observe(outputEl, {childList: true});\n",
       "}}\n",
       "\n",
       "                        })                };                });            </script>        </div>"
      ]
     },
     "metadata": {},
     "output_type": "display_data"
    }
   ],
   "source": [
    "df_uf = add_total(select_and_group(df_proc_bienio, df_locs, cols_proc, loc='nome_uf'))\n",
    "fig_uf = fig_count_partos(df_uf)\n",
    "fig_uf.show()"
   ]
  },
  {
   "cell_type": "markdown",
   "metadata": {},
   "source": [
    "## Deslocamento % (município)"
   ]
  },
  {
   "cell_type": "code",
   "execution_count": 10,
   "metadata": {},
   "outputs": [],
   "source": [
    "def critic(df, critic_level=1):\n",
    "  df_critic = df[df['Criticidade'] >= critic_level - 1].copy()\n",
    "  df_critic['Criticidade'] = df_critic['Criticidade'].apply(\n",
    "    lambda x: x >= critic_level)\n",
    "  df_critic = df_critic.groupby(\n",
    "    by=list(df_critic.columns)[:-2],\n",
    "    as_index=False\n",
    "  ).sum()\n",
    "  df_critic_num = df_critic[df_critic['Criticidade'] == True]\n",
    "  df_critic_den = df_critic[df_critic['Criticidade'] == False]\n",
    "  df_critic_num = df_critic_num.drop('Criticidade', axis=1)\n",
    "  df_critic_den = df_critic_den.drop('Criticidade', axis=1)\n",
    "  df_critic = pd.merge(\n",
    "    df_critic_num, df_critic_den,\n",
    "    how='left', on=list(df_critic_num.columns)[:-2],\n",
    "    suffixes=['_num', '_den'])\n",
    "  df_critic['2010-2011'] = round(df_critic['2010-2011_num'] / df_critic['2010-2011_den'] * 100, 2)\n",
    "  df_critic['2018-2019'] = round(df_critic['2018-2019_num'] / df_critic['2018-2019_den'] * 100, 2)\n",
    "  df_critic = df_critic.sort_values(by=['Localidade', 'Parto'])\n",
    "  return df_critic"
   ]
  },
  {
   "cell_type": "code",
   "execution_count": 11,
   "metadata": {},
   "outputs": [],
   "source": [
    "cols_critic = ['bienio', 'parto_normal', 'criticidade', 'count']"
   ]
  },
  {
   "cell_type": "markdown",
   "metadata": {},
   "source": [
    "### Região"
   ]
  },
  {
   "cell_type": "code",
   "execution_count": 12,
   "metadata": {},
   "outputs": [
    {
     "data": {
      "application/vnd.plotly.v1+json": {
       "config": {
        "plotlyServerURL": "https://plot.ly"
       },
       "data": [
        {
         "marker": {
          "color": "#31A885"
         },
         "name": "2010-2011",
         "text": [
          17.59,
          18.01,
          65.57,
          44.05,
          22.06,
          15.76,
          24.79,
          22.3,
          29.64,
          27.59
         ],
         "textposition": "auto",
         "type": "bar",
         "x": [
          "Parto Cesárea",
          "Parto Normal",
          "Parto Cesárea",
          "Parto Normal",
          "Parto Cesárea",
          "Parto Normal",
          "Parto Cesárea",
          "Parto Normal",
          "Parto Cesárea",
          "Parto Normal"
         ],
         "y": [
          17.59,
          18.01,
          65.57,
          44.05,
          22.06,
          15.76,
          24.79,
          22.3,
          29.64,
          27.59
         ]
        },
        {
         "marker": {
          "color": "#DD6F1C"
         },
         "name": "2018-2019",
         "text": [
          23.74,
          27.99,
          73.27,
          53.98,
          23.66,
          18.32,
          29.09,
          27.26,
          43.38,
          43.13
         ],
         "textposition": "auto",
         "type": "bar",
         "x": [
          "Parto Cesárea",
          "Parto Normal",
          "Parto Cesárea",
          "Parto Normal",
          "Parto Cesárea",
          "Parto Normal",
          "Parto Cesárea",
          "Parto Normal",
          "Parto Cesárea",
          "Parto Normal"
         ],
         "y": [
          23.74,
          27.99,
          73.27,
          53.98,
          23.66,
          18.32,
          29.09,
          27.26,
          43.38,
          43.13
         ]
        }
       ],
       "layout": {
        "legend": {
         "title": {
          "text": "Biênio"
         }
        },
        "template": {
         "data": {
          "bar": [
           {
            "error_x": {
             "color": "#2a3f5f"
            },
            "error_y": {
             "color": "#2a3f5f"
            },
            "marker": {
             "line": {
              "color": "#E5ECF6",
              "width": 0.5
             },
             "pattern": {
              "fillmode": "overlay",
              "size": 10,
              "solidity": 0.2
             }
            },
            "type": "bar"
           }
          ],
          "barpolar": [
           {
            "marker": {
             "line": {
              "color": "#E5ECF6",
              "width": 0.5
             },
             "pattern": {
              "fillmode": "overlay",
              "size": 10,
              "solidity": 0.2
             }
            },
            "type": "barpolar"
           }
          ],
          "carpet": [
           {
            "aaxis": {
             "endlinecolor": "#2a3f5f",
             "gridcolor": "white",
             "linecolor": "white",
             "minorgridcolor": "white",
             "startlinecolor": "#2a3f5f"
            },
            "baxis": {
             "endlinecolor": "#2a3f5f",
             "gridcolor": "white",
             "linecolor": "white",
             "minorgridcolor": "white",
             "startlinecolor": "#2a3f5f"
            },
            "type": "carpet"
           }
          ],
          "choropleth": [
           {
            "colorbar": {
             "outlinewidth": 0,
             "ticks": ""
            },
            "type": "choropleth"
           }
          ],
          "contour": [
           {
            "colorbar": {
             "outlinewidth": 0,
             "ticks": ""
            },
            "colorscale": [
             [
              0,
              "#0d0887"
             ],
             [
              0.1111111111111111,
              "#46039f"
             ],
             [
              0.2222222222222222,
              "#7201a8"
             ],
             [
              0.3333333333333333,
              "#9c179e"
             ],
             [
              0.4444444444444444,
              "#bd3786"
             ],
             [
              0.5555555555555556,
              "#d8576b"
             ],
             [
              0.6666666666666666,
              "#ed7953"
             ],
             [
              0.7777777777777778,
              "#fb9f3a"
             ],
             [
              0.8888888888888888,
              "#fdca26"
             ],
             [
              1,
              "#f0f921"
             ]
            ],
            "type": "contour"
           }
          ],
          "contourcarpet": [
           {
            "colorbar": {
             "outlinewidth": 0,
             "ticks": ""
            },
            "type": "contourcarpet"
           }
          ],
          "heatmap": [
           {
            "colorbar": {
             "outlinewidth": 0,
             "ticks": ""
            },
            "colorscale": [
             [
              0,
              "#0d0887"
             ],
             [
              0.1111111111111111,
              "#46039f"
             ],
             [
              0.2222222222222222,
              "#7201a8"
             ],
             [
              0.3333333333333333,
              "#9c179e"
             ],
             [
              0.4444444444444444,
              "#bd3786"
             ],
             [
              0.5555555555555556,
              "#d8576b"
             ],
             [
              0.6666666666666666,
              "#ed7953"
             ],
             [
              0.7777777777777778,
              "#fb9f3a"
             ],
             [
              0.8888888888888888,
              "#fdca26"
             ],
             [
              1,
              "#f0f921"
             ]
            ],
            "type": "heatmap"
           }
          ],
          "heatmapgl": [
           {
            "colorbar": {
             "outlinewidth": 0,
             "ticks": ""
            },
            "colorscale": [
             [
              0,
              "#0d0887"
             ],
             [
              0.1111111111111111,
              "#46039f"
             ],
             [
              0.2222222222222222,
              "#7201a8"
             ],
             [
              0.3333333333333333,
              "#9c179e"
             ],
             [
              0.4444444444444444,
              "#bd3786"
             ],
             [
              0.5555555555555556,
              "#d8576b"
             ],
             [
              0.6666666666666666,
              "#ed7953"
             ],
             [
              0.7777777777777778,
              "#fb9f3a"
             ],
             [
              0.8888888888888888,
              "#fdca26"
             ],
             [
              1,
              "#f0f921"
             ]
            ],
            "type": "heatmapgl"
           }
          ],
          "histogram": [
           {
            "marker": {
             "pattern": {
              "fillmode": "overlay",
              "size": 10,
              "solidity": 0.2
             }
            },
            "type": "histogram"
           }
          ],
          "histogram2d": [
           {
            "colorbar": {
             "outlinewidth": 0,
             "ticks": ""
            },
            "colorscale": [
             [
              0,
              "#0d0887"
             ],
             [
              0.1111111111111111,
              "#46039f"
             ],
             [
              0.2222222222222222,
              "#7201a8"
             ],
             [
              0.3333333333333333,
              "#9c179e"
             ],
             [
              0.4444444444444444,
              "#bd3786"
             ],
             [
              0.5555555555555556,
              "#d8576b"
             ],
             [
              0.6666666666666666,
              "#ed7953"
             ],
             [
              0.7777777777777778,
              "#fb9f3a"
             ],
             [
              0.8888888888888888,
              "#fdca26"
             ],
             [
              1,
              "#f0f921"
             ]
            ],
            "type": "histogram2d"
           }
          ],
          "histogram2dcontour": [
           {
            "colorbar": {
             "outlinewidth": 0,
             "ticks": ""
            },
            "colorscale": [
             [
              0,
              "#0d0887"
             ],
             [
              0.1111111111111111,
              "#46039f"
             ],
             [
              0.2222222222222222,
              "#7201a8"
             ],
             [
              0.3333333333333333,
              "#9c179e"
             ],
             [
              0.4444444444444444,
              "#bd3786"
             ],
             [
              0.5555555555555556,
              "#d8576b"
             ],
             [
              0.6666666666666666,
              "#ed7953"
             ],
             [
              0.7777777777777778,
              "#fb9f3a"
             ],
             [
              0.8888888888888888,
              "#fdca26"
             ],
             [
              1,
              "#f0f921"
             ]
            ],
            "type": "histogram2dcontour"
           }
          ],
          "mesh3d": [
           {
            "colorbar": {
             "outlinewidth": 0,
             "ticks": ""
            },
            "type": "mesh3d"
           }
          ],
          "parcoords": [
           {
            "line": {
             "colorbar": {
              "outlinewidth": 0,
              "ticks": ""
             }
            },
            "type": "parcoords"
           }
          ],
          "pie": [
           {
            "automargin": true,
            "type": "pie"
           }
          ],
          "scatter": [
           {
            "fillpattern": {
             "fillmode": "overlay",
             "size": 10,
             "solidity": 0.2
            },
            "type": "scatter"
           }
          ],
          "scatter3d": [
           {
            "line": {
             "colorbar": {
              "outlinewidth": 0,
              "ticks": ""
             }
            },
            "marker": {
             "colorbar": {
              "outlinewidth": 0,
              "ticks": ""
             }
            },
            "type": "scatter3d"
           }
          ],
          "scattercarpet": [
           {
            "marker": {
             "colorbar": {
              "outlinewidth": 0,
              "ticks": ""
             }
            },
            "type": "scattercarpet"
           }
          ],
          "scattergeo": [
           {
            "marker": {
             "colorbar": {
              "outlinewidth": 0,
              "ticks": ""
             }
            },
            "type": "scattergeo"
           }
          ],
          "scattergl": [
           {
            "marker": {
             "colorbar": {
              "outlinewidth": 0,
              "ticks": ""
             }
            },
            "type": "scattergl"
           }
          ],
          "scattermapbox": [
           {
            "marker": {
             "colorbar": {
              "outlinewidth": 0,
              "ticks": ""
             }
            },
            "type": "scattermapbox"
           }
          ],
          "scatterpolar": [
           {
            "marker": {
             "colorbar": {
              "outlinewidth": 0,
              "ticks": ""
             }
            },
            "type": "scatterpolar"
           }
          ],
          "scatterpolargl": [
           {
            "marker": {
             "colorbar": {
              "outlinewidth": 0,
              "ticks": ""
             }
            },
            "type": "scatterpolargl"
           }
          ],
          "scatterternary": [
           {
            "marker": {
             "colorbar": {
              "outlinewidth": 0,
              "ticks": ""
             }
            },
            "type": "scatterternary"
           }
          ],
          "surface": [
           {
            "colorbar": {
             "outlinewidth": 0,
             "ticks": ""
            },
            "colorscale": [
             [
              0,
              "#0d0887"
             ],
             [
              0.1111111111111111,
              "#46039f"
             ],
             [
              0.2222222222222222,
              "#7201a8"
             ],
             [
              0.3333333333333333,
              "#9c179e"
             ],
             [
              0.4444444444444444,
              "#bd3786"
             ],
             [
              0.5555555555555556,
              "#d8576b"
             ],
             [
              0.6666666666666666,
              "#ed7953"
             ],
             [
              0.7777777777777778,
              "#fb9f3a"
             ],
             [
              0.8888888888888888,
              "#fdca26"
             ],
             [
              1,
              "#f0f921"
             ]
            ],
            "type": "surface"
           }
          ],
          "table": [
           {
            "cells": {
             "fill": {
              "color": "#EBF0F8"
             },
             "line": {
              "color": "white"
             }
            },
            "header": {
             "fill": {
              "color": "#C8D4E3"
             },
             "line": {
              "color": "white"
             }
            },
            "type": "table"
           }
          ]
         },
         "layout": {
          "annotationdefaults": {
           "arrowcolor": "#2a3f5f",
           "arrowhead": 0,
           "arrowwidth": 1
          },
          "autotypenumbers": "strict",
          "coloraxis": {
           "colorbar": {
            "outlinewidth": 0,
            "ticks": ""
           }
          },
          "colorscale": {
           "diverging": [
            [
             0,
             "#8e0152"
            ],
            [
             0.1,
             "#c51b7d"
            ],
            [
             0.2,
             "#de77ae"
            ],
            [
             0.3,
             "#f1b6da"
            ],
            [
             0.4,
             "#fde0ef"
            ],
            [
             0.5,
             "#f7f7f7"
            ],
            [
             0.6,
             "#e6f5d0"
            ],
            [
             0.7,
             "#b8e186"
            ],
            [
             0.8,
             "#7fbc41"
            ],
            [
             0.9,
             "#4d9221"
            ],
            [
             1,
             "#276419"
            ]
           ],
           "sequential": [
            [
             0,
             "#0d0887"
            ],
            [
             0.1111111111111111,
             "#46039f"
            ],
            [
             0.2222222222222222,
             "#7201a8"
            ],
            [
             0.3333333333333333,
             "#9c179e"
            ],
            [
             0.4444444444444444,
             "#bd3786"
            ],
            [
             0.5555555555555556,
             "#d8576b"
            ],
            [
             0.6666666666666666,
             "#ed7953"
            ],
            [
             0.7777777777777778,
             "#fb9f3a"
            ],
            [
             0.8888888888888888,
             "#fdca26"
            ],
            [
             1,
             "#f0f921"
            ]
           ],
           "sequentialminus": [
            [
             0,
             "#0d0887"
            ],
            [
             0.1111111111111111,
             "#46039f"
            ],
            [
             0.2222222222222222,
             "#7201a8"
            ],
            [
             0.3333333333333333,
             "#9c179e"
            ],
            [
             0.4444444444444444,
             "#bd3786"
            ],
            [
             0.5555555555555556,
             "#d8576b"
            ],
            [
             0.6666666666666666,
             "#ed7953"
            ],
            [
             0.7777777777777778,
             "#fb9f3a"
            ],
            [
             0.8888888888888888,
             "#fdca26"
            ],
            [
             1,
             "#f0f921"
            ]
           ]
          },
          "colorway": [
           "#636efa",
           "#EF553B",
           "#00cc96",
           "#ab63fa",
           "#FFA15A",
           "#19d3f3",
           "#FF6692",
           "#B6E880",
           "#FF97FF",
           "#FECB52"
          ],
          "font": {
           "color": "#2a3f5f"
          },
          "geo": {
           "bgcolor": "white",
           "lakecolor": "white",
           "landcolor": "#E5ECF6",
           "showlakes": true,
           "showland": true,
           "subunitcolor": "white"
          },
          "hoverlabel": {
           "align": "left"
          },
          "hovermode": "closest",
          "mapbox": {
           "style": "light"
          },
          "paper_bgcolor": "white",
          "plot_bgcolor": "#E5ECF6",
          "polar": {
           "angularaxis": {
            "gridcolor": "white",
            "linecolor": "white",
            "ticks": ""
           },
           "bgcolor": "#E5ECF6",
           "radialaxis": {
            "gridcolor": "white",
            "linecolor": "white",
            "ticks": ""
           }
          },
          "scene": {
           "xaxis": {
            "backgroundcolor": "#E5ECF6",
            "gridcolor": "white",
            "gridwidth": 2,
            "linecolor": "white",
            "showbackground": true,
            "ticks": "",
            "zerolinecolor": "white"
           },
           "yaxis": {
            "backgroundcolor": "#E5ECF6",
            "gridcolor": "white",
            "gridwidth": 2,
            "linecolor": "white",
            "showbackground": true,
            "ticks": "",
            "zerolinecolor": "white"
           },
           "zaxis": {
            "backgroundcolor": "#E5ECF6",
            "gridcolor": "white",
            "gridwidth": 2,
            "linecolor": "white",
            "showbackground": true,
            "ticks": "",
            "zerolinecolor": "white"
           }
          },
          "shapedefaults": {
           "line": {
            "color": "#2a3f5f"
           }
          },
          "ternary": {
           "aaxis": {
            "gridcolor": "white",
            "linecolor": "white",
            "ticks": ""
           },
           "baxis": {
            "gridcolor": "white",
            "linecolor": "white",
            "ticks": ""
           },
           "bgcolor": "#E5ECF6",
           "caxis": {
            "gridcolor": "white",
            "linecolor": "white",
            "ticks": ""
           }
          },
          "title": {
           "x": 0.05
          },
          "xaxis": {
           "automargin": true,
           "gridcolor": "white",
           "linecolor": "white",
           "ticks": "",
           "title": {
            "standoff": 15
           },
           "zerolinecolor": "white",
           "zerolinewidth": 2
          },
          "yaxis": {
           "automargin": true,
           "gridcolor": "white",
           "linecolor": "white",
           "ticks": "",
           "title": {
            "standoff": 15
           },
           "zerolinecolor": "white",
           "zerolinewidth": 2
          }
         }
        },
        "title": {
         "text": "Número total de partos realizados no SUS"
        },
        "updatemenus": [
         {
          "buttons": [
           {
            "args": [
             {
              "y": [
               [
                17.59,
                18.01,
                65.57,
                44.05,
                22.06,
                15.76,
                24.79,
                22.3,
                29.64,
                27.59
               ],
               [
                23.74,
                27.99,
                73.27,
                53.98,
                23.66,
                18.32,
                29.09,
                27.26,
                43.38,
                43.13
               ]
              ]
             }
            ],
            "label": "Brasil",
            "method": "update"
           },
           {
            "args": [
             {
              "y": [
               [
                17.59,
                18.01
               ],
               [
                23.74,
                27.99
               ]
              ]
             }
            ],
            "label": "Centro-Oeste",
            "method": "update"
           },
           {
            "args": [
             {
              "y": [
               [
                65.57,
                44.05
               ],
               [
                73.27,
                53.98
               ]
              ]
             }
            ],
            "label": "Nordeste",
            "method": "update"
           },
           {
            "args": [
             {
              "y": [
               [
                22.06,
                15.76
               ],
               [
                23.66,
                18.32
               ]
              ]
             }
            ],
            "label": "Norte",
            "method": "update"
           },
           {
            "args": [
             {
              "y": [
               [
                24.79,
                22.3
               ],
               [
                29.09,
                27.26
               ]
              ]
             }
            ],
            "label": "Sudeste",
            "method": "update"
           },
           {
            "args": [
             {
              "y": [
               [
                29.64,
                27.59
               ],
               [
                43.38,
                43.13
               ]
              ]
             }
            ],
            "label": "Sul",
            "method": "update"
           }
          ],
          "direction": "down",
          "showactive": true
         }
        ]
       }
      },
      "text/html": [
       "<div>                            <div id=\"ffb5ba1a-830d-4390-bd9b-1e7aeff06b9f\" class=\"plotly-graph-div\" style=\"height:525px; width:100%;\"></div>            <script type=\"text/javascript\">                require([\"plotly\"], function(Plotly) {                    window.PLOTLYENV=window.PLOTLYENV || {};                                    if (document.getElementById(\"ffb5ba1a-830d-4390-bd9b-1e7aeff06b9f\")) {                    Plotly.newPlot(                        \"ffb5ba1a-830d-4390-bd9b-1e7aeff06b9f\",                        [{\"marker\":{\"color\":\"#31A885\"},\"name\":\"2010-2011\",\"text\":[17.59,18.01,65.57,44.05,22.06,15.76,24.79,22.3,29.64,27.59],\"textposition\":\"auto\",\"x\":[\"Parto Ces\\u00e1rea\",\"Parto Normal\",\"Parto Ces\\u00e1rea\",\"Parto Normal\",\"Parto Ces\\u00e1rea\",\"Parto Normal\",\"Parto Ces\\u00e1rea\",\"Parto Normal\",\"Parto Ces\\u00e1rea\",\"Parto Normal\"],\"y\":[17.59,18.01,65.57,44.05,22.06,15.76,24.79,22.3,29.64,27.59],\"type\":\"bar\"},{\"marker\":{\"color\":\"#DD6F1C\"},\"name\":\"2018-2019\",\"text\":[23.74,27.99,73.27,53.98,23.66,18.32,29.09,27.26,43.38,43.13],\"textposition\":\"auto\",\"x\":[\"Parto Ces\\u00e1rea\",\"Parto Normal\",\"Parto Ces\\u00e1rea\",\"Parto Normal\",\"Parto Ces\\u00e1rea\",\"Parto Normal\",\"Parto Ces\\u00e1rea\",\"Parto Normal\",\"Parto Ces\\u00e1rea\",\"Parto Normal\"],\"y\":[23.74,27.99,73.27,53.98,23.66,18.32,29.09,27.26,43.38,43.13],\"type\":\"bar\"}],                        {\"template\":{\"data\":{\"histogram2dcontour\":[{\"type\":\"histogram2dcontour\",\"colorbar\":{\"outlinewidth\":0,\"ticks\":\"\"},\"colorscale\":[[0.0,\"#0d0887\"],[0.1111111111111111,\"#46039f\"],[0.2222222222222222,\"#7201a8\"],[0.3333333333333333,\"#9c179e\"],[0.4444444444444444,\"#bd3786\"],[0.5555555555555556,\"#d8576b\"],[0.6666666666666666,\"#ed7953\"],[0.7777777777777778,\"#fb9f3a\"],[0.8888888888888888,\"#fdca26\"],[1.0,\"#f0f921\"]]}],\"choropleth\":[{\"type\":\"choropleth\",\"colorbar\":{\"outlinewidth\":0,\"ticks\":\"\"}}],\"histogram2d\":[{\"type\":\"histogram2d\",\"colorbar\":{\"outlinewidth\":0,\"ticks\":\"\"},\"colorscale\":[[0.0,\"#0d0887\"],[0.1111111111111111,\"#46039f\"],[0.2222222222222222,\"#7201a8\"],[0.3333333333333333,\"#9c179e\"],[0.4444444444444444,\"#bd3786\"],[0.5555555555555556,\"#d8576b\"],[0.6666666666666666,\"#ed7953\"],[0.7777777777777778,\"#fb9f3a\"],[0.8888888888888888,\"#fdca26\"],[1.0,\"#f0f921\"]]}],\"heatmap\":[{\"type\":\"heatmap\",\"colorbar\":{\"outlinewidth\":0,\"ticks\":\"\"},\"colorscale\":[[0.0,\"#0d0887\"],[0.1111111111111111,\"#46039f\"],[0.2222222222222222,\"#7201a8\"],[0.3333333333333333,\"#9c179e\"],[0.4444444444444444,\"#bd3786\"],[0.5555555555555556,\"#d8576b\"],[0.6666666666666666,\"#ed7953\"],[0.7777777777777778,\"#fb9f3a\"],[0.8888888888888888,\"#fdca26\"],[1.0,\"#f0f921\"]]}],\"heatmapgl\":[{\"type\":\"heatmapgl\",\"colorbar\":{\"outlinewidth\":0,\"ticks\":\"\"},\"colorscale\":[[0.0,\"#0d0887\"],[0.1111111111111111,\"#46039f\"],[0.2222222222222222,\"#7201a8\"],[0.3333333333333333,\"#9c179e\"],[0.4444444444444444,\"#bd3786\"],[0.5555555555555556,\"#d8576b\"],[0.6666666666666666,\"#ed7953\"],[0.7777777777777778,\"#fb9f3a\"],[0.8888888888888888,\"#fdca26\"],[1.0,\"#f0f921\"]]}],\"contourcarpet\":[{\"type\":\"contourcarpet\",\"colorbar\":{\"outlinewidth\":0,\"ticks\":\"\"}}],\"contour\":[{\"type\":\"contour\",\"colorbar\":{\"outlinewidth\":0,\"ticks\":\"\"},\"colorscale\":[[0.0,\"#0d0887\"],[0.1111111111111111,\"#46039f\"],[0.2222222222222222,\"#7201a8\"],[0.3333333333333333,\"#9c179e\"],[0.4444444444444444,\"#bd3786\"],[0.5555555555555556,\"#d8576b\"],[0.6666666666666666,\"#ed7953\"],[0.7777777777777778,\"#fb9f3a\"],[0.8888888888888888,\"#fdca26\"],[1.0,\"#f0f921\"]]}],\"surface\":[{\"type\":\"surface\",\"colorbar\":{\"outlinewidth\":0,\"ticks\":\"\"},\"colorscale\":[[0.0,\"#0d0887\"],[0.1111111111111111,\"#46039f\"],[0.2222222222222222,\"#7201a8\"],[0.3333333333333333,\"#9c179e\"],[0.4444444444444444,\"#bd3786\"],[0.5555555555555556,\"#d8576b\"],[0.6666666666666666,\"#ed7953\"],[0.7777777777777778,\"#fb9f3a\"],[0.8888888888888888,\"#fdca26\"],[1.0,\"#f0f921\"]]}],\"mesh3d\":[{\"type\":\"mesh3d\",\"colorbar\":{\"outlinewidth\":0,\"ticks\":\"\"}}],\"scatter\":[{\"fillpattern\":{\"fillmode\":\"overlay\",\"size\":10,\"solidity\":0.2},\"type\":\"scatter\"}],\"parcoords\":[{\"type\":\"parcoords\",\"line\":{\"colorbar\":{\"outlinewidth\":0,\"ticks\":\"\"}}}],\"scatterpolargl\":[{\"type\":\"scatterpolargl\",\"marker\":{\"colorbar\":{\"outlinewidth\":0,\"ticks\":\"\"}}}],\"bar\":[{\"error_x\":{\"color\":\"#2a3f5f\"},\"error_y\":{\"color\":\"#2a3f5f\"},\"marker\":{\"line\":{\"color\":\"#E5ECF6\",\"width\":0.5},\"pattern\":{\"fillmode\":\"overlay\",\"size\":10,\"solidity\":0.2}},\"type\":\"bar\"}],\"scattergeo\":[{\"type\":\"scattergeo\",\"marker\":{\"colorbar\":{\"outlinewidth\":0,\"ticks\":\"\"}}}],\"scatterpolar\":[{\"type\":\"scatterpolar\",\"marker\":{\"colorbar\":{\"outlinewidth\":0,\"ticks\":\"\"}}}],\"histogram\":[{\"marker\":{\"pattern\":{\"fillmode\":\"overlay\",\"size\":10,\"solidity\":0.2}},\"type\":\"histogram\"}],\"scattergl\":[{\"type\":\"scattergl\",\"marker\":{\"colorbar\":{\"outlinewidth\":0,\"ticks\":\"\"}}}],\"scatter3d\":[{\"type\":\"scatter3d\",\"line\":{\"colorbar\":{\"outlinewidth\":0,\"ticks\":\"\"}},\"marker\":{\"colorbar\":{\"outlinewidth\":0,\"ticks\":\"\"}}}],\"scattermapbox\":[{\"type\":\"scattermapbox\",\"marker\":{\"colorbar\":{\"outlinewidth\":0,\"ticks\":\"\"}}}],\"scatterternary\":[{\"type\":\"scatterternary\",\"marker\":{\"colorbar\":{\"outlinewidth\":0,\"ticks\":\"\"}}}],\"scattercarpet\":[{\"type\":\"scattercarpet\",\"marker\":{\"colorbar\":{\"outlinewidth\":0,\"ticks\":\"\"}}}],\"carpet\":[{\"aaxis\":{\"endlinecolor\":\"#2a3f5f\",\"gridcolor\":\"white\",\"linecolor\":\"white\",\"minorgridcolor\":\"white\",\"startlinecolor\":\"#2a3f5f\"},\"baxis\":{\"endlinecolor\":\"#2a3f5f\",\"gridcolor\":\"white\",\"linecolor\":\"white\",\"minorgridcolor\":\"white\",\"startlinecolor\":\"#2a3f5f\"},\"type\":\"carpet\"}],\"table\":[{\"cells\":{\"fill\":{\"color\":\"#EBF0F8\"},\"line\":{\"color\":\"white\"}},\"header\":{\"fill\":{\"color\":\"#C8D4E3\"},\"line\":{\"color\":\"white\"}},\"type\":\"table\"}],\"barpolar\":[{\"marker\":{\"line\":{\"color\":\"#E5ECF6\",\"width\":0.5},\"pattern\":{\"fillmode\":\"overlay\",\"size\":10,\"solidity\":0.2}},\"type\":\"barpolar\"}],\"pie\":[{\"automargin\":true,\"type\":\"pie\"}]},\"layout\":{\"autotypenumbers\":\"strict\",\"colorway\":[\"#636efa\",\"#EF553B\",\"#00cc96\",\"#ab63fa\",\"#FFA15A\",\"#19d3f3\",\"#FF6692\",\"#B6E880\",\"#FF97FF\",\"#FECB52\"],\"font\":{\"color\":\"#2a3f5f\"},\"hovermode\":\"closest\",\"hoverlabel\":{\"align\":\"left\"},\"paper_bgcolor\":\"white\",\"plot_bgcolor\":\"#E5ECF6\",\"polar\":{\"bgcolor\":\"#E5ECF6\",\"angularaxis\":{\"gridcolor\":\"white\",\"linecolor\":\"white\",\"ticks\":\"\"},\"radialaxis\":{\"gridcolor\":\"white\",\"linecolor\":\"white\",\"ticks\":\"\"}},\"ternary\":{\"bgcolor\":\"#E5ECF6\",\"aaxis\":{\"gridcolor\":\"white\",\"linecolor\":\"white\",\"ticks\":\"\"},\"baxis\":{\"gridcolor\":\"white\",\"linecolor\":\"white\",\"ticks\":\"\"},\"caxis\":{\"gridcolor\":\"white\",\"linecolor\":\"white\",\"ticks\":\"\"}},\"coloraxis\":{\"colorbar\":{\"outlinewidth\":0,\"ticks\":\"\"}},\"colorscale\":{\"sequential\":[[0.0,\"#0d0887\"],[0.1111111111111111,\"#46039f\"],[0.2222222222222222,\"#7201a8\"],[0.3333333333333333,\"#9c179e\"],[0.4444444444444444,\"#bd3786\"],[0.5555555555555556,\"#d8576b\"],[0.6666666666666666,\"#ed7953\"],[0.7777777777777778,\"#fb9f3a\"],[0.8888888888888888,\"#fdca26\"],[1.0,\"#f0f921\"]],\"sequentialminus\":[[0.0,\"#0d0887\"],[0.1111111111111111,\"#46039f\"],[0.2222222222222222,\"#7201a8\"],[0.3333333333333333,\"#9c179e\"],[0.4444444444444444,\"#bd3786\"],[0.5555555555555556,\"#d8576b\"],[0.6666666666666666,\"#ed7953\"],[0.7777777777777778,\"#fb9f3a\"],[0.8888888888888888,\"#fdca26\"],[1.0,\"#f0f921\"]],\"diverging\":[[0,\"#8e0152\"],[0.1,\"#c51b7d\"],[0.2,\"#de77ae\"],[0.3,\"#f1b6da\"],[0.4,\"#fde0ef\"],[0.5,\"#f7f7f7\"],[0.6,\"#e6f5d0\"],[0.7,\"#b8e186\"],[0.8,\"#7fbc41\"],[0.9,\"#4d9221\"],[1,\"#276419\"]]},\"xaxis\":{\"gridcolor\":\"white\",\"linecolor\":\"white\",\"ticks\":\"\",\"title\":{\"standoff\":15},\"zerolinecolor\":\"white\",\"automargin\":true,\"zerolinewidth\":2},\"yaxis\":{\"gridcolor\":\"white\",\"linecolor\":\"white\",\"ticks\":\"\",\"title\":{\"standoff\":15},\"zerolinecolor\":\"white\",\"automargin\":true,\"zerolinewidth\":2},\"scene\":{\"xaxis\":{\"backgroundcolor\":\"#E5ECF6\",\"gridcolor\":\"white\",\"linecolor\":\"white\",\"showbackground\":true,\"ticks\":\"\",\"zerolinecolor\":\"white\",\"gridwidth\":2},\"yaxis\":{\"backgroundcolor\":\"#E5ECF6\",\"gridcolor\":\"white\",\"linecolor\":\"white\",\"showbackground\":true,\"ticks\":\"\",\"zerolinecolor\":\"white\",\"gridwidth\":2},\"zaxis\":{\"backgroundcolor\":\"#E5ECF6\",\"gridcolor\":\"white\",\"linecolor\":\"white\",\"showbackground\":true,\"ticks\":\"\",\"zerolinecolor\":\"white\",\"gridwidth\":2}},\"shapedefaults\":{\"line\":{\"color\":\"#2a3f5f\"}},\"annotationdefaults\":{\"arrowcolor\":\"#2a3f5f\",\"arrowhead\":0,\"arrowwidth\":1},\"geo\":{\"bgcolor\":\"white\",\"landcolor\":\"#E5ECF6\",\"subunitcolor\":\"white\",\"showland\":true,\"showlakes\":true,\"lakecolor\":\"white\"},\"title\":{\"x\":0.05},\"mapbox\":{\"style\":\"light\"}}},\"title\":{\"text\":\"N\\u00famero total de partos realizados no SUS\"},\"legend\":{\"title\":{\"text\":\"Bi\\u00eanio\"}},\"updatemenus\":[{\"buttons\":[{\"args\":[{\"y\":[[17.59,18.01,65.57,44.05,22.06,15.76,24.79,22.3,29.64,27.59],[23.74,27.99,73.27,53.98,23.66,18.32,29.09,27.26,43.38,43.13]]}],\"label\":\"Brasil\",\"method\":\"update\"},{\"args\":[{\"y\":[[17.59,18.01],[23.74,27.99]]}],\"label\":\"Centro-Oeste\",\"method\":\"update\"},{\"args\":[{\"y\":[[65.57,44.05],[73.27,53.98]]}],\"label\":\"Nordeste\",\"method\":\"update\"},{\"args\":[{\"y\":[[22.06,15.76],[23.66,18.32]]}],\"label\":\"Norte\",\"method\":\"update\"},{\"args\":[{\"y\":[[24.79,22.3],[29.09,27.26]]}],\"label\":\"Sudeste\",\"method\":\"update\"},{\"args\":[{\"y\":[[29.64,27.59],[43.38,43.13]]}],\"label\":\"Sul\",\"method\":\"update\"}],\"direction\":\"down\",\"showactive\":true}]},                        {\"responsive\": true}                    ).then(function(){\n",
       "                            \n",
       "var gd = document.getElementById('ffb5ba1a-830d-4390-bd9b-1e7aeff06b9f');\n",
       "var x = new MutationObserver(function (mutations, observer) {{\n",
       "        var display = window.getComputedStyle(gd).display;\n",
       "        if (!display || display === 'none') {{\n",
       "            console.log([gd, 'removed!']);\n",
       "            Plotly.purge(gd);\n",
       "            observer.disconnect();\n",
       "        }}\n",
       "}});\n",
       "\n",
       "// Listen for the removal of the full notebook cells\n",
       "var notebookContainer = gd.closest('#notebook-container');\n",
       "if (notebookContainer) {{\n",
       "    x.observe(notebookContainer, {childList: true});\n",
       "}}\n",
       "\n",
       "// Listen for the clearing of the current output cell\n",
       "var outputEl = gd.closest('.output');\n",
       "if (outputEl) {{\n",
       "    x.observe(outputEl, {childList: true});\n",
       "}}\n",
       "\n",
       "                        })                };                });            </script>        </div>"
      ]
     },
     "metadata": {},
     "output_type": "display_data"
    }
   ],
   "source": [
    "df_critic_regiao = critic(\n",
    "  select_and_group(df_proc_bienio, df_locs, cols_critic),\n",
    "  critic_level=1)\n",
    "fig_critic_regiao = fig_count_partos(df_critic_regiao)\n",
    "fig_critic_regiao.show()"
   ]
  },
  {
   "cell_type": "markdown",
   "metadata": {},
   "source": [
    "### UF"
   ]
  },
  {
   "cell_type": "code",
   "execution_count": 13,
   "metadata": {},
   "outputs": [
    {
     "data": {
      "application/vnd.plotly.v1+json": {
       "config": {
        "plotlyServerURL": "https://plot.ly"
       },
       "data": [
        {
         "marker": {
          "color": "#31A885"
         },
         "name": "2010-2011",
         "text": [
          22.26,
          17.41,
          89.61,
          73.05,
          14.74,
          12.65,
          2.51,
          2.13,
          51.56,
          32.58,
          34.6,
          26.15,
          0.07,
          0.08,
          53.63,
          43.79,
          34.7,
          40.26,
          29.54,
          21.51,
          25.86,
          23.49,
          8.77,
          7.75,
          34.94,
          41.17,
          23.69,
          21.16,
          98.16,
          97.51,
          25.09,
          15.65,
          116.36,
          62.39,
          80.04,
          58.9,
          74.86,
          62.91,
          28.86,
          26.4,
          24.93,
          17.43,
          21.45,
          16.62,
          31.75,
          35.78,
          41.14,
          44.1,
          152.7,
          162.54,
          17.06,
          14.62,
          66.07,
          73.24
         ],
         "textposition": "auto",
         "type": "bar",
         "x": [
          "Parto Cesárea",
          "Parto Normal",
          "Parto Cesárea",
          "Parto Normal",
          "Parto Cesárea",
          "Parto Normal",
          "Parto Cesárea",
          "Parto Normal",
          "Parto Cesárea",
          "Parto Normal",
          "Parto Cesárea",
          "Parto Normal",
          "Parto Cesárea",
          "Parto Normal",
          "Parto Cesárea",
          "Parto Normal",
          "Parto Cesárea",
          "Parto Normal",
          "Parto Cesárea",
          "Parto Normal",
          "Parto Cesárea",
          "Parto Normal",
          "Parto Cesárea",
          "Parto Normal",
          "Parto Cesárea",
          "Parto Normal",
          "Parto Cesárea",
          "Parto Normal",
          "Parto Cesárea",
          "Parto Normal",
          "Parto Cesárea",
          "Parto Normal",
          "Parto Cesárea",
          "Parto Normal",
          "Parto Cesárea",
          "Parto Normal",
          "Parto Cesárea",
          "Parto Normal",
          "Parto Cesárea",
          "Parto Normal",
          "Parto Cesárea",
          "Parto Normal",
          "Parto Cesárea",
          "Parto Normal",
          "Parto Cesárea",
          "Parto Normal",
          "Parto Cesárea",
          "Parto Normal",
          "Parto Cesárea",
          "Parto Normal",
          "Parto Cesárea",
          "Parto Normal",
          "Parto Cesárea",
          "Parto Normal"
         ],
         "y": [
          22.26,
          17.41,
          89.61,
          73.05,
          14.74,
          12.65,
          2.51,
          2.13,
          51.56,
          32.58,
          34.6,
          26.15,
          0.07,
          0.08,
          53.63,
          43.79,
          34.7,
          40.26,
          29.54,
          21.51,
          25.86,
          23.49,
          8.77,
          7.75,
          34.94,
          41.17,
          23.69,
          21.16,
          98.16,
          97.51,
          25.09,
          15.65,
          116.36,
          62.39,
          80.04,
          58.9,
          74.86,
          62.91,
          28.86,
          26.4,
          24.93,
          17.43,
          21.45,
          16.62,
          31.75,
          35.78,
          41.14,
          44.1,
          152.7,
          162.54,
          17.06,
          14.62,
          66.07,
          73.24
         ]
        },
        {
         "marker": {
          "color": "#DD6F1C"
         },
         "name": "2018-2019",
         "text": [
          27.78,
          25.11,
          103.49,
          73.44,
          21.05,
          19.19,
          3.27,
          3.46,
          51.68,
          33.71,
          58.95,
          34.58,
          0.55,
          0.44,
          45.34,
          41.74,
          40.5,
          66.22,
          44.83,
          35.93,
          28.4,
          31.7,
          14.17,
          12.25,
          43.24,
          51.09,
          51.6,
          42.57,
          116.17,
          104.91,
          26.75,
          19.38,
          94.4,
          81.22,
          105.4,
          67.12,
          112.64,
          96.22,
          32.72,
          32.25,
          27.89,
          27.47,
          27.16,
          19.64,
          43.88,
          37.16,
          53.87,
          63.39,
          160.02,
          174.16,
          21.42,
          18.01,
          88.81,
          105.17
         ],
         "textposition": "auto",
         "type": "bar",
         "x": [
          "Parto Cesárea",
          "Parto Normal",
          "Parto Cesárea",
          "Parto Normal",
          "Parto Cesárea",
          "Parto Normal",
          "Parto Cesárea",
          "Parto Normal",
          "Parto Cesárea",
          "Parto Normal",
          "Parto Cesárea",
          "Parto Normal",
          "Parto Cesárea",
          "Parto Normal",
          "Parto Cesárea",
          "Parto Normal",
          "Parto Cesárea",
          "Parto Normal",
          "Parto Cesárea",
          "Parto Normal",
          "Parto Cesárea",
          "Parto Normal",
          "Parto Cesárea",
          "Parto Normal",
          "Parto Cesárea",
          "Parto Normal",
          "Parto Cesárea",
          "Parto Normal",
          "Parto Cesárea",
          "Parto Normal",
          "Parto Cesárea",
          "Parto Normal",
          "Parto Cesárea",
          "Parto Normal",
          "Parto Cesárea",
          "Parto Normal",
          "Parto Cesárea",
          "Parto Normal",
          "Parto Cesárea",
          "Parto Normal",
          "Parto Cesárea",
          "Parto Normal",
          "Parto Cesárea",
          "Parto Normal",
          "Parto Cesárea",
          "Parto Normal",
          "Parto Cesárea",
          "Parto Normal",
          "Parto Cesárea",
          "Parto Normal",
          "Parto Cesárea",
          "Parto Normal",
          "Parto Cesárea",
          "Parto Normal"
         ],
         "y": [
          27.78,
          25.11,
          103.49,
          73.44,
          21.05,
          19.19,
          3.27,
          3.46,
          51.68,
          33.71,
          58.95,
          34.58,
          0.55,
          0.44,
          45.34,
          41.74,
          40.5,
          66.22,
          44.83,
          35.93,
          28.4,
          31.7,
          14.17,
          12.25,
          43.24,
          51.09,
          51.6,
          42.57,
          116.17,
          104.91,
          26.75,
          19.38,
          94.4,
          81.22,
          105.4,
          67.12,
          112.64,
          96.22,
          32.72,
          32.25,
          27.89,
          27.47,
          27.16,
          19.64,
          43.88,
          37.16,
          53.87,
          63.39,
          160.02,
          174.16,
          21.42,
          18.01,
          88.81,
          105.17
         ]
        }
       ],
       "layout": {
        "legend": {
         "title": {
          "text": "Biênio"
         }
        },
        "template": {
         "data": {
          "bar": [
           {
            "error_x": {
             "color": "#2a3f5f"
            },
            "error_y": {
             "color": "#2a3f5f"
            },
            "marker": {
             "line": {
              "color": "#E5ECF6",
              "width": 0.5
             },
             "pattern": {
              "fillmode": "overlay",
              "size": 10,
              "solidity": 0.2
             }
            },
            "type": "bar"
           }
          ],
          "barpolar": [
           {
            "marker": {
             "line": {
              "color": "#E5ECF6",
              "width": 0.5
             },
             "pattern": {
              "fillmode": "overlay",
              "size": 10,
              "solidity": 0.2
             }
            },
            "type": "barpolar"
           }
          ],
          "carpet": [
           {
            "aaxis": {
             "endlinecolor": "#2a3f5f",
             "gridcolor": "white",
             "linecolor": "white",
             "minorgridcolor": "white",
             "startlinecolor": "#2a3f5f"
            },
            "baxis": {
             "endlinecolor": "#2a3f5f",
             "gridcolor": "white",
             "linecolor": "white",
             "minorgridcolor": "white",
             "startlinecolor": "#2a3f5f"
            },
            "type": "carpet"
           }
          ],
          "choropleth": [
           {
            "colorbar": {
             "outlinewidth": 0,
             "ticks": ""
            },
            "type": "choropleth"
           }
          ],
          "contour": [
           {
            "colorbar": {
             "outlinewidth": 0,
             "ticks": ""
            },
            "colorscale": [
             [
              0,
              "#0d0887"
             ],
             [
              0.1111111111111111,
              "#46039f"
             ],
             [
              0.2222222222222222,
              "#7201a8"
             ],
             [
              0.3333333333333333,
              "#9c179e"
             ],
             [
              0.4444444444444444,
              "#bd3786"
             ],
             [
              0.5555555555555556,
              "#d8576b"
             ],
             [
              0.6666666666666666,
              "#ed7953"
             ],
             [
              0.7777777777777778,
              "#fb9f3a"
             ],
             [
              0.8888888888888888,
              "#fdca26"
             ],
             [
              1,
              "#f0f921"
             ]
            ],
            "type": "contour"
           }
          ],
          "contourcarpet": [
           {
            "colorbar": {
             "outlinewidth": 0,
             "ticks": ""
            },
            "type": "contourcarpet"
           }
          ],
          "heatmap": [
           {
            "colorbar": {
             "outlinewidth": 0,
             "ticks": ""
            },
            "colorscale": [
             [
              0,
              "#0d0887"
             ],
             [
              0.1111111111111111,
              "#46039f"
             ],
             [
              0.2222222222222222,
              "#7201a8"
             ],
             [
              0.3333333333333333,
              "#9c179e"
             ],
             [
              0.4444444444444444,
              "#bd3786"
             ],
             [
              0.5555555555555556,
              "#d8576b"
             ],
             [
              0.6666666666666666,
              "#ed7953"
             ],
             [
              0.7777777777777778,
              "#fb9f3a"
             ],
             [
              0.8888888888888888,
              "#fdca26"
             ],
             [
              1,
              "#f0f921"
             ]
            ],
            "type": "heatmap"
           }
          ],
          "heatmapgl": [
           {
            "colorbar": {
             "outlinewidth": 0,
             "ticks": ""
            },
            "colorscale": [
             [
              0,
              "#0d0887"
             ],
             [
              0.1111111111111111,
              "#46039f"
             ],
             [
              0.2222222222222222,
              "#7201a8"
             ],
             [
              0.3333333333333333,
              "#9c179e"
             ],
             [
              0.4444444444444444,
              "#bd3786"
             ],
             [
              0.5555555555555556,
              "#d8576b"
             ],
             [
              0.6666666666666666,
              "#ed7953"
             ],
             [
              0.7777777777777778,
              "#fb9f3a"
             ],
             [
              0.8888888888888888,
              "#fdca26"
             ],
             [
              1,
              "#f0f921"
             ]
            ],
            "type": "heatmapgl"
           }
          ],
          "histogram": [
           {
            "marker": {
             "pattern": {
              "fillmode": "overlay",
              "size": 10,
              "solidity": 0.2
             }
            },
            "type": "histogram"
           }
          ],
          "histogram2d": [
           {
            "colorbar": {
             "outlinewidth": 0,
             "ticks": ""
            },
            "colorscale": [
             [
              0,
              "#0d0887"
             ],
             [
              0.1111111111111111,
              "#46039f"
             ],
             [
              0.2222222222222222,
              "#7201a8"
             ],
             [
              0.3333333333333333,
              "#9c179e"
             ],
             [
              0.4444444444444444,
              "#bd3786"
             ],
             [
              0.5555555555555556,
              "#d8576b"
             ],
             [
              0.6666666666666666,
              "#ed7953"
             ],
             [
              0.7777777777777778,
              "#fb9f3a"
             ],
             [
              0.8888888888888888,
              "#fdca26"
             ],
             [
              1,
              "#f0f921"
             ]
            ],
            "type": "histogram2d"
           }
          ],
          "histogram2dcontour": [
           {
            "colorbar": {
             "outlinewidth": 0,
             "ticks": ""
            },
            "colorscale": [
             [
              0,
              "#0d0887"
             ],
             [
              0.1111111111111111,
              "#46039f"
             ],
             [
              0.2222222222222222,
              "#7201a8"
             ],
             [
              0.3333333333333333,
              "#9c179e"
             ],
             [
              0.4444444444444444,
              "#bd3786"
             ],
             [
              0.5555555555555556,
              "#d8576b"
             ],
             [
              0.6666666666666666,
              "#ed7953"
             ],
             [
              0.7777777777777778,
              "#fb9f3a"
             ],
             [
              0.8888888888888888,
              "#fdca26"
             ],
             [
              1,
              "#f0f921"
             ]
            ],
            "type": "histogram2dcontour"
           }
          ],
          "mesh3d": [
           {
            "colorbar": {
             "outlinewidth": 0,
             "ticks": ""
            },
            "type": "mesh3d"
           }
          ],
          "parcoords": [
           {
            "line": {
             "colorbar": {
              "outlinewidth": 0,
              "ticks": ""
             }
            },
            "type": "parcoords"
           }
          ],
          "pie": [
           {
            "automargin": true,
            "type": "pie"
           }
          ],
          "scatter": [
           {
            "fillpattern": {
             "fillmode": "overlay",
             "size": 10,
             "solidity": 0.2
            },
            "type": "scatter"
           }
          ],
          "scatter3d": [
           {
            "line": {
             "colorbar": {
              "outlinewidth": 0,
              "ticks": ""
             }
            },
            "marker": {
             "colorbar": {
              "outlinewidth": 0,
              "ticks": ""
             }
            },
            "type": "scatter3d"
           }
          ],
          "scattercarpet": [
           {
            "marker": {
             "colorbar": {
              "outlinewidth": 0,
              "ticks": ""
             }
            },
            "type": "scattercarpet"
           }
          ],
          "scattergeo": [
           {
            "marker": {
             "colorbar": {
              "outlinewidth": 0,
              "ticks": ""
             }
            },
            "type": "scattergeo"
           }
          ],
          "scattergl": [
           {
            "marker": {
             "colorbar": {
              "outlinewidth": 0,
              "ticks": ""
             }
            },
            "type": "scattergl"
           }
          ],
          "scattermapbox": [
           {
            "marker": {
             "colorbar": {
              "outlinewidth": 0,
              "ticks": ""
             }
            },
            "type": "scattermapbox"
           }
          ],
          "scatterpolar": [
           {
            "marker": {
             "colorbar": {
              "outlinewidth": 0,
              "ticks": ""
             }
            },
            "type": "scatterpolar"
           }
          ],
          "scatterpolargl": [
           {
            "marker": {
             "colorbar": {
              "outlinewidth": 0,
              "ticks": ""
             }
            },
            "type": "scatterpolargl"
           }
          ],
          "scatterternary": [
           {
            "marker": {
             "colorbar": {
              "outlinewidth": 0,
              "ticks": ""
             }
            },
            "type": "scatterternary"
           }
          ],
          "surface": [
           {
            "colorbar": {
             "outlinewidth": 0,
             "ticks": ""
            },
            "colorscale": [
             [
              0,
              "#0d0887"
             ],
             [
              0.1111111111111111,
              "#46039f"
             ],
             [
              0.2222222222222222,
              "#7201a8"
             ],
             [
              0.3333333333333333,
              "#9c179e"
             ],
             [
              0.4444444444444444,
              "#bd3786"
             ],
             [
              0.5555555555555556,
              "#d8576b"
             ],
             [
              0.6666666666666666,
              "#ed7953"
             ],
             [
              0.7777777777777778,
              "#fb9f3a"
             ],
             [
              0.8888888888888888,
              "#fdca26"
             ],
             [
              1,
              "#f0f921"
             ]
            ],
            "type": "surface"
           }
          ],
          "table": [
           {
            "cells": {
             "fill": {
              "color": "#EBF0F8"
             },
             "line": {
              "color": "white"
             }
            },
            "header": {
             "fill": {
              "color": "#C8D4E3"
             },
             "line": {
              "color": "white"
             }
            },
            "type": "table"
           }
          ]
         },
         "layout": {
          "annotationdefaults": {
           "arrowcolor": "#2a3f5f",
           "arrowhead": 0,
           "arrowwidth": 1
          },
          "autotypenumbers": "strict",
          "coloraxis": {
           "colorbar": {
            "outlinewidth": 0,
            "ticks": ""
           }
          },
          "colorscale": {
           "diverging": [
            [
             0,
             "#8e0152"
            ],
            [
             0.1,
             "#c51b7d"
            ],
            [
             0.2,
             "#de77ae"
            ],
            [
             0.3,
             "#f1b6da"
            ],
            [
             0.4,
             "#fde0ef"
            ],
            [
             0.5,
             "#f7f7f7"
            ],
            [
             0.6,
             "#e6f5d0"
            ],
            [
             0.7,
             "#b8e186"
            ],
            [
             0.8,
             "#7fbc41"
            ],
            [
             0.9,
             "#4d9221"
            ],
            [
             1,
             "#276419"
            ]
           ],
           "sequential": [
            [
             0,
             "#0d0887"
            ],
            [
             0.1111111111111111,
             "#46039f"
            ],
            [
             0.2222222222222222,
             "#7201a8"
            ],
            [
             0.3333333333333333,
             "#9c179e"
            ],
            [
             0.4444444444444444,
             "#bd3786"
            ],
            [
             0.5555555555555556,
             "#d8576b"
            ],
            [
             0.6666666666666666,
             "#ed7953"
            ],
            [
             0.7777777777777778,
             "#fb9f3a"
            ],
            [
             0.8888888888888888,
             "#fdca26"
            ],
            [
             1,
             "#f0f921"
            ]
           ],
           "sequentialminus": [
            [
             0,
             "#0d0887"
            ],
            [
             0.1111111111111111,
             "#46039f"
            ],
            [
             0.2222222222222222,
             "#7201a8"
            ],
            [
             0.3333333333333333,
             "#9c179e"
            ],
            [
             0.4444444444444444,
             "#bd3786"
            ],
            [
             0.5555555555555556,
             "#d8576b"
            ],
            [
             0.6666666666666666,
             "#ed7953"
            ],
            [
             0.7777777777777778,
             "#fb9f3a"
            ],
            [
             0.8888888888888888,
             "#fdca26"
            ],
            [
             1,
             "#f0f921"
            ]
           ]
          },
          "colorway": [
           "#636efa",
           "#EF553B",
           "#00cc96",
           "#ab63fa",
           "#FFA15A",
           "#19d3f3",
           "#FF6692",
           "#B6E880",
           "#FF97FF",
           "#FECB52"
          ],
          "font": {
           "color": "#2a3f5f"
          },
          "geo": {
           "bgcolor": "white",
           "lakecolor": "white",
           "landcolor": "#E5ECF6",
           "showlakes": true,
           "showland": true,
           "subunitcolor": "white"
          },
          "hoverlabel": {
           "align": "left"
          },
          "hovermode": "closest",
          "mapbox": {
           "style": "light"
          },
          "paper_bgcolor": "white",
          "plot_bgcolor": "#E5ECF6",
          "polar": {
           "angularaxis": {
            "gridcolor": "white",
            "linecolor": "white",
            "ticks": ""
           },
           "bgcolor": "#E5ECF6",
           "radialaxis": {
            "gridcolor": "white",
            "linecolor": "white",
            "ticks": ""
           }
          },
          "scene": {
           "xaxis": {
            "backgroundcolor": "#E5ECF6",
            "gridcolor": "white",
            "gridwidth": 2,
            "linecolor": "white",
            "showbackground": true,
            "ticks": "",
            "zerolinecolor": "white"
           },
           "yaxis": {
            "backgroundcolor": "#E5ECF6",
            "gridcolor": "white",
            "gridwidth": 2,
            "linecolor": "white",
            "showbackground": true,
            "ticks": "",
            "zerolinecolor": "white"
           },
           "zaxis": {
            "backgroundcolor": "#E5ECF6",
            "gridcolor": "white",
            "gridwidth": 2,
            "linecolor": "white",
            "showbackground": true,
            "ticks": "",
            "zerolinecolor": "white"
           }
          },
          "shapedefaults": {
           "line": {
            "color": "#2a3f5f"
           }
          },
          "ternary": {
           "aaxis": {
            "gridcolor": "white",
            "linecolor": "white",
            "ticks": ""
           },
           "baxis": {
            "gridcolor": "white",
            "linecolor": "white",
            "ticks": ""
           },
           "bgcolor": "#E5ECF6",
           "caxis": {
            "gridcolor": "white",
            "linecolor": "white",
            "ticks": ""
           }
          },
          "title": {
           "x": 0.05
          },
          "xaxis": {
           "automargin": true,
           "gridcolor": "white",
           "linecolor": "white",
           "ticks": "",
           "title": {
            "standoff": 15
           },
           "zerolinecolor": "white",
           "zerolinewidth": 2
          },
          "yaxis": {
           "automargin": true,
           "gridcolor": "white",
           "linecolor": "white",
           "ticks": "",
           "title": {
            "standoff": 15
           },
           "zerolinecolor": "white",
           "zerolinewidth": 2
          }
         }
        },
        "title": {
         "text": "Número total de partos realizados no SUS"
        },
        "updatemenus": [
         {
          "buttons": [
           {
            "args": [
             {
              "y": [
               [
                22.26,
                17.41,
                89.61,
                73.05,
                14.74,
                12.65,
                2.51,
                2.13,
                51.56,
                32.58,
                34.6,
                26.15,
                0.07,
                0.08,
                53.63,
                43.79,
                34.7,
                40.26,
                29.54,
                21.51,
                25.86,
                23.49,
                8.77,
                7.75,
                34.94,
                41.17,
                23.69,
                21.16,
                98.16,
                97.51,
                25.09,
                15.65,
                116.36,
                62.39,
                80.04,
                58.9,
                74.86,
                62.91,
                28.86,
                26.4,
                24.93,
                17.43,
                21.45,
                16.62,
                31.75,
                35.78,
                41.14,
                44.1,
                152.7,
                162.54,
                17.06,
                14.62,
                66.07,
                73.24
               ],
               [
                27.78,
                25.11,
                103.49,
                73.44,
                21.05,
                19.19,
                3.27,
                3.46,
                51.68,
                33.71,
                58.95,
                34.58,
                0.55,
                0.44,
                45.34,
                41.74,
                40.5,
                66.22,
                44.83,
                35.93,
                28.4,
                31.7,
                14.17,
                12.25,
                43.24,
                51.09,
                51.6,
                42.57,
                116.17,
                104.91,
                26.75,
                19.38,
                94.4,
                81.22,
                105.4,
                67.12,
                112.64,
                96.22,
                32.72,
                32.25,
                27.89,
                27.47,
                27.16,
                19.64,
                43.88,
                37.16,
                53.87,
                63.39,
                160.02,
                174.16,
                21.42,
                18.01,
                88.81,
                105.17
               ]
              ]
             }
            ],
            "label": "Brasil",
            "method": "update"
           },
           {
            "args": [
             {
              "y": [
               [
                22.26,
                17.41
               ],
               [
                27.78,
                25.11
               ]
              ]
             }
            ],
            "label": "Acre",
            "method": "update"
           },
           {
            "args": [
             {
              "y": [
               [
                89.61,
                73.05
               ],
               [
                103.49,
                73.44
               ]
              ]
             }
            ],
            "label": "Alagoas",
            "method": "update"
           },
           {
            "args": [
             {
              "y": [
               [
                14.74,
                12.65
               ],
               [
                21.05,
                19.19
               ]
              ]
             }
            ],
            "label": "Amapá",
            "method": "update"
           },
           {
            "args": [
             {
              "y": [
               [
                2.51,
                2.13
               ],
               [
                3.27,
                3.46
               ]
              ]
             }
            ],
            "label": "Amazonas",
            "method": "update"
           },
           {
            "args": [
             {
              "y": [
               [
                51.56,
                32.58
               ],
               [
                51.68,
                33.71
               ]
              ]
             }
            ],
            "label": "Bahia",
            "method": "update"
           },
           {
            "args": [
             {
              "y": [
               [
                34.6,
                26.15
               ],
               [
                58.95,
                34.58
               ]
              ]
             }
            ],
            "label": "Ceará",
            "method": "update"
           },
           {
            "args": [
             {
              "y": [
               [
                0.07,
                0.08
               ],
               [
                0.55,
                0.44
               ]
              ]
             }
            ],
            "label": "Distrito Federal",
            "method": "update"
           },
           {
            "args": [
             {
              "y": [
               [
                53.63,
                43.79
               ],
               [
                45.34,
                41.74
               ]
              ]
             }
            ],
            "label": "Espírito Santo",
            "method": "update"
           },
           {
            "args": [
             {
              "y": [
               [
                34.7,
                40.26
               ],
               [
                40.5,
                66.22
               ]
              ]
             }
            ],
            "label": "Goiás",
            "method": "update"
           },
           {
            "args": [
             {
              "y": [
               [
                29.54,
                21.51
               ],
               [
                44.83,
                35.93
               ]
              ]
             }
            ],
            "label": "Maranhão",
            "method": "update"
           },
           {
            "args": [
             {
              "y": [
               [
                25.86,
                23.49
               ],
               [
                28.4,
                31.7
               ]
              ]
             }
            ],
            "label": "Mato Grosso",
            "method": "update"
           },
           {
            "args": [
             {
              "y": [
               [
                8.77,
                7.75
               ],
               [
                14.17,
                12.25
               ]
              ]
             }
            ],
            "label": "Mato Grosso do Sul",
            "method": "update"
           },
           {
            "args": [
             {
              "y": [
               [
                34.94,
                41.17
               ],
               [
                43.24,
                51.09
               ]
              ]
             }
            ],
            "label": "Minas Gerais",
            "method": "update"
           },
           {
            "args": [
             {
              "y": [
               [
                23.69,
                21.16
               ],
               [
                51.6,
                42.57
               ]
              ]
             }
            ],
            "label": "Paraná",
            "method": "update"
           },
           {
            "args": [
             {
              "y": [
               [
                98.16,
                97.51
               ],
               [
                116.17,
                104.91
               ]
              ]
             }
            ],
            "label": "Paraíba",
            "method": "update"
           },
           {
            "args": [
             {
              "y": [
               [
                25.09,
                15.65
               ],
               [
                26.75,
                19.38
               ]
              ]
             }
            ],
            "label": "Pará",
            "method": "update"
           },
           {
            "args": [
             {
              "y": [
               [
                116.36,
                62.39
               ],
               [
                94.4,
                81.22
               ]
              ]
             }
            ],
            "label": "Pernambuco",
            "method": "update"
           },
           {
            "args": [
             {
              "y": [
               [
                80.04,
                58.9
               ],
               [
                105.4,
                67.12
               ]
              ]
             }
            ],
            "label": "Piauí",
            "method": "update"
           },
           {
            "args": [
             {
              "y": [
               [
                74.86,
                62.91
               ],
               [
                112.64,
                96.22
               ]
              ]
             }
            ],
            "label": "Rio Grande do Norte",
            "method": "update"
           },
           {
            "args": [
             {
              "y": [
               [
                28.86,
                26.4
               ],
               [
                32.72,
                32.25
               ]
              ]
             }
            ],
            "label": "Rio Grande do Sul",
            "method": "update"
           },
           {
            "args": [
             {
              "y": [
               [
                24.93,
                17.43
               ],
               [
                27.89,
                27.47
               ]
              ]
             }
            ],
            "label": "Rio de Janeiro",
            "method": "update"
           },
           {
            "args": [
             {
              "y": [
               [
                21.45,
                16.62
               ],
               [
                27.16,
                19.64
               ]
              ]
             }
            ],
            "label": "Rondônia",
            "method": "update"
           },
           {
            "args": [
             {
              "y": [
               [
                31.75,
                35.78
               ],
               [
                43.88,
                37.16
               ]
              ]
             }
            ],
            "label": "Roraima",
            "method": "update"
           },
           {
            "args": [
             {
              "y": [
               [
                41.14,
                44.1
               ],
               [
                53.87,
                63.39
               ]
              ]
             }
            ],
            "label": "Santa Catarina",
            "method": "update"
           },
           {
            "args": [
             {
              "y": [
               [
                152.7,
                162.54
               ],
               [
                160.02,
                174.16
               ]
              ]
             }
            ],
            "label": "Sergipe",
            "method": "update"
           },
           {
            "args": [
             {
              "y": [
               [
                17.06,
                14.62
               ],
               [
                21.42,
                18.01
               ]
              ]
             }
            ],
            "label": "São Paulo",
            "method": "update"
           },
           {
            "args": [
             {
              "y": [
               [
                66.07,
                73.24
               ],
               [
                88.81,
                105.17
               ]
              ]
             }
            ],
            "label": "Tocantins",
            "method": "update"
           }
          ],
          "direction": "down",
          "showactive": true
         }
        ]
       }
      },
      "text/html": [
       "<div>                            <div id=\"78ab9643-757a-47f8-9ac3-7d94ccf64c60\" class=\"plotly-graph-div\" style=\"height:525px; width:100%;\"></div>            <script type=\"text/javascript\">                require([\"plotly\"], function(Plotly) {                    window.PLOTLYENV=window.PLOTLYENV || {};                                    if (document.getElementById(\"78ab9643-757a-47f8-9ac3-7d94ccf64c60\")) {                    Plotly.newPlot(                        \"78ab9643-757a-47f8-9ac3-7d94ccf64c60\",                        [{\"marker\":{\"color\":\"#31A885\"},\"name\":\"2010-2011\",\"text\":[22.26,17.41,89.61,73.05,14.74,12.65,2.51,2.13,51.56,32.58,34.6,26.15,0.07,0.08,53.63,43.79,34.7,40.26,29.54,21.51,25.86,23.49,8.77,7.75,34.94,41.17,23.69,21.16,98.16,97.51,25.09,15.65,116.36,62.39,80.04,58.9,74.86,62.91,28.86,26.4,24.93,17.43,21.45,16.62,31.75,35.78,41.14,44.1,152.7,162.54,17.06,14.62,66.07,73.24],\"textposition\":\"auto\",\"x\":[\"Parto Ces\\u00e1rea\",\"Parto Normal\",\"Parto Ces\\u00e1rea\",\"Parto Normal\",\"Parto Ces\\u00e1rea\",\"Parto Normal\",\"Parto Ces\\u00e1rea\",\"Parto Normal\",\"Parto Ces\\u00e1rea\",\"Parto Normal\",\"Parto Ces\\u00e1rea\",\"Parto Normal\",\"Parto Ces\\u00e1rea\",\"Parto Normal\",\"Parto Ces\\u00e1rea\",\"Parto Normal\",\"Parto Ces\\u00e1rea\",\"Parto Normal\",\"Parto Ces\\u00e1rea\",\"Parto Normal\",\"Parto Ces\\u00e1rea\",\"Parto Normal\",\"Parto Ces\\u00e1rea\",\"Parto Normal\",\"Parto Ces\\u00e1rea\",\"Parto Normal\",\"Parto Ces\\u00e1rea\",\"Parto Normal\",\"Parto Ces\\u00e1rea\",\"Parto Normal\",\"Parto Ces\\u00e1rea\",\"Parto Normal\",\"Parto Ces\\u00e1rea\",\"Parto Normal\",\"Parto Ces\\u00e1rea\",\"Parto Normal\",\"Parto Ces\\u00e1rea\",\"Parto Normal\",\"Parto Ces\\u00e1rea\",\"Parto Normal\",\"Parto Ces\\u00e1rea\",\"Parto Normal\",\"Parto Ces\\u00e1rea\",\"Parto Normal\",\"Parto Ces\\u00e1rea\",\"Parto Normal\",\"Parto Ces\\u00e1rea\",\"Parto Normal\",\"Parto Ces\\u00e1rea\",\"Parto Normal\",\"Parto Ces\\u00e1rea\",\"Parto Normal\",\"Parto Ces\\u00e1rea\",\"Parto Normal\"],\"y\":[22.26,17.41,89.61,73.05,14.74,12.65,2.51,2.13,51.56,32.58,34.6,26.15,0.07,0.08,53.63,43.79,34.7,40.26,29.54,21.51,25.86,23.49,8.77,7.75,34.94,41.17,23.69,21.16,98.16,97.51,25.09,15.65,116.36,62.39,80.04,58.9,74.86,62.91,28.86,26.4,24.93,17.43,21.45,16.62,31.75,35.78,41.14,44.1,152.7,162.54,17.06,14.62,66.07,73.24],\"type\":\"bar\"},{\"marker\":{\"color\":\"#DD6F1C\"},\"name\":\"2018-2019\",\"text\":[27.78,25.11,103.49,73.44,21.05,19.19,3.27,3.46,51.68,33.71,58.95,34.58,0.55,0.44,45.34,41.74,40.5,66.22,44.83,35.93,28.4,31.7,14.17,12.25,43.24,51.09,51.6,42.57,116.17,104.91,26.75,19.38,94.4,81.22,105.4,67.12,112.64,96.22,32.72,32.25,27.89,27.47,27.16,19.64,43.88,37.16,53.87,63.39,160.02,174.16,21.42,18.01,88.81,105.17],\"textposition\":\"auto\",\"x\":[\"Parto Ces\\u00e1rea\",\"Parto Normal\",\"Parto Ces\\u00e1rea\",\"Parto Normal\",\"Parto Ces\\u00e1rea\",\"Parto Normal\",\"Parto Ces\\u00e1rea\",\"Parto Normal\",\"Parto Ces\\u00e1rea\",\"Parto Normal\",\"Parto Ces\\u00e1rea\",\"Parto Normal\",\"Parto Ces\\u00e1rea\",\"Parto Normal\",\"Parto Ces\\u00e1rea\",\"Parto Normal\",\"Parto Ces\\u00e1rea\",\"Parto Normal\",\"Parto Ces\\u00e1rea\",\"Parto Normal\",\"Parto Ces\\u00e1rea\",\"Parto Normal\",\"Parto Ces\\u00e1rea\",\"Parto Normal\",\"Parto Ces\\u00e1rea\",\"Parto Normal\",\"Parto Ces\\u00e1rea\",\"Parto Normal\",\"Parto Ces\\u00e1rea\",\"Parto Normal\",\"Parto Ces\\u00e1rea\",\"Parto Normal\",\"Parto Ces\\u00e1rea\",\"Parto Normal\",\"Parto Ces\\u00e1rea\",\"Parto Normal\",\"Parto Ces\\u00e1rea\",\"Parto Normal\",\"Parto Ces\\u00e1rea\",\"Parto Normal\",\"Parto Ces\\u00e1rea\",\"Parto Normal\",\"Parto Ces\\u00e1rea\",\"Parto Normal\",\"Parto Ces\\u00e1rea\",\"Parto Normal\",\"Parto Ces\\u00e1rea\",\"Parto Normal\",\"Parto Ces\\u00e1rea\",\"Parto Normal\",\"Parto Ces\\u00e1rea\",\"Parto Normal\",\"Parto Ces\\u00e1rea\",\"Parto Normal\"],\"y\":[27.78,25.11,103.49,73.44,21.05,19.19,3.27,3.46,51.68,33.71,58.95,34.58,0.55,0.44,45.34,41.74,40.5,66.22,44.83,35.93,28.4,31.7,14.17,12.25,43.24,51.09,51.6,42.57,116.17,104.91,26.75,19.38,94.4,81.22,105.4,67.12,112.64,96.22,32.72,32.25,27.89,27.47,27.16,19.64,43.88,37.16,53.87,63.39,160.02,174.16,21.42,18.01,88.81,105.17],\"type\":\"bar\"}],                        {\"template\":{\"data\":{\"histogram2dcontour\":[{\"type\":\"histogram2dcontour\",\"colorbar\":{\"outlinewidth\":0,\"ticks\":\"\"},\"colorscale\":[[0.0,\"#0d0887\"],[0.1111111111111111,\"#46039f\"],[0.2222222222222222,\"#7201a8\"],[0.3333333333333333,\"#9c179e\"],[0.4444444444444444,\"#bd3786\"],[0.5555555555555556,\"#d8576b\"],[0.6666666666666666,\"#ed7953\"],[0.7777777777777778,\"#fb9f3a\"],[0.8888888888888888,\"#fdca26\"],[1.0,\"#f0f921\"]]}],\"choropleth\":[{\"type\":\"choropleth\",\"colorbar\":{\"outlinewidth\":0,\"ticks\":\"\"}}],\"histogram2d\":[{\"type\":\"histogram2d\",\"colorbar\":{\"outlinewidth\":0,\"ticks\":\"\"},\"colorscale\":[[0.0,\"#0d0887\"],[0.1111111111111111,\"#46039f\"],[0.2222222222222222,\"#7201a8\"],[0.3333333333333333,\"#9c179e\"],[0.4444444444444444,\"#bd3786\"],[0.5555555555555556,\"#d8576b\"],[0.6666666666666666,\"#ed7953\"],[0.7777777777777778,\"#fb9f3a\"],[0.8888888888888888,\"#fdca26\"],[1.0,\"#f0f921\"]]}],\"heatmap\":[{\"type\":\"heatmap\",\"colorbar\":{\"outlinewidth\":0,\"ticks\":\"\"},\"colorscale\":[[0.0,\"#0d0887\"],[0.1111111111111111,\"#46039f\"],[0.2222222222222222,\"#7201a8\"],[0.3333333333333333,\"#9c179e\"],[0.4444444444444444,\"#bd3786\"],[0.5555555555555556,\"#d8576b\"],[0.6666666666666666,\"#ed7953\"],[0.7777777777777778,\"#fb9f3a\"],[0.8888888888888888,\"#fdca26\"],[1.0,\"#f0f921\"]]}],\"heatmapgl\":[{\"type\":\"heatmapgl\",\"colorbar\":{\"outlinewidth\":0,\"ticks\":\"\"},\"colorscale\":[[0.0,\"#0d0887\"],[0.1111111111111111,\"#46039f\"],[0.2222222222222222,\"#7201a8\"],[0.3333333333333333,\"#9c179e\"],[0.4444444444444444,\"#bd3786\"],[0.5555555555555556,\"#d8576b\"],[0.6666666666666666,\"#ed7953\"],[0.7777777777777778,\"#fb9f3a\"],[0.8888888888888888,\"#fdca26\"],[1.0,\"#f0f921\"]]}],\"contourcarpet\":[{\"type\":\"contourcarpet\",\"colorbar\":{\"outlinewidth\":0,\"ticks\":\"\"}}],\"contour\":[{\"type\":\"contour\",\"colorbar\":{\"outlinewidth\":0,\"ticks\":\"\"},\"colorscale\":[[0.0,\"#0d0887\"],[0.1111111111111111,\"#46039f\"],[0.2222222222222222,\"#7201a8\"],[0.3333333333333333,\"#9c179e\"],[0.4444444444444444,\"#bd3786\"],[0.5555555555555556,\"#d8576b\"],[0.6666666666666666,\"#ed7953\"],[0.7777777777777778,\"#fb9f3a\"],[0.8888888888888888,\"#fdca26\"],[1.0,\"#f0f921\"]]}],\"surface\":[{\"type\":\"surface\",\"colorbar\":{\"outlinewidth\":0,\"ticks\":\"\"},\"colorscale\":[[0.0,\"#0d0887\"],[0.1111111111111111,\"#46039f\"],[0.2222222222222222,\"#7201a8\"],[0.3333333333333333,\"#9c179e\"],[0.4444444444444444,\"#bd3786\"],[0.5555555555555556,\"#d8576b\"],[0.6666666666666666,\"#ed7953\"],[0.7777777777777778,\"#fb9f3a\"],[0.8888888888888888,\"#fdca26\"],[1.0,\"#f0f921\"]]}],\"mesh3d\":[{\"type\":\"mesh3d\",\"colorbar\":{\"outlinewidth\":0,\"ticks\":\"\"}}],\"scatter\":[{\"fillpattern\":{\"fillmode\":\"overlay\",\"size\":10,\"solidity\":0.2},\"type\":\"scatter\"}],\"parcoords\":[{\"type\":\"parcoords\",\"line\":{\"colorbar\":{\"outlinewidth\":0,\"ticks\":\"\"}}}],\"scatterpolargl\":[{\"type\":\"scatterpolargl\",\"marker\":{\"colorbar\":{\"outlinewidth\":0,\"ticks\":\"\"}}}],\"bar\":[{\"error_x\":{\"color\":\"#2a3f5f\"},\"error_y\":{\"color\":\"#2a3f5f\"},\"marker\":{\"line\":{\"color\":\"#E5ECF6\",\"width\":0.5},\"pattern\":{\"fillmode\":\"overlay\",\"size\":10,\"solidity\":0.2}},\"type\":\"bar\"}],\"scattergeo\":[{\"type\":\"scattergeo\",\"marker\":{\"colorbar\":{\"outlinewidth\":0,\"ticks\":\"\"}}}],\"scatterpolar\":[{\"type\":\"scatterpolar\",\"marker\":{\"colorbar\":{\"outlinewidth\":0,\"ticks\":\"\"}}}],\"histogram\":[{\"marker\":{\"pattern\":{\"fillmode\":\"overlay\",\"size\":10,\"solidity\":0.2}},\"type\":\"histogram\"}],\"scattergl\":[{\"type\":\"scattergl\",\"marker\":{\"colorbar\":{\"outlinewidth\":0,\"ticks\":\"\"}}}],\"scatter3d\":[{\"type\":\"scatter3d\",\"line\":{\"colorbar\":{\"outlinewidth\":0,\"ticks\":\"\"}},\"marker\":{\"colorbar\":{\"outlinewidth\":0,\"ticks\":\"\"}}}],\"scattermapbox\":[{\"type\":\"scattermapbox\",\"marker\":{\"colorbar\":{\"outlinewidth\":0,\"ticks\":\"\"}}}],\"scatterternary\":[{\"type\":\"scatterternary\",\"marker\":{\"colorbar\":{\"outlinewidth\":0,\"ticks\":\"\"}}}],\"scattercarpet\":[{\"type\":\"scattercarpet\",\"marker\":{\"colorbar\":{\"outlinewidth\":0,\"ticks\":\"\"}}}],\"carpet\":[{\"aaxis\":{\"endlinecolor\":\"#2a3f5f\",\"gridcolor\":\"white\",\"linecolor\":\"white\",\"minorgridcolor\":\"white\",\"startlinecolor\":\"#2a3f5f\"},\"baxis\":{\"endlinecolor\":\"#2a3f5f\",\"gridcolor\":\"white\",\"linecolor\":\"white\",\"minorgridcolor\":\"white\",\"startlinecolor\":\"#2a3f5f\"},\"type\":\"carpet\"}],\"table\":[{\"cells\":{\"fill\":{\"color\":\"#EBF0F8\"},\"line\":{\"color\":\"white\"}},\"header\":{\"fill\":{\"color\":\"#C8D4E3\"},\"line\":{\"color\":\"white\"}},\"type\":\"table\"}],\"barpolar\":[{\"marker\":{\"line\":{\"color\":\"#E5ECF6\",\"width\":0.5},\"pattern\":{\"fillmode\":\"overlay\",\"size\":10,\"solidity\":0.2}},\"type\":\"barpolar\"}],\"pie\":[{\"automargin\":true,\"type\":\"pie\"}]},\"layout\":{\"autotypenumbers\":\"strict\",\"colorway\":[\"#636efa\",\"#EF553B\",\"#00cc96\",\"#ab63fa\",\"#FFA15A\",\"#19d3f3\",\"#FF6692\",\"#B6E880\",\"#FF97FF\",\"#FECB52\"],\"font\":{\"color\":\"#2a3f5f\"},\"hovermode\":\"closest\",\"hoverlabel\":{\"align\":\"left\"},\"paper_bgcolor\":\"white\",\"plot_bgcolor\":\"#E5ECF6\",\"polar\":{\"bgcolor\":\"#E5ECF6\",\"angularaxis\":{\"gridcolor\":\"white\",\"linecolor\":\"white\",\"ticks\":\"\"},\"radialaxis\":{\"gridcolor\":\"white\",\"linecolor\":\"white\",\"ticks\":\"\"}},\"ternary\":{\"bgcolor\":\"#E5ECF6\",\"aaxis\":{\"gridcolor\":\"white\",\"linecolor\":\"white\",\"ticks\":\"\"},\"baxis\":{\"gridcolor\":\"white\",\"linecolor\":\"white\",\"ticks\":\"\"},\"caxis\":{\"gridcolor\":\"white\",\"linecolor\":\"white\",\"ticks\":\"\"}},\"coloraxis\":{\"colorbar\":{\"outlinewidth\":0,\"ticks\":\"\"}},\"colorscale\":{\"sequential\":[[0.0,\"#0d0887\"],[0.1111111111111111,\"#46039f\"],[0.2222222222222222,\"#7201a8\"],[0.3333333333333333,\"#9c179e\"],[0.4444444444444444,\"#bd3786\"],[0.5555555555555556,\"#d8576b\"],[0.6666666666666666,\"#ed7953\"],[0.7777777777777778,\"#fb9f3a\"],[0.8888888888888888,\"#fdca26\"],[1.0,\"#f0f921\"]],\"sequentialminus\":[[0.0,\"#0d0887\"],[0.1111111111111111,\"#46039f\"],[0.2222222222222222,\"#7201a8\"],[0.3333333333333333,\"#9c179e\"],[0.4444444444444444,\"#bd3786\"],[0.5555555555555556,\"#d8576b\"],[0.6666666666666666,\"#ed7953\"],[0.7777777777777778,\"#fb9f3a\"],[0.8888888888888888,\"#fdca26\"],[1.0,\"#f0f921\"]],\"diverging\":[[0,\"#8e0152\"],[0.1,\"#c51b7d\"],[0.2,\"#de77ae\"],[0.3,\"#f1b6da\"],[0.4,\"#fde0ef\"],[0.5,\"#f7f7f7\"],[0.6,\"#e6f5d0\"],[0.7,\"#b8e186\"],[0.8,\"#7fbc41\"],[0.9,\"#4d9221\"],[1,\"#276419\"]]},\"xaxis\":{\"gridcolor\":\"white\",\"linecolor\":\"white\",\"ticks\":\"\",\"title\":{\"standoff\":15},\"zerolinecolor\":\"white\",\"automargin\":true,\"zerolinewidth\":2},\"yaxis\":{\"gridcolor\":\"white\",\"linecolor\":\"white\",\"ticks\":\"\",\"title\":{\"standoff\":15},\"zerolinecolor\":\"white\",\"automargin\":true,\"zerolinewidth\":2},\"scene\":{\"xaxis\":{\"backgroundcolor\":\"#E5ECF6\",\"gridcolor\":\"white\",\"linecolor\":\"white\",\"showbackground\":true,\"ticks\":\"\",\"zerolinecolor\":\"white\",\"gridwidth\":2},\"yaxis\":{\"backgroundcolor\":\"#E5ECF6\",\"gridcolor\":\"white\",\"linecolor\":\"white\",\"showbackground\":true,\"ticks\":\"\",\"zerolinecolor\":\"white\",\"gridwidth\":2},\"zaxis\":{\"backgroundcolor\":\"#E5ECF6\",\"gridcolor\":\"white\",\"linecolor\":\"white\",\"showbackground\":true,\"ticks\":\"\",\"zerolinecolor\":\"white\",\"gridwidth\":2}},\"shapedefaults\":{\"line\":{\"color\":\"#2a3f5f\"}},\"annotationdefaults\":{\"arrowcolor\":\"#2a3f5f\",\"arrowhead\":0,\"arrowwidth\":1},\"geo\":{\"bgcolor\":\"white\",\"landcolor\":\"#E5ECF6\",\"subunitcolor\":\"white\",\"showland\":true,\"showlakes\":true,\"lakecolor\":\"white\"},\"title\":{\"x\":0.05},\"mapbox\":{\"style\":\"light\"}}},\"title\":{\"text\":\"N\\u00famero total de partos realizados no SUS\"},\"legend\":{\"title\":{\"text\":\"Bi\\u00eanio\"}},\"updatemenus\":[{\"buttons\":[{\"args\":[{\"y\":[[22.26,17.41,89.61,73.05,14.74,12.65,2.51,2.13,51.56,32.58,34.6,26.15,0.07,0.08,53.63,43.79,34.7,40.26,29.54,21.51,25.86,23.49,8.77,7.75,34.94,41.17,23.69,21.16,98.16,97.51,25.09,15.65,116.36,62.39,80.04,58.9,74.86,62.91,28.86,26.4,24.93,17.43,21.45,16.62,31.75,35.78,41.14,44.1,152.7,162.54,17.06,14.62,66.07,73.24],[27.78,25.11,103.49,73.44,21.05,19.19,3.27,3.46,51.68,33.71,58.95,34.58,0.55,0.44,45.34,41.74,40.5,66.22,44.83,35.93,28.4,31.7,14.17,12.25,43.24,51.09,51.6,42.57,116.17,104.91,26.75,19.38,94.4,81.22,105.4,67.12,112.64,96.22,32.72,32.25,27.89,27.47,27.16,19.64,43.88,37.16,53.87,63.39,160.02,174.16,21.42,18.01,88.81,105.17]]}],\"label\":\"Brasil\",\"method\":\"update\"},{\"args\":[{\"y\":[[22.26,17.41],[27.78,25.11]]}],\"label\":\"Acre\",\"method\":\"update\"},{\"args\":[{\"y\":[[89.61,73.05],[103.49,73.44]]}],\"label\":\"Alagoas\",\"method\":\"update\"},{\"args\":[{\"y\":[[14.74,12.65],[21.05,19.19]]}],\"label\":\"Amap\\u00e1\",\"method\":\"update\"},{\"args\":[{\"y\":[[2.51,2.13],[3.27,3.46]]}],\"label\":\"Amazonas\",\"method\":\"update\"},{\"args\":[{\"y\":[[51.56,32.58],[51.68,33.71]]}],\"label\":\"Bahia\",\"method\":\"update\"},{\"args\":[{\"y\":[[34.6,26.15],[58.95,34.58]]}],\"label\":\"Cear\\u00e1\",\"method\":\"update\"},{\"args\":[{\"y\":[[0.07,0.08],[0.55,0.44]]}],\"label\":\"Distrito Federal\",\"method\":\"update\"},{\"args\":[{\"y\":[[53.63,43.79],[45.34,41.74]]}],\"label\":\"Esp\\u00edrito Santo\",\"method\":\"update\"},{\"args\":[{\"y\":[[34.7,40.26],[40.5,66.22]]}],\"label\":\"Goi\\u00e1s\",\"method\":\"update\"},{\"args\":[{\"y\":[[29.54,21.51],[44.83,35.93]]}],\"label\":\"Maranh\\u00e3o\",\"method\":\"update\"},{\"args\":[{\"y\":[[25.86,23.49],[28.4,31.7]]}],\"label\":\"Mato Grosso\",\"method\":\"update\"},{\"args\":[{\"y\":[[8.77,7.75],[14.17,12.25]]}],\"label\":\"Mato Grosso do Sul\",\"method\":\"update\"},{\"args\":[{\"y\":[[34.94,41.17],[43.24,51.09]]}],\"label\":\"Minas Gerais\",\"method\":\"update\"},{\"args\":[{\"y\":[[23.69,21.16],[51.6,42.57]]}],\"label\":\"Paran\\u00e1\",\"method\":\"update\"},{\"args\":[{\"y\":[[98.16,97.51],[116.17,104.91]]}],\"label\":\"Para\\u00edba\",\"method\":\"update\"},{\"args\":[{\"y\":[[25.09,15.65],[26.75,19.38]]}],\"label\":\"Par\\u00e1\",\"method\":\"update\"},{\"args\":[{\"y\":[[116.36,62.39],[94.4,81.22]]}],\"label\":\"Pernambuco\",\"method\":\"update\"},{\"args\":[{\"y\":[[80.04,58.9],[105.4,67.12]]}],\"label\":\"Piau\\u00ed\",\"method\":\"update\"},{\"args\":[{\"y\":[[74.86,62.91],[112.64,96.22]]}],\"label\":\"Rio Grande do Norte\",\"method\":\"update\"},{\"args\":[{\"y\":[[28.86,26.4],[32.72,32.25]]}],\"label\":\"Rio Grande do Sul\",\"method\":\"update\"},{\"args\":[{\"y\":[[24.93,17.43],[27.89,27.47]]}],\"label\":\"Rio de Janeiro\",\"method\":\"update\"},{\"args\":[{\"y\":[[21.45,16.62],[27.16,19.64]]}],\"label\":\"Rond\\u00f4nia\",\"method\":\"update\"},{\"args\":[{\"y\":[[31.75,35.78],[43.88,37.16]]}],\"label\":\"Roraima\",\"method\":\"update\"},{\"args\":[{\"y\":[[41.14,44.1],[53.87,63.39]]}],\"label\":\"Santa Catarina\",\"method\":\"update\"},{\"args\":[{\"y\":[[152.7,162.54],[160.02,174.16]]}],\"label\":\"Sergipe\",\"method\":\"update\"},{\"args\":[{\"y\":[[17.06,14.62],[21.42,18.01]]}],\"label\":\"S\\u00e3o Paulo\",\"method\":\"update\"},{\"args\":[{\"y\":[[66.07,73.24],[88.81,105.17]]}],\"label\":\"Tocantins\",\"method\":\"update\"}],\"direction\":\"down\",\"showactive\":true}]},                        {\"responsive\": true}                    ).then(function(){\n",
       "                            \n",
       "var gd = document.getElementById('78ab9643-757a-47f8-9ac3-7d94ccf64c60');\n",
       "var x = new MutationObserver(function (mutations, observer) {{\n",
       "        var display = window.getComputedStyle(gd).display;\n",
       "        if (!display || display === 'none') {{\n",
       "            console.log([gd, 'removed!']);\n",
       "            Plotly.purge(gd);\n",
       "            observer.disconnect();\n",
       "        }}\n",
       "}});\n",
       "\n",
       "// Listen for the removal of the full notebook cells\n",
       "var notebookContainer = gd.closest('#notebook-container');\n",
       "if (notebookContainer) {{\n",
       "    x.observe(notebookContainer, {childList: true});\n",
       "}}\n",
       "\n",
       "// Listen for the clearing of the current output cell\n",
       "var outputEl = gd.closest('.output');\n",
       "if (outputEl) {{\n",
       "    x.observe(outputEl, {childList: true});\n",
       "}}\n",
       "\n",
       "                        })                };                });            </script>        </div>"
      ]
     },
     "metadata": {},
     "output_type": "display_data"
    }
   ],
   "source": [
    "df_critic_uf = critic(\n",
    "  select_and_group(df_proc_bienio, df_locs, cols_critic, loc='nome_uf'),\n",
    "  critic_level=1)\n",
    "fig_critic_uf = fig_count_partos(df_critic_uf)\n",
    "fig_critic_uf.show()"
   ]
  },
  {
   "cell_type": "markdown",
   "metadata": {},
   "source": [
    "## Deslocamento % (região de saúde)"
   ]
  },
  {
   "cell_type": "markdown",
   "metadata": {},
   "source": [
    "### Região"
   ]
  },
  {
   "cell_type": "code",
   "execution_count": 14,
   "metadata": {},
   "outputs": [
    {
     "data": {
      "application/vnd.plotly.v1+json": {
       "config": {
        "plotlyServerURL": "https://plot.ly"
       },
       "data": [
        {
         "marker": {
          "color": "#31A885"
         },
         "name": "2010-2011",
         "text": [
          78.77,
          92.56,
          50.47,
          43.36,
          26.23,
          29.01,
          20.05,
          21.97,
          26.76,
          20.21
         ],
         "textposition": "auto",
         "type": "bar",
         "x": [
          "Parto Cesárea",
          "Parto Normal",
          "Parto Cesárea",
          "Parto Normal",
          "Parto Cesárea",
          "Parto Normal",
          "Parto Cesárea",
          "Parto Normal",
          "Parto Cesárea",
          "Parto Normal"
         ],
         "y": [
          78.77,
          92.56,
          50.47,
          43.36,
          26.23,
          29.01,
          20.05,
          21.97,
          26.76,
          20.21
         ]
        },
        {
         "marker": {
          "color": "#DD6F1C"
         },
         "name": "2018-2019",
         "text": [
          74.6,
          104.96,
          42.33,
          44.14,
          47.08,
          48.67,
          19.08,
          20.52,
          13.93,
          12.36
         ],
         "textposition": "auto",
         "type": "bar",
         "x": [
          "Parto Cesárea",
          "Parto Normal",
          "Parto Cesárea",
          "Parto Normal",
          "Parto Cesárea",
          "Parto Normal",
          "Parto Cesárea",
          "Parto Normal",
          "Parto Cesárea",
          "Parto Normal"
         ],
         "y": [
          74.6,
          104.96,
          42.33,
          44.14,
          47.08,
          48.67,
          19.08,
          20.52,
          13.93,
          12.36
         ]
        }
       ],
       "layout": {
        "legend": {
         "title": {
          "text": "Biênio"
         }
        },
        "template": {
         "data": {
          "bar": [
           {
            "error_x": {
             "color": "#2a3f5f"
            },
            "error_y": {
             "color": "#2a3f5f"
            },
            "marker": {
             "line": {
              "color": "#E5ECF6",
              "width": 0.5
             },
             "pattern": {
              "fillmode": "overlay",
              "size": 10,
              "solidity": 0.2
             }
            },
            "type": "bar"
           }
          ],
          "barpolar": [
           {
            "marker": {
             "line": {
              "color": "#E5ECF6",
              "width": 0.5
             },
             "pattern": {
              "fillmode": "overlay",
              "size": 10,
              "solidity": 0.2
             }
            },
            "type": "barpolar"
           }
          ],
          "carpet": [
           {
            "aaxis": {
             "endlinecolor": "#2a3f5f",
             "gridcolor": "white",
             "linecolor": "white",
             "minorgridcolor": "white",
             "startlinecolor": "#2a3f5f"
            },
            "baxis": {
             "endlinecolor": "#2a3f5f",
             "gridcolor": "white",
             "linecolor": "white",
             "minorgridcolor": "white",
             "startlinecolor": "#2a3f5f"
            },
            "type": "carpet"
           }
          ],
          "choropleth": [
           {
            "colorbar": {
             "outlinewidth": 0,
             "ticks": ""
            },
            "type": "choropleth"
           }
          ],
          "contour": [
           {
            "colorbar": {
             "outlinewidth": 0,
             "ticks": ""
            },
            "colorscale": [
             [
              0,
              "#0d0887"
             ],
             [
              0.1111111111111111,
              "#46039f"
             ],
             [
              0.2222222222222222,
              "#7201a8"
             ],
             [
              0.3333333333333333,
              "#9c179e"
             ],
             [
              0.4444444444444444,
              "#bd3786"
             ],
             [
              0.5555555555555556,
              "#d8576b"
             ],
             [
              0.6666666666666666,
              "#ed7953"
             ],
             [
              0.7777777777777778,
              "#fb9f3a"
             ],
             [
              0.8888888888888888,
              "#fdca26"
             ],
             [
              1,
              "#f0f921"
             ]
            ],
            "type": "contour"
           }
          ],
          "contourcarpet": [
           {
            "colorbar": {
             "outlinewidth": 0,
             "ticks": ""
            },
            "type": "contourcarpet"
           }
          ],
          "heatmap": [
           {
            "colorbar": {
             "outlinewidth": 0,
             "ticks": ""
            },
            "colorscale": [
             [
              0,
              "#0d0887"
             ],
             [
              0.1111111111111111,
              "#46039f"
             ],
             [
              0.2222222222222222,
              "#7201a8"
             ],
             [
              0.3333333333333333,
              "#9c179e"
             ],
             [
              0.4444444444444444,
              "#bd3786"
             ],
             [
              0.5555555555555556,
              "#d8576b"
             ],
             [
              0.6666666666666666,
              "#ed7953"
             ],
             [
              0.7777777777777778,
              "#fb9f3a"
             ],
             [
              0.8888888888888888,
              "#fdca26"
             ],
             [
              1,
              "#f0f921"
             ]
            ],
            "type": "heatmap"
           }
          ],
          "heatmapgl": [
           {
            "colorbar": {
             "outlinewidth": 0,
             "ticks": ""
            },
            "colorscale": [
             [
              0,
              "#0d0887"
             ],
             [
              0.1111111111111111,
              "#46039f"
             ],
             [
              0.2222222222222222,
              "#7201a8"
             ],
             [
              0.3333333333333333,
              "#9c179e"
             ],
             [
              0.4444444444444444,
              "#bd3786"
             ],
             [
              0.5555555555555556,
              "#d8576b"
             ],
             [
              0.6666666666666666,
              "#ed7953"
             ],
             [
              0.7777777777777778,
              "#fb9f3a"
             ],
             [
              0.8888888888888888,
              "#fdca26"
             ],
             [
              1,
              "#f0f921"
             ]
            ],
            "type": "heatmapgl"
           }
          ],
          "histogram": [
           {
            "marker": {
             "pattern": {
              "fillmode": "overlay",
              "size": 10,
              "solidity": 0.2
             }
            },
            "type": "histogram"
           }
          ],
          "histogram2d": [
           {
            "colorbar": {
             "outlinewidth": 0,
             "ticks": ""
            },
            "colorscale": [
             [
              0,
              "#0d0887"
             ],
             [
              0.1111111111111111,
              "#46039f"
             ],
             [
              0.2222222222222222,
              "#7201a8"
             ],
             [
              0.3333333333333333,
              "#9c179e"
             ],
             [
              0.4444444444444444,
              "#bd3786"
             ],
             [
              0.5555555555555556,
              "#d8576b"
             ],
             [
              0.6666666666666666,
              "#ed7953"
             ],
             [
              0.7777777777777778,
              "#fb9f3a"
             ],
             [
              0.8888888888888888,
              "#fdca26"
             ],
             [
              1,
              "#f0f921"
             ]
            ],
            "type": "histogram2d"
           }
          ],
          "histogram2dcontour": [
           {
            "colorbar": {
             "outlinewidth": 0,
             "ticks": ""
            },
            "colorscale": [
             [
              0,
              "#0d0887"
             ],
             [
              0.1111111111111111,
              "#46039f"
             ],
             [
              0.2222222222222222,
              "#7201a8"
             ],
             [
              0.3333333333333333,
              "#9c179e"
             ],
             [
              0.4444444444444444,
              "#bd3786"
             ],
             [
              0.5555555555555556,
              "#d8576b"
             ],
             [
              0.6666666666666666,
              "#ed7953"
             ],
             [
              0.7777777777777778,
              "#fb9f3a"
             ],
             [
              0.8888888888888888,
              "#fdca26"
             ],
             [
              1,
              "#f0f921"
             ]
            ],
            "type": "histogram2dcontour"
           }
          ],
          "mesh3d": [
           {
            "colorbar": {
             "outlinewidth": 0,
             "ticks": ""
            },
            "type": "mesh3d"
           }
          ],
          "parcoords": [
           {
            "line": {
             "colorbar": {
              "outlinewidth": 0,
              "ticks": ""
             }
            },
            "type": "parcoords"
           }
          ],
          "pie": [
           {
            "automargin": true,
            "type": "pie"
           }
          ],
          "scatter": [
           {
            "fillpattern": {
             "fillmode": "overlay",
             "size": 10,
             "solidity": 0.2
            },
            "type": "scatter"
           }
          ],
          "scatter3d": [
           {
            "line": {
             "colorbar": {
              "outlinewidth": 0,
              "ticks": ""
             }
            },
            "marker": {
             "colorbar": {
              "outlinewidth": 0,
              "ticks": ""
             }
            },
            "type": "scatter3d"
           }
          ],
          "scattercarpet": [
           {
            "marker": {
             "colorbar": {
              "outlinewidth": 0,
              "ticks": ""
             }
            },
            "type": "scattercarpet"
           }
          ],
          "scattergeo": [
           {
            "marker": {
             "colorbar": {
              "outlinewidth": 0,
              "ticks": ""
             }
            },
            "type": "scattergeo"
           }
          ],
          "scattergl": [
           {
            "marker": {
             "colorbar": {
              "outlinewidth": 0,
              "ticks": ""
             }
            },
            "type": "scattergl"
           }
          ],
          "scattermapbox": [
           {
            "marker": {
             "colorbar": {
              "outlinewidth": 0,
              "ticks": ""
             }
            },
            "type": "scattermapbox"
           }
          ],
          "scatterpolar": [
           {
            "marker": {
             "colorbar": {
              "outlinewidth": 0,
              "ticks": ""
             }
            },
            "type": "scatterpolar"
           }
          ],
          "scatterpolargl": [
           {
            "marker": {
             "colorbar": {
              "outlinewidth": 0,
              "ticks": ""
             }
            },
            "type": "scatterpolargl"
           }
          ],
          "scatterternary": [
           {
            "marker": {
             "colorbar": {
              "outlinewidth": 0,
              "ticks": ""
             }
            },
            "type": "scatterternary"
           }
          ],
          "surface": [
           {
            "colorbar": {
             "outlinewidth": 0,
             "ticks": ""
            },
            "colorscale": [
             [
              0,
              "#0d0887"
             ],
             [
              0.1111111111111111,
              "#46039f"
             ],
             [
              0.2222222222222222,
              "#7201a8"
             ],
             [
              0.3333333333333333,
              "#9c179e"
             ],
             [
              0.4444444444444444,
              "#bd3786"
             ],
             [
              0.5555555555555556,
              "#d8576b"
             ],
             [
              0.6666666666666666,
              "#ed7953"
             ],
             [
              0.7777777777777778,
              "#fb9f3a"
             ],
             [
              0.8888888888888888,
              "#fdca26"
             ],
             [
              1,
              "#f0f921"
             ]
            ],
            "type": "surface"
           }
          ],
          "table": [
           {
            "cells": {
             "fill": {
              "color": "#EBF0F8"
             },
             "line": {
              "color": "white"
             }
            },
            "header": {
             "fill": {
              "color": "#C8D4E3"
             },
             "line": {
              "color": "white"
             }
            },
            "type": "table"
           }
          ]
         },
         "layout": {
          "annotationdefaults": {
           "arrowcolor": "#2a3f5f",
           "arrowhead": 0,
           "arrowwidth": 1
          },
          "autotypenumbers": "strict",
          "coloraxis": {
           "colorbar": {
            "outlinewidth": 0,
            "ticks": ""
           }
          },
          "colorscale": {
           "diverging": [
            [
             0,
             "#8e0152"
            ],
            [
             0.1,
             "#c51b7d"
            ],
            [
             0.2,
             "#de77ae"
            ],
            [
             0.3,
             "#f1b6da"
            ],
            [
             0.4,
             "#fde0ef"
            ],
            [
             0.5,
             "#f7f7f7"
            ],
            [
             0.6,
             "#e6f5d0"
            ],
            [
             0.7,
             "#b8e186"
            ],
            [
             0.8,
             "#7fbc41"
            ],
            [
             0.9,
             "#4d9221"
            ],
            [
             1,
             "#276419"
            ]
           ],
           "sequential": [
            [
             0,
             "#0d0887"
            ],
            [
             0.1111111111111111,
             "#46039f"
            ],
            [
             0.2222222222222222,
             "#7201a8"
            ],
            [
             0.3333333333333333,
             "#9c179e"
            ],
            [
             0.4444444444444444,
             "#bd3786"
            ],
            [
             0.5555555555555556,
             "#d8576b"
            ],
            [
             0.6666666666666666,
             "#ed7953"
            ],
            [
             0.7777777777777778,
             "#fb9f3a"
            ],
            [
             0.8888888888888888,
             "#fdca26"
            ],
            [
             1,
             "#f0f921"
            ]
           ],
           "sequentialminus": [
            [
             0,
             "#0d0887"
            ],
            [
             0.1111111111111111,
             "#46039f"
            ],
            [
             0.2222222222222222,
             "#7201a8"
            ],
            [
             0.3333333333333333,
             "#9c179e"
            ],
            [
             0.4444444444444444,
             "#bd3786"
            ],
            [
             0.5555555555555556,
             "#d8576b"
            ],
            [
             0.6666666666666666,
             "#ed7953"
            ],
            [
             0.7777777777777778,
             "#fb9f3a"
            ],
            [
             0.8888888888888888,
             "#fdca26"
            ],
            [
             1,
             "#f0f921"
            ]
           ]
          },
          "colorway": [
           "#636efa",
           "#EF553B",
           "#00cc96",
           "#ab63fa",
           "#FFA15A",
           "#19d3f3",
           "#FF6692",
           "#B6E880",
           "#FF97FF",
           "#FECB52"
          ],
          "font": {
           "color": "#2a3f5f"
          },
          "geo": {
           "bgcolor": "white",
           "lakecolor": "white",
           "landcolor": "#E5ECF6",
           "showlakes": true,
           "showland": true,
           "subunitcolor": "white"
          },
          "hoverlabel": {
           "align": "left"
          },
          "hovermode": "closest",
          "mapbox": {
           "style": "light"
          },
          "paper_bgcolor": "white",
          "plot_bgcolor": "#E5ECF6",
          "polar": {
           "angularaxis": {
            "gridcolor": "white",
            "linecolor": "white",
            "ticks": ""
           },
           "bgcolor": "#E5ECF6",
           "radialaxis": {
            "gridcolor": "white",
            "linecolor": "white",
            "ticks": ""
           }
          },
          "scene": {
           "xaxis": {
            "backgroundcolor": "#E5ECF6",
            "gridcolor": "white",
            "gridwidth": 2,
            "linecolor": "white",
            "showbackground": true,
            "ticks": "",
            "zerolinecolor": "white"
           },
           "yaxis": {
            "backgroundcolor": "#E5ECF6",
            "gridcolor": "white",
            "gridwidth": 2,
            "linecolor": "white",
            "showbackground": true,
            "ticks": "",
            "zerolinecolor": "white"
           },
           "zaxis": {
            "backgroundcolor": "#E5ECF6",
            "gridcolor": "white",
            "gridwidth": 2,
            "linecolor": "white",
            "showbackground": true,
            "ticks": "",
            "zerolinecolor": "white"
           }
          },
          "shapedefaults": {
           "line": {
            "color": "#2a3f5f"
           }
          },
          "ternary": {
           "aaxis": {
            "gridcolor": "white",
            "linecolor": "white",
            "ticks": ""
           },
           "baxis": {
            "gridcolor": "white",
            "linecolor": "white",
            "ticks": ""
           },
           "bgcolor": "#E5ECF6",
           "caxis": {
            "gridcolor": "white",
            "linecolor": "white",
            "ticks": ""
           }
          },
          "title": {
           "x": 0.05
          },
          "xaxis": {
           "automargin": true,
           "gridcolor": "white",
           "linecolor": "white",
           "ticks": "",
           "title": {
            "standoff": 15
           },
           "zerolinecolor": "white",
           "zerolinewidth": 2
          },
          "yaxis": {
           "automargin": true,
           "gridcolor": "white",
           "linecolor": "white",
           "ticks": "",
           "title": {
            "standoff": 15
           },
           "zerolinecolor": "white",
           "zerolinewidth": 2
          }
         }
        },
        "title": {
         "text": "Número total de partos realizados no SUS"
        },
        "updatemenus": [
         {
          "buttons": [
           {
            "args": [
             {
              "y": [
               [
                78.77,
                92.56,
                50.47,
                43.36,
                26.23,
                29.01,
                20.05,
                21.97,
                26.76,
                20.21
               ],
               [
                74.6,
                104.96,
                42.33,
                44.14,
                47.08,
                48.67,
                19.08,
                20.52,
                13.93,
                12.36
               ]
              ]
             }
            ],
            "label": "Brasil",
            "method": "update"
           },
           {
            "args": [
             {
              "y": [
               [
                78.77,
                92.56
               ],
               [
                74.6,
                104.96
               ]
              ]
             }
            ],
            "label": "Centro-Oeste",
            "method": "update"
           },
           {
            "args": [
             {
              "y": [
               [
                50.47,
                43.36
               ],
               [
                42.33,
                44.14
               ]
              ]
             }
            ],
            "label": "Nordeste",
            "method": "update"
           },
           {
            "args": [
             {
              "y": [
               [
                26.23,
                29.01
               ],
               [
                47.08,
                48.67
               ]
              ]
             }
            ],
            "label": "Norte",
            "method": "update"
           },
           {
            "args": [
             {
              "y": [
               [
                20.05,
                21.97
               ],
               [
                19.08,
                20.52
               ]
              ]
             }
            ],
            "label": "Sudeste",
            "method": "update"
           },
           {
            "args": [
             {
              "y": [
               [
                26.76,
                20.21
               ],
               [
                13.93,
                12.36
               ]
              ]
             }
            ],
            "label": "Sul",
            "method": "update"
           }
          ],
          "direction": "down",
          "showactive": true
         }
        ]
       }
      },
      "text/html": [
       "<div>                            <div id=\"759ce65c-4a1c-4c52-a2c9-b140ed66fde6\" class=\"plotly-graph-div\" style=\"height:525px; width:100%;\"></div>            <script type=\"text/javascript\">                require([\"plotly\"], function(Plotly) {                    window.PLOTLYENV=window.PLOTLYENV || {};                                    if (document.getElementById(\"759ce65c-4a1c-4c52-a2c9-b140ed66fde6\")) {                    Plotly.newPlot(                        \"759ce65c-4a1c-4c52-a2c9-b140ed66fde6\",                        [{\"marker\":{\"color\":\"#31A885\"},\"name\":\"2010-2011\",\"text\":[78.77,92.56,50.47,43.36,26.23,29.01,20.05,21.97,26.76,20.21],\"textposition\":\"auto\",\"x\":[\"Parto Ces\\u00e1rea\",\"Parto Normal\",\"Parto Ces\\u00e1rea\",\"Parto Normal\",\"Parto Ces\\u00e1rea\",\"Parto Normal\",\"Parto Ces\\u00e1rea\",\"Parto Normal\",\"Parto Ces\\u00e1rea\",\"Parto Normal\"],\"y\":[78.77,92.56,50.47,43.36,26.23,29.01,20.05,21.97,26.76,20.21],\"type\":\"bar\"},{\"marker\":{\"color\":\"#DD6F1C\"},\"name\":\"2018-2019\",\"text\":[74.6,104.96,42.33,44.14,47.08,48.67,19.08,20.52,13.93,12.36],\"textposition\":\"auto\",\"x\":[\"Parto Ces\\u00e1rea\",\"Parto Normal\",\"Parto Ces\\u00e1rea\",\"Parto Normal\",\"Parto Ces\\u00e1rea\",\"Parto Normal\",\"Parto Ces\\u00e1rea\",\"Parto Normal\",\"Parto Ces\\u00e1rea\",\"Parto Normal\"],\"y\":[74.6,104.96,42.33,44.14,47.08,48.67,19.08,20.52,13.93,12.36],\"type\":\"bar\"}],                        {\"template\":{\"data\":{\"histogram2dcontour\":[{\"type\":\"histogram2dcontour\",\"colorbar\":{\"outlinewidth\":0,\"ticks\":\"\"},\"colorscale\":[[0.0,\"#0d0887\"],[0.1111111111111111,\"#46039f\"],[0.2222222222222222,\"#7201a8\"],[0.3333333333333333,\"#9c179e\"],[0.4444444444444444,\"#bd3786\"],[0.5555555555555556,\"#d8576b\"],[0.6666666666666666,\"#ed7953\"],[0.7777777777777778,\"#fb9f3a\"],[0.8888888888888888,\"#fdca26\"],[1.0,\"#f0f921\"]]}],\"choropleth\":[{\"type\":\"choropleth\",\"colorbar\":{\"outlinewidth\":0,\"ticks\":\"\"}}],\"histogram2d\":[{\"type\":\"histogram2d\",\"colorbar\":{\"outlinewidth\":0,\"ticks\":\"\"},\"colorscale\":[[0.0,\"#0d0887\"],[0.1111111111111111,\"#46039f\"],[0.2222222222222222,\"#7201a8\"],[0.3333333333333333,\"#9c179e\"],[0.4444444444444444,\"#bd3786\"],[0.5555555555555556,\"#d8576b\"],[0.6666666666666666,\"#ed7953\"],[0.7777777777777778,\"#fb9f3a\"],[0.8888888888888888,\"#fdca26\"],[1.0,\"#f0f921\"]]}],\"heatmap\":[{\"type\":\"heatmap\",\"colorbar\":{\"outlinewidth\":0,\"ticks\":\"\"},\"colorscale\":[[0.0,\"#0d0887\"],[0.1111111111111111,\"#46039f\"],[0.2222222222222222,\"#7201a8\"],[0.3333333333333333,\"#9c179e\"],[0.4444444444444444,\"#bd3786\"],[0.5555555555555556,\"#d8576b\"],[0.6666666666666666,\"#ed7953\"],[0.7777777777777778,\"#fb9f3a\"],[0.8888888888888888,\"#fdca26\"],[1.0,\"#f0f921\"]]}],\"heatmapgl\":[{\"type\":\"heatmapgl\",\"colorbar\":{\"outlinewidth\":0,\"ticks\":\"\"},\"colorscale\":[[0.0,\"#0d0887\"],[0.1111111111111111,\"#46039f\"],[0.2222222222222222,\"#7201a8\"],[0.3333333333333333,\"#9c179e\"],[0.4444444444444444,\"#bd3786\"],[0.5555555555555556,\"#d8576b\"],[0.6666666666666666,\"#ed7953\"],[0.7777777777777778,\"#fb9f3a\"],[0.8888888888888888,\"#fdca26\"],[1.0,\"#f0f921\"]]}],\"contourcarpet\":[{\"type\":\"contourcarpet\",\"colorbar\":{\"outlinewidth\":0,\"ticks\":\"\"}}],\"contour\":[{\"type\":\"contour\",\"colorbar\":{\"outlinewidth\":0,\"ticks\":\"\"},\"colorscale\":[[0.0,\"#0d0887\"],[0.1111111111111111,\"#46039f\"],[0.2222222222222222,\"#7201a8\"],[0.3333333333333333,\"#9c179e\"],[0.4444444444444444,\"#bd3786\"],[0.5555555555555556,\"#d8576b\"],[0.6666666666666666,\"#ed7953\"],[0.7777777777777778,\"#fb9f3a\"],[0.8888888888888888,\"#fdca26\"],[1.0,\"#f0f921\"]]}],\"surface\":[{\"type\":\"surface\",\"colorbar\":{\"outlinewidth\":0,\"ticks\":\"\"},\"colorscale\":[[0.0,\"#0d0887\"],[0.1111111111111111,\"#46039f\"],[0.2222222222222222,\"#7201a8\"],[0.3333333333333333,\"#9c179e\"],[0.4444444444444444,\"#bd3786\"],[0.5555555555555556,\"#d8576b\"],[0.6666666666666666,\"#ed7953\"],[0.7777777777777778,\"#fb9f3a\"],[0.8888888888888888,\"#fdca26\"],[1.0,\"#f0f921\"]]}],\"mesh3d\":[{\"type\":\"mesh3d\",\"colorbar\":{\"outlinewidth\":0,\"ticks\":\"\"}}],\"scatter\":[{\"fillpattern\":{\"fillmode\":\"overlay\",\"size\":10,\"solidity\":0.2},\"type\":\"scatter\"}],\"parcoords\":[{\"type\":\"parcoords\",\"line\":{\"colorbar\":{\"outlinewidth\":0,\"ticks\":\"\"}}}],\"scatterpolargl\":[{\"type\":\"scatterpolargl\",\"marker\":{\"colorbar\":{\"outlinewidth\":0,\"ticks\":\"\"}}}],\"bar\":[{\"error_x\":{\"color\":\"#2a3f5f\"},\"error_y\":{\"color\":\"#2a3f5f\"},\"marker\":{\"line\":{\"color\":\"#E5ECF6\",\"width\":0.5},\"pattern\":{\"fillmode\":\"overlay\",\"size\":10,\"solidity\":0.2}},\"type\":\"bar\"}],\"scattergeo\":[{\"type\":\"scattergeo\",\"marker\":{\"colorbar\":{\"outlinewidth\":0,\"ticks\":\"\"}}}],\"scatterpolar\":[{\"type\":\"scatterpolar\",\"marker\":{\"colorbar\":{\"outlinewidth\":0,\"ticks\":\"\"}}}],\"histogram\":[{\"marker\":{\"pattern\":{\"fillmode\":\"overlay\",\"size\":10,\"solidity\":0.2}},\"type\":\"histogram\"}],\"scattergl\":[{\"type\":\"scattergl\",\"marker\":{\"colorbar\":{\"outlinewidth\":0,\"ticks\":\"\"}}}],\"scatter3d\":[{\"type\":\"scatter3d\",\"line\":{\"colorbar\":{\"outlinewidth\":0,\"ticks\":\"\"}},\"marker\":{\"colorbar\":{\"outlinewidth\":0,\"ticks\":\"\"}}}],\"scattermapbox\":[{\"type\":\"scattermapbox\",\"marker\":{\"colorbar\":{\"outlinewidth\":0,\"ticks\":\"\"}}}],\"scatterternary\":[{\"type\":\"scatterternary\",\"marker\":{\"colorbar\":{\"outlinewidth\":0,\"ticks\":\"\"}}}],\"scattercarpet\":[{\"type\":\"scattercarpet\",\"marker\":{\"colorbar\":{\"outlinewidth\":0,\"ticks\":\"\"}}}],\"carpet\":[{\"aaxis\":{\"endlinecolor\":\"#2a3f5f\",\"gridcolor\":\"white\",\"linecolor\":\"white\",\"minorgridcolor\":\"white\",\"startlinecolor\":\"#2a3f5f\"},\"baxis\":{\"endlinecolor\":\"#2a3f5f\",\"gridcolor\":\"white\",\"linecolor\":\"white\",\"minorgridcolor\":\"white\",\"startlinecolor\":\"#2a3f5f\"},\"type\":\"carpet\"}],\"table\":[{\"cells\":{\"fill\":{\"color\":\"#EBF0F8\"},\"line\":{\"color\":\"white\"}},\"header\":{\"fill\":{\"color\":\"#C8D4E3\"},\"line\":{\"color\":\"white\"}},\"type\":\"table\"}],\"barpolar\":[{\"marker\":{\"line\":{\"color\":\"#E5ECF6\",\"width\":0.5},\"pattern\":{\"fillmode\":\"overlay\",\"size\":10,\"solidity\":0.2}},\"type\":\"barpolar\"}],\"pie\":[{\"automargin\":true,\"type\":\"pie\"}]},\"layout\":{\"autotypenumbers\":\"strict\",\"colorway\":[\"#636efa\",\"#EF553B\",\"#00cc96\",\"#ab63fa\",\"#FFA15A\",\"#19d3f3\",\"#FF6692\",\"#B6E880\",\"#FF97FF\",\"#FECB52\"],\"font\":{\"color\":\"#2a3f5f\"},\"hovermode\":\"closest\",\"hoverlabel\":{\"align\":\"left\"},\"paper_bgcolor\":\"white\",\"plot_bgcolor\":\"#E5ECF6\",\"polar\":{\"bgcolor\":\"#E5ECF6\",\"angularaxis\":{\"gridcolor\":\"white\",\"linecolor\":\"white\",\"ticks\":\"\"},\"radialaxis\":{\"gridcolor\":\"white\",\"linecolor\":\"white\",\"ticks\":\"\"}},\"ternary\":{\"bgcolor\":\"#E5ECF6\",\"aaxis\":{\"gridcolor\":\"white\",\"linecolor\":\"white\",\"ticks\":\"\"},\"baxis\":{\"gridcolor\":\"white\",\"linecolor\":\"white\",\"ticks\":\"\"},\"caxis\":{\"gridcolor\":\"white\",\"linecolor\":\"white\",\"ticks\":\"\"}},\"coloraxis\":{\"colorbar\":{\"outlinewidth\":0,\"ticks\":\"\"}},\"colorscale\":{\"sequential\":[[0.0,\"#0d0887\"],[0.1111111111111111,\"#46039f\"],[0.2222222222222222,\"#7201a8\"],[0.3333333333333333,\"#9c179e\"],[0.4444444444444444,\"#bd3786\"],[0.5555555555555556,\"#d8576b\"],[0.6666666666666666,\"#ed7953\"],[0.7777777777777778,\"#fb9f3a\"],[0.8888888888888888,\"#fdca26\"],[1.0,\"#f0f921\"]],\"sequentialminus\":[[0.0,\"#0d0887\"],[0.1111111111111111,\"#46039f\"],[0.2222222222222222,\"#7201a8\"],[0.3333333333333333,\"#9c179e\"],[0.4444444444444444,\"#bd3786\"],[0.5555555555555556,\"#d8576b\"],[0.6666666666666666,\"#ed7953\"],[0.7777777777777778,\"#fb9f3a\"],[0.8888888888888888,\"#fdca26\"],[1.0,\"#f0f921\"]],\"diverging\":[[0,\"#8e0152\"],[0.1,\"#c51b7d\"],[0.2,\"#de77ae\"],[0.3,\"#f1b6da\"],[0.4,\"#fde0ef\"],[0.5,\"#f7f7f7\"],[0.6,\"#e6f5d0\"],[0.7,\"#b8e186\"],[0.8,\"#7fbc41\"],[0.9,\"#4d9221\"],[1,\"#276419\"]]},\"xaxis\":{\"gridcolor\":\"white\",\"linecolor\":\"white\",\"ticks\":\"\",\"title\":{\"standoff\":15},\"zerolinecolor\":\"white\",\"automargin\":true,\"zerolinewidth\":2},\"yaxis\":{\"gridcolor\":\"white\",\"linecolor\":\"white\",\"ticks\":\"\",\"title\":{\"standoff\":15},\"zerolinecolor\":\"white\",\"automargin\":true,\"zerolinewidth\":2},\"scene\":{\"xaxis\":{\"backgroundcolor\":\"#E5ECF6\",\"gridcolor\":\"white\",\"linecolor\":\"white\",\"showbackground\":true,\"ticks\":\"\",\"zerolinecolor\":\"white\",\"gridwidth\":2},\"yaxis\":{\"backgroundcolor\":\"#E5ECF6\",\"gridcolor\":\"white\",\"linecolor\":\"white\",\"showbackground\":true,\"ticks\":\"\",\"zerolinecolor\":\"white\",\"gridwidth\":2},\"zaxis\":{\"backgroundcolor\":\"#E5ECF6\",\"gridcolor\":\"white\",\"linecolor\":\"white\",\"showbackground\":true,\"ticks\":\"\",\"zerolinecolor\":\"white\",\"gridwidth\":2}},\"shapedefaults\":{\"line\":{\"color\":\"#2a3f5f\"}},\"annotationdefaults\":{\"arrowcolor\":\"#2a3f5f\",\"arrowhead\":0,\"arrowwidth\":1},\"geo\":{\"bgcolor\":\"white\",\"landcolor\":\"#E5ECF6\",\"subunitcolor\":\"white\",\"showland\":true,\"showlakes\":true,\"lakecolor\":\"white\"},\"title\":{\"x\":0.05},\"mapbox\":{\"style\":\"light\"}}},\"title\":{\"text\":\"N\\u00famero total de partos realizados no SUS\"},\"legend\":{\"title\":{\"text\":\"Bi\\u00eanio\"}},\"updatemenus\":[{\"buttons\":[{\"args\":[{\"y\":[[78.77,92.56,50.47,43.36,26.23,29.01,20.05,21.97,26.76,20.21],[74.6,104.96,42.33,44.14,47.08,48.67,19.08,20.52,13.93,12.36]]}],\"label\":\"Brasil\",\"method\":\"update\"},{\"args\":[{\"y\":[[78.77,92.56],[74.6,104.96]]}],\"label\":\"Centro-Oeste\",\"method\":\"update\"},{\"args\":[{\"y\":[[50.47,43.36],[42.33,44.14]]}],\"label\":\"Nordeste\",\"method\":\"update\"},{\"args\":[{\"y\":[[26.23,29.01],[47.08,48.67]]}],\"label\":\"Norte\",\"method\":\"update\"},{\"args\":[{\"y\":[[20.05,21.97],[19.08,20.52]]}],\"label\":\"Sudeste\",\"method\":\"update\"},{\"args\":[{\"y\":[[26.76,20.21],[13.93,12.36]]}],\"label\":\"Sul\",\"method\":\"update\"}],\"direction\":\"down\",\"showactive\":true}]},                        {\"responsive\": true}                    ).then(function(){\n",
       "                            \n",
       "var gd = document.getElementById('759ce65c-4a1c-4c52-a2c9-b140ed66fde6');\n",
       "var x = new MutationObserver(function (mutations, observer) {{\n",
       "        var display = window.getComputedStyle(gd).display;\n",
       "        if (!display || display === 'none') {{\n",
       "            console.log([gd, 'removed!']);\n",
       "            Plotly.purge(gd);\n",
       "            observer.disconnect();\n",
       "        }}\n",
       "}});\n",
       "\n",
       "// Listen for the removal of the full notebook cells\n",
       "var notebookContainer = gd.closest('#notebook-container');\n",
       "if (notebookContainer) {{\n",
       "    x.observe(notebookContainer, {childList: true});\n",
       "}}\n",
       "\n",
       "// Listen for the clearing of the current output cell\n",
       "var outputEl = gd.closest('.output');\n",
       "if (outputEl) {{\n",
       "    x.observe(outputEl, {childList: true});\n",
       "}}\n",
       "\n",
       "                        })                };                });            </script>        </div>"
      ]
     },
     "metadata": {},
     "output_type": "display_data"
    }
   ],
   "source": [
    "df_critic_regiao = critic(\n",
    "  select_and_group(df_proc_bienio, df_locs, cols_critic),\n",
    "  critic_level=2)\n",
    "fig_critic_regiao = fig_count_partos(df_critic_regiao)\n",
    "fig_critic_regiao.show()"
   ]
  },
  {
   "cell_type": "markdown",
   "metadata": {},
   "source": [
    "### UF"
   ]
  },
  {
   "cell_type": "code",
   "execution_count": 15,
   "metadata": {},
   "outputs": [
    {
     "data": {
      "application/vnd.plotly.v1+json": {
       "config": {
        "plotlyServerURL": "https://plot.ly"
       },
       "data": [
        {
         "marker": {
          "color": "#31A885"
         },
         "name": "2010-2011",
         "text": [
          12.86,
          10.17,
          91.72,
          57.36,
          128.68,
          85.47,
          99.15,
          110.04,
          31.89,
          34.95,
          41.51,
          19.89,
          null,
          null,
          6.95,
          7.31,
          246.38,
          278.09,
          65.62,
          34.81,
          9.49,
          8,
          6.12,
          5.5,
          30,
          33.94,
          9.26,
          8.79,
          83.94,
          88.98,
          23.16,
          28.28,
          42.06,
          36.84,
          26.09,
          22.27,
          60.51,
          70.02,
          65.38,
          44.64,
          9.72,
          7.49,
          14.99,
          19.31,
          73.91,
          41.82,
          12.68,
          10.66,
          89.53,
          79.39,
          17.83,
          20.16,
          29.97,
          21.29
         ],
         "textposition": "auto",
         "type": "bar",
         "x": [
          "Parto Cesárea",
          "Parto Normal",
          "Parto Cesárea",
          "Parto Normal",
          "Parto Cesárea",
          "Parto Normal",
          "Parto Cesárea",
          "Parto Normal",
          "Parto Cesárea",
          "Parto Normal",
          "Parto Cesárea",
          "Parto Normal",
          "Parto Cesárea",
          "Parto Normal",
          "Parto Cesárea",
          "Parto Normal",
          "Parto Cesárea",
          "Parto Normal",
          "Parto Cesárea",
          "Parto Normal",
          "Parto Cesárea",
          "Parto Normal",
          "Parto Cesárea",
          "Parto Normal",
          "Parto Cesárea",
          "Parto Normal",
          "Parto Cesárea",
          "Parto Normal",
          "Parto Cesárea",
          "Parto Normal",
          "Parto Cesárea",
          "Parto Normal",
          "Parto Cesárea",
          "Parto Normal",
          "Parto Cesárea",
          "Parto Normal",
          "Parto Cesárea",
          "Parto Normal",
          "Parto Cesárea",
          "Parto Normal",
          "Parto Cesárea",
          "Parto Normal",
          "Parto Cesárea",
          "Parto Normal",
          "Parto Cesárea",
          "Parto Normal",
          "Parto Cesárea",
          "Parto Normal",
          "Parto Cesárea",
          "Parto Normal",
          "Parto Cesárea",
          "Parto Normal",
          "Parto Cesárea",
          "Parto Normal"
         ],
         "y": [
          12.86,
          10.17,
          91.72,
          57.36,
          128.68,
          85.47,
          99.15,
          110.04,
          31.89,
          34.95,
          41.51,
          19.89,
          null,
          null,
          6.95,
          7.31,
          246.38,
          278.09,
          65.62,
          34.81,
          9.49,
          8,
          6.12,
          5.5,
          30,
          33.94,
          9.26,
          8.79,
          83.94,
          88.98,
          23.16,
          28.28,
          42.06,
          36.84,
          26.09,
          22.27,
          60.51,
          70.02,
          65.38,
          44.64,
          9.72,
          7.49,
          14.99,
          19.31,
          73.91,
          41.82,
          12.68,
          10.66,
          89.53,
          79.39,
          17.83,
          20.16,
          29.97,
          21.29
         ]
        },
        {
         "marker": {
          "color": "#DD6F1C"
         },
         "name": "2018-2019",
         "text": [
          10.25,
          8.62,
          51.8,
          36.71,
          158.49,
          95.53,
          78.53,
          103.93,
          33.84,
          39.53,
          35.23,
          33.98,
          null,
          null,
          7.27,
          7.06,
          171.53,
          284.23,
          40.35,
          32.95,
          19.51,
          14.81,
          7.72,
          8.44,
          24.43,
          29.08,
          6.51,
          5.98,
          62.85,
          59.16,
          44.44,
          45.36,
          42.3,
          44.81,
          25.16,
          22.85,
          47.12,
          52.34,
          25.78,
          29.09,
          12.68,
          6.81,
          22.93,
          19.41,
          21.37,
          18.58,
          12.16,
          7.25,
          101.98,
          108.53,
          20.35,
          24.43,
          66.33,
          67
         ],
         "textposition": "auto",
         "type": "bar",
         "x": [
          "Parto Cesárea",
          "Parto Normal",
          "Parto Cesárea",
          "Parto Normal",
          "Parto Cesárea",
          "Parto Normal",
          "Parto Cesárea",
          "Parto Normal",
          "Parto Cesárea",
          "Parto Normal",
          "Parto Cesárea",
          "Parto Normal",
          "Parto Cesárea",
          "Parto Normal",
          "Parto Cesárea",
          "Parto Normal",
          "Parto Cesárea",
          "Parto Normal",
          "Parto Cesárea",
          "Parto Normal",
          "Parto Cesárea",
          "Parto Normal",
          "Parto Cesárea",
          "Parto Normal",
          "Parto Cesárea",
          "Parto Normal",
          "Parto Cesárea",
          "Parto Normal",
          "Parto Cesárea",
          "Parto Normal",
          "Parto Cesárea",
          "Parto Normal",
          "Parto Cesárea",
          "Parto Normal",
          "Parto Cesárea",
          "Parto Normal",
          "Parto Cesárea",
          "Parto Normal",
          "Parto Cesárea",
          "Parto Normal",
          "Parto Cesárea",
          "Parto Normal",
          "Parto Cesárea",
          "Parto Normal",
          "Parto Cesárea",
          "Parto Normal",
          "Parto Cesárea",
          "Parto Normal",
          "Parto Cesárea",
          "Parto Normal",
          "Parto Cesárea",
          "Parto Normal",
          "Parto Cesárea",
          "Parto Normal"
         ],
         "y": [
          10.25,
          8.62,
          51.8,
          36.71,
          158.49,
          95.53,
          78.53,
          103.93,
          33.84,
          39.53,
          35.23,
          33.98,
          null,
          null,
          7.27,
          7.06,
          171.53,
          284.23,
          40.35,
          32.95,
          19.51,
          14.81,
          7.72,
          8.44,
          24.43,
          29.08,
          6.51,
          5.98,
          62.85,
          59.16,
          44.44,
          45.36,
          42.3,
          44.81,
          25.16,
          22.85,
          47.12,
          52.34,
          25.78,
          29.09,
          12.68,
          6.81,
          22.93,
          19.41,
          21.37,
          18.58,
          12.16,
          7.25,
          101.98,
          108.53,
          20.35,
          24.43,
          66.33,
          67
         ]
        }
       ],
       "layout": {
        "legend": {
         "title": {
          "text": "Biênio"
         }
        },
        "template": {
         "data": {
          "bar": [
           {
            "error_x": {
             "color": "#2a3f5f"
            },
            "error_y": {
             "color": "#2a3f5f"
            },
            "marker": {
             "line": {
              "color": "#E5ECF6",
              "width": 0.5
             },
             "pattern": {
              "fillmode": "overlay",
              "size": 10,
              "solidity": 0.2
             }
            },
            "type": "bar"
           }
          ],
          "barpolar": [
           {
            "marker": {
             "line": {
              "color": "#E5ECF6",
              "width": 0.5
             },
             "pattern": {
              "fillmode": "overlay",
              "size": 10,
              "solidity": 0.2
             }
            },
            "type": "barpolar"
           }
          ],
          "carpet": [
           {
            "aaxis": {
             "endlinecolor": "#2a3f5f",
             "gridcolor": "white",
             "linecolor": "white",
             "minorgridcolor": "white",
             "startlinecolor": "#2a3f5f"
            },
            "baxis": {
             "endlinecolor": "#2a3f5f",
             "gridcolor": "white",
             "linecolor": "white",
             "minorgridcolor": "white",
             "startlinecolor": "#2a3f5f"
            },
            "type": "carpet"
           }
          ],
          "choropleth": [
           {
            "colorbar": {
             "outlinewidth": 0,
             "ticks": ""
            },
            "type": "choropleth"
           }
          ],
          "contour": [
           {
            "colorbar": {
             "outlinewidth": 0,
             "ticks": ""
            },
            "colorscale": [
             [
              0,
              "#0d0887"
             ],
             [
              0.1111111111111111,
              "#46039f"
             ],
             [
              0.2222222222222222,
              "#7201a8"
             ],
             [
              0.3333333333333333,
              "#9c179e"
             ],
             [
              0.4444444444444444,
              "#bd3786"
             ],
             [
              0.5555555555555556,
              "#d8576b"
             ],
             [
              0.6666666666666666,
              "#ed7953"
             ],
             [
              0.7777777777777778,
              "#fb9f3a"
             ],
             [
              0.8888888888888888,
              "#fdca26"
             ],
             [
              1,
              "#f0f921"
             ]
            ],
            "type": "contour"
           }
          ],
          "contourcarpet": [
           {
            "colorbar": {
             "outlinewidth": 0,
             "ticks": ""
            },
            "type": "contourcarpet"
           }
          ],
          "heatmap": [
           {
            "colorbar": {
             "outlinewidth": 0,
             "ticks": ""
            },
            "colorscale": [
             [
              0,
              "#0d0887"
             ],
             [
              0.1111111111111111,
              "#46039f"
             ],
             [
              0.2222222222222222,
              "#7201a8"
             ],
             [
              0.3333333333333333,
              "#9c179e"
             ],
             [
              0.4444444444444444,
              "#bd3786"
             ],
             [
              0.5555555555555556,
              "#d8576b"
             ],
             [
              0.6666666666666666,
              "#ed7953"
             ],
             [
              0.7777777777777778,
              "#fb9f3a"
             ],
             [
              0.8888888888888888,
              "#fdca26"
             ],
             [
              1,
              "#f0f921"
             ]
            ],
            "type": "heatmap"
           }
          ],
          "heatmapgl": [
           {
            "colorbar": {
             "outlinewidth": 0,
             "ticks": ""
            },
            "colorscale": [
             [
              0,
              "#0d0887"
             ],
             [
              0.1111111111111111,
              "#46039f"
             ],
             [
              0.2222222222222222,
              "#7201a8"
             ],
             [
              0.3333333333333333,
              "#9c179e"
             ],
             [
              0.4444444444444444,
              "#bd3786"
             ],
             [
              0.5555555555555556,
              "#d8576b"
             ],
             [
              0.6666666666666666,
              "#ed7953"
             ],
             [
              0.7777777777777778,
              "#fb9f3a"
             ],
             [
              0.8888888888888888,
              "#fdca26"
             ],
             [
              1,
              "#f0f921"
             ]
            ],
            "type": "heatmapgl"
           }
          ],
          "histogram": [
           {
            "marker": {
             "pattern": {
              "fillmode": "overlay",
              "size": 10,
              "solidity": 0.2
             }
            },
            "type": "histogram"
           }
          ],
          "histogram2d": [
           {
            "colorbar": {
             "outlinewidth": 0,
             "ticks": ""
            },
            "colorscale": [
             [
              0,
              "#0d0887"
             ],
             [
              0.1111111111111111,
              "#46039f"
             ],
             [
              0.2222222222222222,
              "#7201a8"
             ],
             [
              0.3333333333333333,
              "#9c179e"
             ],
             [
              0.4444444444444444,
              "#bd3786"
             ],
             [
              0.5555555555555556,
              "#d8576b"
             ],
             [
              0.6666666666666666,
              "#ed7953"
             ],
             [
              0.7777777777777778,
              "#fb9f3a"
             ],
             [
              0.8888888888888888,
              "#fdca26"
             ],
             [
              1,
              "#f0f921"
             ]
            ],
            "type": "histogram2d"
           }
          ],
          "histogram2dcontour": [
           {
            "colorbar": {
             "outlinewidth": 0,
             "ticks": ""
            },
            "colorscale": [
             [
              0,
              "#0d0887"
             ],
             [
              0.1111111111111111,
              "#46039f"
             ],
             [
              0.2222222222222222,
              "#7201a8"
             ],
             [
              0.3333333333333333,
              "#9c179e"
             ],
             [
              0.4444444444444444,
              "#bd3786"
             ],
             [
              0.5555555555555556,
              "#d8576b"
             ],
             [
              0.6666666666666666,
              "#ed7953"
             ],
             [
              0.7777777777777778,
              "#fb9f3a"
             ],
             [
              0.8888888888888888,
              "#fdca26"
             ],
             [
              1,
              "#f0f921"
             ]
            ],
            "type": "histogram2dcontour"
           }
          ],
          "mesh3d": [
           {
            "colorbar": {
             "outlinewidth": 0,
             "ticks": ""
            },
            "type": "mesh3d"
           }
          ],
          "parcoords": [
           {
            "line": {
             "colorbar": {
              "outlinewidth": 0,
              "ticks": ""
             }
            },
            "type": "parcoords"
           }
          ],
          "pie": [
           {
            "automargin": true,
            "type": "pie"
           }
          ],
          "scatter": [
           {
            "fillpattern": {
             "fillmode": "overlay",
             "size": 10,
             "solidity": 0.2
            },
            "type": "scatter"
           }
          ],
          "scatter3d": [
           {
            "line": {
             "colorbar": {
              "outlinewidth": 0,
              "ticks": ""
             }
            },
            "marker": {
             "colorbar": {
              "outlinewidth": 0,
              "ticks": ""
             }
            },
            "type": "scatter3d"
           }
          ],
          "scattercarpet": [
           {
            "marker": {
             "colorbar": {
              "outlinewidth": 0,
              "ticks": ""
             }
            },
            "type": "scattercarpet"
           }
          ],
          "scattergeo": [
           {
            "marker": {
             "colorbar": {
              "outlinewidth": 0,
              "ticks": ""
             }
            },
            "type": "scattergeo"
           }
          ],
          "scattergl": [
           {
            "marker": {
             "colorbar": {
              "outlinewidth": 0,
              "ticks": ""
             }
            },
            "type": "scattergl"
           }
          ],
          "scattermapbox": [
           {
            "marker": {
             "colorbar": {
              "outlinewidth": 0,
              "ticks": ""
             }
            },
            "type": "scattermapbox"
           }
          ],
          "scatterpolar": [
           {
            "marker": {
             "colorbar": {
              "outlinewidth": 0,
              "ticks": ""
             }
            },
            "type": "scatterpolar"
           }
          ],
          "scatterpolargl": [
           {
            "marker": {
             "colorbar": {
              "outlinewidth": 0,
              "ticks": ""
             }
            },
            "type": "scatterpolargl"
           }
          ],
          "scatterternary": [
           {
            "marker": {
             "colorbar": {
              "outlinewidth": 0,
              "ticks": ""
             }
            },
            "type": "scatterternary"
           }
          ],
          "surface": [
           {
            "colorbar": {
             "outlinewidth": 0,
             "ticks": ""
            },
            "colorscale": [
             [
              0,
              "#0d0887"
             ],
             [
              0.1111111111111111,
              "#46039f"
             ],
             [
              0.2222222222222222,
              "#7201a8"
             ],
             [
              0.3333333333333333,
              "#9c179e"
             ],
             [
              0.4444444444444444,
              "#bd3786"
             ],
             [
              0.5555555555555556,
              "#d8576b"
             ],
             [
              0.6666666666666666,
              "#ed7953"
             ],
             [
              0.7777777777777778,
              "#fb9f3a"
             ],
             [
              0.8888888888888888,
              "#fdca26"
             ],
             [
              1,
              "#f0f921"
             ]
            ],
            "type": "surface"
           }
          ],
          "table": [
           {
            "cells": {
             "fill": {
              "color": "#EBF0F8"
             },
             "line": {
              "color": "white"
             }
            },
            "header": {
             "fill": {
              "color": "#C8D4E3"
             },
             "line": {
              "color": "white"
             }
            },
            "type": "table"
           }
          ]
         },
         "layout": {
          "annotationdefaults": {
           "arrowcolor": "#2a3f5f",
           "arrowhead": 0,
           "arrowwidth": 1
          },
          "autotypenumbers": "strict",
          "coloraxis": {
           "colorbar": {
            "outlinewidth": 0,
            "ticks": ""
           }
          },
          "colorscale": {
           "diverging": [
            [
             0,
             "#8e0152"
            ],
            [
             0.1,
             "#c51b7d"
            ],
            [
             0.2,
             "#de77ae"
            ],
            [
             0.3,
             "#f1b6da"
            ],
            [
             0.4,
             "#fde0ef"
            ],
            [
             0.5,
             "#f7f7f7"
            ],
            [
             0.6,
             "#e6f5d0"
            ],
            [
             0.7,
             "#b8e186"
            ],
            [
             0.8,
             "#7fbc41"
            ],
            [
             0.9,
             "#4d9221"
            ],
            [
             1,
             "#276419"
            ]
           ],
           "sequential": [
            [
             0,
             "#0d0887"
            ],
            [
             0.1111111111111111,
             "#46039f"
            ],
            [
             0.2222222222222222,
             "#7201a8"
            ],
            [
             0.3333333333333333,
             "#9c179e"
            ],
            [
             0.4444444444444444,
             "#bd3786"
            ],
            [
             0.5555555555555556,
             "#d8576b"
            ],
            [
             0.6666666666666666,
             "#ed7953"
            ],
            [
             0.7777777777777778,
             "#fb9f3a"
            ],
            [
             0.8888888888888888,
             "#fdca26"
            ],
            [
             1,
             "#f0f921"
            ]
           ],
           "sequentialminus": [
            [
             0,
             "#0d0887"
            ],
            [
             0.1111111111111111,
             "#46039f"
            ],
            [
             0.2222222222222222,
             "#7201a8"
            ],
            [
             0.3333333333333333,
             "#9c179e"
            ],
            [
             0.4444444444444444,
             "#bd3786"
            ],
            [
             0.5555555555555556,
             "#d8576b"
            ],
            [
             0.6666666666666666,
             "#ed7953"
            ],
            [
             0.7777777777777778,
             "#fb9f3a"
            ],
            [
             0.8888888888888888,
             "#fdca26"
            ],
            [
             1,
             "#f0f921"
            ]
           ]
          },
          "colorway": [
           "#636efa",
           "#EF553B",
           "#00cc96",
           "#ab63fa",
           "#FFA15A",
           "#19d3f3",
           "#FF6692",
           "#B6E880",
           "#FF97FF",
           "#FECB52"
          ],
          "font": {
           "color": "#2a3f5f"
          },
          "geo": {
           "bgcolor": "white",
           "lakecolor": "white",
           "landcolor": "#E5ECF6",
           "showlakes": true,
           "showland": true,
           "subunitcolor": "white"
          },
          "hoverlabel": {
           "align": "left"
          },
          "hovermode": "closest",
          "mapbox": {
           "style": "light"
          },
          "paper_bgcolor": "white",
          "plot_bgcolor": "#E5ECF6",
          "polar": {
           "angularaxis": {
            "gridcolor": "white",
            "linecolor": "white",
            "ticks": ""
           },
           "bgcolor": "#E5ECF6",
           "radialaxis": {
            "gridcolor": "white",
            "linecolor": "white",
            "ticks": ""
           }
          },
          "scene": {
           "xaxis": {
            "backgroundcolor": "#E5ECF6",
            "gridcolor": "white",
            "gridwidth": 2,
            "linecolor": "white",
            "showbackground": true,
            "ticks": "",
            "zerolinecolor": "white"
           },
           "yaxis": {
            "backgroundcolor": "#E5ECF6",
            "gridcolor": "white",
            "gridwidth": 2,
            "linecolor": "white",
            "showbackground": true,
            "ticks": "",
            "zerolinecolor": "white"
           },
           "zaxis": {
            "backgroundcolor": "#E5ECF6",
            "gridcolor": "white",
            "gridwidth": 2,
            "linecolor": "white",
            "showbackground": true,
            "ticks": "",
            "zerolinecolor": "white"
           }
          },
          "shapedefaults": {
           "line": {
            "color": "#2a3f5f"
           }
          },
          "ternary": {
           "aaxis": {
            "gridcolor": "white",
            "linecolor": "white",
            "ticks": ""
           },
           "baxis": {
            "gridcolor": "white",
            "linecolor": "white",
            "ticks": ""
           },
           "bgcolor": "#E5ECF6",
           "caxis": {
            "gridcolor": "white",
            "linecolor": "white",
            "ticks": ""
           }
          },
          "title": {
           "x": 0.05
          },
          "xaxis": {
           "automargin": true,
           "gridcolor": "white",
           "linecolor": "white",
           "ticks": "",
           "title": {
            "standoff": 15
           },
           "zerolinecolor": "white",
           "zerolinewidth": 2
          },
          "yaxis": {
           "automargin": true,
           "gridcolor": "white",
           "linecolor": "white",
           "ticks": "",
           "title": {
            "standoff": 15
           },
           "zerolinecolor": "white",
           "zerolinewidth": 2
          }
         }
        },
        "title": {
         "text": "Número total de partos realizados no SUS"
        },
        "updatemenus": [
         {
          "buttons": [
           {
            "args": [
             {
              "y": [
               [
                12.86,
                10.17,
                91.72,
                57.36,
                128.68,
                85.47,
                99.15,
                110.04,
                31.89,
                34.95,
                41.51,
                19.89,
                null,
                null,
                6.95,
                7.31,
                246.38,
                278.09,
                65.62,
                34.81,
                9.49,
                8,
                6.12,
                5.5,
                30,
                33.94,
                9.26,
                8.79,
                83.94,
                88.98,
                23.16,
                28.28,
                42.06,
                36.84,
                26.09,
                22.27,
                60.51,
                70.02,
                65.38,
                44.64,
                9.72,
                7.49,
                14.99,
                19.31,
                73.91,
                41.82,
                12.68,
                10.66,
                89.53,
                79.39,
                17.83,
                20.16,
                29.97,
                21.29
               ],
               [
                10.25,
                8.62,
                51.8,
                36.71,
                158.49,
                95.53,
                78.53,
                103.93,
                33.84,
                39.53,
                35.23,
                33.98,
                null,
                null,
                7.27,
                7.06,
                171.53,
                284.23,
                40.35,
                32.95,
                19.51,
                14.81,
                7.72,
                8.44,
                24.43,
                29.08,
                6.51,
                5.98,
                62.85,
                59.16,
                44.44,
                45.36,
                42.3,
                44.81,
                25.16,
                22.85,
                47.12,
                52.34,
                25.78,
                29.09,
                12.68,
                6.81,
                22.93,
                19.41,
                21.37,
                18.58,
                12.16,
                7.25,
                101.98,
                108.53,
                20.35,
                24.43,
                66.33,
                67
               ]
              ]
             }
            ],
            "label": "Brasil",
            "method": "update"
           },
           {
            "args": [
             {
              "y": [
               [
                12.86,
                10.17
               ],
               [
                10.25,
                8.62
               ]
              ]
             }
            ],
            "label": "Acre",
            "method": "update"
           },
           {
            "args": [
             {
              "y": [
               [
                91.72,
                57.36
               ],
               [
                51.8,
                36.71
               ]
              ]
             }
            ],
            "label": "Alagoas",
            "method": "update"
           },
           {
            "args": [
             {
              "y": [
               [
                128.68,
                85.47
               ],
               [
                158.49,
                95.53
               ]
              ]
             }
            ],
            "label": "Amapá",
            "method": "update"
           },
           {
            "args": [
             {
              "y": [
               [
                99.15,
                110.04
               ],
               [
                78.53,
                103.93
               ]
              ]
             }
            ],
            "label": "Amazonas",
            "method": "update"
           },
           {
            "args": [
             {
              "y": [
               [
                31.89,
                34.95
               ],
               [
                33.84,
                39.53
               ]
              ]
             }
            ],
            "label": "Bahia",
            "method": "update"
           },
           {
            "args": [
             {
              "y": [
               [
                41.51,
                19.89
               ],
               [
                35.23,
                33.98
               ]
              ]
             }
            ],
            "label": "Ceará",
            "method": "update"
           },
           {
            "args": [
             {
              "y": [
               [
                null,
                null
               ],
               [
                null,
                null
               ]
              ]
             }
            ],
            "label": "Distrito Federal",
            "method": "update"
           },
           {
            "args": [
             {
              "y": [
               [
                6.95,
                7.31
               ],
               [
                7.27,
                7.06
               ]
              ]
             }
            ],
            "label": "Espírito Santo",
            "method": "update"
           },
           {
            "args": [
             {
              "y": [
               [
                246.38,
                278.09
               ],
               [
                171.53,
                284.23
               ]
              ]
             }
            ],
            "label": "Goiás",
            "method": "update"
           },
           {
            "args": [
             {
              "y": [
               [
                65.62,
                34.81
               ],
               [
                40.35,
                32.95
               ]
              ]
             }
            ],
            "label": "Maranhão",
            "method": "update"
           },
           {
            "args": [
             {
              "y": [
               [
                9.49,
                8
               ],
               [
                19.51,
                14.81
               ]
              ]
             }
            ],
            "label": "Mato Grosso",
            "method": "update"
           },
           {
            "args": [
             {
              "y": [
               [
                6.12,
                5.5
               ],
               [
                7.72,
                8.44
               ]
              ]
             }
            ],
            "label": "Mato Grosso do Sul",
            "method": "update"
           },
           {
            "args": [
             {
              "y": [
               [
                30,
                33.94
               ],
               [
                24.43,
                29.08
               ]
              ]
             }
            ],
            "label": "Minas Gerais",
            "method": "update"
           },
           {
            "args": [
             {
              "y": [
               [
                9.26,
                8.79
               ],
               [
                6.51,
                5.98
               ]
              ]
             }
            ],
            "label": "Paraná",
            "method": "update"
           },
           {
            "args": [
             {
              "y": [
               [
                83.94,
                88.98
               ],
               [
                62.85,
                59.16
               ]
              ]
             }
            ],
            "label": "Paraíba",
            "method": "update"
           },
           {
            "args": [
             {
              "y": [
               [
                23.16,
                28.28
               ],
               [
                44.44,
                45.36
               ]
              ]
             }
            ],
            "label": "Pará",
            "method": "update"
           },
           {
            "args": [
             {
              "y": [
               [
                42.06,
                36.84
               ],
               [
                42.3,
                44.81
               ]
              ]
             }
            ],
            "label": "Pernambuco",
            "method": "update"
           },
           {
            "args": [
             {
              "y": [
               [
                26.09,
                22.27
               ],
               [
                25.16,
                22.85
               ]
              ]
             }
            ],
            "label": "Piauí",
            "method": "update"
           },
           {
            "args": [
             {
              "y": [
               [
                60.51,
                70.02
               ],
               [
                47.12,
                52.34
               ]
              ]
             }
            ],
            "label": "Rio Grande do Norte",
            "method": "update"
           },
           {
            "args": [
             {
              "y": [
               [
                65.38,
                44.64
               ],
               [
                25.78,
                29.09
               ]
              ]
             }
            ],
            "label": "Rio Grande do Sul",
            "method": "update"
           },
           {
            "args": [
             {
              "y": [
               [
                9.72,
                7.49
               ],
               [
                12.68,
                6.81
               ]
              ]
             }
            ],
            "label": "Rio de Janeiro",
            "method": "update"
           },
           {
            "args": [
             {
              "y": [
               [
                14.99,
                19.31
               ],
               [
                22.93,
                19.41
               ]
              ]
             }
            ],
            "label": "Rondônia",
            "method": "update"
           },
           {
            "args": [
             {
              "y": [
               [
                73.91,
                41.82
               ],
               [
                21.37,
                18.58
               ]
              ]
             }
            ],
            "label": "Roraima",
            "method": "update"
           },
           {
            "args": [
             {
              "y": [
               [
                12.68,
                10.66
               ],
               [
                12.16,
                7.25
               ]
              ]
             }
            ],
            "label": "Santa Catarina",
            "method": "update"
           },
           {
            "args": [
             {
              "y": [
               [
                89.53,
                79.39
               ],
               [
                101.98,
                108.53
               ]
              ]
             }
            ],
            "label": "Sergipe",
            "method": "update"
           },
           {
            "args": [
             {
              "y": [
               [
                17.83,
                20.16
               ],
               [
                20.35,
                24.43
               ]
              ]
             }
            ],
            "label": "São Paulo",
            "method": "update"
           },
           {
            "args": [
             {
              "y": [
               [
                29.97,
                21.29
               ],
               [
                66.33,
                67
               ]
              ]
             }
            ],
            "label": "Tocantins",
            "method": "update"
           }
          ],
          "direction": "down",
          "showactive": true
         }
        ]
       }
      },
      "text/html": [
       "<div>                            <div id=\"e59ecfb3-a66b-4b3d-90f8-4bf1141793fd\" class=\"plotly-graph-div\" style=\"height:525px; width:100%;\"></div>            <script type=\"text/javascript\">                require([\"plotly\"], function(Plotly) {                    window.PLOTLYENV=window.PLOTLYENV || {};                                    if (document.getElementById(\"e59ecfb3-a66b-4b3d-90f8-4bf1141793fd\")) {                    Plotly.newPlot(                        \"e59ecfb3-a66b-4b3d-90f8-4bf1141793fd\",                        [{\"marker\":{\"color\":\"#31A885\"},\"name\":\"2010-2011\",\"text\":[12.86,10.17,91.72,57.36,128.68,85.47,99.15,110.04,31.89,34.95,41.51,19.89,null,null,6.95,7.31,246.38,278.09,65.62,34.81,9.49,8.0,6.12,5.5,30.0,33.94,9.26,8.79,83.94,88.98,23.16,28.28,42.06,36.84,26.09,22.27,60.51,70.02,65.38,44.64,9.72,7.49,14.99,19.31,73.91,41.82,12.68,10.66,89.53,79.39,17.83,20.16,29.97,21.29],\"textposition\":\"auto\",\"x\":[\"Parto Ces\\u00e1rea\",\"Parto Normal\",\"Parto Ces\\u00e1rea\",\"Parto Normal\",\"Parto Ces\\u00e1rea\",\"Parto Normal\",\"Parto Ces\\u00e1rea\",\"Parto Normal\",\"Parto Ces\\u00e1rea\",\"Parto Normal\",\"Parto Ces\\u00e1rea\",\"Parto Normal\",\"Parto Ces\\u00e1rea\",\"Parto Normal\",\"Parto Ces\\u00e1rea\",\"Parto Normal\",\"Parto Ces\\u00e1rea\",\"Parto Normal\",\"Parto Ces\\u00e1rea\",\"Parto Normal\",\"Parto Ces\\u00e1rea\",\"Parto Normal\",\"Parto Ces\\u00e1rea\",\"Parto Normal\",\"Parto Ces\\u00e1rea\",\"Parto Normal\",\"Parto Ces\\u00e1rea\",\"Parto Normal\",\"Parto Ces\\u00e1rea\",\"Parto Normal\",\"Parto Ces\\u00e1rea\",\"Parto Normal\",\"Parto Ces\\u00e1rea\",\"Parto Normal\",\"Parto Ces\\u00e1rea\",\"Parto Normal\",\"Parto Ces\\u00e1rea\",\"Parto Normal\",\"Parto Ces\\u00e1rea\",\"Parto Normal\",\"Parto Ces\\u00e1rea\",\"Parto Normal\",\"Parto Ces\\u00e1rea\",\"Parto Normal\",\"Parto Ces\\u00e1rea\",\"Parto Normal\",\"Parto Ces\\u00e1rea\",\"Parto Normal\",\"Parto Ces\\u00e1rea\",\"Parto Normal\",\"Parto Ces\\u00e1rea\",\"Parto Normal\",\"Parto Ces\\u00e1rea\",\"Parto Normal\"],\"y\":[12.86,10.17,91.72,57.36,128.68,85.47,99.15,110.04,31.89,34.95,41.51,19.89,null,null,6.95,7.31,246.38,278.09,65.62,34.81,9.49,8.0,6.12,5.5,30.0,33.94,9.26,8.79,83.94,88.98,23.16,28.28,42.06,36.84,26.09,22.27,60.51,70.02,65.38,44.64,9.72,7.49,14.99,19.31,73.91,41.82,12.68,10.66,89.53,79.39,17.83,20.16,29.97,21.29],\"type\":\"bar\"},{\"marker\":{\"color\":\"#DD6F1C\"},\"name\":\"2018-2019\",\"text\":[10.25,8.62,51.8,36.71,158.49,95.53,78.53,103.93,33.84,39.53,35.23,33.98,null,null,7.27,7.06,171.53,284.23,40.35,32.95,19.51,14.81,7.72,8.44,24.43,29.08,6.51,5.98,62.85,59.16,44.44,45.36,42.3,44.81,25.16,22.85,47.12,52.34,25.78,29.09,12.68,6.81,22.93,19.41,21.37,18.58,12.16,7.25,101.98,108.53,20.35,24.43,66.33,67.0],\"textposition\":\"auto\",\"x\":[\"Parto Ces\\u00e1rea\",\"Parto Normal\",\"Parto Ces\\u00e1rea\",\"Parto Normal\",\"Parto Ces\\u00e1rea\",\"Parto Normal\",\"Parto Ces\\u00e1rea\",\"Parto Normal\",\"Parto Ces\\u00e1rea\",\"Parto Normal\",\"Parto Ces\\u00e1rea\",\"Parto Normal\",\"Parto Ces\\u00e1rea\",\"Parto Normal\",\"Parto Ces\\u00e1rea\",\"Parto Normal\",\"Parto Ces\\u00e1rea\",\"Parto Normal\",\"Parto Ces\\u00e1rea\",\"Parto Normal\",\"Parto Ces\\u00e1rea\",\"Parto Normal\",\"Parto Ces\\u00e1rea\",\"Parto Normal\",\"Parto Ces\\u00e1rea\",\"Parto Normal\",\"Parto Ces\\u00e1rea\",\"Parto Normal\",\"Parto Ces\\u00e1rea\",\"Parto Normal\",\"Parto Ces\\u00e1rea\",\"Parto Normal\",\"Parto Ces\\u00e1rea\",\"Parto Normal\",\"Parto Ces\\u00e1rea\",\"Parto Normal\",\"Parto Ces\\u00e1rea\",\"Parto Normal\",\"Parto Ces\\u00e1rea\",\"Parto Normal\",\"Parto Ces\\u00e1rea\",\"Parto Normal\",\"Parto Ces\\u00e1rea\",\"Parto Normal\",\"Parto Ces\\u00e1rea\",\"Parto Normal\",\"Parto Ces\\u00e1rea\",\"Parto Normal\",\"Parto Ces\\u00e1rea\",\"Parto Normal\",\"Parto Ces\\u00e1rea\",\"Parto Normal\",\"Parto Ces\\u00e1rea\",\"Parto Normal\"],\"y\":[10.25,8.62,51.8,36.71,158.49,95.53,78.53,103.93,33.84,39.53,35.23,33.98,null,null,7.27,7.06,171.53,284.23,40.35,32.95,19.51,14.81,7.72,8.44,24.43,29.08,6.51,5.98,62.85,59.16,44.44,45.36,42.3,44.81,25.16,22.85,47.12,52.34,25.78,29.09,12.68,6.81,22.93,19.41,21.37,18.58,12.16,7.25,101.98,108.53,20.35,24.43,66.33,67.0],\"type\":\"bar\"}],                        {\"template\":{\"data\":{\"histogram2dcontour\":[{\"type\":\"histogram2dcontour\",\"colorbar\":{\"outlinewidth\":0,\"ticks\":\"\"},\"colorscale\":[[0.0,\"#0d0887\"],[0.1111111111111111,\"#46039f\"],[0.2222222222222222,\"#7201a8\"],[0.3333333333333333,\"#9c179e\"],[0.4444444444444444,\"#bd3786\"],[0.5555555555555556,\"#d8576b\"],[0.6666666666666666,\"#ed7953\"],[0.7777777777777778,\"#fb9f3a\"],[0.8888888888888888,\"#fdca26\"],[1.0,\"#f0f921\"]]}],\"choropleth\":[{\"type\":\"choropleth\",\"colorbar\":{\"outlinewidth\":0,\"ticks\":\"\"}}],\"histogram2d\":[{\"type\":\"histogram2d\",\"colorbar\":{\"outlinewidth\":0,\"ticks\":\"\"},\"colorscale\":[[0.0,\"#0d0887\"],[0.1111111111111111,\"#46039f\"],[0.2222222222222222,\"#7201a8\"],[0.3333333333333333,\"#9c179e\"],[0.4444444444444444,\"#bd3786\"],[0.5555555555555556,\"#d8576b\"],[0.6666666666666666,\"#ed7953\"],[0.7777777777777778,\"#fb9f3a\"],[0.8888888888888888,\"#fdca26\"],[1.0,\"#f0f921\"]]}],\"heatmap\":[{\"type\":\"heatmap\",\"colorbar\":{\"outlinewidth\":0,\"ticks\":\"\"},\"colorscale\":[[0.0,\"#0d0887\"],[0.1111111111111111,\"#46039f\"],[0.2222222222222222,\"#7201a8\"],[0.3333333333333333,\"#9c179e\"],[0.4444444444444444,\"#bd3786\"],[0.5555555555555556,\"#d8576b\"],[0.6666666666666666,\"#ed7953\"],[0.7777777777777778,\"#fb9f3a\"],[0.8888888888888888,\"#fdca26\"],[1.0,\"#f0f921\"]]}],\"heatmapgl\":[{\"type\":\"heatmapgl\",\"colorbar\":{\"outlinewidth\":0,\"ticks\":\"\"},\"colorscale\":[[0.0,\"#0d0887\"],[0.1111111111111111,\"#46039f\"],[0.2222222222222222,\"#7201a8\"],[0.3333333333333333,\"#9c179e\"],[0.4444444444444444,\"#bd3786\"],[0.5555555555555556,\"#d8576b\"],[0.6666666666666666,\"#ed7953\"],[0.7777777777777778,\"#fb9f3a\"],[0.8888888888888888,\"#fdca26\"],[1.0,\"#f0f921\"]]}],\"contourcarpet\":[{\"type\":\"contourcarpet\",\"colorbar\":{\"outlinewidth\":0,\"ticks\":\"\"}}],\"contour\":[{\"type\":\"contour\",\"colorbar\":{\"outlinewidth\":0,\"ticks\":\"\"},\"colorscale\":[[0.0,\"#0d0887\"],[0.1111111111111111,\"#46039f\"],[0.2222222222222222,\"#7201a8\"],[0.3333333333333333,\"#9c179e\"],[0.4444444444444444,\"#bd3786\"],[0.5555555555555556,\"#d8576b\"],[0.6666666666666666,\"#ed7953\"],[0.7777777777777778,\"#fb9f3a\"],[0.8888888888888888,\"#fdca26\"],[1.0,\"#f0f921\"]]}],\"surface\":[{\"type\":\"surface\",\"colorbar\":{\"outlinewidth\":0,\"ticks\":\"\"},\"colorscale\":[[0.0,\"#0d0887\"],[0.1111111111111111,\"#46039f\"],[0.2222222222222222,\"#7201a8\"],[0.3333333333333333,\"#9c179e\"],[0.4444444444444444,\"#bd3786\"],[0.5555555555555556,\"#d8576b\"],[0.6666666666666666,\"#ed7953\"],[0.7777777777777778,\"#fb9f3a\"],[0.8888888888888888,\"#fdca26\"],[1.0,\"#f0f921\"]]}],\"mesh3d\":[{\"type\":\"mesh3d\",\"colorbar\":{\"outlinewidth\":0,\"ticks\":\"\"}}],\"scatter\":[{\"fillpattern\":{\"fillmode\":\"overlay\",\"size\":10,\"solidity\":0.2},\"type\":\"scatter\"}],\"parcoords\":[{\"type\":\"parcoords\",\"line\":{\"colorbar\":{\"outlinewidth\":0,\"ticks\":\"\"}}}],\"scatterpolargl\":[{\"type\":\"scatterpolargl\",\"marker\":{\"colorbar\":{\"outlinewidth\":0,\"ticks\":\"\"}}}],\"bar\":[{\"error_x\":{\"color\":\"#2a3f5f\"},\"error_y\":{\"color\":\"#2a3f5f\"},\"marker\":{\"line\":{\"color\":\"#E5ECF6\",\"width\":0.5},\"pattern\":{\"fillmode\":\"overlay\",\"size\":10,\"solidity\":0.2}},\"type\":\"bar\"}],\"scattergeo\":[{\"type\":\"scattergeo\",\"marker\":{\"colorbar\":{\"outlinewidth\":0,\"ticks\":\"\"}}}],\"scatterpolar\":[{\"type\":\"scatterpolar\",\"marker\":{\"colorbar\":{\"outlinewidth\":0,\"ticks\":\"\"}}}],\"histogram\":[{\"marker\":{\"pattern\":{\"fillmode\":\"overlay\",\"size\":10,\"solidity\":0.2}},\"type\":\"histogram\"}],\"scattergl\":[{\"type\":\"scattergl\",\"marker\":{\"colorbar\":{\"outlinewidth\":0,\"ticks\":\"\"}}}],\"scatter3d\":[{\"type\":\"scatter3d\",\"line\":{\"colorbar\":{\"outlinewidth\":0,\"ticks\":\"\"}},\"marker\":{\"colorbar\":{\"outlinewidth\":0,\"ticks\":\"\"}}}],\"scattermapbox\":[{\"type\":\"scattermapbox\",\"marker\":{\"colorbar\":{\"outlinewidth\":0,\"ticks\":\"\"}}}],\"scatterternary\":[{\"type\":\"scatterternary\",\"marker\":{\"colorbar\":{\"outlinewidth\":0,\"ticks\":\"\"}}}],\"scattercarpet\":[{\"type\":\"scattercarpet\",\"marker\":{\"colorbar\":{\"outlinewidth\":0,\"ticks\":\"\"}}}],\"carpet\":[{\"aaxis\":{\"endlinecolor\":\"#2a3f5f\",\"gridcolor\":\"white\",\"linecolor\":\"white\",\"minorgridcolor\":\"white\",\"startlinecolor\":\"#2a3f5f\"},\"baxis\":{\"endlinecolor\":\"#2a3f5f\",\"gridcolor\":\"white\",\"linecolor\":\"white\",\"minorgridcolor\":\"white\",\"startlinecolor\":\"#2a3f5f\"},\"type\":\"carpet\"}],\"table\":[{\"cells\":{\"fill\":{\"color\":\"#EBF0F8\"},\"line\":{\"color\":\"white\"}},\"header\":{\"fill\":{\"color\":\"#C8D4E3\"},\"line\":{\"color\":\"white\"}},\"type\":\"table\"}],\"barpolar\":[{\"marker\":{\"line\":{\"color\":\"#E5ECF6\",\"width\":0.5},\"pattern\":{\"fillmode\":\"overlay\",\"size\":10,\"solidity\":0.2}},\"type\":\"barpolar\"}],\"pie\":[{\"automargin\":true,\"type\":\"pie\"}]},\"layout\":{\"autotypenumbers\":\"strict\",\"colorway\":[\"#636efa\",\"#EF553B\",\"#00cc96\",\"#ab63fa\",\"#FFA15A\",\"#19d3f3\",\"#FF6692\",\"#B6E880\",\"#FF97FF\",\"#FECB52\"],\"font\":{\"color\":\"#2a3f5f\"},\"hovermode\":\"closest\",\"hoverlabel\":{\"align\":\"left\"},\"paper_bgcolor\":\"white\",\"plot_bgcolor\":\"#E5ECF6\",\"polar\":{\"bgcolor\":\"#E5ECF6\",\"angularaxis\":{\"gridcolor\":\"white\",\"linecolor\":\"white\",\"ticks\":\"\"},\"radialaxis\":{\"gridcolor\":\"white\",\"linecolor\":\"white\",\"ticks\":\"\"}},\"ternary\":{\"bgcolor\":\"#E5ECF6\",\"aaxis\":{\"gridcolor\":\"white\",\"linecolor\":\"white\",\"ticks\":\"\"},\"baxis\":{\"gridcolor\":\"white\",\"linecolor\":\"white\",\"ticks\":\"\"},\"caxis\":{\"gridcolor\":\"white\",\"linecolor\":\"white\",\"ticks\":\"\"}},\"coloraxis\":{\"colorbar\":{\"outlinewidth\":0,\"ticks\":\"\"}},\"colorscale\":{\"sequential\":[[0.0,\"#0d0887\"],[0.1111111111111111,\"#46039f\"],[0.2222222222222222,\"#7201a8\"],[0.3333333333333333,\"#9c179e\"],[0.4444444444444444,\"#bd3786\"],[0.5555555555555556,\"#d8576b\"],[0.6666666666666666,\"#ed7953\"],[0.7777777777777778,\"#fb9f3a\"],[0.8888888888888888,\"#fdca26\"],[1.0,\"#f0f921\"]],\"sequentialminus\":[[0.0,\"#0d0887\"],[0.1111111111111111,\"#46039f\"],[0.2222222222222222,\"#7201a8\"],[0.3333333333333333,\"#9c179e\"],[0.4444444444444444,\"#bd3786\"],[0.5555555555555556,\"#d8576b\"],[0.6666666666666666,\"#ed7953\"],[0.7777777777777778,\"#fb9f3a\"],[0.8888888888888888,\"#fdca26\"],[1.0,\"#f0f921\"]],\"diverging\":[[0,\"#8e0152\"],[0.1,\"#c51b7d\"],[0.2,\"#de77ae\"],[0.3,\"#f1b6da\"],[0.4,\"#fde0ef\"],[0.5,\"#f7f7f7\"],[0.6,\"#e6f5d0\"],[0.7,\"#b8e186\"],[0.8,\"#7fbc41\"],[0.9,\"#4d9221\"],[1,\"#276419\"]]},\"xaxis\":{\"gridcolor\":\"white\",\"linecolor\":\"white\",\"ticks\":\"\",\"title\":{\"standoff\":15},\"zerolinecolor\":\"white\",\"automargin\":true,\"zerolinewidth\":2},\"yaxis\":{\"gridcolor\":\"white\",\"linecolor\":\"white\",\"ticks\":\"\",\"title\":{\"standoff\":15},\"zerolinecolor\":\"white\",\"automargin\":true,\"zerolinewidth\":2},\"scene\":{\"xaxis\":{\"backgroundcolor\":\"#E5ECF6\",\"gridcolor\":\"white\",\"linecolor\":\"white\",\"showbackground\":true,\"ticks\":\"\",\"zerolinecolor\":\"white\",\"gridwidth\":2},\"yaxis\":{\"backgroundcolor\":\"#E5ECF6\",\"gridcolor\":\"white\",\"linecolor\":\"white\",\"showbackground\":true,\"ticks\":\"\",\"zerolinecolor\":\"white\",\"gridwidth\":2},\"zaxis\":{\"backgroundcolor\":\"#E5ECF6\",\"gridcolor\":\"white\",\"linecolor\":\"white\",\"showbackground\":true,\"ticks\":\"\",\"zerolinecolor\":\"white\",\"gridwidth\":2}},\"shapedefaults\":{\"line\":{\"color\":\"#2a3f5f\"}},\"annotationdefaults\":{\"arrowcolor\":\"#2a3f5f\",\"arrowhead\":0,\"arrowwidth\":1},\"geo\":{\"bgcolor\":\"white\",\"landcolor\":\"#E5ECF6\",\"subunitcolor\":\"white\",\"showland\":true,\"showlakes\":true,\"lakecolor\":\"white\"},\"title\":{\"x\":0.05},\"mapbox\":{\"style\":\"light\"}}},\"title\":{\"text\":\"N\\u00famero total de partos realizados no SUS\"},\"legend\":{\"title\":{\"text\":\"Bi\\u00eanio\"}},\"updatemenus\":[{\"buttons\":[{\"args\":[{\"y\":[[12.86,10.17,91.72,57.36,128.68,85.47,99.15,110.04,31.89,34.95,41.51,19.89,null,null,6.95,7.31,246.38,278.09,65.62,34.81,9.49,8.0,6.12,5.5,30.0,33.94,9.26,8.79,83.94,88.98,23.16,28.28,42.06,36.84,26.09,22.27,60.51,70.02,65.38,44.64,9.72,7.49,14.99,19.31,73.91,41.82,12.68,10.66,89.53,79.39,17.83,20.16,29.97,21.29],[10.25,8.62,51.8,36.71,158.49,95.53,78.53,103.93,33.84,39.53,35.23,33.98,null,null,7.27,7.06,171.53,284.23,40.35,32.95,19.51,14.81,7.72,8.44,24.43,29.08,6.51,5.98,62.85,59.16,44.44,45.36,42.3,44.81,25.16,22.85,47.12,52.34,25.78,29.09,12.68,6.81,22.93,19.41,21.37,18.58,12.16,7.25,101.98,108.53,20.35,24.43,66.33,67.0]]}],\"label\":\"Brasil\",\"method\":\"update\"},{\"args\":[{\"y\":[[12.86,10.17],[10.25,8.62]]}],\"label\":\"Acre\",\"method\":\"update\"},{\"args\":[{\"y\":[[91.72,57.36],[51.8,36.71]]}],\"label\":\"Alagoas\",\"method\":\"update\"},{\"args\":[{\"y\":[[128.68,85.47],[158.49,95.53]]}],\"label\":\"Amap\\u00e1\",\"method\":\"update\"},{\"args\":[{\"y\":[[99.15,110.04],[78.53,103.93]]}],\"label\":\"Amazonas\",\"method\":\"update\"},{\"args\":[{\"y\":[[31.89,34.95],[33.84,39.53]]}],\"label\":\"Bahia\",\"method\":\"update\"},{\"args\":[{\"y\":[[41.51,19.89],[35.23,33.98]]}],\"label\":\"Cear\\u00e1\",\"method\":\"update\"},{\"args\":[{\"y\":[[null,null],[null,null]]}],\"label\":\"Distrito Federal\",\"method\":\"update\"},{\"args\":[{\"y\":[[6.95,7.31],[7.27,7.06]]}],\"label\":\"Esp\\u00edrito Santo\",\"method\":\"update\"},{\"args\":[{\"y\":[[246.38,278.09],[171.53,284.23]]}],\"label\":\"Goi\\u00e1s\",\"method\":\"update\"},{\"args\":[{\"y\":[[65.62,34.81],[40.35,32.95]]}],\"label\":\"Maranh\\u00e3o\",\"method\":\"update\"},{\"args\":[{\"y\":[[9.49,8.0],[19.51,14.81]]}],\"label\":\"Mato Grosso\",\"method\":\"update\"},{\"args\":[{\"y\":[[6.12,5.5],[7.72,8.44]]}],\"label\":\"Mato Grosso do Sul\",\"method\":\"update\"},{\"args\":[{\"y\":[[30.0,33.94],[24.43,29.08]]}],\"label\":\"Minas Gerais\",\"method\":\"update\"},{\"args\":[{\"y\":[[9.26,8.79],[6.51,5.98]]}],\"label\":\"Paran\\u00e1\",\"method\":\"update\"},{\"args\":[{\"y\":[[83.94,88.98],[62.85,59.16]]}],\"label\":\"Para\\u00edba\",\"method\":\"update\"},{\"args\":[{\"y\":[[23.16,28.28],[44.44,45.36]]}],\"label\":\"Par\\u00e1\",\"method\":\"update\"},{\"args\":[{\"y\":[[42.06,36.84],[42.3,44.81]]}],\"label\":\"Pernambuco\",\"method\":\"update\"},{\"args\":[{\"y\":[[26.09,22.27],[25.16,22.85]]}],\"label\":\"Piau\\u00ed\",\"method\":\"update\"},{\"args\":[{\"y\":[[60.51,70.02],[47.12,52.34]]}],\"label\":\"Rio Grande do Norte\",\"method\":\"update\"},{\"args\":[{\"y\":[[65.38,44.64],[25.78,29.09]]}],\"label\":\"Rio Grande do Sul\",\"method\":\"update\"},{\"args\":[{\"y\":[[9.72,7.49],[12.68,6.81]]}],\"label\":\"Rio de Janeiro\",\"method\":\"update\"},{\"args\":[{\"y\":[[14.99,19.31],[22.93,19.41]]}],\"label\":\"Rond\\u00f4nia\",\"method\":\"update\"},{\"args\":[{\"y\":[[73.91,41.82],[21.37,18.58]]}],\"label\":\"Roraima\",\"method\":\"update\"},{\"args\":[{\"y\":[[12.68,10.66],[12.16,7.25]]}],\"label\":\"Santa Catarina\",\"method\":\"update\"},{\"args\":[{\"y\":[[89.53,79.39],[101.98,108.53]]}],\"label\":\"Sergipe\",\"method\":\"update\"},{\"args\":[{\"y\":[[17.83,20.16],[20.35,24.43]]}],\"label\":\"S\\u00e3o Paulo\",\"method\":\"update\"},{\"args\":[{\"y\":[[29.97,21.29],[66.33,67.0]]}],\"label\":\"Tocantins\",\"method\":\"update\"}],\"direction\":\"down\",\"showactive\":true}]},                        {\"responsive\": true}                    ).then(function(){\n",
       "                            \n",
       "var gd = document.getElementById('e59ecfb3-a66b-4b3d-90f8-4bf1141793fd');\n",
       "var x = new MutationObserver(function (mutations, observer) {{\n",
       "        var display = window.getComputedStyle(gd).display;\n",
       "        if (!display || display === 'none') {{\n",
       "            console.log([gd, 'removed!']);\n",
       "            Plotly.purge(gd);\n",
       "            observer.disconnect();\n",
       "        }}\n",
       "}});\n",
       "\n",
       "// Listen for the removal of the full notebook cells\n",
       "var notebookContainer = gd.closest('#notebook-container');\n",
       "if (notebookContainer) {{\n",
       "    x.observe(notebookContainer, {childList: true});\n",
       "}}\n",
       "\n",
       "// Listen for the clearing of the current output cell\n",
       "var outputEl = gd.closest('.output');\n",
       "if (outputEl) {{\n",
       "    x.observe(outputEl, {childList: true});\n",
       "}}\n",
       "\n",
       "                        })                };                });            </script>        </div>"
      ]
     },
     "metadata": {},
     "output_type": "display_data"
    }
   ],
   "source": [
    "df_critic_uf = critic(\n",
    "  select_and_group(df_proc_bienio, df_locs, cols_critic, loc='nome_uf'),\n",
    "  critic_level=2)\n",
    "fig_critic_uf = fig_count_partos(df_critic_uf)\n",
    "fig_critic_uf.show()"
   ]
  }
 ],
 "metadata": {
  "kernelspec": {
   "display_name": "Python 3.10.8 ('ds')",
   "language": "python",
   "name": "python3"
  },
  "language_info": {
   "codemirror_mode": {
    "name": "ipython",
    "version": 3
   },
   "file_extension": ".py",
   "mimetype": "text/x-python",
   "name": "python",
   "nbconvert_exporter": "python",
   "pygments_lexer": "ipython3",
   "version": "3.10.8"
  },
  "orig_nbformat": 4,
  "vscode": {
   "interpreter": {
    "hash": "3902879adb7e156379fff49c969605c5389810f940f2eed05f038a1fa7230cff"
   }
  }
 },
 "nbformat": 4,
 "nbformat_minor": 2
}
