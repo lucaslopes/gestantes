{
 "cells": [
  {
   "cell_type": "raw",
   "metadata": {},
   "source": [
    "---\n",
    "title: \"Municípios\"\n",
    "---"
   ]
  },
  {
   "cell_type": "code",
   "execution_count": 1,
   "metadata": {},
   "outputs": [
    {
     "data": {
      "text/html": [
       "<style type='text/css'>\n",
       ".datatable table.frame { margin-bottom: 0; }\n",
       ".datatable table.frame thead { border-bottom: none; }\n",
       ".datatable table.frame tr.coltypes td {  color: #FFFFFF;  line-height: 6px;  padding: 0 0.5em;}\n",
       ".datatable .bool    { background: #DDDD99; }\n",
       ".datatable .object  { background: #565656; }\n",
       ".datatable .int     { background: #5D9E5D; }\n",
       ".datatable .float   { background: #4040CC; }\n",
       ".datatable .str     { background: #CC4040; }\n",
       ".datatable .time    { background: #40CC40; }\n",
       ".datatable .row_index {  background: var(--jp-border-color3);  border-right: 1px solid var(--jp-border-color0);  color: var(--jp-ui-font-color3);  font-size: 9px;}\n",
       ".datatable .frame tbody td { text-align: left; }\n",
       ".datatable .frame tr.coltypes .row_index {  background: var(--jp-border-color0);}\n",
       ".datatable th:nth-child(2) { padding-left: 12px; }\n",
       ".datatable .hellipsis {  color: var(--jp-cell-editor-border-color);}\n",
       ".datatable .vellipsis {  background: var(--jp-layout-color0);  color: var(--jp-cell-editor-border-color);}\n",
       ".datatable .na {  color: var(--jp-cell-editor-border-color);  font-size: 80%;}\n",
       ".datatable .sp {  opacity: 0.25;}\n",
       ".datatable .footer { font-size: 9px; }\n",
       ".datatable .frame_dimensions {  background: var(--jp-border-color3);  border-top: 1px solid var(--jp-border-color0);  color: var(--jp-ui-font-color3);  display: inline-block;  opacity: 0.6;  padding: 1px 10px 1px 5px;}\n",
       "</style>\n"
      ],
      "text/plain": [
       "<IPython.core.display.HTML object>"
      ]
     },
     "metadata": {},
     "output_type": "display_data"
    }
   ],
   "source": [
    "from utils import get_path, group_cols\n",
    "from datatable import dt, f, as_type"
   ]
  },
  {
   "cell_type": "markdown",
   "metadata": {},
   "source": [
    "# Descrição"
   ]
  },
  {
   "cell_type": "markdown",
   "metadata": {},
   "source": [
    "Neste notebook iremos formar uma tabela contendo todos os municípios de residência que estão na base do SIH."
   ]
  },
  {
   "cell_type": "markdown",
   "metadata": {},
   "source": [
    "# Tabelas base"
   ]
  },
  {
   "cell_type": "markdown",
   "metadata": {},
   "source": [
    "## SIH"
   ]
  },
  {
   "cell_type": "markdown",
   "metadata": {},
   "source": [
    "### Colunas da tabela"
   ]
  },
  {
   "cell_type": "code",
   "execution_count": 2,
   "metadata": {},
   "outputs": [],
   "source": [
    "cols_mun = [\n",
    "  'cod_municipio',\n",
    "  'regiao',\n",
    "  'uf',\n",
    "  'cod_uf',\n",
    "  'nome_uf',\n",
    "  'municipio',\n",
    "  'nome_municipio',\n",
    "  'capital',\n",
    "  'fronteira',\n",
    "  'amazonia',\n",
    "  'macroregiao_saude',\n",
    "  # 'regiao_saude',\n",
    "  # 'nome_regiao_saude',\n",
    "  'microregiao_saude',\n",
    "  'latitude',\n",
    "  'longitude',\n",
    "  'altitude',\n",
    "  'area',\n",
    "]"
   ]
  },
  {
   "cell_type": "code",
   "execution_count": 3,
   "metadata": {},
   "outputs": [
    {
     "data": {
      "text/html": [
       "<div class='datatable'>\n",
       "  <table class='frame'>\n",
       "  <thead>\n",
       "    <tr class='colnames'><td class='row_index'></td><th>cod_municipio</th><th>regiao</th><th>uf</th><th>cod_uf</th><th>nome_uf</th><th>municipio</th><th>nome_municipio</th><th>capital</th><th>fronteira</th><th>amazonia</th><th class='vellipsis'>&hellip;</th><th>microregiao_saude</th><th>latitude</th><th>longitude</th><th>altitude</th><th>area</th></tr>\n",
       "    <tr class='coltypes'><td class='row_index'></td><td class='int' title='int32'>&#x25AA;&#x25AA;&#x25AA;&#x25AA;</td><td class='str' title='str32'>&#x25AA;&#x25AA;&#x25AA;&#x25AA;</td><td class='str' title='str32'>&#x25AA;&#x25AA;&#x25AA;&#x25AA;</td><td class='int' title='int32'>&#x25AA;&#x25AA;&#x25AA;&#x25AA;</td><td class='str' title='str32'>&#x25AA;&#x25AA;&#x25AA;&#x25AA;</td><td class='str' title='str32'>&#x25AA;&#x25AA;&#x25AA;&#x25AA;</td><td class='str' title='str32'>&#x25AA;&#x25AA;&#x25AA;&#x25AA;</td><td class='str' title='str32'>&#x25AA;&#x25AA;&#x25AA;&#x25AA;</td><td class='str' title='str32'>&#x25AA;&#x25AA;&#x25AA;&#x25AA;</td><td class='str' title='str32'>&#x25AA;&#x25AA;&#x25AA;&#x25AA;</td><td></td><td class='int' title='int32'>&#x25AA;&#x25AA;&#x25AA;&#x25AA;</td><td class='float' title='float64'>&#x25AA;&#x25AA;&#x25AA;&#x25AA;&#x25AA;&#x25AA;&#x25AA;&#x25AA;</td><td class='float' title='float64'>&#x25AA;&#x25AA;&#x25AA;&#x25AA;&#x25AA;&#x25AA;&#x25AA;&#x25AA;</td><td class='float' title='float64'>&#x25AA;&#x25AA;&#x25AA;&#x25AA;&#x25AA;&#x25AA;&#x25AA;&#x25AA;</td><td class='float' title='float64'>&#x25AA;&#x25AA;&#x25AA;&#x25AA;&#x25AA;&#x25AA;&#x25AA;&#x25AA;</td></tr>\n",
       "  </thead>\n",
       "  <tbody>\n",
       "    <tr><td class='row_index'>0</td><td>120005</td><td>Norte</td><td>AC</td><td>12</td><td>ACRE</td><td>Assis Brasil</td><td>ASSIS BRASIL</td><td>N</td><td>S</td><td>S</td><td class=vellipsis>&hellip;</td><td>12900</td><td>&minus;10.941</td><td>&minus;69.567</td><td>239</td><td>2875.91</td></tr>\n",
       "    <tr><td class='row_index'>1</td><td>120040</td><td>Norte</td><td>AC</td><td>12</td><td>ACRE</td><td>Rio Branco</td><td>RIO BRANCO</td><td>S</td><td>S</td><td>S</td><td class=vellipsis>&hellip;</td><td>12900</td><td>&minus;9.975</td><td>&minus;67.81</td><td>153</td><td>9222.58</td></tr>\n",
       "    <tr><td class='row_index'>2</td><td>120040</td><td>Norte</td><td>AC</td><td>12</td><td>ACRE</td><td>Rio Branco</td><td>RIO BRANCO</td><td>S</td><td>S</td><td>S</td><td class=vellipsis>&hellip;</td><td>12900</td><td>&minus;9.975</td><td>&minus;67.81</td><td>153</td><td>9222.58</td></tr>\n",
       "    <tr><td class='row_index'>3</td><td>120040</td><td>Norte</td><td>AC</td><td>12</td><td>ACRE</td><td>Rio Branco</td><td>RIO BRANCO</td><td>S</td><td>S</td><td>S</td><td class=vellipsis>&hellip;</td><td>12900</td><td>&minus;9.975</td><td>&minus;67.81</td><td>153</td><td>9222.58</td></tr>\n",
       "    <tr><td class='row_index'>4</td><td>120040</td><td>Norte</td><td>AC</td><td>12</td><td>ACRE</td><td>Rio Branco</td><td>RIO BRANCO</td><td>S</td><td>S</td><td>S</td><td class=vellipsis>&hellip;</td><td>12900</td><td>&minus;9.975</td><td>&minus;67.81</td><td>153</td><td>9222.58</td></tr>\n",
       "    <tr><td class='row_index'>5</td><td>120040</td><td>Norte</td><td>AC</td><td>12</td><td>ACRE</td><td>Rio Branco</td><td>RIO BRANCO</td><td>S</td><td>S</td><td>S</td><td class=vellipsis>&hellip;</td><td>12900</td><td>&minus;9.975</td><td>&minus;67.81</td><td>153</td><td>9222.58</td></tr>\n",
       "    <tr><td class='row_index'>6</td><td>120040</td><td>Norte</td><td>AC</td><td>12</td><td>ACRE</td><td>Rio Branco</td><td>RIO BRANCO</td><td>S</td><td>S</td><td>S</td><td class=vellipsis>&hellip;</td><td>12900</td><td>&minus;9.975</td><td>&minus;67.81</td><td>153</td><td>9222.58</td></tr>\n",
       "    <tr><td class='row_index'>7</td><td>120005</td><td>Norte</td><td>AC</td><td>12</td><td>ACRE</td><td>Assis Brasil</td><td>ASSIS BRASIL</td><td>N</td><td>S</td><td>S</td><td class=vellipsis>&hellip;</td><td>12900</td><td>&minus;10.941</td><td>&minus;69.567</td><td>239</td><td>2875.91</td></tr>\n",
       "    <tr><td class='row_index'>8</td><td>120040</td><td>Norte</td><td>AC</td><td>12</td><td>ACRE</td><td>Rio Branco</td><td>RIO BRANCO</td><td>S</td><td>S</td><td>S</td><td class=vellipsis>&hellip;</td><td>12900</td><td>&minus;9.975</td><td>&minus;67.81</td><td>153</td><td>9222.58</td></tr>\n",
       "    <tr><td class='row_index'>9</td><td>120040</td><td>Norte</td><td>AC</td><td>12</td><td>ACRE</td><td>Rio Branco</td><td>RIO BRANCO</td><td>S</td><td>S</td><td>S</td><td class=vellipsis>&hellip;</td><td>12900</td><td>&minus;9.975</td><td>&minus;67.81</td><td>153</td><td>9222.58</td></tr>\n",
       "    <tr><td class='row_index'>10</td><td>120005</td><td>Norte</td><td>AC</td><td>12</td><td>ACRE</td><td>Assis Brasil</td><td>ASSIS BRASIL</td><td>N</td><td>S</td><td>S</td><td class=vellipsis>&hellip;</td><td>12900</td><td>&minus;10.941</td><td>&minus;69.567</td><td>239</td><td>2875.91</td></tr>\n",
       "    <tr><td class='row_index'>11</td><td>120038</td><td>Norte</td><td>AC</td><td>12</td><td>ACRE</td><td>Plácido de Castro</td><td>PLACIDO DE CASTRO</td><td>N</td><td>S</td><td>S</td><td class=vellipsis>&hellip;</td><td>12900</td><td>&minus;10.276</td><td>&minus;67.15</td><td>136</td><td>2047.45</td></tr>\n",
       "    <tr><td class='row_index'>12</td><td>120040</td><td>Norte</td><td>AC</td><td>12</td><td>ACRE</td><td>Rio Branco</td><td>RIO BRANCO</td><td>S</td><td>S</td><td>S</td><td class=vellipsis>&hellip;</td><td>12900</td><td>&minus;9.975</td><td>&minus;67.81</td><td>153</td><td>9222.58</td></tr>\n",
       "    <tr><td class='row_index'>13</td><td>120001</td><td>Norte</td><td>AC</td><td>12</td><td>ACRE</td><td>Acrelândia</td><td>ACRELANDIA</td><td>N</td><td>S</td><td>S</td><td class=vellipsis>&hellip;</td><td>12900</td><td>&minus;9.828</td><td>&minus;66.883</td><td>25</td><td>1574.55</td></tr>\n",
       "    <tr><td class='row_index'>14</td><td>120040</td><td>Norte</td><td>AC</td><td>12</td><td>ACRE</td><td>Rio Branco</td><td>RIO BRANCO</td><td>S</td><td>S</td><td>S</td><td class=vellipsis>&hellip;</td><td>12900</td><td>&minus;9.975</td><td>&minus;67.81</td><td>153</td><td>9222.58</td></tr>\n",
       "    <tr><td class='row_index'>&#x22EE;</td><td class='hellipsis'>&#x22EE;</td><td class='hellipsis'>&#x22EE;</td><td class='hellipsis'>&#x22EE;</td><td class='hellipsis'>&#x22EE;</td><td class='hellipsis'>&#x22EE;</td><td class='hellipsis'>&#x22EE;</td><td class='hellipsis'>&#x22EE;</td><td class='hellipsis'>&#x22EE;</td><td class='hellipsis'>&#x22EE;</td><td class='hellipsis'>&#x22EE;</td><td class='hellipsis'>&#x22F1;</td><td class='hellipsis'>&#x22EE;</td><td class='hellipsis'>&#x22EE;</td><td class='hellipsis'>&#x22EE;</td><td class='hellipsis'>&#x22EE;</td><td class='hellipsis'>&#x22EE;</td></tr>\n",
       "    <tr><td class='row_index'>16,816,986</td><td>171840</td><td>Norte</td><td>TO</td><td>17</td><td>TOCANTINS</td><td>Presidente Kennedy</td><td>PRESIDENTE KENNEDY</td><td>N</td><td>N</td><td>S</td><td class=vellipsis>&hellip;</td><td>17900</td><td>&minus;8.539</td><td>&minus;48.506</td><td>247</td><td>770.418</td></tr>\n",
       "    <tr><td class='row_index'>16,816,987</td><td>171670</td><td>Norte</td><td>TO</td><td>17</td><td>TOCANTINS</td><td>Colméia</td><td>COLMEIA</td><td>N</td><td>N</td><td>S</td><td class=vellipsis>&hellip;</td><td>17900</td><td>&minus;8.729</td><td>&minus;48.765</td><td>362</td><td>990.712</td></tr>\n",
       "    <tr><td class='row_index'>16,816,988</td><td>171670</td><td>Norte</td><td>TO</td><td>17</td><td>TOCANTINS</td><td>Colméia</td><td>COLMEIA</td><td>N</td><td>N</td><td>S</td><td class=vellipsis>&hellip;</td><td>17900</td><td>&minus;8.729</td><td>&minus;48.765</td><td>362</td><td>990.712</td></tr>\n",
       "    <tr><td class='row_index'>16,816,989</td><td>170930</td><td>Norte</td><td>TO</td><td>17</td><td>TOCANTINS</td><td>Guaraí</td><td>GUARAI</td><td>N</td><td>N</td><td>S</td><td class=vellipsis>&hellip;</td><td>17900</td><td>&minus;8.834</td><td>&minus;48.51</td><td>259</td><td>2268.15</td></tr>\n",
       "    <tr><td class='row_index'>16,816,990</td><td>171250</td><td>Norte</td><td>TO</td><td>17</td><td>TOCANTINS</td><td>Marianópolis do Tocantins</td><td>MARIANOPOLIS DO TOCANTINS</td><td>N</td><td>N</td><td>S</td><td class=vellipsis>&hellip;</td><td>17900</td><td>&minus;9.796</td><td>&minus;49.654</td><td>146</td><td>2091.36</td></tr>\n",
       "  </tbody>\n",
       "  </table>\n",
       "  <div class='footer'>\n",
       "    <div class='frame_dimensions'>16,816,991 rows &times; 16 columns</div>\n",
       "  </div>\n",
       "</div>\n"
      ],
      "text/plain": [
       "<Frame#7faee18f56c0 16816991x16>"
      ]
     },
     "execution_count": 3,
     "metadata": {},
     "output_type": "execute_result"
    }
   ],
   "source": [
    "path_sih = get_path('SIH', 'SIH.jay')\n",
    "df_mun = dt.fread(path_sih)\n",
    "df_mun = df_mun[:, cols_mun]\n",
    "df_mun"
   ]
  },
  {
   "cell_type": "markdown",
   "metadata": {},
   "source": [
    "### Tabela agrupada"
   ]
  },
  {
   "cell_type": "code",
   "execution_count": 4,
   "metadata": {},
   "outputs": [
    {
     "data": {
      "text/html": [
       "<div class='datatable'>\n",
       "  <table class='frame'>\n",
       "  <thead>\n",
       "    <tr class='colnames'><td class='row_index'></td><th>cod_municipio</th><th>regiao</th><th>uf</th><th>cod_uf</th><th>nome_uf</th><th>municipio</th><th>nome_municipio</th><th>capital</th><th>fronteira</th><th>amazonia</th><th class='vellipsis'>&hellip;</th><th>latitude</th><th>longitude</th><th>altitude</th><th>area</th><th>count</th></tr>\n",
       "    <tr class='coltypes'><td class='row_index'></td><td class='int' title='int32'>&#x25AA;&#x25AA;&#x25AA;&#x25AA;</td><td class='str' title='str32'>&#x25AA;&#x25AA;&#x25AA;&#x25AA;</td><td class='str' title='str32'>&#x25AA;&#x25AA;&#x25AA;&#x25AA;</td><td class='int' title='int32'>&#x25AA;&#x25AA;&#x25AA;&#x25AA;</td><td class='str' title='str32'>&#x25AA;&#x25AA;&#x25AA;&#x25AA;</td><td class='str' title='str32'>&#x25AA;&#x25AA;&#x25AA;&#x25AA;</td><td class='str' title='str32'>&#x25AA;&#x25AA;&#x25AA;&#x25AA;</td><td class='str' title='str32'>&#x25AA;&#x25AA;&#x25AA;&#x25AA;</td><td class='str' title='str32'>&#x25AA;&#x25AA;&#x25AA;&#x25AA;</td><td class='str' title='str32'>&#x25AA;&#x25AA;&#x25AA;&#x25AA;</td><td></td><td class='float' title='float64'>&#x25AA;&#x25AA;&#x25AA;&#x25AA;&#x25AA;&#x25AA;&#x25AA;&#x25AA;</td><td class='float' title='float64'>&#x25AA;&#x25AA;&#x25AA;&#x25AA;&#x25AA;&#x25AA;&#x25AA;&#x25AA;</td><td class='float' title='float64'>&#x25AA;&#x25AA;&#x25AA;&#x25AA;&#x25AA;&#x25AA;&#x25AA;&#x25AA;</td><td class='float' title='float64'>&#x25AA;&#x25AA;&#x25AA;&#x25AA;&#x25AA;&#x25AA;&#x25AA;&#x25AA;</td><td class='int' title='int64'>&#x25AA;&#x25AA;&#x25AA;&#x25AA;&#x25AA;&#x25AA;&#x25AA;&#x25AA;</td></tr>\n",
       "  </thead>\n",
       "  <tbody>\n",
       "    <tr><td class='row_index'>0</td><td>355030</td><td>Sudeste</td><td>SP</td><td>35</td><td>SAO PAULO</td><td>São Paulo</td><td>SAO PAULO</td><td>S</td><td>N</td><td>N</td><td class=vellipsis>&hellip;</td><td>&minus;23.548</td><td>&minus;46.636</td><td>760</td><td>1522.99</td><td>806352</td></tr>\n",
       "    <tr><td class='row_index'>1</td><td>330455</td><td>Sudeste</td><td>RJ</td><td>33</td><td>RIO DE JANEIRO</td><td>Rio de Janeiro</td><td>RIO DE JANEIRO</td><td>S</td><td>N</td><td>N</td><td class=vellipsis>&hellip;</td><td>&minus;22.903</td><td>&minus;43.208</td><td>2</td><td>1182.3</td><td>368216</td></tr>\n",
       "    <tr><td class='row_index'>2</td><td>130260</td><td>Norte</td><td>AM</td><td>13</td><td>AMAZONAS</td><td>Manaus</td><td>MANAUS</td><td>S</td><td>N</td><td>S</td><td class=vellipsis>&hellip;</td><td>&minus;3.102</td><td>&minus;60.025</td><td>92</td><td>11401.1</td><td>297036</td></tr>\n",
       "    <tr><td class='row_index'>3</td><td>230440</td><td>Nordeste</td><td>CE</td><td>23</td><td>CEARA</td><td>Fortaleza</td><td>FORTALEZA</td><td>S</td><td>N</td><td>N</td><td class=vellipsis>&hellip;</td><td>&minus;3.717</td><td>&minus;38.543</td><td>21</td><td>313.14</td><td>203370</td></tr>\n",
       "    <tr><td class='row_index'>4</td><td>292740</td><td>Nordeste</td><td>BA</td><td>29</td><td>BAHIA</td><td>Salvador</td><td>SALVADOR</td><td>S</td><td>N</td><td>N</td><td class=vellipsis>&hellip;</td><td>&minus;12.971</td><td>&minus;38.511</td><td>8</td><td>706.799</td><td>169924</td></tr>\n",
       "    <tr><td class='row_index'>5</td><td>150140</td><td>Norte</td><td>PA</td><td>15</td><td>PARA</td><td>Belém</td><td>BELEM</td><td>S</td><td>N</td><td>S</td><td class=vellipsis>&hellip;</td><td>&minus;1.456</td><td>&minus;48.504</td><td>10</td><td>1064.92</td><td>126918</td></tr>\n",
       "    <tr><td class='row_index'>6</td><td>310620</td><td>Sudeste</td><td>MG</td><td>31</td><td>MINAS GERAIS</td><td>Belo Horizonte</td><td>BELO HORIZONTE</td><td>S</td><td>N</td><td>N</td><td class=vellipsis>&hellip;</td><td>&minus;19.817</td><td>&minus;43.956</td><td>858</td><td>330.954</td><td>125370</td></tr>\n",
       "    <tr><td class='row_index'>7</td><td>431490</td><td>Sul</td><td>RS</td><td>43</td><td>RIO GRANDE DO SUL</td><td>Porto Alegre</td><td>PORTO ALEGRE</td><td>S</td><td>N</td><td>N</td><td class=vellipsis>&hellip;</td><td>&minus;30.033</td><td>&minus;51.23</td><td>3</td><td>496.827</td><td>105321</td></tr>\n",
       "    <tr><td class='row_index'>8</td><td>410690</td><td>Sul</td><td>PR</td><td>41</td><td>PARANA</td><td>Curitiba</td><td>CURITIBA</td><td>S</td><td>N</td><td>N</td><td class=vellipsis>&hellip;</td><td>&minus;25.428</td><td>&minus;49.273</td><td>934</td><td>434.967</td><td>101337</td></tr>\n",
       "    <tr><td class='row_index'>9</td><td>270430</td><td>Nordeste</td><td>AL</td><td>27</td><td>ALAGOAS</td><td>Maceió</td><td>MACEIO</td><td>S</td><td>N</td><td>N</td><td class=vellipsis>&hellip;</td><td>&minus;9.666</td><td>&minus;35.735</td><td>16</td><td>510.655</td><td>93551</td></tr>\n",
       "    <tr><td class='row_index'>10</td><td>520870</td><td>Centro-Oeste</td><td>GO</td><td>52</td><td>GOIAS</td><td>Goiânia</td><td>GOIANIA</td><td>S</td><td>N</td><td>N</td><td class=vellipsis>&hellip;</td><td>&minus;16.679</td><td>&minus;49.254</td><td>749</td><td>739.492</td><td>92068</td></tr>\n",
       "    <tr><td class='row_index'>11</td><td>351880</td><td>Sudeste</td><td>SP</td><td>35</td><td>SAO PAULO</td><td>Guarulhos</td><td>GUARULHOS</td><td>N</td><td>N</td><td>N</td><td class=vellipsis>&hellip;</td><td>&minus;23.463</td><td>&minus;46.533</td><td>759</td><td>318.014</td><td>91617</td></tr>\n",
       "    <tr><td class='row_index'>12</td><td>221100</td><td>Nordeste</td><td>PI</td><td>22</td><td>PIAUI</td><td>Teresina</td><td>TERESINA</td><td>S</td><td>N</td><td>N</td><td class=vellipsis>&hellip;</td><td>&minus;5.089</td><td>&minus;42.802</td><td>72</td><td>1755.7</td><td>86245</td></tr>\n",
       "    <tr><td class='row_index'>13</td><td>500270</td><td>Centro-Oeste</td><td>MS</td><td>50</td><td>MATO GROSSO DO SUL</td><td>Campo Grande</td><td>CAMPO GRANDE</td><td>S</td><td>N</td><td>N</td><td class=vellipsis>&hellip;</td><td>&minus;20.443</td><td>&minus;54.646</td><td>532</td><td>8096.05</td><td>84481</td></tr>\n",
       "    <tr><td class='row_index'>14</td><td>261160</td><td>Nordeste</td><td>PE</td><td>26</td><td>PERNAMBUCO</td><td>Recife</td><td>RECIFE</td><td>S</td><td>N</td><td>N</td><td class=vellipsis>&hellip;</td><td>&minus;8.054</td><td>&minus;34.881</td><td>4</td><td>217.494</td><td>83833</td></tr>\n",
       "    <tr><td class='row_index'>&#x22EE;</td><td class='hellipsis'>&#x22EE;</td><td class='hellipsis'>&#x22EE;</td><td class='hellipsis'>&#x22EE;</td><td class='hellipsis'>&#x22EE;</td><td class='hellipsis'>&#x22EE;</td><td class='hellipsis'>&#x22EE;</td><td class='hellipsis'>&#x22EE;</td><td class='hellipsis'>&#x22EE;</td><td class='hellipsis'>&#x22EE;</td><td class='hellipsis'>&#x22EE;</td><td class='hellipsis'>&#x22F1;</td><td class='hellipsis'>&#x22EE;</td><td class='hellipsis'>&#x22EE;</td><td class='hellipsis'>&#x22EE;</td><td class='hellipsis'>&#x22EE;</td><td class='hellipsis'>&#x22EE;</td></tr>\n",
       "    <tr><td class='row_index'>5564</td><td>520020</td><td>Centro-Oeste</td><td>GO</td><td>52</td><td>GOIAS</td><td>Água Limpa</td><td>AGUA LIMPA</td><td>N</td><td>N</td><td>N</td><td class=vellipsis>&hellip;</td><td>&minus;18.074</td><td>&minus;48.762</td><td>682</td><td>452.856</td><td>25</td></tr>\n",
       "    <tr><td class='row_index'>5565</td><td>510120</td><td>Centro-Oeste</td><td>MT</td><td>51</td><td>MATO GROSSO</td><td>Araguainha</td><td>ARAGUAINHA</td><td>N</td><td>N</td><td>S</td><td class=vellipsis>&hellip;</td><td>&minus;16.856</td><td>&minus;53.033</td><td>462</td><td>688.676</td><td>23</td></tr>\n",
       "    <tr><td class='row_index'>5566</td><td>350640</td><td>Sudeste</td><td>SP</td><td>35</td><td>SAO PAULO</td><td>Bilac</td><td>BILAC</td><td>N</td><td>N</td><td>N</td><td class=vellipsis>&hellip;</td><td>&minus;21.403</td><td>&minus;50.471</td><td>431</td><td>157.278</td><td>18</td></tr>\n",
       "    <tr><td class='row_index'>5567</td><td>500627</td><td>Centro-Oeste</td><td>MS</td><td>50</td><td>MATO GROSSO DO SUL</td><td>Paraíso das Águas</td><td>PARAISO DAS AGUAS</td><td>N</td><td>N</td><td>N</td><td class=vellipsis>&hellip;</td><td>&minus;19.0216</td><td>&minus;53.0116</td><td>0</td><td>5032.47</td><td>15</td></tr>\n",
       "    <tr><td class='row_index'>5568</td><td>330513</td><td>Sudeste</td><td>RJ</td><td>33</td><td>RIO DE JANEIRO</td><td>São José de Ubá</td><td>SAO JOSE DE UBA</td><td>N</td><td>N</td><td>N</td><td class=vellipsis>&hellip;</td><td>&minus;21.358</td><td>&minus;41.943</td><td>95</td><td>250.596</td><td>6</td></tr>\n",
       "  </tbody>\n",
       "  </table>\n",
       "  <div class='footer'>\n",
       "    <div class='frame_dimensions'>5569 rows &times; 17 columns</div>\n",
       "  </div>\n",
       "</div>\n"
      ],
      "text/plain": [
       "<Frame#7faee18f5900 5569x17>"
      ]
     },
     "execution_count": 4,
     "metadata": {},
     "output_type": "execute_result"
    }
   ],
   "source": [
    "df_mun = group_cols(df_mun, cols_mun)\n",
    "df_mun = df_mun.sort(-f.count)\n",
    "df_mun"
   ]
  },
  {
   "cell_type": "markdown",
   "metadata": {},
   "source": [
    "## Índice Socioeconômico"
   ]
  },
  {
   "cell_type": "markdown",
   "metadata": {},
   "source": [
    "### Colunas da tabela"
   ]
  },
  {
   "cell_type": "code",
   "execution_count": 5,
   "metadata": {},
   "outputs": [],
   "source": [
    "cols_socioecon = {\n",
    "  'CÓDIGO': 'codigo',\n",
    "  'Tipo Localidade': 'tipo',\n",
    "  'CIR': 'nome_regiao_saude',\n",
    "  'Grupos de Regiões de Saúde segundo Condições Socioeconômicas e de Saúde - 2016': 'socioecon',\n",
    "  ...: None\n",
    "}"
   ]
  },
  {
   "cell_type": "code",
   "execution_count": 6,
   "metadata": {},
   "outputs": [
    {
     "data": {
      "text/html": [
       "<div>\n",
       "<style scoped>\n",
       "    .dataframe tbody tr th:only-of-type {\n",
       "        vertical-align: middle;\n",
       "    }\n",
       "\n",
       "    .dataframe tbody tr th {\n",
       "        vertical-align: top;\n",
       "    }\n",
       "\n",
       "    .dataframe thead th {\n",
       "        text-align: right;\n",
       "    }\n",
       "</style>\n",
       "<table border=\"1\" class=\"dataframe\">\n",
       "  <thead>\n",
       "    <tr style=\"text-align: right;\">\n",
       "      <th></th>\n",
       "      <th>codigo</th>\n",
       "      <th>tipo</th>\n",
       "      <th>nome_regiao_saude</th>\n",
       "      <th>socioecon</th>\n",
       "    </tr>\n",
       "  </thead>\n",
       "  <tbody>\n",
       "    <tr>\n",
       "      <th>0</th>\n",
       "      <td>15.001</td>\n",
       "      <td>REGSAU</td>\n",
       "      <td>Araguaia</td>\n",
       "      <td>1</td>\n",
       "    </tr>\n",
       "    <tr>\n",
       "      <th>1</th>\n",
       "      <td>15.002</td>\n",
       "      <td>REGSAU</td>\n",
       "      <td>Baixo Amazonas</td>\n",
       "      <td>1</td>\n",
       "    </tr>\n",
       "    <tr>\n",
       "      <th>2</th>\n",
       "      <td>15.003</td>\n",
       "      <td>REGSAU</td>\n",
       "      <td>Carajás</td>\n",
       "      <td>2</td>\n",
       "    </tr>\n",
       "    <tr>\n",
       "      <th>3</th>\n",
       "      <td>15.004</td>\n",
       "      <td>REGSAU</td>\n",
       "      <td>Lago de Tucuruí</td>\n",
       "      <td>1</td>\n",
       "    </tr>\n",
       "    <tr>\n",
       "      <th>4</th>\n",
       "      <td>15.013</td>\n",
       "      <td>REGSAU</td>\n",
       "      <td>Marajó I</td>\n",
       "      <td>1</td>\n",
       "    </tr>\n",
       "    <tr>\n",
       "      <th>...</th>\n",
       "      <td>...</td>\n",
       "      <td>...</td>\n",
       "      <td>...</td>\n",
       "      <td>...</td>\n",
       "    </tr>\n",
       "    <tr>\n",
       "      <th>6003</th>\n",
       "      <td>171.780</td>\n",
       "      <td>MUNIC</td>\n",
       "      <td>Sudeste</td>\n",
       "      <td>1</td>\n",
       "    </tr>\n",
       "    <tr>\n",
       "      <th>6004</th>\n",
       "      <td>171.800</td>\n",
       "      <td>MUNIC</td>\n",
       "      <td>Sudeste</td>\n",
       "      <td>1</td>\n",
       "    </tr>\n",
       "    <tr>\n",
       "      <th>6005</th>\n",
       "      <td>171.865</td>\n",
       "      <td>MUNIC</td>\n",
       "      <td>Sudeste</td>\n",
       "      <td>1</td>\n",
       "    </tr>\n",
       "    <tr>\n",
       "      <th>6006</th>\n",
       "      <td>172.090</td>\n",
       "      <td>MUNIC</td>\n",
       "      <td>Sudeste</td>\n",
       "      <td>1</td>\n",
       "    </tr>\n",
       "    <tr>\n",
       "      <th>6007</th>\n",
       "      <td>172.093</td>\n",
       "      <td>MUNIC</td>\n",
       "      <td>Sudeste</td>\n",
       "      <td>1</td>\n",
       "    </tr>\n",
       "  </tbody>\n",
       "</table>\n",
       "<p>6008 rows × 4 columns</p>\n",
       "</div>"
      ],
      "text/plain": [
       "       codigo    tipo nome_regiao_saude  socioecon\n",
       "0      15.001  REGSAU          Araguaia          1\n",
       "1      15.002  REGSAU    Baixo Amazonas          1\n",
       "2      15.003  REGSAU           Carajás          2\n",
       "3      15.004  REGSAU   Lago de Tucuruí          1\n",
       "4      15.013  REGSAU          Marajó I          1\n",
       "...       ...     ...               ...        ...\n",
       "6003  171.780   MUNIC           Sudeste          1\n",
       "6004  171.800   MUNIC           Sudeste          1\n",
       "6005  171.865   MUNIC           Sudeste          1\n",
       "6006  172.090   MUNIC           Sudeste          1\n",
       "6007  172.093   MUNIC           Sudeste          1\n",
       "\n",
       "[6008 rows x 4 columns]"
      ]
     },
     "execution_count": 6,
     "metadata": {},
     "output_type": "execute_result"
    }
   ],
   "source": [
    "path_socioeco = path_socioeco = get_path('INDICADORES', 'indicadores.csv.gzip')\n",
    "df_socioeco = dt.fread(path_socioeco, columns=cols_socioecon)\n",
    "df_socioeco = df_socioeco.to_pandas()\n",
    "df_socioeco"
   ]
  },
  {
   "cell_type": "markdown",
   "metadata": {},
   "source": [
    "### Municípios"
   ]
  },
  {
   "cell_type": "code",
   "execution_count": 7,
   "metadata": {},
   "outputs": [
    {
     "data": {
      "text/html": [
       "<div>\n",
       "<style scoped>\n",
       "    .dataframe tbody tr th:only-of-type {\n",
       "        vertical-align: middle;\n",
       "    }\n",
       "\n",
       "    .dataframe tbody tr th {\n",
       "        vertical-align: top;\n",
       "    }\n",
       "\n",
       "    .dataframe thead th {\n",
       "        text-align: right;\n",
       "    }\n",
       "</style>\n",
       "<table border=\"1\" class=\"dataframe\">\n",
       "  <thead>\n",
       "    <tr style=\"text-align: right;\">\n",
       "      <th></th>\n",
       "      <th>cod_municipio</th>\n",
       "      <th>nome_regiao_saude</th>\n",
       "      <th>socioecon</th>\n",
       "      <th>prefix</th>\n",
       "    </tr>\n",
       "  </thead>\n",
       "  <tbody>\n",
       "    <tr>\n",
       "      <th>13</th>\n",
       "      <td>310600</td>\n",
       "      <td>João Monlevade</td>\n",
       "      <td>3</td>\n",
       "      <td>31</td>\n",
       "    </tr>\n",
       "    <tr>\n",
       "      <th>14</th>\n",
       "      <td>313620</td>\n",
       "      <td>João Monlevade</td>\n",
       "      <td>3</td>\n",
       "      <td>31</td>\n",
       "    </tr>\n",
       "    <tr>\n",
       "      <th>15</th>\n",
       "      <td>314470</td>\n",
       "      <td>João Monlevade</td>\n",
       "      <td>3</td>\n",
       "      <td>31</td>\n",
       "    </tr>\n",
       "    <tr>\n",
       "      <th>16</th>\n",
       "      <td>315570</td>\n",
       "      <td>João Monlevade</td>\n",
       "      <td>3</td>\n",
       "      <td>31</td>\n",
       "    </tr>\n",
       "    <tr>\n",
       "      <th>17</th>\n",
       "      <td>316100</td>\n",
       "      <td>João Monlevade</td>\n",
       "      <td>3</td>\n",
       "      <td>31</td>\n",
       "    </tr>\n",
       "    <tr>\n",
       "      <th>...</th>\n",
       "      <td>...</td>\n",
       "      <td>...</td>\n",
       "      <td>...</td>\n",
       "      <td>...</td>\n",
       "    </tr>\n",
       "    <tr>\n",
       "      <th>6003</th>\n",
       "      <td>171780</td>\n",
       "      <td>Sudeste</td>\n",
       "      <td>1</td>\n",
       "      <td>17</td>\n",
       "    </tr>\n",
       "    <tr>\n",
       "      <th>6004</th>\n",
       "      <td>171800</td>\n",
       "      <td>Sudeste</td>\n",
       "      <td>1</td>\n",
       "      <td>17</td>\n",
       "    </tr>\n",
       "    <tr>\n",
       "      <th>6005</th>\n",
       "      <td>171865</td>\n",
       "      <td>Sudeste</td>\n",
       "      <td>1</td>\n",
       "      <td>17</td>\n",
       "    </tr>\n",
       "    <tr>\n",
       "      <th>6006</th>\n",
       "      <td>172090</td>\n",
       "      <td>Sudeste</td>\n",
       "      <td>1</td>\n",
       "      <td>17</td>\n",
       "    </tr>\n",
       "    <tr>\n",
       "      <th>6007</th>\n",
       "      <td>172093</td>\n",
       "      <td>Sudeste</td>\n",
       "      <td>1</td>\n",
       "      <td>17</td>\n",
       "    </tr>\n",
       "  </tbody>\n",
       "</table>\n",
       "<p>5570 rows × 4 columns</p>\n",
       "</div>"
      ],
      "text/plain": [
       "     cod_municipio nome_regiao_saude  socioecon prefix\n",
       "13          310600    João Monlevade          3     31\n",
       "14          313620    João Monlevade          3     31\n",
       "15          314470    João Monlevade          3     31\n",
       "16          315570    João Monlevade          3     31\n",
       "17          316100    João Monlevade          3     31\n",
       "...            ...               ...        ...    ...\n",
       "6003        171780           Sudeste          1     17\n",
       "6004        171800           Sudeste          1     17\n",
       "6005        171865           Sudeste          1     17\n",
       "6006        172090           Sudeste          1     17\n",
       "6007        172093           Sudeste          1     17\n",
       "\n",
       "[5570 rows x 4 columns]"
      ]
     },
     "execution_count": 7,
     "metadata": {},
     "output_type": "execute_result"
    }
   ],
   "source": [
    "df_munic = df_socioeco.loc[df_socioeco['tipo'] == 'MUNIC'].copy()\n",
    "df_munic.drop(columns=['tipo'], inplace=True)\n",
    "df_munic['codigo'] = df_munic['codigo'].apply(lambda x: (str(x).replace('.', '') + '00')[:6])\n",
    "df_munic['prefix'] = df_munic['codigo'].apply(lambda x: str(x)[:2])\n",
    "df_munic = df_munic.rename(columns={'codigo': 'cod_municipio'})\n",
    "df_munic\n"
   ]
  },
  {
   "cell_type": "markdown",
   "metadata": {},
   "source": [
    "### Regiões de Saúde"
   ]
  },
  {
   "cell_type": "code",
   "execution_count": 8,
   "metadata": {},
   "outputs": [
    {
     "data": {
      "text/html": [
       "<div>\n",
       "<style scoped>\n",
       "    .dataframe tbody tr th:only-of-type {\n",
       "        vertical-align: middle;\n",
       "    }\n",
       "\n",
       "    .dataframe tbody tr th {\n",
       "        vertical-align: top;\n",
       "    }\n",
       "\n",
       "    .dataframe thead th {\n",
       "        text-align: right;\n",
       "    }\n",
       "</style>\n",
       "<table border=\"1\" class=\"dataframe\">\n",
       "  <thead>\n",
       "    <tr style=\"text-align: right;\">\n",
       "      <th></th>\n",
       "      <th>regiao_saude</th>\n",
       "      <th>nome_regiao_saude</th>\n",
       "      <th>prefix</th>\n",
       "    </tr>\n",
       "  </thead>\n",
       "  <tbody>\n",
       "    <tr>\n",
       "      <th>0</th>\n",
       "      <td>15001</td>\n",
       "      <td>Araguaia</td>\n",
       "      <td>15</td>\n",
       "    </tr>\n",
       "    <tr>\n",
       "      <th>1</th>\n",
       "      <td>15002</td>\n",
       "      <td>Baixo Amazonas</td>\n",
       "      <td>15</td>\n",
       "    </tr>\n",
       "    <tr>\n",
       "      <th>2</th>\n",
       "      <td>15003</td>\n",
       "      <td>Carajás</td>\n",
       "      <td>15</td>\n",
       "    </tr>\n",
       "    <tr>\n",
       "      <th>3</th>\n",
       "      <td>15004</td>\n",
       "      <td>Lago de Tucuruí</td>\n",
       "      <td>15</td>\n",
       "    </tr>\n",
       "    <tr>\n",
       "      <th>4</th>\n",
       "      <td>15013</td>\n",
       "      <td>Marajó I</td>\n",
       "      <td>15</td>\n",
       "    </tr>\n",
       "    <tr>\n",
       "      <th>...</th>\n",
       "      <td>...</td>\n",
       "      <td>...</td>\n",
       "      <td>...</td>\n",
       "    </tr>\n",
       "    <tr>\n",
       "      <th>5431</th>\n",
       "      <td>17001</td>\n",
       "      <td>Médio Norte Araguaia</td>\n",
       "      <td>17</td>\n",
       "    </tr>\n",
       "    <tr>\n",
       "      <th>5432</th>\n",
       "      <td>28005</td>\n",
       "      <td>Nossa Senhora da Glória</td>\n",
       "      <td>28</td>\n",
       "    </tr>\n",
       "    <tr>\n",
       "      <th>5433</th>\n",
       "      <td>28006</td>\n",
       "      <td>Nossa Senhora do Socorro</td>\n",
       "      <td>28</td>\n",
       "    </tr>\n",
       "    <tr>\n",
       "      <th>5434</th>\n",
       "      <td>28007</td>\n",
       "      <td>Propriá</td>\n",
       "      <td>28</td>\n",
       "    </tr>\n",
       "    <tr>\n",
       "      <th>5435</th>\n",
       "      <td>17003</td>\n",
       "      <td>Sudeste</td>\n",
       "      <td>17</td>\n",
       "    </tr>\n",
       "  </tbody>\n",
       "</table>\n",
       "<p>438 rows × 3 columns</p>\n",
       "</div>"
      ],
      "text/plain": [
       "     regiao_saude         nome_regiao_saude prefix\n",
       "0           15001                  Araguaia     15\n",
       "1           15002            Baixo Amazonas     15\n",
       "2           15003                   Carajás     15\n",
       "3           15004           Lago de Tucuruí     15\n",
       "4           15013                  Marajó I     15\n",
       "...           ...                       ...    ...\n",
       "5431        17001      Médio Norte Araguaia     17\n",
       "5432        28005   Nossa Senhora da Glória     28\n",
       "5433        28006  Nossa Senhora do Socorro     28\n",
       "5434        28007                   Propriá     28\n",
       "5435        17003                   Sudeste     17\n",
       "\n",
       "[438 rows x 3 columns]"
      ]
     },
     "execution_count": 8,
     "metadata": {},
     "output_type": "execute_result"
    }
   ],
   "source": [
    "df_regsau = df_socioeco[df_socioeco['tipo'] == 'REGSAU'].copy()\n",
    "df_regsau.drop(columns=['tipo', 'socioecon'], inplace=True)\n",
    "df_regsau['codigo'] = df_regsau['codigo'].apply(lambda x: (str(x).replace('.', '') + '0')[:5])\n",
    "df_regsau['prefix'] = df_regsau['codigo'].apply(lambda x: str(x)[:2])\n",
    "df_regsau = df_regsau.rename(columns={'codigo': 'regiao_saude'})\n",
    "df_regsau"
   ]
  },
  {
   "cell_type": "markdown",
   "metadata": {},
   "source": [
    "### Merge"
   ]
  },
  {
   "cell_type": "code",
   "execution_count": 9,
   "metadata": {},
   "outputs": [
    {
     "data": {
      "text/html": [
       "<div class='datatable'>\n",
       "  <table class='frame'>\n",
       "  <thead>\n",
       "    <tr class='colnames'><td class='row_index'></td><th>cod_municipio</th><th>nome_regiao_saude</th><th>socioecon</th><th>prefix</th><th>regiao_saude</th></tr>\n",
       "    <tr class='coltypes'><td class='row_index'></td><td class='int' title='int64'>&#x25AA;&#x25AA;&#x25AA;&#x25AA;&#x25AA;&#x25AA;&#x25AA;&#x25AA;</td><td class='str' title='str32'>&#x25AA;&#x25AA;&#x25AA;&#x25AA;</td><td class='int' title='int32'>&#x25AA;&#x25AA;&#x25AA;&#x25AA;</td><td class='str' title='str32'>&#x25AA;&#x25AA;&#x25AA;&#x25AA;</td><td class='str' title='str32'>&#x25AA;&#x25AA;&#x25AA;&#x25AA;</td></tr>\n",
       "  </thead>\n",
       "  <tbody>\n",
       "    <tr><td class='row_index'>0</td><td>310600</td><td>João Monlevade</td><td>3</td><td>31</td><td>31035</td></tr>\n",
       "    <tr><td class='row_index'>1</td><td>313620</td><td>João Monlevade</td><td>3</td><td>31</td><td>31035</td></tr>\n",
       "    <tr><td class='row_index'>2</td><td>314470</td><td>João Monlevade</td><td>3</td><td>31</td><td>31035</td></tr>\n",
       "    <tr><td class='row_index'>3</td><td>315570</td><td>João Monlevade</td><td>3</td><td>31</td><td>31035</td></tr>\n",
       "    <tr><td class='row_index'>4</td><td>316100</td><td>João Monlevade</td><td>3</td><td>31</td><td>31035</td></tr>\n",
       "    <tr><td class='row_index'>5</td><td>310855</td><td>João Pinheiro</td><td>2</td><td>31</td><td>31036</td></tr>\n",
       "    <tr><td class='row_index'>6</td><td>313630</td><td>João Pinheiro</td><td>2</td><td>31</td><td>31036</td></tr>\n",
       "    <tr><td class='row_index'>7</td><td>313753</td><td>João Pinheiro</td><td>2</td><td>31</td><td>31036</td></tr>\n",
       "    <tr><td class='row_index'>8</td><td>310280</td><td>Juiz de Fora Lima Duarte Bom Jardim Min</td><td>5</td><td>31</td><td>31037</td></tr>\n",
       "    <tr><td class='row_index'>9</td><td>310360</td><td>Juiz de Fora Lima Duarte Bom Jardim Min</td><td>5</td><td>31</td><td>31037</td></tr>\n",
       "    <tr><td class='row_index'>10</td><td>310610</td><td>Juiz de Fora Lima Duarte Bom Jardim Min</td><td>5</td><td>31</td><td>31037</td></tr>\n",
       "    <tr><td class='row_index'>11</td><td>310680</td><td>Juiz de Fora Lima Duarte Bom Jardim Min</td><td>5</td><td>31</td><td>31037</td></tr>\n",
       "    <tr><td class='row_index'>12</td><td>310720</td><td>Juiz de Fora Lima Duarte Bom Jardim Min</td><td>5</td><td>31</td><td>31037</td></tr>\n",
       "    <tr><td class='row_index'>13</td><td>310750</td><td>Juiz de Fora Lima Duarte Bom Jardim Min</td><td>5</td><td>31</td><td>31037</td></tr>\n",
       "    <tr><td class='row_index'>14</td><td>311590</td><td>Juiz de Fora Lima Duarte Bom Jardim Min</td><td>5</td><td>31</td><td>31037</td></tr>\n",
       "    <tr><td class='row_index'>&#x22EE;</td><td class='hellipsis'>&#x22EE;</td><td class='hellipsis'>&#x22EE;</td><td class='hellipsis'>&#x22EE;</td><td class='hellipsis'>&#x22EE;</td><td class='hellipsis'>&#x22EE;</td></tr>\n",
       "    <tr><td class='row_index'>5565</td><td>171780</td><td>Sudeste</td><td>1</td><td>17</td><td>17003</td></tr>\n",
       "    <tr><td class='row_index'>5566</td><td>171800</td><td>Sudeste</td><td>1</td><td>17</td><td>17003</td></tr>\n",
       "    <tr><td class='row_index'>5567</td><td>171865</td><td>Sudeste</td><td>1</td><td>17</td><td>17003</td></tr>\n",
       "    <tr><td class='row_index'>5568</td><td>172090</td><td>Sudeste</td><td>1</td><td>17</td><td>17003</td></tr>\n",
       "    <tr><td class='row_index'>5569</td><td>172093</td><td>Sudeste</td><td>1</td><td>17</td><td>17003</td></tr>\n",
       "  </tbody>\n",
       "  </table>\n",
       "  <div class='footer'>\n",
       "    <div class='frame_dimensions'>5570 rows &times; 5 columns</div>\n",
       "  </div>\n",
       "</div>\n"
      ],
      "text/plain": [
       "<Frame#7faed2182ea0 5570x5>"
      ]
     },
     "execution_count": 9,
     "metadata": {},
     "output_type": "execute_result"
    }
   ],
   "source": [
    "df_socioeco = df_munic.merge(df_regsau, how='left', left_on=['prefix', 'nome_regiao_saude'], right_on=['prefix', 'nome_regiao_saude'])\n",
    "df_socioeco = dt.Frame(df_socioeco)\n",
    "df_socioeco[:, 'cod_municipio'] = df_socioeco[:, dt.as_type(f.cod_municipio, int)]\n",
    "df_socioeco"
   ]
  },
  {
   "cell_type": "markdown",
   "metadata": {},
   "source": [
    "# Gerando tabela"
   ]
  },
  {
   "cell_type": "markdown",
   "metadata": {},
   "source": [
    "## Juntando com outras"
   ]
  },
  {
   "cell_type": "markdown",
   "metadata": {},
   "source": [
    "## Juntando com Socioeconômico"
   ]
  },
  {
   "cell_type": "code",
   "execution_count": 10,
   "metadata": {},
   "outputs": [
    {
     "data": {
      "text/html": [
       "<div class='datatable'>\n",
       "  <table class='frame'>\n",
       "  <thead>\n",
       "    <tr class='colnames'><td class='row_index'></td><th>cod_municipio</th><th>regiao</th><th>uf</th><th>cod_uf</th><th>nome_uf</th><th>municipio</th><th>nome_municipio</th><th>capital</th><th>fronteira</th><th>amazonia</th><th class='vellipsis'>&hellip;</th><th>count</th><th>nome_regiao_saude</th><th>socioecon</th><th>regiao_saude</th><th>prefix</th></tr>\n",
       "    <tr class='coltypes'><td class='row_index'></td><td class='int' title='int32'>&#x25AA;&#x25AA;&#x25AA;&#x25AA;</td><td class='str' title='str32'>&#x25AA;&#x25AA;&#x25AA;&#x25AA;</td><td class='str' title='str32'>&#x25AA;&#x25AA;&#x25AA;&#x25AA;</td><td class='int' title='int32'>&#x25AA;&#x25AA;&#x25AA;&#x25AA;</td><td class='str' title='str32'>&#x25AA;&#x25AA;&#x25AA;&#x25AA;</td><td class='str' title='str32'>&#x25AA;&#x25AA;&#x25AA;&#x25AA;</td><td class='str' title='str32'>&#x25AA;&#x25AA;&#x25AA;&#x25AA;</td><td class='str' title='str32'>&#x25AA;&#x25AA;&#x25AA;&#x25AA;</td><td class='str' title='str32'>&#x25AA;&#x25AA;&#x25AA;&#x25AA;</td><td class='str' title='str32'>&#x25AA;&#x25AA;&#x25AA;&#x25AA;</td><td></td><td class='int' title='int64'>&#x25AA;&#x25AA;&#x25AA;&#x25AA;&#x25AA;&#x25AA;&#x25AA;&#x25AA;</td><td class='str' title='str32'>&#x25AA;&#x25AA;&#x25AA;&#x25AA;</td><td class='int' title='int32'>&#x25AA;&#x25AA;&#x25AA;&#x25AA;</td><td class='str' title='str32'>&#x25AA;&#x25AA;&#x25AA;&#x25AA;</td><td class='str' title='str32'>&#x25AA;&#x25AA;&#x25AA;&#x25AA;</td></tr>\n",
       "  </thead>\n",
       "  <tbody>\n",
       "    <tr><td class='row_index'>0</td><td>355030</td><td>Sudeste</td><td>SP</td><td>35</td><td>SAO PAULO</td><td>São Paulo</td><td>SAO PAULO</td><td>S</td><td>N</td><td>N</td><td class=vellipsis>&hellip;</td><td>806352</td><td>São Paulo</td><td>5</td><td>35016</td><td>35</td></tr>\n",
       "    <tr><td class='row_index'>1</td><td>330455</td><td>Sudeste</td><td>RJ</td><td>33</td><td>RIO DE JANEIRO</td><td>Rio de Janeiro</td><td>RIO DE JANEIRO</td><td>S</td><td>N</td><td>N</td><td class=vellipsis>&hellip;</td><td>368216</td><td>Metropolitana I</td><td>5</td><td>33005</td><td>33</td></tr>\n",
       "    <tr><td class='row_index'>2</td><td>130260</td><td>Norte</td><td>AM</td><td>13</td><td>AMAZONAS</td><td>Manaus</td><td>MANAUS</td><td>S</td><td>N</td><td>S</td><td class=vellipsis>&hellip;</td><td>297036</td><td>Entorno Manaus e Alto Rio Negro</td><td>4</td><td>13001</td><td>13</td></tr>\n",
       "    <tr><td class='row_index'>3</td><td>230440</td><td>Nordeste</td><td>CE</td><td>23</td><td>CEARA</td><td>Fortaleza</td><td>FORTALEZA</td><td>S</td><td>N</td><td>N</td><td class=vellipsis>&hellip;</td><td>203370</td><td>1ª Região Fortaleza</td><td>5</td><td>23001</td><td>23</td></tr>\n",
       "    <tr><td class='row_index'>4</td><td>292740</td><td>Nordeste</td><td>BA</td><td>29</td><td>BAHIA</td><td>Salvador</td><td>SALVADOR</td><td>S</td><td>N</td><td>N</td><td class=vellipsis>&hellip;</td><td>169924</td><td>Salvador</td><td>5</td><td>29020</td><td>29</td></tr>\n",
       "    <tr><td class='row_index'>5</td><td>150140</td><td>Norte</td><td>PA</td><td>15</td><td>PARA</td><td>Belém</td><td>BELEM</td><td>S</td><td>N</td><td>S</td><td class=vellipsis>&hellip;</td><td>126918</td><td>Metropolitana I</td><td>4</td><td>15006</td><td>15</td></tr>\n",
       "    <tr><td class='row_index'>6</td><td>310620</td><td>Sudeste</td><td>MG</td><td>31</td><td>MINAS GERAIS</td><td>Belo Horizonte</td><td>BELO HORIZONTE</td><td>S</td><td>N</td><td>N</td><td class=vellipsis>&hellip;</td><td>125370</td><td>Belo Horizonte Nova Lima Caeté</td><td>5</td><td>31008</td><td>31</td></tr>\n",
       "    <tr><td class='row_index'>7</td><td>431490</td><td>Sul</td><td>RS</td><td>43</td><td>RIO GRANDE DO SUL</td><td>Porto Alegre</td><td>PORTO ALEGRE</td><td>S</td><td>N</td><td>N</td><td class=vellipsis>&hellip;</td><td>105321</td><td>Região 10 - Capital e Vale do Gravataí</td><td>5</td><td>43010</td><td>43</td></tr>\n",
       "    <tr><td class='row_index'>8</td><td>410690</td><td>Sul</td><td>PR</td><td>41</td><td>PARANA</td><td>Curitiba</td><td>CURITIBA</td><td>S</td><td>N</td><td>N</td><td class=vellipsis>&hellip;</td><td>101337</td><td>2ª RS Metropolitana</td><td>5</td><td>41002</td><td>41</td></tr>\n",
       "    <tr><td class='row_index'>9</td><td>270430</td><td>Nordeste</td><td>AL</td><td>27</td><td>ALAGOAS</td><td>Maceió</td><td>MACEIO</td><td>S</td><td>N</td><td>N</td><td class=vellipsis>&hellip;</td><td>93551</td><td>1ª Região de Saúde</td><td>3</td><td>27001</td><td>27</td></tr>\n",
       "    <tr><td class='row_index'>10</td><td>520870</td><td>Centro-Oeste</td><td>GO</td><td>52</td><td>GOIAS</td><td>Goiânia</td><td>GOIANIA</td><td>S</td><td>N</td><td>N</td><td class=vellipsis>&hellip;</td><td>92068</td><td>Central</td><td>5</td><td>52001</td><td>52</td></tr>\n",
       "    <tr><td class='row_index'>11</td><td>351880</td><td>Sudeste</td><td>SP</td><td>35</td><td>SAO PAULO</td><td>Guarulhos</td><td>GUARULHOS</td><td>N</td><td>N</td><td>N</td><td class=vellipsis>&hellip;</td><td>91617</td><td>Alto do Tietê</td><td>4</td><td>35011</td><td>35</td></tr>\n",
       "    <tr><td class='row_index'>12</td><td>221100</td><td>Nordeste</td><td>PI</td><td>22</td><td>PIAUI</td><td>Teresina</td><td>TERESINA</td><td>S</td><td>N</td><td>N</td><td class=vellipsis>&hellip;</td><td>86245</td><td>Entre Rios</td><td>3</td><td>22004</td><td>22</td></tr>\n",
       "    <tr><td class='row_index'>13</td><td>500270</td><td>Centro-Oeste</td><td>MS</td><td>50</td><td>MATO GROSSO DO SUL</td><td>Campo Grande</td><td>CAMPO GRANDE</td><td>S</td><td>N</td><td>N</td><td class=vellipsis>&hellip;</td><td>84481</td><td>Campo Grande</td><td>4</td><td>50001</td><td>50</td></tr>\n",
       "    <tr><td class='row_index'>14</td><td>261160</td><td>Nordeste</td><td>PE</td><td>26</td><td>PERNAMBUCO</td><td>Recife</td><td>RECIFE</td><td>S</td><td>N</td><td>N</td><td class=vellipsis>&hellip;</td><td>83833</td><td>Recife</td><td>5</td><td>26010</td><td>26</td></tr>\n",
       "    <tr><td class='row_index'>&#x22EE;</td><td class='hellipsis'>&#x22EE;</td><td class='hellipsis'>&#x22EE;</td><td class='hellipsis'>&#x22EE;</td><td class='hellipsis'>&#x22EE;</td><td class='hellipsis'>&#x22EE;</td><td class='hellipsis'>&#x22EE;</td><td class='hellipsis'>&#x22EE;</td><td class='hellipsis'>&#x22EE;</td><td class='hellipsis'>&#x22EE;</td><td class='hellipsis'>&#x22EE;</td><td class='hellipsis'>&#x22F1;</td><td class='hellipsis'>&#x22EE;</td><td class='hellipsis'>&#x22EE;</td><td class='hellipsis'>&#x22EE;</td><td class='hellipsis'>&#x22EE;</td><td class='hellipsis'>&#x22EE;</td></tr>\n",
       "    <tr><td class='row_index'>5564</td><td>520020</td><td>Centro-Oeste</td><td>GO</td><td>52</td><td>GOIAS</td><td>Água Limpa</td><td>AGUA LIMPA</td><td>N</td><td>N</td><td>N</td><td class=vellipsis>&hellip;</td><td>25</td><td>Sul</td><td>3</td><td>52017</td><td>52</td></tr>\n",
       "    <tr><td class='row_index'>5565</td><td>510120</td><td>Centro-Oeste</td><td>MT</td><td>51</td><td>MATO GROSSO</td><td>Araguainha</td><td>ARAGUAINHA</td><td>N</td><td>N</td><td>S</td><td class=vellipsis>&hellip;</td><td>23</td><td>Sul Matogrossense</td><td>2</td><td>51013</td><td>51</td></tr>\n",
       "    <tr><td class='row_index'>5566</td><td>350640</td><td>Sudeste</td><td>SP</td><td>35</td><td>SAO PAULO</td><td>Bilac</td><td>BILAC</td><td>N</td><td>N</td><td>N</td><td class=vellipsis>&hellip;</td><td>18</td><td>Central do DRS II</td><td>5</td><td>35021</td><td>35</td></tr>\n",
       "    <tr><td class='row_index'>5567</td><td>500627</td><td>Centro-Oeste</td><td>MS</td><td>50</td><td>MATO GROSSO DO SUL</td><td>Paraíso das Águas</td><td>PARAISO DAS AGUAS</td><td>N</td><td>N</td><td>N</td><td class=vellipsis>&hellip;</td><td>15</td><td>Campo Grande</td><td>4</td><td>50001</td><td>50</td></tr>\n",
       "    <tr><td class='row_index'>5568</td><td>330513</td><td>Sudeste</td><td>RJ</td><td>33</td><td>RIO DE JANEIRO</td><td>São José de Ubá</td><td>SAO JOSE DE UBA</td><td>N</td><td>N</td><td>N</td><td class=vellipsis>&hellip;</td><td>6</td><td>Noroeste</td><td>3</td><td>33007</td><td>33</td></tr>\n",
       "  </tbody>\n",
       "  </table>\n",
       "  <div class='footer'>\n",
       "    <div class='frame_dimensions'>5569 rows &times; 21 columns</div>\n",
       "  </div>\n",
       "</div>\n"
      ],
      "text/plain": [
       "<Frame#7faed21a0ab0 5569x21>"
      ]
     },
     "execution_count": 10,
     "metadata": {},
     "output_type": "execute_result"
    }
   ],
   "source": [
    "df_socioeco.key = 'cod_municipio'\n",
    "df_mun = df_mun[:, :, dt.join(df_socioeco)]\n",
    "cols_mun = list(df_mun.names)\n",
    "cols_mun = cols_mun[:-2] + [cols_mun[-1]] + [cols_mun[-2]]\n",
    "df_mun = df_mun[:, cols_mun]\n",
    "df_mun"
   ]
  },
  {
   "cell_type": "markdown",
   "metadata": {},
   "source": [
    "## Ajustando valores"
   ]
  },
  {
   "cell_type": "markdown",
   "metadata": {},
   "source": [
    "### Valor Booleanos"
   ]
  },
  {
   "cell_type": "code",
   "execution_count": 11,
   "metadata": {},
   "outputs": [
    {
     "data": {
      "text/html": [
       "<div class='datatable'>\n",
       "  <table class='frame'>\n",
       "  <thead>\n",
       "    <tr class='colnames'><td class='row_index'></td><th>cod_municipio</th><th>regiao</th><th>uf</th><th>cod_uf</th><th>nome_uf</th><th>municipio</th><th>nome_municipio</th><th>capital</th><th>fronteira</th><th>amazonia</th><th class='vellipsis'>&hellip;</th><th>count</th><th>nome_regiao_saude</th><th>socioecon</th><th>regiao_saude</th><th>prefix</th></tr>\n",
       "    <tr class='coltypes'><td class='row_index'></td><td class='int' title='int32'>&#x25AA;&#x25AA;&#x25AA;&#x25AA;</td><td class='str' title='str32'>&#x25AA;&#x25AA;&#x25AA;&#x25AA;</td><td class='str' title='str32'>&#x25AA;&#x25AA;&#x25AA;&#x25AA;</td><td class='int' title='int32'>&#x25AA;&#x25AA;&#x25AA;&#x25AA;</td><td class='str' title='str32'>&#x25AA;&#x25AA;&#x25AA;&#x25AA;</td><td class='str' title='str32'>&#x25AA;&#x25AA;&#x25AA;&#x25AA;</td><td class='str' title='str32'>&#x25AA;&#x25AA;&#x25AA;&#x25AA;</td><td class='bool' title='bool8'>&#x25AA;</td><td class='bool' title='bool8'>&#x25AA;</td><td class='bool' title='bool8'>&#x25AA;</td><td></td><td class='int' title='int64'>&#x25AA;&#x25AA;&#x25AA;&#x25AA;&#x25AA;&#x25AA;&#x25AA;&#x25AA;</td><td class='str' title='str32'>&#x25AA;&#x25AA;&#x25AA;&#x25AA;</td><td class='int' title='int32'>&#x25AA;&#x25AA;&#x25AA;&#x25AA;</td><td class='str' title='str32'>&#x25AA;&#x25AA;&#x25AA;&#x25AA;</td><td class='str' title='str32'>&#x25AA;&#x25AA;&#x25AA;&#x25AA;</td></tr>\n",
       "  </thead>\n",
       "  <tbody>\n",
       "    <tr><td class='row_index'>0</td><td>355030</td><td>Sudeste</td><td>SP</td><td>35</td><td>SAO PAULO</td><td>São Paulo</td><td>SAO PAULO</td><td>1</td><td>0</td><td>0</td><td class=vellipsis>&hellip;</td><td>806352</td><td>São Paulo</td><td>5</td><td>35016</td><td>35</td></tr>\n",
       "    <tr><td class='row_index'>1</td><td>330455</td><td>Sudeste</td><td>RJ</td><td>33</td><td>RIO DE JANEIRO</td><td>Rio de Janeiro</td><td>RIO DE JANEIRO</td><td>1</td><td>0</td><td>0</td><td class=vellipsis>&hellip;</td><td>368216</td><td>Metropolitana I</td><td>5</td><td>33005</td><td>33</td></tr>\n",
       "    <tr><td class='row_index'>2</td><td>130260</td><td>Norte</td><td>AM</td><td>13</td><td>AMAZONAS</td><td>Manaus</td><td>MANAUS</td><td>1</td><td>0</td><td>1</td><td class=vellipsis>&hellip;</td><td>297036</td><td>Entorno Manaus e Alto Rio Negro</td><td>4</td><td>13001</td><td>13</td></tr>\n",
       "    <tr><td class='row_index'>3</td><td>230440</td><td>Nordeste</td><td>CE</td><td>23</td><td>CEARA</td><td>Fortaleza</td><td>FORTALEZA</td><td>1</td><td>0</td><td>0</td><td class=vellipsis>&hellip;</td><td>203370</td><td>1ª Região Fortaleza</td><td>5</td><td>23001</td><td>23</td></tr>\n",
       "    <tr><td class='row_index'>4</td><td>292740</td><td>Nordeste</td><td>BA</td><td>29</td><td>BAHIA</td><td>Salvador</td><td>SALVADOR</td><td>1</td><td>0</td><td>0</td><td class=vellipsis>&hellip;</td><td>169924</td><td>Salvador</td><td>5</td><td>29020</td><td>29</td></tr>\n",
       "    <tr><td class='row_index'>5</td><td>150140</td><td>Norte</td><td>PA</td><td>15</td><td>PARA</td><td>Belém</td><td>BELEM</td><td>1</td><td>0</td><td>1</td><td class=vellipsis>&hellip;</td><td>126918</td><td>Metropolitana I</td><td>4</td><td>15006</td><td>15</td></tr>\n",
       "    <tr><td class='row_index'>6</td><td>310620</td><td>Sudeste</td><td>MG</td><td>31</td><td>MINAS GERAIS</td><td>Belo Horizonte</td><td>BELO HORIZONTE</td><td>1</td><td>0</td><td>0</td><td class=vellipsis>&hellip;</td><td>125370</td><td>Belo Horizonte Nova Lima Caeté</td><td>5</td><td>31008</td><td>31</td></tr>\n",
       "    <tr><td class='row_index'>7</td><td>431490</td><td>Sul</td><td>RS</td><td>43</td><td>RIO GRANDE DO SUL</td><td>Porto Alegre</td><td>PORTO ALEGRE</td><td>1</td><td>0</td><td>0</td><td class=vellipsis>&hellip;</td><td>105321</td><td>Região 10 - Capital e Vale do Gravataí</td><td>5</td><td>43010</td><td>43</td></tr>\n",
       "    <tr><td class='row_index'>8</td><td>410690</td><td>Sul</td><td>PR</td><td>41</td><td>PARANA</td><td>Curitiba</td><td>CURITIBA</td><td>1</td><td>0</td><td>0</td><td class=vellipsis>&hellip;</td><td>101337</td><td>2ª RS Metropolitana</td><td>5</td><td>41002</td><td>41</td></tr>\n",
       "    <tr><td class='row_index'>9</td><td>270430</td><td>Nordeste</td><td>AL</td><td>27</td><td>ALAGOAS</td><td>Maceió</td><td>MACEIO</td><td>1</td><td>0</td><td>0</td><td class=vellipsis>&hellip;</td><td>93551</td><td>1ª Região de Saúde</td><td>3</td><td>27001</td><td>27</td></tr>\n",
       "    <tr><td class='row_index'>10</td><td>520870</td><td>Centro-Oeste</td><td>GO</td><td>52</td><td>GOIAS</td><td>Goiânia</td><td>GOIANIA</td><td>1</td><td>0</td><td>0</td><td class=vellipsis>&hellip;</td><td>92068</td><td>Central</td><td>5</td><td>52001</td><td>52</td></tr>\n",
       "    <tr><td class='row_index'>11</td><td>351880</td><td>Sudeste</td><td>SP</td><td>35</td><td>SAO PAULO</td><td>Guarulhos</td><td>GUARULHOS</td><td>0</td><td>0</td><td>0</td><td class=vellipsis>&hellip;</td><td>91617</td><td>Alto do Tietê</td><td>4</td><td>35011</td><td>35</td></tr>\n",
       "    <tr><td class='row_index'>12</td><td>221100</td><td>Nordeste</td><td>PI</td><td>22</td><td>PIAUI</td><td>Teresina</td><td>TERESINA</td><td>1</td><td>0</td><td>0</td><td class=vellipsis>&hellip;</td><td>86245</td><td>Entre Rios</td><td>3</td><td>22004</td><td>22</td></tr>\n",
       "    <tr><td class='row_index'>13</td><td>500270</td><td>Centro-Oeste</td><td>MS</td><td>50</td><td>MATO GROSSO DO SUL</td><td>Campo Grande</td><td>CAMPO GRANDE</td><td>1</td><td>0</td><td>0</td><td class=vellipsis>&hellip;</td><td>84481</td><td>Campo Grande</td><td>4</td><td>50001</td><td>50</td></tr>\n",
       "    <tr><td class='row_index'>14</td><td>261160</td><td>Nordeste</td><td>PE</td><td>26</td><td>PERNAMBUCO</td><td>Recife</td><td>RECIFE</td><td>1</td><td>0</td><td>0</td><td class=vellipsis>&hellip;</td><td>83833</td><td>Recife</td><td>5</td><td>26010</td><td>26</td></tr>\n",
       "    <tr><td class='row_index'>&#x22EE;</td><td class='hellipsis'>&#x22EE;</td><td class='hellipsis'>&#x22EE;</td><td class='hellipsis'>&#x22EE;</td><td class='hellipsis'>&#x22EE;</td><td class='hellipsis'>&#x22EE;</td><td class='hellipsis'>&#x22EE;</td><td class='hellipsis'>&#x22EE;</td><td class='hellipsis'>&#x22EE;</td><td class='hellipsis'>&#x22EE;</td><td class='hellipsis'>&#x22EE;</td><td class='hellipsis'>&#x22F1;</td><td class='hellipsis'>&#x22EE;</td><td class='hellipsis'>&#x22EE;</td><td class='hellipsis'>&#x22EE;</td><td class='hellipsis'>&#x22EE;</td><td class='hellipsis'>&#x22EE;</td></tr>\n",
       "    <tr><td class='row_index'>5564</td><td>520020</td><td>Centro-Oeste</td><td>GO</td><td>52</td><td>GOIAS</td><td>Água Limpa</td><td>AGUA LIMPA</td><td>0</td><td>0</td><td>0</td><td class=vellipsis>&hellip;</td><td>25</td><td>Sul</td><td>3</td><td>52017</td><td>52</td></tr>\n",
       "    <tr><td class='row_index'>5565</td><td>510120</td><td>Centro-Oeste</td><td>MT</td><td>51</td><td>MATO GROSSO</td><td>Araguainha</td><td>ARAGUAINHA</td><td>0</td><td>0</td><td>1</td><td class=vellipsis>&hellip;</td><td>23</td><td>Sul Matogrossense</td><td>2</td><td>51013</td><td>51</td></tr>\n",
       "    <tr><td class='row_index'>5566</td><td>350640</td><td>Sudeste</td><td>SP</td><td>35</td><td>SAO PAULO</td><td>Bilac</td><td>BILAC</td><td>0</td><td>0</td><td>0</td><td class=vellipsis>&hellip;</td><td>18</td><td>Central do DRS II</td><td>5</td><td>35021</td><td>35</td></tr>\n",
       "    <tr><td class='row_index'>5567</td><td>500627</td><td>Centro-Oeste</td><td>MS</td><td>50</td><td>MATO GROSSO DO SUL</td><td>Paraíso das Águas</td><td>PARAISO DAS AGUAS</td><td>0</td><td>0</td><td>0</td><td class=vellipsis>&hellip;</td><td>15</td><td>Campo Grande</td><td>4</td><td>50001</td><td>50</td></tr>\n",
       "    <tr><td class='row_index'>5568</td><td>330513</td><td>Sudeste</td><td>RJ</td><td>33</td><td>RIO DE JANEIRO</td><td>São José de Ubá</td><td>SAO JOSE DE UBA</td><td>0</td><td>0</td><td>0</td><td class=vellipsis>&hellip;</td><td>6</td><td>Noroeste</td><td>3</td><td>33007</td><td>33</td></tr>\n",
       "  </tbody>\n",
       "  </table>\n",
       "  <div class='footer'>\n",
       "    <div class='frame_dimensions'>5569 rows &times; 21 columns</div>\n",
       "  </div>\n",
       "</div>\n"
      ],
      "text/plain": [
       "<Frame#7faed21a0ab0 5569x21>"
      ]
     },
     "execution_count": 11,
     "metadata": {},
     "output_type": "execute_result"
    }
   ],
   "source": [
    "df_mun[:, dt.update(capital = f.capital == 'S')]\n",
    "df_mun[:, dt.update(fronteira = f.fronteira == 'S')]\n",
    "df_mun[:, dt.update(amazonia = f.amazonia == 'S')]\n",
    "df_mun"
   ]
  },
  {
   "cell_type": "markdown",
   "metadata": {},
   "source": [
    "# Exportando tabela"
   ]
  },
  {
   "cell_type": "code",
   "execution_count": 12,
   "metadata": {},
   "outputs": [],
   "source": [
    "output_mun = get_path('GESTANTES', 'municipios.csv.gzip')\n",
    "df_mun.to_csv(output_mun)"
   ]
  },
  {
   "cell_type": "code",
   "execution_count": 13,
   "metadata": {},
   "outputs": [
    {
     "data": {
      "text/html": [
       "<div class='datatable'>\n",
       "  <table class='frame'>\n",
       "  <thead>\n",
       "    <tr class='colnames'><td class='row_index'></td><th>cod_municipio</th><th>regiao</th><th>uf</th><th>cod_uf</th><th>nome_uf</th><th>municipio</th><th>nome_municipio</th><th>capital</th><th>fronteira</th><th>amazonia</th><th class='vellipsis'>&hellip;</th><th>count</th><th>nome_regiao_saude</th><th>socioecon</th><th>regiao_saude</th><th>prefix</th></tr>\n",
       "    <tr class='coltypes'><td class='row_index'></td><td class='int' title='int32'>&#x25AA;&#x25AA;&#x25AA;&#x25AA;</td><td class='str' title='str32'>&#x25AA;&#x25AA;&#x25AA;&#x25AA;</td><td class='str' title='str32'>&#x25AA;&#x25AA;&#x25AA;&#x25AA;</td><td class='int' title='int32'>&#x25AA;&#x25AA;&#x25AA;&#x25AA;</td><td class='str' title='str32'>&#x25AA;&#x25AA;&#x25AA;&#x25AA;</td><td class='str' title='str32'>&#x25AA;&#x25AA;&#x25AA;&#x25AA;</td><td class='str' title='str32'>&#x25AA;&#x25AA;&#x25AA;&#x25AA;</td><td class='bool' title='bool8'>&#x25AA;</td><td class='bool' title='bool8'>&#x25AA;</td><td class='bool' title='bool8'>&#x25AA;</td><td></td><td class='int' title='int32'>&#x25AA;&#x25AA;&#x25AA;&#x25AA;</td><td class='str' title='str32'>&#x25AA;&#x25AA;&#x25AA;&#x25AA;</td><td class='int' title='int32'>&#x25AA;&#x25AA;&#x25AA;&#x25AA;</td><td class='int' title='int32'>&#x25AA;&#x25AA;&#x25AA;&#x25AA;</td><td class='int' title='int32'>&#x25AA;&#x25AA;&#x25AA;&#x25AA;</td></tr>\n",
       "  </thead>\n",
       "  <tbody>\n",
       "    <tr><td class='row_index'>0</td><td>355030</td><td>Sudeste</td><td>SP</td><td>35</td><td>SAO PAULO</td><td>São Paulo</td><td>SAO PAULO</td><td>1</td><td>0</td><td>0</td><td class=vellipsis>&hellip;</td><td>806352</td><td>São Paulo</td><td>5</td><td>35016</td><td>35</td></tr>\n",
       "    <tr><td class='row_index'>1</td><td>330455</td><td>Sudeste</td><td>RJ</td><td>33</td><td>RIO DE JANEIRO</td><td>Rio de Janeiro</td><td>RIO DE JANEIRO</td><td>1</td><td>0</td><td>0</td><td class=vellipsis>&hellip;</td><td>368216</td><td>Metropolitana I</td><td>5</td><td>33005</td><td>33</td></tr>\n",
       "    <tr><td class='row_index'>2</td><td>130260</td><td>Norte</td><td>AM</td><td>13</td><td>AMAZONAS</td><td>Manaus</td><td>MANAUS</td><td>1</td><td>0</td><td>1</td><td class=vellipsis>&hellip;</td><td>297036</td><td>Entorno Manaus e Alto Rio Negro</td><td>4</td><td>13001</td><td>13</td></tr>\n",
       "    <tr><td class='row_index'>3</td><td>230440</td><td>Nordeste</td><td>CE</td><td>23</td><td>CEARA</td><td>Fortaleza</td><td>FORTALEZA</td><td>1</td><td>0</td><td>0</td><td class=vellipsis>&hellip;</td><td>203370</td><td>1ª Região Fortaleza</td><td>5</td><td>23001</td><td>23</td></tr>\n",
       "    <tr><td class='row_index'>4</td><td>292740</td><td>Nordeste</td><td>BA</td><td>29</td><td>BAHIA</td><td>Salvador</td><td>SALVADOR</td><td>1</td><td>0</td><td>0</td><td class=vellipsis>&hellip;</td><td>169924</td><td>Salvador</td><td>5</td><td>29020</td><td>29</td></tr>\n",
       "    <tr><td class='row_index'>5</td><td>150140</td><td>Norte</td><td>PA</td><td>15</td><td>PARA</td><td>Belém</td><td>BELEM</td><td>1</td><td>0</td><td>1</td><td class=vellipsis>&hellip;</td><td>126918</td><td>Metropolitana I</td><td>4</td><td>15006</td><td>15</td></tr>\n",
       "    <tr><td class='row_index'>6</td><td>310620</td><td>Sudeste</td><td>MG</td><td>31</td><td>MINAS GERAIS</td><td>Belo Horizonte</td><td>BELO HORIZONTE</td><td>1</td><td>0</td><td>0</td><td class=vellipsis>&hellip;</td><td>125370</td><td>Belo Horizonte Nova Lima Caeté</td><td>5</td><td>31008</td><td>31</td></tr>\n",
       "    <tr><td class='row_index'>7</td><td>431490</td><td>Sul</td><td>RS</td><td>43</td><td>RIO GRANDE DO SUL</td><td>Porto Alegre</td><td>PORTO ALEGRE</td><td>1</td><td>0</td><td>0</td><td class=vellipsis>&hellip;</td><td>105321</td><td>Região 10 - Capital e Vale do Gravataí</td><td>5</td><td>43010</td><td>43</td></tr>\n",
       "    <tr><td class='row_index'>8</td><td>410690</td><td>Sul</td><td>PR</td><td>41</td><td>PARANA</td><td>Curitiba</td><td>CURITIBA</td><td>1</td><td>0</td><td>0</td><td class=vellipsis>&hellip;</td><td>101337</td><td>2ª RS Metropolitana</td><td>5</td><td>41002</td><td>41</td></tr>\n",
       "    <tr><td class='row_index'>9</td><td>270430</td><td>Nordeste</td><td>AL</td><td>27</td><td>ALAGOAS</td><td>Maceió</td><td>MACEIO</td><td>1</td><td>0</td><td>0</td><td class=vellipsis>&hellip;</td><td>93551</td><td>1ª Região de Saúde</td><td>3</td><td>27001</td><td>27</td></tr>\n",
       "    <tr><td class='row_index'>10</td><td>520870</td><td>Centro-Oeste</td><td>GO</td><td>52</td><td>GOIAS</td><td>Goiânia</td><td>GOIANIA</td><td>1</td><td>0</td><td>0</td><td class=vellipsis>&hellip;</td><td>92068</td><td>Central</td><td>5</td><td>52001</td><td>52</td></tr>\n",
       "    <tr><td class='row_index'>11</td><td>351880</td><td>Sudeste</td><td>SP</td><td>35</td><td>SAO PAULO</td><td>Guarulhos</td><td>GUARULHOS</td><td>0</td><td>0</td><td>0</td><td class=vellipsis>&hellip;</td><td>91617</td><td>Alto do Tietê</td><td>4</td><td>35011</td><td>35</td></tr>\n",
       "    <tr><td class='row_index'>12</td><td>221100</td><td>Nordeste</td><td>PI</td><td>22</td><td>PIAUI</td><td>Teresina</td><td>TERESINA</td><td>1</td><td>0</td><td>0</td><td class=vellipsis>&hellip;</td><td>86245</td><td>Entre Rios</td><td>3</td><td>22004</td><td>22</td></tr>\n",
       "    <tr><td class='row_index'>13</td><td>500270</td><td>Centro-Oeste</td><td>MS</td><td>50</td><td>MATO GROSSO DO SUL</td><td>Campo Grande</td><td>CAMPO GRANDE</td><td>1</td><td>0</td><td>0</td><td class=vellipsis>&hellip;</td><td>84481</td><td>Campo Grande</td><td>4</td><td>50001</td><td>50</td></tr>\n",
       "    <tr><td class='row_index'>14</td><td>261160</td><td>Nordeste</td><td>PE</td><td>26</td><td>PERNAMBUCO</td><td>Recife</td><td>RECIFE</td><td>1</td><td>0</td><td>0</td><td class=vellipsis>&hellip;</td><td>83833</td><td>Recife</td><td>5</td><td>26010</td><td>26</td></tr>\n",
       "    <tr><td class='row_index'>&#x22EE;</td><td class='hellipsis'>&#x22EE;</td><td class='hellipsis'>&#x22EE;</td><td class='hellipsis'>&#x22EE;</td><td class='hellipsis'>&#x22EE;</td><td class='hellipsis'>&#x22EE;</td><td class='hellipsis'>&#x22EE;</td><td class='hellipsis'>&#x22EE;</td><td class='hellipsis'>&#x22EE;</td><td class='hellipsis'>&#x22EE;</td><td class='hellipsis'>&#x22EE;</td><td class='hellipsis'>&#x22F1;</td><td class='hellipsis'>&#x22EE;</td><td class='hellipsis'>&#x22EE;</td><td class='hellipsis'>&#x22EE;</td><td class='hellipsis'>&#x22EE;</td><td class='hellipsis'>&#x22EE;</td></tr>\n",
       "    <tr><td class='row_index'>5564</td><td>520020</td><td>Centro-Oeste</td><td>GO</td><td>52</td><td>GOIAS</td><td>Água Limpa</td><td>AGUA LIMPA</td><td>0</td><td>0</td><td>0</td><td class=vellipsis>&hellip;</td><td>25</td><td>Sul</td><td>3</td><td>52017</td><td>52</td></tr>\n",
       "    <tr><td class='row_index'>5565</td><td>510120</td><td>Centro-Oeste</td><td>MT</td><td>51</td><td>MATO GROSSO</td><td>Araguainha</td><td>ARAGUAINHA</td><td>0</td><td>0</td><td>1</td><td class=vellipsis>&hellip;</td><td>23</td><td>Sul Matogrossense</td><td>2</td><td>51013</td><td>51</td></tr>\n",
       "    <tr><td class='row_index'>5566</td><td>350640</td><td>Sudeste</td><td>SP</td><td>35</td><td>SAO PAULO</td><td>Bilac</td><td>BILAC</td><td>0</td><td>0</td><td>0</td><td class=vellipsis>&hellip;</td><td>18</td><td>Central do DRS II</td><td>5</td><td>35021</td><td>35</td></tr>\n",
       "    <tr><td class='row_index'>5567</td><td>500627</td><td>Centro-Oeste</td><td>MS</td><td>50</td><td>MATO GROSSO DO SUL</td><td>Paraíso das Águas</td><td>PARAISO DAS AGUAS</td><td>0</td><td>0</td><td>0</td><td class=vellipsis>&hellip;</td><td>15</td><td>Campo Grande</td><td>4</td><td>50001</td><td>50</td></tr>\n",
       "    <tr><td class='row_index'>5568</td><td>330513</td><td>Sudeste</td><td>RJ</td><td>33</td><td>RIO DE JANEIRO</td><td>São José de Ubá</td><td>SAO JOSE DE UBA</td><td>0</td><td>0</td><td>0</td><td class=vellipsis>&hellip;</td><td>6</td><td>Noroeste</td><td>3</td><td>33007</td><td>33</td></tr>\n",
       "  </tbody>\n",
       "  </table>\n",
       "  <div class='footer'>\n",
       "    <div class='frame_dimensions'>5569 rows &times; 21 columns</div>\n",
       "  </div>\n",
       "</div>\n"
      ],
      "text/plain": [
       "<Frame#7faed1fc7810 5569x21>"
      ]
     },
     "execution_count": 13,
     "metadata": {},
     "output_type": "execute_result"
    }
   ],
   "source": [
    "dt.fread(output_mun)"
   ]
  },
  {
   "cell_type": "code",
   "execution_count": 14,
   "metadata": {},
   "outputs": [
    {
     "data": {
      "text/plain": [
       "('cod_municipio',\n",
       " 'regiao',\n",
       " 'uf',\n",
       " 'cod_uf',\n",
       " 'nome_uf',\n",
       " 'municipio',\n",
       " 'nome_municipio',\n",
       " 'capital',\n",
       " 'fronteira',\n",
       " 'amazonia',\n",
       " 'macroregiao_saude',\n",
       " 'microregiao_saude',\n",
       " 'latitude',\n",
       " 'longitude',\n",
       " 'altitude',\n",
       " 'area',\n",
       " 'count',\n",
       " 'nome_regiao_saude',\n",
       " 'socioecon',\n",
       " 'regiao_saude',\n",
       " 'prefix')"
      ]
     },
     "execution_count": 14,
     "metadata": {},
     "output_type": "execute_result"
    }
   ],
   "source": [
    "df_mun.names"
   ]
  }
 ],
 "metadata": {
  "kernelspec": {
   "display_name": "Python 3.9.13 ('ds')",
   "language": "python",
   "name": "python3"
  },
  "language_info": {
   "codemirror_mode": {
    "name": "ipython",
    "version": 3
   },
   "file_extension": ".py",
   "mimetype": "text/x-python",
   "name": "python",
   "nbconvert_exporter": "python",
   "pygments_lexer": "ipython3",
   "version": "3.9.13"
  },
  "orig_nbformat": 4,
  "vscode": {
   "interpreter": {
    "hash": "7b36953cec1b75a8b331280ff7f7e2e00c70540f1d612023ca05354bbeabec70"
   }
  }
 },
 "nbformat": 4,
 "nbformat_minor": 2
}
