{
 "cells": [
  {
   "cell_type": "raw",
   "metadata": {},
   "source": [
    "---\n",
    "title: \"Coleta SIH\"\n",
    "---"
   ]
  },
  {
   "cell_type": "code",
   "execution_count": 1,
   "metadata": {},
   "outputs": [
    {
     "data": {
      "text/html": [
       "<style type='text/css'>\n",
       ".datatable table.frame { margin-bottom: 0; }\n",
       ".datatable table.frame thead { border-bottom: none; }\n",
       ".datatable table.frame tr.coltypes td {  color: #FFFFFF;  line-height: 6px;  padding: 0 0.5em;}\n",
       ".datatable .bool    { background: #DDDD99; }\n",
       ".datatable .object  { background: #565656; }\n",
       ".datatable .int     { background: #5D9E5D; }\n",
       ".datatable .float   { background: #4040CC; }\n",
       ".datatable .str     { background: #CC4040; }\n",
       ".datatable .row_index {  background: var(--jp-border-color3);  border-right: 1px solid var(--jp-border-color0);  color: var(--jp-ui-font-color3);  font-size: 9px;}\n",
       ".datatable .frame tr.coltypes .row_index {  background: var(--jp-border-color0);}\n",
       ".datatable th:nth-child(2) { padding-left: 12px; }\n",
       ".datatable .hellipsis {  color: var(--jp-cell-editor-border-color);}\n",
       ".datatable .vellipsis {  background: var(--jp-layout-color0);  color: var(--jp-cell-editor-border-color);}\n",
       ".datatable .na {  color: var(--jp-cell-editor-border-color);  font-size: 80%;}\n",
       ".datatable .footer { font-size: 9px; }\n",
       ".datatable .frame_dimensions {  background: var(--jp-border-color3);  border-top: 1px solid var(--jp-border-color0);  color: var(--jp-ui-font-color3);  display: inline-block;  opacity: 0.6;  padding: 1px 10px 1px 5px;}\n",
       "</style>\n"
      ],
      "text/plain": [
       "<IPython.core.display.HTML object>"
      ]
     },
     "metadata": {},
     "output_type": "display_data"
    }
   ],
   "source": [
    "import os, sys\n",
    "import sqlite3\n",
    "import pandas as pd\n",
    "from tqdm import tqdm\n",
    "from pathlib import Path\n",
    "from zipfile import ZipFile\n",
    "from datatable import dt, f, by"
   ]
  },
  {
   "cell_type": "markdown",
   "metadata": {},
   "source": [
    "# Descrição"
   ]
  },
  {
   "cell_type": "markdown",
   "metadata": {},
   "source": [
    "Dados do Sistema de Informações Hospitalares do SUS (SIHSUS) reunidos pela Plataforma de Ciência de Dados aplicada à Saúde (PCDaS). Os dados foram obtidos junto ao DATASUS (Ministério da Saúde), tratados e enriquecidos seguindo uma metodologia própria de ETL (processo de extração, transformação e carga dos dados) da PCDaS, resultando em um dataset mensal com todos os registros de internações hospitalares contidos no SIHSUS à partir de janeiro de 2008.\n",
    "\n",
    "A atualização dos dados é realizada pelo DATASUS e a PCDaS extrai os registros mensais referentes aos arquivos `RD_UF_ANO_MÊS.dbc` (Reduzidos de AIH) assim que disponibilizados. As colunas com nomes em MAIÚSCULO representam dados originais advindos do DATASUS e colunas com nomes iniciando em minúsculo representam dados resultantes de transformação ou enriquecimento."
   ]
  },
  {
   "cell_type": "markdown",
   "metadata": {},
   "source": [
    "# Funções Auxiliares"
   ]
  },
  {
   "cell_type": "markdown",
   "metadata": {},
   "source": [
    "## Listar arquivos no ZIP"
   ]
  },
  {
   "cell_type": "code",
   "execution_count": 2,
   "metadata": {},
   "outputs": [],
   "source": [
    "def get_zip_namelist(zip_path):\n",
    "  files = ZipFile(zip_path).namelist()\n",
    "  files = [f'{zip_path}/{f}'\n",
    "    for f in files if 'dict' not in f]\n",
    "  return files"
   ]
  },
  {
   "cell_type": "markdown",
   "metadata": {},
   "source": [
    "## Abrir uma tabela"
   ]
  },
  {
   "cell_type": "code",
   "execution_count": 3,
   "metadata": {},
   "outputs": [],
   "source": [
    "def read_table(table_path, columns):\n",
    "  cols_order = list(columns.values())\n",
    "  columns[...] = None\n",
    "  df = dt.fread(table_path, columns=columns)\n",
    "  return df"
   ]
  },
  {
   "cell_type": "markdown",
   "metadata": {},
   "source": [
    "## Carregar tabelas do ZIP"
   ]
  },
  {
   "cell_type": "code",
   "execution_count": 4,
   "metadata": {},
   "outputs": [],
   "source": [
    "def data_load(zip_path, cols, filter_func):\n",
    "  files = get_zip_namelist(zip_path)\n",
    "  dfs = list()\n",
    "  for file_path in tqdm(files):\n",
    "    df = read_table(file_path, cols)\n",
    "    df = filter_func(df, cols)\n",
    "    dfs.append(df)\n",
    "  df = dt.rbind(*dfs)\n",
    "  return df"
   ]
  },
  {
   "cell_type": "markdown",
   "metadata": {},
   "source": [
    "## Agrupar por colunas"
   ]
  },
  {
   "cell_type": "code",
   "execution_count": 5,
   "metadata": {},
   "outputs": [],
   "source": [
    "def group_cols(df_base, cols):\n",
    "  df = df_base[:, cols]\n",
    "  df['count'] = 1\n",
    "  df = df[:, dt.sum(f.count), by(cols)]\n",
    "  return df"
   ]
  },
  {
   "cell_type": "markdown",
   "metadata": {},
   "source": [
    "# Filtragens básicas"
   ]
  },
  {
   "cell_type": "markdown",
   "metadata": {},
   "source": [
    "## Filtro de Colunas"
   ]
  },
  {
   "cell_type": "code",
   "execution_count": 6,
   "metadata": {},
   "outputs": [],
   "source": [
    "cols_sih = {\n",
    "  # Infomações do procedimento:\n",
    "  'ano_internacao': 'ano',\n",
    "  'PROC_REA': 'parto_normal',\n",
    "  'CNES': 'cnes',\n",
    "  # Infomações da gestante:\n",
    "  'def_idade_anos': 'idade',\n",
    "  # Infomações de localidade do hospital de interção:\n",
    "  'int_codigo_adotado': 'hosp_cod_municipio',\n",
    "  'int_RSAUDCOD': 'hosp_regiao_saude',\n",
    "  # Infomações de localidade da residência:\n",
    "  'res_codigo_adotado': 'cod_municipio', # Armazena o código atribuído ao município de residência atualmente, tratando os casos em que múltiplos códigos tenham sido utilizados para um mesmo município ao longo do tempo\n",
    "  'res_REGIAO': 'regiao', # Nome da região da unidade da federação de residência\n",
    "  'res_SIGLA_UF': 'uf', # Sigla da unidade da federação de residência\n",
    "  'res_CODIGO_UF': 'cod_uf', # Código da UF de residência\n",
    "  'res_NOME_UF': 'nome_uf', # Nome da unidade da federação de residência\n",
    "  'res_MUNNOME': 'municipio', # Nome do município de residência\n",
    "  'res_MUNNOMEX': 'nome_municipio', # Nome do município de residência em maiúsculas e sem acentos\n",
    "  'res_CAPITAL': 'capital', # Indica (S/N) se o município de residência é capital de UF\n",
    "  'res_FRONTEIRA': 'fronteira', # Indica (S/N) se o município de residência faz parte da faixa de fronteira (conforme IBGE)\n",
    "  'res_AMAZONIA': 'amazonia', # Indica (S/N) se o município de residência faz parte da Amazônia Legal (conforme IBGE)\n",
    "  'res_MSAUDCOD': 'macroregiao_saude', # Código da Macrorregional de Saúde a que o Município de residência pertence\n",
    "  'res_RSAUDCOD': 'regiao_saude', # Código da Regional de Saúde a que o Município de residência pertence\n",
    "  'def_regiao_res': 'nome_regiao_saude', # Nome da Regional de Saúde a que o Município de residência pertence\n",
    "  'res_CSAUDCOD': 'microregiao_saude', # Código da Microrregional de Saúde a que o Município de residência pertence\n",
    "  'res_LATITUDE': 'latitude', # Latitude do município de residência\n",
    "  'res_LONGITUDE': 'longitude', # Longitude do município de residência\n",
    "  'res_ALTITUDE': 'altitude', # Altitude do município de residência\n",
    "  'res_AREA': 'area', # Área do município de residência\n",
    "}"
   ]
  },
  {
   "cell_type": "markdown",
   "metadata": {},
   "source": [
    "## Filtro de Linhas"
   ]
  },
  {
   "cell_type": "code",
   "execution_count": 7,
   "metadata": {},
   "outputs": [],
   "source": [
    "def filter_sih(df, cols):\n",
    "  cols = list(cols.values())[:-1]\n",
    "  cols = [c for c in cols if c in df.names]\n",
    "  df_filtered = df[\n",
    "    (\n",
    "      (f['ano'] > 2009) & (f['ano'] < 2020)\n",
    "    ) & (\n",
    "      (f['idade'] > 9) & (f['idade'] < 50)\n",
    "    ) & (\n",
    "      (f['parto_normal'] == 310010039) | (f['parto_normal'] == 411010034)\n",
    "    ) & (\n",
    "      (f['cnes'] != None)\n",
    "    ) & (\n",
    "      (f['uf'] != 'DF')\n",
    "    ) & (\n",
    "      (f['regiao_saude'] != None)\n",
    "    ) & (\n",
    "      (f['hosp_regiao_saude'] != None)\n",
    "    ) & (\n",
    "      (f['cod_municipio'] != None)\n",
    "    ), cols]\n",
    "  return df_filtered"
   ]
  },
  {
   "cell_type": "markdown",
   "metadata": {},
   "source": [
    "# Carregar dados"
   ]
  },
  {
   "cell_type": "code",
   "execution_count": 8,
   "metadata": {},
   "outputs": [
    {
     "data": {
      "text/html": [
       "<div class='datatable'>\n",
       "  <table class='frame'>\n",
       "  <thead>\n",
       "    <tr class='colnames'><td class='row_index'></td><th>ano</th><th>parto_normal</th><th>cnes</th><th>idade</th><th>hosp_cod_municipio</th><th>hosp_regiao_saude</th><th>cod_municipio</th><th>regiao</th><th>uf</th><th>cod_uf</th><th class='vellipsis'>&hellip;</th><th>microregiao_saude</th><th>latitude</th><th>longitude</th><th>altitude</th><th>area</th></tr>\n",
       "    <tr class='coltypes'><td class='row_index'></td><td class='int' title='int32'>&#x25AA;&#x25AA;&#x25AA;&#x25AA;</td><td class='int' title='int32'>&#x25AA;&#x25AA;&#x25AA;&#x25AA;</td><td class='int' title='int32'>&#x25AA;&#x25AA;&#x25AA;&#x25AA;</td><td class='int' title='int32'>&#x25AA;&#x25AA;&#x25AA;&#x25AA;</td><td class='int' title='int32'>&#x25AA;&#x25AA;&#x25AA;&#x25AA;</td><td class='int' title='int32'>&#x25AA;&#x25AA;&#x25AA;&#x25AA;</td><td class='int' title='int32'>&#x25AA;&#x25AA;&#x25AA;&#x25AA;</td><td class='str' title='str32'>&#x25AA;&#x25AA;&#x25AA;&#x25AA;</td><td class='str' title='str32'>&#x25AA;&#x25AA;&#x25AA;&#x25AA;</td><td class='int' title='int32'>&#x25AA;&#x25AA;&#x25AA;&#x25AA;</td><td></td><td class='int' title='int32'>&#x25AA;&#x25AA;&#x25AA;&#x25AA;</td><td class='float' title='float64'>&#x25AA;&#x25AA;&#x25AA;&#x25AA;&#x25AA;&#x25AA;&#x25AA;&#x25AA;</td><td class='float' title='float64'>&#x25AA;&#x25AA;&#x25AA;&#x25AA;&#x25AA;&#x25AA;&#x25AA;&#x25AA;</td><td class='float' title='float64'>&#x25AA;&#x25AA;&#x25AA;&#x25AA;&#x25AA;&#x25AA;&#x25AA;&#x25AA;</td><td class='float' title='float64'>&#x25AA;&#x25AA;&#x25AA;&#x25AA;&#x25AA;&#x25AA;&#x25AA;&#x25AA;</td></tr>\n",
       "  </thead>\n",
       "  <tbody>\n",
       "    <tr><td class='row_index'>0</td><td>2010</td><td>310010039</td><td>2001020</td><td>23</td><td>120005</td><td>1202</td><td>120005</td><td>Norte</td><td>AC</td><td>12</td><td class=vellipsis>&hellip;</td><td>12900</td><td>&minus;10.941</td><td>&minus;69.567</td><td>239</td><td>2875.91</td></tr>\n",
       "    <tr><td class='row_index'>1</td><td>2010</td><td>310010039</td><td>2000733</td><td>28</td><td>120040</td><td>1201</td><td>120040</td><td>Norte</td><td>AC</td><td>12</td><td class=vellipsis>&hellip;</td><td>12900</td><td>&minus;9.975</td><td>&minus;67.81</td><td>153</td><td>9222.58</td></tr>\n",
       "    <tr><td class='row_index'>2</td><td>2010</td><td>310010039</td><td>2000733</td><td>38</td><td>120040</td><td>1201</td><td>120040</td><td>Norte</td><td>AC</td><td>12</td><td class=vellipsis>&hellip;</td><td>12900</td><td>&minus;9.975</td><td>&minus;67.81</td><td>153</td><td>9222.58</td></tr>\n",
       "    <tr><td class='row_index'>3</td><td>2010</td><td>310010039</td><td>2000733</td><td>16</td><td>120040</td><td>1201</td><td>120040</td><td>Norte</td><td>AC</td><td>12</td><td class=vellipsis>&hellip;</td><td>12900</td><td>&minus;9.975</td><td>&minus;67.81</td><td>153</td><td>9222.58</td></tr>\n",
       "    <tr><td class='row_index'>4</td><td>2010</td><td>310010039</td><td>2000733</td><td>26</td><td>120040</td><td>1201</td><td>120040</td><td>Norte</td><td>AC</td><td>12</td><td class=vellipsis>&hellip;</td><td>12900</td><td>&minus;9.975</td><td>&minus;67.81</td><td>153</td><td>9222.58</td></tr>\n",
       "    <tr><td class='row_index'>5</td><td>2010</td><td>310010039</td><td>2000733</td><td>26</td><td>120040</td><td>1201</td><td>120040</td><td>Norte</td><td>AC</td><td>12</td><td class=vellipsis>&hellip;</td><td>12900</td><td>&minus;9.975</td><td>&minus;67.81</td><td>153</td><td>9222.58</td></tr>\n",
       "    <tr><td class='row_index'>6</td><td>2010</td><td>310010039</td><td>2000733</td><td>27</td><td>120040</td><td>1201</td><td>120040</td><td>Norte</td><td>AC</td><td>12</td><td class=vellipsis>&hellip;</td><td>12900</td><td>&minus;9.975</td><td>&minus;67.81</td><td>153</td><td>9222.58</td></tr>\n",
       "    <tr><td class='row_index'>7</td><td>2010</td><td>310010039</td><td>2001020</td><td>31</td><td>120005</td><td>1202</td><td>120005</td><td>Norte</td><td>AC</td><td>12</td><td class=vellipsis>&hellip;</td><td>12900</td><td>&minus;10.941</td><td>&minus;69.567</td><td>239</td><td>2875.91</td></tr>\n",
       "    <tr><td class='row_index'>8</td><td>2010</td><td>310010039</td><td>2000733</td><td>30</td><td>120040</td><td>1201</td><td>120040</td><td>Norte</td><td>AC</td><td>12</td><td class=vellipsis>&hellip;</td><td>12900</td><td>&minus;9.975</td><td>&minus;67.81</td><td>153</td><td>9222.58</td></tr>\n",
       "    <tr><td class='row_index'>9</td><td>2010</td><td>310010039</td><td>2000733</td><td>18</td><td>120040</td><td>1201</td><td>120040</td><td>Norte</td><td>AC</td><td>12</td><td class=vellipsis>&hellip;</td><td>12900</td><td>&minus;9.975</td><td>&minus;67.81</td><td>153</td><td>9222.58</td></tr>\n",
       "    <tr><td class='row_index'>10</td><td>2010</td><td>310010039</td><td>2001020</td><td>28</td><td>120005</td><td>1202</td><td>120005</td><td>Norte</td><td>AC</td><td>12</td><td class=vellipsis>&hellip;</td><td>12900</td><td>&minus;10.941</td><td>&minus;69.567</td><td>239</td><td>2875.91</td></tr>\n",
       "    <tr><td class='row_index'>11</td><td>2010</td><td>310010039</td><td>2000733</td><td>32</td><td>120040</td><td>1201</td><td>120038</td><td>Norte</td><td>AC</td><td>12</td><td class=vellipsis>&hellip;</td><td>12900</td><td>&minus;10.276</td><td>&minus;67.15</td><td>136</td><td>2047.45</td></tr>\n",
       "    <tr><td class='row_index'>12</td><td>2010</td><td>310010039</td><td>2000733</td><td>30</td><td>120040</td><td>1201</td><td>120040</td><td>Norte</td><td>AC</td><td>12</td><td class=vellipsis>&hellip;</td><td>12900</td><td>&minus;9.975</td><td>&minus;67.81</td><td>153</td><td>9222.58</td></tr>\n",
       "    <tr><td class='row_index'>13</td><td>2010</td><td>310010039</td><td>2000733</td><td>26</td><td>120040</td><td>1201</td><td>120001</td><td>Norte</td><td>AC</td><td>12</td><td class=vellipsis>&hellip;</td><td>12900</td><td>&minus;9.828</td><td>&minus;66.883</td><td>25</td><td>1574.55</td></tr>\n",
       "    <tr><td class='row_index'>14</td><td>2010</td><td>310010039</td><td>2000733</td><td>26</td><td>120040</td><td>1201</td><td>120040</td><td>Norte</td><td>AC</td><td>12</td><td class=vellipsis>&hellip;</td><td>12900</td><td>&minus;9.975</td><td>&minus;67.81</td><td>153</td><td>9222.58</td></tr>\n",
       "    <tr><td class='row_index'>&#x22EE;</td><td class='hellipsis'>&#x22EE;</td><td class='hellipsis'>&#x22EE;</td><td class='hellipsis'>&#x22EE;</td><td class='hellipsis'>&#x22EE;</td><td class='hellipsis'>&#x22EE;</td><td class='hellipsis'>&#x22EE;</td><td class='hellipsis'>&#x22EE;</td><td class='hellipsis'>&#x22EE;</td><td class='hellipsis'>&#x22EE;</td><td class='hellipsis'>&#x22EE;</td><td class='hellipsis'>&#x22F1;</td><td class='hellipsis'>&#x22EE;</td><td class='hellipsis'>&#x22EE;</td><td class='hellipsis'>&#x22EE;</td><td class='hellipsis'>&#x22EE;</td><td class='hellipsis'>&#x22EE;</td></tr>\n",
       "    <tr><td class='row_index'>16,816,986</td><td>2019</td><td>411010034</td><td>2765640</td><td>24</td><td>170930</td><td>1704</td><td>171840</td><td>Norte</td><td>TO</td><td>17</td><td class=vellipsis>&hellip;</td><td>17900</td><td>&minus;8.539</td><td>&minus;48.506</td><td>247</td><td>770.418</td></tr>\n",
       "    <tr><td class='row_index'>16,816,987</td><td>2019</td><td>411010034</td><td>2765640</td><td>27</td><td>170930</td><td>1704</td><td>171670</td><td>Norte</td><td>TO</td><td>17</td><td class=vellipsis>&hellip;</td><td>17900</td><td>&minus;8.729</td><td>&minus;48.765</td><td>362</td><td>990.712</td></tr>\n",
       "    <tr><td class='row_index'>16,816,988</td><td>2019</td><td>411010034</td><td>2765640</td><td>22</td><td>170930</td><td>1704</td><td>171670</td><td>Norte</td><td>TO</td><td>17</td><td class=vellipsis>&hellip;</td><td>17900</td><td>&minus;8.729</td><td>&minus;48.765</td><td>362</td><td>990.712</td></tr>\n",
       "    <tr><td class='row_index'>16,816,989</td><td>2019</td><td>411010034</td><td>2765640</td><td>25</td><td>170930</td><td>1704</td><td>170930</td><td>Norte</td><td>TO</td><td>17</td><td class=vellipsis>&hellip;</td><td>17900</td><td>&minus;8.834</td><td>&minus;48.51</td><td>259</td><td>2268.15</td></tr>\n",
       "    <tr><td class='row_index'>16,816,990</td><td>2019</td><td>411010034</td><td>2755149</td><td>21</td><td>171610</td><td>1708</td><td>171250</td><td>Norte</td><td>TO</td><td>17</td><td class=vellipsis>&hellip;</td><td>17900</td><td>&minus;9.796</td><td>&minus;49.654</td><td>146</td><td>2091.36</td></tr>\n",
       "  </tbody>\n",
       "  </table>\n",
       "  <div class='footer'>\n",
       "    <div class='frame_dimensions'>16,816,991 rows &times; 24 columns</div>\n",
       "  </div>\n",
       "</div>\n"
      ],
      "text/plain": [
       "<Frame#7f7d5118c930 16816991x24>"
      ]
     },
     "execution_count": 8,
     "metadata": {},
     "output_type": "execute_result"
    }
   ],
   "source": [
    "path_zip_sih = '/Volumes/SanDisk/Databases/SIH/SIHSUS.zip'\n",
    "output_sih = path_zip_sih.replace('zip', 'jay')\n",
    "# df_sih = data_load(path_zip_sih, cols_sih, filter_sih)\n",
    "# df_sih.to_jay(output_sih) # to_jay | to_csv\n",
    "df_sih = dt.fread(output_sih)\n",
    "df_sih"
   ]
  },
  {
   "cell_type": "markdown",
   "metadata": {},
   "source": [
    "100%|██████████| 4400/4400 [24:04<00:00,  3.05it/s]\n",
    "\n",
    "Total: 28m 1.3s"
   ]
  },
  {
   "cell_type": "markdown",
   "metadata": {},
   "source": [
    "# Selecionar"
   ]
  },
  {
   "cell_type": "markdown",
   "metadata": {},
   "source": [
    "## Municípios"
   ]
  },
  {
   "cell_type": "markdown",
   "metadata": {},
   "source": [
    "### Colunas da tabela"
   ]
  },
  {
   "cell_type": "code",
   "execution_count": 9,
   "metadata": {},
   "outputs": [
    {
     "data": {
      "text/plain": [
       "('cod_municipio',\n",
       " 'regiao',\n",
       " 'uf',\n",
       " 'cod_uf',\n",
       " 'nome_uf',\n",
       " 'municipio',\n",
       " 'nome_municipio',\n",
       " 'capital',\n",
       " 'fronteira',\n",
       " 'amazonia',\n",
       " 'macroregiao_saude',\n",
       " 'regiao_saude',\n",
       " 'nome_regiao_saude',\n",
       " 'microregiao_saude',\n",
       " 'latitude',\n",
       " 'longitude',\n",
       " 'altitude',\n",
       " 'area')"
      ]
     },
     "execution_count": 9,
     "metadata": {},
     "output_type": "execute_result"
    }
   ],
   "source": [
    "cols_mun = df_sih.names[6:]\n",
    "cols_mun"
   ]
  },
  {
   "cell_type": "markdown",
   "metadata": {},
   "source": [
    "### Tabela resutante"
   ]
  },
  {
   "cell_type": "code",
   "execution_count": 10,
   "metadata": {},
   "outputs": [
    {
     "data": {
      "text/html": [
       "<div class='datatable'>\n",
       "  <table class='frame'>\n",
       "  <thead>\n",
       "    <tr class='colnames'><td class='row_index'></td><th>cod_municipio</th><th>regiao</th><th>uf</th><th>cod_uf</th><th>nome_uf</th><th>municipio</th><th>nome_municipio</th><th>capital</th><th>fronteira</th><th>amazonia</th><th class='vellipsis'>&hellip;</th><th>latitude</th><th>longitude</th><th>altitude</th><th>area</th><th>count</th></tr>\n",
       "    <tr class='coltypes'><td class='row_index'></td><td class='int' title='int32'>&#x25AA;&#x25AA;&#x25AA;&#x25AA;</td><td class='str' title='str32'>&#x25AA;&#x25AA;&#x25AA;&#x25AA;</td><td class='str' title='str32'>&#x25AA;&#x25AA;&#x25AA;&#x25AA;</td><td class='int' title='int32'>&#x25AA;&#x25AA;&#x25AA;&#x25AA;</td><td class='str' title='str32'>&#x25AA;&#x25AA;&#x25AA;&#x25AA;</td><td class='str' title='str32'>&#x25AA;&#x25AA;&#x25AA;&#x25AA;</td><td class='str' title='str32'>&#x25AA;&#x25AA;&#x25AA;&#x25AA;</td><td class='str' title='str32'>&#x25AA;&#x25AA;&#x25AA;&#x25AA;</td><td class='str' title='str32'>&#x25AA;&#x25AA;&#x25AA;&#x25AA;</td><td class='str' title='str32'>&#x25AA;&#x25AA;&#x25AA;&#x25AA;</td><td></td><td class='float' title='float64'>&#x25AA;&#x25AA;&#x25AA;&#x25AA;&#x25AA;&#x25AA;&#x25AA;&#x25AA;</td><td class='float' title='float64'>&#x25AA;&#x25AA;&#x25AA;&#x25AA;&#x25AA;&#x25AA;&#x25AA;&#x25AA;</td><td class='float' title='float64'>&#x25AA;&#x25AA;&#x25AA;&#x25AA;&#x25AA;&#x25AA;&#x25AA;&#x25AA;</td><td class='float' title='float64'>&#x25AA;&#x25AA;&#x25AA;&#x25AA;&#x25AA;&#x25AA;&#x25AA;&#x25AA;</td><td class='int' title='int64'>&#x25AA;&#x25AA;&#x25AA;&#x25AA;&#x25AA;&#x25AA;&#x25AA;&#x25AA;</td></tr>\n",
       "  </thead>\n",
       "  <tbody>\n",
       "    <tr><td class='row_index'>0</td><td>355030</td><td>Sudeste</td><td>SP</td><td>35</td><td>SAO PAULO</td><td>São Paulo</td><td>SAO PAULO</td><td>S</td><td>N</td><td>N</td><td class=vellipsis>&hellip;</td><td>&minus;23.548</td><td>&minus;46.636</td><td>760</td><td>1522.99</td><td>806352</td></tr>\n",
       "    <tr><td class='row_index'>1</td><td>330455</td><td>Sudeste</td><td>RJ</td><td>33</td><td>RIO DE JANEIRO</td><td>Rio de Janeiro</td><td>RIO DE JANEIRO</td><td>S</td><td>N</td><td>N</td><td class=vellipsis>&hellip;</td><td>&minus;22.903</td><td>&minus;43.208</td><td>2</td><td>1182.3</td><td>368216</td></tr>\n",
       "    <tr><td class='row_index'>2</td><td>130260</td><td>Norte</td><td>AM</td><td>13</td><td>AMAZONAS</td><td>Manaus</td><td>MANAUS</td><td>S</td><td>N</td><td>S</td><td class=vellipsis>&hellip;</td><td>&minus;3.102</td><td>&minus;60.025</td><td>92</td><td>11401.1</td><td>297036</td></tr>\n",
       "    <tr><td class='row_index'>3</td><td>230440</td><td>Nordeste</td><td>CE</td><td>23</td><td>CEARA</td><td>Fortaleza</td><td>FORTALEZA</td><td>S</td><td>N</td><td>N</td><td class=vellipsis>&hellip;</td><td>&minus;3.717</td><td>&minus;38.543</td><td>21</td><td>313.14</td><td>203370</td></tr>\n",
       "    <tr><td class='row_index'>4</td><td>292740</td><td>Nordeste</td><td>BA</td><td>29</td><td>BAHIA</td><td>Salvador</td><td>SALVADOR</td><td>S</td><td>N</td><td>N</td><td class=vellipsis>&hellip;</td><td>&minus;12.971</td><td>&minus;38.511</td><td>8</td><td>706.799</td><td>169924</td></tr>\n",
       "    <tr><td class='row_index'>5</td><td>150140</td><td>Norte</td><td>PA</td><td>15</td><td>PARA</td><td>Belém</td><td>BELEM</td><td>S</td><td>N</td><td>S</td><td class=vellipsis>&hellip;</td><td>&minus;1.456</td><td>&minus;48.504</td><td>10</td><td>1064.92</td><td>126918</td></tr>\n",
       "    <tr><td class='row_index'>6</td><td>310620</td><td>Sudeste</td><td>MG</td><td>31</td><td>MINAS GERAIS</td><td>Belo Horizonte</td><td>BELO HORIZONTE</td><td>S</td><td>N</td><td>N</td><td class=vellipsis>&hellip;</td><td>&minus;19.817</td><td>&minus;43.956</td><td>858</td><td>330.954</td><td>125370</td></tr>\n",
       "    <tr><td class='row_index'>7</td><td>431490</td><td>Sul</td><td>RS</td><td>43</td><td>RIO GRANDE DO SUL</td><td>Porto Alegre</td><td>PORTO ALEGRE</td><td>S</td><td>N</td><td>N</td><td class=vellipsis>&hellip;</td><td>&minus;30.033</td><td>&minus;51.23</td><td>3</td><td>496.827</td><td>105321</td></tr>\n",
       "    <tr><td class='row_index'>8</td><td>410690</td><td>Sul</td><td>PR</td><td>41</td><td>PARANA</td><td>Curitiba</td><td>CURITIBA</td><td>S</td><td>N</td><td>N</td><td class=vellipsis>&hellip;</td><td>&minus;25.428</td><td>&minus;49.273</td><td>934</td><td>434.967</td><td>101337</td></tr>\n",
       "    <tr><td class='row_index'>9</td><td>270430</td><td>Nordeste</td><td>AL</td><td>27</td><td>ALAGOAS</td><td>Maceió</td><td>MACEIO</td><td>S</td><td>N</td><td>N</td><td class=vellipsis>&hellip;</td><td>&minus;9.666</td><td>&minus;35.735</td><td>16</td><td>510.655</td><td>93551</td></tr>\n",
       "    <tr><td class='row_index'>10</td><td>520870</td><td>Centro-Oeste</td><td>GO</td><td>52</td><td>GOIAS</td><td>Goiânia</td><td>GOIANIA</td><td>S</td><td>N</td><td>N</td><td class=vellipsis>&hellip;</td><td>&minus;16.679</td><td>&minus;49.254</td><td>749</td><td>739.492</td><td>92068</td></tr>\n",
       "    <tr><td class='row_index'>11</td><td>351880</td><td>Sudeste</td><td>SP</td><td>35</td><td>SAO PAULO</td><td>Guarulhos</td><td>GUARULHOS</td><td>N</td><td>N</td><td>N</td><td class=vellipsis>&hellip;</td><td>&minus;23.463</td><td>&minus;46.533</td><td>759</td><td>318.014</td><td>91617</td></tr>\n",
       "    <tr><td class='row_index'>12</td><td>221100</td><td>Nordeste</td><td>PI</td><td>22</td><td>PIAUI</td><td>Teresina</td><td>TERESINA</td><td>S</td><td>N</td><td>N</td><td class=vellipsis>&hellip;</td><td>&minus;5.089</td><td>&minus;42.802</td><td>72</td><td>1755.7</td><td>86245</td></tr>\n",
       "    <tr><td class='row_index'>13</td><td>500270</td><td>Centro-Oeste</td><td>MS</td><td>50</td><td>MATO GROSSO DO SUL</td><td>Campo Grande</td><td>CAMPO GRANDE</td><td>S</td><td>N</td><td>N</td><td class=vellipsis>&hellip;</td><td>&minus;20.443</td><td>&minus;54.646</td><td>532</td><td>8096.05</td><td>84481</td></tr>\n",
       "    <tr><td class='row_index'>14</td><td>261160</td><td>Nordeste</td><td>PE</td><td>26</td><td>PERNAMBUCO</td><td>Recife</td><td>RECIFE</td><td>S</td><td>N</td><td>N</td><td class=vellipsis>&hellip;</td><td>&minus;8.054</td><td>&minus;34.881</td><td>4</td><td>217.494</td><td>83833</td></tr>\n",
       "    <tr><td class='row_index'>&#x22EE;</td><td class='hellipsis'>&#x22EE;</td><td class='hellipsis'>&#x22EE;</td><td class='hellipsis'>&#x22EE;</td><td class='hellipsis'>&#x22EE;</td><td class='hellipsis'>&#x22EE;</td><td class='hellipsis'>&#x22EE;</td><td class='hellipsis'>&#x22EE;</td><td class='hellipsis'>&#x22EE;</td><td class='hellipsis'>&#x22EE;</td><td class='hellipsis'>&#x22EE;</td><td class='hellipsis'>&#x22F1;</td><td class='hellipsis'>&#x22EE;</td><td class='hellipsis'>&#x22EE;</td><td class='hellipsis'>&#x22EE;</td><td class='hellipsis'>&#x22EE;</td><td class='hellipsis'>&#x22EE;</td></tr>\n",
       "    <tr><td class='row_index'>5564</td><td>520020</td><td>Centro-Oeste</td><td>GO</td><td>52</td><td>GOIAS</td><td>Água Limpa</td><td>AGUA LIMPA</td><td>N</td><td>N</td><td>N</td><td class=vellipsis>&hellip;</td><td>&minus;18.074</td><td>&minus;48.762</td><td>682</td><td>452.856</td><td>25</td></tr>\n",
       "    <tr><td class='row_index'>5565</td><td>510120</td><td>Centro-Oeste</td><td>MT</td><td>51</td><td>MATO GROSSO</td><td>Araguainha</td><td>ARAGUAINHA</td><td>N</td><td>N</td><td>S</td><td class=vellipsis>&hellip;</td><td>&minus;16.856</td><td>&minus;53.033</td><td>462</td><td>688.676</td><td>23</td></tr>\n",
       "    <tr><td class='row_index'>5566</td><td>350640</td><td>Sudeste</td><td>SP</td><td>35</td><td>SAO PAULO</td><td>Bilac</td><td>BILAC</td><td>N</td><td>N</td><td>N</td><td class=vellipsis>&hellip;</td><td>&minus;21.403</td><td>&minus;50.471</td><td>431</td><td>157.278</td><td>18</td></tr>\n",
       "    <tr><td class='row_index'>5567</td><td>500627</td><td>Centro-Oeste</td><td>MS</td><td>50</td><td>MATO GROSSO DO SUL</td><td>Paraíso das Águas</td><td>PARAISO DAS AGUAS</td><td>N</td><td>N</td><td>N</td><td class=vellipsis>&hellip;</td><td>&minus;19.0216</td><td>&minus;53.0116</td><td>0</td><td>5032.47</td><td>15</td></tr>\n",
       "    <tr><td class='row_index'>5568</td><td>330513</td><td>Sudeste</td><td>RJ</td><td>33</td><td>RIO DE JANEIRO</td><td>São José de Ubá</td><td>SAO JOSE DE UBA</td><td>N</td><td>N</td><td>N</td><td class=vellipsis>&hellip;</td><td>&minus;21.358</td><td>&minus;41.943</td><td>95</td><td>250.596</td><td>6</td></tr>\n",
       "  </tbody>\n",
       "  </table>\n",
       "  <div class='footer'>\n",
       "    <div class='frame_dimensions'>5569 rows &times; 19 columns</div>\n",
       "  </div>\n",
       "</div>\n"
      ],
      "text/plain": [
       "<Frame#7f7d5118cf90 5569x19>"
      ]
     },
     "execution_count": 10,
     "metadata": {},
     "output_type": "execute_result"
    }
   ],
   "source": [
    "df_mun = group_cols(df_sih, cols_mun)\n",
    "df_mun = df_mun.sort(-f.count)\n",
    "df_mun"
   ]
  },
  {
   "cell_type": "markdown",
   "metadata": {},
   "source": [
    "### Exportando tabela"
   ]
  },
  {
   "cell_type": "code",
   "execution_count": 11,
   "metadata": {},
   "outputs": [],
   "source": [
    "output_mun = f'{Path.home()}/Databases/GESTANTES/municipios.csv.gzip'\n",
    "df_mun.to_csv(output_mun)"
   ]
  },
  {
   "cell_type": "code",
   "execution_count": 12,
   "metadata": {},
   "outputs": [
    {
     "data": {
      "text/html": [
       "<div class='datatable'>\n",
       "  <table class='frame'>\n",
       "  <thead>\n",
       "    <tr class='colnames'><td class='row_index'></td><th>cod_municipio</th><th>regiao</th><th>uf</th><th>cod_uf</th><th>nome_uf</th><th>municipio</th><th>nome_municipio</th><th>capital</th><th>fronteira</th><th>amazonia</th><th class='vellipsis'>&hellip;</th><th>latitude</th><th>longitude</th><th>altitude</th><th>area</th><th>count</th></tr>\n",
       "    <tr class='coltypes'><td class='row_index'></td><td class='int' title='int32'>&#x25AA;&#x25AA;&#x25AA;&#x25AA;</td><td class='str' title='str32'>&#x25AA;&#x25AA;&#x25AA;&#x25AA;</td><td class='str' title='str32'>&#x25AA;&#x25AA;&#x25AA;&#x25AA;</td><td class='int' title='int32'>&#x25AA;&#x25AA;&#x25AA;&#x25AA;</td><td class='str' title='str32'>&#x25AA;&#x25AA;&#x25AA;&#x25AA;</td><td class='str' title='str32'>&#x25AA;&#x25AA;&#x25AA;&#x25AA;</td><td class='str' title='str32'>&#x25AA;&#x25AA;&#x25AA;&#x25AA;</td><td class='str' title='str32'>&#x25AA;&#x25AA;&#x25AA;&#x25AA;</td><td class='str' title='str32'>&#x25AA;&#x25AA;&#x25AA;&#x25AA;</td><td class='str' title='str32'>&#x25AA;&#x25AA;&#x25AA;&#x25AA;</td><td></td><td class='float' title='float64'>&#x25AA;&#x25AA;&#x25AA;&#x25AA;&#x25AA;&#x25AA;&#x25AA;&#x25AA;</td><td class='float' title='float64'>&#x25AA;&#x25AA;&#x25AA;&#x25AA;&#x25AA;&#x25AA;&#x25AA;&#x25AA;</td><td class='float' title='float64'>&#x25AA;&#x25AA;&#x25AA;&#x25AA;&#x25AA;&#x25AA;&#x25AA;&#x25AA;</td><td class='float' title='float64'>&#x25AA;&#x25AA;&#x25AA;&#x25AA;&#x25AA;&#x25AA;&#x25AA;&#x25AA;</td><td class='int' title='int32'>&#x25AA;&#x25AA;&#x25AA;&#x25AA;</td></tr>\n",
       "  </thead>\n",
       "  <tbody>\n",
       "    <tr><td class='row_index'>0</td><td>355030</td><td>Sudeste</td><td>SP</td><td>35</td><td>SAO PAULO</td><td>São Paulo</td><td>SAO PAULO</td><td>S</td><td>N</td><td>N</td><td class=vellipsis>&hellip;</td><td>&minus;23.548</td><td>&minus;46.636</td><td>760</td><td>1522.99</td><td>806352</td></tr>\n",
       "    <tr><td class='row_index'>1</td><td>330455</td><td>Sudeste</td><td>RJ</td><td>33</td><td>RIO DE JANEIRO</td><td>Rio de Janeiro</td><td>RIO DE JANEIRO</td><td>S</td><td>N</td><td>N</td><td class=vellipsis>&hellip;</td><td>&minus;22.903</td><td>&minus;43.208</td><td>2</td><td>1182.3</td><td>368216</td></tr>\n",
       "    <tr><td class='row_index'>2</td><td>130260</td><td>Norte</td><td>AM</td><td>13</td><td>AMAZONAS</td><td>Manaus</td><td>MANAUS</td><td>S</td><td>N</td><td>S</td><td class=vellipsis>&hellip;</td><td>&minus;3.102</td><td>&minus;60.025</td><td>92</td><td>11401.1</td><td>297036</td></tr>\n",
       "    <tr><td class='row_index'>3</td><td>230440</td><td>Nordeste</td><td>CE</td><td>23</td><td>CEARA</td><td>Fortaleza</td><td>FORTALEZA</td><td>S</td><td>N</td><td>N</td><td class=vellipsis>&hellip;</td><td>&minus;3.717</td><td>&minus;38.543</td><td>21</td><td>313.14</td><td>203370</td></tr>\n",
       "    <tr><td class='row_index'>4</td><td>292740</td><td>Nordeste</td><td>BA</td><td>29</td><td>BAHIA</td><td>Salvador</td><td>SALVADOR</td><td>S</td><td>N</td><td>N</td><td class=vellipsis>&hellip;</td><td>&minus;12.971</td><td>&minus;38.511</td><td>8</td><td>706.799</td><td>169924</td></tr>\n",
       "    <tr><td class='row_index'>5</td><td>150140</td><td>Norte</td><td>PA</td><td>15</td><td>PARA</td><td>Belém</td><td>BELEM</td><td>S</td><td>N</td><td>S</td><td class=vellipsis>&hellip;</td><td>&minus;1.456</td><td>&minus;48.504</td><td>10</td><td>1064.92</td><td>126918</td></tr>\n",
       "    <tr><td class='row_index'>6</td><td>310620</td><td>Sudeste</td><td>MG</td><td>31</td><td>MINAS GERAIS</td><td>Belo Horizonte</td><td>BELO HORIZONTE</td><td>S</td><td>N</td><td>N</td><td class=vellipsis>&hellip;</td><td>&minus;19.817</td><td>&minus;43.956</td><td>858</td><td>330.954</td><td>125370</td></tr>\n",
       "    <tr><td class='row_index'>7</td><td>431490</td><td>Sul</td><td>RS</td><td>43</td><td>RIO GRANDE DO SUL</td><td>Porto Alegre</td><td>PORTO ALEGRE</td><td>S</td><td>N</td><td>N</td><td class=vellipsis>&hellip;</td><td>&minus;30.033</td><td>&minus;51.23</td><td>3</td><td>496.827</td><td>105321</td></tr>\n",
       "    <tr><td class='row_index'>8</td><td>410690</td><td>Sul</td><td>PR</td><td>41</td><td>PARANA</td><td>Curitiba</td><td>CURITIBA</td><td>S</td><td>N</td><td>N</td><td class=vellipsis>&hellip;</td><td>&minus;25.428</td><td>&minus;49.273</td><td>934</td><td>434.967</td><td>101337</td></tr>\n",
       "    <tr><td class='row_index'>9</td><td>270430</td><td>Nordeste</td><td>AL</td><td>27</td><td>ALAGOAS</td><td>Maceió</td><td>MACEIO</td><td>S</td><td>N</td><td>N</td><td class=vellipsis>&hellip;</td><td>&minus;9.666</td><td>&minus;35.735</td><td>16</td><td>510.655</td><td>93551</td></tr>\n",
       "    <tr><td class='row_index'>10</td><td>520870</td><td>Centro-Oeste</td><td>GO</td><td>52</td><td>GOIAS</td><td>Goiânia</td><td>GOIANIA</td><td>S</td><td>N</td><td>N</td><td class=vellipsis>&hellip;</td><td>&minus;16.679</td><td>&minus;49.254</td><td>749</td><td>739.492</td><td>92068</td></tr>\n",
       "    <tr><td class='row_index'>11</td><td>351880</td><td>Sudeste</td><td>SP</td><td>35</td><td>SAO PAULO</td><td>Guarulhos</td><td>GUARULHOS</td><td>N</td><td>N</td><td>N</td><td class=vellipsis>&hellip;</td><td>&minus;23.463</td><td>&minus;46.533</td><td>759</td><td>318.014</td><td>91617</td></tr>\n",
       "    <tr><td class='row_index'>12</td><td>221100</td><td>Nordeste</td><td>PI</td><td>22</td><td>PIAUI</td><td>Teresina</td><td>TERESINA</td><td>S</td><td>N</td><td>N</td><td class=vellipsis>&hellip;</td><td>&minus;5.089</td><td>&minus;42.802</td><td>72</td><td>1755.7</td><td>86245</td></tr>\n",
       "    <tr><td class='row_index'>13</td><td>500270</td><td>Centro-Oeste</td><td>MS</td><td>50</td><td>MATO GROSSO DO SUL</td><td>Campo Grande</td><td>CAMPO GRANDE</td><td>S</td><td>N</td><td>N</td><td class=vellipsis>&hellip;</td><td>&minus;20.443</td><td>&minus;54.646</td><td>532</td><td>8096.05</td><td>84481</td></tr>\n",
       "    <tr><td class='row_index'>14</td><td>261160</td><td>Nordeste</td><td>PE</td><td>26</td><td>PERNAMBUCO</td><td>Recife</td><td>RECIFE</td><td>S</td><td>N</td><td>N</td><td class=vellipsis>&hellip;</td><td>&minus;8.054</td><td>&minus;34.881</td><td>4</td><td>217.494</td><td>83833</td></tr>\n",
       "    <tr><td class='row_index'>&#x22EE;</td><td class='hellipsis'>&#x22EE;</td><td class='hellipsis'>&#x22EE;</td><td class='hellipsis'>&#x22EE;</td><td class='hellipsis'>&#x22EE;</td><td class='hellipsis'>&#x22EE;</td><td class='hellipsis'>&#x22EE;</td><td class='hellipsis'>&#x22EE;</td><td class='hellipsis'>&#x22EE;</td><td class='hellipsis'>&#x22EE;</td><td class='hellipsis'>&#x22EE;</td><td class='hellipsis'>&#x22F1;</td><td class='hellipsis'>&#x22EE;</td><td class='hellipsis'>&#x22EE;</td><td class='hellipsis'>&#x22EE;</td><td class='hellipsis'>&#x22EE;</td><td class='hellipsis'>&#x22EE;</td></tr>\n",
       "    <tr><td class='row_index'>5564</td><td>520020</td><td>Centro-Oeste</td><td>GO</td><td>52</td><td>GOIAS</td><td>Água Limpa</td><td>AGUA LIMPA</td><td>N</td><td>N</td><td>N</td><td class=vellipsis>&hellip;</td><td>&minus;18.074</td><td>&minus;48.762</td><td>682</td><td>452.856</td><td>25</td></tr>\n",
       "    <tr><td class='row_index'>5565</td><td>510120</td><td>Centro-Oeste</td><td>MT</td><td>51</td><td>MATO GROSSO</td><td>Araguainha</td><td>ARAGUAINHA</td><td>N</td><td>N</td><td>S</td><td class=vellipsis>&hellip;</td><td>&minus;16.856</td><td>&minus;53.033</td><td>462</td><td>688.676</td><td>23</td></tr>\n",
       "    <tr><td class='row_index'>5566</td><td>350640</td><td>Sudeste</td><td>SP</td><td>35</td><td>SAO PAULO</td><td>Bilac</td><td>BILAC</td><td>N</td><td>N</td><td>N</td><td class=vellipsis>&hellip;</td><td>&minus;21.403</td><td>&minus;50.471</td><td>431</td><td>157.278</td><td>18</td></tr>\n",
       "    <tr><td class='row_index'>5567</td><td>500627</td><td>Centro-Oeste</td><td>MS</td><td>50</td><td>MATO GROSSO DO SUL</td><td>Paraíso das Águas</td><td>PARAISO DAS AGUAS</td><td>N</td><td>N</td><td>N</td><td class=vellipsis>&hellip;</td><td>&minus;19.0216</td><td>&minus;53.0116</td><td>0</td><td>5032.47</td><td>15</td></tr>\n",
       "    <tr><td class='row_index'>5568</td><td>330513</td><td>Sudeste</td><td>RJ</td><td>33</td><td>RIO DE JANEIRO</td><td>São José de Ubá</td><td>SAO JOSE DE UBA</td><td>N</td><td>N</td><td>N</td><td class=vellipsis>&hellip;</td><td>&minus;21.358</td><td>&minus;41.943</td><td>95</td><td>250.596</td><td>6</td></tr>\n",
       "  </tbody>\n",
       "  </table>\n",
       "  <div class='footer'>\n",
       "    <div class='frame_dimensions'>5569 rows &times; 19 columns</div>\n",
       "  </div>\n",
       "</div>\n"
      ],
      "text/plain": [
       "<Frame#7f7d5118c150 5569x19>"
      ]
     },
     "execution_count": 12,
     "metadata": {},
     "output_type": "execute_result"
    }
   ],
   "source": [
    "dt.fread(output_mun)"
   ]
  },
  {
   "cell_type": "markdown",
   "metadata": {},
   "source": [
    "## Procedimentos"
   ]
  },
  {
   "cell_type": "markdown",
   "metadata": {},
   "source": [
    "### Colunas da tabela"
   ]
  },
  {
   "cell_type": "code",
   "execution_count": 13,
   "metadata": {},
   "outputs": [],
   "source": [
    "cols_proc = [\n",
    "  'ano',\n",
    "  'parto_normal',\n",
    "  'cnes',\n",
    "  'hosp_cod_municipio',\n",
    "  'hosp_regiao_saude',\n",
    "  'cod_municipio',\n",
    "  'regiao_saude',\n",
    "  'idade'\n",
    "]"
   ]
  },
  {
   "cell_type": "markdown",
   "metadata": {},
   "source": [
    "### Tabela resutante"
   ]
  },
  {
   "cell_type": "code",
   "execution_count": 14,
   "metadata": {},
   "outputs": [
    {
     "data": {
      "text/html": [
       "<div class='datatable'>\n",
       "  <table class='frame'>\n",
       "  <thead>\n",
       "    <tr class='colnames'><td class='row_index'></td><th>ano</th><th>parto_normal</th><th>cnes</th><th>hosp_cod_municipio</th><th>hosp_regiao_saude</th><th>cod_municipio</th><th>regiao_saude</th><th>idade</th><th>count</th></tr>\n",
       "    <tr class='coltypes'><td class='row_index'></td><td class='int' title='int32'>&#x25AA;&#x25AA;&#x25AA;&#x25AA;</td><td class='int' title='int32'>&#x25AA;&#x25AA;&#x25AA;&#x25AA;</td><td class='int' title='int32'>&#x25AA;&#x25AA;&#x25AA;&#x25AA;</td><td class='int' title='int32'>&#x25AA;&#x25AA;&#x25AA;&#x25AA;</td><td class='int' title='int32'>&#x25AA;&#x25AA;&#x25AA;&#x25AA;</td><td class='int' title='int32'>&#x25AA;&#x25AA;&#x25AA;&#x25AA;</td><td class='int' title='int32'>&#x25AA;&#x25AA;&#x25AA;&#x25AA;</td><td class='int' title='int32'>&#x25AA;&#x25AA;&#x25AA;&#x25AA;</td><td class='int' title='int64'>&#x25AA;&#x25AA;&#x25AA;&#x25AA;&#x25AA;&#x25AA;&#x25AA;&#x25AA;</td></tr>\n",
       "  </thead>\n",
       "  <tbody>\n",
       "    <tr><td class='row_index'>0</td><td>2010</td><td>310010039</td><td>2077388</td><td>355030</td><td>3501</td><td>355030</td><td>3501</td><td>22</td><td>362</td></tr>\n",
       "    <tr><td class='row_index'>1</td><td>2010</td><td>310010039</td><td>2077388</td><td>355030</td><td>3501</td><td>355030</td><td>3501</td><td>20</td><td>333</td></tr>\n",
       "    <tr><td class='row_index'>2</td><td>2010</td><td>310010039</td><td>2077388</td><td>355030</td><td>3501</td><td>355030</td><td>3501</td><td>19</td><td>331</td></tr>\n",
       "    <tr><td class='row_index'>3</td><td>2010</td><td>310010039</td><td>2077388</td><td>355030</td><td>3501</td><td>355030</td><td>3501</td><td>24</td><td>327</td></tr>\n",
       "    <tr><td class='row_index'>4</td><td>2010</td><td>310010039</td><td>2077701</td><td>355030</td><td>3501</td><td>355030</td><td>3501</td><td>21</td><td>318</td></tr>\n",
       "    <tr><td class='row_index'>5</td><td>2010</td><td>310010039</td><td>2077388</td><td>355030</td><td>3501</td><td>355030</td><td>3501</td><td>21</td><td>303</td></tr>\n",
       "    <tr><td class='row_index'>6</td><td>2010</td><td>310010039</td><td>2077388</td><td>355030</td><td>3501</td><td>355030</td><td>3501</td><td>23</td><td>297</td></tr>\n",
       "    <tr><td class='row_index'>7</td><td>2010</td><td>310010039</td><td>2077701</td><td>355030</td><td>3501</td><td>355030</td><td>3501</td><td>20</td><td>296</td></tr>\n",
       "    <tr><td class='row_index'>8</td><td>2010</td><td>310010039</td><td>2077701</td><td>355030</td><td>3501</td><td>355030</td><td>3501</td><td>22</td><td>295</td></tr>\n",
       "    <tr><td class='row_index'>9</td><td>2010</td><td>310010039</td><td>2077388</td><td>355030</td><td>3501</td><td>355030</td><td>3501</td><td>18</td><td>292</td></tr>\n",
       "    <tr><td class='row_index'>10</td><td>2010</td><td>310010039</td><td>3151794</td><td>130260</td><td>1301</td><td>130260</td><td>1301</td><td>20</td><td>288</td></tr>\n",
       "    <tr><td class='row_index'>11</td><td>2010</td><td>310010039</td><td>3151794</td><td>130260</td><td>1301</td><td>130260</td><td>1301</td><td>19</td><td>276</td></tr>\n",
       "    <tr><td class='row_index'>12</td><td>2010</td><td>310010039</td><td>2077388</td><td>355030</td><td>3501</td><td>355030</td><td>3501</td><td>25</td><td>270</td></tr>\n",
       "    <tr><td class='row_index'>13</td><td>2010</td><td>310010039</td><td>2079186</td><td>355030</td><td>3501</td><td>355030</td><td>3501</td><td>22</td><td>269</td></tr>\n",
       "    <tr><td class='row_index'>14</td><td>2010</td><td>310010039</td><td>3151794</td><td>130260</td><td>1301</td><td>130260</td><td>1301</td><td>22</td><td>269</td></tr>\n",
       "    <tr><td class='row_index'>&#x22EE;</td><td class='hellipsis'>&#x22EE;</td><td class='hellipsis'>&#x22EE;</td><td class='hellipsis'>&#x22EE;</td><td class='hellipsis'>&#x22EE;</td><td class='hellipsis'>&#x22EE;</td><td class='hellipsis'>&#x22EE;</td><td class='hellipsis'>&#x22EE;</td><td class='hellipsis'>&#x22EE;</td><td class='hellipsis'>&#x22EE;</td></tr>\n",
       "    <tr><td class='row_index'>3,355,686</td><td>2019</td><td>411010034</td><td>9923837</td><td>270430</td><td>2701</td><td>355640</td><td>3520</td><td>29</td><td>1</td></tr>\n",
       "    <tr><td class='row_index'>3,355,687</td><td>2019</td><td>411010034</td><td>9923837</td><td>270430</td><td>2701</td><td>420910</td><td>4213</td><td>24</td><td>1</td></tr>\n",
       "    <tr><td class='row_index'>3,355,688</td><td>2019</td><td>411010034</td><td>9923837</td><td>270430</td><td>2701</td><td>510285</td><td>5109</td><td>28</td><td>1</td></tr>\n",
       "    <tr><td class='row_index'>3,355,689</td><td>2019</td><td>411010034</td><td>9923837</td><td>270430</td><td>2701</td><td>510622</td><td>5114</td><td>29</td><td>1</td></tr>\n",
       "    <tr><td class='row_index'>3,355,690</td><td>2019</td><td>411010034</td><td>9923837</td><td>270430</td><td>2701</td><td>510792</td><td>5114</td><td>14</td><td>1</td></tr>\n",
       "  </tbody>\n",
       "  </table>\n",
       "  <div class='footer'>\n",
       "    <div class='frame_dimensions'>3,355,691 rows &times; 9 columns</div>\n",
       "  </div>\n",
       "</div>\n"
      ],
      "text/plain": [
       "<Frame#7f7d5118c030 3355691x9>"
      ]
     },
     "execution_count": 14,
     "metadata": {},
     "output_type": "execute_result"
    }
   ],
   "source": [
    "df_proc = group_cols(df_sih, cols_proc)\n",
    "df_proc = df_proc.sort(f.ano, -f.count)\n",
    "df_proc"
   ]
  },
  {
   "cell_type": "markdown",
   "metadata": {},
   "source": [
    "- with age: 3_355_691 rows × 9 columns\n",
    "- without age: 461_276 rows × 8 columns"
   ]
  },
  {
   "cell_type": "markdown",
   "metadata": {},
   "source": [
    "### Atualizando variável parto normal"
   ]
  },
  {
   "cell_type": "code",
   "execution_count": 15,
   "metadata": {},
   "outputs": [
    {
     "data": {
      "text/html": [
       "<div class='datatable'>\n",
       "  <table class='frame'>\n",
       "  <thead>\n",
       "    <tr class='colnames'><td class='row_index'></td><th>ano</th><th>parto_normal</th><th>cnes</th><th>hosp_cod_municipio</th><th>hosp_regiao_saude</th><th>cod_municipio</th><th>regiao_saude</th><th>idade</th><th>count</th></tr>\n",
       "    <tr class='coltypes'><td class='row_index'></td><td class='int' title='int32'>&#x25AA;&#x25AA;&#x25AA;&#x25AA;</td><td class='bool' title='bool8'>&#x25AA;</td><td class='int' title='int32'>&#x25AA;&#x25AA;&#x25AA;&#x25AA;</td><td class='int' title='int32'>&#x25AA;&#x25AA;&#x25AA;&#x25AA;</td><td class='int' title='int32'>&#x25AA;&#x25AA;&#x25AA;&#x25AA;</td><td class='int' title='int32'>&#x25AA;&#x25AA;&#x25AA;&#x25AA;</td><td class='int' title='int32'>&#x25AA;&#x25AA;&#x25AA;&#x25AA;</td><td class='int' title='int32'>&#x25AA;&#x25AA;&#x25AA;&#x25AA;</td><td class='int' title='int64'>&#x25AA;&#x25AA;&#x25AA;&#x25AA;&#x25AA;&#x25AA;&#x25AA;&#x25AA;</td></tr>\n",
       "  </thead>\n",
       "  <tbody>\n",
       "    <tr><td class='row_index'>0</td><td>2010</td><td>1</td><td>2077388</td><td>355030</td><td>3501</td><td>355030</td><td>3501</td><td>22</td><td>362</td></tr>\n",
       "    <tr><td class='row_index'>1</td><td>2010</td><td>1</td><td>2077388</td><td>355030</td><td>3501</td><td>355030</td><td>3501</td><td>20</td><td>333</td></tr>\n",
       "    <tr><td class='row_index'>2</td><td>2010</td><td>1</td><td>2077388</td><td>355030</td><td>3501</td><td>355030</td><td>3501</td><td>19</td><td>331</td></tr>\n",
       "    <tr><td class='row_index'>3</td><td>2010</td><td>1</td><td>2077388</td><td>355030</td><td>3501</td><td>355030</td><td>3501</td><td>24</td><td>327</td></tr>\n",
       "    <tr><td class='row_index'>4</td><td>2010</td><td>1</td><td>2077701</td><td>355030</td><td>3501</td><td>355030</td><td>3501</td><td>21</td><td>318</td></tr>\n",
       "    <tr><td class='row_index'>5</td><td>2010</td><td>1</td><td>2077388</td><td>355030</td><td>3501</td><td>355030</td><td>3501</td><td>21</td><td>303</td></tr>\n",
       "    <tr><td class='row_index'>6</td><td>2010</td><td>1</td><td>2077388</td><td>355030</td><td>3501</td><td>355030</td><td>3501</td><td>23</td><td>297</td></tr>\n",
       "    <tr><td class='row_index'>7</td><td>2010</td><td>1</td><td>2077701</td><td>355030</td><td>3501</td><td>355030</td><td>3501</td><td>20</td><td>296</td></tr>\n",
       "    <tr><td class='row_index'>8</td><td>2010</td><td>1</td><td>2077701</td><td>355030</td><td>3501</td><td>355030</td><td>3501</td><td>22</td><td>295</td></tr>\n",
       "    <tr><td class='row_index'>9</td><td>2010</td><td>1</td><td>2077388</td><td>355030</td><td>3501</td><td>355030</td><td>3501</td><td>18</td><td>292</td></tr>\n",
       "    <tr><td class='row_index'>10</td><td>2010</td><td>1</td><td>3151794</td><td>130260</td><td>1301</td><td>130260</td><td>1301</td><td>20</td><td>288</td></tr>\n",
       "    <tr><td class='row_index'>11</td><td>2010</td><td>1</td><td>3151794</td><td>130260</td><td>1301</td><td>130260</td><td>1301</td><td>19</td><td>276</td></tr>\n",
       "    <tr><td class='row_index'>12</td><td>2010</td><td>1</td><td>2077388</td><td>355030</td><td>3501</td><td>355030</td><td>3501</td><td>25</td><td>270</td></tr>\n",
       "    <tr><td class='row_index'>13</td><td>2010</td><td>1</td><td>2079186</td><td>355030</td><td>3501</td><td>355030</td><td>3501</td><td>22</td><td>269</td></tr>\n",
       "    <tr><td class='row_index'>14</td><td>2010</td><td>1</td><td>3151794</td><td>130260</td><td>1301</td><td>130260</td><td>1301</td><td>22</td><td>269</td></tr>\n",
       "    <tr><td class='row_index'>&#x22EE;</td><td class='hellipsis'>&#x22EE;</td><td class='hellipsis'>&#x22EE;</td><td class='hellipsis'>&#x22EE;</td><td class='hellipsis'>&#x22EE;</td><td class='hellipsis'>&#x22EE;</td><td class='hellipsis'>&#x22EE;</td><td class='hellipsis'>&#x22EE;</td><td class='hellipsis'>&#x22EE;</td><td class='hellipsis'>&#x22EE;</td></tr>\n",
       "    <tr><td class='row_index'>3,355,686</td><td>2019</td><td>0</td><td>9923837</td><td>270430</td><td>2701</td><td>355640</td><td>3520</td><td>29</td><td>1</td></tr>\n",
       "    <tr><td class='row_index'>3,355,687</td><td>2019</td><td>0</td><td>9923837</td><td>270430</td><td>2701</td><td>420910</td><td>4213</td><td>24</td><td>1</td></tr>\n",
       "    <tr><td class='row_index'>3,355,688</td><td>2019</td><td>0</td><td>9923837</td><td>270430</td><td>2701</td><td>510285</td><td>5109</td><td>28</td><td>1</td></tr>\n",
       "    <tr><td class='row_index'>3,355,689</td><td>2019</td><td>0</td><td>9923837</td><td>270430</td><td>2701</td><td>510622</td><td>5114</td><td>29</td><td>1</td></tr>\n",
       "    <tr><td class='row_index'>3,355,690</td><td>2019</td><td>0</td><td>9923837</td><td>270430</td><td>2701</td><td>510792</td><td>5114</td><td>14</td><td>1</td></tr>\n",
       "  </tbody>\n",
       "  </table>\n",
       "  <div class='footer'>\n",
       "    <div class='frame_dimensions'>3,355,691 rows &times; 9 columns</div>\n",
       "  </div>\n",
       "</div>\n"
      ],
      "text/plain": [
       "<Frame#7f7d5118c030 3355691x9>"
      ]
     },
     "execution_count": 15,
     "metadata": {},
     "output_type": "execute_result"
    }
   ],
   "source": [
    "df_proc[:, dt.update(parto_normal = f.parto_normal == 310010039)] # {310010039: 'normal', 411010034: 'cesariano'}\n",
    "df_proc"
   ]
  },
  {
   "cell_type": "markdown",
   "metadata": {},
   "source": [
    "### Exportando tabela"
   ]
  },
  {
   "cell_type": "code",
   "execution_count": 16,
   "metadata": {},
   "outputs": [],
   "source": [
    "output_proc = f'{Path.home()}/Databases/GESTANTES/procedimentos.csv.gzip'\n",
    "df_proc.to_csv(output_proc)"
   ]
  },
  {
   "cell_type": "code",
   "execution_count": 17,
   "metadata": {},
   "outputs": [
    {
     "data": {
      "text/html": [
       "<div class='datatable'>\n",
       "  <table class='frame'>\n",
       "  <thead>\n",
       "    <tr class='colnames'><td class='row_index'></td><th>ano</th><th>parto_normal</th><th>cnes</th><th>hosp_cod_municipio</th><th>hosp_regiao_saude</th><th>cod_municipio</th><th>regiao_saude</th><th>idade</th><th>count</th></tr>\n",
       "    <tr class='coltypes'><td class='row_index'></td><td class='int' title='int32'>&#x25AA;&#x25AA;&#x25AA;&#x25AA;</td><td class='bool' title='bool8'>&#x25AA;</td><td class='int' title='int32'>&#x25AA;&#x25AA;&#x25AA;&#x25AA;</td><td class='int' title='int32'>&#x25AA;&#x25AA;&#x25AA;&#x25AA;</td><td class='int' title='int32'>&#x25AA;&#x25AA;&#x25AA;&#x25AA;</td><td class='int' title='int32'>&#x25AA;&#x25AA;&#x25AA;&#x25AA;</td><td class='int' title='int32'>&#x25AA;&#x25AA;&#x25AA;&#x25AA;</td><td class='int' title='int32'>&#x25AA;&#x25AA;&#x25AA;&#x25AA;</td><td class='int' title='int32'>&#x25AA;&#x25AA;&#x25AA;&#x25AA;</td></tr>\n",
       "  </thead>\n",
       "  <tbody>\n",
       "    <tr><td class='row_index'>0</td><td>2010</td><td>1</td><td>2077388</td><td>355030</td><td>3501</td><td>355030</td><td>3501</td><td>22</td><td>362</td></tr>\n",
       "    <tr><td class='row_index'>1</td><td>2010</td><td>1</td><td>2077388</td><td>355030</td><td>3501</td><td>355030</td><td>3501</td><td>20</td><td>333</td></tr>\n",
       "    <tr><td class='row_index'>2</td><td>2010</td><td>1</td><td>2077388</td><td>355030</td><td>3501</td><td>355030</td><td>3501</td><td>19</td><td>331</td></tr>\n",
       "    <tr><td class='row_index'>3</td><td>2010</td><td>1</td><td>2077388</td><td>355030</td><td>3501</td><td>355030</td><td>3501</td><td>24</td><td>327</td></tr>\n",
       "    <tr><td class='row_index'>4</td><td>2010</td><td>1</td><td>2077701</td><td>355030</td><td>3501</td><td>355030</td><td>3501</td><td>21</td><td>318</td></tr>\n",
       "    <tr><td class='row_index'>5</td><td>2010</td><td>1</td><td>2077388</td><td>355030</td><td>3501</td><td>355030</td><td>3501</td><td>21</td><td>303</td></tr>\n",
       "    <tr><td class='row_index'>6</td><td>2010</td><td>1</td><td>2077388</td><td>355030</td><td>3501</td><td>355030</td><td>3501</td><td>23</td><td>297</td></tr>\n",
       "    <tr><td class='row_index'>7</td><td>2010</td><td>1</td><td>2077701</td><td>355030</td><td>3501</td><td>355030</td><td>3501</td><td>20</td><td>296</td></tr>\n",
       "    <tr><td class='row_index'>8</td><td>2010</td><td>1</td><td>2077701</td><td>355030</td><td>3501</td><td>355030</td><td>3501</td><td>22</td><td>295</td></tr>\n",
       "    <tr><td class='row_index'>9</td><td>2010</td><td>1</td><td>2077388</td><td>355030</td><td>3501</td><td>355030</td><td>3501</td><td>18</td><td>292</td></tr>\n",
       "    <tr><td class='row_index'>10</td><td>2010</td><td>1</td><td>3151794</td><td>130260</td><td>1301</td><td>130260</td><td>1301</td><td>20</td><td>288</td></tr>\n",
       "    <tr><td class='row_index'>11</td><td>2010</td><td>1</td><td>3151794</td><td>130260</td><td>1301</td><td>130260</td><td>1301</td><td>19</td><td>276</td></tr>\n",
       "    <tr><td class='row_index'>12</td><td>2010</td><td>1</td><td>2077388</td><td>355030</td><td>3501</td><td>355030</td><td>3501</td><td>25</td><td>270</td></tr>\n",
       "    <tr><td class='row_index'>13</td><td>2010</td><td>1</td><td>2079186</td><td>355030</td><td>3501</td><td>355030</td><td>3501</td><td>22</td><td>269</td></tr>\n",
       "    <tr><td class='row_index'>14</td><td>2010</td><td>1</td><td>3151794</td><td>130260</td><td>1301</td><td>130260</td><td>1301</td><td>22</td><td>269</td></tr>\n",
       "    <tr><td class='row_index'>&#x22EE;</td><td class='hellipsis'>&#x22EE;</td><td class='hellipsis'>&#x22EE;</td><td class='hellipsis'>&#x22EE;</td><td class='hellipsis'>&#x22EE;</td><td class='hellipsis'>&#x22EE;</td><td class='hellipsis'>&#x22EE;</td><td class='hellipsis'>&#x22EE;</td><td class='hellipsis'>&#x22EE;</td><td class='hellipsis'>&#x22EE;</td></tr>\n",
       "    <tr><td class='row_index'>3,355,686</td><td>2019</td><td>0</td><td>9923837</td><td>270430</td><td>2701</td><td>355640</td><td>3520</td><td>29</td><td>1</td></tr>\n",
       "    <tr><td class='row_index'>3,355,687</td><td>2019</td><td>0</td><td>9923837</td><td>270430</td><td>2701</td><td>420910</td><td>4213</td><td>24</td><td>1</td></tr>\n",
       "    <tr><td class='row_index'>3,355,688</td><td>2019</td><td>0</td><td>9923837</td><td>270430</td><td>2701</td><td>510285</td><td>5109</td><td>28</td><td>1</td></tr>\n",
       "    <tr><td class='row_index'>3,355,689</td><td>2019</td><td>0</td><td>9923837</td><td>270430</td><td>2701</td><td>510622</td><td>5114</td><td>29</td><td>1</td></tr>\n",
       "    <tr><td class='row_index'>3,355,690</td><td>2019</td><td>0</td><td>9923837</td><td>270430</td><td>2701</td><td>510792</td><td>5114</td><td>14</td><td>1</td></tr>\n",
       "  </tbody>\n",
       "  </table>\n",
       "  <div class='footer'>\n",
       "    <div class='frame_dimensions'>3,355,691 rows &times; 9 columns</div>\n",
       "  </div>\n",
       "</div>\n"
      ],
      "text/plain": [
       "<Frame#7f7d61db8fc0 3355691x9>"
      ]
     },
     "execution_count": 17,
     "metadata": {},
     "output_type": "execute_result"
    }
   ],
   "source": [
    "dt.fread(output_proc)"
   ]
  }
 ],
 "metadata": {
  "kernelspec": {
   "display_name": "Python 3.9.13 ('base')",
   "language": "python",
   "name": "python3"
  },
  "language_info": {
   "codemirror_mode": {
    "name": "ipython",
    "version": 3
   },
   "file_extension": ".py",
   "mimetype": "text/x-python",
   "name": "python",
   "nbconvert_exporter": "python",
   "pygments_lexer": "ipython3",
   "version": "3.9.13"
  },
  "orig_nbformat": 4,
  "vscode": {
   "interpreter": {
    "hash": "6c01efea219ea0303b6e6cd1897665114cc62146ed112ea21ec489238fdae255"
   }
  }
 },
 "nbformat": 4,
 "nbformat_minor": 2
}
