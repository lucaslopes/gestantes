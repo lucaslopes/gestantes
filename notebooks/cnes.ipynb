{
 "cells": [
  {
   "cell_type": "code",
   "execution_count": 1,
   "metadata": {},
   "outputs": [
    {
     "data": {
      "text/html": [
       "<style type='text/css'>\n",
       ".datatable table.frame { margin-bottom: 0; }\n",
       ".datatable table.frame thead { border-bottom: none; }\n",
       ".datatable table.frame tr.coltypes td {  color: #FFFFFF;  line-height: 6px;  padding: 0 0.5em;}\n",
       ".datatable .bool    { background: #DDDD99; }\n",
       ".datatable .object  { background: #565656; }\n",
       ".datatable .int     { background: #5D9E5D; }\n",
       ".datatable .float   { background: #4040CC; }\n",
       ".datatable .str     { background: #CC4040; }\n",
       ".datatable .time    { background: #40CC40; }\n",
       ".datatable .row_index {  background: var(--jp-border-color3);  border-right: 1px solid var(--jp-border-color0);  color: var(--jp-ui-font-color3);  font-size: 9px;}\n",
       ".datatable .frame tbody td { text-align: left; }\n",
       ".datatable .frame tr.coltypes .row_index {  background: var(--jp-border-color0);}\n",
       ".datatable th:nth-child(2) { padding-left: 12px; }\n",
       ".datatable .hellipsis {  color: var(--jp-cell-editor-border-color);}\n",
       ".datatable .vellipsis {  background: var(--jp-layout-color0);  color: var(--jp-cell-editor-border-color);}\n",
       ".datatable .na {  color: var(--jp-cell-editor-border-color);  font-size: 80%;}\n",
       ".datatable .sp {  opacity: 0.25;}\n",
       ".datatable .footer { font-size: 9px; }\n",
       ".datatable .frame_dimensions {  background: var(--jp-border-color3);  border-top: 1px solid var(--jp-border-color0);  color: var(--jp-ui-font-color3);  display: inline-block;  opacity: 0.6;  padding: 1px 10px 1px 5px;}\n",
       "</style>\n"
      ],
      "text/plain": [
       "<IPython.core.display.HTML object>"
      ]
     },
     "metadata": {},
     "output_type": "display_data"
    }
   ],
   "source": [
    "import config\n",
    "from zipfile import ZipFile\n",
    "from datatable import dt, f, by\n",
    "from tqdm import tqdm\n",
    "from collections import Counter\n",
    "import pandas as pd"
   ]
  },
  {
   "cell_type": "code",
   "execution_count": 2,
   "metadata": {},
   "outputs": [],
   "source": [
    "def get_path_db_zip(db):\n",
    "\tdb_zip = f'{config.PATH_DATABASES}/{db}/{db}.zip'\n",
    "\tif db == 'SIHSUS':\n",
    "\t\tdb_zip = '/Volumes/SanDisk/SIHSUS.zip'\n",
    "\treturn db_zip"
   ]
  },
  {
   "cell_type": "code",
   "execution_count": 3,
   "metadata": {},
   "outputs": [],
   "source": [
    "def get_files_from_db_zip(db_zip):\n",
    "\treturn ZipFile(db_zip).namelist()"
   ]
  },
  {
   "cell_type": "code",
   "execution_count": 4,
   "metadata": {},
   "outputs": [],
   "source": [
    "def get_cnes_list(db, df):\n",
    "\tcnes_list = list()\n",
    "\tif db == 'CNES':\n",
    "\t\tcnes_list = df[f.VINC_SUS == 1, 'CNES'].to_list()[0]\n",
    "\tif db == 'SINASC' and 'CODESTAB' in df.names:\n",
    "\t\tdf['CODESTAB'] = dt.Type.str32\n",
    "\t\tcnes_list = df[\n",
    "\t\t(\n",
    "\t\t\t(f['ano_nasc'] >= 2010)\n",
    "\t\t\t&\n",
    "\t\t\t(f['ano_nasc'] <= 2019)\n",
    "\t\t) & (\n",
    "\t\t\t(f['IDADEMAE'] >= 10)\n",
    "\t\t\t&\n",
    "\t\t\t(f['IDADEMAE'] <= 49)\n",
    "\t\t) & (\n",
    "\t\t\t(f['res_RSAUDCOD'] != None)\n",
    "\t\t\t&\n",
    "\t\t\t(f['res_RSAUDCOD'] != 5301)\n",
    "\t\t) & (\n",
    "\t\t\t(f['nasc_RSAUDCOD'] != None)\n",
    "\t\t) & (\n",
    "\t\t\t(f['res_codigo_adotado'] != None)\n",
    "\t\t) & (\n",
    "\t\t\t(f['nasc_codigo_adotado'] != None)\n",
    "\t\t) & (\n",
    "\t\t\t(f['def_loc_nasc'] == 'Hospital')\n",
    "\t\t) & (\n",
    "\t\t\t(f['def_parto'] != 'Ignorado')\n",
    "\t\t) & (\n",
    "\t\t\t(f['CODESTAB'] != None)\n",
    "\t\t), 'CODESTAB']\n",
    "\t\tcnes_list = cnes_list[0, :, by('CODESTAB')].to_list()[0]\n",
    "\tif db == 'SIHSUS' and 'CNES' in df.names:\n",
    "\t\tcnes_list = df[\n",
    "\t\t(\n",
    "\t\t\t(f['PROC_REA'] == 310010039)\n",
    "\t\t\t|\n",
    "\t\t\t(f['PROC_REA'] == 411010034)\n",
    "\t\t) & (\n",
    "\t\t\t(f['ano_internacao'] >= 2010)\n",
    "\t\t\t&\n",
    "\t\t\t(f['ano_internacao'] <= 2019)\n",
    "\t\t), 'CNES']\n",
    "\t\tcnes_list = cnes_list[0, :, by('CNES')].to_list()[0]\n",
    "\treturn cnes_list"
   ]
  },
  {
   "cell_type": "code",
   "execution_count": 5,
   "metadata": {},
   "outputs": [],
   "source": [
    "def open_ith_file_in_db_zip(db, i):\n",
    "\tdb_zip = get_path_db_zip(db)\n",
    "\tfiles = get_files_from_db_zip(db_zip)\n",
    "\tl = [False for _ in range(236)]\n",
    "\tl.append(True)\n",
    "\treturn dt.fread(f'{db_zip}/{files[i]}', columns=l)"
   ]
  },
  {
   "cell_type": "code",
   "execution_count": 6,
   "metadata": {},
   "outputs": [],
   "source": [
    "def get_all_cnes(db):\n",
    "\tzeros = '0000000'\n",
    "\tpossible_columns = {\n",
    "\t\t'CNES', 'VINC_SUS', 'CODESTAB', 'PROC_REA',\n",
    "\t\t'ano_internacao', 'ano_nasc', 'IDADEMAE',\n",
    "\t\t'res_RSAUDCOD', 'nasc_RSAUDCOD',\n",
    "\t\t'res_codigo_adotado', 'nasc_codigo_adotado',\n",
    "\t\t'def_loc_nasc', 'def_parto'}\n",
    "\tdb_zip = get_path_db_zip(db)\n",
    "\tfiles = get_files_from_db_zip(db_zip)\n",
    "\ts = set()\n",
    "\tfor fname in tqdm(files):\n",
    "\t\tif 'dict' in fname: continue\n",
    "\t\tf_path = f'{db_zip}/{fname}'\n",
    "\t\tcolums = dt.fread(f_path, max_nrows=0).names\n",
    "\t\tcolums = [col in possible_columns for col in colums]\n",
    "\t\tdf = dt.fread(f_path, columns=colums)\n",
    "\t\tcnes_list = get_cnes_list(db, df)\n",
    "\t\ts.update({(zeros+str(cnes))[-7:] for cnes in cnes_list if cnes})\n",
    "\treturn s"
   ]
  },
  {
   "cell_type": "code",
   "execution_count": 7,
   "metadata": {},
   "outputs": [],
   "source": [
    "def save_cnes_dbs(dbs):\n",
    "\tfor db in dbs:\n",
    "\t\tdf = get_all_cnes(db)\n",
    "\t\tpd.DataFrame(df, columns=['cnes']).sort_values(\n",
    "\t\t\t'cnes'\n",
    "\t\t).to_csv(\n",
    "\t\t\tf'data/consult/cnes/{db}_cnes.csv',\n",
    "\t\t\tindex=False\n",
    "\t\t)"
   ]
  },
  {
   "cell_type": "markdown",
   "metadata": {},
   "source": [
    "100%|██████████| 675/675 [01:49<00:00,  6.15it/s]\n",
    "\n",
    "100%|██████████| 4375/4375 [03:54<00:00, 18.67it/s]\n",
    "\n",
    "100%|██████████| 4401/4401 [17:08<00:00,  4.28it/s]"
   ]
  },
  {
   "cell_type": "code",
   "execution_count": 8,
   "metadata": {},
   "outputs": [
    {
     "name": "stderr",
     "output_type": "stream",
     "text": [
      "100%|██████████| 675/675 [04:12<00:00,  2.67it/s]\n"
     ]
    }
   ],
   "source": [
    "dbs = ['SINASC'] # ['SINASC', 'CNES', 'SIHSUS']\n",
    "save_cnes_dbs(dbs)"
   ]
  },
  {
   "cell_type": "code",
   "execution_count": 9,
   "metadata": {},
   "outputs": [],
   "source": [
    "cnes = set(pd.read_csv('data/consult/cnes/CNES_cnes.csv', dtype={'cnes':str})['cnes'])\n",
    "sih = set(pd.read_csv('data/consult/cnes/SIHSUS_cnes.csv', dtype={'cnes':str})['cnes'])\n",
    "sinasc = set(pd.read_csv('data/consult/cnes/SINASC_cnes.csv', dtype={'cnes':str})['cnes'])"
   ]
  },
  {
   "cell_type": "code",
   "execution_count": 24,
   "metadata": {},
   "outputs": [],
   "source": [
    "pd.DataFrame(cnes.intersection(sinasc), columns=['cnes']).to_csv(\n",
    "\t'data/consult/cnes/cnes_sus_sinasc.csv',\n",
    "\tindex=False\n",
    ")"
   ]
  },
  {
   "cell_type": "code",
   "execution_count": 10,
   "metadata": {},
   "outputs": [
    {
     "data": {
      "text/plain": [
       "4093"
      ]
     },
     "execution_count": 10,
     "metadata": {},
     "output_type": "execute_result"
    }
   ],
   "source": [
    "len(sih.intersection(sinasc))#/len(sih)"
   ]
  },
  {
   "cell_type": "code",
   "execution_count": 11,
   "metadata": {},
   "outputs": [
    {
     "data": {
      "text/plain": [
       "0.999277108433735"
      ]
     },
     "execution_count": 11,
     "metadata": {},
     "output_type": "execute_result"
    }
   ],
   "source": [
    "len(sih.intersection(cnes))/len(sih)"
   ]
  },
  {
   "cell_type": "code",
   "execution_count": 12,
   "metadata": {},
   "outputs": [
    {
     "data": {
      "text/plain": [
       "4150"
      ]
     },
     "execution_count": 12,
     "metadata": {},
     "output_type": "execute_result"
    }
   ],
   "source": [
    "len(sih)"
   ]
  },
  {
   "cell_type": "code",
   "execution_count": 13,
   "metadata": {},
   "outputs": [
    {
     "data": {
      "text/plain": [
       "4147"
      ]
     },
     "execution_count": 13,
     "metadata": {},
     "output_type": "execute_result"
    }
   ],
   "source": [
    "len(sih.intersection(cnes))"
   ]
  },
  {
   "cell_type": "markdown",
   "metadata": {},
   "source": [
    "- cnes no sinasc:\n",
    "10370\n",
    "\n",
    "- cnes que ta no sinasc e na base do cnes com vínculo com sus:\n",
    "9084\n",
    "\n",
    "- ou seja, 87% dos cnes que estão no sinasc possuem vínculo com sus"
   ]
  },
  {
   "cell_type": "markdown",
   "metadata": {},
   "source": [
    "dos 4150 cnes que estão no sih, apenas 3 não estão na base do cnes com vínculo com sus"
   ]
  },
  {
   "cell_type": "code",
   "execution_count": 15,
   "metadata": {},
   "outputs": [
    {
     "ename": "ValueError",
     "evalue": "Input contains 85 columns, whereas columns parameter specifies only 237 columns",
     "output_type": "error",
     "traceback": [
      "\u001b[0;31m---------------------------------------------------------------------------\u001b[0m",
      "\u001b[0;31mValueError\u001b[0m                                Traceback (most recent call last)",
      "\u001b[1;32m/Users/lucas/Code/lucaslopes/partos/cnes.ipynb Cell 17\u001b[0m in \u001b[0;36m<cell line: 1>\u001b[0;34m()\u001b[0m\n\u001b[0;32m----> <a href='vscode-notebook-cell:/Users/lucas/Code/lucaslopes/partos/cnes.ipynb#X23sZmlsZQ%3D%3D?line=0'>1</a>\u001b[0m df \u001b[39m=\u001b[39m open_ith_file_in_db_zip(\u001b[39m'\u001b[39;49m\u001b[39mSINASC\u001b[39;49m\u001b[39m'\u001b[39;49m, \u001b[39m100\u001b[39;49m)\n\u001b[1;32m      <a href='vscode-notebook-cell:/Users/lucas/Code/lucaslopes/partos/cnes.ipynb#X23sZmlsZQ%3D%3D?line=1'>2</a>\u001b[0m df\n",
      "\u001b[1;32m/Users/lucas/Code/lucaslopes/partos/cnes.ipynb Cell 17\u001b[0m in \u001b[0;36mopen_ith_file_in_db_zip\u001b[0;34m(db, i)\u001b[0m\n\u001b[1;32m      <a href='vscode-notebook-cell:/Users/lucas/Code/lucaslopes/partos/cnes.ipynb#X23sZmlsZQ%3D%3D?line=3'>4</a>\u001b[0m l \u001b[39m=\u001b[39m [\u001b[39mFalse\u001b[39;00m \u001b[39mfor\u001b[39;00m _ \u001b[39min\u001b[39;00m \u001b[39mrange\u001b[39m(\u001b[39m236\u001b[39m)]\n\u001b[1;32m      <a href='vscode-notebook-cell:/Users/lucas/Code/lucaslopes/partos/cnes.ipynb#X23sZmlsZQ%3D%3D?line=4'>5</a>\u001b[0m l\u001b[39m.\u001b[39mappend(\u001b[39mTrue\u001b[39;00m)\n\u001b[0;32m----> <a href='vscode-notebook-cell:/Users/lucas/Code/lucaslopes/partos/cnes.ipynb#X23sZmlsZQ%3D%3D?line=5'>6</a>\u001b[0m \u001b[39mreturn\u001b[39;00m dt\u001b[39m.\u001b[39;49mfread(\u001b[39mf\u001b[39;49m\u001b[39m'\u001b[39;49m\u001b[39m{\u001b[39;49;00mdb_zip\u001b[39m}\u001b[39;49;00m\u001b[39m/\u001b[39;49m\u001b[39m{\u001b[39;49;00mfiles[i]\u001b[39m}\u001b[39;49;00m\u001b[39m'\u001b[39;49m, columns\u001b[39m=\u001b[39;49ml)\n",
      "File \u001b[0;32m~/Code/lucaslopes/partos/venv/lib/python3.10/site-packages/datatable/utils/fread.py:379\u001b[0m, in \u001b[0;36m_override_columns\u001b[0;34m(colspec, coldescs)\u001b[0m\n\u001b[1;32m    377\u001b[0m     \u001b[39mreturn\u001b[39;00m _apply_columns_set(colspec, coldescs)\n\u001b[1;32m    378\u001b[0m \u001b[39mif\u001b[39;00m \u001b[39misinstance\u001b[39m(colspec, (\u001b[39mlist\u001b[39m, \u001b[39mtuple\u001b[39m)):\n\u001b[0;32m--> 379\u001b[0m     \u001b[39mreturn\u001b[39;00m _apply_columns_list(colspec, coldescs)\n\u001b[1;32m    380\u001b[0m \u001b[39mif\u001b[39;00m \u001b[39misinstance\u001b[39m(colspec, \u001b[39mdict\u001b[39m):\n\u001b[1;32m    381\u001b[0m     \u001b[39mreturn\u001b[39;00m _apply_columns_dict(colspec, coldescs)\n",
      "File \u001b[0;32m~/Code/lucaslopes/partos/venv/lib/python3.10/site-packages/datatable/utils/fread.py:439\u001b[0m, in \u001b[0;36m_apply_columns_list\u001b[0;34m(collist, colsdesc)\u001b[0m\n\u001b[1;32m    437\u001b[0m nn \u001b[39m=\u001b[39m \u001b[39mlen\u001b[39m(collist)\n\u001b[1;32m    438\u001b[0m \u001b[39mif\u001b[39;00m n \u001b[39m!=\u001b[39m nn:\n\u001b[0;32m--> 439\u001b[0m     \u001b[39mraise\u001b[39;00m \u001b[39mValueError\u001b[39;00m(\u001b[39m\"\u001b[39m\u001b[39mInput contains \u001b[39m\u001b[39m%s\u001b[39;00m\u001b[39m, whereas `columns` \u001b[39m\u001b[39m\"\u001b[39m\n\u001b[1;32m    440\u001b[0m                      \u001b[39m\"\u001b[39m\u001b[39mparameter specifies only \u001b[39m\u001b[39m%s\u001b[39;00m\u001b[39m\"\u001b[39m\n\u001b[1;32m    441\u001b[0m                      \u001b[39m%\u001b[39m (plural(n, \u001b[39m\"\u001b[39m\u001b[39mcolumn\u001b[39m\u001b[39m\"\u001b[39m), plural(nn, \u001b[39m\"\u001b[39m\u001b[39mcolumn\u001b[39m\u001b[39m\"\u001b[39m)))\n\u001b[1;32m    442\u001b[0m colnames \u001b[39m=\u001b[39m []\n\u001b[1;32m    443\u001b[0m coltypes \u001b[39m=\u001b[39m [rtype\u001b[39m.\u001b[39mrdrop\u001b[39m.\u001b[39mvalue] \u001b[39m*\u001b[39m n\n",
      "\u001b[0;31mValueError\u001b[0m: Input contains 85 columns, whereas columns parameter specifies only 237 columns"
     ]
    }
   ],
   "source": [
    "df = open_ith_file_in_db_zip('SINASC', 100)\n",
    "df"
   ]
  },
  {
   "cell_type": "code",
   "execution_count": null,
   "metadata": {},
   "outputs": [],
   "source": []
  }
 ],
 "metadata": {
  "kernelspec": {
   "display_name": "Python 3.10.0rc2 ('venv': venv)",
   "language": "python",
   "name": "python3"
  },
  "language_info": {
   "codemirror_mode": {
    "name": "ipython",
    "version": 3
   },
   "file_extension": ".py",
   "mimetype": "text/x-python",
   "name": "python",
   "nbconvert_exporter": "python",
   "pygments_lexer": "ipython3",
   "version": "3.10.0"
  },
  "orig_nbformat": 4,
  "vscode": {
   "interpreter": {
    "hash": "f601cc5507805c915a29cbc7efc7fe46bb00e1fada85c390a8ea6a8a3967e90a"
   }
  }
 },
 "nbformat": 4,
 "nbformat_minor": 2
}
