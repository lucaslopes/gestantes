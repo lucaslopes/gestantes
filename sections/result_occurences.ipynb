{
 "cells": [
  {
   "cell_type": "raw",
   "metadata": {},
   "source": [
    "---\n",
    "title: \"Ocorrências\"\n",
    "---"
   ]
  },
  {
   "cell_type": "code",
   "execution_count": 1,
   "metadata": {},
   "outputs": [
    {
     "data": {
      "text/html": [
       "<style type='text/css'>\n",
       ".datatable table.frame { margin-bottom: 0; }\n",
       ".datatable table.frame thead { border-bottom: none; }\n",
       ".datatable table.frame tr.coltypes td {  color: #FFFFFF;  line-height: 6px;  padding: 0 0.5em;}\n",
       ".datatable .bool    { background: #DDDD99; }\n",
       ".datatable .object  { background: #565656; }\n",
       ".datatable .int     { background: #5D9E5D; }\n",
       ".datatable .float   { background: #4040CC; }\n",
       ".datatable .str     { background: #CC4040; }\n",
       ".datatable .time    { background: #40CC40; }\n",
       ".datatable .row_index {  background: var(--jp-border-color3);  border-right: 1px solid var(--jp-border-color0);  color: var(--jp-ui-font-color3);  font-size: 9px;}\n",
       ".datatable .frame tbody td { text-align: left; }\n",
       ".datatable .frame tr.coltypes .row_index {  background: var(--jp-border-color0);}\n",
       ".datatable th:nth-child(2) { padding-left: 12px; }\n",
       ".datatable .hellipsis {  color: var(--jp-cell-editor-border-color);}\n",
       ".datatable .vellipsis {  background: var(--jp-layout-color0);  color: var(--jp-cell-editor-border-color);}\n",
       ".datatable .na {  color: var(--jp-cell-editor-border-color);  font-size: 80%;}\n",
       ".datatable .sp {  opacity: 0.25;}\n",
       ".datatable .footer { font-size: 9px; }\n",
       ".datatable .frame_dimensions {  background: var(--jp-border-color3);  border-top: 1px solid var(--jp-border-color0);  color: var(--jp-ui-font-color3);  display: inline-block;  opacity: 0.6;  padding: 1px 10px 1px 5px;}\n",
       "</style>\n"
      ],
      "text/plain": [
       "<IPython.core.display.HTML object>"
      ]
     },
     "metadata": {},
     "output_type": "display_data"
    }
   ],
   "source": [
    "import sys\n",
    "import numpy as np\n",
    "import pandas as pd\n",
    "\n",
    "from datatable import dt, f, by\n",
    "\n",
    "from plotly import express as px, io as pio\n",
    "pd.options.plotting.backend = 'plotly'\n",
    "pio.renderers.default = 'plotly_mimetype+notebook_connected'\n",
    "\n",
    "from utils import get_path, data_load\n",
    "sys.path.insert(0, '../')\n",
    "from secret import API_KEY"
   ]
  },
  {
   "cell_type": "markdown",
   "metadata": {},
   "source": [
    "# Fontes de Dados"
   ]
  },
  {
   "cell_type": "markdown",
   "metadata": {},
   "source": [
    "## Procedimentos"
   ]
  },
  {
   "cell_type": "markdown",
   "metadata": {},
   "source": [
    "### Carregando tabela"
   ]
  },
  {
   "cell_type": "code",
   "execution_count": 2,
   "metadata": {},
   "outputs": [
    {
     "data": {
      "text/html": [
       "<div>\n",
       "<style scoped>\n",
       "    .dataframe tbody tr th:only-of-type {\n",
       "        vertical-align: middle;\n",
       "    }\n",
       "\n",
       "    .dataframe tbody tr th {\n",
       "        vertical-align: top;\n",
       "    }\n",
       "\n",
       "    .dataframe thead th {\n",
       "        text-align: right;\n",
       "    }\n",
       "</style>\n",
       "<table border=\"1\" class=\"dataframe\">\n",
       "  <thead>\n",
       "    <tr style=\"text-align: right;\">\n",
       "      <th></th>\n",
       "      <th>bienio</th>\n",
       "      <th>parto_normal</th>\n",
       "      <th>origem</th>\n",
       "      <th>destino</th>\n",
       "      <th>distancia (km)</th>\n",
       "      <th>tempo (min)</th>\n",
       "      <th>dist_pond</th>\n",
       "      <th>tempo_pond</th>\n",
       "      <th>criticidade</th>\n",
       "      <th>capitais</th>\n",
       "      <th>socioecon</th>\n",
       "      <th>origem_latitude</th>\n",
       "      <th>origem_longitude</th>\n",
       "      <th>destino_latitude</th>\n",
       "      <th>destino_longitude</th>\n",
       "      <th>count</th>\n",
       "    </tr>\n",
       "  </thead>\n",
       "  <tbody>\n",
       "    <tr>\n",
       "      <th>0</th>\n",
       "      <td>0</td>\n",
       "      <td>0</td>\n",
       "      <td>CO/DF/53001/530010</td>\n",
       "      <td>CO/DF/53001/530010/0010464</td>\n",
       "      <td>0.0000</td>\n",
       "      <td>0.000000</td>\n",
       "      <td>0.0000</td>\n",
       "      <td>0.000000</td>\n",
       "      <td>0</td>\n",
       "      <td>1_1</td>\n",
       "      <td>5_5</td>\n",
       "      <td>-15.7795</td>\n",
       "      <td>-47.9297</td>\n",
       "      <td>-15.7795</td>\n",
       "      <td>-47.9297</td>\n",
       "      <td>260</td>\n",
       "    </tr>\n",
       "    <tr>\n",
       "      <th>1</th>\n",
       "      <td>0</td>\n",
       "      <td>0</td>\n",
       "      <td>CO/DF/53001/530010</td>\n",
       "      <td>CO/DF/53001/530010/0010472</td>\n",
       "      <td>0.0000</td>\n",
       "      <td>0.000000</td>\n",
       "      <td>0.0000</td>\n",
       "      <td>0.000000</td>\n",
       "      <td>0</td>\n",
       "      <td>1_1</td>\n",
       "      <td>5_5</td>\n",
       "      <td>-15.7795</td>\n",
       "      <td>-47.9297</td>\n",
       "      <td>-15.7795</td>\n",
       "      <td>-47.9297</td>\n",
       "      <td>282</td>\n",
       "    </tr>\n",
       "    <tr>\n",
       "      <th>2</th>\n",
       "      <td>0</td>\n",
       "      <td>0</td>\n",
       "      <td>CO/DF/53001/530010</td>\n",
       "      <td>CO/DF/53001/530010/0010480</td>\n",
       "      <td>0.0000</td>\n",
       "      <td>0.000000</td>\n",
       "      <td>0.0000</td>\n",
       "      <td>0.000000</td>\n",
       "      <td>0</td>\n",
       "      <td>1_1</td>\n",
       "      <td>5_5</td>\n",
       "      <td>-15.7795</td>\n",
       "      <td>-47.9297</td>\n",
       "      <td>-15.7795</td>\n",
       "      <td>-47.9297</td>\n",
       "      <td>3323</td>\n",
       "    </tr>\n",
       "    <tr>\n",
       "      <th>3</th>\n",
       "      <td>0</td>\n",
       "      <td>0</td>\n",
       "      <td>CO/DF/53001/530010</td>\n",
       "      <td>CO/DF/53001/530010/0010499</td>\n",
       "      <td>0.0000</td>\n",
       "      <td>0.000000</td>\n",
       "      <td>0.0000</td>\n",
       "      <td>0.000000</td>\n",
       "      <td>0</td>\n",
       "      <td>1_1</td>\n",
       "      <td>5_5</td>\n",
       "      <td>-15.7795</td>\n",
       "      <td>-47.9297</td>\n",
       "      <td>-15.7795</td>\n",
       "      <td>-47.9297</td>\n",
       "      <td>3368</td>\n",
       "    </tr>\n",
       "    <tr>\n",
       "      <th>4</th>\n",
       "      <td>0</td>\n",
       "      <td>0</td>\n",
       "      <td>CO/DF/53001/530010</td>\n",
       "      <td>CO/DF/53001/530010/0010502</td>\n",
       "      <td>0.0000</td>\n",
       "      <td>0.000000</td>\n",
       "      <td>0.0000</td>\n",
       "      <td>0.000000</td>\n",
       "      <td>0</td>\n",
       "      <td>1_1</td>\n",
       "      <td>5_5</td>\n",
       "      <td>-15.7795</td>\n",
       "      <td>-47.9297</td>\n",
       "      <td>-15.7795</td>\n",
       "      <td>-47.9297</td>\n",
       "      <td>964</td>\n",
       "    </tr>\n",
       "    <tr>\n",
       "      <th>...</th>\n",
       "      <td>...</td>\n",
       "      <td>...</td>\n",
       "      <td>...</td>\n",
       "      <td>...</td>\n",
       "      <td>...</td>\n",
       "      <td>...</td>\n",
       "      <td>...</td>\n",
       "      <td>...</td>\n",
       "      <td>...</td>\n",
       "      <td>...</td>\n",
       "      <td>...</td>\n",
       "      <td>...</td>\n",
       "      <td>...</td>\n",
       "      <td>...</td>\n",
       "      <td>...</td>\n",
       "      <td>...</td>\n",
       "    </tr>\n",
       "    <tr>\n",
       "      <th>167211</th>\n",
       "      <td>1</td>\n",
       "      <td>1</td>\n",
       "      <td>SL/SC/42016/421870</td>\n",
       "      <td>SL/SC/42007/420540/3157245</td>\n",
       "      <td>138.4773</td>\n",
       "      <td>104.940000</td>\n",
       "      <td>138.4773</td>\n",
       "      <td>104.940000</td>\n",
       "      <td>2</td>\n",
       "      <td>0_1</td>\n",
       "      <td>3_5</td>\n",
       "      <td>-28.4713</td>\n",
       "      <td>-49.0144</td>\n",
       "      <td>-27.5945</td>\n",
       "      <td>-48.5477</td>\n",
       "      <td>1</td>\n",
       "    </tr>\n",
       "    <tr>\n",
       "      <th>167212</th>\n",
       "      <td>1</td>\n",
       "      <td>1</td>\n",
       "      <td>SL/SC/42016/421870</td>\n",
       "      <td>SL/SC/42015/420460/2594277</td>\n",
       "      <td>54.6210</td>\n",
       "      <td>49.316667</td>\n",
       "      <td>54.6210</td>\n",
       "      <td>49.316667</td>\n",
       "      <td>2</td>\n",
       "      <td>0_0</td>\n",
       "      <td>3_4</td>\n",
       "      <td>-28.4713</td>\n",
       "      <td>-49.0144</td>\n",
       "      <td>-28.6723</td>\n",
       "      <td>-49.3729</td>\n",
       "      <td>1</td>\n",
       "    </tr>\n",
       "    <tr>\n",
       "      <th>167213</th>\n",
       "      <td>1</td>\n",
       "      <td>1</td>\n",
       "      <td>SL/SC/42016/421870</td>\n",
       "      <td>SL/SC/42016/420280/2665883</td>\n",
       "      <td>35.5439</td>\n",
       "      <td>37.493333</td>\n",
       "      <td>71.0878</td>\n",
       "      <td>74.986667</td>\n",
       "      <td>1</td>\n",
       "      <td>0_0</td>\n",
       "      <td>3_3</td>\n",
       "      <td>-28.4713</td>\n",
       "      <td>-49.0144</td>\n",
       "      <td>-28.2681</td>\n",
       "      <td>-49.1701</td>\n",
       "      <td>2</td>\n",
       "    </tr>\n",
       "    <tr>\n",
       "      <th>167214</th>\n",
       "      <td>1</td>\n",
       "      <td>1</td>\n",
       "      <td>SL/SC/42016/421870</td>\n",
       "      <td>SL/SC/42016/420730/2385880</td>\n",
       "      <td>53.9610</td>\n",
       "      <td>45.353333</td>\n",
       "      <td>53.9610</td>\n",
       "      <td>45.353333</td>\n",
       "      <td>1</td>\n",
       "      <td>0_0</td>\n",
       "      <td>3_3</td>\n",
       "      <td>-28.4713</td>\n",
       "      <td>-49.0144</td>\n",
       "      <td>-28.2284</td>\n",
       "      <td>-48.6659</td>\n",
       "      <td>1</td>\n",
       "    </tr>\n",
       "    <tr>\n",
       "      <th>167215</th>\n",
       "      <td>1</td>\n",
       "      <td>1</td>\n",
       "      <td>SL/SC/42016/421870</td>\n",
       "      <td>SL/SC/42016/421870/2491710</td>\n",
       "      <td>0.0000</td>\n",
       "      <td>0.000000</td>\n",
       "      <td>0.0000</td>\n",
       "      <td>0.000000</td>\n",
       "      <td>0</td>\n",
       "      <td>0_0</td>\n",
       "      <td>3_3</td>\n",
       "      <td>-28.4713</td>\n",
       "      <td>-49.0144</td>\n",
       "      <td>-28.4713</td>\n",
       "      <td>-49.0144</td>\n",
       "      <td>441</td>\n",
       "    </tr>\n",
       "  </tbody>\n",
       "</table>\n",
       "<p>167216 rows × 16 columns</p>\n",
       "</div>"
      ],
      "text/plain": [
       "        bienio  parto_normal              origem                     destino  \\\n",
       "0            0             0  CO/DF/53001/530010  CO/DF/53001/530010/0010464   \n",
       "1            0             0  CO/DF/53001/530010  CO/DF/53001/530010/0010472   \n",
       "2            0             0  CO/DF/53001/530010  CO/DF/53001/530010/0010480   \n",
       "3            0             0  CO/DF/53001/530010  CO/DF/53001/530010/0010499   \n",
       "4            0             0  CO/DF/53001/530010  CO/DF/53001/530010/0010502   \n",
       "...        ...           ...                 ...                         ...   \n",
       "167211       1             1  SL/SC/42016/421870  SL/SC/42007/420540/3157245   \n",
       "167212       1             1  SL/SC/42016/421870  SL/SC/42015/420460/2594277   \n",
       "167213       1             1  SL/SC/42016/421870  SL/SC/42016/420280/2665883   \n",
       "167214       1             1  SL/SC/42016/421870  SL/SC/42016/420730/2385880   \n",
       "167215       1             1  SL/SC/42016/421870  SL/SC/42016/421870/2491710   \n",
       "\n",
       "        distancia (km)  tempo (min)  dist_pond  tempo_pond  criticidade  \\\n",
       "0               0.0000     0.000000     0.0000    0.000000            0   \n",
       "1               0.0000     0.000000     0.0000    0.000000            0   \n",
       "2               0.0000     0.000000     0.0000    0.000000            0   \n",
       "3               0.0000     0.000000     0.0000    0.000000            0   \n",
       "4               0.0000     0.000000     0.0000    0.000000            0   \n",
       "...                ...          ...        ...         ...          ...   \n",
       "167211        138.4773   104.940000   138.4773  104.940000            2   \n",
       "167212         54.6210    49.316667    54.6210   49.316667            2   \n",
       "167213         35.5439    37.493333    71.0878   74.986667            1   \n",
       "167214         53.9610    45.353333    53.9610   45.353333            1   \n",
       "167215          0.0000     0.000000     0.0000    0.000000            0   \n",
       "\n",
       "       capitais socioecon  origem_latitude  origem_longitude  \\\n",
       "0           1_1       5_5         -15.7795          -47.9297   \n",
       "1           1_1       5_5         -15.7795          -47.9297   \n",
       "2           1_1       5_5         -15.7795          -47.9297   \n",
       "3           1_1       5_5         -15.7795          -47.9297   \n",
       "4           1_1       5_5         -15.7795          -47.9297   \n",
       "...         ...       ...              ...               ...   \n",
       "167211      0_1       3_5         -28.4713          -49.0144   \n",
       "167212      0_0       3_4         -28.4713          -49.0144   \n",
       "167213      0_0       3_3         -28.4713          -49.0144   \n",
       "167214      0_0       3_3         -28.4713          -49.0144   \n",
       "167215      0_0       3_3         -28.4713          -49.0144   \n",
       "\n",
       "        destino_latitude  destino_longitude  count  \n",
       "0               -15.7795           -47.9297    260  \n",
       "1               -15.7795           -47.9297    282  \n",
       "2               -15.7795           -47.9297   3323  \n",
       "3               -15.7795           -47.9297   3368  \n",
       "4               -15.7795           -47.9297    964  \n",
       "...                  ...                ...    ...  \n",
       "167211          -27.5945           -48.5477      1  \n",
       "167212          -28.6723           -49.3729      1  \n",
       "167213          -28.2681           -49.1701      2  \n",
       "167214          -28.2284           -48.6659      1  \n",
       "167215          -28.4713           -49.0144    441  \n",
       "\n",
       "[167216 rows x 16 columns]"
      ]
     },
     "execution_count": 2,
     "metadata": {},
     "output_type": "execute_result"
    }
   ],
   "source": [
    "path_proc = get_path('GESTANTES', 'procs_bienio.csv.gzip')\n",
    "df_proc_bienio = pd.read_csv(path_proc)\n",
    "df_proc_bienio"
   ]
  },
  {
   "cell_type": "markdown",
   "metadata": {},
   "source": [
    "### Filtrando `UF = RJ`"
   ]
  },
  {
   "cell_type": "code",
   "execution_count": 3,
   "metadata": {},
   "outputs": [
    {
     "data": {
      "text/html": [
       "<div>\n",
       "<style scoped>\n",
       "    .dataframe tbody tr th:only-of-type {\n",
       "        vertical-align: middle;\n",
       "    }\n",
       "\n",
       "    .dataframe tbody tr th {\n",
       "        vertical-align: top;\n",
       "    }\n",
       "\n",
       "    .dataframe thead th {\n",
       "        text-align: right;\n",
       "    }\n",
       "</style>\n",
       "<table border=\"1\" class=\"dataframe\">\n",
       "  <thead>\n",
       "    <tr style=\"text-align: right;\">\n",
       "      <th></th>\n",
       "      <th>bienio</th>\n",
       "      <th>parto_normal</th>\n",
       "      <th>origem</th>\n",
       "      <th>destino</th>\n",
       "      <th>distancia (km)</th>\n",
       "      <th>tempo (min)</th>\n",
       "      <th>dist_pond</th>\n",
       "      <th>tempo_pond</th>\n",
       "      <th>criticidade</th>\n",
       "      <th>capitais</th>\n",
       "      <th>socioecon</th>\n",
       "      <th>origem_latitude</th>\n",
       "      <th>origem_longitude</th>\n",
       "      <th>destino_latitude</th>\n",
       "      <th>destino_longitude</th>\n",
       "      <th>count</th>\n",
       "    </tr>\n",
       "  </thead>\n",
       "  <tbody>\n",
       "    <tr>\n",
       "      <th>27697</th>\n",
       "      <td>0</td>\n",
       "      <td>0</td>\n",
       "      <td>SD/RJ/33001/330010</td>\n",
       "      <td>SD/ES/32002/320245/2448203</td>\n",
       "      <td>614.6130</td>\n",
       "      <td>459.768333</td>\n",
       "      <td>1229.2260</td>\n",
       "      <td>919.536667</td>\n",
       "      <td>3</td>\n",
       "      <td>0_0</td>\n",
       "      <td>4_5</td>\n",
       "      <td>-23.0011</td>\n",
       "      <td>-44.3196</td>\n",
       "      <td>-20.2347</td>\n",
       "      <td>-41.5087</td>\n",
       "      <td>2</td>\n",
       "    </tr>\n",
       "    <tr>\n",
       "      <th>27698</th>\n",
       "      <td>0</td>\n",
       "      <td>0</td>\n",
       "      <td>SD/RJ/33001/330010</td>\n",
       "      <td>SD/RJ/33001/330010/2280868</td>\n",
       "      <td>0.0000</td>\n",
       "      <td>0.000000</td>\n",
       "      <td>0.0000</td>\n",
       "      <td>0.000000</td>\n",
       "      <td>0</td>\n",
       "      <td>0_0</td>\n",
       "      <td>4_4</td>\n",
       "      <td>-23.0011</td>\n",
       "      <td>-44.3196</td>\n",
       "      <td>-23.0011</td>\n",
       "      <td>-44.3196</td>\n",
       "      <td>533</td>\n",
       "    </tr>\n",
       "    <tr>\n",
       "      <th>27699</th>\n",
       "      <td>0</td>\n",
       "      <td>0</td>\n",
       "      <td>SD/RJ/33001/330010</td>\n",
       "      <td>SD/RJ/33001/330010/2281384</td>\n",
       "      <td>0.0000</td>\n",
       "      <td>0.000000</td>\n",
       "      <td>0.0000</td>\n",
       "      <td>0.000000</td>\n",
       "      <td>0</td>\n",
       "      <td>0_0</td>\n",
       "      <td>4_4</td>\n",
       "      <td>-23.0011</td>\n",
       "      <td>-44.3196</td>\n",
       "      <td>-23.0011</td>\n",
       "      <td>-44.3196</td>\n",
       "      <td>116</td>\n",
       "    </tr>\n",
       "    <tr>\n",
       "      <th>27700</th>\n",
       "      <td>0</td>\n",
       "      <td>0</td>\n",
       "      <td>SD/RJ/33001/330010</td>\n",
       "      <td>SD/SP/35172/351840/2081512</td>\n",
       "      <td>222.9879</td>\n",
       "      <td>208.666667</td>\n",
       "      <td>222.9879</td>\n",
       "      <td>208.666667</td>\n",
       "      <td>3</td>\n",
       "      <td>0_0</td>\n",
       "      <td>4_4</td>\n",
       "      <td>-23.0011</td>\n",
       "      <td>-44.3196</td>\n",
       "      <td>-22.8075</td>\n",
       "      <td>-45.1938</td>\n",
       "      <td>1</td>\n",
       "    </tr>\n",
       "    <tr>\n",
       "      <th>27701</th>\n",
       "      <td>0</td>\n",
       "      <td>0</td>\n",
       "      <td>SD/RJ/33001/330260</td>\n",
       "      <td>SD/RJ/33001/330010/2280868</td>\n",
       "      <td>56.7885</td>\n",
       "      <td>47.100000</td>\n",
       "      <td>56.7885</td>\n",
       "      <td>47.100000</td>\n",
       "      <td>1</td>\n",
       "      <td>0_0</td>\n",
       "      <td>4_4</td>\n",
       "      <td>-22.9594</td>\n",
       "      <td>-44.0409</td>\n",
       "      <td>-23.0011</td>\n",
       "      <td>-44.3196</td>\n",
       "      <td>1</td>\n",
       "    </tr>\n",
       "    <tr>\n",
       "      <th>...</th>\n",
       "      <td>...</td>\n",
       "      <td>...</td>\n",
       "      <td>...</td>\n",
       "      <td>...</td>\n",
       "      <td>...</td>\n",
       "      <td>...</td>\n",
       "      <td>...</td>\n",
       "      <td>...</td>\n",
       "      <td>...</td>\n",
       "      <td>...</td>\n",
       "      <td>...</td>\n",
       "      <td>...</td>\n",
       "      <td>...</td>\n",
       "      <td>...</td>\n",
       "      <td>...</td>\n",
       "      <td>...</td>\n",
       "    </tr>\n",
       "    <tr>\n",
       "      <th>156313</th>\n",
       "      <td>1</td>\n",
       "      <td>1</td>\n",
       "      <td>SD/RJ/33009/330590</td>\n",
       "      <td>SD/RJ/33006/330330/0012521</td>\n",
       "      <td>186.0775</td>\n",
       "      <td>184.508333</td>\n",
       "      <td>186.0775</td>\n",
       "      <td>184.508333</td>\n",
       "      <td>2</td>\n",
       "      <td>0_0</td>\n",
       "      <td>3_5</td>\n",
       "      <td>-22.0638</td>\n",
       "      <td>-42.0643</td>\n",
       "      <td>-22.8832</td>\n",
       "      <td>-43.1034</td>\n",
       "      <td>1</td>\n",
       "    </tr>\n",
       "    <tr>\n",
       "      <th>156314</th>\n",
       "      <td>1</td>\n",
       "      <td>1</td>\n",
       "      <td>SD/RJ/33009/330590</td>\n",
       "      <td>SD/RJ/33008/330240/5412447</td>\n",
       "      <td>80.5919</td>\n",
       "      <td>75.171667</td>\n",
       "      <td>80.5919</td>\n",
       "      <td>75.171667</td>\n",
       "      <td>2</td>\n",
       "      <td>0_0</td>\n",
       "      <td>3_5</td>\n",
       "      <td>-22.0638</td>\n",
       "      <td>-42.0643</td>\n",
       "      <td>-22.3768</td>\n",
       "      <td>-41.7848</td>\n",
       "      <td>1</td>\n",
       "    </tr>\n",
       "    <tr>\n",
       "      <th>156315</th>\n",
       "      <td>1</td>\n",
       "      <td>1</td>\n",
       "      <td>SD/RJ/33009/330590</td>\n",
       "      <td>SD/RJ/33008/330415/2267209</td>\n",
       "      <td>79.7153</td>\n",
       "      <td>75.683333</td>\n",
       "      <td>79.7153</td>\n",
       "      <td>75.683333</td>\n",
       "      <td>2</td>\n",
       "      <td>0_0</td>\n",
       "      <td>3_5</td>\n",
       "      <td>-22.0638</td>\n",
       "      <td>-42.0643</td>\n",
       "      <td>-22.1031</td>\n",
       "      <td>-41.4693</td>\n",
       "      <td>1</td>\n",
       "    </tr>\n",
       "    <tr>\n",
       "      <th>156316</th>\n",
       "      <td>1</td>\n",
       "      <td>1</td>\n",
       "      <td>SD/RJ/33009/330590</td>\n",
       "      <td>SD/RJ/33009/330340/2271826</td>\n",
       "      <td>81.5882</td>\n",
       "      <td>79.888333</td>\n",
       "      <td>81.5882</td>\n",
       "      <td>79.888333</td>\n",
       "      <td>1</td>\n",
       "      <td>0_0</td>\n",
       "      <td>3_3</td>\n",
       "      <td>-22.0638</td>\n",
       "      <td>-42.0643</td>\n",
       "      <td>-22.2932</td>\n",
       "      <td>-42.5377</td>\n",
       "      <td>1</td>\n",
       "    </tr>\n",
       "    <tr>\n",
       "      <th>156317</th>\n",
       "      <td>1</td>\n",
       "      <td>1</td>\n",
       "      <td>SD/RJ/33009/330590</td>\n",
       "      <td>SD/RJ/33009/330590/3584968</td>\n",
       "      <td>0.0000</td>\n",
       "      <td>0.000000</td>\n",
       "      <td>0.0000</td>\n",
       "      <td>0.000000</td>\n",
       "      <td>0</td>\n",
       "      <td>0_0</td>\n",
       "      <td>3_3</td>\n",
       "      <td>-22.0638</td>\n",
       "      <td>-42.0643</td>\n",
       "      <td>-22.0638</td>\n",
       "      <td>-42.0643</td>\n",
       "      <td>6</td>\n",
       "    </tr>\n",
       "  </tbody>\n",
       "</table>\n",
       "<p>4512 rows × 16 columns</p>\n",
       "</div>"
      ],
      "text/plain": [
       "        bienio  parto_normal              origem                     destino  \\\n",
       "27697        0             0  SD/RJ/33001/330010  SD/ES/32002/320245/2448203   \n",
       "27698        0             0  SD/RJ/33001/330010  SD/RJ/33001/330010/2280868   \n",
       "27699        0             0  SD/RJ/33001/330010  SD/RJ/33001/330010/2281384   \n",
       "27700        0             0  SD/RJ/33001/330010  SD/SP/35172/351840/2081512   \n",
       "27701        0             0  SD/RJ/33001/330260  SD/RJ/33001/330010/2280868   \n",
       "...        ...           ...                 ...                         ...   \n",
       "156313       1             1  SD/RJ/33009/330590  SD/RJ/33006/330330/0012521   \n",
       "156314       1             1  SD/RJ/33009/330590  SD/RJ/33008/330240/5412447   \n",
       "156315       1             1  SD/RJ/33009/330590  SD/RJ/33008/330415/2267209   \n",
       "156316       1             1  SD/RJ/33009/330590  SD/RJ/33009/330340/2271826   \n",
       "156317       1             1  SD/RJ/33009/330590  SD/RJ/33009/330590/3584968   \n",
       "\n",
       "        distancia (km)  tempo (min)  dist_pond  tempo_pond  criticidade  \\\n",
       "27697         614.6130   459.768333  1229.2260  919.536667            3   \n",
       "27698           0.0000     0.000000     0.0000    0.000000            0   \n",
       "27699           0.0000     0.000000     0.0000    0.000000            0   \n",
       "27700         222.9879   208.666667   222.9879  208.666667            3   \n",
       "27701          56.7885    47.100000    56.7885   47.100000            1   \n",
       "...                ...          ...        ...         ...          ...   \n",
       "156313        186.0775   184.508333   186.0775  184.508333            2   \n",
       "156314         80.5919    75.171667    80.5919   75.171667            2   \n",
       "156315         79.7153    75.683333    79.7153   75.683333            2   \n",
       "156316         81.5882    79.888333    81.5882   79.888333            1   \n",
       "156317          0.0000     0.000000     0.0000    0.000000            0   \n",
       "\n",
       "       capitais socioecon  origem_latitude  origem_longitude  \\\n",
       "27697       0_0       4_5         -23.0011          -44.3196   \n",
       "27698       0_0       4_4         -23.0011          -44.3196   \n",
       "27699       0_0       4_4         -23.0011          -44.3196   \n",
       "27700       0_0       4_4         -23.0011          -44.3196   \n",
       "27701       0_0       4_4         -22.9594          -44.0409   \n",
       "...         ...       ...              ...               ...   \n",
       "156313      0_0       3_5         -22.0638          -42.0643   \n",
       "156314      0_0       3_5         -22.0638          -42.0643   \n",
       "156315      0_0       3_5         -22.0638          -42.0643   \n",
       "156316      0_0       3_3         -22.0638          -42.0643   \n",
       "156317      0_0       3_3         -22.0638          -42.0643   \n",
       "\n",
       "        destino_latitude  destino_longitude  count  \n",
       "27697           -20.2347           -41.5087      2  \n",
       "27698           -23.0011           -44.3196    533  \n",
       "27699           -23.0011           -44.3196    116  \n",
       "27700           -22.8075           -45.1938      1  \n",
       "27701           -23.0011           -44.3196      1  \n",
       "...                  ...                ...    ...  \n",
       "156313          -22.8832           -43.1034      1  \n",
       "156314          -22.3768           -41.7848      1  \n",
       "156315          -22.1031           -41.4693      1  \n",
       "156316          -22.2932           -42.5377      1  \n",
       "156317          -22.0638           -42.0643      6  \n",
       "\n",
       "[4512 rows x 16 columns]"
      ]
     },
     "execution_count": 3,
     "metadata": {},
     "output_type": "execute_result"
    }
   ],
   "source": [
    "df_proc = df_proc_bienio[\n",
    "  (\n",
    "    df_proc_bienio['origem'].str.contains('/RJ/')\n",
    "  ) & (\n",
    "    True # df_proc_bienio['destino'].str.contains('/RJ/')\n",
    "  )\n",
    "]\n",
    "df_proc"
   ]
  },
  {
   "cell_type": "markdown",
   "metadata": {},
   "source": [
    "### Contabilizando ocorrências"
   ]
  },
  {
   "cell_type": "code",
   "execution_count": 4,
   "metadata": {},
   "outputs": [],
   "source": [
    "cols_proc = [\n",
    "  'bienio',\n",
    "  'parto_normal',\n",
    "  'count'\n",
    "]"
   ]
  },
  {
   "cell_type": "code",
   "execution_count": 5,
   "metadata": {},
   "outputs": [
    {
     "data": {
      "text/html": [
       "<div>\n",
       "<style scoped>\n",
       "    .dataframe tbody tr th:only-of-type {\n",
       "        vertical-align: middle;\n",
       "    }\n",
       "\n",
       "    .dataframe tbody tr th {\n",
       "        vertical-align: top;\n",
       "    }\n",
       "\n",
       "    .dataframe thead th {\n",
       "        text-align: right;\n",
       "    }\n",
       "</style>\n",
       "<table border=\"1\" class=\"dataframe\">\n",
       "  <thead>\n",
       "    <tr style=\"text-align: right;\">\n",
       "      <th></th>\n",
       "      <th>Biênio</th>\n",
       "      <th>Parto</th>\n",
       "      <th>Procedimentos</th>\n",
       "    </tr>\n",
       "  </thead>\n",
       "  <tbody>\n",
       "    <tr>\n",
       "      <th>0</th>\n",
       "      <td>2010-2011</td>\n",
       "      <td>Parto Cesárea</td>\n",
       "      <td>39323</td>\n",
       "    </tr>\n",
       "    <tr>\n",
       "      <th>1</th>\n",
       "      <td>2010-2011</td>\n",
       "      <td>Parto Normal</td>\n",
       "      <td>148327</td>\n",
       "    </tr>\n",
       "    <tr>\n",
       "      <th>2</th>\n",
       "      <td>2018-2019</td>\n",
       "      <td>Parto Cesárea</td>\n",
       "      <td>82583</td>\n",
       "    </tr>\n",
       "    <tr>\n",
       "      <th>3</th>\n",
       "      <td>2018-2019</td>\n",
       "      <td>Parto Normal</td>\n",
       "      <td>148010</td>\n",
       "    </tr>\n",
       "  </tbody>\n",
       "</table>\n",
       "</div>"
      ],
      "text/plain": [
       "      Biênio          Parto  Procedimentos\n",
       "0  2010-2011  Parto Cesárea          39323\n",
       "1  2010-2011   Parto Normal         148327\n",
       "2  2018-2019  Parto Cesárea          82583\n",
       "3  2018-2019   Parto Normal         148010"
      ]
     },
     "execution_count": 5,
     "metadata": {},
     "output_type": "execute_result"
    }
   ],
   "source": [
    "df_proc = df_proc[cols_proc]\n",
    "df_proc = df_proc.groupby(cols_proc[:2], as_index=False).sum()\n",
    "df_proc['bienio'] = df_proc['bienio'].map({\n",
    "  0: '2010-2011',\n",
    "  1: '2018-2019',\n",
    "})\n",
    "df_proc['parto_normal'] = df_proc['parto_normal'].map({\n",
    "  0: 'Parto Cesárea',\n",
    "  1: 'Parto Normal',\n",
    "})\n",
    "df_proc = df_proc.rename(columns={\n",
    "  'bienio': 'Biênio',\n",
    "  'parto_normal': 'Parto',\n",
    "  'count': 'Procedimentos',\n",
    "})\n",
    "df_proc"
   ]
  },
  {
   "cell_type": "markdown",
   "metadata": {},
   "source": [
    "# Resultados"
   ]
  },
  {
   "cell_type": "markdown",
   "metadata": {},
   "source": [
    "## Partos realizados no SUS"
   ]
  },
  {
   "cell_type": "markdown",
   "metadata": {},
   "source": [
    "Residentes do estado do Rio de Janeiro."
   ]
  },
  {
   "cell_type": "code",
   "execution_count": 6,
   "metadata": {},
   "outputs": [
    {
     "data": {
      "text/html": [
       "        <script type=\"text/javascript\">\n",
       "        window.PlotlyConfig = {MathJaxConfig: 'local'};\n",
       "        if (window.MathJax && window.MathJax.Hub && window.MathJax.Hub.Config) {window.MathJax.Hub.Config({SVG: {font: \"STIX-Web\"}});}\n",
       "        if (typeof require !== 'undefined') {\n",
       "        require.undef(\"plotly\");\n",
       "        requirejs.config({\n",
       "            paths: {\n",
       "                'plotly': ['https://cdn.plot.ly/plotly-2.16.1.min']\n",
       "            }\n",
       "        });\n",
       "        require(['plotly'], function(Plotly) {\n",
       "            window._Plotly = Plotly;\n",
       "        });\n",
       "        }\n",
       "        </script>\n",
       "        "
      ]
     },
     "metadata": {},
     "output_type": "display_data"
    },
    {
     "data": {
      "application/vnd.plotly.v1+json": {
       "config": {
        "plotlyServerURL": "https://plot.ly"
       },
       "data": [
        {
         "alignmentgroup": "True",
         "hovertemplate": "Biênio=2010-2011<br>Parto=%{x}<br>Procedimentos=%{y}<extra></extra>",
         "legendgroup": "2010-2011",
         "marker": {
          "color": "#31A885",
          "pattern": {
           "shape": ""
          }
         },
         "name": "2010-2011",
         "offsetgroup": "2010-2011",
         "orientation": "v",
         "showlegend": true,
         "textposition": "auto",
         "texttemplate": "%{y}",
         "type": "bar",
         "x": [
          "Parto Cesárea",
          "Parto Normal"
         ],
         "xaxis": "x",
         "y": [
          39323,
          148327
         ],
         "yaxis": "y"
        },
        {
         "alignmentgroup": "True",
         "hovertemplate": "Biênio=2018-2019<br>Parto=%{x}<br>Procedimentos=%{y}<extra></extra>",
         "legendgroup": "2018-2019",
         "marker": {
          "color": "#DD6F1C",
          "pattern": {
           "shape": ""
          }
         },
         "name": "2018-2019",
         "offsetgroup": "2018-2019",
         "orientation": "v",
         "showlegend": true,
         "textposition": "auto",
         "texttemplate": "%{y}",
         "type": "bar",
         "x": [
          "Parto Cesárea",
          "Parto Normal"
         ],
         "xaxis": "x",
         "y": [
          82583,
          148010
         ],
         "yaxis": "y"
        }
       ],
       "layout": {
        "barmode": "group",
        "legend": {
         "title": {
          "text": "Biênio"
         },
         "tracegroupgap": 0
        },
        "template": {
         "data": {
          "bar": [
           {
            "error_x": {
             "color": "#2a3f5f"
            },
            "error_y": {
             "color": "#2a3f5f"
            },
            "marker": {
             "line": {
              "color": "#E5ECF6",
              "width": 0.5
             },
             "pattern": {
              "fillmode": "overlay",
              "size": 10,
              "solidity": 0.2
             }
            },
            "type": "bar"
           }
          ],
          "barpolar": [
           {
            "marker": {
             "line": {
              "color": "#E5ECF6",
              "width": 0.5
             },
             "pattern": {
              "fillmode": "overlay",
              "size": 10,
              "solidity": 0.2
             }
            },
            "type": "barpolar"
           }
          ],
          "carpet": [
           {
            "aaxis": {
             "endlinecolor": "#2a3f5f",
             "gridcolor": "white",
             "linecolor": "white",
             "minorgridcolor": "white",
             "startlinecolor": "#2a3f5f"
            },
            "baxis": {
             "endlinecolor": "#2a3f5f",
             "gridcolor": "white",
             "linecolor": "white",
             "minorgridcolor": "white",
             "startlinecolor": "#2a3f5f"
            },
            "type": "carpet"
           }
          ],
          "choropleth": [
           {
            "colorbar": {
             "outlinewidth": 0,
             "ticks": ""
            },
            "type": "choropleth"
           }
          ],
          "contour": [
           {
            "colorbar": {
             "outlinewidth": 0,
             "ticks": ""
            },
            "colorscale": [
             [
              0,
              "#0d0887"
             ],
             [
              0.1111111111111111,
              "#46039f"
             ],
             [
              0.2222222222222222,
              "#7201a8"
             ],
             [
              0.3333333333333333,
              "#9c179e"
             ],
             [
              0.4444444444444444,
              "#bd3786"
             ],
             [
              0.5555555555555556,
              "#d8576b"
             ],
             [
              0.6666666666666666,
              "#ed7953"
             ],
             [
              0.7777777777777778,
              "#fb9f3a"
             ],
             [
              0.8888888888888888,
              "#fdca26"
             ],
             [
              1,
              "#f0f921"
             ]
            ],
            "type": "contour"
           }
          ],
          "contourcarpet": [
           {
            "colorbar": {
             "outlinewidth": 0,
             "ticks": ""
            },
            "type": "contourcarpet"
           }
          ],
          "heatmap": [
           {
            "colorbar": {
             "outlinewidth": 0,
             "ticks": ""
            },
            "colorscale": [
             [
              0,
              "#0d0887"
             ],
             [
              0.1111111111111111,
              "#46039f"
             ],
             [
              0.2222222222222222,
              "#7201a8"
             ],
             [
              0.3333333333333333,
              "#9c179e"
             ],
             [
              0.4444444444444444,
              "#bd3786"
             ],
             [
              0.5555555555555556,
              "#d8576b"
             ],
             [
              0.6666666666666666,
              "#ed7953"
             ],
             [
              0.7777777777777778,
              "#fb9f3a"
             ],
             [
              0.8888888888888888,
              "#fdca26"
             ],
             [
              1,
              "#f0f921"
             ]
            ],
            "type": "heatmap"
           }
          ],
          "heatmapgl": [
           {
            "colorbar": {
             "outlinewidth": 0,
             "ticks": ""
            },
            "colorscale": [
             [
              0,
              "#0d0887"
             ],
             [
              0.1111111111111111,
              "#46039f"
             ],
             [
              0.2222222222222222,
              "#7201a8"
             ],
             [
              0.3333333333333333,
              "#9c179e"
             ],
             [
              0.4444444444444444,
              "#bd3786"
             ],
             [
              0.5555555555555556,
              "#d8576b"
             ],
             [
              0.6666666666666666,
              "#ed7953"
             ],
             [
              0.7777777777777778,
              "#fb9f3a"
             ],
             [
              0.8888888888888888,
              "#fdca26"
             ],
             [
              1,
              "#f0f921"
             ]
            ],
            "type": "heatmapgl"
           }
          ],
          "histogram": [
           {
            "marker": {
             "pattern": {
              "fillmode": "overlay",
              "size": 10,
              "solidity": 0.2
             }
            },
            "type": "histogram"
           }
          ],
          "histogram2d": [
           {
            "colorbar": {
             "outlinewidth": 0,
             "ticks": ""
            },
            "colorscale": [
             [
              0,
              "#0d0887"
             ],
             [
              0.1111111111111111,
              "#46039f"
             ],
             [
              0.2222222222222222,
              "#7201a8"
             ],
             [
              0.3333333333333333,
              "#9c179e"
             ],
             [
              0.4444444444444444,
              "#bd3786"
             ],
             [
              0.5555555555555556,
              "#d8576b"
             ],
             [
              0.6666666666666666,
              "#ed7953"
             ],
             [
              0.7777777777777778,
              "#fb9f3a"
             ],
             [
              0.8888888888888888,
              "#fdca26"
             ],
             [
              1,
              "#f0f921"
             ]
            ],
            "type": "histogram2d"
           }
          ],
          "histogram2dcontour": [
           {
            "colorbar": {
             "outlinewidth": 0,
             "ticks": ""
            },
            "colorscale": [
             [
              0,
              "#0d0887"
             ],
             [
              0.1111111111111111,
              "#46039f"
             ],
             [
              0.2222222222222222,
              "#7201a8"
             ],
             [
              0.3333333333333333,
              "#9c179e"
             ],
             [
              0.4444444444444444,
              "#bd3786"
             ],
             [
              0.5555555555555556,
              "#d8576b"
             ],
             [
              0.6666666666666666,
              "#ed7953"
             ],
             [
              0.7777777777777778,
              "#fb9f3a"
             ],
             [
              0.8888888888888888,
              "#fdca26"
             ],
             [
              1,
              "#f0f921"
             ]
            ],
            "type": "histogram2dcontour"
           }
          ],
          "mesh3d": [
           {
            "colorbar": {
             "outlinewidth": 0,
             "ticks": ""
            },
            "type": "mesh3d"
           }
          ],
          "parcoords": [
           {
            "line": {
             "colorbar": {
              "outlinewidth": 0,
              "ticks": ""
             }
            },
            "type": "parcoords"
           }
          ],
          "pie": [
           {
            "automargin": true,
            "type": "pie"
           }
          ],
          "scatter": [
           {
            "fillpattern": {
             "fillmode": "overlay",
             "size": 10,
             "solidity": 0.2
            },
            "type": "scatter"
           }
          ],
          "scatter3d": [
           {
            "line": {
             "colorbar": {
              "outlinewidth": 0,
              "ticks": ""
             }
            },
            "marker": {
             "colorbar": {
              "outlinewidth": 0,
              "ticks": ""
             }
            },
            "type": "scatter3d"
           }
          ],
          "scattercarpet": [
           {
            "marker": {
             "colorbar": {
              "outlinewidth": 0,
              "ticks": ""
             }
            },
            "type": "scattercarpet"
           }
          ],
          "scattergeo": [
           {
            "marker": {
             "colorbar": {
              "outlinewidth": 0,
              "ticks": ""
             }
            },
            "type": "scattergeo"
           }
          ],
          "scattergl": [
           {
            "marker": {
             "colorbar": {
              "outlinewidth": 0,
              "ticks": ""
             }
            },
            "type": "scattergl"
           }
          ],
          "scattermapbox": [
           {
            "marker": {
             "colorbar": {
              "outlinewidth": 0,
              "ticks": ""
             }
            },
            "type": "scattermapbox"
           }
          ],
          "scatterpolar": [
           {
            "marker": {
             "colorbar": {
              "outlinewidth": 0,
              "ticks": ""
             }
            },
            "type": "scatterpolar"
           }
          ],
          "scatterpolargl": [
           {
            "marker": {
             "colorbar": {
              "outlinewidth": 0,
              "ticks": ""
             }
            },
            "type": "scatterpolargl"
           }
          ],
          "scatterternary": [
           {
            "marker": {
             "colorbar": {
              "outlinewidth": 0,
              "ticks": ""
             }
            },
            "type": "scatterternary"
           }
          ],
          "surface": [
           {
            "colorbar": {
             "outlinewidth": 0,
             "ticks": ""
            },
            "colorscale": [
             [
              0,
              "#0d0887"
             ],
             [
              0.1111111111111111,
              "#46039f"
             ],
             [
              0.2222222222222222,
              "#7201a8"
             ],
             [
              0.3333333333333333,
              "#9c179e"
             ],
             [
              0.4444444444444444,
              "#bd3786"
             ],
             [
              0.5555555555555556,
              "#d8576b"
             ],
             [
              0.6666666666666666,
              "#ed7953"
             ],
             [
              0.7777777777777778,
              "#fb9f3a"
             ],
             [
              0.8888888888888888,
              "#fdca26"
             ],
             [
              1,
              "#f0f921"
             ]
            ],
            "type": "surface"
           }
          ],
          "table": [
           {
            "cells": {
             "fill": {
              "color": "#EBF0F8"
             },
             "line": {
              "color": "white"
             }
            },
            "header": {
             "fill": {
              "color": "#C8D4E3"
             },
             "line": {
              "color": "white"
             }
            },
            "type": "table"
           }
          ]
         },
         "layout": {
          "annotationdefaults": {
           "arrowcolor": "#2a3f5f",
           "arrowhead": 0,
           "arrowwidth": 1
          },
          "autotypenumbers": "strict",
          "coloraxis": {
           "colorbar": {
            "outlinewidth": 0,
            "ticks": ""
           }
          },
          "colorscale": {
           "diverging": [
            [
             0,
             "#8e0152"
            ],
            [
             0.1,
             "#c51b7d"
            ],
            [
             0.2,
             "#de77ae"
            ],
            [
             0.3,
             "#f1b6da"
            ],
            [
             0.4,
             "#fde0ef"
            ],
            [
             0.5,
             "#f7f7f7"
            ],
            [
             0.6,
             "#e6f5d0"
            ],
            [
             0.7,
             "#b8e186"
            ],
            [
             0.8,
             "#7fbc41"
            ],
            [
             0.9,
             "#4d9221"
            ],
            [
             1,
             "#276419"
            ]
           ],
           "sequential": [
            [
             0,
             "#0d0887"
            ],
            [
             0.1111111111111111,
             "#46039f"
            ],
            [
             0.2222222222222222,
             "#7201a8"
            ],
            [
             0.3333333333333333,
             "#9c179e"
            ],
            [
             0.4444444444444444,
             "#bd3786"
            ],
            [
             0.5555555555555556,
             "#d8576b"
            ],
            [
             0.6666666666666666,
             "#ed7953"
            ],
            [
             0.7777777777777778,
             "#fb9f3a"
            ],
            [
             0.8888888888888888,
             "#fdca26"
            ],
            [
             1,
             "#f0f921"
            ]
           ],
           "sequentialminus": [
            [
             0,
             "#0d0887"
            ],
            [
             0.1111111111111111,
             "#46039f"
            ],
            [
             0.2222222222222222,
             "#7201a8"
            ],
            [
             0.3333333333333333,
             "#9c179e"
            ],
            [
             0.4444444444444444,
             "#bd3786"
            ],
            [
             0.5555555555555556,
             "#d8576b"
            ],
            [
             0.6666666666666666,
             "#ed7953"
            ],
            [
             0.7777777777777778,
             "#fb9f3a"
            ],
            [
             0.8888888888888888,
             "#fdca26"
            ],
            [
             1,
             "#f0f921"
            ]
           ]
          },
          "colorway": [
           "#636efa",
           "#EF553B",
           "#00cc96",
           "#ab63fa",
           "#FFA15A",
           "#19d3f3",
           "#FF6692",
           "#B6E880",
           "#FF97FF",
           "#FECB52"
          ],
          "font": {
           "color": "#2a3f5f"
          },
          "geo": {
           "bgcolor": "white",
           "lakecolor": "white",
           "landcolor": "#E5ECF6",
           "showlakes": true,
           "showland": true,
           "subunitcolor": "white"
          },
          "hoverlabel": {
           "align": "left"
          },
          "hovermode": "closest",
          "mapbox": {
           "style": "light"
          },
          "paper_bgcolor": "white",
          "plot_bgcolor": "#E5ECF6",
          "polar": {
           "angularaxis": {
            "gridcolor": "white",
            "linecolor": "white",
            "ticks": ""
           },
           "bgcolor": "#E5ECF6",
           "radialaxis": {
            "gridcolor": "white",
            "linecolor": "white",
            "ticks": ""
           }
          },
          "scene": {
           "xaxis": {
            "backgroundcolor": "#E5ECF6",
            "gridcolor": "white",
            "gridwidth": 2,
            "linecolor": "white",
            "showbackground": true,
            "ticks": "",
            "zerolinecolor": "white"
           },
           "yaxis": {
            "backgroundcolor": "#E5ECF6",
            "gridcolor": "white",
            "gridwidth": 2,
            "linecolor": "white",
            "showbackground": true,
            "ticks": "",
            "zerolinecolor": "white"
           },
           "zaxis": {
            "backgroundcolor": "#E5ECF6",
            "gridcolor": "white",
            "gridwidth": 2,
            "linecolor": "white",
            "showbackground": true,
            "ticks": "",
            "zerolinecolor": "white"
           }
          },
          "shapedefaults": {
           "line": {
            "color": "#2a3f5f"
           }
          },
          "ternary": {
           "aaxis": {
            "gridcolor": "white",
            "linecolor": "white",
            "ticks": ""
           },
           "baxis": {
            "gridcolor": "white",
            "linecolor": "white",
            "ticks": ""
           },
           "bgcolor": "#E5ECF6",
           "caxis": {
            "gridcolor": "white",
            "linecolor": "white",
            "ticks": ""
           }
          },
          "title": {
           "x": 0.05
          },
          "xaxis": {
           "automargin": true,
           "gridcolor": "white",
           "linecolor": "white",
           "ticks": "",
           "title": {
            "standoff": 15
           },
           "zerolinecolor": "white",
           "zerolinewidth": 2
          },
          "yaxis": {
           "automargin": true,
           "gridcolor": "white",
           "linecolor": "white",
           "ticks": "",
           "title": {
            "standoff": 15
           },
           "zerolinecolor": "white",
           "zerolinewidth": 2
          }
         }
        },
        "title": {
         "text": "Número total de partos realizados no SUS (residentes RJ)"
        },
        "xaxis": {
         "anchor": "y",
         "domain": [
          0,
          1
         ],
         "title": {
          "text": "Parto"
         }
        },
        "yaxis": {
         "anchor": "x",
         "domain": [
          0,
          1
         ],
         "title": {
          "text": "Procedimentos"
         }
        }
       }
      },
      "text/html": [
       "<div>                            <div id=\"493c1907-0368-4653-97b6-429b803b1ae8\" class=\"plotly-graph-div\" style=\"height:525px; width:100%;\"></div>            <script type=\"text/javascript\">                require([\"plotly\"], function(Plotly) {                    window.PLOTLYENV=window.PLOTLYENV || {};                                    if (document.getElementById(\"493c1907-0368-4653-97b6-429b803b1ae8\")) {                    Plotly.newPlot(                        \"493c1907-0368-4653-97b6-429b803b1ae8\",                        [{\"alignmentgroup\":\"True\",\"hovertemplate\":\"Bi\\u00eanio=2010-2011<br>Parto=%{x}<br>Procedimentos=%{y}<extra></extra>\",\"legendgroup\":\"2010-2011\",\"marker\":{\"color\":\"#31A885\",\"pattern\":{\"shape\":\"\"}},\"name\":\"2010-2011\",\"offsetgroup\":\"2010-2011\",\"orientation\":\"v\",\"showlegend\":true,\"textposition\":\"auto\",\"texttemplate\":\"%{y}\",\"x\":[\"Parto Ces\\u00e1rea\",\"Parto Normal\"],\"xaxis\":\"x\",\"y\":[39323,148327],\"yaxis\":\"y\",\"type\":\"bar\"},{\"alignmentgroup\":\"True\",\"hovertemplate\":\"Bi\\u00eanio=2018-2019<br>Parto=%{x}<br>Procedimentos=%{y}<extra></extra>\",\"legendgroup\":\"2018-2019\",\"marker\":{\"color\":\"#DD6F1C\",\"pattern\":{\"shape\":\"\"}},\"name\":\"2018-2019\",\"offsetgroup\":\"2018-2019\",\"orientation\":\"v\",\"showlegend\":true,\"textposition\":\"auto\",\"texttemplate\":\"%{y}\",\"x\":[\"Parto Ces\\u00e1rea\",\"Parto Normal\"],\"xaxis\":\"x\",\"y\":[82583,148010],\"yaxis\":\"y\",\"type\":\"bar\"}],                        {\"template\":{\"data\":{\"histogram2dcontour\":[{\"type\":\"histogram2dcontour\",\"colorbar\":{\"outlinewidth\":0,\"ticks\":\"\"},\"colorscale\":[[0.0,\"#0d0887\"],[0.1111111111111111,\"#46039f\"],[0.2222222222222222,\"#7201a8\"],[0.3333333333333333,\"#9c179e\"],[0.4444444444444444,\"#bd3786\"],[0.5555555555555556,\"#d8576b\"],[0.6666666666666666,\"#ed7953\"],[0.7777777777777778,\"#fb9f3a\"],[0.8888888888888888,\"#fdca26\"],[1.0,\"#f0f921\"]]}],\"choropleth\":[{\"type\":\"choropleth\",\"colorbar\":{\"outlinewidth\":0,\"ticks\":\"\"}}],\"histogram2d\":[{\"type\":\"histogram2d\",\"colorbar\":{\"outlinewidth\":0,\"ticks\":\"\"},\"colorscale\":[[0.0,\"#0d0887\"],[0.1111111111111111,\"#46039f\"],[0.2222222222222222,\"#7201a8\"],[0.3333333333333333,\"#9c179e\"],[0.4444444444444444,\"#bd3786\"],[0.5555555555555556,\"#d8576b\"],[0.6666666666666666,\"#ed7953\"],[0.7777777777777778,\"#fb9f3a\"],[0.8888888888888888,\"#fdca26\"],[1.0,\"#f0f921\"]]}],\"heatmap\":[{\"type\":\"heatmap\",\"colorbar\":{\"outlinewidth\":0,\"ticks\":\"\"},\"colorscale\":[[0.0,\"#0d0887\"],[0.1111111111111111,\"#46039f\"],[0.2222222222222222,\"#7201a8\"],[0.3333333333333333,\"#9c179e\"],[0.4444444444444444,\"#bd3786\"],[0.5555555555555556,\"#d8576b\"],[0.6666666666666666,\"#ed7953\"],[0.7777777777777778,\"#fb9f3a\"],[0.8888888888888888,\"#fdca26\"],[1.0,\"#f0f921\"]]}],\"heatmapgl\":[{\"type\":\"heatmapgl\",\"colorbar\":{\"outlinewidth\":0,\"ticks\":\"\"},\"colorscale\":[[0.0,\"#0d0887\"],[0.1111111111111111,\"#46039f\"],[0.2222222222222222,\"#7201a8\"],[0.3333333333333333,\"#9c179e\"],[0.4444444444444444,\"#bd3786\"],[0.5555555555555556,\"#d8576b\"],[0.6666666666666666,\"#ed7953\"],[0.7777777777777778,\"#fb9f3a\"],[0.8888888888888888,\"#fdca26\"],[1.0,\"#f0f921\"]]}],\"contourcarpet\":[{\"type\":\"contourcarpet\",\"colorbar\":{\"outlinewidth\":0,\"ticks\":\"\"}}],\"contour\":[{\"type\":\"contour\",\"colorbar\":{\"outlinewidth\":0,\"ticks\":\"\"},\"colorscale\":[[0.0,\"#0d0887\"],[0.1111111111111111,\"#46039f\"],[0.2222222222222222,\"#7201a8\"],[0.3333333333333333,\"#9c179e\"],[0.4444444444444444,\"#bd3786\"],[0.5555555555555556,\"#d8576b\"],[0.6666666666666666,\"#ed7953\"],[0.7777777777777778,\"#fb9f3a\"],[0.8888888888888888,\"#fdca26\"],[1.0,\"#f0f921\"]]}],\"surface\":[{\"type\":\"surface\",\"colorbar\":{\"outlinewidth\":0,\"ticks\":\"\"},\"colorscale\":[[0.0,\"#0d0887\"],[0.1111111111111111,\"#46039f\"],[0.2222222222222222,\"#7201a8\"],[0.3333333333333333,\"#9c179e\"],[0.4444444444444444,\"#bd3786\"],[0.5555555555555556,\"#d8576b\"],[0.6666666666666666,\"#ed7953\"],[0.7777777777777778,\"#fb9f3a\"],[0.8888888888888888,\"#fdca26\"],[1.0,\"#f0f921\"]]}],\"mesh3d\":[{\"type\":\"mesh3d\",\"colorbar\":{\"outlinewidth\":0,\"ticks\":\"\"}}],\"scatter\":[{\"fillpattern\":{\"fillmode\":\"overlay\",\"size\":10,\"solidity\":0.2},\"type\":\"scatter\"}],\"parcoords\":[{\"type\":\"parcoords\",\"line\":{\"colorbar\":{\"outlinewidth\":0,\"ticks\":\"\"}}}],\"scatterpolargl\":[{\"type\":\"scatterpolargl\",\"marker\":{\"colorbar\":{\"outlinewidth\":0,\"ticks\":\"\"}}}],\"bar\":[{\"error_x\":{\"color\":\"#2a3f5f\"},\"error_y\":{\"color\":\"#2a3f5f\"},\"marker\":{\"line\":{\"color\":\"#E5ECF6\",\"width\":0.5},\"pattern\":{\"fillmode\":\"overlay\",\"size\":10,\"solidity\":0.2}},\"type\":\"bar\"}],\"scattergeo\":[{\"type\":\"scattergeo\",\"marker\":{\"colorbar\":{\"outlinewidth\":0,\"ticks\":\"\"}}}],\"scatterpolar\":[{\"type\":\"scatterpolar\",\"marker\":{\"colorbar\":{\"outlinewidth\":0,\"ticks\":\"\"}}}],\"histogram\":[{\"marker\":{\"pattern\":{\"fillmode\":\"overlay\",\"size\":10,\"solidity\":0.2}},\"type\":\"histogram\"}],\"scattergl\":[{\"type\":\"scattergl\",\"marker\":{\"colorbar\":{\"outlinewidth\":0,\"ticks\":\"\"}}}],\"scatter3d\":[{\"type\":\"scatter3d\",\"line\":{\"colorbar\":{\"outlinewidth\":0,\"ticks\":\"\"}},\"marker\":{\"colorbar\":{\"outlinewidth\":0,\"ticks\":\"\"}}}],\"scattermapbox\":[{\"type\":\"scattermapbox\",\"marker\":{\"colorbar\":{\"outlinewidth\":0,\"ticks\":\"\"}}}],\"scatterternary\":[{\"type\":\"scatterternary\",\"marker\":{\"colorbar\":{\"outlinewidth\":0,\"ticks\":\"\"}}}],\"scattercarpet\":[{\"type\":\"scattercarpet\",\"marker\":{\"colorbar\":{\"outlinewidth\":0,\"ticks\":\"\"}}}],\"carpet\":[{\"aaxis\":{\"endlinecolor\":\"#2a3f5f\",\"gridcolor\":\"white\",\"linecolor\":\"white\",\"minorgridcolor\":\"white\",\"startlinecolor\":\"#2a3f5f\"},\"baxis\":{\"endlinecolor\":\"#2a3f5f\",\"gridcolor\":\"white\",\"linecolor\":\"white\",\"minorgridcolor\":\"white\",\"startlinecolor\":\"#2a3f5f\"},\"type\":\"carpet\"}],\"table\":[{\"cells\":{\"fill\":{\"color\":\"#EBF0F8\"},\"line\":{\"color\":\"white\"}},\"header\":{\"fill\":{\"color\":\"#C8D4E3\"},\"line\":{\"color\":\"white\"}},\"type\":\"table\"}],\"barpolar\":[{\"marker\":{\"line\":{\"color\":\"#E5ECF6\",\"width\":0.5},\"pattern\":{\"fillmode\":\"overlay\",\"size\":10,\"solidity\":0.2}},\"type\":\"barpolar\"}],\"pie\":[{\"automargin\":true,\"type\":\"pie\"}]},\"layout\":{\"autotypenumbers\":\"strict\",\"colorway\":[\"#636efa\",\"#EF553B\",\"#00cc96\",\"#ab63fa\",\"#FFA15A\",\"#19d3f3\",\"#FF6692\",\"#B6E880\",\"#FF97FF\",\"#FECB52\"],\"font\":{\"color\":\"#2a3f5f\"},\"hovermode\":\"closest\",\"hoverlabel\":{\"align\":\"left\"},\"paper_bgcolor\":\"white\",\"plot_bgcolor\":\"#E5ECF6\",\"polar\":{\"bgcolor\":\"#E5ECF6\",\"angularaxis\":{\"gridcolor\":\"white\",\"linecolor\":\"white\",\"ticks\":\"\"},\"radialaxis\":{\"gridcolor\":\"white\",\"linecolor\":\"white\",\"ticks\":\"\"}},\"ternary\":{\"bgcolor\":\"#E5ECF6\",\"aaxis\":{\"gridcolor\":\"white\",\"linecolor\":\"white\",\"ticks\":\"\"},\"baxis\":{\"gridcolor\":\"white\",\"linecolor\":\"white\",\"ticks\":\"\"},\"caxis\":{\"gridcolor\":\"white\",\"linecolor\":\"white\",\"ticks\":\"\"}},\"coloraxis\":{\"colorbar\":{\"outlinewidth\":0,\"ticks\":\"\"}},\"colorscale\":{\"sequential\":[[0.0,\"#0d0887\"],[0.1111111111111111,\"#46039f\"],[0.2222222222222222,\"#7201a8\"],[0.3333333333333333,\"#9c179e\"],[0.4444444444444444,\"#bd3786\"],[0.5555555555555556,\"#d8576b\"],[0.6666666666666666,\"#ed7953\"],[0.7777777777777778,\"#fb9f3a\"],[0.8888888888888888,\"#fdca26\"],[1.0,\"#f0f921\"]],\"sequentialminus\":[[0.0,\"#0d0887\"],[0.1111111111111111,\"#46039f\"],[0.2222222222222222,\"#7201a8\"],[0.3333333333333333,\"#9c179e\"],[0.4444444444444444,\"#bd3786\"],[0.5555555555555556,\"#d8576b\"],[0.6666666666666666,\"#ed7953\"],[0.7777777777777778,\"#fb9f3a\"],[0.8888888888888888,\"#fdca26\"],[1.0,\"#f0f921\"]],\"diverging\":[[0,\"#8e0152\"],[0.1,\"#c51b7d\"],[0.2,\"#de77ae\"],[0.3,\"#f1b6da\"],[0.4,\"#fde0ef\"],[0.5,\"#f7f7f7\"],[0.6,\"#e6f5d0\"],[0.7,\"#b8e186\"],[0.8,\"#7fbc41\"],[0.9,\"#4d9221\"],[1,\"#276419\"]]},\"xaxis\":{\"gridcolor\":\"white\",\"linecolor\":\"white\",\"ticks\":\"\",\"title\":{\"standoff\":15},\"zerolinecolor\":\"white\",\"automargin\":true,\"zerolinewidth\":2},\"yaxis\":{\"gridcolor\":\"white\",\"linecolor\":\"white\",\"ticks\":\"\",\"title\":{\"standoff\":15},\"zerolinecolor\":\"white\",\"automargin\":true,\"zerolinewidth\":2},\"scene\":{\"xaxis\":{\"backgroundcolor\":\"#E5ECF6\",\"gridcolor\":\"white\",\"linecolor\":\"white\",\"showbackground\":true,\"ticks\":\"\",\"zerolinecolor\":\"white\",\"gridwidth\":2},\"yaxis\":{\"backgroundcolor\":\"#E5ECF6\",\"gridcolor\":\"white\",\"linecolor\":\"white\",\"showbackground\":true,\"ticks\":\"\",\"zerolinecolor\":\"white\",\"gridwidth\":2},\"zaxis\":{\"backgroundcolor\":\"#E5ECF6\",\"gridcolor\":\"white\",\"linecolor\":\"white\",\"showbackground\":true,\"ticks\":\"\",\"zerolinecolor\":\"white\",\"gridwidth\":2}},\"shapedefaults\":{\"line\":{\"color\":\"#2a3f5f\"}},\"annotationdefaults\":{\"arrowcolor\":\"#2a3f5f\",\"arrowhead\":0,\"arrowwidth\":1},\"geo\":{\"bgcolor\":\"white\",\"landcolor\":\"#E5ECF6\",\"subunitcolor\":\"white\",\"showland\":true,\"showlakes\":true,\"lakecolor\":\"white\"},\"title\":{\"x\":0.05},\"mapbox\":{\"style\":\"light\"}}},\"xaxis\":{\"anchor\":\"y\",\"domain\":[0.0,1.0],\"title\":{\"text\":\"Parto\"}},\"yaxis\":{\"anchor\":\"x\",\"domain\":[0.0,1.0],\"title\":{\"text\":\"Procedimentos\"}},\"legend\":{\"title\":{\"text\":\"Bi\\u00eanio\"},\"tracegroupgap\":0},\"title\":{\"text\":\"N\\u00famero total de partos realizados no SUS (residentes RJ)\"},\"barmode\":\"group\"},                        {\"responsive\": true}                    ).then(function(){\n",
       "                            \n",
       "var gd = document.getElementById('493c1907-0368-4653-97b6-429b803b1ae8');\n",
       "var x = new MutationObserver(function (mutations, observer) {{\n",
       "        var display = window.getComputedStyle(gd).display;\n",
       "        if (!display || display === 'none') {{\n",
       "            console.log([gd, 'removed!']);\n",
       "            Plotly.purge(gd);\n",
       "            observer.disconnect();\n",
       "        }}\n",
       "}});\n",
       "\n",
       "// Listen for the removal of the full notebook cells\n",
       "var notebookContainer = gd.closest('#notebook-container');\n",
       "if (notebookContainer) {{\n",
       "    x.observe(notebookContainer, {childList: true});\n",
       "}}\n",
       "\n",
       "// Listen for the clearing of the current output cell\n",
       "var outputEl = gd.closest('.output');\n",
       "if (outputEl) {{\n",
       "    x.observe(outputEl, {childList: true});\n",
       "}}\n",
       "\n",
       "                        })                };                });            </script>        </div>"
      ]
     },
     "metadata": {},
     "output_type": "display_data"
    }
   ],
   "source": [
    "px.bar(\n",
    "  df_proc,\n",
    "  x='Parto',\n",
    "  y='Procedimentos',\n",
    "  color='Biênio',\n",
    "  barmode='group',\n",
    "  title='Número total de partos realizados no SUS (residentes RJ)',\n",
    "  color_discrete_map={'2010-2011': '#31A885', '2018-2019': '#DD6F1C'},\n",
    "  text_auto=True\n",
    ")"
   ]
  }
 ],
 "metadata": {
  "kernelspec": {
   "display_name": "Python 3.10.8 ('ds')",
   "language": "python",
   "name": "python3"
  },
  "language_info": {
   "codemirror_mode": {
    "name": "ipython",
    "version": 3
   },
   "file_extension": ".py",
   "mimetype": "text/x-python",
   "name": "python",
   "nbconvert_exporter": "python",
   "pygments_lexer": "ipython3",
   "version": "3.10.8"
  },
  "orig_nbformat": 4,
  "vscode": {
   "interpreter": {
    "hash": "3902879adb7e156379fff49c969605c5389810f940f2eed05f038a1fa7230cff"
   }
  }
 },
 "nbformat": 4,
 "nbformat_minor": 2
}
