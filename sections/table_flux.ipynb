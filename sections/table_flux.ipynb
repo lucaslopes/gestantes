{
 "cells": [
  {
   "cell_type": "raw",
   "metadata": {},
   "source": [
    "---\n",
    "title: \"Fluxos\"\n",
    "---"
   ]
  },
  {
   "cell_type": "code",
   "execution_count": 1,
   "metadata": {},
   "outputs": [
    {
     "data": {
      "text/html": [
       "<style type='text/css'>\n",
       ".datatable table.frame { margin-bottom: 0; }\n",
       ".datatable table.frame thead { border-bottom: none; }\n",
       ".datatable table.frame tr.coltypes td {  color: #FFFFFF;  line-height: 6px;  padding: 0 0.5em;}\n",
       ".datatable .bool    { background: #DDDD99; }\n",
       ".datatable .object  { background: #565656; }\n",
       ".datatable .int     { background: #5D9E5D; }\n",
       ".datatable .float   { background: #4040CC; }\n",
       ".datatable .str     { background: #CC4040; }\n",
       ".datatable .time    { background: #40CC40; }\n",
       ".datatable .row_index {  background: var(--jp-border-color3);  border-right: 1px solid var(--jp-border-color0);  color: var(--jp-ui-font-color3);  font-size: 9px;}\n",
       ".datatable .frame tbody td { text-align: left; }\n",
       ".datatable .frame tr.coltypes .row_index {  background: var(--jp-border-color0);}\n",
       ".datatable th:nth-child(2) { padding-left: 12px; }\n",
       ".datatable .hellipsis {  color: var(--jp-cell-editor-border-color);}\n",
       ".datatable .vellipsis {  background: var(--jp-layout-color0);  color: var(--jp-cell-editor-border-color);}\n",
       ".datatable .na {  color: var(--jp-cell-editor-border-color);  font-size: 80%;}\n",
       ".datatable .sp {  opacity: 0.25;}\n",
       ".datatable .footer { font-size: 9px; }\n",
       ".datatable .frame_dimensions {  background: var(--jp-border-color3);  border-top: 1px solid var(--jp-border-color0);  color: var(--jp-ui-font-color3);  display: inline-block;  opacity: 0.6;  padding: 1px 10px 1px 5px;}\n",
       "</style>\n"
      ],
      "text/plain": [
       "<IPython.core.display.HTML object>"
      ]
     },
     "metadata": {},
     "output_type": "display_data"
    }
   ],
   "source": [
    "import pandas as pd\n",
    "from utils import get_path, group_cols\n",
    "from datatable import dt, f, by"
   ]
  },
  {
   "cell_type": "markdown",
   "metadata": {},
   "source": [
    "# Descrição"
   ]
  },
  {
   "cell_type": "markdown",
   "metadata": {},
   "source": [
    "Neste notebook iremos formar a tabela deslocamento, com origem e destino."
   ]
  },
  {
   "cell_type": "markdown",
   "metadata": {},
   "source": [
    "# Tabelas base"
   ]
  },
  {
   "cell_type": "markdown",
   "metadata": {},
   "source": [
    "## Procedimentos"
   ]
  },
  {
   "cell_type": "code",
   "execution_count": 2,
   "metadata": {},
   "outputs": [
    {
     "data": {
      "text/html": [
       "<div class='datatable'>\n",
       "  <table class='frame'>\n",
       "  <thead>\n",
       "    <tr class='colnames'><td class='row_index'></td><th>bienio</th><th>parto_normal</th><th>origem</th><th>destino</th><th>distancia (km)</th><th>tempo (min)</th><th>dist_pond</th><th>tempo_pond</th><th>criticidade</th><th>capitais</th><th class='vellipsis'>&hellip;</th><th>origem_latitude</th><th>origem_longitude</th><th>destino_latitude</th><th>destino_longitude</th><th>count</th></tr>\n",
       "    <tr class='coltypes'><td class='row_index'></td><td class='bool' title='bool8'>&#x25AA;</td><td class='bool' title='bool8'>&#x25AA;</td><td class='str' title='str32'>&#x25AA;&#x25AA;&#x25AA;&#x25AA;</td><td class='str' title='str32'>&#x25AA;&#x25AA;&#x25AA;&#x25AA;</td><td class='float' title='float64'>&#x25AA;&#x25AA;&#x25AA;&#x25AA;&#x25AA;&#x25AA;&#x25AA;&#x25AA;</td><td class='float' title='float64'>&#x25AA;&#x25AA;&#x25AA;&#x25AA;&#x25AA;&#x25AA;&#x25AA;&#x25AA;</td><td class='float' title='float64'>&#x25AA;&#x25AA;&#x25AA;&#x25AA;&#x25AA;&#x25AA;&#x25AA;&#x25AA;</td><td class='float' title='float64'>&#x25AA;&#x25AA;&#x25AA;&#x25AA;&#x25AA;&#x25AA;&#x25AA;&#x25AA;</td><td class='int' title='int32'>&#x25AA;&#x25AA;&#x25AA;&#x25AA;</td><td class='str' title='str32'>&#x25AA;&#x25AA;&#x25AA;&#x25AA;</td><td></td><td class='float' title='float64'>&#x25AA;&#x25AA;&#x25AA;&#x25AA;&#x25AA;&#x25AA;&#x25AA;&#x25AA;</td><td class='float' title='float64'>&#x25AA;&#x25AA;&#x25AA;&#x25AA;&#x25AA;&#x25AA;&#x25AA;&#x25AA;</td><td class='float' title='float64'>&#x25AA;&#x25AA;&#x25AA;&#x25AA;&#x25AA;&#x25AA;&#x25AA;&#x25AA;</td><td class='float' title='float64'>&#x25AA;&#x25AA;&#x25AA;&#x25AA;&#x25AA;&#x25AA;&#x25AA;&#x25AA;</td><td class='int' title='int32'>&#x25AA;&#x25AA;&#x25AA;&#x25AA;</td></tr>\n",
       "  </thead>\n",
       "  <tbody>\n",
       "    <tr><td class='row_index'>0</td><td>0</td><td>0</td><td>CO/DF/53001/530010</td><td>CO/DF/53001/530010/0010464</td><td>0</td><td>0</td><td>0</td><td>0</td><td>0</td><td>1_1</td><td class=vellipsis>&hellip;</td><td>&minus;15.7795</td><td>&minus;47.9297</td><td>&minus;15.7795</td><td>&minus;47.9297</td><td>260</td></tr>\n",
       "    <tr><td class='row_index'>1</td><td>0</td><td>0</td><td>CO/DF/53001/530010</td><td>CO/DF/53001/530010/0010472</td><td>0</td><td>0</td><td>0</td><td>0</td><td>0</td><td>1_1</td><td class=vellipsis>&hellip;</td><td>&minus;15.7795</td><td>&minus;47.9297</td><td>&minus;15.7795</td><td>&minus;47.9297</td><td>282</td></tr>\n",
       "    <tr><td class='row_index'>2</td><td>0</td><td>0</td><td>CO/DF/53001/530010</td><td>CO/DF/53001/530010/0010480</td><td>0</td><td>0</td><td>0</td><td>0</td><td>0</td><td>1_1</td><td class=vellipsis>&hellip;</td><td>&minus;15.7795</td><td>&minus;47.9297</td><td>&minus;15.7795</td><td>&minus;47.9297</td><td>3323</td></tr>\n",
       "    <tr><td class='row_index'>3</td><td>0</td><td>0</td><td>CO/DF/53001/530010</td><td>CO/DF/53001/530010/0010499</td><td>0</td><td>0</td><td>0</td><td>0</td><td>0</td><td>1_1</td><td class=vellipsis>&hellip;</td><td>&minus;15.7795</td><td>&minus;47.9297</td><td>&minus;15.7795</td><td>&minus;47.9297</td><td>3368</td></tr>\n",
       "    <tr><td class='row_index'>4</td><td>0</td><td>0</td><td>CO/DF/53001/530010</td><td>CO/DF/53001/530010/0010502</td><td>0</td><td>0</td><td>0</td><td>0</td><td>0</td><td>1_1</td><td class=vellipsis>&hellip;</td><td>&minus;15.7795</td><td>&minus;47.9297</td><td>&minus;15.7795</td><td>&minus;47.9297</td><td>964</td></tr>\n",
       "    <tr><td class='row_index'>5</td><td>0</td><td>0</td><td>CO/DF/53001/530010</td><td>CO/DF/53001/530010/0010510</td><td>0</td><td>0</td><td>0</td><td>0</td><td>0</td><td>1_1</td><td class=vellipsis>&hellip;</td><td>&minus;15.7795</td><td>&minus;47.9297</td><td>&minus;15.7795</td><td>&minus;47.9297</td><td>832</td></tr>\n",
       "    <tr><td class='row_index'>6</td><td>0</td><td>0</td><td>CO/DF/53001/530010</td><td>CO/DF/53001/530010/0010529</td><td>0</td><td>0</td><td>0</td><td>0</td><td>0</td><td>1_1</td><td class=vellipsis>&hellip;</td><td>&minus;15.7795</td><td>&minus;47.9297</td><td>&minus;15.7795</td><td>&minus;47.9297</td><td>1831</td></tr>\n",
       "    <tr><td class='row_index'>7</td><td>0</td><td>0</td><td>CO/DF/53001/530010</td><td>CO/DF/53001/530010/0010537</td><td>0</td><td>0</td><td>0</td><td>0</td><td>0</td><td>1_1</td><td class=vellipsis>&hellip;</td><td>&minus;15.7795</td><td>&minus;47.9297</td><td>&minus;15.7795</td><td>&minus;47.9297</td><td>3707</td></tr>\n",
       "    <tr><td class='row_index'>8</td><td>0</td><td>0</td><td>CO/DF/53001/530010</td><td>CO/DF/53001/530010/0010545</td><td>0</td><td>0</td><td>0</td><td>0</td><td>0</td><td>1_1</td><td class=vellipsis>&hellip;</td><td>&minus;15.7795</td><td>&minus;47.9297</td><td>&minus;15.7795</td><td>&minus;47.9297</td><td>728</td></tr>\n",
       "    <tr><td class='row_index'>9</td><td>0</td><td>0</td><td>CO/DF/53001/530010</td><td>CO/DF/53001/530010/0010561</td><td>0</td><td>0</td><td>0</td><td>0</td><td>0</td><td>1_1</td><td class=vellipsis>&hellip;</td><td>&minus;15.7795</td><td>&minus;47.9297</td><td>&minus;15.7795</td><td>&minus;47.9297</td><td>1</td></tr>\n",
       "    <tr><td class='row_index'>10</td><td>0</td><td>0</td><td>CO/DF/53001/530010</td><td>CO/DF/53001/530010/2645157</td><td>0</td><td>0</td><td>0</td><td>0</td><td>0</td><td>1_1</td><td class=vellipsis>&hellip;</td><td>&minus;15.7795</td><td>&minus;47.9297</td><td>&minus;15.7795</td><td>&minus;47.9297</td><td>2251</td></tr>\n",
       "    <tr><td class='row_index'>11</td><td>0</td><td>0</td><td>CO/DF/53001/530010</td><td>CO/DF/53001/530010/2672197</td><td>0</td><td>0</td><td>0</td><td>0</td><td>0</td><td>1_1</td><td class=vellipsis>&hellip;</td><td>&minus;15.7795</td><td>&minus;47.9297</td><td>&minus;15.7795</td><td>&minus;47.9297</td><td>1561</td></tr>\n",
       "    <tr><td class='row_index'>12</td><td>0</td><td>0</td><td>CO/DF/53001/530010</td><td>CO/DF/53001/530010/5717515</td><td>0</td><td>0</td><td>0</td><td>0</td><td>0</td><td>1_1</td><td class=vellipsis>&hellip;</td><td>&minus;15.7795</td><td>&minus;47.9297</td><td>&minus;15.7795</td><td>&minus;47.9297</td><td>1798</td></tr>\n",
       "    <tr><td class='row_index'>13</td><td>0</td><td>0</td><td>CO/DF/53001/530010</td><td>CO/GO/52011/520110/2361787</td><td>152.625</td><td>132.723</td><td>305.25</td><td>265.447</td><td>3</td><td>1_0</td><td class=vellipsis>&hellip;</td><td>&minus;15.7795</td><td>&minus;47.9297</td><td>&minus;16.3281</td><td>&minus;48.953</td><td>4</td></tr>\n",
       "    <tr><td class='row_index'>14</td><td>0</td><td>0</td><td>CO/DF/53001/530010</td><td>ND/BA/29002/290320/3972925</td><td>630.949</td><td>466.705</td><td>630.949</td><td>466.705</td><td>4</td><td>1_0</td><td class=vellipsis>&hellip;</td><td>&minus;15.7795</td><td>&minus;47.9297</td><td>&minus;12.1439</td><td>&minus;44.9968</td><td>1</td></tr>\n",
       "    <tr><td class='row_index'>&#x22EE;</td><td class='hellipsis'>&#x22EE;</td><td class='hellipsis'>&#x22EE;</td><td class='hellipsis'>&#x22EE;</td><td class='hellipsis'>&#x22EE;</td><td class='hellipsis'>&#x22EE;</td><td class='hellipsis'>&#x22EE;</td><td class='hellipsis'>&#x22EE;</td><td class='hellipsis'>&#x22EE;</td><td class='hellipsis'>&#x22EE;</td><td class='hellipsis'>&#x22EE;</td><td class='hellipsis'>&#x22F1;</td><td class='hellipsis'>&#x22EE;</td><td class='hellipsis'>&#x22EE;</td><td class='hellipsis'>&#x22EE;</td><td class='hellipsis'>&#x22EE;</td><td class='hellipsis'>&#x22EE;</td></tr>\n",
       "    <tr><td class='row_index'>167,211</td><td>1</td><td>1</td><td>SL/SC/42016/421870</td><td>SL/SC/42007/420540/3157245</td><td>138.477</td><td>104.94</td><td>138.477</td><td>104.94</td><td>2</td><td>0_1</td><td class=vellipsis>&hellip;</td><td>&minus;28.4713</td><td>&minus;49.0144</td><td>&minus;27.5945</td><td>&minus;48.5477</td><td>1</td></tr>\n",
       "    <tr><td class='row_index'>167,212</td><td>1</td><td>1</td><td>SL/SC/42016/421870</td><td>SL/SC/42015/420460/2594277</td><td>54.621</td><td>49.3167</td><td>54.621</td><td>49.3167</td><td>2</td><td>0_0</td><td class=vellipsis>&hellip;</td><td>&minus;28.4713</td><td>&minus;49.0144</td><td>&minus;28.6723</td><td>&minus;49.3729</td><td>1</td></tr>\n",
       "    <tr><td class='row_index'>167,213</td><td>1</td><td>1</td><td>SL/SC/42016/421870</td><td>SL/SC/42016/420280/2665883</td><td>35.5439</td><td>37.4933</td><td>71.0878</td><td>74.9867</td><td>1</td><td>0_0</td><td class=vellipsis>&hellip;</td><td>&minus;28.4713</td><td>&minus;49.0144</td><td>&minus;28.2681</td><td>&minus;49.1701</td><td>2</td></tr>\n",
       "    <tr><td class='row_index'>167,214</td><td>1</td><td>1</td><td>SL/SC/42016/421870</td><td>SL/SC/42016/420730/2385880</td><td>53.961</td><td>45.3533</td><td>53.961</td><td>45.3533</td><td>1</td><td>0_0</td><td class=vellipsis>&hellip;</td><td>&minus;28.4713</td><td>&minus;49.0144</td><td>&minus;28.2284</td><td>&minus;48.6659</td><td>1</td></tr>\n",
       "    <tr><td class='row_index'>167,215</td><td>1</td><td>1</td><td>SL/SC/42016/421870</td><td>SL/SC/42016/421870/2491710</td><td>0</td><td>0</td><td>0</td><td>0</td><td>0</td><td>0_0</td><td class=vellipsis>&hellip;</td><td>&minus;28.4713</td><td>&minus;49.0144</td><td>&minus;28.4713</td><td>&minus;49.0144</td><td>441</td></tr>\n",
       "  </tbody>\n",
       "  </table>\n",
       "  <div class='footer'>\n",
       "    <div class='frame_dimensions'>167,216 rows &times; 16 columns</div>\n",
       "  </div>\n",
       "</div>\n"
      ],
      "text/plain": [
       "<Frame#7fc0e09e4c90 167216x16>"
      ]
     },
     "execution_count": 2,
     "metadata": {},
     "output_type": "execute_result"
    }
   ],
   "source": [
    "path_proc = get_path('GESTANTES', 'procs_bienio.csv.gzip')\n",
    "df_proc = dt.fread(path_proc)\n",
    "df_proc"
   ]
  },
  {
   "cell_type": "markdown",
   "metadata": {},
   "source": [
    "## CNES"
   ]
  },
  {
   "cell_type": "code",
   "execution_count": 3,
   "metadata": {},
   "outputs": [],
   "source": [
    "cols_cnes = {\n",
    "  'CNES': 'id_destino',\n",
    "  'Nome Fantasia': 'nome_destino',\n",
    "}"
   ]
  },
  {
   "cell_type": "code",
   "execution_count": 4,
   "metadata": {},
   "outputs": [
    {
     "data": {
      "text/html": [
       "<div class='datatable'>\n",
       "  <table class='frame'>\n",
       "  <thead>\n",
       "    <tr class='colnames'><td class='row_index'></td><th>id_destino</th><th>nome_destino</th></tr>\n",
       "    <tr class='coltypes'><td class='row_index'></td><td class='str' title='str32'>&#x25AA;&#x25AA;&#x25AA;&#x25AA;</td><td class='str' title='str32'>&#x25AA;&#x25AA;&#x25AA;&#x25AA;</td></tr>\n",
       "  </thead>\n",
       "  <tbody>\n",
       "    <tr><td class='row_index'>0</td><td>0002232</td><td>HOSPITAL E MATERNIDADE SANTA IZABEL</td></tr>\n",
       "    <tr><td class='row_index'>1</td><td>3151794</td><td>MATERNIDADE DE REFERENCIA ANA BRAGA</td></tr>\n",
       "    <tr><td class='row_index'>2</td><td>2323397</td><td>MATERNIDADE DONA EVANGELINA ROSA</td></tr>\n",
       "    <tr><td class='row_index'>3</td><td>2311682</td><td>HOSPITAL SANTA HELENA</td></tr>\n",
       "    <tr><td class='row_index'>4</td><td>0026794</td><td>HOSPITAL SOFIA FELDMAN</td></tr>\n",
       "    <tr><td class='row_index'>5</td><td>2020068</td><td>SES AP HOSPITAL DA MULHER</td></tr>\n",
       "    <tr><td class='row_index'>6</td><td>6627595</td><td>INSTITUTO DA MULHER DONA LINDU</td></tr>\n",
       "    <tr><td class='row_index'>7</td><td>2799278</td><td>HOSPITAL INACIA PINTO DOS SANTOS</td></tr>\n",
       "    <tr><td class='row_index'>8</td><td>0010480</td><td>HOSPITAL REGIONAL DE CEILANDIA</td></tr>\n",
       "    <tr><td class='row_index'>9</td><td>2077388</td><td>HOSPITAL AMPARO MATERNAL</td></tr>\n",
       "    <tr><td class='row_index'>10</td><td>7011857</td><td>SES RJ COMPLEXO REG DE MESQUITA MATERNID E CLINICA&#133;</td></tr>\n",
       "    <tr><td class='row_index'>11</td><td>6303153</td><td>HOSPITAL NOSSA SENHORA DA GUIA</td></tr>\n",
       "    <tr><td class='row_index'>12</td><td>2755165</td><td>HOSPITAL DOM ORIONE DE ARAGUAINA</td></tr>\n",
       "    <tr><td class='row_index'>13</td><td>2344882</td><td>HOSPITAL DO TRICENTENARIO</td></tr>\n",
       "    <tr><td class='row_index'>14</td><td>2079186</td><td>HOSP MUN MAT ESC DR MARIO DE MORAES A SILVA</td></tr>\n",
       "    <tr><td class='row_index'>&#x22EE;</td><td class='hellipsis'>&#x22EE;</td><td class='hellipsis'>&#x22EE;</td></tr>\n",
       "    <tr><td class='row_index'>3923</td><td>7320175</td><td>HOSPITAL SAO MIGUEL ARCANJO</td></tr>\n",
       "    <tr><td class='row_index'>3924</td><td>7603029</td><td>HOSPITAL MUNICIPAL LENILDE OLIVEIRA</td></tr>\n",
       "    <tr><td class='row_index'>3925</td><td>7621442</td><td>HOSPITAL ESTADUAL DE URGENCIA E EMERGENCIA</td></tr>\n",
       "    <tr><td class='row_index'>3926</td><td>7704364</td><td>HOSPITAL DE URGENCIA E EMERGENCIA REGIONAL DE CACO&#133;</td></tr>\n",
       "    <tr><td class='row_index'>3927</td><td>7743068</td><td>HOSPITAL ESTADUAL DE URGENCIAS GOV OTAVIO LAG SIQU&#133;</td></tr>\n",
       "  </tbody>\n",
       "  </table>\n",
       "  <div class='footer'>\n",
       "    <div class='frame_dimensions'>3928 rows &times; 2 columns</div>\n",
       "  </div>\n",
       "</div>\n"
      ],
      "text/plain": [
       "<Frame#7fc0e09e90f0 3928x2>"
      ]
     },
     "execution_count": 4,
     "metadata": {},
     "output_type": "execute_result"
    }
   ],
   "source": [
    "path_cnes = get_path('LOCALIDADES', 'cnes.csv.gzip')\n",
    "df_cnes = pd.read_csv(path_cnes, dtype={'CNES': str})\n",
    "df_cnes = df_cnes.rename(columns=cols_cnes)[cols_cnes.values()]\n",
    "df_cnes = dt.Frame(df_cnes)\n",
    "df_cnes"
   ]
  },
  {
   "cell_type": "markdown",
   "metadata": {},
   "source": [
    "# Gerando tabela"
   ]
  },
  {
   "cell_type": "code",
   "execution_count": 5,
   "metadata": {},
   "outputs": [],
   "source": [
    "cols_order = [\n",
    "  'bienio',\n",
    "  'parto_normal',\n",
    "  'origem',\n",
    "  'destino',\n",
    "  'escala_origem',\n",
    "  'escala_destino',\n",
    "  'id_origem',\n",
    "  'id_destino',\n",
    "  'nome_origem',\n",
    "  'nome_destino',\n",
    "  'criticidade',\n",
    "  'dist_pond',\n",
    "  'tempo_pond',\n",
    "  'count',\n",
    "]"
   ]
  },
  {
   "cell_type": "code",
   "execution_count": 6,
   "metadata": {},
   "outputs": [],
   "source": [
    "path_locs = get_path('LOCALIDADES', 'localidades.csv.gzip')"
   ]
  },
  {
   "cell_type": "code",
   "execution_count": 7,
   "metadata": {},
   "outputs": [],
   "source": [
    "def get_flux_table(scale_origin, scale_destin, df=df_proc, df_cnes=df_cnes, path_locs=path_locs, cols_order=cols_order):\n",
    "  cols_origem = {'codigo': 'origem', f'nome_{scale_origin}': 'nome_origem', ...: None}\n",
    "  cols_destino = {'codigo': 'destino', f'nome_{scale_destin}': 'nome_destino', ...: None}\n",
    "  df_locs_orig = dt.fread(path_locs, columns=cols_origem)\n",
    "  df_locs_dest = dt.fread(path_locs, columns=cols_destino)\n",
    "  df_locs_orig.key = 'origem'\n",
    "  df_locs_dest.key = 'destino'\n",
    "  cols_proc = ['bienio', 'parto_normal', 'origem', 'destino', 'criticidade', 'dist_pond', 'tempo_pond', 'count']\n",
    "  df_flux = df[:, cols_proc]\n",
    "  df_flux = df_flux[:, :, dt.join(df_locs_orig)]\n",
    "  if scale_destin == 'cnes':\n",
    "    df_locs_dest['nome_destino'] = ''\n",
    "  else:\n",
    "    df_flux['destino'] = dt.Frame(['/'.join(c.split('/')[:-1]) for c in df_flux['destino'].to_list()[0]])\n",
    "  df_flux = df_flux[:, :, dt.join(df_locs_dest)]\n",
    "  df_flux['escala_origem'] = scale_origin\n",
    "  df_flux['escala_destino'] = scale_destin\n",
    "  pos = {'cnes': 5, 'municipio': 4, 'regiao_saude': 3, 'uf': 2, 'regiao': 1}\n",
    "  for ref in ['origem', 'destino']:\n",
    "    i = pos[scale_origin] if ref == 'origem' else pos[scale_destin]\n",
    "    codigos = df_flux[ref].to_list()[0]\n",
    "    df_cods = ['/'.join(c.split('/')[:i]) for c in codigos]\n",
    "    df_flux[ref] = dt.Frame(df_cods)\n",
    "    df_flux[f'id_{ref}'] = dt.Frame([c.split('/')[-1] for c in df_flux[ref].to_list()[0]])\n",
    "  df_flux = df_flux[:, cols_order]\n",
    "  df_flux = df_flux[:, [dt.sum(f.count), dt.sum(f.dist_pond), dt.sum(f.tempo_pond)], by(df_flux.names[:-3])]\n",
    "  df_total = df_flux[:, ['bienio', 'parto_normal', 'id_origem', 'id_destino', 'count']]\n",
    "  df_total = df_total[:, dt.sum(f.count), by(df_total.names[:-1])]\n",
    "  df_total.names = {'count': 'total'}\n",
    "  df_total.key = df_total.names[:-1]\n",
    "  df_flux = df_flux[:, :, dt.join(df_total)]\n",
    "  df_flux[:, dt.update(percent = f.count / f.total * 100)]\n",
    "  if scale_destin == 'cnes':\n",
    "    df_cnes.key = 'id_destino'\n",
    "    df_id_cnes = df_flux[f.escala_destino == 'cnes', ['id_destino']]\n",
    "    df_id_cnes = df_id_cnes[:, :, dt.join(df_cnes)]\n",
    "    df_flux[f.escala_destino == 'cnes', ['id_destino', 'nome_destino']] = df_id_cnes\n",
    "  df_flux = df_flux.sort(f.origem, f.destino, f.criticidade, f.parto_normal, f.bienio)\n",
    "  return df_flux"
   ]
  },
  {
   "cell_type": "markdown",
   "metadata": {},
   "source": [
    "## REGSAU -> CNES"
   ]
  },
  {
   "cell_type": "code",
   "execution_count": 8,
   "metadata": {},
   "outputs": [
    {
     "data": {
      "text/html": [
       "<div class='datatable'>\n",
       "  <table class='frame'>\n",
       "  <thead>\n",
       "    <tr class='colnames'><td class='row_index'></td><th>bienio</th><th>parto_normal</th><th>origem</th><th>destino</th><th>escala_origem</th><th>escala_destino</th><th>id_origem</th><th>id_destino</th><th>nome_origem</th><th>nome_destino</th><th class='vellipsis'>&hellip;</th><th>count</th><th>dist_pond</th><th>tempo_pond</th><th>total</th><th>percent</th></tr>\n",
       "    <tr class='coltypes'><td class='row_index'></td><td class='bool' title='bool8'>&#x25AA;</td><td class='bool' title='bool8'>&#x25AA;</td><td class='str' title='str32'>&#x25AA;&#x25AA;&#x25AA;&#x25AA;</td><td class='str' title='str32'>&#x25AA;&#x25AA;&#x25AA;&#x25AA;</td><td class='str' title='str32'>&#x25AA;&#x25AA;&#x25AA;&#x25AA;</td><td class='str' title='str32'>&#x25AA;&#x25AA;&#x25AA;&#x25AA;</td><td class='str' title='str32'>&#x25AA;&#x25AA;&#x25AA;&#x25AA;</td><td class='str' title='str32'>&#x25AA;&#x25AA;&#x25AA;&#x25AA;</td><td class='str' title='str32'>&#x25AA;&#x25AA;&#x25AA;&#x25AA;</td><td class='str' title='str32'>&#x25AA;&#x25AA;&#x25AA;&#x25AA;</td><td></td><td class='int' title='int64'>&#x25AA;&#x25AA;&#x25AA;&#x25AA;&#x25AA;&#x25AA;&#x25AA;&#x25AA;</td><td class='float' title='float64'>&#x25AA;&#x25AA;&#x25AA;&#x25AA;&#x25AA;&#x25AA;&#x25AA;&#x25AA;</td><td class='float' title='float64'>&#x25AA;&#x25AA;&#x25AA;&#x25AA;&#x25AA;&#x25AA;&#x25AA;&#x25AA;</td><td class='int' title='int64'>&#x25AA;&#x25AA;&#x25AA;&#x25AA;&#x25AA;&#x25AA;&#x25AA;&#x25AA;</td><td class='float' title='float64'>&#x25AA;&#x25AA;&#x25AA;&#x25AA;&#x25AA;&#x25AA;&#x25AA;&#x25AA;</td></tr>\n",
       "  </thead>\n",
       "  <tbody>\n",
       "    <tr><td class='row_index'>0</td><td>0</td><td>0</td><td>CO/DF/53001</td><td>CO/DF/53001/530010/0010464</td><td>regiao_saude</td><td>cnes</td><td>53001</td><td>0010464</td><td>Distrito Federal</td><td>HRAN</td><td class=vellipsis>&hellip;</td><td>260</td><td>0</td><td>0</td><td>260</td><td>100</td></tr>\n",
       "    <tr><td class='row_index'>1</td><td>1</td><td>0</td><td>CO/DF/53001</td><td>CO/DF/53001/530010/0010464</td><td>regiao_saude</td><td>cnes</td><td>53001</td><td>0010464</td><td>Distrito Federal</td><td>HRAN</td><td class=vellipsis>&hellip;</td><td>1954</td><td>0</td><td>0</td><td>1954</td><td>100</td></tr>\n",
       "    <tr><td class='row_index'>2</td><td>0</td><td>1</td><td>CO/DF/53001</td><td>CO/DF/53001/530010/0010464</td><td>regiao_saude</td><td>cnes</td><td>53001</td><td>0010464</td><td>Distrito Federal</td><td>HRAN</td><td class=vellipsis>&hellip;</td><td>2171</td><td>0</td><td>0</td><td>2171</td><td>100</td></tr>\n",
       "    <tr><td class='row_index'>3</td><td>1</td><td>1</td><td>CO/DF/53001</td><td>CO/DF/53001/530010/0010464</td><td>regiao_saude</td><td>cnes</td><td>53001</td><td>0010464</td><td>Distrito Federal</td><td>HRAN</td><td class=vellipsis>&hellip;</td><td>2521</td><td>0</td><td>0</td><td>2521</td><td>100</td></tr>\n",
       "    <tr><td class='row_index'>4</td><td>0</td><td>0</td><td>CO/DF/53001</td><td>CO/DF/53001/530010/0010472</td><td>regiao_saude</td><td>cnes</td><td>53001</td><td>0010472</td><td>Distrito Federal</td><td>HRG</td><td class=vellipsis>&hellip;</td><td>282</td><td>0</td><td>0</td><td>282</td><td>100</td></tr>\n",
       "    <tr><td class='row_index'>5</td><td>1</td><td>0</td><td>CO/DF/53001</td><td>CO/DF/53001/530010/0010472</td><td>regiao_saude</td><td>cnes</td><td>53001</td><td>0010472</td><td>Distrito Federal</td><td>HRG</td><td class=vellipsis>&hellip;</td><td>650</td><td>0</td><td>0</td><td>650</td><td>100</td></tr>\n",
       "    <tr><td class='row_index'>6</td><td>0</td><td>1</td><td>CO/DF/53001</td><td>CO/DF/53001/530010/0010472</td><td>regiao_saude</td><td>cnes</td><td>53001</td><td>0010472</td><td>Distrito Federal</td><td>HRG</td><td class=vellipsis>&hellip;</td><td>2739</td><td>0</td><td>0</td><td>2739</td><td>100</td></tr>\n",
       "    <tr><td class='row_index'>7</td><td>1</td><td>1</td><td>CO/DF/53001</td><td>CO/DF/53001/530010/0010472</td><td>regiao_saude</td><td>cnes</td><td>53001</td><td>0010472</td><td>Distrito Federal</td><td>HRG</td><td class=vellipsis>&hellip;</td><td>1981</td><td>0</td><td>0</td><td>1981</td><td>100</td></tr>\n",
       "    <tr><td class='row_index'>8</td><td>0</td><td>0</td><td>CO/DF/53001</td><td>CO/DF/53001/530010/0010480</td><td>regiao_saude</td><td>cnes</td><td>53001</td><td>0010480</td><td>Distrito Federal</td><td>HOSPITAL REGIONAL DE CEILANDIA</td><td class=vellipsis>&hellip;</td><td>3323</td><td>0</td><td>0</td><td>3323</td><td>100</td></tr>\n",
       "    <tr><td class='row_index'>9</td><td>1</td><td>0</td><td>CO/DF/53001</td><td>CO/DF/53001/530010/0010480</td><td>regiao_saude</td><td>cnes</td><td>53001</td><td>0010480</td><td>Distrito Federal</td><td>HOSPITAL REGIONAL DE CEILANDIA</td><td class=vellipsis>&hellip;</td><td>2840</td><td>0</td><td>0</td><td>2840</td><td>100</td></tr>\n",
       "    <tr><td class='row_index'>10</td><td>0</td><td>1</td><td>CO/DF/53001</td><td>CO/DF/53001/530010/0010480</td><td>regiao_saude</td><td>cnes</td><td>53001</td><td>0010480</td><td>Distrito Federal</td><td>HOSPITAL REGIONAL DE CEILANDIA</td><td class=vellipsis>&hellip;</td><td>8418</td><td>0</td><td>0</td><td>8418</td><td>100</td></tr>\n",
       "    <tr><td class='row_index'>11</td><td>1</td><td>1</td><td>CO/DF/53001</td><td>CO/DF/53001/530010/0010480</td><td>regiao_saude</td><td>cnes</td><td>53001</td><td>0010480</td><td>Distrito Federal</td><td>HOSPITAL REGIONAL DE CEILANDIA</td><td class=vellipsis>&hellip;</td><td>6629</td><td>0</td><td>0</td><td>6629</td><td>100</td></tr>\n",
       "    <tr><td class='row_index'>12</td><td>0</td><td>0</td><td>CO/DF/53001</td><td>CO/DF/53001/530010/0010499</td><td>regiao_saude</td><td>cnes</td><td>53001</td><td>0010499</td><td>Distrito Federal</td><td>HRT HOSPITAL REGIONAL DE TAGUATINGA</td><td class=vellipsis>&hellip;</td><td>3368</td><td>0</td><td>0</td><td>3368</td><td>100</td></tr>\n",
       "    <tr><td class='row_index'>13</td><td>1</td><td>0</td><td>CO/DF/53001</td><td>CO/DF/53001/530010/0010499</td><td>regiao_saude</td><td>cnes</td><td>53001</td><td>0010499</td><td>Distrito Federal</td><td>HRT HOSPITAL REGIONAL DE TAGUATINGA</td><td class=vellipsis>&hellip;</td><td>2294</td><td>0</td><td>0</td><td>2294</td><td>100</td></tr>\n",
       "    <tr><td class='row_index'>14</td><td>0</td><td>1</td><td>CO/DF/53001</td><td>CO/DF/53001/530010/0010499</td><td>regiao_saude</td><td>cnes</td><td>53001</td><td>0010499</td><td>Distrito Federal</td><td>HRT HOSPITAL REGIONAL DE TAGUATINGA</td><td class=vellipsis>&hellip;</td><td>4404</td><td>0</td><td>0</td><td>4404</td><td>100</td></tr>\n",
       "    <tr><td class='row_index'>&#x22EE;</td><td class='hellipsis'>&#x22EE;</td><td class='hellipsis'>&#x22EE;</td><td class='hellipsis'>&#x22EE;</td><td class='hellipsis'>&#x22EE;</td><td class='hellipsis'>&#x22EE;</td><td class='hellipsis'>&#x22EE;</td><td class='hellipsis'>&#x22EE;</td><td class='hellipsis'>&#x22EE;</td><td class='hellipsis'>&#x22EE;</td><td class='hellipsis'>&#x22EE;</td><td class='hellipsis'>&#x22F1;</td><td class='hellipsis'>&#x22EE;</td><td class='hellipsis'>&#x22EE;</td><td class='hellipsis'>&#x22EE;</td><td class='hellipsis'>&#x22EE;</td><td class='hellipsis'>&#x22EE;</td></tr>\n",
       "    <tr><td class='row_index'>52,414</td><td>1</td><td>1</td><td>SL/SC/42016</td><td>SL/SC/42016/421870/2491710</td><td>regiao_saude</td><td>cnes</td><td>42016</td><td>2491710</td><td>Laguna</td><td><span class=na>NA</span></td><td class=vellipsis>&hellip;</td><td>441</td><td>0</td><td>0</td><td>1127</td><td>39.1304</td></tr>\n",
       "    <tr><td class='row_index'>52,415</td><td>0</td><td>0</td><td>SL/SC/42016</td><td>SL/SC/42016/421870/2491710</td><td>regiao_saude</td><td>cnes</td><td>42016</td><td>2491710</td><td>Laguna</td><td><span class=na>NA</span></td><td class=vellipsis>&hellip;</td><td>51</td><td>1238.14</td><td>1184.6</td><td>103</td><td>49.5146</td></tr>\n",
       "    <tr><td class='row_index'>52,416</td><td>1</td><td>0</td><td>SL/SC/42016</td><td>SL/SC/42016/421870/2491710</td><td>regiao_saude</td><td>cnes</td><td>42016</td><td>2491710</td><td>Laguna</td><td><span class=na>NA</span></td><td class=vellipsis>&hellip;</td><td>301</td><td>9023.52</td><td>8390.26</td><td>491</td><td>61.3035</td></tr>\n",
       "    <tr><td class='row_index'>52,417</td><td>0</td><td>1</td><td>SL/SC/42016</td><td>SL/SC/42016/421870/2491710</td><td>regiao_saude</td><td>cnes</td><td>42016</td><td>2491710</td><td>Laguna</td><td><span class=na>NA</span></td><td class=vellipsis>&hellip;</td><td>276</td><td>6539.27</td><td>6254.21</td><td>547</td><td>50.457</td></tr>\n",
       "    <tr><td class='row_index'>52,418</td><td>1</td><td>1</td><td>SL/SC/42016</td><td>SL/SC/42016/421870/2491710</td><td>regiao_saude</td><td>cnes</td><td>42016</td><td>2491710</td><td>Laguna</td><td><span class=na>NA</span></td><td class=vellipsis>&hellip;</td><td>686</td><td>19590.9</td><td>17936.8</td><td>1127</td><td>60.8696</td></tr>\n",
       "  </tbody>\n",
       "  </table>\n",
       "  <div class='footer'>\n",
       "    <div class='frame_dimensions'>52,419 rows &times; 16 columns</div>\n",
       "  </div>\n",
       "</div>\n"
      ],
      "text/plain": [
       "<Frame#7fc0b8092ed0 52419x16>"
      ]
     },
     "execution_count": 8,
     "metadata": {},
     "output_type": "execute_result"
    }
   ],
   "source": [
    "scale_origin = 'regiao_saude'\n",
    "scale_destin = 'cnes'\n",
    "df_regsau_cnes = get_flux_table(scale_origin, scale_destin)\n",
    "df_regsau_cnes"
   ]
  },
  {
   "cell_type": "markdown",
   "metadata": {},
   "source": [
    "### Apenas RJ"
   ]
  },
  {
   "cell_type": "code",
   "execution_count": 9,
   "metadata": {},
   "outputs": [],
   "source": [
    "def filter_rj(df):\n",
    "  return ['SD/RJ' in c for c in df['origem'].to_list()[0]]"
   ]
  },
  {
   "cell_type": "code",
   "execution_count": 10,
   "metadata": {},
   "outputs": [
    {
     "data": {
      "text/html": [
       "<div class='datatable'>\n",
       "  <table class='frame'>\n",
       "  <thead>\n",
       "    <tr class='colnames'><td class='row_index'></td><th>bienio</th><th>parto_normal</th><th>origem</th><th>destino</th><th>escala_origem</th><th>escala_destino</th><th>id_origem</th><th>id_destino</th><th>nome_origem</th><th>nome_destino</th><th class='vellipsis'>&hellip;</th><th>count</th><th>dist_pond</th><th>tempo_pond</th><th>total</th><th>percent</th></tr>\n",
       "    <tr class='coltypes'><td class='row_index'></td><td class='bool' title='bool8'>&#x25AA;</td><td class='bool' title='bool8'>&#x25AA;</td><td class='str' title='str32'>&#x25AA;&#x25AA;&#x25AA;&#x25AA;</td><td class='str' title='str32'>&#x25AA;&#x25AA;&#x25AA;&#x25AA;</td><td class='str' title='str32'>&#x25AA;&#x25AA;&#x25AA;&#x25AA;</td><td class='str' title='str32'>&#x25AA;&#x25AA;&#x25AA;&#x25AA;</td><td class='str' title='str32'>&#x25AA;&#x25AA;&#x25AA;&#x25AA;</td><td class='str' title='str32'>&#x25AA;&#x25AA;&#x25AA;&#x25AA;</td><td class='str' title='str32'>&#x25AA;&#x25AA;&#x25AA;&#x25AA;</td><td class='str' title='str32'>&#x25AA;&#x25AA;&#x25AA;&#x25AA;</td><td></td><td class='int' title='int64'>&#x25AA;&#x25AA;&#x25AA;&#x25AA;&#x25AA;&#x25AA;&#x25AA;&#x25AA;</td><td class='float' title='float64'>&#x25AA;&#x25AA;&#x25AA;&#x25AA;&#x25AA;&#x25AA;&#x25AA;&#x25AA;</td><td class='float' title='float64'>&#x25AA;&#x25AA;&#x25AA;&#x25AA;&#x25AA;&#x25AA;&#x25AA;&#x25AA;</td><td class='int' title='int64'>&#x25AA;&#x25AA;&#x25AA;&#x25AA;&#x25AA;&#x25AA;&#x25AA;&#x25AA;</td><td class='float' title='float64'>&#x25AA;&#x25AA;&#x25AA;&#x25AA;&#x25AA;&#x25AA;&#x25AA;&#x25AA;</td></tr>\n",
       "  </thead>\n",
       "  <tbody>\n",
       "    <tr><td class='row_index'>0</td><td>1</td><td>1</td><td>SD/RJ/33001</td><td>ND/PB/25012/250690/6644996</td><td>regiao_saude</td><td>cnes</td><td>33001</td><td>6644996</td><td>Baia da Ilha Grande</td><td>HOSPITAL REGIONAL DE ITABAIANA</td><td class=vellipsis>&hellip;</td><td>1</td><td>2485.74</td><td>1898.2</td><td>1</td><td>100</td></tr>\n",
       "    <tr><td class='row_index'>1</td><td>1</td><td>1</td><td>SD/RJ/33001</td><td>ND/PI/22005/220770/8015899</td><td>regiao_saude</td><td>cnes</td><td>33001</td><td>8015899</td><td>Baia da Ilha Grande</td><td>HOSPITAL ESTADUAL DIRCEU ARCOVERDE</td><td class=vellipsis>&hellip;</td><td>1</td><td>3067.57</td><td>2331.66</td><td>1</td><td>100</td></tr>\n",
       "    <tr><td class='row_index'>2</td><td>0</td><td>0</td><td>SD/RJ/33001</td><td>SD/ES/32002/320245/2448203</td><td>regiao_saude</td><td>cnes</td><td>33001</td><td>2448203</td><td>Baia da Ilha Grande</td><td>HOSPITAL DE IBATIBA</td><td class=vellipsis>&hellip;</td><td>2</td><td>1229.23</td><td>919.537</td><td>2</td><td>100</td></tr>\n",
       "    <tr><td class='row_index'>3</td><td>1</td><td>1</td><td>SD/RJ/33001</td><td>SD/ES/32002/320245/2448203</td><td>regiao_saude</td><td>cnes</td><td>33001</td><td>2448203</td><td>Baia da Ilha Grande</td><td>HOSPITAL DE IBATIBA</td><td class=vellipsis>&hellip;</td><td>1</td><td>704.828</td><td>573.227</td><td>1</td><td>100</td></tr>\n",
       "    <tr><td class='row_index'>4</td><td>0</td><td>0</td><td>SD/RJ/33001</td><td>SD/RJ/33001/330010/2280868</td><td>regiao_saude</td><td>cnes</td><td>33001</td><td>2280868</td><td>Baia da Ilha Grande</td><td>HOSPITAL E MATERNIDADE DE ANGRA DOS REIS HMAR</td><td class=vellipsis>&hellip;</td><td>533</td><td>0</td><td>0</td><td>538</td><td>99.0706</td></tr>\n",
       "    <tr><td class='row_index'>5</td><td>1</td><td>0</td><td>SD/RJ/33001</td><td>SD/RJ/33001/330010/2280868</td><td>regiao_saude</td><td>cnes</td><td>33001</td><td>2280868</td><td>Baia da Ilha Grande</td><td>HOSPITAL E MATERNIDADE DE ANGRA DOS REIS HMAR</td><td class=vellipsis>&hellip;</td><td>1698</td><td>0</td><td>0</td><td>1743</td><td>97.4182</td></tr>\n",
       "    <tr><td class='row_index'>6</td><td>0</td><td>1</td><td>SD/RJ/33001</td><td>SD/RJ/33001/330010/2280868</td><td>regiao_saude</td><td>cnes</td><td>33001</td><td>2280868</td><td>Baia da Ilha Grande</td><td>HOSPITAL E MATERNIDADE DE ANGRA DOS REIS HMAR</td><td class=vellipsis>&hellip;</td><td>1457</td><td>0</td><td>0</td><td>1490</td><td>97.7852</td></tr>\n",
       "    <tr><td class='row_index'>7</td><td>1</td><td>1</td><td>SD/RJ/33001</td><td>SD/RJ/33001/330010/2280868</td><td>regiao_saude</td><td>cnes</td><td>33001</td><td>2280868</td><td>Baia da Ilha Grande</td><td>HOSPITAL E MATERNIDADE DE ANGRA DOS REIS HMAR</td><td class=vellipsis>&hellip;</td><td>1781</td><td>0</td><td>0</td><td>1822</td><td>97.7497</td></tr>\n",
       "    <tr><td class='row_index'>8</td><td>0</td><td>0</td><td>SD/RJ/33001</td><td>SD/RJ/33001/330010/2280868</td><td>regiao_saude</td><td>cnes</td><td>33001</td><td>2280868</td><td>Baia da Ilha Grande</td><td>HOSPITAL E MATERNIDADE DE ANGRA DOS REIS HMAR</td><td class=vellipsis>&hellip;</td><td>5</td><td>323.197</td><td>312.422</td><td>538</td><td>0.929368</td></tr>\n",
       "    <tr><td class='row_index'>9</td><td>1</td><td>0</td><td>SD/RJ/33001</td><td>SD/RJ/33001/330010/2280868</td><td>regiao_saude</td><td>cnes</td><td>33001</td><td>2280868</td><td>Baia da Ilha Grande</td><td>HOSPITAL E MATERNIDADE DE ANGRA DOS REIS HMAR</td><td class=vellipsis>&hellip;</td><td>45</td><td>2415.21</td><td>2358.07</td><td>1743</td><td>2.58176</td></tr>\n",
       "    <tr><td class='row_index'>10</td><td>0</td><td>1</td><td>SD/RJ/33001</td><td>SD/RJ/33001/330010/2280868</td><td>regiao_saude</td><td>cnes</td><td>33001</td><td>2280868</td><td>Baia da Ilha Grande</td><td>HOSPITAL E MATERNIDADE DE ANGRA DOS REIS HMAR</td><td class=vellipsis>&hellip;</td><td>33</td><td>2109.55</td><td>2015.83</td><td>1490</td><td>2.21477</td></tr>\n",
       "    <tr><td class='row_index'>11</td><td>1</td><td>1</td><td>SD/RJ/33001</td><td>SD/RJ/33001/330010/2280868</td><td>regiao_saude</td><td>cnes</td><td>33001</td><td>2280868</td><td>Baia da Ilha Grande</td><td>HOSPITAL E MATERNIDADE DE ANGRA DOS REIS HMAR</td><td class=vellipsis>&hellip;</td><td>41</td><td>2720.87</td><td>2700.32</td><td>1822</td><td>2.25027</td></tr>\n",
       "    <tr><td class='row_index'>12</td><td>0</td><td>0</td><td>SD/RJ/33001</td><td>SD/RJ/33001/330010/2281384</td><td>regiao_saude</td><td>cnes</td><td>33001</td><td>2281384</td><td>Baia da Ilha Grande</td><td>HOSPITAL DE PRAIA BRAVA</td><td class=vellipsis>&hellip;</td><td>116</td><td>0</td><td>0</td><td>127</td><td>91.3386</td></tr>\n",
       "    <tr><td class='row_index'>13</td><td>1</td><td>0</td><td>SD/RJ/33001</td><td>SD/RJ/33001/330010/2281384</td><td>regiao_saude</td><td>cnes</td><td>33001</td><td>2281384</td><td>Baia da Ilha Grande</td><td>HOSPITAL DE PRAIA BRAVA</td><td class=vellipsis>&hellip;</td><td>77</td><td>0</td><td>0</td><td>79</td><td>97.4684</td></tr>\n",
       "    <tr><td class='row_index'>14</td><td>0</td><td>1</td><td>SD/RJ/33001</td><td>SD/RJ/33001/330010/2281384</td><td>regiao_saude</td><td>cnes</td><td>33001</td><td>2281384</td><td>Baia da Ilha Grande</td><td>HOSPITAL DE PRAIA BRAVA</td><td class=vellipsis>&hellip;</td><td>326</td><td>0</td><td>0</td><td>352</td><td>92.6136</td></tr>\n",
       "    <tr><td class='row_index'>&#x22EE;</td><td class='hellipsis'>&#x22EE;</td><td class='hellipsis'>&#x22EE;</td><td class='hellipsis'>&#x22EE;</td><td class='hellipsis'>&#x22EE;</td><td class='hellipsis'>&#x22EE;</td><td class='hellipsis'>&#x22EE;</td><td class='hellipsis'>&#x22EE;</td><td class='hellipsis'>&#x22EE;</td><td class='hellipsis'>&#x22EE;</td><td class='hellipsis'>&#x22EE;</td><td class='hellipsis'>&#x22F1;</td><td class='hellipsis'>&#x22EE;</td><td class='hellipsis'>&#x22EE;</td><td class='hellipsis'>&#x22EE;</td><td class='hellipsis'>&#x22EE;</td><td class='hellipsis'>&#x22EE;</td></tr>\n",
       "    <tr><td class='row_index'>1626</td><td>0</td><td>1</td><td>SD/RJ/33009</td><td>SD/RJ/33009/330590/3584968</td><td>regiao_saude</td><td>cnes</td><td>33009</td><td>3584968</td><td>Serrana</td><td>HOSPITAL FRANCISCO LIMONGI</td><td class=vellipsis>&hellip;</td><td>39</td><td>0</td><td>0</td><td>39</td><td>100</td></tr>\n",
       "    <tr><td class='row_index'>1627</td><td>1</td><td>1</td><td>SD/RJ/33009</td><td>SD/RJ/33009/330590/3584968</td><td>regiao_saude</td><td>cnes</td><td>33009</td><td>3584968</td><td>Serrana</td><td>HOSPITAL FRANCISCO LIMONGI</td><td class=vellipsis>&hellip;</td><td>6</td><td>0</td><td>0</td><td>7</td><td>85.7143</td></tr>\n",
       "    <tr><td class='row_index'>1628</td><td>1</td><td>1</td><td>SD/RJ/33009</td><td>SD/RJ/33009/330590/3584968</td><td>regiao_saude</td><td>cnes</td><td>33009</td><td>3584968</td><td>Serrana</td><td>HOSPITAL FRANCISCO LIMONGI</td><td class=vellipsis>&hellip;</td><td>1</td><td>30.305</td><td>32.1633</td><td>7</td><td>14.2857</td></tr>\n",
       "    <tr><td class='row_index'>1629</td><td>1</td><td>0</td><td>SD/RJ/33009</td><td>SD/SP/35011/351830/2773333</td><td>regiao_saude</td><td>cnes</td><td>33009</td><td>2773333</td><td>Serrana</td><td>SANTA CASA DE GUARAREMA</td><td class=vellipsis>&hellip;</td><td>1</td><td>404.5</td><td>312.915</td><td>1</td><td>100</td></tr>\n",
       "    <tr><td class='row_index'>1630</td><td>1</td><td>1</td><td>SD/RJ/33009</td><td>SD/SP/35072/350950/2022621</td><td>regiao_saude</td><td>cnes</td><td>33009</td><td>2022621</td><td>Serrana</td><td>MATERNIDADE DE CAMPINAS</td><td class=vellipsis>&hellip;</td><td>1</td><td>507.879</td><td>389.573</td><td>1</td><td>100</td></tr>\n",
       "  </tbody>\n",
       "  </table>\n",
       "  <div class='footer'>\n",
       "    <div class='frame_dimensions'>1631 rows &times; 16 columns</div>\n",
       "  </div>\n",
       "</div>\n"
      ],
      "text/plain": [
       "<Frame#7fc0e8d39600 1631x16>"
      ]
     },
     "execution_count": 10,
     "metadata": {},
     "output_type": "execute_result"
    }
   ],
   "source": [
    "df_regsau_cnes[filter_rj(df_regsau_cnes), :]"
   ]
  },
  {
   "cell_type": "markdown",
   "metadata": {},
   "source": [
    "## REGSAU -> Município (RJ)"
   ]
  },
  {
   "cell_type": "code",
   "execution_count": 11,
   "metadata": {},
   "outputs": [
    {
     "data": {
      "text/html": [
       "<div class='datatable'>\n",
       "  <table class='frame'>\n",
       "  <thead>\n",
       "    <tr class='colnames'><td class='row_index'></td><th>bienio</th><th>parto_normal</th><th>origem</th><th>destino</th><th>escala_origem</th><th>escala_destino</th><th>id_origem</th><th>id_destino</th><th>nome_origem</th><th>nome_destino</th><th class='vellipsis'>&hellip;</th><th>count</th><th>dist_pond</th><th>tempo_pond</th><th>total</th><th>percent</th></tr>\n",
       "    <tr class='coltypes'><td class='row_index'></td><td class='bool' title='bool8'>&#x25AA;</td><td class='bool' title='bool8'>&#x25AA;</td><td class='str' title='str32'>&#x25AA;&#x25AA;&#x25AA;&#x25AA;</td><td class='str' title='str32'>&#x25AA;&#x25AA;&#x25AA;&#x25AA;</td><td class='str' title='str32'>&#x25AA;&#x25AA;&#x25AA;&#x25AA;</td><td class='str' title='str32'>&#x25AA;&#x25AA;&#x25AA;&#x25AA;</td><td class='str' title='str32'>&#x25AA;&#x25AA;&#x25AA;&#x25AA;</td><td class='str' title='str32'>&#x25AA;&#x25AA;&#x25AA;&#x25AA;</td><td class='str' title='str32'>&#x25AA;&#x25AA;&#x25AA;&#x25AA;</td><td class='str' title='str32'>&#x25AA;&#x25AA;&#x25AA;&#x25AA;</td><td></td><td class='int' title='int64'>&#x25AA;&#x25AA;&#x25AA;&#x25AA;&#x25AA;&#x25AA;&#x25AA;&#x25AA;</td><td class='float' title='float64'>&#x25AA;&#x25AA;&#x25AA;&#x25AA;&#x25AA;&#x25AA;&#x25AA;&#x25AA;</td><td class='float' title='float64'>&#x25AA;&#x25AA;&#x25AA;&#x25AA;&#x25AA;&#x25AA;&#x25AA;&#x25AA;</td><td class='int' title='int64'>&#x25AA;&#x25AA;&#x25AA;&#x25AA;&#x25AA;&#x25AA;&#x25AA;&#x25AA;</td><td class='float' title='float64'>&#x25AA;&#x25AA;&#x25AA;&#x25AA;&#x25AA;&#x25AA;&#x25AA;&#x25AA;</td></tr>\n",
       "  </thead>\n",
       "  <tbody>\n",
       "    <tr><td class='row_index'>0</td><td>1</td><td>1</td><td>SD/RJ/33001</td><td>ND/PB/25012/250690</td><td>regiao_saude</td><td>municipio</td><td>33001</td><td>250690</td><td>Baia da Ilha Grande</td><td>Itabaiana</td><td class=vellipsis>&hellip;</td><td>1</td><td>2485.74</td><td>1898.2</td><td>1</td><td>100</td></tr>\n",
       "    <tr><td class='row_index'>1</td><td>1</td><td>1</td><td>SD/RJ/33001</td><td>ND/PI/22005/220770</td><td>regiao_saude</td><td>municipio</td><td>33001</td><td>220770</td><td>Baia da Ilha Grande</td><td>Parnaíba</td><td class=vellipsis>&hellip;</td><td>1</td><td>3067.57</td><td>2331.66</td><td>1</td><td>100</td></tr>\n",
       "    <tr><td class='row_index'>2</td><td>0</td><td>0</td><td>SD/RJ/33001</td><td>SD/ES/32002/320245</td><td>regiao_saude</td><td>municipio</td><td>33001</td><td>320245</td><td>Baia da Ilha Grande</td><td>Ibatiba</td><td class=vellipsis>&hellip;</td><td>2</td><td>1229.23</td><td>919.537</td><td>2</td><td>100</td></tr>\n",
       "    <tr><td class='row_index'>3</td><td>1</td><td>1</td><td>SD/RJ/33001</td><td>SD/ES/32002/320245</td><td>regiao_saude</td><td>municipio</td><td>33001</td><td>320245</td><td>Baia da Ilha Grande</td><td>Ibatiba</td><td class=vellipsis>&hellip;</td><td>1</td><td>704.828</td><td>573.227</td><td>1</td><td>100</td></tr>\n",
       "    <tr><td class='row_index'>4</td><td>0</td><td>0</td><td>SD/RJ/33001</td><td>SD/RJ/33001/330010</td><td>regiao_saude</td><td>municipio</td><td>33001</td><td>330010</td><td>Baia da Ilha Grande</td><td>Angra dos Reis</td><td class=vellipsis>&hellip;</td><td>649</td><td>0</td><td>0</td><td>665</td><td>97.594</td></tr>\n",
       "    <tr><td class='row_index'>5</td><td>1</td><td>0</td><td>SD/RJ/33001</td><td>SD/RJ/33001/330010</td><td>regiao_saude</td><td>municipio</td><td>33001</td><td>330010</td><td>Baia da Ilha Grande</td><td>Angra dos Reis</td><td class=vellipsis>&hellip;</td><td>1775</td><td>0</td><td>0</td><td>1822</td><td>97.4204</td></tr>\n",
       "    <tr><td class='row_index'>6</td><td>0</td><td>1</td><td>SD/RJ/33001</td><td>SD/RJ/33001/330010</td><td>regiao_saude</td><td>municipio</td><td>33001</td><td>330010</td><td>Baia da Ilha Grande</td><td>Angra dos Reis</td><td class=vellipsis>&hellip;</td><td>1783</td><td>0</td><td>0</td><td>1842</td><td>96.797</td></tr>\n",
       "    <tr><td class='row_index'>7</td><td>1</td><td>1</td><td>SD/RJ/33001</td><td>SD/RJ/33001/330010</td><td>regiao_saude</td><td>municipio</td><td>33001</td><td>330010</td><td>Baia da Ilha Grande</td><td>Angra dos Reis</td><td class=vellipsis>&hellip;</td><td>1863</td><td>0</td><td>0</td><td>1905</td><td>97.7953</td></tr>\n",
       "    <tr><td class='row_index'>8</td><td>0</td><td>0</td><td>SD/RJ/33001</td><td>SD/RJ/33001/330010</td><td>regiao_saude</td><td>municipio</td><td>33001</td><td>330010</td><td>Baia da Ilha Grande</td><td>Angra dos Reis</td><td class=vellipsis>&hellip;</td><td>16</td><td>1379.67</td><td>1676.66</td><td>665</td><td>2.40602</td></tr>\n",
       "    <tr><td class='row_index'>9</td><td>1</td><td>0</td><td>SD/RJ/33001</td><td>SD/RJ/33001/330010</td><td>regiao_saude</td><td>municipio</td><td>33001</td><td>330010</td><td>Baia da Ilha Grande</td><td>Angra dos Reis</td><td class=vellipsis>&hellip;</td><td>47</td><td>2607.3</td><td>2606.12</td><td>1822</td><td>2.57958</td></tr>\n",
       "    <tr><td class='row_index'>10</td><td>0</td><td>1</td><td>SD/RJ/33001</td><td>SD/RJ/33001/330010</td><td>regiao_saude</td><td>municipio</td><td>33001</td><td>330010</td><td>Baia da Ilha Grande</td><td>Angra dos Reis</td><td class=vellipsis>&hellip;</td><td>59</td><td>4606.66</td><td>5240.39</td><td>1842</td><td>3.20304</td></tr>\n",
       "    <tr><td class='row_index'>11</td><td>1</td><td>1</td><td>SD/RJ/33001</td><td>SD/RJ/33001/330010</td><td>regiao_saude</td><td>municipio</td><td>33001</td><td>330010</td><td>Baia da Ilha Grande</td><td>Angra dos Reis</td><td class=vellipsis>&hellip;</td><td>42</td><td>2816.92</td><td>2824.34</td><td>1905</td><td>2.20472</td></tr>\n",
       "    <tr><td class='row_index'>12</td><td>0</td><td>0</td><td>SD/RJ/33001</td><td>SD/RJ/33001/330260</td><td>regiao_saude</td><td>municipio</td><td>33001</td><td>330260</td><td>Baia da Ilha Grande</td><td>Mangaratiba</td><td class=vellipsis>&hellip;</td><td>183</td><td>0</td><td>0</td><td>183</td><td>100</td></tr>\n",
       "    <tr><td class='row_index'>13</td><td>1</td><td>0</td><td>SD/RJ/33001</td><td>SD/RJ/33001/330260</td><td>regiao_saude</td><td>municipio</td><td>33001</td><td>330260</td><td>Baia da Ilha Grande</td><td>Mangaratiba</td><td class=vellipsis>&hellip;</td><td>324</td><td>0</td><td>0</td><td>324</td><td>100</td></tr>\n",
       "    <tr><td class='row_index'>14</td><td>0</td><td>1</td><td>SD/RJ/33001</td><td>SD/RJ/33001/330260</td><td>regiao_saude</td><td>municipio</td><td>33001</td><td>330260</td><td>Baia da Ilha Grande</td><td>Mangaratiba</td><td class=vellipsis>&hellip;</td><td>589</td><td>0</td><td>0</td><td>589</td><td>100</td></tr>\n",
       "    <tr><td class='row_index'>&#x22EE;</td><td class='hellipsis'>&#x22EE;</td><td class='hellipsis'>&#x22EE;</td><td class='hellipsis'>&#x22EE;</td><td class='hellipsis'>&#x22EE;</td><td class='hellipsis'>&#x22EE;</td><td class='hellipsis'>&#x22EE;</td><td class='hellipsis'>&#x22EE;</td><td class='hellipsis'>&#x22EE;</td><td class='hellipsis'>&#x22EE;</td><td class='hellipsis'>&#x22EE;</td><td class='hellipsis'>&#x22F1;</td><td class='hellipsis'>&#x22EE;</td><td class='hellipsis'>&#x22EE;</td><td class='hellipsis'>&#x22EE;</td><td class='hellipsis'>&#x22EE;</td><td class='hellipsis'>&#x22EE;</td></tr>\n",
       "    <tr><td class='row_index'>1190</td><td>0</td><td>1</td><td>SD/RJ/33009</td><td>SD/RJ/33009/330590</td><td>regiao_saude</td><td>municipio</td><td>33009</td><td>330590</td><td>Serrana</td><td>Trajano de Moraes</td><td class=vellipsis>&hellip;</td><td>39</td><td>0</td><td>0</td><td>39</td><td>100</td></tr>\n",
       "    <tr><td class='row_index'>1191</td><td>1</td><td>1</td><td>SD/RJ/33009</td><td>SD/RJ/33009/330590</td><td>regiao_saude</td><td>municipio</td><td>33009</td><td>330590</td><td>Serrana</td><td>Trajano de Moraes</td><td class=vellipsis>&hellip;</td><td>6</td><td>0</td><td>0</td><td>7</td><td>85.7143</td></tr>\n",
       "    <tr><td class='row_index'>1192</td><td>1</td><td>1</td><td>SD/RJ/33009</td><td>SD/RJ/33009/330590</td><td>regiao_saude</td><td>municipio</td><td>33009</td><td>330590</td><td>Serrana</td><td>Trajano de Moraes</td><td class=vellipsis>&hellip;</td><td>1</td><td>30.305</td><td>32.1633</td><td>7</td><td>14.2857</td></tr>\n",
       "    <tr><td class='row_index'>1193</td><td>1</td><td>0</td><td>SD/RJ/33009</td><td>SD/SP/35011/351830</td><td>regiao_saude</td><td>municipio</td><td>33009</td><td>351830</td><td>Serrana</td><td>Guararema</td><td class=vellipsis>&hellip;</td><td>1</td><td>404.5</td><td>312.915</td><td>1</td><td>100</td></tr>\n",
       "    <tr><td class='row_index'>1194</td><td>1</td><td>1</td><td>SD/RJ/33009</td><td>SD/SP/35072/350950</td><td>regiao_saude</td><td>municipio</td><td>33009</td><td>350950</td><td>Serrana</td><td>Campinas</td><td class=vellipsis>&hellip;</td><td>1</td><td>507.879</td><td>389.573</td><td>1</td><td>100</td></tr>\n",
       "  </tbody>\n",
       "  </table>\n",
       "  <div class='footer'>\n",
       "    <div class='frame_dimensions'>1195 rows &times; 16 columns</div>\n",
       "  </div>\n",
       "</div>\n"
      ],
      "text/plain": [
       "<Frame#7fc0da236660 1195x16>"
      ]
     },
     "execution_count": 11,
     "metadata": {},
     "output_type": "execute_result"
    }
   ],
   "source": [
    "scale_origin = 'regiao_saude'\n",
    "scale_destin = 'municipio'\n",
    "df_regsau_mun = get_flux_table(scale_origin, scale_destin)\n",
    "df_regsau_mun[filter_rj(df_regsau_mun), :]"
   ]
  },
  {
   "cell_type": "markdown",
   "metadata": {},
   "source": [
    "## REGSAU -> REGSAU (RJ)"
   ]
  },
  {
   "cell_type": "code",
   "execution_count": 12,
   "metadata": {},
   "outputs": [
    {
     "data": {
      "text/html": [
       "<div class='datatable'>\n",
       "  <table class='frame'>\n",
       "  <thead>\n",
       "    <tr class='colnames'><td class='row_index'></td><th>bienio</th><th>parto_normal</th><th>origem</th><th>destino</th><th>escala_origem</th><th>escala_destino</th><th>id_origem</th><th>id_destino</th><th>nome_origem</th><th>nome_destino</th><th class='vellipsis'>&hellip;</th><th>count</th><th>dist_pond</th><th>tempo_pond</th><th>total</th><th>percent</th></tr>\n",
       "    <tr class='coltypes'><td class='row_index'></td><td class='bool' title='bool8'>&#x25AA;</td><td class='bool' title='bool8'>&#x25AA;</td><td class='str' title='str32'>&#x25AA;&#x25AA;&#x25AA;&#x25AA;</td><td class='str' title='str32'>&#x25AA;&#x25AA;&#x25AA;&#x25AA;</td><td class='str' title='str32'>&#x25AA;&#x25AA;&#x25AA;&#x25AA;</td><td class='str' title='str32'>&#x25AA;&#x25AA;&#x25AA;&#x25AA;</td><td class='str' title='str32'>&#x25AA;&#x25AA;&#x25AA;&#x25AA;</td><td class='str' title='str32'>&#x25AA;&#x25AA;&#x25AA;&#x25AA;</td><td class='str' title='str32'>&#x25AA;&#x25AA;&#x25AA;&#x25AA;</td><td class='str' title='str32'>&#x25AA;&#x25AA;&#x25AA;&#x25AA;</td><td></td><td class='int' title='int64'>&#x25AA;&#x25AA;&#x25AA;&#x25AA;&#x25AA;&#x25AA;&#x25AA;&#x25AA;</td><td class='float' title='float64'>&#x25AA;&#x25AA;&#x25AA;&#x25AA;&#x25AA;&#x25AA;&#x25AA;&#x25AA;</td><td class='float' title='float64'>&#x25AA;&#x25AA;&#x25AA;&#x25AA;&#x25AA;&#x25AA;&#x25AA;&#x25AA;</td><td class='int' title='int64'>&#x25AA;&#x25AA;&#x25AA;&#x25AA;&#x25AA;&#x25AA;&#x25AA;&#x25AA;</td><td class='float' title='float64'>&#x25AA;&#x25AA;&#x25AA;&#x25AA;&#x25AA;&#x25AA;&#x25AA;&#x25AA;</td></tr>\n",
       "  </thead>\n",
       "  <tbody>\n",
       "    <tr><td class='row_index'>0</td><td>1</td><td>1</td><td>SD/RJ/33001</td><td>ND/PB/25012</td><td>regiao_saude</td><td>regiao_saude</td><td>33001</td><td>25012</td><td>Baia da Ilha Grande</td><td>12ª Região</td><td class=vellipsis>&hellip;</td><td>1</td><td>2485.74</td><td>1898.2</td><td>1</td><td>100</td></tr>\n",
       "    <tr><td class='row_index'>1</td><td>1</td><td>1</td><td>SD/RJ/33001</td><td>ND/PI/22005</td><td>regiao_saude</td><td>regiao_saude</td><td>33001</td><td>22005</td><td>Baia da Ilha Grande</td><td>Planície Litorânea</td><td class=vellipsis>&hellip;</td><td>1</td><td>3067.57</td><td>2331.66</td><td>1</td><td>100</td></tr>\n",
       "    <tr><td class='row_index'>2</td><td>0</td><td>0</td><td>SD/RJ/33001</td><td>SD/ES/32002</td><td>regiao_saude</td><td>regiao_saude</td><td>33001</td><td>32002</td><td>Baia da Ilha Grande</td><td>Metropolitana</td><td class=vellipsis>&hellip;</td><td>2</td><td>1229.23</td><td>919.537</td><td>2</td><td>100</td></tr>\n",
       "    <tr><td class='row_index'>3</td><td>1</td><td>1</td><td>SD/RJ/33001</td><td>SD/ES/32002</td><td>regiao_saude</td><td>regiao_saude</td><td>33001</td><td>32002</td><td>Baia da Ilha Grande</td><td>Metropolitana</td><td class=vellipsis>&hellip;</td><td>1</td><td>704.828</td><td>573.227</td><td>1</td><td>100</td></tr>\n",
       "    <tr><td class='row_index'>4</td><td>0</td><td>0</td><td>SD/RJ/33001</td><td>SD/RJ/33001</td><td>regiao_saude</td><td>regiao_saude</td><td>33001</td><td>33001</td><td>Baia da Ilha Grande</td><td>Baia da Ilha Grande</td><td class=vellipsis>&hellip;</td><td>923</td><td>0</td><td>0</td><td>939</td><td>98.2961</td></tr>\n",
       "    <tr><td class='row_index'>5</td><td>1</td><td>0</td><td>SD/RJ/33001</td><td>SD/RJ/33001</td><td>regiao_saude</td><td>regiao_saude</td><td>33001</td><td>33001</td><td>Baia da Ilha Grande</td><td>Baia da Ilha Grande</td><td class=vellipsis>&hellip;</td><td>2445</td><td>0</td><td>0</td><td>2500</td><td>97.8</td></tr>\n",
       "    <tr><td class='row_index'>6</td><td>0</td><td>1</td><td>SD/RJ/33001</td><td>SD/RJ/33001</td><td>regiao_saude</td><td>regiao_saude</td><td>33001</td><td>33001</td><td>Baia da Ilha Grande</td><td>Baia da Ilha Grande</td><td class=vellipsis>&hellip;</td><td>2714</td><td>0</td><td>0</td><td>2773</td><td>97.8723</td></tr>\n",
       "    <tr><td class='row_index'>7</td><td>1</td><td>1</td><td>SD/RJ/33001</td><td>SD/RJ/33001</td><td>regiao_saude</td><td>regiao_saude</td><td>33001</td><td>33001</td><td>Baia da Ilha Grande</td><td>Baia da Ilha Grande</td><td class=vellipsis>&hellip;</td><td>2564</td><td>0</td><td>0</td><td>2618</td><td>97.9374</td></tr>\n",
       "    <tr><td class='row_index'>8</td><td>0</td><td>0</td><td>SD/RJ/33001</td><td>SD/RJ/33001</td><td>regiao_saude</td><td>regiao_saude</td><td>33001</td><td>33001</td><td>Baia da Ilha Grande</td><td>Baia da Ilha Grande</td><td class=vellipsis>&hellip;</td><td>16</td><td>1379.67</td><td>1676.66</td><td>939</td><td>1.70394</td></tr>\n",
       "    <tr><td class='row_index'>9</td><td>1</td><td>0</td><td>SD/RJ/33001</td><td>SD/RJ/33001</td><td>regiao_saude</td><td>regiao_saude</td><td>33001</td><td>33001</td><td>Baia da Ilha Grande</td><td>Baia da Ilha Grande</td><td class=vellipsis>&hellip;</td><td>55</td><td>3375.64</td><td>3598.29</td><td>2500</td><td>2.2</td></tr>\n",
       "    <tr><td class='row_index'>10</td><td>0</td><td>1</td><td>SD/RJ/33001</td><td>SD/RJ/33001</td><td>regiao_saude</td><td>regiao_saude</td><td>33001</td><td>33001</td><td>Baia da Ilha Grande</td><td>Baia da Ilha Grande</td><td class=vellipsis>&hellip;</td><td>59</td><td>4606.66</td><td>5240.39</td><td>2773</td><td>2.12766</td></tr>\n",
       "    <tr><td class='row_index'>11</td><td>1</td><td>1</td><td>SD/RJ/33001</td><td>SD/RJ/33001</td><td>regiao_saude</td><td>regiao_saude</td><td>33001</td><td>33001</td><td>Baia da Ilha Grande</td><td>Baia da Ilha Grande</td><td class=vellipsis>&hellip;</td><td>54</td><td>3930.18</td><td>4235.68</td><td>2618</td><td>2.06264</td></tr>\n",
       "    <tr><td class='row_index'>12</td><td>1</td><td>0</td><td>SD/RJ/33001</td><td>SD/RJ/33002</td><td>regiao_saude</td><td>regiao_saude</td><td>33001</td><td>33002</td><td>Baia da Ilha Grande</td><td>Baixada Litorânea</td><td class=vellipsis>&hellip;</td><td>4</td><td>1213.22</td><td>1003.06</td><td>4</td><td>100</td></tr>\n",
       "    <tr><td class='row_index'>13</td><td>1</td><td>1</td><td>SD/RJ/33001</td><td>SD/RJ/33002</td><td>regiao_saude</td><td>regiao_saude</td><td>33001</td><td>33002</td><td>Baia da Ilha Grande</td><td>Baixada Litorânea</td><td class=vellipsis>&hellip;</td><td>2</td><td>370.711</td><td>333.317</td><td>2</td><td>100</td></tr>\n",
       "    <tr><td class='row_index'>14</td><td>0</td><td>1</td><td>SD/RJ/33001</td><td>SD/RJ/33003</td><td>regiao_saude</td><td>regiao_saude</td><td>33001</td><td>33003</td><td>Baia da Ilha Grande</td><td>Centro-Sul</td><td class=vellipsis>&hellip;</td><td>5</td><td>342.334</td><td>276.092</td><td>5</td><td>100</td></tr>\n",
       "    <tr><td class='row_index'>&#x22EE;</td><td class='hellipsis'>&#x22EE;</td><td class='hellipsis'>&#x22EE;</td><td class='hellipsis'>&#x22EE;</td><td class='hellipsis'>&#x22EE;</td><td class='hellipsis'>&#x22EE;</td><td class='hellipsis'>&#x22EE;</td><td class='hellipsis'>&#x22EE;</td><td class='hellipsis'>&#x22EE;</td><td class='hellipsis'>&#x22EE;</td><td class='hellipsis'>&#x22EE;</td><td class='hellipsis'>&#x22F1;</td><td class='hellipsis'>&#x22EE;</td><td class='hellipsis'>&#x22EE;</td><td class='hellipsis'>&#x22EE;</td><td class='hellipsis'>&#x22EE;</td><td class='hellipsis'>&#x22EE;</td></tr>\n",
       "    <tr><td class='row_index'>481</td><td>1</td><td>0</td><td>SD/RJ/33009</td><td>SD/RJ/33009</td><td>regiao_saude</td><td>regiao_saude</td><td>33009</td><td>33009</td><td>Serrana</td><td>Serrana</td><td class=vellipsis>&hellip;</td><td>311</td><td>9304.38</td><td>10170</td><td>5729</td><td>5.42852</td></tr>\n",
       "    <tr><td class='row_index'>482</td><td>0</td><td>1</td><td>SD/RJ/33009</td><td>SD/RJ/33009</td><td>regiao_saude</td><td>regiao_saude</td><td>33009</td><td>33009</td><td>Serrana</td><td>Serrana</td><td class=vellipsis>&hellip;</td><td>154</td><td>6426.08</td><td>6418.99</td><td>7462</td><td>2.06379</td></tr>\n",
       "    <tr><td class='row_index'>483</td><td>1</td><td>1</td><td>SD/RJ/33009</td><td>SD/RJ/33009</td><td>regiao_saude</td><td>regiao_saude</td><td>33009</td><td>33009</td><td>Serrana</td><td>Serrana</td><td class=vellipsis>&hellip;</td><td>280</td><td>10701.3</td><td>11439.1</td><td>6640</td><td>4.21687</td></tr>\n",
       "    <tr><td class='row_index'>484</td><td>1</td><td>0</td><td>SD/RJ/33009</td><td>SD/SP/35011</td><td>regiao_saude</td><td>regiao_saude</td><td>33009</td><td>35011</td><td>Serrana</td><td>Alto do Tietê</td><td class=vellipsis>&hellip;</td><td>1</td><td>404.5</td><td>312.915</td><td>1</td><td>100</td></tr>\n",
       "    <tr><td class='row_index'>485</td><td>1</td><td>1</td><td>SD/RJ/33009</td><td>SD/SP/35072</td><td>regiao_saude</td><td>regiao_saude</td><td>33009</td><td>35072</td><td>Serrana</td><td>Região Metropolitana de Campinas</td><td class=vellipsis>&hellip;</td><td>1</td><td>507.879</td><td>389.573</td><td>1</td><td>100</td></tr>\n",
       "  </tbody>\n",
       "  </table>\n",
       "  <div class='footer'>\n",
       "    <div class='frame_dimensions'>486 rows &times; 16 columns</div>\n",
       "  </div>\n",
       "</div>\n"
      ],
      "text/plain": [
       "<Frame#7fc0e08ed630 486x16>"
      ]
     },
     "execution_count": 12,
     "metadata": {},
     "output_type": "execute_result"
    }
   ],
   "source": [
    "scale_origin = 'regiao_saude'\n",
    "scale_destin = 'regiao_saude'\n",
    "df_regsau_regsau = get_flux_table(scale_origin, scale_destin)\n",
    "df_regsau_regsau[filter_rj(df_regsau_regsau), :]"
   ]
  },
  {
   "cell_type": "markdown",
   "metadata": {},
   "source": [
    "## Município -> Município (RJ)"
   ]
  },
  {
   "cell_type": "code",
   "execution_count": 13,
   "metadata": {},
   "outputs": [
    {
     "data": {
      "text/html": [
       "<div class='datatable'>\n",
       "  <table class='frame'>\n",
       "  <thead>\n",
       "    <tr class='colnames'><td class='row_index'></td><th>bienio</th><th>parto_normal</th><th>origem</th><th>destino</th><th>escala_origem</th><th>escala_destino</th><th>id_origem</th><th>id_destino</th><th>nome_origem</th><th>nome_destino</th><th class='vellipsis'>&hellip;</th><th>count</th><th>dist_pond</th><th>tempo_pond</th><th>total</th><th>percent</th></tr>\n",
       "    <tr class='coltypes'><td class='row_index'></td><td class='bool' title='bool8'>&#x25AA;</td><td class='bool' title='bool8'>&#x25AA;</td><td class='str' title='str32'>&#x25AA;&#x25AA;&#x25AA;&#x25AA;</td><td class='str' title='str32'>&#x25AA;&#x25AA;&#x25AA;&#x25AA;</td><td class='str' title='str32'>&#x25AA;&#x25AA;&#x25AA;&#x25AA;</td><td class='str' title='str32'>&#x25AA;&#x25AA;&#x25AA;&#x25AA;</td><td class='str' title='str32'>&#x25AA;&#x25AA;&#x25AA;&#x25AA;</td><td class='str' title='str32'>&#x25AA;&#x25AA;&#x25AA;&#x25AA;</td><td class='str' title='str32'>&#x25AA;&#x25AA;&#x25AA;&#x25AA;</td><td class='str' title='str32'>&#x25AA;&#x25AA;&#x25AA;&#x25AA;</td><td></td><td class='int' title='int64'>&#x25AA;&#x25AA;&#x25AA;&#x25AA;&#x25AA;&#x25AA;&#x25AA;&#x25AA;</td><td class='float' title='float64'>&#x25AA;&#x25AA;&#x25AA;&#x25AA;&#x25AA;&#x25AA;&#x25AA;&#x25AA;</td><td class='float' title='float64'>&#x25AA;&#x25AA;&#x25AA;&#x25AA;&#x25AA;&#x25AA;&#x25AA;&#x25AA;</td><td class='int' title='int64'>&#x25AA;&#x25AA;&#x25AA;&#x25AA;&#x25AA;&#x25AA;&#x25AA;&#x25AA;</td><td class='float' title='float64'>&#x25AA;&#x25AA;&#x25AA;&#x25AA;&#x25AA;&#x25AA;&#x25AA;&#x25AA;</td></tr>\n",
       "  </thead>\n",
       "  <tbody>\n",
       "    <tr><td class='row_index'>0</td><td>1</td><td>1</td><td>SD/RJ/33001/330010</td><td>ND/PI/22005/220770</td><td>municipio</td><td>municipio</td><td>330010</td><td>220770</td><td>Angra dos Reis</td><td>Parnaíba</td><td class=vellipsis>&hellip;</td><td>1</td><td>3067.57</td><td>2331.66</td><td>1</td><td>100</td></tr>\n",
       "    <tr><td class='row_index'>1</td><td>0</td><td>0</td><td>SD/RJ/33001/330010</td><td>SD/ES/32002/320245</td><td>municipio</td><td>municipio</td><td>330010</td><td>320245</td><td>Angra dos Reis</td><td>Ibatiba</td><td class=vellipsis>&hellip;</td><td>2</td><td>1229.23</td><td>919.537</td><td>2</td><td>100</td></tr>\n",
       "    <tr><td class='row_index'>2</td><td>0</td><td>0</td><td>SD/RJ/33001/330010</td><td>SD/RJ/33001/330010</td><td>municipio</td><td>municipio</td><td>330010</td><td>330010</td><td>Angra dos Reis</td><td>Angra dos Reis</td><td class=vellipsis>&hellip;</td><td>649</td><td>0</td><td>0</td><td>649</td><td>100</td></tr>\n",
       "    <tr><td class='row_index'>3</td><td>1</td><td>0</td><td>SD/RJ/33001/330010</td><td>SD/RJ/33001/330010</td><td>municipio</td><td>municipio</td><td>330010</td><td>330010</td><td>Angra dos Reis</td><td>Angra dos Reis</td><td class=vellipsis>&hellip;</td><td>1775</td><td>0</td><td>0</td><td>1775</td><td>100</td></tr>\n",
       "    <tr><td class='row_index'>4</td><td>0</td><td>1</td><td>SD/RJ/33001/330010</td><td>SD/RJ/33001/330010</td><td>municipio</td><td>municipio</td><td>330010</td><td>330010</td><td>Angra dos Reis</td><td>Angra dos Reis</td><td class=vellipsis>&hellip;</td><td>1783</td><td>0</td><td>0</td><td>1783</td><td>100</td></tr>\n",
       "    <tr><td class='row_index'>5</td><td>1</td><td>1</td><td>SD/RJ/33001/330010</td><td>SD/RJ/33001/330010</td><td>municipio</td><td>municipio</td><td>330010</td><td>330010</td><td>Angra dos Reis</td><td>Angra dos Reis</td><td class=vellipsis>&hellip;</td><td>1863</td><td>0</td><td>0</td><td>1863</td><td>100</td></tr>\n",
       "    <tr><td class='row_index'>6</td><td>1</td><td>1</td><td>SD/RJ/33001/330010</td><td>SD/RJ/33001/330260</td><td>municipio</td><td>municipio</td><td>330010</td><td>330260</td><td>Angra dos Reis</td><td>Mangaratiba</td><td class=vellipsis>&hellip;</td><td>1</td><td>56.7885</td><td>47.1</td><td>1</td><td>100</td></tr>\n",
       "    <tr><td class='row_index'>7</td><td>1</td><td>0</td><td>SD/RJ/33001/330010</td><td>SD/RJ/33001/330380</td><td>municipio</td><td>municipio</td><td>330010</td><td>330380</td><td>Angra dos Reis</td><td>Paraty</td><td class=vellipsis>&hellip;</td><td>8</td><td>768.343</td><td>992.173</td><td>8</td><td>100</td></tr>\n",
       "    <tr><td class='row_index'>8</td><td>1</td><td>1</td><td>SD/RJ/33001/330010</td><td>SD/RJ/33001/330380</td><td>municipio</td><td>municipio</td><td>330010</td><td>330380</td><td>Angra dos Reis</td><td>Paraty</td><td class=vellipsis>&hellip;</td><td>11</td><td>1056.47</td><td>1364.24</td><td>11</td><td>100</td></tr>\n",
       "    <tr><td class='row_index'>9</td><td>1</td><td>0</td><td>SD/RJ/33001/330010</td><td>SD/RJ/33002/330023</td><td>municipio</td><td>municipio</td><td>330010</td><td>330023</td><td>Angra dos Reis</td><td>Armação dos Búzios</td><td class=vellipsis>&hellip;</td><td>1</td><td>317.318</td><td>254.032</td><td>1</td><td>100</td></tr>\n",
       "    <tr><td class='row_index'>10</td><td>1</td><td>0</td><td>SD/RJ/33001/330010</td><td>SD/RJ/33002/330130</td><td>municipio</td><td>municipio</td><td>330010</td><td>330130</td><td>Angra dos Reis</td><td>Casimiro de Abreu</td><td class=vellipsis>&hellip;</td><td>1</td><td>279.628</td><td>216.798</td><td>1</td><td>100</td></tr>\n",
       "    <tr><td class='row_index'>11</td><td>1</td><td>0</td><td>SD/RJ/33001/330010</td><td>SD/RJ/33002/330550</td><td>municipio</td><td>municipio</td><td>330010</td><td>330550</td><td>Angra dos Reis</td><td>Saquarema</td><td class=vellipsis>&hellip;</td><td>1</td><td>237.112</td><td>204.492</td><td>1</td><td>100</td></tr>\n",
       "    <tr><td class='row_index'>12</td><td>1</td><td>1</td><td>SD/RJ/33001/330010</td><td>SD/RJ/33004/330040</td><td>municipio</td><td>municipio</td><td>330010</td><td>330040</td><td>Angra dos Reis</td><td>Barra Mansa</td><td class=vellipsis>&hellip;</td><td>1</td><td>95.8852</td><td>115.658</td><td>1</td><td>100</td></tr>\n",
       "    <tr><td class='row_index'>13</td><td>0</td><td>1</td><td>SD/RJ/33001/330010</td><td>SD/RJ/33004/330400</td><td>municipio</td><td>municipio</td><td>330010</td><td>330400</td><td>Angra dos Reis</td><td>Piraí</td><td class=vellipsis>&hellip;</td><td>2</td><td>266.772</td><td>211.477</td><td>2</td><td>100</td></tr>\n",
       "    <tr><td class='row_index'>14</td><td>1</td><td>0</td><td>SD/RJ/33001/330010</td><td>SD/RJ/33004/330411</td><td>municipio</td><td>municipio</td><td>330010</td><td>330411</td><td>Angra dos Reis</td><td>Porto Real</td><td class=vellipsis>&hellip;</td><td>3</td><td>355.744</td><td>397.87</td><td>3</td><td>100</td></tr>\n",
       "    <tr><td class='row_index'>&#x22EE;</td><td class='hellipsis'>&#x22EE;</td><td class='hellipsis'>&#x22EE;</td><td class='hellipsis'>&#x22EE;</td><td class='hellipsis'>&#x22EE;</td><td class='hellipsis'>&#x22EE;</td><td class='hellipsis'>&#x22EE;</td><td class='hellipsis'>&#x22EE;</td><td class='hellipsis'>&#x22EE;</td><td class='hellipsis'>&#x22EE;</td><td class='hellipsis'>&#x22EE;</td><td class='hellipsis'>&#x22F1;</td><td class='hellipsis'>&#x22EE;</td><td class='hellipsis'>&#x22EE;</td><td class='hellipsis'>&#x22EE;</td><td class='hellipsis'>&#x22EE;</td><td class='hellipsis'>&#x22EE;</td></tr>\n",
       "    <tr><td class='row_index'>2481</td><td>0</td><td>0</td><td>SD/RJ/33009/330590</td><td>SD/RJ/33009/330460</td><td>municipio</td><td>municipio</td><td>330590</td><td>330460</td><td>Trajano de Moraes</td><td>Santa Maria Madalena</td><td class=vellipsis>&hellip;</td><td>5</td><td>151.525</td><td>160.817</td><td>5</td><td>100</td></tr>\n",
       "    <tr><td class='row_index'>2482</td><td>0</td><td>1</td><td>SD/RJ/33009/330590</td><td>SD/RJ/33009/330460</td><td>municipio</td><td>municipio</td><td>330590</td><td>330460</td><td>Trajano de Moraes</td><td>Santa Maria Madalena</td><td class=vellipsis>&hellip;</td><td>15</td><td>454.575</td><td>482.45</td><td>15</td><td>100</td></tr>\n",
       "    <tr><td class='row_index'>2483</td><td>0</td><td>0</td><td>SD/RJ/33009/330590</td><td>SD/RJ/33009/330590</td><td>municipio</td><td>municipio</td><td>330590</td><td>330590</td><td>Trajano de Moraes</td><td>Trajano de Moraes</td><td class=vellipsis>&hellip;</td><td>4</td><td>0</td><td>0</td><td>4</td><td>100</td></tr>\n",
       "    <tr><td class='row_index'>2484</td><td>0</td><td>1</td><td>SD/RJ/33009/330590</td><td>SD/RJ/33009/330590</td><td>municipio</td><td>municipio</td><td>330590</td><td>330590</td><td>Trajano de Moraes</td><td>Trajano de Moraes</td><td class=vellipsis>&hellip;</td><td>39</td><td>0</td><td>0</td><td>39</td><td>100</td></tr>\n",
       "    <tr><td class='row_index'>2485</td><td>1</td><td>1</td><td>SD/RJ/33009/330590</td><td>SD/RJ/33009/330590</td><td>municipio</td><td>municipio</td><td>330590</td><td>330590</td><td>Trajano de Moraes</td><td>Trajano de Moraes</td><td class=vellipsis>&hellip;</td><td>6</td><td>0</td><td>0</td><td>6</td><td>100</td></tr>\n",
       "  </tbody>\n",
       "  </table>\n",
       "  <div class='footer'>\n",
       "    <div class='frame_dimensions'>2486 rows &times; 16 columns</div>\n",
       "  </div>\n",
       "</div>\n"
      ],
      "text/plain": [
       "<Frame#7fc0b8092f30 2486x16>"
      ]
     },
     "execution_count": 13,
     "metadata": {},
     "output_type": "execute_result"
    }
   ],
   "source": [
    "scale_origin = 'municipio'\n",
    "scale_destin = 'municipio'\n",
    "df_mun_mun = get_flux_table(scale_origin, scale_destin)\n",
    "df_mun_mun_rj = df_mun_mun[filter_rj(df_mun_mun), :]\n",
    "df_mun_mun_rj"
   ]
  },
  {
   "cell_type": "markdown",
   "metadata": {},
   "source": [
    "## UF -> Região"
   ]
  },
  {
   "cell_type": "code",
   "execution_count": 14,
   "metadata": {},
   "outputs": [
    {
     "data": {
      "text/html": [
       "<div class='datatable'>\n",
       "  <table class='frame'>\n",
       "  <thead>\n",
       "    <tr class='colnames'><td class='row_index'></td><th>bienio</th><th>parto_normal</th><th>origem</th><th>destino</th><th>escala_origem</th><th>escala_destino</th><th>id_origem</th><th>id_destino</th><th>nome_origem</th><th>nome_destino</th><th class='vellipsis'>&hellip;</th><th>count</th><th>dist_pond</th><th>tempo_pond</th><th>total</th><th>percent</th></tr>\n",
       "    <tr class='coltypes'><td class='row_index'></td><td class='bool' title='bool8'>&#x25AA;</td><td class='bool' title='bool8'>&#x25AA;</td><td class='str' title='str32'>&#x25AA;&#x25AA;&#x25AA;&#x25AA;</td><td class='str' title='str32'>&#x25AA;&#x25AA;&#x25AA;&#x25AA;</td><td class='str' title='str32'>&#x25AA;&#x25AA;&#x25AA;&#x25AA;</td><td class='str' title='str32'>&#x25AA;&#x25AA;&#x25AA;&#x25AA;</td><td class='str' title='str32'>&#x25AA;&#x25AA;&#x25AA;&#x25AA;</td><td class='str' title='str32'>&#x25AA;&#x25AA;&#x25AA;&#x25AA;</td><td class='str' title='str32'>&#x25AA;&#x25AA;&#x25AA;&#x25AA;</td><td class='str' title='str32'>&#x25AA;&#x25AA;&#x25AA;&#x25AA;</td><td></td><td class='int' title='int64'>&#x25AA;&#x25AA;&#x25AA;&#x25AA;&#x25AA;&#x25AA;&#x25AA;&#x25AA;</td><td class='float' title='float64'>&#x25AA;&#x25AA;&#x25AA;&#x25AA;&#x25AA;&#x25AA;&#x25AA;&#x25AA;</td><td class='float' title='float64'>&#x25AA;&#x25AA;&#x25AA;&#x25AA;&#x25AA;&#x25AA;&#x25AA;&#x25AA;</td><td class='int' title='int64'>&#x25AA;&#x25AA;&#x25AA;&#x25AA;&#x25AA;&#x25AA;&#x25AA;&#x25AA;</td><td class='float' title='float64'>&#x25AA;&#x25AA;&#x25AA;&#x25AA;&#x25AA;&#x25AA;&#x25AA;&#x25AA;</td></tr>\n",
       "  </thead>\n",
       "  <tbody>\n",
       "    <tr><td class='row_index'>0</td><td>0</td><td>0</td><td>CO/DF</td><td>CO</td><td>uf</td><td>regiao</td><td>DF</td><td>CO</td><td>Distrito Federal</td><td>Centro-Oeste</td><td class=vellipsis>&hellip;</td><td>20906</td><td>0</td><td>0</td><td>20910</td><td>99.9809</td></tr>\n",
       "    <tr><td class='row_index'>1</td><td>1</td><td>0</td><td>CO/DF</td><td>CO</td><td>uf</td><td>regiao</td><td>DF</td><td>CO</td><td>Distrito Federal</td><td>Centro-Oeste</td><td class=vellipsis>&hellip;</td><td>19949</td><td>0</td><td>0</td><td>19990</td><td>99.7949</td></tr>\n",
       "    <tr><td class='row_index'>2</td><td>0</td><td>1</td><td>CO/DF</td><td>CO</td><td>uf</td><td>regiao</td><td>DF</td><td>CO</td><td>Distrito Federal</td><td>Centro-Oeste</td><td class=vellipsis>&hellip;</td><td>40969</td><td>0</td><td>0</td><td>40981</td><td>99.9707</td></tr>\n",
       "    <tr><td class='row_index'>3</td><td>1</td><td>1</td><td>CO/DF</td><td>CO</td><td>uf</td><td>regiao</td><td>DF</td><td>CO</td><td>Distrito Federal</td><td>Centro-Oeste</td><td class=vellipsis>&hellip;</td><td>33309</td><td>0</td><td>0</td><td>33351</td><td>99.8741</td></tr>\n",
       "    <tr><td class='row_index'>4</td><td>0</td><td>0</td><td>CO/DF</td><td>CO</td><td>uf</td><td>regiao</td><td>DF</td><td>CO</td><td>Distrito Federal</td><td>Centro-Oeste</td><td class=vellipsis>&hellip;</td><td>4</td><td>305.25</td><td>265.447</td><td>20910</td><td>0.0191296</td></tr>\n",
       "    <tr><td class='row_index'>5</td><td>1</td><td>0</td><td>CO/DF</td><td>CO</td><td>uf</td><td>regiao</td><td>DF</td><td>CO</td><td>Distrito Federal</td><td>Centro-Oeste</td><td class=vellipsis>&hellip;</td><td>41</td><td>8201.44</td><td>6862.07</td><td>19990</td><td>0.205103</td></tr>\n",
       "    <tr><td class='row_index'>6</td><td>0</td><td>1</td><td>CO/DF</td><td>CO</td><td>uf</td><td>regiao</td><td>DF</td><td>CO</td><td>Distrito Federal</td><td>Centro-Oeste</td><td class=vellipsis>&hellip;</td><td>12</td><td>3103.87</td><td>2606.93</td><td>40981</td><td>0.0292819</td></tr>\n",
       "    <tr><td class='row_index'>7</td><td>1</td><td>1</td><td>CO/DF</td><td>CO</td><td>uf</td><td>regiao</td><td>DF</td><td>CO</td><td>Distrito Federal</td><td>Centro-Oeste</td><td class=vellipsis>&hellip;</td><td>42</td><td>6997.03</td><td>6154.23</td><td>33351</td><td>0.125933</td></tr>\n",
       "    <tr><td class='row_index'>8</td><td>0</td><td>0</td><td>CO/DF</td><td>ND</td><td>uf</td><td>regiao</td><td>DF</td><td>ND</td><td>Distrito Federal</td><td>Nordeste</td><td class=vellipsis>&hellip;</td><td>2</td><td>2535.68</td><td>1909.4</td><td>2</td><td>100</td></tr>\n",
       "    <tr><td class='row_index'>9</td><td>1</td><td>0</td><td>CO/DF</td><td>ND</td><td>uf</td><td>regiao</td><td>DF</td><td>ND</td><td>Distrito Federal</td><td>Nordeste</td><td class=vellipsis>&hellip;</td><td>57</td><td>98911.6</td><td>74126.8</td><td>57</td><td>100</td></tr>\n",
       "    <tr><td class='row_index'>10</td><td>0</td><td>1</td><td>CO/DF</td><td>ND</td><td>uf</td><td>regiao</td><td>DF</td><td>ND</td><td>Distrito Federal</td><td>Nordeste</td><td class=vellipsis>&hellip;</td><td>8</td><td>12993.4</td><td>9598.6</td><td>8</td><td>100</td></tr>\n",
       "    <tr><td class='row_index'>11</td><td>1</td><td>1</td><td>CO/DF</td><td>ND</td><td>uf</td><td>regiao</td><td>DF</td><td>ND</td><td>Distrito Federal</td><td>Nordeste</td><td class=vellipsis>&hellip;</td><td>83</td><td>139421</td><td>104657</td><td>83</td><td>100</td></tr>\n",
       "    <tr><td class='row_index'>12</td><td>0</td><td>1</td><td>CO/DF</td><td>NT</td><td>uf</td><td>regiao</td><td>DF</td><td>NT</td><td>Distrito Federal</td><td>Norte</td><td class=vellipsis>&hellip;</td><td>4</td><td>5378.79</td><td>9122.13</td><td>4</td><td>100</td></tr>\n",
       "    <tr><td class='row_index'>13</td><td>1</td><td>1</td><td>CO/DF</td><td>NT</td><td>uf</td><td>regiao</td><td>DF</td><td>NT</td><td>Distrito Federal</td><td>Norte</td><td class=vellipsis>&hellip;</td><td>2</td><td>3625.38</td><td>3392.12</td><td>2</td><td>100</td></tr>\n",
       "    <tr><td class='row_index'>14</td><td>0</td><td>0</td><td>CO/DF</td><td>SD</td><td>uf</td><td>regiao</td><td>DF</td><td>SD</td><td>Distrito Federal</td><td>Sudeste</td><td class=vellipsis>&hellip;</td><td>8</td><td>3365.92</td><td>2773.14</td><td>8</td><td>100</td></tr>\n",
       "    <tr><td class='row_index'>&#x22EE;</td><td class='hellipsis'>&#x22EE;</td><td class='hellipsis'>&#x22EE;</td><td class='hellipsis'>&#x22EE;</td><td class='hellipsis'>&#x22EE;</td><td class='hellipsis'>&#x22EE;</td><td class='hellipsis'>&#x22EE;</td><td class='hellipsis'>&#x22EE;</td><td class='hellipsis'>&#x22EE;</td><td class='hellipsis'>&#x22EE;</td><td class='hellipsis'>&#x22EE;</td><td class='hellipsis'>&#x22F1;</td><td class='hellipsis'>&#x22EE;</td><td class='hellipsis'>&#x22EE;</td><td class='hellipsis'>&#x22EE;</td><td class='hellipsis'>&#x22EE;</td><td class='hellipsis'>&#x22EE;</td></tr>\n",
       "    <tr><td class='row_index'>779</td><td>1</td><td>1</td><td>SL/SC</td><td>SL</td><td>uf</td><td>regiao</td><td>SC</td><td>SL</td><td>Santa Catarina</td><td>Sul</td><td class=vellipsis>&hellip;</td><td>1261</td><td>79730.6</td><td>76301.6</td><td>60025</td><td>2.10079</td></tr>\n",
       "    <tr><td class='row_index'>780</td><td>0</td><td>0</td><td>SL/SC</td><td>SL</td><td>uf</td><td>regiao</td><td>SC</td><td>SL</td><td>Santa Catarina</td><td>Sul</td><td class=vellipsis>&hellip;</td><td>106</td><td>9261.43</td><td>8267.82</td><td>40765</td><td>0.260027</td></tr>\n",
       "    <tr><td class='row_index'>781</td><td>1</td><td>0</td><td>SL/SC</td><td>SL</td><td>uf</td><td>regiao</td><td>SC</td><td>SL</td><td>Santa Catarina</td><td>Sul</td><td class=vellipsis>&hellip;</td><td>136</td><td>27813.8</td><td>24446.8</td><td>38847</td><td>0.350091</td></tr>\n",
       "    <tr><td class='row_index'>782</td><td>0</td><td>1</td><td>SL/SC</td><td>SL</td><td>uf</td><td>regiao</td><td>SC</td><td>SL</td><td>Santa Catarina</td><td>Sul</td><td class=vellipsis>&hellip;</td><td>162</td><td>13621.9</td><td>11980.6</td><td>59826</td><td>0.270785</td></tr>\n",
       "    <tr><td class='row_index'>783</td><td>1</td><td>1</td><td>SL/SC</td><td>SL</td><td>uf</td><td>regiao</td><td>SC</td><td>SL</td><td>Santa Catarina</td><td>Sul</td><td class=vellipsis>&hellip;</td><td>158</td><td>38894.4</td><td>34123.3</td><td>60025</td><td>0.263224</td></tr>\n",
       "  </tbody>\n",
       "  </table>\n",
       "  <div class='footer'>\n",
       "    <div class='frame_dimensions'>784 rows &times; 16 columns</div>\n",
       "  </div>\n",
       "</div>\n"
      ],
      "text/plain": [
       "<Frame#7fc0da236630 784x16>"
      ]
     },
     "execution_count": 14,
     "metadata": {},
     "output_type": "execute_result"
    }
   ],
   "source": [
    "scale_origin = 'uf'\n",
    "scale_destin = 'regiao'\n",
    "df_uf_regsau = get_flux_table(scale_origin, scale_destin)\n",
    "# df_uf_regsau[filter_rj(df_uf_regsau), :]\n",
    "df_uf_regsau"
   ]
  },
  {
   "cell_type": "markdown",
   "metadata": {},
   "source": [
    "# Exportando tabela"
   ]
  },
  {
   "cell_type": "code",
   "execution_count": 15,
   "metadata": {},
   "outputs": [],
   "source": [
    "output_flux = get_path('GESTANTES', 'flux_mun_mun_rj.csv.gzip')\n",
    "df_mun_mun_rj.to_csv(output_flux)"
   ]
  },
  {
   "cell_type": "code",
   "execution_count": 16,
   "metadata": {},
   "outputs": [
    {
     "data": {
      "text/html": [
       "<div class='datatable'>\n",
       "  <table class='frame'>\n",
       "  <thead>\n",
       "    <tr class='colnames'><td class='row_index'></td><th>bienio</th><th>parto_normal</th><th>origem</th><th>destino</th><th>escala_origem</th><th>escala_destino</th><th>id_origem</th><th>id_destino</th><th>nome_origem</th><th>nome_destino</th><th class='vellipsis'>&hellip;</th><th>count</th><th>dist_pond</th><th>tempo_pond</th><th>total</th><th>percent</th></tr>\n",
       "    <tr class='coltypes'><td class='row_index'></td><td class='bool' title='bool8'>&#x25AA;</td><td class='bool' title='bool8'>&#x25AA;</td><td class='str' title='str32'>&#x25AA;&#x25AA;&#x25AA;&#x25AA;</td><td class='str' title='str32'>&#x25AA;&#x25AA;&#x25AA;&#x25AA;</td><td class='str' title='str32'>&#x25AA;&#x25AA;&#x25AA;&#x25AA;</td><td class='str' title='str32'>&#x25AA;&#x25AA;&#x25AA;&#x25AA;</td><td class='int' title='int32'>&#x25AA;&#x25AA;&#x25AA;&#x25AA;</td><td class='int' title='int32'>&#x25AA;&#x25AA;&#x25AA;&#x25AA;</td><td class='str' title='str32'>&#x25AA;&#x25AA;&#x25AA;&#x25AA;</td><td class='str' title='str32'>&#x25AA;&#x25AA;&#x25AA;&#x25AA;</td><td></td><td class='int' title='int32'>&#x25AA;&#x25AA;&#x25AA;&#x25AA;</td><td class='float' title='float64'>&#x25AA;&#x25AA;&#x25AA;&#x25AA;&#x25AA;&#x25AA;&#x25AA;&#x25AA;</td><td class='float' title='float64'>&#x25AA;&#x25AA;&#x25AA;&#x25AA;&#x25AA;&#x25AA;&#x25AA;&#x25AA;</td><td class='int' title='int32'>&#x25AA;&#x25AA;&#x25AA;&#x25AA;</td><td class='float' title='float64'>&#x25AA;&#x25AA;&#x25AA;&#x25AA;&#x25AA;&#x25AA;&#x25AA;&#x25AA;</td></tr>\n",
       "  </thead>\n",
       "  <tbody>\n",
       "    <tr><td class='row_index'>0</td><td>1</td><td>1</td><td>SD/RJ/33001/330010</td><td>ND/PI/22005/220770</td><td>municipio</td><td>municipio</td><td>330010</td><td>220770</td><td>Angra dos Reis</td><td>Parnaíba</td><td class=vellipsis>&hellip;</td><td>1</td><td>3067.57</td><td>2331.66</td><td>1</td><td>100</td></tr>\n",
       "    <tr><td class='row_index'>1</td><td>0</td><td>0</td><td>SD/RJ/33001/330010</td><td>SD/ES/32002/320245</td><td>municipio</td><td>municipio</td><td>330010</td><td>320245</td><td>Angra dos Reis</td><td>Ibatiba</td><td class=vellipsis>&hellip;</td><td>2</td><td>1229.23</td><td>919.537</td><td>2</td><td>100</td></tr>\n",
       "    <tr><td class='row_index'>2</td><td>0</td><td>0</td><td>SD/RJ/33001/330010</td><td>SD/RJ/33001/330010</td><td>municipio</td><td>municipio</td><td>330010</td><td>330010</td><td>Angra dos Reis</td><td>Angra dos Reis</td><td class=vellipsis>&hellip;</td><td>649</td><td>0</td><td>0</td><td>649</td><td>100</td></tr>\n",
       "    <tr><td class='row_index'>3</td><td>1</td><td>0</td><td>SD/RJ/33001/330010</td><td>SD/RJ/33001/330010</td><td>municipio</td><td>municipio</td><td>330010</td><td>330010</td><td>Angra dos Reis</td><td>Angra dos Reis</td><td class=vellipsis>&hellip;</td><td>1775</td><td>0</td><td>0</td><td>1775</td><td>100</td></tr>\n",
       "    <tr><td class='row_index'>4</td><td>0</td><td>1</td><td>SD/RJ/33001/330010</td><td>SD/RJ/33001/330010</td><td>municipio</td><td>municipio</td><td>330010</td><td>330010</td><td>Angra dos Reis</td><td>Angra dos Reis</td><td class=vellipsis>&hellip;</td><td>1783</td><td>0</td><td>0</td><td>1783</td><td>100</td></tr>\n",
       "    <tr><td class='row_index'>5</td><td>1</td><td>1</td><td>SD/RJ/33001/330010</td><td>SD/RJ/33001/330010</td><td>municipio</td><td>municipio</td><td>330010</td><td>330010</td><td>Angra dos Reis</td><td>Angra dos Reis</td><td class=vellipsis>&hellip;</td><td>1863</td><td>0</td><td>0</td><td>1863</td><td>100</td></tr>\n",
       "    <tr><td class='row_index'>6</td><td>1</td><td>1</td><td>SD/RJ/33001/330010</td><td>SD/RJ/33001/330260</td><td>municipio</td><td>municipio</td><td>330010</td><td>330260</td><td>Angra dos Reis</td><td>Mangaratiba</td><td class=vellipsis>&hellip;</td><td>1</td><td>56.7885</td><td>47.1</td><td>1</td><td>100</td></tr>\n",
       "    <tr><td class='row_index'>7</td><td>1</td><td>0</td><td>SD/RJ/33001/330010</td><td>SD/RJ/33001/330380</td><td>municipio</td><td>municipio</td><td>330010</td><td>330380</td><td>Angra dos Reis</td><td>Paraty</td><td class=vellipsis>&hellip;</td><td>8</td><td>768.343</td><td>992.173</td><td>8</td><td>100</td></tr>\n",
       "    <tr><td class='row_index'>8</td><td>1</td><td>1</td><td>SD/RJ/33001/330010</td><td>SD/RJ/33001/330380</td><td>municipio</td><td>municipio</td><td>330010</td><td>330380</td><td>Angra dos Reis</td><td>Paraty</td><td class=vellipsis>&hellip;</td><td>11</td><td>1056.47</td><td>1364.24</td><td>11</td><td>100</td></tr>\n",
       "    <tr><td class='row_index'>9</td><td>1</td><td>0</td><td>SD/RJ/33001/330010</td><td>SD/RJ/33002/330023</td><td>municipio</td><td>municipio</td><td>330010</td><td>330023</td><td>Angra dos Reis</td><td>Armação dos Búzios</td><td class=vellipsis>&hellip;</td><td>1</td><td>317.318</td><td>254.032</td><td>1</td><td>100</td></tr>\n",
       "    <tr><td class='row_index'>10</td><td>1</td><td>0</td><td>SD/RJ/33001/330010</td><td>SD/RJ/33002/330130</td><td>municipio</td><td>municipio</td><td>330010</td><td>330130</td><td>Angra dos Reis</td><td>Casimiro de Abreu</td><td class=vellipsis>&hellip;</td><td>1</td><td>279.628</td><td>216.798</td><td>1</td><td>100</td></tr>\n",
       "    <tr><td class='row_index'>11</td><td>1</td><td>0</td><td>SD/RJ/33001/330010</td><td>SD/RJ/33002/330550</td><td>municipio</td><td>municipio</td><td>330010</td><td>330550</td><td>Angra dos Reis</td><td>Saquarema</td><td class=vellipsis>&hellip;</td><td>1</td><td>237.112</td><td>204.492</td><td>1</td><td>100</td></tr>\n",
       "    <tr><td class='row_index'>12</td><td>1</td><td>1</td><td>SD/RJ/33001/330010</td><td>SD/RJ/33004/330040</td><td>municipio</td><td>municipio</td><td>330010</td><td>330040</td><td>Angra dos Reis</td><td>Barra Mansa</td><td class=vellipsis>&hellip;</td><td>1</td><td>95.8852</td><td>115.658</td><td>1</td><td>100</td></tr>\n",
       "    <tr><td class='row_index'>13</td><td>0</td><td>1</td><td>SD/RJ/33001/330010</td><td>SD/RJ/33004/330400</td><td>municipio</td><td>municipio</td><td>330010</td><td>330400</td><td>Angra dos Reis</td><td>Piraí</td><td class=vellipsis>&hellip;</td><td>2</td><td>266.772</td><td>211.477</td><td>2</td><td>100</td></tr>\n",
       "    <tr><td class='row_index'>14</td><td>1</td><td>0</td><td>SD/RJ/33001/330010</td><td>SD/RJ/33004/330411</td><td>municipio</td><td>municipio</td><td>330010</td><td>330411</td><td>Angra dos Reis</td><td>Porto Real</td><td class=vellipsis>&hellip;</td><td>3</td><td>355.744</td><td>397.87</td><td>3</td><td>100</td></tr>\n",
       "    <tr><td class='row_index'>&#x22EE;</td><td class='hellipsis'>&#x22EE;</td><td class='hellipsis'>&#x22EE;</td><td class='hellipsis'>&#x22EE;</td><td class='hellipsis'>&#x22EE;</td><td class='hellipsis'>&#x22EE;</td><td class='hellipsis'>&#x22EE;</td><td class='hellipsis'>&#x22EE;</td><td class='hellipsis'>&#x22EE;</td><td class='hellipsis'>&#x22EE;</td><td class='hellipsis'>&#x22EE;</td><td class='hellipsis'>&#x22F1;</td><td class='hellipsis'>&#x22EE;</td><td class='hellipsis'>&#x22EE;</td><td class='hellipsis'>&#x22EE;</td><td class='hellipsis'>&#x22EE;</td><td class='hellipsis'>&#x22EE;</td></tr>\n",
       "    <tr><td class='row_index'>2481</td><td>0</td><td>0</td><td>SD/RJ/33009/330590</td><td>SD/RJ/33009/330460</td><td>municipio</td><td>municipio</td><td>330590</td><td>330460</td><td>Trajano de Moraes</td><td>Santa Maria Madalena</td><td class=vellipsis>&hellip;</td><td>5</td><td>151.525</td><td>160.817</td><td>5</td><td>100</td></tr>\n",
       "    <tr><td class='row_index'>2482</td><td>0</td><td>1</td><td>SD/RJ/33009/330590</td><td>SD/RJ/33009/330460</td><td>municipio</td><td>municipio</td><td>330590</td><td>330460</td><td>Trajano de Moraes</td><td>Santa Maria Madalena</td><td class=vellipsis>&hellip;</td><td>15</td><td>454.575</td><td>482.45</td><td>15</td><td>100</td></tr>\n",
       "    <tr><td class='row_index'>2483</td><td>0</td><td>0</td><td>SD/RJ/33009/330590</td><td>SD/RJ/33009/330590</td><td>municipio</td><td>municipio</td><td>330590</td><td>330590</td><td>Trajano de Moraes</td><td>Trajano de Moraes</td><td class=vellipsis>&hellip;</td><td>4</td><td>0</td><td>0</td><td>4</td><td>100</td></tr>\n",
       "    <tr><td class='row_index'>2484</td><td>0</td><td>1</td><td>SD/RJ/33009/330590</td><td>SD/RJ/33009/330590</td><td>municipio</td><td>municipio</td><td>330590</td><td>330590</td><td>Trajano de Moraes</td><td>Trajano de Moraes</td><td class=vellipsis>&hellip;</td><td>39</td><td>0</td><td>0</td><td>39</td><td>100</td></tr>\n",
       "    <tr><td class='row_index'>2485</td><td>1</td><td>1</td><td>SD/RJ/33009/330590</td><td>SD/RJ/33009/330590</td><td>municipio</td><td>municipio</td><td>330590</td><td>330590</td><td>Trajano de Moraes</td><td>Trajano de Moraes</td><td class=vellipsis>&hellip;</td><td>6</td><td>0</td><td>0</td><td>6</td><td>100</td></tr>\n",
       "  </tbody>\n",
       "  </table>\n",
       "  <div class='footer'>\n",
       "    <div class='frame_dimensions'>2486 rows &times; 16 columns</div>\n",
       "  </div>\n",
       "</div>\n"
      ],
      "text/plain": [
       "<Frame#7fc0e09061b0 2486x16>"
      ]
     },
     "execution_count": 16,
     "metadata": {},
     "output_type": "execute_result"
    }
   ],
   "source": [
    "dt.fread(output_flux)"
   ]
  },
  {
   "cell_type": "code",
   "execution_count": 19,
   "metadata": {},
   "outputs": [],
   "source": [
    "df_rj = pd.read_csv(output_flux)\n",
    "output_rj = output_flux.replace('.csv.gzip', '_rj.xlsx')\n",
    "df_rj.to_excel(output_rj, index=False)"
   ]
  }
 ],
 "metadata": {
  "kernelspec": {
   "display_name": "Python 3.9.13 ('ds')",
   "language": "python",
   "name": "python3"
  },
  "language_info": {
   "codemirror_mode": {
    "name": "ipython",
    "version": 3
   },
   "file_extension": ".py",
   "mimetype": "text/x-python",
   "name": "python",
   "nbconvert_exporter": "python",
   "pygments_lexer": "ipython3",
   "version": "3.9.13"
  },
  "orig_nbformat": 4,
  "vscode": {
   "interpreter": {
    "hash": "7b36953cec1b75a8b331280ff7f7e2e00c70540f1d612023ca05354bbeabec70"
   }
  }
 },
 "nbformat": 4,
 "nbformat_minor": 2
}
