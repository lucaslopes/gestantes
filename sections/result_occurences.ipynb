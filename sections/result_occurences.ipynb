{
 "cells": [
  {
   "cell_type": "raw",
   "metadata": {},
   "source": [
    "---\n",
    "title: \"Ocorrências\"\n",
    "---"
   ]
  },
  {
   "cell_type": "code",
   "execution_count": 1,
   "metadata": {},
   "outputs": [
    {
     "data": {
      "text/html": [
       "<style type='text/css'>\n",
       ".datatable table.frame { margin-bottom: 0; }\n",
       ".datatable table.frame thead { border-bottom: none; }\n",
       ".datatable table.frame tr.coltypes td {  color: #FFFFFF;  line-height: 6px;  padding: 0 0.5em;}\n",
       ".datatable .bool    { background: #DDDD99; }\n",
       ".datatable .object  { background: #565656; }\n",
       ".datatable .int     { background: #5D9E5D; }\n",
       ".datatable .float   { background: #4040CC; }\n",
       ".datatable .str     { background: #CC4040; }\n",
       ".datatable .time    { background: #40CC40; }\n",
       ".datatable .row_index {  background: var(--jp-border-color3);  border-right: 1px solid var(--jp-border-color0);  color: var(--jp-ui-font-color3);  font-size: 9px;}\n",
       ".datatable .frame tbody td { text-align: left; }\n",
       ".datatable .frame tr.coltypes .row_index {  background: var(--jp-border-color0);}\n",
       ".datatable th:nth-child(2) { padding-left: 12px; }\n",
       ".datatable .hellipsis {  color: var(--jp-cell-editor-border-color);}\n",
       ".datatable .vellipsis {  background: var(--jp-layout-color0);  color: var(--jp-cell-editor-border-color);}\n",
       ".datatable .na {  color: var(--jp-cell-editor-border-color);  font-size: 80%;}\n",
       ".datatable .sp {  opacity: 0.25;}\n",
       ".datatable .footer { font-size: 9px; }\n",
       ".datatable .frame_dimensions {  background: var(--jp-border-color3);  border-top: 1px solid var(--jp-border-color0);  color: var(--jp-ui-font-color3);  display: inline-block;  opacity: 0.6;  padding: 1px 10px 1px 5px;}\n",
       "</style>\n"
      ],
      "text/plain": [
       "<IPython.core.display.HTML object>"
      ]
     },
     "metadata": {},
     "output_type": "display_data"
    }
   ],
   "source": [
    "import sys\n",
    "import numpy as np\n",
    "import pandas as pd\n",
    "import plotly.graph_objects as go\n",
    "\n",
    "from datatable import dt, f, by\n",
    "\n",
    "from plotly import express as px, io as pio\n",
    "pd.options.plotting.backend = 'plotly'\n",
    "pio.renderers.default = 'plotly_mimetype+notebook_connected'\n",
    "\n",
    "from utils import get_path, data_load\n",
    "sys.path.insert(0, '../')\n",
    "from secret import API_KEY"
   ]
  },
  {
   "cell_type": "markdown",
   "metadata": {},
   "source": [
    "# Fontes de Dados"
   ]
  },
  {
   "cell_type": "markdown",
   "metadata": {},
   "source": [
    "## Procedimentos"
   ]
  },
  {
   "cell_type": "markdown",
   "metadata": {},
   "source": [
    "### Carregando tabela"
   ]
  },
  {
   "cell_type": "code",
   "execution_count": 2,
   "metadata": {},
   "outputs": [
    {
     "data": {
      "text/html": [
       "<div>\n",
       "<style scoped>\n",
       "    .dataframe tbody tr th:only-of-type {\n",
       "        vertical-align: middle;\n",
       "    }\n",
       "\n",
       "    .dataframe tbody tr th {\n",
       "        vertical-align: top;\n",
       "    }\n",
       "\n",
       "    .dataframe thead th {\n",
       "        text-align: right;\n",
       "    }\n",
       "</style>\n",
       "<table border=\"1\" class=\"dataframe\">\n",
       "  <thead>\n",
       "    <tr style=\"text-align: right;\">\n",
       "      <th></th>\n",
       "      <th>bienio</th>\n",
       "      <th>parto_normal</th>\n",
       "      <th>origem</th>\n",
       "      <th>destino</th>\n",
       "      <th>distancia (km)</th>\n",
       "      <th>tempo (min)</th>\n",
       "      <th>dist_pond</th>\n",
       "      <th>tempo_pond</th>\n",
       "      <th>criticidade</th>\n",
       "      <th>capitais</th>\n",
       "      <th>socioecon</th>\n",
       "      <th>origem_latitude</th>\n",
       "      <th>origem_longitude</th>\n",
       "      <th>destino_latitude</th>\n",
       "      <th>destino_longitude</th>\n",
       "      <th>count</th>\n",
       "    </tr>\n",
       "  </thead>\n",
       "  <tbody>\n",
       "    <tr>\n",
       "      <th>0</th>\n",
       "      <td>0</td>\n",
       "      <td>0</td>\n",
       "      <td>CO/DF/53001/530010</td>\n",
       "      <td>CO/DF/53001/530010/0010464</td>\n",
       "      <td>0.0000</td>\n",
       "      <td>0.000000</td>\n",
       "      <td>0.0000</td>\n",
       "      <td>0.000000</td>\n",
       "      <td>0</td>\n",
       "      <td>1_1</td>\n",
       "      <td>5_5</td>\n",
       "      <td>-15.7795</td>\n",
       "      <td>-47.9297</td>\n",
       "      <td>-15.7795</td>\n",
       "      <td>-47.9297</td>\n",
       "      <td>260</td>\n",
       "    </tr>\n",
       "    <tr>\n",
       "      <th>1</th>\n",
       "      <td>0</td>\n",
       "      <td>0</td>\n",
       "      <td>CO/DF/53001/530010</td>\n",
       "      <td>CO/DF/53001/530010/0010472</td>\n",
       "      <td>0.0000</td>\n",
       "      <td>0.000000</td>\n",
       "      <td>0.0000</td>\n",
       "      <td>0.000000</td>\n",
       "      <td>0</td>\n",
       "      <td>1_1</td>\n",
       "      <td>5_5</td>\n",
       "      <td>-15.7795</td>\n",
       "      <td>-47.9297</td>\n",
       "      <td>-15.7795</td>\n",
       "      <td>-47.9297</td>\n",
       "      <td>282</td>\n",
       "    </tr>\n",
       "    <tr>\n",
       "      <th>2</th>\n",
       "      <td>0</td>\n",
       "      <td>0</td>\n",
       "      <td>CO/DF/53001/530010</td>\n",
       "      <td>CO/DF/53001/530010/0010480</td>\n",
       "      <td>0.0000</td>\n",
       "      <td>0.000000</td>\n",
       "      <td>0.0000</td>\n",
       "      <td>0.000000</td>\n",
       "      <td>0</td>\n",
       "      <td>1_1</td>\n",
       "      <td>5_5</td>\n",
       "      <td>-15.7795</td>\n",
       "      <td>-47.9297</td>\n",
       "      <td>-15.7795</td>\n",
       "      <td>-47.9297</td>\n",
       "      <td>3323</td>\n",
       "    </tr>\n",
       "    <tr>\n",
       "      <th>3</th>\n",
       "      <td>0</td>\n",
       "      <td>0</td>\n",
       "      <td>CO/DF/53001/530010</td>\n",
       "      <td>CO/DF/53001/530010/0010499</td>\n",
       "      <td>0.0000</td>\n",
       "      <td>0.000000</td>\n",
       "      <td>0.0000</td>\n",
       "      <td>0.000000</td>\n",
       "      <td>0</td>\n",
       "      <td>1_1</td>\n",
       "      <td>5_5</td>\n",
       "      <td>-15.7795</td>\n",
       "      <td>-47.9297</td>\n",
       "      <td>-15.7795</td>\n",
       "      <td>-47.9297</td>\n",
       "      <td>3368</td>\n",
       "    </tr>\n",
       "    <tr>\n",
       "      <th>4</th>\n",
       "      <td>0</td>\n",
       "      <td>0</td>\n",
       "      <td>CO/DF/53001/530010</td>\n",
       "      <td>CO/DF/53001/530010/0010502</td>\n",
       "      <td>0.0000</td>\n",
       "      <td>0.000000</td>\n",
       "      <td>0.0000</td>\n",
       "      <td>0.000000</td>\n",
       "      <td>0</td>\n",
       "      <td>1_1</td>\n",
       "      <td>5_5</td>\n",
       "      <td>-15.7795</td>\n",
       "      <td>-47.9297</td>\n",
       "      <td>-15.7795</td>\n",
       "      <td>-47.9297</td>\n",
       "      <td>964</td>\n",
       "    </tr>\n",
       "    <tr>\n",
       "      <th>...</th>\n",
       "      <td>...</td>\n",
       "      <td>...</td>\n",
       "      <td>...</td>\n",
       "      <td>...</td>\n",
       "      <td>...</td>\n",
       "      <td>...</td>\n",
       "      <td>...</td>\n",
       "      <td>...</td>\n",
       "      <td>...</td>\n",
       "      <td>...</td>\n",
       "      <td>...</td>\n",
       "      <td>...</td>\n",
       "      <td>...</td>\n",
       "      <td>...</td>\n",
       "      <td>...</td>\n",
       "      <td>...</td>\n",
       "    </tr>\n",
       "    <tr>\n",
       "      <th>167211</th>\n",
       "      <td>1</td>\n",
       "      <td>1</td>\n",
       "      <td>SL/SC/42016/421870</td>\n",
       "      <td>SL/SC/42007/420540/3157245</td>\n",
       "      <td>138.4773</td>\n",
       "      <td>104.940000</td>\n",
       "      <td>138.4773</td>\n",
       "      <td>104.940000</td>\n",
       "      <td>2</td>\n",
       "      <td>0_1</td>\n",
       "      <td>3_5</td>\n",
       "      <td>-28.4713</td>\n",
       "      <td>-49.0144</td>\n",
       "      <td>-27.5945</td>\n",
       "      <td>-48.5477</td>\n",
       "      <td>1</td>\n",
       "    </tr>\n",
       "    <tr>\n",
       "      <th>167212</th>\n",
       "      <td>1</td>\n",
       "      <td>1</td>\n",
       "      <td>SL/SC/42016/421870</td>\n",
       "      <td>SL/SC/42015/420460/2594277</td>\n",
       "      <td>54.6210</td>\n",
       "      <td>49.316667</td>\n",
       "      <td>54.6210</td>\n",
       "      <td>49.316667</td>\n",
       "      <td>2</td>\n",
       "      <td>0_0</td>\n",
       "      <td>3_4</td>\n",
       "      <td>-28.4713</td>\n",
       "      <td>-49.0144</td>\n",
       "      <td>-28.6723</td>\n",
       "      <td>-49.3729</td>\n",
       "      <td>1</td>\n",
       "    </tr>\n",
       "    <tr>\n",
       "      <th>167213</th>\n",
       "      <td>1</td>\n",
       "      <td>1</td>\n",
       "      <td>SL/SC/42016/421870</td>\n",
       "      <td>SL/SC/42016/420280/2665883</td>\n",
       "      <td>35.5439</td>\n",
       "      <td>37.493333</td>\n",
       "      <td>71.0878</td>\n",
       "      <td>74.986667</td>\n",
       "      <td>1</td>\n",
       "      <td>0_0</td>\n",
       "      <td>3_3</td>\n",
       "      <td>-28.4713</td>\n",
       "      <td>-49.0144</td>\n",
       "      <td>-28.2681</td>\n",
       "      <td>-49.1701</td>\n",
       "      <td>2</td>\n",
       "    </tr>\n",
       "    <tr>\n",
       "      <th>167214</th>\n",
       "      <td>1</td>\n",
       "      <td>1</td>\n",
       "      <td>SL/SC/42016/421870</td>\n",
       "      <td>SL/SC/42016/420730/2385880</td>\n",
       "      <td>53.9610</td>\n",
       "      <td>45.353333</td>\n",
       "      <td>53.9610</td>\n",
       "      <td>45.353333</td>\n",
       "      <td>1</td>\n",
       "      <td>0_0</td>\n",
       "      <td>3_3</td>\n",
       "      <td>-28.4713</td>\n",
       "      <td>-49.0144</td>\n",
       "      <td>-28.2284</td>\n",
       "      <td>-48.6659</td>\n",
       "      <td>1</td>\n",
       "    </tr>\n",
       "    <tr>\n",
       "      <th>167215</th>\n",
       "      <td>1</td>\n",
       "      <td>1</td>\n",
       "      <td>SL/SC/42016/421870</td>\n",
       "      <td>SL/SC/42016/421870/2491710</td>\n",
       "      <td>0.0000</td>\n",
       "      <td>0.000000</td>\n",
       "      <td>0.0000</td>\n",
       "      <td>0.000000</td>\n",
       "      <td>0</td>\n",
       "      <td>0_0</td>\n",
       "      <td>3_3</td>\n",
       "      <td>-28.4713</td>\n",
       "      <td>-49.0144</td>\n",
       "      <td>-28.4713</td>\n",
       "      <td>-49.0144</td>\n",
       "      <td>441</td>\n",
       "    </tr>\n",
       "  </tbody>\n",
       "</table>\n",
       "<p>167216 rows × 16 columns</p>\n",
       "</div>"
      ],
      "text/plain": [
       "        bienio  parto_normal              origem                     destino  \\\n",
       "0            0             0  CO/DF/53001/530010  CO/DF/53001/530010/0010464   \n",
       "1            0             0  CO/DF/53001/530010  CO/DF/53001/530010/0010472   \n",
       "2            0             0  CO/DF/53001/530010  CO/DF/53001/530010/0010480   \n",
       "3            0             0  CO/DF/53001/530010  CO/DF/53001/530010/0010499   \n",
       "4            0             0  CO/DF/53001/530010  CO/DF/53001/530010/0010502   \n",
       "...        ...           ...                 ...                         ...   \n",
       "167211       1             1  SL/SC/42016/421870  SL/SC/42007/420540/3157245   \n",
       "167212       1             1  SL/SC/42016/421870  SL/SC/42015/420460/2594277   \n",
       "167213       1             1  SL/SC/42016/421870  SL/SC/42016/420280/2665883   \n",
       "167214       1             1  SL/SC/42016/421870  SL/SC/42016/420730/2385880   \n",
       "167215       1             1  SL/SC/42016/421870  SL/SC/42016/421870/2491710   \n",
       "\n",
       "        distancia (km)  tempo (min)  dist_pond  tempo_pond  criticidade  \\\n",
       "0               0.0000     0.000000     0.0000    0.000000            0   \n",
       "1               0.0000     0.000000     0.0000    0.000000            0   \n",
       "2               0.0000     0.000000     0.0000    0.000000            0   \n",
       "3               0.0000     0.000000     0.0000    0.000000            0   \n",
       "4               0.0000     0.000000     0.0000    0.000000            0   \n",
       "...                ...          ...        ...         ...          ...   \n",
       "167211        138.4773   104.940000   138.4773  104.940000            2   \n",
       "167212         54.6210    49.316667    54.6210   49.316667            2   \n",
       "167213         35.5439    37.493333    71.0878   74.986667            1   \n",
       "167214         53.9610    45.353333    53.9610   45.353333            1   \n",
       "167215          0.0000     0.000000     0.0000    0.000000            0   \n",
       "\n",
       "       capitais socioecon  origem_latitude  origem_longitude  \\\n",
       "0           1_1       5_5         -15.7795          -47.9297   \n",
       "1           1_1       5_5         -15.7795          -47.9297   \n",
       "2           1_1       5_5         -15.7795          -47.9297   \n",
       "3           1_1       5_5         -15.7795          -47.9297   \n",
       "4           1_1       5_5         -15.7795          -47.9297   \n",
       "...         ...       ...              ...               ...   \n",
       "167211      0_1       3_5         -28.4713          -49.0144   \n",
       "167212      0_0       3_4         -28.4713          -49.0144   \n",
       "167213      0_0       3_3         -28.4713          -49.0144   \n",
       "167214      0_0       3_3         -28.4713          -49.0144   \n",
       "167215      0_0       3_3         -28.4713          -49.0144   \n",
       "\n",
       "        destino_latitude  destino_longitude  count  \n",
       "0               -15.7795           -47.9297    260  \n",
       "1               -15.7795           -47.9297    282  \n",
       "2               -15.7795           -47.9297   3323  \n",
       "3               -15.7795           -47.9297   3368  \n",
       "4               -15.7795           -47.9297    964  \n",
       "...                  ...                ...    ...  \n",
       "167211          -27.5945           -48.5477      1  \n",
       "167212          -28.6723           -49.3729      1  \n",
       "167213          -28.2681           -49.1701      2  \n",
       "167214          -28.2284           -48.6659      1  \n",
       "167215          -28.4713           -49.0144    441  \n",
       "\n",
       "[167216 rows x 16 columns]"
      ]
     },
     "execution_count": 2,
     "metadata": {},
     "output_type": "execute_result"
    }
   ],
   "source": [
    "path_proc = get_path('GESTANTES', 'procs_bienio.csv.gzip')\n",
    "df_proc_bienio = pd.read_csv(path_proc)\n",
    "df_proc_bienio"
   ]
  },
  {
   "cell_type": "markdown",
   "metadata": {},
   "source": [
    "## Localidades"
   ]
  },
  {
   "cell_type": "markdown",
   "metadata": {},
   "source": [
    "### Carregando tabela"
   ]
  },
  {
   "cell_type": "code",
   "execution_count": 6,
   "metadata": {},
   "outputs": [
    {
     "data": {
      "text/html": [
       "<div>\n",
       "<style scoped>\n",
       "    .dataframe tbody tr th:only-of-type {\n",
       "        vertical-align: middle;\n",
       "    }\n",
       "\n",
       "    .dataframe tbody tr th {\n",
       "        vertical-align: top;\n",
       "    }\n",
       "\n",
       "    .dataframe thead th {\n",
       "        text-align: right;\n",
       "    }\n",
       "</style>\n",
       "<table border=\"1\" class=\"dataframe\">\n",
       "  <thead>\n",
       "    <tr style=\"text-align: right;\">\n",
       "      <th></th>\n",
       "      <th>codigo</th>\n",
       "      <th>cod_municipio</th>\n",
       "      <th>nome_municipio</th>\n",
       "      <th>capital</th>\n",
       "      <th>cod_regiao_saude</th>\n",
       "      <th>nome_regiao_saude</th>\n",
       "      <th>cod_uf</th>\n",
       "      <th>uf</th>\n",
       "      <th>nome_uf</th>\n",
       "      <th>sigla_regiao</th>\n",
       "      <th>nome_regiao</th>\n",
       "      <th>socioecon</th>\n",
       "      <th>latitude</th>\n",
       "      <th>longitude</th>\n",
       "    </tr>\n",
       "  </thead>\n",
       "  <tbody>\n",
       "    <tr>\n",
       "      <th>0</th>\n",
       "      <td>CO/GO/52001/520005</td>\n",
       "      <td>520005</td>\n",
       "      <td>Abadia de Goiás</td>\n",
       "      <td>0</td>\n",
       "      <td>52001</td>\n",
       "      <td>Central</td>\n",
       "      <td>52</td>\n",
       "      <td>GO</td>\n",
       "      <td>Goiás</td>\n",
       "      <td>CO</td>\n",
       "      <td>Centro-Oeste</td>\n",
       "      <td>5</td>\n",
       "      <td>-16.75730</td>\n",
       "      <td>-49.4412</td>\n",
       "    </tr>\n",
       "    <tr>\n",
       "      <th>1</th>\n",
       "      <td>SD/MG/31052/310010</td>\n",
       "      <td>310010</td>\n",
       "      <td>Abadia dos Dourados</td>\n",
       "      <td>0</td>\n",
       "      <td>31052</td>\n",
       "      <td>Patrocínio Monte Carmelo</td>\n",
       "      <td>31</td>\n",
       "      <td>MG</td>\n",
       "      <td>Minas Gerais</td>\n",
       "      <td>SD</td>\n",
       "      <td>Sudeste</td>\n",
       "      <td>2</td>\n",
       "      <td>-18.48310</td>\n",
       "      <td>-47.3916</td>\n",
       "    </tr>\n",
       "    <tr>\n",
       "      <th>2</th>\n",
       "      <td>CO/GO/52011/520010</td>\n",
       "      <td>520010</td>\n",
       "      <td>Abadiânia</td>\n",
       "      <td>0</td>\n",
       "      <td>52011</td>\n",
       "      <td>Pirineus</td>\n",
       "      <td>52</td>\n",
       "      <td>GO</td>\n",
       "      <td>Goiás</td>\n",
       "      <td>CO</td>\n",
       "      <td>Centro-Oeste</td>\n",
       "      <td>3</td>\n",
       "      <td>-16.19700</td>\n",
       "      <td>-48.7057</td>\n",
       "    </tr>\n",
       "    <tr>\n",
       "      <th>3</th>\n",
       "      <td>SD/MG/31067/310020</td>\n",
       "      <td>310020</td>\n",
       "      <td>Abaeté</td>\n",
       "      <td>0</td>\n",
       "      <td>31067</td>\n",
       "      <td>Sete Lagoas</td>\n",
       "      <td>31</td>\n",
       "      <td>MG</td>\n",
       "      <td>Minas Gerais</td>\n",
       "      <td>SD</td>\n",
       "      <td>Sudeste</td>\n",
       "      <td>3</td>\n",
       "      <td>-19.15510</td>\n",
       "      <td>-45.4444</td>\n",
       "    </tr>\n",
       "    <tr>\n",
       "      <th>4</th>\n",
       "      <td>NT/PA/15011/150010</td>\n",
       "      <td>150010</td>\n",
       "      <td>Abaetetuba</td>\n",
       "      <td>0</td>\n",
       "      <td>15011</td>\n",
       "      <td>Tocantins</td>\n",
       "      <td>15</td>\n",
       "      <td>PA</td>\n",
       "      <td>Pará</td>\n",
       "      <td>NT</td>\n",
       "      <td>Norte</td>\n",
       "      <td>1</td>\n",
       "      <td>-1.72183</td>\n",
       "      <td>-48.8788</td>\n",
       "    </tr>\n",
       "    <tr>\n",
       "      <th>...</th>\n",
       "      <td>...</td>\n",
       "      <td>...</td>\n",
       "      <td>...</td>\n",
       "      <td>...</td>\n",
       "      <td>...</td>\n",
       "      <td>...</td>\n",
       "      <td>...</td>\n",
       "      <td>...</td>\n",
       "      <td>...</td>\n",
       "      <td>...</td>\n",
       "      <td>...</td>\n",
       "      <td>...</td>\n",
       "      <td>...</td>\n",
       "      <td>...</td>\n",
       "    </tr>\n",
       "    <tr>\n",
       "      <th>5565</th>\n",
       "      <td>ND/BA/29010/293360</td>\n",
       "      <td>293360</td>\n",
       "      <td>Xique-Xique</td>\n",
       "      <td>0</td>\n",
       "      <td>29010</td>\n",
       "      <td>Irecê</td>\n",
       "      <td>29</td>\n",
       "      <td>BA</td>\n",
       "      <td>Bahia</td>\n",
       "      <td>ND</td>\n",
       "      <td>Nordeste</td>\n",
       "      <td>1</td>\n",
       "      <td>-10.82300</td>\n",
       "      <td>-42.7245</td>\n",
       "    </tr>\n",
       "    <tr>\n",
       "      <th>5566</th>\n",
       "      <td>ND/PB/25005/251740</td>\n",
       "      <td>251740</td>\n",
       "      <td>Zabelê</td>\n",
       "      <td>0</td>\n",
       "      <td>25005</td>\n",
       "      <td>5ª Região</td>\n",
       "      <td>25</td>\n",
       "      <td>PB</td>\n",
       "      <td>Paraíba</td>\n",
       "      <td>ND</td>\n",
       "      <td>Nordeste</td>\n",
       "      <td>1</td>\n",
       "      <td>-8.07901</td>\n",
       "      <td>-37.1057</td>\n",
       "    </tr>\n",
       "    <tr>\n",
       "      <th>5567</th>\n",
       "      <td>SD/SP/35156/355715</td>\n",
       "      <td>355715</td>\n",
       "      <td>Zacarias</td>\n",
       "      <td>0</td>\n",
       "      <td>35156</td>\n",
       "      <td>José Bonifácio</td>\n",
       "      <td>35</td>\n",
       "      <td>SP</td>\n",
       "      <td>São Paulo</td>\n",
       "      <td>SD</td>\n",
       "      <td>Sudeste</td>\n",
       "      <td>3</td>\n",
       "      <td>-21.05060</td>\n",
       "      <td>-50.0552</td>\n",
       "    </tr>\n",
       "    <tr>\n",
       "      <th>5568</th>\n",
       "      <td>ND/MA/21019/211400</td>\n",
       "      <td>211400</td>\n",
       "      <td>Zé Doca</td>\n",
       "      <td>0</td>\n",
       "      <td>21019</td>\n",
       "      <td>Zé Doca</td>\n",
       "      <td>21</td>\n",
       "      <td>MA</td>\n",
       "      <td>Maranhão</td>\n",
       "      <td>ND</td>\n",
       "      <td>Nordeste</td>\n",
       "      <td>1</td>\n",
       "      <td>-3.27014</td>\n",
       "      <td>-45.6553</td>\n",
       "    </tr>\n",
       "    <tr>\n",
       "      <th>5569</th>\n",
       "      <td>SL/SC/42008/421985</td>\n",
       "      <td>421985</td>\n",
       "      <td>Zortéa</td>\n",
       "      <td>0</td>\n",
       "      <td>42008</td>\n",
       "      <td>Meio Oeste</td>\n",
       "      <td>42</td>\n",
       "      <td>SC</td>\n",
       "      <td>Santa Catarina</td>\n",
       "      <td>SL</td>\n",
       "      <td>Sul</td>\n",
       "      <td>3</td>\n",
       "      <td>-27.45210</td>\n",
       "      <td>-51.5520</td>\n",
       "    </tr>\n",
       "  </tbody>\n",
       "</table>\n",
       "<p>5570 rows × 14 columns</p>\n",
       "</div>"
      ],
      "text/plain": [
       "                  codigo  cod_municipio       nome_municipio  capital  \\\n",
       "0     CO/GO/52001/520005         520005      Abadia de Goiás        0   \n",
       "1     SD/MG/31052/310010         310010  Abadia dos Dourados        0   \n",
       "2     CO/GO/52011/520010         520010            Abadiânia        0   \n",
       "3     SD/MG/31067/310020         310020               Abaeté        0   \n",
       "4     NT/PA/15011/150010         150010           Abaetetuba        0   \n",
       "...                  ...            ...                  ...      ...   \n",
       "5565  ND/BA/29010/293360         293360          Xique-Xique        0   \n",
       "5566  ND/PB/25005/251740         251740               Zabelê        0   \n",
       "5567  SD/SP/35156/355715         355715             Zacarias        0   \n",
       "5568  ND/MA/21019/211400         211400              Zé Doca        0   \n",
       "5569  SL/SC/42008/421985         421985               Zortéa        0   \n",
       "\n",
       "      cod_regiao_saude         nome_regiao_saude  cod_uf  uf         nome_uf  \\\n",
       "0                52001                   Central      52  GO           Goiás   \n",
       "1                31052  Patrocínio Monte Carmelo      31  MG    Minas Gerais   \n",
       "2                52011                  Pirineus      52  GO           Goiás   \n",
       "3                31067               Sete Lagoas      31  MG    Minas Gerais   \n",
       "4                15011                 Tocantins      15  PA            Pará   \n",
       "...                ...                       ...     ...  ..             ...   \n",
       "5565             29010                     Irecê      29  BA           Bahia   \n",
       "5566             25005                 5ª Região      25  PB         Paraíba   \n",
       "5567             35156            José Bonifácio      35  SP       São Paulo   \n",
       "5568             21019                   Zé Doca      21  MA        Maranhão   \n",
       "5569             42008                Meio Oeste      42  SC  Santa Catarina   \n",
       "\n",
       "     sigla_regiao   nome_regiao  socioecon  latitude  longitude  \n",
       "0              CO  Centro-Oeste          5 -16.75730   -49.4412  \n",
       "1              SD       Sudeste          2 -18.48310   -47.3916  \n",
       "2              CO  Centro-Oeste          3 -16.19700   -48.7057  \n",
       "3              SD       Sudeste          3 -19.15510   -45.4444  \n",
       "4              NT         Norte          1  -1.72183   -48.8788  \n",
       "...           ...           ...        ...       ...        ...  \n",
       "5565           ND      Nordeste          1 -10.82300   -42.7245  \n",
       "5566           ND      Nordeste          1  -8.07901   -37.1057  \n",
       "5567           SD       Sudeste          3 -21.05060   -50.0552  \n",
       "5568           ND      Nordeste          1  -3.27014   -45.6553  \n",
       "5569           SL           Sul          3 -27.45210   -51.5520  \n",
       "\n",
       "[5570 rows x 14 columns]"
      ]
     },
     "execution_count": 6,
     "metadata": {},
     "output_type": "execute_result"
    }
   ],
   "source": [
    "path_locs = get_path('LOCALIDADES', 'localidades.csv.gzip')\n",
    "df_locs = pd.read_csv(path_locs)\n",
    "df_locs"
   ]
  },
  {
   "cell_type": "markdown",
   "metadata": {},
   "source": [
    "# Resultados"
   ]
  },
  {
   "cell_type": "markdown",
   "metadata": {},
   "source": [
    "## Partos no SUS por residência"
   ]
  },
  {
   "cell_type": "code",
   "execution_count": 7,
   "metadata": {},
   "outputs": [],
   "source": [
    "def get_df_loc(df_proc, df_locs, loc='nome_regiao', ref='origem'):\n",
    "  cols_locs = ['codigo', loc]\n",
    "  df = df_proc.merge(df_locs[cols_locs], left_on=ref, right_on='codigo', how='left')\n",
    "  cols = ['bienio', 'parto_normal', loc, 'count']\n",
    "  df = df[cols]\n",
    "  df = df.groupby(by=cols[:-1], as_index=False).sum()\n",
    "  df['bienio'] = df['bienio'].map(\n",
    "    {0: '2010-2011', 1: '2018-2019'})\n",
    "  df['parto_normal'] = df['parto_normal'].map(\n",
    "    {0: 'Parto Cesárea', 1: 'Parto Normal'})\n",
    "  df = df.rename(columns={\n",
    "    'bienio': 'Biênio',\n",
    "    'parto_normal': 'Parto',\n",
    "    loc: 'Localidade',\n",
    "    'count': 'Procedimentos',\n",
    "  })\n",
    "  df = df.pivot_table('Procedimentos', ['Parto', 'Localidade'], 'Biênio', sort=True)\n",
    "  df = df.reset_index(level=['Parto', 'Localidade'])\n",
    "  df_total = df[list(df.columns)[1:]]\n",
    "  df_total = df_total.groupby(by='Localidade', as_index=False).sum()\n",
    "  df_total['Parto'] = 'Ambos'\n",
    "  df = pd.concat([df, df_total])\n",
    "  df = df.sort_values(by=['Localidade', 'Parto'])\n",
    "  df = df.reset_index(drop=True)\n",
    "  return df"
   ]
  },
  {
   "cell_type": "code",
   "execution_count": 9,
   "metadata": {},
   "outputs": [],
   "source": [
    "def fig_count_partos(df):\n",
    "  fig = go.Figure()\n",
    "  colors = ['#31A885','#DD6F1C']\n",
    "  items = ['2010-2011','2018-2019']\n",
    "  for item, color in zip(items, colors):\n",
    "      fig.add_trace(\n",
    "        go.Bar(\n",
    "          x=df['Parto'], y=df[item],\n",
    "          marker_color=color,\n",
    "          text=df[item], textposition='auto',\n",
    "          name=item,))\n",
    "  buttons = []\n",
    "  for loc in df['Localidade'].unique():\n",
    "      buttons.append(dict(\n",
    "        method='update',\n",
    "        label=loc,\n",
    "        args=[{\n",
    "          'y': df[df['Localidade'] == loc][items].T.values\n",
    "        }]))\n",
    "  button_brasil = dict(\n",
    "    method='update',\n",
    "    label='Brasil',\n",
    "    args=[{'y': df[items].T.values}])\n",
    "  buttons = sorted(buttons, key=lambda d: d['label'])\n",
    "  buttons.insert(0, button_brasil)\n",
    "  updatemenu=[]\n",
    "  your_menu=dict()\n",
    "  updatemenu.append(your_menu)\n",
    "  updatemenu[0]['buttons']=buttons\n",
    "  updatemenu[0]['direction']='down'\n",
    "  updatemenu[0]['showactive']=True\n",
    "  fig.update_layout(\n",
    "    title='Número total de partos realizados no SUS',\n",
    "    legend_title='Biênio',\n",
    "    updatemenus=updatemenu)\n",
    "  return fig"
   ]
  },
  {
   "cell_type": "code",
   "execution_count": 10,
   "metadata": {},
   "outputs": [],
   "source": [
    "cols_proc = [\n",
    "  'bienio', 'parto_normal', 'origem', 'destino', 'count'\n",
    "]"
   ]
  },
  {
   "cell_type": "markdown",
   "metadata": {},
   "source": [
    "### Por Região"
   ]
  },
  {
   "cell_type": "code",
   "execution_count": 11,
   "metadata": {},
   "outputs": [
    {
     "data": {
      "text/html": [
       "        <script type=\"text/javascript\">\n",
       "        window.PlotlyConfig = {MathJaxConfig: 'local'};\n",
       "        if (window.MathJax && window.MathJax.Hub && window.MathJax.Hub.Config) {window.MathJax.Hub.Config({SVG: {font: \"STIX-Web\"}});}\n",
       "        if (typeof require !== 'undefined') {\n",
       "        require.undef(\"plotly\");\n",
       "        requirejs.config({\n",
       "            paths: {\n",
       "                'plotly': ['https://cdn.plot.ly/plotly-2.16.1.min']\n",
       "            }\n",
       "        });\n",
       "        require(['plotly'], function(Plotly) {\n",
       "            window._Plotly = Plotly;\n",
       "        });\n",
       "        }\n",
       "        </script>\n",
       "        "
      ]
     },
     "metadata": {},
     "output_type": "display_data"
    },
    {
     "data": {
      "application/vnd.plotly.v1+json": {
       "config": {
        "plotlyServerURL": "https://plot.ly"
       },
       "data": [
        {
         "marker": {
          "color": "#31A885"
         },
         "name": "2010-2011",
         "text": [
          267140,
          100035,
          167105,
          1231047,
          413100,
          817947,
          438540,
          146771,
          291769,
          1200927,
          428772,
          772155,
          439477,
          166096,
          273381
         ],
         "textposition": "auto",
         "type": "bar",
         "x": [
          "Ambos",
          "Parto Cesárea",
          "Parto Normal",
          "Ambos",
          "Parto Cesárea",
          "Parto Normal",
          "Ambos",
          "Parto Cesárea",
          "Parto Normal",
          "Ambos",
          "Parto Cesárea",
          "Parto Normal",
          "Ambos",
          "Parto Cesárea",
          "Parto Normal"
         ],
         "y": [
          267140,
          100035,
          167105,
          1231047,
          413100,
          817947,
          438540,
          146771,
          291769,
          1200927,
          428772,
          772155,
          439477,
          166096,
          273381
         ]
        },
        {
         "marker": {
          "color": "#DD6F1C"
         },
         "name": "2018-2019",
         "text": [
          276281,
          124971,
          151310,
          1063404,
          428756,
          634648,
          424483,
          172823,
          251660,
          1165012,
          463185,
          701827,
          424633,
          187972,
          236661
         ],
         "textposition": "auto",
         "type": "bar",
         "x": [
          "Ambos",
          "Parto Cesárea",
          "Parto Normal",
          "Ambos",
          "Parto Cesárea",
          "Parto Normal",
          "Ambos",
          "Parto Cesárea",
          "Parto Normal",
          "Ambos",
          "Parto Cesárea",
          "Parto Normal",
          "Ambos",
          "Parto Cesárea",
          "Parto Normal"
         ],
         "y": [
          276281,
          124971,
          151310,
          1063404,
          428756,
          634648,
          424483,
          172823,
          251660,
          1165012,
          463185,
          701827,
          424633,
          187972,
          236661
         ]
        }
       ],
       "layout": {
        "legend": {
         "title": {
          "text": "Biênio"
         }
        },
        "template": {
         "data": {
          "bar": [
           {
            "error_x": {
             "color": "#2a3f5f"
            },
            "error_y": {
             "color": "#2a3f5f"
            },
            "marker": {
             "line": {
              "color": "#E5ECF6",
              "width": 0.5
             },
             "pattern": {
              "fillmode": "overlay",
              "size": 10,
              "solidity": 0.2
             }
            },
            "type": "bar"
           }
          ],
          "barpolar": [
           {
            "marker": {
             "line": {
              "color": "#E5ECF6",
              "width": 0.5
             },
             "pattern": {
              "fillmode": "overlay",
              "size": 10,
              "solidity": 0.2
             }
            },
            "type": "barpolar"
           }
          ],
          "carpet": [
           {
            "aaxis": {
             "endlinecolor": "#2a3f5f",
             "gridcolor": "white",
             "linecolor": "white",
             "minorgridcolor": "white",
             "startlinecolor": "#2a3f5f"
            },
            "baxis": {
             "endlinecolor": "#2a3f5f",
             "gridcolor": "white",
             "linecolor": "white",
             "minorgridcolor": "white",
             "startlinecolor": "#2a3f5f"
            },
            "type": "carpet"
           }
          ],
          "choropleth": [
           {
            "colorbar": {
             "outlinewidth": 0,
             "ticks": ""
            },
            "type": "choropleth"
           }
          ],
          "contour": [
           {
            "colorbar": {
             "outlinewidth": 0,
             "ticks": ""
            },
            "colorscale": [
             [
              0,
              "#0d0887"
             ],
             [
              0.1111111111111111,
              "#46039f"
             ],
             [
              0.2222222222222222,
              "#7201a8"
             ],
             [
              0.3333333333333333,
              "#9c179e"
             ],
             [
              0.4444444444444444,
              "#bd3786"
             ],
             [
              0.5555555555555556,
              "#d8576b"
             ],
             [
              0.6666666666666666,
              "#ed7953"
             ],
             [
              0.7777777777777778,
              "#fb9f3a"
             ],
             [
              0.8888888888888888,
              "#fdca26"
             ],
             [
              1,
              "#f0f921"
             ]
            ],
            "type": "contour"
           }
          ],
          "contourcarpet": [
           {
            "colorbar": {
             "outlinewidth": 0,
             "ticks": ""
            },
            "type": "contourcarpet"
           }
          ],
          "heatmap": [
           {
            "colorbar": {
             "outlinewidth": 0,
             "ticks": ""
            },
            "colorscale": [
             [
              0,
              "#0d0887"
             ],
             [
              0.1111111111111111,
              "#46039f"
             ],
             [
              0.2222222222222222,
              "#7201a8"
             ],
             [
              0.3333333333333333,
              "#9c179e"
             ],
             [
              0.4444444444444444,
              "#bd3786"
             ],
             [
              0.5555555555555556,
              "#d8576b"
             ],
             [
              0.6666666666666666,
              "#ed7953"
             ],
             [
              0.7777777777777778,
              "#fb9f3a"
             ],
             [
              0.8888888888888888,
              "#fdca26"
             ],
             [
              1,
              "#f0f921"
             ]
            ],
            "type": "heatmap"
           }
          ],
          "heatmapgl": [
           {
            "colorbar": {
             "outlinewidth": 0,
             "ticks": ""
            },
            "colorscale": [
             [
              0,
              "#0d0887"
             ],
             [
              0.1111111111111111,
              "#46039f"
             ],
             [
              0.2222222222222222,
              "#7201a8"
             ],
             [
              0.3333333333333333,
              "#9c179e"
             ],
             [
              0.4444444444444444,
              "#bd3786"
             ],
             [
              0.5555555555555556,
              "#d8576b"
             ],
             [
              0.6666666666666666,
              "#ed7953"
             ],
             [
              0.7777777777777778,
              "#fb9f3a"
             ],
             [
              0.8888888888888888,
              "#fdca26"
             ],
             [
              1,
              "#f0f921"
             ]
            ],
            "type": "heatmapgl"
           }
          ],
          "histogram": [
           {
            "marker": {
             "pattern": {
              "fillmode": "overlay",
              "size": 10,
              "solidity": 0.2
             }
            },
            "type": "histogram"
           }
          ],
          "histogram2d": [
           {
            "colorbar": {
             "outlinewidth": 0,
             "ticks": ""
            },
            "colorscale": [
             [
              0,
              "#0d0887"
             ],
             [
              0.1111111111111111,
              "#46039f"
             ],
             [
              0.2222222222222222,
              "#7201a8"
             ],
             [
              0.3333333333333333,
              "#9c179e"
             ],
             [
              0.4444444444444444,
              "#bd3786"
             ],
             [
              0.5555555555555556,
              "#d8576b"
             ],
             [
              0.6666666666666666,
              "#ed7953"
             ],
             [
              0.7777777777777778,
              "#fb9f3a"
             ],
             [
              0.8888888888888888,
              "#fdca26"
             ],
             [
              1,
              "#f0f921"
             ]
            ],
            "type": "histogram2d"
           }
          ],
          "histogram2dcontour": [
           {
            "colorbar": {
             "outlinewidth": 0,
             "ticks": ""
            },
            "colorscale": [
             [
              0,
              "#0d0887"
             ],
             [
              0.1111111111111111,
              "#46039f"
             ],
             [
              0.2222222222222222,
              "#7201a8"
             ],
             [
              0.3333333333333333,
              "#9c179e"
             ],
             [
              0.4444444444444444,
              "#bd3786"
             ],
             [
              0.5555555555555556,
              "#d8576b"
             ],
             [
              0.6666666666666666,
              "#ed7953"
             ],
             [
              0.7777777777777778,
              "#fb9f3a"
             ],
             [
              0.8888888888888888,
              "#fdca26"
             ],
             [
              1,
              "#f0f921"
             ]
            ],
            "type": "histogram2dcontour"
           }
          ],
          "mesh3d": [
           {
            "colorbar": {
             "outlinewidth": 0,
             "ticks": ""
            },
            "type": "mesh3d"
           }
          ],
          "parcoords": [
           {
            "line": {
             "colorbar": {
              "outlinewidth": 0,
              "ticks": ""
             }
            },
            "type": "parcoords"
           }
          ],
          "pie": [
           {
            "automargin": true,
            "type": "pie"
           }
          ],
          "scatter": [
           {
            "fillpattern": {
             "fillmode": "overlay",
             "size": 10,
             "solidity": 0.2
            },
            "type": "scatter"
           }
          ],
          "scatter3d": [
           {
            "line": {
             "colorbar": {
              "outlinewidth": 0,
              "ticks": ""
             }
            },
            "marker": {
             "colorbar": {
              "outlinewidth": 0,
              "ticks": ""
             }
            },
            "type": "scatter3d"
           }
          ],
          "scattercarpet": [
           {
            "marker": {
             "colorbar": {
              "outlinewidth": 0,
              "ticks": ""
             }
            },
            "type": "scattercarpet"
           }
          ],
          "scattergeo": [
           {
            "marker": {
             "colorbar": {
              "outlinewidth": 0,
              "ticks": ""
             }
            },
            "type": "scattergeo"
           }
          ],
          "scattergl": [
           {
            "marker": {
             "colorbar": {
              "outlinewidth": 0,
              "ticks": ""
             }
            },
            "type": "scattergl"
           }
          ],
          "scattermapbox": [
           {
            "marker": {
             "colorbar": {
              "outlinewidth": 0,
              "ticks": ""
             }
            },
            "type": "scattermapbox"
           }
          ],
          "scatterpolar": [
           {
            "marker": {
             "colorbar": {
              "outlinewidth": 0,
              "ticks": ""
             }
            },
            "type": "scatterpolar"
           }
          ],
          "scatterpolargl": [
           {
            "marker": {
             "colorbar": {
              "outlinewidth": 0,
              "ticks": ""
             }
            },
            "type": "scatterpolargl"
           }
          ],
          "scatterternary": [
           {
            "marker": {
             "colorbar": {
              "outlinewidth": 0,
              "ticks": ""
             }
            },
            "type": "scatterternary"
           }
          ],
          "surface": [
           {
            "colorbar": {
             "outlinewidth": 0,
             "ticks": ""
            },
            "colorscale": [
             [
              0,
              "#0d0887"
             ],
             [
              0.1111111111111111,
              "#46039f"
             ],
             [
              0.2222222222222222,
              "#7201a8"
             ],
             [
              0.3333333333333333,
              "#9c179e"
             ],
             [
              0.4444444444444444,
              "#bd3786"
             ],
             [
              0.5555555555555556,
              "#d8576b"
             ],
             [
              0.6666666666666666,
              "#ed7953"
             ],
             [
              0.7777777777777778,
              "#fb9f3a"
             ],
             [
              0.8888888888888888,
              "#fdca26"
             ],
             [
              1,
              "#f0f921"
             ]
            ],
            "type": "surface"
           }
          ],
          "table": [
           {
            "cells": {
             "fill": {
              "color": "#EBF0F8"
             },
             "line": {
              "color": "white"
             }
            },
            "header": {
             "fill": {
              "color": "#C8D4E3"
             },
             "line": {
              "color": "white"
             }
            },
            "type": "table"
           }
          ]
         },
         "layout": {
          "annotationdefaults": {
           "arrowcolor": "#2a3f5f",
           "arrowhead": 0,
           "arrowwidth": 1
          },
          "autotypenumbers": "strict",
          "coloraxis": {
           "colorbar": {
            "outlinewidth": 0,
            "ticks": ""
           }
          },
          "colorscale": {
           "diverging": [
            [
             0,
             "#8e0152"
            ],
            [
             0.1,
             "#c51b7d"
            ],
            [
             0.2,
             "#de77ae"
            ],
            [
             0.3,
             "#f1b6da"
            ],
            [
             0.4,
             "#fde0ef"
            ],
            [
             0.5,
             "#f7f7f7"
            ],
            [
             0.6,
             "#e6f5d0"
            ],
            [
             0.7,
             "#b8e186"
            ],
            [
             0.8,
             "#7fbc41"
            ],
            [
             0.9,
             "#4d9221"
            ],
            [
             1,
             "#276419"
            ]
           ],
           "sequential": [
            [
             0,
             "#0d0887"
            ],
            [
             0.1111111111111111,
             "#46039f"
            ],
            [
             0.2222222222222222,
             "#7201a8"
            ],
            [
             0.3333333333333333,
             "#9c179e"
            ],
            [
             0.4444444444444444,
             "#bd3786"
            ],
            [
             0.5555555555555556,
             "#d8576b"
            ],
            [
             0.6666666666666666,
             "#ed7953"
            ],
            [
             0.7777777777777778,
             "#fb9f3a"
            ],
            [
             0.8888888888888888,
             "#fdca26"
            ],
            [
             1,
             "#f0f921"
            ]
           ],
           "sequentialminus": [
            [
             0,
             "#0d0887"
            ],
            [
             0.1111111111111111,
             "#46039f"
            ],
            [
             0.2222222222222222,
             "#7201a8"
            ],
            [
             0.3333333333333333,
             "#9c179e"
            ],
            [
             0.4444444444444444,
             "#bd3786"
            ],
            [
             0.5555555555555556,
             "#d8576b"
            ],
            [
             0.6666666666666666,
             "#ed7953"
            ],
            [
             0.7777777777777778,
             "#fb9f3a"
            ],
            [
             0.8888888888888888,
             "#fdca26"
            ],
            [
             1,
             "#f0f921"
            ]
           ]
          },
          "colorway": [
           "#636efa",
           "#EF553B",
           "#00cc96",
           "#ab63fa",
           "#FFA15A",
           "#19d3f3",
           "#FF6692",
           "#B6E880",
           "#FF97FF",
           "#FECB52"
          ],
          "font": {
           "color": "#2a3f5f"
          },
          "geo": {
           "bgcolor": "white",
           "lakecolor": "white",
           "landcolor": "#E5ECF6",
           "showlakes": true,
           "showland": true,
           "subunitcolor": "white"
          },
          "hoverlabel": {
           "align": "left"
          },
          "hovermode": "closest",
          "mapbox": {
           "style": "light"
          },
          "paper_bgcolor": "white",
          "plot_bgcolor": "#E5ECF6",
          "polar": {
           "angularaxis": {
            "gridcolor": "white",
            "linecolor": "white",
            "ticks": ""
           },
           "bgcolor": "#E5ECF6",
           "radialaxis": {
            "gridcolor": "white",
            "linecolor": "white",
            "ticks": ""
           }
          },
          "scene": {
           "xaxis": {
            "backgroundcolor": "#E5ECF6",
            "gridcolor": "white",
            "gridwidth": 2,
            "linecolor": "white",
            "showbackground": true,
            "ticks": "",
            "zerolinecolor": "white"
           },
           "yaxis": {
            "backgroundcolor": "#E5ECF6",
            "gridcolor": "white",
            "gridwidth": 2,
            "linecolor": "white",
            "showbackground": true,
            "ticks": "",
            "zerolinecolor": "white"
           },
           "zaxis": {
            "backgroundcolor": "#E5ECF6",
            "gridcolor": "white",
            "gridwidth": 2,
            "linecolor": "white",
            "showbackground": true,
            "ticks": "",
            "zerolinecolor": "white"
           }
          },
          "shapedefaults": {
           "line": {
            "color": "#2a3f5f"
           }
          },
          "ternary": {
           "aaxis": {
            "gridcolor": "white",
            "linecolor": "white",
            "ticks": ""
           },
           "baxis": {
            "gridcolor": "white",
            "linecolor": "white",
            "ticks": ""
           },
           "bgcolor": "#E5ECF6",
           "caxis": {
            "gridcolor": "white",
            "linecolor": "white",
            "ticks": ""
           }
          },
          "title": {
           "x": 0.05
          },
          "xaxis": {
           "automargin": true,
           "gridcolor": "white",
           "linecolor": "white",
           "ticks": "",
           "title": {
            "standoff": 15
           },
           "zerolinecolor": "white",
           "zerolinewidth": 2
          },
          "yaxis": {
           "automargin": true,
           "gridcolor": "white",
           "linecolor": "white",
           "ticks": "",
           "title": {
            "standoff": 15
           },
           "zerolinecolor": "white",
           "zerolinewidth": 2
          }
         }
        },
        "title": {
         "text": "Número total de partos realizados no SUS"
        },
        "updatemenus": [
         {
          "buttons": [
           {
            "args": [
             {
              "y": [
               [
                267140,
                100035,
                167105,
                1231047,
                413100,
                817947,
                438540,
                146771,
                291769,
                1200927,
                428772,
                772155,
                439477,
                166096,
                273381
               ],
               [
                276281,
                124971,
                151310,
                1063404,
                428756,
                634648,
                424483,
                172823,
                251660,
                1165012,
                463185,
                701827,
                424633,
                187972,
                236661
               ]
              ]
             }
            ],
            "label": "Brasil",
            "method": "update"
           },
           {
            "args": [
             {
              "y": [
               [
                267140,
                100035,
                167105
               ],
               [
                276281,
                124971,
                151310
               ]
              ]
             }
            ],
            "label": "Centro-Oeste",
            "method": "update"
           },
           {
            "args": [
             {
              "y": [
               [
                1231047,
                413100,
                817947
               ],
               [
                1063404,
                428756,
                634648
               ]
              ]
             }
            ],
            "label": "Nordeste",
            "method": "update"
           },
           {
            "args": [
             {
              "y": [
               [
                438540,
                146771,
                291769
               ],
               [
                424483,
                172823,
                251660
               ]
              ]
             }
            ],
            "label": "Norte",
            "method": "update"
           },
           {
            "args": [
             {
              "y": [
               [
                1200927,
                428772,
                772155
               ],
               [
                1165012,
                463185,
                701827
               ]
              ]
             }
            ],
            "label": "Sudeste",
            "method": "update"
           },
           {
            "args": [
             {
              "y": [
               [
                439477,
                166096,
                273381
               ],
               [
                424633,
                187972,
                236661
               ]
              ]
             }
            ],
            "label": "Sul",
            "method": "update"
           }
          ],
          "direction": "down",
          "showactive": true
         }
        ]
       }
      },
      "text/html": [
       "<div>                            <div id=\"3d512fe0-9297-4f25-9b7b-d7efd85c4272\" class=\"plotly-graph-div\" style=\"height:525px; width:100%;\"></div>            <script type=\"text/javascript\">                require([\"plotly\"], function(Plotly) {                    window.PLOTLYENV=window.PLOTLYENV || {};                                    if (document.getElementById(\"3d512fe0-9297-4f25-9b7b-d7efd85c4272\")) {                    Plotly.newPlot(                        \"3d512fe0-9297-4f25-9b7b-d7efd85c4272\",                        [{\"marker\":{\"color\":\"#31A885\"},\"name\":\"2010-2011\",\"text\":[267140.0,100035.0,167105.0,1231047.0,413100.0,817947.0,438540.0,146771.0,291769.0,1200927.0,428772.0,772155.0,439477.0,166096.0,273381.0],\"textposition\":\"auto\",\"x\":[\"Ambos\",\"Parto Ces\\u00e1rea\",\"Parto Normal\",\"Ambos\",\"Parto Ces\\u00e1rea\",\"Parto Normal\",\"Ambos\",\"Parto Ces\\u00e1rea\",\"Parto Normal\",\"Ambos\",\"Parto Ces\\u00e1rea\",\"Parto Normal\",\"Ambos\",\"Parto Ces\\u00e1rea\",\"Parto Normal\"],\"y\":[267140,100035,167105,1231047,413100,817947,438540,146771,291769,1200927,428772,772155,439477,166096,273381],\"type\":\"bar\"},{\"marker\":{\"color\":\"#DD6F1C\"},\"name\":\"2018-2019\",\"text\":[276281.0,124971.0,151310.0,1063404.0,428756.0,634648.0,424483.0,172823.0,251660.0,1165012.0,463185.0,701827.0,424633.0,187972.0,236661.0],\"textposition\":\"auto\",\"x\":[\"Ambos\",\"Parto Ces\\u00e1rea\",\"Parto Normal\",\"Ambos\",\"Parto Ces\\u00e1rea\",\"Parto Normal\",\"Ambos\",\"Parto Ces\\u00e1rea\",\"Parto Normal\",\"Ambos\",\"Parto Ces\\u00e1rea\",\"Parto Normal\",\"Ambos\",\"Parto Ces\\u00e1rea\",\"Parto Normal\"],\"y\":[276281,124971,151310,1063404,428756,634648,424483,172823,251660,1165012,463185,701827,424633,187972,236661],\"type\":\"bar\"}],                        {\"template\":{\"data\":{\"histogram2dcontour\":[{\"type\":\"histogram2dcontour\",\"colorbar\":{\"outlinewidth\":0,\"ticks\":\"\"},\"colorscale\":[[0.0,\"#0d0887\"],[0.1111111111111111,\"#46039f\"],[0.2222222222222222,\"#7201a8\"],[0.3333333333333333,\"#9c179e\"],[0.4444444444444444,\"#bd3786\"],[0.5555555555555556,\"#d8576b\"],[0.6666666666666666,\"#ed7953\"],[0.7777777777777778,\"#fb9f3a\"],[0.8888888888888888,\"#fdca26\"],[1.0,\"#f0f921\"]]}],\"choropleth\":[{\"type\":\"choropleth\",\"colorbar\":{\"outlinewidth\":0,\"ticks\":\"\"}}],\"histogram2d\":[{\"type\":\"histogram2d\",\"colorbar\":{\"outlinewidth\":0,\"ticks\":\"\"},\"colorscale\":[[0.0,\"#0d0887\"],[0.1111111111111111,\"#46039f\"],[0.2222222222222222,\"#7201a8\"],[0.3333333333333333,\"#9c179e\"],[0.4444444444444444,\"#bd3786\"],[0.5555555555555556,\"#d8576b\"],[0.6666666666666666,\"#ed7953\"],[0.7777777777777778,\"#fb9f3a\"],[0.8888888888888888,\"#fdca26\"],[1.0,\"#f0f921\"]]}],\"heatmap\":[{\"type\":\"heatmap\",\"colorbar\":{\"outlinewidth\":0,\"ticks\":\"\"},\"colorscale\":[[0.0,\"#0d0887\"],[0.1111111111111111,\"#46039f\"],[0.2222222222222222,\"#7201a8\"],[0.3333333333333333,\"#9c179e\"],[0.4444444444444444,\"#bd3786\"],[0.5555555555555556,\"#d8576b\"],[0.6666666666666666,\"#ed7953\"],[0.7777777777777778,\"#fb9f3a\"],[0.8888888888888888,\"#fdca26\"],[1.0,\"#f0f921\"]]}],\"heatmapgl\":[{\"type\":\"heatmapgl\",\"colorbar\":{\"outlinewidth\":0,\"ticks\":\"\"},\"colorscale\":[[0.0,\"#0d0887\"],[0.1111111111111111,\"#46039f\"],[0.2222222222222222,\"#7201a8\"],[0.3333333333333333,\"#9c179e\"],[0.4444444444444444,\"#bd3786\"],[0.5555555555555556,\"#d8576b\"],[0.6666666666666666,\"#ed7953\"],[0.7777777777777778,\"#fb9f3a\"],[0.8888888888888888,\"#fdca26\"],[1.0,\"#f0f921\"]]}],\"contourcarpet\":[{\"type\":\"contourcarpet\",\"colorbar\":{\"outlinewidth\":0,\"ticks\":\"\"}}],\"contour\":[{\"type\":\"contour\",\"colorbar\":{\"outlinewidth\":0,\"ticks\":\"\"},\"colorscale\":[[0.0,\"#0d0887\"],[0.1111111111111111,\"#46039f\"],[0.2222222222222222,\"#7201a8\"],[0.3333333333333333,\"#9c179e\"],[0.4444444444444444,\"#bd3786\"],[0.5555555555555556,\"#d8576b\"],[0.6666666666666666,\"#ed7953\"],[0.7777777777777778,\"#fb9f3a\"],[0.8888888888888888,\"#fdca26\"],[1.0,\"#f0f921\"]]}],\"surface\":[{\"type\":\"surface\",\"colorbar\":{\"outlinewidth\":0,\"ticks\":\"\"},\"colorscale\":[[0.0,\"#0d0887\"],[0.1111111111111111,\"#46039f\"],[0.2222222222222222,\"#7201a8\"],[0.3333333333333333,\"#9c179e\"],[0.4444444444444444,\"#bd3786\"],[0.5555555555555556,\"#d8576b\"],[0.6666666666666666,\"#ed7953\"],[0.7777777777777778,\"#fb9f3a\"],[0.8888888888888888,\"#fdca26\"],[1.0,\"#f0f921\"]]}],\"mesh3d\":[{\"type\":\"mesh3d\",\"colorbar\":{\"outlinewidth\":0,\"ticks\":\"\"}}],\"scatter\":[{\"fillpattern\":{\"fillmode\":\"overlay\",\"size\":10,\"solidity\":0.2},\"type\":\"scatter\"}],\"parcoords\":[{\"type\":\"parcoords\",\"line\":{\"colorbar\":{\"outlinewidth\":0,\"ticks\":\"\"}}}],\"scatterpolargl\":[{\"type\":\"scatterpolargl\",\"marker\":{\"colorbar\":{\"outlinewidth\":0,\"ticks\":\"\"}}}],\"bar\":[{\"error_x\":{\"color\":\"#2a3f5f\"},\"error_y\":{\"color\":\"#2a3f5f\"},\"marker\":{\"line\":{\"color\":\"#E5ECF6\",\"width\":0.5},\"pattern\":{\"fillmode\":\"overlay\",\"size\":10,\"solidity\":0.2}},\"type\":\"bar\"}],\"scattergeo\":[{\"type\":\"scattergeo\",\"marker\":{\"colorbar\":{\"outlinewidth\":0,\"ticks\":\"\"}}}],\"scatterpolar\":[{\"type\":\"scatterpolar\",\"marker\":{\"colorbar\":{\"outlinewidth\":0,\"ticks\":\"\"}}}],\"histogram\":[{\"marker\":{\"pattern\":{\"fillmode\":\"overlay\",\"size\":10,\"solidity\":0.2}},\"type\":\"histogram\"}],\"scattergl\":[{\"type\":\"scattergl\",\"marker\":{\"colorbar\":{\"outlinewidth\":0,\"ticks\":\"\"}}}],\"scatter3d\":[{\"type\":\"scatter3d\",\"line\":{\"colorbar\":{\"outlinewidth\":0,\"ticks\":\"\"}},\"marker\":{\"colorbar\":{\"outlinewidth\":0,\"ticks\":\"\"}}}],\"scattermapbox\":[{\"type\":\"scattermapbox\",\"marker\":{\"colorbar\":{\"outlinewidth\":0,\"ticks\":\"\"}}}],\"scatterternary\":[{\"type\":\"scatterternary\",\"marker\":{\"colorbar\":{\"outlinewidth\":0,\"ticks\":\"\"}}}],\"scattercarpet\":[{\"type\":\"scattercarpet\",\"marker\":{\"colorbar\":{\"outlinewidth\":0,\"ticks\":\"\"}}}],\"carpet\":[{\"aaxis\":{\"endlinecolor\":\"#2a3f5f\",\"gridcolor\":\"white\",\"linecolor\":\"white\",\"minorgridcolor\":\"white\",\"startlinecolor\":\"#2a3f5f\"},\"baxis\":{\"endlinecolor\":\"#2a3f5f\",\"gridcolor\":\"white\",\"linecolor\":\"white\",\"minorgridcolor\":\"white\",\"startlinecolor\":\"#2a3f5f\"},\"type\":\"carpet\"}],\"table\":[{\"cells\":{\"fill\":{\"color\":\"#EBF0F8\"},\"line\":{\"color\":\"white\"}},\"header\":{\"fill\":{\"color\":\"#C8D4E3\"},\"line\":{\"color\":\"white\"}},\"type\":\"table\"}],\"barpolar\":[{\"marker\":{\"line\":{\"color\":\"#E5ECF6\",\"width\":0.5},\"pattern\":{\"fillmode\":\"overlay\",\"size\":10,\"solidity\":0.2}},\"type\":\"barpolar\"}],\"pie\":[{\"automargin\":true,\"type\":\"pie\"}]},\"layout\":{\"autotypenumbers\":\"strict\",\"colorway\":[\"#636efa\",\"#EF553B\",\"#00cc96\",\"#ab63fa\",\"#FFA15A\",\"#19d3f3\",\"#FF6692\",\"#B6E880\",\"#FF97FF\",\"#FECB52\"],\"font\":{\"color\":\"#2a3f5f\"},\"hovermode\":\"closest\",\"hoverlabel\":{\"align\":\"left\"},\"paper_bgcolor\":\"white\",\"plot_bgcolor\":\"#E5ECF6\",\"polar\":{\"bgcolor\":\"#E5ECF6\",\"angularaxis\":{\"gridcolor\":\"white\",\"linecolor\":\"white\",\"ticks\":\"\"},\"radialaxis\":{\"gridcolor\":\"white\",\"linecolor\":\"white\",\"ticks\":\"\"}},\"ternary\":{\"bgcolor\":\"#E5ECF6\",\"aaxis\":{\"gridcolor\":\"white\",\"linecolor\":\"white\",\"ticks\":\"\"},\"baxis\":{\"gridcolor\":\"white\",\"linecolor\":\"white\",\"ticks\":\"\"},\"caxis\":{\"gridcolor\":\"white\",\"linecolor\":\"white\",\"ticks\":\"\"}},\"coloraxis\":{\"colorbar\":{\"outlinewidth\":0,\"ticks\":\"\"}},\"colorscale\":{\"sequential\":[[0.0,\"#0d0887\"],[0.1111111111111111,\"#46039f\"],[0.2222222222222222,\"#7201a8\"],[0.3333333333333333,\"#9c179e\"],[0.4444444444444444,\"#bd3786\"],[0.5555555555555556,\"#d8576b\"],[0.6666666666666666,\"#ed7953\"],[0.7777777777777778,\"#fb9f3a\"],[0.8888888888888888,\"#fdca26\"],[1.0,\"#f0f921\"]],\"sequentialminus\":[[0.0,\"#0d0887\"],[0.1111111111111111,\"#46039f\"],[0.2222222222222222,\"#7201a8\"],[0.3333333333333333,\"#9c179e\"],[0.4444444444444444,\"#bd3786\"],[0.5555555555555556,\"#d8576b\"],[0.6666666666666666,\"#ed7953\"],[0.7777777777777778,\"#fb9f3a\"],[0.8888888888888888,\"#fdca26\"],[1.0,\"#f0f921\"]],\"diverging\":[[0,\"#8e0152\"],[0.1,\"#c51b7d\"],[0.2,\"#de77ae\"],[0.3,\"#f1b6da\"],[0.4,\"#fde0ef\"],[0.5,\"#f7f7f7\"],[0.6,\"#e6f5d0\"],[0.7,\"#b8e186\"],[0.8,\"#7fbc41\"],[0.9,\"#4d9221\"],[1,\"#276419\"]]},\"xaxis\":{\"gridcolor\":\"white\",\"linecolor\":\"white\",\"ticks\":\"\",\"title\":{\"standoff\":15},\"zerolinecolor\":\"white\",\"automargin\":true,\"zerolinewidth\":2},\"yaxis\":{\"gridcolor\":\"white\",\"linecolor\":\"white\",\"ticks\":\"\",\"title\":{\"standoff\":15},\"zerolinecolor\":\"white\",\"automargin\":true,\"zerolinewidth\":2},\"scene\":{\"xaxis\":{\"backgroundcolor\":\"#E5ECF6\",\"gridcolor\":\"white\",\"linecolor\":\"white\",\"showbackground\":true,\"ticks\":\"\",\"zerolinecolor\":\"white\",\"gridwidth\":2},\"yaxis\":{\"backgroundcolor\":\"#E5ECF6\",\"gridcolor\":\"white\",\"linecolor\":\"white\",\"showbackground\":true,\"ticks\":\"\",\"zerolinecolor\":\"white\",\"gridwidth\":2},\"zaxis\":{\"backgroundcolor\":\"#E5ECF6\",\"gridcolor\":\"white\",\"linecolor\":\"white\",\"showbackground\":true,\"ticks\":\"\",\"zerolinecolor\":\"white\",\"gridwidth\":2}},\"shapedefaults\":{\"line\":{\"color\":\"#2a3f5f\"}},\"annotationdefaults\":{\"arrowcolor\":\"#2a3f5f\",\"arrowhead\":0,\"arrowwidth\":1},\"geo\":{\"bgcolor\":\"white\",\"landcolor\":\"#E5ECF6\",\"subunitcolor\":\"white\",\"showland\":true,\"showlakes\":true,\"lakecolor\":\"white\"},\"title\":{\"x\":0.05},\"mapbox\":{\"style\":\"light\"}}},\"title\":{\"text\":\"N\\u00famero total de partos realizados no SUS\"},\"legend\":{\"title\":{\"text\":\"Bi\\u00eanio\"}},\"updatemenus\":[{\"buttons\":[{\"args\":[{\"y\":[[267140,100035,167105,1231047,413100,817947,438540,146771,291769,1200927,428772,772155,439477,166096,273381],[276281,124971,151310,1063404,428756,634648,424483,172823,251660,1165012,463185,701827,424633,187972,236661]]}],\"label\":\"Brasil\",\"method\":\"update\"},{\"args\":[{\"y\":[[267140,100035,167105],[276281,124971,151310]]}],\"label\":\"Centro-Oeste\",\"method\":\"update\"},{\"args\":[{\"y\":[[1231047,413100,817947],[1063404,428756,634648]]}],\"label\":\"Nordeste\",\"method\":\"update\"},{\"args\":[{\"y\":[[438540,146771,291769],[424483,172823,251660]]}],\"label\":\"Norte\",\"method\":\"update\"},{\"args\":[{\"y\":[[1200927,428772,772155],[1165012,463185,701827]]}],\"label\":\"Sudeste\",\"method\":\"update\"},{\"args\":[{\"y\":[[439477,166096,273381],[424633,187972,236661]]}],\"label\":\"Sul\",\"method\":\"update\"}],\"direction\":\"down\",\"showactive\":true}]},                        {\"responsive\": true}                    ).then(function(){\n",
       "                            \n",
       "var gd = document.getElementById('3d512fe0-9297-4f25-9b7b-d7efd85c4272');\n",
       "var x = new MutationObserver(function (mutations, observer) {{\n",
       "        var display = window.getComputedStyle(gd).display;\n",
       "        if (!display || display === 'none') {{\n",
       "            console.log([gd, 'removed!']);\n",
       "            Plotly.purge(gd);\n",
       "            observer.disconnect();\n",
       "        }}\n",
       "}});\n",
       "\n",
       "// Listen for the removal of the full notebook cells\n",
       "var notebookContainer = gd.closest('#notebook-container');\n",
       "if (notebookContainer) {{\n",
       "    x.observe(notebookContainer, {childList: true});\n",
       "}}\n",
       "\n",
       "// Listen for the clearing of the current output cell\n",
       "var outputEl = gd.closest('.output');\n",
       "if (outputEl) {{\n",
       "    x.observe(outputEl, {childList: true});\n",
       "}}\n",
       "\n",
       "                        })                };                });            </script>        </div>"
      ]
     },
     "metadata": {},
     "output_type": "display_data"
    }
   ],
   "source": [
    "df_regiao = get_df_loc(df_proc_bienio[cols_proc], df_locs, loc='nome_regiao')\n",
    "fig_regiao = fig_count_partos(df_regiao)\n",
    "fig_regiao.show()"
   ]
  },
  {
   "cell_type": "markdown",
   "metadata": {},
   "source": [
    "### UF"
   ]
  },
  {
   "cell_type": "code",
   "execution_count": 12,
   "metadata": {},
   "outputs": [
    {
     "data": {
      "application/vnd.plotly.v1+json": {
       "config": {
        "plotlyServerURL": "https://plot.ly"
       },
       "data": [
        {
         "marker": {
          "color": "#31A885"
         },
         "name": "2010-2011",
         "text": [
          22342,
          6267,
          16075,
          88380,
          43062,
          45318,
          22905,
          4716,
          18189,
          99961,
          28630,
          71331,
          325291,
          91326,
          233965,
          186380,
          72178,
          114202,
          61923,
          20920,
          41003,
          64477,
          28427,
          36050,
          87912,
          33194,
          54718,
          166273,
          34070,
          132203,
          60738,
          21613,
          39125,
          56567,
          24308,
          32259,
          330766,
          130590,
          200176,
          172131,
          61084,
          111047,
          85218,
          35500,
          49718,
          216873,
          83250,
          133623,
          178644,
          64582,
          114062,
          82420,
          33079,
          49341,
          67605,
          27924,
          39681,
          166710,
          64228,
          102482,
          187650,
          39323,
          148327,
          27414,
          9382,
          18032,
          9276,
          332,
          8944,
          100636,
          40784,
          59852,
          50836,
          11379,
          39457,
          618034,
          230432,
          387602,
          39769,
          14194,
          25575
         ],
         "textposition": "auto",
         "type": "bar",
         "x": [
          "Ambos",
          "Parto Cesárea",
          "Parto Normal",
          "Ambos",
          "Parto Cesárea",
          "Parto Normal",
          "Ambos",
          "Parto Cesárea",
          "Parto Normal",
          "Ambos",
          "Parto Cesárea",
          "Parto Normal",
          "Ambos",
          "Parto Cesárea",
          "Parto Normal",
          "Ambos",
          "Parto Cesárea",
          "Parto Normal",
          "Ambos",
          "Parto Cesárea",
          "Parto Normal",
          "Ambos",
          "Parto Cesárea",
          "Parto Normal",
          "Ambos",
          "Parto Cesárea",
          "Parto Normal",
          "Ambos",
          "Parto Cesárea",
          "Parto Normal",
          "Ambos",
          "Parto Cesárea",
          "Parto Normal",
          "Ambos",
          "Parto Cesárea",
          "Parto Normal",
          "Ambos",
          "Parto Cesárea",
          "Parto Normal",
          "Ambos",
          "Parto Cesárea",
          "Parto Normal",
          "Ambos",
          "Parto Cesárea",
          "Parto Normal",
          "Ambos",
          "Parto Cesárea",
          "Parto Normal",
          "Ambos",
          "Parto Cesárea",
          "Parto Normal",
          "Ambos",
          "Parto Cesárea",
          "Parto Normal",
          "Ambos",
          "Parto Cesárea",
          "Parto Normal",
          "Ambos",
          "Parto Cesárea",
          "Parto Normal",
          "Ambos",
          "Parto Cesárea",
          "Parto Normal",
          "Ambos",
          "Parto Cesárea",
          "Parto Normal",
          "Ambos",
          "Parto Cesárea",
          "Parto Normal",
          "Ambos",
          "Parto Cesárea",
          "Parto Normal",
          "Ambos",
          "Parto Cesárea",
          "Parto Normal",
          "Ambos",
          "Parto Cesárea",
          "Parto Normal",
          "Ambos",
          "Parto Cesárea",
          "Parto Normal"
         ],
         "y": [
          22342,
          6267,
          16075,
          88380,
          43062,
          45318,
          22905,
          4716,
          18189,
          99961,
          28630,
          71331,
          325291,
          91326,
          233965,
          186380,
          72178,
          114202,
          61923,
          20920,
          41003,
          64477,
          28427,
          36050,
          87912,
          33194,
          54718,
          166273,
          34070,
          132203,
          60738,
          21613,
          39125,
          56567,
          24308,
          32259,
          330766,
          130590,
          200176,
          172131,
          61084,
          111047,
          85218,
          35500,
          49718,
          216873,
          83250,
          133623,
          178644,
          64582,
          114062,
          82420,
          33079,
          49341,
          67605,
          27924,
          39681,
          166710,
          64228,
          102482,
          187650,
          39323,
          148327,
          27414,
          9382,
          18032,
          9276,
          332,
          8944,
          100636,
          40784,
          59852,
          50836,
          11379,
          39457,
          618034,
          230432,
          387602,
          39769,
          14194,
          25575
         ]
        },
        {
         "marker": {
          "color": "#DD6F1C"
         },
         "name": "2018-2019",
         "text": [
          16191,
          7029,
          9162,
          80149,
          35599,
          44550,
          25285,
          7879,
          17406,
          112215,
          39183,
          73032,
          270824,
          90353,
          180471,
          159458,
          84752,
          74706,
          53514,
          20059,
          33455,
          61301,
          28897,
          32404,
          100650,
          48433,
          52217,
          161614,
          59297,
          102317,
          67660,
          29821,
          37839,
          54457,
          26658,
          27799,
          280215,
          122021,
          158194,
          159239,
          69141,
          90098,
          69823,
          33203,
          36620,
          198262,
          87879,
          110383,
          151410,
          50640,
          100770,
          67853,
          32156,
          35697,
          59410,
          30478,
          28932,
          166245,
          79867,
          86378,
          230593,
          82583,
          148010,
          29826,
          15060,
          14766,
          10892,
          1564,
          9328,
          99149,
          38964,
          60185,
          42863,
          12278,
          30585,
          592903,
          229684,
          363219,
          31812,
          14229,
          17583
         ],
         "textposition": "auto",
         "type": "bar",
         "x": [
          "Ambos",
          "Parto Cesárea",
          "Parto Normal",
          "Ambos",
          "Parto Cesárea",
          "Parto Normal",
          "Ambos",
          "Parto Cesárea",
          "Parto Normal",
          "Ambos",
          "Parto Cesárea",
          "Parto Normal",
          "Ambos",
          "Parto Cesárea",
          "Parto Normal",
          "Ambos",
          "Parto Cesárea",
          "Parto Normal",
          "Ambos",
          "Parto Cesárea",
          "Parto Normal",
          "Ambos",
          "Parto Cesárea",
          "Parto Normal",
          "Ambos",
          "Parto Cesárea",
          "Parto Normal",
          "Ambos",
          "Parto Cesárea",
          "Parto Normal",
          "Ambos",
          "Parto Cesárea",
          "Parto Normal",
          "Ambos",
          "Parto Cesárea",
          "Parto Normal",
          "Ambos",
          "Parto Cesárea",
          "Parto Normal",
          "Ambos",
          "Parto Cesárea",
          "Parto Normal",
          "Ambos",
          "Parto Cesárea",
          "Parto Normal",
          "Ambos",
          "Parto Cesárea",
          "Parto Normal",
          "Ambos",
          "Parto Cesárea",
          "Parto Normal",
          "Ambos",
          "Parto Cesárea",
          "Parto Normal",
          "Ambos",
          "Parto Cesárea",
          "Parto Normal",
          "Ambos",
          "Parto Cesárea",
          "Parto Normal",
          "Ambos",
          "Parto Cesárea",
          "Parto Normal",
          "Ambos",
          "Parto Cesárea",
          "Parto Normal",
          "Ambos",
          "Parto Cesárea",
          "Parto Normal",
          "Ambos",
          "Parto Cesárea",
          "Parto Normal",
          "Ambos",
          "Parto Cesárea",
          "Parto Normal",
          "Ambos",
          "Parto Cesárea",
          "Parto Normal",
          "Ambos",
          "Parto Cesárea",
          "Parto Normal"
         ],
         "y": [
          16191,
          7029,
          9162,
          80149,
          35599,
          44550,
          25285,
          7879,
          17406,
          112215,
          39183,
          73032,
          270824,
          90353,
          180471,
          159458,
          84752,
          74706,
          53514,
          20059,
          33455,
          61301,
          28897,
          32404,
          100650,
          48433,
          52217,
          161614,
          59297,
          102317,
          67660,
          29821,
          37839,
          54457,
          26658,
          27799,
          280215,
          122021,
          158194,
          159239,
          69141,
          90098,
          69823,
          33203,
          36620,
          198262,
          87879,
          110383,
          151410,
          50640,
          100770,
          67853,
          32156,
          35697,
          59410,
          30478,
          28932,
          166245,
          79867,
          86378,
          230593,
          82583,
          148010,
          29826,
          15060,
          14766,
          10892,
          1564,
          9328,
          99149,
          38964,
          60185,
          42863,
          12278,
          30585,
          592903,
          229684,
          363219,
          31812,
          14229,
          17583
         ]
        }
       ],
       "layout": {
        "legend": {
         "title": {
          "text": "Biênio"
         }
        },
        "template": {
         "data": {
          "bar": [
           {
            "error_x": {
             "color": "#2a3f5f"
            },
            "error_y": {
             "color": "#2a3f5f"
            },
            "marker": {
             "line": {
              "color": "#E5ECF6",
              "width": 0.5
             },
             "pattern": {
              "fillmode": "overlay",
              "size": 10,
              "solidity": 0.2
             }
            },
            "type": "bar"
           }
          ],
          "barpolar": [
           {
            "marker": {
             "line": {
              "color": "#E5ECF6",
              "width": 0.5
             },
             "pattern": {
              "fillmode": "overlay",
              "size": 10,
              "solidity": 0.2
             }
            },
            "type": "barpolar"
           }
          ],
          "carpet": [
           {
            "aaxis": {
             "endlinecolor": "#2a3f5f",
             "gridcolor": "white",
             "linecolor": "white",
             "minorgridcolor": "white",
             "startlinecolor": "#2a3f5f"
            },
            "baxis": {
             "endlinecolor": "#2a3f5f",
             "gridcolor": "white",
             "linecolor": "white",
             "minorgridcolor": "white",
             "startlinecolor": "#2a3f5f"
            },
            "type": "carpet"
           }
          ],
          "choropleth": [
           {
            "colorbar": {
             "outlinewidth": 0,
             "ticks": ""
            },
            "type": "choropleth"
           }
          ],
          "contour": [
           {
            "colorbar": {
             "outlinewidth": 0,
             "ticks": ""
            },
            "colorscale": [
             [
              0,
              "#0d0887"
             ],
             [
              0.1111111111111111,
              "#46039f"
             ],
             [
              0.2222222222222222,
              "#7201a8"
             ],
             [
              0.3333333333333333,
              "#9c179e"
             ],
             [
              0.4444444444444444,
              "#bd3786"
             ],
             [
              0.5555555555555556,
              "#d8576b"
             ],
             [
              0.6666666666666666,
              "#ed7953"
             ],
             [
              0.7777777777777778,
              "#fb9f3a"
             ],
             [
              0.8888888888888888,
              "#fdca26"
             ],
             [
              1,
              "#f0f921"
             ]
            ],
            "type": "contour"
           }
          ],
          "contourcarpet": [
           {
            "colorbar": {
             "outlinewidth": 0,
             "ticks": ""
            },
            "type": "contourcarpet"
           }
          ],
          "heatmap": [
           {
            "colorbar": {
             "outlinewidth": 0,
             "ticks": ""
            },
            "colorscale": [
             [
              0,
              "#0d0887"
             ],
             [
              0.1111111111111111,
              "#46039f"
             ],
             [
              0.2222222222222222,
              "#7201a8"
             ],
             [
              0.3333333333333333,
              "#9c179e"
             ],
             [
              0.4444444444444444,
              "#bd3786"
             ],
             [
              0.5555555555555556,
              "#d8576b"
             ],
             [
              0.6666666666666666,
              "#ed7953"
             ],
             [
              0.7777777777777778,
              "#fb9f3a"
             ],
             [
              0.8888888888888888,
              "#fdca26"
             ],
             [
              1,
              "#f0f921"
             ]
            ],
            "type": "heatmap"
           }
          ],
          "heatmapgl": [
           {
            "colorbar": {
             "outlinewidth": 0,
             "ticks": ""
            },
            "colorscale": [
             [
              0,
              "#0d0887"
             ],
             [
              0.1111111111111111,
              "#46039f"
             ],
             [
              0.2222222222222222,
              "#7201a8"
             ],
             [
              0.3333333333333333,
              "#9c179e"
             ],
             [
              0.4444444444444444,
              "#bd3786"
             ],
             [
              0.5555555555555556,
              "#d8576b"
             ],
             [
              0.6666666666666666,
              "#ed7953"
             ],
             [
              0.7777777777777778,
              "#fb9f3a"
             ],
             [
              0.8888888888888888,
              "#fdca26"
             ],
             [
              1,
              "#f0f921"
             ]
            ],
            "type": "heatmapgl"
           }
          ],
          "histogram": [
           {
            "marker": {
             "pattern": {
              "fillmode": "overlay",
              "size": 10,
              "solidity": 0.2
             }
            },
            "type": "histogram"
           }
          ],
          "histogram2d": [
           {
            "colorbar": {
             "outlinewidth": 0,
             "ticks": ""
            },
            "colorscale": [
             [
              0,
              "#0d0887"
             ],
             [
              0.1111111111111111,
              "#46039f"
             ],
             [
              0.2222222222222222,
              "#7201a8"
             ],
             [
              0.3333333333333333,
              "#9c179e"
             ],
             [
              0.4444444444444444,
              "#bd3786"
             ],
             [
              0.5555555555555556,
              "#d8576b"
             ],
             [
              0.6666666666666666,
              "#ed7953"
             ],
             [
              0.7777777777777778,
              "#fb9f3a"
             ],
             [
              0.8888888888888888,
              "#fdca26"
             ],
             [
              1,
              "#f0f921"
             ]
            ],
            "type": "histogram2d"
           }
          ],
          "histogram2dcontour": [
           {
            "colorbar": {
             "outlinewidth": 0,
             "ticks": ""
            },
            "colorscale": [
             [
              0,
              "#0d0887"
             ],
             [
              0.1111111111111111,
              "#46039f"
             ],
             [
              0.2222222222222222,
              "#7201a8"
             ],
             [
              0.3333333333333333,
              "#9c179e"
             ],
             [
              0.4444444444444444,
              "#bd3786"
             ],
             [
              0.5555555555555556,
              "#d8576b"
             ],
             [
              0.6666666666666666,
              "#ed7953"
             ],
             [
              0.7777777777777778,
              "#fb9f3a"
             ],
             [
              0.8888888888888888,
              "#fdca26"
             ],
             [
              1,
              "#f0f921"
             ]
            ],
            "type": "histogram2dcontour"
           }
          ],
          "mesh3d": [
           {
            "colorbar": {
             "outlinewidth": 0,
             "ticks": ""
            },
            "type": "mesh3d"
           }
          ],
          "parcoords": [
           {
            "line": {
             "colorbar": {
              "outlinewidth": 0,
              "ticks": ""
             }
            },
            "type": "parcoords"
           }
          ],
          "pie": [
           {
            "automargin": true,
            "type": "pie"
           }
          ],
          "scatter": [
           {
            "fillpattern": {
             "fillmode": "overlay",
             "size": 10,
             "solidity": 0.2
            },
            "type": "scatter"
           }
          ],
          "scatter3d": [
           {
            "line": {
             "colorbar": {
              "outlinewidth": 0,
              "ticks": ""
             }
            },
            "marker": {
             "colorbar": {
              "outlinewidth": 0,
              "ticks": ""
             }
            },
            "type": "scatter3d"
           }
          ],
          "scattercarpet": [
           {
            "marker": {
             "colorbar": {
              "outlinewidth": 0,
              "ticks": ""
             }
            },
            "type": "scattercarpet"
           }
          ],
          "scattergeo": [
           {
            "marker": {
             "colorbar": {
              "outlinewidth": 0,
              "ticks": ""
             }
            },
            "type": "scattergeo"
           }
          ],
          "scattergl": [
           {
            "marker": {
             "colorbar": {
              "outlinewidth": 0,
              "ticks": ""
             }
            },
            "type": "scattergl"
           }
          ],
          "scattermapbox": [
           {
            "marker": {
             "colorbar": {
              "outlinewidth": 0,
              "ticks": ""
             }
            },
            "type": "scattermapbox"
           }
          ],
          "scatterpolar": [
           {
            "marker": {
             "colorbar": {
              "outlinewidth": 0,
              "ticks": ""
             }
            },
            "type": "scatterpolar"
           }
          ],
          "scatterpolargl": [
           {
            "marker": {
             "colorbar": {
              "outlinewidth": 0,
              "ticks": ""
             }
            },
            "type": "scatterpolargl"
           }
          ],
          "scatterternary": [
           {
            "marker": {
             "colorbar": {
              "outlinewidth": 0,
              "ticks": ""
             }
            },
            "type": "scatterternary"
           }
          ],
          "surface": [
           {
            "colorbar": {
             "outlinewidth": 0,
             "ticks": ""
            },
            "colorscale": [
             [
              0,
              "#0d0887"
             ],
             [
              0.1111111111111111,
              "#46039f"
             ],
             [
              0.2222222222222222,
              "#7201a8"
             ],
             [
              0.3333333333333333,
              "#9c179e"
             ],
             [
              0.4444444444444444,
              "#bd3786"
             ],
             [
              0.5555555555555556,
              "#d8576b"
             ],
             [
              0.6666666666666666,
              "#ed7953"
             ],
             [
              0.7777777777777778,
              "#fb9f3a"
             ],
             [
              0.8888888888888888,
              "#fdca26"
             ],
             [
              1,
              "#f0f921"
             ]
            ],
            "type": "surface"
           }
          ],
          "table": [
           {
            "cells": {
             "fill": {
              "color": "#EBF0F8"
             },
             "line": {
              "color": "white"
             }
            },
            "header": {
             "fill": {
              "color": "#C8D4E3"
             },
             "line": {
              "color": "white"
             }
            },
            "type": "table"
           }
          ]
         },
         "layout": {
          "annotationdefaults": {
           "arrowcolor": "#2a3f5f",
           "arrowhead": 0,
           "arrowwidth": 1
          },
          "autotypenumbers": "strict",
          "coloraxis": {
           "colorbar": {
            "outlinewidth": 0,
            "ticks": ""
           }
          },
          "colorscale": {
           "diverging": [
            [
             0,
             "#8e0152"
            ],
            [
             0.1,
             "#c51b7d"
            ],
            [
             0.2,
             "#de77ae"
            ],
            [
             0.3,
             "#f1b6da"
            ],
            [
             0.4,
             "#fde0ef"
            ],
            [
             0.5,
             "#f7f7f7"
            ],
            [
             0.6,
             "#e6f5d0"
            ],
            [
             0.7,
             "#b8e186"
            ],
            [
             0.8,
             "#7fbc41"
            ],
            [
             0.9,
             "#4d9221"
            ],
            [
             1,
             "#276419"
            ]
           ],
           "sequential": [
            [
             0,
             "#0d0887"
            ],
            [
             0.1111111111111111,
             "#46039f"
            ],
            [
             0.2222222222222222,
             "#7201a8"
            ],
            [
             0.3333333333333333,
             "#9c179e"
            ],
            [
             0.4444444444444444,
             "#bd3786"
            ],
            [
             0.5555555555555556,
             "#d8576b"
            ],
            [
             0.6666666666666666,
             "#ed7953"
            ],
            [
             0.7777777777777778,
             "#fb9f3a"
            ],
            [
             0.8888888888888888,
             "#fdca26"
            ],
            [
             1,
             "#f0f921"
            ]
           ],
           "sequentialminus": [
            [
             0,
             "#0d0887"
            ],
            [
             0.1111111111111111,
             "#46039f"
            ],
            [
             0.2222222222222222,
             "#7201a8"
            ],
            [
             0.3333333333333333,
             "#9c179e"
            ],
            [
             0.4444444444444444,
             "#bd3786"
            ],
            [
             0.5555555555555556,
             "#d8576b"
            ],
            [
             0.6666666666666666,
             "#ed7953"
            ],
            [
             0.7777777777777778,
             "#fb9f3a"
            ],
            [
             0.8888888888888888,
             "#fdca26"
            ],
            [
             1,
             "#f0f921"
            ]
           ]
          },
          "colorway": [
           "#636efa",
           "#EF553B",
           "#00cc96",
           "#ab63fa",
           "#FFA15A",
           "#19d3f3",
           "#FF6692",
           "#B6E880",
           "#FF97FF",
           "#FECB52"
          ],
          "font": {
           "color": "#2a3f5f"
          },
          "geo": {
           "bgcolor": "white",
           "lakecolor": "white",
           "landcolor": "#E5ECF6",
           "showlakes": true,
           "showland": true,
           "subunitcolor": "white"
          },
          "hoverlabel": {
           "align": "left"
          },
          "hovermode": "closest",
          "mapbox": {
           "style": "light"
          },
          "paper_bgcolor": "white",
          "plot_bgcolor": "#E5ECF6",
          "polar": {
           "angularaxis": {
            "gridcolor": "white",
            "linecolor": "white",
            "ticks": ""
           },
           "bgcolor": "#E5ECF6",
           "radialaxis": {
            "gridcolor": "white",
            "linecolor": "white",
            "ticks": ""
           }
          },
          "scene": {
           "xaxis": {
            "backgroundcolor": "#E5ECF6",
            "gridcolor": "white",
            "gridwidth": 2,
            "linecolor": "white",
            "showbackground": true,
            "ticks": "",
            "zerolinecolor": "white"
           },
           "yaxis": {
            "backgroundcolor": "#E5ECF6",
            "gridcolor": "white",
            "gridwidth": 2,
            "linecolor": "white",
            "showbackground": true,
            "ticks": "",
            "zerolinecolor": "white"
           },
           "zaxis": {
            "backgroundcolor": "#E5ECF6",
            "gridcolor": "white",
            "gridwidth": 2,
            "linecolor": "white",
            "showbackground": true,
            "ticks": "",
            "zerolinecolor": "white"
           }
          },
          "shapedefaults": {
           "line": {
            "color": "#2a3f5f"
           }
          },
          "ternary": {
           "aaxis": {
            "gridcolor": "white",
            "linecolor": "white",
            "ticks": ""
           },
           "baxis": {
            "gridcolor": "white",
            "linecolor": "white",
            "ticks": ""
           },
           "bgcolor": "#E5ECF6",
           "caxis": {
            "gridcolor": "white",
            "linecolor": "white",
            "ticks": ""
           }
          },
          "title": {
           "x": 0.05
          },
          "xaxis": {
           "automargin": true,
           "gridcolor": "white",
           "linecolor": "white",
           "ticks": "",
           "title": {
            "standoff": 15
           },
           "zerolinecolor": "white",
           "zerolinewidth": 2
          },
          "yaxis": {
           "automargin": true,
           "gridcolor": "white",
           "linecolor": "white",
           "ticks": "",
           "title": {
            "standoff": 15
           },
           "zerolinecolor": "white",
           "zerolinewidth": 2
          }
         }
        },
        "title": {
         "text": "Número total de partos realizados no SUS"
        },
        "updatemenus": [
         {
          "buttons": [
           {
            "args": [
             {
              "y": [
               [
                22342,
                6267,
                16075,
                88380,
                43062,
                45318,
                22905,
                4716,
                18189,
                99961,
                28630,
                71331,
                325291,
                91326,
                233965,
                186380,
                72178,
                114202,
                61923,
                20920,
                41003,
                64477,
                28427,
                36050,
                87912,
                33194,
                54718,
                166273,
                34070,
                132203,
                60738,
                21613,
                39125,
                56567,
                24308,
                32259,
                330766,
                130590,
                200176,
                172131,
                61084,
                111047,
                85218,
                35500,
                49718,
                216873,
                83250,
                133623,
                178644,
                64582,
                114062,
                82420,
                33079,
                49341,
                67605,
                27924,
                39681,
                166710,
                64228,
                102482,
                187650,
                39323,
                148327,
                27414,
                9382,
                18032,
                9276,
                332,
                8944,
                100636,
                40784,
                59852,
                50836,
                11379,
                39457,
                618034,
                230432,
                387602,
                39769,
                14194,
                25575
               ],
               [
                16191,
                7029,
                9162,
                80149,
                35599,
                44550,
                25285,
                7879,
                17406,
                112215,
                39183,
                73032,
                270824,
                90353,
                180471,
                159458,
                84752,
                74706,
                53514,
                20059,
                33455,
                61301,
                28897,
                32404,
                100650,
                48433,
                52217,
                161614,
                59297,
                102317,
                67660,
                29821,
                37839,
                54457,
                26658,
                27799,
                280215,
                122021,
                158194,
                159239,
                69141,
                90098,
                69823,
                33203,
                36620,
                198262,
                87879,
                110383,
                151410,
                50640,
                100770,
                67853,
                32156,
                35697,
                59410,
                30478,
                28932,
                166245,
                79867,
                86378,
                230593,
                82583,
                148010,
                29826,
                15060,
                14766,
                10892,
                1564,
                9328,
                99149,
                38964,
                60185,
                42863,
                12278,
                30585,
                592903,
                229684,
                363219,
                31812,
                14229,
                17583
               ]
              ]
             }
            ],
            "label": "Brasil",
            "method": "update"
           },
           {
            "args": [
             {
              "y": [
               [
                22342,
                6267,
                16075
               ],
               [
                16191,
                7029,
                9162
               ]
              ]
             }
            ],
            "label": "Acre",
            "method": "update"
           },
           {
            "args": [
             {
              "y": [
               [
                88380,
                43062,
                45318
               ],
               [
                80149,
                35599,
                44550
               ]
              ]
             }
            ],
            "label": "Alagoas",
            "method": "update"
           },
           {
            "args": [
             {
              "y": [
               [
                22905,
                4716,
                18189
               ],
               [
                25285,
                7879,
                17406
               ]
              ]
             }
            ],
            "label": "Amapá",
            "method": "update"
           },
           {
            "args": [
             {
              "y": [
               [
                99961,
                28630,
                71331
               ],
               [
                112215,
                39183,
                73032
               ]
              ]
             }
            ],
            "label": "Amazonas",
            "method": "update"
           },
           {
            "args": [
             {
              "y": [
               [
                325291,
                91326,
                233965
               ],
               [
                270824,
                90353,
                180471
               ]
              ]
             }
            ],
            "label": "Bahia",
            "method": "update"
           },
           {
            "args": [
             {
              "y": [
               [
                186380,
                72178,
                114202
               ],
               [
                159458,
                84752,
                74706
               ]
              ]
             }
            ],
            "label": "Ceará",
            "method": "update"
           },
           {
            "args": [
             {
              "y": [
               [
                61923,
                20920,
                41003
               ],
               [
                53514,
                20059,
                33455
               ]
              ]
             }
            ],
            "label": "Distrito Federal",
            "method": "update"
           },
           {
            "args": [
             {
              "y": [
               [
                64477,
                28427,
                36050
               ],
               [
                61301,
                28897,
                32404
               ]
              ]
             }
            ],
            "label": "Espírito Santo",
            "method": "update"
           },
           {
            "args": [
             {
              "y": [
               [
                87912,
                33194,
                54718
               ],
               [
                100650,
                48433,
                52217
               ]
              ]
             }
            ],
            "label": "Goiás",
            "method": "update"
           },
           {
            "args": [
             {
              "y": [
               [
                166273,
                34070,
                132203
               ],
               [
                161614,
                59297,
                102317
               ]
              ]
             }
            ],
            "label": "Maranhão",
            "method": "update"
           },
           {
            "args": [
             {
              "y": [
               [
                60738,
                21613,
                39125
               ],
               [
                67660,
                29821,
                37839
               ]
              ]
             }
            ],
            "label": "Mato Grosso",
            "method": "update"
           },
           {
            "args": [
             {
              "y": [
               [
                56567,
                24308,
                32259
               ],
               [
                54457,
                26658,
                27799
               ]
              ]
             }
            ],
            "label": "Mato Grosso do Sul",
            "method": "update"
           },
           {
            "args": [
             {
              "y": [
               [
                330766,
                130590,
                200176
               ],
               [
                280215,
                122021,
                158194
               ]
              ]
             }
            ],
            "label": "Minas Gerais",
            "method": "update"
           },
           {
            "args": [
             {
              "y": [
               [
                172131,
                61084,
                111047
               ],
               [
                159239,
                69141,
                90098
               ]
              ]
             }
            ],
            "label": "Paraná",
            "method": "update"
           },
           {
            "args": [
             {
              "y": [
               [
                85218,
                35500,
                49718
               ],
               [
                69823,
                33203,
                36620
               ]
              ]
             }
            ],
            "label": "Paraíba",
            "method": "update"
           },
           {
            "args": [
             {
              "y": [
               [
                216873,
                83250,
                133623
               ],
               [
                198262,
                87879,
                110383
               ]
              ]
             }
            ],
            "label": "Pará",
            "method": "update"
           },
           {
            "args": [
             {
              "y": [
               [
                178644,
                64582,
                114062
               ],
               [
                151410,
                50640,
                100770
               ]
              ]
             }
            ],
            "label": "Pernambuco",
            "method": "update"
           },
           {
            "args": [
             {
              "y": [
               [
                82420,
                33079,
                49341
               ],
               [
                67853,
                32156,
                35697
               ]
              ]
             }
            ],
            "label": "Piauí",
            "method": "update"
           },
           {
            "args": [
             {
              "y": [
               [
                67605,
                27924,
                39681
               ],
               [
                59410,
                30478,
                28932
               ]
              ]
             }
            ],
            "label": "Rio Grande do Norte",
            "method": "update"
           },
           {
            "args": [
             {
              "y": [
               [
                166710,
                64228,
                102482
               ],
               [
                166245,
                79867,
                86378
               ]
              ]
             }
            ],
            "label": "Rio Grande do Sul",
            "method": "update"
           },
           {
            "args": [
             {
              "y": [
               [
                187650,
                39323,
                148327
               ],
               [
                230593,
                82583,
                148010
               ]
              ]
             }
            ],
            "label": "Rio de Janeiro",
            "method": "update"
           },
           {
            "args": [
             {
              "y": [
               [
                27414,
                9382,
                18032
               ],
               [
                29826,
                15060,
                14766
               ]
              ]
             }
            ],
            "label": "Rondônia",
            "method": "update"
           },
           {
            "args": [
             {
              "y": [
               [
                9276,
                332,
                8944
               ],
               [
                10892,
                1564,
                9328
               ]
              ]
             }
            ],
            "label": "Roraima",
            "method": "update"
           },
           {
            "args": [
             {
              "y": [
               [
                100636,
                40784,
                59852
               ],
               [
                99149,
                38964,
                60185
               ]
              ]
             }
            ],
            "label": "Santa Catarina",
            "method": "update"
           },
           {
            "args": [
             {
              "y": [
               [
                50836,
                11379,
                39457
               ],
               [
                42863,
                12278,
                30585
               ]
              ]
             }
            ],
            "label": "Sergipe",
            "method": "update"
           },
           {
            "args": [
             {
              "y": [
               [
                618034,
                230432,
                387602
               ],
               [
                592903,
                229684,
                363219
               ]
              ]
             }
            ],
            "label": "São Paulo",
            "method": "update"
           },
           {
            "args": [
             {
              "y": [
               [
                39769,
                14194,
                25575
               ],
               [
                31812,
                14229,
                17583
               ]
              ]
             }
            ],
            "label": "Tocantins",
            "method": "update"
           }
          ],
          "direction": "down",
          "showactive": true
         }
        ]
       }
      },
      "text/html": [
       "<div>                            <div id=\"3bec90a3-73ca-4b0f-b3bd-c7a0c3e1ed5b\" class=\"plotly-graph-div\" style=\"height:525px; width:100%;\"></div>            <script type=\"text/javascript\">                require([\"plotly\"], function(Plotly) {                    window.PLOTLYENV=window.PLOTLYENV || {};                                    if (document.getElementById(\"3bec90a3-73ca-4b0f-b3bd-c7a0c3e1ed5b\")) {                    Plotly.newPlot(                        \"3bec90a3-73ca-4b0f-b3bd-c7a0c3e1ed5b\",                        [{\"marker\":{\"color\":\"#31A885\"},\"name\":\"2010-2011\",\"text\":[22342.0,6267.0,16075.0,88380.0,43062.0,45318.0,22905.0,4716.0,18189.0,99961.0,28630.0,71331.0,325291.0,91326.0,233965.0,186380.0,72178.0,114202.0,61923.0,20920.0,41003.0,64477.0,28427.0,36050.0,87912.0,33194.0,54718.0,166273.0,34070.0,132203.0,60738.0,21613.0,39125.0,56567.0,24308.0,32259.0,330766.0,130590.0,200176.0,172131.0,61084.0,111047.0,85218.0,35500.0,49718.0,216873.0,83250.0,133623.0,178644.0,64582.0,114062.0,82420.0,33079.0,49341.0,67605.0,27924.0,39681.0,166710.0,64228.0,102482.0,187650.0,39323.0,148327.0,27414.0,9382.0,18032.0,9276.0,332.0,8944.0,100636.0,40784.0,59852.0,50836.0,11379.0,39457.0,618034.0,230432.0,387602.0,39769.0,14194.0,25575.0],\"textposition\":\"auto\",\"x\":[\"Ambos\",\"Parto Ces\\u00e1rea\",\"Parto Normal\",\"Ambos\",\"Parto Ces\\u00e1rea\",\"Parto Normal\",\"Ambos\",\"Parto Ces\\u00e1rea\",\"Parto Normal\",\"Ambos\",\"Parto Ces\\u00e1rea\",\"Parto Normal\",\"Ambos\",\"Parto Ces\\u00e1rea\",\"Parto Normal\",\"Ambos\",\"Parto Ces\\u00e1rea\",\"Parto Normal\",\"Ambos\",\"Parto Ces\\u00e1rea\",\"Parto Normal\",\"Ambos\",\"Parto Ces\\u00e1rea\",\"Parto Normal\",\"Ambos\",\"Parto Ces\\u00e1rea\",\"Parto Normal\",\"Ambos\",\"Parto Ces\\u00e1rea\",\"Parto Normal\",\"Ambos\",\"Parto Ces\\u00e1rea\",\"Parto Normal\",\"Ambos\",\"Parto Ces\\u00e1rea\",\"Parto Normal\",\"Ambos\",\"Parto Ces\\u00e1rea\",\"Parto Normal\",\"Ambos\",\"Parto Ces\\u00e1rea\",\"Parto Normal\",\"Ambos\",\"Parto Ces\\u00e1rea\",\"Parto Normal\",\"Ambos\",\"Parto Ces\\u00e1rea\",\"Parto Normal\",\"Ambos\",\"Parto Ces\\u00e1rea\",\"Parto Normal\",\"Ambos\",\"Parto Ces\\u00e1rea\",\"Parto Normal\",\"Ambos\",\"Parto Ces\\u00e1rea\",\"Parto Normal\",\"Ambos\",\"Parto Ces\\u00e1rea\",\"Parto Normal\",\"Ambos\",\"Parto Ces\\u00e1rea\",\"Parto Normal\",\"Ambos\",\"Parto Ces\\u00e1rea\",\"Parto Normal\",\"Ambos\",\"Parto Ces\\u00e1rea\",\"Parto Normal\",\"Ambos\",\"Parto Ces\\u00e1rea\",\"Parto Normal\",\"Ambos\",\"Parto Ces\\u00e1rea\",\"Parto Normal\",\"Ambos\",\"Parto Ces\\u00e1rea\",\"Parto Normal\",\"Ambos\",\"Parto Ces\\u00e1rea\",\"Parto Normal\"],\"y\":[22342,6267,16075,88380,43062,45318,22905,4716,18189,99961,28630,71331,325291,91326,233965,186380,72178,114202,61923,20920,41003,64477,28427,36050,87912,33194,54718,166273,34070,132203,60738,21613,39125,56567,24308,32259,330766,130590,200176,172131,61084,111047,85218,35500,49718,216873,83250,133623,178644,64582,114062,82420,33079,49341,67605,27924,39681,166710,64228,102482,187650,39323,148327,27414,9382,18032,9276,332,8944,100636,40784,59852,50836,11379,39457,618034,230432,387602,39769,14194,25575],\"type\":\"bar\"},{\"marker\":{\"color\":\"#DD6F1C\"},\"name\":\"2018-2019\",\"text\":[16191.0,7029.0,9162.0,80149.0,35599.0,44550.0,25285.0,7879.0,17406.0,112215.0,39183.0,73032.0,270824.0,90353.0,180471.0,159458.0,84752.0,74706.0,53514.0,20059.0,33455.0,61301.0,28897.0,32404.0,100650.0,48433.0,52217.0,161614.0,59297.0,102317.0,67660.0,29821.0,37839.0,54457.0,26658.0,27799.0,280215.0,122021.0,158194.0,159239.0,69141.0,90098.0,69823.0,33203.0,36620.0,198262.0,87879.0,110383.0,151410.0,50640.0,100770.0,67853.0,32156.0,35697.0,59410.0,30478.0,28932.0,166245.0,79867.0,86378.0,230593.0,82583.0,148010.0,29826.0,15060.0,14766.0,10892.0,1564.0,9328.0,99149.0,38964.0,60185.0,42863.0,12278.0,30585.0,592903.0,229684.0,363219.0,31812.0,14229.0,17583.0],\"textposition\":\"auto\",\"x\":[\"Ambos\",\"Parto Ces\\u00e1rea\",\"Parto Normal\",\"Ambos\",\"Parto Ces\\u00e1rea\",\"Parto Normal\",\"Ambos\",\"Parto Ces\\u00e1rea\",\"Parto Normal\",\"Ambos\",\"Parto Ces\\u00e1rea\",\"Parto Normal\",\"Ambos\",\"Parto Ces\\u00e1rea\",\"Parto Normal\",\"Ambos\",\"Parto Ces\\u00e1rea\",\"Parto Normal\",\"Ambos\",\"Parto Ces\\u00e1rea\",\"Parto Normal\",\"Ambos\",\"Parto Ces\\u00e1rea\",\"Parto Normal\",\"Ambos\",\"Parto Ces\\u00e1rea\",\"Parto Normal\",\"Ambos\",\"Parto Ces\\u00e1rea\",\"Parto Normal\",\"Ambos\",\"Parto Ces\\u00e1rea\",\"Parto Normal\",\"Ambos\",\"Parto Ces\\u00e1rea\",\"Parto Normal\",\"Ambos\",\"Parto Ces\\u00e1rea\",\"Parto Normal\",\"Ambos\",\"Parto Ces\\u00e1rea\",\"Parto Normal\",\"Ambos\",\"Parto Ces\\u00e1rea\",\"Parto Normal\",\"Ambos\",\"Parto Ces\\u00e1rea\",\"Parto Normal\",\"Ambos\",\"Parto Ces\\u00e1rea\",\"Parto Normal\",\"Ambos\",\"Parto Ces\\u00e1rea\",\"Parto Normal\",\"Ambos\",\"Parto Ces\\u00e1rea\",\"Parto Normal\",\"Ambos\",\"Parto Ces\\u00e1rea\",\"Parto Normal\",\"Ambos\",\"Parto Ces\\u00e1rea\",\"Parto Normal\",\"Ambos\",\"Parto Ces\\u00e1rea\",\"Parto Normal\",\"Ambos\",\"Parto Ces\\u00e1rea\",\"Parto Normal\",\"Ambos\",\"Parto Ces\\u00e1rea\",\"Parto Normal\",\"Ambos\",\"Parto Ces\\u00e1rea\",\"Parto Normal\",\"Ambos\",\"Parto Ces\\u00e1rea\",\"Parto Normal\",\"Ambos\",\"Parto Ces\\u00e1rea\",\"Parto Normal\"],\"y\":[16191,7029,9162,80149,35599,44550,25285,7879,17406,112215,39183,73032,270824,90353,180471,159458,84752,74706,53514,20059,33455,61301,28897,32404,100650,48433,52217,161614,59297,102317,67660,29821,37839,54457,26658,27799,280215,122021,158194,159239,69141,90098,69823,33203,36620,198262,87879,110383,151410,50640,100770,67853,32156,35697,59410,30478,28932,166245,79867,86378,230593,82583,148010,29826,15060,14766,10892,1564,9328,99149,38964,60185,42863,12278,30585,592903,229684,363219,31812,14229,17583],\"type\":\"bar\"}],                        {\"template\":{\"data\":{\"histogram2dcontour\":[{\"type\":\"histogram2dcontour\",\"colorbar\":{\"outlinewidth\":0,\"ticks\":\"\"},\"colorscale\":[[0.0,\"#0d0887\"],[0.1111111111111111,\"#46039f\"],[0.2222222222222222,\"#7201a8\"],[0.3333333333333333,\"#9c179e\"],[0.4444444444444444,\"#bd3786\"],[0.5555555555555556,\"#d8576b\"],[0.6666666666666666,\"#ed7953\"],[0.7777777777777778,\"#fb9f3a\"],[0.8888888888888888,\"#fdca26\"],[1.0,\"#f0f921\"]]}],\"choropleth\":[{\"type\":\"choropleth\",\"colorbar\":{\"outlinewidth\":0,\"ticks\":\"\"}}],\"histogram2d\":[{\"type\":\"histogram2d\",\"colorbar\":{\"outlinewidth\":0,\"ticks\":\"\"},\"colorscale\":[[0.0,\"#0d0887\"],[0.1111111111111111,\"#46039f\"],[0.2222222222222222,\"#7201a8\"],[0.3333333333333333,\"#9c179e\"],[0.4444444444444444,\"#bd3786\"],[0.5555555555555556,\"#d8576b\"],[0.6666666666666666,\"#ed7953\"],[0.7777777777777778,\"#fb9f3a\"],[0.8888888888888888,\"#fdca26\"],[1.0,\"#f0f921\"]]}],\"heatmap\":[{\"type\":\"heatmap\",\"colorbar\":{\"outlinewidth\":0,\"ticks\":\"\"},\"colorscale\":[[0.0,\"#0d0887\"],[0.1111111111111111,\"#46039f\"],[0.2222222222222222,\"#7201a8\"],[0.3333333333333333,\"#9c179e\"],[0.4444444444444444,\"#bd3786\"],[0.5555555555555556,\"#d8576b\"],[0.6666666666666666,\"#ed7953\"],[0.7777777777777778,\"#fb9f3a\"],[0.8888888888888888,\"#fdca26\"],[1.0,\"#f0f921\"]]}],\"heatmapgl\":[{\"type\":\"heatmapgl\",\"colorbar\":{\"outlinewidth\":0,\"ticks\":\"\"},\"colorscale\":[[0.0,\"#0d0887\"],[0.1111111111111111,\"#46039f\"],[0.2222222222222222,\"#7201a8\"],[0.3333333333333333,\"#9c179e\"],[0.4444444444444444,\"#bd3786\"],[0.5555555555555556,\"#d8576b\"],[0.6666666666666666,\"#ed7953\"],[0.7777777777777778,\"#fb9f3a\"],[0.8888888888888888,\"#fdca26\"],[1.0,\"#f0f921\"]]}],\"contourcarpet\":[{\"type\":\"contourcarpet\",\"colorbar\":{\"outlinewidth\":0,\"ticks\":\"\"}}],\"contour\":[{\"type\":\"contour\",\"colorbar\":{\"outlinewidth\":0,\"ticks\":\"\"},\"colorscale\":[[0.0,\"#0d0887\"],[0.1111111111111111,\"#46039f\"],[0.2222222222222222,\"#7201a8\"],[0.3333333333333333,\"#9c179e\"],[0.4444444444444444,\"#bd3786\"],[0.5555555555555556,\"#d8576b\"],[0.6666666666666666,\"#ed7953\"],[0.7777777777777778,\"#fb9f3a\"],[0.8888888888888888,\"#fdca26\"],[1.0,\"#f0f921\"]]}],\"surface\":[{\"type\":\"surface\",\"colorbar\":{\"outlinewidth\":0,\"ticks\":\"\"},\"colorscale\":[[0.0,\"#0d0887\"],[0.1111111111111111,\"#46039f\"],[0.2222222222222222,\"#7201a8\"],[0.3333333333333333,\"#9c179e\"],[0.4444444444444444,\"#bd3786\"],[0.5555555555555556,\"#d8576b\"],[0.6666666666666666,\"#ed7953\"],[0.7777777777777778,\"#fb9f3a\"],[0.8888888888888888,\"#fdca26\"],[1.0,\"#f0f921\"]]}],\"mesh3d\":[{\"type\":\"mesh3d\",\"colorbar\":{\"outlinewidth\":0,\"ticks\":\"\"}}],\"scatter\":[{\"fillpattern\":{\"fillmode\":\"overlay\",\"size\":10,\"solidity\":0.2},\"type\":\"scatter\"}],\"parcoords\":[{\"type\":\"parcoords\",\"line\":{\"colorbar\":{\"outlinewidth\":0,\"ticks\":\"\"}}}],\"scatterpolargl\":[{\"type\":\"scatterpolargl\",\"marker\":{\"colorbar\":{\"outlinewidth\":0,\"ticks\":\"\"}}}],\"bar\":[{\"error_x\":{\"color\":\"#2a3f5f\"},\"error_y\":{\"color\":\"#2a3f5f\"},\"marker\":{\"line\":{\"color\":\"#E5ECF6\",\"width\":0.5},\"pattern\":{\"fillmode\":\"overlay\",\"size\":10,\"solidity\":0.2}},\"type\":\"bar\"}],\"scattergeo\":[{\"type\":\"scattergeo\",\"marker\":{\"colorbar\":{\"outlinewidth\":0,\"ticks\":\"\"}}}],\"scatterpolar\":[{\"type\":\"scatterpolar\",\"marker\":{\"colorbar\":{\"outlinewidth\":0,\"ticks\":\"\"}}}],\"histogram\":[{\"marker\":{\"pattern\":{\"fillmode\":\"overlay\",\"size\":10,\"solidity\":0.2}},\"type\":\"histogram\"}],\"scattergl\":[{\"type\":\"scattergl\",\"marker\":{\"colorbar\":{\"outlinewidth\":0,\"ticks\":\"\"}}}],\"scatter3d\":[{\"type\":\"scatter3d\",\"line\":{\"colorbar\":{\"outlinewidth\":0,\"ticks\":\"\"}},\"marker\":{\"colorbar\":{\"outlinewidth\":0,\"ticks\":\"\"}}}],\"scattermapbox\":[{\"type\":\"scattermapbox\",\"marker\":{\"colorbar\":{\"outlinewidth\":0,\"ticks\":\"\"}}}],\"scatterternary\":[{\"type\":\"scatterternary\",\"marker\":{\"colorbar\":{\"outlinewidth\":0,\"ticks\":\"\"}}}],\"scattercarpet\":[{\"type\":\"scattercarpet\",\"marker\":{\"colorbar\":{\"outlinewidth\":0,\"ticks\":\"\"}}}],\"carpet\":[{\"aaxis\":{\"endlinecolor\":\"#2a3f5f\",\"gridcolor\":\"white\",\"linecolor\":\"white\",\"minorgridcolor\":\"white\",\"startlinecolor\":\"#2a3f5f\"},\"baxis\":{\"endlinecolor\":\"#2a3f5f\",\"gridcolor\":\"white\",\"linecolor\":\"white\",\"minorgridcolor\":\"white\",\"startlinecolor\":\"#2a3f5f\"},\"type\":\"carpet\"}],\"table\":[{\"cells\":{\"fill\":{\"color\":\"#EBF0F8\"},\"line\":{\"color\":\"white\"}},\"header\":{\"fill\":{\"color\":\"#C8D4E3\"},\"line\":{\"color\":\"white\"}},\"type\":\"table\"}],\"barpolar\":[{\"marker\":{\"line\":{\"color\":\"#E5ECF6\",\"width\":0.5},\"pattern\":{\"fillmode\":\"overlay\",\"size\":10,\"solidity\":0.2}},\"type\":\"barpolar\"}],\"pie\":[{\"automargin\":true,\"type\":\"pie\"}]},\"layout\":{\"autotypenumbers\":\"strict\",\"colorway\":[\"#636efa\",\"#EF553B\",\"#00cc96\",\"#ab63fa\",\"#FFA15A\",\"#19d3f3\",\"#FF6692\",\"#B6E880\",\"#FF97FF\",\"#FECB52\"],\"font\":{\"color\":\"#2a3f5f\"},\"hovermode\":\"closest\",\"hoverlabel\":{\"align\":\"left\"},\"paper_bgcolor\":\"white\",\"plot_bgcolor\":\"#E5ECF6\",\"polar\":{\"bgcolor\":\"#E5ECF6\",\"angularaxis\":{\"gridcolor\":\"white\",\"linecolor\":\"white\",\"ticks\":\"\"},\"radialaxis\":{\"gridcolor\":\"white\",\"linecolor\":\"white\",\"ticks\":\"\"}},\"ternary\":{\"bgcolor\":\"#E5ECF6\",\"aaxis\":{\"gridcolor\":\"white\",\"linecolor\":\"white\",\"ticks\":\"\"},\"baxis\":{\"gridcolor\":\"white\",\"linecolor\":\"white\",\"ticks\":\"\"},\"caxis\":{\"gridcolor\":\"white\",\"linecolor\":\"white\",\"ticks\":\"\"}},\"coloraxis\":{\"colorbar\":{\"outlinewidth\":0,\"ticks\":\"\"}},\"colorscale\":{\"sequential\":[[0.0,\"#0d0887\"],[0.1111111111111111,\"#46039f\"],[0.2222222222222222,\"#7201a8\"],[0.3333333333333333,\"#9c179e\"],[0.4444444444444444,\"#bd3786\"],[0.5555555555555556,\"#d8576b\"],[0.6666666666666666,\"#ed7953\"],[0.7777777777777778,\"#fb9f3a\"],[0.8888888888888888,\"#fdca26\"],[1.0,\"#f0f921\"]],\"sequentialminus\":[[0.0,\"#0d0887\"],[0.1111111111111111,\"#46039f\"],[0.2222222222222222,\"#7201a8\"],[0.3333333333333333,\"#9c179e\"],[0.4444444444444444,\"#bd3786\"],[0.5555555555555556,\"#d8576b\"],[0.6666666666666666,\"#ed7953\"],[0.7777777777777778,\"#fb9f3a\"],[0.8888888888888888,\"#fdca26\"],[1.0,\"#f0f921\"]],\"diverging\":[[0,\"#8e0152\"],[0.1,\"#c51b7d\"],[0.2,\"#de77ae\"],[0.3,\"#f1b6da\"],[0.4,\"#fde0ef\"],[0.5,\"#f7f7f7\"],[0.6,\"#e6f5d0\"],[0.7,\"#b8e186\"],[0.8,\"#7fbc41\"],[0.9,\"#4d9221\"],[1,\"#276419\"]]},\"xaxis\":{\"gridcolor\":\"white\",\"linecolor\":\"white\",\"ticks\":\"\",\"title\":{\"standoff\":15},\"zerolinecolor\":\"white\",\"automargin\":true,\"zerolinewidth\":2},\"yaxis\":{\"gridcolor\":\"white\",\"linecolor\":\"white\",\"ticks\":\"\",\"title\":{\"standoff\":15},\"zerolinecolor\":\"white\",\"automargin\":true,\"zerolinewidth\":2},\"scene\":{\"xaxis\":{\"backgroundcolor\":\"#E5ECF6\",\"gridcolor\":\"white\",\"linecolor\":\"white\",\"showbackground\":true,\"ticks\":\"\",\"zerolinecolor\":\"white\",\"gridwidth\":2},\"yaxis\":{\"backgroundcolor\":\"#E5ECF6\",\"gridcolor\":\"white\",\"linecolor\":\"white\",\"showbackground\":true,\"ticks\":\"\",\"zerolinecolor\":\"white\",\"gridwidth\":2},\"zaxis\":{\"backgroundcolor\":\"#E5ECF6\",\"gridcolor\":\"white\",\"linecolor\":\"white\",\"showbackground\":true,\"ticks\":\"\",\"zerolinecolor\":\"white\",\"gridwidth\":2}},\"shapedefaults\":{\"line\":{\"color\":\"#2a3f5f\"}},\"annotationdefaults\":{\"arrowcolor\":\"#2a3f5f\",\"arrowhead\":0,\"arrowwidth\":1},\"geo\":{\"bgcolor\":\"white\",\"landcolor\":\"#E5ECF6\",\"subunitcolor\":\"white\",\"showland\":true,\"showlakes\":true,\"lakecolor\":\"white\"},\"title\":{\"x\":0.05},\"mapbox\":{\"style\":\"light\"}}},\"title\":{\"text\":\"N\\u00famero total de partos realizados no SUS\"},\"legend\":{\"title\":{\"text\":\"Bi\\u00eanio\"}},\"updatemenus\":[{\"buttons\":[{\"args\":[{\"y\":[[22342,6267,16075,88380,43062,45318,22905,4716,18189,99961,28630,71331,325291,91326,233965,186380,72178,114202,61923,20920,41003,64477,28427,36050,87912,33194,54718,166273,34070,132203,60738,21613,39125,56567,24308,32259,330766,130590,200176,172131,61084,111047,85218,35500,49718,216873,83250,133623,178644,64582,114062,82420,33079,49341,67605,27924,39681,166710,64228,102482,187650,39323,148327,27414,9382,18032,9276,332,8944,100636,40784,59852,50836,11379,39457,618034,230432,387602,39769,14194,25575],[16191,7029,9162,80149,35599,44550,25285,7879,17406,112215,39183,73032,270824,90353,180471,159458,84752,74706,53514,20059,33455,61301,28897,32404,100650,48433,52217,161614,59297,102317,67660,29821,37839,54457,26658,27799,280215,122021,158194,159239,69141,90098,69823,33203,36620,198262,87879,110383,151410,50640,100770,67853,32156,35697,59410,30478,28932,166245,79867,86378,230593,82583,148010,29826,15060,14766,10892,1564,9328,99149,38964,60185,42863,12278,30585,592903,229684,363219,31812,14229,17583]]}],\"label\":\"Brasil\",\"method\":\"update\"},{\"args\":[{\"y\":[[22342,6267,16075],[16191,7029,9162]]}],\"label\":\"Acre\",\"method\":\"update\"},{\"args\":[{\"y\":[[88380,43062,45318],[80149,35599,44550]]}],\"label\":\"Alagoas\",\"method\":\"update\"},{\"args\":[{\"y\":[[22905,4716,18189],[25285,7879,17406]]}],\"label\":\"Amap\\u00e1\",\"method\":\"update\"},{\"args\":[{\"y\":[[99961,28630,71331],[112215,39183,73032]]}],\"label\":\"Amazonas\",\"method\":\"update\"},{\"args\":[{\"y\":[[325291,91326,233965],[270824,90353,180471]]}],\"label\":\"Bahia\",\"method\":\"update\"},{\"args\":[{\"y\":[[186380,72178,114202],[159458,84752,74706]]}],\"label\":\"Cear\\u00e1\",\"method\":\"update\"},{\"args\":[{\"y\":[[61923,20920,41003],[53514,20059,33455]]}],\"label\":\"Distrito Federal\",\"method\":\"update\"},{\"args\":[{\"y\":[[64477,28427,36050],[61301,28897,32404]]}],\"label\":\"Esp\\u00edrito Santo\",\"method\":\"update\"},{\"args\":[{\"y\":[[87912,33194,54718],[100650,48433,52217]]}],\"label\":\"Goi\\u00e1s\",\"method\":\"update\"},{\"args\":[{\"y\":[[166273,34070,132203],[161614,59297,102317]]}],\"label\":\"Maranh\\u00e3o\",\"method\":\"update\"},{\"args\":[{\"y\":[[60738,21613,39125],[67660,29821,37839]]}],\"label\":\"Mato Grosso\",\"method\":\"update\"},{\"args\":[{\"y\":[[56567,24308,32259],[54457,26658,27799]]}],\"label\":\"Mato Grosso do Sul\",\"method\":\"update\"},{\"args\":[{\"y\":[[330766,130590,200176],[280215,122021,158194]]}],\"label\":\"Minas Gerais\",\"method\":\"update\"},{\"args\":[{\"y\":[[172131,61084,111047],[159239,69141,90098]]}],\"label\":\"Paran\\u00e1\",\"method\":\"update\"},{\"args\":[{\"y\":[[85218,35500,49718],[69823,33203,36620]]}],\"label\":\"Para\\u00edba\",\"method\":\"update\"},{\"args\":[{\"y\":[[216873,83250,133623],[198262,87879,110383]]}],\"label\":\"Par\\u00e1\",\"method\":\"update\"},{\"args\":[{\"y\":[[178644,64582,114062],[151410,50640,100770]]}],\"label\":\"Pernambuco\",\"method\":\"update\"},{\"args\":[{\"y\":[[82420,33079,49341],[67853,32156,35697]]}],\"label\":\"Piau\\u00ed\",\"method\":\"update\"},{\"args\":[{\"y\":[[67605,27924,39681],[59410,30478,28932]]}],\"label\":\"Rio Grande do Norte\",\"method\":\"update\"},{\"args\":[{\"y\":[[166710,64228,102482],[166245,79867,86378]]}],\"label\":\"Rio Grande do Sul\",\"method\":\"update\"},{\"args\":[{\"y\":[[187650,39323,148327],[230593,82583,148010]]}],\"label\":\"Rio de Janeiro\",\"method\":\"update\"},{\"args\":[{\"y\":[[27414,9382,18032],[29826,15060,14766]]}],\"label\":\"Rond\\u00f4nia\",\"method\":\"update\"},{\"args\":[{\"y\":[[9276,332,8944],[10892,1564,9328]]}],\"label\":\"Roraima\",\"method\":\"update\"},{\"args\":[{\"y\":[[100636,40784,59852],[99149,38964,60185]]}],\"label\":\"Santa Catarina\",\"method\":\"update\"},{\"args\":[{\"y\":[[50836,11379,39457],[42863,12278,30585]]}],\"label\":\"Sergipe\",\"method\":\"update\"},{\"args\":[{\"y\":[[618034,230432,387602],[592903,229684,363219]]}],\"label\":\"S\\u00e3o Paulo\",\"method\":\"update\"},{\"args\":[{\"y\":[[39769,14194,25575],[31812,14229,17583]]}],\"label\":\"Tocantins\",\"method\":\"update\"}],\"direction\":\"down\",\"showactive\":true}]},                        {\"responsive\": true}                    ).then(function(){\n",
       "                            \n",
       "var gd = document.getElementById('3bec90a3-73ca-4b0f-b3bd-c7a0c3e1ed5b');\n",
       "var x = new MutationObserver(function (mutations, observer) {{\n",
       "        var display = window.getComputedStyle(gd).display;\n",
       "        if (!display || display === 'none') {{\n",
       "            console.log([gd, 'removed!']);\n",
       "            Plotly.purge(gd);\n",
       "            observer.disconnect();\n",
       "        }}\n",
       "}});\n",
       "\n",
       "// Listen for the removal of the full notebook cells\n",
       "var notebookContainer = gd.closest('#notebook-container');\n",
       "if (notebookContainer) {{\n",
       "    x.observe(notebookContainer, {childList: true});\n",
       "}}\n",
       "\n",
       "// Listen for the clearing of the current output cell\n",
       "var outputEl = gd.closest('.output');\n",
       "if (outputEl) {{\n",
       "    x.observe(outputEl, {childList: true});\n",
       "}}\n",
       "\n",
       "                        })                };                });            </script>        </div>"
      ]
     },
     "metadata": {},
     "output_type": "display_data"
    }
   ],
   "source": [
    "df_uf = get_df_loc(df_proc_bienio[cols_proc], df_locs, loc='nome_uf')\n",
    "fig_uf = fig_count_partos(df_uf)\n",
    "fig_uf.show()"
   ]
  }
 ],
 "metadata": {
  "kernelspec": {
   "display_name": "Python 3.10.8 ('ds')",
   "language": "python",
   "name": "python3"
  },
  "language_info": {
   "codemirror_mode": {
    "name": "ipython",
    "version": 3
   },
   "file_extension": ".py",
   "mimetype": "text/x-python",
   "name": "python",
   "nbconvert_exporter": "python",
   "pygments_lexer": "ipython3",
   "version": "3.10.8"
  },
  "orig_nbformat": 4,
  "vscode": {
   "interpreter": {
    "hash": "3902879adb7e156379fff49c969605c5389810f940f2eed05f038a1fa7230cff"
   }
  }
 },
 "nbformat": 4,
 "nbformat_minor": 2
}
