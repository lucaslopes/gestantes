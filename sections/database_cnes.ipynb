{
 "cells": [
  {
   "cell_type": "raw",
   "metadata": {},
   "source": [
    "---\n",
    "title: \"CNES\"\n",
    "---"
   ]
  },
  {
   "cell_type": "code",
   "execution_count": 1,
   "metadata": {},
   "outputs": [
    {
     "data": {
      "text/html": [
       "<style type='text/css'>\n",
       ".datatable table.frame { margin-bottom: 0; }\n",
       ".datatable table.frame thead { border-bottom: none; }\n",
       ".datatable table.frame tr.coltypes td {  color: #FFFFFF;  line-height: 6px;  padding: 0 0.5em;}\n",
       ".datatable .bool    { background: #DDDD99; }\n",
       ".datatable .object  { background: #565656; }\n",
       ".datatable .int     { background: #5D9E5D; }\n",
       ".datatable .float   { background: #4040CC; }\n",
       ".datatable .str     { background: #CC4040; }\n",
       ".datatable .time    { background: #40CC40; }\n",
       ".datatable .row_index {  background: var(--jp-border-color3);  border-right: 1px solid var(--jp-border-color0);  color: var(--jp-ui-font-color3);  font-size: 9px;}\n",
       ".datatable .frame tbody td { text-align: left; }\n",
       ".datatable .frame tr.coltypes .row_index {  background: var(--jp-border-color0);}\n",
       ".datatable th:nth-child(2) { padding-left: 12px; }\n",
       ".datatable .hellipsis {  color: var(--jp-cell-editor-border-color);}\n",
       ".datatable .vellipsis {  background: var(--jp-layout-color0);  color: var(--jp-cell-editor-border-color);}\n",
       ".datatable .na {  color: var(--jp-cell-editor-border-color);  font-size: 80%;}\n",
       ".datatable .sp {  opacity: 0.25;}\n",
       ".datatable .footer { font-size: 9px; }\n",
       ".datatable .frame_dimensions {  background: var(--jp-border-color3);  border-top: 1px solid var(--jp-border-color0);  color: var(--jp-ui-font-color3);  display: inline-block;  opacity: 0.6;  padding: 1px 10px 1px 5px;}\n",
       "</style>\n"
      ],
      "text/plain": [
       "<IPython.core.display.HTML object>"
      ]
     },
     "metadata": {},
     "output_type": "display_data"
    }
   ],
   "source": [
    "import re\n",
    "import csv\n",
    "import time\n",
    "import numpy as np\n",
    "import pandas as pd\n",
    "from tqdm import tqdm\n",
    "from os import listdir\n",
    "from datatable import dt, f, by\n",
    "from bs4 import BeautifulSoup\n",
    "from selenium import webdriver\n",
    "from selenium.webdriver.common.by import By\n",
    "from selenium.webdriver.common.keys import Keys\n",
    "from selenium.webdriver.chrome.options import Options\n",
    "from utils import get_path, data_load, group_cols"
   ]
  },
  {
   "cell_type": "markdown",
   "metadata": {},
   "source": [
    "# Descrição"
   ]
  },
  {
   "cell_type": "markdown",
   "metadata": {},
   "source": [
    "Entre os desafios mais urgentes do Sistema Único de Saúde (SUS) estão a ampliação do acesso e a adequação dos serviços ofertados. No Brasil, as relações existentes entre regiões e redes de atenção à saúde indicam que o avanço do processo de regionalização do SUS pode interferir positivamente na oferta de ações de serviços de saúde, tornando-a mais eficiente e abrangente.\n",
    "\n",
    "[Saiba mais](https://www.resbr.net.br/apresentacao/)"
   ]
  },
  {
   "cell_type": "markdown",
   "metadata": {},
   "source": [
    "[Plataforma de acesso ao Banco de Indicadores](https://indicadores.resbr.net.br/view/)"
   ]
  },
  {
   "cell_type": "markdown",
   "metadata": {},
   "source": [
    "# Fontes de dados"
   ]
  },
  {
   "cell_type": "markdown",
   "metadata": {},
   "source": [
    "## SIH"
   ]
  },
  {
   "cell_type": "markdown",
   "metadata": {},
   "source": [
    "### Colunas da tabela"
   ]
  },
  {
   "cell_type": "code",
   "execution_count": 2,
   "metadata": {},
   "outputs": [],
   "source": [
    "cols_sih = [\n",
    "  'cnes',\n",
    "]"
   ]
  },
  {
   "cell_type": "code",
   "execution_count": 3,
   "metadata": {},
   "outputs": [
    {
     "data": {
      "text/html": [
       "<div class='datatable'>\n",
       "  <table class='frame'>\n",
       "  <thead>\n",
       "    <tr class='colnames'><td class='row_index'></td><th>cnes</th></tr>\n",
       "    <tr class='coltypes'><td class='row_index'></td><td class='int' title='int32'>&#x25AA;&#x25AA;&#x25AA;&#x25AA;</td></tr>\n",
       "  </thead>\n",
       "  <tbody>\n",
       "    <tr><td class='row_index'>0</td><td>2001020</td></tr>\n",
       "    <tr><td class='row_index'>1</td><td>2000733</td></tr>\n",
       "    <tr><td class='row_index'>2</td><td>2000733</td></tr>\n",
       "    <tr><td class='row_index'>3</td><td>2000733</td></tr>\n",
       "    <tr><td class='row_index'>4</td><td>2000733</td></tr>\n",
       "    <tr><td class='row_index'>5</td><td>2000733</td></tr>\n",
       "    <tr><td class='row_index'>6</td><td>2000733</td></tr>\n",
       "    <tr><td class='row_index'>7</td><td>2001020</td></tr>\n",
       "    <tr><td class='row_index'>8</td><td>2000733</td></tr>\n",
       "    <tr><td class='row_index'>9</td><td>2000733</td></tr>\n",
       "    <tr><td class='row_index'>10</td><td>2001020</td></tr>\n",
       "    <tr><td class='row_index'>11</td><td>2000733</td></tr>\n",
       "    <tr><td class='row_index'>12</td><td>2000733</td></tr>\n",
       "    <tr><td class='row_index'>13</td><td>2000733</td></tr>\n",
       "    <tr><td class='row_index'>14</td><td>2000733</td></tr>\n",
       "    <tr><td class='row_index'>&#x22EE;</td><td class='hellipsis'>&#x22EE;</td></tr>\n",
       "    <tr><td class='row_index'>17,106,396</td><td>2765640</td></tr>\n",
       "    <tr><td class='row_index'>17,106,397</td><td>2765640</td></tr>\n",
       "    <tr><td class='row_index'>17,106,398</td><td>2765640</td></tr>\n",
       "    <tr><td class='row_index'>17,106,399</td><td>2765640</td></tr>\n",
       "    <tr><td class='row_index'>17,106,400</td><td>2755149</td></tr>\n",
       "  </tbody>\n",
       "  </table>\n",
       "  <div class='footer'>\n",
       "    <div class='frame_dimensions'>17,106,401 rows &times; 1 column</div>\n",
       "  </div>\n",
       "</div>\n"
      ],
      "text/plain": [
       "<Frame#7f9a5b7dfde0 17106401x1>"
      ]
     },
     "execution_count": 3,
     "metadata": {},
     "output_type": "execute_result"
    }
   ],
   "source": [
    "path_sih = get_path('SIH', 'sih.jay')\n",
    "df_sih = dt.fread(path_sih)\n",
    "df_sih = df_sih[:, cols_sih]\n",
    "df_sih"
   ]
  },
  {
   "cell_type": "markdown",
   "metadata": {},
   "source": [
    "### Tabela agrupada"
   ]
  },
  {
   "cell_type": "code",
   "execution_count": 4,
   "metadata": {},
   "outputs": [
    {
     "data": {
      "text/html": [
       "<div class='datatable'>\n",
       "  <table class='frame'>\n",
       "  <thead>\n",
       "    <tr class='colnames'><td class='row_index'></td><th>cnes</th><th>count</th></tr>\n",
       "    <tr class='coltypes'><td class='row_index'></td><td class='int' title='int32'>&#x25AA;&#x25AA;&#x25AA;&#x25AA;</td><td class='int' title='int64'>&#x25AA;&#x25AA;&#x25AA;&#x25AA;&#x25AA;&#x25AA;&#x25AA;&#x25AA;</td></tr>\n",
       "  </thead>\n",
       "  <tbody>\n",
       "    <tr><td class='row_index'>0</td><td>2232</td><td>101955</td></tr>\n",
       "    <tr><td class='row_index'>1</td><td>3151794</td><td>75209</td></tr>\n",
       "    <tr><td class='row_index'>2</td><td>2323397</td><td>74712</td></tr>\n",
       "    <tr><td class='row_index'>3</td><td>2311682</td><td>64833</td></tr>\n",
       "    <tr><td class='row_index'>4</td><td>26794</td><td>63700</td></tr>\n",
       "    <tr><td class='row_index'>5</td><td>2020068</td><td>59613</td></tr>\n",
       "    <tr><td class='row_index'>6</td><td>6627595</td><td>58139</td></tr>\n",
       "    <tr><td class='row_index'>7</td><td>2799278</td><td>57750</td></tr>\n",
       "    <tr><td class='row_index'>8</td><td>10480</td><td>57201</td></tr>\n",
       "    <tr><td class='row_index'>9</td><td>2077388</td><td>57055</td></tr>\n",
       "    <tr><td class='row_index'>10</td><td>7011857</td><td>50402</td></tr>\n",
       "    <tr><td class='row_index'>11</td><td>6303153</td><td>48546</td></tr>\n",
       "    <tr><td class='row_index'>12</td><td>2755165</td><td>48341</td></tr>\n",
       "    <tr><td class='row_index'>13</td><td>2344882</td><td>48078</td></tr>\n",
       "    <tr><td class='row_index'>14</td><td>2079186</td><td>46585</td></tr>\n",
       "    <tr><td class='row_index'>&#x22EE;</td><td class='hellipsis'>&#x22EE;</td><td class='hellipsis'>&#x22EE;</td></tr>\n",
       "    <tr><td class='row_index'>4145</td><td>7320175</td><td>1</td></tr>\n",
       "    <tr><td class='row_index'>4146</td><td>7603029</td><td>1</td></tr>\n",
       "    <tr><td class='row_index'>4147</td><td>7621442</td><td>1</td></tr>\n",
       "    <tr><td class='row_index'>4148</td><td>7704364</td><td>1</td></tr>\n",
       "    <tr><td class='row_index'>4149</td><td>7743068</td><td>1</td></tr>\n",
       "  </tbody>\n",
       "  </table>\n",
       "  <div class='footer'>\n",
       "    <div class='frame_dimensions'>4150 rows &times; 2 columns</div>\n",
       "  </div>\n",
       "</div>\n"
      ],
      "text/plain": [
       "<Frame#7f9a5b7f0e70 4150x2>"
      ]
     },
     "execution_count": 4,
     "metadata": {},
     "output_type": "execute_result"
    }
   ],
   "source": [
    "df_sih = group_cols(df_sih, cols_sih).sort(-f.count)\n",
    "df_sih"
   ]
  },
  {
   "cell_type": "markdown",
   "metadata": {},
   "source": [
    "# Web Scrap"
   ]
  },
  {
   "cell_type": "code",
   "execution_count": 5,
   "metadata": {},
   "outputs": [],
   "source": [
    "def get_cnes_row(driver, url, cnes):\n",
    "  driver.get(url + cnes)\n",
    "  soup = BeautifulSoup(driver.page_source, 'html.parser')\n",
    "  dict_cols = dict()\n",
    "  columns = soup.find_all('td')\n",
    "  for col in columns[:-1]:\n",
    "    c_names = re.findall(\"'([^']+)'\", col['data-title'])\n",
    "    c_name = c_names[0] if len(c_names) == 1 else c_names[1] # {1: 'Nome Fantasia', 2: 'Nome Empresarial'}\n",
    "    value = re.findall(\"\\\\t{3}(.+)\\\\n\", col.contents[0])\n",
    "    dict_cols[c_name] = value\n",
    "  df = pd.DataFrame.from_dict(dict_cols)\n",
    "  return df"
   ]
  },
  {
   "cell_type": "code",
   "execution_count": 6,
   "metadata": {},
   "outputs": [
    {
     "name": "stderr",
     "output_type": "stream",
     "text": [
      "/var/folders/9d/972tfrtd01z2hhl836z97zdr0000gn/T/ipykernel_58679/1031672721.py:4: DeprecationWarning:\n",
      "\n",
      "executable_path has been deprecated, please pass in a Service object\n",
      "\n"
     ]
    }
   ],
   "source": [
    "options = Options()\n",
    "options.add_argument('--headless')\n",
    "chromedriver = '/Users/lucas/Desktop/chromedriver'\n",
    "driver = webdriver.Chrome(chromedriver, options=options)"
   ]
  },
  {
   "cell_type": "code",
   "execution_count": null,
   "metadata": {},
   "outputs": [],
   "source": [
    "url = 'http://cnes.datasus.gov.br/pages/estabelecimentos/consulta.jsp?search='"
   ]
  },
  {
   "cell_type": "code",
   "execution_count": 7,
   "metadata": {},
   "outputs": [
    {
     "name": "stderr",
     "output_type": "stream",
     "text": [
      "100%|██████████| 4150/4150 [14:17<00:00,  4.84it/s]\n"
     ]
    },
    {
     "data": {
      "text/plain": [
       "4150"
      ]
     },
     "execution_count": 7,
     "metadata": {},
     "output_type": "execute_result"
    }
   ],
   "source": [
    "cnes_list = [('0' * 7 + str(c))[-7:] for c in df_sih['cnes'].to_list()[0]]\n",
    "dfs = [get_cnes_row(driver, url, cnes) for cnes in tqdm(cnes_list)]\n",
    "len(dfs)"
   ]
  },
  {
   "cell_type": "markdown",
   "metadata": {},
   "source": [
    "100%|██████████| 4150/4150 [14:17<00:00,  4.84it/s]"
   ]
  },
  {
   "cell_type": "markdown",
   "metadata": {},
   "source": [
    "# Gerando tabela"
   ]
  },
  {
   "cell_type": "markdown",
   "metadata": {},
   "source": [
    "## CNES coletados"
   ]
  },
  {
   "cell_type": "code",
   "execution_count": 8,
   "metadata": {},
   "outputs": [
    {
     "data": {
      "text/html": [
       "<div>\n",
       "<style scoped>\n",
       "    .dataframe tbody tr th:only-of-type {\n",
       "        vertical-align: middle;\n",
       "    }\n",
       "\n",
       "    .dataframe tbody tr th {\n",
       "        vertical-align: top;\n",
       "    }\n",
       "\n",
       "    .dataframe thead th {\n",
       "        text-align: right;\n",
       "    }\n",
       "</style>\n",
       "<table border=\"1\" class=\"dataframe\">\n",
       "  <thead>\n",
       "    <tr style=\"text-align: right;\">\n",
       "      <th></th>\n",
       "      <th>cnes</th>\n",
       "      <th>collected</th>\n",
       "    </tr>\n",
       "  </thead>\n",
       "  <tbody>\n",
       "    <tr>\n",
       "      <th>0</th>\n",
       "      <td>0002232</td>\n",
       "      <td>True</td>\n",
       "    </tr>\n",
       "    <tr>\n",
       "      <th>1</th>\n",
       "      <td>3151794</td>\n",
       "      <td>True</td>\n",
       "    </tr>\n",
       "    <tr>\n",
       "      <th>2</th>\n",
       "      <td>2323397</td>\n",
       "      <td>True</td>\n",
       "    </tr>\n",
       "    <tr>\n",
       "      <th>3</th>\n",
       "      <td>2311682</td>\n",
       "      <td>True</td>\n",
       "    </tr>\n",
       "    <tr>\n",
       "      <th>4</th>\n",
       "      <td>0026794</td>\n",
       "      <td>True</td>\n",
       "    </tr>\n",
       "    <tr>\n",
       "      <th>...</th>\n",
       "      <td>...</td>\n",
       "      <td>...</td>\n",
       "    </tr>\n",
       "    <tr>\n",
       "      <th>4145</th>\n",
       "      <td>7320175</td>\n",
       "      <td>True</td>\n",
       "    </tr>\n",
       "    <tr>\n",
       "      <th>4146</th>\n",
       "      <td>7603029</td>\n",
       "      <td>True</td>\n",
       "    </tr>\n",
       "    <tr>\n",
       "      <th>4147</th>\n",
       "      <td>7621442</td>\n",
       "      <td>True</td>\n",
       "    </tr>\n",
       "    <tr>\n",
       "      <th>4148</th>\n",
       "      <td>7704364</td>\n",
       "      <td>True</td>\n",
       "    </tr>\n",
       "    <tr>\n",
       "      <th>4149</th>\n",
       "      <td>7743068</td>\n",
       "      <td>True</td>\n",
       "    </tr>\n",
       "  </tbody>\n",
       "</table>\n",
       "<p>4150 rows × 2 columns</p>\n",
       "</div>"
      ],
      "text/plain": [
       "         cnes  collected\n",
       "0     0002232       True\n",
       "1     3151794       True\n",
       "2     2323397       True\n",
       "3     2311682       True\n",
       "4     0026794       True\n",
       "...       ...        ...\n",
       "4145  7320175       True\n",
       "4146  7603029       True\n",
       "4147  7621442       True\n",
       "4148  7704364       True\n",
       "4149  7743068       True\n",
       "\n",
       "[4150 rows x 2 columns]"
      ]
     },
     "execution_count": 8,
     "metadata": {},
     "output_type": "execute_result"
    }
   ],
   "source": [
    "df_cnes_collect = pd.DataFrame()\n",
    "df_cnes_collect['cnes'] = cnes_list\n",
    "df_cnes_collect['collected'] = [len(df) ==  1 for df in dfs]\n",
    "df_cnes_collect"
   ]
  },
  {
   "cell_type": "code",
   "execution_count": 18,
   "metadata": {},
   "outputs": [
    {
     "name": "stdout",
     "output_type": "stream",
     "text": [
      "Collected 3928 cnes from 4150 (0.95%)\n"
     ]
    }
   ],
   "source": [
    "n_cnes = df_cnes_collect.shape[0]\n",
    "n_collected = df_cnes_collect[df_cnes_collect['collected'] == True].shape[0]\n",
    "percent_clct = n_collected / n_cnes\n",
    "print(f'Collected {n_collected} cnes from {n_cnes} ({percent_clct:.2f}%)')"
   ]
  },
  {
   "cell_type": "markdown",
   "metadata": {},
   "source": [
    "## Concatenando tabelas"
   ]
  },
  {
   "cell_type": "markdown",
   "metadata": {},
   "source": [
    "Concatenação das tabelas em uma"
   ]
  },
  {
   "cell_type": "code",
   "execution_count": 9,
   "metadata": {},
   "outputs": [
    {
     "data": {
      "text/html": [
       "<div>\n",
       "<style scoped>\n",
       "    .dataframe tbody tr th:only-of-type {\n",
       "        vertical-align: middle;\n",
       "    }\n",
       "\n",
       "    .dataframe tbody tr th {\n",
       "        vertical-align: top;\n",
       "    }\n",
       "\n",
       "    .dataframe thead th {\n",
       "        text-align: right;\n",
       "    }\n",
       "</style>\n",
       "<table border=\"1\" class=\"dataframe\">\n",
       "  <thead>\n",
       "    <tr style=\"text-align: right;\">\n",
       "      <th></th>\n",
       "      <th>UF</th>\n",
       "      <th>Município</th>\n",
       "      <th>CNES</th>\n",
       "      <th>Nome Fantasia</th>\n",
       "      <th>Natureza Jurídica(Grupo)</th>\n",
       "      <th>Gestão</th>\n",
       "      <th>Atende SUS</th>\n",
       "    </tr>\n",
       "  </thead>\n",
       "  <tbody>\n",
       "    <tr>\n",
       "      <th>0</th>\n",
       "      <td>SE</td>\n",
       "      <td>ARACAJU</td>\n",
       "      <td>0002232</td>\n",
       "      <td>HOSPITAL E MATERNIDADE SANTA IZABEL</td>\n",
       "      <td>ENTIDADES SEM FINS LUCRATIVOS</td>\n",
       "      <td>M</td>\n",
       "      <td>SIM</td>\n",
       "    </tr>\n",
       "    <tr>\n",
       "      <th>0</th>\n",
       "      <td>AM</td>\n",
       "      <td>MANAUS</td>\n",
       "      <td>3151794</td>\n",
       "      <td>MATERNIDADE DE REFERENCIA ANA BRAGA</td>\n",
       "      <td>ADMINISTRAÇÃO PÚBLICA</td>\n",
       "      <td>E</td>\n",
       "      <td>SIM</td>\n",
       "    </tr>\n",
       "    <tr>\n",
       "      <th>0</th>\n",
       "      <td>PI</td>\n",
       "      <td>TERESINA</td>\n",
       "      <td>2323397</td>\n",
       "      <td>MATERNIDADE DONA EVANGELINA ROSA</td>\n",
       "      <td>ADMINISTRAÇÃO PÚBLICA</td>\n",
       "      <td>M</td>\n",
       "      <td>SIM</td>\n",
       "    </tr>\n",
       "    <tr>\n",
       "      <th>0</th>\n",
       "      <td>MT</td>\n",
       "      <td>CUIABA</td>\n",
       "      <td>2311682</td>\n",
       "      <td>HOSPITAL SANTA HELENA</td>\n",
       "      <td>ENTIDADES SEM FINS LUCRATIVOS</td>\n",
       "      <td>M</td>\n",
       "      <td>SIM</td>\n",
       "    </tr>\n",
       "    <tr>\n",
       "      <th>0</th>\n",
       "      <td>MG</td>\n",
       "      <td>BELO HORIZONTE</td>\n",
       "      <td>0026794</td>\n",
       "      <td>HOSPITAL SOFIA FELDMAN</td>\n",
       "      <td>ENTIDADES SEM FINS LUCRATIVOS</td>\n",
       "      <td>M</td>\n",
       "      <td>SIM</td>\n",
       "    </tr>\n",
       "    <tr>\n",
       "      <th>...</th>\n",
       "      <td>...</td>\n",
       "      <td>...</td>\n",
       "      <td>...</td>\n",
       "      <td>...</td>\n",
       "      <td>...</td>\n",
       "      <td>...</td>\n",
       "      <td>...</td>\n",
       "    </tr>\n",
       "    <tr>\n",
       "      <th>0</th>\n",
       "      <td>SP</td>\n",
       "      <td>SAO MIGUEL ARCANJO</td>\n",
       "      <td>7320175</td>\n",
       "      <td>HOSPITAL SAO MIGUEL ARCANJO</td>\n",
       "      <td>ENTIDADES SEM FINS LUCRATIVOS</td>\n",
       "      <td>M</td>\n",
       "      <td>SIM</td>\n",
       "    </tr>\n",
       "    <tr>\n",
       "      <th>0</th>\n",
       "      <td>MA</td>\n",
       "      <td>BOA VISTA DO GURUPI</td>\n",
       "      <td>7603029</td>\n",
       "      <td>HOSPITAL MUNICIPAL LENILDE OLIVEIRA</td>\n",
       "      <td>ADMINISTRAÇÃO PÚBLICA</td>\n",
       "      <td>M</td>\n",
       "      <td>SIM</td>\n",
       "    </tr>\n",
       "    <tr>\n",
       "      <th>0</th>\n",
       "      <td>ES</td>\n",
       "      <td>VITORIA</td>\n",
       "      <td>7621442</td>\n",
       "      <td>HOSPITAL ESTADUAL DE URGENCIA E EMERGENCIA</td>\n",
       "      <td>ADMINISTRAÇÃO PÚBLICA</td>\n",
       "      <td>E</td>\n",
       "      <td>SIM</td>\n",
       "    </tr>\n",
       "    <tr>\n",
       "      <th>0</th>\n",
       "      <td>RO</td>\n",
       "      <td>CACOAL</td>\n",
       "      <td>7704364</td>\n",
       "      <td>HOSPITAL DE URGENCIA E EMERGENCIA REGIONAL DE ...</td>\n",
       "      <td>ADMINISTRAÇÃO PÚBLICA</td>\n",
       "      <td>E</td>\n",
       "      <td>SIM</td>\n",
       "    </tr>\n",
       "    <tr>\n",
       "      <th>0</th>\n",
       "      <td>GO</td>\n",
       "      <td>GOIANIA</td>\n",
       "      <td>7743068</td>\n",
       "      <td>HOSPITAL ESTADUAL DE URGENCIAS GOV OTAVIO LAG ...</td>\n",
       "      <td>ADMINISTRAÇÃO PÚBLICA</td>\n",
       "      <td>E</td>\n",
       "      <td>SIM</td>\n",
       "    </tr>\n",
       "  </tbody>\n",
       "</table>\n",
       "<p>3928 rows × 7 columns</p>\n",
       "</div>"
      ],
      "text/plain": [
       "    UF            Município     CNES  \\\n",
       "0   SE              ARACAJU  0002232   \n",
       "0   AM               MANAUS  3151794   \n",
       "0   PI             TERESINA  2323397   \n",
       "0   MT               CUIABA  2311682   \n",
       "0   MG       BELO HORIZONTE  0026794   \n",
       "..  ..                  ...      ...   \n",
       "0   SP   SAO MIGUEL ARCANJO  7320175   \n",
       "0   MA  BOA VISTA DO GURUPI  7603029   \n",
       "0   ES              VITORIA  7621442   \n",
       "0   RO               CACOAL  7704364   \n",
       "0   GO              GOIANIA  7743068   \n",
       "\n",
       "                                        Nome Fantasia  \\\n",
       "0                 HOSPITAL E MATERNIDADE SANTA IZABEL   \n",
       "0                 MATERNIDADE DE REFERENCIA ANA BRAGA   \n",
       "0                    MATERNIDADE DONA EVANGELINA ROSA   \n",
       "0                               HOSPITAL SANTA HELENA   \n",
       "0                              HOSPITAL SOFIA FELDMAN   \n",
       "..                                                ...   \n",
       "0                         HOSPITAL SAO MIGUEL ARCANJO   \n",
       "0                 HOSPITAL MUNICIPAL LENILDE OLIVEIRA   \n",
       "0          HOSPITAL ESTADUAL DE URGENCIA E EMERGENCIA   \n",
       "0   HOSPITAL DE URGENCIA E EMERGENCIA REGIONAL DE ...   \n",
       "0   HOSPITAL ESTADUAL DE URGENCIAS GOV OTAVIO LAG ...   \n",
       "\n",
       "         Natureza Jurídica(Grupo) Gestão Atende SUS  \n",
       "0   ENTIDADES SEM FINS LUCRATIVOS      M        SIM  \n",
       "0           ADMINISTRAÇÃO PÚBLICA      E        SIM  \n",
       "0           ADMINISTRAÇÃO PÚBLICA      M        SIM  \n",
       "0   ENTIDADES SEM FINS LUCRATIVOS      M        SIM  \n",
       "0   ENTIDADES SEM FINS LUCRATIVOS      M        SIM  \n",
       "..                            ...    ...        ...  \n",
       "0   ENTIDADES SEM FINS LUCRATIVOS      M        SIM  \n",
       "0           ADMINISTRAÇÃO PÚBLICA      M        SIM  \n",
       "0           ADMINISTRAÇÃO PÚBLICA      E        SIM  \n",
       "0           ADMINISTRAÇÃO PÚBLICA      E        SIM  \n",
       "0           ADMINISTRAÇÃO PÚBLICA      E        SIM  \n",
       "\n",
       "[3928 rows x 7 columns]"
      ]
     },
     "execution_count": 9,
     "metadata": {},
     "output_type": "execute_result"
    }
   ],
   "source": [
    "df_cnes = pd.concat([df for df in dfs if len(df) ==  1])\n",
    "df_cnes"
   ]
  },
  {
   "cell_type": "markdown",
   "metadata": {},
   "source": [
    "## CNES não atendem SUS"
   ]
  },
  {
   "cell_type": "markdown",
   "metadata": {},
   "source": [
    "### Quantidade dos que atendem"
   ]
  },
  {
   "cell_type": "code",
   "execution_count": 19,
   "metadata": {},
   "outputs": [
    {
     "data": {
      "text/plain": [
       "SIM    3814\n",
       "NÃO     114\n",
       "Name: Atende SUS, dtype: int64"
      ]
     },
     "execution_count": 19,
     "metadata": {},
     "output_type": "execute_result"
    }
   ],
   "source": [
    "df_cnes['Atende SUS'].value_counts()"
   ]
  },
  {
   "cell_type": "markdown",
   "metadata": {},
   "source": [
    "### Os que não antendem"
   ]
  },
  {
   "cell_type": "code",
   "execution_count": 27,
   "metadata": {},
   "outputs": [
    {
     "data": {
      "text/html": [
       "<div>\n",
       "<style scoped>\n",
       "    .dataframe tbody tr th:only-of-type {\n",
       "        vertical-align: middle;\n",
       "    }\n",
       "\n",
       "    .dataframe tbody tr th {\n",
       "        vertical-align: top;\n",
       "    }\n",
       "\n",
       "    .dataframe thead th {\n",
       "        text-align: right;\n",
       "    }\n",
       "</style>\n",
       "<table border=\"1\" class=\"dataframe\">\n",
       "  <thead>\n",
       "    <tr style=\"text-align: right;\">\n",
       "      <th></th>\n",
       "      <th>UF</th>\n",
       "      <th>Município</th>\n",
       "      <th>CNES</th>\n",
       "      <th>Nome Fantasia</th>\n",
       "      <th>Natureza Jurídica(Grupo)</th>\n",
       "      <th>Gestão</th>\n",
       "      <th>Atende SUS</th>\n",
       "    </tr>\n",
       "  </thead>\n",
       "  <tbody>\n",
       "    <tr>\n",
       "      <th>0</th>\n",
       "      <td>AL</td>\n",
       "      <td>MACEIO</td>\n",
       "      <td>2808889</td>\n",
       "      <td>HOSPITAL SAO RAFAEL</td>\n",
       "      <td>ENTIDADES EMPRESARIAIS</td>\n",
       "      <td>M</td>\n",
       "      <td>NÃO</td>\n",
       "    </tr>\n",
       "    <tr>\n",
       "      <th>0</th>\n",
       "      <td>AL</td>\n",
       "      <td>MACEIO</td>\n",
       "      <td>6782477</td>\n",
       "      <td>HOSPITAL GERAL E MATERNIDADE ALERTA MEDICO</td>\n",
       "      <td>ENTIDADES EMPRESARIAIS</td>\n",
       "      <td>M</td>\n",
       "      <td>NÃO</td>\n",
       "    </tr>\n",
       "    <tr>\n",
       "      <th>0</th>\n",
       "      <td>BA</td>\n",
       "      <td>IBIPEBA</td>\n",
       "      <td>2412985</td>\n",
       "      <td>HOSPITAL BOM JESUS DE NAZARE</td>\n",
       "      <td>ENTIDADES EMPRESARIAIS</td>\n",
       "      <td>E</td>\n",
       "      <td>NÃO</td>\n",
       "    </tr>\n",
       "    <tr>\n",
       "      <th>0</th>\n",
       "      <td>BA</td>\n",
       "      <td>IBIRATAIA</td>\n",
       "      <td>2413051</td>\n",
       "      <td>MATERNIDADE AURELINA VIRGILIA FAIR</td>\n",
       "      <td>ENTIDADES SEM FINS LUCRATIVOS</td>\n",
       "      <td>M</td>\n",
       "      <td>NÃO</td>\n",
       "    </tr>\n",
       "    <tr>\n",
       "      <th>0</th>\n",
       "      <td>BA</td>\n",
       "      <td>EUNAPOLIS</td>\n",
       "      <td>2556642</td>\n",
       "      <td>HOSPITAL E MATERNIDADE DE EUNAPOLIS</td>\n",
       "      <td>ENTIDADES EMPRESARIAIS</td>\n",
       "      <td>M</td>\n",
       "      <td>NÃO</td>\n",
       "    </tr>\n",
       "    <tr>\n",
       "      <th>...</th>\n",
       "      <td>...</td>\n",
       "      <td>...</td>\n",
       "      <td>...</td>\n",
       "      <td>...</td>\n",
       "      <td>...</td>\n",
       "      <td>...</td>\n",
       "      <td>...</td>\n",
       "    </tr>\n",
       "    <tr>\n",
       "      <th>0</th>\n",
       "      <td>SP</td>\n",
       "      <td>MORUNGABA</td>\n",
       "      <td>2026392</td>\n",
       "      <td>HOSPITAL SANTO ANTONIO</td>\n",
       "      <td>ENTIDADES EMPRESARIAIS</td>\n",
       "      <td>M</td>\n",
       "      <td>NÃO</td>\n",
       "    </tr>\n",
       "    <tr>\n",
       "      <th>0</th>\n",
       "      <td>SP</td>\n",
       "      <td>CAIEIRAS</td>\n",
       "      <td>6817203</td>\n",
       "      <td>HOSPITAL DE CLINICAS CAIEIRAS</td>\n",
       "      <td>ENTIDADES EMPRESARIAIS</td>\n",
       "      <td>M</td>\n",
       "      <td>NÃO</td>\n",
       "    </tr>\n",
       "    <tr>\n",
       "      <th>0</th>\n",
       "      <td>SP</td>\n",
       "      <td>SAO PAULO</td>\n",
       "      <td>2076934</td>\n",
       "      <td>HOSPITAL SOROCABANA</td>\n",
       "      <td>ENTIDADES SEM FINS LUCRATIVOS</td>\n",
       "      <td>M</td>\n",
       "      <td>NÃO</td>\n",
       "    </tr>\n",
       "    <tr>\n",
       "      <th>0</th>\n",
       "      <td>SP</td>\n",
       "      <td>TUPA</td>\n",
       "      <td>2080672</td>\n",
       "      <td>HOSPITAL SAO FRANCISCO TUPA</td>\n",
       "      <td>ENTIDADES SEM FINS LUCRATIVOS</td>\n",
       "      <td>M</td>\n",
       "      <td>NÃO</td>\n",
       "    </tr>\n",
       "    <tr>\n",
       "      <th>0</th>\n",
       "      <td>SP</td>\n",
       "      <td>TREMEMBE</td>\n",
       "      <td>2081326</td>\n",
       "      <td>HOSPITAL BOM JESUS DE TREMEMBE</td>\n",
       "      <td>ENTIDADES SEM FINS LUCRATIVOS</td>\n",
       "      <td>M</td>\n",
       "      <td>NÃO</td>\n",
       "    </tr>\n",
       "  </tbody>\n",
       "</table>\n",
       "<p>114 rows × 7 columns</p>\n",
       "</div>"
      ],
      "text/plain": [
       "    UF  Município     CNES                               Nome Fantasia  \\\n",
       "0   AL     MACEIO  2808889                         HOSPITAL SAO RAFAEL   \n",
       "0   AL     MACEIO  6782477  HOSPITAL GERAL E MATERNIDADE ALERTA MEDICO   \n",
       "0   BA    IBIPEBA  2412985                HOSPITAL BOM JESUS DE NAZARE   \n",
       "0   BA  IBIRATAIA  2413051          MATERNIDADE AURELINA VIRGILIA FAIR   \n",
       "0   BA  EUNAPOLIS  2556642         HOSPITAL E MATERNIDADE DE EUNAPOLIS   \n",
       "..  ..        ...      ...                                         ...   \n",
       "0   SP  MORUNGABA  2026392                      HOSPITAL SANTO ANTONIO   \n",
       "0   SP   CAIEIRAS  6817203               HOSPITAL DE CLINICAS CAIEIRAS   \n",
       "0   SP  SAO PAULO  2076934                         HOSPITAL SOROCABANA   \n",
       "0   SP       TUPA  2080672                 HOSPITAL SAO FRANCISCO TUPA   \n",
       "0   SP   TREMEMBE  2081326              HOSPITAL BOM JESUS DE TREMEMBE   \n",
       "\n",
       "         Natureza Jurídica(Grupo) Gestão Atende SUS  \n",
       "0          ENTIDADES EMPRESARIAIS      M        NÃO  \n",
       "0          ENTIDADES EMPRESARIAIS      M        NÃO  \n",
       "0          ENTIDADES EMPRESARIAIS      E        NÃO  \n",
       "0   ENTIDADES SEM FINS LUCRATIVOS      M        NÃO  \n",
       "0          ENTIDADES EMPRESARIAIS      M        NÃO  \n",
       "..                            ...    ...        ...  \n",
       "0          ENTIDADES EMPRESARIAIS      M        NÃO  \n",
       "0          ENTIDADES EMPRESARIAIS      M        NÃO  \n",
       "0   ENTIDADES SEM FINS LUCRATIVOS      M        NÃO  \n",
       "0   ENTIDADES SEM FINS LUCRATIVOS      M        NÃO  \n",
       "0   ENTIDADES SEM FINS LUCRATIVOS      M        NÃO  \n",
       "\n",
       "[114 rows x 7 columns]"
      ]
     },
     "execution_count": 27,
     "metadata": {},
     "output_type": "execute_result"
    }
   ],
   "source": [
    "df_not_sus = df_cnes[df_cnes['Atende SUS'] == 'NÃO']\n",
    "df_not_sus =  df_not_sus.sort_values(by='UF')\n",
    "df_not_sus"
   ]
  },
  {
   "cell_type": "markdown",
   "metadata": {},
   "source": [
    "### UF"
   ]
  },
  {
   "cell_type": "code",
   "execution_count": 26,
   "metadata": {},
   "outputs": [
    {
     "data": {
      "text/plain": [
       "PA    18\n",
       "BA    15\n",
       "PR    14\n",
       "GO    10\n",
       "RJ     8\n",
       "PE     8\n",
       "CE     6\n",
       "SP     5\n",
       "MT     5\n",
       "MS     4\n",
       "MA     4\n",
       "MG     4\n",
       "PI     3\n",
       "ES     2\n",
       "RN     2\n",
       "AL     2\n",
       "SE     1\n",
       "RS     1\n",
       "PB     1\n",
       "DF     1\n",
       "Name: UF, dtype: int64"
      ]
     },
     "execution_count": 26,
     "metadata": {},
     "output_type": "execute_result"
    }
   ],
   "source": [
    "df_not_sus['UF'].value_counts()"
   ]
  },
  {
   "cell_type": "markdown",
   "metadata": {},
   "source": [
    "### Natureza Jurídica(Grupo)"
   ]
  },
  {
   "cell_type": "code",
   "execution_count": 23,
   "metadata": {},
   "outputs": [
    {
     "data": {
      "text/plain": [
       "ENTIDADES EMPRESARIAIS           95\n",
       "ENTIDADES SEM FINS LUCRATIVOS    17\n",
       "ADMINISTRAÇÃO PÚBLICA             2\n",
       "Name: Natureza Jurídica(Grupo), dtype: int64"
      ]
     },
     "execution_count": 23,
     "metadata": {},
     "output_type": "execute_result"
    }
   ],
   "source": [
    "df_not_sus['Natureza Jurídica(Grupo)'].value_counts()"
   ]
  },
  {
   "cell_type": "markdown",
   "metadata": {},
   "source": [
    "# Exportando tabela"
   ]
  },
  {
   "cell_type": "code",
   "execution_count": 10,
   "metadata": {},
   "outputs": [],
   "source": [
    "path_cnes = get_path('LOCALIDADES', 'cnes.csv.gzip')\n",
    "df_cnes.to_csv(path_cnes, index=False)"
   ]
  },
  {
   "cell_type": "code",
   "execution_count": 11,
   "metadata": {},
   "outputs": [
    {
     "data": {
      "text/html": [
       "<div>\n",
       "<style scoped>\n",
       "    .dataframe tbody tr th:only-of-type {\n",
       "        vertical-align: middle;\n",
       "    }\n",
       "\n",
       "    .dataframe tbody tr th {\n",
       "        vertical-align: top;\n",
       "    }\n",
       "\n",
       "    .dataframe thead th {\n",
       "        text-align: right;\n",
       "    }\n",
       "</style>\n",
       "<table border=\"1\" class=\"dataframe\">\n",
       "  <thead>\n",
       "    <tr style=\"text-align: right;\">\n",
       "      <th></th>\n",
       "      <th>UF</th>\n",
       "      <th>Município</th>\n",
       "      <th>CNES</th>\n",
       "      <th>Nome Fantasia</th>\n",
       "      <th>Natureza Jurídica(Grupo)</th>\n",
       "      <th>Gestão</th>\n",
       "      <th>Atende SUS</th>\n",
       "    </tr>\n",
       "  </thead>\n",
       "  <tbody>\n",
       "    <tr>\n",
       "      <th>0</th>\n",
       "      <td>SE</td>\n",
       "      <td>ARACAJU</td>\n",
       "      <td>2232</td>\n",
       "      <td>HOSPITAL E MATERNIDADE SANTA IZABEL</td>\n",
       "      <td>ENTIDADES SEM FINS LUCRATIVOS</td>\n",
       "      <td>M</td>\n",
       "      <td>SIM</td>\n",
       "    </tr>\n",
       "    <tr>\n",
       "      <th>1</th>\n",
       "      <td>AM</td>\n",
       "      <td>MANAUS</td>\n",
       "      <td>3151794</td>\n",
       "      <td>MATERNIDADE DE REFERENCIA ANA BRAGA</td>\n",
       "      <td>ADMINISTRAÇÃO PÚBLICA</td>\n",
       "      <td>E</td>\n",
       "      <td>SIM</td>\n",
       "    </tr>\n",
       "    <tr>\n",
       "      <th>2</th>\n",
       "      <td>PI</td>\n",
       "      <td>TERESINA</td>\n",
       "      <td>2323397</td>\n",
       "      <td>MATERNIDADE DONA EVANGELINA ROSA</td>\n",
       "      <td>ADMINISTRAÇÃO PÚBLICA</td>\n",
       "      <td>M</td>\n",
       "      <td>SIM</td>\n",
       "    </tr>\n",
       "    <tr>\n",
       "      <th>3</th>\n",
       "      <td>MT</td>\n",
       "      <td>CUIABA</td>\n",
       "      <td>2311682</td>\n",
       "      <td>HOSPITAL SANTA HELENA</td>\n",
       "      <td>ENTIDADES SEM FINS LUCRATIVOS</td>\n",
       "      <td>M</td>\n",
       "      <td>SIM</td>\n",
       "    </tr>\n",
       "    <tr>\n",
       "      <th>4</th>\n",
       "      <td>MG</td>\n",
       "      <td>BELO HORIZONTE</td>\n",
       "      <td>26794</td>\n",
       "      <td>HOSPITAL SOFIA FELDMAN</td>\n",
       "      <td>ENTIDADES SEM FINS LUCRATIVOS</td>\n",
       "      <td>M</td>\n",
       "      <td>SIM</td>\n",
       "    </tr>\n",
       "    <tr>\n",
       "      <th>...</th>\n",
       "      <td>...</td>\n",
       "      <td>...</td>\n",
       "      <td>...</td>\n",
       "      <td>...</td>\n",
       "      <td>...</td>\n",
       "      <td>...</td>\n",
       "      <td>...</td>\n",
       "    </tr>\n",
       "    <tr>\n",
       "      <th>3923</th>\n",
       "      <td>SP</td>\n",
       "      <td>SAO MIGUEL ARCANJO</td>\n",
       "      <td>7320175</td>\n",
       "      <td>HOSPITAL SAO MIGUEL ARCANJO</td>\n",
       "      <td>ENTIDADES SEM FINS LUCRATIVOS</td>\n",
       "      <td>M</td>\n",
       "      <td>SIM</td>\n",
       "    </tr>\n",
       "    <tr>\n",
       "      <th>3924</th>\n",
       "      <td>MA</td>\n",
       "      <td>BOA VISTA DO GURUPI</td>\n",
       "      <td>7603029</td>\n",
       "      <td>HOSPITAL MUNICIPAL LENILDE OLIVEIRA</td>\n",
       "      <td>ADMINISTRAÇÃO PÚBLICA</td>\n",
       "      <td>M</td>\n",
       "      <td>SIM</td>\n",
       "    </tr>\n",
       "    <tr>\n",
       "      <th>3925</th>\n",
       "      <td>ES</td>\n",
       "      <td>VITORIA</td>\n",
       "      <td>7621442</td>\n",
       "      <td>HOSPITAL ESTADUAL DE URGENCIA E EMERGENCIA</td>\n",
       "      <td>ADMINISTRAÇÃO PÚBLICA</td>\n",
       "      <td>E</td>\n",
       "      <td>SIM</td>\n",
       "    </tr>\n",
       "    <tr>\n",
       "      <th>3926</th>\n",
       "      <td>RO</td>\n",
       "      <td>CACOAL</td>\n",
       "      <td>7704364</td>\n",
       "      <td>HOSPITAL DE URGENCIA E EMERGENCIA REGIONAL DE ...</td>\n",
       "      <td>ADMINISTRAÇÃO PÚBLICA</td>\n",
       "      <td>E</td>\n",
       "      <td>SIM</td>\n",
       "    </tr>\n",
       "    <tr>\n",
       "      <th>3927</th>\n",
       "      <td>GO</td>\n",
       "      <td>GOIANIA</td>\n",
       "      <td>7743068</td>\n",
       "      <td>HOSPITAL ESTADUAL DE URGENCIAS GOV OTAVIO LAG ...</td>\n",
       "      <td>ADMINISTRAÇÃO PÚBLICA</td>\n",
       "      <td>E</td>\n",
       "      <td>SIM</td>\n",
       "    </tr>\n",
       "  </tbody>\n",
       "</table>\n",
       "<p>3928 rows × 7 columns</p>\n",
       "</div>"
      ],
      "text/plain": [
       "      UF            Município     CNES  \\\n",
       "0     SE              ARACAJU     2232   \n",
       "1     AM               MANAUS  3151794   \n",
       "2     PI             TERESINA  2323397   \n",
       "3     MT               CUIABA  2311682   \n",
       "4     MG       BELO HORIZONTE    26794   \n",
       "...   ..                  ...      ...   \n",
       "3923  SP   SAO MIGUEL ARCANJO  7320175   \n",
       "3924  MA  BOA VISTA DO GURUPI  7603029   \n",
       "3925  ES              VITORIA  7621442   \n",
       "3926  RO               CACOAL  7704364   \n",
       "3927  GO              GOIANIA  7743068   \n",
       "\n",
       "                                          Nome Fantasia  \\\n",
       "0                   HOSPITAL E MATERNIDADE SANTA IZABEL   \n",
       "1                   MATERNIDADE DE REFERENCIA ANA BRAGA   \n",
       "2                      MATERNIDADE DONA EVANGELINA ROSA   \n",
       "3                                 HOSPITAL SANTA HELENA   \n",
       "4                                HOSPITAL SOFIA FELDMAN   \n",
       "...                                                 ...   \n",
       "3923                        HOSPITAL SAO MIGUEL ARCANJO   \n",
       "3924                HOSPITAL MUNICIPAL LENILDE OLIVEIRA   \n",
       "3925         HOSPITAL ESTADUAL DE URGENCIA E EMERGENCIA   \n",
       "3926  HOSPITAL DE URGENCIA E EMERGENCIA REGIONAL DE ...   \n",
       "3927  HOSPITAL ESTADUAL DE URGENCIAS GOV OTAVIO LAG ...   \n",
       "\n",
       "           Natureza Jurídica(Grupo) Gestão Atende SUS  \n",
       "0     ENTIDADES SEM FINS LUCRATIVOS      M        SIM  \n",
       "1             ADMINISTRAÇÃO PÚBLICA      E        SIM  \n",
       "2             ADMINISTRAÇÃO PÚBLICA      M        SIM  \n",
       "3     ENTIDADES SEM FINS LUCRATIVOS      M        SIM  \n",
       "4     ENTIDADES SEM FINS LUCRATIVOS      M        SIM  \n",
       "...                             ...    ...        ...  \n",
       "3923  ENTIDADES SEM FINS LUCRATIVOS      M        SIM  \n",
       "3924          ADMINISTRAÇÃO PÚBLICA      M        SIM  \n",
       "3925          ADMINISTRAÇÃO PÚBLICA      E        SIM  \n",
       "3926          ADMINISTRAÇÃO PÚBLICA      E        SIM  \n",
       "3927          ADMINISTRAÇÃO PÚBLICA      E        SIM  \n",
       "\n",
       "[3928 rows x 7 columns]"
      ]
     },
     "execution_count": 11,
     "metadata": {},
     "output_type": "execute_result"
    }
   ],
   "source": [
    "pd.read_csv(path_cnes, low_memory=False)"
   ]
  }
 ],
 "metadata": {
  "kernelspec": {
   "display_name": "Python 3.9.13 ('ds')",
   "language": "python",
   "name": "python3"
  },
  "language_info": {
   "codemirror_mode": {
    "name": "ipython",
    "version": 3
   },
   "file_extension": ".py",
   "mimetype": "text/x-python",
   "name": "python",
   "nbconvert_exporter": "python",
   "pygments_lexer": "ipython3",
   "version": "3.9.13"
  },
  "orig_nbformat": 4,
  "vscode": {
   "interpreter": {
    "hash": "7b36953cec1b75a8b331280ff7f7e2e00c70540f1d612023ca05354bbeabec70"
   }
  }
 },
 "nbformat": 4,
 "nbformat_minor": 2
}
