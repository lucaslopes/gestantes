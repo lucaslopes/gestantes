{
 "cells": [
  {
   "cell_type": "raw",
   "metadata": {},
   "source": [
    "---\n",
    "title: \"Municípios\"\n",
    "---"
   ]
  },
  {
   "cell_type": "code",
   "execution_count": 1,
   "metadata": {},
   "outputs": [
    {
     "data": {
      "text/html": [
       "<style type='text/css'>\n",
       ".datatable table.frame { margin-bottom: 0; }\n",
       ".datatable table.frame thead { border-bottom: none; }\n",
       ".datatable table.frame tr.coltypes td {  color: #FFFFFF;  line-height: 6px;  padding: 0 0.5em;}\n",
       ".datatable .bool    { background: #DDDD99; }\n",
       ".datatable .object  { background: #565656; }\n",
       ".datatable .int     { background: #5D9E5D; }\n",
       ".datatable .float   { background: #4040CC; }\n",
       ".datatable .str     { background: #CC4040; }\n",
       ".datatable .time    { background: #40CC40; }\n",
       ".datatable .row_index {  background: var(--jp-border-color3);  border-right: 1px solid var(--jp-border-color0);  color: var(--jp-ui-font-color3);  font-size: 9px;}\n",
       ".datatable .frame tbody td { text-align: left; }\n",
       ".datatable .frame tr.coltypes .row_index {  background: var(--jp-border-color0);}\n",
       ".datatable th:nth-child(2) { padding-left: 12px; }\n",
       ".datatable .hellipsis {  color: var(--jp-cell-editor-border-color);}\n",
       ".datatable .vellipsis {  background: var(--jp-layout-color0);  color: var(--jp-cell-editor-border-color);}\n",
       ".datatable .na {  color: var(--jp-cell-editor-border-color);  font-size: 80%;}\n",
       ".datatable .sp {  opacity: 0.25;}\n",
       ".datatable .footer { font-size: 9px; }\n",
       ".datatable .frame_dimensions {  background: var(--jp-border-color3);  border-top: 1px solid var(--jp-border-color0);  color: var(--jp-ui-font-color3);  display: inline-block;  opacity: 0.6;  padding: 1px 10px 1px 5px;}\n",
       "</style>\n"
      ],
      "text/plain": [
       "<IPython.core.display.HTML object>"
      ]
     },
     "metadata": {},
     "output_type": "display_data"
    }
   ],
   "source": [
    "from utils import get_path, group_cols\n",
    "from datatable import dt, f, by, as_type"
   ]
  },
  {
   "cell_type": "markdown",
   "metadata": {},
   "source": [
    "# Descrição"
   ]
  },
  {
   "cell_type": "markdown",
   "metadata": {},
   "source": [
    "Neste notebook iremos formar uma tabela contendo todos os municípios de residência que estão na base do SIH."
   ]
  },
  {
   "cell_type": "markdown",
   "metadata": {},
   "source": [
    "# Tabelas base"
   ]
  },
  {
   "cell_type": "markdown",
   "metadata": {},
   "source": [
    "## Localidades"
   ]
  },
  {
   "cell_type": "markdown",
   "metadata": {},
   "source": [
    "### Colunas da tabela"
   ]
  },
  {
   "cell_type": "code",
   "execution_count": 2,
   "metadata": {},
   "outputs": [
    {
     "data": {
      "text/html": [
       "<div class='datatable'>\n",
       "  <table class='frame'>\n",
       "  <thead>\n",
       "    <tr class='colnames'><td class='row_index'></td><th>cod_municipio</th><th>nome_municipio</th><th>capital</th><th>cod_uf</th><th>uf</th><th>nome_uf</th><th>regiao</th><th>latitude</th><th>longitude</th></tr>\n",
       "    <tr class='coltypes'><td class='row_index'></td><td class='int' title='int32'>&#x25AA;&#x25AA;&#x25AA;&#x25AA;</td><td class='str' title='str32'>&#x25AA;&#x25AA;&#x25AA;&#x25AA;</td><td class='bool' title='bool8'>&#x25AA;</td><td class='int' title='int32'>&#x25AA;&#x25AA;&#x25AA;&#x25AA;</td><td class='str' title='str32'>&#x25AA;&#x25AA;&#x25AA;&#x25AA;</td><td class='str' title='str32'>&#x25AA;&#x25AA;&#x25AA;&#x25AA;</td><td class='str' title='str32'>&#x25AA;&#x25AA;&#x25AA;&#x25AA;</td><td class='float' title='float64'>&#x25AA;&#x25AA;&#x25AA;&#x25AA;&#x25AA;&#x25AA;&#x25AA;&#x25AA;</td><td class='float' title='float64'>&#x25AA;&#x25AA;&#x25AA;&#x25AA;&#x25AA;&#x25AA;&#x25AA;&#x25AA;</td></tr>\n",
       "  </thead>\n",
       "  <tbody>\n",
       "    <tr><td class='row_index'>0</td><td>520005</td><td>Abadia de Goiás</td><td>0</td><td>52</td><td>GO</td><td>Goiás</td><td>Centro-Oeste</td><td>&minus;16.7573</td><td>&minus;49.4412</td></tr>\n",
       "    <tr><td class='row_index'>1</td><td>310010</td><td>Abadia dos Dourados</td><td>0</td><td>31</td><td>MG</td><td>Minas Gerais</td><td>Sudeste</td><td>&minus;18.4831</td><td>&minus;47.3916</td></tr>\n",
       "    <tr><td class='row_index'>2</td><td>520010</td><td>Abadiânia</td><td>0</td><td>52</td><td>GO</td><td>Goiás</td><td>Centro-Oeste</td><td>&minus;16.197</td><td>&minus;48.7057</td></tr>\n",
       "    <tr><td class='row_index'>3</td><td>310020</td><td>Abaeté</td><td>0</td><td>31</td><td>MG</td><td>Minas Gerais</td><td>Sudeste</td><td>&minus;19.1551</td><td>&minus;45.4444</td></tr>\n",
       "    <tr><td class='row_index'>4</td><td>150010</td><td>Abaetetuba</td><td>0</td><td>15</td><td>PA</td><td>Pará</td><td>Norte</td><td>&minus;1.72183</td><td>&minus;48.8788</td></tr>\n",
       "    <tr><td class='row_index'>5</td><td>230010</td><td>Abaiara</td><td>0</td><td>23</td><td>CE</td><td>Ceará</td><td>Nordeste</td><td>&minus;7.34588</td><td>&minus;39.0416</td></tr>\n",
       "    <tr><td class='row_index'>6</td><td>290010</td><td>Abaíra</td><td>0</td><td>29</td><td>BA</td><td>Bahia</td><td>Nordeste</td><td>&minus;13.2488</td><td>&minus;41.6619</td></tr>\n",
       "    <tr><td class='row_index'>7</td><td>290020</td><td>Abaré</td><td>0</td><td>29</td><td>BA</td><td>Bahia</td><td>Nordeste</td><td>&minus;8.72073</td><td>&minus;39.1162</td></tr>\n",
       "    <tr><td class='row_index'>8</td><td>410010</td><td>Abatiá</td><td>0</td><td>41</td><td>PR</td><td>Paraná</td><td>Sul</td><td>&minus;23.3049</td><td>&minus;50.3133</td></tr>\n",
       "    <tr><td class='row_index'>9</td><td>420005</td><td>Abdon Batista</td><td>0</td><td>42</td><td>SC</td><td>Santa Catarina</td><td>Sul</td><td>&minus;27.6126</td><td>&minus;51.0233</td></tr>\n",
       "    <tr><td class='row_index'>10</td><td>150013</td><td>Abel Figueiredo</td><td>0</td><td>15</td><td>PA</td><td>Pará</td><td>Norte</td><td>&minus;4.95333</td><td>&minus;48.3933</td></tr>\n",
       "    <tr><td class='row_index'>11</td><td>420010</td><td>Abelardo Luz</td><td>0</td><td>42</td><td>SC</td><td>Santa Catarina</td><td>Sul</td><td>&minus;26.5716</td><td>&minus;52.3229</td></tr>\n",
       "    <tr><td class='row_index'>12</td><td>310030</td><td>Abre Campo</td><td>0</td><td>31</td><td>MG</td><td>Minas Gerais</td><td>Sudeste</td><td>&minus;20.2996</td><td>&minus;42.4743</td></tr>\n",
       "    <tr><td class='row_index'>13</td><td>260005</td><td>Abreu e Lima</td><td>0</td><td>26</td><td>PE</td><td>Pernambuco</td><td>Nordeste</td><td>&minus;7.90072</td><td>&minus;34.8984</td></tr>\n",
       "    <tr><td class='row_index'>14</td><td>170025</td><td>Abreulândia</td><td>0</td><td>17</td><td>TO</td><td>Tocantins</td><td>Norte</td><td>&minus;9.62101</td><td>&minus;49.1518</td></tr>\n",
       "    <tr><td class='row_index'>&#x22EE;</td><td class='hellipsis'>&#x22EE;</td><td class='hellipsis'>&#x22EE;</td><td class='hellipsis'>&#x22EE;</td><td class='hellipsis'>&#x22EE;</td><td class='hellipsis'>&#x22EE;</td><td class='hellipsis'>&#x22EE;</td><td class='hellipsis'>&#x22EE;</td><td class='hellipsis'>&#x22EE;</td><td class='hellipsis'>&#x22EE;</td></tr>\n",
       "    <tr><td class='row_index'>5565</td><td>293360</td><td>Xique-Xique</td><td>0</td><td>29</td><td>BA</td><td>Bahia</td><td>Nordeste</td><td>&minus;10.823</td><td>&minus;42.7245</td></tr>\n",
       "    <tr><td class='row_index'>5566</td><td>251740</td><td>Zabelê</td><td>0</td><td>25</td><td>PB</td><td>Paraíba</td><td>Nordeste</td><td>&minus;8.07901</td><td>&minus;37.1057</td></tr>\n",
       "    <tr><td class='row_index'>5567</td><td>355715</td><td>Zacarias</td><td>0</td><td>35</td><td>SP</td><td>São Paulo</td><td>Sudeste</td><td>&minus;21.0506</td><td>&minus;50.0552</td></tr>\n",
       "    <tr><td class='row_index'>5568</td><td>211400</td><td>Zé Doca</td><td>0</td><td>21</td><td>MA</td><td>Maranhão</td><td>Nordeste</td><td>&minus;3.27014</td><td>&minus;45.6553</td></tr>\n",
       "    <tr><td class='row_index'>5569</td><td>421985</td><td>Zortéa</td><td>0</td><td>42</td><td>SC</td><td>Santa Catarina</td><td>Sul</td><td>&minus;27.4521</td><td>&minus;51.552</td></tr>\n",
       "  </tbody>\n",
       "  </table>\n",
       "  <div class='footer'>\n",
       "    <div class='frame_dimensions'>5570 rows &times; 9 columns</div>\n",
       "  </div>\n",
       "</div>\n"
      ],
      "text/plain": [
       "<Frame#7fb9029e6b10 5570x9>"
      ]
     },
     "execution_count": 2,
     "metadata": {},
     "output_type": "execute_result"
    }
   ],
   "source": [
    "path_loc = get_path('HEALTH', 'localidades.csv.gzip')\n",
    "df_loc = dt.fread(path_loc)\n",
    "df_loc = df_loc[:, f[:].remove(f.nome_regiao_saude)]\n",
    "df_loc"
   ]
  },
  {
   "cell_type": "markdown",
   "metadata": {},
   "source": [
    "## Indicadores"
   ]
  },
  {
   "cell_type": "markdown",
   "metadata": {},
   "source": [
    "### Colunas da tabela"
   ]
  },
  {
   "cell_type": "code",
   "execution_count": 3,
   "metadata": {},
   "outputs": [],
   "source": [
    "cols_indc = {\n",
    "  'CÓDIGO': 'codigo',\n",
    "  'Tipo Localidade': 'tipo',\n",
    "  'CIR': 'nome_regiao_saude',\n",
    "  'Grupos de Regiões de Saúde segundo Condições Socioeconômicas e de Saúde - 2016': 'socioecon',\n",
    "  ...: None\n",
    "}"
   ]
  },
  {
   "cell_type": "code",
   "execution_count": 4,
   "metadata": {},
   "outputs": [
    {
     "data": {
      "text/html": [
       "<div>\n",
       "<style scoped>\n",
       "    .dataframe tbody tr th:only-of-type {\n",
       "        vertical-align: middle;\n",
       "    }\n",
       "\n",
       "    .dataframe tbody tr th {\n",
       "        vertical-align: top;\n",
       "    }\n",
       "\n",
       "    .dataframe thead th {\n",
       "        text-align: right;\n",
       "    }\n",
       "</style>\n",
       "<table border=\"1\" class=\"dataframe\">\n",
       "  <thead>\n",
       "    <tr style=\"text-align: right;\">\n",
       "      <th></th>\n",
       "      <th>codigo</th>\n",
       "      <th>tipo</th>\n",
       "      <th>nome_regiao_saude</th>\n",
       "      <th>socioecon</th>\n",
       "    </tr>\n",
       "  </thead>\n",
       "  <tbody>\n",
       "    <tr>\n",
       "      <th>0</th>\n",
       "      <td>15.001</td>\n",
       "      <td>REGSAU</td>\n",
       "      <td>Araguaia</td>\n",
       "      <td>1</td>\n",
       "    </tr>\n",
       "    <tr>\n",
       "      <th>1</th>\n",
       "      <td>15.002</td>\n",
       "      <td>REGSAU</td>\n",
       "      <td>Baixo Amazonas</td>\n",
       "      <td>1</td>\n",
       "    </tr>\n",
       "    <tr>\n",
       "      <th>2</th>\n",
       "      <td>15.003</td>\n",
       "      <td>REGSAU</td>\n",
       "      <td>Carajás</td>\n",
       "      <td>2</td>\n",
       "    </tr>\n",
       "    <tr>\n",
       "      <th>3</th>\n",
       "      <td>15.004</td>\n",
       "      <td>REGSAU</td>\n",
       "      <td>Lago de Tucuruí</td>\n",
       "      <td>1</td>\n",
       "    </tr>\n",
       "    <tr>\n",
       "      <th>4</th>\n",
       "      <td>15.013</td>\n",
       "      <td>REGSAU</td>\n",
       "      <td>Marajó I</td>\n",
       "      <td>1</td>\n",
       "    </tr>\n",
       "    <tr>\n",
       "      <th>...</th>\n",
       "      <td>...</td>\n",
       "      <td>...</td>\n",
       "      <td>...</td>\n",
       "      <td>...</td>\n",
       "    </tr>\n",
       "    <tr>\n",
       "      <th>6003</th>\n",
       "      <td>171.780</td>\n",
       "      <td>MUNIC</td>\n",
       "      <td>Sudeste</td>\n",
       "      <td>1</td>\n",
       "    </tr>\n",
       "    <tr>\n",
       "      <th>6004</th>\n",
       "      <td>171.800</td>\n",
       "      <td>MUNIC</td>\n",
       "      <td>Sudeste</td>\n",
       "      <td>1</td>\n",
       "    </tr>\n",
       "    <tr>\n",
       "      <th>6005</th>\n",
       "      <td>171.865</td>\n",
       "      <td>MUNIC</td>\n",
       "      <td>Sudeste</td>\n",
       "      <td>1</td>\n",
       "    </tr>\n",
       "    <tr>\n",
       "      <th>6006</th>\n",
       "      <td>172.090</td>\n",
       "      <td>MUNIC</td>\n",
       "      <td>Sudeste</td>\n",
       "      <td>1</td>\n",
       "    </tr>\n",
       "    <tr>\n",
       "      <th>6007</th>\n",
       "      <td>172.093</td>\n",
       "      <td>MUNIC</td>\n",
       "      <td>Sudeste</td>\n",
       "      <td>1</td>\n",
       "    </tr>\n",
       "  </tbody>\n",
       "</table>\n",
       "<p>6008 rows × 4 columns</p>\n",
       "</div>"
      ],
      "text/plain": [
       "       codigo    tipo nome_regiao_saude  socioecon\n",
       "0      15.001  REGSAU          Araguaia          1\n",
       "1      15.002  REGSAU    Baixo Amazonas          1\n",
       "2      15.003  REGSAU           Carajás          2\n",
       "3      15.004  REGSAU   Lago de Tucuruí          1\n",
       "4      15.013  REGSAU          Marajó I          1\n",
       "...       ...     ...               ...        ...\n",
       "6003  171.780   MUNIC           Sudeste          1\n",
       "6004  171.800   MUNIC           Sudeste          1\n",
       "6005  171.865   MUNIC           Sudeste          1\n",
       "6006  172.090   MUNIC           Sudeste          1\n",
       "6007  172.093   MUNIC           Sudeste          1\n",
       "\n",
       "[6008 rows x 4 columns]"
      ]
     },
     "execution_count": 4,
     "metadata": {},
     "output_type": "execute_result"
    }
   ],
   "source": [
    "path_indc = path_indc = get_path('INDICADORES', 'indicadores.csv.gzip')\n",
    "df_indc = dt.fread(path_indc, columns=cols_indc)\n",
    "df_indc = df_indc.to_pandas()\n",
    "df_indc"
   ]
  },
  {
   "cell_type": "markdown",
   "metadata": {},
   "source": [
    "### Municípios"
   ]
  },
  {
   "cell_type": "code",
   "execution_count": 5,
   "metadata": {},
   "outputs": [
    {
     "data": {
      "text/html": [
       "<div>\n",
       "<style scoped>\n",
       "    .dataframe tbody tr th:only-of-type {\n",
       "        vertical-align: middle;\n",
       "    }\n",
       "\n",
       "    .dataframe tbody tr th {\n",
       "        vertical-align: top;\n",
       "    }\n",
       "\n",
       "    .dataframe thead th {\n",
       "        text-align: right;\n",
       "    }\n",
       "</style>\n",
       "<table border=\"1\" class=\"dataframe\">\n",
       "  <thead>\n",
       "    <tr style=\"text-align: right;\">\n",
       "      <th></th>\n",
       "      <th>cod_municipio</th>\n",
       "      <th>nome_regiao_saude</th>\n",
       "      <th>socioecon</th>\n",
       "      <th>prefix</th>\n",
       "    </tr>\n",
       "  </thead>\n",
       "  <tbody>\n",
       "    <tr>\n",
       "      <th>13</th>\n",
       "      <td>310600</td>\n",
       "      <td>João Monlevade</td>\n",
       "      <td>3</td>\n",
       "      <td>31</td>\n",
       "    </tr>\n",
       "    <tr>\n",
       "      <th>14</th>\n",
       "      <td>313620</td>\n",
       "      <td>João Monlevade</td>\n",
       "      <td>3</td>\n",
       "      <td>31</td>\n",
       "    </tr>\n",
       "    <tr>\n",
       "      <th>15</th>\n",
       "      <td>314470</td>\n",
       "      <td>João Monlevade</td>\n",
       "      <td>3</td>\n",
       "      <td>31</td>\n",
       "    </tr>\n",
       "    <tr>\n",
       "      <th>16</th>\n",
       "      <td>315570</td>\n",
       "      <td>João Monlevade</td>\n",
       "      <td>3</td>\n",
       "      <td>31</td>\n",
       "    </tr>\n",
       "    <tr>\n",
       "      <th>17</th>\n",
       "      <td>316100</td>\n",
       "      <td>João Monlevade</td>\n",
       "      <td>3</td>\n",
       "      <td>31</td>\n",
       "    </tr>\n",
       "    <tr>\n",
       "      <th>...</th>\n",
       "      <td>...</td>\n",
       "      <td>...</td>\n",
       "      <td>...</td>\n",
       "      <td>...</td>\n",
       "    </tr>\n",
       "    <tr>\n",
       "      <th>6003</th>\n",
       "      <td>171780</td>\n",
       "      <td>Sudeste</td>\n",
       "      <td>1</td>\n",
       "      <td>17</td>\n",
       "    </tr>\n",
       "    <tr>\n",
       "      <th>6004</th>\n",
       "      <td>171800</td>\n",
       "      <td>Sudeste</td>\n",
       "      <td>1</td>\n",
       "      <td>17</td>\n",
       "    </tr>\n",
       "    <tr>\n",
       "      <th>6005</th>\n",
       "      <td>171865</td>\n",
       "      <td>Sudeste</td>\n",
       "      <td>1</td>\n",
       "      <td>17</td>\n",
       "    </tr>\n",
       "    <tr>\n",
       "      <th>6006</th>\n",
       "      <td>172090</td>\n",
       "      <td>Sudeste</td>\n",
       "      <td>1</td>\n",
       "      <td>17</td>\n",
       "    </tr>\n",
       "    <tr>\n",
       "      <th>6007</th>\n",
       "      <td>172093</td>\n",
       "      <td>Sudeste</td>\n",
       "      <td>1</td>\n",
       "      <td>17</td>\n",
       "    </tr>\n",
       "  </tbody>\n",
       "</table>\n",
       "<p>5570 rows × 4 columns</p>\n",
       "</div>"
      ],
      "text/plain": [
       "     cod_municipio nome_regiao_saude  socioecon prefix\n",
       "13          310600    João Monlevade          3     31\n",
       "14          313620    João Monlevade          3     31\n",
       "15          314470    João Monlevade          3     31\n",
       "16          315570    João Monlevade          3     31\n",
       "17          316100    João Monlevade          3     31\n",
       "...            ...               ...        ...    ...\n",
       "6003        171780           Sudeste          1     17\n",
       "6004        171800           Sudeste          1     17\n",
       "6005        171865           Sudeste          1     17\n",
       "6006        172090           Sudeste          1     17\n",
       "6007        172093           Sudeste          1     17\n",
       "\n",
       "[5570 rows x 4 columns]"
      ]
     },
     "execution_count": 5,
     "metadata": {},
     "output_type": "execute_result"
    }
   ],
   "source": [
    "df_munic = df_indc.loc[df_indc['tipo'] == 'MUNIC'].copy()\n",
    "df_munic.drop(columns=['tipo'], inplace=True)\n",
    "df_munic['codigo'] = df_munic['codigo'].apply(lambda x: (str(x).replace('.', '') + '00')[:6])\n",
    "df_munic['prefix'] = df_munic['codigo'].apply(lambda x: str(x)[:2])\n",
    "df_munic = df_munic.rename(columns={'codigo': 'cod_municipio'})\n",
    "df_munic\n"
   ]
  },
  {
   "cell_type": "markdown",
   "metadata": {},
   "source": [
    "### Regiões de Saúde"
   ]
  },
  {
   "cell_type": "code",
   "execution_count": 6,
   "metadata": {},
   "outputs": [
    {
     "data": {
      "text/html": [
       "<div>\n",
       "<style scoped>\n",
       "    .dataframe tbody tr th:only-of-type {\n",
       "        vertical-align: middle;\n",
       "    }\n",
       "\n",
       "    .dataframe tbody tr th {\n",
       "        vertical-align: top;\n",
       "    }\n",
       "\n",
       "    .dataframe thead th {\n",
       "        text-align: right;\n",
       "    }\n",
       "</style>\n",
       "<table border=\"1\" class=\"dataframe\">\n",
       "  <thead>\n",
       "    <tr style=\"text-align: right;\">\n",
       "      <th></th>\n",
       "      <th>cod_regiao_saude</th>\n",
       "      <th>nome_regiao_saude</th>\n",
       "      <th>prefix</th>\n",
       "    </tr>\n",
       "  </thead>\n",
       "  <tbody>\n",
       "    <tr>\n",
       "      <th>0</th>\n",
       "      <td>15001</td>\n",
       "      <td>Araguaia</td>\n",
       "      <td>15</td>\n",
       "    </tr>\n",
       "    <tr>\n",
       "      <th>1</th>\n",
       "      <td>15002</td>\n",
       "      <td>Baixo Amazonas</td>\n",
       "      <td>15</td>\n",
       "    </tr>\n",
       "    <tr>\n",
       "      <th>2</th>\n",
       "      <td>15003</td>\n",
       "      <td>Carajás</td>\n",
       "      <td>15</td>\n",
       "    </tr>\n",
       "    <tr>\n",
       "      <th>3</th>\n",
       "      <td>15004</td>\n",
       "      <td>Lago de Tucuruí</td>\n",
       "      <td>15</td>\n",
       "    </tr>\n",
       "    <tr>\n",
       "      <th>4</th>\n",
       "      <td>15013</td>\n",
       "      <td>Marajó I</td>\n",
       "      <td>15</td>\n",
       "    </tr>\n",
       "    <tr>\n",
       "      <th>...</th>\n",
       "      <td>...</td>\n",
       "      <td>...</td>\n",
       "      <td>...</td>\n",
       "    </tr>\n",
       "    <tr>\n",
       "      <th>5431</th>\n",
       "      <td>17001</td>\n",
       "      <td>Médio Norte Araguaia</td>\n",
       "      <td>17</td>\n",
       "    </tr>\n",
       "    <tr>\n",
       "      <th>5432</th>\n",
       "      <td>28005</td>\n",
       "      <td>Nossa Senhora da Glória</td>\n",
       "      <td>28</td>\n",
       "    </tr>\n",
       "    <tr>\n",
       "      <th>5433</th>\n",
       "      <td>28006</td>\n",
       "      <td>Nossa Senhora do Socorro</td>\n",
       "      <td>28</td>\n",
       "    </tr>\n",
       "    <tr>\n",
       "      <th>5434</th>\n",
       "      <td>28007</td>\n",
       "      <td>Propriá</td>\n",
       "      <td>28</td>\n",
       "    </tr>\n",
       "    <tr>\n",
       "      <th>5435</th>\n",
       "      <td>17003</td>\n",
       "      <td>Sudeste</td>\n",
       "      <td>17</td>\n",
       "    </tr>\n",
       "  </tbody>\n",
       "</table>\n",
       "<p>438 rows × 3 columns</p>\n",
       "</div>"
      ],
      "text/plain": [
       "     cod_regiao_saude         nome_regiao_saude prefix\n",
       "0               15001                  Araguaia     15\n",
       "1               15002            Baixo Amazonas     15\n",
       "2               15003                   Carajás     15\n",
       "3               15004           Lago de Tucuruí     15\n",
       "4               15013                  Marajó I     15\n",
       "...               ...                       ...    ...\n",
       "5431            17001      Médio Norte Araguaia     17\n",
       "5432            28005   Nossa Senhora da Glória     28\n",
       "5433            28006  Nossa Senhora do Socorro     28\n",
       "5434            28007                   Propriá     28\n",
       "5435            17003                   Sudeste     17\n",
       "\n",
       "[438 rows x 3 columns]"
      ]
     },
     "execution_count": 6,
     "metadata": {},
     "output_type": "execute_result"
    }
   ],
   "source": [
    "df_regsau = df_indc[df_indc['tipo'] == 'REGSAU'].copy()\n",
    "df_regsau.drop(columns=['tipo', 'socioecon'], inplace=True)\n",
    "df_regsau['codigo'] = df_regsau['codigo'].apply(lambda x: (str(x).replace('.', '') + '0')[:5])\n",
    "df_regsau['prefix'] = df_regsau['codigo'].apply(lambda x: str(x)[:2])\n",
    "df_regsau = df_regsau.rename(columns={'codigo': 'cod_regiao_saude'})\n",
    "df_regsau"
   ]
  },
  {
   "cell_type": "markdown",
   "metadata": {},
   "source": [
    "### Merge"
   ]
  },
  {
   "cell_type": "code",
   "execution_count": 7,
   "metadata": {},
   "outputs": [
    {
     "data": {
      "text/html": [
       "<div class='datatable'>\n",
       "  <table class='frame'>\n",
       "  <thead>\n",
       "    <tr class='colnames'><td class='row_index'></td><th>cod_municipio</th><th>nome_regiao_saude</th><th>socioecon</th><th>prefix</th><th>cod_regiao_saude</th></tr>\n",
       "    <tr class='coltypes'><td class='row_index'></td><td class='int' title='int64'>&#x25AA;&#x25AA;&#x25AA;&#x25AA;&#x25AA;&#x25AA;&#x25AA;&#x25AA;</td><td class='str' title='str32'>&#x25AA;&#x25AA;&#x25AA;&#x25AA;</td><td class='int' title='int32'>&#x25AA;&#x25AA;&#x25AA;&#x25AA;</td><td class='str' title='str32'>&#x25AA;&#x25AA;&#x25AA;&#x25AA;</td><td class='str' title='str32'>&#x25AA;&#x25AA;&#x25AA;&#x25AA;</td></tr>\n",
       "  </thead>\n",
       "  <tbody>\n",
       "    <tr><td class='row_index'>0</td><td>310600</td><td>João Monlevade</td><td>3</td><td>31</td><td>31035</td></tr>\n",
       "    <tr><td class='row_index'>1</td><td>313620</td><td>João Monlevade</td><td>3</td><td>31</td><td>31035</td></tr>\n",
       "    <tr><td class='row_index'>2</td><td>314470</td><td>João Monlevade</td><td>3</td><td>31</td><td>31035</td></tr>\n",
       "    <tr><td class='row_index'>3</td><td>315570</td><td>João Monlevade</td><td>3</td><td>31</td><td>31035</td></tr>\n",
       "    <tr><td class='row_index'>4</td><td>316100</td><td>João Monlevade</td><td>3</td><td>31</td><td>31035</td></tr>\n",
       "    <tr><td class='row_index'>5</td><td>310855</td><td>João Pinheiro</td><td>2</td><td>31</td><td>31036</td></tr>\n",
       "    <tr><td class='row_index'>6</td><td>313630</td><td>João Pinheiro</td><td>2</td><td>31</td><td>31036</td></tr>\n",
       "    <tr><td class='row_index'>7</td><td>313753</td><td>João Pinheiro</td><td>2</td><td>31</td><td>31036</td></tr>\n",
       "    <tr><td class='row_index'>8</td><td>310280</td><td>Juiz de Fora Lima Duarte Bom Jardim Min</td><td>5</td><td>31</td><td>31037</td></tr>\n",
       "    <tr><td class='row_index'>9</td><td>310360</td><td>Juiz de Fora Lima Duarte Bom Jardim Min</td><td>5</td><td>31</td><td>31037</td></tr>\n",
       "    <tr><td class='row_index'>10</td><td>310610</td><td>Juiz de Fora Lima Duarte Bom Jardim Min</td><td>5</td><td>31</td><td>31037</td></tr>\n",
       "    <tr><td class='row_index'>11</td><td>310680</td><td>Juiz de Fora Lima Duarte Bom Jardim Min</td><td>5</td><td>31</td><td>31037</td></tr>\n",
       "    <tr><td class='row_index'>12</td><td>310720</td><td>Juiz de Fora Lima Duarte Bom Jardim Min</td><td>5</td><td>31</td><td>31037</td></tr>\n",
       "    <tr><td class='row_index'>13</td><td>310750</td><td>Juiz de Fora Lima Duarte Bom Jardim Min</td><td>5</td><td>31</td><td>31037</td></tr>\n",
       "    <tr><td class='row_index'>14</td><td>311590</td><td>Juiz de Fora Lima Duarte Bom Jardim Min</td><td>5</td><td>31</td><td>31037</td></tr>\n",
       "    <tr><td class='row_index'>&#x22EE;</td><td class='hellipsis'>&#x22EE;</td><td class='hellipsis'>&#x22EE;</td><td class='hellipsis'>&#x22EE;</td><td class='hellipsis'>&#x22EE;</td><td class='hellipsis'>&#x22EE;</td></tr>\n",
       "    <tr><td class='row_index'>5565</td><td>171780</td><td>Sudeste</td><td>1</td><td>17</td><td>17003</td></tr>\n",
       "    <tr><td class='row_index'>5566</td><td>171800</td><td>Sudeste</td><td>1</td><td>17</td><td>17003</td></tr>\n",
       "    <tr><td class='row_index'>5567</td><td>171865</td><td>Sudeste</td><td>1</td><td>17</td><td>17003</td></tr>\n",
       "    <tr><td class='row_index'>5568</td><td>172090</td><td>Sudeste</td><td>1</td><td>17</td><td>17003</td></tr>\n",
       "    <tr><td class='row_index'>5569</td><td>172093</td><td>Sudeste</td><td>1</td><td>17</td><td>17003</td></tr>\n",
       "  </tbody>\n",
       "  </table>\n",
       "  <div class='footer'>\n",
       "    <div class='frame_dimensions'>5570 rows &times; 5 columns</div>\n",
       "  </div>\n",
       "</div>\n"
      ],
      "text/plain": [
       "<Frame#7fb8f10e1bd0 5570x5>"
      ]
     },
     "execution_count": 7,
     "metadata": {},
     "output_type": "execute_result"
    }
   ],
   "source": [
    "df_indc = df_munic.merge(df_regsau, how='left', left_on=['prefix', 'nome_regiao_saude'], right_on=['prefix', 'nome_regiao_saude'])\n",
    "df_indc = dt.Frame(df_indc)\n",
    "df_indc[:, 'cod_municipio'] = df_indc[:, dt.as_type(f.cod_municipio, int)]\n",
    "df_indc"
   ]
  },
  {
   "cell_type": "markdown",
   "metadata": {},
   "source": [
    "# Gerando tabela"
   ]
  },
  {
   "cell_type": "markdown",
   "metadata": {},
   "source": [
    "## Juntando com outras"
   ]
  },
  {
   "cell_type": "markdown",
   "metadata": {},
   "source": [
    "### Juntando com Indicadores"
   ]
  },
  {
   "cell_type": "code",
   "execution_count": 8,
   "metadata": {},
   "outputs": [
    {
     "data": {
      "text/html": [
       "<div class='datatable'>\n",
       "  <table class='frame'>\n",
       "  <thead>\n",
       "    <tr class='colnames'><td class='row_index'></td><th>cod_municipio</th><th>nome_municipio</th><th>capital</th><th>cod_uf</th><th>uf</th><th>nome_uf</th><th>regiao</th><th>latitude</th><th>longitude</th><th>nome_regiao_saude</th><th>socioecon</th><th>prefix</th><th>cod_regiao_saude</th></tr>\n",
       "    <tr class='coltypes'><td class='row_index'></td><td class='int' title='int32'>&#x25AA;&#x25AA;&#x25AA;&#x25AA;</td><td class='str' title='str32'>&#x25AA;&#x25AA;&#x25AA;&#x25AA;</td><td class='bool' title='bool8'>&#x25AA;</td><td class='int' title='int32'>&#x25AA;&#x25AA;&#x25AA;&#x25AA;</td><td class='str' title='str32'>&#x25AA;&#x25AA;&#x25AA;&#x25AA;</td><td class='str' title='str32'>&#x25AA;&#x25AA;&#x25AA;&#x25AA;</td><td class='str' title='str32'>&#x25AA;&#x25AA;&#x25AA;&#x25AA;</td><td class='float' title='float64'>&#x25AA;&#x25AA;&#x25AA;&#x25AA;&#x25AA;&#x25AA;&#x25AA;&#x25AA;</td><td class='float' title='float64'>&#x25AA;&#x25AA;&#x25AA;&#x25AA;&#x25AA;&#x25AA;&#x25AA;&#x25AA;</td><td class='str' title='str32'>&#x25AA;&#x25AA;&#x25AA;&#x25AA;</td><td class='int' title='int32'>&#x25AA;&#x25AA;&#x25AA;&#x25AA;</td><td class='str' title='str32'>&#x25AA;&#x25AA;&#x25AA;&#x25AA;</td><td class='str' title='str32'>&#x25AA;&#x25AA;&#x25AA;&#x25AA;</td></tr>\n",
       "  </thead>\n",
       "  <tbody>\n",
       "    <tr><td class='row_index'>0</td><td>520005</td><td>Abadia de Goiás</td><td>0</td><td>52</td><td>GO</td><td>Goiás</td><td>Centro-Oeste</td><td>&minus;16.7573</td><td>&minus;49.4412</td><td>Central</td><td>5</td><td>52</td><td>52001</td></tr>\n",
       "    <tr><td class='row_index'>1</td><td>310010</td><td>Abadia dos Dourados</td><td>0</td><td>31</td><td>MG</td><td>Minas Gerais</td><td>Sudeste</td><td>&minus;18.4831</td><td>&minus;47.3916</td><td>Patrocínio Monte Carmelo</td><td>2</td><td>31</td><td>31052</td></tr>\n",
       "    <tr><td class='row_index'>2</td><td>520010</td><td>Abadiânia</td><td>0</td><td>52</td><td>GO</td><td>Goiás</td><td>Centro-Oeste</td><td>&minus;16.197</td><td>&minus;48.7057</td><td>Pirineus</td><td>3</td><td>52</td><td>52011</td></tr>\n",
       "    <tr><td class='row_index'>3</td><td>310020</td><td>Abaeté</td><td>0</td><td>31</td><td>MG</td><td>Minas Gerais</td><td>Sudeste</td><td>&minus;19.1551</td><td>&minus;45.4444</td><td>Sete Lagoas</td><td>3</td><td>31</td><td>31067</td></tr>\n",
       "    <tr><td class='row_index'>4</td><td>150010</td><td>Abaetetuba</td><td>0</td><td>15</td><td>PA</td><td>Pará</td><td>Norte</td><td>&minus;1.72183</td><td>&minus;48.8788</td><td>Tocantins</td><td>1</td><td>15</td><td>15011</td></tr>\n",
       "    <tr><td class='row_index'>5</td><td>230010</td><td>Abaiara</td><td>0</td><td>23</td><td>CE</td><td>Ceará</td><td>Nordeste</td><td>&minus;7.34588</td><td>&minus;39.0416</td><td>19ª Região Brejo Santo</td><td>1</td><td>23</td><td>23019</td></tr>\n",
       "    <tr><td class='row_index'>6</td><td>290010</td><td>Abaíra</td><td>0</td><td>29</td><td>BA</td><td>Bahia</td><td>Nordeste</td><td>&minus;13.2488</td><td>&minus;41.6619</td><td>Seabra</td><td>1</td><td>29</td><td>29023</td></tr>\n",
       "    <tr><td class='row_index'>7</td><td>290020</td><td>Abaré</td><td>0</td><td>29</td><td>BA</td><td>Bahia</td><td>Nordeste</td><td>&minus;8.72073</td><td>&minus;39.1162</td><td>Paulo Afonso</td><td>1</td><td>29</td><td>29017</td></tr>\n",
       "    <tr><td class='row_index'>8</td><td>410010</td><td>Abatiá</td><td>0</td><td>41</td><td>PR</td><td>Paraná</td><td>Sul</td><td>&minus;23.3049</td><td>&minus;50.3133</td><td>18ª RS Cornélio Procópio</td><td>3</td><td>41</td><td>41018</td></tr>\n",
       "    <tr><td class='row_index'>9</td><td>420005</td><td>Abdon Batista</td><td>0</td><td>42</td><td>SC</td><td>Santa Catarina</td><td>Sul</td><td>&minus;27.6126</td><td>&minus;51.0233</td><td>Meio Oeste</td><td>3</td><td>42</td><td>42008</td></tr>\n",
       "    <tr><td class='row_index'>10</td><td>150013</td><td>Abel Figueiredo</td><td>0</td><td>15</td><td>PA</td><td>Pará</td><td>Norte</td><td>&minus;4.95333</td><td>&minus;48.3933</td><td>Carajás</td><td>2</td><td>15</td><td>15003</td></tr>\n",
       "    <tr><td class='row_index'>11</td><td>420010</td><td>Abelardo Luz</td><td>0</td><td>42</td><td>SC</td><td>Santa Catarina</td><td>Sul</td><td>&minus;26.5716</td><td>&minus;52.3229</td><td>Xanxerê</td><td>3</td><td>42</td><td>42003</td></tr>\n",
       "    <tr><td class='row_index'>12</td><td>310030</td><td>Abre Campo</td><td>0</td><td>31</td><td>MG</td><td>Minas Gerais</td><td>Sudeste</td><td>&minus;20.2996</td><td>&minus;42.4743</td><td>Manhuaçu</td><td>1</td><td>31</td><td>31041</td></tr>\n",
       "    <tr><td class='row_index'>13</td><td>260005</td><td>Abreu e Lima</td><td>0</td><td>26</td><td>PE</td><td>Pernambuco</td><td>Nordeste</td><td>&minus;7.90072</td><td>&minus;34.8984</td><td>Recife</td><td>5</td><td>26</td><td>26010</td></tr>\n",
       "    <tr><td class='row_index'>14</td><td>170025</td><td>Abreulândia</td><td>0</td><td>17</td><td>TO</td><td>Tocantins</td><td>Norte</td><td>&minus;9.62101</td><td>&minus;49.1518</td><td>Cantão</td><td>2</td><td>17</td><td>17007</td></tr>\n",
       "    <tr><td class='row_index'>&#x22EE;</td><td class='hellipsis'>&#x22EE;</td><td class='hellipsis'>&#x22EE;</td><td class='hellipsis'>&#x22EE;</td><td class='hellipsis'>&#x22EE;</td><td class='hellipsis'>&#x22EE;</td><td class='hellipsis'>&#x22EE;</td><td class='hellipsis'>&#x22EE;</td><td class='hellipsis'>&#x22EE;</td><td class='hellipsis'>&#x22EE;</td><td class='hellipsis'>&#x22EE;</td><td class='hellipsis'>&#x22EE;</td><td class='hellipsis'>&#x22EE;</td><td class='hellipsis'>&#x22EE;</td></tr>\n",
       "    <tr><td class='row_index'>5565</td><td>293360</td><td>Xique-Xique</td><td>0</td><td>29</td><td>BA</td><td>Bahia</td><td>Nordeste</td><td>&minus;10.823</td><td>&minus;42.7245</td><td>Irecê</td><td>1</td><td>29</td><td>29010</td></tr>\n",
       "    <tr><td class='row_index'>5566</td><td>251740</td><td>Zabelê</td><td>0</td><td>25</td><td>PB</td><td>Paraíba</td><td>Nordeste</td><td>&minus;8.07901</td><td>&minus;37.1057</td><td>5ª Região</td><td>1</td><td>25</td><td>25005</td></tr>\n",
       "    <tr><td class='row_index'>5567</td><td>355715</td><td>Zacarias</td><td>0</td><td>35</td><td>SP</td><td>São Paulo</td><td>Sudeste</td><td>&minus;21.0506</td><td>&minus;50.0552</td><td>José Bonifácio</td><td>3</td><td>35</td><td>35156</td></tr>\n",
       "    <tr><td class='row_index'>5568</td><td>211400</td><td>Zé Doca</td><td>0</td><td>21</td><td>MA</td><td>Maranhão</td><td>Nordeste</td><td>&minus;3.27014</td><td>&minus;45.6553</td><td>Zé Doca</td><td>1</td><td>21</td><td>21019</td></tr>\n",
       "    <tr><td class='row_index'>5569</td><td>421985</td><td>Zortéa</td><td>0</td><td>42</td><td>SC</td><td>Santa Catarina</td><td>Sul</td><td>&minus;27.4521</td><td>&minus;51.552</td><td>Meio Oeste</td><td>3</td><td>42</td><td>42008</td></tr>\n",
       "  </tbody>\n",
       "  </table>\n",
       "  <div class='footer'>\n",
       "    <div class='frame_dimensions'>5570 rows &times; 13 columns</div>\n",
       "  </div>\n",
       "</div>\n"
      ],
      "text/plain": [
       "<Frame#7fb8f10e1ed0 5570x13>"
      ]
     },
     "execution_count": 8,
     "metadata": {},
     "output_type": "execute_result"
    }
   ],
   "source": [
    "df_indc.key = 'cod_municipio'\n",
    "df_muns = df_loc[:, :, dt.join(df_indc)]\n",
    "df_muns"
   ]
  },
  {
   "cell_type": "markdown",
   "metadata": {},
   "source": [
    "## Ajustando colunas"
   ]
  },
  {
   "cell_type": "code",
   "execution_count": 9,
   "metadata": {},
   "outputs": [],
   "source": [
    "cols_order = [\n",
    "  'cod_municipio',\n",
    "  'nome_municipio',\n",
    "  'capital',\n",
    "  'cod_regiao_saude',\n",
    "  'nome_regiao_saude',\n",
    "  'cod_uf',\n",
    "  'uf',\n",
    "  'nome_uf',\n",
    "  'regiao',\n",
    "  'socioecon',\n",
    "  'latitude',\n",
    "  'longitude',\n",
    "]"
   ]
  },
  {
   "cell_type": "code",
   "execution_count": 10,
   "metadata": {},
   "outputs": [
    {
     "data": {
      "text/html": [
       "<div class='datatable'>\n",
       "  <table class='frame'>\n",
       "  <thead>\n",
       "    <tr class='colnames'><td class='row_index'></td><th>cod_municipio</th><th>nome_municipio</th><th>capital</th><th>cod_regiao_saude</th><th>nome_regiao_saude</th><th>cod_uf</th><th>uf</th><th>nome_uf</th><th>regiao</th><th>socioecon</th><th>latitude</th><th>longitude</th></tr>\n",
       "    <tr class='coltypes'><td class='row_index'></td><td class='int' title='int32'>&#x25AA;&#x25AA;&#x25AA;&#x25AA;</td><td class='str' title='str32'>&#x25AA;&#x25AA;&#x25AA;&#x25AA;</td><td class='bool' title='bool8'>&#x25AA;</td><td class='str' title='str32'>&#x25AA;&#x25AA;&#x25AA;&#x25AA;</td><td class='str' title='str32'>&#x25AA;&#x25AA;&#x25AA;&#x25AA;</td><td class='int' title='int32'>&#x25AA;&#x25AA;&#x25AA;&#x25AA;</td><td class='str' title='str32'>&#x25AA;&#x25AA;&#x25AA;&#x25AA;</td><td class='str' title='str32'>&#x25AA;&#x25AA;&#x25AA;&#x25AA;</td><td class='str' title='str32'>&#x25AA;&#x25AA;&#x25AA;&#x25AA;</td><td class='int' title='int32'>&#x25AA;&#x25AA;&#x25AA;&#x25AA;</td><td class='float' title='float64'>&#x25AA;&#x25AA;&#x25AA;&#x25AA;&#x25AA;&#x25AA;&#x25AA;&#x25AA;</td><td class='float' title='float64'>&#x25AA;&#x25AA;&#x25AA;&#x25AA;&#x25AA;&#x25AA;&#x25AA;&#x25AA;</td></tr>\n",
       "  </thead>\n",
       "  <tbody>\n",
       "    <tr><td class='row_index'>0</td><td>520005</td><td>Abadia de Goiás</td><td>0</td><td>52001</td><td>Central</td><td>52</td><td>GO</td><td>Goiás</td><td>Centro-Oeste</td><td>5</td><td>&minus;16.7573</td><td>&minus;49.4412</td></tr>\n",
       "    <tr><td class='row_index'>1</td><td>310010</td><td>Abadia dos Dourados</td><td>0</td><td>31052</td><td>Patrocínio Monte Carmelo</td><td>31</td><td>MG</td><td>Minas Gerais</td><td>Sudeste</td><td>2</td><td>&minus;18.4831</td><td>&minus;47.3916</td></tr>\n",
       "    <tr><td class='row_index'>2</td><td>520010</td><td>Abadiânia</td><td>0</td><td>52011</td><td>Pirineus</td><td>52</td><td>GO</td><td>Goiás</td><td>Centro-Oeste</td><td>3</td><td>&minus;16.197</td><td>&minus;48.7057</td></tr>\n",
       "    <tr><td class='row_index'>3</td><td>310020</td><td>Abaeté</td><td>0</td><td>31067</td><td>Sete Lagoas</td><td>31</td><td>MG</td><td>Minas Gerais</td><td>Sudeste</td><td>3</td><td>&minus;19.1551</td><td>&minus;45.4444</td></tr>\n",
       "    <tr><td class='row_index'>4</td><td>150010</td><td>Abaetetuba</td><td>0</td><td>15011</td><td>Tocantins</td><td>15</td><td>PA</td><td>Pará</td><td>Norte</td><td>1</td><td>&minus;1.72183</td><td>&minus;48.8788</td></tr>\n",
       "    <tr><td class='row_index'>5</td><td>230010</td><td>Abaiara</td><td>0</td><td>23019</td><td>19ª Região Brejo Santo</td><td>23</td><td>CE</td><td>Ceará</td><td>Nordeste</td><td>1</td><td>&minus;7.34588</td><td>&minus;39.0416</td></tr>\n",
       "    <tr><td class='row_index'>6</td><td>290010</td><td>Abaíra</td><td>0</td><td>29023</td><td>Seabra</td><td>29</td><td>BA</td><td>Bahia</td><td>Nordeste</td><td>1</td><td>&minus;13.2488</td><td>&minus;41.6619</td></tr>\n",
       "    <tr><td class='row_index'>7</td><td>290020</td><td>Abaré</td><td>0</td><td>29017</td><td>Paulo Afonso</td><td>29</td><td>BA</td><td>Bahia</td><td>Nordeste</td><td>1</td><td>&minus;8.72073</td><td>&minus;39.1162</td></tr>\n",
       "    <tr><td class='row_index'>8</td><td>410010</td><td>Abatiá</td><td>0</td><td>41018</td><td>18ª RS Cornélio Procópio</td><td>41</td><td>PR</td><td>Paraná</td><td>Sul</td><td>3</td><td>&minus;23.3049</td><td>&minus;50.3133</td></tr>\n",
       "    <tr><td class='row_index'>9</td><td>420005</td><td>Abdon Batista</td><td>0</td><td>42008</td><td>Meio Oeste</td><td>42</td><td>SC</td><td>Santa Catarina</td><td>Sul</td><td>3</td><td>&minus;27.6126</td><td>&minus;51.0233</td></tr>\n",
       "    <tr><td class='row_index'>10</td><td>150013</td><td>Abel Figueiredo</td><td>0</td><td>15003</td><td>Carajás</td><td>15</td><td>PA</td><td>Pará</td><td>Norte</td><td>2</td><td>&minus;4.95333</td><td>&minus;48.3933</td></tr>\n",
       "    <tr><td class='row_index'>11</td><td>420010</td><td>Abelardo Luz</td><td>0</td><td>42003</td><td>Xanxerê</td><td>42</td><td>SC</td><td>Santa Catarina</td><td>Sul</td><td>3</td><td>&minus;26.5716</td><td>&minus;52.3229</td></tr>\n",
       "    <tr><td class='row_index'>12</td><td>310030</td><td>Abre Campo</td><td>0</td><td>31041</td><td>Manhuaçu</td><td>31</td><td>MG</td><td>Minas Gerais</td><td>Sudeste</td><td>1</td><td>&minus;20.2996</td><td>&minus;42.4743</td></tr>\n",
       "    <tr><td class='row_index'>13</td><td>260005</td><td>Abreu e Lima</td><td>0</td><td>26010</td><td>Recife</td><td>26</td><td>PE</td><td>Pernambuco</td><td>Nordeste</td><td>5</td><td>&minus;7.90072</td><td>&minus;34.8984</td></tr>\n",
       "    <tr><td class='row_index'>14</td><td>170025</td><td>Abreulândia</td><td>0</td><td>17007</td><td>Cantão</td><td>17</td><td>TO</td><td>Tocantins</td><td>Norte</td><td>2</td><td>&minus;9.62101</td><td>&minus;49.1518</td></tr>\n",
       "    <tr><td class='row_index'>&#x22EE;</td><td class='hellipsis'>&#x22EE;</td><td class='hellipsis'>&#x22EE;</td><td class='hellipsis'>&#x22EE;</td><td class='hellipsis'>&#x22EE;</td><td class='hellipsis'>&#x22EE;</td><td class='hellipsis'>&#x22EE;</td><td class='hellipsis'>&#x22EE;</td><td class='hellipsis'>&#x22EE;</td><td class='hellipsis'>&#x22EE;</td><td class='hellipsis'>&#x22EE;</td><td class='hellipsis'>&#x22EE;</td><td class='hellipsis'>&#x22EE;</td></tr>\n",
       "    <tr><td class='row_index'>5565</td><td>293360</td><td>Xique-Xique</td><td>0</td><td>29010</td><td>Irecê</td><td>29</td><td>BA</td><td>Bahia</td><td>Nordeste</td><td>1</td><td>&minus;10.823</td><td>&minus;42.7245</td></tr>\n",
       "    <tr><td class='row_index'>5566</td><td>251740</td><td>Zabelê</td><td>0</td><td>25005</td><td>5ª Região</td><td>25</td><td>PB</td><td>Paraíba</td><td>Nordeste</td><td>1</td><td>&minus;8.07901</td><td>&minus;37.1057</td></tr>\n",
       "    <tr><td class='row_index'>5567</td><td>355715</td><td>Zacarias</td><td>0</td><td>35156</td><td>José Bonifácio</td><td>35</td><td>SP</td><td>São Paulo</td><td>Sudeste</td><td>3</td><td>&minus;21.0506</td><td>&minus;50.0552</td></tr>\n",
       "    <tr><td class='row_index'>5568</td><td>211400</td><td>Zé Doca</td><td>0</td><td>21019</td><td>Zé Doca</td><td>21</td><td>MA</td><td>Maranhão</td><td>Nordeste</td><td>1</td><td>&minus;3.27014</td><td>&minus;45.6553</td></tr>\n",
       "    <tr><td class='row_index'>5569</td><td>421985</td><td>Zortéa</td><td>0</td><td>42008</td><td>Meio Oeste</td><td>42</td><td>SC</td><td>Santa Catarina</td><td>Sul</td><td>3</td><td>&minus;27.4521</td><td>&minus;51.552</td></tr>\n",
       "  </tbody>\n",
       "  </table>\n",
       "  <div class='footer'>\n",
       "    <div class='frame_dimensions'>5570 rows &times; 12 columns</div>\n",
       "  </div>\n",
       "</div>\n"
      ],
      "text/plain": [
       "<Frame#7fb902852e70 5570x12>"
      ]
     },
     "execution_count": 10,
     "metadata": {},
     "output_type": "execute_result"
    }
   ],
   "source": [
    "df_muns = df_muns[:, cols_order]\n",
    "df_muns"
   ]
  },
  {
   "cell_type": "markdown",
   "metadata": {},
   "source": [
    "# Exportando tabela"
   ]
  },
  {
   "cell_type": "code",
   "execution_count": 11,
   "metadata": {},
   "outputs": [],
   "source": [
    "output_muns = get_path('GESTANTES', 'municipios.csv.gzip')\n",
    "df_muns.to_csv(output_muns)"
   ]
  },
  {
   "cell_type": "code",
   "execution_count": 12,
   "metadata": {},
   "outputs": [
    {
     "data": {
      "text/html": [
       "<div class='datatable'>\n",
       "  <table class='frame'>\n",
       "  <thead>\n",
       "    <tr class='colnames'><td class='row_index'></td><th>cod_municipio</th><th>nome_municipio</th><th>capital</th><th>cod_regiao_saude</th><th>nome_regiao_saude</th><th>cod_uf</th><th>uf</th><th>nome_uf</th><th>regiao</th><th>socioecon</th><th>latitude</th><th>longitude</th></tr>\n",
       "    <tr class='coltypes'><td class='row_index'></td><td class='int' title='int32'>&#x25AA;&#x25AA;&#x25AA;&#x25AA;</td><td class='str' title='str32'>&#x25AA;&#x25AA;&#x25AA;&#x25AA;</td><td class='bool' title='bool8'>&#x25AA;</td><td class='int' title='int32'>&#x25AA;&#x25AA;&#x25AA;&#x25AA;</td><td class='str' title='str32'>&#x25AA;&#x25AA;&#x25AA;&#x25AA;</td><td class='int' title='int32'>&#x25AA;&#x25AA;&#x25AA;&#x25AA;</td><td class='str' title='str32'>&#x25AA;&#x25AA;&#x25AA;&#x25AA;</td><td class='str' title='str32'>&#x25AA;&#x25AA;&#x25AA;&#x25AA;</td><td class='str' title='str32'>&#x25AA;&#x25AA;&#x25AA;&#x25AA;</td><td class='int' title='int32'>&#x25AA;&#x25AA;&#x25AA;&#x25AA;</td><td class='float' title='float64'>&#x25AA;&#x25AA;&#x25AA;&#x25AA;&#x25AA;&#x25AA;&#x25AA;&#x25AA;</td><td class='float' title='float64'>&#x25AA;&#x25AA;&#x25AA;&#x25AA;&#x25AA;&#x25AA;&#x25AA;&#x25AA;</td></tr>\n",
       "  </thead>\n",
       "  <tbody>\n",
       "    <tr><td class='row_index'>0</td><td>520005</td><td>Abadia de Goiás</td><td>0</td><td>52001</td><td>Central</td><td>52</td><td>GO</td><td>Goiás</td><td>Centro-Oeste</td><td>5</td><td>&minus;16.7573</td><td>&minus;49.4412</td></tr>\n",
       "    <tr><td class='row_index'>1</td><td>310010</td><td>Abadia dos Dourados</td><td>0</td><td>31052</td><td>Patrocínio Monte Carmelo</td><td>31</td><td>MG</td><td>Minas Gerais</td><td>Sudeste</td><td>2</td><td>&minus;18.4831</td><td>&minus;47.3916</td></tr>\n",
       "    <tr><td class='row_index'>2</td><td>520010</td><td>Abadiânia</td><td>0</td><td>52011</td><td>Pirineus</td><td>52</td><td>GO</td><td>Goiás</td><td>Centro-Oeste</td><td>3</td><td>&minus;16.197</td><td>&minus;48.7057</td></tr>\n",
       "    <tr><td class='row_index'>3</td><td>310020</td><td>Abaeté</td><td>0</td><td>31067</td><td>Sete Lagoas</td><td>31</td><td>MG</td><td>Minas Gerais</td><td>Sudeste</td><td>3</td><td>&minus;19.1551</td><td>&minus;45.4444</td></tr>\n",
       "    <tr><td class='row_index'>4</td><td>150010</td><td>Abaetetuba</td><td>0</td><td>15011</td><td>Tocantins</td><td>15</td><td>PA</td><td>Pará</td><td>Norte</td><td>1</td><td>&minus;1.72183</td><td>&minus;48.8788</td></tr>\n",
       "    <tr><td class='row_index'>5</td><td>230010</td><td>Abaiara</td><td>0</td><td>23019</td><td>19ª Região Brejo Santo</td><td>23</td><td>CE</td><td>Ceará</td><td>Nordeste</td><td>1</td><td>&minus;7.34588</td><td>&minus;39.0416</td></tr>\n",
       "    <tr><td class='row_index'>6</td><td>290010</td><td>Abaíra</td><td>0</td><td>29023</td><td>Seabra</td><td>29</td><td>BA</td><td>Bahia</td><td>Nordeste</td><td>1</td><td>&minus;13.2488</td><td>&minus;41.6619</td></tr>\n",
       "    <tr><td class='row_index'>7</td><td>290020</td><td>Abaré</td><td>0</td><td>29017</td><td>Paulo Afonso</td><td>29</td><td>BA</td><td>Bahia</td><td>Nordeste</td><td>1</td><td>&minus;8.72073</td><td>&minus;39.1162</td></tr>\n",
       "    <tr><td class='row_index'>8</td><td>410010</td><td>Abatiá</td><td>0</td><td>41018</td><td>18ª RS Cornélio Procópio</td><td>41</td><td>PR</td><td>Paraná</td><td>Sul</td><td>3</td><td>&minus;23.3049</td><td>&minus;50.3133</td></tr>\n",
       "    <tr><td class='row_index'>9</td><td>420005</td><td>Abdon Batista</td><td>0</td><td>42008</td><td>Meio Oeste</td><td>42</td><td>SC</td><td>Santa Catarina</td><td>Sul</td><td>3</td><td>&minus;27.6126</td><td>&minus;51.0233</td></tr>\n",
       "    <tr><td class='row_index'>10</td><td>150013</td><td>Abel Figueiredo</td><td>0</td><td>15003</td><td>Carajás</td><td>15</td><td>PA</td><td>Pará</td><td>Norte</td><td>2</td><td>&minus;4.95333</td><td>&minus;48.3933</td></tr>\n",
       "    <tr><td class='row_index'>11</td><td>420010</td><td>Abelardo Luz</td><td>0</td><td>42003</td><td>Xanxerê</td><td>42</td><td>SC</td><td>Santa Catarina</td><td>Sul</td><td>3</td><td>&minus;26.5716</td><td>&minus;52.3229</td></tr>\n",
       "    <tr><td class='row_index'>12</td><td>310030</td><td>Abre Campo</td><td>0</td><td>31041</td><td>Manhuaçu</td><td>31</td><td>MG</td><td>Minas Gerais</td><td>Sudeste</td><td>1</td><td>&minus;20.2996</td><td>&minus;42.4743</td></tr>\n",
       "    <tr><td class='row_index'>13</td><td>260005</td><td>Abreu e Lima</td><td>0</td><td>26010</td><td>Recife</td><td>26</td><td>PE</td><td>Pernambuco</td><td>Nordeste</td><td>5</td><td>&minus;7.90072</td><td>&minus;34.8984</td></tr>\n",
       "    <tr><td class='row_index'>14</td><td>170025</td><td>Abreulândia</td><td>0</td><td>17007</td><td>Cantão</td><td>17</td><td>TO</td><td>Tocantins</td><td>Norte</td><td>2</td><td>&minus;9.62101</td><td>&minus;49.1518</td></tr>\n",
       "    <tr><td class='row_index'>&#x22EE;</td><td class='hellipsis'>&#x22EE;</td><td class='hellipsis'>&#x22EE;</td><td class='hellipsis'>&#x22EE;</td><td class='hellipsis'>&#x22EE;</td><td class='hellipsis'>&#x22EE;</td><td class='hellipsis'>&#x22EE;</td><td class='hellipsis'>&#x22EE;</td><td class='hellipsis'>&#x22EE;</td><td class='hellipsis'>&#x22EE;</td><td class='hellipsis'>&#x22EE;</td><td class='hellipsis'>&#x22EE;</td><td class='hellipsis'>&#x22EE;</td></tr>\n",
       "    <tr><td class='row_index'>5565</td><td>293360</td><td>Xique-Xique</td><td>0</td><td>29010</td><td>Irecê</td><td>29</td><td>BA</td><td>Bahia</td><td>Nordeste</td><td>1</td><td>&minus;10.823</td><td>&minus;42.7245</td></tr>\n",
       "    <tr><td class='row_index'>5566</td><td>251740</td><td>Zabelê</td><td>0</td><td>25005</td><td>5ª Região</td><td>25</td><td>PB</td><td>Paraíba</td><td>Nordeste</td><td>1</td><td>&minus;8.07901</td><td>&minus;37.1057</td></tr>\n",
       "    <tr><td class='row_index'>5567</td><td>355715</td><td>Zacarias</td><td>0</td><td>35156</td><td>José Bonifácio</td><td>35</td><td>SP</td><td>São Paulo</td><td>Sudeste</td><td>3</td><td>&minus;21.0506</td><td>&minus;50.0552</td></tr>\n",
       "    <tr><td class='row_index'>5568</td><td>211400</td><td>Zé Doca</td><td>0</td><td>21019</td><td>Zé Doca</td><td>21</td><td>MA</td><td>Maranhão</td><td>Nordeste</td><td>1</td><td>&minus;3.27014</td><td>&minus;45.6553</td></tr>\n",
       "    <tr><td class='row_index'>5569</td><td>421985</td><td>Zortéa</td><td>0</td><td>42008</td><td>Meio Oeste</td><td>42</td><td>SC</td><td>Santa Catarina</td><td>Sul</td><td>3</td><td>&minus;27.4521</td><td>&minus;51.552</td></tr>\n",
       "  </tbody>\n",
       "  </table>\n",
       "  <div class='footer'>\n",
       "    <div class='frame_dimensions'>5570 rows &times; 12 columns</div>\n",
       "  </div>\n",
       "</div>\n"
      ],
      "text/plain": [
       "<Frame#7fb9029e60c0 5570x12>"
      ]
     },
     "execution_count": 12,
     "metadata": {},
     "output_type": "execute_result"
    }
   ],
   "source": [
    "dt.fread(output_muns)"
   ]
  },
  {
   "cell_type": "code",
   "execution_count": 13,
   "metadata": {},
   "outputs": [
    {
     "data": {
      "text/plain": [
       "('cod_municipio',\n",
       " 'nome_municipio',\n",
       " 'capital',\n",
       " 'cod_regiao_saude',\n",
       " 'nome_regiao_saude',\n",
       " 'cod_uf',\n",
       " 'uf',\n",
       " 'nome_uf',\n",
       " 'regiao',\n",
       " 'socioecon',\n",
       " 'latitude',\n",
       " 'longitude')"
      ]
     },
     "execution_count": 13,
     "metadata": {},
     "output_type": "execute_result"
    }
   ],
   "source": [
    "df_muns.names"
   ]
  },
  {
   "cell_type": "markdown",
   "metadata": {},
   "source": [
    "http://cnes.datasus.gov.br/pages/estabelecimentos/consulta.jsp?search=2006405"
   ]
  },
  {
   "cell_type": "code",
   "execution_count": 14,
   "metadata": {},
   "outputs": [],
   "source": [
    "scales = ['Região', 'UF', 'Regional Saúde', 'Município', 'Hospital']"
   ]
  }
 ],
 "metadata": {
  "kernelspec": {
   "display_name": "Python 3.9.13 ('ds')",
   "language": "python",
   "name": "python3"
  },
  "language_info": {
   "codemirror_mode": {
    "name": "ipython",
    "version": 3
   },
   "file_extension": ".py",
   "mimetype": "text/x-python",
   "name": "python",
   "nbconvert_exporter": "python",
   "pygments_lexer": "ipython3",
   "version": "3.9.13"
  },
  "orig_nbformat": 4,
  "vscode": {
   "interpreter": {
    "hash": "7b36953cec1b75a8b331280ff7f7e2e00c70540f1d612023ca05354bbeabec70"
   }
  }
 },
 "nbformat": 4,
 "nbformat_minor": 2
}
