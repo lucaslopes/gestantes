{
 "cells": [
  {
   "cell_type": "code",
   "execution_count": 5,
   "metadata": {},
   "outputs": [],
   "source": [
    "import os\n",
    "import sqlite3\n",
    "import pandas as pd\n",
    "from tqdm import tqdm\n",
    "from pathlib import Path\n",
    "from zipfile import ZipFile\n",
    "from datatable import dt, f, by"
   ]
  },
  {
   "cell_type": "code",
   "execution_count": 2,
   "metadata": {},
   "outputs": [],
   "source": [
    "PATH_DBS = os.path.join(*[str(Path.home()), 'Databases',])\n",
    "file_cnes = os.path.join(*[PATH_DBS, 'CNES', 'CNES.csv.gzip'])"
   ]
  },
  {
   "cell_type": "code",
   "execution_count": 3,
   "metadata": {},
   "outputs": [
    {
     "data": {
      "text/html": [
       "<div class='datatable'>\n",
       "  <table class='frame'>\n",
       "  <thead>\n",
       "    <tr class='colnames'><td class='row_index'></td><th>cod_ufmun</th><th>def_natureza</th><th>cod_esfera_adm</th><th>def_retencao</th><th>def_tributos</th><th>def_esfera_adm</th><th>cod_retencao</th><th>cnes</th><th>cod_natureza</th></tr>\n",
       "    <tr class='coltypes'><td class='row_index'></td><td class='int' title='int32'>&#x25AA;&#x25AA;&#x25AA;&#x25AA;</td><td class='str' title='str32'>&#x25AA;&#x25AA;&#x25AA;&#x25AA;</td><td class='int' title='int32'>&#x25AA;&#x25AA;&#x25AA;&#x25AA;</td><td class='str' title='str32'>&#x25AA;&#x25AA;&#x25AA;&#x25AA;</td><td class='str' title='str32'>&#x25AA;&#x25AA;&#x25AA;&#x25AA;</td><td class='str' title='str32'>&#x25AA;&#x25AA;&#x25AA;&#x25AA;</td><td class='int' title='int32'>&#x25AA;&#x25AA;&#x25AA;&#x25AA;</td><td class='int' title='int32'>&#x25AA;&#x25AA;&#x25AA;&#x25AA;</td><td class='int' title='int32'>&#x25AA;&#x25AA;&#x25AA;&#x25AA;</td></tr>\n",
       "  </thead>\n",
       "  <tbody>\n",
       "    <tr><td class='row_index'>0</td><td>350410</td><td>Administração Direta da Saúde (MS, SES, e SMS)</td><td>3</td><td>Estabelecimento PUBLICO</td><td>Estabelecimento PUBLICO</td><td>MUNICIPAL</td><td>10</td><td>2786052</td><td>1</td></tr>\n",
       "    <tr><td class='row_index'>1</td><td>355030</td><td>Empresa Privada</td><td>4</td><td>Estabelecimento PRIVADO LUCRATIVA</td><td></td><td>PRIVADA</td><td>14</td><td>2814714</td><td>7</td></tr>\n",
       "    <tr><td class='row_index'>2</td><td>351880</td><td>Administração Direta da Saúde (MS, SES, e SMS)</td><td>2</td><td>Estabelecimento PUBLICO</td><td>Estabelecimento PUBLICO</td><td>ESTADUAL</td><td>10</td><td>2784769</td><td>1</td></tr>\n",
       "    <tr><td class='row_index'>3</td><td>350440</td><td>Administração Direta da Saúde (MS, SES, e SMS)</td><td>3</td><td>Estabelecimento PUBLICO</td><td>Estabelecimento PUBLICO</td><td>MUNICIPAL</td><td>10</td><td>2051001</td><td>1</td></tr>\n",
       "    <tr><td class='row_index'>4</td><td>352390</td><td>Administração Direta da Saúde (MS, SES, e SMS)</td><td>3</td><td>Estabelecimento PUBLICO</td><td>Estabelecimento PUBLICO</td><td>MUNICIPAL</td><td>10</td><td>8012806</td><td>1</td></tr>\n",
       "    <tr><td class='row_index'>5</td><td>355030</td><td>Administração Direta da Saúde (MS, SES, e SMS)</td><td>2</td><td>Estabelecimento PUBLICO</td><td>Estabelecimento PUBLICO</td><td>ESTADUAL</td><td>10</td><td>2028476</td><td>1</td></tr>\n",
       "    <tr><td class='row_index'>6</td><td>355030</td><td>Administração Direta da Saúde (MS, SES, e SMS)</td><td>3</td><td>Estabelecimento PUBLICO</td><td></td><td>MUNICIPAL</td><td>10</td><td>2093731</td><td>1</td></tr>\n",
       "    <tr><td class='row_index'>7</td><td>354090</td><td>Administração Direta da Saúde (MS, SES, e SMS)</td><td>3</td><td>Estabelecimento PUBLICO</td><td>Estabelecimento PUBLICO</td><td>MUNICIPAL</td><td>10</td><td>2093766</td><td>1</td></tr>\n",
       "    <tr><td class='row_index'>8</td><td>354090</td><td>Administração Direta da Saúde (MS, SES, e SMS)</td><td>3</td><td>Estabelecimento PUBLICO</td><td>Estabelecimento PUBLICO</td><td>MUNICIPAL</td><td>10</td><td>2093871</td><td>1</td></tr>\n",
       "    <tr><td class='row_index'>9</td><td>351340</td><td>Administração Direta da Saúde (MS, SES, e SMS)</td><td>3</td><td>Estabelecimento PUBLICO</td><td>Estabelecimento PUBLICO</td><td>MUNICIPAL</td><td>10</td><td>2088894</td><td>1</td></tr>\n",
       "    <tr><td class='row_index'>10</td><td>350860</td><td>Administração Direta da Saúde (MS, SES, e SMS)</td><td>3</td><td>Estabelecimento PUBLICO</td><td>Estabelecimento PUBLICO</td><td>MUNICIPAL</td><td>10</td><td>2088908</td><td>1</td></tr>\n",
       "    <tr><td class='row_index'>11</td><td>351620</td><td>Adm Indireta - Organização Social Pública</td><td>2</td><td>Estabelecimento PUBLICO</td><td>Estabelecimento PUBLICO</td><td>ESTADUAL</td><td>10</td><td>2060701</td><td>6</td></tr>\n",
       "    <tr><td class='row_index'>12</td><td>350450</td><td>Administração Direta da Saúde (MS, SES, e SMS)</td><td>2</td><td>Estabelecimento PUBLICO</td><td>Estabelecimento PUBLICO</td><td>ESTADUAL</td><td>10</td><td>2050455</td><td>1</td></tr>\n",
       "    <tr><td class='row_index'>13</td><td>353530</td><td>Administração Direta da Saúde (MS, SES, e SMS)</td><td>3</td><td>Estabelecimento PUBLICO</td><td>Estabelecimento PUBLICO</td><td>MUNICIPAL</td><td>10</td><td>2094010</td><td>1</td></tr>\n",
       "    <tr><td class='row_index'>14</td><td>354980</td><td>Empresa Privada</td><td>4</td><td>Estabelecimento PRIVADO LUCRATIVA</td><td>Estabelecimento PRIVADO LUCRATIVA</td><td>PRIVADA</td><td>14</td><td>2804794</td><td>7</td></tr>\n",
       "    <tr><td class='row_index'>&#x22EE;</td><td class='hellipsis'>&#x22EE;</td><td class='hellipsis'>&#x22EE;</td><td class='hellipsis'>&#x22EE;</td><td class='hellipsis'>&#x22EE;</td><td class='hellipsis'>&#x22EE;</td><td class='hellipsis'>&#x22EE;</td><td class='hellipsis'>&#x22EE;</td><td class='hellipsis'>&#x22EE;</td><td class='hellipsis'>&#x22EE;</td></tr>\n",
       "    <tr><td class='row_index'>13,327,506</td><td>530180</td><td>Administração Direta da Saúde (MS, SES, e SMS)</td><td>2</td><td>Estabelecimento PUBLICO</td><td>Estabelecimento PUBLICO</td><td>ESTADUAL</td><td>10</td><td>3742822</td><td>1</td></tr>\n",
       "    <tr><td class='row_index'>13,327,507</td><td>530180</td><td>Administração Direta da Saúde (MS, SES, e SMS)</td><td>2</td><td>Estabelecimento PUBLICO</td><td>Estabelecimento PUBLICO</td><td>ESTADUAL</td><td>10</td><td>5447410</td><td>1</td></tr>\n",
       "    <tr><td class='row_index'>13,327,508</td><td>530180</td><td>Empresa Privada</td><td>4</td><td>Estabelecimento PRIVADO LUCRATIVA</td><td></td><td>PRIVADA</td><td>14</td><td>7022204</td><td>7</td></tr>\n",
       "    <tr><td class='row_index'>13,327,509</td><td>530180</td><td>Administração Direta da Saúde (MS, SES, e SMS)</td><td>2</td><td>Estabelecimento PUBLICO</td><td>Estabelecimento PUBLICO</td><td>ESTADUAL</td><td>10</td><td>7108923</td><td>1</td></tr>\n",
       "    <tr><td class='row_index'>13,327,510</td><td>530180</td><td>Administração Direta da Saúde (MS, SES, e SMS)</td><td>2</td><td>Estabelecimento PUBLICO</td><td>Estabelecimento PUBLICO</td><td>ESTADUAL</td><td>10</td><td>7238703</td><td>1</td></tr>\n",
       "  </tbody>\n",
       "  </table>\n",
       "  <div class='footer'>\n",
       "    <div class='frame_dimensions'>13,327,511 rows &times; 9 columns</div>\n",
       "  </div>\n",
       "</div>\n"
      ],
      "text/plain": [
       "<Frame#7f8600841a80 13327511x9>"
      ]
     },
     "execution_count": 3,
     "metadata": {},
     "output_type": "execute_result"
    }
   ],
   "source": [
    "df_cnes = dt.fread(file_cnes)\n",
    "df_cnes"
   ]
  },
  {
   "cell_type": "code",
   "execution_count": 10,
   "metadata": {},
   "outputs": [
    {
     "data": {
      "text/html": [
       "<div class='datatable'>\n",
       "  <table class='frame'>\n",
       "  <thead>\n",
       "    <tr class='colnames'><td class='row_index'></td><th>def_natureza</th><th>count</th></tr>\n",
       "    <tr class='coltypes'><td class='row_index'></td><td class='str' title='str32'>&#x25AA;&#x25AA;&#x25AA;&#x25AA;</td><td class='int' title='int64'>&#x25AA;&#x25AA;&#x25AA;&#x25AA;&#x25AA;&#x25AA;&#x25AA;&#x25AA;</td></tr>\n",
       "  </thead>\n",
       "  <tbody>\n",
       "    <tr><td class='row_index'>0</td><td>Administração Direta da Saúde (MS, SES, e SMS)</td><td>7553512</td></tr>\n",
       "    <tr><td class='row_index'>1</td><td></td><td>3790145</td></tr>\n",
       "    <tr><td class='row_index'>2</td><td>Empresa Privada</td><td>1368136</td></tr>\n",
       "    <tr><td class='row_index'>3</td><td>Entidade Beneficente SEM fins lucrativos</td><td>359050</td></tr>\n",
       "    <tr><td class='row_index'>4</td><td>Adm Indireta - Fundação Pública</td><td>49923</td></tr>\n",
       "    <tr><td class='row_index'>5</td><td>Adm Direta outros orgãos (MEX, MEx, Marinha,...)</td><td>45370</td></tr>\n",
       "    <tr><td class='row_index'>6</td><td>Sindicato</td><td>36903</td></tr>\n",
       "    <tr><td class='row_index'>7</td><td>Adm Indireta - Empresa Pública</td><td>32877</td></tr>\n",
       "    <tr><td class='row_index'>8</td><td>Adm Indireta - Autarquias</td><td>31627</td></tr>\n",
       "    <tr><td class='row_index'>9</td><td>Fundação Privada</td><td>28009</td></tr>\n",
       "    <tr><td class='row_index'>10</td><td>Adm Indireta - Organização Social Pública</td><td>16094</td></tr>\n",
       "    <tr><td class='row_index'>11</td><td>Cooperativa</td><td>10374</td></tr>\n",
       "    <tr><td class='row_index'>12</td><td>Serviço Social Autônomo</td><td>4722</td></tr>\n",
       "    <tr><td class='row_index'>13</td><td>Economia MIsta</td><td>769</td></tr>\n",
       "  </tbody>\n",
       "  </table>\n",
       "  <div class='footer'>\n",
       "    <div class='frame_dimensions'>14 rows &times; 2 columns</div>\n",
       "  </div>\n",
       "</div>\n"
      ],
      "text/plain": [
       "<Frame#7f85e0ef1a20 14x2>"
      ]
     },
     "execution_count": 10,
     "metadata": {},
     "output_type": "execute_result"
    }
   ],
   "source": [
    "df_cnes[:, dt.count(), by(\"def_natureza\")].sort(-f.count)"
   ]
  },
  {
   "cell_type": "code",
   "execution_count": 11,
   "metadata": {},
   "outputs": [
    {
     "data": {
      "text/html": [
       "<div class='datatable'>\n",
       "  <table class='frame'>\n",
       "  <thead>\n",
       "    <tr class='colnames'><td class='row_index'></td><th>def_retencao</th><th>count</th></tr>\n",
       "    <tr class='coltypes'><td class='row_index'></td><td class='str' title='str32'>&#x25AA;&#x25AA;&#x25AA;&#x25AA;</td><td class='int' title='int64'>&#x25AA;&#x25AA;&#x25AA;&#x25AA;&#x25AA;&#x25AA;&#x25AA;&#x25AA;</td></tr>\n",
       "  </thead>\n",
       "  <tbody>\n",
       "    <tr><td class='row_index'>0</td><td>Estabelecimento PUBLICO</td><td>7728280</td></tr>\n",
       "    <tr><td class='row_index'>1</td><td></td><td>3790145</td></tr>\n",
       "    <tr><td class='row_index'>2</td><td>Estabelecimento PRIVADO LUCRATIVA</td><td>1064926</td></tr>\n",
       "    <tr><td class='row_index'>3</td><td>Estabelecimento FILANTROPICO</td><td>283680</td></tr>\n",
       "    <tr><td class='row_index'>4</td><td>Estabelecimento PRIVADO LUCRATIVA SIMPLES</td><td>187560</td></tr>\n",
       "    <tr><td class='row_index'>5</td><td>Estabelecimento SEM FINS LUCRATIVOS</td><td>126286</td></tr>\n",
       "    <tr><td class='row_index'>6</td><td>Estabelecimento PESSOA FISICA</td><td>109798</td></tr>\n",
       "    <tr><td class='row_index'>7</td><td>Estabelecimento SINDICAL</td><td>36836</td></tr>\n",
       "  </tbody>\n",
       "  </table>\n",
       "  <div class='footer'>\n",
       "    <div class='frame_dimensions'>8 rows &times; 2 columns</div>\n",
       "  </div>\n",
       "</div>\n"
      ],
      "text/plain": [
       "<Frame#7f8600841a20 8x2>"
      ]
     },
     "execution_count": 11,
     "metadata": {},
     "output_type": "execute_result"
    }
   ],
   "source": [
    "df_cnes[:, dt.count(), by(\"def_retencao\")].sort(-f.count)"
   ]
  },
  {
   "cell_type": "code",
   "execution_count": 13,
   "metadata": {},
   "outputs": [
    {
     "data": {
      "text/html": [
       "<div class='datatable'>\n",
       "  <table class='frame'>\n",
       "  <thead>\n",
       "    <tr class='colnames'><td class='row_index'></td><th>def_tributos</th><th>count</th></tr>\n",
       "    <tr class='coltypes'><td class='row_index'></td><td class='str' title='str32'>&#x25AA;&#x25AA;&#x25AA;&#x25AA;</td><td class='int' title='int64'>&#x25AA;&#x25AA;&#x25AA;&#x25AA;&#x25AA;&#x25AA;&#x25AA;&#x25AA;</td></tr>\n",
       "  </thead>\n",
       "  <tbody>\n",
       "    <tr><td class='row_index'>0</td><td>Estabelecimento PUBLICO</td><td>7635735</td></tr>\n",
       "    <tr><td class='row_index'>1</td><td></td><td>5511251</td></tr>\n",
       "    <tr><td class='row_index'>2</td><td>Estabelecimento FILANTROPICO</td><td>64401</td></tr>\n",
       "    <tr><td class='row_index'>3</td><td>Estabelecimento SEM FINS LUCRATIVOS</td><td>46389</td></tr>\n",
       "    <tr><td class='row_index'>4</td><td>Estabelecimento PRIVADO LUCRATIVA</td><td>43646</td></tr>\n",
       "    <tr><td class='row_index'>5</td><td>Estabelecimento PRIVADO LUCRATIVA SIMPLES</td><td>20068</td></tr>\n",
       "    <tr><td class='row_index'>6</td><td>Estabelecimento SINDICAL</td><td>3125</td></tr>\n",
       "    <tr><td class='row_index'>7</td><td>Estabelecimento Ret.Manten.código IR</td><td>2083</td></tr>\n",
       "    <tr><td class='row_index'>8</td><td>Estabelecimento Ret.Manten.código 19</td><td>372</td></tr>\n",
       "    <tr><td class='row_index'>9</td><td>Estabelecimento PESSOA FISICA</td><td>281</td></tr>\n",
       "    <tr><td class='row_index'>10</td><td>Retenção de tributos da mantenedora não informada</td><td>160</td></tr>\n",
       "  </tbody>\n",
       "  </table>\n",
       "  <div class='footer'>\n",
       "    <div class='frame_dimensions'>11 rows &times; 2 columns</div>\n",
       "  </div>\n",
       "</div>\n"
      ],
      "text/plain": [
       "<Frame#7f85e0ef1f60 11x2>"
      ]
     },
     "execution_count": 13,
     "metadata": {},
     "output_type": "execute_result"
    }
   ],
   "source": [
    "df_cnes[:, dt.count(), by(\"def_tributos\")].sort(-f.count)"
   ]
  },
  {
   "cell_type": "code",
   "execution_count": 14,
   "metadata": {},
   "outputs": [
    {
     "data": {
      "text/html": [
       "<div class='datatable'>\n",
       "  <table class='frame'>\n",
       "  <thead>\n",
       "    <tr class='colnames'><td class='row_index'></td><th>def_esfera_adm</th><th>count</th></tr>\n",
       "    <tr class='coltypes'><td class='row_index'></td><td class='str' title='str32'>&#x25AA;&#x25AA;&#x25AA;&#x25AA;</td><td class='int' title='int64'>&#x25AA;&#x25AA;&#x25AA;&#x25AA;&#x25AA;&#x25AA;&#x25AA;&#x25AA;</td></tr>\n",
       "  </thead>\n",
       "  <tbody>\n",
       "    <tr><td class='row_index'>0</td><td>MUNICIPAL</td><td>7378258</td></tr>\n",
       "    <tr><td class='row_index'>1</td><td></td><td>3790145</td></tr>\n",
       "    <tr><td class='row_index'>2</td><td>PRIVADA</td><td>1807963</td></tr>\n",
       "    <tr><td class='row_index'>3</td><td>ESTADUAL</td><td>313975</td></tr>\n",
       "    <tr><td class='row_index'>4</td><td>FEDERAL</td><td>37170</td></tr>\n",
       "  </tbody>\n",
       "  </table>\n",
       "  <div class='footer'>\n",
       "    <div class='frame_dimensions'>5 rows &times; 2 columns</div>\n",
       "  </div>\n",
       "</div>\n"
      ],
      "text/plain": [
       "<Frame#7f85e11b9630 5x2>"
      ]
     },
     "execution_count": 14,
     "metadata": {},
     "output_type": "execute_result"
    }
   ],
   "source": [
    "df_cnes[:, dt.count(), by(\"def_esfera_adm\")].sort(-f.count)"
   ]
  },
  {
   "cell_type": "code",
   "execution_count": null,
   "metadata": {},
   "outputs": [],
   "source": []
  }
 ],
 "metadata": {
  "kernelspec": {
   "display_name": "Python 3.9.13 ('base')",
   "language": "python",
   "name": "python3"
  },
  "language_info": {
   "codemirror_mode": {
    "name": "ipython",
    "version": 3
   },
   "file_extension": ".py",
   "mimetype": "text/x-python",
   "name": "python",
   "nbconvert_exporter": "python",
   "pygments_lexer": "ipython3",
   "version": "3.9.13"
  },
  "orig_nbformat": 4,
  "vscode": {
   "interpreter": {
    "hash": "6c01efea219ea0303b6e6cd1897665114cc62146ed112ea21ec489238fdae255"
   }
  }
 },
 "nbformat": 4,
 "nbformat_minor": 2
}
